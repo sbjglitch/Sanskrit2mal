{
 "cells": [
  {
   "cell_type": "markdown",
   "metadata": {
    "colab_type": "text",
    "id": "view-in-github"
   },
   "source": [
    "<a href=\"https://colab.research.google.com/github/priyanshu2103/Sanskrit-Hindi-Machine-Translation/blob/main/Supervised_Neural_MT.ipynb\" target=\"_parent\"><img src=\"https://colab.research.google.com/assets/colab-badge.svg\" alt=\"Open In Colab\"/></a>"
   ]
  },
  {
   "cell_type": "markdown",
   "metadata": {
    "id": "0YfygAd-qX64"
   },
   "source": [
    "# **```Supervised Neural Machine Translation```**"
   ]
  },
  {
   "cell_type": "markdown",
   "metadata": {
    "id": "gXhYYN7TqfbU"
   },
   "source": [
    "This notebook runs Seq2Seq model to translate Sanskrit to English, which we translate to Hindi using Google Translate.  "
   ]
  },
  {
   "cell_type": "markdown",
   "metadata": {
    "id": "dIIju_SqrBux"
   },
   "source": [
    "NOTE: This requires GPU to run. With only CPU, processing can be painfully slow, with GPU also, training takes around 1.5 hrs"
   ]
  },
  {
   "cell_type": "code",
   "execution_count": null,
   "metadata": {
    "id": "V3693j4NdQlb"
   },
   "outputs": [],
   "source": [
    "!rm -rf sample_data\n",
    "from __future__ import unicode_literals, print_function, division\n",
    "from io import open\n",
    "import unicodedata\n",
    "import string\n",
    "import re\n",
    "import random\n",
    "\n",
    "import torch\n",
    "import torch.nn as nn\n",
    "from torch import optim\n",
    "import torch.nn.functional as F\n",
    "\n",
    "device = torch.device(\"cuda\" if torch.cuda.is_available() else \"cpu\")"
   ]
  },
  {
   "cell_type": "markdown",
   "metadata": {
    "id": "Ow3wMtdWrU_7"
   },
   "source": [
    "This is the repo which contains the parallel data we are going to use."
   ]
  },
  {
   "cell_type": "code",
   "execution_count": null,
   "metadata": {
    "colab": {
     "base_uri": "https://localhost:8080/"
    },
    "id": "cZzPLk4kg9Mr",
    "outputId": "5bd0b006-24f7-4c31-d803-388f3ab09eeb"
   },
   "outputs": [
    {
     "name": "stdout",
     "output_type": "stream",
     "text": [
      "/content\n",
      "Cloning into 'Sanskrit-Hindi-Machine-Translation'...\n",
      "remote: Enumerating objects: 67, done.\u001b[K\n",
      "remote: Counting objects: 100% (67/67), done.\u001b[K\n",
      "remote: Compressing objects: 100% (51/51), done.\u001b[K\n",
      "remote: Total 67 (delta 17), reused 60 (delta 13), pack-reused 0\u001b[K\n",
      "Unpacking objects: 100% (67/67), done.\n"
     ]
    }
   ],
   "source": [
    "%cd /content\n",
    "!git clone https://github.com/priyanshu2103/Sanskrit-Hindi-Machine-Translation.git"
   ]
  },
  {
   "cell_type": "code",
   "execution_count": null,
   "metadata": {
    "colab": {
     "base_uri": "https://localhost:8080/"
    },
    "id": "zBqncwKISIpH",
    "outputId": "3a927cd8-9afc-4940-a639-0b831d2a966a"
   },
   "outputs": [
    {
     "name": "stdout",
     "output_type": "stream",
     "text": [
      "/content/Sanskrit-Hindi-Machine-Translation/parallel-corpus/sanskrit-english\n",
      "[' Dhrtarastra said O Sanjaya ! What did my men and the sons of Pandu do in the Kuruksetra, the field of righteousness, where the entire warring class has assembled ?orO Sanjaya ! What did the selfish intentions and the intentions born of wisdom do in the human body which is the field-of-duties, the repository of the senseorgans and in which all the murderous ones (passions and asceticism etc.) are confronting [each other].', ' Sanjaya said Seeing the army of the sons of Pandu, marshalled in the military array, the prince Duryodhana approached the teacher (Drona) and spoke at that time, these words:', \" O teacher ! Behold this mighty army of the sons of Pandu, marshalled in a military array by Drupada's son, your intelligent pupil.\", ' The heroes and mighty archers, comparable in war to Bhima and Arjuna, here are: Yuyudhana, the king of the Virata country, and Drupada, the mighty warrior;', ' Dhrstaketu, Cekitana and the valourous king of Kasi, and Kuntibhoja, the coneror of many,  and the Sibi king,  the best among men;', ' And Yudhamanyu, the heroic, and Uttamaujas, the valourous, the son of Subhadra and the sons of Draupadiall are indeed mighty warriors.', ' O best among the twice-born ! However, please also take note of the most distinguished amongst us, who are the generals of my army and who are accepted as leaders by the heroes in the mighty army [of mine];  I shall name them to you.', \" Your goodself, and Bhisma, and Karna, krpa, Salya, Jayadratha, Asvatthaman, and Vikarna, and Somadatta's son, the valourous;\", ' And many other heroes, giving up their lives for my sake; fighting with various weapons, all very much skilled in different warfares.', ' Thus the army guarded by Bhima is unlimited (or insufficient) for us; on the other hand, the army guarded by Bhisma is limited (or sufficient) for them (the Pandavas).', ' Stationed firmly in all [your] respective paths, every one of you without exception should guard Bhisma, above all.', ' Generating joy in him, the powerful paternal grandfather (Bhisma), the seniormost among the Kurus, roared highly a lion-roar and blew his conchshell.', ' Then all on a sudden, the conch-shells, drums, tabors, trumpets, and cow-horns were sounded; that sound was tumultuous.', ' Then, mounted on mighty chariot, yoked with white horses, Madhava (Krsna) and the son of Pandu (Arjuna) blew their heavenly conch-shells;', ' Hrsikesa (Krsna) blew the Pancajanya; Dhananjaya (Arjuna) blew the Devadatta; and the Wolf-bellied (Bhimi), of the terrible deeds, blew the mighty conchshell,  Paundra;', \" Kunti's son, the king Yudhisthira blew the Anantavijaya; Nakula and Sahadeva blew [respectively] the Sughosa and the Manipuspaka.\", ' And the king of Kasi, a great archer, and Sikhandin, a mighty warrior; Dhrstadyumna and the king of Virata, and the unconered Satyaki;', \" The Pancala king, a mighty archer; and Draupad's sons, who are five in number; and the mighty-armed son of Subhadra blew their own conch-shells individually.\", \" Revibrating in both the sky and the earth, the tumultuous sound shattered the hearts of Dhrtarastra's men.\", \" O king! Then observing Dhrtarastra's men, arrayed when the armed clash had [virtually] begun, at that time, Pandu's son, the monkey-bannered one (Arjuna) raising his bow spoke these sentences.\", ' Arjuna said O Acyuta! Please halt my chariot at a centre place between the two armies, so that I may scrutinize these men who are standing with desire to fight and with whom I have to fight in this great war-effort.', ' I may scrutinize those who are ready to fight, who have assled here and are eager to achieve in the battle, what is dear to the evil-minded son of Dhrtarastra.', ' - 1.24. Sanjaya said O descendant of Bharata (Dhrtarastra) ! Thus instructed by Gudakesa (Arjuna), Hrsikesa halted the best chariot at a place in between the two armies, in front of Bhisma and Drona and of all the rulers of the earth; and the said: O son of Prtha! Behold these Kurus, assembled.', '1.23. -  Sanjaya said O descendant of Bharata (Dhrtarastra) ! Thus instructed by Gudakesa (Arjuna), Hrsikesa halted the best chariot at a place in between the two armies, in front of Bhisma and Drona and of all the rulers of the earth; and the said: O son of Prtha! Behold these Kurus, assembled.', \" There in both the armies, the son of Prtha observed his fathers, and paternal grandfathers, teachers, maternal uncles, brothers, sons, sons' sons and comrades, fathers-in-law, and also friends.\", ' Noticing all those kinsmen arrayed [in the army], the son of Kunti was overpowered by unmost compassion; and being despondent, he uttered this:', ' Arjuna Said O krsna! On seeing these war-mongering kinsfolks of my own, arrayed [in the armies], my limbs fail and my mouth goes dry;', ' Shivering and horripilation arise in my body; the Gandiva (the bow) slips from my hand and my skin also burns all over.', ' I am unable even to stand steady; and my mind seems to be confused; and I see adverse omens, O Kesava!', ' I also do not foresee any good by killing my own kinsmen in the battle. O Krsna! I wish niether victory, nor kingdom, nor the pleasures [thereof].', ' O Govinda! Of what use in the kingdom to us? Of what use are the pleasures [thereof] and the life even?', ' For whose sake we seek kingdom, [its] pleasures and happiness, the very same persons stand arrayed to fight, giving up their life and wealth.', \" [These are our] teachers, fathers, sons and also paternal grandfathers, maternal uncles, fathers-in-law, son's sons, wives' brothers, and (other) relatives.\", ' O slayer-of-Mandhu (Krsna)!  I do not desire to slay these men-even though they slay me-even for the sake of the kingdom of the three worlds-what to speak for the sake of the [mere] earth.', \" By slaying Dhrtarastra's sons what joy would be to go us, O Janardana?\", \" Nothing but sin would slay these desperadoes and take hold of us. Therefore we should not slay Dhrtarastra's sons, our own relatives.\", ' How could we be happy indeed, O Madhava, after slaying our own kinsmen ?', \" Of course, these (Dhrtarastra's sons), with their intellect overpowered by greed, do not see the evil conseences ensuing from the ruin of the family and the sin in cheating friends.\", ' But, perceiving clearly the evil conseences ensuing from the ruin of the family, should we not have a sense to refrain from this sinful act [of fighting the war], O Janardana ?', ' When a family ruins, the etnernal duties of the family perish; when the duties perish, impiety inevitably dominates the entire family.', ' Because of the domination of impiety, O Krsna, the women of the family become corrupt; when the women become corrupt, O member of the Vrsni-clan, there arises the intermixture of castes;', ' The intermixture leads the family-ruiners and the family to nothing but the hell; for, their ancestors (their individual souls) fall down [in hell], being deprived of the rites of offering rice-balls and water [intended to them].', ' On account of these evils of the family-ruiners that cause the intermixture of castes, the eternal caste-duties and family-duties fall into disuse.', ' O Janardana! Dwelling in the hell is ite certain for men with their family-duties fallen into disuse: this we have heard.', ' Alas! What a great sinful act have we resolved to undertake !  For, out of greed for the joy of kingdom, we are striving to slay our own kinsfolk !', \" It would be more beneficial for me if Dhrtarastra's men with weapons in their hands, should slay me, unresisting and unarmed.\", ' Sanjaya said Having said this much about the battle, and letting his bow fall with arrows, Arjuna sat down on the back of the chariot, with his mind agitated with grief.', ' Sanjaya said To him (Arjuna) who was thus possessed by compassion, whose eyes were confused and filled with tears and who was sinking in despondency, Madhusudana told this [following] sentence.', ' The Bhagavat said O Arjuna !  At a critical moment, whence did this sinful act come to you which is practised by men of ignoble (low) birth and which is leading to the hell and is inglorious ?', ' Stoop not to unmanliness, O son of Kunti !  It does not befit you. Shirking off the petty weakness of heart, arise, O scorcher of the foes !', ' Arjuna said How shall I with arrows fight in battle against Bhisma and Drona, both being worthy of reverence ?  O slayer of Mandhu, O slayer of foes !', ' It is good indeed even to go about begging in this world without killing the elders of great dignity; but with greed for wealth, I would not enjoy, by killing my elders, the blood-stained objects of pleasures.', \" Whether we should coner [in the battle], or they should coner us-we do not know this viz., 'which [of those two] is better for us'. [For], having killed whom, we would not wish to live at all, the same persons stand before us as Dhrtarastra's men.\", ' With my very nature, overpowered by the taint of pity, and with my mind, utterly confused as to the right action [at the present juncture],  I ask you: Tell me definitely what would be good [to me]; I am your pupil; please teach me, who am taking refuge in You.', ' I do not clearly see what would drive out my grief, the scorcher of my sense-organs, even after achieving, a prosperous and unrivalled kingship in this earth and also the overlordship of the gods [in the heaven].', \" Sanjaya said  O scorcher of foes (O Dhrtarastra) ! Having spoken to Hrsikesa (the master of sense-organs), Govinda (Krsna) in this manner, and having declared 'I will not fight', Gudakesa (Arjuna), became silent !\", ' O descendant of Bharata (O Dhrtarastra) ! Hrsikesa, as if [he was] smiling, spoke to him who was sinking in despondency in between two armies.', ' While lamenting for those who cannot be lamented on and those who do not reire to be lamented on, you do not talk like a wise man ! The learned do not lament for those of departed life and those of non-departed life.', ' Never indeed at any time [in the past] did I not exist, nor you, nor these kings; and never shall we all not exist hereafter.', ' Just as the boyhood, youth and old age come to the embodied Soul in this body, in the same manner is the attaining of another body; the wise man is not deluded at that.', ' O son of Kunti ! But the touches with the matras cause the [feelings of] cold and heat, pleasure and pain; they are of the nature of coming and going and are transient. Forbear them, O Descendent of Bharata !', ' O the best among persons ! That wise person becomes immortal whom these (situations) do not trouble and to whom the pleasure and pain are eal.', ' Birth (or existence) does not happen to what is non-existent, and destruction (or non-existence) to what is existent; the finality of these two has been seen by the seers of the reality.', ' And know That to be destructionsless, by Which all this (universe) is pervaded; no one is capable of causing destruction to this changeless One.', ' These physical bodies that have an end and suffer the peculiar destruction, are declared to belong to the eternal embodied Soul, Which is destructionless and imcomprehensible. Therefore fight, O descendent of Bharata !', ' Whosoever views This to be the slayer and whosoever believes This to be the slain, both these do not understand : This does not slay, nor is This slain.', ' This is neither born; nor ever dies; nor, having not been at one time, will This come to be again. This is unborn, destructionless, eternal and ancient and is not slain [even] when the body is slain.', ' Whosever realises This to be changeless, destructionless, unborn and immutable, how can that person be slain; how can he either slay [any one] ? O son of Prtha !', ' Just as rejecting the tattered garments, a man takes other new ones, in the same way, rejecting the decayed bodies, the embodied (Self) rightly proceeds to other new ones.', ' Weapons do not cut This; fire does not burn This; water does not (make) This wet; and the wind does not make This dry.', ' This is not to be cut; This is not to be burnt; (This is) not to be made wet and not to be dried too; This is eternal, all-pervading, stable, immobile and eternal.', ' This is declared to be non-evident, imponderable, and unchangeable. Therefore understanding This as such you should not lament.', ' On the other hand, if you deem This as being born constantly or as dying constantly, even then, O mighty-armed one, you should not lament This.', ' Death is certain indeed for what is born; and birth is certain for what is dead. Therefore you should not lament over a thing that is unavoidable.', ' O descendant of Bharata !  The beings have an unmanifest beginning, manifest middle and certainly the unmanifest end. On that account why mourning?', ' This someone observes as a wonder; similarly another speaks of This as a wonder; another hears This as a wonder; but even after hearing, not even one understands This.', ' O descendant of Bharata ! This embodied One in the body of every one is for ever incapable of being slain. Therefore you should not lament over all beings.', ' Further, considering your own duty, you should not waver. Indeed, for a Ksatriya there exists no duty superior to fighting a righteous war.', ' O son of Prtha ! By good fortune, Ksatriyas, desirous of happiness, get a war of this type [to fight], which has come on its own accord and which is an open door to the heaven.', ' On the other hand, if you will not fight this righteous war then you shall incur the sin by avoiding your own duty and fame.', ' The creatures will speak of your endless ill-fame; and for the one who has been highly esteemed the illfame is worse than death.', ' The mighty charioteers will think of you as having withdrawn from the battle out of fear : having been highly regarded by these men, you shall be viewed lightly.', ' Slandering your ability, the enemies will talk of you many sayings that should not be talked of. Is there anything more painful than that ?', ' If you are slain you shall attain heaven; or if you coner, you shall enjoy the earth. Therefore, O son of Kunti ! stand up with resolution made in favour of [fighting] the battle.', ' Viewing alike, pleasure and pain, gain and loss, victory and defeat, you should get then ready for the battle. Thus you will not incur sin.', ' Listen, how this knowledge, imparted [to you] for your sankhya, is [also] for the Yoga; endowed with which knowledge you shall cast off the bondage of action, O son of Prtha !', ' Here there is no loss due to transgression, and there exists no contrary downward course (sin); even a little of this righteous thing saves [one] from great danger.', ' O source of joy to the Kurus !  The knowledge in the form of determination is just one; [but] the knowledge (thoughts) of those who do not have determination, has many branches and has no end.', ' - 2.43. O son of Prtha ! Those, whose very nature is desire, whose goal is heaven, who esteem only the Vedic declaration [of fruits], who declare that there is nothing else, who proclaim this flowery speech about the paths to the lordship of the objects of enjoyment-[the paths] that are full of different actionsand who desire action alone as a fruit of their birth-they are men without insight.', '2.42. -  O son of Prtha ! Those, whose very nature is desire, whose goal is heaven, who esteem only the Vedic declaration [of fruits], who declare that there is nothing else, who proclaim this flowery speech about the paths to the lordship of the objects of enjoyment-[the paths] that are full of different actionsand who desire action alone as a fruit of their birth-they are men without insight.', ' Those, who are very much attached to the ownership of enjoyable objects and whose minds have been carried away by that (flowery speech)-their knowledge, in the form of determination is not prescribed for concentration.', ' The Vedas bind by means of the three Strands. [Hence] O Arjuna, you must be free from the three Strands, free from the pairs [of opposites]; be established in this eternal Being; be free from [the idea of] acisition and preservation; and be possessed of the Self.', ' What portion in a reservoir, flooded with water everywhere, is useful [for a man in thirst], that much portion [alone] in all the Vedas is useful for an intelligent student of the Vedas.', ' Let your claim lie on action alone and never on the fruits; you should never be a cause for the fruits of action; let not your attachment be to inaction.', ' O Dhananjaya ! Established in the Yoga, perform actions, abandoning attachment, remaining even-minded in success and failure; for, the even-mindedness is said to be the Yoga.', \" O Dhananjaya ! The inferior action stays away at a distance due to Yoga of (one's contact with) determining faculty; in the determining faculty you must seek refuge; wretched are those who constitute the causes for the fruits of action.\", ' Whosoever is endowed with determining faculty-he casts off both of these viz., the good action and the bad action. Therefore strive for Yoga; Yoga is proficiency is action.', ' By renouncing the fruit, born of action, the intelligent ones endowed with determining faculty and freed from the bond of birth, go to the place that is devoid of illness.', ' When your determining faculty goes beyond the impregnable thicket of delusion, at that time you will attain an attitude of futility regarding what has to be heard and what has been heard.', ' When your determining faculty, that had been [earlier] confused by your hearing [of scriptural declaration of fruits] shall stand stable in concentration, at that time you shall attain the Yoga.']\n",
      "['धृतराष्ट्र उवाच धर्मक्षेत्रे कुरुक्षेत्रे समवेता युयुत्सवः। मामकाः पाण्डवाश्चैव किमकुर्वत सञ्जय।।', 'सञ्जय उवाच दृष्ट्वा तु पाण्डवानीकं व्यूढं दुर्योधनस्तदा। आचार्यमुपसङ्गम्य राजा वचनमब्रवीत्।।', 'पश्यैतां पाण्डुपुत्राणामाचार्य महतीं चमूम्। व्यूढां द्रुपदपुत्रेण तव शिष्येण धीमता।।', 'अत्र शूरा महेष्वासा भीमार्जुनसमा युधि। युयुधानो विराटश्च द्रुपदश्च महारथः।।', 'धृष्टकेतुश्चेकितानः काशिराजश्च वीर्यवान्। पुरुजित्कुन्तिभोजश्च शैब्यश्च नरपुङ्गवः।।', 'युधामन्युश्च विक्रान्त उत्तमौजाश्च वीर्यवान्। सौभद्रो द्रौपदेयाश्च सर्व एव महारथाः।।', 'अस्माकं तु विशिष्टा ये तान्निबोध द्विजोत्तम। नायका मम सैन्यस्य संज्ञार्थं तान्ब्रवीमि ते।।', 'भवान्भीष्मश्च कर्णश्च कृपश्च समितिञ्जयः। अश्वत्थात्मा विकर्णश्च सौमदत्तिस्तथैव च।।', 'अन्ये च बहवः शूरा मदर्थे त्यक्तजीविताः। नानाशस्त्रप्रहरणाः सर्वे युद्धविशारदाः।।', 'अपर्याप्तं तदस्माकं बलं भीष्माभिरक्षितम्। पर्याप्तं त्विदमेतेषां बलं भीमाभिरक्षितम्।।', 'अयनेषु च सर्वेषु यथाभागमवस्थिताः। भीष्ममेवाभिरक्षन्तु भवन्तः सर्व एव हि।।', 'तस्य संजनयन्हर्षं कुरुवृद्धः पितामहः। सिंहनादं विनद्योच्चैः शङ्खं दध्मौ प्रतापवान्।।', 'ततः शङ्खाश्च भेर्यश्च पणवानकगोमुखाः। सहसैवाभ्यहन्यन्त स शब्दस्तुमुलोऽभवत्।।', 'ततः श्वेतैर्हयैर्युक्ते महति स्यन्दने स्थितौ। माधवः पाण्डवश्चैव दिव्यौ शङ्खौ प्रदध्मतुः।।', 'पाञ्चजन्यं हृषीकेशो देवदत्तं धनंजयः। पौण्ड्रं दध्मौ महाशङ्खं भीमकर्मा वृकोदरः।।', 'अनन्तविजयं राजा कुन्तीपुत्रो युधिष्ठिरः। नकुलः सहदेवश्च सुघोषमणिपुष्पकौ।।', 'काश्यश्च परमेष्वासः शिखण्डी च महारथः। धृष्टद्युम्नो विराटश्च सात्यकिश्चापराजितः।।', 'द्रुपदो द्रौपदेयाश्च सर्वशः पृथिवीपते। सौभद्रश्च महाबाहुः शङ्खान्दध्मुः पृथक्पृथक्।।', 'स घोषो धार्तराष्ट्राणां हृदयानि व्यदारयत्। नभश्च पृथिवीं चैव तुमुलो व्यनुनादयन्।।', 'अथ व्यवस्थितान् दृष्ट्वा धार्तराष्ट्रान्कपिध्वजः। प्रवृत्ते शस्त्रसंपाते धनुरुद्यम्य पाण्डवः।।', 'अर्जुन उवाच हृषीकेशं तदा वाक्यमिदमाह महीपते। सेनयोरुभयोर्मध्ये रथं स्थापय मेऽच्युत।।', 'यावदेतान्निरीक्षेऽहं योद्धुकामानवस्थितान्। कैर्मया सह योद्धव्यमस्मिन्रणसमुद्यमे।।', 'योत्स्यमानानवेक्षेऽहं य एतेऽत्र समागताः। धार्तराष्ट्रस्य दुर्बुद्धेर्युद्धे प्रियचिकीर्षवः।।', 'सञ्जय उवाच  एवमुक्तो हृषीकेशो गुडाकेशेन भारत। सेनयोरुभयोर्मध्ये स्थापयित्वा रथोत्तमम्।।', 'भीष्मद्रोणप्रमुखतः सर्वेषां च महीक्षिताम्। उवाच पार्थ पश्यैतान्समवेतान्कुरूनिति।।', 'तत्रापश्यत्स्थितान्पार्थः पितृ़नथ पितामहान्। आचार्यान्मातुलान्भ्रातृ़न्पुत्रान्पौत्रान्सखींस्तथा।।', 'श्वशुरान्सुहृदश्चैव सेनयोरुभयोरपि। तान्समीक्ष्य स कौन्तेयः सर्वान्बन्धूनवस्थितान्।।', 'अर्जुन उवाच कृपया परयाऽऽविष्टो विषीदन्निदमब्रवीत्। दृष्ट्वेमं स्वजनं कृष्ण युयुत्सुं समुपस्थितम्।।', 'सीदन्ति मम गात्राणि मुखं च परिशुष्यति। वेपथुश्च शरीरे मे रोमहर्षश्च जायते।।', 'गाण्डीवं स्रंसते हस्तात्त्वक्चैव परिदह्यते। न च शक्नोम्यवस्थातुं भ्रमतीव च मे मनः।।', 'निमित्तानि च पश्यामि विपरीतानि केशव। न च श्रेयोऽनुपश्यामि हत्वा स्वजनमाहवे।।', 'न काङ्क्षे विजयं कृष्ण न च राज्यं सुखानि च। किं नो राज्येन गोविन्द किं भोगैर्जीवितेन वा।।', 'येषामर्थे काङ्क्षितं नो राज्यं भोगाः सुखानि च। त इमेऽवस्थिता युद्धे प्राणांस्त्यक्त्वा धनानि च।।', 'आचार्याः पितरः पुत्रास्तथैव च पितामहाः। मातुलाः श्चशुराः पौत्राः श्यालाः सम्बन्धिनस्तथा।।', 'एतान्न हन्तुमिच्छामि घ्नतोऽपि मधुसूदन। अपि त्रैलोक्यराज्यस्य हेतोः किं नु महीकृते।।', 'निहत्य धार्तराष्ट्रान्नः का प्रीतिः स्याज्जनार्दन। पापमेवाश्रयेदस्मान्हत्वैतानाततायिनः।।', 'तस्मान्नार्हा वयं हन्तुं धार्तराष्ट्रान्स्वबान्धवान्। स्वजनं हि कथं हत्वा सुखिनः स्याम माधव।।', 'यद्यप्येते न पश्यन्ति लोभोपहतचेतसः। कुलक्षयकृतं दोषं मित्रद्रोहे च पातकम्।।', 'कथं न ज्ञेयमस्माभिः पापादस्मान्निवर्तितुम्। कुलक्षयकृतं दोषं प्रपश्यद्भिर्जनार्दन।।', 'कुलक्षये प्रणश्यन्ति कुलधर्माः सनातनाः। धर्मे नष्टे कुलं कृत्स्नमधर्मोऽभिभवत्युत।।', 'अधर्माभिभवात्कृष्ण प्रदुष्यन्ति कुलस्त्रियः। स्त्रीषु दुष्टासु वार्ष्णेय जायते वर्णसङ्करः।।', 'सङ्करो नरकायैव कुलघ्नानां कुलस्य च। पतन्ति पितरो ह्येषां लुप्तपिण्डोदकक्रियाः।।', 'दोषैरेतैः कुलघ्नानां वर्णसङ्करकारकैः। उत्साद्यन्ते जातिधर्माः कुलधर्माश्च शाश्वताः।।', 'उत्सन्नकुलधर्माणां मनुष्याणां जनार्दन। नरकेऽनियतं वासो भवतीत्यनुशुश्रुम।।', 'अहो बत महत्पापं कर्तुं व्यवसिता वयम्। यद्राज्यसुखलोभेन हन्तुं स्वजनमुद्यताः।।', 'यदि मामप्रतीकारमशस्त्रं शस्त्रपाणयः। धार्तराष्ट्रा रणे हन्युस्तन्मे क्षेमतरं भवेत्।।', 'सञ्जय उवाच एवमुक्त्वाऽर्जुनः संख्ये रथोपस्थ उपाविशत्। विसृज्य सशरं चापं शोकसंविग्नमानसः।।', 'सञ्जय उवाच तं तथा कृपयाऽविष्टमश्रुपूर्णाकुलेक्षणम्। विषीदन्तमिदं वाक्यमुवाच मधुसूदनः।।', 'श्री भगवानुवाच कुतस्त्वा कश्मलमिदं विषमे समुपस्थितम्। अनार्यजुष्टमस्वर्ग्यमकीर्तिकरमर्जुन।।', 'क्लैब्यं मा स्म गमः पार्थ नैतत्त्वय्युपपद्यते। क्षुद्रं हृदयदौर्बल्यं त्यक्त्वोत्तिष्ठ परन्तप।।', 'अर्जुन उवाच कथं भीष्ममहं संख्ये द्रोणं च मधुसूदन। इषुभिः प्रतियोत्स्यामि पूजार्हावरिसूदन।।', 'गुरूनहत्वा हि महानुभावान्    श्रेयो भोक्तुं भैक्ष्यमपीह लोके। हत्वार्थकामांस्तु गुरूनिहैव    भुञ्जीय भोगान् रुधिरप्रदिग्धान्।।', 'न चैतद्विद्मः कतरन्नो गरीयो   यद्वा जयेम यदि वा नो जयेयुः। यानेव हत्वा न जिजीविषाम   स्तेऽवस्थिताः प्रमुखे धार्तराष्ट्राः।।', 'कार्पण्यदोषोपहतस्वभावः    पृच्छामि त्वां धर्मसंमूढचेताः। यच्छ्रेयः स्यान्निश्िचतं ब्रूहि तन्मे    शिष्यस्तेऽहं शाधि मां त्वां प्रपन्नम्।।', 'न हि प्रपश्यामि ममापनुद्या   द्यच्छोकमुच्छोषणमिन्द्रियाणाम्। अवाप्य भूमावसपत्नमृद्धम्   राज्यं सुराणामपि चाधिपत्यम्।।', 'सञ्जय उवाच एवमुक्त्वा हृषीकेशं गुडाकेशः परन्तप। न योत्स्य इति गोविन्दमुक्त्वा तूष्णीं बभूव ह।।', 'तमुवाच हृषीकेशः प्रहसन्निव भारत। सेनयोरुभयोर्मध्ये विषीदन्तमिदं वचः।।', 'श्री भगवानुवाच अशोच्यानन्वशोचस्त्वं प्रज्ञावादांश्च भाषसे। गतासूनगतासूंश्च नानुशोचन्ति पण्डिताः।।', 'न त्वेवाहं जातु नासं न त्वं नेमे जनाधिपाः। न चैव न भविष्यामः सर्वे वयमतः परम्।।', 'देहिनोऽस्मिन्यथा देहे कौमारं यौवनं जरा। तथा देहान्तरप्राप्तिर्धीरस्तत्र न मुह्यति।।', 'मात्रास्पर्शास्तु कौन्तेय शीतोष्णसुखदुःखदाः। आगमापायिनोऽनित्यास्तांस्तितिक्षस्व भारत।।', 'यं हि न व्यथयन्त्येते पुरुषं पुरुषर्षभ। समदुःखसुखं धीरं सोऽमृतत्वाय कल्पते।।', 'नासतो विद्यते भावो नाभावो विद्यते सतः। उभयोरपि दृष्टोऽन्तस्त्वनयोस्तत्त्वदर्शिभिः।।', 'अविनाशि तु तद्विद्धि येन सर्वमिदं ततम्। विनाशमव्ययस्यास्य न कश्िचत् कर्तुमर्हति।।', 'अन्तवन्त इमे देहा नित्यस्योक्ताः शरीरिणः। अनाशिनोऽप्रमेयस्य तस्माद्युध्यस्व भारत।।', 'य एनं वेत्ति हन्तारं यश्चैनं मन्यते हतम्। उभौ तौ न विजानीतो नायं हन्ति न हन्यते।।', 'न जायते म्रियते वा कदाचि   न्नायं भूत्वा भविता वा न भूयः। अजो नित्यः शाश्वतोऽयं पुराणो   न हन्यते हन्यमाने शरीरे।।', 'वेदाविनाशिनं नित्यं य एनमजमव्ययम्। कथं स पुरुषः पार्थ कं घातयति हन्ति कम्।।', 'वासांसि जीर्णानि यथा विहाय   नवानि गृह्णाति नरोऽपराणि। तथा शरीराणि विहाय जीर्णा   न्यन्यानि संयाति नवानि देही।।', 'नैनं छिन्दन्ति शस्त्राणि नैनं दहति पावकः। न चैनं क्लेदयन्त्यापो न शोषयति मारुतः।।', 'अच्छेद्योऽयमदाह्योऽयमक्लेद्योऽशोष्य एव च। नित्यः सर्वगतः स्थाणुरचलोऽयं सनातनः।।', 'अव्यक्तोऽयमचिन्त्योऽयमविकार्योऽयमुच्यते। तस्मादेवं विदित्वैनं नानुशोचितुमर्हसि।।', 'अथ चैनं नित्यजातं नित्यं वा मन्यसे मृतम्। तथापि त्वं महाबाहो नैवं शोचितुमर्हसि।।', 'जातस्य हि ध्रुवो मृत्युर्ध्रुवं जन्म मृतस्य च। तस्मादपरिहार्येऽर्थे न त्वं शोचितुमर्हसि।।', 'अव्यक्तादीनि भूतानि व्यक्तमध्यानि भारत। अव्यक्तनिधनान्येव तत्र का परिदेवना।।', 'आश्चर्यवत्पश्यति कश्िचदेन    माश्चर्यवद्वदति तथैव चान्यः। आश्चर्यवच्चैनमन्यः श्रृणोति    श्रुत्वाप्येनं वेद न चैव कश्िचत्।।', 'देही नित्यमवध्योऽयं देहे सर्वस्य भारत। तस्मात्सर्वाणि भूतानि न त्वं शोचितुमर्हसि।।', 'स्वधर्ममपि चावेक्ष्य न विकम्पितुमर्हसि। धर्म्याद्धि युद्धाछ्रेयोऽन्यत्क्षत्रियस्य न विद्यते।।', 'यदृच्छया चोपपन्नं स्वर्गद्वारमपावृतम्। सुखिनः क्षत्रियाः पार्थ लभन्ते युद्धमीदृशम्।।', 'अथ चैत्त्वमिमं धर्म्यं संग्रामं न करिष्यसि। ततः स्वधर्मं कीर्तिं च हित्वा पापमवाप्स्यसि।।', 'अकीर्तिं चापि भूतानि कथयिष्यन्ति तेऽव्ययाम्। संभावितस्य चाकीर्तिर्मरणादतिरिच्यते।।', 'भयाद्रणादुपरतं मंस्यन्ते त्वां महारथाः। येषां च त्वं बहुमतो भूत्वा यास्यसि लाघवम्।।', 'अवाच्यवादांश्च बहून् वदिष्यन्ति तवाहिताः। निन्दन्तस्तव सामर्थ्यं ततो दुःखतरं नु किम्।।', 'हतो वा प्राप्स्यसि स्वर्गं जित्वा वा भोक्ष्यसे महीम्। तस्मादुत्तिष्ठ कौन्तेय युद्धाय कृतनिश्चयः।।', 'सुखदुःखे समे कृत्वा लाभालाभौ जयाजयौ। ततो युद्धाय युज्यस्व नैवं पापमवाप्स्यसि।।', 'एषा तेऽभिहिता सांख्ये बुद्धिर्योगे त्विमां श्रृणु। बुद्ध्यायुक्तो यया पार्थ कर्मबन्धं प्रहास्यसि।।', 'नेहाभिक्रमनाशोऽस्ति प्रत्यवायो न विद्यते। स्वल्पमप्यस्य धर्मस्य त्रायते महतो भयात्।।', 'व्यवसायात्मिका बुद्धिरेकेह कुरुनन्दन। बहुशाखा ह्यनन्ताश्च बुद्धयोऽव्यवसायिनाम्।।', 'यामिमां पुष्पितां वाचं प्रवदन्त्यविपश्िचतः। वेदवादरताः पार्थ नान्यदस्तीति वादिनः।।', 'कामात्मानः स्वर्गपरा जन्मकर्मफलप्रदाम्। क्रियाविशेषबहुलां भोगैश्वर्यगतिं प्रति।।', 'भोगैश्वर्यप्रसक्तानां तयापहृतचेतसाम्। व्यवसायात्मिका बुद्धिः समाधौ न विधीयते।।', 'त्रैगुण्यविषया वेदा निस्त्रैगुण्यो भवार्जुन। निर्द्वन्द्वो नित्यसत्त्वस्थो निर्योगक्षेम आत्मवान्।।', 'यावानर्थ उदपाने सर्वतः संप्लुतोदके। तावान्सर्वेषु वेदेषु ब्राह्मणस्य विजानतः।।', 'कर्मण्येवाधिकारस्ते मा फलेषु कदाचन। मा कर्मफलहेतुर्भूर्मा ते सङ्गोऽस्त्वकर्मणि।।', 'योगस्थः कुरु कर्माणि सङ्गं त्यक्त्वा धनञ्जय। सिद्ध्यसिद्ध्योः समो भूत्वा समत्वं योग उच्यते।।', 'दूरेण ह्यवरं कर्म बुद्धियोगाद्धनञ्जय। बुद्धौ शरणमन्विच्छ कृपणाः फलहेतवः।।', 'बुद्धियुक्तो जहातीह उभे सुकृतदुष्कृते। तस्माद्योगाय युज्यस्व योगः कर्मसु कौशलम्।।', 'कर्मजं बुद्धियुक्ता हि फलं त्यक्त्वा मनीषिणः। जन्मबन्धविनिर्मुक्ताः पदं गच्छन्त्यनामयम्।।', 'यदा ते मोहकलिलं बुद्धिर्व्यतितरिष्यति। तदा गन्तासि निर्वेदं श्रोतव्यस्य श्रुतस्य च।।', 'श्रुतिविप्रतिपन्ना ते यदा स्थास्यति निश्चला। समाधावचला बुद्धिस्तदा योगमवाप्स्यसि।।']\n",
      "34374\n",
      "34374\n"
     ]
    }
   ],
   "source": [
    "%cd /content/Sanskrit-Hindi-Machine-Translation/parallel-corpus/sanskrit-english/\n",
    "\n",
    "eng_lines = []\n",
    "sanskrit_lines = []\n",
    "with open('bhagvadgita_english.txt', 'r') as f:\n",
    "  eng_lines.extend([x.replace('\\n', '') for x in f.readlines()])\n",
    "\n",
    "with open('bible_english.txt', 'r') as f:\n",
    "  eng_lines.extend([x.replace('\\n', '') for x in f.readlines()])\n",
    "\n",
    "with open('manu_english.txt', 'r') as f:\n",
    "  eng_lines.extend([x.replace('\\n', '') for x in f.readlines()])\n",
    "\n",
    "with open('ramayan_english.txt', 'r') as f:\n",
    "  eng_lines.extend([x.replace('\\n', '') for x in f.readlines()])\n",
    "\n",
    "with open('rigveda_english.txt', 'r') as f:\n",
    "  eng_lines.extend([x.replace('\\n', '') for x in f.readlines()])\n",
    "\n",
    "\n",
    "\n",
    "with open('bhagvadgita_sanskrit.txt', 'r') as f:\n",
    "  sanskrit_lines.extend([x.replace('\\n', '') for x in f.readlines()])\n",
    "\n",
    "with open('bible_sanskrit.txt', 'r') as f:\n",
    "  sanskrit_lines.extend([x.replace('\\n', '') for x in f.readlines()])\n",
    "\n",
    "with open('manu_sanskrit.txt', 'r') as f:\n",
    "  sanskrit_lines.extend([x.replace('\\n', '') for x in f.readlines()])\n",
    "\n",
    "with open('ramayan_sanskrit.txt', 'r') as f:\n",
    "  sanskrit_lines.extend([x.replace('\\n', '') for x in f.readlines()])\n",
    "\n",
    "with open('rigveda_sanskrit.txt', 'r') as f:\n",
    "  sanskrit_lines.extend([x.replace('\\n', '') for x in f.readlines()])\n",
    "\n",
    "# print(eng_lines[:100])\n",
    "# print(sanskrit_lines[:100])\n",
    "\n",
    "print(len(eng_lines))\n",
    "print(len(sanskrit_lines))"
   ]
  },
  {
   "cell_type": "code",
   "execution_count": null,
   "metadata": {
    "id": "u9e9qVOySMYD"
   },
   "outputs": [],
   "source": [
    "# Randomly shuffling the data into training and dev set, the test data is already provided on github\n",
    "import random\n",
    "c = list(zip(sanskrit_lines, eng_lines))\n",
    "random.shuffle(c)\n",
    "\n",
    "sanskrit_lines, eng_lines = zip(*c)\n",
    "\n",
    "train_text_sa = sanskrit_lines[:-1374]\n",
    "train_text_en = eng_lines[:-1374]\n",
    "\n",
    "dev_text_sa = sanskrit_lines[-1374:]\n",
    "dev_text_en = eng_lines[-1374:]"
   ]
  },
  {
   "cell_type": "code",
   "execution_count": null,
   "metadata": {
    "colab": {
     "base_uri": "https://localhost:8080/"
    },
    "id": "5A4fBFKngAfW",
    "outputId": "6226a11f-74ee-4d61-e1be-0646d5463227"
   },
   "outputs": [
    {
     "name": "stdout",
     "output_type": "stream",
     "text": [
      "33000\n",
      "1374\n"
     ]
    }
   ],
   "source": [
    "print(len(train_text_en))\n",
    "print(len(dev_text_en))"
   ]
  },
  {
   "cell_type": "code",
   "execution_count": null,
   "metadata": {
    "id": "udDBnK5TdQlm"
   },
   "outputs": [],
   "source": [
    "# Start and End tokens\n",
    "SOS_token = 0\n",
    "EOS_token = 1\n",
    "\n",
    "\n",
    "class Lang:\n",
    "    def __init__(self, name):\n",
    "        self.name = name\n",
    "        self.word2index = {}\n",
    "        self.word2count = {}\n",
    "        self.index2word = {0: \"SOS\", 1: \"EOS\"}\n",
    "        self.n_words = 2  # Count SOS and EOS\n",
    "\n",
    "    def addSentence(self, sentence):\n",
    "        for word in sentence.split(' '):\n",
    "            self.addWord(word)\n",
    "\n",
    "    def addWord(self, word):\n",
    "        if word not in self.word2index:\n",
    "            self.word2index[word] = self.n_words\n",
    "            self.word2count[word] = 1\n",
    "            self.index2word[self.n_words] = word\n",
    "            self.n_words += 1\n",
    "        else:\n",
    "            self.word2count[word] += 1"
   ]
  },
  {
   "cell_type": "code",
   "execution_count": null,
   "metadata": {
    "id": "BHK9xZWydQlz"
   },
   "outputs": [],
   "source": [
    "# Reading the data and forming pairs\n",
    "def readLangs(lang1, lang2, reverse=False):\n",
    "    print(\"Reading lines...\")\n",
    "\n",
    "    # Forming pairs of sentences\n",
    "    pairs = [[train_text_sa[i], train_text_en[i]] for i in range(len(train_text_sa))]\n",
    "\n",
    "    # Reverse pairs, make Lang instances\n",
    "    if reverse:\n",
    "        pairs = [list(reversed(p)) for p in pairs]\n",
    "        input_lang = Lang(lang2)\n",
    "        output_lang = Lang(lang1)\n",
    "    else:\n",
    "        input_lang = Lang(lang1)\n",
    "        output_lang = Lang(lang2)\n",
    "\n",
    "    return input_lang, output_lang, pairs"
   ]
  },
  {
   "cell_type": "markdown",
   "metadata": {
    "id": "b66JLAnidQl4"
   },
   "source": [
    "Filtering the data by only keeping sentences of length less than 100 words\n",
    "\n",
    "\n"
   ]
  },
  {
   "cell_type": "code",
   "execution_count": null,
   "metadata": {
    "id": "SWWEMQ0DdQl5"
   },
   "outputs": [],
   "source": [
    "MAX_LENGTH = 100\n",
    "\n",
    "def filterPair(p):\n",
    "    return len(p[0].split(' ')) < MAX_LENGTH and len(p[1].split(' ')) < MAX_LENGTH\n",
    "\n",
    "def filterPairs(pairs):\n",
    "    return [pair for pair in pairs if filterPair(pair)]"
   ]
  },
  {
   "cell_type": "code",
   "execution_count": null,
   "metadata": {
    "colab": {
     "base_uri": "https://localhost:8080/"
    },
    "id": "c6hBrTh2dQmA",
    "outputId": "2897771f-fe9b-47e5-bd58-4cc6daeed042"
   },
   "outputs": [
    {
     "name": "stdout",
     "output_type": "stream",
     "text": [
      "Reading lines...\n",
      "Read 32974 sentence pairs\n",
      "Trimmed to 32910 sentence pairs\n",
      "Counting words...\n",
      "Counted words:\n",
      "sanskrit 124240\n",
      "eng 44874\n",
      "['यच्च गङ्गावतरणं त्वया कृतमरिन्दम। अनेन च भवान् प्राप्तो धर्मस्यायतनं महत्।।', 'O Destroyer of enemies by bringing about the descent of Ganga, you have secured a great abode in dharma.']\n"
     ]
    }
   ],
   "source": [
    "def prepareData(lang1, lang2, reverse=False):\n",
    "    input_lang, output_lang, pairs = readLangs(lang1, lang2, reverse)\n",
    "    print(\"Read %s sentence pairs\" % len(pairs))\n",
    "    pairs = filterPairs(pairs)\n",
    "    print(\"Trimmed to %s sentence pairs\" % len(pairs))\n",
    "    print(\"Counting words...\")\n",
    "    for pair in pairs:\n",
    "        input_lang.addSentence(pair[0])\n",
    "        output_lang.addSentence(pair[1])\n",
    "    print(\"Counted words:\")\n",
    "    print(input_lang.name, input_lang.n_words)\n",
    "    print(output_lang.name, output_lang.n_words)\n",
    "    return input_lang, output_lang, pairs\n",
    "\n",
    "\n",
    "input_lang, output_lang, pairs = prepareData('sanskrit', 'eng', False)\n",
    "print(random.choice(pairs)) # a random pair of parallel sentences"
   ]
  },
  {
   "cell_type": "markdown",
   "metadata": {
    "id": "yZALem_BdQmF"
   },
   "source": [
    "Seq2Seq Model\n",
    "=================\n",
    "\n",
    "A seq2seq network is a model consisting of two RNNs called the encoder and decoder. The encoder reads an input sequence and outputs a single vector, and the decoder reads that vector to produce an output sequence.\n",
    "\n",
    "Unlike sequence prediction with a single RNN, where every input\n",
    "corresponds to an output, the seq2seq model frees us from sequence\n",
    "length and order, which makes it ideal for translation between two\n",
    "languages.\n"
   ]
  },
  {
   "cell_type": "markdown",
   "metadata": {
    "id": "o3uu_wzsdQmF"
   },
   "source": [
    "The Encoder\n",
    "-----------\n",
    "\n",
    "The encoder of a seq2seq network is a RNN that outputs some value for\n",
    "every word from the input sentence. For every input word the encoder\n",
    "outputs a vector and a hidden state, and uses the hidden state for the\n",
    "next input word."
   ]
  },
  {
   "cell_type": "code",
   "execution_count": null,
   "metadata": {
    "id": "ViYRjR8RdQmG"
   },
   "outputs": [],
   "source": [
    "class EncoderRNN(nn.Module):\n",
    "    def __init__(self, input_size, hidden_size):\n",
    "        super(EncoderRNN, self).__init__()\n",
    "        self.hidden_size = hidden_size\n",
    "\n",
    "        self.embedding = nn.Embedding(input_size, hidden_size)\n",
    "        self.gru = nn.GRU(hidden_size, hidden_size)\n",
    "\n",
    "    def forward(self, input, hidden):\n",
    "        embedded = self.embedding(input).view(1, 1, -1)\n",
    "        output = embedded\n",
    "        output, hidden = self.gru(output, hidden)\n",
    "        return output, hidden\n",
    "\n",
    "    def initHidden(self):\n",
    "        return torch.zeros(1, 1, self.hidden_size, device=device)"
   ]
  },
  {
   "cell_type": "markdown",
   "metadata": {
    "id": "XWMYWymFdQmJ"
   },
   "source": [
    "The Decoder\n",
    "-----------\n",
    "\n",
    "The decoder is another RNN that takes the encoder output vector(s) and\n",
    "outputs a sequence of words to create the translation.\n",
    "\n",
    "\n"
   ]
  },
  {
   "cell_type": "markdown",
   "metadata": {
    "id": "uNrjuf9fdQmQ"
   },
   "source": [
    "Attention Decoder\n",
    "\n",
    "If only the context vector is passed betweeen the encoder and decoder,\n",
    "that single vector carries the burden of encoding the entire sentence.\n",
    "\n",
    "Attention allows the decoder network to \"focus\" on a different part of\n",
    "the encoder's outputs for every step of the decoder's own outputs. First\n",
    "we calculate a set of *attention weights*. These will be multiplied by\n",
    "the encoder output vectors to create a weighted combination. The result\n",
    "(called ``attn_applied`` in the code) should contain information about\n",
    "that specific part of the input sequence, and thus help the decoder\n",
    "choose the right output words.\n",
    "\n",
    "Calculating the attention weights is done with another feed-forward\n",
    "layer ``attn``, using the decoder's input and hidden state as inputs.\n",
    "Because there are sentences of all sizes in the training data, to\n",
    "actually create and train this layer we have to choose a maximum\n",
    "sentence length (input length, for encoder outputs) that it can apply\n",
    "to. Sentences of the maximum length will use all the attention weights,\n",
    "while shorter sentences will only use the first few."
   ]
  },
  {
   "cell_type": "code",
   "execution_count": null,
   "metadata": {
    "id": "P9iFNYKtdQmR"
   },
   "outputs": [],
   "source": [
    "class AttnDecoderRNN(nn.Module):\n",
    "    def __init__(self, hidden_size, output_size, dropout_p=0.1, max_length=MAX_LENGTH):\n",
    "        super(AttnDecoderRNN, self).__init__()\n",
    "        self.hidden_size = hidden_size\n",
    "        self.output_size = output_size\n",
    "        self.dropout_p = dropout_p\n",
    "        self.max_length = max_length\n",
    "\n",
    "        self.embedding = nn.Embedding(self.output_size, self.hidden_size)\n",
    "        self.attn = nn.Linear(self.hidden_size * 2, self.max_length)\n",
    "        self.attn_combine = nn.Linear(self.hidden_size * 2, self.hidden_size)\n",
    "        self.dropout = nn.Dropout(self.dropout_p)\n",
    "        self.gru = nn.GRU(self.hidden_size, self.hidden_size)\n",
    "        self.out = nn.Linear(self.hidden_size, self.output_size)\n",
    "\n",
    "    def forward(self, input, hidden, encoder_outputs):\n",
    "        embedded = self.embedding(input).view(1, 1, -1)\n",
    "        embedded = self.dropout(embedded)\n",
    "\n",
    "        attn_weights = F.softmax(\n",
    "            self.attn(torch.cat((embedded[0], hidden[0]), 1)), dim=1)\n",
    "        attn_applied = torch.bmm(attn_weights.unsqueeze(0),\n",
    "                                 encoder_outputs.unsqueeze(0))\n",
    "\n",
    "        output = torch.cat((embedded[0], attn_applied[0]), 1)\n",
    "        output = self.attn_combine(output).unsqueeze(0)\n",
    "\n",
    "        output = F.relu(output)\n",
    "        output, hidden = self.gru(output, hidden)\n",
    "\n",
    "        output = F.log_softmax(self.out(output[0]), dim=1)\n",
    "        return output, hidden, attn_weights\n",
    "\n",
    "    def initHidden(self):\n",
    "        return torch.zeros(1, 1, self.hidden_size, device=device)"
   ]
  },
  {
   "cell_type": "markdown",
   "metadata": {
    "id": "24XfGf9KdQmU"
   },
   "source": [
    "Training\n",
    "========\n",
    "\n",
    "Preparing Training Data\n",
    "-----------------------\n",
    "\n",
    "To train, for each pair we will need an input tensor (indexes of the\n",
    "words in the input sentence) and target tensor (indexes of the words in\n",
    "the target sentence). While creating these vectors we will append the\n",
    "EOS token to both sequences."
   ]
  },
  {
   "cell_type": "code",
   "execution_count": null,
   "metadata": {
    "id": "FVky3DXYdQmV"
   },
   "outputs": [],
   "source": [
    "import random\n",
    "def indexesFromSentence(lang, sentence):\n",
    "    res = []\n",
    "    for word in sentence.split(' '):\n",
    "      if word not in lang.word2index.keys():\n",
    "        res.append(random.choice(list(lang.word2index.values())))    \n",
    "      else:\n",
    "        res.append(lang.word2index[word])\n",
    "    return res\n",
    "\n",
    "def tensorFromSentence(lang, sentence):\n",
    "    indexes = indexesFromSentence(lang, sentence)\n",
    "    indexes.append(EOS_token)\n",
    "    return torch.tensor(indexes, dtype=torch.long, device=device).view(-1, 1)\n",
    "\n",
    "\n",
    "def tensorsFromPair(pair):\n",
    "    input_tensor = tensorFromSentence(input_lang, pair[0])\n",
    "    target_tensor = tensorFromSentence(output_lang, pair[1])\n",
    "    return (input_tensor, target_tensor)"
   ]
  },
  {
   "cell_type": "markdown",
   "metadata": {
    "id": "z4qv-3-6dQmY"
   },
   "source": [
    "Training the Model\n",
    "------------------\n",
    "\n",
    "To train we run the input sentence through the encoder, and keep track\n",
    "of every output and the latest hidden state. Then the decoder is given\n",
    "the ``<SOS>`` token as its first input, and the last hidden state of the\n",
    "encoder as its first hidden state.\n",
    "\n",
    "\n"
   ]
  },
  {
   "cell_type": "code",
   "execution_count": null,
   "metadata": {
    "id": "YJBwVFaWdQmZ"
   },
   "outputs": [],
   "source": [
    "teacher_forcing_ratio = 0.5\n",
    "def train(input_tensor, target_tensor, encoder, decoder, encoder_optimizer, decoder_optimizer, criterion, max_length=MAX_LENGTH):\n",
    "    encoder_hidden = encoder.initHidden()\n",
    "\n",
    "    encoder_optimizer.zero_grad()\n",
    "    decoder_optimizer.zero_grad()\n",
    "\n",
    "    input_length = input_tensor.size(0)\n",
    "    target_length = target_tensor.size(0)\n",
    "\n",
    "    encoder_outputs = torch.zeros(max_length, encoder.hidden_size, device=device)\n",
    "\n",
    "    loss = 0\n",
    "\n",
    "    for ei in range(input_length):\n",
    "        encoder_output, encoder_hidden = encoder(\n",
    "            input_tensor[ei], encoder_hidden)\n",
    "        encoder_outputs[ei] = encoder_output[0, 0]\n",
    "\n",
    "    decoder_input = torch.tensor([[SOS_token]], device=device)\n",
    "\n",
    "    decoder_hidden = encoder_hidden\n",
    "\n",
    "    use_teacher_forcing = True if random.random() < teacher_forcing_ratio else False\n",
    "\n",
    "    if use_teacher_forcing:\n",
    "        for di in range(target_length):\n",
    "            decoder_output, decoder_hidden, decoder_attention = decoder(\n",
    "                decoder_input, decoder_hidden, encoder_outputs)\n",
    "            loss += criterion(decoder_output, target_tensor[di])\n",
    "            decoder_input = target_tensor[di]\n",
    "\n",
    "    else:\n",
    "        for di in range(target_length):\n",
    "            decoder_output, decoder_hidden, decoder_attention = decoder(\n",
    "                decoder_input, decoder_hidden, encoder_outputs)\n",
    "            topv, topi = decoder_output.topk(1)\n",
    "            decoder_input = topi.squeeze().detach()\n",
    "\n",
    "            loss += criterion(decoder_output, target_tensor[di])\n",
    "            if decoder_input.item() == EOS_token:\n",
    "                break\n",
    "\n",
    "    loss.backward()\n",
    "\n",
    "    encoder_optimizer.step()\n",
    "    decoder_optimizer.step()\n",
    "\n",
    "    return loss.item() / target_length"
   ]
  },
  {
   "cell_type": "code",
   "execution_count": null,
   "metadata": {
    "id": "8FUfkt6ZdQmd"
   },
   "outputs": [],
   "source": [
    "# Print time elapsed and estimated time remaining given the current time and progress %.\n",
    "import time\n",
    "import math\n",
    "\n",
    "\n",
    "def asMinutes(s):\n",
    "    m = math.floor(s / 60)\n",
    "    s -= m * 60\n",
    "    return '%dm %ds' % (m, s)\n",
    "\n",
    "def timeSince(since, percent):\n",
    "    now = time.time()\n",
    "    s = now - since\n",
    "    es = s / (percent)\n",
    "    rs = es - s\n",
    "    return '%s (- %s)' % (asMinutes(s), asMinutes(rs))"
   ]
  },
  {
   "cell_type": "code",
   "execution_count": null,
   "metadata": {
    "id": "f9gFYnIydQmk"
   },
   "outputs": [],
   "source": [
    "# Each iteration of training\n",
    "def trainIters(encoder, decoder, n_iters, print_every=1000, plot_every=100, learning_rate=0.01):\n",
    "    start = time.time()\n",
    "    plot_losses = []\n",
    "    print_loss_total = 0  # Reset every print_every\n",
    "    plot_loss_total = 0  # Reset every plot_every\n",
    "\n",
    "    encoder_optimizer = optim.SGD(encoder.parameters(), lr=learning_rate)\n",
    "    decoder_optimizer = optim.SGD(decoder.parameters(), lr=learning_rate)\n",
    "    training_pairs = [tensorsFromPair(random.choice(pairs))\n",
    "                      for i in range(n_iters)]\n",
    "    criterion = nn.NLLLoss()\n",
    "\n",
    "    for iter in range(1, n_iters + 1):\n",
    "        training_pair = training_pairs[iter - 1]\n",
    "        input_tensor = training_pair[0]\n",
    "        target_tensor = training_pair[1]\n",
    "\n",
    "        loss = train(input_tensor, target_tensor, encoder,\n",
    "                     decoder, encoder_optimizer, decoder_optimizer, criterion)\n",
    "        print_loss_total += loss\n",
    "        plot_loss_total += loss\n",
    "\n",
    "        if iter % print_every == 0:\n",
    "            print_loss_avg = print_loss_total / print_every\n",
    "            print_loss_total = 0\n",
    "            print('%s (%d %d%%) %.4f' % (timeSince(start, iter / n_iters),\n",
    "                                         iter, iter / n_iters * 100, print_loss_avg))\n",
    "\n",
    "        if iter % plot_every == 0:\n",
    "            plot_loss_avg = plot_loss_total / plot_every\n",
    "            plot_losses.append(plot_loss_avg)\n",
    "            plot_loss_total = 0\n",
    "\n",
    "    # showPlot(plot_losses)"
   ]
  },
  {
   "cell_type": "markdown",
   "metadata": {
    "id": "2x0FTkqedQmr"
   },
   "source": [
    "Evaluation\n",
    "==========\n",
    "\n",
    "Evaluation is mostly the same as training, but there are no targets so\n",
    "we simply feed the decoder's predictions back to itself for each step.\n",
    "Every time it predicts a word we add it to the output string, and if it\n",
    "predicts the EOS token we stop there."
   ]
  },
  {
   "cell_type": "code",
   "execution_count": null,
   "metadata": {
    "id": "8_ymMxcTdQmr"
   },
   "outputs": [],
   "source": [
    "def evaluate(encoder, decoder, sentence, max_length=MAX_LENGTH):\n",
    "    with torch.no_grad():\n",
    "        input_tensor = tensorFromSentence(input_lang, sentence)\n",
    "        input_length = input_tensor.size()[0]\n",
    "        encoder_hidden = encoder.initHidden()\n",
    "\n",
    "        encoder_outputs = torch.zeros(max_length, encoder.hidden_size, device=device)\n",
    "\n",
    "        for ei in range(input_length):\n",
    "            encoder_output, encoder_hidden = encoder(input_tensor[ei],\n",
    "                                                     encoder_hidden)\n",
    "            encoder_outputs[ei] += encoder_output[0, 0]\n",
    "\n",
    "        decoder_input = torch.tensor([[SOS_token]], device=device)  # SOS\n",
    "\n",
    "        decoder_hidden = encoder_hidden\n",
    "\n",
    "        decoded_words = []\n",
    "        decoder_attentions = torch.zeros(max_length, max_length)\n",
    "\n",
    "        for di in range(max_length):\n",
    "            decoder_output, decoder_hidden, decoder_attention = decoder(\n",
    "                decoder_input, decoder_hidden, encoder_outputs)\n",
    "            decoder_attentions[di] = decoder_attention.data\n",
    "            topv, topi = decoder_output.data.topk(1)\n",
    "            if topi.item() == EOS_token:\n",
    "                decoded_words.append('<EOS>')\n",
    "                break\n",
    "            else:\n",
    "                decoded_words.append(output_lang.index2word[topi.item()])\n",
    "\n",
    "            decoder_input = topi.squeeze().detach()\n",
    "\n",
    "        return decoded_words, decoder_attentions[:di + 1]"
   ]
  },
  {
   "cell_type": "markdown",
   "metadata": {
    "id": "0S44Obn1UUyM"
   },
   "source": [
    "Google translate API to translate English to Hindi"
   ]
  },
  {
   "cell_type": "code",
   "execution_count": null,
   "metadata": {
    "id": "ZgI-C3u2Tr4U"
   },
   "outputs": [],
   "source": [
    "!pip install googletrans\n",
    "from googletrans import Translator\n",
    "translator = Translator()"
   ]
  },
  {
   "cell_type": "code",
   "execution_count": null,
   "metadata": {
    "id": "SC1JHihoVGI8"
   },
   "outputs": [],
   "source": [
    "def evaluate_test(encoder, decoder):\n",
    "  test = []\n",
    "  with open('/content/Sanskrit-Hindi-Machine-Translation/parallel-corpus/sanskrit-hindi/test_sanskrit.sa', 'r') as f:\n",
    "    test_text = [x.replace('\\n', '') for x in f.readlines()]\n",
    "  for sa_text in test_text:\n",
    "    # print('>', pair[0])\n",
    "    # print('=', pair[1])\n",
    "    output_words, attentions = evaluate(encoder, decoder, sa_text)\n",
    "    output_sentence = ' '.join(output_words)\n",
    "    # print('<', output_sentence)\n",
    "    # print('')\n",
    "    test.append(output_sentence)\n",
    "\n",
    "  translated = []\n",
    "  # print(len(test))\n",
    "\n",
    "  for line in test:\n",
    "    ans = translator.translate(line, dest='hi')\n",
    "    translated.append(ans.text)\n",
    "\n",
    "  with open('translated_hindi.hi', 'w') as f:\n",
    "    for line in translated:\n",
    "      f.write(line + '\\n')\n",
    "\n",
    "  # calculate bleu score\n",
    "  import nltk\n",
    "  with open('/content/Sanskrit-Hindi-Machine-Translation/parallel-corpus/sanskrit-hindi/test_hindi.hi', 'r') as f: # ground truth file\n",
    "    reference = [x.replace('\\n', '') for x in f.readlines()]\n",
    "\n",
    "  with open('translated_hindi.hi', 'r') as f: # translated hindi file (our output)\n",
    "    candidate = [x.replace('\\n', '') for x in f.readlines()]\n",
    "\n",
    "  from nltk.translate.bleu_score import SmoothingFunction\n",
    "  smoothie = SmoothingFunction().method4\n",
    "\n",
    "  print(\"bleu\", nltk.translate.bleu_score.corpus_bleu(reference, candidate, smoothing_function=smoothie))"
   ]
  },
  {
   "cell_type": "code",
   "execution_count": null,
   "metadata": {
    "id": "a8UEUih0dQm3"
   },
   "outputs": [],
   "source": [
    "# defining hidden layer size and the encoder and decoder networks\n",
    "hidden_size = 256\n",
    "\n",
    "encoder1 = EncoderRNN(input_lang.n_words, hidden_size).to(device)\n",
    "attn_decoder1 = AttnDecoderRNN(hidden_size, output_lang.n_words, dropout_p=0.1).to(device)\n",
    "\n",
    "# train\n",
    "trainIters(encoder1, attn_decoder1, 75000, print_every=5000)"
   ]
  },
  {
   "cell_type": "code",
   "execution_count": null,
   "metadata": {
    "id": "o-SjwDfOaR_5"
   },
   "outputs": [],
   "source": [
    "# saving the trained models\n",
    "torch.save(encoder1.state_dict(), '/content/trained_encoder.pth')\n",
    "torch.save(attn_decoder1.state_dict(), '/content/trained_decoder.pth')"
   ]
  },
  {
   "cell_type": "code",
   "execution_count": null,
   "metadata": {
    "colab": {
     "base_uri": "https://localhost:8080/"
    },
    "id": "0zdPxS_9dQm7",
    "outputId": "efb6525f-78ac-4df6-c711-e36704eab688"
   },
   "outputs": [
    {
     "name": "stdout",
     "output_type": "stream",
     "text": [
      "bleu 0.31346914921967944\n"
     ]
    }
   ],
   "source": [
    "evaluate_test(encoder1, attn_decoder1)"
   ]
  }
 ],
 "metadata": {
  "accelerator": "GPU",
  "colab": {
   "collapsed_sections": [],
   "include_colab_link": true,
   "name": "Supervised_Neural_MT.ipynb",
   "provenance": []
  },
  "kernelspec": {
   "display_name": "Python 3 (ipykernel)",
   "language": "python",
   "name": "python3"
  },
  "language_info": {
   "codemirror_mode": {
    "name": "ipython",
    "version": 3
   },
   "file_extension": ".py",
   "mimetype": "text/x-python",
   "name": "python",
   "nbconvert_exporter": "python",
   "pygments_lexer": "ipython3",
   "version": "3.9.7"
  }
 },
 "nbformat": 4,
 "nbformat_minor": 1
}
