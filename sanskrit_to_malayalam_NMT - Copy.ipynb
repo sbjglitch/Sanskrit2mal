{
 "cells": [
  {
   "cell_type": "markdown",
   "metadata": {
    "colab_type": "text",
    "id": "view-in-github"
   },
   "source": [
    "<a href=\"https://colab.research.google.com/github/sbjglitch/Sanskrit2mal/blob/main/sanskrit_to_malayalam_NMT.ipynb\" target=\"_parent\"><img src=\"https://colab.research.google.com/assets/colab-badge.svg\" alt=\"Open In Colab\"/></a>"
   ]
  },
  {
   "cell_type": "code",
   "execution_count": 1,
   "metadata": {
    "colab": {
     "base_uri": "https://localhost:8080/"
    },
    "id": "_eAtxfQkAocK",
    "outputId": "333f6165-5c8b-4a17-8893-54cad7b2256e"
   },
   "outputs": [],
   "source": [
    "from __future__ import unicode_literals, print_function, division\n",
    "from io import open\n",
    "import unicodedata\n",
    "import string\n",
    "import re\n",
    "import random\n",
    "\n",
    "import torch\n",
    "import torch.nn as nn\n",
    "from torch import optim\n",
    "import torch.nn.functional as F\n",
    "\n",
    "import nltk\n",
    "import nltk.translate.bleu_score as bleu\n",
    "\n",
    "import math\n",
    "import numpy\n",
    "import os\n",
    "\n",
    "device = torch.device(\"cuda\" if torch.cuda.is_available() else \"cpu\")\n"
   ]
  },
  {
   "cell_type": "code",
   "execution_count": 4,
   "metadata": {
    "colab": {
     "base_uri": "https://localhost:8080/"
    },
    "id": "WyYESS_tCjRg",
    "outputId": "1c33b2b5-bcdc-418f-eb47-f3ac5c971b1d"
   },
   "outputs": [
    {
     "name": "stdout",
     "output_type": "stream",
     "text": [
      "C:\\Users\\Glitch\\Sanskrit2mal\\parallel-corpus\n",
      "18728\n",
      "18728\n"
     ]
    }
   ],
   "source": [
    "%cd C:\\Users\\Glitch\\Sanskrit2mal\\parallel-corpus\n",
    "\n",
    "mal_lines = []\n",
    "sanskrit_lines = []\n",
    "with open ('bhagavadgita_malayalam.txt','r', encoding=\"utf8\") as f:\n",
    "  mal_lines.extend([x.replace('\\n', '') for x in f.readlines()])\n",
    "\n",
    "with open ('ramayana_malayalam.txt','r', encoding=\"utf8\") as f:\n",
    "  mal_lines.extend([x.replace('\\n', '') for x in f.readlines()])\n",
    "\n",
    "with open ('bible_malayalam2.txt','r', encoding=\"utf8\") as f:\n",
    "  mal_lines.extend([x.replace('\\n', '') for x in f.readlines()])\n",
    "\n",
    "\n",
    "with open ('bible_sanskrit.txt','r',encoding=\"utf8\") as f:\n",
    "  sanskrit_lines.extend([x.replace('\\n', '') for x in f.readlines()])\n",
    "\n",
    "with open ('bhagvadgita_sanskrit.txt','r',encoding=\"utf8\") as f:\n",
    "  sanskrit_lines.extend([x.replace('\\n', '') for x in f.readlines()])\n",
    "\n",
    "with open ('ramayan_sanskrit.txt','r',encoding=\"utf8\") as f:\n",
    "  sanskrit_lines.extend([x.replace('\\n', '') for x in f.readlines()])\n",
    "\n",
    "print(len(mal_lines))\n",
    "print(len(sanskrit_lines))"
   ]
  },
  {
   "cell_type": "code",
   "execution_count": 39,
   "metadata": {
    "id": "hnhN7RILA4Uv"
   },
   "outputs": [],
   "source": [
    "import random\n",
    "c = list(zip(sanskrit_lines, mal_lines))\n",
    "#random.shuffle(c)\n",
    "\n",
    "sanskrit_lines, mal_lines = zip(*c)\n",
    "\n",
    "train_text_sa = sanskrit_lines[:18207]\n",
    "train_text_mal = mal_lines[:18207]\n",
    "\n",
    "dev_text_sa = sanskrit_lines[:701]\n",
    "dev_text_mal = mal_lines[:701]"
   ]
  },
  {
   "cell_type": "code",
   "execution_count": 40,
   "metadata": {
    "colab": {
     "base_uri": "https://localhost:8080/"
    },
    "id": "iiX6HHVFFgjx",
    "outputId": "8fc448ed-bf3b-4d6e-80e8-a11f4006c5fe"
   },
   "outputs": [
    {
     "name": "stdout",
     "output_type": "stream",
     "text": [
      "18207\n",
      "701\n",
      "18207\n",
      "701\n"
     ]
    }
   ],
   "source": [
    "print(len(train_text_mal))\n",
    "print(len(dev_text_mal))\n",
    "\n",
    "print(len(train_text_sa))\n",
    "print(len(dev_text_sa))"
   ]
  },
  {
   "cell_type": "code",
   "execution_count": 41,
   "metadata": {},
   "outputs": [
    {
     "name": "stdout",
     "output_type": "stream",
     "text": [
      "ധൃതരാഷ്ട്രര്‍ ചോദിച്ചു: സഞ്ജയ, ധ‍ര്‍മ്മ ക്ഷേത്രമായ കുരുക്ഷേത്രത്തില്‍ ഒരുമിച്ചു ചേര്‍ന്നവരും യുദ്ധം ചെയ്യാന്‍ കൊതിക്കുന്നവരുമായ എന്റെ പുത്രന്‍മാരും പാണ്ഡവന്‍മാരും എന്ത് ചെയ്തു?\n"
     ]
    }
   ],
   "source": [
    "print(dev_text_mal[0])"
   ]
  },
  {
   "cell_type": "code",
   "execution_count": 42,
   "metadata": {
    "id": "4cIEztNt2JkT"
   },
   "outputs": [],
   "source": [
    "# Start and End tokens\n",
    "SOS_token = 0\n",
    "EOS_token = 1\n",
    "\n",
    "\n",
    "class Lang:\n",
    "    def __init__(self, name):\n",
    "        self.name = name\n",
    "        self.word2index = {}\n",
    "        self.word2count = {}\n",
    "        self.index2word = {0: \"SOS\", 1: \"EOS\"}\n",
    "        self.n_words = 2  # Count SOS and EOS\n",
    "\n",
    "    def addSentence(self, sentence):\n",
    "        for word in sentence.split(' '):\n",
    "            self.addWord(word)\n",
    "\n",
    "    def addWord(self, word):\n",
    "        if word not in self.word2index:\n",
    "            self.word2index[word] = self.n_words\n",
    "            self.word2count[word] = 1\n",
    "            self.index2word[self.n_words] = word\n",
    "            self.n_words += 1\n",
    "        else:\n",
    "            self.word2count[word] += 1"
   ]
  },
  {
   "cell_type": "code",
   "execution_count": 43,
   "metadata": {
    "id": "aqXPhBxJECww"
   },
   "outputs": [],
   "source": [
    "# Reading the data and forming pairs\n",
    "def readLangs(lang1, lang2):\n",
    "    print(\"Reading lines...\")\n",
    "    \n",
    "    # Forming pairs of sentences\n",
    "    pairs = [[train_text_sa[i], train_text_mal[i]] for i in range(len(train_text_sa))]\n",
    "\n",
    "    input_lang = Lang(lang1)\n",
    "    output_lang = Lang(lang2)\n",
    "\n",
    "    return input_lang, output_lang, pairs"
   ]
  },
  {
   "cell_type": "code",
   "execution_count": 44,
   "metadata": {
    "id": "H7oqLozuEs9O"
   },
   "outputs": [],
   "source": [
    "MAX_LENGTH = 200\n",
    "\n",
    "def filterPair(p):\n",
    "    return len(p[0].split(' ')) < MAX_LENGTH and len(p[1].split(' ')) < MAX_LENGTH\n",
    "\n",
    "def filterPairs(pairs):\n",
    "    return [pair for pair in pairs if filterPair(pair)]"
   ]
  },
  {
   "cell_type": "code",
   "execution_count": 45,
   "metadata": {
    "colab": {
     "base_uri": "https://localhost:8080/"
    },
    "id": "mUFirlb3FCHg",
    "outputId": "a04b6032-15c9-46be-b4b8-16545beaf4f1",
    "scrolled": true
   },
   "outputs": [
    {
     "name": "stdout",
     "output_type": "stream",
     "text": [
      "Reading lines...\n",
      "Read 18207 sentence pairs\n",
      "Trimmed to 18207 sentence pairs\n",
      "Counting words...\n",
      "Counted words:\n",
      "sanskrit 82305\n",
      "mal 67491\n",
      "['कोटिं तत्र समुद्रे तु काञ्चनीं शतयोजनाम्। दुर्दर्शां  पारियात्रस्य गतां द्रक्ष्यथ वानराः।।', 'എന്നാൽ ഞാൻ നിങ്ങളോടു പറയുന്നു: നിങ്ങളുടെ ശത്രുക്കളെ സ്\\u200cനേഹിക്കുവിൻ, നിങ്ങളെ ശപിക്കുന്നവരെ അനുഗ്രഹിക്കുവിൻ, നിങ്ങളെ വെറുക്കുന്നവർക്ക് നന്മ ചെയ്യുവിൻ, നിങ്ങളെ ഉപദ്രവിക്കുകയും ഉപദ്രവിക്കുകയും ചെയ്യുന്നവർക്കുവേണ്ടി പ്രാർത്ഥിക്കുക.']\n"
     ]
    }
   ],
   "source": [
    "def prepareData(lang1, lang2):\n",
    "    input_lang, output_lang, pairs = readLangs(lang1, lang2)\n",
    "    print(\"Read %s sentence pairs\" % len(pairs))\n",
    "    pairs = filterPairs(pairs)\n",
    "    print(\"Trimmed to %s sentence pairs\" % len(pairs))\n",
    "    print(\"Counting words...\")\n",
    "    for pair in pairs:\n",
    "        input_lang.addSentence(pair[0])\n",
    "        output_lang.addSentence(pair[1])\n",
    "    print(\"Counted words:\")\n",
    "    print(input_lang.name, input_lang.n_words)\n",
    "    print(output_lang.name, output_lang.n_words)\n",
    "    return input_lang, output_lang, pairs\n",
    "\n",
    "\n",
    "input_lang, output_lang, pairs = prepareData('sanskrit', 'mal')\n",
    "print(random.choice(pairs)) # a random pair of parallel sentences"
   ]
  },
  {
   "cell_type": "code",
   "execution_count": 46,
   "metadata": {},
   "outputs": [
    {
     "name": "stdout",
     "output_type": "stream",
     "text": [
      "423\n"
     ]
    }
   ],
   "source": [
    "print(input_lang.word2count['तथा'])"
   ]
  },
  {
   "cell_type": "markdown",
   "metadata": {
    "id": "W4D5yYuXGWqE"
   },
   "source": [
    "# **Seq2Seq Model**\n",
    "---\n",
    "A seq2seq network is a model consisting of two RNNs called the encoder and decoder. The encoder reads an input sequence and outputs a single vector, and the decoder reads that vector to produce an output sequence."
   ]
  },
  {
   "cell_type": "markdown",
   "metadata": {
    "id": "fl5SnehsGzIQ"
   },
   "source": [
    "# **Encoder**"
   ]
  },
  {
   "cell_type": "code",
   "execution_count": 47,
   "metadata": {
    "id": "mL-HNJmgGVOH"
   },
   "outputs": [],
   "source": [
    "class EncoderRNN(nn.Module):\n",
    "    def __init__(self, input_size, hidden_size):\n",
    "        super(EncoderRNN, self).__init__()\n",
    "        self.hidden_size = hidden_size\n",
    "\n",
    "        self.embedding = nn.Embedding(input_size, hidden_size)\n",
    "        self.gru = nn.GRU(hidden_size, hidden_size)\n",
    "\n",
    "    def forward(self, input, hidden):\n",
    "        embedded = self.embedding(input).view(1, 1, -1)\n",
    "        output = embedded\n",
    "        output, hidden = self.gru(output, hidden)\n",
    "        return output, hidden\n",
    "\n",
    "    def initHidden(self):\n",
    "        return torch.zeros(1, 1, self.hidden_size, device=device)"
   ]
  },
  {
   "cell_type": "markdown",
   "metadata": {
    "id": "2W40lx8BGv5G"
   },
   "source": [
    "# **Decoder**"
   ]
  },
  {
   "cell_type": "code",
   "execution_count": 48,
   "metadata": {
    "id": "MFVMbY8bGunJ"
   },
   "outputs": [],
   "source": [
    "class AttnDecoderRNN(nn.Module):\n",
    "    def __init__(self, hidden_size, output_size, dropout_p=0.1, max_length=MAX_LENGTH):\n",
    "        super(AttnDecoderRNN, self).__init__()\n",
    "        self.hidden_size = hidden_size\n",
    "        self.output_size = output_size\n",
    "        self.dropout_p = dropout_p\n",
    "        self.max_length = max_length\n",
    "\n",
    "        self.embedding = nn.Embedding(self.output_size, self.hidden_size)\n",
    "        self.attn = nn.Linear(self.hidden_size * 2, self.max_length)\n",
    "        self.attn_combine = nn.Linear(self.hidden_size * 2, self.hidden_size)\n",
    "        self.dropout = nn.Dropout(self.dropout_p)\n",
    "        self.gru = nn.GRU(self.hidden_size, self.hidden_size)\n",
    "        self.out = nn.Linear(self.hidden_size, self.output_size)\n",
    "\n",
    "    def forward(self, input, hidden, encoder_outputs):\n",
    "        embedded = self.embedding(input).view(1, 1, -1)\n",
    "        embedded = self.dropout(embedded)\n",
    "\n",
    "        attn_weights = F.softmax(\n",
    "            self.attn(torch.cat((embedded[0], hidden[0]), 1)), dim=1)\n",
    "        attn_applied = torch.bmm(attn_weights.unsqueeze(0),\n",
    "                                 encoder_outputs.unsqueeze(0))\n",
    "\n",
    "        output = torch.cat((embedded[0], attn_applied[0]), 1)\n",
    "        output = self.attn_combine(output).unsqueeze(0)\n",
    "\n",
    "        output = F.relu(output)\n",
    "        output, hidden = self.gru(output, hidden)\n",
    "\n",
    "        output = F.log_softmax(self.out(output[0]), dim=1)\n",
    "        return output, hidden, attn_weights\n",
    "\n",
    "    def initHidden(self):\n",
    "        return torch.zeros(1, 1, self.hidden_size, device=device)"
   ]
  },
  {
   "cell_type": "markdown",
   "metadata": {
    "id": "xFugQY8QFBfV"
   },
   "source": [
    "# **Training**\n"
   ]
  },
  {
   "cell_type": "code",
   "execution_count": 49,
   "metadata": {
    "id": "OyVuYKpbHV8c"
   },
   "outputs": [],
   "source": [
    "def indexesFromSentence(lang, sentence):\n",
    "    res = []\n",
    "    for word in sentence.split(' '):\n",
    "      if word not in lang.word2index.keys():\n",
    "        res.append(list(lang.word2index.values()))    \n",
    "      else:\n",
    "        res.append(lang.word2index[word])\n",
    "    return res\n",
    "\n",
    "def tensorFromSentence(lang, sentence):\n",
    "    indexes = indexesFromSentence(lang, sentence)\n",
    "    indexes.append(EOS_token)\n",
    "    return torch.tensor(indexes, dtype=torch.long, device=device).view(-1, 1)\n",
    "\n",
    "\n",
    "def tensorsFromPair(pair):\n",
    "    input_tensor = tensorFromSentence(input_lang, pair[0])\n",
    "    target_tensor = tensorFromSentence(output_lang, pair[1])\n",
    "    return (input_tensor, target_tensor)"
   ]
  },
  {
   "cell_type": "markdown",
   "metadata": {
    "id": "zePmCpbCHioq"
   },
   "source": [
    "# **Training the model**"
   ]
  },
  {
   "cell_type": "code",
   "execution_count": 50,
   "metadata": {
    "id": "SNuZNaY_HenJ"
   },
   "outputs": [],
   "source": [
    "teacher_forcing_ratio = 0.5\n",
    "def train(input_tensor, target_tensor, encoder, decoder, encoder_optimizer, decoder_optimizer, criterion, max_length=MAX_LENGTH):\n",
    "    encoder_hidden = encoder.initHidden()\n",
    "\n",
    "    encoder_optimizer.zero_grad()\n",
    "    decoder_optimizer.zero_grad()\n",
    "\n",
    "    input_length = input_tensor.size(0)\n",
    "    target_length = target_tensor.size(0)\n",
    "\n",
    "    encoder_outputs = torch.zeros(max_length, encoder.hidden_size, device=device)\n",
    "\n",
    "    loss = 0\n",
    "\n",
    "    for ei in range(input_length):\n",
    "        encoder_output, encoder_hidden = encoder(\n",
    "            input_tensor[ei], encoder_hidden)\n",
    "        encoder_outputs[ei] = encoder_output[0, 0]\n",
    "\n",
    "    decoder_input = torch.tensor([[SOS_token]], device=device)\n",
    "\n",
    "    decoder_hidden = encoder_hidden\n",
    "\n",
    "    use_teacher_forcing = True if random.random() < teacher_forcing_ratio else False\n",
    "\n",
    "    if use_teacher_forcing:\n",
    "        for di in range(target_length):\n",
    "            decoder_output, decoder_hidden, decoder_attention = decoder(\n",
    "                decoder_input, decoder_hidden, encoder_outputs)\n",
    "            loss += criterion(decoder_output, target_tensor[di])\n",
    "            decoder_input = target_tensor[di]\n",
    "\n",
    "    else:\n",
    "        for di in range(target_length):\n",
    "            decoder_output, decoder_hidden, decoder_attention = decoder(\n",
    "                decoder_input, decoder_hidden, encoder_outputs)\n",
    "            topv, topi = decoder_output.topk(1)\n",
    "            decoder_input = topi.squeeze().detach()\n",
    "\n",
    "            loss += criterion(decoder_output, target_tensor[di])\n",
    "            if decoder_input.item() == EOS_token:\n",
    "                break\n",
    "\n",
    "    loss.backward()\n",
    "\n",
    "    encoder_optimizer.step()\n",
    "    decoder_optimizer.step()\n",
    "\n",
    "    return loss.item() / target_length"
   ]
  },
  {
   "cell_type": "code",
   "execution_count": 51,
   "metadata": {
    "id": "2g9zrFapHhyy"
   },
   "outputs": [],
   "source": [
    "# Print time elapsed and estimated time remaining given the current time and progress %.\n",
    "import time\n",
    "import math\n",
    "\n",
    "\n",
    "def asMinutes(s):\n",
    "    m = math.floor(s / 60)\n",
    "    s -= m * 60\n",
    "    return '%dm %ds' % (m, s)\n",
    "\n",
    "def timeSince(since, percent):\n",
    "    now = time.time()\n",
    "    s = now - since\n",
    "    es = s / (percent)\n",
    "    rs = es - s\n",
    "    return '%s (- %s)' % (asMinutes(s), asMinutes(rs))"
   ]
  },
  {
   "cell_type": "code",
   "execution_count": 52,
   "metadata": {
    "id": "rdtIHPiDHsAF"
   },
   "outputs": [],
   "source": [
    "# Each iteration of training\n",
    "def trainIters(encoder, decoder, n_iters, print_every=1000, plot_every=100, learning_rate=0.01):\n",
    "    start = time.time()\n",
    "    plot_losses = []\n",
    "    print_loss_total = 0  # Reset every print_every\n",
    "    plot_loss_total = 0  # Reset every plot_every\n",
    "\n",
    "    encoder_optimizer = optim.SGD(encoder.parameters(), lr=learning_rate)\n",
    "    decoder_optimizer = optim.SGD(decoder.parameters(), lr=learning_rate)\n",
    "    training_pairs = [tensorsFromPair(random.choice(pairs))\n",
    "                      for i in range(n_iters)]\n",
    "    #training_pairs = training_pairs1\n",
    "    criterion = nn.NLLLoss()\n",
    "\n",
    "    for iter in range(1, n_iters + 1):\n",
    "        training_pair = training_pairs[iter - 1]\n",
    "        input_tensor = training_pair[0]\n",
    "        target_tensor = training_pair[1]\n",
    "\n",
    "        loss = train(input_tensor, target_tensor, encoder,\n",
    "                     decoder, encoder_optimizer, decoder_optimizer, criterion)\n",
    "        print_loss_total += loss\n",
    "        plot_loss_total += loss\n",
    "\n",
    "        if iter % print_every == 0:\n",
    "            print_loss_avg = print_loss_total / print_every\n",
    "            print_loss_total = 0\n",
    "            print('%s (%d %d%%) %.4f' % (timeSince(start, iter / n_iters),\n",
    "                                         iter, iter / n_iters * 100, print_loss_avg))\n",
    "\n",
    "        if iter % plot_every == 0:\n",
    "            plot_loss_avg = plot_loss_total / plot_every\n",
    "            plot_losses.append(plot_loss_avg)\n",
    "            plot_loss_total = 0\n",
    "\n",
    "    #showPlot(plot_losses)"
   ]
  },
  {
   "cell_type": "markdown",
   "metadata": {
    "id": "zCYVcQ8DHuDX"
   },
   "source": [
    "# **Evaluation**"
   ]
  },
  {
   "cell_type": "code",
   "execution_count": 53,
   "metadata": {
    "id": "RSf-saDZHyaQ"
   },
   "outputs": [],
   "source": [
    "def evaluate(encoder, decoder, sentence, max_length=MAX_LENGTH):\n",
    "    with torch.no_grad():\n",
    "        input_tensor = tensorFromSentence(input_lang, sentence)\n",
    "        input_length = input_tensor.size()[0]\n",
    "        encoder_hidden = encoder.initHidden()\n",
    "\n",
    "        encoder_outputs = torch.zeros(max_length, encoder.hidden_size, device=device)\n",
    "\n",
    "        for ei in range(input_length):\n",
    "            encoder_output, encoder_hidden = encoder(input_tensor[ei],\n",
    "                                                     encoder_hidden)\n",
    "            encoder_outputs[ei] += encoder_output[0, 0]\n",
    "\n",
    "        decoder_input = torch.tensor([[SOS_token]], device=device)  # SOS\n",
    "\n",
    "        decoder_hidden = encoder_hidden\n",
    "\n",
    "        decoded_words = []\n",
    "        decoder_attentions = torch.zeros(max_length, max_length)\n",
    "\n",
    "        for di in range(max_length):\n",
    "            decoder_output, decoder_hidden, decoder_attention = decoder(\n",
    "                decoder_input, decoder_hidden, encoder_outputs)\n",
    "            decoder_attentions[di] = decoder_attention.data\n",
    "            topv, topi = decoder_output.data.topk(1)\n",
    "            if topi.item() == EOS_token:\n",
    "                decoded_words.append('<EOS>')\n",
    "                break\n",
    "            else:\n",
    "                decoded_words.append(output_lang.index2word[topi.item()])\n",
    "\n",
    "            decoder_input = topi.squeeze().detach()\n",
    "\n",
    "        return decoded_words, decoder_attentions[:di + 1]"
   ]
  },
  {
   "cell_type": "code",
   "execution_count": 54,
   "metadata": {
    "id": "4mQhM6JDH1Zf"
   },
   "outputs": [],
   "source": [
    "def evaluate_test(encoder, decoder):\n",
    "  test = []\n",
    "  %cd C:\\Users\\Glitch\\Sanskrit2mal\\parallel-corpus\\sanskrit-mal\n",
    "  with open('test_sanskrit.sa', 'r', encoding=\"utf8\") as f:\n",
    "    test_text = [x.replace('\\n', '') for x in f.readlines()]\n",
    "  for sa_text in test_text:\n",
    "    # print('>', pair[0])\n",
    "    # print('=', pair[1])\n",
    "    output_words, attentions = evaluate(encoder, decoder, sa_text)\n",
    "    output_sentence = ' '.join(output_words)\n",
    "    # print('<', output_sentence)\n",
    "    # print('')\n",
    "    test.append(output_sentence)\n",
    "  with open('translated_malayalam.txt', 'w', encoding=\"utf8\") as f:\n",
    "    for line in test:\n",
    "        f.write(line + '\\n')"
   ]
  },
  {
   "cell_type": "code",
   "execution_count": 55,
   "metadata": {},
   "outputs": [],
   "source": [
    "def translator(encoder, decoder):\n",
    "    test_text = 'यत्र योगेश्वरः कृष्णो यत्र पार्थो धनुर्धरः। तत्र श्रीर्विजयो भूतिर्ध्रुवा नीतिर्मतिर्मम।।'\n",
    "\n",
    "    output_words, attentions = evaluate(encoder, decoder, test_text)\n",
    "    output_sentence = ' '.join(output_words)\n",
    "    print(output_sentence)"
   ]
  },
  {
   "cell_type": "code",
   "execution_count": 56,
   "metadata": {},
   "outputs": [
    {
     "name": "stdout",
     "output_type": "stream",
     "text": [
      "C:\\Users\\Glitch\\Sanskrit2mal\\parallel-corpus\\sanskrit-mal\n"
     ]
    }
   ],
   "source": [
    " %cd C:\\Users\\Glitch\\Sanskrit2mal\\parallel-corpus\\sanskrit-mal"
   ]
  },
  {
   "cell_type": "code",
   "execution_count": null,
   "metadata": {
    "colab": {
     "base_uri": "https://localhost:8080/"
    },
    "id": "eSwIZgd1ICB6",
    "outputId": "611feb83-5766-4234-8a9f-d1b26cc4fde7"
   },
   "outputs": [
    {
     "name": "stdout",
     "output_type": "stream",
     "text": [
      "0m 51s (- 127m 49s) (500 0%) 6.1959\n",
      "1m 41s (- 125m 24s) (1000 1%) 6.7443\n",
      "2m 34s (- 125m 53s) (1500 2%) 7.2950\n",
      "3m 25s (- 125m 11s) (2000 2%) 7.1531\n",
      "4m 17s (- 124m 27s) (2500 3%) 7.1707\n",
      "5m 8s (- 123m 20s) (3000 4%) 7.2104\n",
      "6m 0s (- 122m 39s) (3500 4%) 7.1455\n",
      "6m 54s (- 122m 41s) (4000 5%) 7.2437\n",
      "7m 46s (- 121m 45s) (4500 6%) 7.0816\n",
      "8m 39s (- 121m 11s) (5000 6%) 7.2317\n",
      "9m 29s (- 120m 0s) (5500 7%) 7.0103\n",
      "10m 22s (- 119m 13s) (6000 8%) 7.1606\n",
      "11m 15s (- 118m 34s) (6500 8%) 7.1006\n",
      "12m 9s (- 118m 9s) (7000 9%) 7.1164\n",
      "13m 2s (- 117m 22s) (7500 10%) 7.1365\n",
      "13m 53s (- 116m 20s) (8000 10%) 6.8613\n",
      "14m 45s (- 115m 27s) (8500 11%) 7.0905\n",
      "15m 37s (- 114m 35s) (9000 12%) 7.0070\n",
      "16m 28s (- 113m 33s) (9500 12%) 7.1389\n",
      "17m 20s (- 112m 40s) (10000 13%) 7.0146\n",
      "18m 12s (- 111m 51s) (10500 14%) 7.1187\n",
      "19m 3s (- 110m 54s) (11000 14%) 7.0923\n",
      "19m 55s (- 110m 0s) (11500 15%) 7.1323\n",
      "20m 50s (- 109m 26s) (12000 16%) 7.1921\n",
      "21m 43s (- 108m 38s) (12500 16%) 7.1462\n",
      "22m 37s (- 107m 54s) (13000 17%) 7.2537\n",
      "23m 30s (- 107m 4s) (13500 18%) 7.0665\n",
      "24m 24s (- 106m 21s) (14000 18%) 7.3319\n",
      "25m 16s (- 105m 29s) (14500 19%) 7.1012\n",
      "26m 9s (- 104m 38s) (15000 20%) 7.3336\n",
      "27m 1s (- 103m 43s) (15500 20%) 7.0109\n",
      "27m 52s (- 102m 47s) (16000 21%) 7.0692\n",
      "28m 43s (- 101m 51s) (16500 22%) 6.8950\n",
      "29m 38s (- 101m 6s) (17000 22%) 7.0626\n",
      "30m 29s (- 100m 10s) (17500 23%) 7.0421\n",
      "31m 20s (- 99m 14s) (18000 24%) 7.0910\n",
      "32m 10s (- 98m 14s) (18500 24%) 6.9365\n",
      "33m 1s (- 97m 19s) (19000 25%) 6.8370\n",
      "33m 52s (- 96m 24s) (19500 26%) 6.8754\n",
      "34m 44s (- 95m 33s) (20000 26%) 7.0283\n",
      "35m 36s (- 94m 41s) (20500 27%) 7.2542\n",
      "36m 32s (- 93m 56s) (21000 28%) 7.0508\n",
      "37m 24s (- 93m 3s) (21500 28%) 6.9540\n",
      "38m 16s (- 92m 12s) (22000 29%) 6.9306\n",
      "39m 10s (- 91m 24s) (22500 30%) 6.9514\n",
      "40m 4s (- 90m 36s) (23000 30%) 7.1026\n",
      "40m 57s (- 89m 46s) (23500 31%) 7.0719\n",
      "41m 50s (- 88m 54s) (24000 32%) 6.8761\n",
      "42m 43s (- 88m 4s) (24500 32%) 7.0922\n",
      "43m 37s (- 87m 14s) (25000 33%) 6.8923\n",
      "44m 29s (- 86m 22s) (25500 34%) 6.8350\n",
      "45m 20s (- 85m 26s) (26000 34%) 6.6307\n",
      "46m 12s (- 84m 34s) (26500 35%) 6.8525\n",
      "47m 6s (- 83m 45s) (27000 36%) 6.6185\n",
      "47m 59s (- 82m 54s) (27500 36%) 6.5833\n",
      "48m 51s (- 82m 0s) (28000 37%) 6.8161\n",
      "49m 47s (- 81m 14s) (28500 38%) 6.7907\n",
      "50m 41s (- 80m 24s) (29000 38%) 6.8180\n",
      "51m 34s (- 79m 32s) (29500 39%) 6.6484\n",
      "52m 26s (- 78m 39s) (30000 40%) 6.6409\n",
      "53m 18s (- 77m 47s) (30500 40%) 6.6338\n",
      "54m 11s (- 76m 54s) (31000 41%) 6.7816\n",
      "55m 2s (- 76m 1s) (31500 42%) 6.8722\n",
      "55m 57s (- 75m 11s) (32000 42%) 6.8674\n",
      "56m 50s (- 74m 20s) (32500 43%) 6.8255\n",
      "57m 45s (- 73m 30s) (33000 44%) 6.7710\n",
      "58m 38s (- 72m 39s) (33500 44%) 6.5930\n"
     ]
    }
   ],
   "source": [
    "# defining hidden layer size and the encoder and decoder networks\n",
    "hidden_size = 256\n",
    "\n",
    "encoder1 = EncoderRNN(input_lang.n_words, hidden_size).to(device)\n",
    "attn_decoder1 = AttnDecoderRNN(hidden_size, output_lang.n_words, dropout_p=0.1).to(device)\n",
    "\n",
    "# train\n",
    "trainIters(encoder1, attn_decoder1, 75000, print_every=500)"
   ]
  },
  {
   "cell_type": "code",
   "execution_count": 29,
   "metadata": {
    "id": "gru3S0bsIeff"
   },
   "outputs": [
    {
     "name": "stdout",
     "output_type": "stream",
     "text": [
      "C:\\Users\\Glitch\\Sanskrit2mal\n"
     ]
    }
   ],
   "source": [
    "# saving the trained models\n",
    "%cd C:\\Users\\Glitch\\Sanskrit2mal\n",
    "torch.save(encoder1.state_dict(), 'trained_encoder.pth')\n",
    "torch.save(attn_decoder1.state_dict(), 'trained_decoder.pth')"
   ]
  },
  {
   "cell_type": "code",
   "execution_count": 30,
   "metadata": {
    "scrolled": true
   },
   "outputs": [
    {
     "name": "stdout",
     "output_type": "stream",
     "text": [
      "C:\\Users\\Glitch\\Sanskrit2mal\\parallel-corpus\\sanskrit-mal\n"
     ]
    }
   ],
   "source": [
    "evaluate_test(encoder1, attn_decoder1)"
   ]
  },
  {
   "cell_type": "code",
   "execution_count": 31,
   "metadata": {},
   "outputs": [
    {
     "name": "stdout",
     "output_type": "stream",
     "text": [
      "C:\\Users\\Glitch\\Sanskrit2mal\\parallel-corpus\\sanskrit-mal\n",
      "[['അവൻ ഞാൻ രഥം നിങ്ങളെ ഞാൻ ഈ ഈ ഞാൻ പറഞ്ഞു: ഈ നീ <EOS>\\n', 'യേശു അവനോടു: ഉത്തരം പറഞ്ഞു: യേശു പറഞ്ഞു: പറഞ്ഞു: <EOS>\\n', 'ഹേ ലക്ഷ്മണാ, ഞാൻ ഈ ഈ ഈ നീ ഈ നിന്റെ നീ <EOS>\\n', 'ഹേ ഞാൻ നീ നീ എന്നെ നീ <EOS>\\n', 'ഹേ ഭരതാ, ഞാൻ തിളങ്ങുന്ന തിളങ്ങുന്ന തിളങ്ങുന്ന തിളങ്ങുന്ന ഞാൻ ഈ <EOS>\\n', 'ശക്തനായ രാമൻ എന്റെ മകനെ ഈ ലോകത്ത് ഭരതൻ ഈ ലോകത്ത് <EOS>\\n', 'അവൻ അവനോടു: അവനോടു: നിന്റെ തന്റെ ശക്തിയും ശക്തിയും ശക്തിയും ശക്തിയും ശക്തിയും പറഞ്ഞു: <EOS>\\n', 'ഹേ രാമ, എന്റെ എന്റെ എന്റെ നിന്നെ കാണാൻ ഞാൻ നിന്നെ <EOS>\\n', 'അപ്പോൾ അവർ എന്റെ എന്റെ എന്റെ എന്റെ എന്റെ <EOS>\\n', \"'അല്ലയോ സൗമ്യനായ നിന്ന് എന്റെ സഹോദരൻ അവിടെ നിന്ന് ഞാൻ <EOS>\\n\", 'അപ്പോൾ സ്ത്രീയേ, സ്ത്രീയേ, സ്ത്രീയേ, മൂന്ന് ലോകങ്ങളെയും ഈ രണ്ട് <EOS>\\n', 'ഒരു ഒരു ഒരു പോലെ ഒരു ഒരു ഞാൻ ഒരു ഞാൻ അത് ഒരു <EOS>\\n', 'ഹേ രാമാ, എന്റെ ഈ ഈ ഈ ഈ ഈ ഈ <EOS>\\n', 'അപ്പോൾ അവനോടു: എന്റെ എന്റെ എന്റെ ഞാൻ ചെയ്തു, <EOS>\\n', 'ഹേ ബ്രാഹ്മണേ, ഹേ രാമനെ അത് അത് അത് അത് എല്ലാ വിധത്തിലും ഞാൻ സത്യം ചെയ്യുന്നു. <EOS>\\n', \"'അല്ലയോ രാവണാ, ഒരു ഭയങ്കര സഹോദരനായ ലക്ഷ്മണൻ പറഞ്ഞു: സ്വയം പറഞ്ഞു: <EOS>\\n\", 'നിന്റെ ബഹുമാന്യനായ നിന്റെ ശബ്ദം നിന്റെ ശബ്ദം നിന്റെ ശബ്ദം നിന്റെ നിന്റെ നീ നിന്റെ നീ നിന്റെ നീ നിന്റെ നീ നിന്റെ നീ നിന്റെ നീ നിന്റെ നീ നിന്റെ നീ നിന്റെ നീ നിന്റെ നീ നിന്റെ പിതാവിനെ വീണ്ടും <EOS>\\n', 'ഹേ മഹർഷി നിന്റെ പോലെ നിന്റെ നിന്റെ നിന്റെ <EOS>\\n', 'അങ്ങനെ ഞാൻ പോലെ ഞാൻ അത് അത് നിങ്ങളുടെ ഞാൻ അത് അത് അത് അത് ചെയ്യും. <EOS>\\n', 'ഹേ മകനേ, ഭരതൻ രാമനെ ഭരതൻ നിന്നെ രാമനെ എല്ലാ ദിക്കുകളിലും എല്ലാ ദിക്കുകളിലും എന്ന് പറയൂ. <EOS>\\n', 'അവർ അവനോടു: എന്റെ ഈ ഈ ഈ <EOS>\\n', \"'ഓ കുരങ്ങേ, നീ രാമനെ നീ <EOS>\\n\", 'രാജാവിനെ രാജാവിനെ രാജാവിനെ രാജാവിനെ രാജാവിനെ രാജാവിനെ രാജാവിനെ രാജാവിനെ രാജാവിനെ രാജാവിനെ രാജാവിനെ അഭിസംബോധന ചെയ്തു. <EOS>\\n', 'ഹേ മകനേ, രാജാവ് എന്റെ രാജാവ് രാജാവ് രാജാവ് <EOS>\\n', 'ആകയാൽ നിന്റെ പിതാവിന്റെ ഇഷ്ടം കൊണ്ട് സ്വന്തം ദൈവം നിന്റെ നീ <EOS>\\n', 'അപ്പോൾ രീതിയിൽ ശത്രുക്കളെ കീഴടക്കുന്ന ഈ ഭരതൻ ഈ രീതിയിൽ ഈ <EOS>\\n', \"'നിങ്ങൾ തമ്പുരാനേ, മുനി മുനി ഈ രണ്ട് അതേ ഈ രണ്ട് ഈ രണ്ട് ഈ രണ്ട് ഈ രണ്ട് ഈ രണ്ട് രഥത്തിൽ നിന്ന് പുറപ്പെടുന്ന <EOS>\\n\", 'ഹേ ഞാൻ എന്റെ ഈ ഈ ഈ ഞാൻ ഈ ഞാൻ <EOS>\\n', 'ഒരു മനുഷ്യൻ ഒരു നീ തന്റെ നീ നീ നീ അവൾ നീ <EOS>\\n', 'ഹേ ലക്ഷ്മണാ, ലക്ഷ്മണാ, ശത്രുക്കളെ രൂപവും സ്വീകരിക്കാൻ ഞാൻ ഒരു <EOS>\\n', 'അപ്പോൾ ഒരു ഉത്തമനായ ഈ അത്യധികം ഈ ഈ അത്യധികം പറഞ്ഞു: <EOS>\\n', 'നിന്റെ നിന്റെ നിന്റെ നിന്റെ നിന്റെ നിന്റെ നിന്റെ നിന്റെ നിന്റെ നിന്റെ നിന്റെ നിന്റെ നിന്റെ നിന്റെ നിന്റെ നിന്റെ നിന്റെ നിന്റെ നിന്റെ നിന്റെ നീ നിന്റെ എന്നെ <EOS>\\n', 'ദശരഥന്റെ പുത്രനായ ശക്തനായ രാമൻ, ശക്തനായ രാമൻ, <EOS>\\n', 'അതിനുശേഷം, അവർ ഉത്തരം പറഞ്ഞു: ഈ ഈ <EOS>\\n', 'ഹേ രാമാ, സ്ത്രീ, തന്റെ ആ എനിക്ക് അവൾ <EOS>\\n', \"'ഹേ ലക്ഷ്മണാ, കേട്ട ഈ ഈ ഈ ഈ രണ്ട് ഈ രണ്ട് ഈ രണ്ട് ഈ <EOS>\\n\", 'അവൻ അവന്റെ മകൻ തന്റെ തന്റെ തന്റെ അവന്റെ അവൻ അവൻ അവന്റെ <EOS>\\n', 'ശത്രുക്കളെ അരികിൽ ഈ നിന്ന് അരികിൽ നിങ്ങളെ ഈ അരികിൽ നിങ്ങളെ നിങ്ങളെ <EOS>\\n', 'അവർ തന്റെ തന്റെ തന്റെ തന്റെ തന്റെ തന്റെ അഭിസംബോധന അഭിസംബോധന അഭിസംബോധന ചെയ്തു, തന്റെ <EOS>\\n', 'അപ്പോൾ നിറഞ്ഞ ഒരു നിറഞ്ഞ നിറഞ്ഞ <EOS>\\n', 'ഹേ ലക്ഷ്മണാ, നിനക്ക് വനത്തിലേക്ക് വനത്തിലേക്ക് വനത്തിലേക്ക് വനത്തിലേക്ക് സീത നിന്റെ നിന്ന് ഒരു <EOS>\\n', 'ഇങ്ങനെ തന്റെ രാമനെ രാമനെ രാമനെ രാമനെ രാമനെ രാമനെ അവൾ അവളുടെ പറഞ്ഞു: <EOS>\\n', \"'അല്ലയോ പ്രിയപ്പെട്ട പ്രിയപ്പെട്ട പ്രിയപ്പെട്ട ഈ ഈ ഈ ഈ നിന്ന് <EOS>\\n\", 'ഹേ രഘുക്കളുടെ നിന്ന് നിന്റെ നീ ഈ നിന്ന് <EOS>\\n', 'അപ്പോൾ അവനോടു: നീ നിന്നെ നീ നിന്നെ നീ നീ നീ നിന്റെ നീ നീ നിന്റെ നീ <EOS>\\n', 'ഈ കരച്ചിൽ വിശ്വാമിത്രൻ ഈ ഈ ഈ ഈ ഈ പറഞ്ഞു: <EOS>\\n', 'ദശരഥന്റെ പുത്രനായ ഒരു ചുറ്റപ്പെട്ട ഒരു ഈ എന്ന ഒരു <EOS>\\n', 'ഒരു ഞാൻ ഒരു ഞാൻ പറഞ്ഞു: ഞാൻ ഞാൻ ഞാൻ <EOS>\\n', 'ഇങ്ങനെ അഗ്നി പോലെ അഗ്നി അഗ്നി പോലെ അഗ്നി പോലെ അഗ്നി തന്റെ പിതാവ് കൊണ്ട് അവനെ <EOS>\\n', 'ഒരു ഒരു നിന്ന് എന്റെ നിങ്ങളെ നിന്ന് ഞാൻ ഒരു ഞാൻ ഞാൻ നീ നിങ്ങളെ നിന്ന് <EOS>\\n', 'എന്റെ എന്റെ എന്റെ എന്റെ എന്റെ എന്റെ എന്റെ എന്റെ <EOS>\\n', '\"ഹേ ഞാൻ ഈ ഈ ഈ ഈ ഈ ഈ ഞാൻ <EOS>\\n', \"'ഓ രാമ, എന്റെ പേരിൽ ഭക്ഷിക്കുന്ന നിന്റെ പോലെയുള്ള കൈകേയി <EOS>\\n\", 'ഹേ മനുഷ്യരിൽ രാജാവ് രാജാവ് രാജാവ് രാമനെ അവൾ അവൾ നീ <EOS>\\n', 'അപ്പോൾ രാമൻ രാമൻ ആ രാമൻ ഈ ഈ ഈ ഈ ഈ ഈ ഈ ഒരു <EOS>\\n', 'അപ്പോൾ ഒരു ഒരു എല്ലാ എല്ലാ <EOS>\\n', \"'ഒരു അങ്ങ് (ദശരഥൻ) ഈ ലോകത്ത് എനിക്ക് ഒരു <EOS>\\n\", 'സീതയെ ഞാൻ നിന്റെ നീ ഈ നീ ഈ നീ <EOS>\\n', 'നിങ്ങൾ നിങ്ങളുടെ നിങ്ങളുടെ നിങ്ങളുടെ നിങ്ങളുടെ ഞാൻ എന്നെ ഞാൻ നിങ്ങളുടെ <EOS>\\n', 'ഹേ മകനേ, അവൾ അവൾ ഈ അവൾ പറഞ്ഞു: <EOS>\\n', 'നീതിമാനായ ഭരതൻ രാമൻ ഭരതൻ പറഞ്ഞു: <EOS>\\n', 'അങ്ങനെ എല്ലാ കാര്യങ്ങളും രാമന്റെ എല്ലാ എല്ലാ എല്ലാ എല്ലാ <EOS>\\n', 'അവിടെ ഒരു ശിഷ്യന്മാർ ഈ ലോകത്ത് ഒരു <EOS>\\n', 'ഒരു മഹത്തായ ഒരു അവൾ അവൾ അവൾ ഒരു അവൾ അവൾ അവൾ അവൾ അവൾ അവൾ ഒരു അവൾ അവൾ അവൾ ഒരു അവൾ അവൾ അവൾ അവൾ ഭൂമിയിൽ നിന്ന് അവൾ ഭൂമിയിൽ നിന്ന് അവൾ ഭൂമിയിൽ നിന്ന് അവൾ ഭൂമിയിൽ ഒരു പർവ്വതം <EOS>\\n', 'അപ്പോൾ രാമൻ രാമൻ രാമൻ രാമനെ ശേഷം രാമൻ <EOS>\\n', 'ഒരു ഒരു ഒരു നിന്ന് ഒരു ഞാൻ ഒരു ഞാൻ <EOS>\\n', 'ഹേ മകനേ, ഞാൻ ഈ ഈ ഈ ഈ ഈ ഈ ഈ ഈ ഈ <EOS>\\n', 'ഒരു ഒരു നിറഞ്ഞ ഒരു നിറഞ്ഞ രാമനെ നിറഞ്ഞ <EOS>\\n', 'സീതയെ ഹനുമാൻ സീതയെ സംരക്ഷിക്കാൻ ഈ രണ്ട് രാമനെയും ലക്ഷ്മണനെയും <EOS>\\n', 'ഒരു ഒരു ഒരു നിന്ന് ഒരു ഒരു ഒരു അഭിസംബോധന അഭിസംബോധന ചെയ്തു, <EOS>\\n', 'രാത്രി രാത്രി എന്റെ ദുഃഖം ദുഃഖം ഞാൻ കാട്ടിലേക്ക് ഞാൻ ആഗ്രഹിക്കുന്നു. <EOS>\\n', \"'ഓ ഒരു ഒരു എന്റെ ഈ ഒരു <EOS>\\n\", 'ഹേ ലക്ഷ്മണാ, ഞാൻ ദശരഥ രാജാവ് രാജാവ് രാജാവ് രാവണൻ ഞാൻ നിന്റെ നിന്റെ നീ നിന്റെ <EOS>\\n', 'ഹേ ലക്ഷ്മണാ, ഞാൻ എന്റെ ഞാൻ ഞാൻ ഞാൻ ഞാൻ ഞാൻ ഞാൻ ഞാൻ <EOS>\\n', 'യേശു അവനോടു: ഏറ്റവും യുദ്ധത്തിൽ രാമനെ നേരെ നീ എനിക്ക് എന്നെ <EOS>\\n', 'ഒരു എന്റെ എന്റെ എന്റെ എന്റെ എന്റെ ഒരു ഞാൻ ഞാൻ ഞാൻ <EOS>\\n', 'ഹേ ഞാൻ എന്റെ എന്റെ എന്റെ ഞാൻ ഞാൻ ഞാൻ ഞാൻ ഞാൻ ഞാൻ ഞാൻ <EOS>\\n', \"'ഒരു സുഹൃത്ത് ഒരു പുത്രനെ ശത്രു താൻ ഒരു പുത്രനെ നിങ്ങൾക്ക് ഒരു പുത്രനെ <EOS>\\n\", 'ഹേ ഭരതാ, ഞാൻ നിങ്ങളെ ഞാൻ അവൾ ഞാൻ അവൾ ഞാൻ <EOS>\\n', 'ഇപ്രകാരം ഇപ്രകാരം ഇപ്രകാരം പറഞ്ഞു: ഇപ്രകാരം പറഞ്ഞു: <EOS>\\n', 'ഹേ രാമ, ഏറ്റവും ഒരു ഈ രാമൻ രാമൻ ഈ <EOS>\\n', 'എല്ലാ (രാമൻ) (രാമൻ) എല്ലാ എല്ലാ <EOS>\\n', 'അതുകൊണ്ട് ഞാൻ തന്നെ ഒരു മനുഷ്യനെ ഒരു മനുഷ്യനെ ഞാൻ ഇപ്പോൾ ഈ അതുകൊണ്ട് ഞാൻ ഇപ്പോൾ ഈ രീതിയിൽ വാക്കുകൾ <EOS>\\n', \"'ഓ അവനോടു: ഒരു രാജാവ് നീ വനത്തിലേക്ക് ഞാൻ ഞാൻ ഞാൻ ഈ നീ <EOS>\\n\", 'ഒരു ഒരു ഒരു നിന്ന് ഒരു ഒരു പോലും പോലും വലിയ രാവണൻ ഞാൻ കാണുന്നില്ല. <EOS>\\n', 'ഒരു ഒരു ഞാൻ ഒരു ഞാൻ ഒരു വലിയ ഞാൻ ഒരു വലിയ ഒരു <EOS>\\n', 'ഹേ രാമാ, ഞാൻ എന്റെ ഞാൻ ഞാൻ ഞാൻ ഞാൻ ഞാൻ ഞാൻ ഞാൻ നിങ്ങളെ <EOS>\\n', '\"അല്ലയോ നീ നീ നീ നീ നീ നീ നീ നീ <EOS>\\n', 'ഒരു മനുഷ്യൻ ഒരു നിന്ന് ഒരു തന്റെ ഈ <EOS>\\n', 'ഹേ രാമ, എന്റെ നിന്ന് ഞാൻ ഈ നിന്ന് ഞാൻ <EOS>\\n', 'ഹേ രാമാ, ഒരു പർവ്വതം ഒരു പർവ്വതം ഒരു പർവ്വതം ഒരു <EOS>\\n', 'ഇങ്ങനെ ലക്ഷ്മണൻ ഇങ്ങനെ ഈ ഭരതൻ പറഞ്ഞു: <EOS>\\n', 'ഹേ ലക്ഷ്മണാ, ഞാൻ എന്നെ നിങ്ങളെ ഞാൻ എന്നെ ഞാൻ <EOS>\\n', \"'അല്ലയോ നീ നീ നീ നീ നീ നീ നീ നീ നീ നീ നിന്റെ നീ നീ നീ നീ നീ എന്നെ <EOS>\\n\", 'ദൂതന്മാർ ദൂതന്മാർ ദൂതന്മാർ ഈ ലോകത്ത് ദൂതന്മാർ മുഴുവൻ അഭിസംബോധന ചെയ്തു: <EOS>\\n', 'ഹേ ഞാൻ ആ ആ ഞാൻ ഞാൻ അവൾ ഒരു <EOS>\\n', 'ഹേ ഞാൻ ഞാൻ മകനെ ഞാൻ ഈ ഞാൻ ഈ ഞാൻ ഞാൻ <EOS>\\n', 'അവർ അവനോടു: ഉത്തരം പറഞ്ഞു: രാജാവ് അവരുടെ അവർ <EOS>\\n', 'ഈ ഈ ഈ ഈ ഈ ഈ ഈ ഈ ഈ വീണ്ടും <EOS>\\n', 'ആകയാൽ ഒരു തിളങ്ങുന്ന തിളങ്ങുന്ന തിളങ്ങുന്ന തിളങ്ങുന്ന തിളങ്ങുന്ന ഒരു <EOS>\\n', 'ഹേ രാമ, രാജാവിന്റെ എന്റെ നിന്ന് അവൾ അവൾ രാമന്റെ രാജാവിന്റെ <EOS>\\n', 'രാജാവില്ലാത്ത നാട്ടിൽ ഈ സ്ഥലം ഈ സ്ഥലം ഈ സ്ഥലം ഈ സ്ഥലം മുഴുവൻ എനിക്ക് <EOS>\\n', \"'അല്ലയോ രാമാ, നീ എപ്പോഴും നീ ഈ നീ <EOS>\\n\", 'ഒരു ഞാൻ നിങ്ങളുടെ നിങ്ങളെ ഞാൻ നിങ്ങളെ ഞാൻ നിങ്ങളെ നിങ്ങളെ <EOS>\\n', 'ഒരു ഒരു ഞാൻ ഈ ഈ ഞാൻ <EOS>\\n', 'ഹേ ലക്ഷ്മണാ, ഞാൻ ഞാൻ ഞാൻ ഞാൻ അവൾ പറഞ്ഞു: നീ <EOS>\\n', 'ഹേ ലക്ഷ്മണാ, ലക്ഷ്മണാ, എല്ലാ എല്ലാ നിറഞ്ഞ ഞാൻ എല്ലാ <EOS>\\n', 'എന്നാൽ ഞാൻ നിങ്ങളോടു പറയുന്നു: ഈ ഞാൻ <EOS>\\n', 'ശക്തനായ രാജാവ് തന്റെ ശക്തനായ രാജ്യം എന്നെ ഞാൻ ഞാൻ <EOS>\\n', 'അപ്പോൾ അവനോടു: അവനോടു: നീ ശരീരം അവർ അവനോടു: <EOS>\\n', 'അവർ ഒരു ഉത്തരം പോലെ അവന്റെ <EOS>\\n', 'ഹേ, ലക്ഷ്മണാ, എന്റെ ഈ വനത്തിലേക്ക് ഞാൻ ഈ വനത്തിലേക്ക് കാരണം ഈ കാരണം എന്നെ <EOS>\\n', 'അവരുടെ എല്ലാ അവരുടെ അവരുടെ എല്ലാ അവരുടെ അവരുടെ എല്ലാ <EOS>\\n', 'അപ്പോൾ ശക്തനായ രാജാവ് രാജാവ് തന്റെ തന്റെ പറഞ്ഞു, നീ <EOS>\\n', 'ഒരു എല്ലാ ഒരു ഞാൻ ഈ ഞാൻ <EOS>\\n', 'അങ്ങേയറ്റം രാജാവ് തന്റെ തന്റെ കൊണ്ട് ഞാൻ ഈ <EOS>\\n', '\"അല്ലയോ ഞാൻ എന്റെ എന്റെ എന്റെ എന്റെ എന്റെ എന്റെ ഞാൻ ഞാൻ ഞാൻ ഞാൻ ഞാൻ ഞാൻ എന്റെ ഞാൻ നീ <EOS>\\n', 'നിങ്ങൾ ഇത് സത്യം നിങ്ങളെ ഉപദേശകരും നിങ്ങൾ ഇത് ഇത് ഇത് ഇത് ഇത് ഇത് ഇത് ഇത് ഇത് ഇത് ഇത് ഇത് ഇത് ഇത് സത്യം ചെയ്യുന്നു. <EOS>\\n', 'ഹേ ലക്ഷ്മണാ, എന്റെ എന്റെ കർത്താവേ, നീ <EOS>\\n', 'ഹേ ഞാൻ ഞാൻ രാമനെ നീ രാമനെ നീ ഞാൻ നീ പോലും രാമനെ നീ നിന്നെ നീ <EOS>\\n', 'എന്നാൽ നിങ്ങൾ എന്റെ അടുക്കൽ ആകുന്നു; എന്നാൽ എന്റെ പിതാവിനെ പിതാവിനെ പിതാവിനെ പറഞ്ഞു: <EOS>\\n', \"'അല്ലയോ രാമ, നിനക്ക് ഒരു പറഞ്ഞു, പറഞ്ഞു, എല്ലാ <EOS>\\n\", 'ആകയാൽ എല്ലാ എന്റെ എല്ലാ എല്ലാ എല്ലാ <EOS>\\n', 'ഹേ മനുഷ്യരിൽ ഭരതൻ ഈ നിന്ന് ഈ കണ്ട് അവർ <EOS>\\n', 'ദൂതന്മാർ ദിവ്യ ദൂതന്മാർ ദൂതന്മാർ ദിവ്യ പക്ഷികൾ രാമന്റെ നേരെ ശക്തി അവൾ രാവണന്റെ ശക്തിയും ശക്തിയും ശക്തിയും ശക്തിയും ശക്തിയും ശക്തിയും ശക്തിയും ശക്തിയും ശക്തിയും ശക്തിയും ശക്തിയും ശക്തിയും ശക്തിയും ശക്തിയും ശക്തിയും ശക്തിയും ശക്തിയും ശക്തിയും ശക്തിയും ശക്തിയും ശക്തിയും ശക്തിയും ശക്തിയും ശക്തിയും ശക്തിയും ശക്തിയും ശക്തിയും ശക്തിയും ശക്തിയും ശക്തിയും ശക്തിയും ശക്തിയും ശക്തിയും ശക്തിയും ശക്തിയും ശക്തിയും ശക്തിയും ശക്തിയും ശക്തിയും ചെയ്യും. <EOS>\\n', 'അതിനുശേഷം അവനോടു: പുത്രനായ നിന്റെ മകൻ നിന്നെ നീ <EOS>\\n', 'എന്റെ ബഹുമാന്യനായ സഹോദരനെ നാടുകടത്താൻ ഉപദേശിച്ചവൻ, ഒരു വലിയ നിങ്ങളെ നിങ്ങളെ <EOS>\\n', 'ഈ ദിവസം രാമനെ രാമനെ ഈ ഈ രാമനെ ഈ ഈ ഈ ഈ <EOS>\\n', 'ഹേ രാമ, വലിയ വലിയ പോലെ തിളങ്ങുന്ന കൊണ്ട് വലിയ വലിയ <EOS>\\n', 'അപ്പോൾ ഹനുമാൻ പോലെ ഭരതൻ ഈ രാമൻ രാമൻ ഈ <EOS>\\n', 'ഹേ രാജാക്കന്മാരിൽ രാജാവ് നിന്നെ നിനക്ക് രാജാക്കന്മാരിൽ <EOS>\\n', 'അപ്പോൾ ഞാൻ രാമൻ തന്റെ അവൾ അവൾ അവൾ അവൾ <EOS>\\n', 'സുഗ്രീവന്റെ വാക്കുകൾ സുഗ്രീവന്റെ സുഗ്രീവന്റെ സുഗ്രീവന്റെ സുഗ്രീവന്റെ സുഗ്രീവന്റെ <EOS>\\n', 'അവനെ എപ്പോഴും അവനെ എപ്പോഴും അവനെ എപ്പോഴും അവനെ നോക്കി അവനെ നോക്കി അവനെ നോക്കി അവനെ <EOS>\\n', 'ഹേ അധിപനായ ഞാൻ എന്റെ അവരെ ഞാൻ ഞാൻ ഞാൻ ഞാൻ <EOS>\\n', \"'ഒരു സുഹൃത്ത് അവന്റെ സഹായത്തിന് അവന്റെ ശരീരം സഹായത്തിന് <EOS>\\n\", 'ശക്തനായ ഹനുമാൻ തന്റെ ശക്തനായ ശക്തനായ രാമനെ <EOS>\\n', 'സൂര്യൻ അധിപനായ രാമൻ ഈ രാമൻ ഈ രാമൻ ഈ ഈ ഈ <EOS>\\n', 'ഹേ രാമ, എന്റെ എന്റെ എന്റെ ഞാൻ ധർമ്മത്തിന്റെ എന്റെ എന്നെ <EOS>\\n', 'ആ വനത്തിൽ ഞാൻ ആ ആ ഞാൻ ഞാൻ ഞാൻ ഞാൻ എന്നെ ഞാൻ <EOS>\\n', 'അതിനുശേഷം, ഹനുമാൻ ഹനുമാൻ ഹനുമാൻ ഈ വാനരന്മാരുടെ അധിപനായ ഹനുമാൻ ഈ <EOS>\\n', 'ഒരു വർഷം ഒരു പുത്രനെ വലിയ പുത്രനെ ശക്തിയും ശക്തിയും ശക്തിയും കൊണ്ട് ഭൂമി കൊണ്ട് ഭൂമി മുഴുവൻ പോയി. <EOS>\\n', 'ഹേ പിതാവ് രാക്ഷസന്റെ ശേഷം രാജാവ് നിങ്ങളുടെ പിതാവ് അവൾ ശേഷം അവൾ <EOS>\\n', 'അതിനുശേഷം, വലിയ വലിയ വലിയ വലിയ വലിയ വലിയ വലിയ ആ <EOS>\\n', 'ഒരു നിറഞ്ഞ ഒരു നിറഞ്ഞ ഒരു നിറഞ്ഞ ഒരു നിറഞ്ഞ <EOS>\\n', 'അവർ അവനോടു: അവർ ഈ അവർ ഈ അവർ <EOS>\\n', 'ഒരു രാമാ, ഒരു രാജാവ് ആ കണ്ട് അവൾ പറഞ്ഞു: <EOS>\\n', 'അവർ അവനോടു: ഒരു നിന്ന് നിങ്ങളുടെ നിങ്ങളുടെ നിങ്ങളെ നിങ്ങളെ <EOS>\\n', 'അവൻ ലക്ഷ്മണാ, രാജാവ് രാജാവ് അവൻ അവരെ നിങ്ങളെ <EOS>\\n', 'ഹേ ലക്ഷ്മണാ, എന്റെ എന്റെ എന്റെ എന്റെ എന്റെ എന്റെ നീ അവൾ അവൾ നീ അവൾ ഈ രണ്ട് ഈ രണ്ട് <EOS>\\n', 'ഭരതൻ തന്റെ തന്റെ തന്റെ തന്റെ തന്റെ തന്റെ തന്റെ തന്റെ തന്റെ <EOS>\\n', 'രാജാവേ, രാജാവേ, രാമനെ രാമനെ ഞാൻ എല്ലാ രാമനെ എല്ലാ <EOS>\\n', 'ഹേ രാമ, ഈ ഈ ഈ ഈ ഈ ഈ <EOS>\\n', 'അപ്പോൾ അവനോടു: അവനോടു: നിന്ന് ഈ ഈ നിന്ന് <EOS>\\n', \"'ഈ ഒരു അടുക്കൽ അടുക്കൽ വന്നു: ഭരതൻ തന്റെ അടുക്കൽ പോലും അവൾ <EOS>\\n\", 'അവൻ മഹാനായ അവൻ പറഞ്ഞു: ഇതു <EOS>\\n', 'ഹേ രാമ, നല്ല കൂടി ഞാൻ ശരീരം കൂടി നിങ്ങൾ ഈ <EOS>\\n', 'ഹേ ഞാൻ നിങ്ങളുടെ എന്റെ നിങ്ങളുടെ നിങ്ങളുടെ ഞാൻ ഞാൻ ഞാൻ ഞാൻ ഞാൻ ഞാൻ <EOS>\\n', 'അപ്പോൾ ഒരു ഒരു എന്റെ അവൾ അവൾ ഒരു അവൾ ഒരു അവൾ അവൾ ഒരു <EOS>\\n', 'അങ്ങനെ നീ നീ നീ അത് നീ അത് നീ <EOS>\\n', 'യേശു അവനോടു: നീ പറഞ്ഞു: നീ <EOS>\\n', \"'ഓ ഒരു ഞാൻ പറഞ്ഞു: ഭരതൻ പറഞ്ഞു: പറഞ്ഞു: കാരണം എന്ന നിലയിൽ <EOS>\\n\", \"'ഓ ബഹുമാന്യനായ ആ മഹാനായ ആ ഞാൻ ഞാൻ <EOS>\\n\", \"'ഓ നീ എന്നെ നീ എന്നെ നീ നീ നീ നീ നീ നീ നീ നീ എന്നെ <EOS>\\n\", 'യേശു അവനോടു: നീ ഈ ഈ ഈ ഞങ്ങളുടെ സ്വന്തം സ്വന്തം സ്വന്തം നീ <EOS>\\n', 'നിന്റെ നിന്റെ നിന്റെ നിന്റെ നിന്റെ നീ നിന്റെ നിന്റെ നീ നിന്റെ നീ നിന്റെ നീ നിന്റെ നീ എന്നെ <EOS>\\n', 'അപ്പോൾ രാജാവേ, നിന്ന് നിങ്ങളെ നിന്ന് ഞാൻ നിങ്ങളെ ഞാൻ നിങ്ങളെ ഞാൻ <EOS>\\n', '\"ഹേ ലക്ഷ്മണാ, നിറഞ്ഞ ഈ നിറഞ്ഞ വാക്കുകൾ നിറഞ്ഞ ഈ വാക്കുകൾ പറഞ്ഞു: <EOS>\\n', 'അപ്പോൾ രാമനെ പറഞ്ഞു: ആ രാമനെ നീ <EOS>\\n', 'ഹേ നിങ്ങൾ ഉത്തരം പറഞ്ഞു: നിങ്ങൾ അത് ഈ <EOS>\\n', 'ഹേ കാട്ടിൽ പോലെ കാട്ടിൽ നിന്ന് <EOS>\\n', 'ഇപ്രകാരം പറഞ്ഞിട്ട്, ആ പർവ്വതം പോലെ, ഒരു വലിയ നേരെ വീണ്ടും വീണ്ടും <EOS>\\n', 'ഒരു വർഷം ഒരു പുത്രനെ ഒരു പുത്രനെ വലിയ ശക്തിയും ശക്തിയും ശക്തിയും ശക്തിയും ശക്തിയും ശക്തിയും ശക്തിയും ശക്തിയും ശക്തിയും അവനു ചെയ്തു. <EOS>\\n', 'അപ്പോൾ അവന്റെ പുത്രനായ ഹനുമാൻ എന്റെ <EOS>\\n', 'അതുകൊണ്ട് ഞാൻ രാത്രി എന്റെ നിന്ന് എന്ന് ഞാൻ <EOS>\\n', 'ശ്രീ ഭഗവാന്\\u200d പറഞ്ഞു: എന്റെ മകനെ ഞാൻ ഈ ഞാൻ ഞാൻ <EOS>\\n', 'ആ പോലും എന്റെ പോലും പോലും പോലും പോലും ഞാൻ <EOS>\\n', 'ഹേ ലക്ഷ്മണാ, എന്റെ എന്റെ എന്റെ എന്റെ എന്റെ എന്റെ <EOS>\\n', 'അവർ രണ്ടുപേരും ഒരു നിന്ന് അവർ അവളെ എല്ലാ <EOS>\\n', 'ഒരു ഭരതൻ പറഞ്ഞു: ഭരതൻ തന്റെ തന്റെ തന്റെ <EOS>\\n', 'അപ്പോൾ മകനെ കണ്ടു, മകനെ ഈ രണ്ട് മകനെ ഈ രണ്ട് <EOS>\\n', 'ഹേ ഭരതാ, രാജാവ് നിങ്ങളുടെ നിന്നെ നിനക്ക് ഈ വാക്കുകൾ പറഞ്ഞു: <EOS>\\n', 'സീതയെ ഒരു എന്റെ കേട്ട് ഭരതൻ മറുപടി പറഞ്ഞു: <EOS>\\n', 'ഹേ നിങ്ങളുടെ എന്റെ എന്റെ കുലീനനായ നിങ്ങളുടെ ശേഷം നിങ്ങൾക്ക് എന്റെ <EOS>\\n', 'എല്ലാ എല്ലാ കൂടി എല്ലാ കൂടി എന്ന് എന്നോട് പറയൂ. നിങ്ങളുടെ ശക്തി ഞാൻ സത്യം ചെയ്യുന്നു. <EOS>\\n', 'ഹേ ലക്ഷ്മണാ, ഞാൻ നിന്ന് രാവണൻ നീ നിന്ന് രാവണൻ നീ നിന്ന് ഞാൻ നിന്ന് <EOS>\\n', 'യേശു അവനോടു: ഉത്തരം പറഞ്ഞതു: എന്നു പറഞ്ഞു. <EOS>\\n', 'അവൻ ദിവസം ഒരു ദിവസം ദിവസം ദിവസം ദിവസം എന്ന ദിവസം <EOS>\\n', 'ഹേ ലക്ഷ്മണാ, ഞാൻ ഞാൻ ഞാൻ പേരിൽ ഞാൻ ഞാൻ ഞാൻ ഞാൻ <EOS>\\n', 'ഹേ രാമ, എന്റെ ഈ നിന്ന് ഈ ഈ നിന്ന് <EOS>\\n', 'സീതയെ രാമൻ തന്റെ ഈ രാമൻ രാമൻ ഞാൻ അത്യധികം ഞാൻ <EOS>\\n', 'നിങ്ങൾ പോയി നിങ്ങളുടെ അടുക്കൽ നിങ്ങളുടെ നിങ്ങൾ <EOS>\\n', 'ഹേ കൈകേയി, എന്റെ എന്റെ ആ രാമനെ ഞാൻ രാമനെ ഞാൻ രാമനെ <EOS>\\n', 'ഒരു വളരെ ഒരു വളരെ തന്റെ തന്റെ തന്റെ ഒരു <EOS>\\n', 'അവർ അവനോടു: നിനക്കു അവൻ അവനോടു: ഈ <EOS>\\n', 'അവളുടെ പ്രിയപ്പെട്ട അവളുടെ ഹൃദയം നിന്ന് അവളുടെ അവൾ അവളുടെ <EOS>\\n', 'പിന്നെ ഭരതൻ പറഞ്ഞു: പിന്നെ വലിയ വലിയ രാമനെ ശേഷം <EOS>\\n', 'ഹേ രാമ, എന്റെ എന്റെ ഈ <EOS>\\n', 'ഒരു ഒരു ആ രാജാവ് യുദ്ധത്തിൽ ഒരു യുദ്ധത്തിൽ ഞാൻ <EOS>\\n', 'ഹേ രാമാ, നീ ഈ ഈ ഈ നീ ഈ നീ <EOS>\\n', 'ഹേ സൌമിത്രി, രാജാവ് യുദ്ധത്തിൽ എനിക്ക് രാമന്റെ ഞങ്ങളുടെ ഞങ്ങളുടെ <EOS>\\n', 'ഹേ മനുഷ്യരിൽ ഹേ നീ ഈ ഈ നീ <EOS>\\n', 'ഹേ ഞാൻ ഞാൻ രാമനെ ഞാൻ നീ നീ നീ നീ നീ നീ നീ നീ നീ <EOS>\\n', 'ഹേ രഘുക്കളുടെ നിന്റെ മേൽ ഇവിടെ നീ നിന്റെ നീ <EOS>\\n', 'അപ്പോൾ വീരനായ ലക്ഷ്മണൻ തന്റെ തന്റെ തന്റെ തന്റെ തന്റെ <EOS>\\n', 'അപ്പോൾ അവരോടു: എന്റെ എന്റെ എന്റെ എന്റെ എന്റെ <EOS>\\n', 'ഹേ ലക്ഷ്മണാ, നീ രാമനെ നീ നീ നീ നീ നീ നീ നീ നീ <EOS>\\n', \"'അല്ലയോ എന്റെ എന്റെ എന്റെ എന്റെ അവൾ അവൾ അവൾ ഒരു <EOS>\\n\", 'രാജാവേ, രാജാവേ, എന്റെ ശരീരം ഞാൻ ഈ ഞാൻ ഞാൻ ഈ നീ <EOS>\\n', 'അവർ ഒരു എന്റെ എന്റെ അവർ <EOS>\\n', 'ശക്തനായ രാജാവ് ശക്തനായ ശക്തനായ ശക്തനായ രാമൻ, ശക്തനായ കോപത്തോടെ നിന്ന് പോലും <EOS>\\n', 'ഹേ രാമാ, മഹാനായ ആ മഹാനായ വാക്കുകൾ പറഞ്ഞു: ഈ നീ <EOS>\\n', 'ഹേ വനത്തിലേക്ക് വനത്തിലേക്ക് വനത്തിലേക്ക് വനത്തിലേക്ക് വനത്തിലേക്ക് ഞാൻ വനത്തിലേക്ക് ഞാൻ വനത്തിലേക്ക് വനത്തിലേക്ക് വനത്തിലേക്ക് ഞാൻ നീ <EOS>\\n', 'ഹേ ലക്ഷ്മണാ, എന്റെ എന്റെ എന്റെ ഞാൻ ഞാൻ ഞാൻ ഞാൻ ഞാൻ ഞാൻ നിങ്ങളെ <EOS>\\n', \"'അല്ലയോ ഹനുമാൻ ഈ ഈ ഈ ഈ ഈ നീ <EOS>\\n\", 'ഹേ നിങ്ങളുടെ എന്റെ ഭരതൻ തന്റെ എന്നെ <EOS>\\n', 'അപ്പോൾ രാജാവേ, രാമൻ ആ രാമൻ തന്റെ നിന്ന് <EOS>\\n', 'വളരെ ചോദ്യം ഒരു വലിയ വലിയ വലിയ <EOS>\\n', 'ഒരു ഒരു പുത്രൻ, ഒരു പുത്രൻ, ഈ അവന്റെ എല്ലാ അവർ <EOS>\\n', 'അപ്പോൾ തന്റെ തന്റെ തന്റെ തന്റെ തന്റെ തന്റെ തന്റെ തന്റെ തന്റെ തന്റെ പറഞ്ഞു: <EOS>\\n', 'ഹേ ഒരു <EOS>\\n', 'അങ്ങനെ ഞാൻ പോലെ നല്ല നല്ല ഞാൻ <EOS>\\n', 'അപ്പോൾ കാപ്രിസിയസ് മുമ്പ് മുമ്പ് അതേ മുമ്പ് അതേ സ്ത്രീ അതേ അതേ ചടങ്ങുകൾ <EOS>\\n', '\"ഓ മഹാനായ മഹാനായ രാജാവ് മഹാനായ കൈകേയി അവനോട് പറഞ്ഞു: <EOS>\\n', 'ഒരു ഒരു ഒരു അവൾ നിറഞ്ഞ ഒരു അവൾ അവൾ ഒരു <EOS>\\n', 'അപ്പോൾ രാമൻ എന്റെ എന്റെ എന്റെ എന്റെ നിങ്ങളുടെ നിങ്ങളുടെ നിങ്ങൾ <EOS>\\n', 'നിന്റെ പ്രിയപ്പെട്ട നിന്റെ നിന്റെ നിന്റെ നിന്റെ നിന്റെ നിന്റെ എന്നെ ഞാൻ നിന്റെ നിന്റെ നിന്റെ നിന്റെ നിന്റെ നിന്റെ എന്നെ നിന്റെ നിന്റെ നിന്റെ ഞാൻ നിന്റെ നിന്റെ നിന്റെ നിന്റെ എന്നെ ഞാൻ <EOS>\\n', 'എന്റെ പ്രിയപ്പെട്ട എന്റെ എന്റെ എന്റെ ഈ പ്രിയപ്പെട്ട പ്രിയപ്പെട്ട നീ <EOS>\\n', '\"അല്ലയോ മകനേ, ഞാൻ വനത്തിലേക്ക് ഞാൻ വനത്തിലേക്ക് ഞാൻ വനത്തിലേക്ക് ഞാൻ തന്നെ അവൾ നിന്റെ ശബ്ദം ഞാൻ <EOS>\\n', 'മനുഷ്യരിൽ ഞാൻ ഒരു ഞാൻ ഞാൻ ഞാൻ ഞാൻ ഞാൻ ഞാൻ ഞാൻ ഞാൻ <EOS>\\n', 'ഹേ രാമ, ഒരു ഈ വാക്കുകൾ <EOS>\\n', 'അപ്പോൾ അവനോടു: എന്റെ എന്റെ എനിക്ക് നിന്നെ <EOS>\\n', 'ഭൂമിയുടെ അധിപൻ രാജാവ് (ദശരഥൻ) ഈ രണ്ട് രണ്ട് വാക്കുകൾ <EOS>\\n', 'എന്റെ ഭൂമിയിൽ എന്റെ പോലെ എനിക്ക് <EOS>\\n', 'എന്റെ സ്ത്രീയേ, സ്ത്രീയേ, എന്റെ എന്റെ ഈ നിന്നെ നീ നിന്നെ നീ <EOS>\\n', 'ഹേ രാമ, നിന്ന് ഈ ഈ ഈ <EOS>\\n', 'അപ്പോൾ മരങ്ങൾ മരങ്ങൾ തന്റെ ഭയങ്കര മരങ്ങൾ മരങ്ങൾ മരങ്ങൾ കൊണ്ട് അലങ്കരിച്ച, അവർ <EOS>\\n', 'ഒരു ഒരു യുദ്ധത്തിൽ യുദ്ധത്തിൽ ഒരു നിങ്ങളുടെ നിങ്ങളുടെ ഞാൻ നിങ്ങളുടെ ഞാൻ <EOS>\\n', 'അപ്പോൾ രാജാവേ, എന്റെ പ്രിയപ്പെട്ട മകനെ ഞാൻ നിന്റെ നീ നിന്റെ നീ നിന്റെ നിന്റെ നീ നിന്റെ നീ നിന്റെ <EOS>\\n', '\"ഓ രാമൻ ഞാൻ രാമൻ രാമൻ രാമൻ ഞാൻ അവൾ മറുപടി മറുപടി പറഞ്ഞു, ഞാൻ മറുപടി പറഞ്ഞു: <EOS>\\n', 'രാജാവ് (ദശരഥൻ) അധിപനായ രാജാവ് (ദശരഥൻ) ഈ വാക്കുകൾ പറഞ്ഞു: <EOS>\\n', 'നിങ്ങൾ വനത്തിൽ എന്റെ എന്റെ നിങ്ങളെ എന്റെ നിങ്ങളെ ഞാൻ നിങ്ങളെ <EOS>\\n', 'ഓ രാജാവേ, രാമനെ ഞാൻ ഈ ഈ ഈ ഈ രണ്ട് <EOS>\\n', 'ഒരു ഒരു മറ്റൊരു നിന്ന് മറ്റൊരു അവന്റെ ഈ അവർ ഒരു <EOS>\\n', 'ഒരു വലിയ രാജാവ് രാജാവ് രാജാവ് രാജാവ് വലിയ രാജാവ് നീ <EOS>\\n', 'അവർ ഒരു ഒരു ഒരു അവർ ഒരു അവർ ഒരു അവർ ഒരു അവർ ഒരു അവർ <EOS>\\n', 'ഒരു പുത്രനായ ഒരു സ്വന്തം സ്വന്തം സ്വന്തം സ്വന്തം സ്വന്തം സ്വന്തം സ്വന്തം സ്വന്തം സ്വന്തം സ്വന്തം സ്വന്തം സ്വന്തം സ്വന്തം സ്വന്തം സ്വന്തം സ്വന്തം സ്വന്തം സ്വന്തം സ്വന്തം സ്വന്തം സ്വന്തം സ്വന്തം സ്വന്തം സ്വന്തം സ്വന്തം കൊണ്ട് പൊതിഞ്ഞ അവർ അവനെ കൊല്ലാൻ കഴിഞ്ഞില്ല. <EOS>\\n', 'ഹേ ഞാൻ ഞാൻ എന്റെ ഞാൻ ഞാൻ ഞാൻ ഞാൻ ഞാൻ ഞാൻ ഞാൻ <EOS>\\n', 'എന്റെ എന്റെ എന്റെ എന്റെ എന്റെ എന്റെ എന്റെ <EOS>\\n', 'ഹേ രാമ, നിങ്ങളുടെ എന്റെ മറ്റ് രണ്ട് നീ <EOS>\\n', 'അപ്പോൾ അവന്റെ മകൻ ആരും അവന്റെ മകൻ ചിലർ <EOS>\\n', 'ഇക്ഷ്വാകു രാജാക്കന്മാരെ രാജാക്കന്മാരെ അവരുടെ ഏക അസ്ത്രങ്ങൾ അവരുടെ ഏക അസ്ത്രങ്ങൾ <EOS>\\n', 'അപ്പോൾ എല്ലാ മരങ്ങളും പറഞ്ഞു: എല്ലാ <EOS>\\n', 'ഹേ രാമ, നീ ഈ ഈ ഈ ഈ നീ അവൾ പറഞ്ഞു: <EOS>\\n', 'ഒരു ഒരു ഒരു കൊണ്ട് ഞാൻ കൊണ്ട് ഞാൻ ഞാൻ ഞാൻ <EOS>\\n', 'നിങ്ങൾ വീരനായ രാമനെ രാമനെ അവൾ അവൾ തന്റെ തന്റെ അവൾ പറഞ്ഞു: <EOS>\\n', 'അപ്പോൾ ഒരു കൈ കൈ പോയി പോയി ഒരു പുത്രനെ ഒരു പുത്രനെ <EOS>\\n', 'ഒരു വീരനായ വീരനായ രാമൻ ഈ വാക്കുകൾ <EOS>\\n', 'രാജാവേ, രാജാവേ, ഈ രണ്ട് ഈ നിന്നെ ഈ <EOS>\\n', '\"അല്ലയോ എല്ലാ സന്തതി, സന്തതി, അവനെ നിറഞ്ഞ ഞാൻ എല്ലാ നിറഞ്ഞ നീ <EOS>\\n', 'ഹേ കൈകേയീ, നിങ്ങളുടെ നിങ്ങളുടെ നിങ്ങളുടെ നിങ്ങളുടെ നിങ്ങളുടെ ഹേ ഒരു <EOS>\\n', 'ഈ ഭയങ്കര ഭയങ്കര ഭയങ്കര ഭയങ്കര ഈ ഈ ഈ പറഞ്ഞു: <EOS>\\n', 'ആ രാമനെ രാമനെ രാമനെ രാമനെ രാമനെ രാമനെ രാമനെ രാമനെ ആ രാമനെ രാമനെ രാമനെ രാമനെ രാമനെ രാമനെ ആ രാമനെ രാമനെ <EOS>\\n', 'ഹേ ലക്ഷ്മണാ, ഞാൻ എന്റെ എനിക്ക് എനിക്ക് ഞാൻ ഞാൻ ഞാൻ ഞാൻ ഞാൻ ഞാൻ ഞാൻ <EOS>\\n', 'എന്റെ എന്റെ എന്റെ എന്റെ എന്റെ എന്റെ നീ <EOS>\\n', 'സീതയെ ഞാൻ എന്റെ രാമനെ ഈ രാമനെ എല്ലാ ഞാൻ ഈ <EOS>\\n', 'അവൻ ഒരു രാമൻ നിന്ന് രാമൻ പറഞ്ഞു: എല്ലാ <EOS>\\n', \"'അല്ലയോ ബ്രാഹ്മണേ, സ്ത്രീയേ, നീ നിങ്ങളെ നിങ്ങളെ നിങ്ങളെ നിങ്ങളെ നിങ്ങളെ <EOS>\\n\", 'ഹേ ഞാൻ ഞാൻ ആ ഞാൻ ഞാൻ ഞാൻ ഞാൻ ഞാൻ ഞാൻ ഞാൻ ആ നീ <EOS>\\n', 'അവൻ അവരെ തന്റെ തന്റെ തന്റെ തന്റെ <EOS>\\n', 'ഹേ രാമ, ഞാൻ ഭരതൻ തന്റെ ഭരതൻ തന്റെ ഞാൻ മറുപടി പറഞ്ഞു: <EOS>\\n', 'ഹേ പ്രിയപ്പെട്ട പ്രിയപ്പെട്ട പ്രിയപ്പെട്ട അവൾ അവൾ അവൾ ഒരു അവൾ അവൾ അവൾ അവൾ അവൾ അവൾ ഭൂമിയിൽ <EOS>\\n', 'അവളുടെ (ദശരഥൻ) ഈ രണ്ട് ഈ വാക്കുകൾ <EOS>\\n', 'ദേവന്മാരുടെ അധിപനായ അധിപനായ കേട്ട്, ഈ ഈ ഈ ഈ <EOS>\\n', 'ഒരു അധിപനായ എന്റെ രാമനെ ഞാൻ ഞാൻ നീ <EOS>\\n', 'അതിനുശേഷം, ഒരു ശക്തനായ ഒരു ശക്തനായ ഒരു ഒരു <EOS>\\n', 'നിങ്ങൾ ഞാൻ എന്റെ ഞാൻ ഞാൻ ഞാൻ ഞാൻ ഞാൻ ഞാൻ <EOS>\\n', 'രാജാവിന്റെ കൽപ്പനപ്രകാരം വേദങ്ങളിൽ ഭരതന് ഭരതന് <EOS>\\n', 'ഹേ ഭരതാ, നിന്റെ എന്റെ നിന്റെ ഞാൻ ഞാൻ ഞാൻ ഞാൻ <EOS>\\n', 'എന്റെ എന്റെ എന്റെ എന്റെ എന്റെ ഞാൻ ഞാൻ ഞാൻ ഞാൻ <EOS>\\n', \"'ഓ ലക്ഷ്മണാ, എന്റെ ഈ ഈ പോലും ഈ പോലും ഈ <EOS>\\n\", \"'അല്ലയോ ഞാൻ ഞാൻ ഈ അവൾ അവൾ അവൾ ഈ ഈ <EOS>\\n\", 'ഹേ രാമ, നീ ഈ ഈ ഈ നീ നീ <EOS>\\n', 'അവൻ പറഞ്ഞു: എന്റെ പറഞ്ഞു: എന്റെ പറഞ്ഞു: പറഞ്ഞു: എന്റെ പറഞ്ഞു: <EOS>\\n', 'ഹനുമാൻ ഹനുമാൻ രാമനെ ആശ്രമത്തിൽ നിന്ന് നിങ്ങളുടെ നിന്ന് പോലും നിങ്ങളെ <EOS>\\n', 'ഹേ രാമ, എന്റെ എന്റെ എന്റെ എന്റെ ഞാൻ ഈ ഞാൻ <EOS>\\n', 'ഹേ ഞാൻ നീ ഈ ഈ നീ ഈ ഈ നീ ഈ നിന്റെ നീ നീ <EOS>\\n', 'ഹേ ലക്ഷ്മണാ, എന്റെ എന്റെ എന്റെ എന്റെ എന്റെ എന്റെ <EOS>\\n', 'ഒരു ഒരു ഭരതൻ ഒരു ഭരതൻ ഒരു ഈ ഒരു <EOS>\\n', 'ശത്രുക്കളെ ശത്രുക്കളെ ശത്രുക്കളെ ശത്രുക്കളെ കീഴടക്കുന്ന ശത്രുക്കളെ കീഴടക്കുന്ന അവർ അവരെ എപ്പോഴും ആ സ്ത്രീ അവർ <EOS>\\n', 'രാജാവിന്റെ കണ്ണുനീർ നിറഞ്ഞ കണ്ണുനീർ നിറഞ്ഞ കണ്ണുനീർ നിറഞ്ഞ കണ്ണുനീർ കൊണ്ട് തൊണ്ട അത് കണ്ണുനീർ കൊണ്ട് അത് അത് അത് അത് ചെയ്യാൻ അത് നിങ്ങൾക്ക് അർഹമല്ല. <EOS>\\n', 'രാമന്റെ കൈ പോലെ രാമന്റെ കാണപ്പെട്ടു. <EOS>\\n', 'ഹനുമാൻ സീത വനത്തിലേക്ക് തിളങ്ങുന്ന ഈ തിളങ്ങുന്ന ഈ ഈ വാക്കുകൾ പറഞ്ഞു: ഈ വാക്കുകൾ പറഞ്ഞു. <EOS>\\n', 'അപ്പോൾ അവന്റെ ശിഷ്യന്മാർ അവന്റെ ശക്തിയും അവന്റെ ശക്തിയും ശക്തിയും ശക്തിയും അവന്റെ <EOS>\\n', 'ഹേ മകനേ, എന്റെ എന്റെ നിന്റെ നിന്റെ നിന്റെ <EOS>\\n', 'രാജാവ് ഇപ്രകാരം പറഞ്ഞിട്ട്, എന്റെ പിതാവിനെ ഒരു വലിയ രാമനെ നീ <EOS>\\n', 'ഹേ ലക്ഷ്മണാ, സന്തതി, സന്തതി, സന്തതി, ഈ ഈ ഈ ഈ ഈ <EOS>\\n', 'അപ്പോൾ എല്ലാ ഉത്തമനായ എല്ലാ എല്ലാ എല്ലാ എല്ലാ <EOS>\\n', 'ഹേ രാമ, എന്റെ എന്റെ ആ ഞാൻ രാമനെ നീ യുദ്ധത്തിൽ നീ <EOS>\\n', 'ഹേ രാമാ, എന്റെ എന്റെ എന്റെ ഞാൻ ഞാൻ ഞാൻ ഞാൻ നീ <EOS>\\n', 'രാവണൻ ലക്ഷ്മണൻ ലക്ഷ്മണൻ ലക്ഷ്മണൻ രാജ്ഞി ആശ്രമത്തിൽ നിന്ന് പൂക്കൾ കൊണ്ട് പൂക്കൾ കൊണ്ട് ഭൂമി മുഴുവൻ പറയൂ. <EOS>\\n', 'ഈ ഈ ഈ ഈ ഈ ഈ <EOS>\\n', 'നിങ്ങൾ നിങ്ങൾ പറയുന്നു: നിങ്ങൾ ഈ നിങ്ങൾ <EOS>\\n', 'അതുകൊണ്ട് രാജാവ് (ദശരഥൻ) ഈ ലോകത്ത് രാമനെ രാമനെ ഞാൻ രാമനെ കണ്ട് രാമനെ രാമനെ രാമനെ <EOS>\\n', 'അങ്ങനെ ഒരു ഒരു കണ്ട് അങ്ങനെ കണ്ട് അങ്ങനെ ഞാൻ കണ്ട് അങ്ങനെ ഒരു <EOS>\\n', 'എന്റെ പ്രിയപ്പെട്ട സ്ത്രീയേ, എന്റെ എന്റെ ഈ മുഴുവൻ നീ അവൾ പറഞ്ഞു. <EOS>\\n', 'ഒരു സുന്ദരിയായ ഒരു നിന്ന് ഞാൻ നീ നീ നീ നീ നീ നീ നീ നീ നീ നീ നീ നീ നീ നീ നീ നീ നീ നീ നീ നീ നീ നീ നീ നീ നീ നീ നീ നീ എന്തിനാണ് നിന്ന് നിന്നെ നീ <EOS>\\n', 'എന്നെ ഞാൻ സ്ത്രീ, സ്ത്രീ, സ്ത്രീ, സ്ത്രീ, ഞാൻ എന്നെ ഞാൻ ഞാൻ ഞാൻ നീ എന്നെ <EOS>\\n', 'അപ്പോൾ ഒരു ഞാൻ രാമനെ പറഞ്ഞു: ഞാൻ ഈ <EOS>\\n', \"'ഓ മകനേ, എന്റെ എന്റെ എന്റെ ഭരതൻ ഈ ഞാൻ ഈ <EOS>\\n\", 'ഓ രാമാ, എന്റെ ഈ ഈ ഞാൻ ഞാൻ ഞാൻ ഈ എന്നെ <EOS>\\n', 'അപ്പോൾ പ്രിയപ്പെട്ട ഞാൻ ആ ഞാൻ ഞാൻ ഞാൻ ഞാൻ ഞാൻ ഞാൻ <EOS>\\n', \"'അല്ലയോ ഹനുമാൻ ഹനുമാൻ ആ ഹനുമാൻ ഹനുമാൻ <EOS>\\n\", 'എനിക്കു എനിക്കു എനിക്കു എനിക്കു എനിക്കു എനിക്കു എനിക്കു എനിക്കു എനിക്കു എനിക്കു എനിക്കു എനിക്കു എനിക്കു എനിക്കു എനിക്കു എനിക്കു എനിക്കു എനിക്കു എനിക്കു എനിക്കു എനിക്കു എനിക്കു എനിക്കു എനിക്കു എനിക്കു എനിക്കു കൊണ്ട് അത് അത് അത് ഈ വാക്കുകൾ പറഞ്ഞു: <EOS>\\n', 'അവർ അവനോടു: ഉത്തരം പറഞ്ഞു: അവർ അവർ കൂടി അവർ ഞാൻ പറഞ്ഞു: <EOS>\\n', 'അപ്പോൾ പ്രിയപ്പെട്ട രാമൻ തന്റെ തന്റെ ഞാൻ അവൾ അവളുടെ അവൾ അവളുടെ അവളുടെ അവൾ അവളുടെ <EOS>\\n', 'അതിനുശേഷം, ഒരു മികച്ച പോലെ ചുവന്ന പോലെയുള്ള അതിന്റെ ചുറ്റും കൊണ്ട് മറുപടി <EOS>\\n', 'ഒരു ഒരു നിന്ന് നാടുകടത്താൻ ഉപദേശിച്ചവൻ, ഒരു അവിടെ ഒരു <EOS>\\n', 'അപ്പോൾ രാമനെ രാമനെ ഭരതൻ തന്റെ തന്റെ രാമനെ എന്നെ <EOS>\\n', 'എന്റെ പിതാവിന്റെ എന്റെ എന്റെ എന്റെ എന്റെ രാമനെ എന്റെ <EOS>\\n', 'അതിനുശേഷം ലക്ഷ്മണാ, കേട്ട നാടുകടത്താൻ ഉപദേശിച്ചവൻ, ധരിച്ച്, അവർ ആരുടെ തുടങ്ങിയ അവനെ കണ്ടപ്പോൾ അവർ അവനെ കണ്ടപ്പോൾ അവർ അവനെ പിന്തുടർന്നു. <EOS>\\n', '\"ഓ രാമാ, എന്റെ എന്റെ എന്റെ നിന്റെ എന്റെ നിങ്ങളെ നിന്റെ നീ എന്റെ <EOS>\\n', 'ശത്രുക്കളെ എല്ലാ ഋഷിമാരും ഈ എല്ലാ ഞങ്ങളുടെ ഞങ്ങളുടെ <EOS>\\n', 'ഒരു ഒരു ഒരു ഒരു ഞാൻ ഒരു ഞാൻ അത് അത് ഒരു <EOS>\\n', 'എന്റെ ബഹുമാന്യനായ സഹോദരനെ നാടുകടത്താൻ ഉപദേശിച്ചവൻ, ഉപദേശിച്ചവൻ, എന്റെ ബഹുമാന്യനായ നാടുകടത്താൻ ഉപദേശിച്ചവൻ എന്റെ പിതാവ് എന്റെ <EOS>\\n', \"'ഒരു സുഹൃത്ത് പുത്രനായ ഹനുമാൻ എന്റെ ശത്രു ശരീരം <EOS>\\n\", 'ഹേ ലക്ഷ്മണാ, ഈ ഈ ഈ ഈ ഈ ഈ ഈ ഈ <EOS>\\n', 'ഹേ ലക്ഷ്മണാ, എന്റെ എന്റെ എന്റെ എന്റെ ഞാൻ ഞാൻ ഞാൻ എന്റെ എന്റെ <EOS>\\n', 'ഹേ രാമ, തന്റെ ഈ ഈ ഈ ഈ ഞാൻ ഈ ഞാൻ ഈ <EOS>\\n', 'ബഹുമാന്യനായ ആ സഹോദരനെ നാടുകടത്താൻ ഈ ശബ്ദം നിന്നും <EOS>\\n', 'ഈ ഞാൻ ഈ ഈ ഈ ഈ ഈ ഈ ഈ ഈ ഈ <EOS>\\n', 'ഹേ ബഹുമാന്യനായ നിങ്ങളുടെ എന്റെ ഭരതൻ എന്റെ നിങ്ങൾ <EOS>\\n', 'എന്റെ എന്റെ എന്റെ എന്റെ എന്റെ എന്റെ എന്റെ എന്റെ എന്റെ എന്റെ എന്റെ <EOS>\\n', 'ഹേ ഗുഹാ, ഈ ഈ ഈ രീതിയിൽ ഈ രീതിയിൽ ഈ രീതിയിൽ ഈ രീതിയിൽ <EOS>\\n', 'ഹേ രാമ, ഈ ഈ ഈ ഈ ഈ <EOS>\\n', 'ഇപ്രകാരം പറഞ്ഞിട്ട്, ആ സഹോദരനെ നാടുകടത്താൻ ഉപദേശിച്ചവൻ, ഉപദേശിച്ചവൻ, നമുക്ക് ഈ രണ്ട് ആ നിന്ന് <EOS>\\n', 'ഹേ രഘുക്കളുടെ ഞാൻ നിന്റെ ഒരു ഞാൻ ഞാൻ ഞാൻ ഞാൻ ഞാൻ <EOS>\\n', 'ശത്രുക്കളെ (രാമൻ) സഹോദരനെ നാടുകടത്താൻ ഉപദേശിച്ചവൻ പാപം നിങ്ങളുടെ സഹോദരനെ നാടുകടത്താൻ ഉപദേശിച്ചവൻ പാപം നേടട്ടെ. <EOS>\\n', 'എന്റെ ബഹുമാന്യനായ സഹോദരനെ നാടുകടത്താൻ നാടുകടത്താൻ ഉപദേശിച്ചവൻ, കൊണ്ട് എന്റെ ബഹുമാന്യനായ സഹോദരനെ നാടുകടത്താൻ ഉപദേശിച്ചവൻ <EOS>\\n', 'എല്ലാ അവന്റെ നല്ല എല്ലാ അവന്റെ നല്ല അവൻ എല്ലാ <EOS>\\n', \"'ഓ ലക്ഷ്മണാ, എന്റെ നിന്ന് നാടുകടത്താൻ ഉപദേശിച്ചവൻ, പോലെ എനിക്ക് നിറഞ്ഞ ഈ നിന്ന് എന്റെ <EOS>\\n\", 'ഹേ മഹർഷി രാജാവ് എന്റെ രാമനെ രാമനെ എല്ലാ രാമനെ എല്ലാ <EOS>\\n', 'അപ്പോൾ ഭരതൻ ഭരതൻ തന്റെ ഭരതൻ തന്റെ വിശ്വാമിത്രൻ മറുപടി പറഞ്ഞു: <EOS>\\n', '\"ഹേ ഞാൻ ഞാൻ എന്റെ ഞാൻ ഞാൻ ഞാൻ ഞാൻ ഞാൻ ഞാൻ ഞാൻ <EOS>\\n', 'ശത്രുക്കളെ കീഴടക്കുന്ന ഹനുമാൻ തന്റെ തന്റെ തന്റെ <EOS>\\n', 'എന്റെ ബഹുമാന്യനായ സഹോദരനെ നാടുകടത്താൻ ഉപദേശിച്ചവൻ, ഉപദേശിച്ചവൻ, കഴിയുന്ന ബഹുമാന്യനായ സഹോദരനെ നാടുകടത്താൻ ഉപദേശിച്ചവൻ, എനിക്ക് തോന്നുന്നു. <EOS>\\n', 'എല്ലാ എല്ലാ ലോകങ്ങളുടെയും എന്റെ എല്ലാ എല്ലാ എല്ലാ എല്ലാ <EOS>\\n', 'ഹേ രാമ, ശക്തനായ അങ്ങയുടെ ശക്തനായ രാജാവേ, അങ്ങയുടെ അങ്ങയുടെ എല്ലാ ഹേ <EOS>\\n', 'കർത്താവേ, ഞാൻ എന്റെ എന്റെ എന്റെ എന്റെ ഞാൻ ഞാൻ ഞാൻ <EOS>\\n', 'ഹേ ഞാൻ ഞാൻ എന്റെ ഞാൻ ഞാൻ ഞാൻ ഞാൻ ഞാൻ ഞാൻ ഞാൻ ഞാൻ ഞാൻ <EOS>\\n', 'രാജാവേ, രാമനെ അഭിസംബോധന രാമനെ രാമനെ ഞാൻ അഭിസംബോധന അഭിസംബോധന പറഞ്ഞു: <EOS>\\n', 'ദുഃഖത്താൽ ദുഃഖത്താൽ ലക്ഷ്മണൻ മുനി മുനി മുനി മുനി മുനി മുനി മുനി മുനി കണ്ടു. <EOS>\\n', 'ഒരു വർഷം ഒരു നിന്ന് ഈ ഈ ഈ ഈ പറഞ്ഞു: <EOS>\\n', 'മഹാനായ രാമൻ പറഞ്ഞു: <EOS>\\n', 'നിങ്ങൾ ഞാൻ രാമനെ അടുക്കൽ ഞാൻ രാമനെ രാമനെ രാമനെ നീ <EOS>\\n', 'അവർ അവനോടു: എന്റെ തന്റെ തന്റെ ഈ തന്റെ രാമനെ <EOS>\\n', 'അപ്പോൾ രാജാവേ, നിനക്ക് ഈ നിങ്ങൾ നിനക്ക് നിനക്ക് നിങ്ങൾ ഈ നിങ്ങൾ നിങ്ങൾ എന്താണ് നിനക്ക് ചെയ്യും. <EOS>\\n', 'ഒരു ഒരു രാജാവ് രാജാവ് രാജാവ് ധർമ്മത്തിന്റെ രാജാവ് എല്ലാ മറുപടി പറഞ്ഞു: <EOS>\\n', 'ഹേ ഞാൻ ഞാൻ നിങ്ങളെ വനത്തിലേക്ക് നിങ്ങളെ നിങ്ങളെ വനത്തിലേക്ക് ഞാൻ നിങ്ങളെ <EOS>\\n', 'ആ ആ ആ സമ്പത്ത് ആ സമ്പത്ത് ആ ആ <EOS>\\n', 'ഹേ രഘുക്കളുടെ നിന്ന് നിന്നെ എല്ലാ അവർ നിന്ന് എല്ലാ അവർ <EOS>\\n', 'ഹനുമാൻ ഹനുമാൻ തന്റെ ഹനുമാൻ കേട്ട് ഹനുമാൻ തന്റെ <EOS>\\n', \"'അല്ലയോ പ്രിയേ, എന്റെ ഒരു എന്റെ ഈ എന്ന ഒരു ഞാൻ <EOS>\\n\", 'യേശു പറഞ്ഞു: കൂടി കൂടി കൂടി <EOS>\\n', 'അതിനുശേഷം, ഒരു രാജാവിന്റെ രാജാവിന്റെ രാജാവിന്റെ ഒരു രാജാവിന്റെ ഉയർത്തി, ഒരു രണ്ട് ഉയർത്തി, രാമന്റെ രാജാവിന്റെ നിന്ന് ഉയർത്തി, നിറഞ്ഞ ഒരു രണ്ട് പോലെ അത് ഒരു പുത്രനെ നീ പ്രാപിക്കും. <EOS>\\n', 'അപ്പോൾ ഞാൻ എന്റെ എന്റെ എന്റെ ഞാൻ ഞാൻ ഞാൻ പറഞ്ഞു: <EOS>\\n', 'ഇപ്രകാരം ഇപ്രകാരം പറഞ്ഞു: അങ്ങനെ തന്റെ തന്റെ തന്റെ തന്റെ തന്റെ <EOS>\\n', 'യേശു അവനോടു: മുന്നിൽ യേശു അവനോടു: എനിക്ക് <EOS>\\n', 'ശക്തനായ രാജാവ് ആ നിന്ന് രാമനെ രാമനെ <EOS>\\n', 'രാജാവിന്റെ കൽപ്പനപ്രകാരം ഭരതന് എല്ലാ <EOS>\\n', \"'ഓ പ്രിയപ്പെട്ട ഒരു ആ വിശ്വാമിത്രൻ നീ നിന്നെ <EOS>\\n\", 'ശത്രുക്കളെ (ദശരഥൻ) പറഞ്ഞു: ഈ വനത്തിൽ കൊണ്ട് രാമനെ ഈ <EOS>\\n', 'നിങ്ങൾ നിങ്ങൾ അവന്റെ ഒരു നിങ്ങൾ നിന്റെ നിങ്ങൾ നിങ്ങൾ നിന്റെ <EOS>\\n', 'അപ്പോൾ (രാമൻ) സ്വർണ്ണം കൊണ്ട് അലങ്കരിച്ച വലിയ മേഘം പോലെ തിളങ്ങുന്ന കൊണ്ട് ചുവന്ന നിറമുള്ള <EOS>\\n', 'അപ്പോൾ അവർ പറഞ്ഞു: എല്ലാ തന്റെ ഈ പറഞ്ഞു: എല്ലാ <EOS>\\n', 'ഹേ രാമ, ഞാൻ ദശരഥന്റെ ഈ <EOS>\\n', 'ഹേ രാമ, എന്റെ എന്റെ ആ ഞാൻ ഞാൻ ഞാൻ ഞാൻ ഞാൻ <EOS>\\n', '\"ഹേ ശത്രുക്കളെ നിങ്ങളുടെ ഈ ഈ രീതിയിൽ ഈ <EOS>\\n', '\"ഓ ഞാൻ പറഞ്ഞു: ഞാൻ തന്റെ ഈ ഞാൻ ഞാൻ ഞാൻ പറഞ്ഞു: <EOS>\\n', \"'ഓ രാമ, തന്റെ തന്റെ തന്റെ തന്റെ തന്റെ തന്റെ തന്റെ <EOS>\\n\", 'ആ രാത്രി സ്ത്രീയേ, എന്റെ പിതാവിനെ ശബ്ദം ആ രാത്രി <EOS>\\n', \"'എന്റെ എല്ലാ പറഞ്ഞു: എല്ലാ എല്ലാ <EOS>\\n\", 'ആ രാത്രി എന്റെ ആ ഞാൻ ഞാൻ ഞാൻ ഞാൻ ഞാൻ ഞാൻ <EOS>\\n', 'ഹേ ഭരതാ, നിങ്ങൾ ഈ ഈ ഈ ഈ <EOS>\\n', 'എല്ലാ ദേവന്മാരും ശേഷം അവൾ പറഞ്ഞു: <EOS>\\n', 'ഒരു ഞാൻ തന്റെ ഈ ഈ ഈ ഞാൻ ഈ ഞാൻ <EOS>\\n', 'നിങ്ങളുടെ നിങ്ങളുടെ നിങ്ങളുടെ നിങ്ങളുടെ നിങ്ങളുടെ നിങ്ങളുടെ നിങ്ങളുടെ ഞാൻ നിങ്ങളുടെ നീ നിന്ന് അങ്ങനെ നീ <EOS>\\n', 'എന്തെന്നാൽ, ഒരു നീ ഈ ഈ ഈ <EOS>\\n', \"'അല്ലയോ ലക്ഷ്മണാ, എന്റെ എന്റെ എന്റെ ഒരു ഞാൻ ഈ ഞാൻ ഈ നിന്റെ ഞാൻ <EOS>\\n\", 'ഹേ രാമ, നിങ്ങളുടെ ഒരു നിങ്ങളുടെ നിങ്ങളുടെ നിങ്ങളുടെ നിങ്ങളുടെ <EOS>\\n', 'രണ്ട് രണ്ട് വിലാപങ്ങൾ വിലാപങ്ങൾ ഈ രണ്ട് <EOS>\\n', '<EOS>\\n', 'അപ്പോൾ അവനോടു: നിന്ന് നിന്ന് നിറഞ്ഞ അവൻ <EOS>\\n', 'എല്ലാ ജീവജാലങ്ങളുടെയും മുനി മുനി എല്ലാ ദേവന്മാരും എന്റെ പിതാവ് <EOS>\\n', 'അതിനുശേഷം, പുത്രനായ പുത്രനായ ഹനുമാൻ, ഈ എന്ന എന്ന <EOS>\\n', 'ഹേ ലക്ഷ്മണാ, ലക്ഷ്മണാ, ഞാൻ ഞാൻ ഞാൻ ഞാൻ ഞാൻ ഞാൻ ഈ ഞാൻ <EOS>\\n', 'ഹേ ഞാൻ എന്റെ നിന്ന് ഞാൻ ഞാൻ ഞാൻ ഞാൻ ഞാൻ ഞാൻ ഞാൻ ഞാൻ <EOS>\\n', '\"ഓ അവനോടു: സ്ത്രീയേ, നീ എല്ലാ ഞങ്ങളുടെ <EOS>\\n', 'ഹേ ലക്ഷ്മണാ, പറഞ്ഞു: ഞാൻ പറഞ്ഞു: പറഞ്ഞു: ഞാൻ പറഞ്ഞു: പറഞ്ഞു: പറഞ്ഞു: പറഞ്ഞു: പറഞ്ഞു: എല്ലാ പറഞ്ഞു: <EOS>\\n', 'അപ്പോൾ തന്റെ ഏറ്റവും തന്റെ തന്റെ <EOS>\\n', 'ലക്ഷ്മണൻ ലക്ഷ്മണൻ രാമനെ രാമനെ രാമനെ രാമനെ രാമനെ രാമനെ രാമനെ രാമനെ രാമനെ രാമനെ രാമനെ രാമനെ രാമനെ രാമനെ രാമനെ രാമനെ രാമനെ നോക്കി പറഞ്ഞു: <EOS>\\n', 'സീതയെ ഞാൻ ഈ ഈ ഈ ഈ ഈ <EOS>\\n', 'അപ്പോൾ രാവണന്റെ പുത്രനായ ഭരതൻ ഭരതൻ മറുപടി പറഞ്ഞു: <EOS>\\n', 'അവർ ആദ്യം അവർ തങ്ങളുടെ അടുക്കൽ അവർ തങ്ങളുടെ അവർ <EOS>\\n', 'ഒരു ഒരു ഒരു അവന്റെ അവന്റെ <EOS>\\n', 'ഹേ വനത്തിൽ രാമനെ ഈ ഈ ഈ ഈ ഈ ഈ ഈ വീണ്ടും വീണ്ടും വീണ്ടും വീണ്ടും വീണ്ടും <EOS>\\n', 'എല്ലാ രാമനെ നിന്നും എല്ലാ നിന്നും എല്ലാ <EOS>\\n', 'ശക്തനായ വാക്കുകൾ കേട്ട്, രാവണൻ തന്റെ തന്റെ തന്റെ തന്റെ <EOS>\\n', 'എങ്കിലും നിന്ന് അവൾ അവൾ ഒരു അവൾ അവൾ ഒരു <EOS>\\n', 'ഇങ്ങനെ ഇങ്ങനെ രാമന്റെ ആശ്രമത്തിൽ കൊണ്ട് ഈ നഗരം <EOS>\\n', 'അവളുടെ അവളുടെ അവളുടെ അവളുടെ അവളുടെ അവളുടെ അവളുടെ അവളുടെ അവളുടെ അവൾ അവളുടെ അവളുടെ അവളുടെ ജീവിതം <EOS>\\n', 'അപ്പോൾ എല്ലാ ഏകദേശം എല്ലാ എല്ലാ എല്ലാ <EOS>\\n', 'ഇപ്രകാരം അഭിസംബോധന ഇപ്രകാരം പറഞ്ഞു: എല്ലാ തന്റെ <EOS>\\n', 'ഹനുമാൻ പോലും എന്റെ പിതാവിന്റെ നിങ്ങളെ ഞാൻ ഞാൻ നിങ്ങളെ <EOS>\\n', \"'ജീവികൾ അവയുടെ ഈ ഈ ഈ വാക്കുകൾ പറഞ്ഞു: <EOS>\\n\", '\"ഹേ ലക്ഷ്മണാ, എന്റെ രാജാവ് തന്റെ തന്റെ ഞാൻ <EOS>\\n', 'അവൻ (രാമൻ) മഹാനായ രാമൻ നീ രാമനെ നീ നീ നീ നീ നീ നീ നീ നീ നീ നീ നീ നീ നീ <EOS>\\n', 'ഹേ രാമ, നീ നിന്ന് നീ നീ <EOS>\\n', 'അവർ അവനോടു: രാമനെ കാണാൻ ഞാൻ <EOS>\\n', 'നീതിമാനായ രാജാവ് എന്നെ അമ്മയെ ഞാൻ എന്ന എന്നെ ഞാൻ <EOS>\\n', 'ഒരു വംശത്തിലെ ഒരു രാജാവ് ഈ രണ്ട് ഒരു <EOS>\\n', 'നിന്റെ വാക്കുകൾ നിന്റെ നിന്റെ നിന്റെ നീ നിന്റെ നിന്റെ നീ നിന്റെ നിന്റെ നിന്റെ നീ നിന്റെ നിന്റെ നീ <EOS>\\n', 'നമ്മുടെ ഒരു എന്റെ എന്റെ ഈ ഞാൻ നമ്മുടെ <EOS>\\n', 'രാജാവിന്റെ കൽപ്പനപ്രകാരം മറ്റ് സ്ത്രീകളും ഈ വാക്കുകൾ ഈ ഈ വാക്കുകൾ <EOS>\\n', 'ഭൂമിയുടെ അധിപനായ ഒരു നിന്ന് ഈ നിന്ന് പറഞ്ഞു: ഈ നിന്ന് <EOS>\\n', 'ദശരഥൻ പുത്രനായ പുത്രനായ പുത്രനായ രാമൻ തന്റെ പുത്രനായ പുത്രനായ പുത്രനായ പുത്രനായ രാമൻ തന്റെ <EOS>\\n', 'അവൻ ഗലീലിയിൽ അവൻ തന്റെ അവൻ <EOS>\\n', 'ഹേ ഭരതാ, നിങ്ങളുടെ നിങ്ങളുടെ നിങ്ങളുടെ ഈ നിന്ന് എല്ലാ ഞാൻ ഞാൻ <EOS>\\n', 'സീതയെ ഞാൻ രാവണൻ ഞാൻ സീതയെ ഞാൻ ഈ എന്നെ ഈ എന്നെ <EOS>\\n', 'അവർ രാജാവ് രാജാവ് തന്റെ അവർ അവർ അവർ അവർ <EOS>\\n', 'ഹേ രാമ, ശത്രുക്കളെ അസ്ത്രങ്ങൾ നീ നിന്റെ അത്ഭുതകരമായ അത്ഭുതകരമായ <EOS>\\n', 'നമ്മുടെ വാക്കുകൾ പറഞ്ഞു: വീണ്ടും പറഞ്ഞു, പറഞ്ഞു, <EOS>\\n', 'ഹേ ലക്ഷ്മണാ, എന്റെ എന്റെ അസ്ത്രങ്ങൾ അസ്ത്രങ്ങൾ അസ്ത്രങ്ങൾ അസ്ത്രങ്ങൾ സീത ഈ രണ്ട് ഈ രണ്ട് ഈ രണ്ട് ഈ രണ്ട് രാജകുമാരന്മാരും പറഞ്ഞു: <EOS>\\n', '\"അല്ലയോ ഞാൻ രാമനെ രാമനെ രാമനെ രാമനെ രാമനെ രാമനെ രാമനെ രാമനെ ഈ രാമനെ നീ എനിക്ക് ഈ <EOS>\\n', \"'അല്ലയോ ആ എന്റെ ആ വാലി ആ അവരെ പോലും <EOS>\\n\", 'ഞാൻ ഞാൻ ഞാൻ എന്റെ ഞാൻ ഞാൻ ഞാൻ ഞാൻ ഞാൻ ഞാൻ ഞാൻ ഞാൻ ഞാൻ ഞാൻ <EOS>\\n', '\"ഹേ ഒരു എന്റെ എന്റെ ഒരു ഒരു ഞാൻ <EOS>\\n', 'അവൻ തന്റെ അവൻ തന്റെ അവൻ അവൻ അവൻ അവൻ <EOS>\\n', 'രാജാവിന്റെ മൂത്ത ആഗ്രഹം ആഗ്രഹം ആഗ്രഹം ആഗ്രഹം ആഗ്രഹം ആഗ്രഹം ആഗ്രഹം ആഗ്രഹം ആഗ്രഹം ആഗ്രഹം ആഗ്രഹം ആഗ്രഹം ആഗ്രഹം കൊണ്ട് ഈ രണ്ട് രാജകുമാരന്മാരും ഈ രണ്ട് ഈ വാക്കുകൾ പറഞ്ഞു: <EOS>\\n', 'ഹേ ലക്ഷ്മണാ, നിറഞ്ഞ നിറഞ്ഞ ഈ നിറഞ്ഞ ഈ നിറഞ്ഞ ഈ <EOS>\\n', 'ഹേ രാമ, നീ ഈ നീ ഈ നീ <EOS>\\n', \"'ഓ കുരങ്ങേ, നിന്റെ നിങ്ങളെ നിങ്ങളെ നിങ്ങളെ നിങ്ങളെ <EOS>\\n\", 'ഒരു രണ്ട് ആ രാമൻ രാമനെ ആ നിന്നും ഞാൻ <EOS>\\n', 'അവൻ ഒരു ഞാൻ രാമൻ ഞാൻ അവൻ <EOS>\\n', 'അവരുടെ കൈ കൈ ഈ വാക്കുകൾ പറഞ്ഞു: ഈ ഈ വാക്കുകൾ പറഞ്ഞു. <EOS>\\n', '\"ഓ വീരനായ സന്തതി, ഞാൻ നിങ്ങളെ നിന്ന് ഞാൻ ഞാൻ ഞാൻ ഞാൻ അവൾ നിങ്ങളെ <EOS>\\n', 'അവർ അവർ എപ്പോഴും അവർ അവർ അവർ അവർ അവർ അവർ <EOS>\\n', '\"ഓ രാമാ, ചിലർ രാജാവ് തന്റെ ചിലർ <EOS>\\n', 'മനുഷ്യരിൽ ഏറ്റവും രാമന്റെ രാജാവ് ഈ രാജാവ് ഈ ഈ <EOS>\\n', 'ആ ഹനുമാൻ ആ ഈ ഈ രീതിയിൽ <EOS>\\n', 'ഒരു ഒരു ഒരു അവൾ ഒരു അവൾ പറഞ്ഞു: അവൾ ഒരു <EOS>\\n', 'ഹേ ഞാൻ നിങ്ങളുടെ തന്റെ അവൾ അവൾ അവൾ അവൾ അവൾ അവൾ മുഴുവൻ മുഴുവൻ ഞാൻ <EOS>\\n', \"'ഓ പ്രിയപ്പെട്ട ലക്ഷ്മണൻ അവരുടെ ഈ നിന്ന് <EOS>\\n\", 'എന്നാൽ നിങ്ങൾ തന്റെ തന്റെ തന്റെ ഈ <EOS>\\n', 'സീതയെ ഞാൻ ഒരു ഞാൻ ഈ ഞാൻ ഞാൻ <EOS>\\n', 'സീതയെ ഞാൻ മഹാനായ രാമൻ, മഹാനായ ഞാൻ നിന്റെ ഞാൻ <EOS>\\n', '\"അല്ലയോ ഞാൻ ഒരു പോലെ ഒരു നിറഞ്ഞ ഒരു <EOS>\\n', 'ഒരു ഒരു ഞാൻ പോലെ ഞാൻ ഞാൻ ഞാൻ ഞാൻ <EOS>\\n', 'രാജാവിന്റെ മൂത്ത ആഗ്രഹം നിന്ന് രാജാവിന്റെ ആഗ്രഹം ആഗ്രഹം ആഗ്രഹം ആഗ്രഹം ആഗ്രഹം ആഗ്രഹം ആഗ്രഹം അടിച്ചു. <EOS>\\n', 'അപ്പോൾ ശത്രുക്കളെ ഞാൻ പല നിങ്ങളെ എപ്പോഴും നിങ്ങളുടെ <EOS>\\n', 'ഞാൻ ഞാൻ എന്റെ ഞാൻ ഞാൻ ഞാൻ ഞാൻ ഞാൻ ഞാൻ <EOS>\\n', 'ഹേ രാമ, രാജാവിന്റെ രാജാവിന്റെ ഞാൻ ഞാൻ ഞാൻ ഞാൻ ഞാൻ ഞാൻ ഞാൻ എന്ത് ഞാൻ <EOS>\\n', 'ഹേ ലക്ഷ്മണാ, ഈ ഈ ഈ ഈ ഈ ഈ ഈ ഈ ഈ ഈ വനത്തിൽ കൊണ്ട് ഈ <EOS>\\n', 'സീതയെ വലിയ എന്റെ എന്റെ എന്റെ എന്റെ ഞാൻ ഞാൻ ഞാൻ എന്റെ <EOS>\\n', 'ജ്ഞാനിയായ ജ്ഞാനിയായ ജ്ഞാനിയായ ജ്ഞാനിയായ ജ്ഞാനിയായ രാജാവ് (ദശരഥൻ) നിന്നും നിന്നും നിന്നും മഹാനായ <EOS>\\n', \"'ഓ രാമാ, രാജാവ് ഭരതൻ ഈ ഈ ഈ <EOS>\\n\", \"'ഓ തന്റെ തന്റെ തന്റെ തന്റെ ഞാൻ തന്റെ ഞാൻ ഞാൻ ഞാൻ ഞാൻ ഞാൻ ഞാൻ <EOS>\\n\", 'എല്ലാ എല്ലാ ഒരു എല്ലാ എല്ലാ എല്ലാ എല്ലാ <EOS>\\n', 'ഹേ അധിപനായ രണ്ടുപേരും ഈ ഈ ഈ ഈ <EOS>\\n', 'ഹേ ഞാൻ ഞാൻ ഞാൻ ഞാൻ ഞാൻ ഞാൻ ഞാൻ <EOS>\\n', 'അപ്പോൾ അവർ യുദ്ധത്തിൽ നിന്ന് ഞാൻ നിങ്ങളെ ഞാൻ അവരെ <EOS>\\n', 'അപ്പോൾ പുത്രനായ ഭരതൻ രാജാവ് വനത്തിലേക്ക് ഞാൻ നിറഞ്ഞ <EOS>\\n', '\"അല്ലയോ ഞാൻ എന്റെ എന്റെ ഈ ഈ ഈ ഈ ഈ ഈ <EOS>\\n', 'ഹേ ഒരു ഹനുമാൻ അത് അത് ഒരു <EOS>\\n', 'ഹേ ഞാൻ ഞാൻ എന്റെ ഞാൻ ഞാൻ ഞാൻ ഞാൻ ഞാൻ ഞാൻ ഞാൻ <EOS>\\n', 'ഹേ നിറഞ്ഞ നിങ്ങളുടെ ഹേ നിറഞ്ഞ ഈ നിറഞ്ഞ എല്ലാ <EOS>\\n', 'ശക്തനായ സന്യാസിയായ താമര ദളങ്ങൾ പോലെ തിളങ്ങുന്ന കണ്ട് ലക്ഷ്മണനെ നോക്കി പറഞ്ഞു: <EOS>\\n', 'അവൻ ഒരു ഉത്തരം പറഞ്ഞു: നിന്റെ അവൻ അവൻ നിങ്ങൾക്ക് ഒരു <EOS>\\n', 'മനുഷ്യരിൽ ശ്രേഷ്ഠനായ ഈ ഈ ഈ ഈ രണ്ട് ഈ <EOS>\\n', 'നിങ്ങൾ ഞാൻ നിങ്ങളുടെ എന്റെ ഞാൻ ഞാൻ ഞാൻ ഞാൻ ഞാൻ ഞാൻ <EOS>\\n', 'എല്ലാ ജീവജാലങ്ങളുടെയും നന്നായി നന്നായി നന്നായി നന്നായി നന്നായി നന്നായി നന്നായി നന്നായി നന്നായി നന്നായി നന്നായി നന്നായി നന്നായി നന്നായി നന്നായി നന്നായി നന്നായി നന്നായി അലങ്കരിച്ചിരിക്കുന്നു, <EOS>\\n', 'അവർ തന്റെ ആ ഭരതൻ ആ ആ അവർ <EOS>\\n', 'ഹേ രാജ്യം ആ രാജ്യം നിന്റെ രാജ്യം ഞാൻ ആ ആ നിന്റെ നീ <EOS>\\n', 'ഹേ രാജ്യം രാജ്യം രാജ്യം ഞാൻ രാമനെ ആ രാമൻ രാമനെ ആ രാജ്യം രാമനെ ആ രാജ്യം രാമനെ ആ രാമൻ രാമനെ <EOS>\\n', 'ഹേ രാജ്യം രാജ്യം ആ ഞാൻ ഞാൻ ഞാൻ ആ ഞാൻ രാമനെ ആ രാമൻ <EOS>\\n', 'ഹേ രാജ്യം ആ രാജ്യം ഞാൻ ഈ ഈ ഈ ഈ <EOS>\\n', 'ഇങ്ങനെ തന്റെ മഹാനായ രാമൻ രാമനെ രാമൻ <EOS>\\n', 'ഹേ മകനേ, എന്റെ എന്റെ എന്റെ ഞാൻ ഞാൻ ഞാൻ ഞാൻ ഞാൻ ഞാൻ ഞാൻ ഞാൻ <EOS>\\n', \"'ഓ മനുഷ്യരിൽ ഉത്തമനായ രാമനെ രാമനെ ഞാൻ രാമനെ ഈ രാജ്യം ഞാൻ രാമനെ പറഞ്ഞു: <EOS>\\n\", 'ശക്തനും ശക്തനുമായ പുത്രനായ ഹനുമാൻ ആ നിന്നെ നിങ്ങളെ നിന്നെ നിങ്ങളെ <EOS>\\n', 'ഹേ രാമാ, എന്റെ എന്റെ ഈ ഈ ഞാൻ ഈ നീ ഞാൻ ഈ നീ നീ നീ നീ നീ നീ നീ നീ നീ ഈ നീ നീ നീ നീ നീ നീ ഈ നീ നീ നീ ഈ നീ ഈ നീ നീ നീ നീ എനിക്ക് ഈ ഈ ഈ നീ ഈ നീ എന്നെ <EOS>\\n', 'സീതയെ അവയുടെ രാവണൻ ശബ്ദം ഈ ശബ്ദം എല്ലാ ദിശകളിലേക്കും ഈ എല്ലാ <EOS>\\n', 'കൂലിയും കൂലിയും എന്റെ മേൽ രാമനെ ഞാൻ ഞാൻ ഞാൻ ഞാൻ <EOS>\\n', 'ഹേ രാമ, നിറഞ്ഞ ഈ നിറഞ്ഞ ഈ വാക്കുകൾ നിറഞ്ഞ ഈ വാക്കുകൾ <EOS>\\n', 'ഹേ ഏറ്റവും എന്റെ മറ്റ് അവരുടെ എല്ലാ <EOS>\\n', 'രാജാവിന്റെ വാക്കുകൾ കേട്ട്, തന്റെ വാക്കുകൾ പറഞ്ഞു: വാക്കുകൾ വാക്കുകൾ പറഞ്ഞു: <EOS>\\n', '\"അല്ലയോ രണ്ടുപേരും രണ്ടുപേരും എന്റെ അവരെ നിങ്ങളെ രണ്ട് നിങ്ങളെ നിങ്ങളെ നിങ്ങളെ <EOS>\\n', 'ആ തന്റെ തന്റെ തന്റെ തന്റെ <EOS>\\n', 'ഒരു ഞാൻ ഒരു ഞാൻ ആ ഒരു <EOS>\\n', \"'അല്ലയോ ലക്ഷ്മണാ, മഹാനായ രാമൻ ഈ ഈ ഈ ഈ ഈ ഈ <EOS>\\n\", 'ഹേ ഭരതാ, നീ എല്ലാ എല്ലാ ഈ എല്ലാ <EOS>\\n', 'എന്റെ എന്റെ എന്റെ എന്റെ ഞങ്ങൾ ഞങ്ങൾ ഞങ്ങൾ ഞങ്ങൾ <EOS>\\n', 'ഹേ രാമാ, എന്റെ എന്റെ രാമനെ ഈ നീ ഈ ഞാൻ <EOS>\\n', 'അവർ അവനോടു: ഞാൻ (ദശരഥൻ) ഈ <EOS>\\n', 'അതിനുശേഷം, ഒരു ദിവസം രാമനെ ഈ രാമനെ ഈ രണ്ട് ഈ രണ്ട് ഈ രണ്ട് രണ്ട് ഈ രണ്ട് രണ്ട് രാജകുമാരന്മാരും <EOS>\\n', '\"എന്റെ വലിയ കണ്ണുള്ള രാജാവ് തന്റെ തന്റെ <EOS>\\n', 'അവൻ കർത്താവേ, നിന്റെ നാമത്തിൽ പറഞ്ഞു, അവൻ <EOS>\\n', 'ഹേ ഏറ്റവും നിന്റെ ഈ ഈ ഈ ഈ നിന്റെ <EOS>\\n', 'മുനിയുടെ പുത്രനായ പുത്രനായ ഭരതൻ തന്റെ തന്റെ തന്റെ <EOS>\\n', 'ഹേ ഒരു എന്റെ ഒരു ഒരു ഒരു ഞാൻ ഒരു <EOS>\\n', 'അപ്പോൾ ഞാൻ നീ എന്റെ നീ നീ അത് നീ നീ നീ നീ നീ <EOS>\\n', 'ഹേ ലക്ഷ്മണാ, എന്റെ വിവിധ വിവിധ വിവിധ വിവിധ വിവിധ വിവിധ വിവിധ വിവിധ വിവിധ വിവിധ വിവിധ വിവിധ വിവിധ വിവിധ വിവിധ വിവിധ വിവിധ വിവിധ വിവിധ വിവിധ വിവിധ വിവിധ രത്നങ്ങൾ കൊണ്ട് അലങ്കരിച്ചിരിക്കുന്നു, അവർ തങ്ങളുടെ പോയി. <EOS>\\n', 'ഹേ ഞാൻ എന്റെ രാമനെ രാമനെ രാമനെ രാമനെ രാമനെ ഞാൻ രാമനെ കാണാൻ ഞാൻ നിന്റെ <EOS>\\n', 'അപ്പോൾ രാമൻ നീ തന്റെ നീ നീ നീ നീ നീ നീ <EOS>\\n', 'അവർ വളരെ ഈ തിളങ്ങുന്ന തിളങ്ങുന്ന ഈ തിളങ്ങുന്ന ഈ അവർ <EOS>\\n', 'എന്റെ എന്റെ എന്റെ എന്റെ എന്റെ എന്റെ എന്റെ കൊണ്ട് എന്റെ എന്റെ <EOS>\\n', 'രാജാവേ, രാജാവേ, എന്റെ ഈ ഈ ഈ ഞാൻ ഈ ഞാൻ <EOS>\\n', 'രാജാവിന്റെ കൽപ്പനപ്രകാരം ബ്രാഹ്മണർ എല്ലാ സ്ത്രീകളും ഭരതന് <EOS>\\n', 'രാജാവേ, ഞാൻ എന്റെ എന്റെ ഈ ഞാൻ ഞാൻ ഞാൻ ഞാൻ ഞാൻ ഞാൻ ഈ <EOS>\\n', 'അപ്പോൾ ഹനുമാൻ ഹനുമാൻ വായിൽ നിന്ന് എല്ലാ <EOS>\\n', 'ഹേ, മകനേ, രാജാവ് എന്റെ രാമനെ അവർ അവർ അവർ അവർ നീ ഈ എല്ലാ അവർ <EOS>\\n', 'ഹേ രണ്ടുപേരും എന്റെ എന്റെ എന്റെ <EOS>\\n', 'നീതിമാനായ രാജാവ് രാമൻ തന്റെ എന്നെ <EOS>\\n', 'ആകയാൽ നിങ്ങളുടെ നിങ്ങളുടെ നിങ്ങളുടെ നിങ്ങളുടെ നിങ്ങളുടെ എന്നെ നിങ്ങളുടെ <EOS>\\n', 'അപ്പോൾ അവനോടു: എന്റെ എന്റെ ഞാൻ ഞാൻ ഞാൻ ഈ നിന്റെ നീ <EOS>\\n', 'എല്ലാ എല്ലാ ലോകങ്ങളുടെയും <EOS>\\n', 'നീതിമാനായ രാജാവ് രാമൻ തന്റെ ഈ <EOS>\\n', '\"ഓ ഞാൻ എന്റെ പോലെ ഞാൻ നിന്റെ നിന്നെ നീ നിന്റെ നീ പറഞ്ഞു: <EOS>\\n', '\"ഓ ഞാൻ ഞാൻ ഞാൻ ഞാൻ ഞാൻ ഞാൻ ഞാൻ ഞാൻ എന്നെ ഞാൻ <EOS>\\n', 'ഹേ രാമ, ഭരതൻ പോലെ ഒരു ഞാൻ ഭരതൻ ഒരു വലിയ പറഞ്ഞു: വലിയ പറഞ്ഞു: ഞാൻ <EOS>\\n', 'ഒരു ഒരു രാജാവ് തന്റെ ഈ ആ ഭരതൻ ഈ <EOS>\\n', 'അപ്പോൾ രാമൻ രാമൻ എന്റെ രാമൻ നിന്റെ രാമൻ ഞാൻ <EOS>\\n', 'അങ്ങനെ ഹനുമാൻ സീതയെ ഹനുമാൻ സീതയെ ഹനുമാൻ അവർ <EOS>\\n', \"'അല്ലയോ രാമ, അവൾ അവൾ അവൾ അവൾ അവൾ അവൾ അവൾ അവൾ അവൾ <EOS>\\n\", 'രാജാവ് എല്ലാ രാജാവ് രാജാവ് തന്റെ ഈ എല്ലാ എല്ലാ <EOS>\\n', 'അങ്ങനെ എന്റെ എന്റെ എന്റെ എന്റെ എന്റെ ഒരു നീ നീ അത് നീ നീ നീ നീ നീ നീ നിന്റെ നീ നീ നീ നിന്റെ നീ നീ എന്നെ <EOS>\\n', 'ഹേ ഭരതാ, രാജാവ് നീ അതേ അതേ അതേ നീ ആരാണ്? അതേ നീ ആരാണ്? <EOS>\\n', 'ശക്തനായ രാജാവ് (ദശരഥൻ) ആ എന്നെ രാജാവ് <EOS>\\n', 'അപ്പോൾ ഒരു എന്റെ എന്റെ ഈ ഒരു ഞാൻ ഈ <EOS>\\n', 'അങ്ങനെ രാമൻ ഈ ഈ ഈ ഈ ഈ ഈ ഈ <EOS>\\n', 'ഹേ ഞാൻ ആ രാമനെ രാമനെ ഞാൻ രാമനെ രാമനെ <EOS>\\n', 'ഹേ രാമ, നിങ്ങളുടെ നിങ്ങളുടെ നിങ്ങളുടെ നിങ്ങളുടെ നിങ്ങളുടെ ഒരു നിങ്ങളുടെ ഞാൻ നിങ്ങളുടെ <EOS>\\n', 'യേശു അവനോടു: ഉത്തരം നിന്റെ നാമത്തിൽ സ്നാനം സ്നാനം അവർ അവനോടു: നീ നിന്നെ എന്നു നീ <EOS>\\n', 'രാത്രി രാത്രി എന്റെ അടുക്കൽ ഞാൻ <EOS>\\n', 'ഇപ്രകാരം ഇപ്രകാരം ഇപ്രകാരം ഇപ്രകാരം പറഞ്ഞു: ഇപ്രകാരം പറഞ്ഞു: ഇപ്രകാരം പറഞ്ഞു: <EOS>\\n', 'ഒരു ഒരു എന്റെ ഒരു പോലെ ഒരു ഞാൻ അവൾ ഒരു എന്ന് അവൾ അവൾ അവൾ ഭൂമിയിൽ നിന്ന് അവൾ ഭൂമിയിൽ നിന്ന് എന്നെ <EOS>\\n', 'ഹേ ലക്ഷ്മണാ, എന്റെ എന്റെ രാജാവ് എന്റെ ഞങ്ങൾ <EOS>\\n', 'ഹേ ഞാൻ എന്റെ ഈ ഞാൻ ഞാൻ ഞാൻ ഞാൻ ഞാൻ ഞാൻ ഞാൻ ഈ <EOS>\\n', 'ദൂതന്മാർ അധിപനായ രാമൻ, ദൂതന്മാർ ദൂതന്മാർ ഞാൻ നിന്നോട് ഞാൻ നിന്നെ <EOS>\\n', 'ഹേ രാജകുമാരാ, രാജകുമാരാ, നീ ഈ ഈ ഈ <EOS>\\n', 'നിങ്ങൾ ഞാൻ ഞാൻ ആ ഞാൻ ഞാൻ <EOS>\\n', 'ഇങ്ങനെ ഇങ്ങനെ സംസാരിക്കുന്നത് ഒരു രാജാവ് യുദ്ധത്തിൽ രാമൻ കാട്ടിലേക്ക് നിങ്ങളെ യുദ്ധത്തിൽ നേരിടാൻ നീ എന്തിനാണ് എന്റെ പിതാവിനെ നിന്ന് എന്നെ കാട്ടിലേക്ക് പോകാൻ <EOS>\\n', 'നിങ്ങൾ വളരെ ദൂരം നിങ്ങളുടെ നിങ്ങളുടെ നിങ്ങളെ ഞാൻ <EOS>\\n', 'മഹാനായ മഹാനായ വാനരൻ ഈ വാക്കുകൾ മഹാനായ രാമൻ <EOS>\\n', 'ഒരു വാക്കുകൾ കേട്ട്, ഒരു ഒരു ഈ ഒരു ഈ ഒരു രണ്ട് ഒരു <EOS>\\n', 'ഹേ രാമ, ഒരു പോലെ ഈ ഈ നിറഞ്ഞ ഈ രണ്ട് നിറഞ്ഞ ഈ രണ്ട് നിറഞ്ഞ ഈ രണ്ട് നിറഞ്ഞ ഈ രണ്ട് രണ്ട് രണ്ട് ഒരു രണ്ട് <EOS>\\n', 'ഈ ഞാൻ ഈ ഈ ഈ ഈ ഈ ഈ ഈ ഈ ഈ ഈ <EOS>\\n', 'ഹേ ഒരു നീ ഈ ഈ ഈ ഈ നീ <EOS>\\n', 'ഹേ ലക്ഷ്മണാ, സന്തതി, ഭരതൻ തന്റെ എല്ലാ <EOS>\\n', 'ഈ രാമനെ രാമനെ രാമനെ ഈ രാമനെ ഈ <EOS>\\n', 'ഹേ രാമാ, എന്റെ ഈ നിന്ന് അങ്ങനെ ഈ <EOS>\\n', 'എല്ലാ അധിപനായ എല്ലാ എല്ലാ എല്ലാ എല്ലാ എല്ലാ എല്ലാ എല്ലാ എല്ലാ <EOS>\\n', 'കൈകേയിയുടെ പുത്രനായ ഭരതൻ തന്റെ പുത്രനായ പുത്രനായ പുത്രനായ പുത്രനായ അവർ <EOS>\\n', 'അപ്പോൾ മനുഷ്യരിൽ ഉത്തമനായ ഈ ഈ ഈ ഈ ഈ <EOS>\\n', 'അപ്പോൾ വളരെ തന്റെ ഭരതൻ തന്റെ തന്റെ തന്റെ <EOS>\\n', 'അപ്പോൾ സ്വയം സ്വയം സ്വയം സ്വയം സ്വയം അവർ പറഞ്ഞു: അപ്പോൾ അപ്പോൾ സ്വയം നീ <EOS>\\n', 'ദൂതന്മാർ ഞാൻ നിന്നോട് ദൂതന്മാർ ഞാൻ നിന്നോട് ഈ വലിയ <EOS>\\n', 'ഹേ ശത്രുക്കളെ ശത്രുക്കളെ നീ ഈ ഈ ഈ നീ <EOS>\\n', 'ഹേ ഞാൻ ഞാൻ അവരെ ഞാൻ ഞാൻ ഞാൻ ഞാൻ അവരെ ഞാൻ <EOS>\\n', 'ഹേ മകനേ, ഞാൻ വനത്തിലേക്ക് ഞാൻ ഞാൻ ഞാൻ ഞാൻ ഞാൻ സത്യം <EOS>\\n', 'നിങ്ങൾ മഹത്തായ രാമന്റെ മഹത്തായ രാമന്റെ മഹത്തായ നീ രാമന്റെ മഹത്തായ നീ <EOS>\\n', \"'ഓ കുരങ്ങേ, നീ എന്റെ എന്റെ എന്റെ നീ എന്റെ എന്നെ എന്റെ <EOS>\\n\", 'ഹേ ഞാൻ എന്റെ എന്റെ ഈ ഞാൻ ഈ <EOS>\\n', 'രാമൻ രാമൻ രാമൻ രാമൻ തന്റെ പറഞ്ഞു, ഞാൻ നിന്റെ നീ എന്ന് <EOS>\\n', 'അപ്പോൾ അവനോടു: ഹനുമാൻ ഈ ഈ <EOS>\\n', 'ഹേ വർഷം ഒരു എന്റെ ഈ ഈ ഈ <EOS>\\n', 'ഒരു പുത്രനായ രാമനെ രാമൻ തന്റെ തന്റെ <EOS>\\n', \"'ഒരു എന്നറിയപ്പെടുന്ന എന്നറിയപ്പെടുന്ന ഒരു പുത്രനെ കേട്ട് ഒരു പുത്രനെ നിങ്ങൾക്ക് ഒരു പ്രവൃത്തി <EOS>\\n\", 'അപ്പോൾ ജ്ഞാനിയായ രാമൻ നീ നിന്റെ ഈ ഈ <EOS>\\n', 'നിന്റെ അവരോടു: നിന്റെ ഈ നിന്റെ ഈ ഈ <EOS>\\n', 'യേശു അവനോടു: ഉത്തരം പറഞ്ഞതു: <EOS>\\n', 'ഇപ്രകാരം പറഞ്ഞു: സീത പറഞ്ഞു: അവൻ പറഞ്ഞു: തന്റെ ഞാൻ പറഞ്ഞു: അവൻ <EOS>\\n', 'അങ്ങനെ ഭരതൻ, അങ്ങനെ ഭരതൻ, അങ്ങനെ അങ്ങനെ ഭരതൻ, അങ്ങനെ എല്ലാ <EOS>\\n', 'അവർ ഒരു ഈ ഈ ഈ ഈ അവർ ഈ അവർ <EOS>\\n', 'ഹേ ഞാൻ ഞാൻ ഞാൻ ഞാൻ ഞാൻ ഞാൻ ഞാൻ ഞാൻ ഞാൻ ഞാൻ ഞാൻ ഞാൻ ഞാൻ <EOS>\\n', 'ഹേ രാത്രി നിന്ന് ഈ ഈ നീ ഈ നീ <EOS>\\n', 'അവർ രണ്ടുപേരും അതു കണ്ടിട്ടു അവന്റെ <EOS>\\n', 'ഹേ ഭരതാ, സ്ത്രീ, സ്ത്രീ, ഈ നീ ഈ നീ നീ <EOS>\\n', 'അങ്ങേയറ്റം നിന്ന് നിന്ന് നിന്ന് എല്ലാ നിന്ന് എല്ലാ <EOS>\\n', 'അതുകൊണ്ട് ഞാൻ എന്റെ നിന്ന് എന്റെ എന്റെ ഞാൻ നീ നീ <EOS>\\n', 'ശത്രുക്കളെ ആ ആ മറ്റ് രൂപവും സ്വീകരിക്കാൻ ആ സ്ത്രീ തന്റെ എല്ലാ <EOS>\\n', 'അപ്പോൾ ഭർത്താവിന്റെ ലക്ഷ്മണൻ ആ അവൾ പറഞ്ഞു: <EOS>\\n', 'രാജാവിന്റെ കൽപ്പനപ്രകാരം ഭരതന് ഭരതന് ഭരതന് ഭരതന് എല്ലാ ഋഷിമാരും <EOS>\\n', 'എല്ലാ വീണ എല്ലാ എല്ലാ എല്ലാ എല്ലാ എല്ലാ <EOS>\\n', 'ഹേ മകനേ, നിന്റെ ഈ എനിക്ക് ഈ എനിക്ക് ഈ <EOS>\\n', 'ഹേ മകനേ, നിന്റെ നിന്റെ സഹോദരനായ ലക്ഷ്മണനോടൊപ്പം നിന്റെ സഹോദരനായ ലക്ഷ്മണനോടൊപ്പം നിന്റെ സഹോദരനായ നിന്റെ രാജ്യം നിന്റെ നിന്റെ നിന്റെ നീ നിന്റെ <EOS>\\n', 'അപ്പോൾ അവന്റെ ഹനുമാൻ തന്റെ തന്റെ <EOS>\\n', 'ഹേ അവനോടു: എന്റെ എന്റെ എന്റെ <EOS>\\n', 'ഹേ ഗുഹാ, എന്റെ സഹോദരൻ സീതയും ഈ രീതിയിൽ ഈ ഈ അവർ എന്താണ് എന്താണ് എന്താണ് എന്താണ് എന്താണ് എന്താണ് എന്താണ് എന്താണ് പോലും ഈ വാക്കുകൾ <EOS>\\n', \"'അല്ലയോ തന്റെ തന്റെ തന്റെ തന്റെ തന്റെ തന്റെ തന്റെ തന്റെ <EOS>\\n\", 'ഹേ ഞാൻ ഞാൻ അവൾ അവൾ അവൾ അവൾ അവൾ <EOS>\\n', 'ഹേ ലക്ഷ്മണാ, എന്റെ എന്റെ എന്റെ എന്റെ എന്റെ ഞാൻ <EOS>\\n', 'ഹേ ശത്രുക്കളെ ഈ ഈ ഈ ഈ ഈ <EOS>\\n', 'സീതയെ ഞാൻ എന്റെ എന്റെ എന്റെ വനത്തിലേക്ക് ഞാൻ നീ അവൾ പറഞ്ഞു: നീ <EOS>\\n', 'ഹേ കൈകേയി, എന്റെ ഈ ഈ ഈ <EOS>\\n', 'ഹേ രാമാ, പുത്രൻ പുത്രൻ രാമാ, നിന്റെ സുമിത്രയുടെ നീ അവൾ നിന്റെ നീ നിന്റെ നീ എങ്ങനെ നീ നീ നീ പ്രാപിക്കും. <EOS>\\n', 'സൂര്യൻ വലിയ ആ ആ ആ ആ നീ ഈ നീ അത് നീ <EOS>\\n', 'തന്റെ മരത്തിന്റെ തന്റെ മരത്തിന്റെ തന്റെ തന്റെ മരത്തിന്റെ ഈ ഇംഗുഡി മരത്തിന്റെ ചുവട്ടിൽ <EOS>\\n', 'ദൂതന്മാർ ശത്രുക്കളെ ചുട്ടുകൊല്ലുന്ന രാജാവ് തന്റെ ശരീരം <EOS>\\n', 'ദൂതന്മാർ സ്ത്രീകളും ദൂതന്മാർ ഒരു വലിയ കുരങ്ങൻ പക്ഷികൾ കൊണ്ട് പക്ഷികൾ കൊണ്ട് തൊണ്ട പറഞ്ഞു: <EOS>\\n', 'ഗുഹൻ ഭരതൻ കേട്ട് ഭരതൻ കേട്ട് ഭരതൻ രാമന്റെ മരത്തിന്റെ ഈ വാക്കുകൾ പറഞ്ഞു: <EOS>\\n', 'ദശരഥന്റെ പുത്രനായ ഭരതൻ തന്റെ തന്റെ തന്റെ തന്റെ തന്റെ തന്റെ തന്റെ <EOS>\\n', 'ഒരു ഒരു ഒരു ഞാൻ ഒരു ഞാൻ ഞാൻ ഞാൻ ഞാൻ അവൾ ഒരു ഞാൻ <EOS>\\n', 'അതിനുശേഷം, ജനകന്റെ മകളും അവർ ദശരഥന്റെ പുത്രനായ പുത്രനായ അവർ <EOS>\\n', 'നിങ്ങൾ ഒരു എന്റെ എന്റെ എന്റെ ഈ <EOS>\\n', 'അതിനുശേഷം, പുത്രനായ ഏറ്റവും നല്ല എന്റെ രാമനെ ശേഷം നീ നിന്റെ നീ <EOS>\\n', 'ജനകന്റെ മകളും ദശരഥന്റെ പുത്രനായ രാമൻ, ജനകന്റെ മകളും അവർ <EOS>\\n', 'യേശു അവനോടു: നീ ഈ ഈ ഈ ഈ <EOS>\\n', \"'അല്ലയോ ഭരതാ, ഞാൻ എന്റെ ഈ ഈ <EOS>\\n\", 'ഹേ ഞാൻ ഞാൻ ഞാൻ ഞാൻ ഞാൻ ഞാൻ ഞാൻ <EOS>\\n', 'ഭാഗ്യവതിയായ സീത ചെറുപ്പവും ലോലവുമാണ്. ഒരു സ്ത്രീയെ ഒരു സ്ത്രീയെ ഈ വാക്കുകൾ പറഞ്ഞു: <EOS>\\n', 'അയ്യോ, ഞാൻ ഒരു മനുഷ്യൻ ഒരു ഞാൻ ഒരു ഞാൻ മനുഷ്യൻ ഞാൻ ഒരു <EOS>\\n', 'എല്ലാ ദേവന്മാരും ഗന്ധർവ്വന്മാരും ഈ രണ്ട് നിങ്ങളെ നിങ്ങളെ <EOS>\\n', 'അപ്പോൾ എല്ലാ നിറഞ്ഞ എല്ലാ ഞാൻ ഞാൻ ഞാൻ <EOS>\\n', 'സീത സീത സീത തന്റെ സീത സീത സീത തന്റെ സീത പറഞ്ഞു: <EOS>\\n', 'ഒരു ഒരു അവൾ ഒരു അവൾ അവൾ ഒരു അവൾ അവൾ ഒരു <EOS>\\n', 'ഞങ്ങളുടെ ഒരു എന്റെ ഒരു നിറഞ്ഞ ഈ <EOS>\\n', 'അവർ അവനോടു: നിങ്ങളോടു പറയുന്നു: ഒരു എന്നു എന്നു ഒരു <EOS>\\n', \"'അല്ലയോ ജനകന്റെ വിശ്വാമിത്രൻ വിശ്വാമിത്രൻ വിശ്വാമിത്രൻ വിശ്വാമിത്രൻ വിശ്വാമിത്രൻ എല്ലാ <EOS>\\n\", \"'ഓ ഒരു ഞാൻ ഈ ഈ ഞാൻ <EOS>\\n\", 'ഹേ രാമാ, നിന്നെ നിന്നെ ഞാൻ ഈ ഞാൻ ഞാൻ ഞാൻ ഈ ഞാൻ നിന്നെ നിനക്ക് <EOS>\\n', 'എന്റെ വർഷം എന്റെ എന്റെ എന്റെ എന്റെ ഞാൻ എന്റെ ഞാൻ എന്റെ എന്റെ എന്റെ <EOS>\\n', 'ഹേ ഞാൻ രാമൻ എന്റെ ഈ ഞാൻ ഈ <EOS>\\n', 'ഹേ സത്യം സത്യം സത്യം സത്യം സത്യം സത്യം സത്യം എന്നെ സത്യം <EOS>\\n', 'രാജാവേ, രാജാവേ, രാജാവേ, നിന്റെ സുഗ്രീവന്റെ എല്ലാ ഞാൻ ഈ <EOS>\\n', 'ആകയാൽ അവനോടു: ഇതാ, ഇതാ, <EOS>\\n', 'ഹേ ലക്ഷ്മണാ, എന്റെ ഈ ഈ ഈ <EOS>\\n', 'ഒരു ഒരു ഒരു ഒരു ഈ ഒരു ഞാൻ ഈ നീ ഒരു <EOS>\\n', 'ഹേ ഭരതാ, ഞാൻ രാമന്റെ രാമന്റെ രാമന്റെ രാമന്റെ എന്ന പേരിൽ രാമന്റെ ഞാൻ രാമന്റെ അടുത്തേക്ക് <EOS>\\n', 'കുലീനനായ ഒരു കുലീനനായ ശേഷം രാജാവ് (ദശരഥൻ) പറഞ്ഞു: <EOS>\\n', 'ഹനുമാൻ തന്റെ ഹനുമാൻ തന്റെ ഈ ഈ പറഞ്ഞു: ഈ ഈ വാക്കുകൾ പറഞ്ഞു: <EOS>\\n', 'അപ്പോൾ എഴുന്നേറ്റു നീ എപ്പോഴും നിന്നെ നീ <EOS>\\n', '\"ഹേ ലക്ഷ്മണാ, ഏറ്റവും ഈ ഈ ഈ ഈ <EOS>\\n', 'അവർ തന്റെ നീ ഭരതൻ തന്റെ തന്റെ നീ നീ <EOS>\\n', 'അപ്പോൾ എല്ലാ ആ ആ ആ ഈ ഈ <EOS>\\n', 'മനുഷ്യരിൽ ഏറ്റവും ഉത്തമനായ ഈ ഈ ഈ അദ്ദേഹത്തിന്റെ ഈ കാരണം ഈ വാക്കുകൾ പറഞ്ഞു: <EOS>\\n', \"'അല്ലയോ കൈകേയി, ചിലർ നിന്ന് <EOS>\\n\", 'ഹേ ഒരു സന്തതി, സന്തതി, ഈ ഒരു ഞാൻ ഈ <EOS>\\n', 'ദൂതന്മാർ വലിയ കണ്ണുള്ള വാലി ഈ വലിയ <EOS>\\n', 'ഹേ ലക്ഷ്മണാ, എന്റെ എന്റെ എനിക്ക് <EOS>\\n', 'ദൂതന്മാർ ദൂതന്മാർ ഞാൻ നിന്നോട് നിന്നെ വലിയ <EOS>\\n', 'ഹേ ലക്ഷ്മണാ, ഒരു ഈ ഈ ഒരു ഞാൻ ഈ ഒരു <EOS>\\n', 'ഹേ ഭരതാ, സന്തതി, ഈ ഈ ഈ ഈ <EOS>\\n', 'തന്റെ തന്റെ തന്റെ തന്റെ തന്റെ തന്റെ തന്റെ തന്റെ തന്റെ തന്റെ <EOS>\\n', 'മനുഷ്യരിൽ ഏറ്റവും ഭരതൻ, ഭരതൻ, കണ്ട് കണ്ട് കണ്ട് മനുഷ്യരിൽ ഏറ്റവും ഉത്തമനായ കണ്ട് അത് അത് കണ്ട് രാമൻ അത്യധികം സന്തോഷിച്ചു. <EOS>\\n', 'ഒരു അധിപനായ ഒരു ഒരു ഈ ഒരു ഈ <EOS>\\n', 'തന്റെ തന്റെ തന്റെ തന്റെ തന്റെ തന്റെ തന്റെ തന്റെ തന്റെ <EOS>\\n', 'മനുഷ്യരിൽ ഏറ്റവും ഭരതൻ കണ്ട് ഭരതൻ മനുഷ്യരിൽ ഏറ്റവും ഉത്തമനായ രാമൻ കണ്ട് അത് കണ്ട് അത്യധികം സന്തോഷിച്ചു. <EOS>\\n', 'സുഗ്രീവൻ സുഗ്രീവൻ സുഗ്രീവൻ സുഗ്രീവൻ സുഗ്രീവൻ സുഗ്രീവൻ പറഞ്ഞു: <EOS>\\n', 'എന്നാൽ ഞാൻ ഉത്തരം ഉത്തരം പറഞ്ഞു: എന്ന് <EOS>\\n', 'ഒരു ഏറ്റവും ഏറ്റവും നല്ല ഏറ്റവും നല്ല ഏറ്റവും നീ നീ <EOS>\\n', 'അതിനുശേഷം, ശത്രുക്കളെ ആ രാമൻ, ഈ വാക്കുകൾ <EOS>\\n', 'ഹേ ലക്ഷ്മണാ, വനത്തിലേക്ക് വനത്തിലേക്ക് ഞാൻ വനത്തിലേക്ക് വനത്തിലേക്ക് ഞാൻ വനത്തിലേക്ക് ഞാൻ കാണാൻ നീ എന്നെ <EOS>\\n', \"'അല്ലയോ ഭരതാ, നിങ്ങളുടെ അവരുടെ ഈ ഈ എല്ലാ <EOS>\\n\", 'ഈ ഞാൻ ഈ ഈ ഈ ഈ ഈ ഈ ഈ ഈ <EOS>\\n', '\"ഓ ഒരു നിന്ന് അവൾ അവൾ ഒരു അവൾ അവൾ ഒരു അവൾ അവൾ ഒരു <EOS>\\n', 'ഒരു നിറഞ്ഞ ഈ നിറഞ്ഞ ഈ ഈ ഈ പർവ്വതം ഒരു പർവ്വതം ഞാൻ ഒരു വലിയ പർവ്വതം എനിക്ക് ഒരു അനുഗ്രഹം <EOS>\\n', \"'ഓ ലക്ഷ്മണാ, എന്റെ ഈ ഈ ഈ ഈ ഈ <EOS>\\n\", 'എന്നാൽ ഞാൻ നിങ്ങളോടു നിന്റെ നീ എന്നാൽ നീ <EOS>\\n', 'സീതയെ ഏറ്റവും നിന്ന് അവൾ അവളുടെ ഒരു അവളുടെ മറുപടി പറഞ്ഞു: <EOS>\\n', 'ഈ വലിയ വലിയ ഈ വലിയ ഈ ഈ വലിയ ഈ <EOS>\\n', 'ഹേ ഞാൻ എന്റെ എന്റെ എന്റെ എന്റെ എന്റെ എന്റെ <EOS>\\n', 'അങ്ങനെ അങ്ങനെ രാമൻ, എല്ലാ രാമൻ, രാമൻ, രാമനെ എല്ലാ എല്ലാ <EOS>\\n', 'രാജാവ് (ദശരഥൻ) രാജാവ് (ദശരഥൻ) രാജാവ് (ദശരഥൻ) ഈ വാക്കുകൾ പറഞ്ഞു: <EOS>\\n', 'അപ്പോൾ ഞാൻ എന്റെ ഭരതൻ പറഞ്ഞു: ഭരതൻ പറഞ്ഞു: <EOS>\\n', 'ഹേ രാജകുമാരാ, രാജകുമാരാ, നീ എല്ലാ ഈ എല്ലാ <EOS>\\n', 'ഭരതൻ തന്റെ തന്റെ തന്റെ പറഞ്ഞു, പറഞ്ഞു, പറഞ്ഞു, പറഞ്ഞു, പറഞ്ഞു, പറഞ്ഞു, പറഞ്ഞു, പറഞ്ഞു, പറഞ്ഞു, പറഞ്ഞു, പറഞ്ഞു, പറഞ്ഞു, പറഞ്ഞു, എന്നെ എന്നെ <EOS>\\n', 'ഒരു ഒരു ഒരു നിന്ന് ഒരു എല്ലാ ഒരു പറഞ്ഞു: <EOS>\\n', 'ഹേ രാമാ, എന്റെ എന്റെ എന്റെ നീ ഞാൻ ഞാൻ നീ നീ <EOS>\\n', 'ശക്തനായ ഹനുമാൻ തന്റെ തന്റെ തന്റെ തന്റെ തന്റെ തന്റെ <EOS>\\n', '\"ഓ മകനേ, നിന്റെ നിന്റെ നിന്റെ നിന്റെ നീ എനിക്ക് നിന്നെ എനിക്ക് <EOS>\\n', 'ഒരു ബഹുമാന്യനായ ഒരു ഒരു എല്ലാ ഒരു ഒരു <EOS>\\n', 'ഹേ രാമ, നിന്ന് ഈ ഈ ഈ ഈ ഈ ഈ ഈ <EOS>\\n', 'ഹേ രാമാ, നിന്ന് നിന്റെ നിന്ന് നിന്റെ നിന്ന് നിന്റെ <EOS>\\n', 'അതുകൊണ്ട് ഞാൻ സത്യം നിന്റെ അടുക്കൽ ഞാൻ ഞാൻ നീ <EOS>\\n', 'അപ്പോൾ അവനോടു: നീ ഈ ഈ ഈ ഞങ്ങളുടെ ഈ <EOS>\\n', \"'അല്ലയോ മകനേ, എന്റെ എന്റെ കാട്ടിലേക്ക് എന്ന എന്ന പേരിൽ ഈ വാക്കുകൾ <EOS>\\n\", \"'ഞാൻ ദേവന്മാരും ശേഷം ദേവന്മാരും ശേഷം സീത ഈ വാക്കുകൾ പറഞ്ഞു: <EOS>\\n\", \"'ഓ രാമാ, നിന്റെ നിന്റെ നീ ഈ നിന്റെ നിന്റെ നീ നിന്റെ നിന്റെ <EOS>\\n\", 'ചിലത് ചിലത് ചിലത് ചിലത് ചിലത് ചിലത് ചിലത് ചിലത് ചിലത് ചിലത് <EOS>\\n', 'ഹേ ഒരു പോലെ തിളങ്ങുന്ന തിളങ്ങുന്ന തിളങ്ങുന്ന തിളങ്ങുന്ന തിളങ്ങുന്ന ഒരു നിറഞ്ഞ <EOS>\\n', 'ഒരു വാക്കുകൾ ഞാൻ ഈ ഈ ഈ ഈ ഈ നീ അവൾ പറഞ്ഞു: <EOS>\\n', 'പിന്നെ വാനരന്മാരുടെ അധിപനായ ഒരു രണ്ട് എല്ലാ ഞാൻ രണ്ട് ഞാൻ നിങ്ങളെ <EOS>\\n', 'ഹേ ഭരതാ, നീ രാമനെ നീ നീ അത് എല്ലാ അത് നീ <EOS>\\n', 'ഒരു വാക്കുകൾ കേട്ട്, ഈ ഈ ഈ പറഞ്ഞു: ഈ <EOS>\\n', \"'ശക്തമായ സമുദ്രത്തിൽ മറ്റ് കൂടി രാമൻ കാട്ടിലേക്ക് അങ്ങനെ തന്നെ പോലും ഈ വാക്കുകൾ പറഞ്ഞു: <EOS>\\n\", 'രാജാവിന്റെ കൽപ്പനപ്രകാരം ഈ ഈ ഈ ഈ ഈ <EOS>\\n', 'എല്ലാ എല്ലാ എല്ലാ എല്ലാ എല്ലാ എല്ലാ എല്ലാ എല്ലാ ഋഷിമാരും എല്ലാ <EOS>\\n', 'അപ്പോൾ രാത്രി രാജാവ് ഞാൻ രാജാവ് ഞാൻ ഞാൻ <EOS>\\n', 'നമ്മുടെ പ്രിയപ്പെട്ട നമുക്ക് നാടുകടത്താൻ ഉപദേശിച്ചവൻ, നമ്മുടെ പിതാവ് അവരെ നിങ്ങളെ <EOS>\\n', 'ഇപ്രകാരം അഭിസംബോധന പറഞ്ഞു: ചിലർ വാനരന്മാർ ചിലർ ചെയ്തു. <EOS>\\n', 'ഹേ രാജ്ഞി, സ്ത്രീയേ, നീ ഇന്ന് നിങ്ങളുടെ മനസ്സിൽ നീ തന്നെ നിങ്ങൾ കൂടുതൽ ലഭിച്ചു. <EOS>\\n']]\n"
     ]
    }
   ],
   "source": [
    "%cd C:\\Users\\Glitch\\Sanskrit2mal\\parallel-corpus\\sanskrit-mal\n",
    "output_text=[]\n",
    "with open ('translated_malayalam.txt','r',encoding=\"utf8\") as f:\n",
    "  output_text.extend([f.readlines()])\n",
    "print(output_text)"
   ]
  },
  {
   "cell_type": "code",
   "execution_count": 33,
   "metadata": {
    "scrolled": true
   },
   "outputs": [
    {
     "name": "stdout",
     "output_type": "stream",
     "text": [
      "ഇപ്രകാരം അഭിസംബോധന പറഞ്ഞു: വാക്കുകൾ പറഞ്ഞു: ഈ രണ്ട് <EOS>\n"
     ]
    }
   ],
   "source": [
    "translator(encoder1, attn_decoder1)"
   ]
  },
  {
   "cell_type": "code",
   "execution_count": null,
   "metadata": {},
   "outputs": [],
   "source": [
    "%cd C:\\Users\\Glitch\\Sanskrit2mal\\parallel-corpus\\sanskrit-mal\n",
    "import nltk\n",
    "with open('test_malayalam.txt', 'r',  encoding=\"utf8\") as f: # ground truth file\n",
    "    reference = [x.replace('\\n', '') for x in f.readlines()]\n",
    "\n",
    "with open('translated_malayalam.txt', 'r',  encoding=\"utf8\") as f: # translated Malayalam file (our output)\n",
    "    candidate = [x.replace('\\n', '') for x in f.readlines()]\n",
    "\n",
    "from nltk.translate.bleu_score import SmoothingFunction\n",
    "smoothie = SmoothingFunction().method4\n",
    "\n",
    "bleu = nltk.bleu_score.corpus_bleu(reference, candidate, smoothing_function=smoothie )\n",
    "\n",
    "print(\"bleu\", bleu)"
   ]
  },
  {
   "cell_type": "code",
   "execution_count": null,
   "metadata": {},
   "outputs": [],
   "source": [
    "score_ref_a = bleu.corpus_bleu([reference], [candidate])\n",
    "print(\"1 document with 1 reference sentence: {}\".format(score_ref_a))"
   ]
  },
  {
   "cell_type": "code",
   "execution_count": 37,
   "metadata": {},
   "outputs": [
    {
     "ename": "SyntaxError",
     "evalue": "invalid syntax (Temp/ipykernel_1372/1646575210.py, line 8)",
     "output_type": "error",
     "traceback": [
      "\u001b[1;36m  File \u001b[1;32m\"C:\\Users\\Glitch\\AppData\\Local\\Temp/ipykernel_1372/1646575210.py\"\u001b[1;36m, line \u001b[1;32m8\u001b[0m\n\u001b[1;33m    print('BLEU score -> {}'sentence_bleu(reference, candidate ))\u001b[0m\n\u001b[1;37m                            ^\u001b[0m\n\u001b[1;31mSyntaxError\u001b[0m\u001b[1;31m:\u001b[0m invalid syntax\n"
     ]
    }
   ],
   "source": [
    "from nltk.translate.bleu_score import sentence_bleu\n",
    "with open('test_malayalam.txt', 'r',  encoding=\"utf8\") as f: # ground truth file\n",
    "    reference = [x.replace('\\n', '') for x in f.readlines()]\n",
    "\n",
    "with open('translated_malayalam.txt', 'r',  encoding=\"utf8\") as f: # translated Malayalam file (our output)\n",
    "    candidate = [x.replace('\\n', '') for x in f.readlines()]\n",
    "    \n",
    "print('BLEU score -> {}'sentence_bleu(reference, candidate ))"
   ]
  },
  {
   "cell_type": "code",
   "execution_count": null,
   "metadata": {},
   "outputs": [],
   "source": []
  }
 ],
 "metadata": {
  "colab": {
   "authorship_tag": "ABX9TyOINL9b4SNwUYDioR9uYY5X",
   "collapsed_sections": [],
   "include_colab_link": true,
   "name": "sanskrit to malayalam NMT.ipynb",
   "provenance": []
  },
  "kernelspec": {
   "display_name": "Python 3 (ipykernel)",
   "language": "python",
   "name": "python3"
  },
  "language_info": {
   "codemirror_mode": {
    "name": "ipython",
    "version": 3
   },
   "file_extension": ".py",
   "mimetype": "text/x-python",
   "name": "python",
   "nbconvert_exporter": "python",
   "pygments_lexer": "ipython3",
   "version": "3.9.7"
  }
 },
 "nbformat": 4,
 "nbformat_minor": 1
}
