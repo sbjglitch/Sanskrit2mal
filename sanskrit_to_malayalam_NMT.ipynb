{
 "cells": [
  {
   "cell_type": "markdown",
   "metadata": {
    "colab_type": "text",
    "id": "view-in-github"
   },
   "source": [
    "<a href=\"https://colab.research.google.com/github/sbjglitch/Sanskrit2mal/blob/main/sanskrit_to_malayalam_NMT.ipynb\" target=\"_parent\"><img src=\"https://colab.research.google.com/assets/colab-badge.svg\" alt=\"Open In Colab\"/></a>"
   ]
  },
  {
   "cell_type": "code",
   "execution_count": 26,
   "metadata": {
    "id": "_eAtxfQkAocK"
   },
   "outputs": [],
   "source": [
    "from __future__ import unicode_literals, print_function, division\n",
    "from io import open\n",
    "import unicodedata\n",
    "import string\n",
    "import re\n",
    "import random\n",
    "\n",
    "import torch\n",
    "import torch.nn as nn\n",
    "from torch import optim\n",
    "import torch.nn.functional as F\n",
    "\n",
    "#%pip install inltk\n",
    "device = torch.device(\"cuda\" if torch.cuda.is_available() else \"cpu\")\n"
   ]
  },
  {
   "cell_type": "code",
   "execution_count": 27,
   "metadata": {
    "colab": {
     "base_uri": "https://localhost:8080/"
    },
    "id": "I3u9wbhrAyYr",
    "outputId": "2ec06124-c20c-466c-d2bd-615d68e0f516"
   },
   "outputs": [
    {
     "name": "stdout",
     "output_type": "stream",
     "text": [
      "C:\\Users\\Flora Johnson\\Desktop\\Sanskrit2mal\\parallel-corpus\n"
     ]
    }
   ],
   "source": [
    "%cd /Users/Flora Johnson/Desktop/Sanskrit2mal/parallel-corpus"
   ]
  },
  {
   "cell_type": "code",
   "execution_count": 28,
   "metadata": {
    "colab": {
     "base_uri": "https://localhost:8080/"
    },
    "id": "WyYESS_tCjRg",
    "outputId": "1c33b2b5-bcdc-418f-eb47-f3ac5c971b1d"
   },
   "outputs": [
    {
     "name": "stdout",
     "output_type": "stream",
     "text": [
      "C:\\Users\\Flora Johnson\\Desktop\\Sanskrit2mal\\parallel-corpus\n",
      "646\n",
      "701\n"
     ]
    }
   ],
   "source": [
    "%cd /Users/Flora Johnson/Desktop/Sanskrit2mal/parallel-corpus\n",
    "mal_lines = []\n",
    "sanskrit_lines = []\n",
    "with open ('bhagavadgita_malayalam.txt','r', encoding=\"utf8\") as f:\n",
    "  mal_lines.extend([x.replace('\\n', '') for x in f.readlines()])\n",
    "\n",
    "with open ('bhagvadgita_sanskrit.txt','r',encoding=\"utf8\") as f:\n",
    "  sanskrit_lines.extend([x.replace('\\n', '') for x in f.readlines()])\n",
    "\n",
    "  print(len(mal_lines))\n",
    "  print(len(sanskrit_lines))"
   ]
  },
  {
   "cell_type": "code",
   "execution_count": 29,
   "metadata": {
    "id": "hnhN7RILA4Uv"
   },
   "outputs": [],
   "source": [
    "\n",
    "c = list(zip(sanskrit_lines, mal_lines))\n",
    "random.shuffle(c)\n",
    "\n",
    "sanskrit_lines, mal_lines = zip(*c)\n",
    "\n",
    "train_text_sa = sanskrit_lines[:-323]\n",
    "train_text_mal = mal_lines[:-323]\n",
    "\n",
    "dev_text_sa = sanskrit_lines[-323:]\n",
    "dev_text_mal = mal_lines[-323:]"
   ]
  },
  {
   "cell_type": "code",
   "execution_count": 30,
   "metadata": {
    "colab": {
     "base_uri": "https://localhost:8080/"
    },
    "id": "iiX6HHVFFgjx",
    "outputId": "8fc448ed-bf3b-4d6e-80e8-a11f4006c5fe"
   },
   "outputs": [
    {
     "name": "stdout",
     "output_type": "stream",
     "text": [
      "323\n",
      "323\n",
      "323\n",
      "323\n"
     ]
    }
   ],
   "source": [
    "print(len(train_text_mal))\n",
    "print(len(dev_text_mal))\n",
    "\n",
    "print(len(train_text_sa))\n",
    "print(len(dev_text_sa))"
   ]
  },
  {
   "cell_type": "code",
   "execution_count": 31,
   "metadata": {
    "id": "4cIEztNt2JkT"
   },
   "outputs": [],
   "source": [
    "# Start and End tokens\n",
    "SOS_token = 0\n",
    "EOS_token = 1\n",
    "\n",
    "\n",
    "class Lang:\n",
    "    def __init__(self, name):\n",
    "        self.name = name\n",
    "        self.word2index = {}\n",
    "        self.word2count = {}\n",
    "        self.index2word = {0: \"SOS\", 1: \"EOS\"}\n",
    "        self.n_words = 2  # Count SOS and EOS\n",
    "\n",
    "    def addSentence(self, sentence):\n",
    "        for word in sentence.split(' '):\n",
    "            self.addWord(word)\n",
    "\n",
    "    def addWord(self, word):\n",
    "        if word not in self.word2index:\n",
    "            self.word2index[word] = self.n_words\n",
    "            self.word2count[word] = 1\n",
    "            self.index2word[self.n_words] = word\n",
    "            self.n_words += 1\n",
    "        else:\n",
    "            self.word2count[word] += 1"
   ]
  },
  {
   "cell_type": "code",
   "execution_count": 24,
   "metadata": {
    "id": "aqXPhBxJECww"
   },
   "outputs": [],
   "source": [
    "# Reading the data and forming pairs\n",
    "def readLangs(lang1, lang2, reverse=False):\n",
    "    print(\"Reading lines...\")\n",
    "\n",
    "    # Forming pairs of sentences\n",
    "    pairs = [[train_text_sa[i], train_text_mal[i]] for i in range(len(train_text_sa))]\n",
    "\n",
    "    # Reverse pairs, make Lang instances\n",
    "    if reverse:\n",
    "        pairs = [list(reversed(p)) for p in pairs]\n",
    "        input_lang = Lang(lang2)\n",
    "        output_lang = Lang(lang1)\n",
    "    else:\n",
    "        input_lang = Lang(lang1)\n",
    "        output_lang = Lang(lang2)\n",
    "\n",
    "    return input_lang, output_lang, pairs"
   ]
  },
  {
   "cell_type": "code",
   "execution_count": 8,
   "metadata": {
    "id": "H7oqLozuEs9O"
   },
   "outputs": [],
   "source": [
    "MAX_LENGTH = 200\n",
    "\n",
    "def filterPair(p):\n",
    "    return len(p[0].split(' ')) < MAX_LENGTH and len(p[1].split(' ')) < MAX_LENGTH\n",
    "\n",
    "def filterPairs(pairs):\n",
    "    return [pair for pair in pairs if filterPair(pair)]"
   ]
  },
  {
   "cell_type": "code",
   "execution_count": 25,
   "metadata": {
    "colab": {
     "base_uri": "https://localhost:8080/"
    },
    "id": "mUFirlb3FCHg",
    "outputId": "a04b6032-15c9-46be-b4b8-16545beaf4f1"
   },
   "outputs": [
    {
     "name": "stdout",
     "output_type": "stream",
     "text": [
      "Reading lines...\n",
      "Read 272 sentence pairs\n",
      "Trimmed to 272 sentence pairs\n",
      "Counting words...\n",
      "Counted words:\n",
      "sanskrit 1906\n",
      "mal 2813\n",
      "['श्री भगवानुवाच भूय एव महाबाहो श्रृणु मे परमं वचः। यत्तेऽहं प्रीयमाणाय वक्ष्यामि हितकाम्यया।।', 'ദൈത്യന്മാരി\\u200d\\u200dല്\\u200d പ്രഹ്ലാദനും, കണക്കെടുക്കന്നവരില്\\u200d കാലനും ഞാനാണ്. മൃഗങ്ങളില്\\u200d സിംഹവും പക്ഷികളി\\u200d\\u200dല്\\u200d ഗരുഡനും ഞാ\\u200dന്\\u200d തന്നെ.']\n"
     ]
    }
   ],
   "source": [
    "def prepareData(lang1, lang2, reverse=False):\n",
    "    input_lang, output_lang, pairs = readLangs(lang1, lang2, reverse)\n",
    "    print(\"Read %s sentence pairs\" % len(pairs))\n",
    "    pairs = filterPairs(pairs)\n",
    "    print(\"Trimmed to %s sentence pairs\" % len(pairs))\n",
    "    print(\"Counting words...\")\n",
    "    for pair in pairs:\n",
    "        input_lang.addSentence(pair[0])\n",
    "        output_lang.addSentence(pair[1])\n",
    "    print(\"Counted words:\")\n",
    "    print(input_lang.name, input_lang.n_words)\n",
    "    print(output_lang.name, output_lang.n_words)\n",
    "    return input_lang, output_lang, pairs\n",
    "\n",
    "\n",
    "input_lang, output_lang, pairs = prepareData('sanskrit', 'mal', False)\n",
    "print(random.choice(pairs)) # a random pair of parallel sentences"
   ]
  },
  {
   "cell_type": "markdown",
   "metadata": {
    "id": "W4D5yYuXGWqE"
   },
   "source": [
    "# **Seq2Seq Model**\n",
    "---\n",
    "A seq2seq network is a model consisting of two RNNs called the encoder and decoder. The encoder reads an input sequence and outputs a single vector, and the decoder reads that vector to produce an output sequence."
   ]
  },
  {
   "cell_type": "markdown",
   "metadata": {
    "id": "fl5SnehsGzIQ"
   },
   "source": [
    "# **Encoder**"
   ]
  },
  {
   "cell_type": "code",
   "execution_count": 11,
   "metadata": {
    "id": "mL-HNJmgGVOH"
   },
   "outputs": [],
   "source": [
    "class EncoderRNN(nn.Module):\n",
    "    def __init__(self, input_size, hidden_size):\n",
    "        super(EncoderRNN, self).__init__()\n",
    "        self.hidden_size = hidden_size\n",
    "\n",
    "        self.embedding = nn.Embedding(input_size, hidden_size)\n",
    "        self.gru = nn.GRU(hidden_size, hidden_size)\n",
    "\n",
    "    def forward(self, input, hidden):\n",
    "        embedded = self.embedding(input).view(1, 1, -1)\n",
    "        output = embedded\n",
    "        output, hidden = self.gru(output, hidden)\n",
    "        return output, hidden\n",
    "\n",
    "    def initHidden(self):\n",
    "        return torch.zeros(1, 1, self.hidden_size, device=device)"
   ]
  },
  {
   "cell_type": "markdown",
   "metadata": {
    "id": "2W40lx8BGv5G"
   },
   "source": [
    "# **Decoder**"
   ]
  },
  {
   "cell_type": "code",
   "execution_count": 12,
   "metadata": {
    "id": "MFVMbY8bGunJ"
   },
   "outputs": [],
   "source": [
    "class AttnDecoderRNN(nn.Module):\n",
    "    def __init__(self, hidden_size, output_size, dropout_p=0.1, max_length=MAX_LENGTH):\n",
    "        super(AttnDecoderRNN, self).__init__()\n",
    "        self.hidden_size = hidden_size\n",
    "        self.output_size = output_size\n",
    "        self.dropout_p = dropout_p\n",
    "        self.max_length = max_length\n",
    "\n",
    "        self.embedding = nn.Embedding(self.output_size, self.hidden_size)\n",
    "        self.attn = nn.Linear(self.hidden_size * 2, self.max_length)\n",
    "        self.attn_combine = nn.Linear(self.hidden_size * 2, self.hidden_size)\n",
    "        self.dropout = nn.Dropout(self.dropout_p)\n",
    "        self.gru = nn.GRU(self.hidden_size, self.hidden_size)\n",
    "        self.out = nn.Linear(self.hidden_size, self.output_size)\n",
    "\n",
    "    def forward(self, input, hidden, encoder_outputs):\n",
    "        embedded = self.embedding(input).view(1, 1, -1)\n",
    "        embedded = self.dropout(embedded)\n",
    "\n",
    "        attn_weights = F.softmax(\n",
    "            self.attn(torch.cat((embedded[0], hidden[0]), 1)), dim=1)\n",
    "        attn_applied = torch.bmm(attn_weights.unsqueeze(0),\n",
    "                                 encoder_outputs.unsqueeze(0))\n",
    "\n",
    "        output = torch.cat((embedded[0], attn_applied[0]), 1)\n",
    "        output = self.attn_combine(output).unsqueeze(0)\n",
    "\n",
    "        output = F.relu(output)\n",
    "        output, hidden = self.gru(output, hidden)\n",
    "\n",
    "        output = F.log_softmax(self.out(output[0]), dim=1)\n",
    "        return output, hidden, attn_weights\n",
    "\n",
    "    def initHidden(self):\n",
    "        return torch.zeros(1, 1, self.hidden_size, device=device)"
   ]
  },
  {
   "cell_type": "markdown",
   "metadata": {
    "id": "xFugQY8QFBfV"
   },
   "source": [
    "# **Training**\n"
   ]
  },
  {
   "cell_type": "code",
   "execution_count": 13,
   "metadata": {
    "id": "OyVuYKpbHV8c"
   },
   "outputs": [],
   "source": [
    "import random\n",
    "def indexesFromSentence(lang, sentence):\n",
    "    res = []\n",
    "    for word in sentence.split(' '):\n",
    "      if word not in lang.word2index.keys():\n",
    "        res.append(random.choice(list(lang.word2index.values())))    \n",
    "      else:\n",
    "        res.append(lang.word2index[word])\n",
    "    return res\n",
    "\n",
    "def tensorFromSentence(lang, sentence):\n",
    "    indexes = indexesFromSentence(lang, sentence)\n",
    "    indexes.append(EOS_token)\n",
    "    return torch.tensor(indexes, dtype=torch.long, device=device).view(-1, 1)\n",
    "\n",
    "\n",
    "def tensorsFromPair(pair):\n",
    "    input_tensor = tensorFromSentence(input_lang, pair[0])\n",
    "    target_tensor = tensorFromSentence(output_lang, pair[1])\n",
    "    return (input_tensor, target_tensor)"
   ]
  },
  {
   "cell_type": "markdown",
   "metadata": {
    "id": "zePmCpbCHioq"
   },
   "source": [
    "# **Training the model**"
   ]
  },
  {
   "cell_type": "code",
   "execution_count": 14,
   "metadata": {
    "id": "SNuZNaY_HenJ"
   },
   "outputs": [],
   "source": [
    "teacher_forcing_ratio = 0.5\n",
    "def train(input_tensor, target_tensor, encoder, decoder, encoder_optimizer, decoder_optimizer, criterion, max_length=MAX_LENGTH):\n",
    "    encoder_hidden = encoder.initHidden()\n",
    "\n",
    "    encoder_optimizer.zero_grad()\n",
    "    decoder_optimizer.zero_grad()\n",
    "\n",
    "    input_length = input_tensor.size(0)\n",
    "    target_length = target_tensor.size(0)\n",
    "\n",
    "    encoder_outputs = torch.zeros(max_length, encoder.hidden_size, device=device)\n",
    "\n",
    "    loss = 0\n",
    "\n",
    "    for ei in range(input_length):\n",
    "        encoder_output, encoder_hidden = encoder(\n",
    "            input_tensor[ei], encoder_hidden)\n",
    "        encoder_outputs[ei] = encoder_output[0, 0]\n",
    "\n",
    "    decoder_input = torch.tensor([[SOS_token]], device=device)\n",
    "\n",
    "    decoder_hidden = encoder_hidden\n",
    "\n",
    "    use_teacher_forcing = True if random.random() < teacher_forcing_ratio else False\n",
    "\n",
    "    if use_teacher_forcing:\n",
    "        for di in range(target_length):\n",
    "            decoder_output, decoder_hidden, decoder_attention = decoder(\n",
    "                decoder_input, decoder_hidden, encoder_outputs)\n",
    "            loss += criterion(decoder_output, target_tensor[di])\n",
    "            decoder_input = target_tensor[di]\n",
    "\n",
    "    else:\n",
    "        for di in range(target_length):\n",
    "            decoder_output, decoder_hidden, decoder_attention = decoder(\n",
    "                decoder_input, decoder_hidden, encoder_outputs)\n",
    "            topv, topi = decoder_output.topk(1)\n",
    "            decoder_input = topi.squeeze().detach()\n",
    "\n",
    "            loss += criterion(decoder_output, target_tensor[di])\n",
    "            if decoder_input.item() == EOS_token:\n",
    "                break\n",
    "\n",
    "    loss.backward()\n",
    "\n",
    "    encoder_optimizer.step()\n",
    "    decoder_optimizer.step()\n",
    "\n",
    "    return loss.item() / target_length"
   ]
  },
  {
   "cell_type": "code",
   "execution_count": 15,
   "metadata": {
    "id": "2g9zrFapHhyy"
   },
   "outputs": [],
   "source": [
    "# Print time elapsed and estimated time remaining given the current time and progress %.\n",
    "import time\n",
    "import math\n",
    "\n",
    "\n",
    "def asMinutes(s):\n",
    "    m = math.floor(s / 60)\n",
    "    s -= m * 60\n",
    "    return '%dm %ds' % (m, s)\n",
    "\n",
    "def timeSince(since, percent):\n",
    "    now = time.time()\n",
    "    s = now - since\n",
    "    es = s / (percent)\n",
    "    rs = es - s\n",
    "    return '%s (- %s)' % (asMinutes(s), asMinutes(rs))"
   ]
  },
  {
   "cell_type": "code",
   "execution_count": 16,
   "metadata": {
    "id": "rdtIHPiDHsAF"
   },
   "outputs": [],
   "source": [
    "# Each iteration of training\n",
    "def trainIters(encoder, decoder, n_iters, print_every=1000, plot_every=100, learning_rate=0.01):\n",
    "    start = time.time()\n",
    "    plot_losses = []\n",
    "    print_loss_total = 0  # Reset every print_every\n",
    "    plot_loss_total = 0  # Reset every plot_every\n",
    "\n",
    "    encoder_optimizer = optim.SGD(encoder.parameters(), lr=learning_rate)\n",
    "    decoder_optimizer = optim.SGD(decoder.parameters(), lr=learning_rate)\n",
    "    training_pairs = [tensorsFromPair(random.choice(pairs))\n",
    "                      for i in range(n_iters)]\n",
    "    criterion = nn.NLLLoss()\n",
    "\n",
    "    for iter in range(1, n_iters + 1):\n",
    "        training_pair = training_pairs[iter - 1]\n",
    "        input_tensor = training_pair[0]\n",
    "        target_tensor = training_pair[1]\n",
    "\n",
    "        loss = train(input_tensor, target_tensor, encoder,\n",
    "                     decoder, encoder_optimizer, decoder_optimizer, criterion)\n",
    "        print_loss_total += loss\n",
    "        plot_loss_total += loss\n",
    "\n",
    "        if iter % print_every == 0:\n",
    "            print_loss_avg = print_loss_total / print_every\n",
    "            print_loss_total = 0\n",
    "            print('%s (%d %d%%) %.4f' % (timeSince(start, iter / n_iters),\n",
    "                                         iter, iter / n_iters * 100, print_loss_avg))\n",
    "\n",
    "        if iter % plot_every == 0:\n",
    "            plot_loss_avg = plot_loss_total / plot_every\n",
    "            plot_losses.append(plot_loss_avg)\n",
    "            plot_loss_total = 0\n",
    "\n",
    "    showPlot(plot_losses)"
   ]
  },
  {
   "cell_type": "markdown",
   "metadata": {
    "id": "zCYVcQ8DHuDX"
   },
   "source": [
    "# **Evaluation**"
   ]
  },
  {
   "cell_type": "code",
   "execution_count": 17,
   "metadata": {
    "id": "RSf-saDZHyaQ"
   },
   "outputs": [],
   "source": [
    "def evaluate(encoder, decoder, sentence, max_length=MAX_LENGTH):\n",
    "    with torch.no_grad():\n",
    "        input_tensor = tensorFromSentence(input_lang, sentence)\n",
    "        input_length = input_tensor.size()[0]\n",
    "        encoder_hidden = encoder.initHidden()\n",
    "\n",
    "        encoder_outputs = torch.zeros(max_length, encoder.hidden_size, device=device)\n",
    "\n",
    "        for ei in range(input_length):\n",
    "            encoder_output, encoder_hidden = encoder(input_tensor[ei],\n",
    "                                                     encoder_hidden)\n",
    "            encoder_outputs[ei] += encoder_output[0, 0]\n",
    "\n",
    "        decoder_input = torch.tensor([[SOS_token]], device=device)  # SOS\n",
    "\n",
    "        decoder_hidden = encoder_hidden\n",
    "\n",
    "        decoded_words = []\n",
    "        decoder_attentions = torch.zeros(max_length, max_length)\n",
    "\n",
    "        for di in range(max_length):\n",
    "            decoder_output, decoder_hidden, decoder_attention = decoder(\n",
    "                decoder_input, decoder_hidden, encoder_outputs)\n",
    "            decoder_attentions[di] = decoder_attention.data\n",
    "            topv, topi = decoder_output.data.topk(1)\n",
    "            if topi.item() == EOS_token:\n",
    "                decoded_words.append('<EOS>')\n",
    "                break\n",
    "            else:\n",
    "                decoded_words.append(output_lang.index2word[topi.item()])\n",
    "\n",
    "            decoder_input = topi.squeeze().detach()\n",
    "\n",
    "        return decoded_words, decoder_attentions[:di + 1]"
   ]
  },
  {
   "cell_type": "code",
   "execution_count": 18,
   "metadata": {
    "id": "4mQhM6JDH1Zf"
   },
   "outputs": [],
   "source": [
    "def evaluate_test(encoder, decoder):\n",
    "  test = []\n",
    "  %cd /Users/Flora Johnson/Desktop/Sanskrit2mal/parallel-corpus/sanskrit-mal\n",
    "  with open('test_sanskrit.sa', 'r', encoding=\"utf8\") as f:\n",
    "    test_text = [x.replace('\\n', '') for x in f.readlines()]\n",
    "  for sa_text in test_text:\n",
    "    output_words, attentions = evaluate(encoder, decoder, sa_text)\n",
    "    output_sentence = ' '.join(output_words)\n",
    "    test.append(output_sentence)\n",
    "  with open('translated_malayalam.ma', 'w', encoding=\"utf8\") as f:\n",
    "    for line in test:\n",
    "        f.write(line + '\\n')"
   ]
  },
  {
   "cell_type": "code",
   "execution_count": 19,
   "metadata": {
    "id": "pm249mzJuQcG"
   },
   "outputs": [],
   "source": [
    "def translator(encoder, decoder):\n",
    "    test_text = 'संस्कृति'\n",
    "\n",
    "    output_words, attentions = evaluate(encoder, decoder, test_text)\n",
    "    output_sentence = ' '.join(output_words)\n",
    "    print(output_sentence)"
   ]
  },
  {
   "cell_type": "code",
   "execution_count": 20,
   "metadata": {
    "id": "mkVy3w1juQcH",
    "outputId": "0922a6e7-24d9-4574-a848-7df22253a6dd"
   },
   "outputs": [
    {
     "name": "stdout",
     "output_type": "stream",
     "text": [
      "C:\\Users\\Flora Johnson\\Desktop\\Sanskrit2mal\\parallel-corpus\\sanskrit-mal\n"
     ]
    }
   ],
   "source": [
    "%cd /Users/Flora Johnson/Desktop/Sanskrit2mal/parallel-corpus/sanskrit-mal"
   ]
  },
  {
   "cell_type": "code",
   "execution_count": null,
   "metadata": {
    "id": "V2q54vsBuQcH",
    "outputId": "56fae9d9-9259-4521-90ca-ca62863fae7b"
   },
   "outputs": [],
   "source": []
  },
  {
   "cell_type": "code",
   "execution_count": 21,
   "metadata": {
    "colab": {
     "base_uri": "https://localhost:8080/"
    },
    "id": "eSwIZgd1ICB6",
    "outputId": "611feb83-5766-4234-8a9f-d1b26cc4fde7"
   },
   "outputs": [
    {
     "name": "stdout",
     "output_type": "stream",
     "text": [
      "1m 19s (- 196m 58s) (500 0%) 5.1425\n",
      "2m 57s (- 219m 15s) (1000 1%) 5.7834\n",
      "4m 34s (- 224m 22s) (1500 2%) 5.8752\n",
      "6m 5s (- 222m 16s) (2000 2%) 5.5465\n",
      "7m 44s (- 224m 23s) (2500 3%) 5.1681\n",
      "9m 53s (- 237m 17s) (3000 4%) 4.9125\n",
      "11m 44s (- 239m 58s) (3500 4%) 4.4321\n",
      "13m 31s (- 240m 3s) (4000 5%) 3.6756\n",
      "15m 12s (- 238m 10s) (4500 6%) 2.9701\n",
      "16m 53s (- 236m 27s) (5000 6%) 2.1612\n",
      "18m 38s (- 235m 28s) (5500 7%) 1.5937\n",
      "20m 22s (- 234m 16s) (6000 8%) 1.0889\n",
      "22m 6s (- 232m 55s) (6500 8%) 0.6179\n",
      "28m 52s (- 280m 31s) (7000 9%) 0.3644\n",
      "30m 40s (- 276m 2s) (7500 10%) 0.2821\n",
      "32m 38s (- 273m 18s) (8000 10%) 0.2001\n",
      "34m 50s (- 272m 34s) (8500 11%) 0.1329\n",
      "36m 44s (- 269m 23s) (9000 12%) 0.0916\n",
      "38m 39s (- 266m 33s) (9500 12%) 0.0686\n",
      "40m 33s (- 263m 39s) (10000 13%) 0.0640\n",
      "42m 26s (- 260m 43s) (10500 14%) 0.0635\n",
      "44m 13s (- 257m 20s) (11000 14%) 0.0547\n",
      "46m 1s (- 254m 10s) (11500 15%) 0.0457\n",
      "47m 54s (- 251m 33s) (12000 16%) 0.0500\n",
      "49m 47s (- 248m 59s) (12500 16%) 0.0393\n",
      "51m 51s (- 247m 20s) (13000 17%) 0.0506\n",
      "53m 46s (- 244m 59s) (13500 18%) 0.0322\n",
      "55m 37s (- 242m 21s) (14000 18%) 0.0274\n",
      "57m 28s (- 239m 47s) (14500 19%) 0.0258\n",
      "59m 17s (- 237m 11s) (15000 20%) 0.0266\n",
      "61m 5s (- 234m 31s) (15500 20%) 0.0236\n",
      "62m 59s (- 232m 16s) (16000 21%) 0.0321\n",
      "64m 55s (- 230m 12s) (16500 22%) 0.0208\n",
      "75m 7s (- 256m 17s) (17000 22%) 0.0195\n",
      "76m 48s (- 252m 22s) (17500 23%) 0.0428\n",
      "78m 47s (- 249m 29s) (18000 24%) 0.0283\n",
      "80m 49s (- 246m 51s) (18500 24%) 0.0232\n",
      "82m 48s (- 244m 3s) (19000 25%) 0.0243\n",
      "84m 42s (- 241m 6s) (19500 26%) 0.0267\n",
      "86m 52s (- 238m 53s) (20000 26%) 0.0157\n",
      "89m 3s (- 236m 45s) (20500 27%) 0.0153\n",
      "91m 10s (- 234m 26s) (21000 28%) 0.0208\n",
      "93m 15s (- 232m 3s) (21500 28%) 0.0146\n",
      "95m 17s (- 229m 33s) (22000 29%) 0.0145\n",
      "97m 19s (- 227m 6s) (22500 30%) 0.0135\n",
      "99m 26s (- 224m 48s) (23000 30%) 0.0130\n",
      "101m 34s (- 222m 36s) (23500 31%) 0.0129\n",
      "103m 40s (- 220m 18s) (24000 32%) 0.0124\n",
      "105m 47s (- 218m 4s) (24500 32%) 0.0119\n",
      "107m 51s (- 215m 42s) (25000 33%) 0.0116\n",
      "109m 58s (- 213m 28s) (25500 34%) 0.0112\n",
      "111m 55s (- 210m 56s) (26000 34%) 0.0108\n",
      "113m 42s (- 208m 5s) (26500 35%) 0.0106\n",
      "115m 30s (- 205m 20s) (27000 36%) 0.0105\n",
      "117m 19s (- 202m 39s) (27500 36%) 0.0102\n",
      "119m 7s (- 199m 57s) (28000 37%) 0.0097\n",
      "121m 5s (- 197m 34s) (28500 38%) 0.0098\n",
      "122m 49s (- 194m 49s) (29000 38%) 0.0094\n",
      "124m 45s (- 192m 25s) (29500 39%) 0.0092\n",
      "126m 40s (- 190m 0s) (30000 40%) 0.0092\n",
      "128m 35s (- 187m 37s) (30500 40%) 0.0088\n",
      "130m 35s (- 185m 21s) (31000 41%) 0.0086\n",
      "132m 35s (- 183m 5s) (31500 42%) 0.0086\n",
      "134m 27s (- 180m 41s) (32000 42%) 0.0083\n",
      "136m 22s (- 178m 19s) (32500 43%) 0.0083\n",
      "138m 14s (- 175m 56s) (33000 44%) 0.0080\n",
      "140m 7s (- 173m 35s) (33500 44%) 0.0079\n",
      "141m 53s (- 171m 6s) (34000 45%) 0.0077\n",
      "143m 41s (- 168m 40s) (34500 46%) 0.0076\n",
      "145m 33s (- 166m 21s) (35000 46%) 0.0074\n",
      "147m 35s (- 164m 13s) (35500 47%) 0.0074\n",
      "149m 24s (- 161m 51s) (36000 48%) 0.0072\n",
      "151m 12s (- 159m 30s) (36500 48%) 0.0071\n",
      "153m 0s (- 157m 8s) (37000 49%) 0.0070\n",
      "154m 48s (- 154m 48s) (37500 50%) 0.0069\n",
      "156m 40s (- 152m 33s) (38000 50%) 0.0068\n",
      "158m 40s (- 150m 26s) (38500 51%) 0.0067\n",
      "160m 38s (- 148m 17s) (39000 52%) 0.0065\n",
      "162m 29s (- 146m 2s) (39500 52%) 0.0065\n",
      "164m 22s (- 143m 49s) (40000 53%) 0.0063\n",
      "166m 13s (- 141m 35s) (40500 54%) 0.0063\n",
      "168m 2s (- 139m 21s) (41000 54%) 0.0062\n",
      "169m 53s (- 137m 8s) (41500 55%) 0.0062\n",
      "171m 42s (- 134m 54s) (42000 56%) 0.0060\n",
      "173m 30s (- 132m 41s) (42500 56%) 0.0059\n",
      "175m 18s (- 130m 27s) (43000 57%) 0.0058\n",
      "177m 5s (- 128m 14s) (43500 57%) 0.0058\n",
      "178m 51s (- 126m 0s) (44000 58%) 0.0057\n",
      "180m 36s (- 123m 47s) (44500 59%) 0.0056\n",
      "193m 48s (- 129m 12s) (45000 60%) 0.0055\n",
      "195m 7s (- 126m 30s) (45500 60%) 0.0055\n",
      "196m 52s (- 124m 6s) (46000 61%) 0.0054\n"
     ]
    },
    {
     "ename": "KeyboardInterrupt",
     "evalue": "",
     "output_type": "error",
     "traceback": [
      "\u001b[1;31m---------------------------------------------------------------------------\u001b[0m",
      "\u001b[1;31mKeyboardInterrupt\u001b[0m                         Traceback (most recent call last)",
      "\u001b[1;32mC:\\Users\\FLORAJ~1\\AppData\\Local\\Temp/ipykernel_3520/1841567301.py\u001b[0m in \u001b[0;36m<module>\u001b[1;34m\u001b[0m\n\u001b[0;32m      6\u001b[0m \u001b[1;33m\u001b[0m\u001b[0m\n\u001b[0;32m      7\u001b[0m \u001b[1;31m# train\u001b[0m\u001b[1;33m\u001b[0m\u001b[1;33m\u001b[0m\u001b[0m\n\u001b[1;32m----> 8\u001b[1;33m \u001b[0mtrainIters\u001b[0m\u001b[1;33m(\u001b[0m\u001b[0mencoder1\u001b[0m\u001b[1;33m,\u001b[0m \u001b[0mattn_decoder1\u001b[0m\u001b[1;33m,\u001b[0m \u001b[1;36m75000\u001b[0m\u001b[1;33m,\u001b[0m \u001b[0mprint_every\u001b[0m\u001b[1;33m=\u001b[0m\u001b[1;36m500\u001b[0m\u001b[1;33m)\u001b[0m\u001b[1;33m\u001b[0m\u001b[1;33m\u001b[0m\u001b[0m\n\u001b[0m",
      "\u001b[1;32mC:\\Users\\FLORAJ~1\\AppData\\Local\\Temp/ipykernel_3520/1722903721.py\u001b[0m in \u001b[0;36mtrainIters\u001b[1;34m(encoder, decoder, n_iters, print_every, plot_every, learning_rate)\u001b[0m\n\u001b[0;32m     17\u001b[0m         \u001b[0mtarget_tensor\u001b[0m \u001b[1;33m=\u001b[0m \u001b[0mtraining_pair\u001b[0m\u001b[1;33m[\u001b[0m\u001b[1;36m1\u001b[0m\u001b[1;33m]\u001b[0m\u001b[1;33m\u001b[0m\u001b[1;33m\u001b[0m\u001b[0m\n\u001b[0;32m     18\u001b[0m \u001b[1;33m\u001b[0m\u001b[0m\n\u001b[1;32m---> 19\u001b[1;33m         loss = train(input_tensor, target_tensor, encoder,\n\u001b[0m\u001b[0;32m     20\u001b[0m                      decoder, encoder_optimizer, decoder_optimizer, criterion)\n\u001b[0;32m     21\u001b[0m         \u001b[0mprint_loss_total\u001b[0m \u001b[1;33m+=\u001b[0m \u001b[0mloss\u001b[0m\u001b[1;33m\u001b[0m\u001b[1;33m\u001b[0m\u001b[0m\n",
      "\u001b[1;32mC:\\Users\\FLORAJ~1\\AppData\\Local\\Temp/ipykernel_3520/260101004.py\u001b[0m in \u001b[0;36mtrain\u001b[1;34m(input_tensor, target_tensor, encoder, decoder, encoder_optimizer, decoder_optimizer, criterion, max_length)\u001b[0m\n\u001b[0;32m     42\u001b[0m                 \u001b[1;32mbreak\u001b[0m\u001b[1;33m\u001b[0m\u001b[1;33m\u001b[0m\u001b[0m\n\u001b[0;32m     43\u001b[0m \u001b[1;33m\u001b[0m\u001b[0m\n\u001b[1;32m---> 44\u001b[1;33m     \u001b[0mloss\u001b[0m\u001b[1;33m.\u001b[0m\u001b[0mbackward\u001b[0m\u001b[1;33m(\u001b[0m\u001b[1;33m)\u001b[0m\u001b[1;33m\u001b[0m\u001b[1;33m\u001b[0m\u001b[0m\n\u001b[0m\u001b[0;32m     45\u001b[0m \u001b[1;33m\u001b[0m\u001b[0m\n\u001b[0;32m     46\u001b[0m     \u001b[0mencoder_optimizer\u001b[0m\u001b[1;33m.\u001b[0m\u001b[0mstep\u001b[0m\u001b[1;33m(\u001b[0m\u001b[1;33m)\u001b[0m\u001b[1;33m\u001b[0m\u001b[1;33m\u001b[0m\u001b[0m\n",
      "\u001b[1;32m~\\anaconda3\\lib\\site-packages\\torch\\_tensor.py\u001b[0m in \u001b[0;36mbackward\u001b[1;34m(self, gradient, retain_graph, create_graph, inputs)\u001b[0m\n\u001b[0;32m    361\u001b[0m                 \u001b[0mcreate_graph\u001b[0m\u001b[1;33m=\u001b[0m\u001b[0mcreate_graph\u001b[0m\u001b[1;33m,\u001b[0m\u001b[1;33m\u001b[0m\u001b[1;33m\u001b[0m\u001b[0m\n\u001b[0;32m    362\u001b[0m                 inputs=inputs)\n\u001b[1;32m--> 363\u001b[1;33m         \u001b[0mtorch\u001b[0m\u001b[1;33m.\u001b[0m\u001b[0mautograd\u001b[0m\u001b[1;33m.\u001b[0m\u001b[0mbackward\u001b[0m\u001b[1;33m(\u001b[0m\u001b[0mself\u001b[0m\u001b[1;33m,\u001b[0m \u001b[0mgradient\u001b[0m\u001b[1;33m,\u001b[0m \u001b[0mretain_graph\u001b[0m\u001b[1;33m,\u001b[0m \u001b[0mcreate_graph\u001b[0m\u001b[1;33m,\u001b[0m \u001b[0minputs\u001b[0m\u001b[1;33m=\u001b[0m\u001b[0minputs\u001b[0m\u001b[1;33m)\u001b[0m\u001b[1;33m\u001b[0m\u001b[1;33m\u001b[0m\u001b[0m\n\u001b[0m\u001b[0;32m    364\u001b[0m \u001b[1;33m\u001b[0m\u001b[0m\n\u001b[0;32m    365\u001b[0m     \u001b[1;32mdef\u001b[0m \u001b[0mregister_hook\u001b[0m\u001b[1;33m(\u001b[0m\u001b[0mself\u001b[0m\u001b[1;33m,\u001b[0m \u001b[0mhook\u001b[0m\u001b[1;33m)\u001b[0m\u001b[1;33m:\u001b[0m\u001b[1;33m\u001b[0m\u001b[1;33m\u001b[0m\u001b[0m\n",
      "\u001b[1;32m~\\anaconda3\\lib\\site-packages\\torch\\autograd\\__init__.py\u001b[0m in \u001b[0;36mbackward\u001b[1;34m(tensors, grad_tensors, retain_graph, create_graph, grad_variables, inputs)\u001b[0m\n\u001b[0;32m    171\u001b[0m     \u001b[1;31m# some Python versions print out the first line of a multi-line function\u001b[0m\u001b[1;33m\u001b[0m\u001b[1;33m\u001b[0m\u001b[0m\n\u001b[0;32m    172\u001b[0m     \u001b[1;31m# calls in the traceback and some print out the last line\u001b[0m\u001b[1;33m\u001b[0m\u001b[1;33m\u001b[0m\u001b[0m\n\u001b[1;32m--> 173\u001b[1;33m     Variable._execution_engine.run_backward(  # Calls into the C++ engine to run the backward pass\n\u001b[0m\u001b[0;32m    174\u001b[0m         \u001b[0mtensors\u001b[0m\u001b[1;33m,\u001b[0m \u001b[0mgrad_tensors_\u001b[0m\u001b[1;33m,\u001b[0m \u001b[0mretain_graph\u001b[0m\u001b[1;33m,\u001b[0m \u001b[0mcreate_graph\u001b[0m\u001b[1;33m,\u001b[0m \u001b[0minputs\u001b[0m\u001b[1;33m,\u001b[0m\u001b[1;33m\u001b[0m\u001b[1;33m\u001b[0m\u001b[0m\n\u001b[0;32m    175\u001b[0m         allow_unreachable=True, accumulate_grad=True)  # Calls into the C++ engine to run the backward pass\n",
      "\u001b[1;31mKeyboardInterrupt\u001b[0m: "
     ]
    }
   ],
   "source": [
    "# defining hidden layer size and the encoder and decoder networks\n",
    "hidden_size = 1024\n",
    "\n",
    "encoder1 = EncoderRNN(input_lang.n_words, hidden_size).to(device)\n",
    "attn_decoder1 = AttnDecoderRNN(hidden_size, output_lang.n_words, dropout_p=0.1).to(device)\n",
    "\n",
    "# train\n",
    "trainIters(encoder1, attn_decoder1, 75000, print_every=500)"
   ]
  },
  {
   "cell_type": "code",
   "execution_count": null,
   "metadata": {
    "id": "gru3S0bsIeff",
    "outputId": "3aea3a2c-e81d-41e9-d161-3e04b08c5fe5"
   },
   "outputs": [],
   "source": [
    "# saving the trained models\n",
    "%cd /Users/Flora Johnson/Desktop/Sanskrit2mal\n",
    "torch.save(encoder1.state_dict(), 'trained_encoder.pth')\n",
    "torch.save(attn_decoder1.state_dict(), 'trained_decoder.pth')"
   ]
  },
  {
   "cell_type": "code",
   "execution_count": null,
   "metadata": {
    "id": "MwkAhG8vuQcJ",
    "outputId": "95feccd0-ffff-490f-8269-27fe2cb7a743"
   },
   "outputs": [],
   "source": [
    "evaluate_test(encoder1, attn_decoder1)"
   ]
  },
  {
   "cell_type": "code",
   "execution_count": null,
   "metadata": {
    "id": "LVMP7f9DuQcK",
    "outputId": "10a5c9df-a16a-433e-9feb-6cb9b80f264b"
   },
   "outputs": [
    {
     "name": "stdout",
     "output_type": "stream",
     "text": [
      "/home/glitch/project/Sanskrit2mal/parallel-corpus/sanskrit-mal\n",
      "[['കൃഷ്ണാ! എനിക്ക് അങ്ങയുടെ യോഗത്തേയും ശരിയായി അറിയുന്നവ\\u200dന്\\u200d നിശ്ചലമായ ഏകാഗ്രനിഷ്ഠയോടുകൂടിയവനാണ്; അതി\\u200cല്\\u200d\\u200d സംശയമില്ല. <EOS>\\n', 'ഹേ കൃഷ്ണാ, മനസ്സ് ചഞ്ചലവും ക്ഷുബ്ധവും നിയന്ത്രണ ത്തിനു വഴങ്ങാത്തതും അയവില്ലാത്തതുമാണ്. അതിന്റെ നിയന്ത്രണം വായുവിന്റെതെന്നപോലെ ദുഷ്ക്കരമായി ഞാന്\\u200d കരുതുന്നു. <EOS>\\n', 'ഹേ അ\\u200cര്\\u200dജ്ജുനാ! ഈ രണ്ടു മാര്\\u200dഗ്ഗങ്ങളെ യഥാ\\u200d\\u200dര്\\u200dത്ഥമായറിയുന്ന യാതൊരു ക\\u200dര്\\u200dമ്മയോഗിയും മോഹത്തെ പ്രാപിക്കുന്നില്ല.. അതുകൊണ്ടു ഹേ അ\\u200cര്\\u200dജ്ജുനാ, സമല കാലങ്ങളിലും ക\\u200dര്\\u200dമ്മയോഗയുക്തനയി ഭവിക്കുക. <EOS>\\n', 'എന്റെ അവ്യയവും അനുത്തമവും തമോഗുണസ്പര്\\u200dശമില്ലാത്തതുമായ സര്\\u200dവാതീതഭാവത്തെ അറിയാതെ അവ്യക്തനായ എന്നെ വ്യക്തിത്വം പ്രാപിച്ചവനെന്നു ബുദ്ധിഹീനര്\\u200d വിചാരിക്കുന്നു. <EOS>\\n', '[] <EOS>\\n', 'ഞാന്\\u200d അമൃതവും (അനശ്വരവും) അവ്യയവുമായ (മാറ്റമില്ലാത്തതുമായ) ബ്രഹ്മത്തിന്റെയും, ശാശ്വതമായ ധര്\\u200dമ്മ ത്തിന്റെയും, പരമമായ സുഖത്തിന്റെയും പ്രതിഷ്ഠയുമാകുന്നു (ആശ്രയവുമാകുന്നു). <EOS>\\n', 'അതുകൊണ്ടു ഏത് കാലത്തും എന്നെ സ്മരിക്കയും യുദ്ധം ചെയ്യുകയും ചെയ്യുക. എന്നില്\\u200d മനസ്സും ബുദ്ധിയും അര്\\u200dപ്പിച്ച നീ എന്നെ തന്നെ നിസ്സംശയമായും പ്രാപിക്കും. <EOS>\\n', 'ചരാചരങ്ങളോടുകൂടിയ മഹാപ്രപഞ്ചത്തേയും നീ കാണുവാ\\u200c\\u200dന്\\u200d ആഗ്രഹിക്കുന്ന മറ്റുള്ളവയേയും എന്റെ ദേഹത്തി\\u200d\\u200dല്\\u200dഒന്നിച്ചു നി\\u200dല്\\u200dക്കുന്നത് ഇതാ നീ കാണുക. <EOS>\\n', 'എല്ലാസ്ഥാനത്തും അവരവരുടെ പങ്കനുസരിച്ചു നിലയുറപ്പിച്ച നിങ്ങള്\\u200d എല്ലാവരും തന്നെ ഭീഷ്മരെതന്നെ കാത്തു രക്ഷിക്കണം. <EOS>\\n', 'എന്തുകൊണ്ടെന്നാല്\\u200d ക\\u200d\\u200d\\u200dര്\\u200dമ്മം കൊണ്ടുതന്നെയാണ് ജനകാദികള്\\u200d സിദ്ധിയെ പ്രാപിച്ചത്. ലോകസംരക്ഷണത്തെ ഓര്\\u200dത്തിട്ടായാലും നീ പ്രവര്\\u200dത്തിക്കേണ്ടതാണ്. <EOS>\\n', 'അര്\\u200dജുനന്\\u200d ചോദിച്ചു: ആദിത്യന്റെ എന്നെ ആശ്രയമായി ക്കരുതി, അന്യവിഷയങ്ങളില്\\u200d നിന്ന് വിട്ട്, ഏകാഗ്രചിത്തതയോടു <EOS>\\n', 'കൃഷ്ണാ! അങ്ങയുടെ യോഗത്തേയും ഐശ്വര്യത്തേയും വീണ്ടും സവിസ്തരം പറഞ്ഞാലും. അങ്ങയുടെ അമൃതസമമായ വാക്കുക\\u200dള്\\u200d എത്ര കേട്ടിട്ടും എനിക്കു തൃപ്തിയാകുന്നില്ല. <EOS>\\n', 'ഹേ ഭാരതാ, അപണ്ഡിതന്മാര്\\u200d ക\\u200dര്\\u200dമ്മത്തില്\\u200d ആസക്തരായി എങ്ങിനെയെല്ല\\u200dാം പ്രവര്\\u200dത്തിക്കുന്നുവോ പണ്ഡിതന്\\u200d ലോകത്തിന്റെ നിലനില്\\u200dപ്പ്\\u200c ക\\u200dാംക്ഷിച്ചുകൊണ്ടു നിസ്സംഗനായി അതേവിധം പ്രവ\\u200dര്\\u200dത്തിക്കണം. <EOS>\\n', 'ഹേ പാര്\\u200dത്ഥ, യാതോരുവന്റെ ഉള്ളിലാണോ ഭൂതങ്ങ\\u200d\\u200dള്\\u200d സ്ഥിതിചെയ്യുന്നത്\\u200d, യാതോരുവനാല്\\u200d ഇതെല്ല\\u200dാം വ്യാപ്തമായിരി ക്കുന്നുവോ ആ പരമപുരുഷനെ ഏകാന്തഭക്തികൊണ്ട് പ്രാപിക്കാവുന്നതാണ്. <EOS>\\n', 'അഭ്യാസത്തിലും നീ അശക്തനാണെങ്കി\\u200dല്\\u200d എന്നെ ഉദ്ദേശിച്ചു ക\\u200dര്\\u200dമ്മം ചെയ്യുക. എന്നെയുദ്ദേശിച്ചു ക\\u200dര്\\u200dമ്മം ചെയ്\\u200dതാലും നിനക്കു സിദ്ധിയെ പ്രാപിക്കാവുന്നതാണ്. <EOS>\\n', 'ആ ശബ്ദകോലാഹലം ആകാശത്തെയും ഭൂമിയെയും പ്രതിധ്വനിപ്പിച്ചു കൊണ്ടു ധൃതരാഷ്ട്ര പുത്രന്മാരുടെ ഹൃദയം പിളര്\\u200dന്നു. <EOS>\\n', 'യജ്ഞത്തിന്റെയും തപസ്സിന്റെയും ഭോക്താവും ലോകങ്ങളുടെയെല്ലാം നാഥനും എല്ലാ ജീവികളുടെയും സുഹൃത്തുമായി എന്നെ അറിയുന്നവൻ ശാന്തിയെ പ്രാപിക്കുന്നു. <EOS>\\n', 'ആത്മജ്ഞരും, കാമക്രോധങ്ങളില്ലാത്തവരും മനസിനെ നിയന്ത്രിച്ചവരും ആയ യോഗികൾക്ക് ഇഹത്തിലും പരത്തിലും ബ്രഹ്മനിർവ്വാണം പ്രാപ്തമാകുന്നു. <EOS>\\n', 'സഞ്ജയന്\\u200d പറഞ്ഞു: ഭരത വംശജനായ രാജാവേ, അര്\\u200dജുനനാല്\\u200d ഇങ്ങനെ പറയപ്പെട്ടപ്പോ\\u200c ള്\\u200d ശ്രീകൃഷ്ണന്\\u200d ഉത്തമമായ രഥത്തെ രണ്ടു സൈന്യത്തിന്റെയും നടുവില്\\u200d നിര്\\u200dത്തി, ഭീഷ്മര്\\u200d ദ്രോണര്\\u200d തുടങ്ങിയ എല്ലാ ഭൂപാലകരും നില്\\u200dക്കെ, “അര്\\u200dജുനാ, കൂട്ടംചേര്\\u200dന്നു നില്ക്കുന്ന ഈ കൗരവന്മാരെ കണ്ടുകൊള്\\u200dക” എന്നു പറഞ്ഞു. <EOS>\\n', 'ഹേ അര്\\u200dജുന, ഇനി മൂന്നു വിധത്തിലുള്ള സുഖത്തെ കേട്ടുകൊള്ളുക. അഭ്യാസം കൊണ്ട് യാതൊരു സുഖത്തില്\\u200d സന്തോഷിച്ചു തുടങ്ങുകയും, ദുഃഖത്തിനറുതി വരുകയും ചെയ്യുന്നുവോ, ആദ്യം വിഷം പോലെയും ഒടുവില്\\u200d അമൃതസമാനമായും അനുഭവപ്പെടുന്നുവോ, ആത്മജ്ഞാനത്തില്\\u200dനിന്നുണ്ടാകുന്ന ആ സുഖം സാത്വികമാണ്. <EOS>\\n', 'ആ കുന്തീപുത്രന്\\u200d ബന്ധുക്കളെ എല്ല\\u200dാം നന്നായി നോക്കിക്കണ്ട്\\u200c, അത്യന്തം കൃപയോടെ വിഷാദിച്ചുകൊണ്ട് ഇങ്ങനെ പറഞ്ഞു. <EOS>\\n', 'അര്\\u200dജുനന്\\u200d പറഞ്ഞു: കൃഷ്ണാ, യുദ്ധം ചെയ്യാന്\\u200d ഒരുങ്ങി നില്ക്കുന്ന ഈ സ്വജനങ്ങളെ കണ്ടിട്ട് എന്റെ ശരീരമാസകലം തളരുന്നു; വായ് വരളുകയും ചെയ്യുന്നു. എന്റെ ശരീരം വിറയ്ക്കുകയും രോമാഞ്ചവും ഉണ്ടാകുന്നു. ഗാണ്ഡീവം കൈയ്യില്\\u200d നിന്നും വഴുതുന്നു. ദേഹം ചുട്ടുനീറുകയും ചെയ്യുന്നു. നില്\\u200dക്കാന്\\u200d എനിക്ക് കഴിയുന്നില്ല. എന്റെ മനസ്സു സംഭ്രമിക്കുന്നതു പോലെ തോന്നുന്നു. പല ദു\\u200dര്\\u200dനിമിത്തങ്ങളും കാണുന്നു. യുദ്ധത്തില്\\u200d സ്വജനത്തെ കൊന്നിട്ട് ഒരു ശ്രേയസ്സും ഞാന്\\u200d കാണുന്നില്ല. <EOS>\\n', 'ശ്രീകൃഷ്ണ\\u200dന്\\u200d പറഞ്ഞു: ദേവന്മാ\\u200dര്\\u200dപോലും എന്നും ദ\\u200dര്\\u200dശിക്കുവാ\\u200d\\u200dന്\\u200d അതിയായി ആഗ്രഹിച്ചു കൊണ്ടിരിക്കുന്നതും, ദ\\u200dര്\\u200dശിപ്പാ\\u200cന്\\u200d പ്രയാസമായിട്ടുള്ളതും ആയ എന്റെ ഈ രൂപത്തെ നീ കണ്ടുവല്ലോ. <EOS>\\n', 'സ്ഥിരതയില്ലാത്തവനും, പ്രാകൃതനും, അഹങ്കാരവും ദര്\\u200dപ്പവുമുള്ളവനും, നീചനും അലസനും, ദുഃഖിതനും, ദീര്\\u200dഘസൂത്രിയുമായ (ചെയ്യാനുള്ള കാര്യങ്ങള്\\u200d നീട്ടിവെയ്ക്കുന്ന സ്വഭാവമുള്ളയാള്\\u200d) കര്\\u200dത്താവ് താമസികനാണ് എന്നു പറയപ്പെടുന്നു. <EOS>\\n', 'ആ മാഹാത്മാവിന്റെ (വിശ്വരൂപത്തിന്റെ) ശോഭ അനേകായിരം സൂര്യന്മാര്\\u200d ആകാശത്തി\\u200cല്\\u200d ഒരുമിച്ചുദിച്ചാലുണ്ടാകുന്ന പ്രകാശത്തിനു തുല്യമായിരുന്നു. <EOS>\\n', 'ഹേ പാര്\\u200dത്ഥ, ഈ വാക്കുകള്\\u200d കേട്ടിട്ട് അ\\u200dര്\\u200dജ്ജുന\\u200dന്\\u200d വിറച്ചുകൊണ്ട് ഭയത്തോടുകൂടി വീണ്ടും കൈകൂപ്പിത്തൊഴുതു പിന്നെയും മഹത്തായ വിസ്മയവും ആനന്ദവുമുണ്ടാകുന്നു. <EOS>\\n', 'അതുകൊണ്ട് നമ്മള്\\u200d സ്വന്തം ബന്ധുക്കളായ ധൃതരാഷ്ട്രപുത്രന്മാരെ കൊല്ലാന്\\u200d പാടില്ലാത്തതാണ്. മാധവാ! സ്വജനങ്ങളെ കൊന്നിട്ട് ന\\u200dാം എങ്ങന സുഖികളായിതീരും? <EOS>\\n', 'ജനാ\\u200d\\u200dര്\\u200dദ്ദന!\\u200d, അത്യാഗ്രഹം കൊണ്ടു ബുദ്ധികെട്ട ഇവര്\\u200d കുലനാശം കൊണ്ടുള്ള ദോഷവും മിത്രങ്ങളെ ദ്രോഹിക്കുന്നതിലുള്ള പാപവും കാണുന്നില്ലെങ്കിലും കുലക്ഷയം കൊണ്ടുള്ള ദോഷം കാണുന്ന നമ്മ\\u200dള്\\u200d\\u200d\\u200d, ഈ പാപത്തില്\\u200d നിന്നും പിന്തിരിയണമെന്ന് മനസ്സിലാക്കേണ്ടതല്ലേ? <EOS>\\n', 'ദ്വേഷിക്കുന്നവരും ക്രൂരന്മാരുമായ ഈ നരാധമന്മാരെ ഞാന്\\u200d എന്നെന്നും അശുഭങ്ങളായ ആസുരയോനികളില്\\u200d എറിയുന്നു (ജനിക്കുവാനിടയാക്കുന്നു). <EOS>\\n', 'വൃഷ്ണിവംശജനായ കൃഷ്ണാ, അധ\\u200dര്\\u200dമ്മം ബാധിക്കുമ്പോള്\\u200d കുല സ്തീകള്\\u200d ദുഷിക്കുന്നു. സ്ത്രീകള്\\u200d ദുഷിക്കുമ്പോള്\\u200d വ\\u200dര്\\u200dണ്ണസങ്കരം സംഭവിക്കുന്നു. <EOS>\\n', 'വ\\u200dര്\\u200dണ്ണസങ്കരം കുലനാശകന്മാര്\\u200dക്കും കുലത്തിനും നരകത്തിനായിത്തന്നെ തീരുന്നു. ഇവരുടെ പിതൃക്കള്\\u200d പിണ്ഡദാനവും ഉദകക്രിയയും ലഭിക്കാതെ നിലംപതിച്ചു പോകുന്നു. <EOS>\\n', 'ഹേ അര്\\u200dജുനാ, എന്റെ യോനിയാകുന്ന മഹാപ്രകൃതിയില്\\u200d ഞാന്\\u200d ബീജത്തെ നിക്ഷേപിക്കുന്നു. സര്\\u200dവ്വ ജീവരാശികളുടെയും ജന്മം അതില്\\u200dനിന്നാണ്. <EOS>\\n', 'രാഗം, ഭയം, കോപം ഇവ കൈവിട്ടവരും എന്റെ ഭക്തന്മാരും എന്നെ ആശ്രയിച്ചവരുമായ വളരെപ്പേര്\\u200d ജ്ഞാനമാകുന്ന തപസുകൊണ്ടു പരിശുദ്ധരായിത്തീര്\\u200dന്നു എന്നെ പ്രാപിച്ചിട്ടുണ്ട്. <EOS>\\n', 'അഹോ കഷ്ട്ടം! വലിയ പാപം ചെയ്യാന്\\u200d നാം ഒരുങ്ങിയിരിക്കുന്നു. രാജ്യലാഭത്തിലും സുഖത്തിലുമുള്ള അത്യാഗ്രഹം കൊണ്ടു സ്വജനങ്ങളെ കൊല്ലാന്\\u200d ന\\u200dാം ഒരുങ്ങിയല്ലോ. <EOS>\\n', 'അര്\\u200dജുനന്\\u200d ചോദിച്ചു: ഹേ കേശവാ, സമാധിസ്ഥനായ സ്ഥിതപ്രജഞന്റെ ലക്ഷണമെന്താണ്? സ്ഥിതപ്രജ്ഞന്\\u200d എന്ത് സംസാരിക്കും? എങ്ങിനെ സ്ഥിതിചെയ്യും? എങ്ങിനെ സഞ്ചരിക്കും? <EOS>\\n', 'ശ്രീ ഭഗവാന്\\u200d പറഞ്ഞു: ബ്രഹ്മം സ\\u200dവ്വോത്കൃഷ്ടവും അക്ഷരവും (അനശ്വരവും) ആകുന്നു. അധ്യാത്മം സ്വഭാവമാണെന്ന് പറയപ്പെടുന്നു. സകലജീവജാലങ്ങളും ഉദ്ഭവത്തിന് കാരണമായ വിശിഷ്ടമായ സൃഷ്ടിവ്യാപാരമാണ് ക\\u200dര്\\u200dമ്മമെന്നറിയപ്പെടുന്നത്. <EOS>\\n', 'അര്\\u200dജുനാ, യജ്ഞത്തിനുള്ള ക\\u200d\\u200d\\u200dര്\\u200dമ്മം ഒഴിച്ച് മറ്റു ക\\u200d\\u200d\\u200dര്\\u200dമ്മങ്ങളാല്\\u200d ബന്ധിക്കപ്പെട്ടതാണ് ഈ ലോകം. സംഗരഹിതനായി നീ ക\\u200d\\u200d\\u200dര്\\u200dമ്മം ആചരിക്കുക. <EOS>\\n', 'പ്രകൃതിയും പുരുഷനും അനാദികളാണെന്നറിയണം. വികാരങ്ങളും ഗുണങ്ങളും പ്രകൃതിയി\\u200dല്\\u200d നിന്നുത്ഭവിക്കുന്നവയാണെന്നും അറിയുക. <EOS>\\n', 'ഹേ ഭാരത, നീ ഈശ്വരനെത്തന്നെ സര്\\u200dവ്വഭാവത്തിലും ശരണമടഞ്ഞാലും. ഈശ്വരന്റെ പ്രസാദത്താല്\\u200d നീ പരമമായ ശാന്തിയെയും ശാശ്വതമായ പദത്തെയും പ്രാപിക്കും. <EOS>\\n', 'അര്\\u200dജുനന്\\u200d ചോദിച്ചു: ഹേ ശത്രുഘാതകാ! മധുസൂധനാ, പൂജാര്\\u200dഹരായ ഭീഷ്മരേയും ദ്രോണരെയും മൂര്\\u200dച്ചയുള്ള അമ്പുകള്\\u200d കൊണ്ടു ഞാന്\\u200d യുദ്ധത്തില്\\u200d എങ്ങനെ എതിരിടും? <EOS>\\n', 'മഹാത്മാക്കളായ ഗുരുക്കന്മാരെ ഹനിക്കുന്നതിനേക്കാള്\\u200d ഈ ലോകത്തില്\\u200d ഭിക്ഷയെടുക്കുന്നത് പോലും ശ്രേയസ്കരമാണ്. ഗുരുക്കന്മാരെ ഹനിച്ചിട്ട്\\u200c അ\\u200dര്\\u200dത്ഥകാമസ്വരൂപങ്ങളും രക്തം പുരണ്ടതുമായ ഭോഗങ്ങളെ ഈ ലോകത്തില്\\u200dവെച്ചുതന്നെ ഭുജിക്കണോ? <EOS>\\n', 'ഭഗവാന്\\u200d പറഞ്ഞു: ഞാന്\\u200d ലോകത്തെ നശിപ്പിക്കുന്ന കാലം (കാല\\u200dന്\\u200d) ആകുന്നു. ഞാന്\\u200d ലോകസംഹാരകൃത്യത്തി\\u200dല്\\u200d ഏര്\\u200dപ്പെട്ടിരിക്കയാണ്. നീയില്ലെങ്കിലും (നീ യുദ്ധം ചെയ്തില്ലെങ്കിലും) ഇവിടെക്കൂടിയിരിക്കുന്ന ശത്രുപക്ഷത്തിലെ യോദ്ധാക്ക\\u200dളാരും ജീവിച്ചിരിക്കുകയില്ല. <EOS>\\n', 'ദൈന്യത കൊണ്ടു ബുദ്ധികെട്ടവനും ധ\\u200dര്\\u200dമ്മ വിഷയത്തില്\\u200d വിവേകം നശിച്ചവനുമായി അങ്ങയോടു ഞാന്\\u200d ചോദിക്കുന്നു. യാതൊന്നു തീ\\u200dര്\\u200dച്ചയായും ശ്രേയസ്കരമാകുമോ അതെനിക്ക് പറഞ്ഞു തരിക. ഞാന്\\u200d അങ്ങയുടെ ശിഷ്യനാണ്. അങ്ങയെ ശരണം പ്രാപിച്ച എന്നെ വേണ്ടവണ്ണം ഉപദേശിച്ചാലും. <EOS>\\n', 'ആ ക്ഷേത്രം എന്നാ\\u200dല്\\u200dഎന്ത്? ഏത്? എങ്ങനെയുള്ളത്? എന്തു വികാരങ്ങളുള്ളത്? ഏതില്\\u200d നിന്നുണ്ടായത്? ആ ക്ഷേത്രജ്ഞ\\u200dന്\\u200d ആര്? അദ്ദേഹത്തിന്റെ പ്രഭാവമെന്ത്? ഇവയെല്ല\\u200dാം ഞാന്\\u200d ചുരുക്കിപ്പറയുന്നത് നീ കേട്ടാലും. <EOS>\\n', 'ശ്രീ ഭഗവാന്\\u200d പറഞ്ഞു: ഹേ മഹാബാഹോ, നിസംശയമായും മനസ്സ് നിയന്ത്രിക്കാന്\\u200d വിഷമമുള്ളതും ചഞ്ചലവുമാണ്. എന്നാല്\\u200d കുന്തീപുത്രാ, അഭ്യാസം കൊണ്ടും, വൈരാഗ്യം കൊണ്ടും അത് നിയന്ത്രണവിധേയമാക്കപ്പെടുന്നു. <EOS>\\n', 'ഹേ ഭാരത, തമസ്സ് അജ്ഞാനത്തില്\\u200d നിന്നുണ്ടാകുന്നതും എല്ലാ ദേഹികളെയും (ജീവന്മാരെയും) മോഹിപ്പിക്കുന്നതുമാണെന്നറിയൂ. നീ അങ്ങിനെ നിസ്സാരനായി തീരും. <EOS>\\n', 'ഹേ ഭാരത, തമസ്സ് അജ്ഞാനത്തില്\\u200d നിന്നുണ്ടാകുന്നതും എല്ലാ ദേഹികളെയും (ജീവന്മാരെയും) മോഹിപ്പിക്കുന്നതുമാണെന്നറിയൂ. അത് അശ്രദ്ധ, ആലസ്യം, ഉറക്ക എന്നിവയാല്\\u200d ദേഹിയെ ബന്ധിക്കുന്നു. <EOS>\\n', 'ഞാന്\\u200d ഒരിക്കലും ഇല്ലാതിരുന്നിട്ടില്ല. നീയും ഇല്ലാതിരുന്നിട്ടില്ല. ഈ രാജാക്കന്മാരും ഇല്ല. ഇനി മേല്\\u200d നമ്മളെല്ലാവരും ഉണ്ടാകാതിരിക്കുകയുമില്ല. <EOS>\\n', 'ഈ ജ്ഞാനത്തെ ആശ്രയിച്ച് എന്നെ പ്രാപിക്കുന്നവര്\\u200d സൃഷ്ടിയുടെ ആരംഭത്തില്\\u200d ജന്മമെടുക്കുന്നില്ല, പ്രളയസമയത്ത് വ്യസനിക്കു ന്നുമില്ല. <EOS>\\n', 'കുന്തീപുത്രാ, ഇന്ദ്രിയങ്ങളും വിഷയങ്ങളും തമ്മിലുള്ള സ്പര്\\u200dശങ്ങള്\\u200d ശീതോഷ്ണങ്ങളെയും സുഖദുഃഖങ്ങളെയും നല്\\u200dകുന്നവയും, വന്നും പോയും ഇരിക്കുന്നവയും അനിത്യങ്ങളുമാണ്. ഭരതവംശത്തില്\\u200d ജനിച്ചവനെ, അവ നിര്\\u200dവികാരനായി സഹിച്ചു കൊള്ളുക. <EOS>\\n', 'പുരുഷശ്രേഷ്ഠാ, സമദുഖസുഖനും ധീരനുമായ ഏതൊരു പുരുഷനെ ഇവ ദുഖിപ്പിക്കയില്ലയോ അവന്\\u200d അമൃതത്വത്തിനു അധികാരിയായിത്തീരുന്നു. <EOS>\\n', 'ഇല്ലാത്തതിന് (അസത്തിന്) ഉണ്മയില്ല. ഉള്ളതിന് (സത്തിന്) അഭാവവും അറിയപ്പെടുന്നില്ല. ഈ രണ്ടിന്റെയും (സത്തിന്റെയും അസത്തിന്റെയും) യാഥാര്\\u200dത്ഥ്യം തത്വദര്\\u200dശികള്\\u200d കണ്ടറിഞ്ഞിട്ടുണ്ട്. <EOS>\\n', 'ഏതൊന്നിനാല്\\u200d ഇതെല്ലാം വ്യാപ്തമായിരിക്കുന്നുവോ, അത് നാശരഹിതമാണെന്നറിയുക. അനശ്വരമായ അതിനെ നശിപ്പിക്കുവാന്\\u200d ആ\\u200dര്\\u200dക്കും കഴിയുകയില്ല. <EOS>\\n', 'നിത്യനും അവിനാശിയും, അവിജ്ഞേയനുമായ ആത്മാവിനുള്ള ഈ ദേഹങ്ങള്\\u200d നാശമുള്ളവയാണെന്നു പറയപ്പെടുന്നു. അതുകൊണ്ട് അര്\\u200dജുനാ, നീ യുദ്ധം ചെയ്യുക. <EOS>\\n', 'യാതൊരാള്\\u200d ഈ ആത്മാവിനെ കൊല്ലുന്ന\\u200cവ\\u200dനെന്ന് ധരിക്കുന്നുവോ യാതൊരാള്\\u200d ഇവനെ കൊല്ലപ്പെട്ടവനായി ഗണിക്കുന്നുവോ, ആ രണ്ടു പേരും വാസ്തവം അറിയുന്നില്ല. ആത്മാവു ആരെയും കൊല്ലുന്നില്ല. ആത്മാവിനെ ആരും കൊല്ലുന്നുമില്ല. <EOS>\\n', 'ഈ ആത്മാവ് ഒരിക്കലും ജനിക്കുന്നില്ല. മരിക്കുന്നുമില്ല. ജനിച്ചിട്ട്\\u200c വീണ്ടും ജനിക്കാതിരിക്കുന്നുമില്ല. ജന്മമില്ലാത്തവനും നിത്യനും സ്ഥിരനും പണ്ടേ ഉള്ളവനുമായ ഇവന്\\u200d ശരീരം ഹതമാകുമ്പോള്\\u200d ഹനിക്കപ്പെടുന്നുമില്ല. <EOS>\\n', 'പാര്\\u200dത്ഥ, ഈ ആത്മാവിനെ നാശരഹിതനും നിത്യനും ജനനരഹിതനും മാറ്റമില്ലാത്തവനുമായി അറിയുന്നുവോ അങ്ങിനെയുള്ള പുരുഷന്\\u200d ആരെയെങ്കിലും കൊല്ലിക്കുന്നതെങ്ങനെ? കൊല്ലുന്നതെങ്ങനെ? <EOS>\\n', 'ശരീരം, മനസ്സ്, വാക്ക് എന്നിവയാല്\\u200d മനുഷ്യന്\\u200d ചെയ്യുന്ന ശരിയോ തെറ്റോ ആയ എല്ലാ കര്\\u200dമ്മങ്ങളുടെയും കാരണങ്ങള്\\u200d ഇവയഞ്ചുമാകുന്നു. <EOS>\\n', 'ക്ഷരത്തിനതീതനും, അക്ഷരത്തിനേക്കാള്\\u200d ഉത്തമനുമായതിനാല്\\u200d ഞാന്\\u200d ഈ ലോകത്തിലും വേദത്തിലും പുരുഷോത്തമ നെന്നറിയപ്പെടുന്നു. <EOS>\\n', 'ഇവന്\\u200d ഛേദിക്കപ്പെടാത്തവനാണ്. ഇവന്\\u200d ദഹിപ്പിക്കപ്പെടാന്\\u200d കഴിയാത്തവനാണ്. നനയാത്തവനാണ്. ഉണങ്ങാത്തവനുമാണ്. ഇവന്\\u200d നിത്യനും സര്\\u200dവവ്യാപിയും സ്ഥിരസ്വഭാവനും ശാശ്വതനുമാണ്. <EOS>\\n', 'ഈശ്വരൻ ആരുടേയും പാപവും സുകൃതവും സ്വീകരിക്കുന്നില്ല. ജ്ഞാനം അജ്ഞാനത്താൽ മറയ്ക്കപ്പെട്ടിരിക്കുന്നതുകൊണ്ട് ജീവികൾ മോഹത്തിലാണ്ടുപോകുന്നു. <EOS>\\n', 'ഹേ കൌന്തേയ, ജ്ഞാനിയുടെ നിത്യവൈരിയും കാമരൂപവും അതൃപ്തവും ഒരിക്കലും തൃപ്തിപ്പെടാത്ത അഗ്നിക്ക് തുല്യവും ആയ ഈ കാമത്താല്\\u200d ജ്ഞാനം ആവൃതമാകുന്നു. <EOS>\\n', 'ജനിച്ചവന് മരണം നിശ്ചിതമാണ്. മരിച്ചവന് ജനനവും നിശ്ചിതമാണ്. അതുകൊണ്ട് പരിഹാരമില്ലാത്ത കാര്യത്തില്\\u200d ദുഃഖിക്കുന്നത് നിനക്ക് ഉചിതമല്ല. <EOS>\\n', 'ഹേ പാര്\\u200dത്ഥ, യാതോരുവന്റെ ഉള്ളിലാണോ ഭൂതങ്ങ\\u200d\\u200dള്\\u200d സ്ഥിതിചെയ്യുന്നത്\\u200d, യാതോരുവനാല്\\u200d ഇതെല്ല\\u200dാം വ്യാപ്തമായിരി ക്കുന്നുവോ ആ പരമപുരുഷനെ ഏകാന്തഭക്തികൊണ്ട് പ്രാപിക്കാവുന്നതാണ്. <EOS>\\n', 'ഒരാള്\\u200d ഇവനെ (ആത്മാവിനെ) ഒരു അത്ഭുതവസ്തു പോലെ കാണുന്നു. മറ്റൊരാള്\\u200d അതുപോലെ അത്ഭുതവസ്തുപോലെ ഇവനെക്കുറിച്ച് പറയുന്നു. വേറൊരാള്\\u200d അത്ഭുതവസ്തു പോലെ ഇവനെക്കുറിച്ച് കേള്\\u200dക്കുകയും ചെയ്യുന്നു. ശ്രവിച്ചിട്ടും ഒരാളും വേണ്ടവണ്ണം ഇവനെ അറിയുന്നില്ല. <EOS>\\n', 'അര്\\u200dജുനാ, എല്ലാവരുടെയും ദേഹത്തിലുള്ള ഈ ദേഹി ഒരിക്കലും വധിക്കപ്പെടാവുന്നവനല്ല. അതിനാല്\\u200d യാതൊരു ജീവിയെക്കുറിച്ചും നീ ദുഖിക്കേണ്ടതില്ല. <EOS>\\n', 'പലതരം ഉപദേശങ്ങള്\\u200d കേട്ടതു മൂലം പതറിപ്പോയ നിന്റെ ബുദ്ധി എപ്പോള്\\u200d ഇളക്കമറ്റ് സമാധിയില്\\u200d സ്ഥിരമായി നില്\\u200dക്കുമോ അപ്പോള്\\u200d യോഗത്തെ നീ പ്രാപിക്കും. <EOS>\\n', 'ഈ യുദ്ധം അപ്രതീക്ഷിതമായി തുറന്നുകിട്ടിയ സ്വര്\\u200dഗ്ഗവാതില്\\u200d പോലെയാണ്. ഹേ പാര്\\u200dത്ഥ, ഭാഗ്യവാന്മാരായ ക്ഷത്രിയര്\\u200dക്ക് മാത്രമാണ് ഈ വിധമുള്ള യുദ്ധം ലഭിക്കുന്നത്\\u200c. <EOS>\\n', 'ഇനി ഈ യുദ്ധം നീ ചെയ്യില്ലെങ്കില്\\u200d അത് കാരണം സ്വധ\\u200dര്\\u200dമ്മവും കീര്\\u200dത്തിയും കൈവിട്ടു നീ പാപം സമ്പാദിക്കേണ്ടിവരും. <EOS>\\n', 'ശ്രീകൃഷ്ണ\\u200dന്\\u200d പറഞ്ഞു: ഞാന്\\u200d ലോകത്തെ നശിപ്പിക്കുന്ന കാലം (കാല\\u200dന്\\u200d) ആകുന്നു. ഞാന്\\u200d ലോകസംഹാരകൃത്യത്തി\\u200dല്\\u200d ഏര്\\u200dപ്പെട്ടിരിക്കയാണ്. നീയില്ലെങ്കിലും (നീ യുദ്ധം ചെയ്തില്ലെങ്കിലും) ഇവിടെക്കൂടിയിരിക്കുന്ന ശത്രുപക്ഷത്തിലെ യോദ്ധാക്ക\\u200dളാരും ജീവിച്ചിരിക്കുകയില്ല. <EOS>\\n', 'ഭയംകൊണ്ടു യുദ്ധത്തില്\\u200dനിന്നും പിന്തിരിഞ്ഞവനായി മഹാരഥന്മാര്\\u200d നിന്നെ കണക്കാക്കും. അവര്\\u200dക്കെല്ല\\u200dാം ബഹുമാന്യനായി ഇരിക്കുന്ന നീ അങ്ങിനെ നിസ്സാരനായി തീരും. <EOS>\\n', 'വിശ്വരൂപനും വിശ്വേശ്വരനുമായ ഹേ ഭഗവ\\u200dന്\\u200d! ഞാ\\u200dന്\\u200d\\u200d നോക്കുന്നിടത്തൊക്കെയും അനേകം കൈകളും അനേകം ഉദരങ്ങളും അനേകം മുഖങ്ങളും അനേകം നേത്രങ്ങളുമുള്ളവനും അനന്തരൂപങ്ങളോടുകൂടിയവനുമായ അങ്ങയെ ഒരാളെ മാത്രമേ കാണുന്നുള്ളു. എന്നാ\\u200d\\u200dല്\\u200dഅവിടത്തെ അന്തമോ മദ്ധ്യമോ ആദിയോ ഞാനൊട്ടു കാണുന്നുമില്ല. <EOS>\\n', 'മരിച്ചാല്\\u200d സ്വര്\\u200dഗ്ഗം നേട\\u200dാം, ജയിച്ചാലോ ഭൂമിയെയും അനുഭവിക്ക\\u200dാം. അതുകൊണ്ട് അര്\\u200dജുനാ, യുദ്ധത്തിന് നിശ്ചയിച്ചു നീ എഴുന്നേല്\\u200dക്ക്. <EOS>\\n', 'സുഖദുഃഖങ്ങളും ലാഭനഷ്ടങ്ങളും ജയപരാജയങ്ങളും തുല്യമായികരുതി യുദ്ധത്തിന് നീ ഒരുങ്ങുക. ഇങ്ങിനെയായാല്\\u200d പാപം നിന്നെ ബാധിക്കുകയില്ല. <EOS>\\n', 'നിനക്കു പറഞ്ഞുതന്നു കഴിഞ്ഞ ജ്ഞാനനിഷ്ഠ സ\\u200dാംഖ്യത്തി ലുള്ളതാണ്. ക\\u200dര്\\u200dമ്മയോഗത്തിനുള്ള ഈ ബുദ്ധിയെയും കേട്ടു കൊള്ളുക. പാര്\\u200dത്ഥ, ഈ ബുദ്ധി നേടിയാല്\\u200d ക\\u200dര്\\u200dമ്മബന്ധം ഒഴിച്ചുവയ്ക്കാന്\\u200d നിനക്കു സാധിക്കും. <EOS>\\n', 'യജ്ഞത്തിന്റെയും തപസ്സിന്റെയും ഭോക്താവും ലോകങ്ങളുടെയെല്ലാം നാഥനും എല്ലാ ജീവികളുടെയും സുഹൃത്തുമായി എന്നെ അറിയുന്നവൻ ശാന്തിയെ പ്രാപിക്കുന്നു. <EOS>\\n', 'സുഖദുഃഖങ്ങളും ലാഭനഷ്ടങ്ങളും ജയപരാജയങ്ങളും തുല്യമായികരുതി യുദ്ധത്തിന് നീ ഒരുങ്ങുക. ഇങ്ങിനെയായാല്\\u200d പാപം നിന്നെ ബാധിക്കുകയില്ല. <EOS>\\n', 'യാതൊരുത്ത\\u200dര്\\u200d, നാശമില്ലാത്തതും, ഇന്നവിധത്തിലുള്ളതാണെന്നു വിവരിക്കുവാ\\u200d\\u200dന്\\u200dവയ്യാത്തതും, അവ്യക്തവും സ\\u200dര്\\u200dവവ്യാപ്തവുമായി രിക്കുന്നതും ചിന്തിച്ചറിയിപ്പാ\\u200d\\u200dന്\\u200d പ്രയാസമായിട്ടുള്ളതും മാറ്റം വരാത്തതും അനാദിയായിട്ടുള്ളതും ആയ ബ്രഹ്മത്തെ ഭജിക്കുകയും, ഇന്ദ്രിയങ്ങളെ അടക്കി സ\\u200dര്\\u200dവത്ര സമബുദ്ധിയോടും സ\\u200dര്\\u200dവഭൂതങ്ങ\\u200dള്\\u200dക്കും നന്മയെച്ചെയ്\\u200dവാനുള്ള താ\\u200dല്\\u200dപര്യത്തോടുംകൂടി വ\\u200dര്\\u200dത്തിക്കുകയും ചെയ്യുന്നുവോ അവ\\u200dര്\\u200d എന്നെത്തന്നെ പ്രാപിക്കുന്നു. <EOS>\\n', 'ഇവന്\\u200d ഛേദിക്കപ്പെടാത്തവനാണ്. ഇവന്\\u200d ദഹിപ്പിക്കപ്പെടാന്\\u200d കഴിയാത്തവനാണ്. നനയാത്തവനാണ്. ഉണങ്ങാത്തവനുമാണ്. ഇവന്\\u200d നിത്യനും സര്\\u200dവവ്യാപിയും സ്ഥിരസ്വഭാവനും ശാശ്വതനുമാണ്. <EOS>\\n', 'ഹേ രാജന്\\u200d\\u200d, വിഷ്ണുവിന്റെ ആ അത്ഭുതകരമായ രൂപത്തെ (വിശ്വരൂപത്തെ) ഓര്\\u200dക്കുന്തോറും എനിക്ക് പിന്നെയും പിന്നെയും മഹത്തായ വിസ്മയവും ആനന്ദവുമുണ്ടാകുന്നു. <EOS>\\n', 'ഹേ ഭാരത, തമസ്സ് അജ്ഞാനത്തില്\\u200d നിന്നുണ്ടാകുന്നതും എല്ലാ ദേഹികളെയും (ജീവന്മാരെയും) മോഹിപ്പിക്കുന്നതുമാണെന്നറിയൂ. അത് അശ്രദ്ധ, ആലസ്യം, ഉറക്ക എന്നിവയാല്\\u200d ദേഹിയെ ബന്ധിക്കുന്നു. <EOS>\\n', 'സഞ്ജയന്\\u200d പറഞ്ഞു: ഭരത വംശജനായ രാജാവേ, അര്\\u200dജുനനാല്\\u200d ഇങ്ങനെ പറയപ്പെട്ടപ്പോ\\u200c ള്\\u200d ശ്രീകൃഷ്ണന്\\u200d ഉത്തമമായ രഥത്തെ രണ്ടു സൈന്യത്തിന്റെയും നടുവില്\\u200d നിര്\\u200dത്തി, ഭീഷ്മര്\\u200d ദ്രോണര്\\u200d തുടങ്ങിയ എല്ലാ ഭൂപാലകരും നില്\\u200dക്കെ, “അര്\\u200dജുനാ, കൂട്ടംചേര്\\u200dന്നു നില്ക്കുന്ന ഈ കൗരവന്മാരെ കണ്ടുകൊള്\\u200dക” എന്നു പറഞ്ഞു. <EOS>\\n', 'അതുകൊണ്ട് യാതൊരുവന്റെ ഇന്ദ്രിയങ്ങള്\\u200d എല്ലാ വിഷയങ്ങളില്\\u200d നിന്നും നിശ്ശേഷം പിന്\\u200dവലിക്കപ്പെട്ടിരിക്കുന്നുവോ അവന്റെ പ്രജഞ പ്രതിഷ്ഠിതമായിരിക്കുന്നു. <EOS>\\n', 'ശ്രീ ഭഗവാന്\\u200d പറഞ്ഞു: ഹേ അനഘ (പാപങ്ങളില്ലാത്തവന്\\u200d), ഈ ലോകത്തില്\\u200d സംഖ്യന്മാര്\\u200dക്ക് വേണ്ടി ജഞാനയോഗം കൊണ്ടും യോഗികള്\\u200dക്കു വേണ്ടി ക\\u200d\\u200d\\u200dര്\\u200dമ്മയോഗം കൊണ്ടും രണ്ടുവിധം നിഷ്ഠകള്\\u200d മുമ്പ് ഞാന്\\u200d പറഞ്ഞു. <EOS>\\n', 'ഹേ പാര്\\u200dത്ഥാ, ഇപ്രകാരം പ്രവത്തിക്കുന്ന ക\\u200d\\u200d\\u200dര്\\u200dമ്മചക്രത്തെ ഈ ലോകത്തില്\\u200d എവനൊരുവന്\\u200d അനുവര്\\u200dത്തിക്കുന്നില്ലയോ പാപിയും വിഷയഭ്രാന്തനുമായ അവന്റെ ജീവിതം നിഷ്ഫലമത്രേ <EOS>\\n', 'എപ്പോള്\\u200d നിന്റെ ബുദ്ധി മോഹരൂപമായ വൈഷമ്യത്തെ കടക്കുമോ അപ്പോള്\\u200d കേള്\\u200dക്കേണ്ടതിനെയും കേട്ടതിനെയും കുറിച്ചു നീ ഉദാസീനനായിത്തീരും. <EOS>\\n', 'പലതരം ഉപദേശങ്ങള്\\u200d കേട്ടതു മൂലം പതറിപ്പോയ നിന്റെ ബുദ്ധി എപ്പോള്\\u200d ഇളക്കമറ്റ് സമാധിയില്\\u200d സ്ഥിരമായി നില്\\u200dക്കുമോ അപ്പോള്\\u200d യോഗത്തെ നീ പ്രാപിക്കും. <EOS>\\n', 'അര്\\u200dജുനന്\\u200d ചോദിച്ചു: ഹേ കേശവാ, സമാധിസ്ഥനായ സ്ഥിതപ്രജഞന്റെ ലക്ഷണമെന്താണ്? സ്ഥിതപ്രജ്ഞന്\\u200d എന്ത് സംസാരിക്കും? എങ്ങിനെ സ്ഥിതിചെയ്യും? എങ്ങിനെ സഞ്ചരിക്കും? <EOS>\\n', 'ഞാന്\\u200d ഒരിക്കലും ഇല്ലാതിരുന്നിട്ടില്ല. നീയും ഇല്ലാതിരുന്നിട്ടില്ല. ഈ രാജാക്കന്മാരും ഇല്ല. ഇനി മേല്\\u200d നമ്മളെല്ലാവരും ഉണ്ടാകാതിരിക്കുകയുമില്ല. <EOS>\\n', 'ഞാന്\\u200d ഓജസ്സായി ഭൂമിയില്\\u200d പ്രവേശിച്ച് ജീവജാലങ്ങളെ നിലനിര്\\u200dത്തുകയും, രസാത്മകനായ ചന്ദ്രനായി എല്ലാവിധ സസ്യങ്ങളെയും പോഷിപ്പിക്കുകയും ചെയ്യുന്നു. <EOS>\\n', 'അ\\u200dര്\\u200dജ്ജുന\\u200dന്\\u200dപറഞ്ഞു: പരമവും ഗൂഢവും ആദ്ധ്യാത്മികവുമായ അങ്ങയുടെ വാക്കുകളാ\\u200d\\u200dല്\\u200d എന്നെ അനുഗ്രഹിക്കയാല്\\u200d എന്റെ അഭിപ്രായം. <EOS>\\n', 'ആമ തന്റെ അവയവങ്ങളെ പ്രതികൂലസാഹചര്യങ്ങളി\\u200dല്\\u200d എങ്ങിനെ എല്ലാവിധത്തിലും ഉ\\u200dള്\\u200dവലിക്കുന്നവോ, അതുപോലെ എപ്പോഴാണോ ഒരാള്\\u200d തന്റെ ഇന്ദ്രിയങ്ങളെ ശബ്ദസ്പ\\u200dര്\\u200dശാദികളായ ഇന്ദ്രിയാ\\u200dര്\\u200dത്ഥങ്ങളി\\u200dല്\\u200dനിന്ന് എപ്പോള്\\u200d പിന്\\u200dവലിക്കുന്നത് അപ്പോള്\\u200d അവന്റെ പ്രജഞ പ്രതിഷ്ഠിതമായിത്തീരുന്നു. <EOS>\\n', 'ഇന്ദ്രിയങ്ങള്\\u200d കൊണ്ടു വിഷയങ്ങള്\\u200d അനുഭവിക്കാത്ത മനുഷ്യന് വിഷയങ്ങള്\\u200d അകന്നു പോകുന്നു. എന്നാല്\\u200d ആസക്തി അവശേഷിക്കുന്നു. പരമാത്മാവിനെ പ്രാപിക്കുമ്പോള്\\u200d അവന്റെ ആസക്തിയും വിട്ടുപോകുന്നു. <EOS>\\n', 'ഹേ ഭാരത, നീ ഈശ്വരനെത്തന്നെ സര്\\u200dവ്വഭാവത്തിലും ശരണമടഞ്ഞാലും. ഈശ്വരന്റെ പ്രസാദത്താല്\\u200d നീ പരമമായ ശാന്തിയെയും ശാശ്വതമായ പദത്തെയും പ്രാപിക്കും. <EOS>\\n', 'അവയെല്ല\\u200dാം സംയമനം ചെയ്തു യോഗയുക്തനായി എന്നില്\\u200d ഭക്തിയോടുകൂടി ഇരിക്കുക. ആര്\\u200dക്കു ഇന്ദ്രിയങ്ങള്\\u200d വശത്താണോ അവന്റെ പ്രജഞ പ്രതിഷ്ഠിതമാണ്. <EOS>\\n', 'രുദ്രന്മാ\\u200dരും ആദിത്യന്മാരും സാധ്യന്മാരും വിശ്വദേവന്മാരും അശ്വനീദേവന്മാരും മരുത്തുക\\u200dളും പിതൃദേവന്മാരും ഗന്ധ\\u200dര്\\u200dവന്മാ\\u200dരും യക്ഷന്മാ\\u200dരും അസുരന്മാ\\u200dരും സിദ്ധദേവന്മാരുമെല്ല\\u200dാം അങ്ങയെ അത്ഭുതപരതന്ത്രരായി നോക്കി നി\\u200dല്\\u200dക്കുന്നു. <EOS>\\n', 'അഭിലാഷങ്ങളില്ലാതെ മനോനിയന്ത്രണത്തോടെ എല്ലാ ബന്ധങ്ങളും നിശ്ശേഷം കൈവിട്ടു ശരീരം കൊണ്ടു മാത്രമുള്ള പ്രവൃത്തി ചെയ്യുന്നവനെ പാപം ബാധിക്കുന്നില്ല. <EOS>\\n', 'ഹേ അര്\\u200dജുനാ, യാതൊരുവന്\\u200d ഇന്ദ്രിയങ്ങളെ മനസ്സുകൊണ്ട് അടക്കിനിര്\\u200dത്തിയിട്ടു ക\\u200d\\u200d\\u200d\\u200dര്\\u200dമ്മേന്ദ്രിയങ്ങളെക്കൊണ്ട് നിഷ്ക്കാമക\\u200d\\u200d\\u200dര്\\u200dമ്മ ആരംഭിക്കുന്നുവോ അവന്\\u200d ശ്രേഷ്ഠനാകുന്നു. <EOS>\\n', 'കാമം, ക്രോധം, ലോഭം എന്നിവ നരകത്തിലേയ്ക്കുള്ള മൂന്നു കവാടങ്ങളാണ്. ഇവ ആത്മനാശത്തിന് കാരണവുമാണ്. അതിനാല്\\u200d ഇവയെ മൂന്നിനെയും ത്യജിക്കേണ്ടതാണ്. <EOS>\\n', 'അര്\\u200dജുനന്\\u200d പറഞ്ഞു: കൃഷ്ണാ, ശ്രദ്ധയോടെ ശ്രമിച്ചിട്ടും യോഗ പരിശീലനത്തില്\\u200d മനസ്സുറക്കാതെ യോഗിയായി കഴിഞ്ഞിട്ടില്ലാ ത്തവന്\\u200d യോഗലക്ഷ്യം നേടാതെ ഏത് ഗതിയെ പ്രാപിക്കും. <EOS>\\n', 'അതുകൊണ്ട് യാതൊരുവന്റെ ഇന്ദ്രിയങ്ങള്\\u200d എല്ലാ വിഷയങ്ങളില്\\u200d നിന്നും നിശ്ശേഷം പിന്\\u200dവലിക്കപ്പെട്ടിരിക്കുന്നുവോ അവന്റെ പ്രജഞ പ്രതിഷ്ഠിതമായിരിക്കുന്നു. <EOS>\\n', 'യാതൊന്ന് സര്\\u200dവ്വപ്രാണികള്\\u200dക്കും രാത്രിയായിരിക്കുന്നുവോ, അവിടെ (ആ ബ്രഹ്മത്തില്\\u200d) ജിതേന്ദ്രിയന്\\u200d ഉണര്\\u200dന്നിരിക്കുന്നു. ഏതൊരു വിഷയാനുഭവത്തില്\\u200d സര്\\u200dവ്വപ്രാണികളും ഉണര്\\u200dന്നിരി ക്കുന്നുവോ അത് സത്യദ\\u200dര്\\u200dശിയായ മുനിക്ക്\\u200c രാത്രിയാകുന്നു. <EOS>\\n', 'യാതോന്നറിഞ്ഞാല്\\u200d പിന്നെ അറിയേണ്ടതായി മറ്റൊന്നും ഈ ലോകത്തില്\\u200d അവശേഷിക്കയില്ലയോ ആ ജ്ഞാനം വിജ്ഞാനത്തോടുകൂടി ഞാന്\\u200d പൂര്\\u200dണമായി നിനക്കിതാ ഉപദേശിക്കാന്\\u200d പോകുന്നു. <EOS>\\n', 'ശ്രീ ഭഗവാന്\\u200d പറഞ്ഞു: ഹേ അനഘ (പാപങ്ങളില്ലാത്തവന്\\u200d), ഈ ലോകത്തില്\\u200d സംഖ്യന്മാര്\\u200dക്ക് വേണ്ടി ജഞാനയോഗം കൊണ്ടും യോഗികള്\\u200dക്കു വേണ്ടി ക\\u200d\\u200d\\u200dര്\\u200dമ്മയോഗം കൊണ്ടും രണ്ടുവിധം നിഷ്ഠകള്\\u200d മുമ്പ് ഞാന്\\u200d പറഞ്ഞു. <EOS>\\n', 'ശ്രീ ഭഗവാന്\\u200d പറഞ്ഞു: ഹേ അനഘ (പാപങ്ങളില്ലാത്തവന്\\u200d), ഈ ലോകത്തില്\\u200d സംഖ്യന്മാര്\\u200dക്ക് വേണ്ടി ജഞാനയോഗം കൊണ്ടും യോഗികള്\\u200dക്കു വേണ്ടി ക\\u200d\\u200d\\u200dര്\\u200dമ്മയോഗം കൊണ്ടും രണ്ടുവിധം നിഷ്ഠകള്\\u200d മുമ്പ് ഞാന്\\u200d പറഞ്ഞു. <EOS>\\n', 'അര്\\u200dജുനന്\\u200d പറഞ്ഞു: ഹേ ജനാ\\u200dര്\\u200dദ്ദനാ, ക\\u200d\\u200d\\u200dര്\\u200dമ്മത്തെ അപേക്ഷിച്ച് കര്\\u200dമ്മയോഗമാണ് ശ്രേഷ്ടമെന്നു അങ്ങേയ്ക്ക് അഭിപ്രായമുണ്ടെങ്കില്\\u200d പിന്നെ എന്തിനാണ് ഘോരമായ ഈ ക\\u200d\\u200d\\u200dര്\\u200dമ്മത്തില്\\u200d എന്നെ നിയോഗിക്കുന്നത്? <EOS>\\n', 'പരസ്പരവിരുദ്ധമെന്ന് തോന്നുന്ന വാക്കുകള്\\u200d കൊണ്ട് എന്റെ ബുദ്ധിയെ അങ്ങ് ഭ്രമിപ്പിക്കുന്നതുപൊലെ തോന്നുന്നു. അതുകൊണ്ട് ഏതൊന്നുക്കൊണ്ടു ഞാന്\\u200d ശ്രേയസ്സ് നേടുമോ അതുമാത്രം എനിക്ക് ഉപദേശിച്ചു തരിക. <EOS>\\n', 'ശ്രീ ഭഗവാന്\\u200d പറഞ്ഞു: ഹേ അനഘ (പാപങ്ങളില്ലാത്തവന്\\u200d), ഈ ലോകത്തില്\\u200d സംഖ്യന്മാര്\\u200dക്ക് വേണ്ടി ജഞാനയോഗം കൊണ്ടും യോഗികള്\\u200dക്കു വേണ്ടി ക\\u200d\\u200d\\u200dര്\\u200dമ്മയോഗം കൊണ്ടും രണ്ടുവിധം നിഷ്ഠകള്\\u200d മുമ്പ് ഞാന്\\u200d പറഞ്ഞു. <EOS>\\n', 'ജനിച്ചവന് മരണം നിശ്ചിതമാണ്. മരിച്ചവന് ജനനവും നിശ്ചിതമാണ്. അതുകൊണ്ട് പരിഹാരമില്ലാത്ത കാര്യത്തില്\\u200d ദുഃഖിക്കുന്നത് നിനക്ക് ഉചിതമല്ല. <EOS>\\n', 'ഒരാളും ഒരിക്കലും അല്പനേരത്തേക്കുപോലും പ്രവര്\\u200dത്തിക്കാതെ ഇരിക്കുന്നില്ല. എല്ലാവരും പ്രകൃതി ഗുണങ്ങളാല്\\u200d നിര്\\u200dബന്ധിതരായി ക\\u200d\\u200d\\u200dര്\\u200dമ്മം ചെയ്തുപോകുന്നു. <EOS>\\n', 'ക\\u200d\\u200d\\u200d\\u200dര്\\u200dമ്മേന്ദ്രിയങ്ങ\\u200dളെ അടക്കിനിര്\\u200dത്തി യാതൊരുവന്\\u200d വിഷയങ്ങളെ മനസ്സുകൊണ്ട് സദാ സ്മരിച്ചുകൊണ്ടിരിക്കുന്നുവോ മൂഡാത്മാവായ അവന്\\u200d മിഥ്യാചാരന്\\u200d എന്ന് പറയപ്പെടുന്നു <EOS>\\n', 'അര്\\u200dജുനാ, യാതൊരുവന്\\u200d ഇന്ദ്രിയങ്ങളെ മനസ്സുകൊണ്ട് അടക്കിനിര്\\u200dത്തിയിട്ടു ക\\u200d\\u200d\\u200d\\u200dര്\\u200dമ്മേന്ദ്രിയങ്ങളെക്കൊണ്ട് നിഷ്ക്കാമക\\u200d\\u200d\\u200dര്\\u200dമ്മ ആരംഭിക്കുന്നുവോ അവന്\\u200d ശ്രേഷ്ഠനാകുന്നു. <EOS>\\n', 'അര്\\u200dജുനന്\\u200d ചോദിച്ചു: ഹേ കേശവാ, സമാധിസ്ഥനായ സ്ഥിതപ്രജഞന്റെ ലക്ഷണമെന്താണ്? സ്ഥിതപ്രജ്ഞന്\\u200d എന്ത് സംസാരിക്കും? എങ്ങിനെ സ്ഥിതിചെയ്യും? എങ്ങിനെ സഞ്ചരിക്കും? <EOS>\\n', 'അര്\\u200dജുനാ, യജ്ഞത്തിനുള്ള ക\\u200d\\u200d\\u200dര്\\u200dമ്മം ഒഴിച്ച് മറ്റു ക\\u200d\\u200d\\u200dര്\\u200dമ്മങ്ങളാല്\\u200d ബന്ധിക്കപ്പെട്ടതാണ് ഈ ലോകം. സംഗരഹിതനായി നീ ക\\u200d\\u200d\\u200dര്\\u200dമ്മം ആചരിക്കുക. <EOS>\\n', 'ശ്രീ ഭഗവാന്\\u200d പറഞ്ഞു: ഹേ അനഘ (പാപങ്ങളില്ലാത്തവന്\\u200d), ഈ ലോകത്തില്\\u200d സംഖ്യന്മാര്\\u200dക്ക് വേണ്ടി ജഞാനയോഗം കൊണ്ടും യോഗികള്\\u200dക്കു വേണ്ടി ക\\u200d\\u200d\\u200dര്\\u200dമ്മയോഗം <EOS>\\n', 'ഭഗവാന്\\u200d പറഞ്ഞു: ഈ സംസാരത്തെ ശാഖകള്\\u200d താഴെയും വേരുകള്\\u200d മുകളിലുമായുള്ള നാശമില്ലാത്ത ഒരു അശ്വത്ഥ (അരയാല്\\u200d) വൃക്ഷമായും, വേദങ്ങളെ അതിന്റെ ഇലകളായും (പൂര്\\u200dവ്വികന്മാര്\\u200d) പറയുന്നു. ഈ വൃക്ഷത്തെ അറിയുന്നവന്\\u200d വേദങ്ങളെ അറിയുന്നവനാണ്. <EOS>\\n', 'ശ്രീ ഭഗവാന്\\u200d പറഞ്ഞു: ഹേ പാര്\\u200dത്ഥ, എന്നില്\\u200d ആസക്തചിത്തനായി എന്നെ ആശ്രയിച്ച് യോഗം അഭ്യസിച്ച് എങ്ങിനെ എന്നെ നിസ്സംശയമായും പൂര്\\u200dണമായും നീ അറിയുമോ ആ വിധം കേട്ടുകൊള്ളുക. <EOS>\\n', 'ഹേ അര്\\u200dജുനാ, എന്റെ യോനിയാകുന്ന മഹാപ്രകൃതിയില്\\u200d ഞാന്\\u200d ബീജത്തെ നിക്ഷേപിക്കുന്നു. സര്\\u200dവ്വ ജീവരാശികളുടെയും ജന്മം അതില്\\u200dനിന്നാണ്. <EOS>\\n', 'അന്നത്തില്\\u200dനിന്നു ഭൂതങ്ങള്\\u200d ഉണ്ടാകുന്നു. മഴയില്\\u200dനിന്നു അന്നവും ഉദ്ഭവിക്കുന്നു. യജ്ഞത്തില്\\u200d നിന്നു മഴയുണ്ടാകുന്നു. യജ്ഞം ക\\u200d\\u200d\\u200dര്\\u200dമ്മത്തില്\\u200dനിന്നുണ്ടാകുന്നു. <EOS>\\n', 'ഹേ കൗന്തേയ, രജസ്സിന്റെ സ്വഭാവം രാഗമാണെന്നറിയൂ. അത് തൃഷ്ണ (ആഗ്രഹം) യെയും സംഗത്തെയും ജനിപ്പിക്കുകയും കര്\\u200dമ്മത്തോടുള്ള സംഗത്താല്\\u200d ദേഹിയെ ബന്ധിക്കുകയും ചെയ്യുന്നു. <EOS>\\n', 'ഹേ പാര്\\u200dത്ഥാ, ഇപ്രകാരം പ്രവത്തിക്കുന്ന ക\\u200d\\u200d\\u200dര്\\u200dമ്മചക്രത്തെ ഈ ലോകത്തില്\\u200d എവനൊരുവന്\\u200d അനുവര്\\u200dത്തിക്കുന്നില്ലയോ പാപിയും വിഷയഭ്രാന്തനുമായ അവന്റെ ജീവിതം നിഷ്ഫലമത്രേ <EOS>\\n', 'എന്നാല്\\u200d ഏതൊരു മനുഷ്യന്\\u200d തന്നില്\\u200d തന്നെ രമിക്കുന്നവനും തന്നില്\\u200d സംതൃപ്തനും സന്തുഷ്ടനുമായിരിക്കുന്നുവോ അവനു കരണീയമായി ഒന്നുമില്ല. <EOS>\\n', 'അര്\\u200dജുനന്\\u200d ചോദിച്ചു: ഹേ കൃഷ്ണാ, പിന്നെ ആര്\\u200d പ്രേരിപ്പിചിട്ടാണ് ഈ പുരുഷന്\\u200d താ\\u200dന്\\u200d ഇച്ഛിക്കാതെയിരുന്നിട്ടും ബലമായ ഏതോ ശക്തിയാല്\\u200d നിയുക്തനെന്നപോലെ പാപകര്\\u200dമ്മങ്ങ\\u200dള്\\u200d അനുഷ്ഠിക്കുന്നത്. <EOS>\\n', 'ജനിച്ചവന് മരണം നിശ്ചിതമാണ്. മരിച്ചവന് ജനനവും നിശ്ചിതമാണ്. അതുകൊണ്ട് പരിഹാരമില്ലാത്ത കാര്യത്തില്\\u200d ദുഃഖിക്കുന്നത് നിനക്ക് ഉചിതമല്ല. <EOS>\\n', 'എന്തുകൊണ്ടെന്നാല്\\u200d ക\\u200d\\u200d\\u200dര്\\u200dമ്മം കൊണ്ടുതന്നെയാണ് ജനകാദികള്\\u200d സിദ്ധിയെ പ്രാപിച്ചത്. ലോകസംരക്ഷണത്തെ ഓര്\\u200dത്തിട്ടായാലും നീ പ്രവര്\\u200dത്തിക്കേണ്ടതാണ്. <EOS>\\n', 'അര്\\u200dജുനന്\\u200d ചോദിച്ചു: ഹേ കേശവാ, സമാധിസ്ഥനായ സ്ഥിതപ്രജഞന്റെ ലക്ഷണമെന്താണ്? സ്ഥിതപ്രജ്ഞന്\\u200d എന്ത് സംസാരിക്കും? എങ്ങിനെ സ്ഥിതിചെയ്യും? എങ്ങിനെ സഞ്ചരിക്കും? <EOS>\\n', 'അര്\\u200dജുനാ, എല്ലാവരുടെയും ദേഹത്തിലുള്ള ഈ ദേഹി ഒരിക്കലും വധിക്കപ്പെടാവുന്നവനല്ല. അതിനാല്\\u200d യാതൊരു ജീവിയെക്കുറിച്ചും നീ ദുഖിക്കേണ്ടതില്ല. <EOS>\\n', 'അഗ്നി, ജ്യോതിസ്, വെളുത്ത പക്ഷം, ഉത്തരായണം ഇവയില്\\u200d ഇവയുടെ അധീശ്വരായ ദേവതകള്\\u200d വഴിയായി, ഗമിക്കുന്ന ബ്രഹ്മജ്ഞരായ ജനങ്ങള്\\u200d ബ്രഹ്മത്തെ പ്രാപിക്കുന്നു. <EOS>\\n', 'ഞാന്\\u200d കര്\\u200dമ്മം ചെയ്തില്ലെങ്കില്\\u200d ഈ ലോകം മുഴുവന്\\u200d നശിക്കും. ഞാന്\\u200d വര്\\u200dണസങ്കരത്തിന്റെയും കര്\\u200dത്താവാകും. പ്രജകള്\\u200d ദുഷിക്കുകയും ചെയ്യും. <EOS>\\n', 'ഹേ ഭാരതാ, അപണ്ഡിതന്മാര്\\u200d ക\\u200dര്\\u200dമ്മത്തില്\\u200d ആസക്തരായി എങ്ങിനെയെല്ല\\u200dാം പ്രവര്\\u200dത്തിക്കുന്നുവോ പണ്ഡിതന്\\u200d ലോകത്തിന്റെ നിലനില്\\u200dപ്പ്\\u200c ക\\u200dാംക്ഷിച്ചുകൊണ്ടു നിസ്സംഗനായി അതേവിധം പ്രവ\\u200dര്\\u200dത്തിക്കണം. <EOS>\\n', 'സകാമക\\u200dര്\\u200dമ്മത്തി\\u200cല്\\u200d ആസക്തരായ മൂഢജനങ്ങളുടെ ബുദ്ധിയെ വിദ്വാ\\u200dന്\\u200d ഒരിക്കലും ഇളക്കരുത്. വിദ്വാന്\\u200d എല്ലാ കര്\\u200dമങ്ങളും യോഗയുക്തനായി വഴിപോലെ ആചരിച്ച് മറ്റുള്ളവരെക്കൊണ്ടും ആചരിപ്പിക്കണം. <EOS>\\n', 'ഇപ്രകാരം ക്ഷേത്രം, ജ്ഞാനം, ജ്ഞേയം എന്നിവയെപ്പറ്റി ഞാ\\u200d\\u200dന്\\u200d ചുരുക്കത്തില്\\u200d പറഞ്ഞു കഴിഞ്ഞു. എന്റെ ഭക്ത\\u200dന്\\u200d ഇതറിഞ്ഞിട്ട് എന്റെ ഭാവത്തിന് അ\\u200dര്\\u200dഹനായിത്തീരുന്നു. <EOS>\\n', 'ഹേ മഹാബാഹോ, ഗുണകര്\\u200dമ്മവിഭാഗങ്ങളുടെ തത്വമറിയുന്ന വനാകട്ടെ ഗുണപരിണാമങ്ങളായ ഇന്ദ്രിയങ്ങള്\\u200d ഗുണപരിണാമങ്ങ ളായ വിഷയങ്ങളില്\\u200d പ്രവര്\\u200dത്തിക്കുന്നുവെന്ന് ധരിച്ചിട്ട് അവയില്\\u200d ആസക്തനാകുന്നില്ല. <EOS>\\n', 'പത്രം, പുഷ്പം, ഫലം, ജലം എന്നിവ ഭക്തിയോടു കൂടി എനിക്കായി നിവേദിക്കുന്ന ഏകാഗ്രചിത്തന്റെ ആ ഭക്തി പൂര്\\u200dവകമായ വഴിപാടിനെ ഞാന്\\u200d കൈക്കൊള്ളുന്നു. <EOS>\\n', 'സര്\\u200dവക\\u200dര്\\u200dമ്മങ്ങളും എന്നില്\\u200d സമര്\\u200dപ്പിച്ചു ആധ്യാത്മിക ബുദ്ധിയോടെ നിഷ്കാമനും നി\\u200dര്\\u200dമ്മമനുമായി ഭവിച്ചിട്ടു ദുഃഖം കളഞ്ഞു നീ യുദ്ധം ചെയ്യുക. <EOS>\\n', 'അര്\\u200dജുനന്\\u200d ചോദിച്ചു: ഹേ കൃഷ്ണാ, പിന്നെ ആര്\\u200d പ്രേരിപ്പിചിട്ടാണ് ഈ പുരുഷന്\\u200d താ\\u200dന്\\u200d ഇച്ഛിക്കാതെയിരുന്നിട്ടും ബലമായ ഏതോ ശക്തിയാല്\\u200d നിയുക്തനെന്നപോലെ പാപകര്\\u200dമ്മങ്ങ\\u200dള്\\u200d അനുഷ്ഠിക്കുന്നത്. <EOS>\\n', 'ഈ യുദ്ധം അപ്രതീക്ഷിതമായി തുറന്നുകിട്ടിയ സ്വര്\\u200dഗ്ഗവാതില്\\u200d പോലെയാണ്. ഹേ പാര്\\u200dത്ഥ, ഭാഗ്യവാന്മാരായ ക്ഷത്രിയര്\\u200dക്ക് മാത്രമാണ് ഈ വിധമുള്ള യുദ്ധം ലഭിക്കുന്നത്\\u200c. <EOS>\\n', 'അഹോ കഷ്ട്ടം! വലിയ പാപം ചെയ്യാന്\\u200d നാം ഒരുങ്ങിയിരിക്കുന്നു. രാജ്യലാഭത്തിലും സുഖത്തിലുമുള്ള അത്യാഗ്രഹം കൊണ്ടു സ്വജനങ്ങളെ കൊല്ലാന്\\u200d ന\\u200dാം ഒരുങ്ങിയല്ലോ. <EOS>\\n', 'അര്\\u200dജുനന്\\u200d ചോദിച്ചു: ഹേ കേശവാ, സമാധിസ്ഥനായ സ്ഥിതപ്രജഞന്റെ ലക്ഷണമെന്താണ്? സ്ഥിതപ്രജ്ഞന്\\u200d എന്ത് സംസാരിക്കും? എങ്ങിനെ സ്ഥിതിചെയ്യും? എങ്ങിനെ സഞ്ചരിക്കും? <EOS>\\n', 'വിധിപ്രകാരം അനുഷ്ഠിച്ച പരധ\\u200dര്\\u200dമ്മത്തെക്കളും ഗുണഹീനമായ സ്വധ\\u200dര്\\u200dമ്മമാണ് ശ്രേയസ്ക്കരം. സ്വധ\\u200dര്\\u200dമ്മാനുഷ്ഠാനത്തില്\\u200d സംഭവിക്കുന്ന മരണവും ശ്രേയസ്ക്കരമാണ്. പരധ\\u200dര്\\u200dമ്മം ഭയാവഹമാകുന്നു. <EOS>\\n', 'അര്\\u200dജുനന്\\u200d ചോദിച്ചു: ഹേ കൃഷ്ണാ, പിന്നെ ആര്\\u200d പ്രേരിപ്പിചിട്ടാണ് ഈ പുരുഷന്\\u200d താ\\u200dന്\\u200d ഇച്ഛിക്കാതെയിരുന്നിട്ടും ബലമായ ഏതോ ശക്തിയാല്\\u200d നിയുക്തനെന്നപോലെ പാപകര്\\u200dമ്മങ്ങ\\u200dള്\\u200d അനുഷ്ഠിക്കുന്നത്. <EOS>\\n', 'ശ്രീ ഭഗവാന്\\u200d പാഞ്ഞു: രജോഗുണത്തില്\\u200d നിന്നു ജനിച്ച ഈ കാമം, ഈ ക്രോധം തൃപ്തിപ്പെടുത്താന്\\u200d കഴിയാത്തതും മഹാപാപകാരണ വുമാണ് ഇക്കാര്യത്തില്\\u200d ഇതിനെ ശത്രുവായി അറിയുക. <EOS>\\n', 'സാമവേദത്തി\\u200dല്\\u200d ബൃഹ\\u200dല്\\u200dസാമവും, ഛന്ദസ്സുകളില്\\u200d ഗായത്രിയും ഞാനാണ്. അങ്ങനെ മാസങ്ങളി\\u200d\\u200dല്\\u200d മാര്\\u200dഗ്ഗശീര്\\u200dഷവും ഋതുക്കളില്\\u200d വസന്തവും ഞാനാണ്. <EOS>\\n', 'ഹേ കൌന്തേയ, ജ്ഞാനിയുടെ നിത്യവൈരിയും കാമരൂപവും അതൃപ്തവും ഒരിക്കലും തൃപ്തിപ്പെടാത്ത അഗ്നിക്ക് തുല്യവും ആയ ഈ കാമത്താല്\\u200d ജ്ഞാനം ആവൃതമാകുന്നു. <EOS>\\n', 'ഹേ മഹാനായ ദേവ! ഉഗ്രരൂപത്തോടുകൂടിയ ഭവാന്\\u200d ആരാണെന്നു പറഞ്ഞാലും. അങ്ങേയ്\\u200dക്കു നമസ്\\u200dകാരം! എന്നി\\u200dല്\\u200d പ്രസാദിക്കുമാറാകണേ! ആദിപുരുഷനായ ഭഗവാനെപ്പറ്റി വേണ്ടതി\\u200dന്\\u200dവണ്ണം മനസ്സിലാക്കണമെന്നു ഞാനാഗ്രഹിക്കുന്നു. അവിടുത്തെ പ്രവൃത്തിയെ (ഉദ്ദേശത്തെ)ക്കുറിച്ച് എനിക്കറിഞ്ഞുകൂടാ. <EOS>\\n', 'ഈ ജ്ഞാനത്തെ ആശ്രയിച്ച് എന്നെ പ്രാപിക്കുന്നവര്\\u200d സൃഷ്ടിയുടെ ആരംഭത്തില്\\u200d ജന്മമെടുക്കുന്നില്ല, പ്രളയസമയത്ത് വ്യസനിക്കു ന്നുമില്ല. <EOS>\\n', 'യാതൊരു ജ്ഞാനം ഒരു കാര്യത്തില്\\u200d (ശരീരത്തില്\\u200d) തന്നെ പൂര്\\u200dണ്ണമാണെന്നുള്ള ധാരണയില്\\u200d ആസക്തിയോടെയും, കാരണ മില്ലാതെയും, സത്യത്തെ അറിയാതെയും, അല്പമായുമിരിക്കുന്നുവോ അത് താമസികജ്ഞാനമാണ്. <EOS>\\n', 'മഹാബാഹോ, ഇപ്രകാരം ബുദ്ധിയേക്കാള്\\u200d സൂക്ഷ്മമായ ആത്മാവിനെ അറിഞ്ഞിട്ട് ബുദ്ധികൊണ്ട് മനസ്സിനെ അടക്കിയിട്ട് കീഴടക്കാന്\\u200d എളുപ്പമല്ലാത്ത കാമരൂപനും ദുര്\\u200dജയനുമായ ഈ ശത്രുവിനെ നശിപ്പിക്കുക. <EOS>\\n', 'ശ്രീ ഭഗവാന്\\u200d പറഞ്ഞു: ഹേ പാര്\\u200dത്ഥ, എന്നില്\\u200d ആസക്തചിത്തനായി എന്നെ ആശ്രയിച്ച് യോഗം അഭ്യസിച്ച് എങ്ങിനെ എന്നെ നിസ്സംശയമായും പൂര്\\u200dണമായും നീ അറിയുമോ ആ വിധം കേട്ടുകൊള്ളുക. <EOS>\\n', 'വിഷയങ്ങളുടെയും ഇന്ദ്രിയങ്ങളുടെയും സമ്പര്\\u200dക്കം കൊണ്ടുണ്ടാകുന്നതും ആദ്യം അമൃതു പോലെയും ഒടുവില്\\u200d വിഷസമാനമായുമിരിക്കുന്നുവോ ആ സുഖം രാജസികമാണ്. <EOS>\\n', 'ഓം തത്സദിതി ശ്രീമദ്ഭഗവദ്ഗീതാസൂപനിഷത്സു ബ്രഹ്മവിദ്യായ\\u200dാം യോഗശാസ്ത്രേ ശ്രീകൃഷ്ണാര്\\u200dജുനസംവാദേ വിഭൂതിയോഗോ നാമ ദശമോധ്യായഃ\" <EOS>\\n', 'അര്\\u200dജുനന്\\u200d ചോദിച്ചു: ആദിത്യന്റെ ജന്മം മുന്\\u200dപും അങ്ങയുടെ ജന്മം പിന്\\u200dപുമാണല്ലോ. അങ്ങിനെയിരിക്കെ, ആദ്യം അങ്ങാണ് ഇതു പറഞ്ഞതെന്ന് എങ്ങിനെ ഞാന്\\u200d മനസ്സിലാക്കും? <EOS>\\n', 'ശ്രീ ഭഗവാന്\\u200d പറഞ്ഞു: അര്\\u200dജുനാ, എന്റെ വളരെയേറെ ജന്മങ്ങള്\\u200d കഴിഞ്ഞു പോയി. നിനക്കും അങ്ങനെ തന്നെ. അവയെല്ല\\u200dാം എനിക്കറിയ\\u200dാം. നീ അറിയുന്നില്ല. <EOS>\\n', 'എന്തെന്നാല്\\u200d ഹേ കൃഷ്ണാ, മനസ്സ് ചഞ്ചലവും ക്ഷുബ്ധവും നിയന്ത്രണ ത്തിനു വഴങ്ങാത്തതും അയവില്ലാത്തതുമാണ്. അതിന്റെ നിയന്ത്രണം വായുവിന്റെതെന്നപോലെ ദുഷ്ക്കരമായി ഞാന്\\u200d കരുതുന്നു. <EOS>\\n', 'മോക്ഷാര്\\u200dഥികള്\\u200d തത് (അത്) എന്നുച്ചരിച്ച് ഫലാക\\u200dാംക്ഷയില്ലാതെ യജ്ഞം, ദാനം, തപസ്സ് എന്നീ ക്രിയകള്\\u200d നടത്തുന്നു. <EOS>\\n', 'ഹേ കൌന്തേയ, ഞാന്\\u200d ജലത്തിലെ രസമാകുന്നു. ചന്ദ്രസൂര്യന്\\u200dമാരിലെ ശോഭയാകുന്നു. വേദമന്ത്രങ്ങളില്\\u200d പ്രണവമാകുന്നു. ആകാശത്തിലെ ശബ്ദമാകുന്നു. മനുഷ്യരിലെ പൗരുഷവുമാകുന്നു. <EOS>\\n', 'അര്\\u200dജുനന്\\u200d ചോദിച്ചു: ഹേ കേശവാ, സമാധിസ്ഥനായ സ്ഥിതപ്രജഞന്റെ ലക്ഷണമെന്താണ്? സ്ഥിതപ്രജ്ഞന്\\u200d എന്ത് സംസാരിക്കും? എങ്ങിനെ സ്ഥിതിചെയ്യും? എങ്ങിനെ സഞ്ചരിക്കും? <EOS>\\n', 'രാഗം, ഭയം, കോപം ഇവ കൈവിട്ടവരും എന്റെ ഭക്തന്മാരും എന്നെ ആശ്രയിച്ചവരുമായ വളരെപ്പേര്\\u200d ജ്ഞാനമാകുന്ന തപസുകൊണ്ടു പരിശുദ്ധരായിത്തീര്\\u200dന്നു എന്നെ പ്രാപിച്ചിട്ടുണ്ട്. <EOS>\\n', 'ആസുരരായ ജനങ്ങള്\\u200dക്ക് എന്തു പ്രവര്\\u200dത്തിക്കണം ഏതില്\\u200d നിന്ന് നിവര്\\u200dത്തിക്കണം എന്നറിയില്ല. അവരില്\\u200d ശൗചമോ, ആചാരമോ, സത്യമോ കാണപ്പെടുന്നില്ല. <EOS>\\n', 'പ്രകൃതിയും പുരുഷനും അനാദികളാണെന്നറിയണം. വികാരങ്ങളും ഗുണങ്ങളും പ്രകൃതിയി\\u200dല്\\u200d നിന്നുത്ഭവിക്കുന്നവയാണെന്നും അറിയുക. <EOS>\\n', 'എപ്പോള്\\u200d സ്ഥിരമായിത്തീര്\\u200dന്ന ചിത്തം സര്\\u200dവകാമങ്ങളില്\\u200d നിന്നും അകന്ന് ആത്മാവില്\\u200d തന്നെ ഉറച്ചുനില്\\u200dക്കുന്നുവോ അപ്പോള്\\u200d അവന്\\u200d യുക്തനെന്നു പറയപ്പെടുന്നു. <EOS>\\n', 'എന്നെ ക\\u200dര്\\u200dമ്മം ബാധിക്കുന്നില്ല. എനിക്ക് ക\\u200dര്\\u200dമ്മഫലത്തില്\\u200d ആഗ്രഹമില്ല. ഈ വിധം എന്നെ എവ\\u200dന്\\u200d അറിയുന്നുവോ അവന്\\u200d ക\\u200dര്\\u200dമ്മങ്ങളാല്\\u200d ബന്ധനാകുന്നില്ല. <EOS>\\n', 'ഈ തത്വത്തെ അറിയുന്നവരായ പൂര്\\u200dവ്വികരായ മുമുക്ഷുക്കള്\\u200dക്കൂടി, നിഷ്കാമ ബുദ്ധിയോടുകൂടി ക\\u200dര്\\u200dമ്മം അനുഷ്ഠിച്ചു. അതുകൊണ്ട് പൂര്\\u200dവ്വികന്മാര്\\u200d പണ്ടു ചെയ്തതുപോലെ നീയും ക\\u200dര്\\u200dമ്മം ചെയ്യുക തന്നെ വേണം. <EOS>\\n', 'കുന്തീപുത്രാ, ഇന്ദ്രിയങ്ങളും വിഷയങ്ങളും തമ്മിലുള്ള സ്പര്\\u200dശങ്ങള്\\u200d ശീതോഷ്ണങ്ങളെയും സുഖദുഃഖങ്ങളെയും നല്\\u200dകുന്നവയും, വന്നും പോയും ഇരിക്കുന്നവയും അനിത്യങ്ങളുമാണ്. ഭരതവംശത്തില്\\u200d ജനിച്ചവനെ, അവ നിര്\\u200dവികാരനായി സഹിച്ചു കൊള്ളുക. <EOS>\\n', 'ക\\u200dര്\\u200dമ്മത്തിന്റെ സ്വരൂപം അറിയേണ്ടതുണ്ട്. വിക\\u200dര്\\u200dമ്മത്തിന്റെ സ്വരൂപവും അകര്\\u200dമത്തിന്റെ സ്വരൂപവും അറിയെണ്ടതുണ്ട്. എന്ത് കൊണ്ടെന്നാല്\\u200d ക\\u200dര്\\u200dമ്മത്തിന്റെ ഗതി (പോക്ക്) അറിയാന്\\u200d വളരെ വിഷമമുള്ളതാണ്. <EOS>\\n', 'ക\\u200dര്\\u200dമ്മത്തില്\\u200d അക\\u200dര്\\u200dമ്മവും അക\\u200dര്\\u200dമ്മത്തില്\\u200d ക\\u200dര്\\u200dമ്മവും യാതൊരുവ\\u200dന്\\u200d കാണുന്നുവോ അവനാണ് മനുഷ്യരില്\\u200d വച്ചു ബുദ്ധിമാ\\u200dന്\\u200d. അവനാണ് യോഗിയും എല്ലാ ക\\u200cര്\\u200dമ്മങ്ങളും അനുഷ്ഠിക്കുന്നവനും. <EOS>\\n', 'കുന്തീപുത്രാ, ഇന്ദ്രിയങ്ങളും വിഷയങ്ങളും തമ്മിലുള്ള സ്പര്\\u200dശങ്ങള്\\u200d ശീതോഷ്ണങ്ങളെയും സുഖദുഃഖങ്ങളെയും നല്\\u200dകുന്നവയും, വന്നും പോയും ഇരിക്കുന്നവയും അനിത്യങ്ങളുമാണ്. ഭരതവംശത്തില്\\u200d ജനിച്ചവനെ, അവ നിര്\\u200dവികാരനായി സഹിച്ചു കൊള്ളുക. <EOS>\\n', 'ക\\u200dര്\\u200dമ്മഫലത്തിലുള്ള ആസക്തിവെടിഞ്ഞ് നിത്യതൃപ്തനായി ഒന്നിനെയും ആശ്രയിക്കാതിരിക്കുന്നവന്\\u200d ക\\u200dര്\\u200dമ്മത്തില്\\u200d ഏ\\u200dര്\\u200dപ്പെട്ടിരുന്നാലും അവന്\\u200d ഒന്നും ചെയ്യുന്നില്ലതന്നെ. <EOS>\\n', 'അഭിലാഷങ്ങളില്ലാതെ മനോനിയന്ത്രണത്തോടെ എല്ലാ ബന്ധങ്ങളും നിശ്ശേഷം കൈവിട്ടു ശരീരം കൊണ്ടു മാത്രമുള്ള പ്രവൃത്തി ചെയ്യുന്നവനെ പാപം ബാധിക്കുന്നില്ല. <EOS>\\n', 'യാദൃച്ഛയാ ലഭിക്കുന്നതുകൊണ്ട് സന്തുഷ്ടനും സുഖദുഃഖാദി ദ്വന്ദ്വങ്ങളെ അതിജീവിച്ചവനും നി\\u200d\\u200d\\u200d\\u200dര്\\u200dമ്മത്സരനും ജയപരാജയങ്ങളില്\\u200d സമചിത്തനും ആയവന്\\u200d കര്\\u200dമ്മം ചെയ്താലും ബദ്ധനാകുന്നില്ല. <EOS>\\n', 'യാതൊരുത്ത\\u200dര്\\u200d, നാശമില്ലാത്തതും, ഇന്നവിധത്തിലുള്ളതാണെന്നു വിവരിക്കുവാ\\u200d\\u200dന്\\u200dവയ്യാത്തതും, അവ്യക്തവും സ\\u200dര്\\u200dവവ്യാപ്തവുമായി രിക്കുന്നതും ചിന്തിച്ചറിയിപ്പാ\\u200d\\u200dന്\\u200d പ്രയാസമായിട്ടുള്ളതും മാറ്റം വരാത്തതും അനാദിയായിട്ടുള്ളതും ആയ ബ്രഹ്മത്തെ ഭജിക്കുകയും, ഇന്ദ്രിയങ്ങളെ അടക്കി സ\\u200dര്\\u200dവത്ര സമബുദ്ധിയോടും സ\\u200dര്\\u200dവഭൂതങ്ങ\\u200dള്\\u200dക്കും നന്മയെച്ചെയ്\\u200dവാനുള്ള താ\\u200dല്\\u200dപര്യത്തോടുംകൂടി വ\\u200dര്\\u200dത്തിക്കുകയും ചെയ്യുന്നുവോ അവ\\u200dര്\\u200d എന്നെത്തന്നെ പ്രാപിക്കുന്നു. <EOS>\\n', 'ആ ശബ്ദകോലാഹലം ആകാശത്തെയും ഭൂമിയെയും പ്രതിധ്വനിപ്പിച്ചു കൊണ്ടു ധൃതരാഷ്ട്ര പുത്രന്മാരുടെ ഹൃദയം പിളര്\\u200dന്നു. <EOS>\\n', 'വേറെചില യോഗികള്\\u200d ദേവന്മാരെയുദ്ദേശിച്ചുള്ള യജ്ഞമനുഷ്ടിക്കുന്നു. മറ്റുചിലര്\\u200d ബ്രഹ്മാഗ്നിയില്\\u200d ആത്മാവുകൊണ്ടു ആത്മാവിനെ സമര്\\u200dപ്പിക്കുന്നു. <EOS>\\n', 'വേറെ ചിലര്\\u200d ശ്രോത്രാദികളായ ഇന്ദ്രിയങ്ങളെ സംയമരൂപമായ അഗ്നിയില്\\u200d ഹോമിക്കുന്നു. മറ്റു ചിലര്\\u200d ശബ്ദാദി വിഷയങ്ങളെ ഇന്ദ്രിയരൂപമായ അഗ്നിയില്\\u200d ഹോമിക്കുന്നു. <EOS>\\n', 'സാമവേദത്തി\\u200dല്\\u200d ബൃഹ\\u200dല്\\u200dസാമവും, ഛന്ദസ്സുകളില്\\u200d ഗായത്രിയും ഞാനാണ്. അങ്ങനെ മാസങ്ങളി\\u200d\\u200dല്\\u200d മാര്\\u200dഗ്ഗശീര്\\u200dഷവും ഋതുക്കളില്\\u200d വസന്തവും ഞാനാണ്. <EOS>\\n', 'ദുര്\\u200dബുദ്ധിയായ ഒരുവന്\\u200d യാതൊരു ധൈര്യത്താല്\\u200d സ്വപ്നം, ഭയം, ദുഃഖം, വ്യസനം, അഹങ്കാരം എന്നിവയെ പരിത്യജിക്കാ തിരിക്കുന്നുവോ അത് താമസികമാണ്. <EOS>\\n', 'ഹേ കൌന്തേയ, ഞാന്\\u200d ജലത്തിലെ രസമാകുന്നു. ചന്ദ്രസൂര്യന്\\u200dമാരിലെ ശോഭയാകുന്നു. വേദമന്ത്രങ്ങളില്\\u200d പ്രണവമാകുന്നു. ആകാശത്തിലെ ശബ്ദമാകുന്നു. മനുഷ്യരിലെ പൗരുഷവുമാകുന്നു. <EOS>\\n', 'ഹേ രാജന്\\u200d, അത്ഭുതകരമായ ആ സംവാദം ഓര്\\u200dക്കുന്തോറും ഞാന്\\u200d ഓരോന്നായി വിശദീകരിക്കുന്നതു കേട്ടാലും. <EOS>\\n', 'യജ്ഞശിഷ്ടമായ അമൃതം ഭുജിക്കുന്നവര്\\u200d പരബ്രഹ്മത്തെ പ്രാപിക്കുന്നു. യജ്ഞം ചെയ്യാത്തവന്ന് ഈ ലോകം തന്നെയില്ല. ഹേ കുരുശ്രേഷ്ടാ, പിന്നെയാണോ പരലോകം? <EOS>\\n', 'ഇങ്ങിനെ പലതരം യജ്ഞങ്ങള്\\u200d ബ്രഹ്മാവിനാല്\\u200d വിവരിക്കപ്പെട്ടി ട്ടുണ്ട്. അവയെല്ല\\u200dാം ക\\u200dര്\\u200dമ്മത്തില്\\u200d നിന്നുഉളവാകുന്നവയാണ് എന്ന് അറയുക. അതെല്ല\\u200dാം ഇങ്ങിനെ മനസ്സിലാക്കുമ്പോള്\\u200d നീ മുക്തനായിത്തീരും. <EOS>\\n', 'യാതൊരു ജ്ഞനമാണോ സര്\\u200dവ്വജീവജാലങ്ങളിലും നാനാതരത്തിലുള്ള ഭാവങ്ങളെ ദര്\\u200dശിക്കുന്നത് അത് രാജസമാണ്. <EOS>\\n', 'സത്യം കണ്ടറിഞ്ഞ ജ്ഞാനികള്\\u200d നിനക്കു ജ്ഞാനം ഉപദേശിച്ചു തരും. അത് നീ നമസ്ക്കാരം കൊണ്ടും ചോദ്യം കൊണ്ടും സേവകൊണ്ടും ഗ്രഹിക്കുക. <EOS>\\n', 'ഹേ പാ\\u200dണ്ഡവാ, അതറിഞ്ഞാല്\\u200d പിന്നെയിങ്ങനെ ഭ്രമം നിനക്കുണ്ടാവില്ല. ഇതു മൂലം ഭൂതങ്ങളെയെല്ല\\u200dാം തന്നിലും പിന്നെ എന്നിലും നീ കാണും. <EOS>\\n', 'ഹേ പാര്\\u200dഥ, നീ ഏകാഗ്രചിത്തനായി ഇതെല്ല\\u200dാം കേട്ടുവോ? നിന്റെ അജ്ഞാനവും മോഹവും നഷ്ടമായോ? <EOS>\\n', 'ഹേ ഭാരത, തമസ്സ് അജ്ഞാനത്തില്\\u200d നിന്നുണ്ടാകുന്നതും എല്ലാ ദേഹികളെയും (ജീവന്മാരെയും) മോഹിപ്പിക്കുന്നതുമാണെന്നറിയൂ. അത് അശ്രദ്ധ, ആലസ്യം, ഉറക്ക എന്നിവയാല്\\u200d ദേഹിയെ ബന്ധിക്കുന്നു. <EOS>\\n', 'ഹേ പാര്\\u200dത്ഥ, ഈ രണ്ടു മാര്\\u200dഗ്ഗങ്ങളെ യഥാ\\u200d\\u200dര്\\u200dത്ഥമായറിയുന്ന യാതൊരു ക\\u200dര്\\u200dമ്മയോഗിയും മോഹത്തെ പ്രാപിക്കുന്നില്ല.. അതുകൊണ്ടു ഹേ അ\\u200cര്\\u200dജ്ജുനാ, സമല കാലങ്ങളിലും ക\\u200dര്\\u200dമ്മയോഗയുക്തനയി ഭവിക്കുക. <EOS>\\n', 'പ്രിയം നേടി സന്തോഷിക്കുകയും, അപ്രിയം വന്നുചേർന്നാൽ ദുഖിക്കുകയും ചെയ്യാത്തവനും, സ്ഥിരബുദ്ധിയും, മോഹമില്ലാത്തവനും ആയവൻ ബ്രഹ്മജ്ഞനും <EOS>\\n', 'ശ്രീകൃഷ്ണ\\u200dന്\\u200d പറഞ്ഞു: ദേവന്മാ\\u200dര്\\u200dപോലും എന്നും ദ\\u200dര്\\u200dശിക്കുവാ\\u200d\\u200dന്\\u200d അതിയായി ആഗ്രഹിച്ചു കൊണ്ടിരിക്കുന്നതും, ദ\\u200dര്\\u200dശിപ്പാ\\u200cന്\\u200d പ്രയാസമായിട്ടുള്ളതും ആയ എന്റെ ഈ രൂപത്തെ നീ കണ്ടുവല്ലോ. <EOS>\\n', 'ധനഞജയാ, യോഗത്താല്\\u200d കര്\\u200dമ്മങ്ങള്\\u200d ഉപേക്ഷിച്ചവനും ജ്ഞാനംകൊണ്ടു സംശയങ്ങള്\\u200d നിഃശേഷം തീര്\\u200dന്നവനും ആത്മനിഷ്ഠനുമായവനെ കര്\\u200dമ്മങ്ങള്\\u200d ഒരുവിധത്തിലും ബന്ധിക്കുന്നില്ല. <EOS>\\n', 'ഹേ ഭാരതാ, അതുകൊണ്ട് അജ്ഞാനം കൊണ്ടു ഉണ്ടായതും മനസിലുള്ളതുമായ നിന്റെ ഈ സംശയത്തെ ജ്ഞാനമാകുന്ന വാളുകൊണ്ടു ഛേദിച്ചിട്ടു യോഗത്തെ അനുഷ്ഠിക്കുക, ഏഴുന്നേല്\\u200dക്കുക. <EOS>\\n', 'സാംഖ്യവും യോഗവും വെവ്വേറെയായി അജ്ഞന്മാർ പറയുന്നു. പണ്ഡിതൻമാര് അങ്ങനെ പറയുന്നില്ല. ഒന്നെങ്കിലും വേണ്ടവിധം അനുഷ്ഠിക്കുന്ന പക്ഷം രണ്ടിന്റെയും ഫലം ലഭിക്കും. <EOS>\\n', 'ശ്രീ ഭഗവാൻ പറഞ്ഞു: സന്യാസവും കർമയോഗവും രണ്ടും മുക്തിപ്രദമാണ്. എന്നാൽ ആ രണ്ടിൽ കർമ്മസന്യാസത്തെ അപേക്ഷിച്ച് കർമ്മ യോഗമാണ് ശ്രേഷ്ഠം. <EOS>\\n', 'അഭിമാനം, മോഹം എന്നിവയില്\\u200d നിന്ന് മുക്തരും, സംഗമാകുന്ന ദോഷത്തെ ജയിച്ചവരും, സദാ ആത്മനിഷ്ഠരും, കാമമില്ലാത്തവരും, സുഖദുഃഖാദി ദ്വന്ദ്വങ്ങളില്\\u200d നിന്ന് മുക്തരും വ്യാമോഹ മില്ലാത്തവരുമായ മഹാന്മാര്\\u200d ആ പരമപദത്തെ പ്രാപിക്കുന്നു. <EOS>\\n', 'സാംഖ്യവും യോഗവും വെവ്വേറെയായി അജ്ഞന്മാർ പറയുന്നു. പണ്ഡിതൻമാര് അങ്ങനെ പറയുന്നില്ല. ഒന്നെങ്കിലും വേണ്ടവിധം അനുഷ്ഠിക്കുന്ന പക്ഷം രണ്ടിന്റെയും ഫലം ലഭിക്കും. <EOS>\\n', 'ഏത് സ്ഥാനം സാംഖ്യന്മാർ നേടുമോ അത് യോഗികളും നേടും. സാംഖ്യവും യോഗവും ഒന്നുതന്നെയെന്ന് കാണുന്നവനത്രെ സത്യത്തെ കാണുന്നവൻ ! <EOS>\\n', 'ഞാന്\\u200d ഓജസ്സായി ഭൂമിയില്\\u200d പ്രവേശിച്ച് ജീവജാലങ്ങളെ നിലനിര്\\u200dത്തുകയും, രസാത്മകനായ ചന്ദ്രനായി എല്ലാവിധ സസ്യങ്ങളെയും പോഷിപ്പിക്കുകയും ചെയ്യുന്നു. <EOS>\\n', 'പുരുഷശ്രേഷ്ഠാ, സമദുഖസുഖനും ധീരനുമായ ഏതൊരു പുരുഷനെ ഇവ ദുഖിപ്പിക്കയില്ലയോ അവന്\\u200d അമൃതത്വത്തിനു അധികാരിയായിത്തീരുന്നു. <EOS>\\n', 'യോഗയുക്തനായ തത്വജ്ഞൻ കാണുക, കേൾക്കുക, സ്പർശിക്കുക, മണക്കുക, ഭക്ഷിക്കുക, നടക്കുക, ഉറങ്ങുക, ശ്വസിക്കുക, സംസാരിക്കുക, മലമൂത്രവിസർജനം ചെയ്യുക, എടുക്കുക, കണ്ണുതുറക്കുക, കണ്ണടയ്ക്കുക, ഇവയൊക്കെ ചെയ്താലും ഇന്ദ്രിയങ്ങൾ വിഷയങ്ങളിൽ പ്രവർത്തിക്കുന്നു എന്ന് അറിഞ്ഞുകൊണ്ടുതന്നെ താൻ ഒന്നും ചെയ്യുന്നില്ല എന്ന് കരുതുന്നു. <EOS>\\n', 'യാതൊരുവൻ ആസക്തി കൈവിട്ടു ബ്രഹ്മത്തിൽ സമർപ്പിച്ച് കർമ്മം അനുഷ്ഠിക്കുന്നുവോ അവൻ വെള്ളത്താൽ നനക്കാൻ പറ്റാത്ത താമരയിലയെ പോലെ പാപത്താല് മലിനമാക്കപ്പെടുന്നില്ല. <EOS>\\n', 'ശരീരംകൊണ്ടും മനസ്സുകൊണ്ടും ബുദ്ധികൊണ്ടും ഇന്ദ്രിയങ്ങൾ മാത്രം കൊണ്ടും ആത്മാശുദ്ധിക്ക് വേണ്ടി യോഗികൾ നിസ്സംഗരായി കർമ്മങ്ങള് അനുഷ്ഠിക്കുന്നു. <EOS>\\n', 'യോഗയുക്തൻ കർമ്മഫലം ഉപേക്ഷിച്ചു ദൃഡപ്രതിഷ്ഠമായ ശാന്തി കൈവരിക്കുന്നു. യുക്തനല്ലാത്തവൻ കാമം മൂലം ഫലത്തിൽ ആസക്തനായി ബദ്ധനായിത്തീരുന്നു. <EOS>\\n', 'സർവ കർമ്മങ്ങളും മനസ്സ് കൊണ്ടു ഉപേക്ഷിച്ച് ഇന്ദ്രിയ മനോജയം നേടിയ ദേ ഹധാരിയായ ജീവാത്മാവ് പ്രവർത്തിക്കാതെയും പ്രവർത്തിപ്പിക്കാതെയും ഒൻപതു വാതിലുള്ള പുരത്തില് (ശരീരത്തിൽ) സുഖമായി വസിക്കുന്നു. <EOS>\\n', 'യാതൊരു ജ്ഞനമാണോ സര്\\u200dവ്വജീവജാലങ്ങളിലും നാനാതരത്തിലുള്ള ഭാവങ്ങളെ ദര്\\u200dശിക്കുന്നത് അത് രാജസമാണ്. <EOS>\\n', 'ഈശ്വരൻ ആരുടേയും പാപവും സുകൃതവും സ്വീകരിക്കുന്നില്ല. ജ്ഞാനം അജ്ഞാനത്താൽ മറയ്ക്കപ്പെട്ടിരിക്കുന്നതുകൊണ്ട് ജീവികൾ മോഹത്തിലാണ്ടുപോകുന്നു. <EOS>\\n', '\"എന്നാൽ ആരുടെ ഈ അജ്ഞാനം ആത്മജ്ഞാനത്താൽ നശിപ്പിക്കപ്പെട്ടിരിക്കുന്നുവോ അവർക്ക് ആദിത്യൻ വസ്തുക്കളെയെന്ന പോലെ ജ്ഞാനം പരമമായ ബ്രഹ്മത്തെ പ്രകാശിപ്പിക്കുന്നു.\" <EOS>\\n', 'നിനക്കു പറഞ്ഞുതന്നു കഴിഞ്ഞ ജ്ഞാനനിഷ്ഠ സ\\u200dാംഖ്യത്തി ലുള്ളതാണ്. ക\\u200dര്\\u200dമ്മയോഗത്തിനുള്ള ഈ ബുദ്ധിയെയും കേട്ടു കൊള്ളുക. പാര്\\u200dത്ഥ, ഈ ബുദ്ധി നേടിയാല്\\u200d ക\\u200dര്\\u200dമ്മബന്ധം ഒഴിച്ചുവയ്ക്കാന്\\u200d നിനക്കു സാധിക്കും. <EOS>\\n', 'ആ കുന്തീപുത്രന്\\u200d ബന്ധുക്കളെ എല്ല\\u200dാം നന്നായി നോക്കിക്കണ്ട്\\u200c, അത്യന്തം കൃപയോടെ വിഷാദിച്ചുകൊണ്ട് ഇങ്ങനെ പറഞ്ഞു. <EOS>\\n', 'ആരുടെ മനസ്സാണോ സമഭാവനയിൽ പ്രതിഷ്ഠിതമായിരിക്കുന്നത് ഇവിടെ വച്ചു തന്നെ അവർ സംസാരത്ത ജയിച്ചിരിക്കുന്നു. എന്തുകൊണ്ടെന്നാൽ ബ്രഹ്മം നിർദ്ദോഷവും സമവുമാകുന്നു. അതുകൊണ്ടു അവർ ബ്രഹ്മത്തിൽ സ്ഥിതിചെയ്യുന്നവരത്രേ. <EOS>\\n', 'പ്രിയം നേടി സന്തോഷിക്കുകയും, അപ്രിയം വന്നുചേർന്നാൽ ദുഖിക്കുകയും ചെയ്യാത്തവനും, സ്ഥിരബുദ്ധിയും, മോഹമില്ലാത്തവനും ആയവൻ ബ്രഹ്മജ്ഞനും ബ്രഹ്മത്തിൽ തന്നെ വർത്തിക്കുന്നവനുമാണ്. <EOS>\\n', 'ക\\u200dര്\\u200dമ്മത്തിന്റെ സ്വരൂപം അറിയേണ്ടതുണ്ട്. വിക\\u200dര്\\u200dമ്മത്തിന്റെ സ്വരൂപവും അകര്\\u200dമത്തിന്റെ സ്വരൂപവും അറിയെണ്ടതുണ്ട്. എന്ത് കൊണ്ടെന്നാല്\\u200d ക\\u200dര്\\u200dമ്മത്തിന്റെ ഗതി (പോക്ക്) അറിയാന്\\u200d വളരെ വിഷമമുള്ളതാണ്. <EOS>\\n', 'ഹേ അര്\\u200dജുനാ, നീ ഈശ്വരനെത്തന്നെ സര്\\u200dവ്വഭാവത്തിലും ശരണമടഞ്ഞാലും. ഈശ്വരന്റെ പ്രസാദത്താല്\\u200d നീ പരമമായ ശാന്തിയെയും ശാശ്വതമായ പദത്തെയും പ്രാപിക്കും. <EOS>\\n', 'ഹേ അര്\\u200dജുനാ, എന്റെ യോനിയാകുന്ന മഹാപ്രകൃതിയില്\\u200d ഞാന്\\u200d ബീജത്തെ നിക്ഷേപിക്കുന്നു. സര്\\u200dവ്വ ജീവരാശികളുടെയും ജന്മം അതില്\\u200dനിന്നാണ്. <EOS>\\n', 'ഹേ ഭാരത, തമസ്സ് അജ്ഞാനത്തില്\\u200d നിന്നുണ്ടാകുന്നതും എല്ലാ ദേഹികളെയും (ജീവന്മാരെയും) മോഹിപ്പിക്കുന്നതുമാണെന്നറിയൂ. അത് അശ്രദ്ധ, ആലസ്യം, ഉറക്ക എന്നിവയാല്\\u200d ദേഹിയെ ബന്ധിക്കുന്നു. <EOS>\\n', 'കലുഷം ക്ഷയിച്ചവരും സംശയഹീനരും മനോജയം നേടിയവരും സർവഭൂതങ്ങളുടെയും ക്ഷേമത്തിൽ തൽപരരുമായ ഋഷിമാർ ബ്രഹ്മാനന്ദം നേടുന്നു. <EOS>\\n', 'ആത്മജ്ഞരും, കാമക്രോധങ്ങളില്ലാത്തവരും മനസിനെ നിയന്ത്രിച്ചവരും ആയ യോഗികൾക്ക് ഇഹത്തിലും പരത്തിലും ബ്രഹ്മനിർവ്വാണം പ്രാപ്തമാകുന്നു. <EOS>\\n', 'ബാഹ്യവിഷയങ്ങളെ പുറത്താക്കി നോട്ടം ഭൂമധ്യത്തിലുറപ്പിച്ച് മൂക്കിനുള്ളിൽ സഞ്ചരിക്കുന്ന പ്രാണന്റെയും അപാനന്റെയും ഗതി സമീകരിച്ച് ഇന്ദ്രിയങ്ങളെയും മനസ്സിനെയും ബുദ്ധിയെയും നിയന്ത്രിച്ച് ഇച്ഛ, ഭയം, ക്രോധം ഇവ വെടിഞ്ഞ് മോക്ഷത്തിൽ തന്നെ തൽപരനായിരിക്കുന്ന മുനി എപ്പോഴും മുക്തനായി ഭവിക്കുന്നു. <EOS>\\n', 'യജ്ഞത്തിന്റെയും തപസ്സിന്റെയും ഭോക്താവും ലോകങ്ങളുടെയെല്ലാം നാഥനും എല്ലാ ജീവികളുടെയും സുഹൃത്തുമായി എന്നെ അറിയുന്നവൻ ശാന്തിയെ പ്രാപിക്കുന്നു. <EOS>\\n', 'ശ്രീ ഭഗവാന്\\u200d പറഞ്ഞു: ക\\u200dര്\\u200dമ്മഫലത്തെ ആശ്രയിക്കാതെ കര്\\u200dത്തവ്യമായ ക\\u200dര്\\u200dമ്മം ആരു ചെയ്യുന്നുവോ അവന്\\u200d സന്യാസിയും യോഗിയുമാണ്. അല്ലാതെ അഗ്നിഹോത്രാദികളെ ചെയ്യാത്തവനും, ക\\u200dര്\\u200dമ്മത്തെ ഉപേക്ഷിച്ചു സ്വസ്ഥനായിരിക്കുന്നവനുമല്ല. <EOS>\\n', 'ഹേ പാണ്ഡവാ, സന്യാസമെന്നു പറയുന്നത്\\u200c ഏതോ അതു തന്നെയാണ് യോഗമെന്നറിയുക. ഫലേച്ഛ വിടാതെ ഒരാളും യോഗിയായിത്തീരുന്നില്ല. <EOS>\\n', 'യോഗയുക്തനായ തത്വജ്ഞൻ കാണുക, കേൾക്കുക, സ്പർശിക്കുക, മണക്കുക, ഭക്ഷിക്കുക, നടക്കുക, ഉറങ്ങുക, ശ്വസിക്കുക, സംസാരിക്കുക, മലമൂത്രവിസർജനം ചെയ്യുക, എടുക്കുക, കണ്ണുതുറക്കുക, കണ്ണടയ്ക്കുക, ഇവയൊക്കെ ചെയ്താലും ഇന്ദ്രിയങ്ങൾ വിഷയങ്ങളിൽ പ്രവർത്തിക്കുന്നു എന്ന് അറിഞ്ഞുകൊണ്ടുതന്നെ താൻ ഒന്നും ചെയ്യുന്നില്ല എന്ന് കരുതുന്നു. <EOS>\\n', 'അര്\\u200dജുനന്\\u200d പറഞ്ഞു: കൃഷ്ണാ, യുദ്ധം ചെയ്യാന്\\u200d ഒരുങ്ങി നില്ക്കുന്ന ഈ സ്വജനങ്ങളെ കണ്ടിട്ട് എന്റെ ശരീരമാസകലം തളരുന്നു; വായ് വരളുകയും ചെയ്യുന്നു. എന്റെ ശരീരം വിറയ്ക്കുകയും രോമാഞ്ചവും ഉണ്ടാകുന്നു. ഗാണ്ഡീവം കൈയ്യില്\\u200d നിന്നും വഴുതുന്നു. ദേഹം ചുട്ടുനീറുകയും ചെയ്യുന്നു. നില്\\u200dക്കാന്\\u200d എനിക്ക് കഴിയുന്നില്ല. എന്റെ മനസ്സു സംഭ്രമിക്കുന്നതു പോലെ തോന്നുന്നു. പല ദു\\u200dര്\\u200dനിമിത്തങ്ങളും കാണുന്നു. യുദ്ധത്തില്\\u200d സ്വജനത്തെ കൊന്നിട്ട് ഒരു ശ്രേയസ്സും ഞാന്\\u200d കാണുന്നില്ല. <EOS>\\n', 'ഒരുവന്\\u200d തന്നെ സ്വയം ഉദ്ധരിക്കേണ്ടതാണ്, തന്നെ സ്വയം താഴ്ത്തരുത്, താന്\\u200d തന്നെയാണ് തന്റെ ബന്ധു. താന്\\u200d തന്നെയാണ് തന്റെ ശത്രുവും. <EOS>\\n', 'ഹേ അര്\\u200dജുന, ഇനി മൂന്നു വിധത്തിലുള്ള സുഖത്തെ കേട്ടുകൊള്ളുക. അഭ്യാസം കൊണ്ട് യാതൊരു സുഖത്തില്\\u200d സന്തോഷിച്ചു തുടങ്ങുകയും, ദുഃഖത്തിനറുതി വരുകയും ചെയ്യുന്നുവോ, ആദ്യം വിഷം പോലെയും ഒടുവില്\\u200d അമൃതസമാനമായും അനുഭവപ്പെടുന്നുവോ, ആത്മജ്ഞാനത്തില്\\u200dനിന്നുണ്ടാകുന്ന ആ സുഖം സാത്വികമാണ്. <EOS>\\n', 'ഹേ അര്\\u200dജുന, ഇനി ഈ ശരീരത്തെ ക്ഷേത്രം എന്നു പറയുന്നു. ഈ ക്ഷേത്രത്തെ അറിയുന്നവനെ ക്ഷേത്രജ്ഞ\\u200dന്\\u200d എന്നും ഇതിനെ അറിയുന്നവ\\u200dര്\\u200d പറയുന്നു. <EOS>\\n', 'ഹേ മഹാബാഹോ, എല്ലാ കര്\\u200dമ്മങ്ങളുടെ സിദ്ധിയ്ക്കായി സ\\u200dാംഖ്യത്തില്\\u200d പറഞ്ഞിരിക്കുന്ന അഞ്ചു ഘടകങ്ങള്\\u200d കേട്ടാലും. <EOS>\\n', 'യോഗി വിജനതയില്\\u200d സ്ഥിതിചെയ്ത് ഏകാകിയും ഇന്ദ്രിയമനസുകളെ നിയന്ത്രിച്ച്\\u200c നിഷ്കാമനും ആരില്\\u200dനിന്നും ഒന്നും സ്വീകരിക്കാത്തവനുമായി സര്\\u200dവദാ ആത്മാവിനെ യോജിപ്പിക്കണം. <EOS>\\n', 'ദുര്\\u200dബുദ്ധിയായ ഒരുവന്\\u200d യാതൊരു ധൈര്യത്താല്\\u200d സ്വപ്നം, ഭയം, ദുഃഖം, വ്യസനം, അഹങ്കാരം എന്നിവയെ പരിത്യജിക്കാ തിരിക്കുന്നുവോ അത് താമസികമാണ്. <EOS>\\n', 'ശരീരം, കഴുത്ത്, തല ഇവ ഋജുവാക്കി ഇളകാതെ വച്ച് സ്ഥിരമായി തന്റെ നാസികാഗ്രത്തില്\\u200d ദൃഷ്ടിയൂന്നി ദിക്കുകളിലേക്ക് നോക്കാതെ മനഃശാന്തിയോടെ നിര്\\u200dഭയനായി ദൃഢമായ ബ്രഹ്മചര്യത്തോടു കൂടിയവനായി മനസിനെ നിയന്ത്രിച്ച് എന്നില്\\u200dതന്നെ ഉറപ്പിച്ച് എന്നെ മാത്രം ചിന്തിക്കുന്നവനായി യോഗയുക്തനായി സ്ഥിതിചെയ്യണം. <EOS>\\n', 'ചില\\u200dര്\\u200d ധ്യാനംകൊണ്ട് ശുദ്ധമായ ഹൃദയത്താല്\\u200d ആത്മാവിനെ ബുദ്ധിയിലറിയുന്നു; മറ്റു ചില\\u200dര്\\u200d സ\\u200dാംഖ്യയോഗം കൊണ്ടും വേറെ ചിലര്\\u200d കര്\\u200dമ്മയോഗം കൊണ്ടും ആത്മാവിനെ ദ\\u200dര്\\u200dശിക്കുന്നു. <EOS>\\n', 'ഹേ അര്\\u200dജുനാ, അധികം ആഹാരം കഴിക്കുന്നവനും, ഒട്ടും ആഹാരം കഴിക്കാത്തവനും യോഗമില്ല. അധികം ഉറങ്ങുന്നവനും എപ്പോഴും ഉണര്\\u200dന്നിരിക്കുന്നവനും യോഗം സംഭവിക്കുകയില്ല. <EOS>\\n', 'ഹേ പാര്\\u200dത്ഥ, ഈ വാക്കുകള്\\u200d കേട്ടിട്ട് അ\\u200dര്\\u200dജ്ജുന\\u200dന്\\u200d വിറച്ചുകൊണ്ട് ഭയത്തോടുകൂടി വീണ്ടും കൈകൂപ്പിത്തൊഴുതു പിന്നെയും പറഞ്ഞു: <EOS>\\n', 'എപ്പോള്\\u200d സ്ഥിരമായിത്തീര്\\u200dന്ന ചിത്തം സര്\\u200dവകാമങ്ങളില്\\u200d നിന്നും അകന്ന് ആത്മാവില്\\u200d തന്നെ ഉറച്ചുനില്\\u200dക്കുന്നുവോ അപ്പോള്\\u200d അവന്\\u200d യുക്തനെന്നു പറയപ്പെടുന്നു. <EOS>\\n', 'കാറ്റില്ലാത്തിടത്ത് സ്ഥിതിചെയ്യുന്ന ദീപത്തിന്റെ നിശ്ചലാവസ്ഥയാണ് ആത്മയോഗം അഭ്യസിക്കുന്ന മനോനിയന്ത്രണമുള്ള യോഗിയുടെ ഉപമയായി സ്മരിക്കപ്പെടുന്നത്. <EOS>\\n', 'ഹേ പാര്\\u200dത്ഥ, യാതോരുവന്റെ ഉള്ളിലാണോ ഭൂതങ്ങ\\u200d\\u200dള്\\u200d സ്ഥിതിചെയ്യുന്നത്\\u200d, യാതോരുവനാല്\\u200d ഇതെല്ല\\u200dാം വ്യാപ്തമായിരി ക്കുന്നുവോ ആ പരമപുരുഷനെ ഏകാന്തഭക്തികൊണ്ട് പ്രാപിക്കാവുന്നതാണ്. <EOS>\\n', 'ആ അവ്യക്തം അക്ഷരമെന്നു പറയപ്പെടുന്നു. അതിനെ പരമമായ ഗതി (ലക്ഷ്യം) എന്ന് പറയുന്നു. ഏതിനെ പ്രാപിച്ചാല്\\u200d തിരിച്ചു വരുന്നില്ലയോ അതാണ് എന്റെ പരമമായ സ്ഥാനം. <EOS>\\n', 'ചഞ്ചലവും അസ്ഥിരവുമായ മനസ്സ് എവിടെയൊക്കെ ചെല്ലുന്നുവോ അവിടെ നിന്നെല്ല\\u200dാം അതിനെ പിന്\\u200dവലിച്ച് ആത്മാവില്\\u200d തന്നെ ഉറപ്പിക്കണം. <EOS>\\n', 'ശ്രീ ഭഗവാന്\\u200d പാഞ്ഞു: രജോഗുണത്തില്\\u200d നിന്നു ജനിച്ച ഈ കാമം, ഈ ക്രോധം തൃപ്തിപ്പെടുത്താന്\\u200d കഴിയാത്തതും മഹാപാപകാരണ വുമാണ് ഇക്കാര്യത്തില്\\u200d ഇതിനെ ശത്രുവായി അറിയുക. <EOS>\\n', 'ശ്രീ ഭഗവാന്\\u200d പറഞ്ഞു: ഹേ അനഘ (പാപങ്ങളില്ലാത്തവന്\\u200d), ഈ ലോകത്തില്\\u200d സംഖ്യന്മാര്\\u200dക്ക് വേണ്ടി ജഞാനയോഗം കൊണ്ടും യോഗികള്\\u200dക്കു വേണ്ടി ക\\u200d\\u200d\\u200dര്\\u200dമ്മയോഗം <EOS>\\n', 'എന്നാല്\\u200d ഏതൊരു മനുഷ്യന്\\u200d തന്നില്\\u200d തന്നെ രമിക്കുന്നവനും തന്നില്\\u200d സംതൃപ്തനും സന്തുഷ്ടനുമായിരിക്കുന്നുവോ അവനു കരണീയമായി ഒന്നുമില്ല. <EOS>\\n', 'ഞാന്\\u200d കര്\\u200dമ്മം ചെയ്തില്ലെങ്കില്\\u200d ഈ ദേഹി ഒരിക്കലും വധിക്കപ്പെടാവുന്നവനല്ല. അതിനാല്\\u200d യാതൊരു ജീവിയെക്കുറിച്ചും നീ ദുഖിക്കേണ്ടതില്ല. <EOS>\\n', 'ഹേ അര്\\u200dജുനാ, അധികം ആഹാരം കഴിക്കുന്നവനും, ഒട്ടും ആഹാരം കഴിക്കാത്തവനും യോഗമില്ല. അധികം ഉറങ്ങുന്നവനും എപ്പോഴും ഉണര്\\u200dന്നിരിക്കുന്നവനും യോഗം സംഭവിക്കുകയില്ല. <EOS>\\n', 'ഹേ പാര്\\u200dത്ഥ, എല്ലാ ഭൂതങ്ങളുടെയും ശാശ്വതമായ ബീജമായി എന്നെ അറിയുക. ബുദ്ധിമാന്\\u200dമാരുടെ ബുദ്ധി ഞാനാണ്. തേജസ്വികളുടെ തേജസ്സും ഞാനാകുന്നു. <EOS>\\n', 'അര്\\u200dജുനന്\\u200d പറഞ്ഞു: ഹേ മധുസൂദനാ, സമചിത്തതാ ലക്ഷണമായി ഏതൊരു യോഗമാണോ അങ്ങ് പറഞ്ഞത്, എന്റെ മനസിന്റെ ചാഞ്ചല്യം നിമിത്തം അതിനു സുസ്ഥിരമായ നിലനില്\\u200dപ്പ്\\u200c ഞാന്\\u200d കാണുന്നില്ല. <EOS>\\n', 'എന്തെന്നാല്\\u200d ഹേ കൃഷ്ണാ, മനസ്സ് ചഞ്ചലവും ക്ഷുബ്ധവും നിയന്ത്രണ ത്തിനു വഴങ്ങാത്തതും അയവില്ലാത്തതുമാണ്. അതിന്റെ നിയന്ത്രണം വായുവിന്റെതെന്നപോലെ ദുഷ്ക്കരമായി ഞാന്\\u200d കരുതുന്നു. <EOS>\\n', 'ശ്രീ ഭഗവാന്\\u200d പറഞ്ഞു: ഹേ മഹാബാഹോ, നിസംശയമായും മനസ്സ് നിയന്ത്രിക്കാന്\\u200d വിഷമമുള്ളതും ചഞ്ചലവുമാണ്. എന്നാല്\\u200d കുന്തീപുത്രാ, അഭ്യാസം കൊണ്ടും, വൈരാഗ്യം കൊണ്ടും അത് നിയന്ത്രണവിധേയമാക്കപ്പെടുന്നു. <EOS>\\n', 'വൈരാഗ്യം കൊണ്ടു മനസ്സിനെ നിയന്ത്രിക്കാനാവാത്തവനു യോഗസിദ്ധി ലഭിക്കാന്\\u200d വിഷമമാണ് എന്നാണു എന്റെ അഭിപ്രായം. എന്നാല്\\u200d നിയന്ത്രിതചിത്തനു ശരിയായ ഉപായമനുസരിച്ച് യത്നിച്ചാല്\\u200d യോഗപ്രാപ്തി സാധ്യവുമാണ്\\u200c. <EOS>\\n', 'അര്\\u200dജുനന്\\u200d ചോദിച്ചു: കൃഷ്ണാ, ശ്രദ്ധയോടെ ശ്രമിച്ചിട്ടും യോഗ പരിശീലനത്തില്\\u200d മനസ്സുറക്കാതെ യോഗിയായി കഴിഞ്ഞിട്ടില്ലാ ത്തവന്\\u200d യോഗലക്ഷ്യം നേടാതെ ഏത് ഗതിയെ പ്രാപിക്കും. <EOS>\\n', 'ആത്മജ്ഞരും, കാമക്രോധങ്ങളില്ലാത്തവരും മനസിനെ നിയന്ത്രിച്ചവരും ആയ യോഗികൾക്ക് ഇഹത്തിലും പരത്തിലും ബ്രഹ്മനിർവ്വാണം പ്രാപ്തമാകുന്നു. <EOS>\\n', 'ഹേ ഭാരതാ, അപണ്ഡിതന്മാര്\\u200d ക\\u200dര്\\u200dമ്മത്തില്\\u200d ആസക്തരായി എങ്ങിനെയെല്ല\\u200dാം പ്രവര്\\u200dത്തിക്കുന്നുവോ പണ്ഡിതന്\\u200d ലോകത്തിന്റെ നിലനില്\\u200dപ്പ്\\u200c ക\\u200dാംക്ഷിച്ചുകൊണ്ടു നിസ്സംഗനായി അതേവിധം പ്രവ\\u200dര്\\u200dത്തിക്കണം. <EOS>\\n', 'ഭയംകൊണ്ടു യുദ്ധത്തില്\\u200dനിന്നും പിന്തിരിഞ്ഞവനായി മഹാരഥന്മാര്\\u200d നിന്നെ കണക്കാക്കും. അവര്\\u200dക്കെല്ല\\u200dാം ബഹുമാന്യനായി ഇരിക്കുന്ന നീ അങ്ങിനെ നിസ്സാരനായി തീരും. <EOS>\\n', 'ഞാന്\\u200d പ്രാണികളുടെ ശരീരങ്ങളില്\\u200d അഗ്നിയുടെ രൂപത്തിലിരുന്ന് പ്രാണന്\\u200d, അപാനന്\\u200d എന്നിവയോടു ചേര്\\u200dന്ന് നാലുതരത്തിലുള്ള ഭക്ഷണത്തെയും ദഹിപ്പിക്കുന്നു. <EOS>\\n', 'അല്ലെങ്കില്\\u200d ബുദ്ധിമാന്മാരായ യോഗികളുടെ കുലത്തില്\\u200d തന്നെ ജനിക്കുന്നു. ലോകത്തില്\\u200d ഇങ്ങിനെയുള്ള ജന്മം ലഭിക്കാന്\\u200d അത്യന്തം പ്രയാസമാണ്. <EOS>\\n', 'ക\\u200d\\u200d\\u200d\\u200dര്\\u200dമ്മേന്ദ്രിയങ്ങ\\u200dളെ അടക്കിനിര്\\u200dത്തി യാതൊരുവന്\\u200d വിഷയങ്ങളെ മനസ്സുകൊണ്ട് സദാ സ്മരിച്ചുകൊണ്ടിരിക്കുന്നുവോ മൂഡാത്മാവായ അവന്\\u200d മിഥ്യാചാരന്\\u200d എന്ന് പറയപ്പെടുന്നു <EOS>\\n', 'ക\\u200dര്\\u200dമ്മത്തില്\\u200d അക\\u200dര്\\u200dമ്മവും അക\\u200dര്\\u200dമ്മത്തില്\\u200d ക\\u200dര്\\u200dമ്മവും യാതൊരുവ\\u200dന്\\u200d കാണുന്നുവോ അവനാണ് മനുഷ്യരില്\\u200d വച്ചു ബുദ്ധിമാ\\u200dന്\\u200d. അവനാണ് <EOS>\\n', 'തീവ്രമായി പരിശ്രമിക്കുന്ന യോഗിയാകട്ടെ പാപം നീങ്ങി അതിനുശേഷം അനേകജന്മങ്ങള്\\u200d കൊണ്ടു സിദ്ധനായി പിന്നീട് പരമമായ ഗതിയെ പ്രാപിക്കുന്നു. <EOS>\\n', 'ദൈന്യത കൊണ്ടു ബുദ്ധികെട്ടവനും ധ\\u200dര്\\u200dമ്മ വിഷയത്തില്\\u200d വിവേകം നശിച്ചവനുമായി അങ്ങയോടു ഞാന്\\u200d ചോദിക്കുന്നു. യാതൊന്നു തീ\\u200dര്\\u200dച്ചയായും ശ്രേയസ്കരമാകുമോ അതെനിക്ക് പറഞ്ഞു തരിക. ഞാന്\\u200d അങ്ങയുടെ ശിഷ്യനാണ്. അങ്ങയെ ശരണം പ്രാപിച്ച എന്നെ വേണ്ടവണ്ണം ഉപദേശിച്ചാലും. <EOS>\\n', 'ഹേ പാര്\\u200dത്ഥ, എല്ലാ ഭൂതങ്ങളുടെയും ശാശ്വതമായ ബീജമായി എന്നെ അറിയുക. ബുദ്ധിമാന്\\u200dമാരുടെ ബുദ്ധി ഞാനാണ്. <EOS>\\n', 'ശ്രീ ഭഗവാന്\\u200d പറഞ്ഞു: ഹേ പാര്\\u200dത്ഥ, എന്നില്\\u200d ആസക്തചിത്തനായി എന്നെ ആശ്രയിച്ച് യോഗം അഭ്യസിച്ച് എങ്ങിനെ എന്നെ നിസ്സംശയമായും പൂര്\\u200dണമായും നീ അറിയുമോ ആ വിധം കേട്ടുകൊള്ളുക. <EOS>\\n', 'യാതോന്നറിഞ്ഞാല്\\u200d പിന്നെ അറിയേണ്ടതായി മറ്റൊന്നും ഈ ലോകത്തില്\\u200d അവശേഷിക്കയില്ലയോ ആ ജ്ഞാനം വിജ്ഞാനത്തോടുകൂടി ഞാന്\\u200d പൂര്\\u200dണമായി നിനക്കിതാ ഉപദേശിക്കാന്\\u200d പോകുന്നു. <EOS>\\n', 'അര്\\u200dജുനന്\\u200d ചോദിച്ചു: ഹേ കൃഷ്ണാ, പിന്നെ ആര്\\u200d പ്രേരിപ്പിചിട്ടാണ് ഈ പുരുഷന്\\u200d താ\\u200dന്\\u200d ഇച്ഛിക്കാതെയിരുന്നിട്ടും ബലമായ ഏതോ ശക്തിയാല്\\u200d നിയുക്തനെന്നപോലെ പാപകര്\\u200dമ്മങ്ങ\\u200dള്\\u200d അനുഷ്ഠിക്കുന്നത്. <EOS>\\n', 'ഭൂമി, ജലം, അഗ്നി, വായു, ആകാശം, മനസ്സ്, ബുദ്ധി, അഹങ്കാരം എന്നിങ്ങനെ എന്റെ പ്രകൃതി എട്ടായി വേര്\\u200dതിരിഞ്ഞിരിക്കുന്നു. <EOS>\\n', 'മഹാബാഹോ, ഇപ്പറഞ്ഞത്\\u200c അപരാപ്രകൃതിയാണ്. എന്നാല്\\u200d ഇതില്\\u200dനിന്നു ഭിന്നവും ഈ ജഗത്തിനെ ധരിക്കുന്നതും ജീവസ്വരൂപവുമായ എന്റെ പരാപ്രകൃതിയെയും നീ അറിയുക. <EOS>\\n', 'ഹേ മഹാബാഹോ, എല്ലാ കര്\\u200dമ്മങ്ങളുടെ സിദ്ധിയ്ക്കായി സ\\u200dാംഖ്യത്തില്\\u200d പറഞ്ഞിരിക്കുന്ന അഞ്ചു ഘടകങ്ങള്\\u200d കേട്ടാലും. <EOS>\\n', 'കുന്തീപുത്രാ, ഇന്ദ്രിയങ്ങളും വിഷയങ്ങളും തമ്മിലുള്ള സ്പര്\\u200dശങ്ങള്\\u200d ശീതോഷ്ണങ്ങളെയും സുഖദുഃഖങ്ങളെയും നല്\\u200dകുന്നവയും, വന്നും പോയും ഇരിക്കുന്നവയും അനിത്യങ്ങളുമാണ്. ഭരതവംശത്തില്\\u200d ജനിച്ചവനെ, അവ നിര്\\u200dവികാരനായി സഹിച്ചു കൊള്ളുക. <EOS>\\n', 'ഹേ കൌന്തേയ, ഞാന്\\u200d ജലത്തിലെ രസമാകുന്നു. ചന്ദ്രസൂര്യന്\\u200dമാരിലെ ശോഭയാകുന്നു. വേദമന്ത്രങ്ങളില്\\u200d പ്രണവമാകുന്നു. ആകാശത്തിലെ ശബ്ദമാകുന്നു. മനുഷ്യരിലെ പൗരുഷവുമാകുന്നു. <EOS>\\n', 'ഭൂമിയിലെ പുണ്യമായ ഗന്ധവും അഗ്നിയിലെ തേജസും ഞാനാണ്. എല്ലാ ജീവികളിലെയും ജീവശക്തിയും തപസ്വികളിലെ തപസ്സും ഞാന്\\u200d തന്നെ ആകുന്നു. <EOS>\\n', 'ഹേ പാര്\\u200dത്ഥ, എല്ലാ ഭൂതങ്ങളുടെയും ശാശ്വതമായ ബീജമായി എന്നെ അറിയുക. ബുദ്ധിമാന്\\u200dമാരുടെ ബുദ്ധി ഞാനാണ്. തേജസ്വികളുടെ തേജസ്സും ഞാനാകുന്നു. <EOS>\\n', 'ഹേ ഭാരത, നീ ഈശ്വരനെത്തന്നെ സര്\\u200dവ്വഭാവത്തിലും ശരണമടഞ്ഞാലും. ഈശ്വരന്റെ പ്രസാദത്താല്\\u200d നീ പരമമായ ശാന്തിയെയും ശാശ്വതമായ പദത്തെയും പ്രാപിക്കും. <EOS>\\n', 'ഏതൊക്കെയാണോ സാത്വികഭാവങ്ങള്\\u200d ഏതൊക്കെയാണോ രാജസങ്ങളും താമസങ്ങളുമായ ഭാവങ്ങള്\\u200d അവയെല്ല\\u200dാം എന്നില്\\u200dനിന്ന് ഉത്ഭവിച്ചവ തന്നെയെന്നറിയുക. ഞാന്\\u200d അവയിലല്ല എന്നാല്\\u200d അവ എന്നിലാണ്. <EOS>\\n', 'ഈ ലോകം മുഴുവന്\\u200d ഗുണമയങ്ങളായ ഈ മൂന്നു ഭാവങ്ങളാലും മോഹിതമായിത്തീരുന്നു. ഇവയ്ക്കപ്പുറത്തുള്ള നിത്യനായ എന്നെ ഈ ജഗത്ത് അറിയുന്നില്ല. <EOS>\\n', 'എന്തുകൊണ്ടെന്നാല്\\u200d അമാനുഷികവും, ത്രിഗുണങ്ങള്\\u200d ചേര്\\u200dന്നതും ആയ എന്റെ ഈ മായ തരണം ചെയ്യാന്\\u200d പ്രയാസമുള്ളതാണ്. ആരാണോ എന്നെ തന്നെ ശരണം പ്രാപിക്കുന്നത് അവര്\\u200d ഈ മായയെ തരണം ചെയ്യുന്നു. <EOS>\\n', 'ഈ ലോകം മുഴുവന്\\u200d ഗുണമയങ്ങളായ ഈ മൂന്നു ഭാവങ്ങളാലും മോഹിതമായിത്തീരുന്നു. ഇവയ്ക്കപ്പുറത്തുള്ള നിത്യനായ എന്നെ ഈ ജഗത്ത് അറിയുന്നില്ല. <EOS>\\n', 'ഈ ലോകം മുഴുവന്\\u200d ഗുണമയങ്ങളായ ഈ മൂന്നു ഭാവങ്ങളാലും മോഹിതമായിത്തീരുന്നു. ഇവയ്ക്കപ്പുറത്തുള്ള നിത്യനായ എന്നെ ഈ ജഗത്ത് അറിയുന്നില്ല. <EOS>\\n', 'ഹേ ഭാരതാ, അതുകൊണ്ട് അജ്ഞാനം കൊണ്ടു ഉണ്ടായതും മനസിലുള്ളതുമായ നിന്റെ ഈ സംശയത്തെ ജ്ഞാനമാകുന്ന വാളുകൊണ്ടു ഛേദിച്ചിട്ടു യോഗത്തെ അനുഷ്ഠിക്കുക, ഏഴുന്നേല്\\u200dക്കുക. <EOS>\\n', 'അവരെല്ലാവരും ഉദാരന്\\u200dമാര്\\u200d തന്നെയാണ്. എന്നാല്\\u200d ജ്ഞാനി ആത്മസ്വരൂപന്\\u200d തന്നെ എന്നാണു എന്റെ അഭിപ്രായം. അവന്\\u200d എന്നില്\\u200d തന്നെ ഏകാഗ്രചിത്തനായി എന്നെത്തന്നെ പരമലക്ഷ്യമായി കരുതി ആശ്രയിച്ചിരിക്കുന്നു. <EOS>\\n', 'ഹേ മഹാബാഹോ, എല്ലാ കര്\\u200dമ്മങ്ങളുടെ സിദ്ധിയ്ക്കായി സ\\u200dാംഖ്യത്തില്\\u200d പറഞ്ഞിരിക്കുന്ന അഞ്ചു ഘടകങ്ങള്\\u200d കേട്ടാലും. <EOS>\\n', 'ഹേ മഹാബാഹോ, ഗുണകര്\\u200dമ്മവിഭാഗങ്ങളുടെ തത്വമറിയുന്ന വനാകട്ടെ ഗുണപരിണാമങ്ങളായ ഇന്ദ്രിയങ്ങള്\\u200d ഗുണപരിണാമങ്ങ ളായ വിഷയങ്ങളില്\\u200d പ്രവര്\\u200dത്തിക്കുന്നുവെന്ന് ധരിച്ചിട്ട് അവയില്\\u200d ആസക്തനാകുന്നില്ല. <EOS>\\n', 'ഏതേതു ഭക്തന്\\u200d ഏതേതു ദേവതാ സ്വരൂപത്തെ ശ്രദ്ധയോടെ അര്\\u200dച്ചിക്കാനാഗ്രഹിക്കുന്നുവോ അവരുടെയെല്ല\\u200dാം ആ ശ്രദ്ധയെ തന്നെ ഞാന്\\u200d ഇളക്കമറ്റതാക്കുന്നു. <EOS>\\n', 'അവന്\\u200d ആ ശ്രദ്ധയോടെ ആ ദേവന്റെ ആരാധന നടത്തുന്നു. അതില്\\u200dനിന്നു ഞാന്\\u200d തന്നെ നല്കുന്ന അതാതു കാമങ്ങള്\\u200d ആര്\\u200dജിക്കുകയും ചെയ്യുന്നു. <EOS>\\n', 'ഹേ കൌന്തേയ, ഞാന്\\u200d ജലത്തിലെ രസമാകുന്നു. ചന്ദ്രസൂര്യന്\\u200dമാരിലെ ശോഭയാകുന്നു. വേദമന്ത്രങ്ങളില്\\u200d പ്രണവമാകുന്നു. ആകാശത്തിലെ ശബ്ദമാകുന്നു. മനുഷ്യരിലെ പൗരുഷവുമാകുന്നു. <EOS>\\n', 'എന്റെ അവ്യയവും അനുത്തമവും തമോഗുണസ്പര്\\u200dശമില്ലാത്തതുമായ സര്\\u200dവാതീതഭാവത്തെ അറിയാതെ അവ്യക്തനായ എന്നെ വ്യക്തിത്വം പ്രാപിച്ചവനെന്നു ബുദ്ധിഹീനര്\\u200d വിചാരിക്കുന്നു. <EOS>\\n', 'ഈ ലോകം മുഴുവന്\\u200d ഗുണമയങ്ങളായ ഈ ലോകത്തില്\\u200d അവശേഷിക്കയില്ലയോ ആ ജ്ഞാനം വിജ്ഞാനത്തോടുകൂടി ഞാന്\\u200d പൂര്\\u200dണമായി നിനക്കിതാ ഉപദേശിക്കാന്\\u200d പോകുന്നു. <EOS>\\n', 'അല്ലെങ്കില്\\u200d ബുദ്ധിമാന്മാരായ യോഗികളുടെ കുലത്തില്\\u200d തന്നെ ജനിക്കുന്നു. ലോകത്തില്\\u200d ഇങ്ങിനെയുള്ള ജന്മം ലഭിക്കാന്\\u200d അത്യന്തം പ്രയാസമാണ്. <EOS>\\n', 'ഹേ ശത്രുധ്വംസകനായ ഭരതവംശജാ, ഇച്ഛാ, ദ്വേഷം എന്നിവയില്\\u200dനിന്നുണ്ടാകുന്ന ദ്വന്ദ്വമോഹത്താല്\\u200d സര്\\u200dവഭൂതങ്ങളും സൃഷ്ടിഗതിയില്\\u200d മോഹം പ്രാപിക്കുന്നു. <EOS>\\n', 'ഹേ മഹാനായ ദേവ! ഉഗ്രരൂപത്തോടുകൂടിയ ഭവാന്\\u200d ആരാണെന്നു പറഞ്ഞാലും. അങ്ങേയ്\\u200dക്കു നമസ്\\u200dകാരം! എന്നി\\u200dല്\\u200d പ്രസാദിക്കുമാറാകണേ! ആദിപുരുഷനായ ഭഗവാനെപ്പറ്റി വേണ്ടതി\\u200dന്\\u200dവണ്ണം മനസ്സിലാക്കണമെന്നു ഞാനാഗ്രഹിക്കുന്നു. അവിടുത്തെ പ്രവൃത്തിയെ (ഉദ്ദേശത്തെ)ക്കുറിച്ച് എനിക്കറിഞ്ഞുകൂടാ. <EOS>\\n', 'യാതൊരുത്തന്\\u200d ജരാമരണങ്ങളില്\\u200dനിന്നും മുക്തി നേടാന്\\u200d എന്നെ ആശ്രയിച്ച് പ്രയത്നിക്കുന്നുവോ അവര്\\u200d ആ ബ്രഹ്മത്തെയും സമ്പൂര്\\u200dണമായ അദ്ധ്യാത്മവിദ്യയേയും അഖിലക\\u200dര്\\u200dമ്മത്തെയും അറിയുന്നു. <EOS>\\n', 'ശ്രീ ഭഗവാന്\\u200d പറഞ്ഞു: ബ്രഹ്മം സ\\u200dവ്വോത്കൃഷ്ടവും അക്ഷരവും (അനശ്വരവും) ആകുന്നു. അധ്യാത്മം സ്വഭാവമാണെന്ന് പറയപ്പെടുന്നു. സകലജീവജാലങ്ങളും ഉദ്ഭവത്തിന് കാരണമായ വിശിഷ്ടമായ സൃഷ്ടിവ്യാപാരമാണ് ക\\u200dര്\\u200dമ്മമെന്നറിയപ്പെടുന്നത്. <EOS>\\n', 'യാതൊരുത്ത\\u200dര്\\u200d, നാശമില്ലാത്തതും, ഇന്നവിധത്തിലുള്ളതാണെന്നു വിവരിക്കുവാ\\u200d\\u200dന്\\u200dവയ്യാത്തതും, അവ്യക്തവും സ\\u200dര്\\u200dവവ്യാപ്തവുമായി രിക്കുന്നതും ചിന്തിച്ചറിയിപ്പാ\\u200d\\u200dന്\\u200d പ്രയാസമായിട്ടുള്ളതും മാറ്റം വരാത്തതും അനാദിയായിട്ടുള്ളതും ആയ ബ്രഹ്മത്തെ ഭജിക്കുകയും, ഇന്ദ്രിയങ്ങളെ അടക്കി സ\\u200dര്\\u200dവത്ര സമബുദ്ധിയോടും സ\\u200dര്\\u200dവഭൂതങ്ങ\\u200dള്\\u200dക്കും നന്മയെച്ചെയ്\\u200dവാനുള്ള താ\\u200dല്\\u200dപര്യത്തോടുംകൂടി വ\\u200dര്\\u200dത്തിക്കുകയും ചെയ്യുന്നുവോ അവ\\u200dര്\\u200d എന്നെത്തന്നെ പ്രാപിക്കുന്നു. <EOS>\\n', 'ഹേ മധുസൂദനാ, അധിയജ്ഞന്\\u200d ആര്? എങ്ങിനെയിരിക്കുന്നു? ഇവിടെ ഈ ദേഹത്തിലുണ്ടോ? മരണകാലത്ത് നിയന്ത്രിതചിത്ത ന്മാരാല്\\u200d എങ്ങിനെയാണ് അങ്ങ് അറിയപ്പെടുന്നത്? <EOS>\\n', 'ശ്രീ ഭഗവാന്\\u200d പറഞ്ഞു: ബ്രഹ്മം സ\\u200dവ്വോത്കൃഷ്ടവും അക്ഷരവും (അനശ്വരവും) ആകുന്നു. അധ്യാത്മം സ്വഭാവമാണെന്ന് പറയപ്പെടുന്നു. സകലജീവജാലങ്ങളും ഉദ്ഭവത്തിന് കാരണമായ വിശിഷ്ടമായ സൃഷ്ടിവ്യാപാരമാണ് ക\\u200dര്\\u200dമ്മമെന്നറിയപ്പെടുന്നത്. <EOS>\\n', '“ഇന്ന് ഞാന്\\u200d ഇതു നേടി. ഈ ആഗ്രഹം ഞാന്\\u200d സാധിക്കും. ഇത് എന്റെയാണ്. ഈ സമ്പത്തും ഭാവിയില്\\u200d എന്റെയാകും. ഈ ശത്രുവിനെ ഞാന്\\u200d വധിച്ചു. മറ്റു ശത്രുക്കളെയും ഞാന്\\u200d വധിക്കുക തന്നെ ചെയ്യും. ഞാന്\\u200d പ്രഭുവും, ഭോഗമനുഭവിക്കുന്നവനും, എല്ല\\u200dാം നേടിയവനും, ബലവാനും, സുഖിയുമാണ്. ഞാന്\\u200d ധനികനും, ഉന്നതകുലജാതനുമാണ്. എന്നെപ്പോലെ വേറെയാരുണ്ട്? ഞാന്\\u200d യജ്ഞം നടത്തും, ദാനം നല്കുകയും, ആനന്ദിക്കുകയും ചെയ്യും”. എന്നിങ്ങനെ അജ്ഞാനത്താല്\\u200d മോഹിതനായി അനേകചിന്ത കളാല്\\u200d വിഭ്രാന്തരായി മോഹജാലത്താല്\\u200d വലയപ്പെട്ട്, വിഷയഭോഗാസക്തരായി അശുദ്ധമായ നരകത്തില്\\u200d പതിക്കുന്നു. <EOS>\\n', 'ഹേ അ\\u200cര്\\u200dജ്ജുനാ! ഈ രണ്ടു മാര്\\u200dഗ്ഗങ്ങളെ യഥാ\\u200d\\u200dര്\\u200dത്ഥമായറിയുന്ന യാതൊരു ക\\u200dര്\\u200dമ്മയോഗിയും മോഹത്തെ പ്രാപിക്കുന്നില്ല.. അതുകൊണ്ടു ഹേ അ\\u200cര്\\u200dജ്ജുനാ, സമല കാലങ്ങളിലും ക\\u200dര്\\u200dമ്മയോഗയുക്തനയി ഭവിക്കുക. <EOS>\\n', 'ശരീരം, മനസ്സ്, വാക്ക് എന്നിവയാല്\\u200d മനുഷ്യന്\\u200d ചെയ്യുന്ന ശരിയോ തെറ്റോ ആയ എല്ലാ കര്\\u200dമ്മങ്ങളുടെയും കാരണങ്ങള്\\u200d ഇവയഞ്ചുമാകുന്നു. <EOS>\\n', 'അതുകൊണ്ടു ഏത് കാലത്തും എന്നെ സ്മരിക്കയും യുദ്ധം ചെയ്യുകയും ചെയ്യുക. എന്നില്\\u200d മനസ്സും ബുദ്ധിയും അര്\\u200dപ്പിച്ച നീ എന്നെ തന്നെ നിസ്സംശയമായും പ്രാപിക്കും. <EOS>\\n', 'ഹേ ഭാരത, തമസ്സ് അജ്ഞാനത്തില്\\u200d നിന്നുണ്ടാകുന്നതും എല്ലാ ദേഹികളെയും (ജീവന്മാരെയും) മോഹിപ്പിക്കുന്നതുമാണെന്നറിയൂ. ഭക്ത\\u200dന്\\u200d എനിക്കു പ്രിയ\\u200dന്\\u200d തന്നെ. <EOS>\\n', 'ഏതൊരുവന്\\u200d അഭിജ്ഞനും, പണ്ടേയുള്ളവനും, ജഗന്നിയന്താവും, അണുവിനേക്കാളും സൂക്ഷ്മരൂപനും, എല്ലാത്തിന്റെയും താങ്ങും, മനസ്സുകൊണ്ട് ഗ്രഹിക്കാന്\\u200d കഴിയാത്ത രൂപത്തോട് കൂടിയവനും, അജ്ഞാനാന്തകാരത്തില്\\u200dനിന്നകന്ന് ആദിത്യനെപ്പോലെ ഉജ്ജ്വലിക്കുന്നവനുമായ പുരുഷനെ മരണസമയത്ത് ഇളക്കമറ്റ മനസ്സോടെ ഭക്തിയോടും യോഗബലത്തോടും കൂടി ഭ്രൂമധ്യത്തില്\\u200d പ്രാണവായുവിനെ വേണ്ടവണ്ണം ആവേശിപ്പിച്ച് അനുസ്മരിക്കുന്നുവോ അവന്\\u200d ദിവ്യനായ ആ പരമപുരുഷനെത്തന്നെ പ്രാപിക്കുന്നു. <EOS>\\n', 'ഈ ജ്ഞാനത്തെ ആശ്രയിച്ച് എന്നെ പ്രാപിക്കുന്നവര്\\u200d സൃഷ്ടിയുടെ ആരംഭത്തില്\\u200d ജന്മമെടുക്കുന്നില്ല, പ്രളയസമയത്ത് വ്യസനിക്കു ന്നുമില്ല. <EOS>\\n', 'യാതൊരു ജ്ഞാനം ഒരു കാര്യത്തില്\\u200d (ശരീരത്തില്\\u200d) തന്നെ പൂര്\\u200dണ്ണമാണെന്നുള്ള ധാരണയില്\\u200d ആസക്തിയോടെയും, കാരണ മില്ലാതെയും, സത്യത്തെ അറിയാതെയും, അല്പമായുമിരിക്കുന്നുവോ അത് താമസികജ്ഞാനമാണ്. <EOS>\\n', 'ഹേ ഭാരതാ, അതുകൊണ്ട് അജ്ഞാനം കൊണ്ടു ഉണ്ടായതും മനസിലുള്ളതുമായ നിന്റെ ഈ സംശയത്തെ ജ്ഞാനമാകുന്ന വാളുകൊണ്ടു ഛേദിച്ചിട്ടു യോഗത്തെ അനുഷ്ഠിക്കുക, ഏഴുന്നേല്\\u200dക്കുക. <EOS>\\n', 'അര്\\u200dജുനന്\\u200d പറഞ്ഞു: ഹേ ജനാ\\u200dര്\\u200dദ്ദനാ, ക\\u200d\\u200d\\u200dര്\\u200dമ്മത്തെ അപേക്ഷിച്ച് കര്\\u200dമ്മയോഗമാണ് ശ്രേഷ്ടമെന്നു അങ്ങേയ്ക്ക് അഭിപ്രായമുണ്ടെങ്കില്\\u200d പിന്നെ എന്തിനാണ് ഘോരമായ ഈ ക\\u200d\\u200d\\u200dര്\\u200dമ്മത്തില്\\u200d എന്നെ നിയോഗിക്കുന്നത്? <EOS>\\n', 'ഹേ സ\\u200dര്\\u200dവാത്മ\\u200dന്\\u200d, അങ്ങനെ മുന്നിലും പിന്നിലും നിന്ന് ഞാ\\u200cന്\\u200d നമസ്\\u200dകരിക്കുന്നു. എല്ലാഭാഗത്തും അങ്ങേയ്ക്കു നമസ്\\u200dകാരം. അളവറ്റ വീരവും അതിരറ്റ പരാക്രമവും ഉള്ളവനായ അങ്ങ് ലോകം മുഴുവ\\u200dന്\\u200d വ്യാപിച്ചവനായിരിക്കുന്നു. അതിനാല്\\u200d എല്ല\\u200dാം അങ്ങ് തന്നെയാകുന്നു. <EOS>\\n', 'ഇതറിയാത്തവരായരാവട്ടെ അന്യന്മാ\\u200cര്\\u200d പറഞ്ഞുകേട്ടതനുസരിച്ച് ഉപാസിക്കുന്നു. ശ്രദ്ധിച്ചു കേട്ടു കാര്യം മനസ്സിലാക്കുവാ\\u200dന്\\u200d താല്പര്യമുള്ളവരായ അവരും മരണത്തെ തരണം ചെയ്യുന്നതാണ്. <EOS>\\n', 'ബ്രഹ്മാവിന്റെ പകല്\\u200d തുടങ്ങുമ്പോള്\\u200d അവ്യക്തതയില്\\u200d നിന്നും എല്ലാ വസ്തുക്കളും ഉത്ഭവിക്കുന്നു. അവയെല്ല\\u200dാം ബ്രഹ്മാവിന്റെ രാത്രിയുടെ ആരംഭത്തില്\\u200d ആ മൂലപ്രകൃതിയില്\\u200d തന്നെ ലയിച്ചുചേരുകയും ചെയ്യുന്നു. <EOS>\\n', 'ബ്രഹ്മാവിന്റെ പകല്\\u200d തുടങ്ങുമ്പോള്\\u200d അവ്യക്തതയില്\\u200d നിന്നും എല്ലാ വസ്തുക്കളും ഉത്ഭവിക്കുന്നു. അവയെല്ല\\u200dാം ബ്രഹ്മാവിന്റെ രാത്രിയുടെ ആരംഭത്തില്\\u200d ആ മൂലപ്രകൃതിയില്\\u200d തന്നെ ലയിച്ചുചേരുകയും ചെയ്യുന്നു. <EOS>\\n', 'എന്നാല്\\u200d ആ അവ്യക്തത്തിനുമപ്പുറത്ത് സനാതനമായ മറ്റൊരവ്യക്തഭാവമുണ്ട്. ഏതൊന്നാണോ എല്ലാ ഭൂതങ്ങളും നശിക്കുമ്പോഴും നശിക്കാതിരിക്കുന്നത് അത് ആ രണ്ടാമത് പറഞ്ഞ അവ്യക്തമാണ്. <EOS>\\n', 'ആ അവ്യക്തം അക്ഷരമെന്നു പറയപ്പെടുന്നു. അതിനെ പരമമായ ഗതി (ലക്ഷ്യം) എന്ന് പറയുന്നു. ഏതിനെ പ്രാപിച്ചാല്\\u200d തിരിച്ചു വരുന്നില്ലയോ അതാണ് എന്റെ പരമമായ സ്ഥാനം. <EOS>\\n', 'ഹേ പാര്\\u200dത്ഥ, യാതോരുവന്റെ ഉള്ളിലാണോ ഭൂതങ്ങ\\u200d\\u200dള്\\u200d സ്ഥിതിചെയ്യുന്നത്\\u200d, യാതോരുവനാല്\\u200d ഇതെല്ല\\u200dാം വ്യാപ്തമായിരി ക്കുന്നുവോ ആ പരമപുരുഷനെ ഏകാന്തഭക്തികൊണ്ട് പ്രാപിക്കാവുന്നതാണ്. <EOS>\\n', 'രാഗം, ഭയം, കോപം ഇവ കൈവിട്ടവരും എന്റെ ഭക്തന്മാരും എന്നെ ആശ്രയിച്ചവരുമായ വളരെപ്പേര്\\u200d ജ്ഞാനമാകുന്ന തപസുകൊണ്ടു പരിശുദ്ധരായിത്തീര്\\u200dന്നു എന്നെ പ്രാപിച്ചിട്ടുണ്ട്. <EOS>\\n', 'അഗ്നി, ജ്യോതിസ്, വെളുത്ത പക്ഷം, ഉത്തരായണം ഇവയില്\\u200d ഇവയുടെ അധീശ്വരായ ദേവതകള്\\u200d വഴിയായി, ഗമിക്കുന്ന ബ്രഹ്മജ്ഞരായ ജനങ്ങള്\\u200d ബ്രഹ്മത്തെ പ്രാപിക്കുന്നു. <EOS>\\n', 'ഹേ ഭാരത, തമസ്സ് അജ്ഞാനത്തില്\\u200d നിന്നുണ്ടാകുന്നതും എല്ലാ ദേഹികളെയും (ജീവന്മാരെയും) മോഹിപ്പിക്കുന്നതുമാണെന്നറിയൂ. അത് അശ്രദ്ധ, ആലസ്യം, ഉറക്ക എന്നിവയാല്\\u200d ദേഹിയെ ബന്ധിക്കുന്നു. <EOS>\\n', 'അര്\\u200dജുനന്\\u200d പറഞ്ഞു: ഹേ മധുസൂദനാ, സമചിത്തതാ ലക്ഷണമായി ഏതൊരു യോഗമാണോ അങ്ങ് പറഞ്ഞത്, എന്റെ മനസിന്റെ ചാഞ്ചല്യം നിമിത്തം അതിനു സുസ്ഥിരമായ നിലനില്\\u200dപ്പ്\\u200c ഞാന്\\u200d കാണുന്നില്ല. <EOS>\\n', 'ഹേ അ\\u200cര്\\u200dജ്ജുനാ! ഈ രണ്ടു മാര്\\u200dഗ്ഗങ്ങളെ യഥാ\\u200d\\u200dര്\\u200dത്ഥമായറിയുന്ന യാതൊരു ക\\u200dര്\\u200dമ്മയോഗിയും മോഹത്തെ പ്രാപിക്കുന്നില്ല.. അതുകൊണ്ടു ഹേ അ\\u200cര്\\u200dജ്ജുനാ, സമല കാലങ്ങളിലും ക\\u200dര്\\u200dമ്മയോഗയുക്തനയി ഭവിക്കുക. <EOS>\\n', 'മേല്\\u200d വിവരിച്ചതായ ഈ തത്വത്തെ മുഴുവനും മനസ്സിലാക്കിയാല്\\u200d ക\\u200dര്\\u200dമ്മയോഗി, വേദത്തിലും യജ്ഞത്തിലും തപസ്സിലും ദാനത്തിലും പറയപ്പെട്ടതായ പുണ്യങ്ങളെയെല്ല\\u200dാം അതിക്രമിച്ച് പുരാതനവും ശ്രേഷ്ഠവുമായ പദത്തെ പ്രാപിക്കുന്നു. <EOS>\\n', 'പ്രിയം നേടി സന്തോഷിക്കുകയും, അപ്രിയം വന്നുചേർന്നാൽ ദുഖിക്കുകയും ചെയ്യാത്തവനും, സ്ഥിരബുദ്ധിയും, മോഹമില്ലാത്തവനും ആയവൻ ബ്രഹ്മജ്ഞനും ബ്രഹ്മത്തിൽ തന്നെ വർത്തിക്കുന്നവനുമാണ്. <EOS>\\n', 'ഹേ മഹാനായ ദേവ! ഉഗ്രരൂപത്തോടുകൂടിയ ഭവാന്\\u200d ആരാണെന്നു പറഞ്ഞാലും. അങ്ങേയ്\\u200dക്കു നമസ്\\u200dകാരം! എന്നി\\u200dല്\\u200d പ്രസാദിക്കുമാറാകണേ! ആദിപുരുഷനായ ഭഗവാനെപ്പറ്റി വേണ്ടതി\\u200dന്\\u200dവണ്ണം മനസ്സിലാക്കണമെന്നു ഞാനാഗ്രഹിക്കുന്നു. അവിടുത്തെ പ്രവൃത്തിയെ (ഉദ്ദേശത്തെ)ക്കുറിച്ച് എനിക്കറിഞ്ഞുകൂടാ. <EOS>\\n', 'അ\\u200dര്\\u200dജ്ജുനാ, ഈ ധര്\\u200dമ്മത്തെ വിശ്വസിക്കാത്ത പുരുഷന്മാര്\\u200d എന്നെ പ്രാപിക്കുവാന്\\u200dകഴിയാതെ മൃത്യുപൂ\\u200dര്\\u200dവ്വമായ സംസാരമാര്\\u200dഗ്ഗത്തിലേക്ക് തിരിച്ചു വരുന്നു. <EOS>\\n', 'ശ്രീ ഭഗവാന്\\u200d പാഞ്ഞു: രജോഗുണത്തില്\\u200d നിന്നു ജനിച്ച ഈ കാമം, ഈ ക്രോധം തൃപ്തിപ്പെടുത്താന്\\u200d കഴിയാത്തതും മഹാപാപകാരണ വുമാണ് ഇക്കാര്യത്തില്\\u200d ഇതിനെ ശത്രുവായി അറിയുക. <EOS>\\n', 'ഭുതങ്ങ\\u200dള്\\u200d (യഥാര്\\u200dഥത്തില്\\u200d) എന്നില്\\u200d സ്ഥിതി ചെയ്യുന്നതുമില്ല. എന്റെ ദിവ്യമായ യോഗശക്തിയെ കണ്ടാലും. ഞാ\\u200dന്\\u200d സര്\\u200dവ്വ ഭൂതങ്ങളേയും ഉണ്ടാക്കുന്നവനും ധരിക്കുന്നവനുമാണെങ്കിലും ഞാ\\u200dന്\\u200d ഭൂതങ്ങളില്\\u200d സ്ഥിതി ചെയ്യുന്നില്ല. <EOS>\\n', 'ഇനി എന്നില്\\u200d സ്ഥിരമായി ചിത്തം നി\\u200dര്\\u200dത്തുവാ\\u200cന്\\u200d ശക്തിയില്ലാത്ത പക്ഷം പിന്നെ അഭ്യാസയോഗത്താ\\u200c\\u200dല്\\u200d എന്നെ പ്രാപിക്കുവാ\\u200d\\u200dന്\\u200d നോക്കണം. <EOS>\\n', 'ശ്രീ ഭഗവാന്\\u200d പറഞ്ഞു: ബ്രഹ്മം സ\\u200dവ്വോത്കൃഷ്ടവും അക്ഷരവും (അനശ്വരവും) ആകുന്നു. അധ്യാത്മം സ്വഭാവമാണെന്ന് പറയപ്പെടുന്നു. സകലജീവജാലങ്ങളും ഉദ്ഭവത്തിന് കാരണമായ വിശിഷ്ടമായ സൃഷ്ടിവ്യാപാരമാണ് ക\\u200dര്\\u200dമ്മമെന്നറിയപ്പെടുന്നത്. <EOS>\\n', 'അര്\\u200dജുനാ, പറഞ്ഞു: ദേവന്മാ\\u200dര്\\u200dപോലും എന്നും ദ\\u200dര്\\u200dശിക്കുവാ\\u200d\\u200dന്\\u200d അതിയായി ആഗ്രഹിച്ചു കൊണ്ടിരിക്കുന്നതും, ദ\\u200dര്\\u200dശിപ്പാ\\u200cന്\\u200d പ്രയാസമായിട്ടുള്ളതും ആയ എന്റെ ഈ രൂപത്തെ നീ കണ്ടുവല്ലോ. <EOS>\\n', 'അ\\u200dര്\\u200dജ്ജുനാ! എന്റെ മേ\\u200dല്\\u200dനോട്ടത്തി\\u200d\\u200dല്\\u200d പ്രകൃതി സ\\u200dര്\\u200dവചരാചരങ്ങളേയും ജനിപ്പിക്കുന്നു. എന്റെ അദ്ധ്യക്ഷതയാല്\\u200d തന്നെ പ്രപഞ്ചം ഉത്ഭവിക്കുന്നു. <EOS>\\n', 'യാതൊരു ജ്ഞാനം ഒരു കാര്യത്തില്\\u200d (ശരീരത്തില്\\u200d) തന്നെ പൂര്\\u200dണ്ണമാണെന്നുള്ള ധാരണയില്\\u200d ആസക്തിയോടെയും, കാരണ മില്ലാതെയും, സത്യത്തെ അറിയാതെയും, അല്പമായുമിരിക്കുന്നുവോ അത് താമസികജ്ഞാനമാണ്. <EOS>\\n', 'ഹേ ഭാരത, തമസ്സ് അജ്ഞാനത്തില്\\u200d നിന്നുണ്ടാകുന്നതും എല്ലാ ദേഹികളെയും (ജീവന്മാരെയും) മോഹിപ്പിക്കുന്നതുമാണെന്നറിയൂ. അത് അശ്രദ്ധ, ആലസ്യം, ഉറക്ക എന്നിവയാല്\\u200d ദേഹിയെ ബന്ധിക്കുന്നു. <EOS>\\n', 'എന്റെ അവ്യയവും അനുത്തമവും തമോഗുണസ്പര്\\u200dശമില്ലാത്തതുമായ സര്\\u200dവാതീതഭാവത്തെ അറിയാതെ അവ്യക്തനായ എന്നെ വ്യക്തിത്വം പ്രാപിച്ചവനെന്നു ബുദ്ധിഹീനര്\\u200d വിചാരിക്കുന്നു. <EOS>\\n', 'ജനാ\\u200d\\u200dര്\\u200dദ്ദന!\\u200d, അത്യാഗ്രഹം കൊണ്ടു ബുദ്ധികെട്ട ഇവര്\\u200d കുലനാശം കൊണ്ടുള്ള ദോഷവും മിത്രങ്ങളെ ദ്രോഹിക്കുന്നതിലുള്ള പാപവും കാണുന്നില്ലെങ്കിലും കുലക്ഷയം കൊണ്ടുള്ള ദോഷം കാണുന്ന നമ്മ\\u200dള്\\u200d\\u200d\\u200d, ഈ പാപത്തില്\\u200d നിന്നും പിന്തിരിയണമെന്ന് മനസ്സിലാക്കേണ്ടതല്ലേ? <EOS>\\n', 'സ്ഥിരതയില്ലാത്തവനും, പ്രാകൃതനും, അഹങ്കാരവും ദര്\\u200dപ്പവുമുള്ളവനും, നീചനും അലസനും, ദുഃഖിതനും, ദീര്\\u200dഘസൂത്രിയുമായ (ചെയ്യാനുള്ള കാര്യങ്ങള്\\u200d നീട്ടിവെയ്ക്കുന്ന സ്വഭാവമുള്ളയാള്\\u200d) കര്\\u200dത്താവ് താമസികനാണ് എന്നു പറയപ്പെടുന്നു. <EOS>\\n', 'അര്\\u200dജുനന്\\u200d ചോദിച്ചു: ആദിത്യന്റെ ജന്മം മുന്\\u200dപും അങ്ങയുടെ ജന്മം പിന്\\u200dപുമാണല്ലോ. അങ്ങിനെയിരിക്കെ, ആദ്യം അങ്ങാണ് ഇതു പറഞ്ഞതെന്ന് എങ്ങിനെ ഞാന്\\u200d മനസ്സിലാക്കും? <EOS>\\n', 'ഈ പ്രപഞ്ചത്തിന്റെ പിതാവും, മാതാവും, പിതാമഹനും, രക്ഷകനും ഞാന്\\u200d തന്നെ. അറിയപ്പെടേണ്ടതും പരിശുദ്ധവുമായ ഓങ്കാരവും, ഋഗ്വേദം, സാമവേദം, യജു\\u200dര്\\u200dവേദം എന്നിവയും ഞാ\\u200d\\u200dന്\\u200dതന്നെ. <EOS>\\n', 'ഹേ അര്\\u200dജുനാ, എന്റെ യോനിയാകുന്ന മഹാപ്രകൃതിയില്\\u200d ഞാന്\\u200d ബീജത്തെ നിക്ഷേപിക്കുന്നു. സര്\\u200dവ്വ ജീവരാശികളുടെയും ജന്മം അതില്\\u200dനിന്നാണ്. <EOS>\\n', 'ശ്രീകൃഷ്ണ\\u200dന്\\u200d പറഞ്ഞു: ഞാന്\\u200d ലോകത്തെ നശിപ്പിക്കുന്ന കാലം (കാല\\u200dന്\\u200d) ആകുന്നു. ഞാന്\\u200d ലോകസംഹാരകൃത്യത്തി\\u200dല്\\u200d ഏര്\\u200dപ്പെട്ടിരിക്കയാണ്. നീയില്ലെങ്കിലും (നീ യുദ്ധം ചെയ്തില്ലെങ്കിലും) ഇവിടെക്കൂടിയിരിക്കുന്ന ശത്രുപക്ഷത്തിലെ യോദ്ധാക്ക\\u200dളാരും ജീവിച്ചിരിക്കുകയില്ല. <EOS>\\n', 'ഹേ അ\\u200cര്\\u200dജ്ജുനാ! യാതോരുവന്റെ ഉള്ളിലാണോ ഭൂതങ്ങ\\u200d\\u200dള്\\u200d സ്ഥിതിചെയ്യുന്നത്\\u200d, യാതോരുവനാല്\\u200d ഇതെല്ല\\u200dാം വ്യാപ്തമായിരി ക്കുന്നുവോ ആ പരമപുരുഷനെ ഏകാന്തഭക്തികൊണ്ട് പ്രാപിക്കാവുന്നതാണ്. <EOS>\\n', '“ഇന്ന് ഞാന്\\u200d ഇതു നേടി. ഈ ആഗ്രഹം ഞാന്\\u200d സാധിക്കും. ഇത് എന്റെയാണ്. ഈ സമ്പത്തും ഭാവിയില്\\u200d എന്റെയാകും. ഈ ശത്രുവിനെ ഞാന്\\u200d വധിച്ചു. മറ്റു ശത്രുക്കളെയും ഞാന്\\u200d വധിക്കുക തന്നെ ചെയ്യും. ഞാന്\\u200d പ്രഭുവും, ഭോഗമനുഭവിക്കുന്നവനും, എല്ല\\u200dാം നേടിയവനും, ബലവാനും, സുഖിയുമാണ്. ഞാന്\\u200d ധനികനും, ഉന്നതകുലജാതനുമാണ്. എന്നെപ്പോലെ വേറെയാരുണ്ട്? ഞാന്\\u200d യജ്ഞം നടത്തും, ദാനം നല്കുകയും, ആനന്ദിക്കുകയും ചെയ്യും”. എന്നിങ്ങനെ അജ്ഞാനത്താല്\\u200d മോഹിതനായി അനേകചിന്ത കളാല്\\u200d വിഭ്രാന്തരായി മോഹജാലത്താല്\\u200d വലയപ്പെട്ട്, വിഷയഭോഗാസക്തരായി അശുദ്ധമായ നരകത്തില്\\u200d പതിക്കുന്നു. <EOS>\\n', 'ഏകാഗ്രചിത്തത്തോടുകുടി എന്നെത്തന്നെ ചിന്തിച്ചുഭജിച്ച് നിരന്തരം ധ്യാനിച്ചുകൊണ്ടിരിക്കുന്ന ജനങ്ങളുടെ യോഗക്ഷേമത്തെ ഞാ\\u200d\\u200dന്\\u200dവഹിക്കുന്നു. <EOS>\\n', 'അര്\\u200dജുനന്\\u200d പറഞ്ഞു: ഹേ ജനാ\\u200dര്\\u200dദ്ദനാ, ക\\u200d\\u200d\\u200dര്\\u200dമ്മത്തെ അപേക്ഷിച്ച് കര്\\u200dമ്മയോഗമാണ് ശ്രേഷ്ടമെന്നു അങ്ങേയ്ക്ക് അഭിപ്രായമുണ്ടെങ്കില്\\u200d പിന്നെ എന്തിനാണ് ഘോരമായ ഈ ക\\u200d\\u200d\\u200dര്\\u200dമ്മത്തില്\\u200d എന്നെ നിയോഗിക്കുന്നത്? <EOS>\\n', 'എല്ലാ കര്\\u200dമ്മങ്ങളും മനസാ എന്നില്\\u200d സമര്\\u200dപ്പിച്ച്, ബുദ്ധിയോഗത്തെ ആശ്രയിച്ച്, മനസ്സിനെ സദാ എന്നില്\\u200d തന്നെ ഉറപ്പിക്കുക. <EOS>\\n', 'അവന്\\u200d ആ ശ്രദ്ധയോടെ ആ ദേവന്റെ ആരാധന നടത്തുന്നു. അതില്\\u200dനിന്നു ഞാന്\\u200d തന്നെ നല്കുന്ന അതാതു കാമങ്ങള്\\u200d ആര്\\u200dജിക്കുകയും ചെയ്യുന്നു. <EOS>\\n', 'പത്രം, പുഷ്പം, ഫലം, ജലം എന്നിവ ഭക്തിയോടു കൂടി എനിക്കായി നിവേദിക്കുന്ന ഏകാഗ്രചിത്തന്റെ ആ ഭക്തി പൂര്\\u200dവകമായ വഴിപാടിനെ ഞാന്\\u200d കൈക്കൊള്ളുന്നു. <EOS>\\n', 'ഹേ പാ\\u200dണ്ഡവാ, അതറിഞ്ഞാല്\\u200d പിന്നെയിങ്ങനെ ഭ്രമം നിനക്കുണ്ടാവില്ല. ഇതു മൂലം ഭൂതങ്ങളെയെല്ല\\u200dാം തന്നിലും പിന്നെ എന്നിലും നീ കാണും. <EOS>\\n', 'ഞാന്\\u200d കര്\\u200dമ്മം ചെയ്തില്ലെങ്കില്\\u200d ഈ ദേഹി ഒരിക്കലും വധിക്കപ്പെടാവുന്നവനല്ല. അതിനാല്\\u200d യാതൊരു ജീവിയെക്കുറിച്ചും നീ ദുഖിക്കേണ്ടതില്ല. <EOS>\\n', 'ശ്രീ ഭഗവാന്\\u200d പാഞ്ഞു: രജോഗുണത്തില്\\u200d നിന്നു ജനിച്ച ഈ കാമം, ഈ ക്രോധം തൃപ്തിപ്പെടുത്താന്\\u200d കഴിയാത്തതും മഹാപാപകാരണ വുമാണ് ഇക്കാര്യത്തില്\\u200d ഇതിനെ ശത്രുവായി അറിയുക. <EOS>\\n', 'ശ്രീ ഭഗവാന്\\u200d പറഞ്ഞു: ബ്രഹ്മം സ\\u200dവ്വോത്കൃഷ്ടവും അക്ഷരവും (അനശ്വരവും) ആകുന്നു. അധ്യാത്മം സ്വഭാവമാണെന്ന് പറയപ്പെടുന്നു. സകലജീവജാലങ്ങളും ഉദ്ഭവത്തിന് കാരണമായ വിശിഷ്ടമായ സൃഷ്ടിവ്യാപാരമാണ് ക\\u200dര്\\u200dമ്മമെന്നറിയപ്പെടുന്നത്. <EOS>\\n', 'ഹേ ഭാരത, തമസ്സ് അജ്ഞാനത്തില്\\u200d നിന്നുണ്ടാകുന്നതും എല്ലാ ദേഹികളെയും (ജീവന്മാരെയും) മോഹിപ്പിക്കുന്നതുമാണെന്നറിയൂ. അത് അശ്രദ്ധ, ആലസ്യം, ഉറക്ക എന്നിവയാല്\\u200d ദേഹിയെ ബന്ധിക്കുന്നു. <EOS>\\n', 'മുമ്പത്തെ മട്ടി\\u200d\\u200dല്\\u200dതലയില്\\u200d കിരീടവും, കൈകളില്\\u200d ഗദയും, ചക്രവും ധരിച്ചിട്ടുള്ള അവിടുത്തെ രൂപത്തെ ഞാന്\\u200d കാണ്മാനാഗ്രഹിക്കുന്നു. അസംഖ്യം ബാഹുക്കളോടുകൂടിയ ഭഗവാനേ, ചതു\\u200dര്\\u200dഭുജത്തോടു കൂടിയ ആ പഴയ രൂപത്തെത്തന്നെ പ്രാപിച്ചാലും! <EOS>\\n', 'ഹേ പാര്\\u200dത്ഥ, യാതോരുവന്റെ ഉള്ളിലാണോ ഭൂതങ്ങ\\u200d\\u200dള്\\u200d സ്ഥിതിചെയ്യുന്നത്\\u200d, യാതോരുവനാല്\\u200d ഇതെല്ല\\u200dാം വ്യാപ്തമായിരി ക്കുന്നുവോ ആ പരമപുരുഷനെ ഏകാന്തഭക്തികൊണ്ട് പ്രാപിക്കാവുന്നതാണ്. <EOS>\\n', '\"എന്നി\\u200dല്\\u200d മനസ്സു വെച്ച്, എന്നി\\u200dല്\\u200d ഭക്തിയോടുകൂടി എന്നെ പൂജിക്കുകയും എന്നെ നമസ്കരിക്കുകയും ചെയ്യുക. ഇങ്ങനെ എന്നെത്തന്നെ വിചാരിചുകൊണ്ട് മനസ്സ് എന്നി\\u200dലുറപ്പിക്കുന്നവന്\\u200d എന്നെത്തന്നെ പ്രാപിക്കും. <EOS>\\n', 'ഹേ മഹാബാഹോ, എല്ലാ കര്\\u200dമ്മങ്ങളുടെ സിദ്ധിയ്ക്കായി സ\\u200dാംഖ്യത്തില്\\u200d പറഞ്ഞിരിക്കുന്ന അഞ്ചു ഘടകങ്ങള്\\u200d കേട്ടാലും. <EOS>\\n', 'ശ്രീകൃഷ്ണ\\u200dന്\\u200dപറഞ്ഞു: അ\\u200dര്\\u200dജ്ജുനാ! സംപ്രീതനായ നിന്റെ ഹിതമാഗ്രഹിച്ചുകൊണ്ട് ഞാന്\\u200d വീണ്ടും പറയുന്ന ഉത്കൃഷ്ടമായ വാക്കുകളെ കേട്ടാലും. <EOS>\\n', 'എന്റെ ഉ\\u200dല്\\u200dപത്തിയെ ദേവന്മാരോ മഹ\\u200dര്\\u200dഷിമാരോ അറിയുന്നില്ല. മഹ\\u200dര്\\u200dഷിമാ\\u200dര്\\u200dക്കും, ദേവന്മാ\\u200dര്\\u200dക്കും, എല്ലാവിധത്തിലും ഞാ\\u200d\\u200dന്\\u200d ആദ്യനായുള്ളവനാണ്. <EOS>\\n', 'ഗുണങ്ങളുടെ അടിസ്ഥാനത്തില്\\u200d മൂന്നു വിധത്തിലുള്ള ബുദ്ധിയെയും, ധൈര്യത്തെയും കുറിച്ച് ഞാന്\\u200d ഓരോന്നായി വിശദീകരിക്കുന്നതു കേട്ടാലും. <EOS>\\n', 'സ\\u200dര്\\u200dവ്വപ്രാണിസഞ്ചയത്തിലും സമനിലയി\\u200dല്\\u200d സ്ഥിതിചെയ്യുന്നവനും നശിക്കുന്നവയായ സ്ഥാവരജംഗമങ്ങളില്\\u200d അവിനാശിയായി വര്\\u200dത്തിക്കുന്നവനുമായ പരമേശ്വര\\u200dനെ അറിയുന്നവനാണ് യഥാ\\u200dര്\\u200dത്ഥ ജ്ഞാനമുള്ളവന്\\u200d. <EOS>\\n', 'ശ്രീകൃഷ്ണ\\u200dന്\\u200d പറഞ്ഞു: കൃഷ്ണാ, യുദ്ധം ചെയ്യാന്\\u200d ഒരുങ്ങി നില്ക്കുന്ന ഈ സ്വജനങ്ങളെ കണ്ടിട്ട് എന്റെ ശരീരമാസകലം തളരുന്നു; വായ് വരളുകയും ചെയ്യുന്നു. എന്റെ ശരീരം വിറയ്ക്കുകയും രോമാഞ്ചവും ഉണ്ടാകുന്നു. ഗാണ്ഡീവം കൈയ്യില്\\u200d നിന്നും വഴുതുന്നു. ദേഹം ചുട്ടുനീറുകയും ചെയ്യുന്നു. നില്\\u200dക്കാന്\\u200d എനിക്ക് കഴിയുന്നില്ല. എന്റെ മനസ്സു സംഭ്രമിക്കുന്നതു പോലെ തോന്നുന്നു. പല ദു\\u200dര്\\u200dനിമിത്തങ്ങളും കാണുന്നു. യുദ്ധത്തില്\\u200d സ്വജനത്തെ കൊന്നിട്ട് ഒരു ശ്രേയസ്സും ഞാന്\\u200d കാണുന്നില്ല. <EOS>\\n', 'എന്റെ ഈ ഐശ്വര്യത്തേയും യോഗത്തേയും ശരിയായി അറിയുന്നവ\\u200dന്\\u200d നിശ്ചലമായ ഏകാഗ്രനിഷ്ഠയോടുകൂടിയവനാണ്; അതി\\u200cല്\\u200d\\u200d സംശയമില്ല. <EOS>\\n', 'യോഗി വിജനതയില്\\u200d സ്ഥിതിചെയ്ത് ഏകാകിയും ഇന്ദ്രിയമനസുകളെ നിയന്ത്രിച്ച്\\u200c നിഷ്കാമനും ആരില്\\u200dനിന്നും ഒന്നും സ്വീകരിക്കാത്തവനുമായി സര്\\u200dവദാ ആത്മാവിനെ യോജിപ്പിക്കണം. <EOS>\\n', 'ചരാചരങ്ങളോടുകൂടിയ മഹാപ്രപഞ്ചത്തേയും നീ കാണുവാ\\u200c\\u200dന്\\u200d ആഗ്രഹിക്കുന്ന മറ്റുള്ളവയേയും എന്റെ ദേഹത്തി\\u200d\\u200dല്\\u200dഒന്നിച്ചു നി\\u200dല്\\u200dക്കുന്നത് ഇതാ നീ കാണുക. <EOS>\\n', 'ശ്രീ ഭഗവാന്\\u200d പറഞ്ഞു: ബ്രഹ്മം സ\\u200dവ്വോത്കൃഷ്ടവും അക്ഷരവും (അനശ്വരവും) ആകുന്നു. അധ്യാത്മം സ്വഭാവമാണെന്ന് പറയപ്പെടുന്നു. സകലജീവജാലങ്ങളും ഉദ്ഭവത്തിന് കാരണമായ വിശിഷ്ടമായ സൃഷ്ടിവ്യാപാരമാണ് ക\\u200dര്\\u200dമ്മമെന്നറിയപ്പെടുന്നത്. <EOS>\\n', 'ഹേ ഭാരത, നീ ഈശ്വരനെത്തന്നെ സര്\\u200dവ്വഭാവത്തിലും ശരണമടഞ്ഞാലും. ഈശ്വരന്റെ പ്രസാദത്താല്\\u200d നീ പരമമായ ശാന്തിയെയും ശാശ്വതമായ പദത്തെയും പ്രാപിക്കും. <EOS>\\n', 'അ\\u200dര്\\u200dജ്ജുന\\u200dന്\\u200d പറഞ്ഞു: പരബ്രഹ്മവും, പരാശ്രയവും, പരമപവിത്രവും അങ്ങുതന്നെ. അങ്ങ് ശാശ്വതവും ദിവ്യവും ആദിദേവനും ജന്മഹീനനും സ\\u200dര്\\u200dവവ്യാപിയുമായ പുരുഷനാണെന്നു ദേവ\\u200dര്\\u200dഷിയായ നാരദനും, അസിതനും, ദേവലനും, വ്യാസനും, മറ്റെല്ലാ ഋഷിമാരും പറഞ്ഞിട്ടുണ്ട്. അവിടുന്നു സ്വയം അതുതന്നെ എന്നോടു പറയുന്നു. <EOS>\\n', 'ശ്രീകൃഷ്ണ\\u200dന്\\u200dപറഞ്ഞു: അ\\u200dര്\\u200dജ്ജുനാ! സംപ്രീതനായ നിന്റെ ഹിതമാഗ്രഹിച്ചുകൊണ്ട് ഞാന്\\u200d വീണ്ടും പറയുന്ന ഉത്കൃഷ്ടമായ വാക്കുകളെ കേട്ടാലും. <EOS>\\n', 'ക\\u200dര്\\u200dമ്മഫലത്തിലുള്ള ആസക്തിവെടിഞ്ഞ് നിത്യതൃപ്തനായി ഒന്നിനെയും ആശ്രയിക്കാതിരിക്കുന്നവന്\\u200d ക\\u200dര്\\u200dമ്മത്തില്\\u200d ഏ\\u200dര്\\u200dപ്പെട്ടിരുന്നാലും അവന്\\u200d ഒന്നും ചെയ്യുന്നില്ലതന്നെ. <EOS>\\n', 'രാഗം, കൊണ്ടു ബുദ്ധികെട്ടവനും ധ\\u200dര്\\u200dമ്മ വിഷയത്തില്\\u200d വിവേകം നശിച്ചവനുമായി അങ്ങയോടു ഞാന്\\u200d ചോദിക്കുന്നു. യാതൊന്നു തീ\\u200dര്\\u200dച്ചയായും ശ്രേയസ്കരമാകുമോ അതെനിക്ക് പറഞ്ഞു തരിക. ഞാന്\\u200d അങ്ങയുടെ ശിഷ്യനാണ്. അങ്ങയെ ശരണം പ്രാപിച്ച എന്നെ വേണ്ടവണ്ണം ഉപദേശിച്ചാലും. <EOS>\\n', 'അതുകൊണ്ടു ഏത് കാലത്തും എന്നെ സ്മരിക്കയും യുദ്ധം ചെയ്യുകയും ചെയ്യുക. എന്നില്\\u200d മനസ്സും ബുദ്ധിയും അര്\\u200dപ്പിച്ച നീ കാണും. <EOS>\\n', 'കൃഷ്ണാ! അങ്ങയുടെ യോഗത്തേയും ഐശ്വര്യത്തേയും വീണ്ടും സവിസ്തരം പറഞ്ഞാലും. അങ്ങയുടെ അമൃതസമമായ വാക്കുക\\u200dള്\\u200d എത്ര കേട്ടിട്ടും എനിക്കു തൃപ്തിയാകുന്നില്ല. <EOS>\\n', 'സാംഖ്യവും യോഗവും വെവ്വേറെയായി അജ്ഞന്മാർ പറയുന്നു. പണ്ഡിതൻമാര് അങ്ങനെ പറയുന്നില്ല. ഒന്നെങ്കിലും വേണ്ടവിധം അനുഷ്ഠിക്കുന്ന പക്ഷം രണ്ടിന്റെയും ഫലം ലഭിക്കും. <EOS>\\n', 'ഹേ കൗരവശ്രേഷ്ഠ! നീ ചെയ്യില്ലെങ്കില്\\u200d അത് കാരണം സ്വധ\\u200dര്\\u200dമ്മവും കീര്\\u200dത്തിയും കൈവിട്ടു നീ പാപം സമ്പാദിക്കേണ്ടിവരും. <EOS>\\n', 'ആദിത്യന്മാരി\\u200d\\u200dല്\\u200d വിഷ്ണുവും, ജ്യോതിസ്സുകളി\\u200dല്\\u200d സഹസ്രകിരണനായ സൂര്യനും, വായുക്കളി\\u200c\\u200dല്\\u200d മരീചിയും, നക്ഷത്രങ്ങളില്\\u200d ചന്ദ്രനും ഞാനാണ്. <EOS>\\n', 'വേദങ്ങളി\\u200dല്\\u200d സാമവേദവും, ദേവന്മാരില്\\u200d ഇന്ദ്രനും, ഇന്ദ്രിയങ്ങളി\\u200d\\u200dല്\\u200d മനസ്സും, ഭൂതങ്ങളില്\\u200d പ്രാണനും ഞാനാണ്. <EOS>\\n', 'രുദ്രന്മാരി\\u200d\\u200dല്\\u200d ശങ്കരനും, യക്ഷന്മാരിലും രാക്ഷസന്മാരിലും കുബേരനും, വസുക്കളില്\\u200d അഗ്നിയും, പ\\u200dര്\\u200dവതങ്ങളി\\u200d\\u200dല്\\u200d മഹാമേരുവും ഞാനാണ്. <EOS>\\n', 'ഹേ ഭാരതാ, അപണ്ഡിതന്മാര്\\u200d ക\\u200dര്\\u200dമ്മത്തില്\\u200d ആസക്തരായി എങ്ങിനെയെല്ല\\u200dാം പ്രവര്\\u200dത്തിക്കുന്നുവോ പണ്ഡിതന്\\u200d ലോകത്തിന്റെ നിലനില്\\u200dപ്പ്\\u200c ക\\u200dാംക്ഷിച്ചുകൊണ്ടു നിസ്സംഗനായി അതേവിധം പ്രവ\\u200dര്\\u200dത്തിക്കണം. <EOS>\\n', 'യാതൊരു ജ്ഞാനം ഒരു കാര്യത്തില്\\u200d (ശരീരത്തില്\\u200d) തന്നെ പൂര്\\u200dണ്ണമാണെന്നുള്ള ധാരണയില്\\u200d ആസക്തിയോടെയും, കാരണ മില്ലാതെയും, സത്യത്തെ അറിയാതെയും, അല്പമായുമിരിക്കുന്നുവോ അത് താമസികജ്ഞാനമാണ്. <EOS>\\n', 'കൃഷ്ണാ! അങ്ങയുടെ യോഗത്തേയും ഐശ്വര്യത്തേയും വീണ്ടും സവിസ്തരം പറഞ്ഞാലും. അങ്ങയുടെ അമൃതസമമായ വാക്കുക\\u200dള്\\u200d എത്ര കേട്ടിട്ടും എനിക്കു തൃപ്തിയാകുന്നില്ല. <EOS>\\n', 'ആയുധങ്ങളില്\\u200d വജ്രവും, പശുക്കളില്\\u200d കാമധേനുവും, പ്രജോല്\\u200dപാദകന്മാരില്\\u200d \\u200dമന്മഥനും ഞാനാണ്. വിഷമുള്ള പാമ്പുകളി\\u200d\\u200dല്\\u200d വാസുകിയും, വിഷമില്ലാത്ത നാഗങ്ങളില്\\u200d അനന്തനും ഞാനാണ്. ജലജന്തുക്കളി\\u200d\\u200dല്\\u200d വരുണനും പിതൃക്കളില്\\u200d അര്യമാവും നിയമാധികാരികളി\\u200d\\u200dല്\\u200d യമനും ഞാനാണ്. <EOS>\\n', 'ഈ യുദ്ധം അപ്രതീക്ഷിതമായി തുറന്നുകിട്ടിയ സ്വര്\\u200dഗ്ഗവാതില്\\u200d പോലെയാണ്. ഹേ പാര്\\u200dത്ഥ, ഭാഗ്യവാന്മാരായ ക്ഷത്രിയര്\\u200dക്ക് മാത്രമാണ് ഈ വിധമുള്ള യുദ്ധം ലഭിക്കുന്നത്\\u200c. <EOS>\\n', 'ശുദ്ധീകരണവസ്തുക്കളി\\u200d\\u200dല്\\u200d വായുവും, ആയുധധാരികളി\\u200dല്\\u200d രാമനും ഞാനാണ്. മത്സ്യങ്ങളി\\u200d\\u200dല്\\u200d മകരവും, നദികളില്\\u200d ഗംഗയും ഞാനാണ്. <EOS>\\n', 'എന്റെ ഉ\\u200dല്\\u200dപത്തിയെ ദേവന്മാരോ മഹ\\u200dര്\\u200dഷിമാരോ അറിയുന്നില്ല. മഹ\\u200dര്\\u200dഷിമാ\\u200dര്\\u200dക്കും, ദേവന്മാ\\u200dര്\\u200dക്കും, എല്ലാവിധത്തിലും ഞാ\\u200d\\u200dന്\\u200d ആദ്യനായുള്ളവനാണ്. <EOS>\\n', 'ചരാചരങ്ങളോടുകൂടിയ മഹാപ്രപഞ്ചത്തേയും നീ കാണുവാ\\u200c\\u200dന്\\u200d ആഗ്രഹിക്കുന്ന മറ്റുള്ളവയേയും എന്റെ ദേഹത്തി\\u200d\\u200dല്\\u200dഒന്നിച്ചു നി\\u200dല്\\u200dക്കുന്നത് ഇതാ നീ കാണുക. <EOS>\\n', 'എന്റെ ഉ\\u200dല്\\u200dപത്തിയെ ദേവന്മാരോ മഹ\\u200dര്\\u200dഷിമാരോ അറിയുന്നില്ല. മഹ\\u200dര്\\u200dഷിമാ\\u200dര്\\u200dക്കും, ദേവന്മാ\\u200dര്\\u200dക്കും, എല്ലാവിധത്തിലും ഞാ\\u200d\\u200dന്\\u200d ആദ്യനായുള്ളവനാണ്. <EOS>\\n', 'സാമവേദത്തി\\u200dല്\\u200d ബൃഹ\\u200dല്\\u200dസാമവും, ഛന്ദസ്സുകളില്\\u200d ഗായത്രിയും ഞാനാണ്. അങ്ങനെ മാസങ്ങളി\\u200d\\u200dല്\\u200d മാര്\\u200dഗ്ഗശീര്\\u200dഷവും ഋതുക്കളില്\\u200d വസന്തവും ഞാനാണ്. <EOS>\\n', 'പുരുഷ\\u200dന്\\u200d പ്രകൃതിയില്\\u200d ഇരുന്ന്, പ്രകൃതിയി\\u200cല്\\u200dനിന്നുണ്ടാകുന്ന സുഖദുഃഖാദി ഗുണങ്ങളെ അനുഭവിക്കുന്നു. ഈ പ്രകൃതിഗുണങ്ങളോടുള്ള സംഗം കൊണ്ടാണ് ഈ പുരുഷനു ഉത്തമവും നീചവുമായ യോനികളില്\\u200d ജനിക്കുവാ\\u200d\\u200dന്\\u200d ഇടയാകുന്നത്. <EOS>\\n', 'വൃഷ്ണികളില്\\u200d കൃഷ്ണനും, പാണ്ഡവന്മാരില്\\u200d അര്\\u200dജുനനും, മുനികളില്\\u200d വ്യാസനും, കവികളി\\u200dല്\\u200d ശുക്രനും ഞാനാണ്. <EOS>\\n', 'ചരാചരങ്ങളോടുകൂടിയ മഹാപ്രപഞ്ചത്തേയും നീ കാണുവാ\\u200c\\u200dന്\\u200d ആഗ്രഹിക്കുന്ന മറ്റുള്ളവയേയും എന്റെ ദേഹത്തി\\u200d\\u200dല്\\u200dഒന്നിച്ചു നി\\u200dല്\\u200dക്കുന്നത് ഇതാ നീ കാണുക. <EOS>\\n', 'അതുകൊണ്ടു ഏത് കാലത്തും എന്നെ സ്മരിക്കയും യുദ്ധം ചെയ്യുകയും ചെയ്യുക. എന്നില്\\u200d മനസ്സും ബുദ്ധിയും അര്\\u200dപ്പിച്ച നീ എന്നെ തന്നെ നിസ്സംശയമായും പ്രാപിക്കും. <EOS>\\n', 'അര്\\u200dജുനന്\\u200d പറഞ്ഞു: കൃഷ്ണാ, ശ്രദ്ധയോടെ ശ്രമിച്ചിട്ടും യോഗ പരിശീലനത്തില്\\u200d മനസ്സുറക്കാതെ യോഗിയായി കഴിഞ്ഞിട്ടില്ലാ ത്തവന്\\u200d യോഗലക്ഷ്യം നേടാതെ ഏത് ഗതിയെ പ്രാപിക്കും. <EOS>\\n', 'അതുകൊണ്ട് യാതൊരുവന്റെ ഇന്ദ്രിയങ്ങള്\\u200d എല്ലാ വിഷയങ്ങളില്\\u200d നിന്നും നിശ്ശേഷം പിന്\\u200dവലിക്കപ്പെട്ടിരിക്കുന്നുവോ അവന്റെ പ്രജഞ പ്രതിഷ്ഠിതമായിരിക്കുന്നു. ഞാനാണ്. <EOS>\\n', 'ഓം തത്സദിതി ശ്രീമദ്ഭഗവദ്ഗീതാസൂപനിഷത്സു ബ്രഹ്മവിദ്യായ\\u200dാം യോഗശാസ്ത്രേ ശ്രീകൃഷ്ണാര്\\u200dജുനസംവാദേ വിഭൂതിയോഗോ നാമ ദശമോധ്യായഃ\" <EOS>\\n', 'അ\\u200dര്\\u200dജ്ജുന\\u200dന്\\u200dപറഞ്ഞു: പരമവും ഗൂഢവും ആദ്ധ്യാത്മികവുമായ അങ്ങയുടെ വാക്കുകളാ\\u200d\\u200dല്\\u200d എന്നെ അനുഗ്രഹിക്കയാല്\\u200d എന്റെ മോഹം നശിച്ചുപോയി. <EOS>\\n', 'ഹേ പാണ്ഡവാ, സന്യാസമെന്നു പറയുന്നത്\\u200c ഏതോ അതു തന്നെയാണ് യോഗമെന്നറിയുക. ഫലേച്ഛ വിടാതെ ഒരാളും യോഗിയായിത്തീരുന്നില്ല. <EOS>\\n', 'കൃഷ്ണാ! അങ്ങ് അങ്ങയെപ്പറ്റി പറഞ്ഞിട്ടുള്ളതൊക്കെയും അങ്ങനെതന്നെയുള്ളതാണ്. ഹേ പുരുഷോത്തമാ! എനിക്ക് അങ്ങയുടെ രൂപത്തെ കാണുവാന്\\u200d ആഗ്രഹമുണ്ട്. <EOS>\\n', 'കൃഷ്ണാ! എനിക്ക് ആ രൂപം കാണാവുന്നതാണെന്ന് അങ്ങ് വിചാരിക്കുന്നുവെങ്കി\\u200d\\u200dല്\\u200d അവ്യയനായ അങ്ങയെ എനിക്കു കാണിച്ചുതന്നാലും. <EOS>\\n', 'ഹേ ശത്രുധ്വംസകനായ ഭരതവംശജാ, ഇച്ഛാ, ദ്വേഷം എന്നിവയില്\\u200dനിന്നുണ്ടാകുന്ന ദ്വന്ദ്വമോഹത്താല്\\u200d സര്\\u200dവഭൂതങ്ങളും സൃഷ്ടിഗതിയില്\\u200d മോഹം പ്രാപിക്കുന്നു. <EOS>\\n', 'ഓം തത്സദിതി ശ്രീമദ്ഭഗവദ്ഗീതാസൂപനിഷത്സു ബ്രഹ്മവിദ്യായ\\u200dാം യോഗശാസ്ത്രേ ശ്രീകൃഷ്ണാര്\\u200dജുനസംവാദേ വിഭൂതിയോഗോ നാമ ദശമോധ്യായഃ\" <EOS>\\n', 'ചരാചരങ്ങളോടുകൂടിയ മഹാപ്രപഞ്ചത്തേയും നീ കാണുവാ\\u200c\\u200dന്\\u200d ആഗ്രഹിക്കുന്ന മറ്റുള്ളവയേയും എന്റെ ദേഹത്തി\\u200d\\u200dല്\\u200dഒന്നിച്ചു നി\\u200dല്\\u200dക്കുന്നത് ഇതാ നീ കാണുക. <EOS>\\n', 'അന്നത്തില്\\u200dനിന്നു ഭൂതങ്ങള്\\u200d ഉണ്ടാകുന്നു. മഴയില്\\u200dനിന്നു അന്നവും ഉദ്ഭവിക്കുന്നു. യജ്ഞത്തില്\\u200d നിന്നു മഴയുണ്ടാകുന്നു. യജ്ഞം ക\\u200d\\u200d\\u200dര്\\u200dമ്മത്തില്\\u200dനിന്നുണ്ടാകുന്നു. <EOS>\\n', 'ഇങ്ങിനെ പലതരം യജ്ഞങ്ങള്\\u200d ബ്രഹ്മാവിനാല്\\u200d വിവരിക്കപ്പെട്ടി ട്ടുണ്ട്. അവയെല്ല\\u200dാം ക\\u200dര്\\u200dമ്മത്തില്\\u200d നിന്നുഉളവാകുന്നവയാണ് എന്ന് അറയുക. അതെല്ല\\u200dാം ഇങ്ങിനെ മനസ്സിലാക്കുമ്പോള്\\u200d നീ മുക്തനായിത്തീരും. <EOS>\\n', 'ദുഃഖകരമാണെന്നു കരുതി ശരീരക്ലേശത്തെ ഒഴിവാക്കാനായി ത്യജിക്കുകയാണെങ്കില്\\u200d അത് രാജസികത്യാഗമാണ്. അതിലൂടെ ശരിയായ ത്യാഗത്തിന്റെ ഫലം ലഭിക്കുകയില്ല. <EOS>\\n', 'ആ മാഹാത്മാവിന്റെ (വിശ്വരൂപത്തിന്റെ) ശോഭ അനേകായിരം സൂര്യന്മാര്\\u200d ആകാശത്തി\\u200cല്\\u200d ഒരുമിച്ചുദിച്ചാലുണ്ടാകുന്ന പ്രകാശത്തിനു തുല്യമായിരുന്നു. <EOS>\\n', 'അപ്പോ\\u200dള്\\u200d അര്\\u200dജുന\\u200dന്\\u200d ഭഗവാന്\\u200d ശ്രീകൃഷ്ണന്റെ ആ ദേഹത്തി\\u200dല്\\u200d അനേകവിധത്തില്\\u200d വേര്\\u200dതിരിക്കപ്പെട്ടിട്ടുള്ള ലോകം മുഴുവ\\u200dന്\\u200d ഒന്നിച്ചുകണ്ടു. <EOS>\\n', 'കൃഷ്ണാ! അങ്ങയുടെ യോഗത്തേയും ഐശ്വര്യത്തേയും വീണ്ടും സവിസ്തരം പറഞ്ഞാലും. അങ്ങയുടെ അമൃതസമമായ വാക്കുക\\u200dള്\\u200d എത്ര കേട്ടിട്ടും എനിക്കു തൃപ്തിയാകുന്നില്ല. <EOS>\\n', 'എല്ലാഭാഗത്തും കൈകാലുകളോടും, എല്ലായിടത്തും നേത്രശിരോമുഖങ്ങളോടും, സ\\u200dര്\\u200dവത്ര ക\\u200dര്\\u200dണ്ണങ്ങളോടും കൂടിയ അത് സ\\u200dര്\\u200dവത്ര വ്യാപിച്ചു സ്ഥിതി ചെയ്യുന്നു. <EOS>\\n', 'വിശ്വരൂപനും വിശ്വേശ്വരനുമായ ഹേ ഭഗവ\\u200dന്\\u200d! ഞാ\\u200dന്\\u200d\\u200d നോക്കുന്നിടത്തൊക്കെയും അനേകം കൈകളും അനേകം ഉദരങ്ങളും അനേകം മുഖങ്ങളും അനേകം നേത്രങ്ങളുമുള്ളവനും അനന്തരൂപങ്ങളോടുകൂടിയവനുമായ അങ്ങയെ ഒരാളെ മാത്രമേ കാണുന്നുള്ളു. എന്നാ\\u200d\\u200dല്\\u200dഅവിടത്തെ അന്തമോ മദ്ധ്യമോ ആദിയോ ഞാനൊട്ടു കാണുന്നുമില്ല. <EOS>\\n', 'കിരീടം, ഗദ, ചക്രം എന്നിവ ധരിച്ചവനും തേജോമയനും നോക്കിക്കാണുവാ\\u200cന്\\u200d വയ്യാത്തവിധത്തില്\\u200d കത്തിജ്വലിക്കുന്ന അഗ്നിസുര്യന്മാരുടെ ശോഭയോടുകൂടിയവനും ആയ അങ്ങയെ ഞാ\\u200cന്\\u200dഎല്ലായിടത്തും കാണുന്നു. <EOS>\\n', 'യോഗയുക്തനായ തത്വജ്ഞൻ കാണുക, കേൾക്കുക, സ്പർശിക്കുക, മണക്കുക, ഭക്ഷിക്കുക, നടക്കുക, ഉറങ്ങുക, ശ്വസിക്കുക, സംസാരിക്കുക, മലമൂത്രവിസർജനം ചെയ്യുക, എടുക്കുക, കണ്ണുതുറക്കുക, കണ്ണടയ്ക്കുക, ഇവയൊക്കെ ചെയ്താലും ഇന്ദ്രിയങ്ങൾ വിഷയങ്ങളിൽ പ്രവർത്തിക്കുന്നു എന്ന് അറിഞ്ഞുകൊണ്ടുതന്നെ താൻ ഒന്നും ചെയ്യുന്നില്ല എന്ന് കരുതുന്നു. <EOS>\\n', 'ഹേ ഭാരത, തമസ്സ് അജ്ഞാനത്തില്\\u200d നിന്നുണ്ടാകുന്നതും എല്ലാ ദേഹികളെയും (ജീവന്മാരെയും) മോഹിപ്പിക്കുന്നതുമാണെന്നറിയൂ. അത് അശ്രദ്ധ, ആലസ്യം, ഉറക്ക എന്നിവയാല്\\u200d ദേഹിയെ ബന്ധിക്കുന്നു. <EOS>\\n', 'ഹേ ഭാരത, നീ ഈശ്വരനെത്തന്നെ സര്\\u200dവ്വഭാവത്തിലും ശരണമടഞ്ഞാലും. ഈശ്വരന്റെ പ്രസാദത്താല്\\u200d നീ പരമമായ ശാന്തിയെയും ശാശ്വതമായ പദത്തെയും പ്രാപിക്കും. <EOS>\\n', 'ഈ ദേവഗണങ്ങള്\\u200d അങ്ങയില്\\u200d പ്രവേശിക്കുന്നു. ചില\\u200dര്\\u200d ഭീതരായി കൈകൂപ്പി വാഴ്ത്തുന്നു. മഹ\\u200dര്\\u200dഷിമാരും സിദ്ധന്മാരും സ്വസ്\\u200dതി എന്നു പറഞ്ഞ് അ\\u200dര്\\u200dത്ഥപുഷ്ടിയുള്ള സ്ത്രോത്രങ്ങളാ\\u200c\\u200dല്\\u200d അങ്ങയെ സ്തുതിക്കയും ചെയ്യുന്നു. <EOS>\\n', 'രുദ്രന്മാ\\u200dരും ആദിത്യന്മാരും സാധ്യന്മാരും വിശ്വദേവന്മാരും അശ്വനീദേവന്മാരും മരുത്തുക\\u200dളും പിതൃദേവന്മാരും ഗന്ധ\\u200dര്\\u200dവന്മാ\\u200dരും യക്ഷന്മാ\\u200dരും അസുരന്മാ\\u200dരും സിദ്ധദേവന്മാരുമെല്ല\\u200dാം അങ്ങയെ അത്ഭുതപരതന്ത്രരായി നോക്കി നി\\u200dല്\\u200dക്കുന്നു. <EOS>\\n', 'ഹേ ഭാരത, തമസ്സ് അജ്ഞാനത്തില്\\u200d നിന്നുണ്ടാകുന്നതും എല്ലാ ദേഹികളെയും (ജീവന്മാരെയും) മോഹിപ്പിക്കുന്നതുമാണെന്നറിയൂ. അത് അശ്രദ്ധ, ആലസ്യം, ഉറക്ക എന്നിവയാല്\\u200d ദേഹിയെ ബന്ധിക്കുന്നു. <EOS>\\n', 'ശ്രീകൃഷ്ണ\\u200dന്\\u200dപറഞ്ഞു: അ\\u200dര്\\u200dജ്ജുനാ! സംപ്രീതനായ നിന്റെ ഹിതമാഗ്രഹിച്ചുകൊണ്ട് ഞാന്\\u200d ഓരോന്നായി വിശദീകരിക്കുന്നതു കേട്ടാലും. <EOS>\\n', 'ഹേ പാര്\\u200dത്ഥ, യാതോരുവന്റെ ഉള്ളിലാണോ ഭൂതങ്ങ\\u200d\\u200dള്\\u200d സ്ഥിതിചെയ്യുന്നത്\\u200d, യാതോരുവനാല്\\u200d ഇതെല്ല\\u200dാം വ്യാപ്തമായിരി ക്കുന്നുവോ ആ പരമപുരുഷനെ ഏകാന്തഭക്തികൊണ്ട് പ്രാപിക്കാവുന്നതാണ്. <EOS>\\n', 'ഹേ കുന്തിസുതാ! ആദിയും നാശവും ഇല്ലാത്തതിനാല്\\u200d ഈ പരമാത്മാവ് ശരീരത്തി\\u200dല്\\u200d സ്ഥിതിചെയ്യുന്നുവെങ്കിലും യാതൊന്നും ചെയ്യുകയൊ ഒന്നിനോടും സക്തനാകുകയോ ചെയ്യുന്നില്ല. <EOS>\\n', 'അര്\\u200dജുനന്\\u200d ചോദിച്ചു: ഹേ കേശവാ, സമാധിസ്ഥനായ സ്ഥിതപ്രജഞന്റെ ലക്ഷണമെന്താണ്? സ്ഥിതപ്രജ്ഞന്\\u200d എന്ത് സംസാരിക്കും? എങ്ങിനെ സ്ഥിതിചെയ്യും? എങ്ങിനെ സഞ്ചരിക്കും? <EOS>\\n', 'പാറ്റക\\u200dള്\\u200d എങ്ങനെ നശിക്കാനായിട്ടുതന്നെ കത്തിക്കാളുന്ന തീയി\\u200dല്\\u200dച്ചെന്നു വേഗത്തില്\\u200d വീഴുന്നുവോ, അതുപോലെ തന്നെ ഈ ജനങ്ങളും നാശത്തിനായി അതിവേഗത്തോടെ അവിടുത്തെ വക്\\u200cത്രങ്ങളി\\u200d\\u200dല്\\u200d പ്രവേശിക്കുന്നു. <EOS>\\n', 'ജ്വലിക്കുന്ന മുഖങ്ങളാല്\\u200d എല്ലാ ലോകങ്ങളെയും വിഴുങ്ങിക്കൊണ്ട് അങ്ങ് ചുണ്ടുകള്\\u200d തുടയ്ക്കുന്നു.അവിടുത്തെ ഉഗ്രകിരണങ്ങ\\u200dള്\\u200d ലോകത്തെ മുഴുവന്\\u200d തേജോപൂരമാക്കിക്കൊണ്ട് അതിനെ തപിപ്പിക്കുന്നു. <EOS>\\n', 'ഹേ മഹാനായ ദേവ! ഉഗ്രരൂപത്തോടുകൂടിയ ഭവാന്\\u200d ആരാണെന്നു പറഞ്ഞാലും. അങ്ങേയ്\\u200dക്കു നമസ്\\u200dകാരം! എന്നി\\u200dല്\\u200d പ്രസാദിക്കുമാറാകണേ! ആദിപുരുഷനായ ഭഗവാനെപ്പറ്റി വേണ്ടതി\\u200dന്\\u200dവണ്ണം മനസ്സിലാക്കണമെന്നു ഞാനാഗ്രഹിക്കുന്നു. അവിടുത്തെ പ്രവൃത്തിയെ (ഉദ്ദേശത്തെ)ക്കുറിച്ച് എനിക്കറിഞ്ഞുകൂടാ. <EOS>\\n', 'ശ്രീകൃഷ്ണ\\u200dന്\\u200d പറഞ്ഞു: ഞാന്\\u200d ലോകത്തെ നശിപ്പിക്കുന്ന കാലം (കാല\\u200dന്\\u200d) ആകുന്നു. ഞാന്\\u200d ലോകസംഹാരകൃത്യത്തി\\u200dല്\\u200d ഏര്\\u200dപ്പെട്ടിരിക്കയാണ്. നീയില്ലെങ്കിലും (നീ യുദ്ധം ചെയ്തില്ലെങ്കിലും) ഇവിടെക്കൂടിയിരിക്കുന്ന ശത്രുപക്ഷത്തിലെ യോദ്ധാക്ക\\u200dളാരും ജീവിച്ചിരിക്കുകയില്ല. <EOS>\\n', 'പാറ്റക\\u200dള്\\u200d എങ്ങനെ നശിക്കാനായിട്ടുതന്നെ കത്തിക്കാളുന്ന തീയി\\u200dല്\\u200dച്ചെന്നു വേഗത്തില്\\u200d വീഴുന്നുവോ, അതുപോലെ തന്നെ ഈ ജനങ്ങളും നാശത്തിനായി അതിവേഗത്തോടെ അവിടുത്തെ വക്\\u200cത്രങ്ങളി\\u200d\\u200dല്\\u200d പ്രവേശിക്കുന്നു. <EOS>\\n', 'അര്\\u200dജുനന്\\u200d പറഞ്ഞു: കൃഷ്ണാ, യുദ്ധം ചെയ്യാന്\\u200d ഒരുങ്ങി നില്ക്കുന്ന ഈ സ്വജനങ്ങളെ കണ്ടിട്ട് എന്റെ ശരീരമാസകലം തളരുന്നു; വായ് വരളുകയും ചെയ്യുന്നു. <EOS>\\n', 'സഞ്ജയ\\u200dന്\\u200dപറഞ്ഞു: ശ്രീകൃഷ്ണന്റെ ഈ വാക്കുകള്\\u200d കേട്ടിട്ട് അ\\u200dര്\\u200dജ്ജുന\\u200dന്\\u200d വിറച്ചുകൊണ്ട് ഭയത്തോടുകൂടി വീണ്ടും കൈകൂപ്പിത്തൊഴുതു പിന്നെയും പറഞ്ഞു: <EOS>\\n', 'രാഗം, ഭയം, കോപം ഇവ കൈവിട്ടവരും എന്റെ ഭക്തന്മാരും എന്നെ ആശ്രയിച്ചവരുമായ വളരെപ്പേര്\\u200d ജ്ഞാനമാകുന്ന തപസുകൊണ്ടു പരിശുദ്ധരായിത്തീര്\\u200dന്നു എന്നെ പ്രാപിച്ചിട്ടുണ്ട്. <EOS>\\n', 'ഒരാള്\\u200d ഇവനെ (ആത്മാവിനെ) ഒരു അത്ഭുതവസ്തു പോലെ കാണുന്നു. മറ്റൊരാള്\\u200d അതുപോലെ അത്ഭുതവസ്തുപോലെ ഇവനെക്കുറിച്ച് പറയുന്നു. വേറൊരാള്\\u200d അത്ഭുതവസ്തു പോലെ ഇവനെക്കുറിച്ച് കേള്\\u200dക്കുകയും ചെയ്യുന്നു. ശ്രവിച്ചിട്ടും ഒരാളും വേണ്ടവണ്ണം ഇവനെ അറിയുന്നില്ല. <EOS>\\n', 'കലുഷം ക്ഷയിച്ചവരും സംശയഹീനരും മനോജയം നേടിയവരും സർവഭൂതങ്ങളുടെയും ക്ഷേമത്തിൽ തൽപരരുമായ ഋഷിമാർ ബ്രഹ്മാനന്ദം നേടുന്നു. <EOS>\\n', 'മഹാബാഹോ, ഇപ്രകാരം ബുദ്ധിയേക്കാള്\\u200d സൂക്ഷ്മമായ ആത്മാവിനെ അറിഞ്ഞിട്ട് ബുദ്ധികൊണ്ട് മനസ്സിനെ അടക്കിയിട്ട് കീഴടക്കാന്\\u200d എളുപ്പമല്ലാത്ത കാമരൂപനും ദുര്\\u200dജയനുമായ ഈ ശത്രുവിനെ നശിപ്പിക്കുക. <EOS>\\n', 'ഹേ സ\\u200dര്\\u200dവാത്മ\\u200dന്\\u200d, അങ്ങനെ മുന്നിലും പിന്നിലും നിന്ന് ഞാ\\u200cന്\\u200d നമസ്\\u200dകരിക്കുന്നു. എല്ലാഭാഗത്തും അങ്ങേയ്ക്കു നമസ്\\u200dകാരം. അളവറ്റ വീരവും അതിരറ്റ പരാക്രമവും ഉള്ളവനായ അങ്ങ് ലോകം മുഴുവ\\u200dന്\\u200d വ്യാപിച്ചവനായിരിക്കുന്നു. അതിനാല്\\u200d എല്ല\\u200dാം അങ്ങ് തന്നെയാകുന്നു. <EOS>\\n', 'ഹേ ഭാരത, തമസ്സ് അജ്ഞാനത്തില്\\u200d നിന്നുണ്ടാകുന്നതും എല്ലാ ദേഹികളെയും (ജീവന്മാരെയും) മോഹിപ്പിക്കുന്നതുമാണെന്നറിയൂ. അത് അശ്രദ്ധ, ആലസ്യം, ഉറക്ക എന്നിവയാല്\\u200d ദേഹിയെ ബന്ധിക്കുന്നു. <EOS>\\n', 'എന്റെ ഈ ഐശ്വര്യത്തേയും യോഗത്തേയും ശരിയായി അറിയുന്നവ\\u200dന്\\u200d നിശ്ചലമായ ഏകാഗ്രനിഷ്ഠയോടുകൂടിയവനാണ്; അതി\\u200cല്\\u200d\\u200d സംശയമില്ല. <EOS>\\n', 'അതുല്യശക്തിയുള്ള ഹേ ഭഗവ\\u200dന്\\u200d\\u200d! അങ്ങ് ചരാചരാത്മകമായ ഈ ജഗത്തിന്റെ പിതാവാകുന്നു. അങ്ങ് ഈ ജഗത്തിനു പുജ്യനും ശ്രേഷ്ഠനായ ഗുരുവുമാകുന്നു. മൂന്നു ലോകങ്ങളിലും അങ്ങയ്ക്കു തുല്യനായിട്ടൊരാളുമില്ല. അപ്പോള്\\u200d അതുലിതശക്തിയുള്ള അങ്ങയെ വെല്ലാന്\\u200d ആരാണുള്ളത്? <EOS>\\n', 'ഹേ ദേവ! അതിനാ\\u200dല്\\u200d ഞാന്\\u200d നിന്തിരുവടിയെ വണങ്ങി സ്തുത്യനും ലോകനാഥനും ആയ അങ്ങയോട് എന്നില്\\u200d പ്രസാദിക്കണേ എന്ന് അപേക്ഷിക്കുന്നു. പിതാവ് പുത്രന്റെയും, സ്നേഹിത\\u200dന്\\u200d സുഹൃത്തിന്റെയും, ഭ\\u200dര്\\u200dത്താവ് ഭാര്യയുടെയും അപരാധങ്ങളും ക്ഷമിക്കുമ്പോലെ അങ്ങ് എന്റെ അപരാധത്തെയും ക്ഷമിക്കണം. <EOS>\\n', 'അതുല്യശക്തിയുള്ള ഹേ ഭഗവ\\u200dന്\\u200d\\u200d! അങ്ങ് ചരാചരാത്മകമായ ഈ ജഗത്തിന്റെ പിതാവാകുന്നു. അങ്ങ് ഈ ജഗത്തിനു പുജ്യനും ശ്രേഷ്ഠനായ ഗുരുവുമാകുന്നു. മൂന്നു ലോകങ്ങളിലും അങ്ങയ്ക്കു തുല്യനായിട്ടൊരാളുമില്ല. അപ്പോള്\\u200d അതുലിതശക്തിയുള്ള അങ്ങയെ വെല്ലാന്\\u200d ആരാണുള്ളത്? <EOS>\\n', 'മുമ്പത്തെ മട്ടി\\u200d\\u200dല്\\u200dതലയില്\\u200d കിരീടവും, കൈകളില്\\u200d ഗദയും, ചക്രവും ധരിച്ചിട്ടുള്ള അവിടുത്തെ രൂപത്തെ ഞാന്\\u200d കാണ്മാനാഗ്രഹിക്കുന്നു. അസംഖ്യം ബാഹുക്കളോടുകൂടിയ ഭഗവാനേ, ചതു\\u200dര്\\u200dഭുജത്തോടു കൂടിയ ആ പഴയ രൂപത്തെത്തന്നെ പ്രാപിച്ചാലും! <EOS>\\n', 'എന്നാല്\\u200d ആ അവ്യക്തത്തിനുമപ്പുറത്ത് സനാതനമായ മറ്റൊരവ്യക്തഭാവമുണ്ട്. ഏതൊന്നാണോ എല്ലാ ഭൂതങ്ങളും നശിക്കുമ്പോഴും നശിക്കാതിരിക്കുന്നത് അത് ആ രണ്ടാമത് പറഞ്ഞ അവ്യക്തമാണ്. <EOS>\\n', 'ഹേ കൗരവശ്രേഷ്ഠ! ഈ മനുഷ്യലോകത്തി\\u200dല്\\u200dനീയൊഴിച്ചു മറ്റൊരു ത്തനും എന്റെ ഈ രുപം വേദാധ്യയനത്താലോ യോഗാനുഷ്ഠാനം കൊണ്ടോ ദാനങ്ങ\\u200dള്\\u200d, ഉഗ്രതപസ്സുക\\u200dള്\\u200d, സ\\u200dല്\\u200dക്രിയക\\u200dള്\\u200d മുതലായവ കൊണ്ടോ കാണപ്പെടുവാ\\u200cന്\\u200dകഴിയുന്നതല്ല. <EOS>\\n', 'ഓം തത്സദിതി ശ്രീമദ്ഭഗവദ്ഗീതാസൂപനിഷത്സു ബ്രഹ്മവിദ്യായ\\u200dാം യോഗശാസ്ത്രേ ശ്രീകൃഷ്ണാര്\\u200dജുനസംവാദേ വിഭൂതിയോഗോ നാമ ദശമോധ്യായഃ\" <EOS>\\n', 'ധനഞജയാ, യോഗത്താല്\\u200d കര്\\u200dമ്മങ്ങള്\\u200d ഉപേക്ഷിച്ചവനും ജ്ഞാനംകൊണ്ടു സംശയങ്ങള്\\u200d നിഃശേഷം തീര്\\u200dന്നവനും ആത്മനിഷ്ഠനുമായവനെ കര്\\u200dമ്മങ്ങള്\\u200d ഒരുവിധത്തിലും ബന്ധിക്കുന്നില്ല. <EOS>\\n', 'ഞാന്\\u200d പ്രാണികളുടെ ശരീരങ്ങളില്\\u200d അഗ്നിയുടെ രൂപത്തിലിരുന്ന് പ്രാണന്\\u200d, അപാനന്\\u200d എന്നിവയോടു ചേര്\\u200dന്ന് നാലുതരത്തിലുള്ള ഭക്ഷണത്തെയും ദഹിപ്പിക്കുന്നു. <EOS>\\n', 'ശ്രീകൃഷ്ണ\\u200dന്\\u200d പറഞ്ഞു: ദേവന്മാ\\u200dര്\\u200dപോലും എന്നും ദ\\u200dര്\\u200dശിക്കുവാ\\u200d\\u200dന്\\u200d അതിയായി ആഗ്രഹിച്ചു കൊണ്ടിരിക്കുന്നതും, ദ\\u200dര്\\u200dശിപ്പാ\\u200cന്\\u200d പ്രയാസമായിട്ടുള്ളതും ആയ എന്റെ ഈ രൂപത്തെ നീ കണ്ടുവല്ലോ. <EOS>\\n', 'ഹേ മഹാനായ ദേവ! ഉഗ്രരൂപത്തോടുകൂടിയ ഭവാന്\\u200d ആരാണെന്നു പറഞ്ഞാലും. അങ്ങേയ്\\u200dക്കു നമസ്\\u200dകാരം! എന്നി\\u200dല്\\u200d പ്രസാദിക്കുമാറാകണേ! ആദിപുരുഷനായ ഭഗവാനെപ്പറ്റി വേണ്ടതി\\u200dന്\\u200dവണ്ണം മനസ്സിലാക്കണമെന്നു ഞാനാഗ്രഹിക്കുന്നു. അവിടുത്തെ പ്രവൃത്തിയെ (ഉദ്ദേശത്തെ)ക്കുറിച്ച് എനിക്കറിഞ്ഞുകൂടാ. <EOS>\\n', 'ശ്രീ ഭഗവാന്\\u200d പറഞ്ഞു: ഹേ അനഘ (പാപങ്ങളില്ലാത്തവന്\\u200d), ഈ ലോകത്തില്\\u200d സംഖ്യന്മാര്\\u200dക്ക് വേണ്ടി ജഞാനയോഗം കൊണ്ടും യോഗികള്\\u200dക്കു വേണ്ടി ക\\u200d\\u200d\\u200dര്\\u200dമ്മയോഗം കൊണ്ടും രണ്ടുവിധം നിഷ്ഠകള്\\u200d മുമ്പ് ഞാന്\\u200d പറഞ്ഞു. <EOS>\\n', 'സമലക\\u200dര്\\u200dമ്മങ്ങളേയും എന്നില്\\u200d സമ\\u200dര്\\u200dപ്പിച്ച് എന്നെ ആശ്രയമായി ക്കരുതി, അന്യവിഷയങ്ങളില്\\u200d നിന്ന് വിട്ട്, ഏകാഗ്രചിത്തതയോടു കൂടി എന്നെ ധ്യാനിക്കുന്നവരാരോ, എന്നി\\u200cല്\\u200d ഉറപ്പിച്ച മനസ്സോടു കൂടിയവരായ അവരെ ഞാ\\u200d\\u200dന്\\u200d അചിരേണ സംസാരസമുദ്രത്തി\\u200cല്\\u200d നിന്നു കരകയറ്റി രക്ഷിക്കുന്നതായിരിക്കും. <EOS>\\n', 'ആ ക്ഷേത്രം എന്നാ\\u200dല്\\u200dഎന്ത്? ഏത്? എങ്ങനെയുള്ളത്? എന്തു വികാരങ്ങളുള്ളത്? ഏതില്\\u200d നിന്നുണ്ടായത്? ആ ക്ഷേത്രജ്ഞ\\u200dന്\\u200d ആര്? അദ്ദേഹത്തിന്റെ പ്രഭാവമെന്ത്? ഇവയെല്ല\\u200dാം ഞാന്\\u200d ചുരുക്കിപ്പറയുന്നത് നീ കേട്ടാലും. <EOS>\\n', 'ശ്രീ ഭഗവാന്\\u200d പറഞ്ഞു: ഹേ അനഘ (പാപങ്ങളില്ലാത്തവന്\\u200d), ഈ ലോകത്തില്\\u200d സംഖ്യന്മാര്\\u200dക്ക് വേണ്ടി ജഞാനയോഗം കൊണ്ടും യോഗികള്\\u200dക്കു വേണ്ടി ക\\u200d\\u200d\\u200dര്\\u200dമ്മയോഗം കൊണ്ടും രണ്ടുവിധം നിഷ്ഠകള്\\u200d മുമ്പ് ഞാന്\\u200d പറഞ്ഞു. <EOS>\\n', 'ശ്രീകൃഷ്ണ\\u200dന്\\u200dപറഞ്ഞു: ആര് എന്നി\\u200d\\u200dല്\\u200dമനസ്സുറപ്പിച്ചു സ്ഥിരമായ നിഷ്ഠയോടും ശ്രേഷ്ഠമായ ശ്രദ്ധയോടും കുടി എന്നെ ആരാധിക്കുന്നുവോ അവരാണ് യോഗത്തില്\\u200d ശ്രേഷ്ഠന്മാരെന്നാണ് എന്റെ അഭിപ്രായം. <EOS>\\n', 'യാതൊരുത്ത\\u200dര്\\u200d, നാശമില്ലാത്തതും, ഇന്നവിധത്തിലുള്ളതാണെന്നു വിവരിക്കുവാ\\u200d\\u200dന്\\u200dവയ്യാത്തതും, അവ്യക്തവും സ\\u200dര്\\u200dവവ്യാപ്തവുമായി രിക്കുന്നതും ചിന്തിച്ചറിയിപ്പാ\\u200d\\u200dന്\\u200d പ്രയാസമായിട്ടുള്ളതും മാറ്റം വരാത്തതും അനാദിയായിട്ടുള്ളതും ആയ ബ്രഹ്മത്തെ ഭജിക്കുകയും, ഇന്ദ്രിയങ്ങളെ അടക്കി സ\\u200dര്\\u200dവത്ര സമബുദ്ധിയോടും സ\\u200dര്\\u200dവഭൂതങ്ങ\\u200dള്\\u200dക്കും നന്മയെച്ചെയ്\\u200dവാനുള്ള താ\\u200dല്\\u200dപര്യത്തോടുംകൂടി വ\\u200dര്\\u200dത്തിക്കുകയും ചെയ്യുന്നുവോ അവ\\u200dര്\\u200d എന്നെത്തന്നെ പ്രാപിക്കുന്നു. <EOS>\\n', 'അവ്യക്തബ്രഹ്മത്തി\\u200cല്\\u200d മനസ്സുറപ്പിച്ചു നി\\u200dര്\\u200dഗുണോപാസന ചെയ്യുന്നവ\\u200dര്\\u200dക്ക് വളരെയധികം ക്ലേശം ഉണ്ടാകുന്നതാണ്. എന്തുകൊണ്ടെന്നാ\\u200d\\u200dല്\\u200d ദേഹിക\\u200dള്\\u200dക്ക് അവ്യക്തബ്രഹ്മത്തെ ഉപാസിക്കുന്നത് തുലോം ദുഷ്കരമായിട്ടുള്ളതാകുന്നു. <EOS>\\n', 'സമലക\\u200dര്\\u200dമ്മങ്ങളേയും എന്നില്\\u200d സമ\\u200dര്\\u200dപ്പിച്ച് എന്നെ ആശ്രയമായി ക്കരുതി, അന്യവിഷയങ്ങളില്\\u200d നിന്ന് വിട്ട്, ഏകാഗ്രചിത്തതയോടു കൂടി എന്നെ ധ്യാനിക്കുന്നവരാരോ, എന്നി\\u200cല്\\u200d ഉറപ്പിച്ച മനസ്സോടു കൂടിയവരായ അവരെ ഞാ\\u200d\\u200dന്\\u200d അചിരേണ സംസാരസമുദ്രത്തി\\u200cല്\\u200d നിന്നു കരകയറ്റി രക്ഷിക്കുന്നതായിരിക്കും. <EOS>\\n', 'മനസ്സിനെ എന്നി\\u200dല്\\u200dതന്നെ നിലനി\\u200dര്\\u200dത്തുക; സ്ഥിരമായി എന്നി\\u200cല്\\u200dതന്നെ ബുദ്ധിയെ ചെലുത്തുക; അങ്ങനെ ചെയ്താല്\\u200d നീ എന്നില്\\u200d തന്നെ നിവസിക്കും, സംശയമില്ല. <EOS>\\n', 'ഇനി എന്നില്\\u200d സ്ഥിരമായി ചിത്തം നി\\u200dര്\\u200dത്തുവാ\\u200cന്\\u200d ശക്തിയില്ലാത്ത പക്ഷം പിന്നെ അഭ്യാസയോഗത്താ\\u200c\\u200dല്\\u200d എന്നെ പ്രാപിക്കുവാ\\u200d\\u200dന്\\u200d നോക്കണം. <EOS>\\n', 'അഭ്യാസത്തിലും നീ അശക്തനാണെങ്കി\\u200dല്\\u200d എന്നെ ഉദ്ദേശിച്ചു ക\\u200dര്\\u200dമ്മം ചെയ്യുക. എന്നെയുദ്ദേശിച്ചു ക\\u200dര്\\u200dമ്മം ചെയ്\\u200dതാലും നിനക്കു സിദ്ധിയെ പ്രാപിക്കാവുന്നതാണ്. <EOS>\\n', 'ഇതിനും നിനക്കു ശക്തിയില്ലെങ്കി\\u200d\\u200dല്\\u200d എന്നെ ശരണം പ്രാപിച്ച് ആത്മസംയമനം ചെയ്ത് സകല ക\\u200dര്\\u200dമ്മങ്ങളും ഫലേച്ഛ കൂടാതെ ചെയ്യുക. <EOS>\\n', 'അതുല്യശക്തിയുള്ള ഹേ ഭഗവ\\u200dന്\\u200d\\u200d! അങ്ങ് ചരാചരാത്മകമായ ഈ ജഗത്തിന്റെ പിതാവാകുന്നു. അങ്ങ് ഈ ജഗത്തിനു പുജ്യനും ശ്രേഷ്ഠനായ ഗുരുവുമാകുന്നു. മൂന്നു ലോകങ്ങളിലും അങ്ങയ്ക്കു തുല്യനായിട്ടൊരാളുമില്ല. അപ്പോള്\\u200d അതുലിതശക്തിയുള്ള അങ്ങയെ വെല്ലാന്\\u200d ആരാണുള്ളത്? <EOS>\\n', 'ചരാചരങ്ങളോടുകൂടിയ മഹാപ്രപഞ്ചത്തേയും നീ കാണുവാ\\u200c\\u200dന്\\u200d ആഗ്രഹിക്കുന്ന മറ്റുള്ളവയേയും എന്റെ ദേഹത്തി\\u200d\\u200dല്\\u200dഒന്നിച്ചു നി\\u200dല്\\u200dക്കുന്നത് ഇതാ നീ കാണുക. <EOS>\\n', 'ആരെ ലോകം ഭയപ്പെടുന്നില്ലയോ, ആ\\u200d\\u200cര് ലോകത്തെയും ഭയപ്പെടുന്നില്ലയോ, ആര് സന്തോഷം, ദ്വേഷം, ഭയം, ക്ഷോഭം മുതലായവയാല്\\u200d വേ\\u200dര്\\u200dപെട്ടിരിക്കുന്നുവോ, അവനും എനിക്ക് പ്രിയപ്പെട്ടവനാകുന്നു. <EOS>\\n', 'അപേക്ഷയില്ലാത്തവനും ശുദ്ധിയുള്ളവനും സമ\\u200dര്\\u200dത്ഥനും ആസക്തി യില്ലാത്തവനും ദുഃഖമില്ലാത്തവനും സ്വാ\\u200dര്\\u200dത്ഥപ്രവൃത്തികളെ പരിത്യജിച്ചവനുമായ ഭക്ത\\u200dന്\\u200d എനിക്കു പ്രിയ\\u200dന്\\u200d തന്നെ. <EOS>\\n', 'സന്തോഷിക്കുകയോ ദ്വേഷിക്കുകയോ ദുഃഖിക്കുകയോ ആഗ്രഹിക്കു കയോ ചെയ്യാത്തവനും സുകൃതദുഷ്\\u200dകൃതങ്ങളെ കൈവിട്ടവനും നിറഞ്ഞ ഭക്തിയുള്ളവനുമായവന്\\u200d എനിക്ക് പ്രിയപ്പെട്ടവനത്രേ. <EOS>\\n', 'ഭയംകൊണ്ടു യുദ്ധത്തില്\\u200dനിന്നും പിന്തിരിഞ്ഞവനായി മഹാരഥന്മാര്\\u200d നിന്നെ കണക്കാക്കും. അവര്\\u200dക്കെല്ല\\u200dാം ബഹുമാന്യനായി ഇരിക്കുന്ന നീ പ്രവര്\\u200dത്തിക്കേണ്ടതാണ്. <EOS>\\n', 'ഇപ്പറഞ്ഞ ഈ ധ\\u200dര്\\u200dമ്മമാ\\u200dര്\\u200dഗ്ഗത്തെ പറഞ്ഞതി\\u200dന്\\u200d വണ്ണം ശ്രദ്ധയോടും എന്നില്\\u200d ശരണബുദ്ധിയോടും കൂടി അനുഷ്ഠിക്കുന്ന ഭക്തന്മാര്\\u200d എനിക്ക് ഏറ്റവും പ്രിയപ്പെട്ടവരത്രേ. <EOS>\\n', 'ശ്രീകൃഷ്ണ\\u200dന്\\u200d പറഞ്ഞു: ഹേ അ\\u200dര്\\u200dജ്ജുനാ, ഈ ശരീരത്തെ ക്ഷേത്രം എന്നു പറയുന്നു. ഈ ക്ഷേത്രത്തെ അറിയുന്നവനെ ക്ഷേത്രജ്ഞ\\u200dന്\\u200d എന്നും ഇതിനെ അറിയുന്നവ\\u200dര്\\u200d പറയുന്നു. <EOS>\\n', 'ശ്രീകൃഷ്ണ\\u200dന്\\u200d പറഞ്ഞു: ഹേ അ\\u200dര്\\u200dജ്ജുനാ, ഈ ശരീരത്തെ ക്ഷേത്രം എന്നു പറയുന്നു. ഈ ക്ഷേത്രത്തെ അറിയുന്നവനെ ക്ഷേത്രജ്ഞ\\u200dന്\\u200d എന്നും ഇതിനെ അറിയുന്നവ\\u200dര്\\u200d പറയുന്നു. <EOS>\\n', 'ഹേ പാര്\\u200dത്ഥ, ഈ വാക്കുകള്\\u200d കേട്ടിട്ട് അ\\u200dര്\\u200dജ്ജുന\\u200dന്\\u200d വിറച്ചുകൊണ്ട് ഭയത്തോടുകൂടി വീണ്ടും കൈകൂപ്പിത്തൊഴുതു പിന്നെയും പറഞ്ഞു: <EOS>\\n', 'ആ ക്ഷേത്രം എന്നാ\\u200dല്\\u200dഎന്ത്? ഏത്? എങ്ങനെയുള്ളത്? എന്തു വികാരങ്ങളുള്ളത്? ഏതില്\\u200d നിന്നുണ്ടായത്? ആ ക്ഷേത്രജ്ഞ\\u200dന്\\u200d ആര്? അദ്ദേഹത്തിന്റെ പ്രഭാവമെന്ത്? ഇവയെല്ല\\u200dാം ഞാന്\\u200d ചുരുക്കിപ്പറയുന്നത് നീ കേട്ടാലും. <EOS>\\n', 'ഋഷീശ്വരന്മാരാ\\u200d\\u200dല്\\u200d പല ഛന്ദസ്സുക\\u200cള്\\u200dകൊണ്ടും ബ്രഹ്മസൂത്രപദങ്ങ\\u200dള്\\u200d കൊണ്ടും യുക്തിയുക്തമായും സുനിശ്ചിതമായും ഇതു പല വിധത്തിലും വ\\u200dര്\\u200dണ്ണിക്കപ്പെട്ടിരിക്കുന്നു. <EOS>\\n', 'മഹാഭുതങ്ങ\\u200dള്\\u200d (വിഭജിക്കപ്പെടാതെയുള്ള കേവലങ്ങളായ സുക്ഷ്മതന്മാത്രക\\u200dള്\\u200d) ബുദ്ധി (ഞാനെന്ന ബോധത്തിനു കാരണമായ നിശ്ചയാത്മകമായ ബുദ്ധി)അവ്യക്തം (ബുദ്ധിക്കു കാരണമായ മൂലപ്രകൃതി – മായ) ജ്ഞാനേന്ദ്രിയങ്ങ\\u200dള്\\u200d (കണ്ണ്, കാത്, മൂക്ക്, നാവ്, ത്വക്ക്) ക\\u200dര്\\u200dമ്മേന്ദ്രിയങ്ങ\\u200dള്\\u200d (വാക്\\u200dപാണിപാദപായൂപസ്ഥങ്ങ\\u200dള്\\u200d) ഇന്ദ്രിയവിഷയങ്ങ\\u200dള്\\u200d \\u200d(രൂപം, രസം, ഗന്ധം, ശബ്ദം, സ്പ\\u200dര്\\u200dശം) ഇച്ഛാ, ദ്വേഷം, സുഖം, ദുഃഖം, ചേതന, ധൈര്യം എന്നിവ അടങ്ങിയിട്ടുള്ള വികാരവത്തായ സാധനം ക്ഷേത്രമെന്നു പറയപ്പെടുന്നു. <EOS>\\n', 'ആത്മപ്രശംസ ചെയ്യായ്ക, ഡംഭമില്ലയ്\\u200dമ, ഹിംസിക്കാതിരിക്കുക, ക്ഷമ, ഋജുത്വം (കളവില്ലായ്മ), ഗുരുശുശ്രുഷ, ശുചിത്വ, സ്ഥിരനിഷ്\\u200dഠ, അടക്കം, ഇന്ദ്രിയവിഷയങ്ങളില്\\u200d വിരക്തി, അഹങ്കാരരാഹിത്യം, ജനനം, മരണം, ജര, വ്യാധി, ദുഃഖം, ദോഷം എന്നിവയെപ്പറ്റിയുള്ള സൂക്ഷ്മബോധം, ഒന്നിലും സക്തിയില്ലായ്മ, പുത്രകളത്രഗൃഹാദിക\\u200dളില്\\u200d മനസ്സൊട്ടാതിരിക്കുക, ഇഷ്ടവസ്തു കിട്ടിയാലും അനിഷ്ടവസ്തു കിട്ടിയാലും ഒരേഭാവത്തി\\u200cല്\\u200d\\u200d വര്\\u200dത്തിക്കുക, എന്നി\\u200c\\u200cല്\\u200d അനന്യവും അചഞ്ചലമായ ഭക്തിയുണ്ടായിരിക്കുക, ഒഴിഞ്ഞ ഏകാന്ത ദേശത്തി\\u200d\\u200dല്\\u200dതാമസിക്കുക, ജനമദ്ധ്യത്തിലിരിക്കാ\\u200d\\u200dന്\\u200d ഇഷ്ടപ്പെടായ്\\u200dക, ആത്മജ്ഞാനത്തില്\\u200d നിഷ്ഠ, തത്ത്വജ്ഞാനത്തിന്റെ സാരം അറിയുക എന്നിവയാണ് ജ്ഞാനമെന്ന് പറയപ്പെടുന്നത്. ഇതി\\u200d\\u200dല്\\u200dനിന്നു ഭിന്നമായിട്ടൂള്ളത് അജ്ഞാനവുമാകുന്നു. <EOS>\\n', 'ശ്രീ ഭഗവാന്\\u200d പറഞ്ഞു: ബ്രഹ്മം സ\\u200dവ്വോത്കൃഷ്ടവും അക്ഷരവും (അനശ്വരവും) ആകുന്നു. അധ്യാത്മം സ്വഭാവമാണെന്ന് പറയപ്പെടുന്നു. സകലജീവജാലങ്ങളും ഉദ്ഭവത്തിന് കാരണമായ വിശിഷ്ടമായ സൃഷ്ടിവ്യാപാരമാണ് ക\\u200dര്\\u200dമ്മമെന്നറിയപ്പെടുന്നത്. <EOS>\\n', 'എല്ലാഭാഗത്തും കൈകാലുകളോടും, എല്ലായിടത്തും നേത്രശിരോമുഖങ്ങളോടും, സ\\u200dര്\\u200dവത്ര ക\\u200dര്\\u200dണ്ണങ്ങളോടും കൂടിയ അത് സ\\u200dര്\\u200dവത്ര വ്യാപിച്ചു സ്ഥിതി ചെയ്യുന്നു. <EOS>\\n', 'ഇന്ദ്രിയങ്ങളില്ലാതെ തന്ന ഇന്ദ്രിയഗുണങ്ങളാ\\u200dല്\\u200d പ്രശോഭിക്കുന്നതും, ഒന്നിലും ബന്ധപ്പെടുന്നില്ലെങ്കിലും എല്ലാറ്റിനേയും ഭരിച്ചുകൊണ്ടിരിക്കുന്നതും, ഗുണമില്ലാതെ ഗുണങ്ങളെ അനുഭവിക്കുന്നതും, ജീവരാശികളുടെ ഉള്ളിലും പുറത്തും സ്ഥിതിചെയ്യുന്നതും, ചരവും അചരവുമായിരിക്കുന്നതും, അടുത്തും, ദൂരെയും വ\\u200dര്\\u200dത്തിക്കുന്നതുമാണ് അത്. അത് വിഭജിക്കപ്പെട്ടില്ലെങ്കിലും വിഭജിക്കപ്പെട്ടതുപോലെ ഭൂതങ്ങ\\u200dളി\\u200d\\u200dല്\\u200d ഇരിക്കുന്നു. അത് ഭുതങ്ങളെ ഭരിക്കുകയും സംഹരിക്കുകയും സൃഷ്ടിക്കുകയും ചെയ്യുന്നു എന്നറിയണം. <EOS>\\n', 'പ്രകാശങ്ങ\\u200cള്\\u200dക്കെല്ല\\u200dാം പ്രകാശമായിട്ടുള്ള ആ ബ്രഹ്മം അന്ധകാരത്തിന്നപ്പുറമായിട്ടുള്ളതാണെന്നു പറയുന്നു. അറിവും (ജ്ഞാനം) അറിയപ്പെടേണ്ടതും (ജ്ഞേയം) അറിവിനാ\\u200d\\u200dല്\\u200d എത്തിച്ചേരേണ്ടതും (ജ്ഞാനഗമ്യം) എല്ലവരുടെയും ഹൃദയത്തെ അധിവസിക്കുന്നതും അതു (ബ്രഹ്മം) തന്നെ. <EOS>\\n', 'ഇപ്രകാരം ക്ഷേത്രം, ജ്ഞാനം, ജ്ഞേയം എന്നിവയെപ്പറ്റി ഞാ\\u200d\\u200dന്\\u200d ചുരുക്കത്തില്\\u200d പറഞ്ഞു കഴിഞ്ഞു. എന്റെ ഭക്ത\\u200dന്\\u200d ഇതറിഞ്ഞിട്ട് എന്റെ ഭാവത്തിന് അ\\u200dര്\\u200dഹനായിത്തീരുന്നു. <EOS>\\n', 'പ്രകൃതിയും പുരുഷനും അനാദികളാണെന്നറിയണം. വികാരങ്ങളും ഗുണങ്ങളും പ്രകൃതിയി\\u200dല്\\u200d നിന്നുത്ഭവിക്കുന്നവയാണെന്നും അറിയുക. <EOS>\\n', 'യജ്ഞം, ദാനം, തപസ്സ് എന്നീ കര്\\u200dമ്മങ്ങളെ ത്യജിക്കരുത്. അവ നിശ്ചയമായും ചെയ്യപ്പെടേണ്ടതാണ്. യജ്ഞം, ദാനം, തപസ്സ് എന്നിവ ബുദ്ധിമാന്മാര്\\u200dക്ക് മനഃശുദ്ധിയുണ്ടാക്കുന്നവയാണ്. <EOS>\\n', 'പുരുഷ\\u200dന്\\u200d പ്രകൃതിയില്\\u200d ഇരുന്ന്, പ്രകൃതിയി\\u200cല്\\u200dനിന്നുണ്ടാകുന്ന സുഖദുഃഖാദി ഗുണങ്ങളെ അനുഭവിക്കുന്നു. ഈ പ്രകൃതിഗുണങ്ങളോടുള്ള സംഗം കൊണ്ടാണ് ഈ പുരുഷനു ഉത്തമവും നീചവുമായ യോനികളില്\\u200d ജനിക്കുവാ\\u200d\\u200dന്\\u200d ഇടയാകുന്നത്. <EOS>\\n', 'ഡംഭവും മാനവുമുള്ള ഇവര്\\u200d തൃപ്തിപ്പെടുത്തുവാന്\\u200d വിഷമമായ കാമത്തിന് അധീനരായി മോഹവശാല്\\u200d ദുരാഗ്രഹങ്ങളെ നിറവേറ്റുവാന്\\u200d അശുദ്ധവ്രതരായി പ്രവര്ത്തിക്കുന്നു. <EOS>\\n', 'ഈ വിധത്തി\\u200cല്\\u200d പുരുഷനെയും ഗുണങ്ങളോടുകുടിയ പ്രകൃതിയേയും ശരിക്കു അറിയുന്നവ\\u200dന്\\u200d എങ്ങനെ ജീവിച്ചാലും വീണ്ടും ജനിക്കുന്നതല്ല. <EOS>\\n', 'ചില\\u200dര്\\u200d ധ്യാനംകൊണ്ട് ശുദ്ധമായ ഹൃദയത്താല്\\u200d ആത്മാവിനെ ബുദ്ധിയിലറിയുന്നു; മറ്റു ചില\\u200dര്\\u200d സ\\u200dാംഖ്യയോഗം കൊണ്ടും വേറെ ചിലര്\\u200d കര്\\u200dമ്മയോഗം കൊണ്ടും ആത്മാവിനെ ദ\\u200dര്\\u200dശിക്കുന്നു. <EOS>\\n', 'ഇതറിയാത്തവരായരാവട്ടെ അന്യന്മാ\\u200cര്\\u200d പറഞ്ഞുകേട്ടതനുസരിച്ച് ഉപാസിക്കുന്നു. ശ്രദ്ധിച്ചു കേട്ടു കാര്യം മനസ്സിലാക്കുവാ\\u200dന്\\u200d താല്പര്യമുള്ളവരായ അവരും മരണത്തെ തരണം ചെയ്യുന്നതാണ്. <EOS>\\n', 'ക\\u200dര്\\u200dമ്മത്തിന്റെ സ്വരൂപം അറിയേണ്ടതുണ്ട്. വിക\\u200dര്\\u200dമ്മത്തിന്റെ സ്വരൂപവും അകര്\\u200dമത്തിന്റെ സ്വരൂപവും അറിയെണ്ടതുണ്ട്. എന്ത് കൊണ്ടെന്നാല്\\u200d ക\\u200dര്\\u200dമ്മത്തിന്റെ ഗതി (പോക്ക്) അറിയാന്\\u200d വളരെ വിഷമമുള്ളതാണ്. <EOS>\\n', 'സ\\u200dര്\\u200dവ്വപ്രാണിസഞ്ചയത്തിലും സമനിലയി\\u200dല്\\u200d സ്ഥിതിചെയ്യുന്നവനും നശിക്കുന്നവയായ സ്ഥാവരജംഗമങ്ങളില്\\u200d അവിനാശിയായി വര്\\u200dത്തിക്കുന്നവനുമായ പരമേശ്വര\\u200dനെ അറിയുന്നവനാണ് യഥാ\\u200dര്\\u200dത്ഥ ജ്ഞാനമുള്ളവന്\\u200d. <EOS>\\n', 'ഹേ ഭാരത, നീ ഈശ്വരനെത്തന്നെ സര്\\u200dവ്വഭാവത്തിലും ശരണമടഞ്ഞാലും. ഈശ്വരന്റെ പ്രസാദത്താല്\\u200d നീ പരമമായ ശാന്തിയെയും ശാശ്വതമായ പദത്തെയും പ്രാപിക്കും. <EOS>\\n', 'ഹേ മധുസൂദനാ, അധിയജ്ഞന്\\u200d ആര്? എങ്ങിനെയിരിക്കുന്നു? ഇവിടെ വച്ചു തന്നെ അവർ സംസാരത്ത ജയിച്ചിരിക്കുന്നു. എന്തുകൊണ്ടെന്നാൽ ബ്രഹ്മം നിർദ്ദോഷവും സമവുമാകുന്നു. അതുകൊണ്ടു അവർ ബ്രഹ്മത്തിൽ സ്ഥിതിചെയ്യുന്നവരത്രേ. <EOS>\\n', 'ഹേ ഭാരതാ, അതുകൊണ്ട് അജ്ഞാനം കൊണ്ടു ഉണ്ടായതും മനസിലുള്ളതുമായ നിന്റെ ഈ സംശയത്തെ ജ്ഞാനമാകുന്ന വാളുകൊണ്ടു ഛേദിച്ചിട്ടു യോഗത്തെ അനുഷ്ഠിക്കുക, ഏഴുന്നേല്\\u200dക്കുക. <EOS>\\n', 'ഹേ കുന്തിസുതാ! ആദിയും നാശവും ഇല്ലാത്തതിനാല്\\u200d ഈ പരമാത്മാവ് ശരീരത്തി\\u200dല്\\u200d സ്ഥിതിചെയ്യുന്നുവെങ്കിലും യാതൊന്നും ചെയ്യുകയൊ ഒന്നിനോടും സക്തനാകുകയോ ചെയ്യുന്നില്ല. <EOS>\\n', 'ഹേ പാര്\\u200dത്ഥാ, ഇപ്രകാരം പ്രവത്തിക്കുന്ന ക\\u200d\\u200d\\u200dര്\\u200dമ്മചക്രത്തെ ഈ ലോകത്തില്\\u200d എവനൊരുവന്\\u200d അനുവര്\\u200dത്തിക്കുന്നില്ലയോ പാപിയും വിഷയഭ്രാന്തനുമായ അവന്റെ പ്രജഞ പ്രതിഷ്ഠിതമാണ്. <EOS>\\n', 'ഹേ മഹാബാഹോ, ഗുണകര്\\u200dമ്മവിഭാഗങ്ങളുടെ തത്വമറിയുന്ന വനാകട്ടെ ഗുണപരിണാമങ്ങളായ ഇന്ദ്രിയങ്ങള്\\u200d ഗുണപരിണാമങ്ങ ളായ വിഷയങ്ങളില്\\u200d പ്രവര്\\u200dത്തിക്കുന്നുവെന്ന് ധരിച്ചിട്ട് അവയില്\\u200d ആസക്തനാകുന്നില്ല. <EOS>\\n', 'ഈ ജ്ഞാനത്തെ ആശ്രയിച്ച് എന്നെ പ്രാപിക്കുന്നവര്\\u200d സൃഷ്ടിയുടെ ആരംഭത്തില്\\u200d ജന്മമെടുക്കുന്നില്ല, പ്രളയസമയത്ത് വ്യസനിക്കു ന്നുമില്ല. <EOS>\\n', 'ഈ ജ്ഞാനത്തെ ആശ്രയിച്ച് എന്നെ പ്രാപിക്കുന്നവര്\\u200d സൃഷ്ടിയുടെ ആരംഭത്തില്\\u200d ജന്മമെടുക്കുന്നില്ല, പ്രളയസമയത്ത് വ്യസനിക്കു ന്നുമില്ല. <EOS>\\n', 'ഈ ജ്ഞാനത്തെ ആശ്രയിച്ച് എന്നെ പ്രാപിക്കുന്നവര്\\u200d സൃഷ്ടിയുടെ ആരംഭത്തില്\\u200d ജന്മമെടുക്കുന്നില്ല, പ്രളയസമയത്ത് വ്യസനിക്കു ന്നുമില്ല. <EOS>\\n', 'ഹേ അര്\\u200dജുനാ, എന്റെ യോനിയാകുന്ന മഹാപ്രകൃതിയില്\\u200d ഞാന്\\u200d ബീജത്തെ നിക്ഷേപിക്കുന്നു. സര്\\u200dവ്വ ജീവരാശികളുടെയും ജന്മം അതില്\\u200dനിന്നാണ്. <EOS>\\n', 'ഹേ സ\\u200dര്\\u200dവാത്മ\\u200dന്\\u200d, അങ്ങനെ മുന്നിലും പിന്നിലും നിന്ന് ഞാ\\u200cന്\\u200d നമസ്\\u200dകരിക്കുന്നു. എല്ലാഭാഗത്തും അങ്ങേയ്ക്കു നമസ്\\u200dകാരം. അളവറ്റ വീരവും അതിരറ്റ പരാക്രമവും ഉള്ളവനായ അങ്ങ് ലോകം മുഴുവ\\u200dന്\\u200d വ്യാപിച്ചവനായിരിക്കുന്നു. അതിനാല്\\u200d എല്ല\\u200dാം അങ്ങ് തന്നെയാകുന്നു. <EOS>\\n', 'ക്ലേശം ജനിപ്പിക്കാത്തതും എന്നാല്\\u200d സത്യവും, പ്രിയവും, ഹിതവുമായ വാക്കും, ശാസ്ത്രപാരായണവുമാണ് വാചികമായ തപസ്സെന്നു പറയപ്പെടുന്നു. <EOS>\\n', 'ഹേ ശത്രുധ്വംസകനായ ഭരതവംശജാ, ഇച്ഛാ, ദ്വേഷം എന്നിവയില്\\u200dനിന്നുണ്ടാകുന്ന ദ്വന്ദ്വമോഹത്താല്\\u200d സര്\\u200dവഭൂതങ്ങളും സൃഷ്ടിഗതിയില്\\u200d മോഹം പ്രാപിക്കുന്നു. <EOS>\\n', 'ഹേ കൗന്തേയ, രജസ്സിന്റെ സ്വഭാവം രാഗമാണെന്നറിയൂ. അത് തൃഷ്ണ (ആഗ്രഹം) യെയും സംഗത്തെയും ജനിപ്പിക്കുകയും കര്\\u200dമ്മത്തോടുള്ള സംഗത്താല്\\u200d ദേഹിയെ ബന്ധിക്കുകയും ചെയ്യുന്നു. <EOS>\\n', 'ഹേ ഭാരത, തമസ്സ് അജ്ഞാനത്തില്\\u200d നിന്നുണ്ടാകുന്നതും എല്ലാ ദേഹികളെയും (ജീവന്മാരെയും) മോഹിപ്പിക്കുന്നതുമാണെന്നറിയൂ. അത് അശ്രദ്ധ, ആലസ്യം, ഉറക്ക എന്നിവയാല്\\u200d ദേഹിയെ ബന്ധിക്കുന്നു. <EOS>\\n', 'ശ്രീകൃഷ്ണ\\u200dന്\\u200d പറഞ്ഞു: ഞാന്\\u200d ലോകത്തെ നശിപ്പിക്കുന്ന കാലം (കാല\\u200dന്\\u200d) ആകുന്നു. ഞാന്\\u200d ലോകസംഹാരകൃത്യത്തി\\u200dല്\\u200d ഏര്\\u200dപ്പെട്ടിരിക്കയാണ്. നീയില്ലെങ്കിലും (നീ യുദ്ധം ചെയ്തില്ലെങ്കിലും) ഇവിടെക്കൂടിയിരിക്കുന്ന ശത്രുപക്ഷത്തിലെ യോദ്ധാക്ക\\u200dളാരും ജീവിച്ചിരിക്കുകയില്ല. <EOS>\\n', 'സത്വഗുണം (അധികരിച്ചിരിക്കുമ്പോള്\\u200d) രജസ്സിനെയും തമസ്സിനെയും കീഴ്\\u200cപെടുത്തുന്നു. അതുപോലെ, രജസ്സ് (അധികരിച്ചിരിക്കുമ്പോള്\\u200d\\u200d) സത്വത്തിനെയും തമസ്സിനെയും, തമസ്സ് (അധികരിച്ചിരിക്കുമ്പോള്\\u200d) സത്വത്തിനെയും രജസ്സിനെയും കീഴ്\\u200cപെടുത്തുന്നു. <EOS>\\n', 'ഭഗവാന്\\u200d പറഞ്ഞു: ക\\u200dര്\\u200dമ്മഫലത്തെ ആശ്രയിക്കാതെ കര്\\u200dത്തവ്യമായ ക\\u200dര്\\u200dമ്മം ആരു ചെയ്യുന്നുവോ അവന്\\u200d മിഥ്യാചാരന്\\u200d എന്ന് പറയപ്പെടുന്നു <EOS>\\n', 'ശ്രീ ഭഗവാന്\\u200d പറഞ്ഞു: ബ്രഹ്മം സ\\u200dവ്വോത്കൃഷ്ടവും അക്ഷരവും (അനശ്വരവും) ആകുന്നു. അധ്യാത്മം സ്വഭാവമാണെന്ന് പറയപ്പെടുന്നു. <EOS>\\n', 'ഈ ആത്മാവ് ഒരിക്കലും ജനിക്കുന്നില്ല. മരിക്കുന്നുമില്ല. ജനിച്ചിട്ട്\\u200c വീണ്ടും ജനിക്കാതിരിക്കുന്നുമില്ല. ജന്മമില്ലാത്തവനും നിത്യനും സ്ഥിരനും പണ്ടേ ഉള്ളവനുമായ ഇവന്\\u200d ശരീരം ഹതമാകുമ്പോള്\\u200d ഹനിക്കപ്പെടുന്നുമില്ല. <EOS>\\n', '\"എന്നി\\u200dല്\\u200d മനസ്സു വെച്ച്, എന്നി\\u200dല്\\u200d ഭക്തിയോടുകൂടി എന്നെ പൂജിക്കുകയും എന്നെ നമസ്കരിക്കുകയും ചെയ്യുക. ഇങ്ങനെ എന്നെത്തന്നെ വിചാരിചുകൊണ്ട് മനസ്സ് എന്നി\\u200dലുറപ്പിക്കുന്നവന്\\u200d എന്നെത്തന്നെ പ്രാപിക്കും. <EOS>\\n', 'രജോഗുണം വര്\\u200dദ്ധിച്ചിരിക്കുമ്പോള്\\u200d മരിക്കുന്നയാള്\\u200d കര്\\u200dമ്മത്തോട് ബന്ധമുള്ള ആളുകള്\\u200d വസിക്കുന്ന ലോകങ്ങളെ പ്രാപിക്കുകയും തമോഗുണം വര്\\u200dദ്ധിച്ചിരിക്കുമ്പോള്\\u200d മരിക്കുന്നയാള്\\u200d മൂഢയോനികളെ പ്രാപിക്കുകയും <EOS>\\n', 'പ്രകൃതിയും പുരുഷനും അനാദികളാണെന്നറിയണം. വികാരങ്ങളും ഗുണങ്ങളും പ്രകൃതിയി\\u200dല്\\u200d നിന്നുത്ഭവിക്കുന്നവയാണെന്നും അറിയുക. <EOS>\\n', 'സാത്വഗുണത്തില്\\u200d നിന്നു ജ്ഞാനവും, രജോഗുണത്തില്\\u200d നിന്നു ലോഭവും, തമോഗുണത്തില്\\u200dനിന്നു പ്രമാദം (അശ്രദ്ധ), മോഹം, അജ്ഞാനം എന്നിവയുമുണ്ടാകുന്നു. <EOS>\\n', 'ശരീരം, മനസ്സ്, വാക്ക് എന്നിവയാല്\\u200d മനുഷ്യന്\\u200d ചെയ്യുന്ന ശരിയോ തെറ്റോ ആയ എല്ലാ കര്\\u200dമ്മങ്ങളുടെയും കാരണങ്ങള്\\u200d ഇവയഞ്ചുമാകുന്നു. <EOS>\\n', 'ആ ശബ്ദകോലാഹലം ആകാശത്തെയും ഭൂമിയെയും പ്രതിധ്വനിപ്പിച്ചു കൊണ്ടു ധൃതരാഷ്ട്ര പുത്രന്മാരുടെ ഹൃദയം പിളര്\\u200dന്നു. <EOS>\\n', 'ഹേ ഭാരത, തമസ്സ് അജ്ഞാനത്തില്\\u200d നിന്നുണ്ടാകുന്നതും എല്ലാ ദേഹികളെയും (ജീവന്മാരെയും) മോഹിപ്പിക്കുന്നതുമാണെന്നറിയൂ. അത് അശ്രദ്ധ, ആലസ്യം, <EOS>\\n', 'രാഗം, ഭയം, കോപം ഇവ കൈവിട്ടവരും എന്റെ ഭക്തന്മാരും എന്നെ ആശ്രയിച്ചവരുമായ വളരെപ്പേര്\\u200d ജ്ഞാനമാകുന്ന തപസുകൊണ്ടു പരിശുദ്ധരായിത്തീര്\\u200dന്നു എന്നെ പ്രാപിച്ചിട്ടുണ്ട്. <EOS>\\n', 'ഭഗവാന്\\u200d പറഞ്ഞു: ആരാണോ സത്വഗുണകാര്യമായ പ്രകാശത്തിനെയും, രജോഗുണകാര്യമായ പ്രവൃത്തിയെയും, തമോഗുണകാര്യമായ മോഹത്തെയും അവ പ്രവര്\\u200dത്തിച്ചു കൊണ്ടിരിക്കുമ്പോള്\\u200d ദ്വേഷിക്കാതിരിക്കുകയും, അവയുടെ അഭാവത്തില്\\u200d അവയെ ക\\u200dാംക്ഷിക്കാതിരിക്കുകയും ചെയ്യുന്നത്, ആരാണോ ഉദാസീനനായിരിക്കുകയും, ഗുണങ്ങളാല്\\u200d ചലിക്ക പ്പെടാതിരിക്കുകയും, ഗുണങ്ങള്\\u200d സ്വയം പ്രവര്\\u200dത്തിക്കുന്നുവെന്നറിഞ്ഞ് ഇളകാതിരിക്കുകയും ചെയ്യുന്നത്, ആരാണോ സുഖദുഃഖങ്ങളെയും, സ്വര്\\u200dണ്ണത്തിനെയും മണ്\\u200dകട്ടയെയും, പ്രിയത്തെയും അപ്രിയത്തെയും, സ്തുതിയെയും നിന്ദയെയും ഒരു പോലെ കാണുകയും ചെയ്യുന്നത്, ആരാണോ മാനാപമാനങ്ങ\\u200dള്\\u200d ശത്രുമിത്രങ്ങള്\\u200d എന്നിവയെ തുല്യമായി കാണുകയും, എല്ലാ പ്രവൃത്തികളെയും ഉപേക്ഷിക്കുകയും ചെയ്യുന്നത് അയാള്\\u200d മൂന്നു ഗുണങ്ങളെ അതിവര്\\u200dത്തിച്ചവന്\\u200d (ത്രിഗുണാതീതന്\\u200d) ആകുന്നു. <EOS>\\n', 'ചരാചരങ്ങളോടുകൂടിയ മഹാപ്രപഞ്ചത്തേയും നീ കാണുവാ\\u200c\\u200dന്\\u200d ആഗ്രഹിക്കുന്ന മറ്റുള്ളവയേയും എന്റെ ദേഹത്തി\\u200d\\u200dല്\\u200dഒന്നിച്ചു നി\\u200dല്\\u200dക്കുന്നത് ഇതാ നീ കാണുക. <EOS>\\n', 'ഞാന്\\u200d അമൃതവും (അനശ്വരവും) അവ്യയവുമായ (മാറ്റമില്ലാത്തതുമായ) ബ്രഹ്മത്തിന്റെയും, ശാശ്വതമായ ധര്\\u200dമ്മ ത്തിന്റെയും, പരമമായ സുഖത്തിന്റെയും പ്രതിഷ്ഠയുമാകുന്നു (ആശ്രയവുമാകുന്നു). <EOS>\\n', 'ഭഗവാന്\\u200d പറഞ്ഞു: ഈ സംസാരത്തെ ശാഖകള്\\u200d താഴെയും വേരുകള്\\u200d മുകളിലുമായുള്ള നാശമില്ലാത്ത ഒരു അശ്വത്ഥ (അരയാല്\\u200d) വൃക്ഷമായും, വേദങ്ങളെ അതിന്റെ ഇലകളായും (പൂര്\\u200dവ്വികന്മാര്\\u200d) പറയുന്നു. ഈ വൃക്ഷത്തെ അറിയുന്നവന്\\u200d വേദങ്ങളെ അറിയുന്നവനാണ്. <EOS>\\n', 'ഹേ ഭാരത, തമസ്സ് അജ്ഞാനത്തില്\\u200d നിന്നുണ്ടാകുന്നതും എല്ലാ ദേഹികളെയും (ജീവന്മാരെയും) മോഹിപ്പിക്കുന്നതുമാണെന്നറിയൂ. അത് അശ്രദ്ധ, ആലസ്യം, ഉറക്ക എന്നിവയാല്\\u200d ദേഹിയെ ബന്ധിക്കുന്നു. <EOS>\\n', 'ഹേ മഹാബാഹോ, എല്ലാ കര്\\u200dമ്മങ്ങളുടെ സിദ്ധിയ്ക്കായി സ\\u200dാംഖ്യത്തില്\\u200d പറഞ്ഞിരിക്കുന്ന അഞ്ചു ഘടകങ്ങള്\\u200d കേട്ടാലും. <EOS>\\n', 'അഭിമാനം, മോഹം എന്നിവയില്\\u200d നിന്ന് മുക്തരും, സംഗമാകുന്ന ദോഷത്തെ ജയിച്ചവരും, സദാ ആത്മനിഷ്ഠരും, കാമമില്ലാത്തവരും, സുഖദുഃഖാദി ദ്വന്ദ്വങ്ങളില്\\u200d നിന്ന് മുക്തരും വ്യാമോഹ മില്ലാത്തവരുമായ മഹാന്മാര്\\u200d ആ പരമപദത്തെ പ്രാപിക്കുന്നു. <EOS>\\n', 'അര്\\u200dജുനന്\\u200d ചോദിച്ചു: ഹേ കൃഷ്ണാ, പിന്നെ ആര്\\u200d പ്രേരിപ്പിചിട്ടാണ് ഈ പുരുഷന്\\u200d താ\\u200dന്\\u200d ഇച്ഛിക്കാതെയിരുന്നിട്ടും ബലമായ ഏതോ ശക്തിയാല്\\u200d നിയുക്തനെന്നപോലെ പാപകര്\\u200dമ്മങ്ങ\\u200dള്\\u200d അനുഷ്ഠിക്കുന്നത്. <EOS>\\n', 'യാതൊരു ജ്ഞനമാണോ സര്\\u200dവ്വജീവജാലങ്ങളിലും നാനാതരത്തിലുള്ള ഭാവങ്ങളെ ദര്\\u200dശിക്കുന്നത് അത് രാജസമാണ്. <EOS>\\n', 'എന്നാല്\\u200d ഏതൊരു മനുഷ്യന്\\u200d തന്നില്\\u200d തന്നെ രമിക്കുന്നവനും തന്നില്\\u200d സംതൃപ്തനും സന്തുഷ്ടനുമായിരിക്കുന്നുവോ അവനു കരണീയമായി ഒന്നുമില്ല. <EOS>\\n', 'ഈ ജീവന്\\u200d ചെവി, കണ്ണ്, ത്വക്ക്, നാക്ക്, മൂക്ക് എന്നീ അഞ്ചിന്ദ്രിയങ്ങളെയും മനസ്സിനെയും ആശ്രയിച്ച് വിഷയങ്ങളെ അനുഭവിക്കുന്നു. <EOS>\\n', '“ഇന്ന് ഞാന്\\u200d ഇതു നേടി. ഈ ആഗ്രഹം ഞാന്\\u200d സാധിക്കും. ഇത് എന്റെയാണ്. ഈ സമ്പത്തും ഭാവിയില്\\u200d എന്റെയാകും. ഈ ശത്രുവിനെ ഞാന്\\u200d വധിച്ചു. മറ്റു ശത്രുക്കളെയും ഞാന്\\u200d വധിക്കുക തന്നെ ചെയ്യും. ഞാന്\\u200d പ്രഭുവും, ഭോഗമനുഭവിക്കുന്നവനും, എല്ല\\u200dാം നേടിയവനും, ബലവാനും, സുഖിയുമാണ്. ഞാന്\\u200d ധനികനും, ഉന്നതകുലജാതനുമാണ്. എന്നെപ്പോലെ വേറെയാരുണ്ട്? ഞാന്\\u200d യജ്ഞം നടത്തും, ദാനം നല്കുകയും, ആനന്ദിക്കുകയും ചെയ്യും”. എന്നിങ്ങനെ അജ്ഞാനത്താല്\\u200d മോഹിതനായി അനേകചിന്ത കളാല്\\u200d വിഭ്രാന്തരായി മോഹജാലത്താല്\\u200d വലയപ്പെട്ട്, വിഷയഭോഗാസക്തരായി അശുദ്ധമായ നരകത്തില്\\u200d പതിക്കുന്നു. <EOS>\\n', 'സിദ്ധിയ്ക്കായി പ്രയത്നിക്കുന്ന യോഗികള്\\u200d തങ്ങളുടെയുള്ളില്\\u200d സ്ഥിതിചെയ്യുന്ന ഈ ജീവനെ കാണുന്നു. എന്നാല്\\u200d അനധികാരികളായ മൂഢന്മാര്\\u200d പ്രയത്നിച്ചാലും ഈ ജീവനെ കാണുന്നില്ല. <EOS>\\n', 'യാതൊരു ജ്ഞാനം ഒരു കാര്യത്തില്\\u200d (ശരീരത്തില്\\u200d) തന്നെ പൂര്\\u200dണ്ണമാണെന്നുള്ള ധാരണയില്\\u200d ആസക്തിയോടെയും, കാരണ മില്ലാതെയും, സത്യത്തെ അറിയാതെയും, അല്പമായുമിരിക്കുന്നുവോ അത് താമസികജ്ഞാനമാണ്. <EOS>\\n', 'ഞാന്\\u200d ഓജസ്സായി ഭൂമിയില്\\u200d പ്രവേശിച്ച് ജീവജാലങ്ങളെ നിലനിര്\\u200dത്തുകയും, രസാത്മകനായ ചന്ദ്രനായി എല്ലാവിധ സസ്യങ്ങളെയും പോഷിപ്പിക്കുകയും ചെയ്യുന്നു. <EOS>\\n', 'ഞാന്\\u200d പ്രാണികളുടെ ശരീരങ്ങളില്\\u200d അഗ്നിയുടെ രൂപത്തിലിരുന്ന് പ്രാണന്\\u200d, അപാനന്\\u200d എന്നിവയോടു ചേര്\\u200dന്ന് നാലുതരത്തിലുള്ള ഭക്ഷണത്തെയും ദഹിപ്പിക്കുന്നു. <EOS>\\n', 'അര്\\u200dജുനന്\\u200d പറഞ്ഞു: ഹേ മധുസൂദനാ, സമചിത്തതാ ലക്ഷണമായി ഏതൊരു യോഗമാണോ അങ്ങ് പറഞ്ഞത്, എന്റെ മനസിന്റെ ചാഞ്ചല്യം നിമിത്തം അതിനു സുസ്ഥിരമായ നിലനില്\\u200dപ്പ്\\u200c ഞാന്\\u200d കാണുന്നില്ല. <EOS>\\n', 'ഹേ ഭാരത, തമസ്സ് അജ്ഞാനത്തില്\\u200d നിന്നുണ്ടാകുന്നതും എല്ലാ ദേഹികളെയും (ജീവന്മാരെയും) മോഹിപ്പിക്കുന്നതുമാണെന്നറിയൂ. അത് അശ്രദ്ധ, ആലസ്യം, ഉറക്ക എന്നിവയാല്\\u200d ദേഹിയെ ബന്ധിക്കുന്നു. <EOS>\\n', 'ഒരാള്\\u200d ഇവനെ (ആത്മാവിനെ) ഒരു അത്ഭുതവസ്തു പോലെ കാണുന്നു. മറ്റൊരാള്\\u200d അതുപോലെ അത്ഭുതവസ്തുപോലെ ഇവനെക്കുറിച്ച് പറയുന്നു. വേറൊരാള്\\u200d അത്ഭുതവസ്തു പോലെ ഇവനെക്കുറിച്ച് കേള്\\u200dക്കുകയും ചെയ്യുന്നു. ശ്രവിച്ചിട്ടും ഒരാളും വേണ്ടവണ്ണം ഇവനെ അറിയുന്നില്ല. <EOS>\\n', 'ക്ഷരത്തിനതീതനും, അക്ഷരത്തിനേക്കാള്\\u200d ഉത്തമനുമായതിനാല്\\u200d ഞാന്\\u200d ഈ ലോകത്തിലും വേദത്തിലും പുരുഷോത്തമ നെന്നറിയപ്പെടുന്നു. <EOS>\\n', 'യാതൊരു ജ്ഞനമാണോ സര്\\u200dവ്വജീവജാലങ്ങളിലും നാനാതരത്തിലുള്ള ഭാവങ്ങളെ ദര്\\u200dശിക്കുന്നത് അത് രാജസമാണ്. <EOS>\\n', 'ചരാചരങ്ങളോടുകൂടിയ മഹാപ്രപഞ്ചത്തേയും നീ കാണുവാ\\u200c\\u200dന്\\u200d ആഗ്രഹിക്കുന്ന മറ്റുള്ളവയേയും എന്റെ ദേഹത്തി\\u200d\\u200dല്\\u200dഒന്നിച്ചു നി\\u200dല്\\u200dക്കുന്നത് ഇതാ നീ കാണുക. <EOS>\\n', 'ഭയമില്ലായ്മ, ഹൃദയശുദ്ധി, ജ്ഞാനത്തിലും യോഗത്തിലുമുള്ള നിഷ്ഠ, ദാനം, ഇന്ദ്രിയസംയമനം, യജ്ഞം, ശാസ്ത്രപാരായണം, തപസ്സ്, ആര്\\u200dജ്ജവം, അഹിംസാ, സത്യം, ക്രോധമില്ലായ്മ, ത്യാഗം, ശാന്തി, പരദൂഷണം ചെയ്യാതിരിക്കുക, ഭൂതദയാ, ആഗ്രഹമില്ലായ്മ, സൗമ്യത, ലജ്ജ, ചാപല്യമില്ലായ്മ, തേജസ്സ്, ക്ഷമാ, ശുചിത്വം, ദ്രോഹിക്കാതിരിക്കല്\\u200d, അഹങ്കാരമില്ലായ്മ എന്നിവ ദൈവീസമ്പത്തോടെ ജനിച്ചവനുണ്ടാകുന്ന ഗുണങ്ങളാണ്. <EOS>\\n', 'ഹേ അര്\\u200dജുന, ഇനി മൂന്നു വിധത്തിലുള്ള സുഖത്തെ കേട്ടുകൊള്ളുക. അഭ്യാസം കൊണ്ട് യാതൊരു സുഖത്തില്\\u200d സന്തോഷിച്ചു തുടങ്ങുകയും, ദുഃഖത്തിനറുതി വരുകയും ചെയ്യുന്നുവോ, ആദ്യം വിഷം പോലെയും ഒടുവില്\\u200d അമൃതസമാനമായും അനുഭവപ്പെടുന്നുവോ, ആത്മജ്ഞാനത്തില്\\u200dനിന്നുണ്ടാകുന്ന ആ സുഖം സാത്വികമാണ്. <EOS>\\n', 'ഹേ ഭാരത, തമസ്സ് അജ്ഞാനത്തില്\\u200d നിന്നുണ്ടാകുന്നതും എല്ലാ ദേഹികളെയും (ജീവന്മാരെയും) മോഹിപ്പിക്കുന്നതുമാണെന്നറിയൂ. അത് അശ്രദ്ധ, ആലസ്യം, ഉറക്ക എന്നിവയാല്\\u200d ദേഹിയെ ബന്ധിക്കുന്നു. <EOS>\\n', 'ഹേ ഭാരത, തമസ്സ് അജ്ഞാനത്തില്\\u200d നിന്നുണ്ടാകുന്നതും എല്ലാ ദേഹികളെയും (ജീവന്മാരെയും) മോഹിപ്പിക്കുന്നതുമാണെന്നറിയൂ. അത് അശ്രദ്ധ, ആലസ്യം, ഉറക്ക എന്നിവയാല്\\u200d ദേഹിയെ ബന്ധിക്കുന്നു. <EOS>\\n', 'ആസുരരായ ജനങ്ങള്\\u200dക്ക് എന്തു പ്രവര്\\u200dത്തിക്കണം ഏതില്\\u200d നിന്ന് നിവര്\\u200dത്തിക്കണം എന്നറിയില്ല. അവരില്\\u200d ശൗചമോ, ആചാരമോ, സത്യമോ കാണപ്പെടുന്നില്ല. <EOS>\\n', 'ഈശ്വരൻ ആരുടേയും പാപവും സുകൃതവും സ്വീകരിക്കുന്നില്ല. ജ്ഞാനം അജ്ഞാനത്താൽ മറയ്ക്കപ്പെട്ടിരിക്കുന്നതുകൊണ്ട് ജീവികൾ മോഹത്തിലാണ്ടുപോകുന്നു. <EOS>\\n', 'അഭിലാഷങ്ങളില്ലാതെ മനോനിയന്ത്രണത്തോടെ എല്ലാ ബന്ധങ്ങളും നിശ്ശേഷം കൈവിട്ടു ശരീരം കൊണ്ടു മാത്രമുള്ള പ്രവൃത്തി ചെയ്യുന്നവനെ പാപം ബാധിക്കുന്നില്ല. <EOS>\\n', 'ഡംഭവും മാനവുമുള്ള ഇവര്\\u200d തൃപ്തിപ്പെടുത്തുവാന്\\u200d വിഷമമായ കാമത്തിന് അധീനരായി മോഹവശാല്\\u200d ദുരാഗ്രഹങ്ങളെ നിറവേറ്റുവാന്\\u200d അശുദ്ധവ്രതരായി പ്രവര്ത്തിക്കുന്നു. <EOS>\\n', 'ശ്രീ ഭഗവാന്\\u200d പറഞ്ഞു: ക\\u200dര്\\u200dമ്മഫലത്തെ ആശ്രയിക്കാതെ കര്\\u200dത്തവ്യമായ ക\\u200dര്\\u200dമ്മം ആരു ചെയ്യുന്നുവോ അവന്\\u200d സന്യാസിയും യോഗിയുമാണ്. അല്ലാതെ അഗ്നിഹോത്രാദികളെ ചെയ്യാത്തവനും, ക\\u200dര്\\u200dമ്മത്തെ ഉപേക്ഷിച്ചു സ്വസ്ഥനായിരിക്കുന്നവനുമല്ല. <EOS>\\n', '“ഇന്ന് ഞാന്\\u200d ഇതു നേടി. ഈ ആഗ്രഹം ഞാന്\\u200d സാധിക്കും. ഇത് എന്റെയാണ്. ഈ സമ്പത്തും ഭാവിയില്\\u200d എന്റെയാകും. ഈ ശത്രുവിനെ ഞാന്\\u200d വധിച്ചു. മറ്റു ശത്രുക്കളെയും ഞാന്\\u200d വധിക്കുക തന്നെ ചെയ്യും. ഞാന്\\u200d പ്രഭുവും, ഭോഗമനുഭവിക്കുന്നവനും, എല്ല\\u200dാം നേടിയവനും, ബലവാനും, സുഖിയുമാണ്. ഞാന്\\u200d ധനികനും, ഉന്നതകുലജാതനുമാണ്. എന്നെപ്പോലെ വേറെയാരുണ്ട്? ഞാന്\\u200d യജ്ഞം നടത്തും, ദാനം നല്കുകയും, ആനന്ദിക്കുകയും ചെയ്യും”. എന്നിങ്ങനെ അജ്ഞാനത്താല്\\u200d മോഹിതനായി അനേകചിന്ത കളാല്\\u200d വിഭ്രാന്തരായി മോഹജാലത്താല്\\u200d വലയപ്പെട്ട്, വിഷയഭോഗാസക്തരായി അശുദ്ധമായ നരകത്തില്\\u200d പതിക്കുന്നു. <EOS>\\n', 'എന്റെ ഉ\\u200dല്\\u200dപത്തിയെ ദേവന്മാരോ മഹ\\u200dര്\\u200dഷിമാരോ അറിയുന്നില്ല. മഹ\\u200dര്\\u200dഷിമാ\\u200dര്\\u200dക്കും, ദേവന്മാ\\u200dര്\\u200dക്കും, എല്ലാവിധത്തിലും ഞാ\\u200d\\u200dന്\\u200d ആദ്യനായുള്ളവനാണ്. <EOS>\\n', 'അതുല്യശക്തിയുള്ള ഹേ ഭഗവ\\u200dന്\\u200d\\u200d! അങ്ങ് ചരാചരാത്മകമായ ഈ ജഗത്തിന്റെ പിതാവാകുന്നു. അങ്ങ് ഈ ജഗത്തിനു പുജ്യനും ശ്രേഷ്ഠനായ ഗുരുവുമാകുന്നു. മൂന്നു ലോകങ്ങളിലും അങ്ങയ്ക്കു തുല്യനായിട്ടൊരാളുമില്ല. അപ്പോള്\\u200d അതുലിതശക്തിയുള്ള അങ്ങയെ വെല്ലാന്\\u200d ആരാണുള്ളത്? <EOS>\\n', 'ദ്വേഷിക്കുന്നവരും ക്രൂരന്മാരുമായ ഈ നരാധമന്മാരെ ഞാന്\\u200d എന്നെന്നും അശുഭങ്ങളായ ആസുരയോനികളില്\\u200d എറിയുന്നു (ജനിക്കുവാനിടയാക്കുന്നു). <EOS>\\n', 'ആരുടെ മനസ്സാണോ സമഭാവനയിൽ പ്രതിഷ്ഠിതമായിരിക്കുന്നത് ഇവിടെ വച്ചു തന്നെ അവർ സംസാരത്ത ജയിച്ചിരിക്കുന്നു. എന്തുകൊണ്ടെന്നാൽ ബ്രഹ്മം നിർദ്ദോഷവും സമവുമാകുന്നു. അതുകൊണ്ടു അവർ ബ്രഹ്മത്തിൽ സ്ഥിതിചെയ്യുന്നവരത്രേ. <EOS>\\n', 'കാമം, ക്രോധം, ലോഭം എന്നിവ നരകത്തിലേയ്ക്കുള്ള മൂന്നു കവാടങ്ങളാണ്. ഇവ ആത്മനാശത്തിന് കാരണവുമാണ്. അതിനാല്\\u200d ഇവയെ മൂന്നിനെയും ത്യജിക്കേണ്ടതാണ്. <EOS>\\n', 'ധനഞജയാ, യോഗത്താല്\\u200d കര്\\u200dമ്മങ്ങള്\\u200d ഉപേക്ഷിച്ചവനും ജ്ഞാനംകൊണ്ടു സംശയങ്ങള്\\u200d നിഃശേഷം തീര്\\u200dന്നവനും ആത്മനിഷ്ഠനുമായവനെ കര്\\u200dമ്മങ്ങള്\\u200d ഒരുവിധത്തിലും ബന്ധിക്കുന്നില്ല. <EOS>\\n', 'ആ മാഹാത്മാവിന്റെ (വിശ്വരൂപത്തിന്റെ) ശോഭ അനേകായിരം സൂര്യന്മാര്\\u200d ആകാശത്തി\\u200cല്\\u200d ഒരുമിച്ചുദിച്ചാലുണ്ടാകുന്ന പ്രകാശത്തിനു തുല്യമായിരുന്നു. <EOS>\\n', 'ശ്രീ ഭഗവാന്\\u200d പറഞ്ഞു: ഹേ അനഘ എന്നില്\\u200d ആസക്തചിത്തനായി എന്നെ ആശ്രയിച്ച് യോഗം അഭ്യസിച്ച് എങ്ങിനെ എന്നെ നിസ്സംശയമായും പൂര്\\u200dണമായും നീ അറിയുമോ ആ വിധം കേട്ടുകൊള്ളുക. <EOS>\\n', 'എന്റെ അവ്യയവും അനുത്തമവും തമോഗുണസ്പര്\\u200dശമില്ലാത്തതുമായ സര്\\u200dവാതീതഭാവത്തെ അറിയാതെ അവ്യക്തനായ എന്നെ വ്യക്തിത്വം പ്രാപിച്ചവനെന്നു ബുദ്ധിഹീനര്\\u200d വിചാരിക്കുന്നു. <EOS>\\n', 'ഭഗവാന്\\u200d പറഞ്ഞു: മനുഷ്യരുടെ സ്വഭാവത്തില്\\u200d നിന്നുദ്ഭവിക്കുന്ന ശ്രദ്ധ സാത്വികം, രാജസികം, താകസികം എന്നിങ്ങനെ മൂന്നു വിധത്തിലാണ്. <EOS>\\n', 'ഹേ ഭാരത, എല്ലാവരുടെയും ശ്രദ്ധ അവരവരുടെ ശ്രദ്ധയെ ആശ്രയിച്ചിരിക്കുന്നു. ഈ മനുഷ്യന്\\u200d ശ്രദ്ധാമയനാണ്. ഒരുവന്റെ ശ്രദ്ധ ഏതാണോ അവന്\\u200d ആ തരത്തിലുള്ളവനായിരിക്കും. <EOS>\\n', 'ശ്രീകൃഷ്ണ\\u200dന്\\u200dപറഞ്ഞു: അ\\u200dര്\\u200dജ്ജുനാ! സംപ്രീതനായ നിന്റെ ഹിതമാഗ്രഹിച്ചുകൊണ്ട് ഞാന്\\u200d വീണ്ടും പറയുന്ന ഉത്കൃഷ്ടമായ വാക്കുകളെ കേട്ടാലും. <EOS>\\n', 'ആരാണോ ഡംഭ്, അഹങ്കാരം എന്നിവയോടുകൂടി, കാമം, രാഗം എന്നിവയ്ക്കധീനരായി ശാസ്ത്രത്തില്\\u200d വിധിച്ചിട്ടില്ലാത്ത തരത്തില്\\u200d ഘോരമായ തപസ്സനുഷ്ഠിക്കുന്നത്, തങ്ങളുടെ ഇന്ദ്രിയങ്ങളെയും, ശരീരത്തില്\\u200d വര്ത്തിക്കുന്ന എന്നെയും പീഡിപ്പിക്കുന്ന അവിവേകികളായ അവര്\\u200d ആസുരനിശ്ചയം ചെയ്തവരാണെ ന്നറിഞ്ഞാലും. <EOS>\\n', 'ഹേ കുന്തിസുതാ! ആദിയും നാശവും ഇല്ലാത്തതിനാല്\\u200d ഈ പരമാത്മാവ് ശരീരത്തി\\u200dല്\\u200d സ്ഥിതിചെയ്യുന്നുവെങ്കിലും യാതൊന്നും ചെയ്യുകയൊ ഒന്നിനോടും സക്തനാകുകയോ ചെയ്യുന്നില്ല. <EOS>\\n', 'ചരാചരങ്ങളോടുകൂടിയ മഹാപ്രപഞ്ചത്തേയും നീ കാണുവാ\\u200c\\u200dന്\\u200d ആഗ്രഹിക്കുന്ന മറ്റുള്ളവയേയും എന്റെ ദേഹത്തി\\u200d\\u200dല്\\u200dഒന്നിച്ചു നി\\u200dല്\\u200dക്കുന്നത് ഇതാ നീ കാണുക. <EOS>\\n', 'ഹേ ഭാരത, തമസ്സ് അജ്ഞാനത്തില്\\u200d നിന്നുണ്ടാകുന്നതും എല്ലാ ദേഹികളെയും (ജീവന്മാരെയും) മോഹിപ്പിക്കുന്നതുമാണെന്നറിയൂ. അത് അശ്രദ്ധ, ആലസ്യം, ഉറക്ക എന്നിവയാല്\\u200d ദേഹിയെ ബന്ധിക്കുന്നു. <EOS>\\n', 'ഉണ്ടാക്കിയിട്ട് ഒരു യാമം (മൂന്നു മണിക്കൂര്\\u200d) കഴിഞ്ഞതും, സ്വാദു പോയതും, ദുര്\\u200dഗന്ധമുള്ളതും, ഒരു രാത്രി കഴിഞ്ഞതും, ഉച്ഛിഷ്ടവും, അശുദ്ധവുമായ ആഹാരമാണ് അതാമസികന്മാര്\\u200dക്ക് പ്രിയമായിട്ടുള്ളത്. <EOS>\\n', 'സഞ്ജയന്\\u200d പറഞ്ഞു: ഭരത വംശജനായ രാജാവേ, അര്\\u200dജുനനാല്\\u200d ഇങ്ങനെ പറയപ്പെട്ടപ്പോ\\u200c ള്\\u200d ശ്രീകൃഷ്ണന്\\u200d ഉത്തമമായ രഥത്തെ രണ്ടു സൈന്യത്തിന്റെയും നടുവില്\\u200d നിര്\\u200dത്തി, ഭീഷ്മര്\\u200d ദ്രോണര്\\u200d തുടങ്ങിയ എല്ലാ ഭൂപാലകരും നില്\\u200dക്കെ, “അര്\\u200dജുനാ, കൂട്ടംചേര്\\u200dന്നു നില്ക്കുന്ന ഈ കൗരവന്മാരെ കണ്ടുകൊള്\\u200dക” എന്നു പറഞ്ഞു. <EOS>\\n', 'ശ്രീകൃഷ്ണ\\u200dന്\\u200d പറഞ്ഞു: ഞാന്\\u200d ലോകത്തെ നശിപ്പിക്കുന്ന കാലം (കാല\\u200dന്\\u200d) ആകുന്നു. ഞാന്\\u200d ലോകസംഹാരകൃത്യത്തി\\u200dല്\\u200d ഏര്\\u200dപ്പെട്ടിരിക്കയാണ്. നീയില്ലെങ്കിലും (നീ യുദ്ധം ചെയ്തില്ലെങ്കിലും) ഇവിടെക്കൂടിയിരിക്കുന്ന ശത്രുപക്ഷത്തിലെ യോദ്ധാക്ക\\u200dളാരും ജീവിച്ചിരിക്കുകയില്ല. <EOS>\\n', 'ഭഗവാന്\\u200d പറഞ്ഞു: ആരാണോ സത്വഗുണകാര്യമായ പ്രകാശത്തിനെയും, രജോഗുണകാര്യമായ പ്രവൃത്തിയെയും, തമോഗുണകാര്യമായ മോഹത്തെയും അവ പ്രവര്\\u200dത്തിച്ചു കൊണ്ടിരിക്കുമ്പോള്\\u200d ദ്വേഷിക്കാതിരിക്കുകയും, അവയുടെ അഭാവത്തില്\\u200d അവയെ ക\\u200dാംക്ഷിക്കാതിരിക്കുകയും ചെയ്യുന്നത്, ആരാണോ ഉദാസീനനായിരിക്കുകയും, ഗുണങ്ങളാല്\\u200d ചലിക്ക പ്പെടാതിരിക്കുകയും, ഗുണങ്ങള്\\u200d സ്വയം പ്രവര്\\u200dത്തിക്കുന്നുവെന്നറിഞ്ഞ് ഇളകാതിരിക്കുകയും ചെയ്യുന്നത്, ആരാണോ സുഖദുഃഖങ്ങളെയും, സ്വര്\\u200dണ്ണത്തിനെയും മണ്\\u200dകട്ടയെയും, പ്രിയത്തെയും അപ്രിയത്തെയും, സ്തുതിയെയും നിന്ദയെയും ഒരു പോലെ കാണുകയും ചെയ്യുന്നത്, ആരാണോ മാനാപമാനങ്ങ\\u200dള്\\u200d ശത്രുമിത്രങ്ങള്\\u200d എന്നിവയെ തുല്യമായി കാണുകയും, എല്ലാ പ്രവൃത്തികളെയും ഉപേക്ഷിക്കുകയും ചെയ്യുന്നത് അയാള്\\u200d മൂന്നു ഗുണങ്ങളെ അതിവര്\\u200dത്തിച്ചവന്\\u200d (ത്രിഗുണാതീതന്\\u200d) ആകുന്നു. <EOS>\\n', 'ശ്രീകൃഷ്ണ\\u200dന്\\u200d പറഞ്ഞു: ഞാന്\\u200d ലോകത്തെ നശിപ്പിക്കുന്ന കാലം (കാല\\u200dന്\\u200d) ആകുന്നു. ഞാന്\\u200d ലോകസംഹാരകൃത്യത്തി\\u200dല്\\u200d ഏര്\\u200dപ്പെട്ടിരിക്കയാണ്. നീയില്ലെങ്കിലും (നീ യുദ്ധം ചെയ്തില്ലെങ്കിലും) ഇവിടെക്കൂടിയിരിക്കുന്ന ശത്രുപക്ഷത്തിലെ യോദ്ധാക്ക\\u200dളാരും ജീവിച്ചിരിക്കുകയില്ല. <EOS>\\n', 'ക്ലേശം ജനിപ്പിക്കാത്തതും എന്നാല്\\u200d സത്യവും, പ്രിയവും, ഹിതവുമായ വാക്കും, ശാസ്ത്രപാരായണവുമാണ് വാചികമായ തപസ്സെന്നു പറയപ്പെടുന്നു. <EOS>\\n', 'ഹേ പാര്\\u200dത്ഥ, യാതോരുവന്റെ ഉള്ളിലാണോ ഭൂതങ്ങ\\u200d\\u200dള്\\u200d സ്ഥിതിചെയ്യുന്നത്\\u200d, യാതോരുവനാല്\\u200d ഇതെല്ല\\u200dാം വ്യാപ്തമായിരി ക്കുന്നുവോ ആ പരമപുരുഷനെ ഏകാന്തഭക്തികൊണ്ട് പ്രാപിക്കാവുന്നതാണ്. <EOS>\\n', 'ഹേ അര്\\u200dജുന, ഈശ്വരന്\\u200d മായയാല്\\u200d യന്ത്രത്തില്\\u200d വെച്ചിരിക്കുന്ന വസ്തുക്കളെയെന്ന പോലെ സര്\\u200dവ്വജീവികളെയും പ്രവര്\\u200dത്തിപ്പിച്ചു കൊണ്ട് അവരുടെയെല്ല\\u200dാം ഹൃദയത്തില്\\u200d വസിക്കുന്നു. <EOS>\\n', 'സത്കാരം, അന്തസ്സ്, ബഹുമതി എന്നിവയ്ക്കുവേണ്ടി ഡംഭോടുകൂടി ചെയ്യപ്പെടുന്നതും, ചഞ്ചലവും, അസ്ഥിരവുമായ തപസ്സ് രാജസികമെന്നു പറയപ്പെടുന്നു. <EOS>\\n', 'അബദ്ധധാരണകളോടുകൂടി ചെയ്യപ്പെടുന്നതും സ്വയം പീഡയനുഭവിച്ചോ, അന്യനെ നശിപ്പിക്കുവാനുദ്ദേശിച്ചോ ഉള്ള തപസ്സ് താമസികമെന്നു പറയപ്പെടുന്നു. <EOS>\\n', 'ഹേ മഹാബാഹോ, എല്ലാ കര്\\u200dമ്മങ്ങളുടെ സിദ്ധിയ്ക്കായി സ\\u200dാംഖ്യത്തില്\\u200d പറഞ്ഞിരിക്കുന്ന അഞ്ചു ഘടകങ്ങള്\\u200d കേട്ടാലും. <EOS>\\n', 'ഹേ മഹാബാഹോ, എല്ലാ കര്\\u200dമ്മങ്ങളുടെ സിദ്ധിയ്ക്കായി സ\\u200dാംഖ്യത്തില്\\u200d പറഞ്ഞിരിക്കുന്ന അഞ്ചു ഘടകങ്ങള്\\u200d കേട്ടാലും. <EOS>\\n', 'ഹേ പാര്\\u200dത്ഥ, യാതോരുവന്റെ ഉള്ളിലാണോ ഭൂതങ്ങ\\u200d\\u200dള്\\u200d സ്ഥിതിചെയ്യുന്നത്\\u200d, യാതോരുവനാല്\\u200d ഇതെല്ല\\u200dാം വ്യാപ്തമായിരി ക്കുന്നുവോ ആ പരമപുരുഷനെ ഏകാന്തഭക്തികൊണ്ട് പ്രാപിക്കാവുന്നതാണ്. <EOS>\\n', 'യാതൊരുത്ത\\u200dര്\\u200d, നാശമില്ലാത്തതും, ഇന്നവിധത്തിലുള്ളതാണെന്നു വിവരിക്കുവാ\\u200d\\u200dന്\\u200dവയ്യാത്തതും, അവ്യക്തവും സ\\u200dര്\\u200dവവ്യാപ്തവുമായി രിക്കുന്നതും ചിന്തിച്ചറിയിപ്പാ\\u200d\\u200dന്\\u200d പ്രയാസമായിട്ടുള്ളതും മാറ്റം വരാത്തതും അനാദിയായിട്ടുള്ളതും ആയ ബ്രഹ്മത്തെ ഭജിക്കുകയും, ഇന്ദ്രിയങ്ങളെ അടക്കി സ\\u200dര്\\u200dവത്ര സമബുദ്ധിയോടും സ\\u200dര്\\u200dവഭൂതങ്ങ\\u200dള്\\u200dക്കും നന്മയെച്ചെയ്\\u200dവാനുള്ള താ\\u200dല്\\u200dപര്യത്തോടുംകൂടി വ\\u200dര്\\u200dത്തിക്കുകയും ചെയ്യുന്നുവോ അവ\\u200dര്\\u200d എന്നെത്തന്നെ പ്രാപിക്കുന്നു. <EOS>\\n', 'അവയെല്ല\\u200dാം സംയമനം ചെയ്തു യോഗയുക്തനായി എന്നില്\\u200d ഭക്തിയോടുകൂടി ഇരിക്കുക. ആര്\\u200dക്കു ഇന്ദ്രിയങ്ങള്\\u200d വശത്താണോ അവന്റെ പ്രജഞ പ്രതിഷ്ഠിതമാണ്. <EOS>\\n', 'മോക്ഷാര്\\u200dഥികള്\\u200d തത് (അത്) എന്നുച്ചരിച്ച് ഫലാക\\u200dാംക്ഷയില്ലാതെ യജ്ഞം, ദാനം, തപസ്സ് എന്നീ ക്രിയകള്\\u200d നടത്തുന്നു. <EOS>\\n', 'അര്\\u200dജുനന്\\u200d ചോദിച്ചു: ഹേ കൃഷ്ണാ, പിന്നെ ആര്\\u200d പ്രേരിപ്പിചിട്ടാണ് ഈ പുരുഷന്\\u200d താ\\u200dന്\\u200d ഇച്ഛിക്കാതെയിരുന്നിട്ടും ബലമായ ഏതോ ശക്തിയാല്\\u200d നിയുക്തനെന്നപോലെ പാപകര്\\u200dമ്മങ്ങ\\u200dള്\\u200d അനുഷ്ഠിക്കുന്നത്. <EOS>\\n', 'ഈശ്വരൻ ആരുടേയും പാപവും സുകൃതവും സ്വീകരിക്കുന്നില്ല. ജ്ഞാനം അജ്ഞാനത്താൽ മറയ്ക്കപ്പെട്ടിരിക്കുന്നതുകൊണ്ട് ജീവികൾ മോഹത്തിലാണ്ടുപോകുന്നു. <EOS>\\n', 'ഈശ്വരൻ ആരുടേയും പാപവും സുകൃതവും സ്വീകരിക്കുന്നില്ല. ജ്ഞാനം അജ്ഞാനത്താൽ മറയ്ക്കപ്പെട്ടിരിക്കുന്നതുകൊണ്ട് ജീവികൾ മോഹത്തിലാണ്ടുപോകുന്നു. <EOS>\\n', 'ആ അവ്യക്തം അക്ഷരമെന്നു പറയപ്പെടുന്നു. അതിനെ പരമമായ ഗതി (ലക്ഷ്യം) എന്ന് പറയുന്നു. ഏതിനെ പ്രാപിച്ചാല്\\u200d തിരിച്ചു വരുന്നില്ലയോ അതാണ് എന്റെ പരമമായ സ്ഥാനം. <EOS>\\n', 'ഭഗവാന്\\u200d പറഞ്ഞു: ഫലമുദ്ദേശിച്ചുള്ള കര്\\u200dമ്മങ്ങളെ വെടിയലാണ് സന്യാസമെന്നു ജ്ഞാനികള്\\u200d പറഞ്ഞിരിക്കുന്നത്. സകലകര്\\u200dമ്മങ്ങളുടെ ഫലങ്ങളെ ത്യജിക്കുന്നതാണ് ത്യാഗം എന്നു പറയപ്പെടുന്നത്. <EOS>\\n', 'ഭയമില്ലായ്മ, ഹൃദയശുദ്ധി, ജ്ഞാനത്തിലും യോഗത്തിലുമുള്ള നിഷ്ഠ, ദാനം, ഇന്ദ്രിയസംയമനം, യജ്ഞം, ശാസ്ത്രപാരായണം, തപസ്സ്, ആര്\\u200dജ്ജവം, അഹിംസാ, സത്യം, ക്രോധമില്ലായ്മ, ത്യാഗം, ശാന്തി, പരദൂഷണം ചെയ്യാതിരിക്കുക, ഭൂതദയാ, ആഗ്രഹമില്ലായ്മ, സൗമ്യത, ലജ്ജ, ചാപല്യമില്ലായ്മ, തേജസ്സ്, ക്ഷമാ, ശുചിത്വം, ദ്രോഹിക്കാതിരിക്കല്\\u200d, അഹങ്കാരമില്ലായ്മ എന്നിവ ദൈവീസമ്പത്തോടെ ജനിച്ചവനുണ്ടാകുന്ന ഗുണങ്ങളാണ്. <EOS>\\n', 'ഹേ അര്\\u200dജുന, ത്യാഗത്തെക്കുറിച്ചുള്ള എന്റെ അഭിപ്രായം കേള്\\u200dക്കൂ. ത്യാഗം മൂന്നു വിധത്തിലുള്ളതാണെന്ന് പറയപ്പെടുന്നു. <EOS>\\n', 'യജ്ഞം, ദാനം, തപസ്സ് എന്നീ കര്\\u200dമ്മങ്ങളെ ത്യജിക്കരുത്. അവ നിശ്ചയമായും ചെയ്യപ്പെടേണ്ടതാണ്. യജ്ഞം, ദാനം, തപസ്സ് എന്നിവ ബുദ്ധിമാന്മാര്\\u200dക്ക് മനഃശുദ്ധിയുണ്ടാക്കുന്നവയാണ്. <EOS>\\n', 'സത്വഗുണം (അധികരിച്ചിരിക്കുമ്പോള്\\u200d) രജസ്സിനെയും തമസ്സിനെയും കീഴ്\\u200cപെടുത്തുന്നു. അതുപോലെ, രജസ്സ് (അധികരിച്ചിരിക്കുമ്പോള്\\u200d\\u200d) സത്വത്തിനെയും തമസ്സിനെയും, തമസ്സ് (അധികരിച്ചിരിക്കുമ്പോള്\\u200d) സത്വത്തിനെയും രജസ്സിനെയും കീഴ്\\u200cപെടുത്തുന്നു. <EOS>\\n', 'ഹേ മഹാബാഹോ, ഗുണകര്\\u200dമ്മവിഭാഗങ്ങളുടെ തത്വമറിയുന്ന വനാകട്ടെ ഗുണപരിണാമങ്ങളായ ഇന്ദ്രിയങ്ങള്\\u200d ഗുണപരിണാമങ്ങ ളായ വിഷയങ്ങളില്\\u200d പ്രവര്\\u200dത്തിക്കുന്നുവെന്ന് ധരിച്ചിട്ട് അവയില്\\u200d ആസക്തനാകുന്നില്ല. <EOS>\\n', 'ദുഃഖകരമാണെന്നു കരുതി ശരീരക്ലേശത്തെ ഒഴിവാക്കാനായി ത്യജിക്കുകയാണെങ്കില്\\u200d അത് രാജസികത്യാഗമാണ്. അതിലൂടെ ശരിയായ ത്യാഗത്തിന്റെ ഫലം ലഭിക്കുകയില്ല. <EOS>\\n', 'ചെയ്യേണ്ടതാണെന്നുള്ള ബോദ്ധ്യത്തോടെ ശാസ്ത്രവിഹിതമായ കര്\\u200dമ്മം ആസക്തിയെയും ഫലത്തെയും ത്യജിച്ച് ചെയ്യുകയാ ണെങ്കില്\\u200d അതിനെ സാത്വികത്യാഗമെന്നു പറയുന്നു. <EOS>\\n', 'പാറ്റക\\u200dള്\\u200d എങ്ങനെ നശിക്കാനായിട്ടുതന്നെ കത്തിക്കാളുന്ന തീയി\\u200dല്\\u200dച്ചെന്നു വേഗത്തില്\\u200d വീഴുന്നുവോ, അതുപോലെ തന്നെ ഈ ജനങ്ങളും നാശത്തിനായി അതിവേഗത്തോടെ അവിടുത്തെ വക്\\u200cത്രങ്ങളി\\u200d\\u200dല്\\u200d പ്രവേശിക്കുന്നു. <EOS>\\n', 'ദേഹിയ്ക്ക് കര്\\u200dമ്മങ്ങളെ തികച്ചും പരിത്യജിക്കുവാന്\\u200d സാദ്ധ്യമല്ല. കര്\\u200dമ്മഫലത്തെ ത്യജിക്കുന്നവന്\\u200d തന്നെയാണ് ശരിയായ ത്യാഗി എന്നു പറയപ്പെടുന്നു. <EOS>\\n', 'പാറ്റക\\u200dള്\\u200d എങ്ങനെ നശിക്കാനായിട്ടുതന്നെ കത്തിക്കാളുന്ന തീയി\\u200dല്\\u200dച്ചെന്നു വേഗത്തില്\\u200d വീഴുന്നുവോ, അതുപോലെ തന്നെ ഈ ജനങ്ങളും നാശത്തിനായി അതിവേഗത്തോടെ അവിടുത്തെ വക്\\u200cത്രങ്ങളി\\u200d\\u200dല്\\u200d പ്രവേശിക്കുന്നു. <EOS>\\n', 'ഹേ മഹാബാഹോ, എല്ലാ കര്\\u200dമ്മങ്ങളുടെ സിദ്ധിയ്ക്കായി സ\\u200dാംഖ്യത്തില്\\u200d പറഞ്ഞിരിക്കുന്ന അഞ്ചു ഘടകങ്ങള്\\u200d കേട്ടാലും. <EOS>\\n', 'ഹേ പാര്\\u200dത്ഥ, ഈ വാക്കുകള്\\u200d കേട്ടിട്ട് അ\\u200dര്\\u200dജ്ജുന\\u200dന്\\u200d വിറച്ചുകൊണ്ട് ഭയത്തോടുകൂടി വീണ്ടും കൈകൂപ്പിത്തൊഴുതു പിന്നെയും പറഞ്ഞു: <EOS>\\n', 'ശരീരം, മനസ്സ്, വാക്ക് എന്നിവയാല്\\u200d മനുഷ്യന്\\u200d ചെയ്യുന്ന ശരിയോ തെറ്റോ ആയ എല്ലാ കര്\\u200dമ്മങ്ങളുടെയും കാരണങ്ങള്\\u200d ഇവയഞ്ചുമാകുന്നു. <EOS>\\n', 'അങ്ങനെയിരിക്കെ, കേവലനായ ആത്മാവിനെ കര്\\u200dത്താവായി കാണുന്ന അവിവേകിയായ ദുര്\\u200dമതി യാഥാര്\\u200dഥ്യം അറിയുന്നില്ല. <EOS>\\n', 'ഹേ മഹാനായ ദേവ! ഉഗ്രരൂപത്തോടുകൂടിയ ഭവാന്\\u200d ആരാണെന്നു പറഞ്ഞാലും. അങ്ങേയ്\\u200dക്കു നമസ്\\u200dകാരം! എന്നി\\u200dല്\\u200d പ്രസാദിക്കുമാറാകണേ! ആദിപുരുഷനായ ഭഗവാനെപ്പറ്റി വേണ്ടതി\\u200dന്\\u200dവണ്ണം മനസ്സിലാക്കണമെന്നു ഞാനാഗ്രഹിക്കുന്നു. അവിടുത്തെ പ്രവൃത്തിയെ (ഉദ്ദേശത്തെ)ക്കുറിച്ച് എനിക്കറിഞ്ഞുകൂടാ. <EOS>\\n', 'ഹേ മഹാബാഹോ, ഇപ്രകാരം ബുദ്ധിയേക്കാള്\\u200d സൂക്ഷ്മമായ ആത്മാവിനെ അറിഞ്ഞിട്ട് ബുദ്ധികൊണ്ട് മനസ്സിനെ അടക്കിയിട്ട് കീഴടക്കാന്\\u200d എളുപ്പമല്ലാത്ത കാമരൂപനും ദുര്\\u200dജയനുമായ ഈ ശത്രുവിനെ നശിപ്പിക്കുക. <EOS>\\n', 'മനസ്സിനെ എന്നി\\u200dല്\\u200dതന്നെ നിലനി\\u200dര്\\u200dത്തുക; സ്ഥിരമായി എന്നി\\u200cല്\\u200dതന്നെ ബുദ്ധിയെ ചെലുത്തുക; അങ്ങനെ ചെയ്താല്\\u200d നീ എന്നില്\\u200d തന്നെ നിവസിക്കും, സംശയമില്ല. <EOS>\\n', 'യാതൊരു ജ്ഞാനം ഒരു കാര്യത്തില്\\u200d (ശരീരത്തില്\\u200d) തന്നെ പൂര്\\u200dണ്ണമാണെന്നുള്ള ധാരണയില്\\u200d ആസക്തിയോടെയും, കാരണ മില്ലാതെയും, സത്യത്തെ അറിയാതെയും, അല്പമായുമിരിക്കുന്നുവോ അത് താമസികജ്ഞാനമാണ്. <EOS>\\n', 'യാതൊരു ജ്ഞനമാണോ സര്\\u200dവ്വജീവജാലങ്ങളിലും നാനാതരത്തിലുള്ള ഭാവങ്ങളെ ദര്\\u200dശിക്കുന്നത് അത് രാജസമാണ്. <EOS>\\n', 'യാതൊരു ജ്ഞാനം ഒരു കാര്യത്തില്\\u200d (ശരീരത്തില്\\u200d) തന്നെ പൂര്\\u200dണ്ണമാണെന്നുള്ള ധാരണയില്\\u200d ആസക്തിയോടെയും, കാരണ മില്ലാതെയും, സത്യത്തെ അറിയാതെയും, അല്പമായുമിരിക്കുന്നുവോ അത് താമസികജ്ഞാനമാണ്. <EOS>\\n', 'യാതൊരു ജ്ഞാനം ഒരു കാര്യത്തില്\\u200d (ശരീരത്തില്\\u200d) തന്നെ പൂര്\\u200dണ്ണമാണെന്നുള്ള ധാരണയില്\\u200d ആസക്തിയോടെയും, കാരണ മില്ലാതെയും, സത്യത്തെ അറിയാതെയും, അല്പമായുമിരിക്കുന്നുവോ അത് താമസികജ്ഞാനമാണ്. <EOS>\\n', 'യാദൃച്ഛയാ ലഭിക്കുന്നതുകൊണ്ട് സന്തുഷ്ടനും സുഖദുഃഖാദി ദ്വന്ദ്വങ്ങളെ അതിജീവിച്ചവനും നി\\u200d\\u200d\\u200d\\u200dര്\\u200dമ്മത്സരനും ജയപരാജയങ്ങളില്\\u200d സമചിത്തനും ആയവന്\\u200d കര്\\u200dമ്മം ചെയ്താലും ബദ്ധനാകുന്നില്ല. <EOS>\\n', 'ഹേ പാ\\u200dണ്ഡവാ, അതറിഞ്ഞാല്\\u200d പിന്നെയിങ്ങനെ ഭ്രമം നിനക്കുണ്ടാവില്ല. ഇതു മൂലം ഭൂതങ്ങളെയെല്ല\\u200dാം തന്നിലും പിന്നെ എന്നിലും നീ കാണും. <EOS>\\n', 'ആസക്തിയും അഹന്തയും ഇല്ലാത്തവനും, ധൈര്യം, ഉത്സാഹം എന്നിവയുള്ളവനും, ജയപരാജയങ്ങളില്\\u200d ഇളകാത്തവനുമായ കര്\\u200dത്താവ് സാത്വികനാണെന്നു പറയപ്പെടുന്നു. <EOS>\\n', 'സകാമക\\u200dര്\\u200dമ്മത്തി\\u200cല്\\u200d ആസക്തരായ മൂഢജനങ്ങളുടെ ബുദ്ധിയെ വിദ്വാ\\u200dന്\\u200d ഒരിക്കലും ഇളക്കരുത്. വിദ്വാന്\\u200d എല്ലാ കര്\\u200dമങ്ങളും യോഗയുക്തനായി വഴിപോലെ ആചരിച്ച് <EOS>\\n', 'സ്ഥിരതയില്ലാത്തവനും, പ്രാകൃതനും, അഹങ്കാരവും ദര്\\u200dപ്പവുമുള്ളവനും, നീചനും അലസനും, ദുഃഖിതനും, ദീര്\\u200dഘസൂത്രിയുമായ (ചെയ്യാനുള്ള കാര്യങ്ങള്\\u200d നീട്ടിവെയ്ക്കുന്ന സ്വഭാവമുള്ളയാള്\\u200d) കര്\\u200dത്താവ് താമസികനാണ് എന്നു പറയപ്പെടുന്നു. <EOS>\\n', 'ഗുണങ്ങളുടെ അടിസ്ഥാനത്തില്\\u200d മൂന്നു വിധത്തിലുള്ള ബുദ്ധിയെയും, ധൈര്യത്തെയും കുറിച്ച് ഞാന്\\u200d ഓരോന്നായി വിശദീകരിക്കുന്നതു കേട്ടാലും. <EOS>\\n', 'പരിശുദ്ധമായ ബുദ്ധിയാല്\\u200d മനസ്സിനെ ധൈര്യപൂര്\\u200dവ്വം നിയന്ത്രിച്ച്, ശബ്ദം, സ്പര്\\u200dശം, തുടങ്ങിയ വിഷയങ്ങളെ ത്യജിച്ച്, രാഗദ്വേഷങ്ങളെ അകറ്റി, വിജനപ്രദേശത്തു വസിച്ച്, മിതമായഹരിച്ച്, ശരീരം, മനസ്സ്, വാക്ക് എന്നിവയെ സംയമിച്ച്, സദാ വൈരാഗ്യത്തോടെ, ധ്യാനയോഗതത്പരനായി, അഹങ്കാരം, ബലം, അഭിമാനം, കാമം, ക്രോധം, പരിഗ്രഹം എന്നിവയെ വെടിഞ്ഞ്, നിര്\\u200dമമനായി, ശാന്തനായിരിക്കുന്നവന്\\u200d ബ്രഹ്മപദത്തെ പ്രാപിക്കുന്നു. <EOS>\\n', 'സത്വഗുണം (അധികരിച്ചിരിക്കുമ്പോള്\\u200d) രജസ്സിനെയും തമസ്സിനെയും കീഴ്\\u200cപെടുത്തുന്നു. അതുപോലെ, രജസ്സ് (അധികരിച്ചിരിക്കുമ്പോള്\\u200d\\u200d) സത്വത്തിനെയും തമസ്സിനെയും, തമസ്സ് (അധികരിച്ചിരിക്കുമ്പോള്\\u200d) സത്വത്തിനെയും രജസ്സിനെയും കീഴ്\\u200cപെടുത്തുന്നു. <EOS>\\n', 'അജ്ഞാനത്താല്\\u200d ആവരണം ചെയ്യപ്പെട്ടതുകൊണ്ട് അധര്\\u200dമ്മത്തെ ധര്\\u200dമ്മമായി തെറ്റിദ്ധരിക്കുകയും, സകലതിനെയും നേരെ വിപരീതമായ വിധത്തില്\\u200d അറിയുകയും ചെയ്യുന്ന ബുദ്ധി താമസികബുദ്ധിയാകുന്നു. <EOS>\\n', 'മനസ്സിന്റെയും, പ്രാണന്റെയും, ഇന്ദ്രിയങ്ങളുടെയും വ്യാപാരങ്ങളെ ഒട്ടും വ്യതിചലിക്കാത്ത യോഗത്താല്\\u200d അടക്കിനിര്\\u200dത്തുന്ന ധൈര്യം (ധൃതി) സാത്വികമാണ്. <EOS>\\n', 'ധര്\\u200dമ്മം, അര്\\u200dഥം, കാമം എന്നിവയെ ആസക്തിയോടെയും ഫലാക\\u200dാംക്ഷയോടെയും അടക്കിനിര്\\u200dത്തുന്ന ധൈര്യം രാജസികമാണ്. <EOS>\\n', 'ദുര്\\u200dബുദ്ധിയായ ഒരുവന്\\u200d യാതൊരു ധൈര്യത്താല്\\u200d സ്വപ്നം, ഭയം, ദുഃഖം, വ്യസനം, അഹങ്കാരം എന്നിവയെ പരിത്യജിക്കാ തിരിക്കുന്നുവോ അത് താമസികമാണ്. <EOS>\\n', 'ഹേ അര്\\u200dജുന, ഇനി മൂന്നു വിധത്തിലുള്ള സുഖത്തെ കേട്ടുകൊള്ളുക. അഭ്യാസം കൊണ്ട് യാതൊരു സുഖത്തില്\\u200d സന്തോഷിച്ചു തുടങ്ങുകയും, ദുഃഖത്തിനറുതി വരുകയും ചെയ്യുന്നുവോ, ആദ്യം വിഷം പോലെയും ഒടുവില്\\u200d അമൃതസമാനമായും അനുഭവപ്പെടുന്നുവോ, ആത്മജ്ഞാനത്തില്\\u200dനിന്നുണ്ടാകുന്ന ആ സുഖം സാത്വികമാണ്. <EOS>\\n', 'വിഷയങ്ങളുടെയും ഇന്ദ്രിയങ്ങളുടെയും സമ്പര്\\u200dക്കം കൊണ്ടുണ്ടാകുന്നതും ആദ്യം അമൃതു പോലെയും ഒടുവില്\\u200d വിഷസമാനമായുമിരിക്കുന്നുവോ ആ സുഖം രാജസികമാണ്. <EOS>\\n', 'ഉറക്കം, ആലസ്യം, അശ്രദ്ധ എന്നിവയില്\\u200d നിന്നുണ്ടാകുന്നതും തുടക്കത്തിലും ഒടുവിലും ഒരുവനെ മോഹിപ്പിക്കുകയും ചെയ്യുന്ന സുഖം താമസികമാണ്. <EOS>\\n', 'ഉറക്കം, ആലസ്യം, അശ്രദ്ധ എന്നിവയില്\\u200d നിന്നുണ്ടാകുന്നതും തുടക്കത്തിലും ഒടുവിലും ഒരുവനെ മോഹിപ്പിക്കുകയും ചെയ്യുന്ന സുഖം താമസികമാണ്. <EOS>\\n', 'ഹേ അര്\\u200dജുന, ത്യാഗത്തെക്കുറിച്ചുള്ള എന്റെ അഭിപ്രായം കേള്\\u200dക്കൂ. ത്യാഗം മൂന്നു വിധത്തിലുള്ളതാണെന്ന് പറയപ്പെടുന്നു. <EOS>\\n', 'വിഷയങ്ങളുടെയും ഇന്ദ്രിയങ്ങളുടെയും സമ്പര്\\u200dക്കം കൊണ്ടുണ്ടാകുന്നതും ആദ്യം അമൃതു പോലെയും ഒടുവില്\\u200d വിഷസമാനമായുമിരിക്കുന്നുവോ ആ സുഖം രാജസികമാണ്. <EOS>\\n', 'എന്റെ അവ്യയവും അനുത്തമവും തമോഗുണസ്പര്\\u200dശമില്ലാത്തതുമായ സര്\\u200dവാതീതഭാവത്തെ അറിയാതെ അവ്യക്തനായ എന്നെ വ്യക്തിത്വം പ്രാപിച്ചവനെന്നു ബുദ്ധിഹീനര്\\u200d വിചാരിക്കുന്നു. <EOS>\\n', 'ഹേ രാജന്\\u200d\\u200d, വിഷ്ണുവിന്റെ ആ അത്ഭുതകരമായ രൂപത്തെ (വിശ്വരൂപത്തെ) ഓര്\\u200dക്കുന്തോറും എനിക്ക് പിന്നെയും പിന്നെയും മഹത്തായ വിസ്മയവും ആനന്ദവുമുണ്ടാകുന്നു. <EOS>\\n', 'ശുദ്ധീകരണവസ്തുക്കളി\\u200d\\u200dല്\\u200d വായുവും, ആയുധധാരികളി\\u200dല്\\u200d രാമനും ഞാനാണ്. മത്സ്യങ്ങളി\\u200d\\u200dല്\\u200d മകരവും, നദികളില്\\u200d ഗംഗയും ഞാനാണ്. <EOS>\\n', 'ധനഞജയാ, യോഗത്താല്\\u200d കര്\\u200dമ്മങ്ങള്\\u200d ഉപേക്ഷിച്ചവനും ജ്ഞാനംകൊണ്ടു സംശയങ്ങള്\\u200d നിഃശേഷം തീര്\\u200dന്നവനും ആത്മനിഷ്ഠനുമായവനെ കര്\\u200dമ്മങ്ങള്\\u200d ഒരുവിധത്തിലും ബന്ധിക്കുന്നില്ല. <EOS>\\n', 'ഹേ രാജന്\\u200d\\u200d, വിഷ്ണുവിന്റെ ആ അത്ഭുതകരമായ രൂപത്തെ (വിശ്വരൂപത്തെ) ഓര്\\u200dക്കുന്തോറും എനിക്ക് പിന്നെയും പിന്നെയും മഹത്തായ വിസ്മയവും ആനന്ദവുമുണ്ടാകുന്നു. <EOS>\\n', 'ഹേ കൌന്തേയ, ഞാന്\\u200d ജലത്തിലെ രസമാകുന്നു. ചന്ദ്രസൂര്യന്\\u200dമാരിലെ ശോഭയാകുന്നു. വേദമന്ത്രങ്ങളില്\\u200d പ്രണവമാകുന്നു. ആകാശത്തിലെ ശബ്ദമാകുന്നു. മനുഷ്യരിലെ പൗരുഷവുമാകുന്നു. <EOS>\\n', 'എല്ലാ വിഷയങ്ങളിലും അനാസക്തനും, മനസ്സിനെ ജയിച്ചവനും, ആഗ്രഹങ്ങളില്ലാത്തവനുമായ മനുഷ്യന്\\u200d ത്യാഗത്തിന്റെ ഫലമായി നൈഷ്കര്\\u200dമ്യത്തെ (താന്\\u200d കര്\\u200dമ്മം ചെയ്യുന്നു എന്ന ഭാവമില്ലായ്മ) പ്രാപിക്കുന്നു. <EOS>\\n', 'ഈ നൈഷ്കര്\\u200dമ്യത്തെ പ്രാപിച്ചവന്\\u200d ജ്ഞാനത്തിന്റെ പരമാവസ്ഥയായ ബ്രഹ്മത്തെ പ്രാപിക്കുന്നതെങ്ങനെയെന്നു സംക്ഷിപ്തമായി കേട്ടാലും. <EOS>\\n', 'പരിശുദ്ധമായ ബുദ്ധിയാല്\\u200d മനസ്സിനെ ധൈര്യപൂര്\\u200dവ്വം നിയന്ത്രിച്ച്, ശബ്ദം, സ്പര്\\u200dശം, തുടങ്ങിയ വിഷയങ്ങളെ ത്യജിച്ച്, രാഗദ്വേഷങ്ങളെ അകറ്റി, വിജനപ്രദേശത്തു വസിച്ച്, മിതമായഹരിച്ച്, ശരീരം, മനസ്സ്, വാക്ക് എന്നിവയെ സംയമിച്ച്, സദാ വൈരാഗ്യത്തോടെ, ധ്യാനയോഗതത്പരനായി, അഹങ്കാരം, ബലം, അഭിമാനം, കാമം, ക്രോധം, പരിഗ്രഹം എന്നിവയെ വെടിഞ്ഞ്, നിര്\\u200dമമനായി, ശാന്തനായിരിക്കുന്നവന്\\u200d ബ്രഹ്മപദത്തെ പ്രാപിക്കുന്നു. <EOS>\\n', 'ബ്രഹ്മഭാവത്തെ പ്രാപിച്ചവന്\\u200d പ്രസന്നമായ മനസ്സോടെ, ഒന്നും ആഗ്രഹിക്കുകയോ ഒന്നിലും ദുഃഖിക്കുകയോ ചെയ്യാതെ, സര്\\u200dവ്വഭൂതങ്ങളിലും സമനായി എന്നില്\\u200d പരമമായ ഭക്തിയെ നേടുന്നു. <EOS>\\n', 'ഭക്തികൊണ്ട് ഞാന്\\u200d തത്വത്തില്\\u200d എങ്ങനെയുള്ളവനാണ് എന്നറിയുന്നവന്\\u200d അതിന്റെ ഫലമായി എന്നെ പ്രാപിക്കുന്നു. <EOS>\\n', 'ഈ യുദ്ധം അപ്രതീക്ഷിതമായി തുറന്നുകിട്ടിയ സ്വര്\\u200dഗ്ഗവാതില്\\u200d പോലെയാണ്. ഹേ പാര്\\u200dത്ഥ, ഭാഗ്യവാന്മാരായ ക്ഷത്രിയര്\\u200dക്ക് മാത്രമാണ് ഈ വിധമുള്ള യുദ്ധം ലഭിക്കുന്നത്\\u200c. <EOS>\\n', 'എല്ലാ കര്\\u200dമ്മങ്ങളും മനസാ എന്നില്\\u200d സമര്\\u200dപ്പിച്ച്, ബുദ്ധിയോഗത്തെ ആശ്രയിച്ച്, മനസ്സിനെ സദാ എന്നില്\\u200d തന്നെ ഉറപ്പിക്കുക. <EOS>\\n', 'ഹേ അര്\\u200dജുനാ, എന്റെ യോനിയാകുന്ന മഹാപ്രകൃതിയില്\\u200d ഞാന്\\u200d ബീജത്തെ നിക്ഷേപിക്കുന്നു. സര്\\u200dവ്വ ജീവരാശികളുടെയും ജന്മം അതില്\\u200dനിന്നാണ്. <EOS>\\n', 'ക\\u200dര്\\u200dമ്മത്തിന്റെ സ്വരൂപം അറിയേണ്ടതുണ്ട്. വിക\\u200dര്\\u200dമ്മത്തിന്റെ സ്വരൂപവും അകര്\\u200dമത്തിന്റെ സ്വരൂപവും അറിയെണ്ടതുണ്ട്. എന്ത് കൊണ്ടെന്നാല്\\u200d ക\\u200dര്\\u200dമ്മത്തിന്റെ ഗതി (പോക്ക്) അറിയാന്\\u200d വളരെ വിഷമമുള്ളതാണ്. <EOS>\\n', 'ക\\u200dര്\\u200dമ്മത്തില്\\u200d അക\\u200dര്\\u200dമ്മവും അക\\u200dര്\\u200dമ്മത്തില്\\u200d ക\\u200dര്\\u200dമ്മവും യാതൊരുവ\\u200dന്\\u200d കാണുന്നുവോ അവനാണ് മനുഷ്യരില്\\u200d വച്ചു ബുദ്ധിമാ\\u200dന്\\u200d. അവനാണ് യോഗിയും എല്ലാ ക\\u200cര്\\u200dമ്മങ്ങളും അനുഷ്ഠിക്കുന്നവനും. <EOS>\\n', 'ഹേ അര്\\u200dജുന, ഈശ്വരന്\\u200d മായയാല്\\u200d യന്ത്രത്തില്\\u200d വെച്ചിരിക്കുന്ന വസ്തുക്കളെയെന്ന പോലെ സര്\\u200dവ്വജീവികളെയും പ്രവര്\\u200dത്തിപ്പിച്ചു കൊണ്ട് അവരുടെയെല്ല\\u200dാം ഹൃദയത്തില്\\u200d വസിക്കുന്നു. <EOS>\\n', 'ഹേ ഭാരത, നീ ഈശ്വരനെത്തന്നെ സര്\\u200dവ്വഭാവത്തിലും ശരണമടഞ്ഞാലും. ഈശ്വരന്റെ പ്രസാദത്താല്\\u200d നീ പരമമായ ശാന്തിയെയും ശാശ്വതമായ പദത്തെയും പ്രാപിക്കും. <EOS>\\n', 'യജ്ഞത്തിന്റെയും തപസ്സിന്റെയും ഭോക്താവും ലോകങ്ങളുടെയെല്ലാം നാഥനും എല്ലാ ജീവികളുടെയും സുഹൃത്തുമായി എന്നെ അറിയുന്നവൻ ശാന്തിയെ പ്രാപിക്കുന്നു. <EOS>\\n', 'ഹേ കൌന്തേയ, ഞാന്\\u200d ജലത്തിലെ രസമാകുന്നു. ചന്ദ്രസൂര്യന്\\u200dമാരിലെ ശോഭയാകുന്നു. വേദമന്ത്രങ്ങളില്\\u200d പ്രണവമാകുന്നു. ആകാശത്തിലെ ശബ്ദമാകുന്നു. മനുഷ്യരിലെ പൗരുഷവുമാകുന്നു. <EOS>\\n', 'ധനഞജയാ, യോഗത്താല്\\u200d കര്\\u200dമ്മങ്ങള്\\u200d ഉപേക്ഷിച്ചവനും ജ്ഞാനംകൊണ്ടു സംശയങ്ങള്\\u200d നിഃശേഷം തീര്\\u200dന്നവനും ആത്മനിഷ്ഠനുമായവനെ കര്\\u200dമ്മങ്ങള്\\u200d ഒരുവിധത്തിലും ബന്ധിക്കുന്നില്ല. <EOS>\\n', 'എന്തുകൊണ്ടെന്നാല്\\u200d ക\\u200d\\u200d\\u200dര്\\u200dമ്മം കൊണ്ടുതന്നെയാണ് ജനകാദികള്\\u200d സിദ്ധിയെ പ്രാപിച്ചത്. ലോകസംരക്ഷണത്തെ ഓര്\\u200dത്തിട്ടായാലും നീ പ്രവര്\\u200dത്തിക്കേണ്ടതാണ്. എന്ന് പറയപ്പെടുന്നു <EOS>\\n', 'ഭയംകൊണ്ടു യുദ്ധത്തില്\\u200dനിന്നും പിന്തിരിഞ്ഞവനായി മഹാരഥന്മാര്\\u200d നിന്നെ കണക്കാക്കും. അവര്\\u200dക്കെല്ല\\u200dാം ബഹുമാന്യനായി ഇരിക്കുന്ന നീ അങ്ങിനെ നിസ്സാരനായി തീരും. <EOS>\\n', 'ഹേ പാര്\\u200dത്ഥ, യാതോരുവന്റെ ഉള്ളിലാണോ ഭൂതങ്ങ\\u200d\\u200dള്\\u200d സ്ഥിതിചെയ്യുന്നത്\\u200d, യാതോരുവനാല്\\u200d ഇതെല്ല\\u200dാം വ്യാപ്തമായിരി ക്കുന്നുവോ ആ പരമപുരുഷനെ ഏകാന്തഭക്തികൊണ്ട് പ്രാപിക്കാവുന്നതാണ്. <EOS>\\n', 'മനുഷ്യരില്\\u200d അവനേക്കാള്\\u200d എനിക്കു പ്രിയം ചെയ്തവനായി ആരുമില്ല. ഈ ഭൂമിയില്\\u200d അവനെക്കാള്\\u200d പ്രിയതരനായി വേറെയാരും ഉണ്ടായിരിക്കുകയില്ല. <EOS>\\n', 'നമ്മുടെ ധര്\\u200dമ്മമൃതമായ ഈ സംവാദത്തെ പഠിക്കുന്നവനാല്\\u200d ജ്ഞാനയജ്ഞത്താല്\\u200d ഞാന്\\u200d യജിക്കപ്പെടുന്നു എന്നാണ് എന്റെ അഭിപ്രായം. <EOS>\\n', 'ആ അവ്യക്തം അക്ഷരമെന്നു പറയപ്പെടുന്നു. അതിനെ പരമമായ ഗതി (ലക്ഷ്യം) എന്ന് പറയുന്നു. ഏതിനെ പ്രാപിച്ചാല്\\u200d തിരിച്ചു വരുന്നില്ലയോ അതാണ് എന്റെ പരമമായ സ്ഥാനം. <EOS>\\n', 'ഹേ പാര്\\u200dഥ, നീ ഏകാഗ്രചിത്തനായി ഇതെല്ല\\u200dാം കേട്ടുവോ? നിന്റെ അജ്ഞാനവും മോഹവും നഷ്ടമായോ? <EOS>\\n', 'അര്\\u200dജുനാ, യജ്ഞത്തിനുള്ള ക\\u200d\\u200d\\u200dര്\\u200dമ്മം ഒഴിച്ച് മറ്റു ക\\u200d\\u200d\\u200dര്\\u200dമ്മങ്ങളാല്\\u200d ബന്ധിക്കപ്പെട്ടതാണ് ഈ ലോകം. സംഗരഹിതനായി നീ ക\\u200d\\u200d\\u200dര്\\u200dമ്മം ആചരിക്കുക. <EOS>\\n', 'ശ്രീ ഭഗവാന്\\u200d പറഞ്ഞു: ബ്രഹ്മം സ\\u200dവ്വോത്കൃഷ്ടവും അക്ഷരവും (അനശ്വരവും) ആകുന്നു. അധ്യാത്മം സ്വഭാവമാണെന്ന് പറയപ്പെടുന്നു. സകലജീവജാലങ്ങളും ഉദ്ഭവത്തിന് കാരണമായ വിശിഷ്ടമായ സൃഷ്ടിവ്യാപാരമാണ് ക\\u200dര്\\u200dമ്മമെന്നറിയപ്പെടുന്നത്. <EOS>\\n', 'സത്വഗുണം (അധികരിച്ചിരിക്കുമ്പോള്\\u200d) രജസ്സിനെയും തമസ്സിനെയും കീഴ്\\u200cപെടുത്തുന്നു. അതുപോലെ, രജസ്സ് (അധികരിച്ചിരിക്കുമ്പോള്\\u200d\\u200d) സത്വത്തിനെയും തമസ്സിനെയും, തമസ്സ് (അധികരിച്ചിരിക്കുമ്പോള്\\u200d) സത്വത്തിനെയും രജസ്സിനെയും കീഴ്\\u200cപെടുത്തുന്നു. <EOS>\\n', 'ഹേ രാജന്\\u200d, അത്ഭുതകരമായ ആ സംവാദം ഓര്\\u200dക്കുന്തോറും ഞാന്\\u200d വീണ്ടും വീണ്ടും സന്തോഷിക്കുന്നു. <EOS>\\n', 'ഹേ രാജന്\\u200d\\u200d, വിഷ്ണുവിന്റെ ആ അത്ഭുതകരമായ രൂപത്തെ (വിശ്വരൂപത്തെ) ഓര്\\u200dക്കുന്തോറും എനിക്ക് പിന്നെയും പിന്നെയും മഹത്തായ വിസ്മയവും ആനന്ദവുമുണ്ടാകുന്നു. <EOS>\\n', 'ഹേ പാര്\\u200dത്ഥ, യാതോരുവന്റെ ഉള്ളിലാണോ ഭൂതങ്ങ\\u200d\\u200dള്\\u200d സ്ഥിതിചെയ്യുന്നത്\\u200d, യാതോരുവനാല്\\u200d ഇതെല്ല\\u200dാം വ്യാപ്തമായിരി ക്കുന്നുവോ ആ പരമപുരുഷനെ ഏകാന്തഭക്തികൊണ്ട് പ്രാപിക്കാവുന്നതാണ്. <EOS>\\n', 'ഹേ ഭാരതാ, അപണ്ഡിതന്മാര്\\u200d ക\\u200dര്\\u200dമ്മത്തില്\\u200d ആസക്തരായി എങ്ങിനെയെല്ല\\u200dാം പ്രവര്\\u200dത്തിക്കുന്നുവോ പണ്ഡിതന്\\u200d ലോകത്തിന്റെ നിലനില്\\u200dപ്പ്\\u200c ക\\u200dാംക്ഷിച്ചുകൊണ്ടു നിസ്സംഗനായി അതേവിധം പ്രവ\\u200dര്\\u200dത്തിക്കണം. <EOS>\\n', 'ഹേ പാ\\u200dണ്ഡവാ, അതറിഞ്ഞാല്\\u200d പിന്നെയിങ്ങനെ ഭ്രമം നിനക്കുണ്ടാവില്ല. ഇതു മൂലം ഭൂതങ്ങളെയെല്ല\\u200dാം തന്നിലും പിന്നെ എന്നിലും നീ കാണും. <EOS>\\n', 'അവയെല്ല\\u200dാം സംയമനം ചെയ്തു യോഗയുക്തനായി എന്നില്\\u200d ഭക്തിയോടുകൂടി ഇരിക്കുക. ആര്\\u200dക്കു ഇന്ദ്രിയങ്ങള്\\u200d വശത്താണോ അവന്റെ പ്രജഞ പ്രതിഷ്ഠിതമാണ്. <EOS>\\n', 'ഹേ ഭാരത, നീ ഈശ്വരനെത്തന്നെ സര്\\u200dവ്വഭാവത്തിലും ശരണമടഞ്ഞാലും. ഈശ്വരന്റെ പ്രസാദത്താല്\\u200d നീ പരമമായ ശാന്തിയെയും ശാശ്വതമായ പദത്തെയും പ്രാപിക്കും. <EOS>\\n', 'അവയെല്ല\\u200dാം സംയമനം ചെയ്തു യോഗയുക്തനായി എന്നില്\\u200d ഭക്തിയോടുകൂടി ഇരിക്കുക. ആര്\\u200dക്കു ഇന്ദ്രിയങ്ങള്\\u200d വശത്താണോ അവന്റെ പ്രജഞ പ്രതിഷ്ഠിതമാണ്. <EOS>\\n', 'ഇനി ഈ ധ\\u200dര്\\u200dമ്മമാ\\u200dര്\\u200dഗ്ഗത്തെ പറഞ്ഞതി\\u200dന്\\u200d വണ്ണം ശ്രദ്ധയോടും എന്നില്\\u200d ശരണബുദ്ധിയോടും കൂടി അനുഷ്ഠിക്കുന്ന ഭക്തന്മാര്\\u200d <EOS>\\n', 'ഹേ മഹാബാഹോ, എല്ലാ കര്\\u200dമ്മങ്ങളുടെ സിദ്ധിയ്ക്കായി സ\\u200dാംഖ്യത്തില്\\u200d പറഞ്ഞിരിക്കുന്ന അഞ്ചു ഘടകങ്ങള്\\u200d കേട്ടാലും. <EOS>\\n', 'ഈ പ്രപഞ്ചത്തിന്റെ പിതാവും, മാതാവും, പിതാമഹനും, രക്ഷകനും ഞാന്\\u200d തന്നെ. അറിയപ്പെടേണ്ടതും പരിശുദ്ധവുമായ ഓങ്കാരവും, ഋഗ്വേദം, സാമവേദം, യജു\\u200dര്\\u200dവേദം എന്നിവയും ഞാ\\u200d\\u200dന്\\u200dതന്നെ. <EOS>\\n', 'യാതോന്നറിഞ്ഞാല്\\u200d പിന്നെ അറിയേണ്ടതായി മറ്റൊന്നും ഈ ലോകത്തില്\\u200d അവശേഷിക്കയില്ലയോ ആ ജ്ഞാനം വിജ്ഞാനത്തോടുകൂടി ഞാന്\\u200d പൂര്\\u200dണമായി നിനക്കിതാ ഉപദേശിക്കാന്\\u200d പോകുന്നു. <EOS>\\n', 'എല്ലാ വിഷയങ്ങളിലും അനാസക്തനും, മനസ്സിനെ ജയിച്ചവനും, ആഗ്രഹങ്ങളില്ലാത്തവനുമായ മനുഷ്യന്\\u200d ത്യാഗത്തിന്റെ ഫലമായി നൈഷ്കര്\\u200dമ്യത്തെ (താന്\\u200d കര്\\u200dമ്മം ചെയ്യുന്നു എന്ന ഭാവമില്ലായ്മ) പ്രാപിക്കുന്നു. <EOS>\\n', 'അവയെല്ല\\u200dാം സംയമനം ചെയ്തു യോഗയുക്തനായി എന്നില്\\u200d ഭക്തിയോടുകൂടി ഇരിക്കുക. ആര്\\u200dക്കു ഇന്ദ്രിയങ്ങള്\\u200d വശത്താണോ അവന്റെ പ്രജഞ പ്രതിഷ്ഠിതമായിരിക്കുന്നു. <EOS>\\n', 'ഹേ അര്\\u200dജുനാ, അധികം ആഹാരം കഴിക്കുന്നവനും, ഒട്ടും ആഹാരം കഴിക്കാത്തവനും യോഗമില്ല. അധികം ഉറങ്ങുന്നവനും എപ്പോഴും ഉണര്\\u200dന്നിരിക്കുന്നവനും യോഗം സംഭവിക്കുകയില്ല. <EOS>\\n', 'ഹേ ഭാരത, തമസ്സ് അജ്ഞാനത്തില്\\u200d നിന്നുണ്ടാകുന്നതും എല്ലാ ദേഹികളെയും (ജീവന്മാരെയും) മോഹിപ്പിക്കുന്നതുമാണെന്നറിയൂ. അത് അശ്രദ്ധ, ആലസ്യം, ഉറക്ക എന്നിവയാല്\\u200d ദേഹിയെ ബന്ധിക്കുന്നു. <EOS>\\n', 'ഹേ അര്\\u200dജുന, ഈശ്വരന്\\u200d മായയാല്\\u200d യന്ത്രത്തില്\\u200d വെച്ചിരിക്കുന്ന വസ്തുക്കളെയെന്ന പോലെ സര്\\u200dവ്വജീവികളെയും പ്രവര്\\u200dത്തിപ്പിച്ചു കൊണ്ട് അവരുടെയെല്ല\\u200dാം ഹൃദയത്തില്\\u200d വസിക്കുന്നു. <EOS>\\n', 'ഹേ മഹാബാഹോ, എല്ലാ കര്\\u200dമ്മങ്ങളുടെ സിദ്ധിയ്ക്കായി സ\\u200dാംഖ്യത്തില്\\u200d പറഞ്ഞിരിക്കുന്ന അഞ്ചു ഘടകങ്ങള്\\u200d കേട്ടാലും. <EOS>\\n', 'ഹേ രാജന്\\u200d\\u200d, വിഷ്ണുവിന്റെ ആ അത്ഭുതകരമായ രൂപത്തെ (വിശ്വരൂപത്തെ) ഓര്\\u200dക്കുന്തോറും എനിക്ക് പിന്നെയും പിന്നെയും മഹത്തായ വിസ്മയവും ആനന്ദവുമുണ്ടാകുന്നു. <EOS>\\n', 'ആത്മജ്ഞരും, കാമക്രോധങ്ങളില്ലാത്തവരും മനസിനെ നിയന്ത്രിച്ചവരും ആയ യോഗികൾക്ക് ഇഹത്തിലും പരത്തിലും ബ്രഹ്മനിർവ്വാണം പ്രാപ്തമാകുന്നു. <EOS>\\n', 'ഹേ അര്\\u200dജുന, ഇനി മൂന്നു വിധത്തിലുള്ള സുഖത്തെ കേട്ടുകൊള്ളുക. അഭ്യാസം കൊണ്ട് യാതൊരു സുഖത്തില്\\u200d സന്തോഷിച്ചു <EOS>\\n', 'ശ്രീ ഭഗവാന്\\u200d പറഞ്ഞു: ഹേ പാര്\\u200dത്ഥ, എന്നില്\\u200d ആസക്തചിത്തനായി എന്നെ ആശ്രയിച്ച് യോഗം അഭ്യസിച്ച് എങ്ങിനെ എന്നെ നിസ്സംശയമായും പൂര്\\u200dണമായും നീ അറിയുമോ ആ വിധം കേട്ടുകൊള്ളുക. <EOS>\\n', 'ശ്രീ ഭഗവാന്\\u200d പറഞ്ഞു: അര്\\u200dജുനാ, എന്റെ വളരെയേറെ ജന്മങ്ങള്\\u200d കഴിഞ്ഞു പോയി. നിനക്കും അങ്ങനെ തന്നെ. അവയെല്ല\\u200dാം എനിക്കറിയ\\u200dാം. നീ അറിയുന്നില്ല. <EOS>\\n', 'മേല്\\u200d വിവരിച്ചതായ ഈ തത്വത്തെ മുഴുവനും മനസ്സിലാക്കിയാല്\\u200d ക\\u200dര്\\u200dമ്മയോഗി, വേദത്തിലും യജ്ഞത്തിലും തപസ്സിലും ദാനത്തിലും പറയപ്പെട്ടതായ പുണ്യങ്ങളെയെല്ല\\u200dാം അതിക്രമിച്ച് പുരാതനവും ശ്രേഷ്ഠവുമായ പദത്തെ പ്രാപിക്കുന്നു. <EOS>\\n', 'എന്റെ അവ്യയവും അനുത്തമവും തമോഗുണസ്പര്\\u200dശമില്ലാത്തതുമായ സര്\\u200dവാതീതഭാവത്തെ അറിയാതെ അവ്യക്തനായ എന്നെ വ്യക്തിത്വം പ്രാപിച്ചവനെന്നു ബുദ്ധിഹീനര്\\u200d വിചാരിക്കുന്നു. <EOS>\\n', 'ഈ നൈഷ്കര്\\u200dമ്യത്തെ പ്രാപിച്ചവന്\\u200d ജ്ഞാനത്തിന്റെ പരമാവസ്ഥയായ ബ്രഹ്മത്തെ പ്രാപിക്കുന്നതെങ്ങനെയെന്നു സംക്ഷിപ്തമായി കേട്ടാലും. <EOS>\\n', 'ഹേ പാ\\u200dണ്ഡവാ, അതറിഞ്ഞാല്\\u200d പിന്നെയിങ്ങനെ ഭ്രമം നിനക്കുണ്ടാവില്ല. ഇതു മൂലം ഭൂതങ്ങളെയെല്ല\\u200dാം തന്നിലും പിന്നെ എന്നിലും നീ കാണും. <EOS>\\n', 'ഇതറിയാത്തവരായരാവട്ടെ അന്യന്മാ\\u200cര്\\u200d പറഞ്ഞുകേട്ടതനുസരിച്ച് ഉപാസിക്കുന്നു. ശ്രദ്ധിച്ചു കേട്ടു കാര്യം മനസ്സിലാക്കുവാ\\u200dന്\\u200d താല്പര്യമുള്ളവരായ അവരും മരണത്തെ തരണം ചെയ്യുന്നതാണ്. <EOS>\\n', 'ഹേ മഹാബാഹോ, എല്ലാ കര്\\u200dമ്മങ്ങളുടെ സിദ്ധിയ്ക്കായി സ\\u200dാംഖ്യത്തില്\\u200d പറഞ്ഞിരിക്കുന്ന അഞ്ചു ഘടകങ്ങള്\\u200d കേട്ടാലും. <EOS>\\n', 'ചില\\u200dര്\\u200d ധ്യാനംകൊണ്ട് കൊണ്ടു ഉപേക്ഷിച്ച് ഇന്ദ്രിയ മനോജയം നേടിയ ദേ ഹധാരിയായ ജീവാത്മാവ് പ്രവർത്തിക്കാതെയും പ്രവർത്തിപ്പിക്കാതെയും ഒൻപതു വാതിലുള്ള പുരത്തില് (ശരീരത്തിൽ) സുഖമായി വസിക്കുന്നു. <EOS>\\n', 'കാമം, ക്രോധം, ലോഭം എന്നിവ നരകത്തിലേയ്ക്കുള്ള മൂന്നു കവാടങ്ങളാണ്. ഇവ ആത്മനാശത്തിന് കാരണവുമാണ്. അതിനാല്\\u200d ഇവയെ മൂന്നിനെയും ത്യജിക്കേണ്ടതാണ്. <EOS>\\n', 'യാതൊരുത്ത\\u200dര്\\u200d, നാശമില്ലാത്തതും, ഇന്നവിധത്തിലുള്ളതാണെന്നു വിവരിക്കുവാ\\u200d\\u200dന്\\u200dവയ്യാത്തതും, അവ്യക്തവും സ\\u200dര്\\u200dവവ്യാപ്തവുമായി രിക്കുന്നതും ചിന്തിച്ചറിയിപ്പാ\\u200d\\u200dന്\\u200d പ്രയാസമായിട്ടുള്ളതും മാറ്റം വരാത്തതും അനാദിയായിട്ടുള്ളതും ആയ ബ്രഹ്മത്തെ ഭജിക്കുകയും, ഇന്ദ്രിയങ്ങളെ അടക്കി സ\\u200dര്\\u200dവത്ര സമബുദ്ധിയോടും സ\\u200dര്\\u200dവഭൂതങ്ങ\\u200dള്\\u200dക്കും നന്മയെച്ചെയ്\\u200dവാനുള്ള താ\\u200dല്\\u200dപര്യത്തോടുംകൂടി വ\\u200dര്\\u200dത്തിക്കുകയും ചെയ്യുന്നുവോ അവ\\u200dര്\\u200d എന്നെത്തന്നെ പ്രാപിക്കുന്നു. <EOS>\\n', 'ഹേ ഭാരതാ, അതുകൊണ്ട് അജ്ഞാനം കൊണ്ടു ഉണ്ടായതും മനസിലുള്ളതുമായ നിന്റെ അജ്ഞാനവും മോഹവും നഷ്ടമായോ? <EOS>\\n', 'കൃഷ്ണാ! അങ്ങ് അങ്ങയെപ്പറ്റി പറഞ്ഞിട്ടുള്ളതൊക്കെയും അങ്ങനെതന്നെയുള്ളതാണ്. ഹേ പുരുഷോത്തമാ! എനിക്ക് അങ്ങയുടെ രൂപത്തെ കാണുവാന്\\u200d ആഗ്രഹമുണ്ട്. <EOS>\\n', 'ആ കുന്തീപുത്രന്\\u200d ബന്ധുക്കളെ എല്ല\\u200dാം നന്നായി നോക്കിക്കണ്ട്\\u200c, അത്യന്തം കൃപയോടെ വിഷാദിച്ചുകൊണ്ട് ഇങ്ങനെ പറഞ്ഞു. <EOS>\\n', 'അര്\\u200dജുനന്\\u200d പറഞ്ഞു: കൃഷ്ണാ, യുദ്ധം ചെയ്യാന്\\u200d ഒരുങ്ങി നില്ക്കുന്ന ഈ സ്വജനങ്ങളെ കണ്ടിട്ട് എന്റെ ശരീരമാസകലം തളരുന്നു; വായ് വരളുകയും ചെയ്യുന്നു. എന്റെ ശരീരം വിറയ്ക്കുകയും രോമാഞ്ചവും ഉണ്ടാകുന്നു. ഗാണ്ഡീവം കൈയ്യില്\\u200d നിന്നും വഴുതുന്നു. ദേഹം ചുട്ടുനീറുകയും ചെയ്യുന്നു. നില്\\u200dക്കാന്\\u200d എനിക്ക് കഴിയുന്നില്ല. എന്റെ മനസ്സു സംഭ്രമിക്കുന്നതു പോലെ തോന്നുന്നു. പല ദു\\u200dര്\\u200dനിമിത്തങ്ങളും കാണുന്നു. യുദ്ധത്തില്\\u200d സ്വജനത്തെ കൊന്നിട്ട് ഒരു ശ്രേയസ്സും ഞാന്\\u200d കാണുന്നില്ല. <EOS>\\n', 'സര്\\u200dവക\\u200dര്\\u200dമ്മങ്ങളും എന്നില്\\u200d സമര്\\u200dപ്പിച്ചു ആധ്യാത്മിക ബുദ്ധിയോടെ നിഷ്കാമനും നി\\u200dര്\\u200dമ്മമനുമായി ഭവിച്ചിട്ടു ദുഃഖം കളഞ്ഞു നീ യുദ്ധം ചെയ്യുക. <EOS>\\n', 'ഞാന്\\u200d പ്രാണികളുടെ ശരീരങ്ങളില്\\u200d അഗ്നിയുടെ രൂപത്തിലിരുന്ന് പ്രാണന്\\u200d, അപാനന്\\u200d എന്നിവയോടു ചേര്\\u200dന്ന് നാലുതരത്തിലുള്ള ഭക്ഷണത്തെയും ദഹിപ്പിക്കുന്നു. <EOS>\\n', 'ഹേ പാര്\\u200dത്ഥ, ഈ മനുഷ്യലോകത്തി\\u200dല്\\u200dനീയൊഴിച്ചു മറ്റൊരു ത്തനും എന്റെ ഈ രുപം വേദാധ്യയനത്താലോ യോഗാനുഷ്ഠാനം കൊണ്ടോ ദാനങ്ങ\\u200dള്\\u200d, ഉഗ്രതപസ്സുക\\u200dള്\\u200d, സ\\u200dല്\\u200dക്രിയക\\u200dള്\\u200d മുതലായവ കൊണ്ടോ കാണപ്പെടുവാ\\u200cന്\\u200dകഴിയുന്നതല്ല. <EOS>\\n', 'എന്റെ ഉ\\u200dല്\\u200dപത്തിയെ ദേവന്മാരോ മഹ\\u200dര്\\u200dഷിമാരോ അറിയുന്നില്ല. മഹ\\u200dര്\\u200dഷിമാ\\u200dര്\\u200dക്കും, ദേവന്മാ\\u200dര്\\u200dക്കും, എല്ലാവിധത്തിലും ഞാ\\u200d\\u200dന്\\u200d ആദ്യനായുള്ളവനാണ്. <EOS>\\n', 'ആ കുന്തീപുത്രന്\\u200d ബന്ധുക്കളെ എല്ല\\u200dാം നന്നായി നോക്കിക്കണ്ട്\\u200c, അത്യന്തം കൃപയോടെ വിഷാദിച്ചുകൊണ്ട് ഇങ്ങനെ തന്നെ നല്കുന്ന <EOS>\\n', 'ഹേ പാര്\\u200dഥ, നീ ഏകാഗ്രചിത്തനായി ഇതെല്ല\\u200dാം കേട്ടുവോ? നിന്റെ അജ്ഞാനവും മോഹവും നഷ്ടമായോ? <EOS>\\n', 'മഹാബാഹോ, ഇപ്പറഞ്ഞത്\\u200c അപരാപ്രകൃതിയാണ്. എന്നാല്\\u200d ഇതില്\\u200dനിന്നു ഭിന്നവും ഈ ജഗത്തിനെ ധരിക്കുന്നതും ജീവസ്വരൂപവുമായ എന്റെ പരാപ്രകൃതിയെയും നീ പ്രാപിക്കും. <EOS>\\n', 'ഹേ അര്\\u200dജുനാ, എന്റെ യോനിയാകുന്ന മഹാപ്രകൃതിയില്\\u200d ഞാന്\\u200d ബീജത്തെ നിക്ഷേപിക്കുന്നു. സര്\\u200dവ്വ ജീവരാശികളുടെയും ജന്മം അതില്\\u200dനിന്നാണ്. <EOS>\\n', 'ഓം തത്സദിതി ശ്രീമദ്ഭഗവദ്ഗീതാസൂപനിഷത്സു ബ്രഹ്മവിദ്യായ\\u200dാം യോഗശാസ്ത്രേ ശ്രീകൃഷ്ണാര്\\u200dജുനസംവാദേ വിഭൂതിയോഗോ നാമ ദശമോധ്യായഃ\" <EOS>\\n', 'ഹേ ഭാരതാ, അതുകൊണ്ട് അജ്ഞാനം കൊണ്ടു ഉണ്ടായതും മനസിലുള്ളതുമായ നിന്റെ ഈ സംശയത്തെ ജ്ഞാനമാകുന്ന വാളുകൊണ്ടു ഛേദിച്ചിട്ടു യോഗത്തെ അനുഷ്ഠിക്കുക, ഏഴുന്നേല്\\u200dക്കുക. <EOS>\\n', 'ക\\u200dര്\\u200dമ്മത്തിന്റെ സ്വരൂപം അറിയേണ്ടതുണ്ട്. വിക\\u200dര്\\u200dമ്മത്തിന്റെ സ്വരൂപവും അകര്\\u200dമത്തിന്റെ സ്വരൂപവും അറിയെണ്ടതുണ്ട്. എന്ത് കൊണ്ടെന്നാല്\\u200d ക\\u200dര്\\u200dമ്മത്തിന്റെ ഗതി (പോക്ക്) അറിയാന്\\u200d വളരെ വിഷമമുള്ളതാണ്. <EOS>\\n', 'യാതൊരു ജ്ഞനമാണോ സര്\\u200dവ്വജീവജാലങ്ങളിലും നാനാതരത്തിലുള്ള ഭാവങ്ങളെ ദര്\\u200dശിക്കുന്നത് അത് രാജസമാണ്. <EOS>\\n', 'ആ കുന്തീപുത്രന്\\u200d ബന്ധുക്കളെ എല്ല\\u200dാം നന്നായി നോക്കിക്കണ്ട്\\u200c, അത്യന്തം കൃപയോടെ വിഷാദിച്ചുകൊണ്ട് ഇങ്ങനെ പറഞ്ഞു. <EOS>\\n', 'ഈ ജ്ഞാനത്തെ ആശ്രയിച്ച് എന്നെ പ്രാപിക്കുന്നവര്\\u200d സൃഷ്ടിയുടെ ആരംഭത്തില്\\u200d ജന്മമെടുക്കുന്നില്ല, പ്രളയസമയത്ത് വ്യസനിക്കു ന്നുമില്ല. <EOS>\\n', 'വേറെ ചിലര്\\u200d ശ്രോത്രാദികളായ ഇന്ദ്രിയങ്ങളെ സംയമരൂപമായ അഗ്നിയില്\\u200d ഹോമിക്കുന്നു. മറ്റു ചിലര്\\u200d ശബ്ദാദി വിഷയങ്ങളെ ഇന്ദ്രിയരൂപമായ അഗ്നിയില്\\u200d ഹോമിക്കുന്നു. <EOS>\\n', 'ആ അവ്യക്തം അക്ഷരമെന്നു പറയപ്പെടുന്നു. അതിനെ പരമമായ ഗതി (ലക്ഷ്യം) എന്ന് പറയുന്നു. ഏതിനെ പ്രാപിച്ചാല്\\u200d <EOS>\\n', 'ശ്രീ ഭഗവാന്\\u200d പറഞ്ഞു: ഹേ അനഘ (പാപങ്ങളില്ലാത്തവന്\\u200d), ഈ ലോകത്തില്\\u200d സംഖ്യന്മാര്\\u200dക്ക് വേണ്ടി ജഞാനയോഗം കൊണ്ടും യോഗികള്\\u200dക്കു വേണ്ടി ക\\u200d\\u200d\\u200dര്\\u200dമ്മയോഗം കൊണ്ടും രണ്ടുവിധം നിഷ്ഠകള്\\u200d മുമ്പ് ഞാന്\\u200d പറഞ്ഞു. <EOS>\\n', 'ശ്രീ ഭഗവാന്\\u200d പാഞ്ഞു: രജോഗുണത്തില്\\u200d നിന്നു ജനിച്ച ഈ കാമം, ഈ ക്രോധം തൃപ്തിപ്പെടുത്താന്\\u200d കഴിയാത്തതും മഹാപാപകാരണ വുമാണ് ഇക്കാര്യത്തില്\\u200d ഇതിനെ ശത്രുവായി അറിയുക. <EOS>\\n', 'ഹേ ഭാരത, നീ ഈശ്വരനെത്തന്നെ സര്\\u200dവ്വഭാവത്തിലും ശരണമടഞ്ഞാലും. ഈശ്വരന്റെ പ്രസാദത്താല്\\u200d നീ പരമമായ ശാന്തിയെയും ശാശ്വതമായ പദത്തെയും പ്രാപിക്കും. <EOS>\\n', 'അര്\\u200dജുനന്\\u200d ചോദിച്ചു: ഹേ കേശവാ, സമാധിസ്ഥനായ സ്ഥിതപ്രജഞന്റെ ലക്ഷണമെന്താണ്? സ്ഥിതപ്രജ്ഞന്\\u200d എന്ത് സംസാരിക്കും? എങ്ങിനെ സ്ഥിതിചെയ്യും? എങ്ങിനെ സഞ്ചരിക്കും? <EOS>\\n', 'ഹേ പാ\\u200dണ്ഡവാ, അതറിഞ്ഞാല്\\u200d പിന്നെയിങ്ങനെ ഭ്രമം നിനക്കുണ്ടാവില്ല. ഇതു മൂലം ഭൂതങ്ങളെയെല്ല\\u200dാം തന്നിലും പിന്നെ എന്തിനാണ് ഘോരമായ ഈ ക\\u200d\\u200d\\u200dര്\\u200dമ്മത്തില്\\u200d എന്നെ നിയോഗിക്കുന്നത്? <EOS>\\n', 'ദേഹിയ്ക്ക് കര്\\u200dമ്മങ്ങളെ തികച്ചും പരിത്യജിക്കുവാന്\\u200d സാദ്ധ്യമല്ല. കര്\\u200dമ്മഫലത്തെ ത്യജിക്കുന്നവന്\\u200d തന്നെയാണ് ശരിയായ ത്യാഗി എന്നു പറയപ്പെടുന്നു. <EOS>\\n', 'ശ്രീകൃഷ്ണ\\u200dന്\\u200d പറഞ്ഞു: ഹേ അ\\u200dര്\\u200dജ്ജുനാ, ഈ ശരീരത്തെ ക്ഷേത്രം എന്നു പറയുന്നു. ഈ ക്ഷേത്രത്തെ അറിയുന്നവനെ ക്ഷേത്രജ്ഞ\\u200dന്\\u200d എന്നും ഇതിനെ അറിയുന്നവ\\u200dര്\\u200d പറയുന്നു. <EOS>\\n']]\n"
     ]
    }
   ],
   "source": [
    "%cd /Users/Flora Johnson/Desktop/Sanskrit2mal/parallel-corpus/sanskrit-mal\n",
    "output_text=[]\n",
    "with open ('translated_malayalam.ma','r',encoding=\"utf8\") as f:\n",
    "  output_text.extend([f.readlines()])\n",
    "print(output_text)"
   ]
  },
  {
   "cell_type": "code",
   "execution_count": null,
   "metadata": {
    "id": "8M3bv_z8uQcK",
    "outputId": "fb2cd43c-2ab3-4c0b-82ff-3198efdab07d"
   },
   "outputs": [
    {
     "name": "stdout",
     "output_type": "stream",
     "text": [
      "ഹേ സ‍ര്‍വാത്മ‍ന്‍, അങ്ങനെ മുന്നിലും പിന്നിലും നിന്ന് ഞാ‌ന്‍ നമസ്‍കരിക്കുന്നു. എല്ലാഭാഗത്തും അങ്ങേയ്ക്കു നമസ്‍കാരം. അളവറ്റ വീരവും അതിരറ്റ പരാക്രമവും ഉള്ളവനായ അങ്ങ് ലോകം മുഴുവ‍ന്‍ വ്യാപിച്ചവനായിരിക്കുന്നു. അതിനാല്‍ എല്ല‍ാം അങ്ങ് തന്നെയാകുന്നു. <EOS>\n"
     ]
    }
   ],
   "source": [
    "translator(encoder1, attn_decoder1)"
   ]
  },
  {
   "cell_type": "code",
   "execution_count": null,
   "metadata": {
    "id": "4w_kYBWcuQcL",
    "outputId": "92b202f4-69d2-4b7d-cde8-3db0424d2208"
   },
   "outputs": [
    {
     "name": "stdout",
     "output_type": "stream",
     "text": [
      "/home/glitch/project/Sanskrit2mal/parallel-corpus/sanskrit-mal\n",
      "bleu score 0\n"
     ]
    }
   ],
   "source": [
    "%cd /Users/Flora Johnson/Desktop/Sanskrit2mal/parallel-corpus/sanskrit-mal\n",
    "\n",
    "from nltk.translate.bleu_score import sentence_bleu\n",
    "reference = []\n",
    "candidate = []\n",
    "\n",
    "with open ('test_malayalam.ma','r', encoding=\"utf8\") as f:\n",
    "  reference.extend([x.replace('\\n', '') for x in f.readlines()])\n",
    "\n",
    "with open ('translated_malayalam.ma','r',encoding=\"utf8\") as f:\n",
    "  candidate.extend([x.replace('\\n', '') for x in f.readlines()])\n",
    "\n",
    "\n",
    "score = sentence_bleu(reference, candidate)\n",
    "print('bleu score',score)"
   ]
  },
  {
   "cell_type": "code",
   "execution_count": null,
   "metadata": {
    "id": "9-TjhKhquQcL"
   },
   "outputs": [],
   "source": []
  }
 ],
 "metadata": {
  "colab": {
   "collapsed_sections": [],
   "include_colab_link": true,
   "name": "sanskrit to malayalam NMT.ipynb",
   "provenance": []
  },
  "kernelspec": {
   "display_name": "Python 3 (ipykernel)",
   "language": "python",
   "name": "python3"
  },
  "language_info": {
   "codemirror_mode": {
    "name": "ipython",
    "version": 3
   },
   "file_extension": ".py",
   "mimetype": "text/x-python",
   "name": "python",
   "nbconvert_exporter": "python",
   "pygments_lexer": "ipython3",
   "version": "3.9.7"
  }
 },
 "nbformat": 4,
 "nbformat_minor": 1
}
