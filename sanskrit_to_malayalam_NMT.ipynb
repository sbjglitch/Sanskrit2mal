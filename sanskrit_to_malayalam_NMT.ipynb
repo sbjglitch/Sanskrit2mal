{
 "cells": [
  {
   "cell_type": "markdown",
   "metadata": {
    "colab_type": "text",
    "id": "view-in-github"
   },
   "source": [
    "<a href=\"https://colab.research.google.com/github/sbjglitch/Sanskrit2mal/blob/main/sanskrit_to_malayalam_NMT.ipynb\" target=\"_parent\"><img src=\"https://colab.research.google.com/assets/colab-badge.svg\" alt=\"Open In Colab\"/></a>"
   ]
  },
  {
   "cell_type": "code",
   "execution_count": 40,
   "metadata": {
    "colab": {
     "base_uri": "https://localhost:8080/"
    },
    "id": "_eAtxfQkAocK",
    "outputId": "333f6165-5c8b-4a17-8893-54cad7b2256e"
   },
   "outputs": [],
   "source": [
    "from __future__ import unicode_literals, print_function, division\n",
    "from io import open\n",
    "import unicodedata\n",
    "import string\n",
    "import re\n",
    "import random\n",
    "\n",
    "import torch\n",
    "import torch.nn as nn\n",
    "from torch import optim\n",
    "import torch.nn.functional as F\n",
    "\n",
    "#%pip install inltk\n",
    "import inltk \n",
    "from inltk.inltk import setup\n",
    "from inltk.inltk import tokenize\n",
    "device = torch.device(\"cuda\" if torch.cuda.is_available() else \"cpu\")\n"
   ]
  },
  {
   "cell_type": "code",
   "execution_count": 41,
   "metadata": {
    "colab": {
     "base_uri": "https://localhost:8080/"
    },
    "id": "I3u9wbhrAyYr",
    "outputId": "2ec06124-c20c-466c-d2bd-615d68e0f516"
   },
   "outputs": [
    {
     "name": "stdout",
     "output_type": "stream",
     "text": [
      "/home/glitch/project/Sanskrit2mal\n"
     ]
    }
   ],
   "source": [
    "%cd /home/glitch/project/Sanskrit2mal"
   ]
  },
  {
   "cell_type": "code",
   "execution_count": 42,
   "metadata": {
    "colab": {
     "base_uri": "https://localhost:8080/"
    },
    "id": "WyYESS_tCjRg",
    "outputId": "1c33b2b5-bcdc-418f-eb47-f3ac5c971b1d"
   },
   "outputs": [
    {
     "name": "stdout",
     "output_type": "stream",
     "text": [
      "/home/glitch/project/Sanskrit2mal/parallel-corpus\n",
      "646\n",
      "701\n"
     ]
    }
   ],
   "source": [
    "%cd /home/glitch/project/Sanskrit2mal/parallel-corpus\n",
    "\n",
    "mal_lines = []\n",
    "sanskrit_lines = []\n",
    "with open ('bhagavadgita_malayalam.txt','r', encoding=\"utf8\") as f:\n",
    "  mal_lines.extend([x.replace('\\n', '') for x in f.readlines()])\n",
    "\n",
    "with open ('bhagvadgita_sanskrit.txt','r',encoding=\"utf8\") as f:\n",
    "  sanskrit_lines.extend([x.replace('\\n', '') for x in f.readlines()])\n",
    "\n",
    "  print(len(mal_lines))\n",
    "  print(len(sanskrit_lines))"
   ]
  },
  {
   "cell_type": "code",
   "execution_count": 43,
   "metadata": {},
   "outputs": [],
   "source": [
    "def tokenizer_sa(lang,sentence):\n",
    "    setup('sa')\n",
    "    return [tokenize(sanskrit_lines,'sa')]\n",
    "\n",
    "def tokenizer_ma(mal_lines):\n",
    "    setup('ml')\n",
    "    return [tokenize(mal_lines,'ml')]"
   ]
  },
  {
   "cell_type": "code",
   "execution_count": 44,
   "metadata": {
    "id": "hnhN7RILA4Uv"
   },
   "outputs": [],
   "source": [
    "import random\n",
    "c = list(zip(sanskrit_lines, mal_lines))\n",
    "random.shuffle(c)\n",
    "\n",
    "sanskrit_lines, mal_lines = zip(*c)\n",
    "\n",
    "train_text_sa = sanskrit_lines[:-323]\n",
    "train_text_mal = mal_lines[:-323]\n",
    "\n",
    "dev_text_sa = sanskrit_lines[-323:]\n",
    "dev_text_mal = mal_lines[-323:]"
   ]
  },
  {
   "cell_type": "code",
   "execution_count": 45,
   "metadata": {
    "colab": {
     "base_uri": "https://localhost:8080/"
    },
    "id": "iiX6HHVFFgjx",
    "outputId": "8fc448ed-bf3b-4d6e-80e8-a11f4006c5fe"
   },
   "outputs": [
    {
     "name": "stdout",
     "output_type": "stream",
     "text": [
      "323\n",
      "323\n",
      "323\n",
      "323\n"
     ]
    }
   ],
   "source": [
    "print(len(train_text_mal))\n",
    "print(len(dev_text_mal))\n",
    "\n",
    "print(len(train_text_sa))\n",
    "print(len(dev_text_sa))"
   ]
  },
  {
   "cell_type": "code",
   "execution_count": 7,
   "metadata": {
    "id": "4cIEztNt2JkT"
   },
   "outputs": [],
   "source": [
    "# Start and End tokens\n",
    "SOS_token = 0\n",
    "EOS_token = 1\n",
    "\n",
    "\n",
    "class Lang:\n",
    "    def __init__(self, name):\n",
    "        self.name = name\n",
    "        self.word2index = {}\n",
    "        self.word2count = {}\n",
    "        self.index2word = {0: \"SOS\", 1: \"EOS\"}\n",
    "        self.n_words = 2  # Count SOS and EOS\n",
    "\n",
    "    def addSentence(self, sentence):\n",
    "        for word in sentence.split(' '):\n",
    "            self.addWord(word)\n",
    "\n",
    "    def addWord(self, word):\n",
    "        if word not in self.word2index:\n",
    "            self.word2index[word] = self.n_words\n",
    "            self.word2count[word] = 1\n",
    "            self.index2word[self.n_words] = word\n",
    "            self.n_words += 1\n",
    "        else:\n",
    "            self.word2count[word] += 1"
   ]
  },
  {
   "cell_type": "code",
   "execution_count": 8,
   "metadata": {
    "id": "aqXPhBxJECww"
   },
   "outputs": [],
   "source": [
    "# Reading the data and forming pairs\n",
    "def readLangs(lang1, lang2, reverse=False):\n",
    "    print(\"Reading lines...\")\n",
    "\n",
    "    # Forming pairs of sentences\n",
    "    pairs = [[train_text_sa[i], train_text_mal[i]] for i in range(len(train_text_sa))]\n",
    "\n",
    "    # Reverse pairs, make Lang instances\n",
    "    if reverse:\n",
    "        pairs = [list(reversed(p)) for p in pairs]\n",
    "        input_lang = Lang(lang2)\n",
    "        output_lang = Lang(lang1)\n",
    "    else:\n",
    "        input_lang = Lang(lang1)\n",
    "        output_lang = Lang(lang2)\n",
    "\n",
    "    return input_lang, output_lang, pairs"
   ]
  },
  {
   "cell_type": "code",
   "execution_count": 9,
   "metadata": {
    "id": "H7oqLozuEs9O"
   },
   "outputs": [],
   "source": [
    "MAX_LENGTH = 200\n",
    "\n",
    "def filterPair(p):\n",
    "    return len(p[0].split(' ')) < MAX_LENGTH and len(p[1].split(' ')) < MAX_LENGTH\n",
    "\n",
    "def filterPairs(pairs):\n",
    "    return [pair for pair in pairs if filterPair(pair)]"
   ]
  },
  {
   "cell_type": "code",
   "execution_count": 10,
   "metadata": {
    "colab": {
     "base_uri": "https://localhost:8080/"
    },
    "id": "mUFirlb3FCHg",
    "outputId": "a04b6032-15c9-46be-b4b8-16545beaf4f1"
   },
   "outputs": [
    {
     "name": "stdout",
     "output_type": "stream",
     "text": [
      "Reading lines...\n",
      "Read 272 sentence pairs\n",
      "Trimmed to 272 sentence pairs\n",
      "Counting words...\n",
      "Counted words:\n",
      "sanskrit 1915\n",
      "mal 2848\n",
      "['शुचौ देशे प्रतिष्ठाप्य स्थिरमासनमात्मनः। नात्युच्छ्रितं नातिनीचं चैलाजिनकुशोत्तरम्।।', 'എന്തെന്നാല്\\u200d ഹേ കൃഷ്ണാ, മനസ്സ് ചഞ്ചലവും ക്ഷുബ്ധവും നിയന്ത്രണ ത്തിനു വഴങ്ങാത്തതും അയവില്ലാത്തതുമാണ്. അതിന്റെ നിയന്ത്രണം വായുവിന്റെതെന്നപോലെ ദുഷ്ക്കരമായി ഞാന്\\u200d കരുതുന്നു.']\n"
     ]
    }
   ],
   "source": [
    "def prepareData(lang1, lang2, reverse=False):\n",
    "    input_lang, output_lang, pairs = readLangs(lang1, lang2, reverse)\n",
    "    print(\"Read %s sentence pairs\" % len(pairs))\n",
    "    pairs = filterPairs(pairs)\n",
    "    print(\"Trimmed to %s sentence pairs\" % len(pairs))\n",
    "    print(\"Counting words...\")\n",
    "    for pair in pairs:\n",
    "        input_lang.addSentence(pair[0])\n",
    "        output_lang.addSentence(pair[1])\n",
    "    print(\"Counted words:\")\n",
    "    print(input_lang.name, input_lang.n_words)\n",
    "    print(output_lang.name, output_lang.n_words)\n",
    "    return input_lang, output_lang, pairs\n",
    "\n",
    "\n",
    "input_lang, output_lang, pairs = prepareData('sanskrit', 'mal', False)\n",
    "print(random.choice(pairs)) # a random pair of parallel sentences"
   ]
  },
  {
   "cell_type": "markdown",
   "metadata": {
    "id": "W4D5yYuXGWqE"
   },
   "source": [
    "# **Seq2Seq Model**\n",
    "---\n",
    "A seq2seq network is a model consisting of two RNNs called the encoder and decoder. The encoder reads an input sequence and outputs a single vector, and the decoder reads that vector to produce an output sequence."
   ]
  },
  {
   "cell_type": "markdown",
   "metadata": {
    "id": "fl5SnehsGzIQ"
   },
   "source": [
    "# **Encoder**"
   ]
  },
  {
   "cell_type": "code",
   "execution_count": 11,
   "metadata": {
    "id": "mL-HNJmgGVOH"
   },
   "outputs": [],
   "source": [
    "class EncoderRNN(nn.Module):\n",
    "    def __init__(self, input_size, hidden_size):\n",
    "        super(EncoderRNN, self).__init__()\n",
    "        self.hidden_size = hidden_size\n",
    "\n",
    "        self.embedding = nn.Embedding(input_size, hidden_size)\n",
    "        self.gru = nn.GRU(hidden_size, hidden_size)\n",
    "\n",
    "    def forward(self, input, hidden):\n",
    "        embedded = self.embedding(input).view(1, 1, -1)\n",
    "        output = embedded\n",
    "        output, hidden = self.gru(output, hidden)\n",
    "        return output, hidden\n",
    "\n",
    "    def initHidden(self):\n",
    "        return torch.zeros(1, 1, self.hidden_size, device=device)"
   ]
  },
  {
   "cell_type": "markdown",
   "metadata": {
    "id": "2W40lx8BGv5G"
   },
   "source": [
    "# **Decoder**"
   ]
  },
  {
   "cell_type": "code",
   "execution_count": 12,
   "metadata": {
    "id": "MFVMbY8bGunJ"
   },
   "outputs": [],
   "source": [
    "class AttnDecoderRNN(nn.Module):\n",
    "    def __init__(self, hidden_size, output_size, dropout_p=0.1, max_length=MAX_LENGTH):\n",
    "        super(AttnDecoderRNN, self).__init__()\n",
    "        self.hidden_size = hidden_size\n",
    "        self.output_size = output_size\n",
    "        self.dropout_p = dropout_p\n",
    "        self.max_length = max_length\n",
    "\n",
    "        self.embedding = nn.Embedding(self.output_size, self.hidden_size)\n",
    "        self.attn = nn.Linear(self.hidden_size * 2, self.max_length)\n",
    "        self.attn_combine = nn.Linear(self.hidden_size * 2, self.hidden_size)\n",
    "        self.dropout = nn.Dropout(self.dropout_p)\n",
    "        self.gru = nn.GRU(self.hidden_size, self.hidden_size)\n",
    "        self.out = nn.Linear(self.hidden_size, self.output_size)\n",
    "\n",
    "    def forward(self, input, hidden, encoder_outputs):\n",
    "        embedded = self.embedding(input).view(1, 1, -1)\n",
    "        embedded = self.dropout(embedded)\n",
    "\n",
    "        attn_weights = F.softmax(\n",
    "            self.attn(torch.cat((embedded[0], hidden[0]), 1)), dim=1)\n",
    "        attn_applied = torch.bmm(attn_weights.unsqueeze(0),\n",
    "                                 encoder_outputs.unsqueeze(0))\n",
    "\n",
    "        output = torch.cat((embedded[0], attn_applied[0]), 1)\n",
    "        output = self.attn_combine(output).unsqueeze(0)\n",
    "\n",
    "        output = F.relu(output)\n",
    "        output, hidden = self.gru(output, hidden)\n",
    "\n",
    "        output = F.log_softmax(self.out(output[0]), dim=1)\n",
    "        return output, hidden, attn_weights\n",
    "\n",
    "    def initHidden(self):\n",
    "        return torch.zeros(1, 1, self.hidden_size, device=device)"
   ]
  },
  {
   "cell_type": "markdown",
   "metadata": {
    "id": "xFugQY8QFBfV"
   },
   "source": [
    "# **Training**\n"
   ]
  },
  {
   "cell_type": "code",
   "execution_count": 13,
   "metadata": {
    "id": "OyVuYKpbHV8c"
   },
   "outputs": [],
   "source": [
    "import random\n",
    "def indexesFromSentence(lang, sentence):\n",
    "    res = []\n",
    "    for word in sentence.split(' '):\n",
    "      if word not in lang.word2index.keys():\n",
    "        res.append(random.choice(list(lang.word2index.values())))    \n",
    "      else:\n",
    "        res.append(lang.word2index[word])\n",
    "    return res\n",
    "\n",
    "def tensorFromSentence(lang, sentence):\n",
    "    indexes = indexesFromSentence(lang, sentence)\n",
    "    indexes.append(EOS_token)\n",
    "    return torch.tensor(indexes, dtype=torch.long, device=device).view(-1, 1)\n",
    "\n",
    "\n",
    "def tensorsFromPair(pair):\n",
    "    input_tensor = tensorFromSentence(input_lang, pair[0])\n",
    "    target_tensor = tensorFromSentence(output_lang, pair[1])\n",
    "    return (input_tensor, target_tensor)"
   ]
  },
  {
   "cell_type": "markdown",
   "metadata": {
    "id": "zePmCpbCHioq"
   },
   "source": [
    "# **Training the model**"
   ]
  },
  {
   "cell_type": "code",
   "execution_count": 14,
   "metadata": {
    "id": "SNuZNaY_HenJ"
   },
   "outputs": [],
   "source": [
    "teacher_forcing_ratio = 0.5\n",
    "def train(input_tensor, target_tensor, encoder, decoder, encoder_optimizer, decoder_optimizer, criterion, max_length=MAX_LENGTH):\n",
    "    encoder_hidden = encoder.initHidden()\n",
    "\n",
    "    encoder_optimizer.zero_grad()\n",
    "    decoder_optimizer.zero_grad()\n",
    "\n",
    "    input_length = input_tensor.size(0)\n",
    "    target_length = target_tensor.size(0)\n",
    "\n",
    "    encoder_outputs = torch.zeros(max_length, encoder.hidden_size, device=device)\n",
    "\n",
    "    loss = 0\n",
    "\n",
    "    for ei in range(input_length):\n",
    "        encoder_output, encoder_hidden = encoder(\n",
    "            input_tensor[ei], encoder_hidden)\n",
    "        encoder_outputs[ei] = encoder_output[0, 0]\n",
    "\n",
    "    decoder_input = torch.tensor([[SOS_token]], device=device)\n",
    "\n",
    "    decoder_hidden = encoder_hidden\n",
    "\n",
    "    use_teacher_forcing = True if random.random() < teacher_forcing_ratio else False\n",
    "\n",
    "    if use_teacher_forcing:\n",
    "        for di in range(target_length):\n",
    "            decoder_output, decoder_hidden, decoder_attention = decoder(\n",
    "                decoder_input, decoder_hidden, encoder_outputs)\n",
    "            loss += criterion(decoder_output, target_tensor[di])\n",
    "            decoder_input = target_tensor[di]\n",
    "\n",
    "    else:\n",
    "        for di in range(target_length):\n",
    "            decoder_output, decoder_hidden, decoder_attention = decoder(\n",
    "                decoder_input, decoder_hidden, encoder_outputs)\n",
    "            topv, topi = decoder_output.topk(1)\n",
    "            decoder_input = topi.squeeze().detach()\n",
    "\n",
    "            loss += criterion(decoder_output, target_tensor[di])\n",
    "            if decoder_input.item() == EOS_token:\n",
    "                break\n",
    "\n",
    "    loss.backward()\n",
    "\n",
    "    encoder_optimizer.step()\n",
    "    decoder_optimizer.step()\n",
    "\n",
    "    return loss.item() / target_length"
   ]
  },
  {
   "cell_type": "code",
   "execution_count": 15,
   "metadata": {
    "id": "2g9zrFapHhyy"
   },
   "outputs": [],
   "source": [
    "# Print time elapsed and estimated time remaining given the current time and progress %.\n",
    "import time\n",
    "import math\n",
    "\n",
    "\n",
    "def asMinutes(s):\n",
    "    m = math.floor(s / 60)\n",
    "    s -= m * 60\n",
    "    return '%dm %ds' % (m, s)\n",
    "\n",
    "def timeSince(since, percent):\n",
    "    now = time.time()\n",
    "    s = now - since\n",
    "    es = s / (percent)\n",
    "    rs = es - s\n",
    "    return '%s (- %s)' % (asMinutes(s), asMinutes(rs))"
   ]
  },
  {
   "cell_type": "code",
   "execution_count": 16,
   "metadata": {
    "id": "rdtIHPiDHsAF"
   },
   "outputs": [],
   "source": [
    "# Each iteration of training\n",
    "def trainIters(encoder, decoder, n_iters, print_every=1000, plot_every=100, learning_rate=0.01):\n",
    "    start = time.time()\n",
    "    plot_losses = []\n",
    "    print_loss_total = 0  # Reset every print_every\n",
    "    plot_loss_total = 0  # Reset every plot_every\n",
    "\n",
    "    encoder_optimizer = optim.SGD(encoder.parameters(), lr=learning_rate)\n",
    "    decoder_optimizer = optim.SGD(decoder.parameters(), lr=learning_rate)\n",
    "    training_pairs = [tensorsFromPair(random.choice(pairs))\n",
    "                      for i in range(n_iters)]\n",
    "    #training_pairs = training_pairs1\n",
    "    criterion = nn.NLLLoss()\n",
    "\n",
    "    for iter in range(1, n_iters + 1):\n",
    "        training_pair = training_pairs[iter - 1]\n",
    "        input_tensor = training_pair[0]\n",
    "        target_tensor = training_pair[1]\n",
    "\n",
    "        loss = train(input_tensor, target_tensor, encoder,\n",
    "                     decoder, encoder_optimizer, decoder_optimizer, criterion)\n",
    "        print_loss_total += loss\n",
    "        plot_loss_total += loss\n",
    "\n",
    "        if iter % print_every == 0:\n",
    "            print_loss_avg = print_loss_total / print_every\n",
    "            print_loss_total = 0\n",
    "            print('%s (%d %d%%) %.4f' % (timeSince(start, iter / n_iters),\n",
    "                                         iter, iter / n_iters * 100, print_loss_avg))\n",
    "\n",
    "        if iter % plot_every == 0:\n",
    "            plot_loss_avg = plot_loss_total / plot_every\n",
    "            plot_losses.append(plot_loss_avg)\n",
    "            plot_loss_total = 0\n",
    "\n",
    "    #showPlot(plot_losses)"
   ]
  },
  {
   "cell_type": "markdown",
   "metadata": {
    "id": "zCYVcQ8DHuDX"
   },
   "source": [
    "# **Evaluation**"
   ]
  },
  {
   "cell_type": "code",
   "execution_count": 17,
   "metadata": {
    "id": "RSf-saDZHyaQ"
   },
   "outputs": [],
   "source": [
    "def evaluate(encoder, decoder, sentence, max_length=MAX_LENGTH):\n",
    "    with torch.no_grad():\n",
    "        input_tensor = tensorFromSentence(input_lang, sentence)\n",
    "        input_length = input_tensor.size()[0]\n",
    "        encoder_hidden = encoder.initHidden()\n",
    "\n",
    "        encoder_outputs = torch.zeros(max_length, encoder.hidden_size, device=device)\n",
    "\n",
    "        for ei in range(input_length):\n",
    "            encoder_output, encoder_hidden = encoder(input_tensor[ei],\n",
    "                                                     encoder_hidden)\n",
    "            encoder_outputs[ei] += encoder_output[0, 0]\n",
    "\n",
    "        decoder_input = torch.tensor([[SOS_token]], device=device)  # SOS\n",
    "\n",
    "        decoder_hidden = encoder_hidden\n",
    "\n",
    "        decoded_words = []\n",
    "        decoder_attentions = torch.zeros(max_length, max_length)\n",
    "\n",
    "        for di in range(max_length):\n",
    "            decoder_output, decoder_hidden, decoder_attention = decoder(\n",
    "                decoder_input, decoder_hidden, encoder_outputs)\n",
    "            decoder_attentions[di] = decoder_attention.data\n",
    "            topv, topi = decoder_output.data.topk(1)\n",
    "            if topi.item() == EOS_token:\n",
    "                decoded_words.append('<EOS>')\n",
    "                break\n",
    "            else:\n",
    "                decoded_words.append(output_lang.index2word[topi.item()])\n",
    "\n",
    "            decoder_input = topi.squeeze().detach()\n",
    "\n",
    "        return decoded_words, decoder_attentions[:di + 1]"
   ]
  },
  {
   "cell_type": "code",
   "execution_count": 18,
   "metadata": {
    "id": "4mQhM6JDH1Zf"
   },
   "outputs": [],
   "source": [
    "def evaluate_test(encoder, decoder):\n",
    "  test = []\n",
    "  %cd /home/glitch/project/Sanskrit2mal/parallel-corpus/sanskrit-mal\n",
    "  with open('test_sanskrit.sa', 'r', encoding=\"utf8\") as f:\n",
    "    test_text = [x.replace('\\n', '') for x in f.readlines()]\n",
    "  for sa_text in test_text:\n",
    "    # print('>', pair[0])\n",
    "    # print('=', pair[1])\n",
    "    output_words, attentions = evaluate(encoder, decoder, sa_text)\n",
    "    output_sentence = ' '.join(output_words)\n",
    "    # print('<', output_sentence)\n",
    "    # print('')\n",
    "    test.append(output_sentence)\n",
    "  with open('translated_malayalam.txt', 'w', encoding=\"utf8\") as f:\n",
    "    for line in test:\n",
    "        f.write(line + '\\n')"
   ]
  },
  {
   "cell_type": "code",
   "execution_count": 19,
   "metadata": {},
   "outputs": [],
   "source": [
    "def translator(encoder, decoder):\n",
    "    test_text = 'धृतराष्ट्र उवाच धर्मक्षेत्रे कुरुक्षेत्रे समवेता युयुत्सवः। मामकाः पाण्डवाश्चैव किमकुर्वत सञ्जय।।'\n",
    "\n",
    "    output_words, attentions = evaluate(encoder, decoder, test_text)\n",
    "    output_sentence = ' '.join(output_words)\n",
    "    print(output_sentence)"
   ]
  },
  {
   "cell_type": "code",
   "execution_count": 20,
   "metadata": {},
   "outputs": [
    {
     "name": "stdout",
     "output_type": "stream",
     "text": [
      "/home/glitch/project/Sanskrit2mal/parallel-corpus/sanskrit-mal\n"
     ]
    }
   ],
   "source": [
    " %cd /home/glitch/project/Sanskrit2mal/parallel-corpus/sanskrit-mal"
   ]
  },
  {
   "cell_type": "code",
   "execution_count": 21,
   "metadata": {
    "colab": {
     "base_uri": "https://localhost:8080/"
    },
    "id": "eSwIZgd1ICB6",
    "outputId": "611feb83-5766-4234-8a9f-d1b26cc4fde7"
   },
   "outputs": [
    {
     "name": "stdout",
     "output_type": "stream",
     "text": [
      "5m 24s (- 75m 49s) (5000 6%) 2.5857\n",
      "11m 11s (- 72m 42s) (10000 13%) 0.1323\n",
      "16m 57s (- 67m 48s) (15000 20%) 0.0631\n",
      "22m 44s (- 62m 32s) (20000 26%) 0.0047\n",
      "28m 34s (- 57m 9s) (25000 33%) 0.0030\n",
      "34m 22s (- 51m 33s) (30000 40%) 0.0022\n",
      "40m 9s (- 45m 53s) (35000 46%) 0.0018\n",
      "45m 57s (- 40m 12s) (40000 53%) 0.0015\n",
      "51m 42s (- 34m 28s) (45000 60%) 0.0013\n",
      "57m 46s (- 28m 53s) (50000 66%) 0.0011\n",
      "63m 46s (- 23m 11s) (55000 73%) 0.0010\n",
      "69m 38s (- 17m 24s) (60000 80%) 0.0009\n",
      "75m 49s (- 11m 39s) (65000 86%) 0.0008\n",
      "81m 45s (- 5m 50s) (70000 93%) 0.0008\n",
      "87m 35s (- 0m 0s) (75000 100%) 0.0007\n"
     ]
    }
   ],
   "source": [
    "# defining hidden layer size and the encoder and decoder networks\n",
    "hidden_size = 1024\n",
    "\n",
    "encoder1 = EncoderRNN(input_lang.n_words, hidden_size).to(device)\n",
    "attn_decoder1 = AttnDecoderRNN(hidden_size, output_lang.n_words, dropout_p=0.1).to(device)\n",
    "\n",
    "# train\n",
    "trainIters(encoder1, attn_decoder1, 75000, print_every=5000)"
   ]
  },
  {
   "cell_type": "code",
   "execution_count": 27,
   "metadata": {
    "id": "gru3S0bsIeff"
   },
   "outputs": [
    {
     "name": "stdout",
     "output_type": "stream",
     "text": [
      "/home/glitch/project/Sanskrit2mal\n"
     ]
    }
   ],
   "source": [
    "# saving the trained models\n",
    "%cd /home/glitch/project/Sanskrit2mal\n",
    "torch.save(encoder1.state_dict(), 'trained_encoder.pth')\n",
    "torch.save(attn_decoder1.state_dict(), 'trained_decoder.pth')"
   ]
  },
  {
   "cell_type": "code",
   "execution_count": 28,
   "metadata": {},
   "outputs": [
    {
     "name": "stdout",
     "output_type": "stream",
     "text": [
      "/home/glitch/project/Sanskrit2mal/parallel-corpus/sanskrit-mal\n"
     ]
    }
   ],
   "source": [
    "evaluate_test(encoder1, attn_decoder1)"
   ]
  },
  {
   "cell_type": "code",
   "execution_count": 29,
   "metadata": {},
   "outputs": [
    {
     "name": "stdout",
     "output_type": "stream",
     "text": [
      "/home/glitch/project/Sanskrit2mal/parallel-corpus/sanskrit-mal\n",
      "[['അ\\u200dര്\\u200dജ്ജുനാ! മഹാത്മാക്കളാവട്ടെ ദിവ്യമായ സ്വഭാവത്തെ കൈക്കൊണ്ട്, ഏകാഗ്രചിത്തരായി ഭുതങ്ങ\\u200dള്\\u200dക്കെല്ല\\u200dാം ആദ്യനും അനശ്വരന്മായ എന്നെ അറിഞ്ഞു ഭജിക്കുന്നു. <EOS>\\n', 'ഹേ പാര്\\u200dത്ഥ, എന്നില്\\u200d ആസക്തചിത്തനായി എന്നെ ആശ്രയിച്ച് യോഗം അഭ്യസിച്ച് എങ്ങിനെ എന്നെ നിസ്സംശയമായും പൂര്\\u200dണമായും നീ അറിയുമോ ആ വിധം കേട്ടുകൊള്ളുക. <EOS>\\n', 'ഓം, തത്, സത് എന്നിങ്ങനെയുള്ള ബ്രഹ്മത്തിന്റെ മൂന്നു വിധത്തിലുള്ള നിര്\\u200dദ്ദേശങ്ങളാല്\\u200d ബ്രാഹ്മണരും, വേദവും, യജ്ഞങ്ങളും ആദിയില്\\u200d കല്പിക്കപ്പെട്ടു. <EOS>\\n', 'പാണ്ഡവ സൈന്യത്തില്\\u200d ഭീമാര്\\u200dജുനതുല്യരും ശൂരരും വലിയ വില്ലാളികളുമായ യുയുധാനനും വിരാടനും മഹാരഥനായ ദ്രുപദനും ദൃഷ്ടകേതുവും ചേകിതാനനും വീര്യവാനായ കാശിരാജാവും പുരുജിത്തും കുന്തിഭോജനും നരശ്രേഷ്ടനായ ശൈബ്യനും വിക്രമിയായ യുധാമന്യുവും വീര്യവാനായ ഉത്തമൌജസും സുഭദ്രാതനയനായ അഭിമന്യുവും ദ്രൌപദീപുത്രന്മാരും ഉണ്ട്. അവര്\\u200d എല്ലാവരും തന്നെ മഹാരഥന്മാരാണല്ലോ. <EOS>\\n', 'ഹേ കൌന്തേയ, ഞാന്\\u200d ജലത്തിലെ രസമാകുന്നു. ചന്ദ്രസൂര്യന്\\u200dമാരിലെ ശോഭയാകുന്നു. വേദമന്ത്രങ്ങളില്\\u200d പ്രണവമാകുന്നു. ആകാശത്തിലെ ശബ്ദമാകുന്നു. മനുഷ്യരിലെ പൗരുഷവുമാകുന്നു. <EOS>\\n', 'ബ്രാഹ്മണശ്രേഷ്ട! ഇനി നമുക്കു വിശിഷ്ട്ടന്\\u200dമാരായി ആരോക്കെയുണ്ടോ അവരെ അറിഞ്ഞുകൊള്\\u200dക. എന്റെ സൈന്യത്തില്\\u200d നായകന്മാരായ അവരുടെ പേരുകള്\\u200d അങ്ങയെ ഒര്\\u200dമ്മിപ്പിക്കുവാനായി ഞാന്\\u200d പറയ\\u200dാം. <EOS>\\n', 'കൃഷ്ണാ! ഞാന്\\u200d നിരന്തരം ധ്യാനിച്ചുകൊണ്ട് അങ്ങയെ എങ്ങനെയാണ് അറിയുക? ഏതേതുഭാവത്തിലാണ് അങ്ങയെ ഞാ\\u200cന്\\u200d ധ്യാനിക്കേണ്ടത്? <EOS>\\n', 'അതുകൊണ്ട് ഭീഷ്മരക്ഷിതമായ നമ്മുടെ സൈന്യം അപരിമിതമെങ്കിലും അപര്യാപ്തവും ഭീമന്\\u200d രക്ഷിക്കുന്ന അവരുടെ സൈന്യം പരിമിതമെങ്കിലും പര്യാപ്തവും ആണ്. <EOS>\\n', 'അ\\u200dര്\\u200dജ്ജുനാ! പ്രളയകാലത്തില്\\u200d സര്\\u200dവ്വഭൂതങ്ങളും എന്റെ പ്രകൃതിയിലേയ്ക്കു ചെല്ലുന്നു. സൃഷ്ടികാലത്തില്\\u200d അവയെല്ല\\u200dാം ഞാന്\\u200d വീണ്ടും സൃഷ്ടിക്കുന്നു. <EOS>\\n', 'ദുര്യോധനന് സന്തോഷം ഉളവാക്കിക്കൊണ്ട് പ്രതാപിയും കുരുക്കളില്\\u200dവച്ചു വൃദ്ധനുമായ പിതാമഹന്\\u200d ഭീഷ്മര്\\u200d ഉച്ചത്തില്\\u200d സിംഹഗര്\\u200dജ്ജനം ചെയ്ത് ശംഖു വിളിച്ചു. <EOS>\\n', 'അര്\\u200dജുനന്\\u200d പറഞ്ഞു: ഹേ കൃഷ്ണാ, സന്യാസവും പിന്നെ കർമ്മയോഗവും അങ്ങ് ഉപദേശിക്കുന്നു. ഈ രണ്ടിൽ ഏതാണ് ശ്രേയസ്കരം എന്നത് നിശ്ചിതമായി എനിക്ക് പറഞ്ഞു തരിക.\" <EOS>\\n', 'അതിനുശേഷം വെളുത്ത കുതിരയെ പൂട്ടിയ വലിയ തേരില്\\u200d ഇരുന്നുകൊണ്ട്\\u200c ശ്രീകൃഷ്ണനും അര്\\u200dജുനനും ദിവ്യ ശംഖങ്ങള്\\u200d മുഴക്കി. <EOS>\\n', 'എന്തുകൊണ്ടെന്നാല്\\u200d ക\\u200d\\u200d\\u200dര്\\u200dമ്മം കൊണ്ടുതന്നെയാണ് ജനകാദികള്\\u200d സിദ്ധിയെ പ്രാപിച്ചത്. ലോകസംരക്ഷണത്തെ ഓര്\\u200dത്തിട്ടായാലും നീ പ്രവര്\\u200dത്തിക്കേണ്ടതാണ്. <EOS>\\n', 'രാജാവും കുന്തീപുത്രനുമായ യുധിഷ്ഠിരന്\\u200d അനന്തവിജയവും നകുല\\u200dന്\\u200d സുഘോഷത്തേയും സഹദേവ\\u200dന്\\u200d മണിപുഷ്പകത്തേയും മുഴക്കി. <EOS>\\n', 'ഹേ രാജാവേ, വില്ലാളി വീരനായ കാശി രാജാവും, മഹാരഥനായ ശിഖണ്ഡിയും, ധൃഷ്ടദ്യുമ്നനും, വിരാടനും, തോല്\\u200dക്കാത്ത സാത്യകിയും, പാഞ്ചാലനും, പാഞ്ചാലീപുത്രന്മാരും, കയ്യൂക്കുള്ള അഭിമന്യുവും അവിടവിടെ നിന്നു പ്രത്യേകം പ്രത്യേകം ശംഖും മുഴക്കി. <EOS>\\n', 'ആ ശബ്ദകോലാഹലം ആകാശത്തെയും ഭൂമിയെയും പ്രതിധ്വനിപ്പിച്ചു കൊണ്ടു ധൃതരാഷ്ട്ര പുത്രന്മാരുടെ ഹൃദയം പിളര്\\u200dന്നു. <EOS>\\n', 'ഹേ അര്\\u200dജുനാ, എന്റെ യോനിയാകുന്ന മഹാപ്രകൃതിയില്\\u200d ഞാന്\\u200d ബീജത്തെ നിക്ഷേപിക്കുന്നു. സര്\\u200dവ്വ ജീവരാശികളുടെയും ജന്മം അതില്\\u200dനിന്നാണ്. <EOS>\\n', 'അര്\\u200dജുനന്\\u200d പറഞ്ഞു: അച്യുതാ, രണ്ടു സേനക്കും നടുവില്\\u200d എന്റെ തേര്\\u200d നിര്\\u200dത്തുക. പോരാടാന്\\u200d കൊതിച്ചു നില്ക്കുന്ന ഇവരെ ഞാന്\\u200d ഒന്നു കണ്ടുകൊള്ളട്ടെ. എനിക്ക് ആരോടാണോ ഈ യുദ്ധത്തില്\\u200d പോരാടേണ്ടത്, ദു\\u200dര്\\u200dബുദ്ധിയായ ദു\\u200dര്\\u200dയോധനനു പോരില്\\u200d പ്രിയം ചെയ്യാന്\\u200d ആഗ്രഹിക്കുന്നവരായി ആരൊക്കെയാണോ ഇവിടെ വന്നിരിക്കുന്നവര്\\u200d യുദ്ധാഭിലാഷികളായ അവരെ ഞാന്\\u200d കാണട്ടെ. <EOS>\\n', 'ഈ ധൃതരാഷ്ടപുത്രന്മാരായ നൂറുപേരും, ഭീഷ്മ\\u200dര്\\u200d, ദ്രോണ\\u200dര്\\u200d, ക\\u200d\\u200dര്\\u200dണ്ണ\\u200dന്\\u200d മുതലായ മഹാരഥന്മാരും, മറ്റുള്ള രാജാക്കന്മാരും ഞങ്ങളുടെ ഭാഗത്തുള്ള യോദ്ധാക്കളും ദംഷ്ട്രകളാ\\u200cല്\\u200d ഭയങ്കരമായിരിക്കുന്ന ഭവാന്റെ വ്യക്ത്രങ്ങളി\\u200d\\u200dല്\\u200d ദ്രുതഗതിയില്\\u200d പ്രവേശിക്കുന്നു. ചില\\u200dര്\\u200d തക\\u200dര്\\u200dന്നു പൊടിഞ്ഞ തലകളോടുകുടി ദംഷ്ട്രക\\u200dള്\\u200dക്കിടയില്\\u200d കുടുങ്ങിക്കിടക്കുന്ന തായിക്കാണുന്നു. <EOS>\\n', 'അവിടെ രണ്ടു സൈന്യങ്ങളിലായി നില്ക്കുന്ന പിതാക്കന്മാരെയും പിന്നെ പിതാമഹന്മാരെയും ഗുരുക്കാന്മാരെയും അമ്മാവന്മാരേയും സഹോദരന്മാരെയും പുത്രന്മാരെയും അതുപോലെ കൂട്ടുകാരെയും ശ്വശുരന്മാരെയും സുഹൃത്തുക്കളെയും അര്\\u200dജുനന്\\u200d കണ്ടു. <EOS>\\n', 'ആ കുന്തീപുത്രന്\\u200d ബന്ധുക്കളെ എല്ല\\u200dാം നന്നായി നോക്കിക്കണ്ട്\\u200c, അത്യന്തം കൃപയോടെ വിഷാദിച്ചുകൊണ്ട് ഇങ്ങനെ പറഞ്ഞു. <EOS>\\n', 'കലുഷം ക്ഷയിച്ചവരും സംശയഹീനരും മനോജയം നേടിയവരും സർവഭൂതങ്ങളുടെയും ക്ഷേമത്തിൽ തൽപരരുമായ ഋഷിമാർ ബ്രഹ്മാനന്ദം നേടുന്നു. <EOS>\\n', 'ക\\u200dര്\\u200dമ്മത്തില്\\u200d അക\\u200dര്\\u200dമ്മവും അക\\u200dര്\\u200dമ്മത്തില്\\u200d ക\\u200dര്\\u200dമ്മവും യാതൊരുവ\\u200dന്\\u200d കാണുന്നുവോ അവനാണ് മനുഷ്യരില്\\u200d വച്ചു ബുദ്ധിമാ\\u200dന്\\u200d. അവനാണ് യോഗിയും എല്ലാ ക\\u200cര്\\u200dമ്മങ്ങളും അനുഷ്ഠിക്കുന്നവനും. <EOS>\\n', 'ഹേ അര്\\u200dജുനാ, എന്റെ യോനിയാകുന്ന മഹാപ്രകൃതിയില്\\u200d ഞാന്\\u200d ബീജത്തെ നിക്ഷേപിക്കുന്നു. സര്\\u200dവ്വ ജീവരാശികളുടെയും ജന്മം അതില്\\u200dനിന്നാണ്. <EOS>\\n', 'മധുസൂദനാ, എന്നെ കൊന്നാല്\\u200d പോലും മൂന്നു ലോകത്തിന്റെയും ആധിപത്യത്തിനു വേണ്ടിപ്പോലും ഇവരെ കൊല്ലാന്\\u200d ഞാന്\\u200d ആഗ്രഹിക്കുന്നില്ല. പിന്നെയാണോ ഈ ഭൂമിക്കു വേണ്ടി? <EOS>\\n', 'ഹേ ജനാ\\u200dര്\\u200dദ്ദനാ!, ധൃതരാഷ്ട്രപുത്രന്\\u200dമാരെ കൊന്നിട്ട് നമുക്കു എന്തു സന്തോഷമുണ്ടാകാനാണ്? ആതതായികളായ ഇവരെ കൊന്നാ ല്\\u200d പാപം മാത്രമാണ് നമുക്കു ഫലം. <EOS>\\n', 'ക\\u200dര്\\u200dമ്മയോഗി തപസ്വികളെക്കാള്\\u200d ശ്രേഷ്ഠനാണ്. അയാള്\\u200d ജ്ഞാനികളേക്കാളും ശ്രേഷ്ഠനാണെന്നാണ് എന്റെ പക്ഷം. യോഗി കാമ്യക\\u200dര്\\u200dമ്മങ്ങള്\\u200d അനുഷ്ഠിക്കുന്നവരേക്കാളും ശ്രേഷ്ഠനാണ്. അതുകൊണ്ട് അര്\\u200dജുനാ, നീ യോഗിയായിത്തീരുക. <EOS>\\n', 'ജനാ\\u200d\\u200dര്\\u200dദ്ദന!\\u200d, അത്യാഗ്രഹം കൊണ്ടു ബുദ്ധികെട്ട ഇവര്\\u200d കുലനാശം കൊണ്ടുള്ള ദോഷവും മിത്രങ്ങളെ ദ്രോഹിക്കുന്നതിലുള്ള പാപവും കാണുന്നില്ലെങ്കിലും കുലക്ഷയം കൊണ്ടുള്ള ദോഷം കാണുന്ന നമ്മ\\u200dള്\\u200d\\u200d\\u200d, ഈ പാപത്തില്\\u200d നിന്നും പിന്തിരിയണമെന്ന് മനസ്സിലാക്കേണ്ടതല്ലേ? <EOS>\\n', 'കുരുനന്ദന (കുരുവംശത്തില്\\u200d ജനിച്ചവനേ), തമോഗുണം വര്\\u200dദ്ധിക്കുമ്പോള്\\u200d അവിവേകം, ആലസ്യം, പ്രമാദം (അശ്രദ്ധ), മോഹം എന്നിവ ഉണ്ടാകുന്നു. <EOS>\\n', 'പരസ്പരവിരുദ്ധമെന്ന് തോന്നുന്ന വാക്കുകള്\\u200d കൊണ്ട് എന്റെ ബുദ്ധിയെ അങ്ങ് ഭ്രമിപ്പിക്കുന്നതുപൊലെ തോന്നുന്നു. അതുകൊണ്ട് ഏതൊന്നുക്കൊണ്ടു ഞാന്\\u200d ശ്രേയസ്സ് നേടുമോ അതുമാത്രം എനിക്ക് ഉപദേശിച്ചു തരിക. <EOS>\\n', 'വ\\u200dര്\\u200dണ്ണസങ്കരം കുലനാശകന്മാര്\\u200dക്കും കുലത്തിനും നരകത്തിനായിത്തന്നെ തീരുന്നു. ഇവരുടെ പിതൃക്കള്\\u200d പിണ്ഡദാനവും ഉദകക്രിയയും ലഭിക്കാതെ നിലംപതിച്ചു പോകുന്നു. <EOS>\\n', 'വിധിപ്രകാരം അനുഷ്ഠിച്ച പരധ\\u200dര്\\u200dമ്മത്തെക്കളും ഗുണഹീനമായ സ്വധ\\u200dര്\\u200dമ്മമാണ് ശ്രേയസ്ക്കരം. സ്വധ\\u200dര്\\u200dമ്മാനുഷ്ഠാനത്തില്\\u200d സംഭവിക്കുന്ന മരണവും ശ്രേയസ്ക്കരമാണ്. പരധ\\u200dര്\\u200dമ്മം ഭയാവഹമാകുന്നു. <EOS>\\n', 'ശിക്ഷകളില്\\u200d ദണ്ഡവും, ജയേച്ഛുക്കളില്\\u200d നീതിയും, രഹസ്യങ്ങളില്\\u200d മൗനവും, പാണ്ഡിത്യത്തി\\u200dല്\\u200d ജ്ഞാനവും ഞാനാണ്. <EOS>\\n', 'ഇങ്ങിനെ പലതരം യജ്ഞങ്ങള്\\u200d ബ്രഹ്മാവിനാല്\\u200d വിവരിക്കപ്പെട്ടി ട്ടുണ്ട്. അവയെല്ല\\u200dാം ക\\u200dര്\\u200dമ്മത്തില്\\u200d നിന്നുഉളവാകുന്നവയാണ് എന്ന് അറയുക. അതെല്ല\\u200dാം ഇങ്ങിനെ മനസ്സിലാക്കുമ്പോള്\\u200d നീ മുക്തനായിത്തീരും. <EOS>\\n', 'എതിര്\\u200dക്കാതെയും ആയുധമെടുക്കാതെയും ഇരിക്കുന്ന എന്നെ, ആയുധമേന്തിയ ധൃതരാഷ്ട്രപുത്രന്മാര്\\u200d പോരില്\\u200d കൊല്ലുമെങ്കില്\\u200d അതെനിക്ക് കൂടുതല്\\u200d ക്ഷേമകരമായിരിക്കും. <EOS>\\n', 'അര്\\u200dജുനന്\\u200d പറഞ്ഞു: ഹേ കൃഷ്ണാ, സന്യാസവും പിന്നെ കർമ്മയോഗവും അങ്ങ് ഉപദേശിക്കുന്നു. ഈ രണ്ടിൽ ഏതാണ് ശ്രേയസ്കരം എന്നത് നിശ്ചിതമായി എനിക്ക് പറഞ്ഞു തരിക.\" <EOS>\\n', 'സഞ്ജയന്\\u200d പറഞ്ഞു: അങ്ങനെ മനസ്സലിഞ്ഞവനും, കണ്ണീര്\\u200d നിറഞ്ഞ കണ്ണുകളോടുകൂടിയവനും ദുഃഖിക്കുന്നവനുമായ അര്\\u200dജുനനോടു ശ്രീകൃഷ്ണന്\\u200d ഇപ്രകാരം പറഞ്ഞു. <EOS>\\n', 'ഹേ കൃഷ്ണാ, പിന്നെ ആര്\\u200d പ്രേരിപ്പിചിട്ടാണ് ഈ പുരുഷന്\\u200d താ\\u200dന്\\u200d ഇച്ഛിക്കാതെയിരുന്നിട്ടും ബലമായ ഏതോ ശക്തിയാല്\\u200d നിയുക്തനെന്നപോലെ പാപകര്\\u200dമ്മങ്ങ\\u200dള്\\u200d അനുഷ്ഠിക്കുന്നത്. <EOS>\\n', 'ഹേ പാര്\\u200dത്ഥ, എന്നില്\\u200d സ്ഥിരമായി ചിത്തം നി\\u200dര്\\u200dത്തുവാ\\u200cന്\\u200d ശക്തിയില്ലാത്ത പക്ഷം പിന്നെ അഭ്യാസയോഗത്താ\\u200c\\u200dല്\\u200d എന്നെ പ്രാപിക്കുവാ\\u200d\\u200dന്\\u200d നോക്കണം. <EOS>\\n', 'അര്\\u200dജുനന്\\u200d ചോദിച്ചു: ഹേ ശത്രുഘാതകാ! മധുസൂധനാ, പൂജാര്\\u200dഹരായ ഭീഷ്മരേയും ദ്രോണരെയും മൂര്\\u200dച്ചയുള്ള അമ്പുകള്\\u200d കൊണ്ടു ഞാന്\\u200d യുദ്ധത്തില്\\u200d എങ്ങനെ എതിരിടും? <EOS>\\n', 'മഹാത്മാക്കളായ ഗുരുക്കന്മാരെ ഹനിക്കുന്നതിനേക്കാള്\\u200d ഈ ലോകത്തില്\\u200d ഭിക്ഷയെടുക്കുന്നത് പോലും ശ്രേയസ്കരമാണ്. ഗുരുക്കന്മാരെ ഹനിച്ചിട്ട്\\u200c അ\\u200dര്\\u200dത്ഥകാമസ്വരൂപങ്ങളും രക്തം പുരണ്ടതുമായ ഭോഗങ്ങളെ ഈ ലോകത്തില്\\u200dവെച്ചുതന്നെ ഭുജിക്കണോ? <EOS>\\n', 'ഹേ കൌന്തേയ, ഞാന്\\u200d ജലത്തിലെ രസമാകുന്നു. ചന്ദ്രസൂര്യന്\\u200dമാരിലെ ശോഭയാകുന്നു. വേദമന്ത്രങ്ങളില്\\u200d പ്രണവമാകുന്നു. ആകാശത്തിലെ ശബ്ദമാകുന്നു. മനുഷ്യരിലെ പൗരുഷവുമാകുന്നു. <EOS>\\n', 'അര്\\u200dജുനന്\\u200d പറഞ്ഞു: ഹേ കൃഷ്ണാ, സന്യാസവും പിന്നെ കർമ്മയോഗവും അങ്ങ് ഉപദേശിക്കുന്നു. ഈ രണ്ടിൽ ഏതാണ് ശ്രേയസ്കരം എന്നത് നിശ്ചിതമായി എനിക്ക് പറഞ്ഞു തരിക.\" <EOS>\\n', 'ഈ ധൃതരാഷ്ടപുത്രന്മാരായ നൂറുപേരും, ഭീഷ്മ\\u200dര്\\u200d, ദ്രോണ\\u200dര്\\u200d, ക\\u200d\\u200dര്\\u200dണ്ണ\\u200dന്\\u200d മുതലായ മഹാരഥന്മാരും, മറ്റുള്ള രാജാക്കന്മാരും ഞങ്ങളുടെ ഭാഗത്തുള്ള യോദ്ധാക്കളും ദംഷ്ട്രകളാ\\u200cല്\\u200d ഭയങ്കരമായിരിക്കുന്ന ഭവാന്റെ വ്യക്ത്രങ്ങളി\\u200d\\u200dല്\\u200d ദ്രുതഗതിയില്\\u200d പ്രവേശിക്കുന്നു. ചില\\u200dര്\\u200d തക\\u200dര്\\u200dന്നു പൊടിഞ്ഞ തലകളോടുകുടി ദംഷ്ട്രക\\u200dള്\\u200dക്കിടയില്\\u200d കുടുങ്ങിക്കിടക്കുന്ന തായിക്കാണുന്നു. <EOS>\\n', 'സഞ്ജയന്\\u200d പറഞ്ഞു: ശത്രുനാശകനായ അര്\\u200dജുനന്\\u200d കൃഷ്ണനോട് ഞാന്\\u200d യുദ്ധം ചെയ്കയില്ല എന്ന് പറഞ്ഞു മൗനം അവലംബിച്ചു. <EOS>\\n', 'ഹേ ഭരതവംശജാ, രണ്ട് സേനയ്ക്കിടയിലും വിഷണ്ണനായി നില്ക്കുന്ന അവനോടു മന്ദഹസിച്ചുകൊണ്ടെന്നവണ്ണം ഹൃഷികേശനായ ഭഗവാന്\\u200d ഇങ്ങനെ അരുളിച്ചെയ്തു. <EOS>\\n', 'സദാ നിറഞ്ഞുകൊണ്ടിരുന്നാലും സമുദ്രം അക്ഷോഭ്യമായിരി ക്കുന്നുവോ അതുപോലെ കാമങ്ങള്\\u200d കടന്നുകൂടിമ്പോള്\\u200d യാതൊരുവന്\\u200d അക്ഷോഭ്യനായിരിക്കുന്നുവോ അവന്\\u200d ശാന്തിയെ പ്രാപിക്കും. വിഷയാഭിനിവേശം വിടാത്തവന്\\u200d ശാന്തി നേടുന്നില്ല. <EOS>\\n', 'ഞാന്\\u200d ഒരിക്കലും ഇല്ലാതിരുന്നിട്ടില്ല. നീയും ഇല്ലാതിരുന്നിട്ടില്ല. ഈ രാജാക്കന്മാരും ഇല്ല. ഇനി മേല്\\u200d നമ്മളെല്ലാവരും ഉണ്ടാകാതിരിക്കുകയുമില്ല. <EOS>\\n', 'ഹേ അര്\\u200dജുനാ, എന്റെ യോനിയാകുന്ന മഹാപ്രകൃതിയില്\\u200d ഞാന്\\u200d ബീജത്തെ നിക്ഷേപിക്കുന്നു. സര്\\u200dവ്വ ജീവരാശികളുടെയും ജന്മം അതില്\\u200dനിന്നാണ്. <EOS>\\n', 'ഹേ കൃഷ്ണാ, പ്രകൃതി, പുരുഷ\\u200dന്\\u200d, ക്ഷേത്രം, ക്ഷേത്രജ്ഞ\\u200dന്\\u200d, ജ്ഞാനം (അറിവ്), ജ്ഞേയം (അറിയപ്പെടേണ്ടത്) എന്നിവയെപ്പറ്റി ഞാന്\\u200d അറിയാന്\\u200d ആഗ്രഹിക്കുന്നു. <EOS>\\n', 'ഹേ പാര്\\u200dഥ, ഉള്ളത് എന്ന അര്\\u200dഥത്തിലും, നല്ലത് എന്ന അര്\\u200dഥത്തിലും സത് എന്ന പദം പ്രയോഗിക്കപ്പെടുന്നു. അതുപോലെ, ശ്രേഷ്ഠമായ കര്\\u200dമ്മത്തെ ഉദ്ദേശിച്ചും സത് എന്ന് ശബ്ദം ഉപയോഗിക്കപ്പെടുന്നു. <EOS>\\n', 'ഇല്ലാത്തതിന് (അസത്തിന്) ഉണ്മയില്ല. ഉള്ളതിന് (സത്തിന്) അഭാവവും അറിയപ്പെടുന്നില്ല. ഈ രണ്ടിന്റെയും (സത്തിന്റെയും അസത്തിന്റെയും) യാഥാര്\\u200dത്ഥ്യം തത്വദര്\\u200dശികള്\\u200d കണ്ടറിഞ്ഞിട്ടുണ്ട്. <EOS>\\n', 'ഹേ കൗരവശ്രേഷ്ഠ! ഈ മനുഷ്യലോകത്തി\\u200dല്\\u200dനീയൊഴിച്ചു മറ്റൊരു ത്തനും എന്റെ ഈ രുപം വേദാധ്യയനത്താലോ യോഗാനുഷ്ഠാനം കൊണ്ടോ ദാനങ്ങ\\u200dള്\\u200d, ഉഗ്രതപസ്സുക\\u200dള്\\u200d, സ\\u200dല്\\u200dക്രിയക\\u200dള്\\u200d മുതലായവ കൊണ്ടോ കാണപ്പെടുവാ\\u200cന്\\u200dകഴിയുന്നതല്ല. <EOS>\\n', 'ഹേ കൃഷ്ണാ, എന്റെ ഈ സംശയത്തെ നിഃശേഷം അങ്ങു തീര്\\u200dത്തുതരേണ്ടതാണ്. ഈ സംശയം പരിഹരിക്കാന്\\u200d അങ്ങല്ലാതെ മറ്റൊരാള്\\u200d യോഗ്യനായില്ല. <EOS>\\n', 'ഹേ പാര്\\u200dത്ഥ, എന്നില്\\u200d തന്നെ മനസ്സു ഉറപ്പിച്ച് മറ്റൊന്നുമോര്\\u200dക്കാതെ എപ്പോഴും യാതൊരുവന്\\u200d എന്നെ സ്മരിക്കുന്നുവോ നിത്യമുക്തനായ ആ യോഗിക്ക് ഞാന്\\u200d സുലഭനാണ്. <EOS>\\n', 'ഹേ അര്\\u200dജുനാ, കഴിഞ്ഞതും ഇപ്പോഴുള്ളതും ഇനിയുണ്ടാകുന്നതുമായ ജീലജാലങ്ങളെയും ഞാനറിയുന്നു. എന്നാല്\\u200d എന്നെയാകട്ടെ ഒരുത്തരും അറിയുന്നില്ല. <EOS>\\n', 'പാര്\\u200dത്ഥ, ഈ ആത്മാവിനെ നാശരഹിതനും നിത്യനും ജനനരഹിതനും മാറ്റമില്ലാത്തവനുമായി അറിയുന്നുവോ അങ്ങിനെയുള്ള പുരുഷന്\\u200d ആരെയെങ്കിലും കൊല്ലിക്കുന്നതെങ്ങനെ? കൊല്ലുന്നതെങ്ങനെ? <EOS>\\n', 'മനുഷ്യന്\\u200d എങ്ങിനെ കീറിയ വസ്ത്രങ്ങള്\\u200d വെടിഞ്ഞു വേറെ പുതിയവ സ്വീകരിക്കുന്നുവോ, അതുപോലെ ആത്മാവ് ജീ\\u200dര്\\u200dണ്ണിച്ച ദേഹങ്ങള്\\u200d വെടിഞ്ഞു വേറെ ദേഹങ്ങള്\\u200d കൈകൊള്ളുന്നു <EOS>\\n', 'അര്\\u200dജുനാ, വേദങ്ങള്\\u200d ത്രിഗുണാത്മകങ്ങളാണ്. നീ ത്രിഗുണാതീതനും ദ്വന്ദരഹിതനും സത്യനിഷ്ഠനും യോഗക്ഷേമങ്ങള്\\u200d ഗണിക്കാത്തവനും ആത്മനിഷ്ഠനും ആയിത്തീരുക. <EOS>\\n', 'അ\\u200dര്\\u200dജ്ജുനാ! നീ കുലുങ്ങേണ്ടതില്ല. എന്തെന്നാല്\\u200d ക്ഷത്രിയന് ധ\\u200dര്\\u200dമ്മ സംഗതമായ യുദ്ധത്തേക്കാള്\\u200d ശ്രേയസ്കരമായി മറ്റൊന്നുമില്ല. <EOS>\\n', 'ഭയമില്ലായ്മ, ഹൃദയശുദ്ധി, ജ്ഞാനത്തിലും യോഗത്തിലുമുള്ള നിഷ്ഠ, ദാനം, ഇന്ദ്രിയസംയമനം, യജ്ഞം, ശാസ്ത്രപാരായണം, തപസ്സ്, ആര്\\u200dജ്ജവം, അഹിംസാ, സത്യം, ക്രോധമില്ലായ്മ, ത്യാഗം, ശാന്തി, പരദൂഷണം ചെയ്യാതിരിക്കുക, ഭൂതദയാ, ആഗ്രഹമില്ലായ്മ, സൗമ്യത, ലജ്ജ, ചാപല്യമില്ലായ്മ, തേജസ്സ്, ക്ഷമാ, ശുചിത്വം, ദ്രോഹിക്കാതിരിക്കല്\\u200d, അഹങ്കാരമില്ലായ്മ എന്നിവ ദൈവീസമ്പത്തോടെ ജനിച്ചവനുണ്ടാകുന്ന ഗുണങ്ങളാണ്. <EOS>\\n', 'എല്ലാവര്\\u200dക്കും പ്രിയപ്പെട്ട ആഹാരവും മൂന്നു വിധത്തിലുണ്ട്. യജ്ഞം, തപസ്സ്, ദാനം എന്നിവയുടെയും ഭേദം നീ കേട്ടാലും. <EOS>\\n', 'ജനിച്ചവന് മരണം നിശ്ചിതമാണ്. മരിച്ചവന് ജനനവും നിശ്ചിതമാണ്. അതുകൊണ്ട് പരിഹാരമില്ലാത്ത കാര്യത്തില്\\u200d ദുഃഖിക്കുന്നത് നിനക്ക് ഉചിതമല്ല. <EOS>\\n', 'ഹേ കൃഷ്ണാ, എന്റെ ഈ സംശയത്തെ നിഃശേഷം അങ്ങു തീര്\\u200dത്തുതരേണ്ടതാണ്. ഈ സംശയം പരിഹരിക്കാന്\\u200d അങ്ങല്ലാതെ മറ്റൊരാള്\\u200d യോഗ്യനായില്ല. <EOS>\\n', 'ഭയമില്ലായ്മ, ഹൃദയശുദ്ധി, ജ്ഞാനത്തിലും യോഗത്തിലുമുള്ള നിഷ്ഠ, ദാനം, ഇന്ദ്രിയസംയമനം, യജ്ഞം, ശാസ്ത്രപാരായണം, തപസ്സ്, ആര്\\u200dജ്ജവം, അഹിംസാ, സത്യം, ക്രോധമില്ലായ്മ, ത്യാഗം, ശാന്തി, പരദൂഷണം ചെയ്യാതിരിക്കുക, ഭൂതദയാ, ആഗ്രഹമില്ലായ്മ, സൗമ്യത, ലജ്ജ, ചാപല്യമില്ലായ്മ, തേജസ്സ്, ക്ഷമാ, ശുചിത്വം, ദ്രോഹിക്കാതിരിക്കല്\\u200d, അഹങ്കാരമില്ലായ്മ എന്നിവ ദൈവീസമ്പത്തോടെ ജനിച്ചവനുണ്ടാകുന്ന ഗുണങ്ങളാണ്. <EOS>\\n', 'ഹേ പാര്\\u200dഥ, നീ ഏകാഗ്രചിത്തനായി ഇതെല്ല\\u200dാം കേട്ടുവോ? നിന്റെ അജ്ഞാനവും മോഹവും നഷ്ടമായോ? <EOS>\\n', 'സ്വധ\\u200dര്\\u200dമ്മത്തെക്കുറിച്ച് ആലോചിച്ചിട്ടും നീ കുലുങ്ങേണ്ടതില്ല. എന്തെന്നാല്\\u200d ക്ഷത്രിയന് ധ\\u200dര്\\u200dമ്മ സംഗതമായ യുദ്ധത്തേക്കാള്\\u200d ശ്രേയസ്കരമായി മറ്റൊന്നുമില്ല. <EOS>\\n', 'ഈ യുദ്ധം അപ്രതീക്ഷിതമായി തുറന്നുകിട്ടിയ സ്വര്\\u200dഗ്ഗവാതില്\\u200d പോലെയാണ്. ഹേ പാര്\\u200dത്ഥ, ഭാഗ്യവാന്മാരായ ക്ഷത്രിയര്\\u200dക്ക് മാത്രമാണ് ഈ വിധമുള്ള യുദ്ധം ലഭിക്കുന്നത്\\u200c. <EOS>\\n', 'ഹേ പാര്\\u200dത്ഥ! നിരന്തരമായ അഭ്യാസം കൊണ്ടു യോഗയുക്തവും മറ്റൊന്നിലേക്ക് പോവാത്തതുമായ മനസ്സോടുകൂടി ധ്യാനിക്കുന്നവന്\\u200d ആ ദിവ്യനായ പരമപുരുഷനെ പ്രാപിക്കുന്നു. <EOS>\\n', 'അര്\\u200dജുനന്\\u200d പറഞ്ഞു: ഹേ കൃഷ്ണാ, പ്രകൃതി, പുരുഷ\\u200dന്\\u200d, ക്ഷേത്രം, ക്ഷേത്രജ്ഞ\\u200dന്\\u200d, ജ്ഞാനം (അറിവ്), ജ്ഞേയം (അറിയപ്പെടേണ്ടത്) എന്നിവയെപ്പറ്റി ഞാന്\\u200d അറിയാന്\\u200d ആഗ്രഹിക്കുന്നു. <EOS>\\n', 'ഹേ ഭാരത, എല്ലാവരുടെയും ശ്രദ്ധ അവരവരുടെ ശ്രദ്ധയെ ആശ്രയിച്ചിരിക്കുന്നു. ഈ മനുഷ്യന്\\u200d ശ്രദ്ധാമയനാണ്. ഒരുവന്റെ ശ്രദ്ധ ഏതാണോ അവന്\\u200d ആ തരത്തിലുള്ളവനായിരിക്കും. <EOS>\\n', 'ഹേ പാര്\\u200dത്ഥ! ഈ സര്\\u200dവഭൂതങ്ങളും വീണ്ടും വീണ്ടും ഉണ്ടായി രാത്രിയുടെ ആരംഭത്തില്\\u200d പ്രകൃതിയില്\\u200d ലയിക്കയും പരാധീനരായി പ്രഭാതത്തില്\\u200d വീണ്ടും ഉത്ഭവിക്കയും ചെയ്യുന്നു. <EOS>\\n', 'മരിച്ചാല്\\u200d സ്വര്\\u200dഗ്ഗം നേട\\u200dാം, ജയിച്ചാലോ ഭൂമിയെയും അനുഭവിക്ക\\u200dാം. അതുകൊണ്ട് അര്\\u200dജുനാ, യുദ്ധത്തിന് നിശ്ചയിച്ചു നീ എഴുന്നേല്\\u200dക്ക്. <EOS>\\n', 'മരിച്ചാല്\\u200d സ്വര്\\u200dഗ്ഗം നേട\\u200dാം, ജയിച്ചാലോ ഭൂമിയെയും അനുഭവിക്ക\\u200dാം. അതുകൊണ്ട് അര്\\u200dജുനാ, യുദ്ധത്തിന് നിശ്ചയിച്ചു നീ എഴുന്നേല്\\u200dക്ക്. <EOS>\\n', 'ഹേ കൃഷ്ണാ, എന്റെ ഈ സംശയത്തെ നിഃശേഷം അങ്ങു തീര്\\u200dത്തുതരേണ്ടതാണ്. ഈ സംശയം പരിഹരിക്കാന്\\u200d അങ്ങല്ലാതെ മറ്റൊരാള്\\u200d യോഗ്യനായില്ല. <EOS>\\n', 'ഈ ക\\u200dര്\\u200dമ്മയോഗനിഷ്ഠയില്\\u200d തുടങ്ങി വെച്ച കര്\\u200dമ്മത്തിനൊന്നും നാശമില്ല. പാപം സംഭവിക്കുകയുമില്ല. ഈ ധ\\u200dര്\\u200dമ്മത്തിന്റെ അത്യല്\\u200dപ്പമായ (വളരെ ചെറിയ തോതിലുള്ള) ആചരണം പോലും വലിയ ഭയത്തില്\\u200d നിന്നും രക്ഷിക്കുന്നു. <EOS>\\n', 'മരിച്ചാല്\\u200d സ്വര്\\u200dഗ്ഗം നേട\\u200dാം, ജയിച്ചാലോ ഭൂമിയെയും അനുഭവിക്ക\\u200dാം. അതുകൊണ്ട് അര്\\u200dജുനാ, യുദ്ധത്തിന് നിശ്ചയിച്ചു നീ എഴുന്നേല്\\u200dക്ക്. <EOS>\\n', 'എന്റെ ഈ അഭിപ്രായം നിത്യവും ശ്രദ്ധയോടും അസൂയ കൂടാതെയും യാതൊരു മനുഷ്യര്\\u200d അനുഷ്ഠിക്കുന്നുവോ അവരും ക\\u200dര്\\u200dമ്മബന്ധത്തില്\\u200dനിന്നും വിമുക്തരായിത്തീരുന്നു. <EOS>\\n', 'അര്\\u200dജുനാ, വേദങ്ങള്\\u200d ത്രിഗുണാത്മകങ്ങളാണ്. നീ ത്രിഗുണാതീതനും ദ്വന്ദരഹിതനും സത്യനിഷ്ഠനും യോഗക്ഷേമങ്ങള്\\u200d ഗണിക്കാത്തവനും ആത്മനിഷ്ഠനും ആയിത്തീരുക. <EOS>\\n', 'എല്ലായിടത്തും വെള്ളം കൊണ്ടു നിറഞ്ഞിരിക്കുമ്പോള്\\u200d കിണറു കൊണ്ട് എത്ര പ്രയോജനം ഉണ്ടോ അത്രയ്ക്കു പ്രയോജനം മാത്രമേ ജ്ഞാനിയായ ബ്രാഹ്മണന് വേദങ്ങളാസകലം കൊണ്ടുണ്ടാകൂ. <EOS>\\n', 'വിശ്വരൂപനും വിശ്വേശ്വരനുമായ ഹേ ഭഗവ\\u200dന്\\u200d! ഞാ\\u200dന്\\u200d\\u200d നോക്കുന്നിടത്തൊക്കെയും അനേകം കൈകളും അനേകം ഉദരങ്ങളും അനേകം മുഖങ്ങളും അനേകം നേത്രങ്ങളുമുള്ളവനും അനന്തരൂപങ്ങളോടുകൂടിയവനുമായ അങ്ങയെ ഒരാളെ മാത്രമേ കാണുന്നുള്ളു. എന്നാ\\u200d\\u200dല്\\u200dഅവിടത്തെ അന്തമോ മദ്ധ്യമോ ആദിയോ ഞാനൊട്ടു കാണുന്നുമില്ല. <EOS>\\n', 'ഏതൊക്കെയാണോ സാത്വികഭാവങ്ങള്\\u200d ഏതൊക്കെയാണോ രാജസങ്ങളും താമസങ്ങളുമായ ഭാവങ്ങള്\\u200d അവയെല്ല\\u200dാം എന്നില്\\u200dനിന്ന് ഉത്ഭവിച്ചവ തന്നെയെന്നറിയുക. ഞാന്\\u200d അവയിലല്ല എന്നാല്\\u200d അവ എന്നിലാണ്. <EOS>\\n', 'അതുകൊണ്ട് യാതൊരുവന്റെ ഇന്ദ്രിയങ്ങള്\\u200d എല്ലാ വിഷയങ്ങളില്\\u200d നിന്നും നിശ്ശേഷം പിന്\\u200dവലിക്കപ്പെട്ടിരിക്കുന്നുവോ അവന്റെ പ്രജഞ പ്രതിഷ്ഠിതമായിരിക്കുന്നു. <EOS>\\n', 'ബ്രാഹ്മണന്\\u200d, ക്ഷത്രിയന്\\u200d, വൈശ്യന്\\u200d, ശൂദ്രന്\\u200d എന്നിവരുടെ കര്\\u200dമ്മങ്ങള്\\u200d സ്വഭാവജന്യമായ ഈ ഗുണങ്ങളുടെ അടിസ്ഥാനത്തില്\\u200d വിഭജിക്കപ്പെട്ടിരിക്കുന്നു. <EOS>\\n', 'എല്ലായിടത്തും വെള്ളം കൊണ്ടു നിറഞ്ഞിരിക്കുമ്പോള്\\u200d കിണറു കൊണ്ട് എത്ര പ്രയോജനം ഉണ്ടോ അത്രയ്ക്കു പ്രയോജനം മാത്രമേ ജ്ഞാനിയായ ബ്രാഹ്മണന് വേദങ്ങളാസകലം കൊണ്ടുണ്ടാകൂ. <EOS>\\n', 'എപ്പോള്\\u200d നിന്റെ ബുദ്ധി മോഹരൂപമായ വൈഷമ്യത്തെ കടക്കുമോ അപ്പോള്\\u200d കേള്\\u200dക്കേണ്ടതിനെയും കേട്ടതിനെയും കുറിച്ചു നീ ഉദാസീനനായിത്തീരും. <EOS>\\n', 'പലതരം ഉപദേശങ്ങള്\\u200d കേട്ടതു മൂലം പതറിപ്പോയ നിന്റെ ബുദ്ധി എപ്പോള്\\u200d ഇളക്കമറ്റ് സമാധിയില്\\u200d സ്ഥിരമായി നില്\\u200dക്കുമോ അപ്പോള്\\u200d യോഗത്തെ നീ പ്രാപിക്കും. <EOS>\\n', 'അല്ലെങ്കില്\\u200d ബുദ്ധിമാന്മാരായ യോഗികളുടെ കുലത്തില്\\u200d തന്നെ ജനിക്കുന്നു. ലോകത്തില്\\u200d ഇങ്ങിനെയുള്ള ജന്മം ലഭിക്കാന്\\u200d അത്യന്തം പ്രയാസമാണ്. <EOS>\\n', 'ഹേ മധുസൂദനാ, അധിയജ്ഞന്\\u200d ആര്? എങ്ങിനെയിരിക്കുന്നു? ഇവിടെ ഈ ദേഹത്തിലുണ്ടോ? മരണകാലത്ത് നിയന്ത്രിതചിത്ത ന്മാരാല്\\u200d എങ്ങിനെയാണ് അങ്ങ് അറിയപ്പെടുന്നത്? <EOS>\\n', 'ഹേ മഹാബാഹോ, ബ്രഹ്മമാ\\u200dര്\\u200dഗ്ഗത്തില്\\u200d നിന്ന്\\u200c തെറ്റി എങ്ങുമുറയ്ക്കാതെ ലൌകികമാര്\\u200dഗം, യോഗമാര്\\u200dഗം ഈ രണ്ടിലും സ്ഥാനമില്ലാതെ ഛിന്നഭിന്നമായ മേഘം പോലെ അവന്\\u200d നശിക്കുകയില്ലേ? <EOS>\\n', 'ഈശ്വര\\u200dന്\\u200d എല്ലായിടത്തും ഒരുപോലെ വ്യാപിച്ചിരിക്കുന്നതായി കാണുന്നവ\\u200dന്\\u200d തന്നെ സ്വയം നശിപ്പിക്കുന്നില്ല. അതിനാല്\\u200d അവ\\u200d\\u200dന്\\u200d മുക്തി അടയുകയും ചെയ്യുന്നു.\\u200d <EOS>\\n', 'അഗ്നി, ജ്യോതിസ്, വെളുത്ത പക്ഷം, ഉത്തരായണം ഇവയില്\\u200d ഇവയുടെ അധീശ്വരായ ദേവതകള്\\u200d വഴിയായി, ഗമിക്കുന്ന ബ്രഹ്മജ്ഞരായ ജനങ്ങള്\\u200d ബ്രഹ്മത്തെ പ്രാപിക്കുന്നു. <EOS>\\n', 'ഹേ അര്\\u200dജുനാ, എന്റെ യോനിയാകുന്ന മഹാപ്രകൃതിയില്\\u200d ഞാന്\\u200d ബീജത്തെ നിക്ഷേപിക്കുന്നു. സര്\\u200dവ്വ ജീവരാശികളുടെയും ജന്മം അതില്\\u200dനിന്നാണ്. <EOS>\\n', 'ഹേ കുന്തീപുത്രാ, ഇന്ദ്രിയനിഗ്രഹത്തിനായി പ്രയത്നിക്കുന്ന വിദ്വാനായ പുരുഷന്റെ മനസ്സിനെപ്പോലും ക്ഷോഭിച്ചിരിക്കുന്ന ഇന്ദ്രിയങ്ങ\\u200c\\u200dള്\\u200d ബലാല്\\u200dക്കാരമായി വശത്താക്കുന്നു. <EOS>\\n', 'അവയെല്ല\\u200dാം സംയമനം ചെയ്തു യോഗയുക്തനായി എന്നില്\\u200d ഭക്തിയോടുകൂടി ഇരിക്കുക. ആര്\\u200dക്കു ഇന്ദ്രിയങ്ങള്\\u200d വശത്താണോ അവന്റെ പ്രജഞ പ്രതിഷ്ഠിതമാണ്. <EOS>\\n', 'പരിശുദ്ധമായ ബുദ്ധിയാല്\\u200d മനസ്സിനെ ധൈര്യപൂര്\\u200dവ്വം നിയന്ത്രിച്ച്, ശബ്ദം, സ്പര്\\u200dശം, തുടങ്ങിയ വിഷയങ്ങളെ ത്യജിച്ച്, രാഗദ്വേഷങ്ങളെ അകറ്റി, വിജനപ്രദേശത്തു വസിച്ച്, മിതമായഹരിച്ച്, ശരീരം, മനസ്സ്, വാക്ക് എന്നിവയെ സംയമിച്ച്, സദാ വൈരാഗ്യത്തോടെ, ധ്യാനയോഗതത്പരനായി, അഹങ്കാരം, ബലം, അഭിമാനം, കാമം, ക്രോധം, പരിഗ്രഹം എന്നിവയെ വെടിഞ്ഞ്, നിര്\\u200dമമനായി, ശാന്തനായിരിക്കുന്നവന്\\u200d ബ്രഹ്മപദത്തെ പ്രാപിക്കുന്നു. <EOS>\\n', 'എന്നാല്\\u200d യാതൊരുവന്\\u200d രാഗദ്വേഷമില്ലാത്ത, ആത്മവശ്യങ്ങളായ ഇന്ദ്രിയങ്ങള്\\u200d കൊണ്ടു വിഷയങ്ങളെ അനുഭവിക്കുന്നുവോ ആത്മവിജയിയായ ആ പുരുഷന്\\u200d മനഃപ്രസാദത്തെ പ്രാപിക്കുന്നു. <EOS>\\n', 'ഈ തത്വത്തെ അറിയുന്നവരായ പൂര്\\u200dവ്വികരായ മുമുക്ഷുക്കള്\\u200dക്കൂടി, നിഷ്കാമ ബുദ്ധിയോടുകൂടി ക\\u200dര്\\u200dമ്മം അനുഷ്ഠിച്ചു. അതുകൊണ്ട് പൂര്\\u200dവ്വികന്മാര്\\u200d പണ്ടു ചെയ്തതുപോലെ നീയും ക\\u200dര്\\u200dമ്മം ചെയ്യുക തന്നെ വേണം. <EOS>\\n', 'അചഞ്ചലമായ ഭക്തിയോടെ എന്നെ ഭജിക്കുന്നവന്\\u200d ത്രിഗുണങ്ങളെ മറികടന്ന് ബ്രഹ്മഭാവത്തെ പ്രാപിക്കുവാന്\\u200d യോഗ്യനാകുന്നു. <EOS>\\n', 'ഹേ അര്\\u200dജുനാ, കഴിഞ്ഞതും ഇപ്പോഴുള്ളതും ഇനിയുണ്ടാകുന്നതുമായ ജീലജാലങ്ങളെയും ഞാനറിയുന്നു. എന്നാല്\\u200d എന്നെയാകട്ടെ ഒരുത്തരും അറിയുന്നില്ല. <EOS>\\n', 'അതുകൊണ്ട് യാതൊരുവന്റെ ഇന്ദ്രിയങ്ങള്\\u200d എല്ലാ വിഷയങ്ങളില്\\u200d നിന്നും നിശ്ശേഷം പിന്\\u200dവലിക്കപ്പെട്ടിരിക്കുന്നുവോ അവന്റെ പ്രജഞ പ്രതിഷ്ഠിതമായിരിക്കുന്നു. <EOS>\\n', 'യാതൊന്ന് സര്\\u200dവ്വപ്രാണികള്\\u200dക്കും രാത്രിയായിരിക്കുന്നുവോ, അവിടെ (ആ ബ്രഹ്മത്തില്\\u200d) ജിതേന്ദ്രിയന്\\u200d ഉണര്\\u200dന്നിരിക്കുന്നു. ഏതൊരു വിഷയാനുഭവത്തില്\\u200d സര്\\u200dവ്വപ്രാണികളും ഉണര്\\u200dന്നിരി ക്കുന്നുവോ അത് സത്യദ\\u200dര്\\u200dശിയായ മുനിക്ക്\\u200c രാത്രിയാകുന്നു. <EOS>\\n', 'സദാ നിറഞ്ഞുകൊണ്ടിരുന്നാലും സമുദ്രം അക്ഷോഭ്യമായിരി ക്കുന്നുവോ അതുപോലെ കാമങ്ങള്\\u200d കടന്നുകൂടിമ്പോള്\\u200d യാതൊരുവന്\\u200d അക്ഷോഭ്യനായിരിക്കുന്നുവോ അവന്\\u200d ശാന്തിയെ പ്രാപിക്കും. വിഷയാഭിനിവേശം വിടാത്തവന്\\u200d ശാന്തി നേടുന്നില്ല. <EOS>\\n', 'ശ്രീ ഭഗവാന്\\u200d പറഞ്ഞു: ഹേ അനഘ (പാപങ്ങളില്ലാത്തവന്\\u200d), ഈ ലോകത്തില്\\u200d സംഖ്യന്മാര്\\u200dക്ക് വേണ്ടി ജഞാനയോഗം കൊണ്ടും യോഗികള്\\u200dക്കു വേണ്ടി ക\\u200d\\u200d\\u200dര്\\u200dമ്മയോഗം കൊണ്ടും രണ്ടുവിധം നിഷ്ഠകള്\\u200d മുമ്പ് ഞാന്\\u200d പറഞ്ഞു. <EOS>\\n', 'ശ്രീ ഭഗവാന്\\u200d പറഞ്ഞു: ഹേ അനഘ (പാപങ്ങളില്ലാത്തവന്\\u200d), ഈ ലോകത്തില്\\u200d സംഖ്യന്മാര്\\u200dക്ക് വേണ്ടി ജഞാനയോഗം കൊണ്ടും യോഗികള്\\u200dക്കു വേണ്ടി ക\\u200d\\u200d\\u200dര്\\u200dമ്മയോഗം കൊണ്ടും രണ്ടുവിധം നിഷ്ഠകള്\\u200d മുമ്പ് ഞാന്\\u200d പറഞ്ഞു. <EOS>\\n', 'അര്\\u200dജുനന്\\u200d പറഞ്ഞു: ഹേ ജനാ\\u200dര്\\u200dദ്ദനാ, ക\\u200d\\u200d\\u200dര്\\u200dമ്മത്തെ അപേക്ഷിച്ച് കര്\\u200dമ്മയോഗമാണ് ശ്രേഷ്ടമെന്നു അങ്ങേയ്ക്ക് അഭിപ്രായമുണ്ടെങ്കില്\\u200d പിന്നെ എന്തിനാണ് ഘോരമായ ഈ ക\\u200d\\u200d\\u200dര്\\u200dമ്മത്തില്\\u200d എന്നെ നിയോഗിക്കുന്നത്? <EOS>\\n', 'പരസ്പരവിരുദ്ധമെന്ന് തോന്നുന്ന വാക്കുകള്\\u200d കൊണ്ട് എന്റെ ബുദ്ധിയെ അങ്ങ് ഭ്രമിപ്പിക്കുന്നതുപൊലെ തോന്നുന്നു. അതുകൊണ്ട് ഏതൊന്നുക്കൊണ്ടു ഞാന്\\u200d ശ്രേയസ്സ് നേടുമോ അതുമാത്രം എനിക്ക് ഉപദേശിച്ചു തരിക. <EOS>\\n', 'ശ്രീ ഭഗവാന്\\u200d പറഞ്ഞു: ഹേ അനഘ (പാപങ്ങളില്ലാത്തവന്\\u200d), ഈ ലോകത്തില്\\u200d സംഖ്യന്മാര്\\u200dക്ക് വേണ്ടി ജഞാനയോഗം കൊണ്ടും യോഗികള്\\u200dക്കു വേണ്ടി ക\\u200d\\u200d\\u200dര്\\u200dമ്മയോഗം കൊണ്ടും രണ്ടുവിധം നിഷ്ഠകള്\\u200d മുമ്പ് ഞാന്\\u200d പറഞ്ഞു. <EOS>\\n', 'ഹേ മഹാബാഹോ, ബ്രഹ്മമാ\\u200dര്\\u200dഗ്ഗത്തില്\\u200d നിന്ന്\\u200c തെറ്റി എങ്ങുമുറയ്ക്കാതെ ലൌകികമാര്\\u200dഗം, യോഗമാര്\\u200dഗം ഈ രണ്ടിലും സ്ഥാനമില്ലാതെ ഛിന്നഭിന്നമായ മേഘം പോലെ അവന്\\u200d നശിക്കുകയില്ലേ? <EOS>\\n', 'ഒരാളും ഒരിക്കലും അല്പനേരത്തേക്കുപോലും പ്രവര്\\u200dത്തിക്കാതെ ഇരിക്കുന്നില്ല. എല്ലാവരും പ്രകൃതി ഗുണങ്ങളാല്\\u200d നിര്\\u200dബന്ധിതരായി ക\\u200d\\u200d\\u200dര്\\u200dമ്മം ചെയ്തുപോകുന്നു. <EOS>\\n', 'ക\\u200d\\u200d\\u200d\\u200dര്\\u200dമ്മേന്ദ്രിയങ്ങ\\u200dളെ അടക്കിനിര്\\u200dത്തി യാതൊരുവന്\\u200d വിഷയങ്ങളെ മനസ്സുകൊണ്ട് സദാ സ്മരിച്ചുകൊണ്ടിരിക്കുന്നുവോ മൂഡാത്മാവായ അവന്\\u200d മിഥ്യാചാരന്\\u200d എന്ന് പറയപ്പെടുന്നു <EOS>\\n', 'ഹേ ഭാരത, സത്വം സുഖത്തോടും, രജസ്സ് കര്\\u200dമ്മത്തോടും സംഗം ജനിപ്പിക്കുന്നു, എന്നാല്\\u200d തമസ്സ് ജ്ഞാനത്തെ മറച്ച് അശ്രദ്ധയോടും സംഗം ജനിപ്പിക്കുന്നു. <EOS>\\n', 'അര്\\u200dജുനന്\\u200d പറഞ്ഞു: ഹേ കൃഷ്ണാ, സന്യാസവും പിന്നെ കർമ്മയോഗവും അങ്ങ് ഉപദേശിക്കുന്നു. ഈ രണ്ടിൽ ഏതാണ് ശ്രേയസ്കരം എന്നത് നിശ്ചിതമായി എനിക്ക് പറഞ്ഞു തരിക.\" <EOS>\\n', 'അര്\\u200dജുനാ, യജ്ഞത്തിനുള്ള ക\\u200d\\u200d\\u200dര്\\u200dമ്മം ഒഴിച്ച് മറ്റു ക\\u200d\\u200d\\u200dര്\\u200dമ്മങ്ങളാല്\\u200d ബന്ധിക്കപ്പെട്ടതാണ് ഈ ലോകം. സംഗരഹിതനായി നീ ക\\u200d\\u200d\\u200dര്\\u200dമ്മം ആചരിക്കുക. <EOS>\\n', 'ശ്രീ ഭഗവാന്\\u200d പറഞ്ഞു: ഹേ അനഘ (പാപങ്ങളില്ലാത്തവന്\\u200d), ഈ ലോകത്തില്\\u200d സംഖ്യന്മാര്\\u200dക്ക് വേണ്ടി ജഞാനയോഗം കൊണ്ടും യോഗികള്\\u200dക്കു വേണ്ടി ക\\u200d\\u200d\\u200dര്\\u200dമ്മയോഗം കൊണ്ടും രണ്ടുവിധം നിഷ്ഠകള്\\u200d മുമ്പ് ഞാന്\\u200d പറഞ്ഞു. <EOS>\\n', 'ഹേ അര്\\u200dജുനാ, കഴിഞ്ഞതും ഇപ്പോഴുള്ളതും ഇനിയുണ്ടാകുന്നതുമായ ജീലജാലങ്ങളെയും ഞാനറിയുന്നു. എന്നാല്\\u200d എന്നെയാകട്ടെ ഒരുത്തരും അറിയുന്നില്ല. <EOS>\\n', 'എന്തെന്നാല്\\u200d ഇഷ്ടപ്പെടുന്ന സുഖങ്ങള്\\u200d നിങ്ങള്\\u200dക്ക് യജ്ഞംകൊണ്ടു സന്തുഷ്ടരായ ദേവന്മാര്\\u200d തരും. അവര്\\u200d തന്ന വസ്തുക്കളെ അവ\\u200c\\u200dര്\\u200dക്കു കൊടുക്കാതെ ഭുജിക്കുന്നവനാരോ അവന്\\u200d കള്ളന്\\u200dതന്നെയാണ്. <EOS>\\n', 'യജ്ഞത്തില്\\u200d ശേഷിക്കുന്നത് മാത്രം യജ്ഞം ചെയ്തു ശേഷിച്ചതായ വസ്തുക്കളെ നുഭവിക്കുന്ന സജ്ജനങ്ങള്\\u200d എല്ലാ പാപങ്ങളില്\\u200d നിന്നും മുക്തി നേടുന്നു. എന്നാ\\u200cല്\\u200dതങ്ങള്\\u200dക്കുവേണ്ടിത്തന്നെ ഭോഗസഞ്ചയം ചെയ്യുന്നവ\\u200dര്\\u200d പാപത്തെത്തന്നെ ഭുജിക്കുകയാണ്. <EOS>\\n', 'അ\\u200dര്\\u200dജ്ജുനാ! നീ കണ്ടവിധത്തി\\u200dല്\\u200d കാണുന്നതിനു വേദങ്ങളാലോ തപസ്സിനാലോ ദാനത്തിനാലോ യോഗത്തിനാലോ ഒന്നും സാധിക്കുന്നതല്ല. <EOS>\\n', 'ദുഃഖകരമാണെന്നു കരുതി ശരീരക്ലേശത്തെ ഒഴിവാക്കാനായി ത്യജിക്കുകയാണെങ്കില്\\u200d അത് രാജസികത്യാഗമാണ്. അതിലൂടെ ശരിയായ ത്യാഗത്തിന്റെ ഫലം ലഭിക്കുകയില്ല. <EOS>\\n', 'ഹേ അര്\\u200dജുനാ, എന്റെ യോനിയാകുന്ന മഹാപ്രകൃതിയില്\\u200d ഞാന്\\u200d ബീജത്തെ നിക്ഷേപിക്കുന്നു. സര്\\u200dവ്വ ജീവരാശികളുടെയും ജന്മം അതില്\\u200dനിന്നാണ്. <EOS>\\n', 'ഏതാദൃശനായ എന്നെ നീ കണ്ടവിധത്തി\\u200dല്\\u200d കാണുന്നതിനു വേദങ്ങളാലോ തപസ്സിനാലോ ദാനത്തിനാലോ യോഗത്തിനാലോ ഒന്നും സാധിക്കുന്നതല്ല. <EOS>\\n', 'അവനു ഈ ലോകത്തില്\\u200d ക\\u200dര്\\u200dമ്മം ചെയ്തതു കൊണ്ടു കാര്യമില്ല തന്നെ. ചെയ്യാത്തതുകൊണ്ടും ഒന്നുമില്ല. ജീവികളില്\\u200d ഒന്നിനോടും അവന് സ്വപ്രയോജനകരമായ ബന്ധം ഒന്നും തന്നെയില്ല. <EOS>\\n', 'ദുഃഖകരമാണെന്നു കരുതി ശരീരക്ലേശത്തെ ഒഴിവാക്കാനായി ത്യജിക്കുകയാണെങ്കില്\\u200d അത് രാജസികത്യാഗമാണ്. അതിലൂടെ ശരിയായ ത്യാഗത്തിന്റെ ഫലം ലഭിക്കുകയില്ല. <EOS>\\n', 'എന്തുകൊണ്ടെന്നാല്\\u200d ക\\u200d\\u200d\\u200dര്\\u200dമ്മം കൊണ്ടുതന്നെയാണ് ജനകാദികള്\\u200d സിദ്ധിയെ പ്രാപിച്ചത്. ലോകസംരക്ഷണത്തെ ഓര്\\u200dത്തിട്ടായാലും നീ പ്രവര്\\u200dത്തിക്കേണ്ടതാണ്. <EOS>\\n', 'ബ്രഹ്മത്തിൽ മനസ്സുന്നിയവരും ബ്രഹ്മതാദാത്മ്യം ബ്രഹ്മനിഷ്ഠരും ബ്രഹ്മത്തെക്കുറിച്ചല്ലാതെ മറ്റൊരു ചിന്തയില്ലാത്തവരു മായവർ ജ്ഞാനത്താല് പാപമകന്നു മോക്ഷപദത്തെ പ്രാപിക്കുന്നു. <EOS>\\n', 'ഹേ പാര്\\u200dത്ഥാ എനിക്ക് മൂന്നു ലോകത്തിലും കര്\\u200dത്തവ്യമായി ഒന്നുമില്ല. എനിക്കു പ്രാപിക്കേണ്ടതായി ഒന്നും തന്നെയില്ല. എന്നിട്ടും ഞാന്\\u200d ക\\u200dര്\\u200dമ്മം ചെയ്തുകൊണ്ടു തന്നെയാണിരിക്കുന്നത്. <EOS>\\n', 'ശ്രീ ഭഗവാന്\\u200d പറഞ്ഞു: ഹേ അനഘ (പാപങ്ങളില്ലാത്തവന്\\u200d), ഈ ലോകത്തില്\\u200d സംഖ്യന്മാര്\\u200dക്ക് വേണ്ടി ജഞാനയോഗം കൊണ്ടും യോഗികള്\\u200dക്കു വേണ്ടി ക\\u200d\\u200d\\u200dര്\\u200dമ്മയോഗം കൊണ്ടും രണ്ടുവിധം നിഷ്ഠകള്\\u200d മുമ്പ് ഞാന്\\u200d പറഞ്ഞു. <EOS>\\n', 'ഹേ അര്\\u200dജുനാ, അധികം ആഹാരം കഴിക്കുന്നവനും, ഒട്ടും ആഹാരം കഴിക്കാത്തവനും യോഗമില്ല. അധികം ഉറങ്ങുന്നവനും എപ്പോഴും ഉണര്\\u200dന്നിരിക്കുന്നവനും യോഗം സംഭവിക്കുകയില്ല. <EOS>\\n', 'ശ്രീ ഭഗവാന്\\u200d പറഞ്ഞു: ഹേ അനഘ (പാപങ്ങളില്ലാത്തവന്\\u200d), ഈ ലോകത്തില്\\u200d സംഖ്യന്മാര്\\u200dക്ക് വേണ്ടി ജഞാനയോഗം കൊണ്ടും യോഗികള്\\u200dക്കു വേണ്ടി ക\\u200d\\u200d\\u200dര്\\u200dമ്മയോഗം കൊണ്ടും രണ്ടുവിധം നിഷ്ഠകള്\\u200d മുമ്പ് ഞാന്\\u200d പറഞ്ഞു. <EOS>\\n', 'ആസക്തിയുള്ളവനും, കര്\\u200dമ്മഫലത്തെ ആഗ്രഹിക്കുന്നവനും, പിശുക്കനും, അശുചിയും, ഹിംസാത്മകനും, (ജയപരാജയങ്ങളില്\\u200d) സന്തോഷിക്കുകയും ദുഃഖിക്കുകയും ചെയ്യുന്നവനുമായ കര്\\u200dത്താവ് രാജസികനെന്നു പറയപ്പെടുന്നു. <EOS>\\n', 'പ്രകൃതിജന്യമായ ഗുണങ്ങളാല്\\u200d ക\\u200dര്\\u200dമ്മങ്ങള്\\u200d എങ്ങും ചെയ്യപ്പെടുന്നു. അഹന്തയാല്\\u200d മോഹിതനായവാന്\\u200d താനാണ് കര്\\u200dത്താവെന്നു വിചാരിക്കുന്നു. <EOS>\\n', 'ഹേ മഹാബാഹോ, ഗുണകര്\\u200dമ്മവിഭാഗങ്ങളുടെ തത്വമറിയുന്ന വനാകട്ടെ ഗുണപരിണാമങ്ങളായ ഇന്ദ്രിയങ്ങള്\\u200d ഗുണപരിണാമങ്ങ ളായ വിഷയങ്ങളില്\\u200d പ്രവര്\\u200dത്തിക്കുന്നുവെന്ന് ധരിച്ചിട്ട് അവയില്\\u200d ആസക്തനാകുന്നില്ല. <EOS>\\n', 'ഹേ അര്\\u200dജുനാ, അധികം ആഹാരം കഴിക്കുന്നവനും, ഒട്ടും ആഹാരം കഴിക്കാത്തവനും യോഗമില്ല. അധികം ഉറങ്ങുന്നവനും എപ്പോഴും ഉണര്\\u200dന്നിരിക്കുന്നവനും യോഗം സംഭവിക്കുകയില്ല. <EOS>\\n', 'ദുര്\\u200dബുദ്ധിയായ ഒരുവന്\\u200d യാതൊരു ധൈര്യത്താല്\\u200d സ്വപ്നം, ഭയം, ദുഃഖം, വ്യസനം, അഹങ്കാരം എന്നിവയെ പരിത്യജിക്കാ തിരിക്കുന്നുവോ അത് താമസികമാണ്. <EOS>\\n', 'എന്റെ ഈ അഭിപ്രായം നിത്യവും ശ്രദ്ധയോടും അസൂയ കൂടാതെയും യാതൊരു മനുഷ്യര്\\u200d അനുഷ്ഠിക്കുന്നുവോ അവരും ക\\u200dര്\\u200dമ്മബന്ധത്തില്\\u200dനിന്നും വിമുക്തരായിത്തീരുന്നു. <EOS>\\n', 'ക\\u200dര്\\u200dമ്മത്തില്\\u200d അക\\u200dര്\\u200dമ്മവും അക\\u200dര്\\u200dമ്മത്തില്\\u200d ക\\u200dര്\\u200dമ്മവും യാതൊരുവ\\u200dന്\\u200d കാണുന്നുവോ അവനാണ് മനുഷ്യരില്\\u200d വച്ചു ബുദ്ധിമാ\\u200dന്\\u200d. അവനാണ് യോഗിയും എല്ലാ ക\\u200cര്\\u200dമ്മങ്ങളും അനുഷ്ഠിക്കുന്നവനും. <EOS>\\n', 'ഹേ ഭാരത, എല്ലാവരുടെയും ശ്രദ്ധ അവരവരുടെ ശ്രദ്ധയെ ആശ്രയിച്ചിരിക്കുന്നു. ഈ മനുഷ്യന്\\u200d ശ്രദ്ധാമയനാണ്. ഒരുവന്റെ ശ്രദ്ധ ഏതാണോ അവന്\\u200d ആ തരത്തിലുള്ളവനായിരിക്കും. <EOS>\\n', 'ഞാന്\\u200d അമൃതവും (അനശ്വരവും) അവ്യയവുമായ (മാറ്റമില്ലാത്തതുമായ) ബ്രഹ്മത്തിന്റെയും, ശാശ്വതമായ ധര്\\u200dമ്മ ത്തിന്റെയും, പരമമായ സുഖത്തിന്റെയും പ്രതിഷ്ഠയുമാകുന്നു (ആശ്രയവുമാകുന്നു). <EOS>\\n', 'വിധിപ്രകാരം അനുഷ്ഠിച്ച പരധ\\u200dര്\\u200dമ്മത്തെക്കളും ഗുണഹീനമായ സ്വധ\\u200dര്\\u200dമ്മമാണ് ശ്രേയസ്ക്കരം. സ്വധ\\u200dര്\\u200dമ്മാനുഷ്ഠാനത്തില്\\u200d സംഭവിക്കുന്ന മരണവും ശ്രേയസ്ക്കരമാണ്. പരധ\\u200dര്\\u200dമ്മം ഭയാവഹമാകുന്നു. <EOS>\\n', 'അര്\\u200dജുനന്\\u200d ചോദിച്ചു: ഹേ കൃഷ്ണാ, പിന്നെ ആര്\\u200d പ്രേരിപ്പിചിട്ടാണ് ഈ പുരുഷന്\\u200d താ\\u200dന്\\u200d ഇച്ഛിക്കാതെയിരുന്നിട്ടും ബലമായ ഏതോ ശക്തിയാല്\\u200d നിയുക്തനെന്നപോലെ പാപകര്\\u200dമ്മങ്ങ\\u200dള്\\u200d അനുഷ്ഠിക്കുന്നത്. <EOS>\\n', 'പരിശുദ്ധമായ ബുദ്ധിയാല്\\u200d മനസ്സിനെ ധൈര്യപൂര്\\u200dവ്വം നിയന്ത്രിച്ച്, ശബ്ദം, സ്പര്\\u200dശം, തുടങ്ങിയ വിഷയങ്ങളെ ത്യജിച്ച്, രാഗദ്വേഷങ്ങളെ അകറ്റി, വിജനപ്രദേശത്തു വസിച്ച്, മിതമായഹരിച്ച്, ശരീരം, മനസ്സ്, വാക്ക് എന്നിവയെ സംയമിച്ച്, സദാ വൈരാഗ്യത്തോടെ, ധ്യാനയോഗതത്പരനായി, അഹങ്കാരം, ബലം, അഭിമാനം, കാമം, ക്രോധം, പരിഗ്രഹം എന്നിവയെ വെടിഞ്ഞ്, നിര്\\u200dമമനായി, ശാന്തനായിരിക്കുന്നവന്\\u200d ബ്രഹ്മപദത്തെ പ്രാപിക്കുന്നു. <EOS>\\n', 'സാമവേദത്തി\\u200dല്\\u200d ബൃഹ\\u200dല്\\u200dസാമവും, ഛന്ദസ്സുകളില്\\u200d ഗായത്രിയും ഞാനാണ്. അങ്ങനെ മാസങ്ങളി\\u200d\\u200dല്\\u200d മാര്\\u200dഗ്ഗശീര്\\u200dഷവും ഋതുക്കളില്\\u200d വസന്തവും ഞാനാണ്. <EOS>\\n', 'ഹേ കൌന്തേയ, ജ്ഞാനിയുടെ നിത്യവൈരിയും കാമരൂപവും അതൃപ്തവും ഒരിക്കലും തൃപ്തിപ്പെടാത്ത അഗ്നിക്ക് തുല്യവും ആയ ഈ കാമത്താല്\\u200d ജ്ഞാനം ആവൃതമാകുന്നു. <EOS>\\n', 'ഇന്ദ്രിയങ്ങളും മനസും ബുദ്ധിയും ഈ കാമത്തിന്റെ ഇരിപ്പിടമായി പറയപ്പെടുന്നു. കാമം ജ്ഞാനത്തെ മറച്ചിട്ടു ഇവയെക്കൊണ്ടു ദേഹിയെ വ്യാമോഹിപ്പിക്കുന്നു. <EOS>\\n', 'ഹേ ഭാരതശ്രെഷ്ടാ, അതുകൊണ്ട് നീ ആദ്യം ഇന്ദ്രിയങ്ങളെ നിയന്ത്രിച്ചിട്ട് ജ്ഞാനത്തെയും വിജ്ഞാനത്തെയും നശിപ്പിക്കുന്ന ഈ പാപരൂപമായ കാമത്തെ നിഃശേഷം നശിപ്പിക്കുക. <EOS>\\n', 'രാജാവും കുന്തീപുത്രനുമായ യുധിഷ്ഠിരന്\\u200d അനന്തവിജയവും നകുല\\u200dന്\\u200d സുഘോഷത്തേയും സഹദേവ\\u200dന്\\u200d മണിപുഷ്പകത്തേയും മുഴക്കി. <EOS>\\n', '\"അർജുനൻ പറഞ്ഞു: ഹേ കൃഷ്ണാ, സന്യാസവും പിന്നെ കർമ്മയോഗവും അങ്ങ് ഉപദേശിക്കുന്നു. ഈ രണ്ടിൽ ഏതാണ് ശ്രേയസ്കരം എന്നത് നിശ്ചിതമായി എനിക്ക് പറഞ്ഞു തരിക.\" <EOS>\\n', 'ജനിച്ചവന് മരണം നിശ്ചിതമാണ്. മരിച്ചവന് ജനനവും നിശ്ചിതമാണ്. അതുകൊണ്ട് പരിഹാരമില്ലാത്ത കാര്യത്തില്\\u200d ദുഃഖിക്കുന്നത് നിനക്ക് ഉചിതമല്ല. <EOS>\\n', 'എപ്പോള്\\u200d സ്ഥിരമായിത്തീര്\\u200dന്ന ചിത്തം നി\\u200dര്\\u200dത്തുവാ\\u200cന്\\u200d ശക്തിയില്ലാത്ത പക്ഷം പിന്നെ അഭ്യാസയോഗത്താ\\u200c\\u200dല്\\u200d എന്നെ പ്രാപിക്കുവാ\\u200d\\u200dന്\\u200d നോക്കണം. <EOS>\\n', 'ഹേ ഭാരത, എല്ലാവരുടെയും ശ്രദ്ധ അവരവരുടെ ശ്രദ്ധയെ ആശ്രയിച്ചിരിക്കുന്നു. ഈ മനുഷ്യന്\\u200d ശ്രദ്ധാമയനാണ്. ഒരുവന്റെ ശ്രദ്ധ ഏതാണോ അവന്\\u200d ആ തരത്തിലുള്ളവനായിരിക്കും. <EOS>\\n', 'അര്\\u200dജുനന്\\u200d ചോദിച്ചു: ആദിത്യന്റെ ജന്മം മുന്\\u200dപും അങ്ങയുടെ ജന്മം പിന്\\u200dപുമാണല്ലോ. അങ്ങിനെയിരിക്കെ, ആദ്യം അങ്ങാണ് ഇതു പറഞ്ഞതെന്ന് എങ്ങിനെ ഞാന്\\u200d മനസ്സിലാക്കും? <EOS>\\n', 'ഹേ അര്\\u200dജുനാ, എന്റെ യോനിയാകുന്ന മഹാപ്രകൃതിയില്\\u200d ഞാന്\\u200d ബീജത്തെ നിക്ഷേപിക്കുന്നു. സര്\\u200dവ്വ ജീവരാശികളുടെയും ജന്മം അതില്\\u200dനിന്നാണ്. <EOS>\\n', 'ഹേ ഭാരത, സത്വം സുഖത്തോടും, രജസ്സ് കര്\\u200dമ്മത്തോടും സംഗം ജനിപ്പിക്കുന്നു, എന്നാല്\\u200d തമസ്സ് ജ്ഞാനത്തെ മറച്ച് അശ്രദ്ധയോടും സംഗം ജനിപ്പിക്കുന്നു. <EOS>\\n', 'ഹേ അര്\\u200dജുനാ, അധികം ആഹാരം കഴിക്കുന്നവനും, ഒട്ടും ആഹാരം കഴിക്കാത്തവനും യോഗമില്ല. അധികം ഉറങ്ങുന്നവനും എപ്പോഴും ഉണര്\\u200dന്നിരിക്കുന്നവനും യോഗം സംഭവിക്കുകയില്ല. <EOS>\\n', 'അര്\\u200dജുനന്\\u200d പറഞ്ഞു: ഹേ കൃഷ്ണാ, സന്യാസവും പിന്നെ കർമ്മയോഗവും അങ്ങ് ഉപദേശിക്കുന്നു. ഈ രണ്ടിൽ ഏതാണ് ശ്രേയസ്കരം എന്നത് നിശ്ചിതമായി എനിക്ക് പറഞ്ഞു തരിക.\" <EOS>\\n', 'ഹേ ഭാരത, എല്ലാവരുടെയും ശ്രദ്ധ അവരവരുടെ ശ്രദ്ധയെ ആശ്രയിച്ചിരിക്കുന്നു. ഈ മനുഷ്യന്\\u200d ശ്രദ്ധാമയനാണ്. ഒരുവന്റെ ശ്രദ്ധ ഏതാണോ അവന്\\u200d ആ തരത്തിലുള്ളവനായിരിക്കും. <EOS>\\n', 'എന്നി\\u200d\\u200dല്\\u200d മനസ്സുവയ്ക്കുകയും, എല്ലാ ഇന്ദ്രിയങ്ങളും എന്നില്\\u200d ലയിക്കുകയും ചെയ്തവ\\u200dര്\\u200d നിരന്തരം എന്നെപ്പറ്റി പരസ്പരം ബോധിപ്പിക്കുകയും ആനന്ദിക്കുകയും ചെയ്യുന്നു. <EOS>\\n', 'ഹേ പാര്\\u200dത്ഥ, എന്നില്\\u200d സ്ഥിരമായി ചിത്തം നി\\u200dര്\\u200dത്തുവാ\\u200cന്\\u200d ശക്തിയില്ലാത്ത പക്ഷം പിന്നെ അഭ്യാസയോഗത്താ\\u200c\\u200dല്\\u200d എന്നെ പ്രാപിക്കുവാ\\u200d\\u200dന്\\u200d നോക്കണം. <EOS>\\n', 'പരസ്പരവിരുദ്ധമെന്ന് തോന്നുന്ന വാക്കുകള്\\u200d കൊണ്ട് എന്റെ ബുദ്ധിയെ അങ്ങ് ഭ്രമിപ്പിക്കുന്നതുപൊലെ തോന്നുന്നു. അതുകൊണ്ട് ഏതൊന്നുക്കൊണ്ടു ഞാന്\\u200d ശ്രേയസ്സ് നേടുമോ അതുമാത്രം എനിക്ക് ഉപദേശിച്ചു തരിക. <EOS>\\n', 'ഗുണങ്ങളുടെയും ക\\u200dര്\\u200dമ്മങ്ങളുടെയും വിഭാഗമനുസരിച്ചു ചാതുര്\\u200dവര്\\u200dണ്യം ഞാന്\\u200d സൃഷ്ടിച്ചിരിക്കുന്നു. നിഷ്ക്രിയനും അനശ്വരനുമായ എന്നെത്തന്നെ അതിന്റെയും ചാതുര്\\u200dവര്\\u200dണ്യത്തിന്റെയും സൃഷ്ടാവായി അറിയുക. <EOS>\\n', '\"അർജുനൻ പറഞ്ഞു: ഹേ കൃഷ്ണാ, സന്യാസവും പിന്നെ കർമ്മയോഗവും അങ്ങ് ഉപദേശിക്കുന്നു. ഈ രണ്ടിൽ ഏതാണ് ശ്രേയസ്കരം എന്നത് നിശ്ചിതമായി എനിക്ക് പറഞ്ഞു തരിക.\" <EOS>\\n', 'ഈ തത്വത്തെ അറിയുന്നവരായ പൂര്\\u200dവ്വികരായ മുമുക്ഷുക്കള്\\u200dക്കൂടി, നിഷ്കാമ ബുദ്ധിയോടുകൂടി ക\\u200dര്\\u200dമ്മം അനുഷ്ഠിച്ചു. അതുകൊണ്ട് പൂര്\\u200dവ്വികന്മാര്\\u200d പണ്ടു ചെയ്തതുപോലെ നീയും ക\\u200dര്\\u200dമ്മം ചെയ്യുക തന്നെ വേണം. <EOS>\\n', 'അ\\u200dര്\\u200dജ്ജുനാ! ഞാ\\u200dന്\\u200d സ\\u200dര്\\u200dവഭൂതങ്ങളുടേയും അന്തരംഗത്തി\\u200dല്\\u200d സ്ഥിതിചെയ്യുന്ന പരമാത്മാവാണ്. സ\\u200dര്\\u200dവചരാചരങ്ങളുടെയും ആദിയും മദ്ധ്യവും അന്തവും ഞാനാണ്. <EOS>\\n', 'ക\\u200dര്\\u200dമ്മത്തിന്റെ സ്വരൂപം അറിയേണ്ടതുണ്ട്. വിക\\u200dര്\\u200dമ്മത്തിന്റെ സ്വരൂപവും അകര്\\u200dമത്തിന്റെ സ്വരൂപവും അറിയെണ്ടതുണ്ട്. എന്ത് കൊണ്ടെന്നാല്\\u200d ക\\u200dര്\\u200dമ്മത്തിന്റെ ഗതി (പോക്ക്) അറിയാന്\\u200d വളരെ വിഷമമുള്ളതാണ്. <EOS>\\n', 'ക\\u200dര്\\u200dമ്മത്തില്\\u200d അക\\u200dര്\\u200dമ്മവും അക\\u200dര്\\u200dമ്മത്തില്\\u200d ക\\u200dര്\\u200dമ്മവും യാതൊരുവ\\u200dന്\\u200d കാണുന്നുവോ അവനാണ് മനുഷ്യരില്\\u200d വച്ചു ബുദ്ധിമാ\\u200dന്\\u200d. അവനാണ് യോഗിയും എല്ലാ ക\\u200cര്\\u200dമ്മങ്ങളും അനുഷ്ഠിക്കുന്നവനും. <EOS>\\n', 'ഹേ പാര്\\u200dത്ഥ! നിരന്തരമായ അഭ്യാസം കൊണ്ടു യോഗയുക്തവും മറ്റൊന്നിലേക്ക് പോവാത്തതുമായ മനസ്സോടുകൂടി ധ്യാനിക്കുന്നവന്\\u200d ആ ദിവ്യനായ പരമപുരുഷനെ പ്രാപിക്കുന്നു. <EOS>\\n', 'എല്ലാറ്റിലും രഹസ്യവും ശ്രേഷ്ഠവുമായ വാക്കുകള്\\u200d വീണ്ടും കേള്\\u200dക്കൂ. നി എനിക്കു പ്രിയപ്പെട്ടവനാകയാല്\\u200d നിനക്കു ഹിതമായതു ഞാന്\\u200d പറയ\\u200dാം. <EOS>\\n', 'ഹേ കൃഷ്ണാ, മനസ്സ് ചഞ്ചലവും ക്ഷുബ്ധവും നിയന്ത്രണ ത്തിനു വഴങ്ങാത്തതും അയവില്ലാത്തതുമാണ്. അതിന്റെ നിയന്ത്രണം വായുവിന്റെതെന്നപോലെ ദുഷ്ക്കരമായി ഞാന്\\u200d കരുതുന്നു. <EOS>\\n', 'ശ്രീ ഭഗവാന്\\u200d പറഞ്ഞു: ഹേ അനഘ (പാപങ്ങളില്ലാത്തവന്\\u200d), ഈ ലോകത്തില്\\u200d സംഖ്യന്മാര്\\u200dക്ക് വേണ്ടി ജഞാനയോഗം കൊണ്ടും യോഗികള്\\u200dക്കു വേണ്ടി ക\\u200d\\u200d\\u200dര്\\u200dമ്മയോഗം കൊണ്ടും രണ്ടുവിധം നിഷ്ഠകള്\\u200d മുമ്പ് ഞാന്\\u200d പറഞ്ഞു. <EOS>\\n', 'സംഗരഹിതനും മുക്തനും ജ്ഞാനനിഷ്ടനും യജ്ഞത്തിനായി ക\\u200dര്\\u200dമ്മം അനുഷ്ഠിക്കുന്നവനുമായ അവന്റെ എല്ലാ ക\\u200dര്\\u200dമ്മവും നശിച്ചു പോകുന്നു. <EOS>\\n', 'രജോഗുണം വര്\\u200dദ്ധിക്കുമ്പോള്\\u200d ലോഭം, പ്രവൃത്തി, അതിന്റെ ആരംഭം, അശാന്തി, ആഗ്രഹം എന്നിവ ഉദ്ഭവിക്കുന്നു. <EOS>\\n', 'ജനാ\\u200d\\u200dര്\\u200dദ്ദന!\\u200d, അത്യാഗ്രഹം കൊണ്ടു ബുദ്ധികെട്ട ഇവര്\\u200d കുലനാശം കൊണ്ടുള്ള ദോഷവും മിത്രങ്ങളെ ദ്രോഹിക്കുന്നതിലുള്ള പാപവും കാണുന്നില്ലെങ്കിലും കുലക്ഷയം കൊണ്ടുള്ള ദോഷം കാണുന്ന നമ്മ\\u200dള്\\u200d\\u200d\\u200d, ഈ പാപത്തില്\\u200d നിന്നും പിന്തിരിയണമെന്ന് മനസ്സിലാക്കേണ്ടതല്ലേ? <EOS>\\n', 'വേറെ ചിലര്\\u200d ശ്രോത്രാദികളായ ഇന്ദ്രിയങ്ങളെ സംയമരൂപമായ അഗ്നിയില്\\u200d ഹോമിക്കുന്നു. മറ്റു ചിലര്\\u200d ശബ്ദാദി വിഷയങ്ങളെ ഇന്ദ്രിയരൂപമായ അഗ്നിയില്\\u200d ഹോമിക്കുന്നു. <EOS>\\n', 'വേറെ ചിലര്\\u200d എല്ലാ ഇന്ദ്രിയകര്\\u200dമങ്ങളെയും പ്രാണക\\u200dര്\\u200dമ്മങ്ങളെയും ജ്ഞാനദീപിതമായ ആത്മസംയമയോഗാഗ്നിയില്\\u200d ഹോമിക്കുന്നു. <EOS>\\n', 'ഹേ പാര്\\u200dത്ഥ, എല്ലാ ഭൂതങ്ങളുടെയും ശാശ്വതമായ ബീജമായി എന്നെ അറിയുക. ബുദ്ധിമാന്\\u200dമാരുടെ ബുദ്ധി ഞാനാണ്. <EOS>\\n', 'അങ്ങിനെ മറ്റു ചിലര്\\u200d പ്രാണായാമ തല്\\u200dപരരായി ദേഹത്തിലുള്ള വായുവിന്റെ ഉര്\\u200dധ്വമുഖവും അധോമുഖവുമായ ചലനത്തെ തടഞ്ഞിട്ട് അപാനനില്\\u200d പ്രാണനെയും പ്രാണനില്\\u200d അപാനനെയും ഹോമിക്കുന്നു. <EOS>\\n', 'അ\\u200dര്\\u200dജ്ജുനാ! നീ ഏതൊന്നു ചെയുന്നവോ, ഏതൊന്ന് ഭക്ഷിക്കുന്നുവോ, ഏതൊന്നു ഹോമിക്കുന്നുവോ, ഏതൊന്നു ന\\u200dല്\\u200dകുന്നുവോ, ഏതൊരു തപസ്സുചെയ്യുന്നുവോ അതൊക്കയും എന്നി\\u200dല്\\u200d സമ\\u200dര്\\u200dപ്പിച്ചാലും. <EOS>\\n', 'അ\\u200dര്\\u200dജ്ജുനാ! പ്രളയകാലത്തില്\\u200d സര്\\u200dവ്വഭൂതങ്ങളും എന്റെ പ്രകൃതിയിലേയ്ക്കു ചെല്ലുന്നു. സൃഷ്ടികാലത്തില്\\u200d അവയെല്ല\\u200dാം ഞാന്\\u200d വീണ്ടും സൃഷ്ടിക്കുന്നു. <EOS>\\n', 'ഇങ്ങിനെ പലതരം യജ്ഞങ്ങള്\\u200d ബ്രഹ്മാവിനാല്\\u200d വിവരിക്കപ്പെട്ടി ട്ടുണ്ട്. അവയെല്ല\\u200dാം ക\\u200dര്\\u200dമ്മത്തില്\\u200d നിന്നുഉളവാകുന്നവയാണ് എന്ന് അറയുക. അതെല്ല\\u200dാം ഇങ്ങിനെ മനസ്സിലാക്കുമ്പോള്\\u200d നീ മുക്തനായിത്തീരും. <EOS>\\n', 'അര്\\u200dജുനന്\\u200d പറഞ്ഞു: ഹേ കൃഷ്ണ, ശാസ്ത്രവിധി പാലിക്കാതെയാ ണെങ്കിലും ശ്രദ്ധയോടെ യജിക്കുന്നവരുടെ സ്ഥിതിയെന്താകും? അതു സാത്വികമോ, രാജസികമോ താമസികമോ ഏതാണ്? <EOS>\\n', 'സത്യം കണ്ടറിഞ്ഞ ജ്ഞാനികള്\\u200d നിനക്കു ജ്ഞാനം ഉപദേശിച്ചു തരും. അത് നീ നമസ്ക്കാരം കൊണ്ടും ചോദ്യം കൊണ്ടും സേവകൊണ്ടും ഗ്രഹിക്കുക. <EOS>\\n', 'ഫലാക\\u200dാംക്ഷയില്ലാതെ, ശാസ്ത്രവിധിപ്രകാരം യജ്ഞം ചെയ്യപ്പെടേണ്ട താണ് എന്ന ഭാവത്തോടെ മനസ്സിനെ യജ്ഞത്തില്\\u200d സമാഹിതമാക്കി യജിക്കപ്പെടുന്ന ആ യജ്ഞം സാത്വികമാണ്. <EOS>\\n', 'നീ എല്ലാ പാപികളിലും വെച്ച് ഏറ്റവും വലിയ മഹാപാപിയാണെങ്കില്\\u200dപ്പോലും ജ്ഞാനമാകുന്ന തോണികൊണ്ടു എല്ലാ പാപസമുദ്രങ്ങളെയും നീ കടക്കുക തന്നെ ചെയ്യും. <EOS>\\n', 'ഹേ അര്\\u200dജുനാ, എന്റെ യോനിയാകുന്ന മഹാപ്രകൃതിയില്\\u200d ഞാന്\\u200d ബീജത്തെ നിക്ഷേപിക്കുന്നു. സര്\\u200dവ്വ ജീവരാശികളുടെയും ജന്മം അതില്\\u200dനിന്നാണ്. <EOS>\\n', 'പത്രം, പുഷ്പം, ഫലം, ജലം എന്നിവ ഭക്തിയോടു കൂടി എനിക്കായി നിവേദിക്കുന്ന ഏകാഗ്രചിത്തന്റെ ആ ഭക്തി പൂര്\\u200dവകമായ വഴിപാടിനെ ഞാന്\\u200d കൈക്കൊള്ളുന്നു. <EOS>\\n', 'ജ്ഞാനത്തില്\\u200d തന്നെ മനസ്സൂന്നിയവനും ജിതേന്ദ്രിയനും ശ്രദ്ധയുള്ളവനുമായ ആള്\\u200d ജ്ഞാനം നേടുന്നു. ജ്ഞാനം നേടിയാല്\\u200d പരമമായ ശാന്തിയെ ഉടന്\\u200d പ്രാപിക്കുന്നു. <EOS>\\n', 'ഹേ പാര്\\u200dത്ഥ, എന്നില്\\u200d തന്നെ മനസ്സു ഉറപ്പിച്ച് മറ്റൊന്നുമോര്\\u200dക്കാതെ എപ്പോഴും യാതൊരുവന്\\u200d എന്നെ സ്മരിക്കുന്നുവോ നിത്യമുക്തനായ ആ യോഗിക്ക് ഞാന്\\u200d സുലഭനാണ്. <EOS>\\n', 'ആസക്തിയുള്ളവനും, കര്\\u200dമ്മഫലത്തെ ആഗ്രഹിക്കുന്നവനും, പിശുക്കനും, അശുചിയും, ഹിംസാത്മകനും, (ജയപരാജയങ്ങളില്\\u200d) സന്തോഷിക്കുകയും ദുഃഖിക്കുകയും ചെയ്യുന്നവനുമായ കര്\\u200dത്താവ് രാജസികനെന്നു പറയപ്പെടുന്നു. <EOS>\\n', 'കലുഷം ക്ഷയിച്ചവരും സംശയഹീനരും മനോജയം നേടിയവരും സർവഭൂതങ്ങളുടെയും ക്ഷേമത്തിൽ തൽപരരുമായ ഋഷിമാർ ബ്രഹ്മാനന്ദം നേടുന്നു. <EOS>\\n', '\"അർജുനൻ പറഞ്ഞു: ഹേ കൃഷ്ണാ, സന്യാസവും പിന്നെ കർമ്മയോഗവും അങ്ങ് ഉപദേശിക്കുന്നു. ഈ രണ്ടിൽ ഏതാണ് ശ്രേയസ്കരം എന്നത് നിശ്ചിതമായി എനിക്ക് പറഞ്ഞു തരിക.\" <EOS>\\n', 'ഹേ ഭാരത, എല്ലാവരുടെയും ശ്രദ്ധ അവരവരുടെ ശ്രദ്ധയെ ആശ്രയിച്ചിരിക്കുന്നു. ഈ മനുഷ്യന്\\u200d ശ്രദ്ധാമയനാണ്. ഒരുവന്റെ ശ്രദ്ധ ഏതാണോ അവന്\\u200d ആ തരത്തിലുള്ളവനായിരിക്കും. <EOS>\\n', 'തങ്ങളുടെ സ്വഭാവത്താല്\\u200d സ്വയം നിയന്ത്രിതരായി അതാതു ആഗ്രഹങ്ങള്\\u200dക്കധീനമായ ബുദ്ധിയോടു കൂടിയവര്\\u200d അന്യദേവതകളെ അതാതു നിയമങ്ങള്\\u200d അനുഷ്ഠിച്ചു ഭജിക്കുന്നു. <EOS>\\n', 'സാംഖ്യവും യോഗവും വെവ്വേറെയായി അജ്ഞന്മാർ പറയുന്നു. പണ്ഡിതൻമാര് അങ്ങനെ പറയുന്നില്ല. ഒന്നെങ്കിലും വേണ്ടവിധം അനുഷ്ഠിക്കുന്ന പക്ഷം രണ്ടിന്റെയും ഫലം ലഭിക്കും. <EOS>\\n', 'അ\\u200dര്\\u200dജ്ജുനാ! നീ ഏതൊന്നു ചെയുന്നവോ, ഏതൊന്ന് ഭക്ഷിക്കുന്നുവോ, ഏതൊന്നു ഹോമിക്കുന്നുവോ, ഏതൊന്നു ന\\u200dല്\\u200dകുന്നുവോ, ഏതൊരു തപസ്സുചെയ്യുന്നുവോ അതൊക്കയും എന്നി\\u200dല്\\u200d സമ\\u200dര്\\u200dപ്പിച്ചാലും. <EOS>\\n', 'ഹേ കൗരവശ്രേഷ്ഠ! ഈ മനുഷ്യലോകത്തി\\u200dല്\\u200dനീയൊഴിച്ചു മറ്റൊരു ത്തനും എന്റെ ഈ രുപം വേദാധ്യയനത്താലോ യോഗാനുഷ്ഠാനം കൊണ്ടോ ദാനങ്ങ\\u200dള്\\u200d, ഉഗ്രതപസ്സുക\\u200dള്\\u200d, സ\\u200dല്\\u200dക്രിയക\\u200dള്\\u200d മുതലായവ കൊണ്ടോ കാണപ്പെടുവാ\\u200cന്\\u200dകഴിയുന്നതല്ല. <EOS>\\n', 'ഹേ പാര്\\u200dത്ഥ, എന്നില്\\u200d തന്നെ മനസ്സു ഉറപ്പിച്ച് മറ്റൊന്നുമോര്\\u200dക്കാതെ എപ്പോഴും യാതൊരുവന്\\u200d എന്നെ സ്മരിക്കുന്നുവോ നിത്യമുക്തനായ ആ യോഗിക്ക് ഞാന്\\u200d സുലഭനാണ്. <EOS>\\n', 'യോഗയുക്തനായ തത്വജ്ഞൻ കാണുക, കേൾക്കുക, സ്പർശിക്കുക, മണക്കുക, ഭക്ഷിക്കുക, നടക്കുക, ഉറങ്ങുക, ശ്വസിക്കുക, സംസാരിക്കുക, മലമൂത്രവിസർജനം ചെയ്യുക, എടുക്കുക, കണ്ണുതുറക്കുക, കണ്ണടയ്ക്കുക, ഇവയൊക്കെ ചെയ്താലും ഇന്ദ്രിയങ്ങൾ വിഷയങ്ങളിൽ പ്രവർത്തിക്കുന്നു എന്ന് അറിഞ്ഞുകൊണ്ടുതന്നെ താൻ ഒന്നും ചെയ്യുന്നില്ല എന്ന് കരുതുന്നു. <EOS>\\n', 'ഋഷീശ്വരന്മാരാ\\u200d\\u200dല്\\u200d പല ഛന്ദസ്സുക\\u200cള്\\u200dകൊണ്ടും ബ്രഹ്മസൂത്രപദങ്ങ\\u200dള്\\u200d കൊണ്ടും യുക്തിയുക്തമായും സുനിശ്ചിതമായും ഇതു പല വിധത്തിലും വ\\u200dര്\\u200dണ്ണിക്കപ്പെട്ടിരിക്കുന്നു. <EOS>\\n', 'ഹേ അര്\\u200dജുനാ, കഴിഞ്ഞതും ഇപ്പോഴുള്ളതും ഇനിയുണ്ടാകുന്നതുമായ ജീലജാലങ്ങളെയും ഞാനറിയുന്നു. എന്നാല്\\u200d എന്നെയാകട്ടെ ഒരുത്തരും അറിയുന്നില്ല. <EOS>\\n', 'അങ്ങ് നാശമില്ലാത്തവനും, അറിയേണ്ടവനും, ഉ\\u200dല്\\u200dകൃഷ്ടനും, ഈ ലോകത്തിന്റെ പരമമായ ആശ്രയവുമാകുന്നു. അങ്ങ് നാശരഹിതനും സനാതനധര്\\u200dമ്മത്തിന്റെ സംരക്ഷകനും പുരാണപുരുഷനും ആണെന്നാണ് ഞാ\\u200d\\u200dന്\\u200d വിചാരിക്കുന്നത്. <EOS>\\n', 'ഹേ ഭാരത, എല്ലാവരുടെയും ശ്രദ്ധ അവരവരുടെ ശ്രദ്ധയെ ആശ്രയിച്ചിരിക്കുന്നു. ഈ മനുഷ്യന്\\u200d ശ്രദ്ധാമയനാണ്. ഒരുവന്റെ ശ്രദ്ധ ഏതാണോ അവന്\\u200d ആ തരത്തിലുള്ളവനായിരിക്കും. <EOS>\\n', 'പ്രകൃതിയാണ് ക\\u200dര്\\u200dമ്മങ്ങളെല്ല\\u200dാം ചെയ്യുന്നത് എന്നും ആത്മാവ് ഒന്നും ചെയ്യാത്തവനാണെന്നും അറിയുന്നവന്\\u200d യഥാ\\u200dര്\\u200dത്ഥത്തില്\\u200d അറിവുള്ളവനാകുന്നു. <EOS>\\n', 'ഈശ്വരൻ ആരുടേയും പാപവും സുകൃതവും സ്വീകരിക്കുന്നില്ല. ജ്ഞാനം അജ്ഞാനത്താൽ മറയ്ക്കപ്പെട്ടിരിക്കുന്നതുകൊണ്ട് ജീവികൾ മോഹത്തിലാണ്ടുപോകുന്നു. <EOS>\\n', '\"എന്നാൽ ആരുടെ ഈ അജ്ഞാനം ആത്മജ്ഞാനത്താൽ നശിപ്പിക്കപ്പെട്ടിരിക്കുന്നുവോ അവർക്ക് ആദിത്യൻ വസ്തുക്കളെയെന്ന പോലെ ജ്ഞാനം പരമമായ ബ്രഹ്മത്തെ പ്രകാശിപ്പിക്കുന്നു.\" <EOS>\\n', 'ബ്രഹ്മത്തിൽ മനസ്സുന്നിയവരും ബ്രഹ്മതാദാത്മ്യം ബ്രഹ്മനിഷ്ഠരും ബ്രഹ്മത്തെക്കുറിച്ചല്ലാതെ മറ്റൊരു ചിന്തയില്ലാത്തവരു മായവർ ജ്ഞാനത്താല് പാപമകന്നു മോക്ഷപദത്തെ പ്രാപിക്കുന്നു. <EOS>\\n', 'ഹേ അര്\\u200dജുനാ, നീ കണ്ടവിധത്തി\\u200dല്\\u200d കാണുന്നതിനു വേദങ്ങളാലോ തപസ്സിനാലോ ദാനത്തിനാലോ യോഗത്തിനാലോ ഒന്നും സാധിക്കുന്നതല്ല. <EOS>\\n', 'ഹേ പാര്\\u200dത്ഥ! ഈ സര്\\u200dവഭൂതങ്ങളും വീണ്ടും വീണ്ടും ഉണ്ടായി രാത്രിയുടെ ആരംഭത്തില്\\u200d പ്രകൃതിയില്\\u200d ലയിക്കയും പരാധീനരായി പ്രഭാതത്തില്\\u200d വീണ്ടും ഉത്ഭവിക്കയും ചെയ്യുന്നു. <EOS>\\n', 'സിദ്ധിയ്ക്കായി പ്രയത്നിക്കുന്ന യോഗികള്\\u200d തങ്ങളുടെയുള്ളില്\\u200d സ്ഥിതിചെയ്യുന്ന ഈ ജീവനെ കാണുന്നു. എന്നാല്\\u200d അനധികാരികളായ മൂഢന്മാര്\\u200d പ്രയത്നിച്ചാലും ഈ ജീവനെ കാണുന്നില്ല. <EOS>\\n', 'ബാഹ്യവിഷയങ്ങളിൽ അനാസക്തനായവന് ആത്മാവിൽ ഏതു സുഖം അനുഭവിക്കുന്നുവോ അത് ബ്രഹ്മത്തിൽ യോഗയുക്താത്മാവായിട്ടുള്ളവൻ എന്നും അനുഭവിക്കുന്നു. <EOS>\\n', 'അര്\\u200dജുനാ, യജ്ഞത്തിനുള്ള ക\\u200d\\u200d\\u200dര്\\u200dമ്മം ഒഴിച്ച് മറ്റു ക\\u200d\\u200d\\u200dര്\\u200dമ്മങ്ങളാല്\\u200d ബന്ധിക്കപ്പെട്ടതാണ് ഈ ലോകം. സംഗരഹിതനായി നീ ക\\u200d\\u200d\\u200dര്\\u200dമ്മം ആചരിക്കുക. <EOS>\\n', 'ആരാണോ ഇവിടെ വച തന്നെ ശരീര നാശത്തിനു മുമ്പ് കാമക്രോധങ്ങൾ ഉളവാക്കുന്ന ക്ഷോഭത്തെ നിയന്ത്രിക്കാൻ ശക്തനാകുന്നത് അവൻ യോഗയുക്തനും സുഖമനുഭവിക്കുന്നവനുമാകുന്നു. <EOS>\\n', 'ഹേ ഭാരത, എല്ലാവരുടെയും ശ്രദ്ധ അവരവരുടെ ശ്രദ്ധയെ ആശ്രയിച്ചിരിക്കുന്നു. ഈ മനുഷ്യന്\\u200d ശ്രദ്ധാമയനാണ്. ഒരുവന്റെ ശ്രദ്ധ ഏതാണോ അവന്\\u200d ആ തരത്തിലുള്ളവനായിരിക്കും. <EOS>\\n', 'കലുഷം ക്ഷയിച്ചവരും സംശയഹീനരും മനോജയം നേടിയവരും സർവഭൂതങ്ങളുടെയും ക്ഷേമത്തിൽ തൽപരരുമായ ഋഷിമാർ ബ്രഹ്മാനന്ദം നേടുന്നു. <EOS>\\n', 'ഹേ കൌന്തേയ, ഞാന്\\u200d ജലത്തിലെ രസമാകുന്നു. ചന്ദ്രസൂര്യന്\\u200dമാരിലെ ശോഭയാകുന്നു. വേദമന്ത്രങ്ങളില്\\u200d പ്രണവമാകുന്നു. ആകാശത്തിലെ ശബ്ദമാകുന്നു. മനുഷ്യരിലെ പൗരുഷവുമാകുന്നു. <EOS>\\n', 'ബാഹ്യവിഷയങ്ങളെ പുറത്താക്കി നോട്ടം ഭൂമധ്യത്തിലുറപ്പിച്ച് മൂക്കിനുള്ളിൽ സഞ്ചരിക്കുന്ന പ്രാണന്റെയും അപാനന്റെയും ഗതി സമീകരിച്ച് ഇന്ദ്രിയങ്ങളെയും മനസ്സിനെയും ബുദ്ധിയെയും നിയന്ത്രിച്ച് ഇച്ഛ, ഭയം, ക്രോധം ഇവ വെടിഞ്ഞ് മോക്ഷത്തിൽ തന്നെ തൽപരനായിരിക്കുന്ന മുനി എപ്പോഴും മുക്തനായി ഭവിക്കുന്നു. <EOS>\\n', 'യജ്ഞത്തിന്റെയും തപസ്സിന്റെയും ഭോക്താവും ലോകങ്ങളുടെയെല്ലാം നാഥനും എല്ലാ ജീവികളുടെയും സുഹൃത്തുമായി എന്നെ അറിയുന്നവൻ ശാന്തിയെ പ്രാപിക്കുന്നു. <EOS>\\n', 'ഹേ പാര്\\u200dത്ഥ, എന്നില്\\u200d തന്നെ മനസ്സു ഉറപ്പിച്ച് മറ്റൊന്നുമോര്\\u200dക്കാതെ എപ്പോഴും യാതൊരുവന്\\u200d എന്നെ സ്മരിക്കുന്നുവോ നിത്യമുക്തനായ ആ യോഗിക്ക് ഞാന്\\u200d സുലഭനാണ്. <EOS>\\n', 'ആരാണോ ഇവിടെ വച തന്നെ ശരീര നാശത്തിനു മുമ്പ് കാമക്രോധങ്ങൾ ഉളവാക്കുന്ന ക്ഷോഭത്തെ നിയന്ത്രിക്കാൻ ശക്തനാകുന്നത് അവൻ യോഗയുക്തനും സുഖമനുഭവിക്കുന്നവനുമാകുന്നു. <EOS>\\n', 'ക\\u200dര്\\u200dമ്മയോഗത്തെ പ്രാപിക്കുവാനിച്ഛിക്കുന്ന മുനിക്ക് ക\\u200dര്\\u200dമ്മം മാ\\u200dര്\\u200dഗ്ഗമെന്നു പറയപ്പെടുന്നു. പിന്നീട് യോഗസിദ്ധി നേടിക്കഴിഞ്ഞ അവന് ശമം കാരണമെന്നും പറയപ്പെടുന്നു. <EOS>\\n', 'തിഗുണങ്ങളാല്\\u200d പോഷിപ്പിക്കപ്പെടുന്ന അതിന്റെ ശാഖകള്\\u200d മുകളിലും താഴെയുമായി പരന്നുകിടക്കുന്നു. വിഷയങ്ങളാണ് അതിന്റെ തളിരുകള്\\u200d. കര്\\u200dമ്മത്തോടു ബന്ധപ്പെട്ടവയായ അതിന്റെ വേരുകള്\\u200d മനുഷ്യലോകത്തില്\\u200d വ്യാപിച്ചുകിടക്കുന്നു. <EOS>\\n', 'അര്\\u200dജുനന്\\u200d ചോദിച്ചു: ഹേ കൃഷ്ണാ, പിന്നെ ആര്\\u200d പ്രേരിപ്പിചിട്ടാണ് ഈ പുരുഷന്\\u200d താ\\u200dന്\\u200d ഇച്ഛിക്കാതെയിരുന്നിട്ടും ബലമായ ഏതോ ശക്തിയാല്\\u200d നിയുക്തനെന്നപോലെ പാപകര്\\u200dമ്മങ്ങ\\u200dള്\\u200d അനുഷ്ഠിക്കുന്നത്. <EOS>\\n', 'യാതൊരുവന്\\u200d സ്വയം തന്നെ ജയിച്ചിരിക്കുന്നുവോ അവന് താന്\\u200d തന്നെ തന്റെ ബന്ധുവാണ്. തന്റെ മേല്\\u200d നിയന്ത്രണമില്ലാത്തവനു താന്\\u200d തന്നെ ശത്രുവിനെപ്പോലെ ശത്രുത്വത്തില്\\u200d വര്\\u200dത്തിക്കുന്നു. <EOS>\\n', 'സിദ്ധിയ്ക്കായി പ്രയത്നിക്കുന്ന യോഗികള്\\u200d തങ്ങളുടെയുള്ളില്\\u200d സ്ഥിതിചെയ്യുന്ന ഈ ജീവനെ കാണുന്നു. എന്നാല്\\u200d അനധികാരികളായ മൂഢന്മാര്\\u200d പ്രയത്നിച്ചാലും ഈ ജീവനെ കാണുന്നില്ല. <EOS>\\n', 'സുഹൃത്തുക്കള്\\u200d\\u200d, മിത്രങ്ങള്\\u200d, ശത്രുക്കള്\\u200d, ഉദാസീനന്\\u200dമാ\\u200d\\u200dര്\\u200d, വെറുക്കപ്പെടേണ്ടവര്\\u200d, ബന്ധുക്കള്\\u200d ഇവരിലും നല്ലവരിലും പാപികളിലും സമബുദ്ധിയായിരിക്കുന്നവന്\\u200d വിശിഷ്ടനാകുന്നു. <EOS>\\n', 'ഹേ പാര്\\u200dത്ഥ, എന്നില്\\u200d സ്ഥിരമായി ചിത്തം നി\\u200dര്\\u200dത്തുവാ\\u200cന്\\u200d ശക്തിയില്ലാത്ത പക്ഷം പിന്നെ അഭ്യാസയോഗത്താ\\u200c\\u200dല്\\u200d എന്നെ പ്രാപിക്കുവാ\\u200d\\u200dന്\\u200d നോക്കണം. <EOS>\\n', 'ഹേ അര്\\u200dജുനാ, എന്റെ യോനിയാകുന്ന മഹാപ്രകൃതിയില്\\u200d ഞാന്\\u200d ബീജത്തെ നിക്ഷേപിക്കുന്നു. സര്\\u200dവ്വ ജീവരാശികളുടെയും ജന്മം അതില്\\u200dനിന്നാണ്. <EOS>\\n', 'ഹേ മഹാത്മാവേ! ഭുമിയ്ക്കും ധ്യുലോകത്തിനുമിടയിലുള്ള ഈ ആകാശവും, എല്ലാ ദിക്കുകളും വ്യാപിച്ച് വിളങ്ങുന്ന അവിടുത്തെ അത്യുഗ്രമായ ഈ രൂപം കണ്ട് മൂന്നുലോകവും നടുങ്ങിപ്പോകുന്നു. <EOS>\\n', 'അങ്ങിനെ മറ്റു ചിലര്\\u200d പ്രാണായാമ തല്\\u200dപരരായി ദേഹത്തിലുള്ള വായുവിന്റെ ഉര്\\u200dധ്വമുഖവും അധോമുഖവുമായ ചലനത്തെ തടഞ്ഞിട്ട് അപാനനില്\\u200d പ്രാണനെയും പ്രാണനില്\\u200d അപാനനെയും ഹോമിക്കുന്നു. <EOS>\\n', 'ഹേ അര്\\u200dജുനാ, അധികം ആഹാരം കഴിക്കുന്നവനും, ഒട്ടും ആഹാരം കഴിക്കാത്തവനും യോഗമില്ല. അധികം ഉറങ്ങുന്നവനും എപ്പോഴും ഉണര്\\u200dന്നിരിക്കുന്നവനും യോഗം സംഭവിക്കുകയില്ല. <EOS>\\n', 'അര്\\u200dജുനന്\\u200d പറഞ്ഞു: ഹേ കൃഷ്ണാ, പ്രകൃതി, പുരുഷ\\u200dന്\\u200d, ക്ഷേത്രം, ക്ഷേത്രജ്ഞ\\u200dന്\\u200d, ജ്ഞാനം (അറിവ്), ജ്ഞേയം (അറിയപ്പെടേണ്ടത്) എന്നിവയെപ്പറ്റി ഞാന്\\u200d അറിയാന്\\u200d ആഗ്രഹിക്കുന്നു. <EOS>\\n', 'എപ്പോള്\\u200d സ്ഥിരമായിത്തീര്\\u200dന്ന ചിത്തം സര്\\u200dവകാമങ്ങളില്\\u200d നിന്നും അകന്ന് ആത്മാവില്\\u200d തന്നെ ഉറച്ചുനില്\\u200dക്കുന്നുവോ അപ്പോള്\\u200d അവന്\\u200d യുക്തനെന്നു പറയപ്പെടുന്നു. <EOS>\\n', 'ഹേ ഭാരത, എല്ലാവരുടെയും ശ്രദ്ധ അവരവരുടെ ശ്രദ്ധയെ ആശ്രയിച്ചിരിക്കുന്നു. ഈ മനുഷ്യന്\\u200d ശ്രദ്ധാമയനാണ്. ഒരുവന്റെ ശ്രദ്ധ ഏതാണോ അവന്\\u200d ആ തരത്തിലുള്ളവനായിരിക്കും. <EOS>\\n', 'ഹേ പാര്\\u200dത്ഥാ എനിക്ക് മൂന്നു ലോകത്തിലും കര്\\u200dത്തവ്യമായി ഒന്നുമില്ല. എനിക്കു പ്രാപിക്കേണ്ടതായി ഒന്നും തന്നെയില്ല. എന്നിട്ടും ഞാന്\\u200d ക\\u200dര്\\u200dമ്മം ചെയ്തുകൊണ്ടു തന്നെയാണിരിക്കുന്നത്. <EOS>\\n', 'അ\\u200dര്\\u200dജ്ജുനാ! നീ ഏതൊന്നു ചെയുന്നവോ, ഏതൊന്ന് ഭക്ഷിക്കുന്നുവോ, ഏതൊന്നു ഹോമിക്കുന്നുവോ, ഏതൊന്നു ന\\u200dല്\\u200dകുന്നുവോ, ഏതൊരു തപസ്സുചെയ്യുന്നുവോ അതൊക്കയും എന്നി\\u200dല്\\u200d സമ\\u200dര്\\u200dപ്പിച്ചാലും. <EOS>\\n', 'അര്\\u200dജുനന്\\u200d പറഞ്ഞു: ഹേ കൃഷ്ണ, ശാസ്ത്രവിധി പാലിക്കാതെയാ ണെങ്കിലും ശ്രദ്ധയോടെ യജിക്കുന്നവരുടെ സ്ഥിതിയെന്താകും? അതു സാത്വികമോ, രാജസികമോ താമസികമോ ഏതാണ്? <EOS>\\n', 'ഇളക്കമറ്റ മനസ്സോടുകൂടിയവനും രജോഗുണമടങ്ങിയവനും നിഷ്പാപനും ബ്രഹ്മതാദാത്മ്യം പ്രാപിച്ചവനുമായ ഈ യോഗി ഉത്തമമായ സുഖത്തെ പ്രാപിക്കുന്നു. <EOS>\\n', 'ഇപ്രകാരം എപ്പോഴും യോഗമഭ്യസിക്കുന്നവനും പാപമറ്റവനുമായ യോഗി നിഷ്പ്രയാസം ആത്യന്തികമായ ബ്രഹ്മാനന്ദം അനുഭവിക്കുന്നു. <EOS>\\n', 'യോഗത്തില്\\u200d ഉറച്ച മനസോടുകൂടിയവനും എല്ലായിടത്തും സമദൃഷ്ടിയുള്ളവനുമായ യോഗി തന്നെ എല്ലാ പ്രാണികളിലും, എല്ലാ പ്രാണികളെയും തന്നില്\\u200d തന്നെയും ദര്\\u200dശിക്കുന്നു. <EOS>\\n', 'പരിശുദ്ധമായ ബുദ്ധിയാല്\\u200d മനസ്സിനെ ധൈര്യപൂര്\\u200dവ്വം നിയന്ത്രിച്ച്, ശബ്ദം, സ്പര്\\u200dശം, തുടങ്ങിയ വിഷയങ്ങളെ ത്യജിച്ച്, രാഗദ്വേഷങ്ങളെ അകറ്റി, വിജനപ്രദേശത്തു വസിച്ച്, മിതമായഹരിച്ച്, ശരീരം, മനസ്സ്, വാക്ക് എന്നിവയെ സംയമിച്ച്, സദാ വൈരാഗ്യത്തോടെ, ധ്യാനയോഗതത്പരനായി, അഹങ്കാരം, ബലം, അഭിമാനം, കാമം, ക്രോധം, പരിഗ്രഹം എന്നിവയെ വെടിഞ്ഞ്, നിര്\\u200dമമനായി, ശാന്തനായിരിക്കുന്നവന്\\u200d ബ്രഹ്മപദത്തെ പ്രാപിക്കുന്നു. <EOS>\\n', 'അവന്\\u200d ആ ശ്രദ്ധയോടെ ആ ദേവന്റെ ആരാധന നടത്തുന്നു. അതില്\\u200dനിന്നു ഞാന്\\u200d തന്നെ നല്കുന്ന അതാതു കാമങ്ങള്\\u200d ആര്\\u200dജിക്കുകയും ചെയ്യുന്നു. <EOS>\\n', 'ഭൂമിയിലെ പുണ്യമായ ഗന്ധവും അഗ്നിയിലെ തേജസും ഞാനാണ്. എല്ലാ ജീവികളിലെയും ജീവശക്തിയും തപസ്വികളിലെ തപസ്സും ഞാന്\\u200d തന്നെ ആകുന്നു. <EOS>\\n', 'ബാഹ്യവിഷയങ്ങളിൽ അനാസക്തനായവന് ആത്മാവിൽ ഏതു സുഖം അനുഭവിക്കുന്നുവോ അത് ബ്രഹ്മത്തിൽ യോഗയുക്താത്മാവായിട്ടുള്ളവൻ എന്നും അനുഭവിക്കുന്നു. <EOS>\\n', 'എന്തെന്നാല്\\u200d ഹേ കൃഷ്ണാ, മനസ്സ് ചഞ്ചലവും ക്ഷുബ്ധവും നിയന്ത്രണ ത്തിനു വഴങ്ങാത്തതും അയവില്ലാത്തതുമാണ്. അതിന്റെ നിയന്ത്രണം വായുവിന്റെതെന്നപോലെ ദുഷ്ക്കരമായി ഞാന്\\u200d കരുതുന്നു. <EOS>\\n', 'ശ്രീ ഭഗവാന്\\u200d പറഞ്ഞു: ഹേ മഹാബാഹോ, നിസംശയമായും മനസ്സ് നിയന്ത്രിക്കാന്\\u200d വിഷമമുള്ളതും ചഞ്ചലവുമാണ്. എന്നാല്\\u200d കുന്തീപുത്രാ, അഭ്യാസം കൊണ്ടും, വൈരാഗ്യം കൊണ്ടും അത് നിയന്ത്രണവിധേയമാക്കപ്പെടുന്നു. <EOS>\\n', 'യജ്ഞത്തിന്റെയും തപസ്സിന്റെയും ഭോക്താവും ലോകങ്ങളുടെയെല്ലാം നാഥനും എല്ലാ ജീവികളുടെയും സുഹൃത്തുമായി എന്നെ അറിയുന്നവൻ ശാന്തിയെ പ്രാപിക്കുന്നു. <EOS>\\n', 'ഹേ അര്\\u200dജുനാ, കഴിഞ്ഞതും ഇപ്പോഴുള്ളതും ഇനിയുണ്ടാകുന്നതുമായ ജീലജാലങ്ങളെയും ഞാനറിയുന്നു. എന്നാല്\\u200d എന്നെയാകട്ടെ ഒരുത്തരും അറിയുന്നില്ല. <EOS>\\n', 'ഹേ മഹാബാഹോ, ബ്രഹ്മമാ\\u200dര്\\u200dഗ്ഗത്തില്\\u200d നിന്ന്\\u200c തെറ്റി എങ്ങുമുറയ്ക്കാതെ ലൌകികമാര്\\u200dഗം, യോഗമാര്\\u200dഗം ഈ രണ്ടിലും സ്ഥാനമില്ലാതെ ഛിന്നഭിന്നമായ മേഘം പോലെ അവന്\\u200d നശിക്കുകയില്ലേ? <EOS>\\n', 'ഹേ കൃഷ്ണാ, എന്റെ ഈ സംശയത്തെ നിഃശേഷം അങ്ങു തീര്\\u200dത്തുതരേണ്ടതാണ്. ഈ സംശയം പരിഹരിക്കാന്\\u200d അങ്ങല്ലാതെ മറ്റൊരാള്\\u200d യോഗ്യനായില്ല. <EOS>\\n', 'ഹേ ദേവ! അതിനാ\\u200dല്\\u200d ഞാന്\\u200d നിന്തിരുവടിയെ വണങ്ങി സ്തുത്യനും ലോകനാഥനും ആയ അങ്ങയോട് എന്നില്\\u200d പ്രസാദിക്കണേ എന്ന് അപേക്ഷിക്കുന്നു. പിതാവ് പുത്രന്റെയും, സ്നേഹിത\\u200dന്\\u200d സുഹൃത്തിന്റെയും, ഭ\\u200dര്\\u200dത്താവ് ഭാര്യയുടെയും അപരാധങ്ങളും ക്ഷമിക്കുമ്പോലെ അങ്ങ് എന്റെ അപരാധത്തെയും ക്ഷമിക്കണം. <EOS>\\n', 'ഹേ പാര്\\u200dത്ഥ, എന്നില്\\u200d തന്നെ മനസ്സു ഉറപ്പിച്ച് മറ്റൊന്നുമോര്\\u200dക്കാതെ എപ്പോഴും യാതൊരുവന്\\u200d എന്നെ സ്മരിക്കുന്നുവോ നിത്യമുക്തനായ ആ യോഗിക്ക് ഞാന്\\u200d സുലഭനാണ്. <EOS>\\n', 'അല്ലെങ്കില്\\u200d ബുദ്ധിമാന്മാരായ യോഗികളുടെ കുലത്തില്\\u200d തന്നെ ജനിക്കുന്നു. ലോകത്തില്\\u200d ഇങ്ങിനെയുള്ള ജന്മം ലഭിക്കാന്\\u200d അത്യന്തം പ്രയാസമാണ്. <EOS>\\n', 'മനുഷ്യന്\\u200d എങ്ങിനെ കീറിയ വസ്ത്രങ്ങള്\\u200d വെടിഞ്ഞു വേറെ പുതിയവ സ്വീകരിക്കുന്നുവോ, അതുപോലെ ആത്മാവ് ജീ\\u200dര്\\u200dണ്ണിച്ച ദേഹങ്ങള്\\u200d വെടിഞ്ഞു വേറെ ദേഹങ്ങള്\\u200d കൈകൊള്ളുന്നു <EOS>\\n', 'ഹേ അര്\\u200dജുനാ, കഴിഞ്ഞതും ഇപ്പോഴുള്ളതും ഇനിയുണ്ടാകുന്നതുമായ ജീലജാലങ്ങളെയും ഞാനറിയുന്നു. എന്നാല്\\u200d എന്നെയാകട്ടെ ഒരുത്തരും അറിയുന്നില്ല. <EOS>\\n', 'തീവ്രമായി പരിശ്രമിക്കുന്ന യോഗിയാകട്ടെ പാപം നീങ്ങി അതിനുശേഷം അനേകജന്മങ്ങള്\\u200d കൊണ്ടു സിദ്ധനായി പിന്നീട് പരമമായ ഗതിയെ പ്രാപിക്കുന്നു. <EOS>\\n', 'ക\\u200dര്\\u200dമ്മയോഗി തപസ്വികളെക്കാള്\\u200d ശ്രേഷ്ഠനാണ്. അയാള്\\u200d ജ്ഞാനികളേക്കാളും ശ്രേഷ്ഠനാണെന്നാണ് എന്റെ പക്ഷം. യോഗി കാമ്യക\\u200dര്\\u200dമ്മങ്ങള്\\u200d അനുഷ്ഠിക്കുന്നവരേക്കാളും ശ്രേഷ്ഠനാണ്. അതുകൊണ്ട് അര്\\u200dജുനാ, നീ യോഗിയായിത്തീരുക. <EOS>\\n', 'സകല യോഗികളിലും വച്ച് എന്നില്\\u200d ഉറച്ച മനസോടെ ശ്രദ്ധാപൂര്\\u200dണനായി ആരെന്നെ ഭജിക്കുന്നുവോ അവനാണ് എന്റെ അഭിപ്രായത്തില്\\u200d അത്യന്തം ശ്രേഷ്ഠ\\u200dന്\\u200d\\u200d! <EOS>\\n', 'ശ്രീ ഭഗവാന്\\u200d പറഞ്ഞു: ഹേ പാര്\\u200dത്ഥ, എന്നില്\\u200d ആസക്തചിത്തനായി എന്നെ ആശ്രയിച്ച് യോഗം അഭ്യസിച്ച് എങ്ങിനെ എന്നെ നിസ്സംശയമായും പൂര്\\u200dണമായും നീ അറിയുമോ ആ വിധം കേട്ടുകൊള്ളുക. <EOS>\\n', 'യാതോന്നറിഞ്ഞാല്\\u200d പിന്നെ അറിയേണ്ടതായി മറ്റൊന്നും ഈ ലോകത്തില്\\u200d അവശേഷിക്കയില്ലയോ ആ ജ്ഞാനം വിജ്ഞാനത്തോടുകൂടി ഞാന്\\u200d പൂര്\\u200dണമായി നിനക്കിതാ ഉപദേശിക്കാന്\\u200d പോകുന്നു. <EOS>\\n', 'ഹേ പാര്\\u200dത്ഥ! ഈ സര്\\u200dവഭൂതങ്ങളും വീണ്ടും വീണ്ടും ഉണ്ടായി രാത്രിയുടെ ആരംഭത്തില്\\u200d പ്രകൃതിയില്\\u200d ലയിക്കയും പരാധീനരായി പ്രഭാതത്തില്\\u200d വീണ്ടും ഉത്ഭവിക്കയും ചെയ്യുന്നു. <EOS>\\n', 'ഭൂമി, ജലം, അഗ്നി, വായു, ആകാശം, മനസ്സ്, ബുദ്ധി, അഹങ്കാരം എന്നിങ്ങനെ എന്റെ പ്രകൃതി എട്ടായി വേര്\\u200dതിരിഞ്ഞിരിക്കുന്നു. <EOS>\\n', 'അ\\u200dര്\\u200dജ്ജുനാ! പ്രളയകാലത്തില്\\u200d സര്\\u200dവ്വഭൂതങ്ങളും എന്റെ പ്രകൃതിയിലേയ്ക്കു ചെല്ലുന്നു. സൃഷ്ടികാലത്തില്\\u200d അവയെല്ല\\u200dാം ഞാന്\\u200d വീണ്ടും സൃഷ്ടിക്കുന്നു. <EOS>\\n', 'ഹേ പാര്\\u200dത്ഥാ എനിക്ക് മൂന്നു ലോകത്തിലും കര്\\u200dത്തവ്യമായി ഒന്നുമില്ല. എനിക്കു പ്രാപിക്കേണ്ടതായി ഒന്നും തന്നെയില്ല. എന്നിട്ടും ഞാന്\\u200d ക\\u200dര്\\u200dമ്മം ചെയ്തുകൊണ്ടു തന്നെയാണിരിക്കുന്നത്. <EOS>\\n', 'ഇങ്ങിനെ പലതരം യജ്ഞങ്ങള്\\u200d ബ്രഹ്മാവിനാല്\\u200d വിവരിക്കപ്പെട്ടി ട്ടുണ്ട്. അവയെല്ല\\u200dാം ക\\u200dര്\\u200dമ്മത്തില്\\u200d നിന്നുഉളവാകുന്നവയാണ് എന്ന് അറയുക. അതെല്ല\\u200dാം ഇങ്ങിനെ മനസ്സിലാക്കുമ്പോള്\\u200d നീ മുക്തനായിത്തീരും. <EOS>\\n', 'ഹേ കൌന്തേയ, ഞാന്\\u200d ജലത്തിലെ രസമാകുന്നു. ചന്ദ്രസൂര്യന്\\u200dമാരിലെ ശോഭയാകുന്നു. വേദമന്ത്രങ്ങളില്\\u200d പ്രണവമാകുന്നു. ആകാശത്തിലെ ശബ്ദമാകുന്നു. മനുഷ്യരിലെ പൗരുഷവുമാകുന്നു. <EOS>\\n', 'ഭൂമിയിലെ പുണ്യമായ ഗന്ധവും അഗ്നിയിലെ തേജസും ഞാനാണ്. എല്ലാ ജീവികളിലെയും ജീവശക്തിയും തപസ്വികളിലെ തപസ്സും ഞാന്\\u200d തന്നെ ആകുന്നു. <EOS>\\n', 'ഹേ പാര്\\u200dത്ഥ, എല്ലാ ഭൂതങ്ങളുടെയും ശാശ്വതമായ ബീജമായി എന്നെ അറിയുക. ബുദ്ധിമാന്\\u200dമാരുടെ ബുദ്ധി ഞാനാണ്. തേജസ്വികളുടെ തേജസ്സും ഞാനാകുന്നു. <EOS>\\n', 'ഹേ രാജന്\\u200d\\u200d, വിഷ്ണുവിന്റെ ആ അത്ഭുതകരമായ രൂപത്തെ (വിശ്വരൂപത്തെ) ഓര്\\u200dക്കുന്തോറും എനിക്ക് പിന്നെയും പിന്നെയും മഹത്തായ വിസ്മയവും ആനന്ദവുമുണ്ടാകുന്നു. <EOS>\\n', 'ഏതൊക്കെയാണോ സാത്വികഭാവങ്ങള്\\u200d ഏതൊക്കെയാണോ രാജസങ്ങളും താമസങ്ങളുമായ ഭാവങ്ങള്\\u200d അവയെല്ല\\u200dാം എന്നില്\\u200dനിന്ന് ഉത്ഭവിച്ചവ തന്നെയെന്നറിയുക. ഞാന്\\u200d അവയിലല്ല എന്നാല്\\u200d അവ എന്നിലാണ്. <EOS>\\n', 'ഈ ലോകം മുഴുവന്\\u200d ഗുണമയങ്ങളായ ഈ മൂന്നു ഭാവങ്ങളാലും മോഹിതമായിത്തീരുന്നു. ഇവയ്ക്കപ്പുറത്തുള്ള നിത്യനായ എന്നെ ഈ ജഗത്ത് അറിയുന്നില്ല. <EOS>\\n', 'തങ്ങളുടെ സ്വഭാവത്താല്\\u200d സ്വയം നിയന്ത്രിതരായി അതാതു ആഗ്രഹങ്ങള്\\u200dക്കധീനമായ ബുദ്ധിയോടു കൂടിയവര്\\u200d അന്യദേവതകളെ അതാതു നിയമങ്ങള്\\u200d അനുഷ്ഠിച്ചു ഭജിക്കുന്നു. <EOS>\\n', 'എപ്രകാരം നദികളുടെ നാനാപ്രവാഹങ്ങള്\\u200d സമുദ്രത്തെ ലക്ഷ്യമാക്കി ഒഴുകിച്ചെല്ലുന്നുവോ അപ്രകാരം ഈ വീരന്മാര്\\u200d അങ്ങയുടെ ജ്വലിക്കുന്ന മുഖങ്ങളില്\\u200d പ്രവേശിക്കുന്നു. <EOS>\\n', 'ഈ ലോകം മുഴുവന്\\u200d ഗുണമയങ്ങളായ ഈ മൂന്നു ഭാവങ്ങളാലും മോഹിതമായിത്തീരുന്നു. ഇവയ്ക്കപ്പുറത്തുള്ള നിത്യനായ എന്നെ ഈ ജഗത്ത് അറിയുന്നില്ല. <EOS>\\n', 'സ്വയം പുകഴ്ത്തുന്നവരും, പിടിവാശിക്കാരും, ധനം, മാനം എന്നിവയില്\\u200d അഹങ്കരിക്കുന്നവരുമായ അവര്\\u200d നാമമാത്രമായി ഡംഭോടെ വിധികളെ പാലിക്കാതെ യജ്ഞങ്ങളിലൂടെ എന്നെ യജിക്കുന്നു. <EOS>\\n', 'അവരെല്ലാവരും ഉദാരന്\\u200dമാര്\\u200d തന്നെയാണ്. എന്നാല്\\u200d ജ്ഞാനി ആത്മസ്വരൂപന്\\u200d തന്നെ എന്നാണു എന്റെ അഭിപ്രായം. അവന്\\u200d എന്നില്\\u200d തന്നെ ഏകാഗ്രചിത്തനായി എന്നെത്തന്നെ പരമലക്ഷ്യമായി കരുതി ആശ്രയിച്ചിരിക്കുന്നു. <EOS>\\n', 'സ്വയം പുകഴ്ത്തുന്നവരും, പിടിവാശിക്കാരും, ധനം, മാനം എന്നിവയില്\\u200d അഹങ്കരിക്കുന്നവരുമായ അവര്\\u200d നാമമാത്രമായി ഡംഭോടെ വിധികളെ പാലിക്കാതെ യജ്ഞങ്ങളിലൂടെ എന്നെ യജിക്കുന്നു. <EOS>\\n', 'തങ്ങളുടെ സ്വഭാവത്താല്\\u200d സ്വയം നിയന്ത്രിതരായി അതാതു ആഗ്രഹങ്ങള്\\u200dക്കധീനമായ ബുദ്ധിയോടു കൂടിയവര്\\u200d അന്യദേവതകളെ അതാതു നിയമങ്ങള്\\u200d അനുഷ്ഠിച്ചു ഭജിക്കുന്നു. <EOS>\\n', 'ഏതേതു ഭക്തന്\\u200d ഏതേതു ദേവതാ സ്വരൂപത്തെ ശ്രദ്ധയോടെ അര്\\u200dച്ചിക്കാനാഗ്രഹിക്കുന്നുവോ അവരുടെയെല്ല\\u200dാം ആ ശ്രദ്ധയെ തന്നെ ഞാന്\\u200d ഇളക്കമറ്റതാക്കുന്നു. <EOS>\\n', 'അവന്\\u200d ആ ശ്രദ്ധയോടെ ആ ദേവന്റെ ആരാധന നടത്തുന്നു. അതില്\\u200dനിന്നു ഞാന്\\u200d തന്നെ നല്കുന്ന അതാതു കാമങ്ങള്\\u200d ആര്\\u200dജിക്കുകയും ചെയ്യുന്നു. <EOS>\\n', 'എന്നാല്\\u200d അല്പബുദ്ധികളായ അവര്\\u200dക്കു സിദ്ധിക്കുന്ന ആ ഫലം നശിച്ചുപോകുന്നതാണ്. ദേവാരാധകര്\\u200d ദേവന്\\u200dമാരെ പ്രാപിക്കുന്നു. എന്റെ ഭക്തന്\\u200dമാര്\\u200d എന്നെയും പ്രാപിക്കുന്നു. <EOS>\\n', 'എന്റെ അവ്യയവും അനുത്തമവും തമോഗുണസ്പര്\\u200dശമില്ലാത്തതുമായ സര്\\u200dവാതീതഭാവത്തെ അറിയാതെ അവ്യക്തനായ എന്നെ വ്യക്തിത്വം പ്രാപിച്ചവനെന്നു ബുദ്ധിഹീനര്\\u200d വിചാരിക്കുന്നു. <EOS>\\n', 'യോഗമായയാല്\\u200d സമാവൃതനായ ഞാന്\\u200d എല്ലാവര്\\u200dക്കും പ്രത്യക്ഷനല്ല. ഈ മൂഢമായ ലോകം എന്നെ ജന്മരഹിതനും നാശമറ്റവനുമായി അറിയുന്നില്ല. <EOS>\\n', 'ഹേ അര്\\u200dജുനാ, കഴിഞ്ഞതും ഇപ്പോഴുള്ളതും ഇനിയുണ്ടാകുന്നതുമായ ജീലജാലങ്ങളെയും ഞാനറിയുന്നു. എന്നാല്\\u200d എന്നെയാകട്ടെ ഒരുത്തരും അറിയുന്നില്ല. <EOS>\\n', 'ഹേ മഹാത്മാവേ! ഭുമിയ്ക്കും ധ്യുലോകത്തിനുമിടയിലുള്ള ഈ ആകാശവും, എല്ലാ ദിക്കുകളും വ്യാപിച്ച് വിളങ്ങുന്ന അവിടുത്തെ അത്യുഗ്രമായ ഈ രൂപം കണ്ട് മൂന്നുലോകവും നടുങ്ങിപ്പോകുന്നു. <EOS>\\n', 'ഹേ കൌന്തേയ, ഞാന്\\u200d ജലത്തിലെ രസമാകുന്നു. ചന്ദ്രസൂര്യന്\\u200dമാരിലെ ശോഭയാകുന്നു. വേദമന്ത്രങ്ങളില്\\u200d പ്രണവമാകുന്നു. ആകാശത്തിലെ ശബ്ദമാകുന്നു. മനുഷ്യരിലെ പൗരുഷവുമാകുന്നു. <EOS>\\n', 'യാതൊരുത്തന്\\u200d ജരാമരണങ്ങളില്\\u200dനിന്നും മുക്തി നേടാന്\\u200d എന്നെ ആശ്രയിച്ച് പ്രയത്നിക്കുന്നുവോ അവര്\\u200d ആ ബ്രഹ്മത്തെയും സമ്പൂര്\\u200dണമായ അദ്ധ്യാത്മവിദ്യയേയും അഖിലക\\u200dര്\\u200dമ്മത്തെയും അറിയുന്നു. <EOS>\\n', 'ഹേ പാ\\u200dര്\\u200dത്ഥാ, എല്ലാ ക്ഷേത്ര (ശരീര) ങ്ങളിലും ഞാനാണ് ക്ഷേത്രജ്ഞനെന്നു നീ അറിയുക. ക്ഷേത്രക്ഷേത്രജ്ഞന്മാരെ (ദേഹത്മാക്ക\\u200dളെ) ക്കുറിച്ചുള്ള അറിവത്രേ ജ്ഞാനമാകുന്നത്. <EOS>\\n', 'ഹേ ഭാരത, എല്ലാവരുടെയും ശ്രദ്ധ അവരവരുടെ ശ്രദ്ധയെ ആശ്രയിച്ചിരിക്കുന്നു. ഈ മനുഷ്യന്\\u200d ശ്രദ്ധാമയനാണ്. ഒരുവന്റെ ശ്രദ്ധ ഏതാണോ അവന്\\u200d ആ തരത്തിലുള്ളവനായിരിക്കും. <EOS>\\n', 'ഹേ മധുസൂദനാ, അധിയജ്ഞന്\\u200d ആര്? എങ്ങിനെയിരിക്കുന്നു? ഇവിടെ ഈ ദേഹത്തിലുണ്ടോ? മരണകാലത്ത് നിയന്ത്രിതചിത്ത ന്മാരാല്\\u200d എങ്ങിനെയാണ് അങ്ങ് അറിയപ്പെടുന്നത്? <EOS>\\n', 'അ\\u200dര്\\u200dജ്ജുനാ! ഞാ\\u200dന്\\u200d സ\\u200dര്\\u200dവഭൂതങ്ങളുടേയും അന്തരംഗത്തി\\u200dല്\\u200d സ്ഥിതിചെയ്യുന്ന പരമാത്മാവാണ്. സ\\u200dര്\\u200dവചരാചരങ്ങളുടെയും ആദിയും മദ്ധ്യവും അന്തവും ഞാനാണ്. <EOS>\\n', 'ദേഹധാരികളില്\\u200dവച്ച് ശ്രേഷ്ഠനായ അര്\\u200dജുനാ! അധിഭൂതം നശ്വരമായ ഭാവമാണ്. അധിദൈവതം പുരുഷനാണ്. ഈ ദേഹത്തിലുള്ള ഞാന്\\u200d തന്നെയാണ് അധിയജഞ\\u200dന്\\u200d. <EOS>\\n', 'ഹേ അര്\\u200dജുനാ, അധികം ആഹാരം കഴിക്കുന്നവനും, ഒട്ടും ആഹാരം കഴിക്കാത്തവനും യോഗമില്ല. അധികം ഉറങ്ങുന്നവനും എപ്പോഴും ഉണര്\\u200dന്നിരിക്കുന്നവനും യോഗം സംഭവിക്കുകയില്ല. <EOS>\\n', 'ഹേ കുന്തി പുത്രാ, ഏതേതു ഭാവം സ്മരിച്ചുകൊണ്ടു ഒടുവില്\\u200d ശരീരം വിടുന്നുവോ എപ്പോഴും തന്\\u200dമയഭാവമാര്\\u200dന്നു അതാതുഭാവത്തെത്തന്നെ പ്രാപിക്കുന്നു. <EOS>\\n', 'കൃഷ്ണാ! ഞാന്\\u200d നിരന്തരം ധ്യാനിച്ചുകൊണ്ട് അങ്ങയെ എങ്ങനെയാണ് അറിയുക? ഏതേതുഭാവത്തിലാണ് അങ്ങയെ ഞാ\\u200cന്\\u200d ധ്യാനിക്കേണ്ടത്? <EOS>\\n', 'ഹേ പാര്\\u200dത്ഥ! നിരന്തരമായ അഭ്യാസം കൊണ്ടു യോഗയുക്തവും മറ്റൊന്നിലേക്ക് പോവാത്തതുമായ മനസ്സോടുകൂടി ധ്യാനിക്കുന്നവന്\\u200d ആ ദിവ്യനായ പരമപുരുഷനെ പ്രാപിക്കുന്നു. <EOS>\\n', 'ദേഹധാരികളില്\\u200dവച്ച് ശ്രേഷ്ഠനായ അര്\\u200dജുനാ! അധിഭൂതം നശ്വരമായ ഭാവമാണ്. അധിദൈവതം പുരുഷനാണ്. ഈ ദേഹത്തിലുള്ള ഞാന്\\u200d തന്നെയാണ് അധിയജഞ\\u200dന്\\u200d. <EOS>\\n', 'യാതൊന്നിനെ വേദജ്ഞര്\\u200d അക്ഷരം എന്ന് പറയുന്നുവോ, യാതൊന്നിനെ രാഗഹീനരായ യതികള്\\u200d പ്രാപിക്കുന്നുവോ, യാതൊന്നിനെ ആഗ്രഹിക്കുന്നവര്\\u200d ബ്രഹ്മചര്യമനുഷ്ടിക്കുന്നുവോ ആ പദത്തെ നിനക്കു സംക്ഷിപ്തമായി ഞാന്\\u200d പറഞ്ഞു തര\\u200dാം. <EOS>\\n', 'ശാസ്ത്രവിഹിതവും, ആസക്തിയില്ലാത്തതും, രാഗദ്വേഷരഹിതവും ഫലാക\\u200dാംക്ഷയില്ലാത്ത ഒരു വ്യക്തിയാല്\\u200d ചെയ്യപ്പെട്ടതുമായ കര്\\u200dമ്മം സാത്വികമാണ്. <EOS>\\n', 'ഹേ പാര്\\u200dത്ഥ, എന്നില്\\u200d തന്നെ മനസ്സു ഉറപ്പിച്ച് മറ്റൊന്നുമോര്\\u200dക്കാതെ എപ്പോഴും യാതൊരുവന്\\u200d എന്നെ സ്മരിക്കുന്നുവോ നിത്യമുക്തനായ ആ യോഗിക്ക് ഞാന്\\u200d സുലഭനാണ്. <EOS>\\n', 'അ\\u200dര്\\u200dജ്ജുനാ! പ്രളയകാലത്തില്\\u200d സര്\\u200dവ്വഭൂതങ്ങളും എന്റെ പ്രകൃതിയിലേയ്ക്കു ചെല്ലുന്നു. സൃഷ്ടികാലത്തില്\\u200d അവയെല്ല\\u200dാം ഞാന്\\u200d വീണ്ടും സൃഷ്ടിക്കുന്നു. <EOS>\\n', 'അ\\u200dര്\\u200dജ്ജുനാ! അന്യദേവതകളെ ശ്രദ്ധയോടുകൂടി പൂജിക്കുന്ന ഭക്തന്മാ\\u200dര്\\u200d വിധിപൂ\\u200dര്\\u200dവമല്ലെങ്കിലും എന്നെത്തന്നെയാണ് പൂജിക്കുന്നത്. <EOS>\\n', 'ബ്രഹ്മാവിന്റെ പകല്\\u200d ആയിരം യുഗത്തോളമുള്ളതാണെന്നും രാത്രി ആയിരം യുഗം കൊണ്ടവസാനിക്കുന്നതാനെന്നും അറിയുന്നവര്\\u200d അഹോരാത്രങ്ങളെക്കുറിച്ച് അറിയുന്നവരാണ്. <EOS>\\n', 'ബ്രഹ്മാവിന്റെ പകല്\\u200d തുടങ്ങുമ്പോള്\\u200d അവ്യക്തതയില്\\u200d നിന്നും എല്ലാ വസ്തുക്കളും ഉത്ഭവിക്കുന്നു. അവയെല്ല\\u200dാം ബ്രഹ്മാവിന്റെ രാത്രിയുടെ ആരംഭത്തില്\\u200d ആ മൂലപ്രകൃതിയില്\\u200d തന്നെ ലയിച്ചുചേരുകയും ചെയ്യുന്നു. <EOS>\\n', 'ഹേ പാര്\\u200dത്ഥ! ഈ സര്\\u200dവഭൂതങ്ങളും വീണ്ടും വീണ്ടും ഉണ്ടായി രാത്രിയുടെ ആരംഭത്തില്\\u200d പ്രകൃതിയില്\\u200d ലയിക്കയും പരാധീനരായി പ്രഭാതത്തില്\\u200d വീണ്ടും ഉത്ഭവിക്കയും ചെയ്യുന്നു. <EOS>\\n', 'എന്നാല്\\u200d ആ അവ്യക്തത്തിനുമപ്പുറത്ത് സനാതനമായ മറ്റൊരവ്യക്തഭാവമുണ്ട്. ഏതൊന്നാണോ എല്ലാ ഭൂതങ്ങളും നശിക്കുമ്പോഴും നശിക്കാതിരിക്കുന്നത് അത് ആ രണ്ടാമത് പറഞ്ഞ അവ്യക്തമാണ്. <EOS>\\n', 'ഹേ പാര്\\u200dഥ, നീ കുലുങ്ങേണ്ടതില്ല. എന്തെന്നാല്\\u200d ക്ഷത്രിയന് ധ\\u200dര്\\u200dമ്മ സംഗതമായ യുദ്ധത്തേക്കാള്\\u200d ശ്രേയസ്കരമായി മറ്റൊന്നുമില്ല. <EOS>\\n', 'ബ്രഹ്മാവിന്റെ പകല്\\u200d തുടങ്ങുമ്പോള്\\u200d അവ്യക്തതയില്\\u200d നിന്നും എല്ലാ വസ്തുക്കളും ഉത്ഭവിക്കുന്നു. അവയെല്ല\\u200dാം ബ്രഹ്മാവിന്റെ രാത്രിയുടെ ആരംഭത്തില്\\u200d ആ മൂലപ്രകൃതിയില്\\u200d തന്നെ ലയിച്ചുചേരുകയും ചെയ്യുന്നു. <EOS>\\n', 'ഹേ ഭാരത, എല്ലാവരുടെയും ശ്രദ്ധ അവരവരുടെ ശ്രദ്ധയെ ആശ്രയിച്ചിരിക്കുന്നു. ഈ മനുഷ്യന്\\u200d ശ്രദ്ധാമയനാണ്. ഒരുവന്റെ ശ്രദ്ധ ഏതാണോ അവന്\\u200d ആ തരത്തിലുള്ളവനായിരിക്കും. <EOS>\\n', 'അഗ്നി, ജ്യോതിസ്, വെളുത്ത പക്ഷം, ഉത്തരായണം ഇവയില്\\u200d ഇവയുടെ അധീശ്വരായ ദേവതകള്\\u200d വഴിയായി, ഗമിക്കുന്ന ബ്രഹ്മജ്ഞരായ ജനങ്ങള്\\u200d ബ്രഹ്മത്തെ പ്രാപിക്കുന്നു. <EOS>\\n', 'ഹേ കൃഷ്ണാ, എന്റെ ഈ സംശയത്തെ നിഃശേഷം അങ്ങു തീര്\\u200dത്തുതരേണ്ടതാണ്. ഈ സംശയം പരിഹരിക്കാന്\\u200d അങ്ങല്ലാതെ മറ്റൊരാള്\\u200d യോഗ്യനായില്ല. <EOS>\\n', 'ജഗത്തില്\\u200d ഈ അഗ്നിധൂമമാര്\\u200dഗങ്ങള്\\u200d നിത്യങ്ങളായി കരുതപ്പെടുന്നു. അവയിലൊരു ഗതിയിലൂടെ പുനര്\\u200dജന്മമില്ലായ്മയെ പ്രാപിക്കുന്നു. മറ്റേത്തില്\\u200dകൂടി വീണ്ടും തിരിച്ചുവരുന്നു. <EOS>\\n', 'അര്\\u200dജുനന്\\u200d പറഞ്ഞു: ഹേ കൃഷ്ണാ, സന്യാസവും പിന്നെ കർമ്മയോഗവും അങ്ങ് ഉപദേശിക്കുന്നു. ഈ രണ്ടിൽ ഏതാണ് ശ്രേയസ്കരം എന്നത് നിശ്ചിതമായി എനിക്ക് പറഞ്ഞു തരിക.\" <EOS>\\n', 'ശ്രീ ഭഗവാന്\\u200d പറഞ്ഞു: ഹേ കൃഷ്ണാ, പ്രകൃതി, പുരുഷ\\u200dന്\\u200d, ക്ഷേത്രം, ക്ഷേത്രജ്ഞ\\u200dന്\\u200d, ജ്ഞാനം (അറിവ്), ജ്ഞേയം (അറിയപ്പെടേണ്ടത്) എന്നിവയെപ്പറ്റി ഞാന്\\u200d അറിയാന്\\u200d ആഗ്രഹിക്കുന്നു. <EOS>\\n', 'ഹേ കുന്തി പുത്രാ, ഏതേതു ഭാവം സ്മരിച്ചുകൊണ്ടു ഒടുവില്\\u200d ശരീരം വിടുന്നുവോ എപ്പോഴും തന്\\u200dമയഭാവമാര്\\u200dന്നു അതാതുഭാവത്തെത്തന്നെ പ്രാപിക്കുന്നു. <EOS>\\n', 'ഈശ്വര\\u200dന്\\u200d എല്ലായിടത്തും ഒരുപോലെ വ്യാപിച്ചിരിക്കുന്നതായി കാണുന്നവ\\u200dന്\\u200d തന്നെ സ്വയം നശിപ്പിക്കുന്നില്ല. അതിനാല്\\u200d അവ\\u200d\\u200dന്\\u200d മുക്തി അടയുകയും ചെയ്യുന്നു.\\u200d <EOS>\\n', 'അ\\u200dര്\\u200dജ്ജുനാ, ഈ ധര്\\u200dമ്മത്തെ വിശ്വസിക്കാത്ത പുരുഷന്മാര്\\u200d എന്നെ പ്രാപിക്കുവാന്\\u200dകഴിയാതെ മൃത്യുപൂ\\u200dര്\\u200dവ്വമായ സംസാരമാര്\\u200dഗ്ഗത്തിലേക്ക് തിരിച്ചു വരുന്നു. <EOS>\\n', 'രജോഗുണം വര്\\u200dദ്ധിച്ചിരിക്കുമ്പോള്\\u200d മരിക്കുന്നയാള്\\u200d കര്\\u200dമ്മത്തോട് ബന്ധമുള്ള ആളുകള്\\u200d വസിക്കുന്ന ലോകങ്ങളെ പ്രാപിക്കുകയും തമോഗുണം വര്\\u200dദ്ധിച്ചിരിക്കുമ്പോള്\\u200d മരിക്കുന്നയാള്\\u200d മൂഢയോനികളെ പ്രാപിക്കുകയും <EOS>\\n', 'ഭുതങ്ങ\\u200dള്\\u200d (യഥാര്\\u200dഥത്തില്\\u200d) എന്നില്\\u200d സ്ഥിതി ചെയ്യുന്നതുമില്ല. എന്റെ ദിവ്യമായ യോഗശക്തിയെ കണ്ടാലും. ഞാ\\u200dന്\\u200d സര്\\u200dവ്വ ഭൂതങ്ങളേയും ഉണ്ടാക്കുന്നവനും ധരിക്കുന്നവനുമാണെങ്കിലും ഞാ\\u200dന്\\u200d ഭൂതങ്ങളില്\\u200d സ്ഥിതി ചെയ്യുന്നില്ല. <EOS>\\n', 'സ\\u200dര്\\u200dവത്ര സഞ്ചരിക്കുന്നതും മഹത്തായുള്ളതുമായ വായു എങ്ങനെ എപ്പോഴും ആകാശത്തി\\u200d\\u200dല്\\u200dസ്ഥിതിചെയ്യുന്നുവോ അങ്ങിനെയാണ് സ\\u200dര്\\u200dവഭുതങ്ങളും എന്നി\\u200dല്\\u200d കുടികൊള്ളുന്നത്. <EOS>\\n', 'അ\\u200dര്\\u200dജ്ജുനാ! പ്രളയകാലത്തില്\\u200d സര്\\u200dവ്വഭൂതങ്ങളും എന്റെ പ്രകൃതിയിലേയ്ക്കു ചെല്ലുന്നു. സൃഷ്ടികാലത്തില്\\u200d അവയെല്ല\\u200dാം ഞാന്\\u200d വീണ്ടും സൃഷ്ടിക്കുന്നു. <EOS>\\n', 'എന്റെ പ്രകൃതിയില്\\u200d നിന്നുകൊണ്ട് അസ്വതന്ത്രമായ ഈ ജീവി വ\\u200dര്\\u200dഗ്ഗത്തെയെല്ല\\u200dാം അതാതിന്റെ പ്രകൃതിക്കൊത്തവണ്ണം വീണ്ടും വീണ്ടും ഞാ\\u200dന്\\u200d സൃഷ്ടിക്കുന്നു. അത്തരം ക\\u200dര്\\u200dമ്മങ്ങ\\u200dള്\\u200d ആ ക\\u200dര്\\u200dമ്മങ്ങള\\u200dില്\\u200d ആസക്തിയില്ലാതെ, ഉദാസീനനെപ്പോലെയിരിക്കുന്ന എന്നെ ബന്ധിക്കുന്നില്ല. <EOS>\\n', 'രജോഗുണം വര്\\u200dദ്ധിച്ചിരിക്കുമ്പോള്\\u200d മരിക്കുന്നയാള്\\u200d കര്\\u200dമ്മത്തോട് ബന്ധമുള്ള ആളുകള്\\u200d വസിക്കുന്ന ലോകങ്ങളെ പ്രാപിക്കുകയും തമോഗുണം വര്\\u200dദ്ധിച്ചിരിക്കുമ്പോള്\\u200d മരിക്കുന്നയാള്\\u200d മൂഢയോനികളെ പ്രാപിക്കുകയും <EOS>\\n', 'യാതൊരു ജ്ഞാനം ഒരു കാര്യത്തില്\\u200d (ശരീരത്തില്\\u200d) തന്നെ പൂര്\\u200dണ്ണമാണെന്നുള്ള ധാരണയില്\\u200d ആസക്തിയോടെയും, കാരണ മില്ലാതെയും, സത്യത്തെ അറിയാതെയും, അല്പമായുമിരിക്കുന്നുവോ അത് താമസികജ്ഞാനമാണ്. <EOS>\\n', 'വ്യര്\\u200dഥമായ ആശയോടും, വ്യര്\\u200dഥമായ ക\\u200dര്\\u200dമ്മത്തോടും, വ്യര്\\u200dഥമായ ജ്ഞാനത്തോടുംകൂടി മുഢന്മാ\\u200dര്\\u200d മോഹജനകവും രാക്ഷസവും ആസുരവുമായ സ്വഭാവത്തെ തന്നെ ആശ്രയിച്ചവരാണ്. <EOS>\\n', 'അ\\u200dര്\\u200dജ്ജുനാ! മഹാത്മാക്കളാവട്ടെ ദിവ്യമായ സ്വഭാവത്തെ കൈക്കൊണ്ട്, ഏകാഗ്രചിത്തരായി ഭുതങ്ങ\\u200dള്\\u200dക്കെല്ല\\u200dാം ആദ്യനും അനശ്വരന്മായ എന്നെ അറിഞ്ഞു ഭജിക്കുന്നു. <EOS>\\n', 'എന്റെ ഈ അഭിപ്രായം നിത്യവും ശ്രദ്ധയോടും അസൂയ കൂടാതെയും യാതൊരു മനുഷ്യര്\\u200d അനുഷ്ഠിക്കുന്നുവോ അവരും ക\\u200dര്\\u200dമ്മബന്ധത്തില്\\u200dനിന്നും വിമുക്തരായിത്തീരുന്നു. <EOS>\\n', 'വേറേ ചില\\u200dര്\\u200d സ\\u200dര്\\u200dവത്മാവായ എന്നെ ജ്ഞാനയജ്ഞത്താല്\\u200d ഏകഭാവത്തോടും ഭേദഭാവത്തോടും പല രീതിയി\\u200d\\u200d\\u200dല്\\u200d യജിച്ചു ഭജിക്കുന്നു. <EOS>\\n', 'ഈ തത്വത്തെ അറിയുന്നവരായ പൂര്\\u200dവ്വികരായ മുമുക്ഷുക്കള്\\u200dക്കൂടി, നിഷ്കാമ ബുദ്ധിയോടുകൂടി ക\\u200dര്\\u200dമ്മം അനുഷ്ഠിച്ചു. അതുകൊണ്ട് പൂര്\\u200dവ്വികന്മാര്\\u200d പണ്ടു ചെയ്തതുപോലെ നീയും ക\\u200dര്\\u200dമ്മം ചെയ്യുക തന്നെ വേണം. <EOS>\\n', 'ഹേ അര്\\u200dജുനാ, എന്റെ ഈ സംശയത്തെ നിഃശേഷം അങ്ങു തീര്\\u200dത്തുതരേണ്ടതാണ്. ഈ സംശയം പരിഹരിക്കാന്\\u200d അങ്ങല്ലാതെ മറ്റൊരാള്\\u200d യോഗ്യനായില്ല. <EOS>\\n', 'ഗതിയും, ഭരണക\\u200dര്\\u200dത്താവും, സ്വാമിയും, സാക്ഷിയും, നിവാസസ്ഥാനവും, ശരണ്യനും, സുഹൃത്തും, സൃഷ്ടിക\\u200dര്\\u200dത്താവും, സംഹാരക\\u200dര്\\u200dത്താവും, ആധാരവും, നിക്ഷേപവും, അവ്യയമായ ഉ\\u200cല്\\u200dപത്തികാരണവും ഞാ\\u200dന്\\u200dതന്നെ. <EOS>\\n', 'അ\\u200dര്\\u200dജ്ജുനാ! ഞാ\\u200d\\u200d\\u200dന്\\u200dചൂടുണ്ടാക്കുന്നു. ഞാന്\\u200d മഴ പെയ്യിക്കുയും, അതു തടുക്കയും ചെയ്യുന്നു. ജീവിതവും, മരണവും, സത്തും, അസത്തും ഞാ\\u200dന്\\u200dതന്നെ. <EOS>\\n', 'ഹേ അര്\\u200dജുനാ, കഴിഞ്ഞതും ഇപ്പോഴുള്ളതും ഇനിയുണ്ടാകുന്നതുമായ ജീലജാലങ്ങളെയും ഞാനറിയുന്നു. എന്നാല്\\u200d എന്നെയാകട്ടെ ഒരുത്തരും അറിയുന്നില്ല. <EOS>\\n', 'ദേഹധാരികളില്\\u200dവച്ച് ശ്രേഷ്ഠനായ അര്\\u200dജുനാ! അധിഭൂതം നശ്വരമായ ഭാവമാണ്. അധിദൈവതം പുരുഷനാണ്. ഈ ദേഹത്തിലുള്ള ഞാന്\\u200d തന്നെയാണ് അധിയജഞ\\u200dന്\\u200d. <EOS>\\n', 'വേറേ ചില\\u200dര്\\u200d സ\\u200dര്\\u200dവത്മാവായ എന്നെ ജ്ഞാനയജ്ഞത്താല്\\u200d ഏകഭാവത്തോടും ഭേദഭാവത്തോടും പല രീതിയി\\u200d\\u200d\\u200dല്\\u200d യജിച്ചു ഭജിക്കുന്നു. <EOS>\\n', 'അ\\u200dര്\\u200dജ്ജുനാ! അന്യദേവതകളെ ശ്രദ്ധയോടുകൂടി പൂജിക്കുന്ന ഭക്തന്മാ\\u200dര്\\u200d വിധിപൂ\\u200dര്\\u200dവമല്ലെങ്കിലും എന്നെത്തന്നെയാണ് പൂജിക്കുന്നത്. <EOS>\\n', 'സ\\u200dര്\\u200dവ്വയജ്ഞങ്ങളേയും അനുഭവിക്കുന്നതും അവയ്ക്ക് ഫലം നല്കുന്നതും ഞാനാണ്. എന്നെ ശരിയായി അവ\\u200dര്\\u200d അറിയുന്നില്ല. അതുകൊണ്ട് ജനനമരണത്തെ ആവ\\u200dര്\\u200dത്തിക്കുന്നു. <EOS>\\n', 'അവന്\\u200d ആ ശ്രദ്ധയോടെ ആ ദേവന്റെ ആരാധന നടത്തുന്നു. അതില്\\u200dനിന്നു ഞാന്\\u200d തന്നെ നല്കുന്ന അതാതു കാമങ്ങള്\\u200d ആര്\\u200dജിക്കുകയും ചെയ്യുന്നു. <EOS>\\n', 'പത്രം, പുഷ്പം, ഫലം, ജലം എന്നിവ ഭക്തിയോടു കൂടി എനിക്കായി നിവേദിക്കുന്ന ഏകാഗ്രചിത്തന്റെ ആ ഭക്തി പൂര്\\u200dവകമായ വഴിപാടിനെ ഞാന്\\u200d കൈക്കൊള്ളുന്നു. <EOS>\\n', 'അ\\u200dര്\\u200dജ്ജുനാ! നീ ഏതൊന്നു ചെയുന്നവോ, ഏതൊന്ന് ഭക്ഷിക്കുന്നുവോ, ഏതൊന്നു ഹോമിക്കുന്നുവോ, ഏതൊന്നു ന\\u200dല്\\u200dകുന്നുവോ, ഏതൊരു തപസ്സുചെയ്യുന്നുവോ അതൊക്കയും എന്നി\\u200dല്\\u200d സമ\\u200dര്\\u200dപ്പിച്ചാലും. <EOS>\\n', 'അ\\u200dര്\\u200dജ്ജുനാ! നീ ഏതൊന്നു ചെയുന്നവോ, ഏതൊന്ന് ഭക്ഷിക്കുന്നുവോ, ഏതൊന്നു ഹോമിക്കുന്നുവോ, ഏതൊന്നു ന\\u200dല്\\u200dകുന്നുവോ, ഏതൊരു തപസ്സുചെയ്യുന്നുവോ അതൊക്കയും എന്നി\\u200dല്\\u200d സമ\\u200dര്\\u200dപ്പിച്ചാലും. <EOS>\\n', 'ഞാന്\\u200d ഭൂതങ്ങളിലെല്ല\\u200dാം സമഭാവത്തോടുകൂടിയാണ് വ\\u200dര്\\u200dത്തിക്കുന്നത്. എനിക്കു ശത്രുവില്ല. ഇഷ്ടനുമില്ല. എന്നാ\\u200dല്\\u200d ഭക്തിയോടുകൂടി ഭജിക്കുന്നവര്\\u200d എന്നിലും ഞാന്\\u200d അവരിലുമുണ്ട്. <EOS>\\n', 'ഹേ ഭാരത, എല്ലാവരുടെയും ശ്രദ്ധ അവരവരുടെ ശ്രദ്ധയെ ആശ്രയിച്ചിരിക്കുന്നു. ഈ മനുഷ്യന്\\u200d ശ്രദ്ധാമയനാണ്. ഒരുവന്റെ ശ്രദ്ധ ഏതാണോ അവന്\\u200d ആ തരത്തിലുള്ളവനായിരിക്കും. <EOS>\\n', 'അര്\\u200dജുനന്\\u200d ചോദിച്ചു: ഹേ കൃഷ്ണാ, പിന്നെ ആര്\\u200d പ്രേരിപ്പിചിട്ടാണ് ഈ പുരുഷന്\\u200d താ\\u200dന്\\u200d ഇച്ഛിക്കാതെയിരുന്നിട്ടും ബലമായ ഏതോ ശക്തിയാല്\\u200d നിയുക്തനെന്നപോലെ പാപകര്\\u200dമ്മങ്ങ\\u200dള്\\u200d അനുഷ്ഠിക്കുന്നത്. <EOS>\\n', 'നമ്മുടെ ധര്\\u200dമ്മമൃതമായ ഈ സംവാദത്തെ പഠിക്കുന്നവനാല്\\u200d ജ്ഞാനയജ്ഞത്താല്\\u200d ഞാന്\\u200d യജിക്കപ്പെടുന്നു എന്നാണ് എന്റെ അഭിപ്രായം. <EOS>\\n', 'അങ്ങനെയിരിക്കെ പുണ്യവാന്മാരായ ബ്രഹ്മണന്മാരേയും ഭക്തന്മാരായ രാജ\\u200dര്\\u200dഷിമാരെയും കുറിച്ച് പറയേണ്ടതുണ്ടോ? അനിത്യവും സുഖഹീനവുമായ ഈ മനുഷ്യലോകത്തെ പ്രാപിച്ചിരിക്കുന്നതിനാ\\u200dല്\\u200d എന്നെ ഭജിച്ചാലും. <EOS>\\n', '\"എന്നി\\u200dല്\\u200d മനസ്സു വെച്ച്, എന്നി\\u200dല്\\u200d ഭക്തിയോടുകൂടി എന്നെ പൂജിക്കുകയും എന്നെ നമസ്കരിക്കുകയും ചെയ്യുക. ഇങ്ങനെ എന്നെത്തന്നെ വിചാരിചുകൊണ്ട് മനസ്സ് എന്നി\\u200dലുറപ്പിക്കുന്നവന്\\u200d എന്നെത്തന്നെ പ്രാപിക്കും. <EOS>\\n', 'ഓം തത്സദിതി ശ്രീമദ്ഭഗവദ്ഗീതാസൂപനിഷത്സു ബ്രഹ്മവിദ്യായ\\u200dാം യോഗശാസ്ത്രേ ശ്രീകൃഷ്ണാര്\\u200dജുനസംവാദേ രാജവിദ്യാരാജഗുഹ്യയോഗോ നാമ നവമോധ്യായഃ\" <EOS>\\n', 'അവ്യക്തബ്രഹ്മത്തി\\u200cല്\\u200d മനസ്സുറപ്പിച്ചു നി\\u200dര്\\u200dഗുണോപാസന ചെയ്യുന്നവ\\u200dര്\\u200dക്ക് വളരെയധികം ക്ലേശം ഉണ്ടാകുന്നതാണ്. എന്തുകൊണ്ടെന്നാ\\u200d\\u200dല്\\u200d ദേഹിക\\u200dള്\\u200dക്ക് അവ്യക്തബ്രഹ്മത്തെ ഉപാസിക്കുന്നത് തുലോം ദുഷ്കരമായിട്ടുള്ളതാകുന്നു. <EOS>\\n', 'ഹേ കൃഷ്ണാ, സന്യാസവും പിന്നെ കർമ്മയോഗവും അങ്ങ് ഉപദേശിക്കുന്നു. ഈ രണ്ടിൽ ഏതാണ് ശ്രേയസ്കരം എന്നത് നിശ്ചിതമായി എനിക്ക് പറഞ്ഞു തരിക.\" <EOS>\\n', 'വിശ്വരൂപനും വിശ്വേശ്വരനുമായ ഹേ ഭഗവ\\u200dന്\\u200d! ഞാ\\u200dന്\\u200d\\u200d നോക്കുന്നിടത്തൊക്കെയും അനേകം കൈകളും അനേകം ഉദരങ്ങളും അനേകം മുഖങ്ങളും അനേകം നേത്രങ്ങളുമുള്ളവനും അനന്തരൂപങ്ങളോടുകൂടിയവനുമായ അങ്ങയെ ഒരാളെ മാത്രമേ കാണുന്നുള്ളു. എന്നാ\\u200d\\u200dല്\\u200dഅവിടത്തെ അന്തമോ മദ്ധ്യമോ ആദിയോ ഞാനൊട്ടു കാണുന്നുമില്ല. <EOS>\\n', 'സാംഖ്യവും യോഗവും വെവ്വേറെയായി അജ്ഞന്മാർ പറയുന്നു. പണ്ഡിതൻമാര് അങ്ങനെ പറയുന്നില്ല. ഒന്നെങ്കിലും വേണ്ടവിധം അനുഷ്ഠിക്കുന്ന പക്ഷം രണ്ടിന്റെയും ഫലം ലഭിക്കും. <EOS>\\n', 'ഹേ ഭരതവംശശ്രേഷ്ഠാ, ക്ഷേത്രജ്ഞന്മാരുടെ സംയോഗത്തി\\u200dല്\\u200d നിന്നാണ് സ്ഥാവരജംഗമമായുമുള്ള സമസ്തവസ്തുക്കളും ഉണ്ടാകുന്നത്. <EOS>\\n', 'എന്റെ ഈ ഐശ്വര്യത്തേയും യോഗത്തേയും ശരിയായി അറിയുന്നവ\\u200dന്\\u200d നിശ്ചലമായ ഏകാഗ്രനിഷ്ഠയോടുകൂടിയവനാണ്; അതി\\u200cല്\\u200d\\u200d സംശയമില്ല. <EOS>\\n', 'ഞാനാണ് എല്ലാത്തിന്റെയും ഉത്ഭവസ്ഥാനമെന്നും സ\\u200dര്\\u200dവവും എന്നില്\\u200d നിന്നാണ് പ്രവ\\u200dര്\\u200dത്തിക്കുന്നതെന്നും അറിഞ്ഞ് പണ്ഡിതന്മാ\\u200dര്\\u200d ഏകാഗ്രഭാവത്തോടുകൂടി എന്നെ ഭജിക്കുന്നു. <EOS>\\n', 'എന്നി\\u200d\\u200dല്\\u200d മനസ്സുവയ്ക്കുകയും, എല്ലാ ഇന്ദ്രിയങ്ങളും എന്നില്\\u200d ലയിക്കുകയും ചെയ്തവ\\u200dര്\\u200d നിരന്തരം എന്നെപ്പറ്റി പരസ്പരം ബോധിപ്പിക്കുകയും ആനന്ദിക്കുകയും ചെയ്യുന്നു. <EOS>\\n', 'ഈശ്വര\\u200dന്\\u200d എല്ലായിടത്തും ഒരുപോലെ വ്യാപിച്ചിരിക്കുന്നതായി കാണുന്നവ\\u200dന്\\u200d തന്നെ സ്വയം നശിപ്പിക്കുന്നില്ല. അതിനാല്\\u200d അവ\\u200d\\u200dന്\\u200d മുക്തി അടയുകയും ചെയ്യുന്നു.\\u200d <EOS>\\n', 'അവരി\\u200d\\u200dല്\\u200d അനുകമ്പയോടുകൂടി ഞാ\\u200cന്\\u200d അവരുടെ മനസ്സിരുന്നു കൊണ്ട്, അജ്ഞാനത്തി\\u200cല്\\u200dന നിന്നുണ്ടായ അന്ധകാരത്തെ ഉജ്ജ്വലമായ ജ്ഞാനദീപം കൊണ്ട് നശിപ്പിക്കുന്നു. <EOS>\\n', 'അ\\u200dര്\\u200dജ്ജുനാ! പ്രളയകാലത്തില്\\u200d സര്\\u200dവ്വഭൂതങ്ങളും എന്റെ പ്രകൃതിയിലേയ്ക്കു ചെല്ലുന്നു. സൃഷ്ടികാലത്തില്\\u200d അവയെല്ല\\u200dാം ഞാന്\\u200d വീണ്ടും സൃഷ്ടിക്കുന്നു. <EOS>\\n', 'ഇനി എന്നില്\\u200d സ്ഥിരമായി ചിത്തം നി\\u200dര്\\u200dത്തുവാ\\u200cന്\\u200d ശക്തിയില്ലാത്ത പക്ഷം പിന്നെ അഭ്യാസയോഗത്താ\\u200c\\u200dല്\\u200d എന്നെ പ്രാപിക്കുവാ\\u200d\\u200dന്\\u200d നോക്കണം. <EOS>\\n', 'പുരുഷോത്തമനും സര്\\u200dവഭുതോ\\u200dല്പാദകനും ഭുതേശനും ദേവദേവനും ജഗ\\u200dല്\\u200dപതിയുമായ കൃഷ്ണാ! അങ്ങ് അങ്ങയെ അങ്ങയാ\\u200c\\u200dല്\\u200dതന്നെ തന്നെത്താ\\u200cന്\\u200dഅറിയുന്നു. <EOS>\\n', 'അ\\u200dര്\\u200dജ്ജുനാ! ഞാ\\u200dന്\\u200d സ\\u200dര്\\u200dവഭൂതങ്ങളുടേയും അന്തരംഗത്തി\\u200dല്\\u200d സ്ഥിതിചെയ്യുന്ന പരമാത്മാവാണ്. സ\\u200dര്\\u200dവചരാചരങ്ങളുടെയും ആദിയും മദ്ധ്യവും അന്തവും ഞാനാണ്. <EOS>\\n', 'കൃഷ്ണാ! ഞാന്\\u200d നിരന്തരം ധ്യാനിച്ചുകൊണ്ട് അങ്ങയെ എങ്ങനെയാണ് അറിയുക? ഏതേതുഭാവത്തിലാണ് അങ്ങയെ ഞാ\\u200cന്\\u200d ധ്യാനിക്കേണ്ടത്? <EOS>\\n', 'ഹേ അര്\\u200dജുനാ, എന്റെ യോനിയാകുന്ന മഹാപ്രകൃതിയില്\\u200d ഞാന്\\u200d ബീജത്തെ നിക്ഷേപിക്കുന്നു. സര്\\u200dവ്വ ജീവരാശികളുടെയും ജന്മം അതില്\\u200dനിന്നാണ്. <EOS>\\n', 'ജനിച്ചവന് മരണം നിശ്ചിതമാണ്. മരിച്ചവന് ജനനവും നിശ്ചിതമാണ്. അതുകൊണ്ട് പരിഹാരമില്ലാത്ത കാര്യത്തില്\\u200d ദുഃഖിക്കുന്നത് നിനക്ക് ഉചിതമല്ല. <EOS>\\n', 'അ\\u200dര്\\u200dജ്ജുനാ! ഞാ\\u200dന്\\u200d സ\\u200dര്\\u200dവഭൂതങ്ങളുടേയും അന്തരംഗത്തി\\u200dല്\\u200d സ്ഥിതിചെയ്യുന്ന പരമാത്മാവാണ്. സ\\u200dര്\\u200dവചരാചരങ്ങളുടെയും ആദിയും മദ്ധ്യവും അന്തവും ഞാനാണ്. <EOS>\\n', 'ആദിത്യന്മാരി\\u200d\\u200dല്\\u200d വിഷ്ണുവും, ജ്യോതിസ്സുകളി\\u200dല്\\u200d സഹസ്രകിരണനായ സൂര്യനും, വായുക്കളി\\u200c\\u200dല്\\u200d മരീചിയും, നക്ഷത്രങ്ങളില്\\u200d ചന്ദ്രനും ഞാനാണ്. <EOS>\\n', 'അ\\u200dര്\\u200dജ്ജുനാ! ഞാ\\u200dന്\\u200d സ\\u200dര്\\u200dവഭൂതങ്ങളുടേയും അന്തരംഗത്തി\\u200dല്\\u200d സ്ഥിതിചെയ്യുന്ന പരമാത്മാവാണ്. സ\\u200dര്\\u200dവചരാചരങ്ങളുടെയും ആദിയും മദ്ധ്യവും അന്തവും ഞാനാണ്. <EOS>\\n', 'ആസക്തിയുള്ളവനും, കര്\\u200dമ്മഫലത്തെ ആഗ്രഹിക്കുന്നവനും, പിശുക്കനും, അശുചിയും, ഹിംസാത്മകനും, (ജയപരാജയങ്ങളില്\\u200d) സന്തോഷിക്കുകയും ദുഃഖിക്കുകയും ചെയ്യുന്നവനുമായ കര്\\u200dത്താവ് രാജസികനെന്നു പറയപ്പെടുന്നു. <EOS>\\n', 'ഹേ അര്\\u200dജുനാ, എന്റെ യോനിയാകുന്ന മഹാപ്രകൃതിയില്\\u200d ഞാന്\\u200d ബീജത്തെ നിക്ഷേപിക്കുന്നു. സര്\\u200dവ്വ ജീവരാശികളുടെയും ജന്മം അതില്\\u200dനിന്നാണ്. <EOS>\\n', 'മഹ\\u200dര്\\u200dഷിമാരി\\u200dല്\\u200d ഭൃഗുവും, വാക്കുകളില്\\u200d ഏകാക്ഷരമായ ഓങ്കാരവും, യജ്ഞങ്ങളി\\u200d\\u200dല്\\u200d ജപയജ്ഞവും സ്ഥാവരങ്ങളില്\\u200d ഹിമാലയവും ഞാനാണ്. <EOS>\\n', 'എപ്പോള്\\u200d നിന്റെ ബുദ്ധി മോഹരൂപമായ വൈഷമ്യത്തെ കടക്കുമോ അപ്പോള്\\u200d കേള്\\u200dക്കേണ്ടതിനെയും കേട്ടതിനെയും കുറിച്ചു നീ ഉദാസീനനായിത്തീരും. <EOS>\\n', 'ആയുധങ്ങളില്\\u200d വജ്രവും, പശുക്കളില്\\u200d കാമധേനുവും, പ്രജോല്\\u200dപാദകന്മാരില്\\u200d \\u200dമന്മഥനും ഞാനാണ്. വിഷമുള്ള പാമ്പുകളി\\u200d\\u200dല്\\u200d വാസുകിയും, വിഷമില്ലാത്ത നാഗങ്ങളില്\\u200d അനന്തനും ഞാനാണ്. ജലജന്തുക്കളി\\u200d\\u200dല്\\u200d വരുണനും പിതൃക്കളില്\\u200d അര്യമാവും നിയമാധികാരികളി\\u200d\\u200dല്\\u200d യമനും ഞാനാണ്. <EOS>\\n', 'ഹേ അര്\\u200dജുനാ, എന്റെ യോനിയാകുന്ന മഹാപ്രകൃതിയില്\\u200d ഞാന്\\u200d ബീജത്തെ നിക്ഷേപിക്കുന്നു. സര്\\u200dവ്വ ജീവരാശികളുടെയും ജന്മം അതില്\\u200dനിന്നാണ്. <EOS>\\n', 'ഹേ രാജന്\\u200d\\u200d, വിഷ്ണുവിന്റെ ആ അത്ഭുതകരമായ രൂപത്തെ (വിശ്വരൂപത്തെ) ഓര്\\u200dക്കുന്തോറും എനിക്ക് പിന്നെയും പിന്നെയും മഹത്തായ വിസ്മയവും ആനന്ദവുമുണ്ടാകുന്നു. <EOS>\\n', 'ഹേ ഭാരത, സത്വം സുഖത്തോടും, രജസ്സ് കര്\\u200dമ്മത്തോടും സംഗം ജനിപ്പിക്കുന്നു, എന്നാല്\\u200d തമസ്സ് ജ്ഞാനത്തെ മറച്ച് അശ്രദ്ധയോടും സംഗം ജനിപ്പിക്കുന്നു. <EOS>\\n', 'അ\\u200dര്\\u200dജ്ജുന\\u200dന്\\u200d പറഞ്ഞു: ഹേ ഹൃഷികേശ! അങ്ങയുടെ സ്തുതിക്കുന്നതു കൊണ്ടു ഈ ലോകത്തിനു സന്തോഷവും ഭക്തിയും ഉണ്ടാകുന്നു എന്നുള്ളതു യുക്തം തന്നെ. ദുഷ്ടന്മാരായ അസുരരാക്ഷസന്മാര്\\u200d അവിടുത്തെ സ്തുതികള്\\u200d കേ\\u200dള്\\u200dക്കുന്ന മാത്രയി\\u200dല്\\u200d ഭീതരായി നാലുദിക്കുകളിലും ഓടുന്നു. ശിഷ്ടന്മാരായ ദേവന്മാരാവട്ടെ ഭക്തിപരശരായി അവിടുത്തെ നമസ്കരിക്കയും ചെയ്യുന്നു. <EOS>\\n', 'സ\\u200dര്\\u200dവത്തേയും നശിപ്പിക്കുന്നവരില്\\u200d മൃത്യുവും, ഭാവിയുടെ ഉ\\u200dല്\\u200dപാദകനും, സ്ത്രികളി\\u200cല്\\u200d കീ\\u200dര്\\u200dത്തി, ശ്രീ, സരസ്വതി, സ്മൃതി, ബുദ്ധി, ധൈര്യം, ക്ഷമ എന്നിവയും ഞാനാണ്. <EOS>\\n', 'സാമവേദത്തി\\u200dല്\\u200d ബൃഹ\\u200dല്\\u200dസാമവും, ഛന്ദസ്സുകളില്\\u200d ഗായത്രിയും ഞാനാണ്. അങ്ങനെ മാസങ്ങളി\\u200d\\u200dല്\\u200d മാര്\\u200dഗ്ഗശീര്\\u200dഷവും ഋതുക്കളില്\\u200d വസന്തവും ഞാനാണ്. <EOS>\\n', 'ഈശ്വര\\u200dന്\\u200d എല്ലായിടത്തും ഒരുപോലെ വ്യാപിച്ചിരിക്കുന്നതായി കാണുന്നവ\\u200dന്\\u200d തന്നെ സ്വയം നശിപ്പിക്കുന്നില്ല. അതിനാല്\\u200d അവ\\u200d\\u200dന്\\u200d മുക്തി അടയുകയും ചെയ്യുന്നു.\\u200d <EOS>\\n', 'വൃഷ്ണികളില്\\u200d കൃഷ്ണനും, പാണ്ഡവന്മാരില്\\u200d അര്\\u200dജുനനും, മുനികളില്\\u200d വ്യാസനും, കവികളി\\u200dല്\\u200d ശുക്രനും ഞാനാണ്. <EOS>\\n', 'ശിക്ഷകളില്\\u200d ദണ്ഡവും, ജയേച്ഛുക്കളില്\\u200d നീതിയും, രഹസ്യങ്ങളില്\\u200d മൗനവും, പാണ്ഡിത്യത്തി\\u200dല്\\u200d ജ്ഞാനവും ഞാനാണ്. <EOS>\\n', 'അ\\u200dര്\\u200dജ്ജുനാ! എന്റെ ദിവ്യങ്ങളായ ഐശ്വര്യങ്ങ\\u200dള്\\u200dക്ക് അവസാനമില്ല. എന്റെ വിഭൂതികളെക്കുറിച്ചുള്ള ഈ വിവരണം ഞാ\\u200d\\u200dന്\\u200d ചുരുക്കിപ്പറഞ്ഞിട്ടുള്ളതാണ്. <EOS>\\n', 'യജ്ഞത്തില്\\u200d ശേഷിക്കുന്നത് മാത്രം യജ്ഞം ചെയ്തു ശേഷിച്ചതായ വസ്തുക്കളെ നുഭവിക്കുന്ന സജ്ജനങ്ങള്\\u200d എല്ലാ പാപങ്ങളില്\\u200d നിന്നും മുക്തി നേടുന്നു. എന്നാ\\u200cല്\\u200dതങ്ങള്\\u200dക്കുവേണ്ടിത്തന്നെ ഭോഗസഞ്ചയം ചെയ്യുന്നവ\\u200dര്\\u200d പാപത്തെത്തന്നെ ഭുജിക്കുകയാണ്. <EOS>\\n', 'ഹേ പാര്\\u200dത്ഥ, എന്നില്\\u200d തന്നെ മനസ്സു ഉറപ്പിച്ച് മറ്റൊന്നുമോര്\\u200dക്കാതെ എപ്പോഴും യാതൊരുവന്\\u200d എന്നെ സ്മരിക്കുന്നുവോ നിത്യമുക്തനായ ആ യോഗിക്ക് ഞാന്\\u200d സുലഭനാണ്. <EOS>\\n', 'ആദിത്യന്മാരെയും വസുക്കളെയും, രുദ്രന്മാരെയും, അശ്വിനികളെയും, മരുത്തുകളെയും നീ കാണുക. മുമ്പു കണ്ടിട്ടില്ലാത്ത ബഹുപ്രകാരത്തി ലുള്ള ആശ്ചര്യങ്ങളെയും കാണുക. <EOS>\\n', 'ശാസ്ത്രവിഹിതവും, ആസക്തിയില്ലാത്തതും, രാഗദ്വേഷരഹിതവും ഫലാക\\u200dാംക്ഷയില്ലാത്ത ഒരു വ്യക്തിയാല്\\u200d ചെയ്യപ്പെട്ടതുമായ കര്\\u200dമ്മം സാത്വികമാണ്. <EOS>\\n', 'അര്\\u200dജുനന്\\u200d പറഞ്ഞു: ഹേ കൃഷ്ണാ, പ്രകൃതി, പുരുഷ\\u200dന്\\u200d, ക്ഷേത്രം, ക്ഷേത്രജ്ഞ\\u200dന്\\u200d, ജ്ഞാനം (അറിവ്), ജ്ഞേയം (അറിയപ്പെടേണ്ടത്) എന്നിവയെപ്പറ്റി ഞാന്\\u200d അറിയാന്\\u200d ആഗ്രഹിക്കുന്നു. <EOS>\\n', 'കൃഷ്ണാ! അങ്ങ് അങ്ങയെപ്പറ്റി പറഞ്ഞിട്ടുള്ളതൊക്കെയും അങ്ങനെതന്നെയുള്ളതാണ്. ഹേ പുരുഷോത്തമാ! എനിക്ക് അങ്ങയുടെ രൂപത്തെ കാണുവാന്\\u200d ആഗ്രഹമുണ്ട്. <EOS>\\n', 'അ\\u200dര്\\u200dജ്ജുനാ! പ്രളയകാലത്തില്\\u200d സര്\\u200dവ്വഭൂതങ്ങളും എന്റെ പ്രകൃതിയിലേയ്ക്കു ചെല്ലുന്നു. സൃഷ്ടികാലത്തില്\\u200d അവയെല്ല\\u200dാം ഞാന്\\u200d വീണ്ടും സൃഷ്ടിക്കുന്നു. <EOS>\\n', 'ഹേ കുന്തിസുതാ! ആദിയും നാശവും ഇല്ലാത്തതിനാല്\\u200d ഈ പരമാത്മാവ് ശരീരത്തി\\u200dല്\\u200d സ്ഥിതിചെയ്യുന്നുവെങ്കിലും യാതൊന്നും ചെയ്യുകയൊ ഒന്നിനോടും സക്തനാകുകയോ ചെയ്യുന്നില്ല. <EOS>\\n', 'ആദിത്യന്മാരെയും വസുക്കളെയും, രുദ്രന്മാരെയും, അശ്വിനികളെയും, മരുത്തുകളെയും നീ കാണുക. മുമ്പു കണ്ടിട്ടില്ലാത്ത ബഹുപ്രകാരത്തി ലുള്ള ആശ്ചര്യങ്ങളെയും കാണുക. <EOS>\\n', 'ശിക്ഷകളില്\\u200d ദണ്ഡവും, ജയേച്ഛുക്കളില്\\u200d നീതിയും, രഹസ്യങ്ങളില്\\u200d മൗനവും, പാണ്ഡിത്യത്തി\\u200dല്\\u200d ജ്ഞാനവും ഞാനാണ്. <EOS>\\n', 'എന്നാല്\\u200d നിനക്ക് സ്വന്തം കണ്ണുകൊണ്ട് എന്നെ കാണുന്നതി\\u200dന്ന് ശക്തിയില്ല. ദിവ്യചക്ഷുസ്സ് നിനക്കു ഞാ\\u200d\\u200dന്\\u200d തരുന്നു. എന്റെ മഹത്തായ ശക്തിയെ കാണുക. <EOS>\\n', '\"സഞ്ജയ\\u200dന്\\u200dപറഞ്ഞുഃ ഹേ രാജാവേ! ഇത്രയും പറഞ്ഞതി\\u200dനുശേഷം യോഗയോഗേശ്വരനായ കൃഷ്ണ\\u200dന്\\u200d തന്റെ ഐശ്വര്യപൂര്\\u200dണ്ണമായ രൂപത്തെ അ\\u200dര്\\u200dജ്ജുന\\u200d\\u200dന് കാണിച്ചു.\" <EOS>\\n', 'അനേകം മുഖങ്ങളും അനേകം കണ്ണുക\\u200c\\u200dളും, അത്ഭുതകരങ്ങളായ അനേക ദൃശ്യങ്ങ\\u200dളും കൈയിലേന്തിയ അനേകം ആയുധങ്ങ\\u200dളും അനേകം ദിവ്യാഭരണങ്ങളും ദിവ്യങ്ങളായ മാല്യങ്ങളും വസ്ത്രങ്ങളും ദിവ്യസുഗന്ധങ്ങളുമണിഞ്ഞ്, എല്ലാപ്രാകരത്തിലും ആശ്ചര്യകരവും ശോഭനവും അനന്തവുമായിരിക്കുന്ന തന്റെ വിശ്വരൂപത്തെ കാണിച്ചു. <EOS>\\n', 'ഹേ കുന്തി പുത്രാ, ഏതേതു ഭാവം സ്മരിച്ചുകൊണ്ടു ഒടുവില്\\u200d ശരീരം വിടുന്നുവോ എപ്പോഴും തന്\\u200dമയഭാവമാര്\\u200dന്നു അതാതുഭാവത്തെത്തന്നെ പ്രാപിക്കുന്നു. <EOS>\\n', 'അര്\\u200dജുനന്\\u200d പറഞ്ഞു: ഹേ കൃഷ്ണ, ശാസ്ത്രവിധി പാലിക്കാതെയാ ണെങ്കിലും ശ്രദ്ധയോടെ യജിക്കുന്നവരുടെ സ്ഥിതിയെന്താകും? അതു സാത്വികമോ, രാജസികമോ താമസികമോ ഏതാണ്? <EOS>\\n', 'ഹേ പാര്\\u200dത്ഥ, എന്നില്\\u200d തന്നെ മനസ്സു ഉറപ്പിച്ച് മറ്റൊന്നുമോര്\\u200dക്കാതെ എപ്പോഴും യാതൊരുവന്\\u200d എന്നെ സ്മരിക്കുന്നുവോ നിത്യമുക്തനായ ആ യോഗിക്ക് ഞാന്\\u200d സുലഭനാണ്. <EOS>\\n', 'ഹേ രാജന്\\u200d\\u200d, ഈ മനുഷ്യലോകത്തി\\u200dല്\\u200dനീയൊഴിച്ചു മറ്റൊരു ത്തനും എന്റെ ഈ രുപം വേദാധ്യയനത്താലോ യോഗാനുഷ്ഠാനം കൊണ്ടോ ദാനങ്ങ\\u200dള്\\u200d, ഉഗ്രതപസ്സുക\\u200dള്\\u200d, സ\\u200dല്\\u200dക്രിയക\\u200dള്\\u200d മുതലായവ കൊണ്ടോ കാണപ്പെടുവാ\\u200cന്\\u200dകഴിയുന്നതല്ല. <EOS>\\n', 'വിശ്വരൂപനും വിശ്വേശ്വരനുമായ ഹേ ഭഗവ\\u200dന്\\u200d! ഞാ\\u200dന്\\u200d\\u200d നോക്കുന്നിടത്തൊക്കെയും അനേകം കൈകളും അനേകം ഉദരങ്ങളും അനേകം മുഖങ്ങളും അനേകം നേത്രങ്ങളുമുള്ളവനും അനന്തരൂപങ്ങളോടുകൂടിയവനുമായ അങ്ങയെ ഒരാളെ മാത്രമേ കാണുന്നുള്ളു. എന്നാ\\u200d\\u200dല്\\u200dഅവിടത്തെ അന്തമോ മദ്ധ്യമോ ആദിയോ ഞാനൊട്ടു കാണുന്നുമില്ല. <EOS>\\n', 'ഇഹത്തില്\\u200d അതിന്റെ രൂപവും, ആദിയും, അന്തവും, അസ്തിത്വവും അങ്ങനെ അറിയപ്പെടുന്നില്ല. തീവ്രവൈരാഗ്യമാകുന്ന ആയുധത്താല്\\u200d വേരുറച്ച ഈ അശ്വത്ഥവൃക്ഷത്തിനെ മുറിച്ചതിനുശേഷം, യാതൊരു പരമപദത്തെ പ്രാപിച്ചാല്\\u200d പിന്നീട് തിരിച്ചുവരവില്ലയോ, അതിനെ തേടേണ്ടതാണ്. അതിനായി അനാദിയായ ഈ സംസാരത്തിന് ഉറവിടമായ ആദിപുരുഷനെ ഞാന്\\u200d ശരണം പ്രാപിക്കുന്നു. <EOS>\\n', 'അങ്ങ് നാശമില്ലാത്തവനും, അറിയേണ്ടവനും, ഉ\\u200dല്\\u200dകൃഷ്ടനും, ഈ ലോകത്തിന്റെ പരമമായ ആശ്രയവുമാകുന്നു. അങ്ങ് നാശരഹിതനും സനാതനധര്\\u200dമ്മത്തിന്റെ സംരക്ഷകനും പുരാണപുരുഷനും ആണെന്നാണ് ഞാ\\u200d\\u200dന്\\u200d വിചാരിക്കുന്നത്. <EOS>\\n', 'ഞാന്\\u200d അമൃതവും (അനശ്വരവും) അവ്യയവുമായ (മാറ്റമില്ലാത്തതുമായ) ബ്രഹ്മത്തിന്റെയും, ശാശ്വതമായ ധര്\\u200dമ്മ ത്തിന്റെയും, പരമമായ സുഖത്തിന്റെയും പ്രതിഷ്ഠയുമാകുന്നു (ആശ്രയവുമാകുന്നു). <EOS>\\n', 'ഹേ മഹാത്മാവേ! ഭുമിയ്ക്കും ധ്യുലോകത്തിനുമിടയിലുള്ള ഈ ആകാശവും, എല്ലാ ദിക്കുകളും വ്യാപിച്ച് വിളങ്ങുന്ന അവിടുത്തെ അത്യുഗ്രമായ ഈ രൂപം കണ്ട് മൂന്നുലോകവും നടുങ്ങിപ്പോകുന്നു. <EOS>\\n', 'അര്\\u200dജുനന്\\u200d പറഞ്ഞു: ഹേ കൃഷ്ണാ, പ്രകൃതി, പുരുഷ\\u200dന്\\u200d, ക്ഷേത്രം, ക്ഷേത്രജ്ഞ\\u200dന്\\u200d, ജ്ഞാനം (അറിവ്), ജ്ഞേയം (അറിയപ്പെടേണ്ടത്) എന്നിവയെപ്പറ്റി ഞാന്\\u200d അറിയാന്\\u200d ആഗ്രഹിക്കുന്നു. <EOS>\\n', 'ഹേ അര്\\u200dജുനാ, കഴിഞ്ഞതും ഇപ്പോഴുള്ളതും ഇനിയുണ്ടാകുന്നതുമായ ജീലജാലങ്ങളെയും ഞാനറിയുന്നു. എന്നാല്\\u200d എന്നെയാകട്ടെ ഒരുത്തരും അറിയുന്നില്ല. <EOS>\\n', 'അങ്ങിനെ മറ്റു ചിലര്\\u200d പ്രാണായാമ തല്\\u200dപരരായി ദേഹത്തിലുള്ള വായുവിന്റെ ഉര്\\u200dധ്വമുഖവും അധോമുഖവുമായ ചലനത്തെ തടഞ്ഞിട്ട് അപാനനില്\\u200d പ്രാണനെയും പ്രാണനില്\\u200d അപാനനെയും ഹോമിക്കുന്നു. <EOS>\\n', 'ഡംഭവും മാനവുമുള്ള ഇവര്\\u200d തൃപ്തിപ്പെടുത്തുവാന്\\u200d വിഷമമായ കാമത്തിന് അധീനരായി മോഹവശാല്\\u200d ദുരാഗ്രഹങ്ങളെ നിറവേറ്റുവാന്\\u200d അശുദ്ധവ്രതരായി പ്രവര്ത്തിക്കുന്നു. <EOS>\\n', 'ഹേ ഭാരത, എല്ലാവരുടെയും ശ്രദ്ധ അവരവരുടെ ശ്രദ്ധയെ ആശ്രയിച്ചിരിക്കുന്നു. ഈ മനുഷ്യന്\\u200d ശ്രദ്ധാമയനാണ്. ഒരുവന്റെ ശ്രദ്ധ ഏതാണോ അവന്\\u200d ആ തരത്തിലുള്ളവനായിരിക്കും. <EOS>\\n', 'ഈ ധൃതരാഷ്ടപുത്രന്മാരായ നൂറുപേരും, ഭീഷ്മ\\u200dര്\\u200d, ദ്രോണ\\u200dര്\\u200d, ക\\u200d\\u200dര്\\u200dണ്ണ\\u200dന്\\u200d മുതലായ മഹാരഥന്മാരും, മറ്റുള്ള രാജാക്കന്മാരും ഞങ്ങളുടെ ഭാഗത്തുള്ള യോദ്ധാക്കളും ദംഷ്ട്രകളാ\\u200cല്\\u200d ഭയങ്കരമായിരിക്കുന്ന ഭവാന്റെ വ്യക്ത്രങ്ങളി\\u200d\\u200dല്\\u200d ദ്രുതഗതിയില്\\u200d പ്രവേശിക്കുന്നു. ചില\\u200dര്\\u200d തക\\u200dര്\\u200dന്നു പൊടിഞ്ഞ തലകളോടുകുടി ദംഷ്ട്രക\\u200dള്\\u200dക്കിടയില്\\u200d കുടുങ്ങിക്കിടക്കുന്ന തായിക്കാണുന്നു. <EOS>\\n', 'എപ്രകാരം നദികളുടെ നാനാപ്രവാഹങ്ങള്\\u200d സമുദ്രത്തെ ലക്ഷ്യമാക്കി ഒഴുകിച്ചെല്ലുന്നുവോ അപ്രകാരം ഈ വീരന്മാര്\\u200d അങ്ങയുടെ ജ്വലിക്കുന്ന മുഖങ്ങളില്\\u200d പ്രവേശിക്കുന്നു. <EOS>\\n', 'പ്രകൃതിജന്യമായ ഗുണങ്ങളാല്\\u200d ക\\u200dര്\\u200dമ്മങ്ങള്\\u200d എങ്ങും ചെയ്യപ്പെടുന്നു. അഹന്തയാല്\\u200d മോഹിതനായവാന്\\u200d താനാണ് കര്\\u200dത്താവെന്നു വിചാരിക്കുന്നു. <EOS>\\n', 'യാതൊന്നിനെ സൂര്യചന്ദ്രന്മാരോ അഗ്നിയോ പ്രകാശി പ്പിക്കുന്നില്ലയോ, യാതൊന്നിനെ പ്രാപിച്ചാല്\\u200d തിരിച്ചുവരവില്ലയോ അതാണ് എന്റെ പരമമായ പദം (സ്ഥാനം). <EOS>\\n', 'ഋഷീശ്വരന്മാരാ\\u200d\\u200dല്\\u200d പല ഛന്ദസ്സുക\\u200cള്\\u200dകൊണ്ടും ബ്രഹ്മസൂത്രപദങ്ങ\\u200dള്\\u200d കൊണ്ടും യുക്തിയുക്തമായും സുനിശ്ചിതമായും ഇതു പല വിധത്തിലും വ\\u200dര്\\u200dണ്ണിക്കപ്പെട്ടിരിക്കുന്നു. <EOS>\\n', 'അ\\u200dര്\\u200dജ്ജുനാ! ഞാ\\u200d\\u200d\\u200dന്\\u200dചൂടുണ്ടാക്കുന്നു. ഞാന്\\u200d മഴ പെയ്യിക്കുയും, അതു തടുക്കയും ചെയ്യുന്നു. ജീവിതവും, മരണവും, സത്തും, അസത്തും ഞാ\\u200dന്\\u200dതന്നെ. <EOS>\\n', 'സ\\u200dര്\\u200dവത്തേയും നശിപ്പിക്കുന്നവരില്\\u200d മൃത്യുവും, ഭാവിയുടെ ഉ\\u200dല്\\u200dപാദകനും, സ്ത്രികളി\\u200cല്\\u200d കീ\\u200dര്\\u200dത്തി, ശ്രീ, സരസ്വതി, സ്മൃതി, ബുദ്ധി, ധൈര്യം, ക്ഷമ എന്നിവയും ഞാനാണ്. <EOS>\\n', 'ഹേ രാജാവേ, വില്ലാളി വീരനായ കാശി രാജാവും, മഹാരഥനായ ശിഖണ്ഡിയും, ധൃഷ്ടദ്യുമ്നനും, വിരാടനും, തോല്\\u200dക്കാത്ത സാത്യകിയും, പാഞ്ചാലനും, പാഞ്ചാലീപുത്രന്മാരും, കയ്യൂക്കുള്ള അഭിമന്യുവും അവിടവിടെ നിന്നു പ്രത്യേകം പ്രത്യേകം ശംഖും മുഴക്കി. <EOS>\\n', 'സഞ്ജയ\\u200dന്\\u200dപറഞ്ഞു: ശ്രീകൃഷ്ണന്റെ ഈ വാക്കുകള്\\u200d കേട്ടിട്ട് അ\\u200dര്\\u200dജ്ജുന\\u200dന്\\u200d വിറച്ചുകൊണ്ട് ഭയത്തോടുകൂടി വീണ്ടും കൈകൂപ്പിത്തൊഴുതു പിന്നെയും പറഞ്ഞു: <EOS>\\n', 'അ\\u200dര്\\u200dജ്ജുന\\u200dന്\\u200d പറഞ്ഞു: ഹേ ഹൃഷികേശ! അങ്ങയുടെ സ്തുതിക്കുന്നതു കൊണ്ടു ഈ ലോകത്തിനു സന്തോഷവും ഭക്തിയും ഉണ്ടാകുന്നു എന്നുള്ളതു യുക്തം തന്നെ. ദുഷ്ടന്മാരായ അസുരരാക്ഷസന്മാര്\\u200d അവിടുത്തെ സ്തുതികള്\\u200d കേ\\u200dള്\\u200dക്കുന്ന മാത്രയി\\u200dല്\\u200d ഭീതരായി നാലുദിക്കുകളിലും ഓടുന്നു. ശിഷ്ടന്മാരായ ദേവന്മാരാവട്ടെ ഭക്തിപരശരായി അവിടുത്തെ നമസ്കരിക്കയും ചെയ്യുന്നു. <EOS>\\n', 'ഭയമില്ലായ്മ, ഹൃദയശുദ്ധി, ജ്ഞാനത്തിലും യോഗത്തിലുമുള്ള നിഷ്ഠ, ദാനം, ഇന്ദ്രിയസംയമനം, യജ്ഞം, ശാസ്ത്രപാരായണം, തപസ്സ്, ആര്\\u200dജ്ജവം, അഹിംസാ, സത്യം, ക്രോധമില്ലായ്മ, ത്യാഗം, ശാന്തി, പരദൂഷണം ചെയ്യാതിരിക്കുക, ഭൂതദയാ, ആഗ്രഹമില്ലായ്മ, സൗമ്യത, ലജ്ജ, ചാപല്യമില്ലായ്മ, തേജസ്സ്, ക്ഷമാ, ശുചിത്വം, ദ്രോഹിക്കാതിരിക്കല്\\u200d, അഹങ്കാരമില്ലായ്മ എന്നിവ ദൈവീസമ്പത്തോടെ ജനിച്ചവനുണ്ടാകുന്ന ഗുണങ്ങളാണ്. <EOS>\\n', 'ഹേ രാജാവേ, വില്ലാളി വീരനായ കാശി രാജാവും, മഹാരഥനായ ശിഖണ്ഡിയും, ധൃഷ്ടദ്യുമ്നനും, വിരാടനും, തോല്\\u200dക്കാത്ത സാത്യകിയും, പാഞ്ചാലനും, പാഞ്ചാലീപുത്രന്മാരും, കയ്യൂക്കുള്ള അഭിമന്യുവും അവിടവിടെ നിന്നു പ്രത്യേകം പ്രത്യേകം ശംഖും മുഴക്കി. <EOS>\\n', 'ഹേ പാര്\\u200dത്ഥ, ഈ മനുഷ്യലോകത്തി\\u200dല്\\u200dനീയൊഴിച്ചു മറ്റൊരു ത്തനും എന്റെ ഈ രുപം വേദാധ്യയനത്താലോ യോഗാനുഷ്ഠാനം കൊണ്ടോ ദാനങ്ങ\\u200dള്\\u200d, ഉഗ്രതപസ്സുക\\u200dള്\\u200d, സ\\u200dല്\\u200dക്രിയക\\u200dള്\\u200d മുതലായവ കൊണ്ടോ കാണപ്പെടുവാ\\u200cന്\\u200dകഴിയുന്നതല്ല. <EOS>\\n', 'ഹേ സ\\u200dര്\\u200dവാത്മ\\u200dന്\\u200d, അങ്ങനെ മുന്നിലും പിന്നിലും നിന്ന് ഞാ\\u200cന്\\u200d നമസ്\\u200dകരിക്കുന്നു. എല്ലാഭാഗത്തും അങ്ങേയ്ക്കു നമസ്\\u200dകാരം. അളവറ്റ വീരവും അതിരറ്റ പരാക്രമവും ഉള്ളവനായ അങ്ങ് ലോകം മുഴുവ\\u200dന്\\u200d വ്യാപിച്ചവനായിരിക്കുന്നു. അതിനാല്\\u200d എല്ല\\u200dാം അങ്ങ് തന്നെയാകുന്നു. <EOS>\\n', 'ഇതറിയാത്തവരായരാവട്ടെ അന്യന്മാ\\u200cര്\\u200d പറഞ്ഞുകേട്ടതനുസരിച്ച് ഉപാസിക്കുന്നു. ശ്രദ്ധിച്ചു കേട്ടു കാര്യം മനസ്സിലാക്കുവാ\\u200dന്\\u200d താല്പര്യമുള്ളവരായ അവരും മരണത്തെ തരണം ചെയ്യുന്നതാണ്. <EOS>\\n', 'എന്റെ ഈ ഐശ്വര്യത്തേയും യോഗത്തേയും ശരിയായി അറിയുന്നവ\\u200dന്\\u200d നിശ്ചലമായ ഏകാഗ്രനിഷ്ഠയോടുകൂടിയവനാണ്; അതി\\u200cല്\\u200d\\u200d സംശയമില്ല. <EOS>\\n', 'അതുല്യശക്തിയുള്ള ഹേ ഭഗവ\\u200dന്\\u200d\\u200d! അങ്ങ് ചരാചരാത്മകമായ ഈ ജഗത്തിന്റെ പിതാവാകുന്നു. അങ്ങ് ഈ ജഗത്തിനു പുജ്യനും ശ്രേഷ്ഠനായ ഗുരുവുമാകുന്നു. മൂന്നു ലോകങ്ങളിലും അങ്ങയ്ക്കു തുല്യനായിട്ടൊരാളുമില്ല. അപ്പോള്\\u200d അതുലിതശക്തിയുള്ള അങ്ങയെ വെല്ലാന്\\u200d ആരാണുള്ളത്? <EOS>\\n', 'ഹേ ദേവ! അതിനാ\\u200dല്\\u200d ഞാന്\\u200d നിന്തിരുവടിയെ വണങ്ങി സ്തുത്യനും ലോകനാഥനും ആയ അങ്ങയോട് എന്നില്\\u200d പ്രസാദിക്കണേ എന്ന് അപേക്ഷിക്കുന്നു. പിതാവ് പുത്രന്റെയും, സ്നേഹിത\\u200dന്\\u200d സുഹൃത്തിന്റെയും, ഭ\\u200dര്\\u200dത്താവ് ഭാര്യയുടെയും അപരാധങ്ങളും ക്ഷമിക്കുമ്പോലെ അങ്ങ് എന്റെ അപരാധത്തെയും ക്ഷമിക്കണം. <EOS>\\n', 'ലോകവ്യാപിയായ ദേവേശ! മുമ്പു കാണാത്തതു കണ്ടിട്ട് ഞാ\\u200d\\u200d\\u200dന്\\u200d സന്തോഷിക്കുന്നു; എങ്കിലും ഭയത്താല്\\u200d എന്റെ ഹൃദയം വിഹ്വലമായിത്തീരുന്നു. അങ്ങയുടെ ആ (ശ്രീകൃഷ്ണാകൃതിയിലുള്ള) രൂപം തന്നെ എനിക്കു കാണിച്ചു തരിക. ദേവ! പ്രസാദിക്കേണമേ! <EOS>\\n', 'ഹേ അര്\\u200dജുനാ, എന്റെ യോനിയാകുന്ന മഹാപ്രകൃതിയില്\\u200d ഞാന്\\u200d ബീജത്തെ നിക്ഷേപിക്കുന്നു. സര്\\u200dവ്വ ജീവരാശികളുടെയും ജന്മം അതില്\\u200dനിന്നാണ്. <EOS>\\n', 'ഹേ പാര്\\u200dത്ഥ! നിരന്തരമായ അഭ്യാസം കൊണ്ടു യോഗയുക്തവും മറ്റൊന്നിലേക്ക് പോവാത്തതുമായ മനസ്സോടുകൂടി ധ്യാനിക്കുന്നവന്\\u200d ആ ദിവ്യനായ പരമപുരുഷനെ പ്രാപിക്കുന്നു. <EOS>\\n', 'ഹേ കൗരവശ്രേഷ്ഠ! ഈ മനുഷ്യലോകത്തി\\u200dല്\\u200dനീയൊഴിച്ചു മറ്റൊരു ത്തനും എന്റെ ഈ രുപം വേദാധ്യയനത്താലോ യോഗാനുഷ്ഠാനം കൊണ്ടോ ദാനങ്ങ\\u200dള്\\u200d, ഉഗ്രതപസ്സുക\\u200dള്\\u200d, സ\\u200dല്\\u200dക്രിയക\\u200dള്\\u200d മുതലായവ കൊണ്ടോ കാണപ്പെടുവാ\\u200cന്\\u200dകഴിയുന്നതല്ല. <EOS>\\n', 'ആദിത്യന്മാരെയും വസുക്കളെയും, രുദ്രന്മാരെയും, അശ്വിനികളെയും, മരുത്തുകളെയും നീ കാണുക. മുമ്പു കണ്ടിട്ടില്ലാത്ത ബഹുപ്രകാരത്തി ലുള്ള ആശ്ചര്യങ്ങളെയും കാണുക. <EOS>\\n', 'ഹേ കൗരവശ്രേഷ്ഠ! ഈ മനുഷ്യലോകത്തി\\u200dല്\\u200dനീയൊഴിച്ചു മറ്റൊരു ത്തനും എന്റെ ഈ രുപം വേദാധ്യയനത്താലോ യോഗാനുഷ്ഠാനം കൊണ്ടോ ദാനങ്ങ\\u200dള്\\u200d, ഉഗ്രതപസ്സുക\\u200dള്\\u200d, സ\\u200dല്\\u200dക്രിയക\\u200dള്\\u200d മുതലായവ കൊണ്ടോ കാണപ്പെടുവാ\\u200cന്\\u200dകഴിയുന്നതല്ല. <EOS>\\n', 'ഹേ പാര്\\u200dത്ഥ, എന്നില്\\u200d തന്നെ മനസ്സു ഉറപ്പിച്ച് മറ്റൊന്നുമോര്\\u200dക്കാതെ എപ്പോഴും യാതൊരുവന്\\u200d എന്നെ സ്മരിക്കുന്നുവോ നിത്യമുക്തനായ ആ യോഗിക്ക് ഞാന്\\u200d സുലഭനാണ്. <EOS>\\n', 'അര്\\u200dജുനന്\\u200d പറഞ്ഞു: ഹേ കൃഷ്ണാ, സന്യാസവും പിന്നെ കർമ്മയോഗവും അങ്ങ് ഉപദേശിക്കുന്നു. ഈ രണ്ടിൽ ഏതാണ് ശ്രേയസ്കരം എന്നത് നിശ്ചിതമായി എനിക്ക് മൂന്നു ഗുണങ്ങളെ അതിവര്\\u200dത്തിച്ചവന്\\u200d (ത്രിഗുണാതീതന്\\u200d) ആകുന്നു. <EOS>\\n', 'ഏതാദൃശനായ എന്നെ നീ കണ്ടവിധത്തി\\u200dല്\\u200d കാണുന്നതിനു വേദങ്ങളാലോ തപസ്സിനാലോ ദാനത്തിനാലോ യോഗത്തിനാലോ ഒന്നും സാധിക്കുന്നതല്ല. <EOS>\\n', 'ഹേ അര്\\u200dജുനാ, എന്റെ യോനിയാകുന്ന മഹാപ്രകൃതിയില്\\u200d ഞാന്\\u200d ബീജത്തെ നിക്ഷേപിക്കുന്നു. സര്\\u200dവ്വ ജീവരാശികളുടെയും ജന്മം അതില്\\u200dനിന്നാണ്. <EOS>\\n', '\"ഹേ പാണ്ഡുപുത്ര! യാതൊരുത്ത\\u200dന്\\u200d എന്നെ ഉദ്ദേശിച്ചു ക\\u200dര്\\u200dമ്മം ചെയ്യുന്നവനും, എന്നെ പ്രാപ്യസ്ഥാനമായി വിചാരിക്കുന്നവനും, എന്നി\\u200d\\u200dല്\\u200d ഭക്തിയുള്ളവനും, സംഗം വിട്ടവനും, സ\\u200cര്\\u200dവജീവികളിലും വൈരമില്ലാത്തവനും ആയിരിക്കുന്നുവോ അവ\\u200dന്\\u200d എന്നെ പ്രാപിക്കുന്നു. <EOS>\\n', 'ഓം തത്സദിതി ശ്രീമദ്ഭഗവദ്ഗീതാസൂപനിഷത്സു ബ്രഹ്മവിദ്യായ\\u200dാം യോഗശാസ്ത്രേ ശ്രീകൃഷ്ണാര്\\u200dജുനസംവാദേ വിശ്വരൂപദര്\\u200dശനയോഗോ നാമൈകാദശോധ്യായഃ\" <EOS>\\n', 'അ\\u200dര്\\u200dജ്ജുനാ! നീ ഏതൊന്നു ചെയുന്നവോ, ഏതൊന്ന് ഭക്ഷിക്കുന്നുവോ, ഏതൊന്നു ഹോമിക്കുന്നുവോ, ഏതൊന്നു ന\\u200dല്\\u200dകുന്നുവോ, ഏതൊരു തപസ്സുചെയ്യുന്നുവോ അതൊക്കയും എന്നി\\u200dല്\\u200d സമ\\u200dര്\\u200dപ്പിച്ചാലും. <EOS>\\n', 'ശ്രീ ഭഗവാന്\\u200d പറഞ്ഞു: ആരാണോ സത്വഗുണകാര്യമായ പ്രകാശത്തിനെയും, രജോഗുണകാര്യമായ പ്രവൃത്തിയെയും, തമോഗുണകാര്യമായ മോഹത്തെയും അവ പ്രവര്\\u200dത്തിച്ചു കൊണ്ടിരിക്കുമ്പോള്\\u200d ദ്വേഷിക്കാതിരിക്കുകയും, അവയുടെ അഭാവത്തില്\\u200d അവയെ ക\\u200dാംക്ഷിക്കാതിരിക്കുകയും ചെയ്യുന്നത്, ആരാണോ ഉദാസീനനായിരിക്കുകയും, ഗുണങ്ങളാല്\\u200d ചലിക്ക പ്പെടാതിരിക്കുകയും, ഗുണങ്ങള്\\u200d സ്വയം പ്രവര്\\u200dത്തിക്കുന്നുവെന്നറിഞ്ഞ് ഇളകാതിരിക്കുകയും ചെയ്യുന്നത്, ആരാണോ സുഖദുഃഖങ്ങളെയും, സ്വര്\\u200dണ്ണത്തിനെയും മണ്\\u200dകട്ടയെയും, പ്രിയത്തെയും അപ്രിയത്തെയും, സ്തുതിയെയും നിന്ദയെയും ഒരു പോലെ കാണുകയും ചെയ്യുന്നത്, ആരാണോ മാനാപമാനങ്ങ\\u200dള്\\u200d ശത്രുമിത്രങ്ങള്\\u200d എന്നിവയെ തുല്യമായി കാണുകയും, എല്ലാ പ്രവൃത്തികളെയും ഉപേക്ഷിക്കുകയും ചെയ്യുന്നത് അയാള്\\u200d മൂന്നു ഗുണങ്ങളെ അതിവര്\\u200dത്തിച്ചവന്\\u200d (ത്രിഗുണാതീതന്\\u200d) ആകുന്നു. <EOS>\\n', 'ഹേ കൗരവശ്രേഷ്ഠ! ഈ മനുഷ്യലോകത്തി\\u200dല്\\u200dനീയൊഴിച്ചു മറ്റൊരു ത്തനും എന്റെ ഈ രുപം വേദാധ്യയനത്താലോ യോഗാനുഷ്ഠാനം കൊണ്ടോ ദാനങ്ങ\\u200dള്\\u200d, ഉഗ്രതപസ്സുക\\u200dള്\\u200d, സ\\u200dല്\\u200dക്രിയക\\u200dള്\\u200d മുതലായവ കൊണ്ടോ കാണപ്പെടുവാ\\u200cന്\\u200dകഴിയുന്നതല്ല. <EOS>\\n', 'അവ്യക്തബ്രഹ്മത്തി\\u200cല്\\u200d മനസ്സുറപ്പിച്ചു നി\\u200dര്\\u200dഗുണോപാസന ചെയ്യുന്നവ\\u200dര്\\u200dക്ക് വളരെയധികം ക്ലേശം ഉണ്ടാകുന്നതാണ്. എന്തുകൊണ്ടെന്നാ\\u200d\\u200dല്\\u200d ദേഹിക\\u200dള്\\u200dക്ക് അവ്യക്തബ്രഹ്മത്തെ ഉപാസിക്കുന്നത് തുലോം ദുഷ്കരമായിട്ടുള്ളതാകുന്നു. <EOS>\\n', '\"ഹേ പാണ്ഡുപുത്ര! യാതൊരുത്ത\\u200dന്\\u200d എന്നെ ഉദ്ദേശിച്ചു ക\\u200dര്\\u200dമ്മം ചെയ്യുന്നവനും, എന്നെ പ്രാപ്യസ്ഥാനമായി വിചാരിക്കുന്നവനും, എന്നി\\u200d\\u200dല്\\u200d ഭക്തിയുള്ളവനും, സംഗം വിട്ടവനും, സ\\u200cര്\\u200dവജീവികളിലും വൈരമില്ലാത്തവനും ആയിരിക്കുന്നുവോ അവ\\u200dന്\\u200d എന്നെ പ്രാപിക്കുന്നു. <EOS>\\n', 'മനസ്സിനെ എന്നി\\u200dല്\\u200dതന്നെ നിലനി\\u200dര്\\u200dത്തുക; സ്ഥിരമായി എന്നി\\u200cല്\\u200dതന്നെ ബുദ്ധിയെ ചെലുത്തുക; അങ്ങനെ ചെയ്താല്\\u200d നീ എന്നില്\\u200d തന്നെ നിവസിക്കും, സംശയമില്ല. <EOS>\\n', 'ഇനി എന്നില്\\u200d സ്ഥിരമായി ചിത്തം നി\\u200dര്\\u200dത്തുവാ\\u200cന്\\u200d ശക്തിയില്ലാത്ത പക്ഷം പിന്നെ അഭ്യാസയോഗത്താ\\u200c\\u200dല്\\u200d എന്നെ പ്രാപിക്കുവാ\\u200d\\u200dന്\\u200d നോക്കണം. <EOS>\\n', 'അഭ്യാസത്തിലും നീ അശക്തനാണെങ്കി\\u200dല്\\u200d എന്നെ ഉദ്ദേശിച്ചു ക\\u200dര്\\u200dമ്മം ചെയ്യുക. എന്നെയുദ്ദേശിച്ചു ക\\u200dര്\\u200dമ്മം ചെയ്\\u200dതാലും നിനക്കു സിദ്ധിയെ പ്രാപിക്കാവുന്നതാണ്. <EOS>\\n', 'ഹേ കുന്തിസുതാ! ആദിയും നാശവും ഇല്ലാത്തതിനാല്\\u200d ഈ പരമാത്മാവ് ശരീരത്തി\\u200dല്\\u200d സ്ഥിതിചെയ്യുന്നുവെങ്കിലും യാതൊന്നും ചെയ്യുകയൊ ഒന്നിനോടും സക്തനാകുകയോ ചെയ്യുന്നില്ല. <EOS>\\n', 'ഹേ കൃഷ്ണാ, എന്റെ ഈ സംശയത്തെ നിഃശേഷം അങ്ങു തീര്\\u200dത്തുതരേണ്ടതാണ്. ഈ സംശയം പരിഹരിക്കാന്\\u200d അങ്ങല്ലാതെ മറ്റൊരാള്\\u200d യോഗ്യനായില്ല. <EOS>\\n', 'മോഹത്തോടെ ആരംഭിക്കപ്പെട്ടതും, കര്\\u200dമ്മത്തിന്റെ ഫലമോ, അതുകൊണ്ടുള്ള നഷ്ടമോ, അപകടമോ, സ്വന്തം കഴിവോ കണക്കിലെടുക്കാതെ ചെയ്യപ്പെടുന്നതുമായ കര്\\u200dമ്മം താമസികമാണ്. <EOS>\\n', 'ഹേ മധുസൂദനാ, അധിയജ്ഞന്\\u200d ആര്? എങ്ങിനെയിരിക്കുന്നു? ഇവിടെ ഈ ദേഹത്തിലുണ്ടോ? മരണകാലത്ത് നിയന്ത്രിതചിത്ത ന്മാരാല്\\u200d എങ്ങിനെയാണ് അങ്ങ് അറിയപ്പെടുന്നത്? <EOS>\\n', 'അ\\u200dര്\\u200dജ്ജുനാ! നീ ഏതൊന്നു ചെയുന്നവോ, ഏതൊന്ന് ഭക്ഷിക്കുന്നുവോ, ഏതൊന്നു ഹോമിക്കുന്നുവോ, ഏതൊന്നു ന\\u200dല്\\u200dകുന്നുവോ, ഏതൊരു തപസ്സുചെയ്യുന്നുവോ അതൊക്കയും എന്നി\\u200dല്\\u200d സമ\\u200dര്\\u200dപ്പിച്ചാലും. <EOS>\\n', 'ഹേ അര്\\u200dജുനാ, കഴിഞ്ഞതും ഇപ്പോഴുള്ളതും ഇനിയുണ്ടാകുന്നതുമായ ജീലജാലങ്ങളെയും ഞാനറിയുന്നു. എന്നാല്\\u200d എന്നെയാകട്ടെ ഒരുത്തരും അറിയുന്നില്ല. <EOS>\\n', 'മോക്ഷാര്\\u200dഥികള്\\u200d തത് (അത്) എന്നുച്ചരിച്ച് ഫലാക\\u200dാംക്ഷയില്ലാതെ യജ്ഞം, ദാനം, തപസ്സ് എന്നീ ക്രിയകള്\\u200d നടത്തുന്നു. <EOS>\\n', 'ഫലാക\\u200dാംക്ഷയില്ലാതെ, ശാസ്ത്രവിധിപ്രകാരം യജ്ഞം ചെയ്യപ്പെടേണ്ട താണ് എന്ന ഭാവത്തോടെ മനസ്സിനെ യജ്ഞത്തില്\\u200d സമാഹിതമാക്കി യജിക്കപ്പെടുന്ന ആ യജ്ഞം സാത്വികമാണ്. <EOS>\\n', 'അര്\\u200dജുന\\u200dന്\\u200d പറഞ്ഞു: ഹേ കൃഷ്ണാ, പ്രകൃതി, പുരുഷ\\u200dന്\\u200d, ക്ഷേത്രം, ക്ഷേത്രജ്ഞ\\u200dന്\\u200d, ജ്ഞാനം (അറിവ്), ജ്ഞേയം (അറിയപ്പെടേണ്ടത്) എന്നിവയെപ്പറ്റി ഞാന്\\u200d അറിയാന്\\u200d ആഗ്രഹിക്കുന്നു. <EOS>\\n', 'അ\\u200dര്\\u200dജ്ജുനാ! നീ അശക്തനാണെങ്കി\\u200dല്\\u200d എന്നെ ഉദ്ദേശിച്ചു ക\\u200dര്\\u200dമ്മം ചെയ്യുക. എന്നെയുദ്ദേശിച്ചു ഈ ജഗത്തിനു പുജ്യനും ശ്രേഷ്ഠനായ ഗുരുവുമാകുന്നു. മൂന്നു ലോകങ്ങളിലും അങ്ങയ്ക്കു തുല്യനായിട്ടൊരാളുമില്ല. അപ്പോള്\\u200d അതുലിതശക്തിയുള്ള അങ്ങയെ വെല്ലാന്\\u200d ആരാണുള്ളത്? <EOS>\\n', 'ഹേ പാ\\u200dര്\\u200dത്ഥാ, എല്ലാ ക്ഷേത്ര (ശരീര) ങ്ങളിലും ഞാനാണ് ക്ഷേത്രജ്ഞനെന്നു നീ അറിയുക. ക്ഷേത്രക്ഷേത്രജ്ഞന്മാരെ (ദേഹത്മാക്ക\\u200dളെ) ക്കുറിച്ചുള്ള അറിവത്രേ ജ്ഞാനമാകുന്നത്. <EOS>\\n', 'ഓം തത്സദിതി ശ്രീമദ്ഭഗവദ്ഗീതാസൂപനിഷത്സു ബ്രഹ്മവിദ്യായ\\u200dാം യോഗശാസ്ത്രേ ശ്രീകൃഷ്ണാര്\\u200dജുനസംവാദേ വിശ്വരൂപദര്\\u200dശനയോഗോ നാമൈകാദശോധ്യായഃ\" <EOS>\\n', 'ഋഷീശ്വരന്മാരാ\\u200d\\u200dല്\\u200d പല ഛന്ദസ്സുക\\u200cള്\\u200dകൊണ്ടും ബ്രഹ്മസൂത്രപദങ്ങ\\u200dള്\\u200d കൊണ്ടും യുക്തിയുക്തമായും സുനിശ്ചിതമായും ഇതു പല വിധത്തിലും വ\\u200dര്\\u200dണ്ണിക്കപ്പെട്ടിരിക്കുന്നു. <EOS>\\n', 'മഹാഭുതങ്ങ\\u200dള്\\u200d (വിഭജിക്കപ്പെടാതെയുള്ള കേവലങ്ങളായ സുക്ഷ്മതന്മാത്രക\\u200dള്\\u200d) ബുദ്ധി (ഞാനെന്ന ബോധത്തിനു കാരണമായ നിശ്ചയാത്മകമായ ബുദ്ധി)അവ്യക്തം (ബുദ്ധിക്കു കാരണമായ മൂലപ്രകൃതി – മായ) ജ്ഞാനേന്ദ്രിയങ്ങ\\u200dള്\\u200d (കണ്ണ്, കാത്, മൂക്ക്, നാവ്, ത്വക്ക്) ക\\u200dര്\\u200dമ്മേന്ദ്രിയങ്ങ\\u200dള്\\u200d (വാക്\\u200dപാണിപാദപായൂപസ്ഥങ്ങ\\u200dള്\\u200d) ഇന്ദ്രിയവിഷയങ്ങ\\u200dള്\\u200d \\u200d(രൂപം, രസം, ഗന്ധം, ശബ്ദം, സ്പ\\u200dര്\\u200dശം) ഇച്ഛാ, ദ്വേഷം, സുഖം, ദുഃഖം, ചേതന, ധൈര്യം എന്നിവ അടങ്ങിയിട്ടുള്ള വികാരവത്തായ സാധനം ക്ഷേത്രമെന്നു പറയപ്പെടുന്നു. <EOS>\\n', 'ഓം തത്സദിതി ശ്രീമദ്ഭഗവദ്ഗീതാസൂപനിഷത്സു ബ്രഹ്മവിദ്യായ\\u200dാം യോഗശാസ്ത്രേ ശ്രീകൃഷ്ണാര്\\u200dജുനസംവാദേ വിശ്വരൂപദര്\\u200dശനയോഗോ നാമൈകാദശോധ്യായഃ\" <EOS>\\n', 'അറിയപ്പെടേണ്ടതേതോ അതു ഞാ\\u200dന്\\u200d\\u200dപറയ\\u200dാം. യാതൊന്നിനെ അറിഞ്ഞാലാണോ മരണമില്ലാത്ത നിലയെ പ്രാപിക്കുന്നത്, അതാണ് അനാദിയും അതിശ്രേഷ്ഠവുമായ ബ്രഹ്മം. അത് സത്ത് (ഉള്ളത്) എന്നോ അസത്ത് (ഇല്ലാത്തത്) എന്നോ പറയുവാ\\u200dന്\\u200d നിവൃത്തിയില്ല. <EOS>\\n', 'ഹേ കൗരവശ്രേഷ്ഠ! ഈ മനുഷ്യലോകത്തി\\u200dല്\\u200dനീയൊഴിച്ചു മറ്റൊരു ത്തനും എന്റെ ഈ രുപം വേദാധ്യയനത്താലോ യോഗാനുഷ്ഠാനം കൊണ്ടോ ദാനങ്ങ\\u200dള്\\u200d, ഉഗ്രതപസ്സുക\\u200dള്\\u200d, സ\\u200dല്\\u200dക്രിയക\\u200dള്\\u200d മുതലായവ കൊണ്ടോ കാണപ്പെടുവാ\\u200cന്\\u200dകഴിയുന്നതല്ല. <EOS>\\n', 'ഇന്ദ്രിയങ്ങളില്ലാതെ തന്ന ഇന്ദ്രിയഗുണങ്ങളാ\\u200dല്\\u200d പ്രശോഭിക്കുന്നതും, ഒന്നിലും ബന്ധപ്പെടുന്നില്ലെങ്കിലും എല്ലാറ്റിനേയും ഭരിച്ചുകൊണ്ടിരിക്കുന്നതും, ഗുണമില്ലാതെ ഗുണങ്ങളെ അനുഭവിക്കുന്നതും, ജീവരാശികളുടെ ഉള്ളിലും പുറത്തും സ്ഥിതിചെയ്യുന്നതും, ചരവും അചരവുമായിരിക്കുന്നതും, അടുത്തും, ദൂരെയും വ\\u200dര്\\u200dത്തിക്കുന്നതുമാണ് അത്. അത് വിഭജിക്കപ്പെട്ടില്ലെങ്കിലും വിഭജിക്കപ്പെട്ടതുപോലെ ഭൂതങ്ങ\\u200dളി\\u200d\\u200dല്\\u200d ഇരിക്കുന്നു. അത് ഭുതങ്ങളെ ഭരിക്കുകയും സംഹരിക്കുകയും സൃഷ്ടിക്കുകയും ചെയ്യുന്നു എന്നറിയണം. <EOS>\\n', 'പ്രകാശങ്ങ\\u200cള്\\u200dക്കെല്ല\\u200dാം പ്രകാശമായിട്ടുള്ള ആ ബ്രഹ്മം അന്ധകാരത്തിന്നപ്പുറമായിട്ടുള്ളതാണെന്നു പറയുന്നു. അറിവും (ജ്ഞാനം) അറിയപ്പെടേണ്ടതും (ജ്ഞേയം) അറിവിനാ\\u200d\\u200dല്\\u200d എത്തിച്ചേരേണ്ടതും (ജ്ഞാനഗമ്യം) എല്ലവരുടെയും ഹൃദയത്തെ അധിവസിക്കുന്നതും അതു (ബ്രഹ്മം) തന്നെ. <EOS>\\n', 'അ\\u200dര്\\u200dജ്ജുനാ! അന്യദേവതകളെ ശ്രദ്ധയോടുകൂടി പൂജിക്കുന്ന ഭക്തന്മാ\\u200dര്\\u200d വിധിപൂ\\u200dര്\\u200dവമല്ലെങ്കിലും എന്നെത്തന്നെയാണ് പൂജിക്കുന്നത്. <EOS>\\n', 'ഹേ രാജന്\\u200d\\u200d, വിഷ്ണുവിന്റെ ആ അത്ഭുതകരമായ രൂപത്തെ (വിശ്വരൂപത്തെ) ഓര്\\u200dക്കുന്തോറും എനിക്ക് പിന്നെയും പിന്നെയും മഹത്തായ വിസ്മയവും ആനന്ദവുമുണ്ടാകുന്നു. <EOS>\\n', 'എവിടെ യോഗേശ്വരനായ കൃഷ്ണനും വില്ലാളിയായ അര്\\u200dജുനനുമുണ്ടോ അവിടെ ഐശ്വര്യവും, വിജയവും, അഭിവൃദ്ധിയും, നീതിയും നിശ്ചയമായും ഉണ്ടായിരിക്കുമെന്നാണ് എന്റെ അഭിപ്രായം. <EOS>\\n', 'പുരുഷ\\u200dന്\\u200d പ്രകൃതിയില്\\u200d ഇരുന്ന്, പ്രകൃതിയി\\u200cല്\\u200dനിന്നുണ്ടാകുന്ന സുഖദുഃഖാദി ഗുണങ്ങളെ അനുഭവിക്കുന്നു. ഈ പ്രകൃതിഗുണങ്ങളോടുള്ള സംഗം കൊണ്ടാണ് ഈ പുരുഷനു ഉത്തമവും നീചവുമായ യോനികളില്\\u200d ജനിക്കുവാ\\u200d\\u200dന്\\u200d ഇടയാകുന്നത്. <EOS>\\n', 'ഹേ അര്\\u200dജുനാ, എന്റെ യോനിയാകുന്ന മഹാപ്രകൃതിയില്\\u200d ഞാന്\\u200d ബീജത്തെ നിക്ഷേപിക്കുന്നു. സര്\\u200dവ്വ ജീവരാശികളുടെയും ജന്മം അതില്\\u200dനിന്നാണ്. <EOS>\\n', 'ആ ശബ്ദകോലാഹലം ആകാശത്തെയും ഭൂമിയെയും പ്രതിധ്വനിപ്പിച്ചു കൊണ്ടു ധൃതരാഷ്ട്ര പുത്രന്മാരുടെ ഹൃദയം പിളര്\\u200dന്നു. <EOS>\\n', 'ഹേ അര്\\u200dജുനാ, എന്റെ യോനിയാകുന്ന മഹാപ്രകൃതിയില്\\u200d ഞാന്\\u200d ബീജത്തെ നിക്ഷേപിക്കുന്നു. സര്\\u200dവ്വ ജീവരാശികളുടെയും ജന്മം അതില്\\u200dനിന്നാണ്. <EOS>\\n', 'ഇതറിയാത്തവരായരാവട്ടെ അന്യന്മാ\\u200cര്\\u200d പറഞ്ഞുകേട്ടതനുസരിച്ച് ഉപാസിക്കുന്നു. ശ്രദ്ധിച്ചു കേട്ടു കാര്യം മനസ്സിലാക്കുവാ\\u200dന്\\u200d താല്പര്യമുള്ളവരായ അവരും മരണത്തെ തരണം ചെയ്യുന്നതാണ്. <EOS>\\n', 'ഹേ ഭരതവംശശ്രേഷ്ഠാ, ക്ഷേത്രജ്ഞന്മാരുടെ സംയോഗത്തി\\u200dല്\\u200d നിന്നാണ് സ്ഥാവരജംഗമമായുമുള്ള സമസ്തവസ്തുക്കളും ഉണ്ടാകുന്നത്. <EOS>\\n', 'ആരാണോ ഇവിടെ വച തന്നെ ശരീര നാശത്തിനു മുമ്പ് കാമക്രോധങ്ങൾ ഉളവാക്കുന്ന ക്ഷോഭത്തെ നിയന്ത്രിക്കാൻ ശക്തനാകുന്നത് അവൻ യോഗയുക്തനും സുഖമനുഭവിക്കുന്നവനുമാകുന്നു. <EOS>\\n', 'ഈശ്വര\\u200dന്\\u200d എല്ലായിടത്തും ഒരുപോലെ വ്യാപിച്ചിരിക്കുന്നതായി കാണുന്നവ\\u200dന്\\u200d തന്നെ സ്വയം നശിപ്പിക്കുന്നില്ല. അതിനാല്\\u200d അവ\\u200d\\u200dന്\\u200d മുക്തി അടയുകയും ചെയ്യുന്നു.\\u200d <EOS>\\n', 'പ്രകൃതിയാണ് ക\\u200dര്\\u200dമ്മങ്ങളെല്ല\\u200dാം ചെയ്യുന്നത് എന്നും ആത്മാവ് ഒന്നും ചെയ്യാത്തവനാണെന്നും അറിയുന്നവന്\\u200d യഥാ\\u200dര്\\u200dത്ഥത്തില്\\u200d അറിവുള്ളവനാകുന്നു. <EOS>\\n', 'മോക്ഷാര്\\u200dഥികള്\\u200d തത് (അത്) എന്നുച്ചരിച്ച് ഫലാക\\u200dാംക്ഷയില്ലാതെ യജ്ഞം, ദാനം, തപസ്സ് എന്നീ ക്രിയകള്\\u200d നടത്തുന്നു. <EOS>\\n', 'ഹേ കുന്തിസുതാ! ആദിയും നാശവും ഇല്ലാത്തതിനാല്\\u200d ഈ പരമാത്മാവ് ശരീരത്തി\\u200dല്\\u200d സ്ഥിതിചെയ്യുന്നുവെങ്കിലും യാതൊന്നും ചെയ്യുകയൊ ഒന്നിനോടും സക്തനാകുകയോ ചെയ്യുന്നില്ല. <EOS>\\n', 'സുക്ഷ്മത്വം നിമിത്തം എപ്രകാരം സ\\u200dര്\\u200dവവ്യാപിയായ ആകാശം മലിനപ്പെടുന്നില്ലയോ അപ്രകാരം തന്നെ ദേഹത്തില്\\u200d സര്\\u200dവ്വത്ര വ്യാപ്തനായിരിക്കുന്ന ആത്മാവും മലിനപ്പെടുന്നില്ല. <EOS>\\n', 'ഈശ്വര\\u200dന്\\u200d എല്ലായിടത്തും ഒരുപോലെ വ്യാപിച്ചിരിക്കുന്നതായി കാണുന്നവ\\u200dന്\\u200d തന്നെ സ്വയം നശിപ്പിക്കുന്നില്ല. അതിനാല്\\u200d അവ\\u200d\\u200dന്\\u200d മുക്തി അടയുകയും ചെയ്യുന്നു.\\u200d <EOS>\\n', 'ക്ഷേത്രവും ക്ഷേത്രജ്ഞനും തമ്മിലുള്ള വ്യത്യാസത്തേയും ഭുതപ്രകൃതികളുടെ മോക്ഷത്തേയും ഇങ്ങനെ ജ്ഞാനദൃഷ്ടികൊണ്ടു കണ്ടറിയുന്നതാരോ, അവ\\u200dര്\\u200d പരഗതിയെ പ്രാപിക്കുന്നു. (ഭൂതപ്രകൃതിമോക്ഷം എന്നുവച്ചാ\\u200cല്\\u200d ഭൂതങ്ങ\\u200cള്\\u200dക്കു അവിദ്യയിലും ദേഹാദിമാനത്തിലും പ്രകൃതി ബന്ധത്തിലൂം നിന്നുണ്ടാകുന്ന വിമോചനം എന്ന\\u200dര്\\u200dത്ഥമാകുന്നു). <EOS>\\n', 'ഹേ അര്\\u200dജുനാ, എന്റെ യോനിയാകുന്ന മഹാപ്രകൃതിയില്\\u200d ഞാന്\\u200d ബീജത്തെ നിക്ഷേപിക്കുന്നു. സര്\\u200dവ്വ ജീവരാശികളുടെയും ജന്മം അതില്\\u200dനിന്നാണ്. <EOS>\\n', 'ഈ ജ്ഞാനത്തെ ആശ്രയിച്ച് എന്നെ പ്രാപിക്കുന്നവര്\\u200d സൃഷ്ടിയുടെ ആരംഭത്തില്\\u200d ജന്മമെടുക്കുന്നില്ല, പ്രളയസമയത്ത് വ്യസനിക്കു ന്നുമില്ല. <EOS>\\n', 'ഹേ അര്\\u200dജുനാ, എന്റെ യോനിയാകുന്ന മഹാപ്രകൃതിയില്\\u200d ഞാന്\\u200d ബീജത്തെ നിക്ഷേപിക്കുന്നു. സര്\\u200dവ്വ ജീവരാശികളുടെയും ജന്മം അതില്\\u200dനിന്നാണ്. <EOS>\\n', 'ഹേ അര്\\u200dജുനാ, കഴിഞ്ഞതും ഇപ്പോഴുള്ളതും ഇനിയുണ്ടാകുന്നതുമായ ജീലജാലങ്ങളെയും ഞാനറിയുന്നു. എന്നാല്\\u200d എന്നെയാകട്ടെ ഒരുത്തരും അറിയുന്നില്ല. <EOS>\\n', 'ഓം തത്സദിതി ശ്രീമദ്ഭഗവദ്ഗീതാസൂപനിഷത്സു ബ്രഹ്മവിദ്യായ\\u200dാം യോഗശാസ്ത്രേ ശ്രീകൃഷ്ണാര്\\u200dജുനസംവാദേ വിശ്വരൂപദര്\\u200dശനയോഗോ നാമൈകാദശോധ്യായഃ\" <EOS>\\n', 'ഹേ അനഘ (പാപരഹിത), ഇവയില്\\u200d നിര്\\u200dമ്മലത്വത്താല്\\u200d പ്രകാശമാനവും, ദോഷരഹിതവുമായ സത്വഗുണം സുഖത്തോടും ജ്ഞാനത്തോടുമുള്ള സംഗത്താല്\\u200d ബന്ധിക്കുന്നു. <EOS>\\n', '\"ഹേ പാണ്ഡുപുത്ര! യാതൊരുത്ത\\u200dന്\\u200d എന്നെ ഉദ്ദേശിച്ചു ക\\u200dര്\\u200dമ്മം ചെയ്യുന്നവനും, എന്നെ പ്രാപ്യസ്ഥാനമായി വിചാരിക്കുന്നവനും, എന്നി\\u200d\\u200dല്\\u200d ഭക്തിയുള്ളവനും, സംഗം വിട്ടവനും, സ\\u200cര്\\u200dവജീവികളിലും വൈരമില്ലാത്തവനും ആയിരിക്കുന്നുവോ അവ\\u200dന്\\u200d എന്നെ പ്രാപിക്കുന്നു. <EOS>\\n', 'ഹേ ഭാരത, തമസ്സ് അജ്ഞാനത്തില്\\u200d നിന്നുണ്ടാകുന്നതും എല്ലാ ദേഹികളെയും (ജീവന്മാരെയും) മോഹിപ്പിക്കുന്നതുമാണെന്നറിയൂ. അത് അശ്രദ്ധ, ആലസ്യം, ഉറക്ക എന്നിവയാല്\\u200d ദേഹിയെ ബന്ധിക്കുന്നു. <EOS>\\n', 'ഹേ ഭാരത, സത്വം സുഖത്തോടും, രജസ്സ് കര്\\u200dമ്മത്തോടും സംഗം ജനിപ്പിക്കുന്നു, എന്നാല്\\u200d തമസ്സ് ജ്ഞാനത്തെ മറച്ച് അശ്രദ്ധയോടും സംഗം ജനിപ്പിക്കുന്നു. <EOS>\\n', 'ആസക്തിയും അഹന്തയും ഇല്ലാത്തവനും, ധൈര്യം, ഉത്സാഹം എന്നിവയുള്ളവനും, ജയപരാജയങ്ങളില്\\u200d ഇളകാത്തവനുമായ കര്\\u200dത്താവ് സാത്വികനാണെന്നു പറയപ്പെടുന്നു. <EOS>\\n', 'ഹേ ജനാ\\u200dര്\\u200dദ്ദനാ!, ധൃതരാഷ്ട്രപുത്രന്\\u200dമാരെ കൊന്നിട്ട് നമുക്കു എന്തു സന്തോഷമുണ്ടാകാനാണ്? ആതതായികളായ ഇവരെ കൊന്നാ ല്\\u200d പാപം മാത്രമാണ് നമുക്കു ഫലം. <EOS>\\n', 'രജോഗുണം വര്\\u200dദ്ധിക്കുമ്പോള്\\u200d ലോഭം, പ്രവൃത്തി, അതിന്റെ ആരംഭം, അശാന്തി, ആഗ്രഹം എന്നിവ ഉദ്ഭവിക്കുന്നു. <EOS>\\n', 'കുരുനന്ദന (കുരുവംശത്തില്\\u200d ജനിച്ചവനേ), തമോഗുണം വര്\\u200dദ്ധിക്കുമ്പോള്\\u200d അവിവേകം, ആലസ്യം, പ്രമാദം (അശ്രദ്ധ), മോഹം എന്നിവ ഉണ്ടാകുന്നു. <EOS>\\n', 'ഹേ ഭാരത, എല്ലാവരുടെയും ശ്രദ്ധ അവരവരുടെ ശ്രദ്ധയെ ആശ്രയിച്ചിരിക്കുന്നു. ഈ മനുഷ്യന്\\u200d ശ്രദ്ധാമയനാണ്. ഒരുവന്റെ ശ്രദ്ധ ഏതാണോ അവന്\\u200d ആ തരത്തിലുള്ളവനായിരിക്കും. <EOS>\\n', 'രജോഗുണം വര്\\u200dദ്ധിച്ചിരിക്കുമ്പോള്\\u200d മരിക്കുന്നയാള്\\u200d കര്\\u200dമ്മത്തോട് ബന്ധമുള്ള ആളുകള്\\u200d വസിക്കുന്ന ലോകങ്ങളെ പ്രാപിക്കുകയും തമോഗുണം വര്\\u200dദ്ധിച്ചിരിക്കുമ്പോള്\\u200d മരിക്കുന്നയാള്\\u200d മൂഢയോനികളെ പ്രാപിക്കുകയും <EOS>\\n', 'ഹേ രാജന്\\u200d\\u200d, വിഷ്ണുവിന്റെ ആ അത്ഭുതകരമായ രൂപത്തെ (വിശ്വരൂപത്തെ) ഓര്\\u200dക്കുന്തോറും എനിക്ക് പിന്നെയും പിന്നെയും മഹത്തായ വിസ്മയവും ആനന്ദവുമുണ്ടാകുന്നു. <EOS>\\n', 'സ്ഥിരതയില്ലാത്തവനും, പ്രാകൃതനും, അഹങ്കാരവും ദര്\\u200dപ്പവുമുള്ളവനും, നീചനും അലസനും, ദുഃഖിതനും, ദീര്\\u200dഘസൂത്രിയുമായ (ചെയ്യാനുള്ള കാര്യങ്ങള്\\u200d നീട്ടിവെയ്ക്കുന്ന സ്വഭാവമുള്ളയാള്\\u200d) കര്\\u200dത്താവ് താമസികനാണ് എന്നു പറയപ്പെടുന്നു. <EOS>\\n', 'സത്വഗുണമുള്ളവര്\\u200d ഊര്\\u200dദ്ധ്വലോകങ്ങളെ പ്രാപിക്കുന്നു. രജോഗുണമുള്ളവര്\\u200d മദ്ധത്തില്\\u200d നില്ക്കുന്നു. അധമഗുണമുള്ള താമസികര്\\u200d അധോലോകങ്ങളെയും പ്രാപിക്കുന്നു <EOS>\\n', 'എന്തെന്നാല്\\u200d ഇഷ്ടപ്പെടുന്ന സുഖങ്ങള്\\u200d നിങ്ങള്\\u200dക്ക് യജ്ഞംകൊണ്ടു സന്തുഷ്ടരായ ദേവന്മാര്\\u200d തരും. അവര്\\u200d തന്ന വസ്തുക്കളെ അവ\\u200c\\u200dര്\\u200dക്കു കൊടുക്കാതെ ഭുജിക്കുന്നവനാരോ അവന്\\u200d കള്ളന്\\u200dതന്നെയാണ്. <EOS>\\n', 'അര്\\u200dജുനന്\\u200d പറഞ്ഞു: ഹേ കൃഷ്ണ, ശാസ്ത്രവിധി പാലിക്കാതെയാ ണെങ്കിലും ശ്രദ്ധയോടെ യജിക്കുന്നവരുടെ സ്ഥിതിയെന്താകും? അതു സാത്വികമോ, രാജസികമോ താമസികമോ ഏതാണ്? <EOS>\\n', 'അര്\\u200dജുനന്\\u200d പറഞ്ഞു: പ്രഭോ, ഈ മൂന്നു ഗുണങ്ങളെ അതിവര്\\u200dത്തി ച്ചവന്റെ ലക്ഷണങ്ങളേതൊക്കെയാണ്? അവന്റെ സ്വഭാവമെന്താണ്? എങ്ങനെയാണ് ഈ മൂന്നു ഗുണങ്ങളെ അതിവര്\\u200dത്തിക്കുന്നത്? <EOS>\\n', 'ഭഗവാന്\\u200d പറഞ്ഞു: ആരാണോ സത്വഗുണകാര്യമായ പ്രകാശത്തിനെയും, രജോഗുണകാര്യമായ പ്രവൃത്തിയെയും, തമോഗുണകാര്യമായ മോഹത്തെയും അവ പ്രവര്\\u200dത്തിച്ചു കൊണ്ടിരിക്കുമ്പോള്\\u200d ദ്വേഷിക്കാതിരിക്കുകയും, അവയുടെ അഭാവത്തില്\\u200d അവയെ ക\\u200dാംക്ഷിക്കാതിരിക്കുകയും ചെയ്യുന്നത്, ആരാണോ ഉദാസീനനായിരിക്കുകയും, ഗുണങ്ങളാല്\\u200d ചലിക്ക പ്പെടാതിരിക്കുകയും, ഗുണങ്ങള്\\u200d സ്വയം പ്രവര്\\u200dത്തിക്കുന്നുവെന്നറിഞ്ഞ് ഇളകാതിരിക്കുകയും ചെയ്യുന്നത്, ആരാണോ സുഖദുഃഖങ്ങളെയും, സ്വര്\\u200dണ്ണത്തിനെയും മണ്\\u200dകട്ടയെയും, പ്രിയത്തെയും അപ്രിയത്തെയും, സ്തുതിയെയും നിന്ദയെയും ഒരു പോലെ കാണുകയും ചെയ്യുന്നത്, ആരാണോ മാനാപമാനങ്ങ\\u200dള്\\u200d ശത്രുമിത്രങ്ങള്\\u200d എന്നിവയെ തുല്യമായി കാണുകയും, എല്ലാ പ്രവൃത്തികളെയും ഉപേക്ഷിക്കുകയും ചെയ്യുന്നത് അയാള്\\u200d മൂന്നു ഗുണങ്ങളെ അതിവര്\\u200dത്തിച്ചവന്\\u200d (ത്രിഗുണാതീതന്\\u200d) ആകുന്നു. <EOS>\\n', 'അചഞ്ചലമായ ഭക്തിയോടെ എന്നെ ഭജിക്കുന്നവന്\\u200d ത്രിഗുണങ്ങളെ മറികടന്ന് ബ്രഹ്മഭാവത്തെ പ്രാപിക്കുവാന്\\u200d യോഗ്യനാകുന്നു. <EOS>\\n', 'ഞാന്\\u200d അമൃതവും (അനശ്വരവും) അവ്യയവുമായ (മാറ്റമില്ലാത്തതുമായ) ബ്രഹ്മത്തിന്റെയും, ശാശ്വതമായ ധര്\\u200dമ്മ ത്തിന്റെയും, പരമമായ സുഖത്തിന്റെയും പ്രതിഷ്ഠയുമാകുന്നു (ആശ്രയവുമാകുന്നു). <EOS>\\n', 'ഹേ അര്\\u200dജുനാ, എന്റെ യോനിയാകുന്ന മഹാപ്രകൃതിയില്\\u200d ഞാന്\\u200d ബീജത്തെ നിക്ഷേപിക്കുന്നു. സര്\\u200dവ്വ ജീവരാശികളുടെയും ജന്മം അതില്\\u200dനിന്നാണ്. <EOS>\\n', 'തിഗുണങ്ങളാല്\\u200d പോഷിപ്പിക്കപ്പെടുന്ന അതിന്റെ ശാഖകള്\\u200d മുകളിലും താഴെയുമായി പരന്നുകിടക്കുന്നു. വിഷയങ്ങളാണ് അതിന്റെ തളിരുകള്\\u200d. കര്\\u200dമ്മത്തോടു ബന്ധപ്പെട്ടവയായ അതിന്റെ വേരുകള്\\u200d മനുഷ്യലോകത്തില്\\u200d വ്യാപിച്ചുകിടക്കുന്നു. <EOS>\\n', 'ഇഹത്തില്\\u200d അതിന്റെ രൂപവും, ആദിയും, അന്തവും, അസ്തിത്വവും അങ്ങനെ അറിയപ്പെടുന്നില്ല. തീവ്രവൈരാഗ്യമാകുന്ന ആയുധത്താല്\\u200d വേരുറച്ച ഈ അശ്വത്ഥവൃക്ഷത്തിനെ മുറിച്ചതിനുശേഷം, യാതൊരു പരമപദത്തെ പ്രാപിച്ചാല്\\u200d പിന്നീട് തിരിച്ചുവരവില്ലയോ, അതിനെ തേടേണ്ടതാണ്. അതിനായി അനാദിയായ ഈ സംസാരത്തിന് ഉറവിടമായ ആദിപുരുഷനെ ഞാന്\\u200d ശരണം പ്രാപിക്കുന്നു. <EOS>\\n', 'ബ്രാഹ്മണന്\\u200d, ക്ഷത്രിയന്\\u200d, വൈശ്യന്\\u200d, ശൂദ്രന്\\u200d എന്നിവരുടെ കര്\\u200dമ്മങ്ങള്\\u200d സ്വഭാവജന്യമായ ഈ ഗുണങ്ങളുടെ അടിസ്ഥാനത്തില്\\u200d വിഭജിക്കപ്പെട്ടിരിക്കുന്നു. <EOS>\\n', 'യാതൊന്നിനെ സൂര്യചന്ദ്രന്മാരോ അഗ്നിയോ പ്രകാശി പ്പിക്കുന്നില്ലയോ, യാതൊന്നിനെ പ്രാപിച്ചാല്\\u200d തിരിച്ചുവരവില്ലയോ അതാണ് എന്റെ പരമമായ പദം (സ്ഥാനം). <EOS>\\n', 'ഹേ പാര്\\u200dത്ഥാ എനിക്ക് മൂന്നു ലോകത്തിലും കര്\\u200dത്തവ്യമായി ഒന്നുമില്ല. എനിക്കു പ്രാപിക്കേണ്ടതായി ഒന്നും തന്നെയില്ല. എന്നിട്ടും ഞാന്\\u200d ക\\u200dര്\\u200dമ്മം ചെയ്തുകൊണ്ടു തന്നെയാണിരിക്കുന്നത്. <EOS>\\n', 'ബ്രാഹ്മണന്\\u200d, ക്ഷത്രിയന്\\u200d, വൈശ്യന്\\u200d, ശൂദ്രന്\\u200d എന്നിവരുടെ കര്\\u200dമ്മങ്ങള്\\u200d സ്വഭാവജന്യമായ ഈ ഗുണങ്ങളുടെ അടിസ്ഥാനത്തില്\\u200d വിഭജിക്കപ്പെട്ടിരിക്കുന്നു. <EOS>\\n', 'അര്\\u200dജുനന്\\u200d ചോദിച്ചു: ഹേ കൃഷ്ണാ, പിന്നെ ആര്\\u200d പ്രേരിപ്പിചിട്ടാണ് ഈ പുരുഷന്\\u200d താ\\u200dന്\\u200d ഇച്ഛിക്കാതെയിരുന്നിട്ടും ബലമായ ഏതോ ശക്തിയാല്\\u200d നിയുക്തനെന്നപോലെ പാപകര്\\u200dമ്മങ്ങ\\u200dള്\\u200d അനുഷ്ഠിക്കുന്നത്. <EOS>\\n', 'ശരീരം വിട്ടുപോകുന്നതോ, ശരീരത്തിലിരിക്കുന്നതോ, വിഷയങ്ങ ളനുഭവിക്കുന്നതോ ഗുണങ്ങളോടുകൂടിയിരിക്കുന്നതോ ആയ ഈ ജീവനെ അജ്ഞാനികള്\\u200d അറിയുന്നില്ല. ജ്ഞാനദൃഷ്ടിയുള്ളവര്\\u200d മാത്രം ഇതിനെ കാണുന്നു. <EOS>\\n', 'സിദ്ധിയ്ക്കായി പ്രയത്നിക്കുന്ന യോഗികള്\\u200d തങ്ങളുടെയുള്ളില്\\u200d സ്ഥിതിചെയ്യുന്ന ഈ ജീവനെ കാണുന്നു. എന്നാല്\\u200d അനധികാരികളായ മൂഢന്മാര്\\u200d പ്രയത്നിച്ചാലും ഈ ജീവനെ കാണുന്നില്ല. <EOS>\\n', 'ഏതേതു ഭക്തന്\\u200d ഏതേതു ദേവതാ സ്വരൂപത്തെ ശ്രദ്ധയോടെ അര്\\u200dച്ചിക്കാനാഗ്രഹിക്കുന്നുവോ അവരുടെയെല്ല\\u200dാം ആ ശ്രദ്ധയെ തന്നെ ഞാന്\\u200d ഇളക്കമറ്റതാക്കുന്നു. <EOS>\\n', 'ഞാന്\\u200d ഓജസ്സായി ഭൂമിയില്\\u200d പ്രവേശിച്ച് ജീവജാലങ്ങളെ നിലനിര്\\u200dത്തുകയും, രസാത്മകനായ ചന്ദ്രനായി എല്ലാവിധ സസ്യങ്ങളെയും പോഷിപ്പിക്കുകയും ചെയ്യുന്നു. <EOS>\\n', 'യാതൊന്നിനെ വേദജ്ഞര്\\u200d അക്ഷരം എന്ന് പറയുന്നുവോ, യാതൊന്നിനെ രാഗഹീനരായ യതികള്\\u200d പ്രാപിക്കുന്നുവോ, യാതൊന്നിനെ ആഗ്രഹിക്കുന്നവര്\\u200d ബ്രഹ്മചര്യമനുഷ്ടിക്കുന്നുവോ ആ പദത്തെ നിനക്കു സംക്ഷിപ്തമായി ഞാന്\\u200d പറഞ്ഞു തര\\u200dാം. <EOS>\\n', 'ദൈവീസമ്പത്ത് മോക്ഷത്തിലേയ്ക്കും, ആസുരീസമ്പത്ത് ബന്ധനത്തിലേയ്ക്കും നയിക്കുന്നു. നീ ദൈവീ സമ്പത്തോടെ ജനിച്ചവനാണ്. അതുകൊണ്ട് ദുഃഖിക്കേണ്ട. <EOS>\\n', 'ഹേ ഭാരത, എല്ലാവരുടെയും ശ്രദ്ധ അവരവരുടെ ശ്രദ്ധയെ ആശ്രയിച്ചിരിക്കുന്നു. ഈ മനുഷ്യന്\\u200d ശ്രദ്ധാമയനാണ്. ഒരുവന്റെ ശ്രദ്ധ ഏതാണോ അവന്\\u200d ആ തരത്തിലുള്ളവനായിരിക്കും. <EOS>\\n', 'കര്\\u200dമ്മങ്ങളെയെല്ല\\u200dാം ദോഷമായികണ്ട് ത്യജിക്കണമെന്ന് ചില വിദ്വാന്മാര്\\u200d പറയുന്നു. യജ്ഞം, ദാനം, തപസ്സ് എന്നീ കര്\\u200dമ്മങ്ങളെ ത്യജിക്കരുതെന്ന് വേറെ ചിലര്\\u200d പറയുന്നു. <EOS>\\n', 'ഹേ കൃഷ്ണാ, എന്റെ ഈ സംശയത്തെ നിഃശേഷം അങ്ങു തീര്\\u200dത്തുതരേണ്ടതാണ്. ഈ സംശയം പരിഹരിക്കാന്\\u200d അങ്ങല്ലാതെ മറ്റൊരാള്\\u200d യോഗ്യനായില്ല. <EOS>\\n', 'അ\\u200dര്\\u200dജ്ജുനാ! മഹാത്മാക്കളാവട്ടെ ദിവ്യമായ സ്വഭാവത്തെ കൈക്കൊണ്ട്, ഏകാഗ്രചിത്തരായി ഭുതങ്ങ\\u200dള്\\u200dക്കെല്ല\\u200dാം ആദ്യനും അനശ്വരന്മായ എന്നെ അറിഞ്ഞു ഭജിക്കുന്നു. <EOS>\\n', 'അ\\u200dര്\\u200dജ്ജുന\\u200dന്\\u200d പറഞ്ഞു: ഹേ ഹൃഷികേശ! അങ്ങയുടെ സ്തുതിക്കുന്നതു കൊണ്ടു ഈ ലോകത്തിനു സന്തോഷവും ഭക്തിയും ഉണ്ടാകുന്നു എന്നുള്ളതു യുക്തം തന്നെ. ദുഷ്ടന്മാരായ അസുരരാക്ഷസന്മാര്\\u200d അവിടുത്തെ സ്തുതികള്\\u200d കേ\\u200dള്\\u200dക്കുന്ന മാത്രയി\\u200dല്\\u200d ഭീതരായി നാലുദിക്കുകളിലും ഓടുന്നു. ശിഷ്ടന്മാരായ ദേവന്മാരാവട്ടെ ഭക്തിപരശരായി അവിടുത്തെ നമസ്കരിക്കയും ചെയ്യുന്നു. <EOS>\\n', 'ഭയമില്ലായ്മ, ഹൃദയശുദ്ധി, ജ്ഞാനത്തിലും യോഗത്തിലുമുള്ള നിഷ്ഠ, ദാനം, ഇന്ദ്രിയസംയമനം, യജ്ഞം, ശാസ്ത്രപാരായണം, തപസ്സ്, ആര്\\u200dജ്ജവം, അഹിംസാ, സത്യം, ക്രോധമില്ലായ്മ, ത്യാഗം, ശാന്തി, പരദൂഷണം ചെയ്യാതിരിക്കുക, ഭൂതദയാ, ആഗ്രഹമില്ലായ്മ, സൗമ്യത, ലജ്ജ, ചാപല്യമില്ലായ്മ, തേജസ്സ്, ക്ഷമാ, ശുചിത്വം, ദ്രോഹിക്കാതിരിക്കല്\\u200d, അഹങ്കാരമില്ലായ്മ എന്നിവ ദൈവീസമ്പത്തോടെ ജനിച്ചവനുണ്ടാകുന്ന ഗുണങ്ങളാണ്. <EOS>\\n', 'ഡംഭ്, അഹങ്കാരം, അഭിമാനം, ക്രോധം, പാരുഷ്യം, അജ്ഞാനം എന്നിവ ആസുരീസമ്പത്തോടെ ജനിച്ചവനുണ്ടാകുന്ന ഗുണങ്ങളാണ്. <EOS>\\n', 'ദൈവീസമ്പത്ത് മോക്ഷത്തിലേയ്ക്കും, ആസുരീസമ്പത്ത് ബന്ധനത്തിലേയ്ക്കും നയിക്കുന്നു. നീ ദൈവീ സമ്പത്തോടെ ജനിച്ചവനാണ്. അതുകൊണ്ട് ദുഃഖിക്കേണ്ട. <EOS>\\n', 'ഈ ലോകത്തില്\\u200d പ്രാണിസൃഷ്ടി ദൈവം, ആസുരം എന്നീ രണ്ടു വിധത്തിലാണ്. ദൈവീസൃഷ്ടിയെക്കുറിച്ച് ആദ്യം വിശദമായി പറഞ്ഞുകഴിഞ്ഞു. ഇനി ആസുരിസൃഷ്ടിയെക്കുറിച്ച് കേട്ടാലും. <EOS>\\n', 'യജ്ഞത്തില്\\u200d ശേഷിക്കുന്നത് മാത്രം യജ്ഞം ചെയ്തു ശേഷിച്ചതായ വസ്തുക്കളെ നുഭവിക്കുന്ന സജ്ജനങ്ങള്\\u200d എല്ലാ പാപങ്ങളില്\\u200d നിന്നും മുക്തി നേടുന്നു. എന്നാ\\u200cല്\\u200dതങ്ങള്\\u200dക്കുവേണ്ടിത്തന്നെ ഭോഗസഞ്ചയം ചെയ്യുന്നവ\\u200dര്\\u200d പാപത്തെത്തന്നെ ഭുജിക്കുകയാണ്. <EOS>\\n', 'ഭയമില്ലായ്മ, ഹൃദയശുദ്ധി, ജ്ഞാനത്തിലും യോഗത്തിലുമുള്ള നിഷ്ഠ, ദാനം, ഇന്ദ്രിയസംയമനം, യജ്ഞം, ശാസ്ത്രപാരായണം, തപസ്സ്, ആര്\\u200dജ്ജവം, അഹിംസാ, സത്യം, ക്രോധമില്ലായ്മ, ത്യാഗം, ശാന്തി, പരദൂഷണം ചെയ്യാതിരിക്കുക, ഭൂതദയാ, ആഗ്രഹമില്ലായ്മ, സൗമ്യത, ലജ്ജ, ചാപല്യമില്ലായ്മ, തേജസ്സ്, ക്ഷമാ, ശുചിത്വം, ദ്രോഹിക്കാതിരിക്കല്\\u200d, അഹങ്കാരമില്ലായ്മ എന്നിവ ദൈവീസമ്പത്തോടെ ജനിച്ചവനുണ്ടാകുന്ന ഗുണങ്ങളാണ്. <EOS>\\n', 'അല്പബുദ്ധികളായ അവര്\\u200d ഈ ചിന്താഗതിയെ സ്വീകരിച്ചുകൊണ്ട് സ്വയം നശിക്കുകയും, ക്രൂരകര്\\u200dമ്മങ്ങളെചെയ്ത് ലോകത്തിന് നാശം വരുത്തിവെയ്ക്കുന്നു. <EOS>\\n', 'ഡംഭവും മാനവുമുള്ള ഇവര്\\u200d തൃപ്തിപ്പെടുത്തുവാന്\\u200d വിഷമമായ കാമത്തിന് അധീനരായി മോഹവശാല്\\u200d ദുരാഗ്രഹങ്ങളെ നിറവേറ്റുവാന്\\u200d അശുദ്ധവ്രതരായി പ്രവര്ത്തിക്കുന്നു. <EOS>\\n', 'ഹേ ഭാരത, എല്ലാവരുടെയും ശ്രദ്ധ അവരവരുടെ ശ്രദ്ധയെ ആശ്രയിച്ചിരിക്കുന്നു. ഈ മനുഷ്യന്\\u200d ശ്രദ്ധാമയനാണ്. ഒരുവന്റെ ശ്രദ്ധ ഏതാണോ അവന്\\u200d ആ തരത്തിലുള്ളവനായിരിക്കും. <EOS>\\n', 'ശരീരം വിട്ടുപോകുന്നതോ, ശരീരത്തിലിരിക്കുന്നതോ, വിഷയങ്ങ ളനുഭവിക്കുന്നതോ ഗുണങ്ങളോടുകൂടിയിരിക്കുന്നതോ ആയ ഈ ജീവനെ അജ്ഞാനികള്\\u200d അറിയുന്നില്ല. ജ്ഞാനദൃഷ്ടിയുള്ളവര്\\u200d മാത്രം ഇതിനെ കാണുന്നു. <EOS>\\n', 'സ്വയം പുകഴ്ത്തുന്നവരും, പിടിവാശിക്കാരും, ധനം, മാനം എന്നിവയില്\\u200d അഹങ്കരിക്കുന്നവരുമായ അവര്\\u200d നാമമാത്രമായി ഡംഭോടെ വിധികളെ പാലിക്കാതെ യജ്ഞങ്ങളിലൂടെ എന്നെ യജിക്കുന്നു. <EOS>\\n', 'കൃഷ്ണാ! അങ്ങ് അങ്ങയെപ്പറ്റി പറഞ്ഞിട്ടുള്ളതൊക്കെയും അങ്ങനെതന്നെയുള്ളതാണ്. ഹേ പുരുഷോത്തമാ! എനിക്ക് അങ്ങയുടെ രൂപത്തെ കാണുവാന്\\u200d ആഗ്രഹമുണ്ട്. <EOS>\\n', 'ഹേ ദേവ! അതിനാ\\u200dല്\\u200d ഞാന്\\u200d നിന്തിരുവടിയെ വണങ്ങി സ്തുത്യനും ലോകനാഥനും ആയ അങ്ങയോട് എന്നില്\\u200d പ്രസാദിക്കണേ എന്ന് അപേക്ഷിക്കുന്നു. പിതാവ് പുത്രന്റെയും, സ്നേഹിത\\u200dന്\\u200d സുഹൃത്തിന്റെയും, ഭ\\u200dര്\\u200dത്താവ് ഭാര്യയുടെയും അപരാധങ്ങളും ക്ഷമിക്കുമ്പോലെ അങ്ങ് എന്റെ അപരാധത്തെയും ക്ഷമിക്കണം. <EOS>\\n', 'ഹേ കൃഷ്ണാ, മനസ്സ് ചഞ്ചലവും ക്ഷുബ്ധവും നിയന്ത്രണ ത്തിനു വഴങ്ങാത്തതും അയവില്ലാത്തതുമാണ്. അതിന്റെ നിയന്ത്രണം വായുവിന്റെതെന്നപോലെ ദുഷ്ക്കരമായി ഞാന്\\u200d കരുതുന്നു. <EOS>\\n', 'കാമം, ക്രോധം, ലോഭം എന്നിവ നരകത്തിലേയ്ക്കുള്ള മൂന്നു കവാടങ്ങളാണ്. ഇവ ആത്മനാശത്തിന് കാരണവുമാണ്. അതിനാല്\\u200d ഇവയെ മൂന്നിനെയും ത്യജിക്കേണ്ടതാണ്. <EOS>\\n', 'വൃഷ്ണികളില്\\u200d കൃഷ്ണനും, പാണ്ഡവന്മാരില്\\u200d അര്\\u200dജുനനും, മുനികളില്\\u200d വ്യാസനും, കവികളി\\u200dല്\\u200d ശുക്രനും ഞാനാണ്. <EOS>\\n', 'അ\\u200dര്\\u200dജ്ജുനാ! നീ അശക്തനാണെങ്കി\\u200dല്\\u200d എന്നെ ഉദ്ദേശിച്ചു ക\\u200dര്\\u200dമ്മം ചെയ്യുക. എന്നെയുദ്ദേശിച്ചു ക\\u200dര്\\u200dമ്മം ചെയ്\\u200dതാലും നിനക്കു സിദ്ധിയെ പ്രാപിക്കാവുന്നതാണ്. <EOS>\\n', 'ഞാന്\\u200d അമൃതവും (അനശ്വരവും) അവ്യയവുമായ (മാറ്റമില്ലാത്തതുമായ) ബ്രഹ്മത്തിന്റെയും, ശാശ്വതമായ ധര്\\u200dമ്മ ത്തിന്റെയും, പരമമായ സുഖത്തിന്റെയും പ്രതിഷ്ഠയുമാകുന്നു (ആശ്രയവുമാകുന്നു). <EOS>\\n', 'അര്\\u200dജുനന്\\u200d പറഞ്ഞു: ഹേ കൃഷ്ണ, ശാസ്ത്രവിധി പാലിക്കാതെയാ ണെങ്കിലും ശ്രദ്ധയോടെ യജിക്കുന്നവരുടെ സ്ഥിതിയെന്താകും? അതു സാത്വികമോ, രാജസികമോ താമസികമോ ഏതാണ്? <EOS>\\n', 'ഹേ പാര്\\u200dത്ഥാ എനിക്ക് മൂന്നു ലോകത്തിലും കര്\\u200dത്തവ്യമായി ഒന്നുമില്ല. എനിക്കു പ്രാപിക്കേണ്ടതായി ഒന്നും തന്നെയില്ല. എന്നിട്ടും ഞാന്\\u200d ക\\u200dര്\\u200dമ്മം ചെയ്തുകൊണ്ടു തന്നെയാണിരിക്കുന്നത്. <EOS>\\n', 'ഹേ ഭാരത, എല്ലാവരുടെയും ശ്രദ്ധ അവരവരുടെ ശ്രദ്ധയെ ആശ്രയിച്ചിരിക്കുന്നു. ഈ മനുഷ്യന്\\u200d ശ്രദ്ധാമയനാണ്. ഒരുവന്റെ ശ്രദ്ധ ഏതാണോ അവന്\\u200d ആ തരത്തിലുള്ളവനായിരിക്കും. <EOS>\\n', 'സാത്വികന്മാര്\\u200d ദേവന്മാരെയും, രാജസന്മാര്\\u200d യക്ഷരാക്ഷസന്മാരെയും, മറ്റുള്ള താമസികരായ മനുഷ്യര്\\u200d പ്രേതങ്ങളെയും, ഭൂതഗണങ്ങളെയും യജിക്കുന്നു. <EOS>\\n', 'ആരാണോ ഡംഭ്, അഹങ്കാരം എന്നിവയോടുകൂടി, കാമം, രാഗം എന്നിവയ്ക്കധീനരായി ശാസ്ത്രത്തില്\\u200d വിധിച്ചിട്ടില്ലാത്ത തരത്തില്\\u200d ഘോരമായ തപസ്സനുഷ്ഠിക്കുന്നത്, തങ്ങളുടെ ഇന്ദ്രിയങ്ങളെയും, ശരീരത്തില്\\u200d വര്ത്തിക്കുന്ന എന്നെയും പീഡിപ്പിക്കുന്ന അവിവേകികളായ അവര്\\u200d ആസുരനിശ്ചയം ചെയ്തവരാണെ ന്നറിഞ്ഞാലും. <EOS>\\n', 'എല്ലാവര്\\u200dക്കും പ്രിയപ്പെട്ട ആഹാരവും മൂന്നു വിധത്തിലുണ്ട്. യജ്ഞം, തപസ്സ്, ദാനം എന്നിവയുടെയും ഭേദം നീ കേട്ടാലും. <EOS>\\n', 'അചഞ്ചലമായ ഭക്തിയോടെ എന്നെ ഭജിക്കുന്നവന്\\u200d ത്രിഗുണങ്ങളെ മറികടന്ന് ബ്രഹ്മഭാവത്തെ പ്രാപിക്കുവാന്\\u200d യോഗ്യനാകുന്നു. <EOS>\\n', 'ചെയ്യേണ്ടതാണെന്നുള്ള ബോദ്ധ്യത്തോടെ ശാസ്ത്രവിഹിതമായ കര്\\u200dമ്മം ആസക്തിയെയും ഫലത്തെയും ത്യജിച്ച് ചെയ്യുകയാ ണെങ്കില്\\u200d അതിനെ സാത്വികത്യാഗമെന്നു പറയുന്നു. <EOS>\\n', 'ആസക്തിയും അഹന്തയും ഇല്ലാത്തവനും, ധൈര്യം, ഉത്സാഹം എന്നിവയുള്ളവനും, ജയപരാജയങ്ങളില്\\u200d ഇളകാത്തവനുമായ കര്\\u200dത്താവ് സാത്വികനാണെന്നു പറയപ്പെടുന്നു. <EOS>\\n', 'ഫലാക\\u200dാംക്ഷയില്ലാതെ, ശാസ്ത്രവിധിപ്രകാരം യജ്ഞം ചെയ്യപ്പെടേണ്ട താണ് എന്ന ഭാവത്തോടെ മനസ്സിനെ യജ്ഞത്തില്\\u200d സമാഹിതമാക്കി യജിക്കപ്പെടുന്ന ആ യജ്ഞം സാത്വികമാണ്. <EOS>\\n', 'ഹേ ഭരതശ്രേഷ്ഠ, ഫലാക\\u200dാംക്ഷയോടെ ഡംഭോടെ യജിക്കപ്പെടുന്ന യജ്ഞം രാജസമാണ്. <EOS>\\n', 'ശാസ്ത്രവിധിയനുസരിക്കാതെയും, അന്നവും ദക്ഷിണയും കൊടുക്കാതെയും, മന്ത്രഹീനവും, ശ്രദ്ധയില്ലാതെയും ചെയ്യുന്ന യജ്ഞം താമസികമാണ്. <EOS>\\n', 'അ\\u200dര്\\u200dജ്ജുനാ! ഞാ\\u200d\\u200d\\u200dന്\\u200dചൂടുണ്ടാക്കുന്നു. ഞാന്\\u200d മഴ പെയ്യിക്കുയും, അതു തടുക്കയും ചെയ്യുന്നു. ജീവിതവും, മരണവും, സത്തും, അസത്തും ഞാ\\u200dന്\\u200dതന്നെ. <EOS>\\n', 'ഈ ധൃതരാഷ്ടപുത്രന്മാരായ നൂറുപേരും, ഭീഷ്മ\\u200dര്\\u200d, ദ്രോണ\\u200dര്\\u200d, ക\\u200d\\u200dര്\\u200dണ്ണ\\u200dന്\\u200d മുതലായ മഹാരഥന്മാരും, മറ്റുള്ള രാജാക്കന്മാരും ഞങ്ങളുടെ ഭാഗത്തുള്ള യോദ്ധാക്കളും ദംഷ്ട്രകളാ\\u200cല്\\u200d ഭയങ്കരമായിരിക്കുന്ന ഭവാന്റെ വ്യക്ത്രങ്ങളി\\u200d\\u200dല്\\u200d ദ്രുതഗതിയില്\\u200d പ്രവേശിക്കുന്നു. ചില\\u200dര്\\u200d തക\\u200dര്\\u200dന്നു പൊടിഞ്ഞ തലകളോടുകുടി ദംഷ്ട്രക\\u200dള്\\u200dക്കിടയില്\\u200d കുടുങ്ങിക്കിടക്കുന്ന തായിക്കാണുന്നു. <EOS>\\n', 'ഹേ ഭാരത, തമസ്സ് അജ്ഞാനത്തില്\\u200d നിന്നുണ്ടാകുന്നതും എല്ലാ ദേഹികളെയും (ജീവന്മാരെയും) മോഹിപ്പിക്കുന്നതുമാണെന്നറിയൂ. അത് അശ്രദ്ധ, ആലസ്യം, ഉറക്ക എന്നിവയാല്\\u200d ദേഹിയെ ബന്ധിക്കുന്നു. <EOS>\\n', 'അ\\u200dര്\\u200dജ്ജുനാ! അന്യദേവതകളെ അതാതു ആഗ്രഹങ്ങള്\\u200dക്കധീനമായ ബുദ്ധിയോടു കൂടിയവര്\\u200d അന്യദേവതകളെ അതാതു നിയമങ്ങള്\\u200d അനുഷ്ഠിച്ചു ഭജിക്കുന്നു. <EOS>\\n', 'സത്കാരം, അന്തസ്സ്, ബഹുമതി എന്നിവയ്ക്കുവേണ്ടി ഡംഭോടുകൂടി ചെയ്യപ്പെടുന്നതും, ചഞ്ചലവും, അസ്ഥിരവുമായ തപസ്സ് രാജസികമെന്നു പറയപ്പെടുന്നു. <EOS>\\n', 'അര്\\u200dജുന\\u200dന്\\u200d പറഞ്ഞു: ഹേ കൃഷ്ണാ, പ്രകൃതി, പുരുഷ\\u200dന്\\u200d, ക്ഷേത്രം, ക്ഷേത്രജ്ഞ\\u200dന്\\u200d, ജ്ഞാനം (അറിവ്), ജ്ഞേയം (അറിയപ്പെടേണ്ടത്) എന്നിവയെപ്പറ്റി ഞാന്\\u200d അറിയാന്\\u200d ആഗ്രഹിക്കുന്നു. <EOS>\\n', 'ഹേ പാര്\\u200dത്ഥ, എന്നില്\\u200d തന്നെ മനസ്സു ഉറപ്പിച്ച് മറ്റൊന്നുമോര്\\u200dക്കാതെ എപ്പോഴും യാതൊരുവന്\\u200d എന്നെ സ്മരിക്കുന്നുവോ നിത്യമുക്തനായ ആ യോഗിക്ക് ഞാന്\\u200d സുലഭനാണ്. <EOS>\\n', 'പ്രത്യുപകാരം പ്രതീക്ഷിച്ചുകൊണ്ടോ ഫലമുദ്ദേശിച്ചോ വൈമനസ്യത്തോടെ ചെയ്യപ്പെടുന്ന ദാനം രാജസികമെന്നു പറയപ്പെടുന്നു. <EOS>\\n', 'അ\\u200dര്\\u200dജ്ജുനാ! മഹാത്മാക്കളാവട്ടെ ദിവ്യമായ സ്വഭാവത്തെ കൈക്കൊണ്ട്, ഏകാഗ്രചിത്തരായി ഭുതങ്ങ\\u200dള്\\u200dക്കെല്ല\\u200dാം ആദ്യനും അനശ്വരന്മായ എന്നെ അറിഞ്ഞു ഭജിക്കുന്നു. <EOS>\\n', 'ഓം, തത്, സത് എന്നിങ്ങനെയുള്ള ബ്രഹ്മത്തിന്റെ മൂന്നു വിധത്തിലുള്ള നിര്\\u200dദ്ദേശങ്ങളാല്\\u200d ബ്രാഹ്മണരും, വേദവും, യജ്ഞങ്ങളും ആദിയില്\\u200d കല്പിക്കപ്പെട്ടു. <EOS>\\n', 'ആരാണോ ഡംഭ്, അഹങ്കാരം എന്നിവയോടുകൂടി, കാമം, രാഗം എന്നിവയ്ക്കധീനരായി ശാസ്ത്രത്തില്\\u200d വിധിച്ചിട്ടില്ലാത്ത തരത്തില്\\u200d ഘോരമായ തപസ്സനുഷ്ഠിക്കുന്നത്, തങ്ങളുടെ ഇന്ദ്രിയങ്ങളെയും, ശരീരത്തില്\\u200d വര്ത്തിക്കുന്ന എന്നെയും പീഡിപ്പിക്കുന്ന അവിവേകികളായ അവര്\\u200d ആസുരനിശ്ചയം ചെയ്തവരാണെ ന്നറിഞ്ഞാലും. <EOS>\\n', 'മോക്ഷാര്\\u200dഥികള്\\u200d തത് (അത്) എന്നുച്ചരിച്ച് ഫലാക\\u200dാംക്ഷയില്ലാതെ യജ്ഞം, ദാനം, തപസ്സ് എന്നീ ക്രിയകള്\\u200d നടത്തുന്നു. <EOS>\\n', 'ഹേ പാര്\\u200dഥ, ഉള്ളത് എന്ന അര്\\u200dഥത്തിലും, നല്ലത് എന്ന അര്\\u200dഥത്തിലും സത് എന്ന പദം പ്രയോഗിക്കപ്പെടുന്നു. അതുപോലെ, ശ്രേഷ്ഠമായ കര്\\u200dമ്മത്തെ ഉദ്ദേശിച്ചും സത് എന്ന് ശബ്ദം ഉപയോഗിക്കപ്പെടുന്നു. <EOS>\\n', 'കര്\\u200dമ്മങ്ങളെയെല്ല\\u200dാം ദോഷമായികണ്ട് ത്യജിക്കണമെന്ന് ചില വിദ്വാന്മാര്\\u200d പറയുന്നു. യജ്ഞം, ദാനം, തപസ്സ് എന്നീ കര്\\u200dമ്മങ്ങളെ ത്യജിക്കരുതെന്ന് വേറെ ചിലര്\\u200d പറയുന്നു. <EOS>\\n', 'ഭയമില്ലായ്മ, ഹൃദയശുദ്ധി, ജ്ഞാനത്തിലും യോഗത്തിലുമുള്ള നിഷ്ഠ, ദാനം, ഇന്ദ്രിയസംയമനം, യജ്ഞം, ശാസ്ത്രപാരായണം, തപസ്സ്, ആര്\\u200dജ്ജവം, അഹിംസാ, സത്യം, ക്രോധമില്ലായ്മ, ത്യാഗം, ശാന്തി, പരദൂഷണം ചെയ്യാതിരിക്കുക, ഭൂതദയാ, ആഗ്രഹമില്ലായ്മ, സൗമ്യത, ലജ്ജ, ചാപല്യമില്ലായ്മ, തേജസ്സ്, ക്ഷമാ, ശുചിത്വം, ദ്രോഹിക്കാതിരിക്കല്\\u200d, അഹങ്കാരമില്ലായ്മ എന്നിവ ദൈവീസമ്പത്തോടെ ജനിച്ചവനുണ്ടാകുന്ന ഗുണങ്ങളാണ്. <EOS>\\n', 'ശ്രീ ഭഗവാന്\\u200d പറഞ്ഞു: ഹേ അനഘ (പാപങ്ങളില്ലാത്തവന്\\u200d), ഈ ലോകത്തില്\\u200d സംഖ്യന്മാര്\\u200dക്ക് വേണ്ടി ജഞാനയോഗം കൊണ്ടും യോഗികള്\\u200dക്കു വേണ്ടി ക\\u200d\\u200d\\u200dര്\\u200dമ്മയോഗം കൊണ്ടും രണ്ടുവിധം നിഷ്ഠകള്\\u200d മുമ്പ് ഞാന്\\u200d പറഞ്ഞു. <EOS>\\n', 'ഹേ അര്\\u200dജുനാ, കഴിഞ്ഞതും ഇപ്പോഴുള്ളതും ഇനിയുണ്ടാകുന്നതുമായ ജീലജാലങ്ങളെയും ഞാനറിയുന്നു. എന്നാല്\\u200d എന്നെയാകട്ടെ ഒരുത്തരും അറിയുന്നില്ല. <EOS>\\n', 'കര്\\u200dമ്മങ്ങളെയെല്ല\\u200dാം ദോഷമായികണ്ട് ത്യജിക്കണമെന്ന് ചില വിദ്വാന്മാര്\\u200d പറയുന്നു. യജ്ഞം, ദാനം, തപസ്സ് എന്നീ കര്\\u200dമ്മങ്ങളെ ത്യജിക്കരുതെന്ന് വേറെ ചിലര്\\u200d പറയുന്നു. <EOS>\\n', 'പരിശുദ്ധമായ ബുദ്ധിയാല്\\u200d മനസ്സിനെ ധൈര്യപൂര്\\u200dവ്വം നിയന്ത്രിച്ച്, ശബ്ദം, സ്പര്\\u200dശം, തുടങ്ങിയ വിഷയങ്ങളെ ത്യജിച്ച്, രാഗദ്വേഷങ്ങളെ അകറ്റി, വിജനപ്രദേശത്തു വസിച്ച്, മിതമായഹരിച്ച്, ശരീരം, മനസ്സ്, വാക്ക് എന്നിവയെ സംയമിച്ച്, സദാ വൈരാഗ്യത്തോടെ, ധ്യാനയോഗതത്പരനായി, അഹങ്കാരം, ബലം, അഭിമാനം, കാമം, ക്രോധം, പരിഗ്രഹം എന്നിവയെ വെടിഞ്ഞ്, നിര്\\u200dമമനായി, ശാന്തനായിരിക്കുന്നവന്\\u200d ബ്രഹ്മപദത്തെ പ്രാപിക്കുന്നു. <EOS>\\n', 'ഹേ കൃഷ്ണാ, എന്റെ ഈ സംശയത്തെ നിഃശേഷം അങ്ങു തീര്\\u200dത്തുതരേണ്ടതാണ്. ഈ സംശയം പരിഹരിക്കാന്\\u200d അങ്ങല്ലാതെ മറ്റൊരാള്\\u200d യോഗ്യനായില്ല. <EOS>\\n', 'ആസക്തിയും അഹന്തയും ഇല്ലാത്തവനും, ധൈര്യം, ഉത്സാഹം എന്നിവയുള്ളവനും, ജയപരാജയങ്ങളില്\\u200d ഇളകാത്തവനുമായ കര്\\u200dത്താവ് സാത്വികനാണെന്നു പറയപ്പെടുന്നു. <EOS>\\n', 'എന്റെ ഈ അഭിപ്രായം നിത്യവും ശ്രദ്ധയോടും അസൂയ കൂടാതെയും യാതൊരു മനുഷ്യര്\\u200d അനുഷ്ഠിക്കുന്നുവോ അവരും ക\\u200dര്\\u200dമ്മബന്ധത്തില്\\u200dനിന്നും വിമുക്തരായിത്തീരുന്നു. <EOS>\\n', 'ദുഃഖകരമാണെന്നു കരുതി ശരീരക്ലേശത്തെ ഒഴിവാക്കാനായി ത്യജിക്കുകയാണെങ്കില്\\u200d അത് രാജസികത്യാഗമാണ്. അതിലൂടെ ശരിയായ ത്യാഗത്തിന്റെ ഫലം ലഭിക്കുകയില്ല. <EOS>\\n', 'ചെയ്യേണ്ടതാണെന്നുള്ള ബോദ്ധ്യത്തോടെ ശാസ്ത്രവിഹിതമായ കര്\\u200dമ്മം ആസക്തിയെയും ഫലത്തെയും ത്യജിച്ച് ചെയ്യുകയാ ണെങ്കില്\\u200d അതിനെ സാത്വികത്യാഗമെന്നു പറയുന്നു. <EOS>\\n', 'അ\\u200dര്\\u200dജ്ജുനാ! ഞാ\\u200dന്\\u200d സ\\u200dര്\\u200dവഭൂതങ്ങളുടേയും അന്തരംഗത്തി\\u200dല്\\u200d സ്ഥിതിചെയ്യുന്ന പരമാത്മാവാണ്. സ\\u200dര്\\u200dവചരാചരങ്ങളുടെയും ആദിയും മദ്ധ്യവും അന്തവും ഞാനാണ്. <EOS>\\n', 'ഹേ പാര്\\u200dത്ഥാ എനിക്ക് മൂന്നു ലോകത്തിലും കര്\\u200dത്തവ്യമായി ഒന്നുമില്ല. എനിക്കു പ്രാപിക്കേണ്ടതായി ഒന്നും തന്നെയില്ല. എന്നിട്ടും ഞാന്\\u200d ക\\u200dര്\\u200dമ്മം ചെയ്തുകൊണ്ടു തന്നെയാണിരിക്കുന്നത്. <EOS>\\n', 'കര്\\u200dമ്മത്തിന്റെ ഫലം അനിഷ്ടം, ഇഷ്ടം, മിശ്രം എന്നിങ്ങനെ മൂന്നു വിധമാണ്. ത്യാഗികളല്ലാത്തവര്\\u200dക്കു മാത്രമേ ഈ ഫലങ്ങള്\\u200d അനുഭവപ്പെടുന്നുള്ളൂ. അല്ലാതെ സന്യാസികള്\\u200dക്ക് ഒരിക്കലുമില്ല. <EOS>\\n', 'ശ്രീ ഭഗവാന്\\u200d പറഞ്ഞു: ഹേ പാര്\\u200dത്ഥ, എന്നില്\\u200d ആസക്തചിത്തനായി എന്നെ ആശ്രയിച്ച് യോഗം അഭ്യസിച്ച് എങ്ങിനെ എന്നെ നിസ്സംശയമായും പൂര്\\u200dണമായും നീ അറിയുമോ ആ വിധം കേട്ടുകൊള്ളുക. <EOS>\\n', 'ഓം തത്സദിതി ശ്രീമദ്ഭഗവദ്ഗീതാസൂപനിഷത്സു ബ്രഹ്മവിദ്യായ\\u200dാം യോഗശാസ്ത്രേ ശ്രീകൃഷ്ണാര്\\u200dജുനസംവാദേ രാജവിദ്യാരാജഗുഹ്യയോഗോ നാമ നവമോധ്യായഃ\" <EOS>\\n', 'യാതോന്നറിഞ്ഞാല്\\u200d പിന്നെ അറിയേണ്ടതായി മറ്റൊന്നും ഈ ലോകത്തില്\\u200d അവശേഷിക്കയില്ലയോ ആ ജ്ഞാനം വിജ്ഞാനത്തോടുകൂടി ഞാന്\\u200d പൂര്\\u200dണമായി നിനക്കിതാ ഉപദേശിക്കാന്\\u200d പോകുന്നു. <EOS>\\n', 'അങ്ങനെയിരിക്കെ, കേവലനായ ആത്മാവിനെ കര്\\u200dത്താവായി കാണുന്ന അവിവേകിയായ ദുര്\\u200dമതി യാഥാര്\\u200dഥ്യം അറിയുന്നില്ല. <EOS>\\n', 'അര്\\u200dജുനന്\\u200d പറഞ്ഞു: ഹേ കൃഷ്ണാ, സന്യാസവും പിന്നെ കർമ്മയോഗവും അങ്ങ് ഉപദേശിക്കുന്നു. ഈ രണ്ടിൽ ഏതാണ് ശ്രേയസ്കരം എന്നത് നിശ്ചിതമായി എനിക്ക് പറഞ്ഞു തരിക.\" <EOS>\\n', 'അ\\u200dര്\\u200dജ്ജുനാ! അന്യദേവതകളെ ശ്രദ്ധയോടുകൂടി പൂജിക്കുന്ന ഭക്തന്മാ\\u200dര്\\u200d വിധിപൂ\\u200dര്\\u200dവമല്ലെങ്കിലും എന്നെത്തന്നെയാണ് പൂജിക്കുന്നത്. <EOS>\\n', 'ജ്ഞാനവും, കര്\\u200dമ്മവും, കര്\\u200dത്താവും ഗുണഭേദമനുസരിച്ച് സ\\u200dാംഖ്യത്തില്\\u200d മൂന്നു തരത്തിലാണെന്നു പറയപ്പെടുന്നു. അവയെ കേട്ടാലും. <EOS>\\n', 'മഹ\\u200dര്\\u200dഷിമാരി\\u200dല്\\u200d ഭൃഗുവും, വാക്കുകളില്\\u200d ഏകാക്ഷരമായ ഓങ്കാരവും, യജ്ഞങ്ങളി\\u200d\\u200dല്\\u200d ജപയജ്ഞവും സ്ഥാവരങ്ങളില്\\u200d ഹിമാലയവും ഞാനാണ്. <EOS>\\n', 'എന്നാല്\\u200d യാതൊരുവന്\\u200d രാഗദ്വേഷമില്ലാത്ത, ആത്മവശ്യങ്ങളായ ഇന്ദ്രിയങ്ങള്\\u200d കൊണ്ടു വിഷയങ്ങളെ അനുഭവിക്കുന്നുവോ ആത്മവിജയിയായ ആ പുരുഷന്\\u200d മനഃപ്രസാദത്തെ പ്രാപിക്കുന്നു. <EOS>\\n', 'യാതൊരു ജ്ഞാനം ഒരു കാര്യത്തില്\\u200d (ശരീരത്തില്\\u200d) തന്നെ പൂര്\\u200dണ്ണമാണെന്നുള്ള ധാരണയില്\\u200d ആസക്തിയോടെയും, കാരണ മില്ലാതെയും, സത്യത്തെ അറിയാതെയും, അല്പമായുമിരിക്കുന്നുവോ അത് താമസികജ്ഞാനമാണ്. <EOS>\\n', 'ശാസ്ത്രവിഹിതവും, ആസക്തിയില്ലാത്തതും, രാഗദ്വേഷരഹിതവും ഫലാക\\u200dാംക്ഷയില്ലാത്ത ഒരു വ്യക്തിയാല്\\u200d ചെയ്യപ്പെട്ടതുമായ കര്\\u200dമ്മം സാത്വികമാണ്. <EOS>\\n', 'ഹേ ഭാരത, എല്ലാവരുടെയും ശ്രദ്ധ അവരവരുടെ ശ്രദ്ധയെ ആശ്രയിച്ചിരിക്കുന്നു. ഈ മനുഷ്യന്\\u200d ശ്രദ്ധാമയനാണ്. ഒരുവന്റെ ശ്രദ്ധ ഏതാണോ അവന്\\u200d ആ തരത്തിലുള്ളവനായിരിക്കും. <EOS>\\n', 'മോഹത്തോടെ ആരംഭിക്കപ്പെട്ടതും, കര്\\u200dമ്മത്തിന്റെ ഫലമോ, അതുകൊണ്ടുള്ള നഷ്ടമോ, അപകടമോ, സ്വന്തം കഴിവോ കണക്കിലെടുക്കാതെ ചെയ്യപ്പെടുന്നതുമായ കര്\\u200dമ്മം താമസികമാണ്. <EOS>\\n', 'ആസക്തിയും അഹന്തയും ഇല്ലാത്തവനും, ധൈര്യം, ഉത്സാഹം എന്നിവയുള്ളവനും, ജയപരാജയങ്ങളില്\\u200d ഇളകാത്തവനുമായ കര്\\u200dത്താവ് സാത്വികനാണെന്നു പറയപ്പെടുന്നു. <EOS>\\n', 'ആസക്തിയുള്ളവനും, കര്\\u200dമ്മഫലത്തെ ആഗ്രഹിക്കുന്നവനും, പിശുക്കനും, അശുചിയും, ഹിംസാത്മകനും, (ജയപരാജയങ്ങളില്\\u200d) സന്തോഷിക്കുകയും ദുഃഖിക്കുകയും ചെയ്യുന്നവനുമായ കര്\\u200dത്താവ് രാജസികനെന്നു പറയപ്പെടുന്നു. <EOS>\\n', 'സ്ഥിരതയില്ലാത്തവനും, പ്രാകൃതനും, അഹങ്കാരവും ദര്\\u200dപ്പവുമുള്ളവനും, നീചനും അലസനും, ദുഃഖിതനും, ദീര്\\u200dഘസൂത്രിയുമായ (ചെയ്യാനുള്ള കാര്യങ്ങള്\\u200d നീട്ടിവെയ്ക്കുന്ന സ്വഭാവമുള്ളയാള്\\u200d) കര്\\u200dത്താവ് താമസികനാണ് എന്നു പറയപ്പെടുന്നു. <EOS>\\n', 'ഗുണങ്ങളുടെ അടിസ്ഥാനത്തില്\\u200d മൂന്നു വിധത്തിലുള്ള ബുദ്ധിയെയും, ധൈര്യത്തെയും കുറിച്ച് ഞാന്\\u200d ഓരോന്നായി വിശദീകരിക്കുന്നതു കേട്ടാലും. <EOS>\\n', 'അ\\u200dര്\\u200dജ്ജുനാ! ഞാ\\u200dന്\\u200d സ\\u200dര്\\u200dവഭൂതങ്ങളുടേയും അന്തരംഗത്തി\\u200dല്\\u200d സ്ഥിതിചെയ്യുന്ന പരമാത്മാവാണ്. സ\\u200dര്\\u200dവചരാചരങ്ങളുടെയും ആദിയും മദ്ധ്യവും അന്തവും ഞാനാണ്. <EOS>\\n', 'ധര്\\u200dമ്മം, അധര്\\u200dമ്മം, ചെയ്യേണ്ടത്, ചെയ്യേണ്ടാത്തത് എന്നിവയെ തെറ്റായി അറിയുന്ന ബുദ്ധി രാജസികബുദ്ധിയാകുന്നു. <EOS>\\n', 'അജ്ഞാനത്താല്\\u200d ആവരണം ചെയ്യപ്പെട്ടതുകൊണ്ട് അധര്\\u200dമ്മത്തെ ധര്\\u200dമ്മമായി തെറ്റിദ്ധരിക്കുകയും, സകലതിനെയും നേരെ വിപരീതമായ വിധത്തില്\\u200d അറിയുകയും ചെയ്യുന്ന ബുദ്ധി താമസികബുദ്ധിയാകുന്നു. <EOS>\\n', 'പുരുഷോത്തമനും സര്\\u200dവഭുതോ\\u200dല്പാദകനും ഭുതേശനും ദേവദേവനും ജഗ\\u200dല്\\u200dപതിയുമായ കൃഷ്ണാ! അങ്ങ് അങ്ങയെ അങ്ങയാ\\u200c\\u200dല്\\u200dതന്നെ തന്നെത്താ\\u200cന്\\u200dഅറിയുന്നു. <EOS>\\n', 'ഹേ ഭാരത, എല്ലാവരുടെയും ശ്രദ്ധ അവരവരുടെ ശ്രദ്ധയെ ആശ്രയിച്ചിരിക്കുന്നു. ഈ മനുഷ്യന്\\u200d ശ്രദ്ധാമയനാണ്. ഒരുവന്റെ ശ്രദ്ധ ഏതാണോ അവന്\\u200d ആ തരത്തിലുള്ളവനായിരിക്കും. <EOS>\\n', 'ദുര്\\u200dബുദ്ധിയായ ഒരുവന്\\u200d യാതൊരു ധൈര്യത്താല്\\u200d സ്വപ്നം, ഭയം, ദുഃഖം, വ്യസനം, അഹങ്കാരം എന്നിവയെ പരിത്യജിക്കാ തിരിക്കുന്നുവോ അത് താമസികമാണ്. <EOS>\\n', 'ഹേ അര്\\u200dജുനാ, നീ കണ്ടവിധത്തി\\u200dല്\\u200d കാണുന്നതിനു വേദങ്ങളാലോ തപസ്സിനാലോ ദാനത്തിനാലോ യോഗത്തിനാലോ ഒന്നും സാധിക്കുന്നതല്ല. <EOS>\\n', 'ഡംഭവും മാനവുമുള്ള ഇവര്\\u200d തൃപ്തിപ്പെടുത്തുവാന്\\u200d വിഷമമായ കാമത്തിന് അധീനരായി മോഹവശാല്\\u200d ദുരാഗ്രഹങ്ങളെ നിറവേറ്റുവാന്\\u200d അശുദ്ധവ്രതരായി പ്രവര്ത്തിക്കുന്നു. <EOS>\\n', 'ഉറക്കം, ആലസ്യം, അശ്രദ്ധ എന്നിവയില്\\u200d നിന്നുണ്ടാകുന്നതും തുടക്കത്തിലും ഒടുവിലും ഒരുവനെ മോഹിപ്പിക്കുകയും ചെയ്യുന്ന സുഖം താമസികമാണ്. <EOS>\\n', 'ഉറക്കം, ആലസ്യം, അശ്രദ്ധ എന്നിവയില്\\u200d നിന്നുണ്ടാകുന്നതും തുടക്കത്തിലും ഒടുവിലും ഒരുവനെ മോഹിപ്പിക്കുകയും ചെയ്യുന്ന സുഖം താമസികമാണ്. <EOS>\\n', 'ബ്രാഹ്മണന്\\u200d, ക്ഷത്രിയന്\\u200d, വൈശ്യന്\\u200d, ശൂദ്രന്\\u200d എന്നിവരുടെ കര്\\u200dമ്മങ്ങള്\\u200d സ്വഭാവജന്യമായ ഈ ഗുണങ്ങളുടെ അടിസ്ഥാനത്തില്\\u200d വിഭജിക്കപ്പെട്ടിരിക്കുന്നു. <EOS>\\n', 'അര്\\u200dജുനന്\\u200d ചോദിച്ചു: ഹേ കൃഷ്ണാ, പിന്നെ ആര്\\u200d പ്രേരിപ്പിചിട്ടാണ് ഈ പുരുഷന്\\u200d താ\\u200dന്\\u200d ഇച്ഛിക്കാതെയിരുന്നിട്ടും ബലമായ ഏതോ ശക്തിയാല്\\u200d നിയുക്തനെന്നപോലെ പാപകര്\\u200dമ്മങ്ങ\\u200dള്\\u200d അനുഷ്ഠിക്കുന്നത്. <EOS>\\n', 'ശൂരത്വം, തേജസ്സ്, ധൈര്യം, സാമര്\\u200dഥ്യം, യുദ്ധത്തില്\\u200d നിന്ന് പിന്തിരിയാതിരിക്കല്\\u200d, ദാനം, പ്രഭുത്വം എന്നിവയാണ് ക്ഷത്രിയന് സ്വാഭാവികമായുള്ള കര്\\u200dമ്മങ്ങള്\\u200d. <EOS>\\n', 'കൃഷി, പശുവിനെ വളര്\\u200dത്തല്\\u200d, കച്ചവടം എന്നിവ വൈശ്യന്റെ സ്വാഭാവികകര്\\u200dമ്മങ്ങളും, പരിചാരകവൃത്തി ശൂദ്രന്റെ സ്വാഭാവികകര്\\u200dമ്മങ്ങളുമാകുന്നു. <EOS>\\n', 'പാണ്ഡവ സൈന്യത്തില്\\u200d ഭീമാര്\\u200dജുനതുല്യരും ശൂരരും വലിയ വില്ലാളികളുമായ യുയുധാനനും വിരാടനും മഹാരഥനായ ദ്രുപദനും ദൃഷ്ടകേതുവും ചേകിതാനനും വീര്യവാനായ കാശിരാജാവും പുരുജിത്തും കുന്തിഭോജനും നരശ്രേഷ്ടനായ ശൈബ്യനും വിക്രമിയായ യുധാമന്യുവും വീര്യവാനായ ഉത്തമൌജസും സുഭദ്രാതനയനായ അഭിമന്യുവും ദ്രൌപദീപുത്രന്മാരും ഉണ്ട്. അവര്\\u200d എല്ലാവരും തന്നെ മഹാരഥന്മാരാണല്ലോ. <EOS>\\n', 'ഹേ ഭാരത, സത്വം സുഖത്തോടും, രജസ്സ് കര്\\u200dമ്മത്തോടും സംഗം ജനിപ്പിക്കുന്നു, എന്നാല്\\u200d തമസ്സ് ജ്ഞാനത്തെ മറച്ച് അശ്രദ്ധയോടും സംഗം ജനിപ്പിക്കുന്നു. <EOS>\\n', 'ഹേ രാജന്\\u200d\\u200d, വിഷ്ണുവിന്റെ ആ അത്ഭുതകരമായ രൂപത്തെ (വിശ്വരൂപത്തെ) ഓര്\\u200dക്കുന്തോറും എനിക്ക് പിന്നെയും പിന്നെയും മഹത്തായ വിസ്മയവും ആനന്ദവുമുണ്ടാകുന്നു. <EOS>\\n', 'ഹേ പാര്\\u200dഥ, ഉള്ളത് എന്ന അര്\\u200dഥത്തിലും, നല്ലത് എന്ന അര്\\u200dഥത്തിലും സത് എന്ന പദം പ്രയോഗിക്കപ്പെടുന്നു. അതുപോലെ, ശ്രേഷ്ഠമായ കര്\\u200dമ്മത്തെ ഉദ്ദേശിച്ചും സത് എന്ന് ശബ്ദം ഉപയോഗിക്കപ്പെടുന്നു. <EOS>\\n', 'അര്\\u200dജുനന്\\u200d പറഞ്ഞു: ഹേ കൃഷ്ണാ, സന്യാസവും പിന്നെ കർമ്മയോഗവും അങ്ങ് ഉപദേശിക്കുന്നു. ഈ രണ്ടിൽ ഏതാണ് ശ്രേയസ്കരം എന്നത് നിശ്ചിതമായി എനിക്ക് പറഞ്ഞു തരിക.\" <EOS>\\n', 'ലോകവ്യാപിയായ ദേവേശ! മുമ്പു കാണാത്തതു കണ്ടിട്ട് ഞാ\\u200d\\u200d\\u200dന്\\u200d സന്തോഷിക്കുന്നു; എങ്കിലും ഭയത്താല്\\u200d എന്റെ ഹൃദയം വിഹ്വലമായിത്തീരുന്നു. അങ്ങയുടെ ആ (ശ്രീകൃഷ്ണാകൃതിയിലുള്ള) രൂപം തന്നെ എനിക്കു കാണിച്ചു തരിക. ദേവ! പ്രസാദിക്കേണമേ! <EOS>\\n', 'പരിശുദ്ധമായ ബുദ്ധിയാല്\\u200d മനസ്സിനെ ധൈര്യപൂര്\\u200dവ്വം നിയന്ത്രിച്ച്, ശബ്ദം, സ്പര്\\u200dശം, തുടങ്ങിയ വിഷയങ്ങളെ ത്യജിച്ച്, രാഗദ്വേഷങ്ങളെ അകറ്റി, വിജനപ്രദേശത്തു വസിച്ച്, മിതമായഹരിച്ച്, ശരീരം, മനസ്സ്, വാക്ക് എന്നിവയെ സംയമിച്ച്, സദാ വൈരാഗ്യത്തോടെ, ധ്യാനയോഗതത്പരനായി, അഹങ്കാരം, ബലം, അഭിമാനം, കാമം, ക്രോധം, പരിഗ്രഹം എന്നിവയെ വെടിഞ്ഞ്, നിര്\\u200dമമനായി, ശാന്തനായിരിക്കുന്നവന്\\u200d ബ്രഹ്മപദത്തെ പ്രാപിക്കുന്നു. <EOS>\\n', 'ബ്രഹ്മഭാവത്തെ പ്രാപിച്ചവന്\\u200d പ്രസന്നമായ മനസ്സോടെ, ഒന്നും ആഗ്രഹിക്കുകയോ ഒന്നിലും ദുഃഖിക്കുകയോ ചെയ്യാതെ, സര്\\u200dവ്വഭൂതങ്ങളിലും സമനായി എന്നില്\\u200d പരമമായ ഭക്തിയെ നേടുന്നു. <EOS>\\n', 'ഭക്തികൊണ്ട് ഞാന്\\u200d തത്വത്തില്\\u200d എങ്ങനെയുള്ളവനാണ് എന്നറിയുന്നവന്\\u200d അതിന്റെ ഫലമായി എന്നെ പ്രാപിക്കുന്നു. <EOS>\\n', 'എല്ലായ്പോഴും എന്നെ ശരണം പ്രാപിച്ചുകൊണ്ട് എല്ലാ കര്\\u200dമ്മങ്ങളും ചെയ്യുന്നവന്\\u200d എന്റെ പ്രസാദത്താല്\\u200d ശാശ്വതമായ സ്ഥിതിയെ പ്രാപിക്കുന്നു. <EOS>\\n', 'എല്ലാ കര്\\u200dമ്മങ്ങളും മനസാ എന്നില്\\u200d സമര്\\u200dപ്പിച്ച്, ബുദ്ധിയോഗത്തെ ആശ്രയിച്ച്, മനസ്സിനെ സദാ എന്നില്\\u200d തന്നെ ഉറപ്പിക്കുക. <EOS>\\n', 'ഹേ ഭാരത, എല്ലാവരുടെയും ശ്രദ്ധ അവരവരുടെ ശ്രദ്ധയെ ആശ്രയിച്ചിരിക്കുന്നു. ഈ മനുഷ്യന്\\u200d ശ്രദ്ധാമയനാണ്. ഒരുവന്റെ ശ്രദ്ധ ഏതാണോ അവന്\\u200d ആ തരത്തിലുള്ളവനായിരിക്കും. <EOS>\\n', 'അര്\\u200dജുനന്\\u200d പറഞ്ഞു: ഹേ കൃഷ്ണാ, പ്രകൃതി, പുരുഷ\\u200dന്\\u200d, ക്ഷേത്രം, ക്ഷേത്രജ്ഞ\\u200dന്\\u200d, ജ്ഞാനം (അറിവ്), ജ്ഞേയം (അറിയപ്പെടേണ്ടത്) എന്നിവയെപ്പറ്റി ഞാന്\\u200d അറിയാന്\\u200d ആഗ്രഹിക്കുന്നു. <EOS>\\n', 'ഹേ അര്\\u200dജുനാ, നീ ആദ്യം ഇന്ദ്രിയങ്ങളെ നിയന്ത്രിച്ചിട്ട് ജ്ഞാനത്തെയും വിജ്ഞാനത്തെയും നശിപ്പിക്കുന്ന ഈ പാപരൂപമായ കാമത്തെ നിഃശേഷം നശിപ്പിക്കുക. <EOS>\\n', 'ഹേ അര്\\u200dജുന, ഈശ്വരന്\\u200d മായയാല്\\u200d യന്ത്രത്തില്\\u200d വെച്ചിരിക്കുന്ന വസ്തുക്കളെയെന്ന പോലെ സര്\\u200dവ്വജീവികളെയും പ്രവര്\\u200dത്തിപ്പിച്ചു കൊണ്ട് അവരുടെയെല്ല\\u200dാം ഹൃദയത്തില്\\u200d വസിക്കുന്നു. <EOS>\\n', 'ഹേ ഭാരത, എല്ലാവരുടെയും ശ്രദ്ധ അവരവരുടെ ശ്രദ്ധയെ തന്നെ തന്റെ ബന്ധുവാണ്. തന്റെ മേല്\\u200d നിയന്ത്രണമില്ലാത്തവനു താന്\\u200d തന്നെ ശത്രുവിനെപ്പോലെ ശത്രുത്വത്തില്\\u200d വര്\\u200dത്തിക്കുന്നു. <EOS>\\n', 'അര്\\u200dജുനന്\\u200d പറഞ്ഞു: ഹേ കൃഷ്ണാ, സന്യാസവും പിന്നെ കർമ്മയോഗവും അങ്ങ് ഉപദേശിക്കുന്നു. ഈ രണ്ടിൽ ഏതാണ് ശ്രേയസ്കരം എന്നത് നിശ്ചിതമായി എനിക്ക് പറഞ്ഞു തരിക.\" <EOS>\\n', 'എല്ലാറ്റിലും രഹസ്യവും ശ്രേഷ്ഠവുമായ വാക്കുകള്\\u200d വീണ്ടും കേള്\\u200dക്കൂ. നി എനിക്കു പ്രിയപ്പെട്ടവനാകയാല്\\u200d നിനക്കു ഹിതമായതു ഞാന്\\u200d പറയ\\u200dാം. <EOS>\\n', 'എന്തെന്നാല്\\u200d ഹേ കൃഷ്ണാ, മനസ്സ് ചഞ്ചലവും ക്ഷുബ്ധവും നിയന്ത്രണ ത്തിനു വഴങ്ങാത്തതും അയവില്ലാത്തതുമാണ്. അതിന്റെ നിയന്ത്രണം വായുവിന്റെതെന്നപോലെ ദുഷ്ക്കരമായി ഞാന്\\u200d കരുതുന്നു. <EOS>\\n', 'കൃഷ്ണാ! ഞാന്\\u200d നിരന്തരം ധ്യാനിച്ചുകൊണ്ട് അങ്ങയെ എങ്ങനെയാണ് അറിയുക? ഏതേതുഭാവത്തിലാണ് അങ്ങയെ ഞാ\\u200cന്\\u200d ധ്യാനിക്കേണ്ടത്? <EOS>\\n', 'അ\\u200dര്\\u200dജ്ജുനാ! നീ ഏതൊന്നു ചെയുന്നവോ, ഏതൊന്ന് ഭക്ഷിക്കുന്നുവോ, ഏതൊന്നു ഹോമിക്കുന്നുവോ, ഏതൊന്നു ന\\u200dല്\\u200dകുന്നുവോ, ഏതൊരു തപസ്സുചെയ്യുന്നുവോ അതൊക്കയും എന്നി\\u200dല്\\u200d സമ\\u200dര്\\u200dപ്പിച്ചാലും. <EOS>\\n', 'എന്നില്\\u200d പരമമായ ഭക്തിയോടെ എന്റെ ഭക്തന്മാര്\\u200dക്ക് ഇത് യാതൊരുവന്\\u200d പറഞ്ഞുകൊടുക്കുന്നുവോ, അവന്\\u200d എന്നെ പ്രാപിക്കുമെന്നതിനു സംശയമില്ല. <EOS>\\n', 'ഹേ ഭാരത, എല്ലാവരുടെയും ശ്രദ്ധ അവരവരുടെ ശ്രദ്ധയെ ആശ്രയിച്ചിരിക്കുന്നു. ഈ മനുഷ്യന്\\u200d ശ്രദ്ധാമയനാണ്. ഒരുവന്റെ ശ്രദ്ധ ഏതാണോ അവന്\\u200d ആ തരത്തിലുള്ളവനായിരിക്കും. <EOS>\\n', 'നമ്മുടെ ധര്\\u200dമ്മമൃതമായ ഈ സംവാദത്തെ പഠിക്കുന്നവനാല്\\u200d ജ്ഞാനയജ്ഞത്താല്\\u200d ഞാന്\\u200d യജിക്കപ്പെടുന്നു എന്നാണ് എന്റെ അഭിപ്രായം. <EOS>\\n', 'അ\\u200dര്\\u200dജ്ജുനാ! ഞാ\\u200dന്\\u200d സ\\u200dര്\\u200dവഭൂതങ്ങളുടേയും അന്തരംഗത്തി\\u200dല്\\u200d സ്ഥിതിചെയ്യുന്ന പരമാത്മാവാണ്. സ\\u200dര്\\u200dവചരാചരങ്ങളുടെയും ആദിയും മദ്ധ്യവും അന്തവും ഞാനാണ്. <EOS>\\n', 'ഹേ പാര്\\u200dഥ, നീ ഏകാഗ്രചിത്തനായി ഇതെല്ല\\u200dാം കേട്ടുവോ? നിന്റെ അജ്ഞാനവും മോഹവും നഷ്ടമായോ? <EOS>\\n', 'ഹേ അര്\\u200dജുനാ, എന്റെ യോനിയാകുന്ന മഹാപ്രകൃതിയില്\\u200d ഞാന്\\u200d ബീജത്തെ നിക്ഷേപിക്കുന്നു. സര്\\u200dവ്വ ജീവരാശികളുടെയും ജന്മം അതില്\\u200dനിന്നാണ്. <EOS>\\n', 'ഹേ മഹാത്മാവേ! ഭുമിയ്ക്കും ധ്യുലോകത്തിനുമിടയിലുള്ള ഈ ആകാശവും, എല്ലാ ദിക്കുകളും വ്യാപിച്ച് വിളങ്ങുന്ന അവിടുത്തെ അത്യുഗ്രമായ ഈ രൂപം കണ്ട് മൂന്നുലോകവും നടുങ്ങിപ്പോകുന്നു. <EOS>\\n', 'ഹേ കൗരവശ്രേഷ്ഠ! ഈ മനുഷ്യലോകത്തി\\u200dല്\\u200dനീയൊഴിച്ചു മറ്റൊരു ത്തനും എന്റെ ദിവ്യമായ യോഗശക്തിയെ കണ്ടാലും. ഞാ\\u200dന്\\u200d സര്\\u200dവ്വ ഭൂതങ്ങളേയും ഉണ്ടാക്കുന്നവനും ധരിക്കുന്നവനുമാണെങ്കിലും ഞാ\\u200dന്\\u200d ഭൂതങ്ങളില്\\u200d സ്ഥിതി ചെയ്യുന്നില്ല. <EOS>\\n', 'അ\\u200dര്\\u200dജ്ജുനാ! നീ ഏതൊന്നു ചെയുന്നവോ, ഏതൊന്ന് ഭക്ഷിക്കുന്നുവോ, ഏതൊന്നു ഹോമിക്കുന്നുവോ, ഏതൊന്നു ന\\u200dല്\\u200dകുന്നുവോ, ഏതൊരു തപസ്സുചെയ്യുന്നുവോ അതൊക്കയും എന്നി\\u200dല്\\u200d സമ\\u200dര്\\u200dപ്പിച്ചാലും. <EOS>\\n', 'ഹേ രാജന്\\u200d\\u200d, വിഷ്ണുവിന്റെ ആ അത്ഭുതകരമായ രൂപത്തെ (വിശ്വരൂപത്തെ) ഓര്\\u200dക്കുന്തോറും എനിക്ക് പിന്നെയും പിന്നെയും മഹത്തായ വിസ്മയവും ആനന്ദവുമുണ്ടാകുന്നു. <EOS>\\n', 'എവിടെ യോഗേശ്വരനായ കൃഷ്ണനും വില്ലാളിയായ അര്\\u200dജുനനുമുണ്ടോ അവിടെ ഐശ്വര്യവും, വിജയവും, അഭിവൃദ്ധിയും, നീതിയും നിശ്ചയമായും ഉണ്ടായിരിക്കുമെന്നാണ് എന്റെ അഭിപ്രായം. <EOS>\\n', 'ഹേ അര്\\u200dജുനാ, എന്റെ യോനിയാകുന്ന മഹാപ്രകൃതിയില്\\u200d ഞാന്\\u200d ബീജത്തെ നിക്ഷേപിക്കുന്നു. സര്\\u200dവ്വ ജീവരാശികളുടെയും ജന്മം അതില്\\u200dനിന്നാണ്. <EOS>\\n', 'അ\\u200dര്\\u200dജ്ജുനാ! പ്രളയകാലത്തില്\\u200d സര്\\u200dവ്വഭൂതങ്ങളും എന്റെ പ്രകൃതിയിലേയ്ക്കു ചെല്ലുന്നു. സൃഷ്ടികാലത്തില്\\u200d അവയെല്ല\\u200dാം ഞാന്\\u200d വീണ്ടും സൃഷ്ടിക്കുന്നു. <EOS>\\n', 'ആരാണോ ഡംഭ്, അഹങ്കാരം എന്നിവയോടുകൂടി, കാമം, രാഗം എന്നിവയ്ക്കധീനരായി ശാസ്ത്രത്തില്\\u200d വിധിച്ചിട്ടില്ലാത്ത തരത്തില്\\u200d ഘോരമായ തപസ്സനുഷ്ഠിക്കുന്നത്, തങ്ങളുടെ ഇന്ദ്രിയങ്ങളെയും, ശരീരത്തില്\\u200d വര്ത്തിക്കുന്ന എന്നെയും പീഡിപ്പിക്കുന്ന അവിവേകികളായ അവര്\\u200d ആസുരനിശ്ചയം ചെയ്തവരാണെ ന്നറിഞ്ഞാലും. <EOS>\\n', 'ആദിത്യന്മാരി\\u200d\\u200dല്\\u200d വിഷ്ണുവും, ജ്യോതിസ്സുകളി\\u200dല്\\u200d സഹസ്രകിരണനായ സൂര്യനും, വായുക്കളി\\u200c\\u200dല്\\u200d മരീചിയും, നക്ഷത്രങ്ങളില്\\u200d ചന്ദ്രനും ഞാനാണ്. <EOS>\\n', 'ആരാണോ ഡംഭ്, അഹങ്കാരം എന്നിവയോടുകൂടി, കാമം, രാഗം എന്നിവയ്ക്കധീനരായി ശാസ്ത്രത്തില്\\u200d വിധിച്ചിട്ടില്ലാത്ത തരത്തില്\\u200d ഘോരമായ തപസ്സനുഷ്ഠിക്കുന്നത്, തങ്ങളുടെ ഇന്ദ്രിയങ്ങളെയും, ശരീരത്തില്\\u200d വര്ത്തിക്കുന്ന എന്നെയും പീഡിപ്പിക്കുന്ന അവിവേകികളായ അവര്\\u200d ആസുരനിശ്ചയം ചെയ്തവരാണെ ന്നറിഞ്ഞാലും. <EOS>\\n', 'പ്രകൃതിയാണ് ക\\u200dര്\\u200dമ്മങ്ങളെല്ല\\u200dാം ചെയ്യുന്നത് എന്നും ആത്മാവ് ഒന്നും ചെയ്യാത്തവനാണെന്നും അറിയുന്നവന്\\u200d യഥാ\\u200dര്\\u200dത്ഥത്തില്\\u200d അറിവുള്ളവനാകുന്നു. <EOS>\\n', 'മധുസൂദനാ, എന്നെ കൊന്നാല്\\u200d പോലും മൂന്നു ലോകത്തിന്റെയും ആധിപത്യത്തിനു വേണ്ടിപ്പോലും ഇവരെ കൊല്ലാന്\\u200d ഞാന്\\u200d ആഗ്രഹിക്കുന്നില്ല. പിന്നെയാണോ ഈ ഭൂമിക്കു വേണ്ടി? <EOS>\\n', 'മധുസൂദനാ, എന്നെ കൊന്നാല്\\u200d പോലും മൂന്നു ലോകത്തിന്റെയും ആധിപത്യത്തിനു വേണ്ടിപ്പോലും ഇവരെ കൊല്ലാന്\\u200d ഞാന്\\u200d ആഗ്രഹിക്കുന്നില്ല. പിന്നെയാണോ ഈ ഭൂമിക്കു വേണ്ടി? <EOS>\\n', 'ഹേ അര്\\u200dജുനാ, നീ കുലുങ്ങേണ്ടതില്ല. എന്തെന്നാല്\\u200d ക്ഷത്രിയന് ധ\\u200dര്\\u200dമ്മ സംഗതമായ യുദ്ധത്തേക്കാള്\\u200d ശ്രേയസ്കരമായി മറ്റൊന്നുമില്ല. <EOS>\\n', 'ഹേ ജനാ\\u200dര്\\u200dദ്ദനാ!, ധൃതരാഷ്ട്രപുത്രന്\\u200dമാരെ കൊന്നിട്ട് നമുക്കു എന്തു സന്തോഷമുണ്ടാകാനാണ്? ആതതായികളായ ഇവരെ കൊന്നാ ല്\\u200d പാപം മാത്രമാണ് നമുക്കു ഫലം. <EOS>\\n', 'ഹേ ഭാരതശ്രെഷ്ടാ, അതുകൊണ്ട് നീ ആദ്യം ഇന്ദ്രിയങ്ങളെ നിയന്ത്രിച്ചിട്ട് ജ്ഞാനത്തെയും വിജ്ഞാനത്തെയും നശിപ്പിക്കുന്ന ഈ പാപരൂപമായ കാമത്തെ നിഃശേഷം നശിപ്പിക്കുക. <EOS>\\n', 'ഹേ പാര്\\u200dത്ഥ, എല്ലാ ഭൂതങ്ങളുടെയും ശാശ്വതമായ ബീജമായി എന്നെ അറിയുക. ബുദ്ധിമാന്\\u200dമാരുടെ ബുദ്ധി ഞാനാണ്. തേജസ്വികളുടെ തേജസ്സും ഞാനാകുന്നു. <EOS>\\n', 'കലുഷം ക്ഷയിച്ചവരും സംശയഹീനരും മനോജയം നേടിയവരും സർവഭൂതങ്ങളുടെയും ക്ഷേമത്തിൽ തൽപരരുമായ ഋഷിമാർ ബ്രഹ്മാനന്ദം നേടുന്നു. <EOS>\\n', 'ഹേ അര്\\u200dജുനാ, എന്റെ യോനിയാകുന്ന മഹാപ്രകൃതിയില്\\u200d ഞാന്\\u200d ബീജത്തെ നിക്ഷേപിക്കുന്നു. സര്\\u200dവ്വ ജീവരാശികളുടെയും ജന്മം അതില്\\u200dനിന്നാണ്. <EOS>\\n', 'അ\\u200dര്\\u200dജ്ജുനാ! പ്രളയകാലത്തില്\\u200d സര്\\u200dവ്വഭൂതങ്ങളും എന്റെ പ്രകൃതിയിലേയ്ക്കു ചെല്ലുന്നു. സൃഷ്ടികാലത്തില്\\u200d അവയെല്ല\\u200dാം ഞാന്\\u200d വീണ്ടും സൃഷ്ടിക്കുന്നു. <EOS>\\n', 'കൃഷി, പശുവിനെ വളര്\\u200dത്തല്\\u200d, കച്ചവടം എന്നിവ വൈശ്യന്റെ സ്വാഭാവികകര്\\u200dമ്മങ്ങളും, പരിചാരകവൃത്തി ശൂദ്രന്റെ സ്വാഭാവികകര്\\u200dമ്മങ്ങളുമാകുന്നു. <EOS>\\n', 'ഹേ ഭാരത, സത്വം സുഖത്തോടും, രജസ്സ് കര്\\u200dമ്മത്തോടും സംഗം ജനിപ്പിക്കുന്നു, എന്നാല്\\u200d തമസ്സ് ജ്ഞാനത്തെ മറച്ച് അശ്രദ്ധയോടും സംഗം ജനിപ്പിക്കുന്നു. <EOS>\\n', 'അതുകൊണ്ട് ഭീഷ്മരക്ഷിതമായ നമ്മുടെ സൈന്യം അപരിമിതമെങ്കിലും അപര്യാപ്തവും ഭീമന്\\u200d രക്ഷിക്കുന്ന അവരുടെ സൈന്യം പരിമിതമെങ്കിലും പര്യാപ്തവും ആണ്. <EOS>\\n', 'ഹേ ഭാരത, എല്ലാവരുടെയും ശ്രദ്ധ അവരവരുടെ ശ്രദ്ധയെ ആശ്രയിച്ചിരിക്കുന്നു. ഈ മനുഷ്യന്\\u200d ശ്രദ്ധാമയനാണ്. ഒരുവന്റെ ശ്രദ്ധ ഏതാണോ അവന്\\u200d ആ തരത്തിലുള്ളവനായിരിക്കും. <EOS>\\n', '\"എന്നി\\u200dല്\\u200d മനസ്സു വെച്ച്, എന്നി\\u200dല്\\u200d ഭക്തിയോടുകൂടി എന്നെ പൂജിക്കുകയും എന്നെ നമസ്കരിക്കുകയും ചെയ്യുക. ഇങ്ങനെ എന്നെത്തന്നെ വിചാരിചുകൊണ്ട് മനസ്സ് എന്നി\\u200dലുറപ്പിക്കുന്നവന്\\u200d എന്നെത്തന്നെ പ്രാപിക്കും. <EOS>\\n', 'ഹേ മഹാബാഹോ, ബ്രഹ്മമാ\\u200dര്\\u200dഗ്ഗത്തില്\\u200d നിന്ന്\\u200c തെറ്റി എങ്ങുമുറയ്ക്കാതെ ലൌകികമാര്\\u200dഗം, യോഗമാര്\\u200dഗം ഈ രണ്ടിലും സ്ഥാനമില്ലാതെ ഛിന്നഭിന്നമായ മേഘം പോലെ അവന്\\u200d നശിക്കുകയില്ലേ? <EOS>\\n', 'എന്റെ അവ്യയവും അനുത്തമവും തമോഗുണസ്പര്\\u200dശമില്ലാത്തതുമായ സര്\\u200dവാതീതഭാവത്തെ അറിയാതെ അവ്യക്തനായ എന്നെ വ്യക്തിത്വം പ്രാപിച്ചവനെന്നു ബുദ്ധിഹീനര്\\u200d വിചാരിക്കുന്നു. <EOS>\\n', 'മനസ്സിനെ എന്നി\\u200dല്\\u200dതന്നെ നിലനി\\u200dര്\\u200dത്തുക; സ്ഥിരമായി എന്നി\\u200cല്\\u200dതന്നെ ബുദ്ധിയെ ചെലുത്തുക; അങ്ങനെ ചെയ്താല്\\u200d നീ എന്നില്\\u200d തന്നെ നിവസിക്കും, സംശയമില്ല. <EOS>\\n', 'അ\\u200dര്\\u200dജ്ജുനാ, ഈ ധര്\\u200dമ്മത്തെ വിശ്വസിക്കാത്ത പുരുഷന്മാര്\\u200d എന്നെ പ്രാപിക്കുവാന്\\u200dകഴിയാതെ മൃത്യുപൂ\\u200dര്\\u200dവ്വമായ സംസാരമാര്\\u200dഗ്ഗത്തിലേക്ക് തിരിച്ചു വരുന്നു. <EOS>\\n', 'ഭുതങ്ങ\\u200dള്\\u200d (യഥാര്\\u200dഥത്തില്\\u200d) എന്നില്\\u200d സ്ഥിതി ചെയ്യുന്നതുമില്ല. എന്റെ ദിവ്യമായ യോഗശക്തിയെ കണ്ടാലും. ഞാ\\u200dന്\\u200d സര്\\u200dവ്വ ഭൂതങ്ങളേയും ഉണ്ടാക്കുന്നവനും ധരിക്കുന്നവനുമാണെങ്കിലും ഞാ\\u200dന്\\u200d ഭൂതങ്ങളില്\\u200d സ്ഥിതി ചെയ്യുന്നില്ല. <EOS>\\n', 'അ\\u200dര്\\u200dജ്ജുനാ! മഹാത്മാക്കളാവട്ടെ ദിവ്യമായ സ്വഭാവത്തെ കൈക്കൊണ്ട്, ഏകാഗ്രചിത്തരായി ഭുതങ്ങ\\u200dള്\\u200dക്കെല്ല\\u200dാം ആദ്യനും അനശ്വരന്മായ എന്നെ അറിഞ്ഞു ഭജിക്കുന്നു. <EOS>\\n', 'ഹേ ഭാരത, തമസ്സ് അജ്ഞാനത്തില്\\u200d നിന്നുണ്ടാകുന്നതും എല്ലാ ദേഹികളെയും (ജീവന്മാരെയും) മോഹിപ്പിക്കുന്നതുമാണെന്നറിയൂ. അത് അശ്രദ്ധ, ആലസ്യം, ഉറക്ക എന്നിവയാല്\\u200d ദേഹിയെ ബന്ധിക്കുന്നു. <EOS>\\n', 'എന്നി\\u200d\\u200dല്\\u200d മനസ്സുവയ്ക്കുകയും, എല്ലാ ഇന്ദ്രിയങ്ങളും എന്നില്\\u200d ലയിക്കുകയും ചെയ്തവ\\u200dര്\\u200d നിരന്തരം എന്നെപ്പറ്റി പരസ്പരം ബോധിപ്പിക്കുകയും ആനന്ദിക്കുകയും ചെയ്യുന്നു. <EOS>\\n', 'ഹേ ഭാരത, സത്വം സുഖത്തോടും, രജസ്സ് കര്\\u200dമ്മത്തോടും സംഗം ജനിപ്പിക്കുന്നു, എന്നാല്\\u200d തമസ്സ് ജ്ഞാനത്തെ മറച്ച് അശ്രദ്ധയോടും സംഗം ജനിപ്പിക്കുന്നു. <EOS>\\n', 'എല്ലാവര്\\u200dക്കും പ്രിയപ്പെട്ട ആഹാരവും മൂന്നു വിധത്തിലുണ്ട്. യജ്ഞം, തപസ്സ്, ദാനം എന്നിവയുടെയും ഭേദം നീ കേട്ടാലും. <EOS>\\n', 'ഹേ ഭാരത, എല്ലാവരുടെയും ശ്രദ്ധ അവരവരുടെ ശ്രദ്ധയെ ആശ്രയിച്ചിരിക്കുന്നു. ഈ മനുഷ്യന്\\u200d ശ്രദ്ധാമയനാണ്. ഒരുവന്റെ ശ്രദ്ധ ഏതാണോ അവന്\\u200d ആ തരത്തിലുള്ളവനായിരിക്കും. <EOS>\\n', 'സാംഖ്യവും യോഗവും വെവ്വേറെയായി അജ്ഞന്മാർ പറയുന്നു. പണ്ഡിതൻമാര് അങ്ങനെ പറയുന്നില്ല. ഒന്നെങ്കിലും വേണ്ടവിധം അനുഷ്ഠിക്കുന്ന പക്ഷം രണ്ടിന്റെയും ഫലം ലഭിക്കും. <EOS>\\n', 'ഹേ ഭാരത, എല്ലാവരുടെയും ഈ ലോകത്തില്\\u200d ഭിക്ഷയെടുക്കുന്നത് പോലും ശ്രേയസ്കരമാണ്. ഗുരുക്കന്മാരെ ഹനിച്ചിട്ട്\\u200c അ\\u200dര്\\u200dത്ഥകാമസ്വരൂപങ്ങളും രക്തം പുരണ്ടതുമായ ഭോഗങ്ങളെ ഈ ലോകത്തില്\\u200dവെച്ചുതന്നെ ഭുജിക്കണോ? <EOS>\\n', 'അര്\\u200dജുനന്\\u200d പറഞ്ഞു: ഹേ കൃഷ്ണാ, സന്യാസവും പിന്നെ കർമ്മയോഗവും അങ്ങ് ഉപദേശിക്കുന്നു. ഈ രണ്ടിൽ ഏതാണ് ശ്രേയസ്കരം എന്നത് നിശ്ചിതമായി എനിക്ക് പറഞ്ഞു തരിക.\" <EOS>\\n', 'ഹേ പാര്\\u200dത്ഥ! ഈ സര്\\u200dവഭൂതങ്ങളും വീണ്ടും വീണ്ടും ഉണ്ടായി രാത്രിയുടെ ആരംഭത്തില്\\u200d പ്രകൃതിയില്\\u200d ലയിക്കയും പരാധീനരായി പ്രഭാതത്തില്\\u200d വീണ്ടും ഉത്ഭവിക്കയും ചെയ്യുന്നു. <EOS>\\n', 'ഹേ കൗരവശ്രേഷ്ഠ! ഈ മനുഷ്യലോകത്തി\\u200dല്\\u200dനീയൊഴിച്ചു മറ്റൊരു ത്തനും എന്റെ സൈന്യത്തില്\\u200d നായകന്മാരായ അവരുടെ പേരുകള്\\u200d അങ്ങയെ ഒര്\\u200dമ്മിപ്പിക്കുവാനായി ഞാന്\\u200d പറയ\\u200dാം. <EOS>\\n', 'ശാസ്ത്രവിധിയനുസരിക്കാതെയും, അന്നവും ദക്ഷിണയും കൊടുക്കാതെയും, മന്ത്രഹീനവും, ശ്രദ്ധയില്ലാതെയും ചെയ്യുന്ന യജ്ഞം താമസികമാണ്. <EOS>\\n', 'ഹേ രാജന്\\u200d\\u200d, വിഷ്ണുവിന്റെ ആ അത്ഭുതകരമായ രൂപത്തെ (വിശ്വരൂപത്തെ) ഓര്\\u200dക്കുന്തോറും എനിക്ക് പിന്നെയും പിന്നെയും മഹത്തായ വിസ്മയവും ആനന്ദവുമുണ്ടാകുന്നു. <EOS>\\n', 'മധുസൂദനാ, എന്നെ കൊന്നാല്\\u200d പോലും മൂന്നു ലോകത്തിന്റെയും ആധിപത്യത്തിനു വേണ്ടിപ്പോലും ഇവരെ കൊല്ലാന്\\u200d ഞാന്\\u200d ആഗ്രഹിക്കുന്നില്ല. പിന്നെയാണോ ഈ ഭൂമിക്കു വേണ്ടി? <EOS>\\n', 'സുഹൃത്തുക്കള്\\u200d\\u200d, മിത്രങ്ങള്\\u200d, ശത്രുക്കള്\\u200d, ഉദാസീനന്\\u200dമാ\\u200d\\u200dര്\\u200d, വെറുക്കപ്പെടേണ്ടവര്\\u200d, ബന്ധുക്കള്\\u200d ഇവരിലും നല്ലവരിലും പാപികളിലും സമബുദ്ധിയായിരിക്കുന്നവന്\\u200d വിശിഷ്ടനാകുന്നു. <EOS>\\n', 'ഹേ കുന്തീപുത്രാ, ഇന്ദ്രിയനിഗ്രഹത്തിനായി പ്രയത്നിക്കുന്ന വിദ്വാനായ പുരുഷന്റെ മനസ്സിനെപ്പോലും ക്ഷോഭിച്ചിരിക്കുന്ന ഇന്ദ്രിയങ്ങ\\u200c\\u200dള്\\u200d ബലാല്\\u200dക്കാരമായി വശത്താക്കുന്നു. <EOS>\\n', 'ആദിത്യന്മാരെയും വസുക്കളെയും, രുദ്രന്മാരെയും, അശ്വിനികളെയും, മരുത്തുകളെയും നീ കാണുക. മുമ്പു കണ്ടിട്ടില്ലാത്ത ബഹുപ്രകാരത്തി ലുള്ള ആശ്ചര്യങ്ങളെയും കാണുക. <EOS>\\n', 'ആരാണോ ഇവിടെ വച തന്നെ ശരീര നാശത്തിനു മുമ്പ് കാമക്രോധങ്ങൾ ഉളവാക്കുന്ന ക്ഷോഭത്തെ നിയന്ത്രിക്കാൻ ശക്തനാകുന്നത് അവൻ യോഗയുക്തനും സുഖമനുഭവിക്കുന്നവനുമാകുന്നു. <EOS>\\n', 'ഹേ പാര്\\u200dത്ഥ, എന്നില്\\u200d തന്നെ മനസ്സു ഉറപ്പിച്ച് മറ്റൊന്നുമോര്\\u200dക്കാതെ എപ്പോഴും യാതൊരുവന്\\u200d എന്നെ സ്മരിക്കുന്നുവോ നിത്യമുക്തനായ ആ യോഗിക്ക് ഞാന്\\u200d സുലഭനാണ്. <EOS>\\n', 'ചെയ്യേണ്ടതാണെന്നുള്ള ബോദ്ധ്യത്തോടെ ശാസ്ത്രവിഹിതമായ കര്\\u200dമ്മം ആസക്തിയെയും ഫലത്തെയും ത്യജിച്ച് ചെയ്യുകയാ ണെങ്കില്\\u200d അതിനെ സാത്വികത്യാഗമെന്നു പറയുന്നു. <EOS>\\n', 'അര്\\u200dജുനന്\\u200d പറഞ്ഞു: ഹേ കൃഷ്ണാ, പ്രകൃതി, പുരുഷ\\u200dന്\\u200d, ക്ഷേത്രം, ക്ഷേത്രജ്ഞ\\u200dന്\\u200d, ജ്ഞാനം (അറിവ്), ജ്ഞേയം (അറിയപ്പെടേണ്ടത്) എന്നിവയെപ്പറ്റി ഞാന്\\u200d അറിയാന്\\u200d ആഗ്രഹിക്കുന്നു. <EOS>\\n', 'ഓം തത്സദിതി ശ്രീമദ്ഭഗവദ്ഗീതാസൂപനിഷത്സു ബ്രഹ്മവിദ്യായ\\u200dാം യോഗശാസ്ത്രേ ശ്രീകൃഷ്ണാര്\\u200dജുനസംവാദേ രാജവിദ്യാരാജഗുഹ്യയോഗോ നാമ നവമോധ്യായഃ\" <EOS>\\n', 'ദുര്യോധനന് സന്തോഷം ഉളവാക്കിക്കൊണ്ട് പ്രതാപിയും കുരുക്കളില്\\u200dവച്ചു വൃദ്ധനുമായ പിതാമഹന്\\u200d ഭീഷ്മര്\\u200d ഉച്ചത്തില്\\u200d സിംഹഗര്\\u200dജ്ജനം ചെയ്ത് ശംഖു വിളിച്ചു. <EOS>\\n', 'പ്രകൃതിയാണ് ക\\u200dര്\\u200dമ്മങ്ങളെല്ല\\u200dാം ചെയ്യുന്നത് എന്നും ആത്മാവ് ഒന്നും ചെയ്യാത്തവനാണെന്നും അറിയുന്നവന്\\u200d യഥാ\\u200dര്\\u200dത്ഥത്തില്\\u200d അറിവുള്ളവനാകുന്നു. <EOS>\\n', 'അര്\\u200dജുനന്\\u200d പറഞ്ഞു: ഹേ കൃഷ്ണാ, സന്യാസവും പിന്നെ കർമ്മയോഗവും അങ്ങ് ഉപദേശിക്കുന്നു. ഈ രണ്ടിൽ ഏതാണ് ശ്രേയസ്കരം എന്നത് നിശ്ചിതമായി എനിക്ക് പറഞ്ഞു തരിക.\" <EOS>\\n', 'അര്\\u200dജുനന്\\u200d ചോദിച്ചു: ഹേ കൃഷ്ണാ, പിന്നെ ആര്\\u200d പ്രേരിപ്പിചിട്ടാണ് ഈ പുരുഷന്\\u200d താ\\u200dന്\\u200d ഇച്ഛിക്കാതെയിരുന്നിട്ടും ബലമായ ഏതോ ശക്തിയാല്\\u200d നിയുക്തനെന്നപോലെ പാപകര്\\u200dമ്മങ്ങ\\u200dള്\\u200d അനുഷ്ഠിക്കുന്നത്. <EOS>\\n', 'അല്പബുദ്ധികളായ അവര്\\u200d ഈ ചിന്താഗതിയെ സ്വീകരിച്ചുകൊണ്ട് സ്വയം നശിക്കുകയും, ക്രൂരകര്\\u200dമ്മങ്ങളെചെയ്ത് ലോകത്തിന് നാശം വരുത്തിവെയ്ക്കുന്നു. <EOS>\\n', 'അര്\\u200dജുനന്\\u200d ചോദിച്ചു: ഹേ കൃഷ്ണാ, പിന്നെ ആര്\\u200d പ്രേരിപ്പിചിട്ടാണ് ഈ പുരുഷന്\\u200d താ\\u200dന്\\u200d ഇച്ഛിക്കാതെയിരുന്നിട്ടും ബലമായ ഏതോ ശക്തിയാല്\\u200d നിയുക്തനെന്നപോലെ പാപകര്\\u200dമ്മങ്ങ\\u200dള്\\u200d അനുഷ്ഠിക്കുന്നത്. <EOS>\\n', 'സ\\u200dര്\\u200dവ്വയജ്ഞങ്ങളേയും അനുഭവിക്കുന്നതും അവയ്ക്ക് ഫലം നല്കുന്നതും ഞാനാണ്. എന്നെ ശരിയായി അവ\\u200dര്\\u200d അറിയുന്നില്ല. അതുകൊണ്ട് ജനനമരണത്തെ ആവ\\u200dര്\\u200dത്തിക്കുന്നു. <EOS>\\n', 'മധുസൂദനാ, എന്നെ കൊന്നാല്\\u200d പോലും മൂന്നു ലോകത്തിന്റെയും ആധിപത്യത്തിനു വേണ്ടിപ്പോലും ഇവരെ കൊല്ലാന്\\u200d ഞാന്\\u200d ആഗ്രഹിക്കുന്നില്ല. പിന്നെയാണോ ഈ ഭൂമിക്കു വേണ്ടി? <EOS>\\n', 'ഹേ കൗരവശ്രേഷ്ഠ! ഈ മനുഷ്യലോകത്തി\\u200dല്\\u200dനീയൊഴിച്ചു മറ്റൊരു ത്തനും എന്റെ ഈ രുപം വേദാധ്യയനത്താലോ യോഗാനുഷ്ഠാനം കൊണ്ടോ ദാനങ്ങ\\u200dള്\\u200d, ഉഗ്രതപസ്സുക\\u200dള്\\u200d, സ\\u200dല്\\u200dക്രിയക\\u200dള്\\u200d മുതലായവ കൊണ്ടോ കാണപ്പെടുവാ\\u200cന്\\u200dകഴിയുന്നതല്ല. <EOS>\\n']]\n"
     ]
    }
   ],
   "source": [
    "%cd /home/glitch/project/Sanskrit2mal/parallel-corpus/sanskrit-mal\n",
    "output_text=[]\n",
    "with open ('translated_malayalam.txt','r',encoding=\"utf8\") as f:\n",
    "  output_text.extend([f.readlines()])\n",
    "print(output_text)"
   ]
  },
  {
   "cell_type": "code",
   "execution_count": 30,
   "metadata": {
    "scrolled": true
   },
   "outputs": [
    {
     "name": "stdout",
     "output_type": "stream",
     "text": [
      "ഇളക്കമറ്റ മനസ്സോടുകൂടിയവനും രജോഗുണമടങ്ങിയവനും നിഷ്പാപനും ബ്രഹ്മതാദാത്മ്യം പ്രാപിച്ചവനുമായ ഈ യോഗി ഉത്തമമായ സുഖത്തെ പ്രാപിക്കുന്നു. <EOS>\n"
     ]
    }
   ],
   "source": [
    "translator(encoder1, attn_decoder1)"
   ]
  },
  {
   "cell_type": "code",
   "execution_count": 31,
   "metadata": {},
   "outputs": [
    {
     "name": "stdout",
     "output_type": "stream",
     "text": [
      "/home/glitch/project/Sanskrit2mal/parallel-corpus/sanskrit-mal\n"
     ]
    },
    {
     "ename": "AssertionError",
     "evalue": "The number of hypotheses and their reference(s) should be the same ",
     "output_type": "error",
     "traceback": [
      "\u001b[0;31m---------------------------------------------------------------------------\u001b[0m",
      "\u001b[0;31mAssertionError\u001b[0m                            Traceback (most recent call last)",
      "Input \u001b[0;32mIn [31]\u001b[0m, in \u001b[0;36m<cell line: 13>\u001b[0;34m()\u001b[0m\n\u001b[1;32m     10\u001b[0m \u001b[38;5;28;01mwith\u001b[39;00m \u001b[38;5;28mopen\u001b[39m (\u001b[38;5;124m'\u001b[39m\u001b[38;5;124mtranslated_malayalam.txt\u001b[39m\u001b[38;5;124m'\u001b[39m,\u001b[38;5;124m'\u001b[39m\u001b[38;5;124mr\u001b[39m\u001b[38;5;124m'\u001b[39m,encoding\u001b[38;5;241m=\u001b[39m\u001b[38;5;124m\"\u001b[39m\u001b[38;5;124mutf8\u001b[39m\u001b[38;5;124m\"\u001b[39m) \u001b[38;5;28;01mas\u001b[39;00m f:\n\u001b[1;32m     11\u001b[0m   candidate\u001b[38;5;241m.\u001b[39mextend([x\u001b[38;5;241m.\u001b[39mreplace(\u001b[38;5;124m'\u001b[39m\u001b[38;5;130;01m\\n\u001b[39;00m\u001b[38;5;124m'\u001b[39m, \u001b[38;5;124m'\u001b[39m\u001b[38;5;124m'\u001b[39m) \u001b[38;5;28;01mfor\u001b[39;00m x \u001b[38;5;129;01min\u001b[39;00m f\u001b[38;5;241m.\u001b[39mreadlines()])\n\u001b[0;32m---> 13\u001b[0m score \u001b[38;5;241m=\u001b[39m \u001b[43mcorpus_bleu\u001b[49m\u001b[43m(\u001b[49m\u001b[43mreference\u001b[49m\u001b[43m,\u001b[49m\u001b[43m \u001b[49m\u001b[43mcandidate\u001b[49m\u001b[43m)\u001b[49m\n\u001b[1;32m     14\u001b[0m \u001b[38;5;28mprint\u001b[39m(\u001b[38;5;124m'\u001b[39m\u001b[38;5;124mbleu score\u001b[39m\u001b[38;5;124m'\u001b[39m,score)\n",
      "File \u001b[0;32m~/anaconda3/lib/python3.9/site-packages/nltk/translate/bleu_score.py:195\u001b[0m, in \u001b[0;36mcorpus_bleu\u001b[0;34m(list_of_references, hypotheses, weights, smoothing_function, auto_reweigh)\u001b[0m\n\u001b[1;32m    192\u001b[0m p_denominators \u001b[38;5;241m=\u001b[39m Counter()  \u001b[38;5;66;03m# Key = ngram order, and value = no. of ngram in ref.\u001b[39;00m\n\u001b[1;32m    193\u001b[0m hyp_lengths, ref_lengths \u001b[38;5;241m=\u001b[39m \u001b[38;5;241m0\u001b[39m, \u001b[38;5;241m0\u001b[39m\n\u001b[0;32m--> 195\u001b[0m \u001b[38;5;28;01massert\u001b[39;00m \u001b[38;5;28mlen\u001b[39m(list_of_references) \u001b[38;5;241m==\u001b[39m \u001b[38;5;28mlen\u001b[39m(hypotheses), (\n\u001b[1;32m    196\u001b[0m     \u001b[38;5;124m\"\u001b[39m\u001b[38;5;124mThe number of hypotheses and their reference(s) should be the \u001b[39m\u001b[38;5;124m\"\u001b[39m \u001b[38;5;124m\"\u001b[39m\u001b[38;5;124msame \u001b[39m\u001b[38;5;124m\"\u001b[39m\n\u001b[1;32m    197\u001b[0m )\n\u001b[1;32m    199\u001b[0m \u001b[38;5;28;01mtry\u001b[39;00m:\n\u001b[1;32m    200\u001b[0m     weights[\u001b[38;5;241m0\u001b[39m][\u001b[38;5;241m0\u001b[39m]\n",
      "\u001b[0;31mAssertionError\u001b[0m: The number of hypotheses and their reference(s) should be the same "
     ]
    }
   ],
   "source": [
    "%cd /home/glitch/project/Sanskrit2mal/parallel-corpus/sanskrit-mal\n",
    "\n",
    "from nltk.translate.bleu_score import corpus_bleu\n",
    "reference = []\n",
    "candidate = []\n",
    "\n",
    "with open ('test_malayalam.txt','r', encoding=\"utf8\") as f:\n",
    "  reference.extend([x.replace('\\n', '') for x in f.readlines()])\n",
    "\n",
    "with open ('translated_malayalam.txt','r',encoding=\"utf8\") as f:\n",
    "  candidate.extend([x.replace('\\n', '') for x in f.readlines()])\n",
    "\n",
    "score = corpus_bleu(reference, candidate)\n",
    "print('bleu score',score)"
   ]
  },
  {
   "cell_type": "code",
   "execution_count": 39,
   "metadata": {},
   "outputs": [
    {
     "name": "stdout",
     "output_type": "stream",
     "text": [
      "/home/glitch/project/Sanskrit2mal/parallel-corpus/sanskrit-mal\n"
     ]
    },
    {
     "ename": "AssertionError",
     "evalue": "The number of hypotheses and their reference(s) should be the same ",
     "output_type": "error",
     "traceback": [
      "\u001b[0;31m---------------------------------------------------------------------------\u001b[0m",
      "\u001b[0;31mAssertionError\u001b[0m                            Traceback (most recent call last)",
      "Input \u001b[0;32mIn [39]\u001b[0m, in \u001b[0;36m<cell line: 12>\u001b[0;34m()\u001b[0m\n\u001b[1;32m      9\u001b[0m \u001b[38;5;28;01mfrom\u001b[39;00m \u001b[38;5;21;01mnltk\u001b[39;00m\u001b[38;5;21;01m.\u001b[39;00m\u001b[38;5;21;01mtranslate\u001b[39;00m\u001b[38;5;21;01m.\u001b[39;00m\u001b[38;5;21;01mbleu_score\u001b[39;00m \u001b[38;5;28;01mimport\u001b[39;00m SmoothingFunction\n\u001b[1;32m     10\u001b[0m smoothie \u001b[38;5;241m=\u001b[39m SmoothingFunction()\u001b[38;5;241m.\u001b[39mmethod4\n\u001b[0;32m---> 12\u001b[0m \u001b[38;5;28mprint\u001b[39m(\u001b[38;5;124m\"\u001b[39m\u001b[38;5;124mbleu\u001b[39m\u001b[38;5;124m\"\u001b[39m, \u001b[43mnltk\u001b[49m\u001b[38;5;241;43m.\u001b[39;49m\u001b[43mtranslate\u001b[49m\u001b[38;5;241;43m.\u001b[39;49m\u001b[43mbleu_score\u001b[49m\u001b[38;5;241;43m.\u001b[39;49m\u001b[43mcorpus_bleu\u001b[49m\u001b[43m(\u001b[49m\u001b[43mreference\u001b[49m\u001b[43m,\u001b[49m\u001b[43m \u001b[49m\u001b[43mcandidate\u001b[49m\u001b[43m,\u001b[49m\u001b[43m \u001b[49m\u001b[43msmoothing_function\u001b[49m\u001b[38;5;241;43m=\u001b[39;49m\u001b[43msmoothie\u001b[49m\u001b[43m)\u001b[49m)\n",
      "File \u001b[0;32m~/anaconda3/lib/python3.9/site-packages/nltk/translate/bleu_score.py:195\u001b[0m, in \u001b[0;36mcorpus_bleu\u001b[0;34m(list_of_references, hypotheses, weights, smoothing_function, auto_reweigh)\u001b[0m\n\u001b[1;32m    192\u001b[0m p_denominators \u001b[38;5;241m=\u001b[39m Counter()  \u001b[38;5;66;03m# Key = ngram order, and value = no. of ngram in ref.\u001b[39;00m\n\u001b[1;32m    193\u001b[0m hyp_lengths, ref_lengths \u001b[38;5;241m=\u001b[39m \u001b[38;5;241m0\u001b[39m, \u001b[38;5;241m0\u001b[39m\n\u001b[0;32m--> 195\u001b[0m \u001b[38;5;28;01massert\u001b[39;00m \u001b[38;5;28mlen\u001b[39m(list_of_references) \u001b[38;5;241m==\u001b[39m \u001b[38;5;28mlen\u001b[39m(hypotheses), (\n\u001b[1;32m    196\u001b[0m     \u001b[38;5;124m\"\u001b[39m\u001b[38;5;124mThe number of hypotheses and their reference(s) should be the \u001b[39m\u001b[38;5;124m\"\u001b[39m \u001b[38;5;124m\"\u001b[39m\u001b[38;5;124msame \u001b[39m\u001b[38;5;124m\"\u001b[39m\n\u001b[1;32m    197\u001b[0m )\n\u001b[1;32m    199\u001b[0m \u001b[38;5;28;01mtry\u001b[39;00m:\n\u001b[1;32m    200\u001b[0m     weights[\u001b[38;5;241m0\u001b[39m][\u001b[38;5;241m0\u001b[39m]\n",
      "\u001b[0;31mAssertionError\u001b[0m: The number of hypotheses and their reference(s) should be the same "
     ]
    }
   ],
   "source": [
    "%cd /home/glitch/project/Sanskrit2mal/parallel-corpus/sanskrit-mal\n",
    "import nltk\n",
    "with open('test_malayalam.txt', 'r') as f: # ground truth file\n",
    "    reference = [x.replace('\\n', '') for x in f.readlines()]\n",
    "\n",
    "with open('translated_malayalam.txt', 'r') as f: # translated hindi file (our output)\n",
    "    candidate = [x.replace('\\n', '') for x in f.readlines()]\n",
    "\n",
    "from nltk.translate.bleu_score import SmoothingFunction\n",
    "smoothie = SmoothingFunction().method4\n",
    "\n",
    "print(\"bleu\", nltk.translate.bleu_score.corpus_bleu(reference, candidate, smoothing_function=smoothie))"
   ]
  },
  {
   "cell_type": "code",
   "execution_count": null,
   "metadata": {},
   "outputs": [],
   "source": []
  }
 ],
 "metadata": {
  "colab": {
   "authorship_tag": "ABX9TyOINL9b4SNwUYDioR9uYY5X",
   "collapsed_sections": [],
   "include_colab_link": true,
   "name": "sanskrit to malayalam NMT.ipynb",
   "provenance": []
  },
  "kernelspec": {
   "display_name": "Python 3 (ipykernel)",
   "language": "python",
   "name": "python3"
  },
  "language_info": {
   "codemirror_mode": {
    "name": "ipython",
    "version": 3
   },
   "file_extension": ".py",
   "mimetype": "text/x-python",
   "name": "python",
   "nbconvert_exporter": "python",
   "pygments_lexer": "ipython3",
   "version": "3.9.7"
  }
 },
 "nbformat": 4,
 "nbformat_minor": 1
}
