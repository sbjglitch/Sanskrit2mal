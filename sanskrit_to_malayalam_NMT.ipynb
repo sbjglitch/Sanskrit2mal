{
 "cells": [
  {
   "cell_type": "markdown",
   "metadata": {
    "colab_type": "text",
    "id": "view-in-github"
   },
   "source": [
    "<a href=\"https://colab.research.google.com/github/sbjglitch/Sanskrit2mal/blob/main/sanskrit_to_malayalam_NMT.ipynb\" target=\"_parent\"><img src=\"https://colab.research.google.com/assets/colab-badge.svg\" alt=\"Open In Colab\"/></a>"
   ]
  },
  {
   "cell_type": "code",
   "execution_count": 42,
   "metadata": {
    "colab": {
     "base_uri": "https://localhost:8080/"
    },
    "id": "_eAtxfQkAocK",
    "outputId": "333f6165-5c8b-4a17-8893-54cad7b2256e"
   },
   "outputs": [],
   "source": [
    "from __future__ import unicode_literals, print_function, division\n",
    "from io import open\n",
    "import unicodedata\n",
    "import string\n",
    "import re\n",
    "import random\n",
    "\n",
    "import torch\n",
    "import torch.nn as nn\n",
    "from torch import optim\n",
    "import torch.nn.functional as F\n",
    "\n",
    "import nltk\n",
    "import nltk.translate.bleu_score as bleu\n",
    "\n",
    "import math\n",
    "import numpy\n",
    "import os\n",
    "\n",
    "device = torch.device(\"cuda\" if torch.cuda.is_available() else \"cpu\")\n"
   ]
  },
  {
   "cell_type": "code",
   "execution_count": 1,
   "metadata": {
    "colab": {
     "base_uri": "https://localhost:8080/"
    },
    "id": "WyYESS_tCjRg",
    "outputId": "1c33b2b5-bcdc-418f-eb47-f3ac5c971b1d"
   },
   "outputs": [
    {
     "name": "stdout",
     "output_type": "stream",
     "text": [
      "C:\\Users\\Glitch\\Sanskrit2mal\\parallel-corpus\n",
      "18728\n",
      "18728\n"
     ]
    }
   ],
   "source": [
    "%cd C:\\Users\\Glitch\\Sanskrit2mal\\parallel-corpus\n",
    "\n",
    "mal_lines = []\n",
    "sanskrit_lines = []\n",
    "with open ('bhagavadgita_malayalam.txt','r', encoding=\"utf8\") as f:\n",
    "  mal_lines.extend([x.replace('\\n', '') for x in f.readlines()])\n",
    "\n",
    "with open ('ramayana_malayalam.txt','r', encoding=\"utf8\") as f:\n",
    "  mal_lines.extend([x.replace('\\n', '') for x in f.readlines()])\n",
    "\n",
    "with open ('bible_malayalam.txt','r', encoding=\"utf8\") as f:\n",
    "  mal_lines.extend([x.replace('\\n', '') for x in f.readlines()])\n",
    "\n",
    "\n",
    "with open ('bible_sanskrit.txt','r',encoding=\"utf8\") as f:\n",
    "  sanskrit_lines.extend([x.replace('\\n', '') for x in f.readlines()])\n",
    "\n",
    "with open ('bhagvadgita_sanskrit.txt','r',encoding=\"utf8\") as f:\n",
    "  sanskrit_lines.extend([x.replace('\\n', '') for x in f.readlines()])\n",
    "\n",
    "with open ('ramayan_sanskrit.txt','r',encoding=\"utf8\") as f:\n",
    "  sanskrit_lines.extend([x.replace('\\n', '') for x in f.readlines()])\n",
    "\n",
    "print(len(mal_lines))\n",
    "print(len(sanskrit_lines))"
   ]
  },
  {
   "cell_type": "code",
   "execution_count": 6,
   "metadata": {
    "id": "hnhN7RILA4Uv"
   },
   "outputs": [],
   "source": [
    "import random\n",
    "c = list(zip(sanskrit_lines, mal_lines))\n",
    "#random.shuffle(c)\n",
    "\n",
    "sanskrit_lines, mal_lines = zip(*c)\n",
    "\n",
    "train_text_sa = sanskrit_lines[:18728]\n",
    "train_text_mal = mal_lines[:18728]\n",
    "\n",
    "dev_text_sa = sanskrit_lines[-728:]\n",
    "dev_text_mal = mal_lines[-728:]"
   ]
  },
  {
   "cell_type": "code",
   "execution_count": 7,
   "metadata": {
    "colab": {
     "base_uri": "https://localhost:8080/"
    },
    "id": "iiX6HHVFFgjx",
    "outputId": "8fc448ed-bf3b-4d6e-80e8-a11f4006c5fe"
   },
   "outputs": [
    {
     "name": "stdout",
     "output_type": "stream",
     "text": [
      "18728\n",
      "728\n",
      "18728\n",
      "728\n"
     ]
    }
   ],
   "source": [
    "print(len(train_text_mal))\n",
    "print(len(dev_text_mal))\n",
    "\n",
    "print(len(train_text_sa))\n",
    "print(len(dev_text_sa))"
   ]
  },
  {
   "cell_type": "code",
   "execution_count": 10,
   "metadata": {},
   "outputs": [
    {
     "name": "stdout",
     "output_type": "stream",
     "text": [
      "യേശു വീണ്ടും കപ്പൽ കയറി മറുകരയിൽ എത്തിയപ്പോൾ വളരെ ആളുകൾ അവന്റെ അടുക്കൽ വന്നുകൂടി; അവൻ കടലിന്നരികെ ആയിരുന്നു.\n",
      "ധൃതരാഷ്ട്രര്‍ ചോദിച്ചു: സഞ്ജയ, ധ‍ര്‍മ്മ ക്ഷേത്രമായ കുരുക്ഷേത്രത്തില്‍ ഒരുമിച്ചു ചേര്‍ന്നവരും യുദ്ധം ചെയ്യാന്‍ കൊതിക്കുന്നവരുമായ എന്റെ പുത്രന്‍മാരും പാണ്ഡവന്‍മാരും എന്ത് ചെയ്തു?\n"
     ]
    }
   ],
   "source": [
    "print(dev_text_mal[0])\n",
    "print(train_text_mal[0])"
   ]
  },
  {
   "cell_type": "code",
   "execution_count": 47,
   "metadata": {
    "id": "4cIEztNt2JkT"
   },
   "outputs": [],
   "source": [
    "# Start and End tokens\n",
    "SOS_token = 0\n",
    "EOS_token = 1\n",
    "\n",
    "\n",
    "class Lang:\n",
    "    def __init__(self, name):\n",
    "        self.name = name\n",
    "        self.word2index = {}\n",
    "        self.word2count = {}\n",
    "        self.index2word = {0: \"SOS\", 1: \"EOS\"}\n",
    "        self.n_words = 2  # Count SOS and EOS\n",
    "\n",
    "    def addSentence(self, sentence):\n",
    "        for word in sentence.split(' '):\n",
    "            self.addWord(word)\n",
    "\n",
    "    def addWord(self, word):\n",
    "        if word not in self.word2index:\n",
    "            self.word2index[word] = self.n_words\n",
    "            self.word2count[word] = 1\n",
    "            self.index2word[self.n_words] = word\n",
    "            self.n_words += 1\n",
    "        else:\n",
    "            self.word2count[word] += 1"
   ]
  },
  {
   "cell_type": "code",
   "execution_count": 48,
   "metadata": {
    "id": "aqXPhBxJECww"
   },
   "outputs": [],
   "source": [
    "# Reading the data and forming pairs\n",
    "def readLangs(lang1, lang2):\n",
    "    print(\"Reading lines...\")\n",
    "    \n",
    "    # Forming pairs of sentences\n",
    "    pairs = [[train_text_sa[i], train_text_mal[i]] for i in range(len(train_text_sa))]\n",
    "\n",
    "    input_lang = Lang(lang1)\n",
    "    output_lang = Lang(lang2)\n",
    "\n",
    "    return input_lang, output_lang, pairs"
   ]
  },
  {
   "cell_type": "code",
   "execution_count": 49,
   "metadata": {
    "id": "H7oqLozuEs9O"
   },
   "outputs": [],
   "source": [
    "MAX_LENGTH = 200\n",
    "\n",
    "def filterPair(p):\n",
    "    return len(p[0].split(' ')) < MAX_LENGTH and len(p[1].split(' ')) < MAX_LENGTH\n",
    "\n",
    "def filterPairs(pairs):\n",
    "    return [pair for pair in pairs if filterPair(pair)]"
   ]
  },
  {
   "cell_type": "code",
   "execution_count": 50,
   "metadata": {
    "colab": {
     "base_uri": "https://localhost:8080/"
    },
    "id": "mUFirlb3FCHg",
    "outputId": "a04b6032-15c9-46be-b4b8-16545beaf4f1",
    "scrolled": true
   },
   "outputs": [
    {
     "name": "stdout",
     "output_type": "stream",
     "text": [
      "Reading lines...\n",
      "Read 1000 sentence pairs\n",
      "Trimmed to 1000 sentence pairs\n",
      "Counting words...\n",
      "Counted words:\n",
      "sanskrit 5841\n",
      "mal 8586\n",
      "['किन्तु यद्भक्ष्यं स्वर्गादागच्छत् तद् यदि कश्चिद् भुङ्क्त्ते तर्हि स न म्रियते।', 'തീവ്രമായി പരിശ്രമിക്കുന്ന യോഗിയാകട്ടെ പാപം നീങ്ങി അതിനുശേഷം അനേകജന്മങ്ങള്\\u200d കൊണ്ടു സിദ്ധനായി പിന്നീട് പരമമായ ഗതിയെ പ്രാപിക്കുന്നു.']\n"
     ]
    }
   ],
   "source": [
    "def prepareData(lang1, lang2):\n",
    "    input_lang, output_lang, pairs = readLangs(lang1, lang2)\n",
    "    print(\"Read %s sentence pairs\" % len(pairs))\n",
    "    pairs = filterPairs(pairs)\n",
    "    print(\"Trimmed to %s sentence pairs\" % len(pairs))\n",
    "    print(\"Counting words...\")\n",
    "    for pair in pairs:\n",
    "        input_lang.addSentence(pair[0])\n",
    "        output_lang.addSentence(pair[1])\n",
    "    print(\"Counted words:\")\n",
    "    print(input_lang.name, input_lang.n_words)\n",
    "    print(output_lang.name, output_lang.n_words)\n",
    "    return input_lang, output_lang, pairs\n",
    "\n",
    "\n",
    "input_lang, output_lang, pairs = prepareData('sanskrit', 'mal')\n",
    "print(random.choice(pairs)) # a random pair of parallel sentences"
   ]
  },
  {
   "cell_type": "code",
   "execution_count": 51,
   "metadata": {},
   "outputs": [
    {
     "name": "stdout",
     "output_type": "stream",
     "text": [
      "36\n"
     ]
    }
   ],
   "source": [
    "print(input_lang.word2count['तथा'])"
   ]
  },
  {
   "cell_type": "markdown",
   "metadata": {
    "id": "W4D5yYuXGWqE"
   },
   "source": [
    "# **Seq2Seq Model**\n",
    "---\n",
    "A seq2seq network is a model consisting of two RNNs called the encoder and decoder. The encoder reads an input sequence and outputs a single vector, and the decoder reads that vector to produce an output sequence."
   ]
  },
  {
   "cell_type": "markdown",
   "metadata": {
    "id": "fl5SnehsGzIQ"
   },
   "source": [
    "# **Encoder**"
   ]
  },
  {
   "cell_type": "code",
   "execution_count": 52,
   "metadata": {
    "id": "mL-HNJmgGVOH"
   },
   "outputs": [],
   "source": [
    "class EncoderRNN(nn.Module):\n",
    "    def __init__(self, input_size, hidden_size):\n",
    "        super(EncoderRNN, self).__init__()\n",
    "        self.hidden_size = hidden_size\n",
    "\n",
    "        self.embedding = nn.Embedding(input_size, hidden_size)\n",
    "        self.gru = nn.GRU(hidden_size, hidden_size)\n",
    "\n",
    "    def forward(self, input, hidden):\n",
    "        embedded = self.embedding(input).view(1, 1, -1)\n",
    "        output = embedded\n",
    "        output, hidden = self.gru(output, hidden)\n",
    "        return output, hidden\n",
    "\n",
    "    def initHidden(self):\n",
    "        return torch.zeros(1, 1, self.hidden_size, device=device)"
   ]
  },
  {
   "cell_type": "markdown",
   "metadata": {
    "id": "2W40lx8BGv5G"
   },
   "source": [
    "# **Decoder**"
   ]
  },
  {
   "cell_type": "code",
   "execution_count": 53,
   "metadata": {
    "id": "MFVMbY8bGunJ"
   },
   "outputs": [],
   "source": [
    "class AttnDecoderRNN(nn.Module):\n",
    "    def __init__(self, hidden_size, output_size, dropout_p=0.1, max_length=MAX_LENGTH):\n",
    "        super(AttnDecoderRNN, self).__init__()\n",
    "        self.hidden_size = hidden_size\n",
    "        self.output_size = output_size\n",
    "        self.dropout_p = dropout_p\n",
    "        self.max_length = max_length\n",
    "\n",
    "        self.embedding = nn.Embedding(self.output_size, self.hidden_size)\n",
    "        self.attn = nn.Linear(self.hidden_size * 2, self.max_length)\n",
    "        self.attn_combine = nn.Linear(self.hidden_size * 2, self.hidden_size)\n",
    "        self.dropout = nn.Dropout(self.dropout_p)\n",
    "        self.gru = nn.GRU(self.hidden_size, self.hidden_size)\n",
    "        self.out = nn.Linear(self.hidden_size, self.output_size)\n",
    "\n",
    "    def forward(self, input, hidden, encoder_outputs):\n",
    "        embedded = self.embedding(input).view(1, 1, -1)\n",
    "        embedded = self.dropout(embedded)\n",
    "\n",
    "        attn_weights = F.softmax(\n",
    "            self.attn(torch.cat((embedded[0], hidden[0]), 1)), dim=1)\n",
    "        attn_applied = torch.bmm(attn_weights.unsqueeze(0),\n",
    "                                 encoder_outputs.unsqueeze(0))\n",
    "\n",
    "        output = torch.cat((embedded[0], attn_applied[0]), 1)\n",
    "        output = self.attn_combine(output).unsqueeze(0)\n",
    "\n",
    "        output = F.relu(output)\n",
    "        output, hidden = self.gru(output, hidden)\n",
    "\n",
    "        output = F.log_softmax(self.out(output[0]), dim=1)\n",
    "        return output, hidden, attn_weights\n",
    "\n",
    "    def initHidden(self):\n",
    "        return torch.zeros(1, 1, self.hidden_size, device=device)"
   ]
  },
  {
   "cell_type": "markdown",
   "metadata": {
    "id": "xFugQY8QFBfV"
   },
   "source": [
    "# **Training**\n"
   ]
  },
  {
   "cell_type": "code",
   "execution_count": 54,
   "metadata": {
    "id": "OyVuYKpbHV8c"
   },
   "outputs": [],
   "source": [
    "def indexesFromSentence(lang, sentence):\n",
    "    res = []\n",
    "    for word in sentence.split(' '):\n",
    "      if word not in lang.word2index.keys():\n",
    "        res.append(list(lang.word2index.values()))    \n",
    "      else:\n",
    "        res.append(lang.word2index[word])\n",
    "    return res\n",
    "\n",
    "def tensorFromSentence(lang, sentence):\n",
    "    indexes = indexesFromSentence(lang, sentence)\n",
    "    indexes.append(EOS_token)\n",
    "    return torch.tensor(indexes, dtype=torch.long, device=device).view(-1, 1)\n",
    "\n",
    "\n",
    "def tensorsFromPair(pair):\n",
    "    input_tensor = tensorFromSentence(input_lang, pair[0])\n",
    "    target_tensor = tensorFromSentence(output_lang, pair[1])\n",
    "    return (input_tensor, target_tensor)"
   ]
  },
  {
   "cell_type": "markdown",
   "metadata": {
    "id": "zePmCpbCHioq"
   },
   "source": [
    "# **Training the model**"
   ]
  },
  {
   "cell_type": "code",
   "execution_count": 55,
   "metadata": {
    "id": "SNuZNaY_HenJ"
   },
   "outputs": [],
   "source": [
    "teacher_forcing_ratio = 0.5\n",
    "def train(input_tensor, target_tensor, encoder, decoder, encoder_optimizer, decoder_optimizer, criterion, max_length=MAX_LENGTH):\n",
    "    encoder_hidden = encoder.initHidden()\n",
    "\n",
    "    encoder_optimizer.zero_grad()\n",
    "    decoder_optimizer.zero_grad()\n",
    "\n",
    "    input_length = input_tensor.size(0)\n",
    "    target_length = target_tensor.size(0)\n",
    "\n",
    "    encoder_outputs = torch.zeros(max_length, encoder.hidden_size, device=device)\n",
    "\n",
    "    loss = 0\n",
    "\n",
    "    for ei in range(input_length):\n",
    "        encoder_output, encoder_hidden = encoder(\n",
    "            input_tensor[ei], encoder_hidden)\n",
    "        encoder_outputs[ei] = encoder_output[0, 0]\n",
    "\n",
    "    decoder_input = torch.tensor([[SOS_token]], device=device)\n",
    "\n",
    "    decoder_hidden = encoder_hidden\n",
    "\n",
    "    use_teacher_forcing = True if random.random() < teacher_forcing_ratio else False\n",
    "\n",
    "    if use_teacher_forcing:\n",
    "        for di in range(target_length):\n",
    "            decoder_output, decoder_hidden, decoder_attention = decoder(\n",
    "                decoder_input, decoder_hidden, encoder_outputs)\n",
    "            loss += criterion(decoder_output, target_tensor[di])\n",
    "            decoder_input = target_tensor[di]\n",
    "\n",
    "    else:\n",
    "        for di in range(target_length):\n",
    "            decoder_output, decoder_hidden, decoder_attention = decoder(\n",
    "                decoder_input, decoder_hidden, encoder_outputs)\n",
    "            topv, topi = decoder_output.topk(1)\n",
    "            decoder_input = topi.squeeze().detach()\n",
    "\n",
    "            loss += criterion(decoder_output, target_tensor[di])\n",
    "            if decoder_input.item() == EOS_token:\n",
    "                break\n",
    "\n",
    "    loss.backward()\n",
    "\n",
    "    encoder_optimizer.step()\n",
    "    decoder_optimizer.step()\n",
    "\n",
    "    return loss.item() / target_length"
   ]
  },
  {
   "cell_type": "code",
   "execution_count": 56,
   "metadata": {
    "id": "2g9zrFapHhyy"
   },
   "outputs": [],
   "source": [
    "# Print time elapsed and estimated time remaining given the current time and progress %.\n",
    "import time\n",
    "import math\n",
    "\n",
    "\n",
    "def asMinutes(s):\n",
    "    m = math.floor(s / 60)\n",
    "    s -= m * 60\n",
    "    return '%dm %ds' % (m, s)\n",
    "\n",
    "def timeSince(since, percent):\n",
    "    now = time.time()\n",
    "    s = now - since\n",
    "    es = s / (percent)\n",
    "    rs = es - s\n",
    "    return '%s (- %s)' % (asMinutes(s), asMinutes(rs))"
   ]
  },
  {
   "cell_type": "code",
   "execution_count": 57,
   "metadata": {
    "id": "rdtIHPiDHsAF"
   },
   "outputs": [],
   "source": [
    "# Each iteration of training\n",
    "def trainIters(encoder, decoder, n_iters, print_every=1000, plot_every=100, learning_rate=0.01):\n",
    "    start = time.time()\n",
    "    plot_losses = []\n",
    "    print_loss_total = 0  # Reset every print_every\n",
    "    plot_loss_total = 0  # Reset every plot_every\n",
    "\n",
    "    encoder_optimizer = optim.SGD(encoder.parameters(), lr=learning_rate)\n",
    "    decoder_optimizer = optim.SGD(decoder.parameters(), lr=learning_rate)\n",
    "    training_pairs = [tensorsFromPair(random.choice(pairs))\n",
    "                      for i in range(n_iters)]\n",
    "    #training_pairs = training_pairs1\n",
    "    criterion = nn.NLLLoss()\n",
    "\n",
    "    for iter in range(1, n_iters + 1):\n",
    "        training_pair = training_pairs[iter - 1]\n",
    "        input_tensor = training_pair[0]\n",
    "        target_tensor = training_pair[1]\n",
    "\n",
    "        loss = train(input_tensor, target_tensor, encoder,\n",
    "                     decoder, encoder_optimizer, decoder_optimizer, criterion)\n",
    "        print_loss_total += loss\n",
    "        plot_loss_total += loss\n",
    "\n",
    "        if iter % print_every == 0:\n",
    "            print_loss_avg = print_loss_total / print_every\n",
    "            print_loss_total = 0\n",
    "            print('%s (%d %d%%) %.4f' % (timeSince(start, iter / n_iters),\n",
    "                                         iter, iter / n_iters * 100, print_loss_avg))\n",
    "\n",
    "        if iter % plot_every == 0:\n",
    "            plot_loss_avg = plot_loss_total / plot_every\n",
    "            plot_losses.append(plot_loss_avg)\n",
    "            plot_loss_total = 0\n",
    "\n",
    "    #showPlot(plot_losses)"
   ]
  },
  {
   "cell_type": "markdown",
   "metadata": {
    "id": "zCYVcQ8DHuDX"
   },
   "source": [
    "# **Evaluation**"
   ]
  },
  {
   "cell_type": "code",
   "execution_count": 58,
   "metadata": {
    "id": "RSf-saDZHyaQ"
   },
   "outputs": [],
   "source": [
    "def evaluate(encoder, decoder, sentence, max_length=MAX_LENGTH):\n",
    "    with torch.no_grad():\n",
    "        input_tensor = tensorFromSentence(input_lang, sentence)\n",
    "        input_length = input_tensor.size()[0]\n",
    "        encoder_hidden = encoder.initHidden()\n",
    "\n",
    "        encoder_outputs = torch.zeros(max_length, encoder.hidden_size, device=device)\n",
    "\n",
    "        for ei in range(input_length):\n",
    "            encoder_output, encoder_hidden = encoder(input_tensor[ei],\n",
    "                                                     encoder_hidden)\n",
    "            encoder_outputs[ei] += encoder_output[0, 0]\n",
    "\n",
    "        decoder_input = torch.tensor([[SOS_token]], device=device)  # SOS\n",
    "\n",
    "        decoder_hidden = encoder_hidden\n",
    "\n",
    "        decoded_words = []\n",
    "        decoder_attentions = torch.zeros(max_length, max_length)\n",
    "\n",
    "        for di in range(max_length):\n",
    "            decoder_output, decoder_hidden, decoder_attention = decoder(\n",
    "                decoder_input, decoder_hidden, encoder_outputs)\n",
    "            decoder_attentions[di] = decoder_attention.data\n",
    "            topv, topi = decoder_output.data.topk(1)\n",
    "            if topi.item() == EOS_token:\n",
    "                decoded_words.append('<EOS>')\n",
    "                break\n",
    "            else:\n",
    "                decoded_words.append(output_lang.index2word[topi.item()])\n",
    "\n",
    "            decoder_input = topi.squeeze().detach()\n",
    "\n",
    "        return decoded_words, decoder_attentions[:di + 1]"
   ]
  },
  {
   "cell_type": "code",
   "execution_count": 59,
   "metadata": {
    "id": "4mQhM6JDH1Zf"
   },
   "outputs": [],
   "source": [
    "def evaluate_test(encoder, decoder):\n",
    "  test = []\n",
    "  %cd C:\\Users\\Glitch\\Sanskrit2mal\\parallel-corpus\\sanskrit-mal\n",
    "  with open('test_sanskrit.sa', 'r', encoding=\"utf8\") as f:\n",
    "    test_text = [x.replace('\\n', '') for x in f.readlines()]\n",
    "  for sa_text in test_text:\n",
    "    # print('>', pair[0])\n",
    "    # print('=', pair[1])\n",
    "    output_words, attentions = evaluate(encoder, decoder, sa_text)\n",
    "    output_sentence = ' '.join(output_words)\n",
    "    # print('<', output_sentence)\n",
    "    # print('')\n",
    "    test.append(output_sentence)\n",
    "  with open('translated_malayalam.txt', 'w', encoding=\"utf8\") as f:\n",
    "    for line in test:\n",
    "        f.write(line + '\\n')"
   ]
  },
  {
   "cell_type": "code",
   "execution_count": 60,
   "metadata": {},
   "outputs": [],
   "source": [
    "def translator(encoder, decoder):\n",
    "    test_text = 'यत्र योगेश्वरः कृष्णो यत्र पार्थो धनुर्धरः। तत्र श्रीर्विजयो भूतिर्ध्रुवा नीतिर्मतिर्मम।।'\n",
    "\n",
    "    output_words, attentions = evaluate(encoder, decoder, test_text)\n",
    "    output_sentence = ' '.join(output_words)\n",
    "    print(output_sentence)"
   ]
  },
  {
   "cell_type": "code",
   "execution_count": 61,
   "metadata": {},
   "outputs": [
    {
     "name": "stdout",
     "output_type": "stream",
     "text": [
      "C:\\Users\\Glitch\\Sanskrit2mal\\parallel-corpus\\sanskrit-mal\n"
     ]
    }
   ],
   "source": [
    " %cd C:\\Users\\Glitch\\Sanskrit2mal\\parallel-corpus\\sanskrit-mal"
   ]
  },
  {
   "cell_type": "code",
   "execution_count": 62,
   "metadata": {
    "colab": {
     "base_uri": "https://localhost:8080/"
    },
    "id": "eSwIZgd1ICB6",
    "outputId": "611feb83-5766-4234-8a9f-d1b26cc4fde7"
   },
   "outputs": [
    {
     "name": "stdout",
     "output_type": "stream",
     "text": [
      "0m 20s (- 50m 14s) (500 0%) 5.7711\n",
      "0m 35s (- 43m 46s) (1000 1%) 6.4252\n",
      "0m 50s (- 41m 22s) (1500 2%) 6.4132\n",
      "1m 6s (- 40m 14s) (2000 2%) 6.4255\n",
      "1m 21s (- 39m 29s) (2500 3%) 6.6301\n",
      "1m 37s (- 39m 1s) (3000 4%) 6.6262\n",
      "1m 53s (- 38m 31s) (3500 4%) 6.5802\n",
      "2m 8s (- 38m 8s) (4000 5%) 6.3765\n",
      "2m 24s (- 37m 51s) (4500 6%) 6.3270\n",
      "2m 40s (- 37m 33s) (5000 6%) 6.2598\n",
      "2m 56s (- 37m 15s) (5500 7%) 6.1708\n",
      "3m 13s (- 36m 59s) (6000 8%) 6.0317\n",
      "3m 28s (- 36m 41s) (6500 8%) 5.7309\n",
      "3m 45s (- 36m 26s) (7000 9%) 5.6600\n",
      "4m 1s (- 36m 11s) (7500 10%) 5.4229\n",
      "4m 17s (- 35m 59s) (8000 10%) 5.3155\n",
      "4m 34s (- 35m 44s) (8500 11%) 5.0961\n",
      "4m 50s (- 35m 30s) (9000 12%) 4.8995\n",
      "5m 7s (- 35m 17s) (9500 12%) 4.6272\n",
      "5m 23s (- 35m 2s) (10000 13%) 4.5233\n",
      "5m 39s (- 34m 47s) (10500 14%) 4.1620\n",
      "5m 56s (- 34m 31s) (11000 14%) 3.9436\n",
      "6m 12s (- 34m 16s) (11500 15%) 3.8464\n",
      "6m 29s (- 34m 4s) (12000 16%) 3.5929\n",
      "6m 46s (- 33m 50s) (12500 16%) 3.2955\n",
      "7m 2s (- 33m 34s) (13000 17%) 2.9264\n",
      "7m 19s (- 33m 20s) (13500 18%) 2.6939\n",
      "7m 36s (- 33m 7s) (14000 18%) 2.6857\n",
      "7m 52s (- 32m 52s) (14500 19%) 2.4123\n",
      "8m 9s (- 32m 38s) (15000 20%) 2.3106\n",
      "8m 26s (- 32m 24s) (15500 20%) 1.9797\n",
      "8m 43s (- 32m 11s) (16000 21%) 2.0292\n",
      "9m 1s (- 31m 58s) (16500 22%) 1.8486\n",
      "9m 18s (- 31m 46s) (17000 22%) 1.5671\n",
      "9m 36s (- 31m 32s) (17500 23%) 1.3257\n",
      "9m 53s (- 31m 19s) (18000 24%) 1.2307\n",
      "10m 11s (- 31m 6s) (18500 24%) 1.1317\n",
      "10m 28s (- 30m 53s) (19000 25%) 1.0566\n",
      "10m 46s (- 30m 40s) (19500 26%) 0.8822\n",
      "11m 4s (- 30m 26s) (20000 26%) 0.8456\n",
      "11m 22s (- 30m 13s) (20500 27%) 0.6071\n",
      "11m 39s (- 29m 59s) (21000 28%) 0.6641\n",
      "11m 57s (- 29m 45s) (21500 28%) 0.5608\n",
      "12m 15s (- 29m 32s) (22000 29%) 0.5363\n",
      "12m 33s (- 29m 18s) (22500 30%) 0.5679\n",
      "12m 51s (- 29m 4s) (23000 30%) 0.5180\n",
      "13m 9s (- 28m 51s) (23500 31%) 0.3332\n",
      "13m 27s (- 28m 36s) (24000 32%) 0.3321\n",
      "13m 45s (- 28m 21s) (24500 32%) 0.2912\n",
      "14m 3s (- 28m 6s) (25000 33%) 0.3232\n",
      "14m 21s (- 27m 53s) (25500 34%) 0.2851\n",
      "14m 39s (- 27m 38s) (26000 34%) 0.2480\n",
      "14m 57s (- 27m 22s) (26500 35%) 0.2114\n",
      "15m 15s (- 27m 6s) (27000 36%) 0.2280\n",
      "15m 33s (- 26m 51s) (27500 36%) 0.1766\n",
      "15m 51s (- 26m 36s) (28000 37%) 0.2094\n",
      "16m 9s (- 26m 21s) (28500 38%) 0.1996\n",
      "16m 26s (- 26m 4s) (29000 38%) 0.1756\n",
      "16m 44s (- 25m 49s) (29500 39%) 0.1777\n",
      "17m 2s (- 25m 33s) (30000 40%) 0.1354\n",
      "17m 20s (- 25m 18s) (30500 40%) 0.1123\n",
      "17m 38s (- 25m 2s) (31000 41%) 0.1242\n",
      "17m 56s (- 24m 46s) (31500 42%) 0.1216\n",
      "18m 14s (- 24m 30s) (32000 42%) 0.1327\n",
      "18m 31s (- 24m 14s) (32500 43%) 0.1068\n",
      "18m 50s (- 23m 58s) (33000 44%) 0.1037\n",
      "19m 8s (- 23m 42s) (33500 44%) 0.0877\n",
      "19m 25s (- 23m 25s) (34000 45%) 0.0715\n",
      "19m 44s (- 23m 9s) (34500 46%) 0.1183\n",
      "20m 2s (- 22m 53s) (35000 46%) 0.0742\n",
      "20m 20s (- 22m 37s) (35500 47%) 0.0913\n",
      "20m 37s (- 22m 20s) (36000 48%) 0.0617\n",
      "20m 55s (- 22m 4s) (36500 48%) 0.0658\n",
      "21m 13s (- 21m 48s) (37000 49%) 0.0670\n",
      "21m 31s (- 21m 31s) (37500 50%) 0.0869\n",
      "21m 49s (- 21m 14s) (38000 50%) 0.0705\n",
      "22m 7s (- 20m 58s) (38500 51%) 0.0793\n",
      "22m 25s (- 20m 42s) (39000 52%) 0.0526\n",
      "22m 43s (- 20m 25s) (39500 52%) 0.0486\n",
      "23m 1s (- 20m 8s) (40000 53%) 0.0691\n",
      "23m 19s (- 19m 52s) (40500 54%) 0.0561\n",
      "23m 37s (- 19m 35s) (41000 54%) 0.0558\n",
      "23m 55s (- 19m 18s) (41500 55%) 0.0526\n",
      "24m 13s (- 19m 2s) (42000 56%) 0.0505\n",
      "24m 31s (- 18m 45s) (42500 56%) 0.0526\n",
      "24m 49s (- 18m 28s) (43000 57%) 0.0434\n",
      "25m 7s (- 18m 11s) (43500 57%) 0.0389\n",
      "25m 24s (- 17m 54s) (44000 58%) 0.0419\n",
      "25m 42s (- 17m 37s) (44500 59%) 0.0355\n",
      "26m 0s (- 17m 20s) (45000 60%) 0.0370\n",
      "26m 18s (- 17m 3s) (45500 60%) 0.0405\n",
      "26m 36s (- 16m 46s) (46000 61%) 0.0403\n",
      "26m 54s (- 16m 29s) (46500 62%) 0.0422\n",
      "27m 12s (- 16m 12s) (47000 62%) 0.0296\n",
      "27m 30s (- 15m 55s) (47500 63%) 0.0382\n",
      "27m 48s (- 15m 38s) (48000 64%) 0.0313\n",
      "28m 6s (- 15m 21s) (48500 64%) 0.0398\n",
      "28m 24s (- 15m 4s) (49000 65%) 0.0355\n",
      "28m 42s (- 14m 47s) (49500 66%) 0.0329\n",
      "28m 59s (- 14m 29s) (50000 66%) 0.0252\n",
      "29m 17s (- 14m 12s) (50500 67%) 0.0348\n",
      "29m 35s (- 13m 55s) (51000 68%) 0.0278\n",
      "29m 53s (- 13m 38s) (51500 68%) 0.0427\n",
      "30m 11s (- 13m 21s) (52000 69%) 0.0317\n",
      "30m 29s (- 13m 3s) (52500 70%) 0.0233\n",
      "30m 47s (- 12m 46s) (53000 70%) 0.0253\n",
      "31m 5s (- 12m 29s) (53500 71%) 0.0372\n",
      "31m 23s (- 12m 12s) (54000 72%) 0.0273\n",
      "31m 41s (- 11m 55s) (54500 72%) 0.0232\n",
      "31m 59s (- 11m 37s) (55000 73%) 0.0263\n",
      "32m 17s (- 11m 20s) (55500 74%) 0.0343\n",
      "32m 34s (- 11m 3s) (56000 74%) 0.0288\n",
      "32m 53s (- 10m 46s) (56500 75%) 0.0283\n",
      "33m 10s (- 10m 28s) (57000 76%) 0.0256\n",
      "33m 28s (- 10m 11s) (57500 76%) 0.0250\n",
      "33m 46s (- 9m 53s) (58000 77%) 0.0284\n",
      "34m 4s (- 9m 36s) (58500 78%) 0.0224\n",
      "34m 22s (- 9m 19s) (59000 78%) 0.0230\n",
      "34m 40s (- 9m 2s) (59500 79%) 0.0240\n",
      "34m 58s (- 8m 44s) (60000 80%) 0.0237\n",
      "35m 17s (- 8m 27s) (60500 80%) 0.0190\n",
      "35m 35s (- 8m 10s) (61000 81%) 0.0262\n",
      "35m 53s (- 7m 52s) (61500 82%) 0.0218\n",
      "36m 11s (- 7m 35s) (62000 82%) 0.0207\n",
      "36m 28s (- 7m 17s) (62500 83%) 0.0185\n",
      "36m 46s (- 7m 0s) (63000 84%) 0.0193\n",
      "37m 5s (- 6m 43s) (63500 84%) 0.0223\n",
      "37m 23s (- 6m 25s) (64000 85%) 0.0205\n",
      "37m 41s (- 6m 8s) (64500 86%) 0.0179\n",
      "37m 59s (- 5m 50s) (65000 86%) 0.0335\n",
      "38m 17s (- 5m 33s) (65500 87%) 0.0192\n",
      "38m 35s (- 5m 15s) (66000 88%) 0.0228\n",
      "38m 54s (- 4m 58s) (66500 88%) 0.0168\n",
      "39m 12s (- 4m 40s) (67000 89%) 0.0176\n",
      "39m 30s (- 4m 23s) (67500 90%) 0.0167\n",
      "39m 47s (- 4m 5s) (68000 90%) 0.0154\n",
      "40m 5s (- 3m 48s) (68500 91%) 0.0186\n",
      "40m 23s (- 3m 30s) (69000 92%) 0.0152\n",
      "40m 41s (- 3m 13s) (69500 92%) 0.0187\n",
      "40m 59s (- 2m 55s) (70000 93%) 0.0182\n",
      "41m 17s (- 2m 38s) (70500 94%) 0.0289\n",
      "41m 35s (- 2m 20s) (71000 94%) 0.0247\n",
      "41m 53s (- 2m 3s) (71500 95%) 0.0152\n",
      "42m 11s (- 1m 45s) (72000 96%) 0.0145\n",
      "42m 29s (- 1m 27s) (72500 96%) 0.0145\n",
      "42m 47s (- 1m 10s) (73000 97%) 0.0140\n",
      "43m 5s (- 0m 52s) (73500 98%) 0.0208\n",
      "43m 23s (- 0m 35s) (74000 98%) 0.0151\n",
      "43m 41s (- 0m 17s) (74500 99%) 0.0163\n",
      "43m 59s (- 0m 0s) (75000 100%) 0.0140\n"
     ]
    }
   ],
   "source": [
    "# defining hidden layer size and the encoder and decoder networks\n",
    "hidden_size = 256\n",
    "\n",
    "encoder1 = EncoderRNN(input_lang.n_words, hidden_size).to(device)\n",
    "attn_decoder1 = AttnDecoderRNN(hidden_size, output_lang.n_words, dropout_p=0.1).to(device)\n",
    "\n",
    "# train\n",
    "trainIters(encoder1, attn_decoder1, 75000, print_every=500)"
   ]
  },
  {
   "cell_type": "code",
   "execution_count": 83,
   "metadata": {
    "id": "gru3S0bsIeff"
   },
   "outputs": [
    {
     "name": "stdout",
     "output_type": "stream",
     "text": [
      "C:\\Users\\Glitch\\Sanskrit2mal\n"
     ]
    }
   ],
   "source": [
    "# saving the trained models\n",
    "%cd C:\\Users\\Glitch\\Sanskrit2mal\n",
    "torch.save(encoder1.state_dict(), 'trained_encoder.pth')\n",
    "torch.save(attn_decoder1.state_dict(), 'trained_decoder.pth')"
   ]
  },
  {
   "cell_type": "code",
   "execution_count": 84,
   "metadata": {
    "scrolled": true
   },
   "outputs": [
    {
     "name": "stdout",
     "output_type": "stream",
     "text": [
      "C:\\Users\\Glitch\\Sanskrit2mal\\parallel-corpus\\sanskrit-mal\n"
     ]
    }
   ],
   "source": [
    "evaluate_test(encoder1, attn_decoder1)"
   ]
  },
  {
   "cell_type": "code",
   "execution_count": 85,
   "metadata": {},
   "outputs": [
    {
     "name": "stdout",
     "output_type": "stream",
     "text": [
      "C:\\Users\\Glitch\\Sanskrit2mal\\parallel-corpus\\sanskrit-mal\n",
      "[['ഹേ മനുഷ്യരിൽ ഈ അവന്റെ ഈ ഈ ഈ <EOS>\\n', 'അപ്പോൾ ഒരു നല്ല നിങ്ങൾക്കു അയ്യോ കഷ്ടം! ഒരു <EOS>\\n', 'രാജാവ് ഞാൻ ദുഃഖത്താൽ ഇവിടെ നിന്ന് നിങ്ങൾ ഇവിടെ നിന്ന് നിങ്ങൾ ഇവിടെ നിന്ന് നിങ്ങൾ എന്റെ <EOS>\\n', 'ഹേ ഞാൻ എന്റെ എന്റെ ഈ എന്റെ ഈ <EOS>\\n', 'ഹേ ഞാൻ ഞാൻ ഞാൻ ഞാൻ ഞാൻ ഞാൻ ഞാൻ ഞാൻ ഞാൻ ഞാൻ ഈ ഞാൻ ഈ <EOS>\\n', 'അവൻ ഈ ഈ ഈ ഈ ഈ ഈ ഈ ഈ ഈ ഈ <EOS>\\n', 'ഹേ രാമാ, ഈ ഈ ഈ ഈ ഈ ഈ <EOS>\\n', 'അവൻ ഞാൻ ഈ ഞാൻ ഈ <EOS>\\n', 'അവൻ ഞാൻ ഞാൻ ഈ ഞാൻ ഈ ഈ <EOS>\\n', 'അവൻ എന്റെ അടുക്കൽ വന്നു ഞാൻ എന്തു എന്നു ഞാൻ അവൻ പറഞ്ഞു. <EOS>\\n', 'അപ്പോൾ ഈ തന്റെ ഈ ഈ ഈ നീ എനിക്ക് എനിക്ക് കാണാൻ എനിക്ക് കാണാൻ കഴിഞ്ഞില്ല. <EOS>\\n', 'ഒരു അധിപനായ കണ്ണുകളുള്ള രാമന്റെ ഈ കണ്ണുകളുള്ള ഒരു ജ്വലിക്കുന്ന രാമന്റെ <EOS>\\n', 'ഹേ രാമാ, നിന്റെ ഈ ഈ ഈ ഈ ഈ <EOS>\\n', 'രാമൻ വനവാസം രാമൻ തന്റെ വനവാസം വനവാസം ഈ വീണ്ടും വീണ്ടും വീണ്ടും വീണ്ടും വീണ്ടും ചെയ്തു. <EOS>\\n', 'അവൻ ഞാൻ എന്റെ പിതാവിന്റെ ഈ ഒരു അവൻ അവൻ പറഞ്ഞു. <EOS>\\n', 'യേശു എന്റെ എന്റെ ഞാൻ എന്റെ <EOS>\\n', 'ഈ രാമാ, ഈ ഈ ഈ ഈ ഈ ഈ ഈ ഈ ഈ ഈ <EOS>\\n', 'ഓ, ശക്തനായ ശക്തനായ ശക്തനായ ശക്തനായ ശക്തനായ ശക്തനായ ശക്തനായ ശക്തനായ ശക്തനായ ശക്തനായ ശക്തനായ ശക്തനായ രാവണൻ തന്റെ ശക്തനായ രാമൻ തന്റെ <EOS>\\n', 'ഓ, അങ്ങനെ എല്ലാ എല്ലാ രാമന്റെ എല്ലാ എല്ലാ <EOS>\\n', 'സീതയെ കണ്ടെത്താനുള്ള രാമന്റെ രാമന്റെ രാമന്റെ രാമന്റെ അതിന്റെ ദശരഥ രാജാവ് രാജാവ് (ദശരഥൻ) എന്ന് പറഞ്ഞ് അവനെ കാണാൻ കഴിഞ്ഞില്ല. <EOS>\\n', 'അവൻ ഞാൻ ഞാൻ ഞാൻ ഞാൻ ഈ <EOS>\\n', 'അവൻ അവനോടു: അടുക്കൽ അവനോടു: അത്യധികം അടുക്കൽ അവനോടു: അവനോടു: അവനോടു: അവനോടു: അവനോടു: അവനോടു: അവനോടു: നീ ഒരു പറഞ്ഞു. നിങ്ങൾ എന്നു പറഞ്ഞു. <EOS>\\n', 'അവൻ ഞാൻ രാമന്റെ രാമന്റെ ഈ രാമന്റെ <EOS>\\n', 'ഹേ രാഘുക്കളുടെ രാമന്റെ സീത സീത സീത സീത സീത അവളുടെ <EOS>\\n', 'അവൻ ഞാൻ എന്റെ അവൻ ഞാൻ അവരുടെ അവൻ <EOS>\\n', 'ഹേ രാമാ, നിറഞ്ഞ നിന്ന് ഈ ഈ <EOS>\\n', 'അവൻ അവരോടു: അവനോടു: നല്ല അവനോടു: അവനോടു: ഞാൻ എന്നു ചെയ്തു. <EOS>\\n', 'ഞങ്ങൾ ഞാൻ നിങ്ങളോടു പറയുന്നു: അവന്റെ ഒരു <EOS>\\n', 'അവൻ ഒരു ഒരു പർവ്വതം നിറഞ്ഞ ഒരു ഒരു <EOS>\\n', 'അവൻ ഇതു മേൽ ഒരു രാജാവ് അവരെ ഒരു <EOS>\\n', 'അവൻ രണ്ടുപേരും അവന്റെ അവന്റെ അവർ അവന്റെ അവർ അവന്റെ <EOS>\\n', '\"ഹേ രാമാ, തന്റെ അവർ ഈ നിറഞ്ഞ തന്റെ <EOS>\\n', 'അവൻ ഞാൻ ഞാൻ ഞാൻ ഞാൻ ഈ <EOS>\\n', 'അവൻ അവരോടു: ഞാൻ ഞാൻ തന്റെ <EOS>\\n', 'ഞാൻ അവനെ ഒരു രാജാവിനെ കണ്ടപ്പോൾ, ഞാൻ ഈ <EOS>\\n', 'അവൻ അവനോടു: ഞാൻ ഈ ഈ ഈ ഈ <EOS>\\n', 'അവൻ ഞാൻ നിങ്ങളോടു ഈ ഈ ഈ ഈ <EOS>\\n', 'അവൻ എന്റെ കേട്ട് വാക്കുകൾ ഈ ഈ അവൻ <EOS>\\n', 'രണ്ട് രണ്ട് സഹോദരന്മാരും രണ്ട് സഹോദരന്മാരും രണ്ട് സഹോദരന്മാരും ഒരു നിമിഷം കൊണ്ട് അലങ്കരിച്ച <EOS>\\n', 'അവൻ അവനെ വാക്കുകൾ കേട്ട് അവന്റെ ഒരു പറഞ്ഞു: അവന്റെ <EOS>\\n', 'ഹേ രാമാ, നീ ഞാൻ ഈ ഒരു ഈ പോലെ പോലെ <EOS>\\n', 'അവൻ നല്ല നല്ല അവൻ നിന്ന് നല്ല അവൻ അവിടെ നിന്ന് നല്ല അവൻ <EOS>\\n', 'ഞാൻ അവനെ ഞാൻ ഞാൻ ഈ ഞാൻ ഈ ഈ <EOS>\\n', 'അവൻ ഒരു നിന്റെ ഒരു ഒരു <EOS>\\n', 'ഹേ രാമാ, ഞാൻ ഈ മുനി ഞാൻ വലിയ ഈ <EOS>\\n', 'അവൻ അവനോടു: നല്ല രാമന്റെ ഈ നീ <EOS>\\n', 'ഹേ രാമാ, നിന്റെ സഹോദരൻ ഞാൻ ഈ എനിക്ക് എങ്ങനെ നീ ഒരു <EOS>\\n', '\"ഹേ വാക്കുകൾ വാക്കുകൾ വാക്കുകൾ വാക്കുകൾ വാക്കുകൾ വാക്കുകൾ രാമന്റെ വാക്കുകൾ വാക്കുകൾ വാക്കുകൾ വാക്കുകൾ വാക്കുകൾ രാമന്റെ <EOS>\\n', 'അവൻ ഈ ഒരു ഈ ഈ ഈ ഈ അത് ഒരു <EOS>\\n', 'ഹേ രാമാ, കണ്ണുകളുള്ള ഹേ രാമാ, ഈ ഒരു ഈ ഒരു അത്യധികം <EOS>\\n', 'അവൻ ഈ ഈ ഈ ഈ ഈ ഈ ഈ അവൻ അവൻ തന്റെ അവൻ <EOS>\\n', 'തന്റെ തന്റെ തന്റെ തന്റെ തന്റെ തന്റെ തന്റെ അവിടെ തന്റെ ഒരു തന്റെ അവൻ വീണ്ടും പറഞ്ഞു: നീ <EOS>\\n', 'അവൻ ഒരു ഒരു ഈ ഒരു ഈ ഈ ഈ ഒരു <EOS>\\n', 'അവൻ അവരോടു: ഞാൻ ഈ വിശ്വാമിത്രൻ ഈ ഒരു ഈ <EOS>\\n', 'ഒരു നിന്റെ നിന്റെ ഒരു ഈ ഈ ഈ ഈ ഒരു ഈ ഈ ഒരു പറഞ്ഞു: പറഞ്ഞു. <EOS>\\n', 'ഹേ സൌമിത്രി ഞാൻ ഈ നിന്ന് ഈ ഈ ഈ ഈ ഈ <EOS>\\n', '\"ഹേ രാമ, സീത സീത സീത സീത ദയനീയമായി അവൾ വീണ്ടും വീണ്ടും വീണ്ടും ചെയ്തു. <EOS>\\n', 'അപ്പോൾ ഈ ഒരു ഈ ഈ ഈ ഈ ഈ ഈ <EOS>\\n', 'അവൻ നിങ്ങളുടെ നിങ്ങളുടെ നിങ്ങളുടെ നിങ്ങളുടെ നിങ്ങളുടെ നിങ്ങളുടെ <EOS>\\n', 'ഹേ മനുഷ്യരിൽ ഞാൻ ഞാൻ ഇവിടെ നിന്ന് <EOS>\\n', 'രാമനെ തന്റെ ലക്ഷ്മണനും എന്നെ എന്നെ കാണാൻ ഭരതൻ കാണാൻ കാണാൻ കഴിഞ്ഞില്ല. <EOS>\\n', 'അവൻ രാജകീയ രാജകീയ അടുക്കൽ നീ ഒരു <EOS>\\n', 'മഹാനായ ഭരതന്റെ വാക്കുകൾ കേട്ട്, ഞാൻ ഈ എന്റെ ഈ <EOS>\\n', 'അവൻ ഞാൻ ഈ ഈ ഞാൻ ഈ ഈ എന്നു അവനോടു പറഞ്ഞു. <EOS>\\n', 'രാമനെ തന്റെ വലിയ എന്നെ എന്നെ ഈ പറഞ്ഞു: <EOS>\\n', 'അപ്പോൾ മനുഷ്യരിൽ ഒരു രാജാവിന്റെ രാജാവിന്റെ ഈ ഈ ഈ ഒരു ഈ ഒരു <EOS>\\n', 'തന്റെ തന്റെ തന്റെ അത്യധികം തന്റെ തന്റെ തന്റെ തന്റെ അത്യധികം തന്റെ തന്റെ തന്റെ വീണ്ടും തന്റെ ജീവൻ പറഞ്ഞു: <EOS>\\n', 'അവൻ ഞാൻ ഞാൻ ഞാൻ പറഞ്ഞു: <EOS>\\n', 'അവൻ അവരോടു: നിങ്ങൾ അവന്റെ അവന്റെ <EOS>\\n', 'അവൻ അവർ ഒരു എന്നെ നീ എന്നെ നീ എന്നെ നീ എന്നെ നീ എന്നെ നീ എന്നെ നീ എന്നെ നീ <EOS>\\n', 'ഞാൻ ഞാൻ ഞാൻ ഈ ഒരു എല്ലാ ഈ എല്ലാ ഈ എല്ലാ ഈ എല്ലാ ഈ ഞാൻ ഈ <EOS>\\n', \"'എന്റെ പിതാവിന്റെ നിന്ന് ഈ ഈ <EOS>\\n\", 'രാമൻ മറ്റ് രാമൻ മറ്റ് തന്റെ രാമൻ ഈ ഈ ഈ പറഞ്ഞു: ഈ ഈ തന്റെ വീണ്ടും ഈ <EOS>\\n', 'അവൻ പുറത്തു പോയി പിന്നെ അവന്റെ അടുക്കൽ വന്നു അവനോടു: പിന്നെ അവൻ അവരെ പുറത്തു ഒരു <EOS>\\n', 'അവൻ അവരുടെ അവരുടെ നഗരം നഗരം നഗരം നഗരം അവരുടെ അടുക്കൽ പറഞ്ഞു, ചിലർ <EOS>\\n', 'ഹേ ഈ ഈ ഈ ഈ ഈ ഈ ഈ ഈ ഈ <EOS>\\n', 'ഹേ രാമാ, രാമൻ ഈ രാമൻ ഈ ഈ രാമൻ പോയി അവരെ അവരെ ഒരു <EOS>\\n', 'അവൻ അവൻ ഒരു എന്നു ഒരു ഒരു എന്നു ഒരു അവൻ <EOS>\\n', 'അവരിൽ എല്ലാ സ്ത്രീ ഞാൻ ഒരു ഞാൻ <EOS>\\n', 'അവൻ അവരെ അവരെ അവരെ അവരെ അവരെ അവരെ അവരെ അവരെ അവരെ അവരെ അവരെ അവരെ അവരെ അവരെ അവരെ അവരെ അവരെ അവരെ അവരെ അവരെ അവരെ അവരെ അവരെ അവരെ അവരെ അവരെ അവരെ അവരെ അവരെ അവരെ അവൻ അവരെ അവരെ അവരെ അവരെ അവരെ അവരെ അവരെ അവരെ അവരെ അവരെ അവരെ അവൻ അവരെ അവരെ അവരെ അവരെ ചെയ്തു. <EOS>\\n', 'അവൻ രാമാ, നിന്റെ ഒരു ഈ ഒരു ഒരു പോലെ <EOS>\\n', 'അവൻ ആ സഹോദരനെ നാടുകടത്താൻ ആ അവർ പറഞ്ഞു: <EOS>\\n', 'അപ്പോൾ അവർ ഒരു ഈ അവന്റെ ഒരു അവൻ ഒരു കണ്ടു. <EOS>\\n', 'രാജാവില്ലാത്ത ഭരതൻ ഒരു രാജ്യത്ത്, തന്റെ അലങ്കരിച്ച അത്യധികം തന്റെ അത്യധികം സന്തോഷത്തോടെ ഈ അത്യധികം തന്റെ ജീവൻ ഈ അത്യധികം സന്തോഷത്തോടെ ഈ പറഞ്ഞു: <EOS>\\n', 'അവൻ അവരോടു: പോലെ പോലെ അവൻ അവൻ അവൻ കണ്ടു. <EOS>\\n', 'അവൻ ഞാൻ ഞാൻ ഒരു ഞാൻ <EOS>\\n', 'അവൻ അവരോടു: പോലെ പോലെ പോലെ പോലെ പോലെ പോലെ പോലെ <EOS>\\n', 'രാമൻ പറഞ്ഞു: ഈ ഈ നീ ഈ ഈ പറഞ്ഞു: നീ <EOS>\\n', 'ഞാൻ ഞാൻ ഞാൻ ഞാൻ ഞാൻ ഞാൻ ഞാൻ ഞാൻ ഒരു <EOS>\\n', 'അങ്ങനെ ഈ ഈ ഈ ഈ ഈ ഈ ഈ ഈ ഈ ഈ ഈ <EOS>\\n', 'ഹേ രാമാ, നീ ഈ ഈ ഈ ഈ <EOS>\\n', 'രാജാവില്ലാത്ത അലങ്കരിച്ച അലങ്കരിച്ച അലങ്കരിച്ച അലങ്കരിച്ച അലങ്കരിച്ച അലങ്കരിച്ച അലങ്കരിച്ച അലങ്കരിച്ച അലങ്കരിച്ച അവന്റെ <EOS>\\n', 'രാമനെ തന്റെ പോലെ നിന്ന് നിന്ന് ഒരു തന്റെ നിന്ന് നിന്ന് <EOS>\\n', 'അവൻ മകനേ, മകനേ, നീ ഞാൻ ഇവിടെ ഇവിടെ വന്നത്? നിങ്ങൾ ഭൂമിയിൽ നിങ്ങൾ കാണും. <EOS>\\n', 'രാജാവില്ലാത്ത രാമന്റെ വനവാസം രാമന്റെ കൊട്ടാരം ധരിച്ച്, ഒരു വലിയ മേഘം പോലെ കാണപ്പെട്ടു. <EOS>\\n', 'അവൻ അവനോടു: നല്ല ഈ അവന്റെ ഈ അവന്റെ ഈ <EOS>\\n', 'അവൻ അവരോടു ഒരു ഞാൻ ഒരു അവൻ അവൻ അവൻ <EOS>\\n', 'രാജാവ് രാജാവ് രാജാവ് രാജാവ് ഒരു രാജാവ് <EOS>\\n', 'അവൻ ഞാൻ നിങ്ങളോടു ഈ ഈ ഈ ഈ ഈ <EOS>\\n', 'ഹേ ലക്ഷ്മണാ, ഞാൻ ഞാൻ ഈ ഒരു ഇവിടെ <EOS>\\n', 'അവൻ ഒരു ഒരു ഒരു ഒരു കൊണ്ട് ഒരു ഒരു <EOS>\\n', 'രാജാവില്ലാത്ത നാട്ടിൽ തീരത്ത് കൂടി അത്യധികം സന്തോഷിച്ച ആയിരം കണ്ണുകളുള്ള ഇന്ദ്രൻ തന്റെ ജീവൻ അയച്ചു. <EOS>\\n', 'രാജാവില്ലാത്ത ഒരു രാജ്യത്ത്, ഒരു രാജ്യത്ത്, ഒരു കൊണ്ട് പോലെ അവിടെ കൊണ്ട് പോലെ അവിടെ കണ്ടു. <EOS>\\n', 'ഞങ്ങൾ ഇത് ഒരു രാജാവ് നല്ല എന്നു <EOS>\\n', 'അവൻ ഒരു ഒരു ഈ ഒരു എന്നു ഒരു അവിടെ എന്നു പറഞ്ഞു. <EOS>\\n', 'ഹേ അവർ മുഖം ഈ അവർ എന്നു <EOS>\\n', 'ഹേ ഭരതാ, ഈ ഈ ഈ രാമൻ തന്റെ വളരെ വളരെ വളരെ വളരെ വളരെ വളരെ വളരെ ശ്രീമദ്രാമായണേ വാല്മീകീയ ആദികാവ്യേ അയോധ്യാകാണ്ഡേ അയോധ്യാകാണ്ഡേ അയോധ്യാകാണ്ഡേ സർഗ്ഗം അങ്ങനെ വാല്മീകി മുനി രചിച്ച ആദ്യ ഇതിഹാസമായ വിശുദ്ധ രാമായണത്തിലെ അയോധ്യാകാണ്ഡത്തിലെ ഏഴാമത്തെ സർഗ്ഗം അവസാനിക്കുന്നു. <EOS>\\n', 'അവിടെ നല്ല നല്ല എന്നു അവിടെ എന്നു ഒരു അവിടെ എന്നു പറഞ്ഞു. <EOS>\\n', 'അവൻ ശക്തനായ ഹനുമാൻ ഞാൻ നിന്റെ അടുക്കൽ നീ <EOS>\\n', 'യേശു അവരോടു ഉത്തരം പറഞ്ഞതു: ഈ ഈ ഈ <EOS>\\n', 'അവൻ ഞാൻ നിങ്ങളോടു പറയുന്നു, ഒരു ഈ ഈ ഈ <EOS>\\n', 'ഹേ, ബ്രാഹ്മണരിൽ ഉത്തമനായ ഈ സംഭവിച്ചതെല്ലാം സംഭവിച്ചതെല്ലാം സംഭവിച്ചതെല്ലാം ഈ സ്ഥലം നീ നിങ്ങളുടെ അമ്മയെ ഈ <EOS>\\n', 'അപ്പോൾ ഈ പറഞ്ഞു: ഈ കൊണ്ട് ഈ ഈ ഈ ഈ <EOS>\\n', 'അപ്പോൾ അവർ ശക്തനായ രാജാവ് രാമന്റെ രാജാവ് രാജാവ് (ദശരഥൻ) മറുപടി പറഞ്ഞു: <EOS>\\n', 'അവൻ ഒരു ഒരു ഈ ഒരു ഒരു അവിടെ ഒരു ഒരു <EOS>\\n', 'അവൻ ലക്ഷ്മണൻ ഒരു വാക്കുകൾ പറഞ്ഞു, എനിക്ക് വെള്ളം നല്ല <EOS>\\n', 'ഹേ രാമാ, നിന്റെ ഈ ഈ ഈ ഈ <EOS>\\n', 'നിങ്ങളുടെ നിങ്ങളുടെ ഞാൻ ഈ ഈ ഈ <EOS>\\n', 'എല്ലാവരും അവന്റെ അടുക്കൽ അവന്റെ അവന്റെ നിങ്ങൾ അവന്റെ <EOS>\\n', 'അപ്പോൾ മനുഷ്യരിൽ ഞാൻ ഈ ഈ <EOS>\\n', 'അപ്പോൾ പിതാവായ പോലെ പോലെ അവിടെ നിന്ന് <EOS>\\n', \"'എന്റെ പിതാവിന്റെ മേൽ ഈ <EOS>\\n\", 'ഹനുമാൻ തന്റെ ഹനുമാൻ ഹനുമാൻ തന്റെ വീണ്ടും വീണ്ടും വീണ്ടും പോലെ <EOS>\\n', 'അവിടെ ഞാൻ ഒരു ഞാൻ ഈ ഒരു ഈ <EOS>\\n', 'പലതരം പലതരം പലതരം പലതരം പലതരം പലതരം മരങ്ങളും പലതരം മരങ്ങളും പലതരം മരങ്ങളും പലതരം മരങ്ങളും പലതരം പലതരം മരങ്ങളും കൊണ്ട് അലങ്കരിച്ച മികച്ച മികച്ച <EOS>\\n', 'അപ്പോൾ അവർ ഈ ഒരു ഒരു ഒരു <EOS>\\n', 'മഹാനായ ഒരു വാക്കുകൾ അത്യധികം അത്യധികം അത്യധികം നിന്ന് അത്യധികം നിന്ന് അത്യധികം നിന്ന് അത്യധികം നിന്ന് അത്യധികം ഇപ്രകാരം അഭിസംബോധന ചെയ്തു, ഈ വാക്കുകൾ പറഞ്ഞു: <EOS>\\n', 'അവൻ പറഞ്ഞു: സ്ത്രീയേ, ഈ വെള്ളം കൊണ്ട് അലങ്കരിച്ച എല്ലാ പറഞ്ഞു. <EOS>\\n', 'അവൻ രചിച്ച ആദ്യ ഇതിഹാസമായ വിശുദ്ധ പുത്രനായ ഞാൻ സ്വർണ്ണ പോയി. <EOS>\\n', 'അവൻ നല്ല നല്ല ശക്തനായ നല്ല അവൻ നല്ല അവൻ <EOS>\\n', 'തങ്ങളുടെ ലക്ഷ്മണാ, തങ്ങളുടെ തങ്ങളുടെ തങ്ങളുടെ തങ്ങളുടെ തങ്ങളുടെ തങ്ങളുടെ തങ്ങളുടെ തങ്ങളുടെ രാമന്റെ <EOS>\\n', 'അവൻ ഞാൻ ഇവിടെ ഒരു ഇവിടെ പറഞ്ഞു, അവൻ <EOS>\\n', 'അവൻ ഞാൻ ഒരു ഞാൻ ഒരു ഒരു അവൻ ഒരു അവൻ <EOS>\\n', 'അവൻ വാക്കുകൾ ഒരു വാക്കുകൾ ഒരു തന്റെ ഒരു അവൻ <EOS>\\n', '<EOS>\\n', 'അവൻ വംശത്തിൽ ജനിച്ച ഒരു വാക്ക് ഒരു കണ്ടു. <EOS>\\n', 'ഹേ രാമാ, ഈ ഈ ഈ ഈ ഈ ഈ <EOS>\\n', 'അവൻ ഞാൻ നിങ്ങളോടു പറയുന്നു: ഈ ഈ <EOS>\\n', 'അവൻ അവരോടു: നിറഞ്ഞ ഈ നിറഞ്ഞ ഈ നീതിമാനായ ഭരതൻ ഈ <EOS>\\n', 'അവൻ ഞാൻ എന്നെ അവൻ എന്നെ ഞാൻ അവൻ അവൻ അവൻ അവൻ <EOS>\\n', 'അവൻ വർഷം സ്ത്രീയേ, നിങ്ങൾ എന്നെ നിങ്ങൾ ഇത് നിങ്ങൾ നിങ്ങൾ നിങ്ങൾ നിങ്ങൾ അത് നിങ്ങൾ എന്നെ നിങ്ങൾ <EOS>\\n', 'ഹേ രാമാ, ഞാൻ ഈ കൊണ്ട് ഞാൻ ഈ <EOS>\\n', 'അവൻ ഒരു ഒരു ഒരു ഒരു ഒരു <EOS>\\n', 'അതിനുശേഷം, ആ സദ്ഗുണസമ്പന്നനായ ഈ ഈ ഈ <EOS>\\n', 'അവൻ ഞാൻ വന്നു ഒരു ഈ ഞാൻ ഈ <EOS>\\n', 'അപ്പോൾ രാത്രി രാത്രി രാത്രി രാത്രി രാത്രി രാത്രി കഴിച്ചുകൂട്ടി. <EOS>\\n', 'ഹേ രാമാ, രാമാ, വലിയ ഈ ഈ ഈ <EOS>\\n', 'നിങ്ങളുടെ നിങ്ങളുടെ നിങ്ങളുടെ നിങ്ങളുടെ നിങ്ങളുടെ <EOS>\\n', 'അവൻ ഒരു ഒരു ഞാൻ ഒരു ഒരു നിങ്ങൾ ഇവിടെ നിങ്ങൾ <EOS>\\n', 'അവൻ ഒരു നിന്ന് ഒരു ഒരു ഒരു <EOS>\\n', 'അപ്പോൾ ഞാൻ കേട്ട് നിന്ന് നിന്ന് ഞാൻ <EOS>\\n', 'ഹനുമാൻ വർഷം മുമ്പ് നല്ല വർഷം മുമ്പ് വർഷം മുമ്പ് അവിടെ നിന്ന് വീണ <EOS>\\n', 'അപ്പോൾ ഒരു പോലെ പോലെ പോലെ പോലെ പോലെ പോലെ പോലെ പോലെ പോലെ അവൾ ഒരു വലിയ പോലെ കണ്ടു. <EOS>\\n', 'അവൻ അവരോടു: നിനക്കു കോടി അവന്റെ കോടി അവന്റെ എന്നു പറഞ്ഞു. <EOS>\\n', 'അവൻ ദുഃഖത്താൽ ദുഃഖത്താൽ ഭരതൻ ഈ ഈ ഈ പറഞ്ഞു: ഈ <EOS>\\n', 'യേശു അവനോടു: നീ ഞാൻ ഞാൻ അലങ്കരിച്ച നീ <EOS>\\n', 'അവൻ ഞാൻ രാമന്റെ രാമന്റെ ഞാൻ ഈ തന്റെ പോയി ഞാൻ ഇപ്പോൾ <EOS>\\n', 'അവൻ ഞാൻ ഞാൻ ഈ എന്നു ഞാൻ <EOS>\\n', 'ഹേ രാമാ, കണ്ണുകളുള്ള ഈ കണ്ണുകളുള്ള ഈ ഒരു ഈ ഈ ഈ ഈ <EOS>\\n', 'മഹാമനസ്കനായ വാക്കുകൾ വാക്കുകൾ വാക്കുകൾ വാക്കുകൾ വാക്കുകൾ പറഞ്ഞു. വാക്കുകൾ പറഞ്ഞു. <EOS>\\n', 'അവൻ അവരോടു: ഞാൻ ഞാൻ അവൻ അവൻ <EOS>\\n', 'ഹേ രാമാ, നിന്നെ നിന്നെ നിന്നെ ഒരു ഈ <EOS>\\n', 'അവൻ ഞാൻ ഭരതൻ ഈ ഈ ഈ പറഞ്ഞു: തന്റെ പറഞ്ഞു: <EOS>\\n', 'അവൻ ഞാൻ ഞാൻ ഞാൻ ഞാൻ ഞാൻ ഒരു <EOS>\\n', 'യേശു അവരോടു: നീ എന്നെ എന്നെ നീ <EOS>\\n', 'അവൻ ആ ആ അവന്റെ ഈ ഒരു ഈ <EOS>\\n', 'മഹാനായ ഭരതന്റെ ആ അത്യധികം എല്ലാ തന്റെ ആ <EOS>\\n', 'അപ്പോൾ ഞാൻ ഞാൻ ഈ ഒരു ഞാൻ ഈ <EOS>\\n', 'അവൻ അവരോടു: രാമന് ഈ അവൻ അവൻ കണ്ടു. <EOS>\\n', 'അവൻ ഇതാ, ഇതാ, ഇതാ, രാമന്റെ ഇതാ, രാമന്റെ ഈ <EOS>\\n', 'യേശു അവനോടു: പോലെ പോലെ പോലെ പോലെ പോലെ <EOS>\\n', 'രാമൻ രാമന്റെ വാക്കുകൾ രാമന്റെ ഈ രാമന്റെ രാമന്റെ രാമന്റെ ഞാൻ <EOS>\\n', 'അവൻ ഞാൻ നിങ്ങളോടു പറയുന്നു: ഈ ഒരു <EOS>\\n', 'അപ്പോൾ യേശു അവനോടു: നിന്റെ നീ ഞാൻ നീ നിന്നെ നീ <EOS>\\n', 'അവൻ ഞാൻ അവന്റെ വീട്ടിൽ അവന്റെ വീട്ടിൽ നിന്ന് അവന്റെ <EOS>\\n', 'ഹേ രാമാ, നീ ഈ ഈ ഈ ഈ ഈ ഈ <EOS>\\n', 'അവൻ രാമാ, ഞാൻ ഇവിടെ നിന്ന് നല്ല ഈ <EOS>\\n', 'അവൻ ഞാൻ പിതാവിന്റെ പോലെ ഒരു <EOS>\\n', \"'ഹേ വാനരന്മാരേ, പോലെ രാജാവ് രാജാവ് അത്യധികം പ്രഗത്ഭനായ <EOS>\\n\", 'ഞാൻ ഞാൻ ഞാൻ ഞാൻ ഞാൻ ഞാൻ ഞാൻ ഞാൻ ഞാൻ ഞാൻ അവളെ എന്നെ കാട്ടിലേക്ക് ഞാൻ <EOS>\\n', 'ഹേ രാമാ, എന്റെ ഈ ഈ ഈ <EOS>\\n', 'അവൻ അവരോടു: ഭരതൻ അവന്റെ അവന്റെ അവൻ അവന്റെ <EOS>\\n', 'ഹേ രാമാ, നിന്റെ ഈ ഈ ഈ ഈ ഈ <EOS>\\n', 'ഹേ രാമാ, ഈ ഈ ഈ ഈ ഈ ഈ ഈ ഈ ഈ <EOS>\\n', 'നിങ്ങളുടെ നിങ്ങളുടെ നിങ്ങളുടെ നിങ്ങളുടെ നിങ്ങളുടെ നിങ്ങളുടെ നിങ്ങളുടെ <EOS>\\n', 'ഹേ രാമാ, അത്യധികം ഞാൻ അത്യധികം ഇപ്രകാരം പറഞ്ഞു. രാജാവിന്റെ ഈ അത്യധികം സന്തോഷിച്ചു. <EOS>\\n', 'ഹേ രാമാ, നിന്ന് ഈ ഈ ഈ ഈ ഈ ഈ <EOS>\\n', 'അപ്പോൾ നിങ്ങൾ നിങ്ങൾ നിങ്ങൾ നിങ്ങൾ നിങ്ങൾ നിങ്ങൾ നിങ്ങൾ <EOS>\\n', 'അവൻ ഞാൻ ഒരു രാജാവിന്റെ അത്യധികം അവൻ അവൻ അവൻ <EOS>\\n', 'നിങ്ങളുടെ നിങ്ങളുടെ നിറഞ്ഞ സീത ഒരു നിങ്ങളുടെ <EOS>\\n', 'ഞാൻ ഇതു ഒരു ഈ ഞാൻ ഈ <EOS>\\n', 'അവൻ ഞാൻ എന്റെ ഞാൻ ഈ <EOS>\\n', 'അവൻ തന്റെ തന്റെ തന്റെ തന്റെ തന്റെ അവൻ വീണ്ടും വീണ്ടും വീണ്ടും <EOS>\\n', 'അപ്പോൾ ഞാൻ സ്ത്രീയേ, ഞാൻ അവരെ അവരെ ഒരു അവരെ അവിടെ അവരെ അവരെ അവിടെ അവർ അവരെ ഒരു <EOS>\\n', 'ഈ വാക്കുകൾ ഈ ഈ ഈ ഈ ഈ ഈ ഈ ഈ ഈ <EOS>\\n', 'അവൻ ഞാൻ രാമന്റെ രാമന്റെ രാമന്റെ പോലെ രാമന്റെ <EOS>\\n', 'അവൻ അവരോടു: എന്നെ എന്നെ എന്നെ അവൻ എന്നെ എന്നു ഞാൻ അവൻ <EOS>\\n', 'ഹേ മനുഷ്യരിൽ ഉത്തമനായ ഞാൻ തിളങ്ങുന്ന ഈ <EOS>\\n', 'അവിടെ ഞാൻ നിങ്ങളോടു ഈ ഒരു ഈ ഈ <EOS>\\n', 'അവൻ രാമാ, നിന്ന് ഒരു ഒരു കൊണ്ട് എന്നെ എന്നെ കൊണ്ട് എന്നെ ഒരു <EOS>\\n', 'ഹേ ശക്തനായ ശക്തനായ ശക്തനായ ശക്തനായ രാമൻ തന്റെ ഈ ഈ ഈ ഈ <EOS>\\n', 'ഹേ രാജകുമാരൻ രാജകുമാരൻ ഈ വാക്കുകൾ ഈ ഈ ഈ അവൻ അവൻ <EOS>\\n', 'അപ്പോൾ ഞാൻ പിതാവിന്റെ എന്നെ കൊണ്ട് എന്നെ നീ എന്നെ <EOS>\\n', 'അവൻ അവരോടു: ഞാൻ വലിയ ഒരു <EOS>\\n', 'ഹേ രാമാ, ആ അവന്റെ അവന്റെ തന്റെ അവന്റെ <EOS>\\n', 'എന്റെ എന്റെ എന്റെ ഈ ഈ എന്റെ ഈ ഈ <EOS>\\n', 'അവൻ ഞാൻ ഞാൻ രാജാവിന്റെ രാജാവിന്റെ രാജാവിന്റെ ഞാൻ ഒരു ഞാൻ ഈ <EOS>\\n', 'മഹാനായ ഞാൻ എന്റെ പിതാവിന്റെ എന്റെ ഞാൻ <EOS>\\n', 'കൈകേയിയുടെ പുത്രനായ രാമന്റെ ഈ ഈ ഈ <EOS>\\n', 'അവൻ അവൻ ഒരു അവൻ ഒരു ഒരു അവൻ ഒരു അവൻ <EOS>\\n', 'ഹേ രാമാ, ഈ ഈ അത്യധികം ഈ തന്റെ വീണ്ടും <EOS>\\n', 'എന്നാൽ ഈ ഈ ഈ ഈ കൊണ്ട് ഈ <EOS>\\n', 'ഹേ രാമാ, രാമന് ഈ ഈ ഈ ഈ <EOS>\\n', 'നിന്റെ നിന്റെ ഈ നിന്റെ നിന്റെ ഈ ഈ ഈ ഈ ഈ ഈ ഈ <EOS>\\n', 'അവൻ അവർ നിന്റെ അവർ ഞാൻ അവർ അവർ <EOS>\\n', 'ഹേ രാമാ, കേട്ട് വാക്കുകൾ അത്യധികം അവൻ ഞാൻ ഈ ഈ ഈ <EOS>\\n', 'രാമൻ തന്റെ ലക്ഷ്മണനും ലക്ഷ്മണനും ലക്ഷ്മണനും തന്റെ രാമൻ നിങ്ങൾ തന്റെ <EOS>\\n', 'അപ്പോൾ മനുഷ്യരിൽ കണ്ണുകളുള്ള നിങ്ങളുടെ അടുക്കൽ പറഞ്ഞു, നിങ്ങളുടെ നിങ്ങളുടെ <EOS>\\n', 'ഹേ രാമ, ശക്തനായ രാമാ, അവന്റെ വാക്കുകൾ വാക്കുകൾ രാമന്റെ വളരെ <EOS>\\n', 'അവൻ തന്റെ അവന്റെ അവന്റെ ഭരതൻ അവന്റെ അവന്റെ അവൻ <EOS>\\n', 'അവൻ അവരോടു: വന്നപ്പോൾ ഒരു സ്ത്രീ വന്നപ്പോൾ ഒരു <EOS>\\n', 'അവൻ നല്ല രാജാവിന്റെ ഈ ഒരു ഈ അവൻ <EOS>\\n', 'അപ്പോൾ ഈ രാവണൻ ഈ ഈ <EOS>\\n', 'മഹാനായ വാക്കുകൾ വാക്കുകൾ വാക്കുകൾ വാക്കുകൾ വാക്കുകൾ വാക്കുകൾ വാക്കുകൾ വാക്കുകൾ പറഞ്ഞു: വാക്കുകൾ വാക്കുകൾ പറഞ്ഞു: വാക്കുകൾ പറഞ്ഞു: പറഞ്ഞു: വാക്കുകൾ പറഞ്ഞു: <EOS>\\n', 'അപ്പോൾ അവർ ഞാൻ ഒരു ഞാൻ ഒരു അത് ഒരു അവർ ഒരു <EOS>\\n', 'ഞാൻ ഞാൻ ഞാൻ ഞാൻ നിന്റെ ഞാൻ ഞാൻ ഞാൻ രാജ്യം ഞാൻ <EOS>\\n', 'അവൻ രണ്ടുപേരും നിന്റെ അവന്റെ സീത സീത സീത സീത സീത സീത സീത സീത അവൾ പറഞ്ഞു: <EOS>\\n', 'അപ്പോൾ രാമാ, തന്റെ വാക്കുകൾ തന്റെ ഈ ഈ ഈ ഈ പറഞ്ഞു: പറഞ്ഞു: <EOS>\\n', 'അവൻ ഒരു രാത്രി പോലെ ഒരു ഒരു കണ്ടു. <EOS>\\n', 'ഹേ രാമാ, നിന്റെ നിന്റെ നിന്റെ നിന്റെ നിന്റെ ഈ ഈ എന്നു എന്നു പറഞ്ഞു. <EOS>\\n', 'അവൻ അവൻ ഉത്തരം പറഞ്ഞതു: അവൻ അവൻ അവൻ അവൻ കണ്ടു. <EOS>\\n', 'തങ്ങളുടെ ലക്ഷ്മണാ, തങ്ങളുടെ തങ്ങളുടെ രാമന്റെ തങ്ങളുടെ തങ്ങളുടെ രാമന്റെ തങ്ങളുടെ തങ്ങളുടെ തങ്ങളുടെ തങ്ങളുടെ ജീവൻ സന്തോഷത്തോടെ ഞാൻ <EOS>\\n', 'അപ്പോൾ ഈ നിന്ന് ഈ ഈ ഈ ഈ ഈ ഈ ഈ <EOS>\\n', 'അവൻ അവർ ഒരു അവൻ ഒരു അവൻ ഒരു അവൻ <EOS>\\n', 'ഹേ രാമാ, നീ ഈ ഈ ഈ ഈ ഈ ഈ ഈ ഈ ഈ ഈ <EOS>\\n', 'അവൻ ഞാൻ കേട്ടപ്പോൾ അവന്റെ മുഖം ഒരു നിങ്ങൾ എനിക്ക് ഞാൻ <EOS>\\n', 'ഇപ്പോൾ ഞാൻ ഈ ഈ ഇപ്പോൾ ഇപ്പോൾ ഇപ്പോൾ ഇപ്പോൾ ഇപ്പോൾ ഇപ്പോൾ ഇപ്പോൾ എങ്ങനെ ഒരു വലിയ <EOS>\\n', 'അവൻ പറഞ്ഞു: ഈ രാമന് ഈ ഈ ഈ <EOS>\\n', 'അവൻ ശക്തനായ ശക്തനായ രാവണൻ തന്റെ നന്നായി നന്നായി നന്നായി അവൻ നന്നായി ചെയ്തു. <EOS>\\n', 'അവൻ ഈ പോലെ ഉത്തമനായ രാമൻ, ഈ ഈ <EOS>\\n', 'ഹേ രാമാ, ഞാൻ ഈ ഞാൻ ഈ ഈ <EOS>\\n', 'അവൻ ഇത് നല്ല പിതാവിന്റെ ഞാൻ <EOS>\\n', 'അവൻ മനുഷ്യരിൽ ഉത്തമനായ ഈ വലിയ ഈ ഈ <EOS>\\n', 'അവൻ ഞാൻ നിങ്ങളോടു ഒരു പർവ്വതം പോലെ <EOS>\\n', 'അവൻ ഒരു ഒരു ഒരു ഒരു ഒരു വലിയ ഒരു <EOS>\\n', 'അവൻ ഞാൻ നിന്നെ ഈ ഒരു ഈ <EOS>\\n', 'അപ്പോൾ ഒരു രാമന് ഒരു ഈ ഒരു <EOS>\\n', 'ഹേ ഞാൻ പോലെ നിന്റെ ഞാൻ ഈ അത് അത് <EOS>\\n', 'ഹേ പ്രിയേ, ഞാൻ ഈ ഈ <EOS>\\n', 'ഹേ രാജകീയ രാജകീയ രാജകീയ രാജകീയ രാജകീയ ഈ എനിക്ക് രാജകീയ രാജകീയ ഈ <EOS>\\n', 'അവൻ അവരെ അവരെ ഈ എങ്ങനെ അവരെ അവരെ അവരെ എങ്ങനെ ഒരു അവരെ അവരെ അവരെ എങ്ങനെ അവരെ അവരെ എങ്ങനെ അവരെ എങ്ങനെ അവരെ അവരെ ഒരു അവരെ എങ്ങനെ <EOS>\\n', 'അവൻ എല്ലാവരും ഭരതൻ വസിക്കുന്ന ഈ രാമന്റെ ഈ <EOS>\\n', 'അവനെ ഒരു അവനെ അവന്റെ ഒരു <EOS>\\n', 'ഹേ ഞാൻ എന്റെ ഈ ഞാൻ ഈ ഞാൻ ഈ എന്റെ <EOS>\\n', 'അവൻ ഞാൻ ഞാൻ അവന്റെ ഞാൻ അവർ ഞാൻ <EOS>\\n', 'ഞങ്ങൾ രണ്ടുപേരും എന്റെ ഈ ഈ <EOS>\\n', 'അവൻ രണ്ടുപേരും ഈ ഒരു ഈ ഈ ഈ ഈ ഈ <EOS>\\n', 'ഭരതൻ ഭരതൻ തന്റെ മികച്ച ഭരതൻ ഒരു രാജാവിനെ തന്റെ <EOS>\\n', 'അവൻ ഞാൻ ഒരു ഞാൻ ഒരു അവൻ <EOS>\\n', 'മഹാനായ തന്റെ രാമന് രാമന് തന്റെ ഈ ഈ രാമന് രാമന് രാമന് തന്റെ <EOS>\\n', 'അവൻ ഞാൻ നിന്റെ രാമന്റെ ഈ ഈ ഈ <EOS>\\n', 'അവൻ ഈ ഈ ഈ അവർ ഈ ഈ അത് അവർ <EOS>\\n', 'അവൻ ദിവസം ഒരു ദിവസം നിന്ന് ഒരു <EOS>\\n', 'ഹേ രാമാ, രാമാ, ഈ ഈ ഈ ഈ ഈ ഈ തന്റെ വീണ്ടും ഒരു <EOS>\\n', 'ഹേ രാമാ, നീ ഈ ഈ ഈ ഈ ഈ ഈ <EOS>\\n', 'യേശു ഞാൻ എന്റെ ഞാൻ ഇവിടെ ഈ ഇവിടെ <EOS>\\n', 'അവിടെ ഞാൻ എന്നെ കാട്ടിലേക്ക് എന്നെ ഒരു നിങ്ങൾ എന്നെ എന്നെ നിങ്ങൾ എന്നെ <EOS>\\n', 'ഈ സ്ത്രീയേ, സ്ത്രീയേ, നീ നരകത്തിൽ ഞാൻ പോകും. നീ എന്നെ നീ എന്നെ <EOS>\\n', 'അവൻ രാമാ, തന്നെ എന്നെ ഈ അത് അവൻ <EOS>\\n', 'ഹേ രാമാ, എനിക്ക് എനിക്ക് എനിക്ക് എനിക്ക് എനിക്ക് എനിക്ക് എനിക്ക് ഈ എനിക്ക് എനിക്ക് ജീവിക്കാൻ കഴിയില്ല. <EOS>\\n', 'അപ്പോൾ രണ്ടുപേരും ഒരു ഈ വാക്കുകൾ കാണാൻ കാണാൻ ഇവിടെ <EOS>\\n', 'അപ്പോൾ മനുഷ്യരിൽ നിന്ന് എന്നെ എന്നെ നിന്ന് ഞാൻ <EOS>\\n', 'ഹേ ഞാൻ എന്നെ എന്നെ എന്നെ ഈ ഈ <EOS>\\n', 'അവൻ ഞാൻ നിങ്ങളോടു ഈ ഈ ഈ ഈ ഈ നിനക്കു ചെയ്തു. <EOS>\\n', 'അപ്പോൾ ഞാൻ ഞാൻ ഞാൻ ഞാൻ ഞാൻ അവൾ ഞാൻ <EOS>\\n', 'അവൻ ഈ ഒരു ഈ ഈ ഈ ഈ ഈ ഈ ഒരു ഈ <EOS>\\n', 'ഹേ രാമാ, നീ ഒരു ഈ ഒരു കഴിയുന്ന ഒരു <EOS>\\n', 'ഹേ രാമാ, നിന്റെ ഈ ഈ ഈ ഈ ഈ ഈ ഈ <EOS>\\n', 'ഹേ രാമാ, നീ ഈ ഒരു ഈ ഒരു ഈ ഒരു ഈ <EOS>\\n', 'ഹേ രാമാ, നീ നീ ഈ നീ <EOS>\\n', 'അങ്ങനെ തന്റെ ഉത്തമനായ ഈ തന്റെ ഈ രാമന്റെ ഈ <EOS>\\n', 'രാജാവേ, രാജാവേ, നിങ്ങളുടെ സഹോദരൻ നിന്ന് ഈ <EOS>\\n', 'ഹേ ഞാൻ ഞാൻ ഈ ഈ ഈ ഈ ഈ ഈ ഈ <EOS>\\n', 'എന്റെ പിതാവിന്റെ സഹോദരൻ സഹോദരൻ സഹോദരൻ നിന്ന് എന്റെ സഹോദരൻ <EOS>\\n', 'ഞാൻ ഞാൻ എന്റെ ഞാൻ ഒരു ഞാൻ ഞാൻ ഒരു <EOS>\\n', 'ഹേ രാജ്ഞി ആ ഈ ഈ ഈ ഈ ഈ ഈ അവൻ പറഞ്ഞു: <EOS>\\n', 'ഹേ രാമാ, വാക്കുകൾ വാക്കുകൾ വാക്കുകൾ വാക്കുകൾ വളരെ വളരെ വളരെ വളരെ വാക്കുകൾ വളരെ വളരെ വളരെ വളരെ വളരെ വളരെ വളരെ <EOS>\\n', 'ഹേ രാമാ, നീ എന്നെ ഒരു ഈ ഈ ഒരു ഈ <EOS>\\n', 'ഈ ഈ ഈ ഈ ഈ ഈ ഈ ഈ ഈ ഈ ഈ ഈ ഈ ഈ ഈ <EOS>\\n', 'രാമൻ തന്റെ രാമന് രാമന് പറഞ്ഞു, ഒരു വാക്കുകൾ <EOS>\\n', 'അവൻ പറഞ്ഞിട്ട്, രാമന് ആ സുന്ദരിയായ ഒരു സുന്ദരിയായ അവൻ ഒരു <EOS>\\n', 'അവൻ അവനെ അവനെ ഈ ഈ ഈ എന്നു പറഞ്ഞു. <EOS>\\n', 'മഹാനായ ഞാൻ രാമന്റെ ഞാൻ ഈ ഈ <EOS>\\n', 'മഹാമനസ്കനായ ഭരതൻ അവന്റെ ശബ്ദം കേട്ട്, അവന്റെ ശബ്ദം പറഞ്ഞു: അവന്റെ ശബ്ദം പറഞ്ഞു: <EOS>\\n', 'അപ്പോൾ ഞാൻ നിങ്ങളോടു ഞാൻ പറയുന്നു, ഒരു <EOS>\\n', 'അവൻ പറഞ്ഞിട്ട്, പറഞ്ഞിട്ട്, എന്റെ സഹോദരൻ ഒരു സഹോദരൻ അവൻ എന്റെ അവൻ <EOS>\\n', 'എന്നാൽ അവർ അവന്റെ ഭയാനകമായ അവന്റെ ഭയാനകമായ ഭയാനകമായ ഒരു അവർ അവന്റെ <EOS>\\n', 'അപ്പോൾ ആ ഒരു ഒരു ഒരു അവൾ കണ്ടു. കരഞ്ഞുകൊണ്ട് അവൾ ഒരു നിമിഷം കണ്ടു. <EOS>\\n', 'അവർ അവരോടു: ഞാൻ ഒരു അവന്റെ ഒരു അവർ അവന്റെ <EOS>\\n', 'എന്റെ മകനേ, മകനേ, എന്റെ ഈ ഈ ഈ ഈ ഈ ഈ <EOS>\\n', 'ഹേ മനുഷ്യരിൽ ഏറ്റവും ഉത്തമനായ രാമനെ ഞാൻ എങ്ങനെ ഒരു <EOS>\\n', 'അപ്പോൾ എല്ലാവരും ഞാൻ ഞാൻ ഈ നിങ്ങൾ നിങ്ങൾ <EOS>\\n', 'ഹേ രാമാ, ഈ രാമന്റെ ഈ ഈ ഈ ഈ <EOS>\\n', 'ഇപ്പോൾ ഈ എന്റെ ഈ നിറഞ്ഞ ഈ രാമന്റെ <EOS>\\n', 'അവൻ ഞാൻ നിങ്ങളോടു ഞാൻ ഈ ഒരു ഈ ഞാൻ <EOS>\\n', 'അവൻ അവരോടു: വാക്കുകൾ അവൻ പറഞ്ഞു: നീ അവൻ പറഞ്ഞു. അവൻ പറഞ്ഞു. പറഞ്ഞു. <EOS>\\n', 'മഹാനായ ഞാൻ ഞാൻ ദുഃഖത്താൽ ഞാൻ ഒരു ഈ <EOS>\\n', 'തന്റെ തന്റെ തന്റെ കണ്ട് തന്റെ ഈ <EOS>\\n', 'ഞാൻ രണ്ടുപേരും ഞാൻ അവന്റെ ഞാൻ ഒരു ഞാൻ <EOS>\\n', 'അവൻ ഞാൻ ഇവിടെ ഇവിടെ ഇവിടെ ഇവിടെ നിന്ന് ഞാൻ ഇവിടെ നിന്ന് <EOS>\\n', 'അവൻ ഞാൻ ഞാൻ ഈ ഒരു അവരെ ഒരു അവൻ <EOS>\\n', 'ഞാൻ ഞാൻ ഞാൻ ഞാൻ ഞാൻ ഞാൻ ഞാൻ പറഞ്ഞു: <EOS>\\n', 'അവൻ ഞാൻ ഇവിടെ അവന്റെ അവന്റെ <EOS>\\n', 'ഞാൻ ഒരു ഞാൻ ഒരു അവർ അവിടെ ഞാൻ <EOS>\\n', 'ഹേ രാമാ, ഈ അവന്റെ അവന്റെ എന്നിവ ഈ <EOS>\\n', 'അവർ ഞാൻ ഒരു ഒരു ഒരു ഒരു അവർ ഒരു അവിടെ അവിടെ അവർ ഒരു <EOS>\\n', 'അപ്പോൾ ഞാൻ ഞാൻ <EOS>\\n', 'അവൻ തന്റെ അവനെ അവൻ അത്യധികം തന്റെ അവൻ അവൻ അവൻ അവൻ <EOS>\\n', 'എന്റെ രാജാവ് എന്റെ ഈ രാജാവ് ഈ രാജാവ് ഈ <EOS>\\n', 'ഒരു വലിയ കണ്ണുകളുള്ള ഈ നല്ല ഭൂമിയുടെ ഭൂമിയുടെ ഈ ഒരു <EOS>\\n', 'അവൻ തന്റെ നിങ്ങളോടു ഒരു ഈ ഈ ഈ <EOS>\\n', 'അവൻ ഈ ഈ ഈ ഈ ഈ ഈ ഈ ഈ ഈ അവൻ <EOS>\\n', 'ഹേ അവനെ നിന്റെ ഒരു ഈ ഈ ഒരു ഈ നീ <EOS>\\n', 'ഞാൻ ഞാൻ രാമന്റെ ഞാൻ ഈ അത് ഒരു അത് ഞാൻ <EOS>\\n', 'മഹാനായ വാനരൻ ഞാൻ ഇവിടെ അത് നിങ്ങൾ നിങ്ങൾ അത് നിങ്ങൾ അത് നിങ്ങളുടെ ജീവൻ നിങ്ങൾ <EOS>\\n', 'അവൻ നിന്ന് ഒരു ഈ ഒരു ഈ ഈ ഒരു <EOS>\\n', 'എന്റെ ബഹുമാന്യനായ സഹോദരനെ നാടുകടത്താൻ ഉപദേശിച്ചവൻ തന്റെ ഭയാനകമായ ഭയാനകമായ ഈ <EOS>\\n', 'ഹേ മനുഷ്യരിൽ സ്ത്രീയേ, ഈ ഈ ഈ ഈ ഈ <EOS>\\n', 'ഹേ രാമാ, നീ എന്നെ ഒരു അവൻ ഒരു <EOS>\\n', 'ഹേ രാമാ, നിന്ന് ഈ ഈ ഈ രാജാവ് വലിയ ഈ <EOS>\\n', 'അപ്പോൾ ഞാൻ ഞാൻ ഈ ഞാൻ ഈ ഈ ഞാൻ ഈ ഈ <EOS>\\n', 'അവൻ അവരോടു: ഒരു ഈ ഒരു <EOS>\\n', 'ഹേ പറഞ്ഞിട്ട്, സഹോദരനെ നാടുകടത്താൻ ഉപദേശിച്ചവൻ ഈ ഈ ഈ ഈ ഈ <EOS>\\n', 'എന്റെ ബഹുമാന്യനായ സഹോദരനെ നാടുകടത്താൻ ഉപദേശിച്ചവൻ, ഒരു നിമിഷം കൊണ്ട് ഞാൻ എന്റെ <EOS>\\n', 'ഹേ പറഞ്ഞിട്ട്, രാജകുമാരാ, ഒരു ഈ ഈ കൊണ്ട് ഈ ഈ <EOS>\\n', 'അവൻ അവരോടു: ഞാൻ എനിക്ക് സ്നാനം ഒരു <EOS>\\n', 'അവൻ അവനെ ഒരു ഒരു ഒരു അവൻ <EOS>\\n', 'ഹേ ലക്ഷ്മണാ, മിഥിലയിലെ ഒരു ഈ ഈ ഈ ഈ വീണ്ടും വീണ്ടും വീണ്ടും വീണ്ടും വീണ്ടും <EOS>\\n', 'അവൻ എന്റെ പോലെ നാടുകടത്താൻ നാടുകടത്താൻ ഒരു <EOS>\\n', 'അവർ അവരോടു: ഒരു അവർ എന്നു <EOS>\\n', 'അപ്പോൾ ഞാൻ ഞാൻ ഞാൻ അലങ്കരിച്ച നിങ്ങളെ ഒരു ഞാൻ <EOS>\\n', 'ഈ എനിക്ക് എന്റെ എനിക്ക് ഈ ഈ എനിക്ക് ഈ എനിക്ക് എനിക്ക് എനിക്ക് ജീവിക്കാൻ കഴിയില്ല. <EOS>\\n', 'അവൻ അവർ നിന്ന് അവർ അവർ അവർ അവർ അവർ അവർ അവർ അവർ അവർ അവർ അവർ അവർ അവർ അവർ അവർ അവർ അവർ അവർ അവർ നിങ്ങളെ ഒരു <EOS>\\n', 'അവൻ പിതാവിന്റെ പിതാവിന്റെ ഈ ഒരു ഈ ചെയ്തു. <EOS>\\n', 'അവൻ ഒരു നിന്ന് ഒരു ഒരു ഒരു നിന്ന് അവൻ ഒരു അവൻ അവൻ <EOS>\\n', 'ഹേ ഞാൻ ഞാൻ നിന്നെ കൊണ്ട് ഞാൻ നിന്നെ <EOS>\\n', 'അവൻ ഒരു ഒരു ഒരു ഒരു ഒരു നിന്ന് ഒരു അവൻ കണ്ടു. <EOS>\\n', 'അപ്പോൾ ഞാൻ ഞാൻ ഞാൻ ഈ ഒരു അവളെ ഒരു എനിക്ക് അവളെ എനിക്ക് എങ്ങനെ ഒരു <EOS>\\n', 'എന്റെ മകനേ, എന്റെ ശക്തിയും ഞാൻ എന്റെ <EOS>\\n', 'അവൻ അവരോടു: നിന്ന് അവൻ അവൻ അവരെ അവരെ അവരെ അവരെ അവരെ അവരെ അവരെ അവരെ അവരെ അവരെ അവരെ അവരെ ചെയ്തു. <EOS>\\n', 'ഹേ രാമാ, ഞാൻ രാമൻ, ചെയ്ത രാമൻ, തന്റെ ചെയ്ത രാമൻ, ഈ ചെയ്ത രാമൻ, തന്റെ എല്ലാ ഈ ഈ ഈ ഈ ഈ ഈ ഈ ഈ ഈ ഈ പറഞ്ഞു: <EOS>\\n', 'അവൻ ആ ഉത്തരം പറഞ്ഞതു: ഈ ഈ ഒരു ഈ <EOS>\\n', 'ഞാൻ നിങ്ങളെ എന്നെ എന്നെ എന്നെ ഞാൻ എന്നെ എന്നെ എന്നെ കാണാൻ ഞാൻ <EOS>\\n', 'അവർ രണ്ടുപേരും ഒരു ഒരു ഒരു അവർ ഒരു അവർ <EOS>\\n', 'അവൻ ഞാൻ നിങ്ങളോടു വാക്കുകൾ കേട്ട്, ഭരതൻ ഞാൻ ഈ <EOS>\\n', 'ഞങ്ങൾ ഞങ്ങൾ ഞങ്ങൾ അവന്റെ ജീവൻ ഞങ്ങൾ ഞങ്ങൾ ഞങ്ങൾ ഇവിടെ ഞങ്ങളുടെ മകൻ <EOS>\\n', 'യേശു അവരോടു ഉത്തരം പറഞ്ഞതു: ഞാൻ പറഞ്ഞു: <EOS>\\n', 'ഹേ രാമാ, രാമാ, രാമന് സീത സീത സീത സീത തന്റെ അവളെ ഈ <EOS>\\n', 'ഹേ രാമാ, ഈ ഈ ഈ ഈ ഈ ഈ ഈ ഈ ഈ ഈ ഈ <EOS>\\n', 'രാജാവേ, രാജാവേ, രാജാവേ, രാജാവേ, അതിന്റെ അതിന്റെ ശേഷം ഹേ ലക്ഷ്മണാ, അതിന്റെ ശേഷം എനിക്ക് ഈ <EOS>\\n', 'അവൻ ഞാൻ ഒരു ഈ ഈ കൊണ്ട് ഈ ഒരു ഈ ഒരു അവൻ <EOS>\\n', 'ഹേ ശക്തനായ രാമാ, ശക്തനായ ശക്തനായ ശക്തനായ ശക്തനായ ശക്തനായ രാമാ, ഈ ശക്തനായ ഈ ശക്തനായ ശക്തനായ ശക്തനായ ഒരു നിമിഷം പറഞ്ഞു: <EOS>\\n', 'ഹേ രാമാ, ഞാൻ ഈ രാമന്റെ അവൻ അവൻ അവൻ <EOS>\\n', 'അവൻ ഞാൻ പിതാവിന്റെ അവർ ഈ <EOS>\\n', 'അവൻ ഞാൻ ഒരു രാജാവിന്റെ ഞാൻ ഒരു അവരെ ഒരു അവരെ അവരെ അവരെ അവരെ പറഞ്ഞു: <EOS>\\n', 'അപ്പോൾ ഞാൻ നിങ്ങളോടു യേശുവിന്റെ ഞാൻ ഈ <EOS>\\n', 'ഇപ്രകാരം പറഞ്ഞു: ഇപ്രകാരം ഒരു നിമിഷം ഇപ്രകാരം പറഞ്ഞു: <EOS>\\n', 'അപ്പോൾ അവരോടു: ഞാൻ ഈ ഞാൻ നിന്നെ <EOS>\\n', 'അവൻ ദിവസം ഒരു അവൻ അവൻ <EOS>\\n', 'അപ്പോൾ ഞാൻ നിന്റെ ഒരു ഈ നിനക്കു നിറഞ്ഞ ഈ ഒരു <EOS>\\n', 'അവൻ തന്റെ ഒരു രാമന്റെ അവൻ അവൻ അവൻ അവൻ അവൻ അവൻ അവൻ <EOS>\\n', 'അവൻ ഈ വാക്കുകൾ അവന്റെ ഈ ഈ ഈ ഈ അവന്റെ <EOS>\\n', 'എന്നാൽ അവർ വന്നപ്പോൾ തന്റെ വെള്ളം വന്നപ്പോൾ തന്റെ ലക്ഷ്യം വന്നപ്പോൾ നിന്ന് പുറപ്പെട്ടു. <EOS>\\n', 'അവൻ പറഞ്ഞു: ഞാൻ ഒരു ഞാൻ ഈ പറഞ്ഞു: <EOS>\\n', 'അവൻ ഞാൻ പോലെ പോലെ പോലെ പോലെ പോലെ പോലെ പോലെ പോലെ പോലെ പോലെ പോലെ പോലെ പോലെ പോലെ പോലെ പോലെ പോലെ പോലെ പോലെ പോലെ പോലെ പോലെ പോലെ പോലെ പോലെ പോലെ പോലെ തിളങ്ങുന്ന <EOS>\\n', 'അവൻ ഞാൻ ഞാൻ ഞാൻ എന്നു ഞാൻ എന്നു ഞാൻ എന്നു പറഞ്ഞു. <EOS>\\n', \"'അല്ലയോ ഞാൻ ഞാൻ ഈ അലങ്കരിച്ച ഒരു എല്ലാ ഞാൻ ഈ <EOS>\\n\", 'എന്നാൽ ഞാൻ എന്റെ നിന്ന് നീ ഒരു എന്നെ നിന്ന് <EOS>\\n', 'മഹാനായ രാമാ, രാമൻ, രാമൻ, രാമൻ, തന്റെ വാക്കുകളിൽ വാക്കുകളിൽ വളരെ വളരെ വളരെ <EOS>\\n', 'അവൻ ഞാൻ പിതാവിന്റെ ഒരു ഈ ഈ <EOS>\\n', 'അവൻ ഞാൻ ഞാൻ ഞാൻ ഞാൻ ഞാൻ അവൻ അവൻ അവൻ <EOS>\\n', 'അവൻ ഈ അവന്റെ അവന്റെ അവന്റെ ഒരു ഈ പറഞ്ഞു: <EOS>\\n', 'അവൻ ഞാൻ നിങ്ങളോടു ഞാൻ ഈ ഈ <EOS>\\n', 'അവൻ രാമാ, ഒരു ഈ ഒരു ഈ ഒരു ഈ <EOS>\\n', 'അവൻ നല്ല നല്ല അവൻ ഈ <EOS>\\n', 'മനുഷ്യരിൽ ശക്തനായ ശക്തനായ സന്യാസിയായ വിശ്വാമിത്രൻ ശക്തനായ സന്യാസിയായ വിശ്വാമിത്രൻ ഇപ്രകാരം പറഞ്ഞു. <EOS>\\n', \"'അല്ലയോ രാമാ, നിന്ന് ഒരു ഞാൻ ഈ ഈ ഈ ഒരു <EOS>\\n\", 'അവൻ ഒരു നീ ഒരു അവൻ ഒരു അവൻ അവൻ <EOS>\\n', 'അവൻ ലക്ഷ്മണൻ രാമന്റെ ഈ ഒരു നിറഞ്ഞ ഈ <EOS>\\n', 'അവിടെ ഞാൻ എന്റെ സഹോദരനും അടുക്കൽ നിങ്ങൾ ഒരു <EOS>\\n', 'അവൻ നല്ല നല്ല വാക്കുകൾ നല്ല അവൻ അവിടെ അത്യധികം <EOS>\\n', 'അവൻ ഞാൻ ഈ ഈ ഞാൻ ഈ ഈ ഈ തന്റെ അദ്ദേഹം തന്റെ <EOS>\\n', 'ഹേ ഞാൻ ഞാൻ ഈ ഞാൻ ഈ പറഞ്ഞു: <EOS>\\n', 'അവൻ ഞാൻ നിങ്ങളുടെ ഞാൻ ഈ എന്നു <EOS>\\n', 'അവൻ ഞാൻ നിങ്ങളോടു ഒരു ഞാൻ ഒരു ഈ <EOS>\\n', 'ഒരു സ്ത്രീ ഒരു ഈ പർവ്വതം പോലെ തിളങ്ങുന്ന ഒരു <EOS>\\n', 'ഹേ രാമാ, രാമാ, നിന്ന് ഈ ഈ <EOS>\\n', 'അവൻ അവനോടു: ഞാൻ ഞാൻ അവൻ അവൻ അവൻ <EOS>\\n', 'അപ്പോൾ തന്റെ രാമൻ തന്റെ ഈ ഈ പോലെ <EOS>\\n', 'അപ്പോൾ അവരോടു: നിങ്ങൾ രാമന്റെ നിങ്ങളുടെ അവരെ അവരെ അവരെ അവരെ അവരെ അവരെ അവരെ <EOS>\\n', 'സീത സീത സീത സീത സീത സീത സീത സീത സീത തന്റെ എല്ലാ എല്ലാ എല്ലാ എല്ലാ ചെയ്തു. <EOS>\\n', 'അവൻ ഞാൻ എന്റെ ഒരു ഒരു ഒരു ഒരു അവൻ ഒരു <EOS>\\n', 'മഹാനായ വാക്കുകൾ എന്റെ വാക്കുകൾ ഈ ഞാൻ ഈ നിങ്ങൾ ഈ പറഞ്ഞു: ഈ നിങ്ങൾ നിങ്ങൾ എനിക്ക് എങ്ങനെ ഞാൻ ഇവിടെ വീണ്ടും നിങ്ങൾ വീണ്ടും വീണ്ടും <EOS>\\n', 'എന്റെ രണ്ടുപേരും ഞാൻ ഈ ഈ ഈ <EOS>\\n', 'അപ്പോൾ യേശു അവരോടു പറഞ്ഞു: പല ഈ ഒരു പറഞ്ഞു. <EOS>\\n', 'എന്നാൽ അവർ രണ്ടുപേരും ഈ അവർ അവന്റെ ഈ എന്നു പറഞ്ഞു. പറഞ്ഞു. <EOS>\\n', 'അപ്പോൾ രാമാ, ഒരു ഈ ഒരു ഒരു <EOS>\\n', 'അവൻ അവരെ അവരെ അവരെ അവരെ അവരെ അവരെ അവരെ അവരെ അവരെ അവരെ അവരെ അവരെ അവരെ അവരെ അവരെ അവരെ അവരെ അവരെ അവരെ അവരെ അവരെ അവരെ അവരെ അവരെ അവരെ അവരെ അവരെ അവരെ അവരെ അവരെ അവർ അവരെ അവരെ ഒരു പറഞ്ഞു. <EOS>\\n', 'അപ്പോൾ ഞാൻ നിങ്ങളോടു ഞാൻ ഞാൻ ഈ <EOS>\\n', 'ഈ വാക്കുകൾ എന്റെ ഈ കൊണ്ട് ഈ എന്റെ വീണ്ടും വീണ്ടും വീണ്ടും വീണ്ടും <EOS>\\n', 'ഹേ രാമാ, ഈ ഈ ഈ ഈ ഈ ഈ ഈ ഈ <EOS>\\n', 'അവൻ അവനെ അടുക്കൽ അവനെ അവർ ഈ അവർ ഈ <EOS>\\n', 'ഹേ രാമാ, ഈ ഈ ഈ ഈ ഈ <EOS>\\n', 'അവൻ ഞാൻ എന്റെ ഞാൻ ഞാൻ ഈ <EOS>\\n', 'ഹേ ഈ ഞാൻ ഈ ഈ ഈ ഈ ഈ ഈ ഈ ഞാൻ <EOS>\\n', 'ഞാൻ ഞാൻ ഈ ഞാൻ ഈ ഈ ഈ ഞാൻ ഈ <EOS>\\n', 'ഹേ രാമാ, രാമന് ഈ പറഞ്ഞു: ഈ ഈ <EOS>\\n', 'എന്നാൽ പിതാവിന്റെ പിതാവിന്റെ ഈ ഈ പോലെ <EOS>\\n', 'അവൻ ഞാൻ ഞാൻ വിശ്വാമിത്രൻ ഞാൻ വിശ്വസിക്കുന്നു, ഒരു ഞാൻ ഈ <EOS>\\n', 'അവൻ തന്നെ എന്നെ ഈ ഒരു <EOS>\\n', 'അതിനുശേഷം, നിങ്ങളുടെ പിതാവിന്റെ ഞാൻ നിങ്ങളുടെ നിങ്ങൾക്ക് എന്ന് നിങ്ങൾ <EOS>\\n', 'അപ്പോൾ ശക്തനായ രാജാവ് അവൾ പറഞ്ഞു: നിന്റെ ഒരു അവൾ <EOS>\\n', 'അവൻ ഞാൻ ദുഃഖത്താൽ അടുക്കൽ അവൻ പറഞ്ഞു: അവൻ ഈ അവൻ അവൻ പറഞ്ഞു: അവൻ അവൻ ഒരു അവൻ <EOS>\\n', 'അപ്പോൾ മനുഷ്യരിൽ ഏറ്റവും ഉത്തമനായ തന്റെ നിന്ന് <EOS>\\n', 'അവൻ അവരോടു: എന്നെ എന്നെ എന്നെ എന്നെ എന്നെ എന്നെ <EOS>\\n', 'അവൻ ഏറ്റവും വാക്കുകൾ അത്യധികം പിന്നെ ഒരു വലിയ ഈ <EOS>\\n', \"'അല്ലയോ ഞാൻ ഞാൻ ഈ ഒരു ഈ ഈ <EOS>\\n\", 'അങ്ങനെ അവർ ഹനുമാൻ, നല്ല നല്ല <EOS>\\n', 'ഈ മനുഷ്യരിൽ നിന്റെ നീ ഈ ഈ ഈ ഈ <EOS>\\n', 'ഞാൻ ഞാൻ ഈ ഞാൻ ഈ ഒരു ഈ <EOS>\\n', 'ഹേ മനുഷ്യരിൽ സീത സീത സീത തന്റെ ഈ ഒരു ഈ <EOS>\\n', 'ഈ വനത്തിൽ ഈ ഈ ഈ ഈ ഈ ഈ <EOS>\\n', 'അവൻ എന്റെ രാമന് ഈ ഈ എന്റെ അവൻ <EOS>\\n', 'സീതയെ കാണാൻ ഭരതൻ ഈ തന്റെ ഈ ഈ <EOS>\\n', 'മനുഷ്യരിൽ ഏറ്റവും ഉത്തമനായ തന്റെ അവന്റെ തന്റെ അവന്റെ <EOS>\\n', 'ഹേ ലക്ഷ്മണാ, നീ ഈ രാജാവ് ഈ ഈ <EOS>\\n', 'അവൻ അവരോടു: ഈ പോലെ അവൻ <EOS>\\n', 'ആ ഏറ്റവും നല്ല ആ ആ ആ അത്യധികം <EOS>\\n', 'ഹേ നൈറ്റ് കൊണ്ട് ഞാൻ ഒരു ഞാൻ കൊണ്ട് ഒരു നീ രാമന്റെ <EOS>\\n', 'ഹേ ഞാൻ ഞാൻ ഈ ഈ നിങ്ങൾ ഈ നിങ്ങൾ നിന്ന് <EOS>\\n', 'അവൻ രാജാവിന്റെ രാജാവിന്റെ രാജാവിന്റെ ഈ ഈ തന്റെ അവൻ അവൻ <EOS>\\n', 'അവൻ നിന്ന് അവന്റെ അവൻ അവന്റെ അവൻ ചെയ്തു. <EOS>\\n', 'സീതയെ ഈ വാക്കുകൾ രാമന് ഈ ഈ ഈ ഈ ഈ <EOS>\\n', 'അപ്പോൾ തന്റെ ആ തന്റെ തന്റെ ഒരു തന്റെ അവന്റെ <EOS>\\n', 'അവൻ അവരെ മറ്റ് അവൻ അവരെ അവരെ അവരെ ഒരു അവരെ അവരെ അവരെ അവരെ അവരെ അവരെ അവരെ അവൻ അവരെ അവരെ അവരെ അവരെ അവരെ അവരെ അവരെ ഒരു പറഞ്ഞു: <EOS>\\n', 'ഈ ഈ വിശ്വാമിത്രൻ ഈ ഈ ഈ ഈ ഈ <EOS>\\n', 'അവൻ അതു അതു കേട്ടിട്ടു അവർ എന്നും ഞാൻ അവരെ നിന്നെ അതു ചോദിച്ചു. <EOS>\\n', 'അവൻ രണ്ടുപേരും ഞാൻ ഈ ഈ ഈ <EOS>\\n', 'ആ സമയത്ത് ആ ഈ <EOS>\\n', 'അവൻ ഞാൻ ഞാൻ ഈ അവർ ഞാൻ ഈ അവർ <EOS>\\n', 'ഹേ ഈ ഈ ഈ ഈ ഈ ഈ ഈ ഈ ഒരു ഈ <EOS>\\n', 'ഹേ ഈ ഈ തിളങ്ങുന്ന ഈ ഈ ഈ ഈ ഈ <EOS>\\n', '\"ഹേ രാമാ, നിന്ന് നിന്ന് നിന്ന് നിന്ന് നിന്ന് നിന്ന് എന്നാൽ എനിക്ക് ഞാൻ <EOS>\\n', 'അവർ മനുഷ്യരിൽ മനുഷ്യരിൽ മനുഷ്യരിൽ ഏറ്റവും നല്ല മനുഷ്യരിൽ നല്ല നിന്ന് അവർ <EOS>\\n', 'അപ്പോൾ അവർ അവനെ ഈ ഒരു ഒരു ഈ അവർ പറഞ്ഞു: <EOS>\\n', 'അവൻ അവരോടു: രാമന് രാമന് തന്റെ അവന്റെ പറഞ്ഞു. <EOS>\\n', 'അങ്ങനെ ഞാൻ അവന്റെ അവന്റെ അവന്റെ അവന്റെ അവന്റെ <EOS>\\n', 'ഹേ നിന്റെ നിന്റെ എനിക്ക് നിന്നെ ഈ എനിക്ക് ഈ അവർ നീ <EOS>\\n', 'അവൻ ഞാൻ ഒരു ഒരു ഒരു കൊണ്ട് ഒരു ഒരു നീ <EOS>\\n', 'ഹേ രാമാ, ഞാൻ ഈ ഈ ഈ അവന്റെ മുഖം <EOS>\\n', 'ഹേ രാമാ, നീ എന്നെ ഈ ഈ ഈ ഈ <EOS>\\n', 'ഹേ രാമാ, നീ ഈ ഈ ഈ ഈ ഈ ഈ ഈ <EOS>\\n', 'അവൻ അധിപനായ നിങ്ങൾ ഒരു രാജാവ് ഈ ഈ <EOS>\\n', 'തന്റെ തന്റെ തന്റെ തന്റെ തന്റെ പോലെ <EOS>\\n', 'അപ്പോൾ ഞാൻ ഇതു ഞാൻ നീ ഒരു എന്നു പറഞ്ഞു അവർ ഞാൻ പറഞ്ഞു: <EOS>\\n', 'ഹേ രാമാ, എന്റെ അവൻ ഒരു അവൻ അവൻ എന്റെ അവൻ <EOS>\\n', 'അവൻ അവരോടു: ഒരു ഒരു എപ്പോഴും അവിടെ ഒരു <EOS>\\n', 'അവൻ ഒരു ഒരു എന്നെ ഒരു നിങ്ങൾ ഒരു നിങ്ങൾ എനിക്ക് എനിക്ക് എങ്ങനെ അവരെ അവരെ അവരെ അവരെ ഒരു <EOS>\\n', 'ഹേ രാമാ, രാജാവ് രാജാവ് രാജാവ് രാമന്റെ രാജാവ് സീത തന്റെ ഭാര്യയെ കാണാൻ കാണാൻ കഴിഞ്ഞില്ല. <EOS>\\n', 'ഹേ ഭരതാ, രാമന്റെ ഈ രാമന്റെ ഈ ഈ <EOS>\\n', 'അവർ ഈ അവന്റെ ഈ ഈ ഈ ഈ <EOS>\\n', 'അവൻ ഞാൻ എന്റെ നിറഞ്ഞ ഇപ്രകാരം ഒരു <EOS>\\n', 'രാത്രി നഗരം ഒരു രാത്രി നഗരം ഒരു രാത്രി കണ്ടു. <EOS>\\n', 'അവൻ അവർ അവനെ ഒരു അവർ <EOS>\\n', 'അവൻ അവരോടു: അവൻ ഞാൻ ഒരു അവൻ <EOS>\\n', 'അവൻ ഈ ഒരു ഈ ഈ ഈ ഈ ഈ ഒരു അവൻ <EOS>\\n', 'ഹേ മനുഷ്യരിൽ ഒരു ഈ ഒരു നമ്മുടെ നമ്മുടെ ഒരു ഈ <EOS>\\n', 'അപ്പോൾ തന്റെ പിതാവിന്റെ ഒരു ആയിരം ഒരു ആയിരം ഒരു <EOS>\\n', 'അവൻ ഇതു എഴുന്നേറ്റു ഞാൻ ഇതു <EOS>\\n', 'അവൻ രാജ്യം എനിക്ക് ഞാൻ ഈ ഒരു എനിക്ക് ഈ എനിക്ക് കഴിയില്ല. <EOS>\\n', 'അവൻ ഞാൻ എന്റെ ഒരു ഞാൻ അവൻ <EOS>\\n', 'തന്റെ വാക്കുകൾ തന്റെ തന്റെ തന്റെ തന്റെ ഈ <EOS>\\n', 'ഹേ രാമാ, ഈ ഈ ഈ ഈ ഈ ഈ ഈ ഈ <EOS>\\n', 'അവൻ രാമാ, രാമൻ, ഈ രാമൻ, ഒരു ഈ <EOS>\\n', 'രഘു വംശത്തിലെ ഈ വാക്കുകൾ വിശുദ്ധ ഇടയിൽ ഞാൻ ഈ <EOS>\\n', 'ഹേ രാമാ, ഈ ഈ രാമൻ, ഈ ഈ ഈ ഈ ഈ ഈ ഈ <EOS>\\n', 'ഹേ ഈ ഈ ഈ ഈ ഈ ഈ ഈ ഈ ഈ ഈ ഈ ഈ ഈ ഈ ഈ ഈ ഈ ഈ ഈ ഈ ഈ ഈ വാക്കുകൾ പറഞ്ഞു: ഈ ഈ ഈ ഈ ഈ വാക്കുകൾ പറഞ്ഞു. <EOS>\\n', 'ഹേ രാമാ, ഞാൻ ഈ ഈ ഈ ഈ ഈ <EOS>\\n', 'മനുഷ്യരിൽ ഏറ്റവും ഉത്തമനായ രാമനെ കാണാൻ ഞാൻ നിങ്ങളെ ഈ <EOS>\\n', 'അപ്പോൾ തന്റെ തന്നെ പറഞ്ഞു: ഗുരോ, തന്നെ ഒരു <EOS>\\n', 'ഹേ ലക്ഷ്മണാ, സുന്ദരമായ സുന്ദരമായ സുന്ദരമായ സുന്ദരമായ സുന്ദരമായ സുന്ദരമായ സുന്ദരമായ സുന്ദരമായ സുന്ദരമായ ഈ <EOS>\\n', 'അപ്പോൾ ഞാൻ ഞാൻ ഞാൻ ഞാൻ കൊണ്ട് ഞാൻ ഞാൻ <EOS>\\n', 'എന്റെ മകനേ, മകനേ, എന്റെ പിതാവിന്റെ പിതാവിന്റെ എന്റെ <EOS>\\n', 'അവൻ തന്റെ ഈ നിറഞ്ഞ ഈ ഭരതൻ തന്റെ ഈ ഈ <EOS>\\n', 'ഹേ രാമാ, ഞാൻ പോലെ ആ പോലെ പോലെ പോലെ തിളങ്ങുന്ന ഈ <EOS>\\n', 'ഹേ രാമാ, നിന്ന് ഈ ഒരു ഈ ഈ അവർ ഒരു <EOS>\\n', 'അപ്പോൾ ഒരു നിന്ന് ഒരു അവരുടെ നിന്ന് നിന്ന് അവരുടെ നിന്ന് <EOS>\\n', 'ഹേ രാമാ, ഞാൻ ഈ ഈ ഈ <EOS>\\n', 'അവൻ അവന്റെ അവന്റെ അവന്റെ അവന്റെ അവന്റെ <EOS>\\n', 'ഞാൻ ഞാൻ ഇവിടെ ഇവിടെ നിന്ന് ഒരു ഈ <EOS>\\n', 'അവൻ ഒരു ഒരു ഒരു ഒരു പറഞ്ഞു: ഈ ഒരു <EOS>\\n', \"'എന്റെ നിമിത്തം ഞാൻ അവനെ ഞാൻ അവന്റെ <EOS>\\n\", 'ഹേ രാമാ, നിന്റെ ഹേ ഈ ഹേ നിന്റെ അവൻ <EOS>\\n', 'ഞാൻ ഞാൻ നിങ്ങളോടു ഞാൻ ഞാൻ ഞാൻ ഞാൻ നിങ്ങൾ ഈ <EOS>\\n', 'അതിനുശേഷം, ഒരു കേട്ട് വാക്കുകൾ കേട്ട് ഒരു കൊണ്ട് ഒരു <EOS>\\n', 'അവൻ ഞാൻ ഞാൻ ഈ വിശ്വാമിത്രൻ ഞാൻ തന്റെ സഹോദരന്റെ ഒരു <EOS>\\n', 'ഹേ രാമാ, ഈ രാമൻ ഈ ഈ ഈ ഈ ഈ ഈ <EOS>\\n', 'ഹേ രാമ, ഞാൻ ഈ കൊണ്ട് എനിക്ക് ഞാൻ <EOS>\\n', 'മഹാനായ ഭരതന്റെ ശക്തനായ രാമാ, രാമന് ഈ മഹത്തായ ഈ ഈ ഈ <EOS>\\n', 'അവൻ ഞാൻ അടുക്കൽ ഒരു നീ <EOS>\\n', 'അവൻ പറഞ്ഞു: ഈ ഈ അവൻ ഈ പറഞ്ഞു: ഈ അവൻ <EOS>\\n', 'അവൻ അവരോടു ഉത്തരം പറഞ്ഞതു: അവന്റെ അവൻ അവൻ <EOS>\\n', 'ഹേ രാമാ, രാമന്റെ ഈ ഈ ഈ രാമന്റെ ഈ <EOS>\\n', 'ഞങ്ങൾ രണ്ടുപേരും രാമന്റെ ഈ രാമന്റെ ഈ ഈ ഈ <EOS>\\n', 'അവൻ അവരോടു ഉത്തരം പറഞ്ഞതു: അവൻ അവർ ഞാൻ ഒരു <EOS>\\n', 'അവൻ നല്ല അവൻ ഞാൻ ഈ അവൻ അവൻ <EOS>\\n', 'ശുദ്ധമായ ഞാൻ ഈ ഞാൻ ഈ <EOS>\\n', 'ഹേ രാമാ, നിന്റെ ഈ ഈ ഈ ഈ ഈ ഒരു ഈ <EOS>\\n', 'ശുദ്ധമായ ശുദ്ധമായ ചുവന്ന ചുവന്ന ചന്ദനം ശുദ്ധമായ ചുവന്ന ചന്ദനം ചുവന്ന ചന്ദനം ഒരു വലിയ കൊണ്ട് അലങ്കരിച്ച <EOS>\\n', '\"ഹേ രാമാ, ഈ ഈ ഈ ഈ ഈ ഈ ഈ <EOS>\\n', 'ഹേ രാമാ, ഞാൻ ഈ ഈ ഒരു <EOS>\\n', 'ഞാൻ ഞാൻ ഞാൻ ഞാൻ ഒരു ഞാൻ ഈ അത് അവളെ ഒരു നിങ്ങൾ എനിക്ക് ഞാൻ <EOS>\\n', 'അവൻ തന്നെ ഭരതൻ തന്നെ ഭരതൻ തന്നെ പറഞ്ഞു: തന്നെ പറഞ്ഞു: തന്നെ പറഞ്ഞു: <EOS>\\n', '\"ഓ മകനേ, നിങ്ങളുടെ പിതാവിന്റെ നിങ്ങൾ നിങ്ങൾക്ക് നിങ്ങൾ <EOS>\\n', 'അവൻ ഒരു ഒരു ഒരു ഒരു ഒരു ഒരു പറഞ്ഞു: നിങ്ങൾ നിങ്ങൾ അവളെ ഒരു <EOS>\\n', 'അവൻ ഞാൻ ഞാൻ ഈ എന്നു ഞാൻ എന്നു നിങ്ങൾ <EOS>\\n', 'ഹേ സീത സീത സീത സീത സീത സീത സീത സീത സീത സീത തന്റെ <EOS>\\n', 'അവൻ നല്ല നല്ല അവൻ നല്ല അവൻ <EOS>\\n', 'രാമൻ എന്റെ രാമന് രാമന് എന്റെ ഈ പോലെ എന്റെ <EOS>\\n', 'അപ്പോൾ യേശു അവരോടു നീ ഒരു അവൻ ഒരു അവൻ <EOS>\\n', 'കൈകേയിയുടെ പുത്രനായ കണ്ണുകളുള്ള ഒരു രാജാവിന്റെ അത്യധികം തന്റെ കണ്ണുകളുള്ള തന്റെ ഒരു <EOS>\\n', 'അവൻ സീത സീത തന്റെ സീത സീത തന്റെ സീത സീത തന്റെ <EOS>\\n', 'ഈ ഞാൻ എന്റെ ഈ ഈ ഈ <EOS>\\n', 'അവർ അവരോടു: ഞാൻ അവർ പറഞ്ഞു: നിങ്ങൾ നിങ്ങൾ <EOS>\\n', 'അവൻ സീത സീത തന്റെ അദ്ദേഹം അവൻ അദ്ദേഹം കണ്ടു. <EOS>\\n', 'ഹേ പറഞ്ഞിട്ട്, ഹേ പറഞ്ഞിട്ട്, ഹേ ദേവീ, എന്റെ ഈ ഈ ഈ <EOS>\\n', 'ഹേ രാമാ, ഈ ഈ ഈ ഈ ഈ ഈ ഈ ഈ ഈ ഈ ഈ ഈ ഈ വാക്കുകൾ പറഞ്ഞു: ഈ ഈ ഈ വാക്കുകൾ പറഞ്ഞു: പറഞ്ഞു: <EOS>\\n', 'ഒരു കണ്ണുകളുള്ള ഒരു കണ്ണുകളുള്ള ഒരു ഒരു കൊണ്ട് <EOS>\\n', 'ഹേ സീത സീത സീത സീത സീത സീത സീത മറുപടി സീത മറുപടി പറഞ്ഞു: <EOS>\\n', 'ഞാൻ അവനെ ഒരു ഈ ഈ ഈ ഈ ഈ <EOS>\\n', 'അവൻ ഞാൻ ഈ ഈ വിശ്വാമിത്രൻ തന്റെ അദ്ദേഹം അവരെ അവരെ അവരെ കാണാൻ കഴിയില്ല. <EOS>\\n', 'എന്റെ രാജാവ് ഈ ഈ ഈ ഈ ഈ <EOS>\\n', 'ഞാൻ മനുഷ്യരിൽ ഞാൻ അലങ്കരിച്ച ഈ ഈ <EOS>\\n', 'അവൻ അധിപനായ നിന്റെ നല്ല അവൻ <EOS>\\n', 'അതിനുശേഷം, തന്റെ രാമൻ തന്റെ ഈ രാമൻ തന്റെ <EOS>\\n', 'അവൻ ഞാൻ ഞാൻ ഒരു ഒരു ഈ ഒരു <EOS>\\n', 'ഞങ്ങൾ ഞാൻ ഞാൻ ഈ എന്നു ഞാൻ എന്നു എന്നു എന്നു ഞാൻ എന്നു എന്നു പറഞ്ഞു. എന്നു പറഞ്ഞു. <EOS>\\n', 'ഹേ രാമാ, പോലെ പോലെ ഒരു ആയിരം വർഷം ഒരു ഈ <EOS>\\n', 'പലതരം പലതരം പലതരം മരങ്ങളും വിശുദ്ധ മരങ്ങളും വിശുദ്ധ രാമായണത്തിലെ അയോധ്യാകാണ്ഡത്തിലെ <EOS>\\n', 'ഹേ രാമാ, രാമന്റെ ഈ ഈ <EOS>\\n', 'അവൻ ഞാൻ ഞാൻ എന്നു ഞാൻ ഞാൻ എന്നു ഞാൻ എന്നു ഞാൻ എന്നു എന്നു പറഞ്ഞു. <EOS>\\n', 'ഹേ രാമ, ഞാൻ ഈ ഈ ഈ <EOS>\\n', 'അപ്പോൾ ഈ തന്റെ ഈ ഈ ഈ <EOS>\\n', 'ഈ വാക്കുകൾ ഈ ഈ നിന്ന് ഈ ഈ ഈ ഈ ഈ <EOS>\\n', 'അവൻ വാക്കുകൾ വാക്കുകൾ വാക്കുകൾ വാക്കുകൾ വാക്കുകൾ വാക്കുകൾ പറഞ്ഞു. വാക്കുകൾ പറഞ്ഞു. വാക്കുകൾ പറഞ്ഞു. പറഞ്ഞു. <EOS>\\n', 'ഹേ രാമാ, രാമാ, കൊണ്ട് ഒരു പർവതത്തിൽ ഒരു വലിയ <EOS>\\n', 'അപ്പോൾ ഈ ഞാൻ ഈ ഈ ഈ ഈ ഈ ഈ ഈ ഈ <EOS>\\n', 'അവൻ ഞാൻ പറഞ്ഞു: ഈ ഒരു ഈ ഈ <EOS>\\n', 'അപ്പോൾ അവർ രാമൻ നിന്റെ രാമൻ നിന്റെ <EOS>\\n', 'അവൻ അവരോടു: ഞാൻ ഈ ഈ ഈ ഈ <EOS>\\n', 'ഒരു അവന്റെ അവന്റെ അവന്റെ അവന്റെ അവന്റെ <EOS>\\n', 'അവൻ നിന്ന് ഉത്തരം പറഞ്ഞതു: ഈ ഈ ഈ <EOS>\\n', 'ഹേ രാമാ, ഈ ഈ ഈ ഈ ഈ ഈ ഈ ഈ <EOS>\\n', 'ഞങ്ങൾ ഒരു ഒരു ഒരു ഒരു ഒരു ഒരു അവനെ അവൻ <EOS>\\n', 'അത്യധികം തന്റെ കേട്ട്, അത്യധികം തന്റെ ഈ <EOS>\\n', 'ഹേ രാമാ, ഹേ ഹേ ഹേ അത്യധികം ഹേ ഹേ അത്യധികം ഹേ ഹേ അത്യധികം ഹേ ഹേ അത്യധികം നിന്ന് ഹേ ഈ <EOS>\\n', 'അപ്പോൾ ഞാൻ നിനക്കു ഒരു കൊണ്ട് പോലെ നിന്റെ <EOS>\\n', 'ഹേ രാമാ, രാമാ, ഈ ഈ ഈ ഈ ഒരു വനത്തിൽ പറഞ്ഞു: <EOS>\\n', 'അവൻ രാമ, നിങ്ങൾ നിങ്ങൾ നിങ്ങൾ നിങ്ങൾ നിങ്ങൾ നിങ്ങൾ <EOS>\\n', 'അവൻ എന്നെ എന്നെ എന്നെ എന്നെ കാണാൻ എന്നെ എന്നെ കാണാൻ എന്നെ കാണാൻ <EOS>\\n', 'സീത സീത സീത സീത സീത സീത സീത മറുപടി പറഞ്ഞു: <EOS>\\n', 'രാമൻ തന്റെ നിന്ന് നിന്ന് അവന്റെ നിന്ന് നിന്ന് എന്നെ എന്നെ കൊല്ലാൻ എന്നെ കൊല്ലാൻ എന്നെ കൊല്ലാൻ എന്നെ കൊല്ലാൻ തീരുമാനിച്ചു. <EOS>\\n', 'അവൻ ഞാൻ ഞാൻ ഞാൻ ഒരു ഒരു ഞാൻ <EOS>\\n', 'അവൻ ഇതു അവർ ഞാൻ അവർ ഒരു അവർ <EOS>\\n', 'രാമൻ ഞാൻ ഞാൻ എനിക്ക് ഞാൻ നിന്നെ വീണ്ടും വീണ്ടും <EOS>\\n', 'ഹേ രാമാ, രാജാവ് രാജാവ് ഞാൻ ഇപ്പോൾ ഈ രാജാവ് ഞാൻ <EOS>\\n', 'എന്റെ മകനേ, മകനേ, എന്റെ പിതാവിന്റെ എന്റെ ഈ <EOS>\\n', 'അവൻ അവരോടു: നിന്ന് ഈ ഈ ഈ ഈ അവർ ഈ <EOS>\\n', 'ശത്രുക്കളെ പീഡിപ്പിക്കുന്ന രാമന് തന്റെ സഹോദരനായ രാമൻ നല്ല സഹോദരനായ <EOS>\\n', 'അവൻ പിതാവിന്റെ ഒരു ഈ ഈ ഈ ഈ <EOS>\\n', 'രാമൻ തന്റെ സഹോദരനായ തന്റെ അവന്റെ തന്റെ അവന്റെ <EOS>\\n', 'അവൻ അവരോടു: ഞാൻ ഒരു ഞാൻ നിങ്ങൾ ഒരു <EOS>\\n', 'ഹേ ഭരതാ, നിന്ന് അവരുടെ രാമന്റെ ഈ രാമന്റെ രാമന്റെ ഈ <EOS>\\n', 'അവിടെ നല്ല പിതാവിന്റെ പിതാവിന്റെ പിതാവിന്റെ പിതാവിന്റെ പിതാവിന്റെ അവിടെ അവിടെ നല്ല പിതാവിന്റെ <EOS>\\n', 'അവൻ ഞാൻ നിന്ന് ഈ ഒരു ഈ ഈ ഒരു കണ്ടു. <EOS>\\n', 'അവൻ ഒരു ഇങ്ങനെ ഒരു ഇങ്ങനെ ഒരു ഇങ്ങനെ ഒരു ഇങ്ങനെ ഒരു ഇങ്ങനെ ഒരു ഇങ്ങനെ പറഞ്ഞു: <EOS>\\n', 'അവൻ ഞാൻ നിങ്ങളോടു ഈ ഞാൻ ഈ ഈ ഈ <EOS>\\n', 'അവൻ അവരോടു: ഒരു ഈ ഈ ഈ തന്റെ <EOS>\\n', 'അവൻ അവനോടു: ഭരതൻ നല്ല അവൻ ഭരതൻ അവൻ പറഞ്ഞു. <EOS>\\n', 'അവൻ അവരോടു: നിങ്ങൾ നിങ്ങൾ നിങ്ങൾ നിങ്ങൾ കണ്ടു. അത് നിങ്ങൾ കണ്ടു. <EOS>\\n', 'ഹേ രാമാ, നിന്റെ നിന്റെ ഒരു നിന്റെ ഈ ഒരു പറഞ്ഞു. <EOS>\\n', 'അവൻ ഈ ഈ ഒരു ഈ ഒരു ഈ ഈ ഈ <EOS>\\n', 'അപ്പോൾ ബ്രാഹ്മണർ ആ ബ്രാഹ്മണർ ബ്രാഹ്മണർ ഈ ബ്രാഹ്മണർ ഈ ഒരു <EOS>\\n', 'ഹേ രാമാ, നിന്റെ കരഞ്ഞുകൊണ്ട് കരഞ്ഞുകൊണ്ട് കരഞ്ഞുകൊണ്ട് കരഞ്ഞുകൊണ്ട് കരഞ്ഞുകൊണ്ട് കരഞ്ഞുകൊണ്ട് കരഞ്ഞുകൊണ്ട് കരഞ്ഞുകൊണ്ട് കരഞ്ഞുകൊണ്ട് കരഞ്ഞുകൊണ്ട് കരഞ്ഞുകൊണ്ട് കരഞ്ഞുകൊണ്ട് കരഞ്ഞുകൊണ്ട് കരഞ്ഞുകൊണ്ട് കരഞ്ഞുകൊണ്ട് കരഞ്ഞുകൊണ്ട് ഇപ്രകാരം പറഞ്ഞു. <EOS>\\n', 'അവർ അവരോടു: ഞാൻ ഒരു എന്റെ <EOS>\\n', 'രാമൻ പറഞ്ഞു: നിന്റെ പിതാവിന്റെ ഈ രാമൻ <EOS>\\n', 'എന്റെ മകനേ, എന്റെ കാട്ടിലേക്ക് കാട്ടിലേക്ക് കാട്ടിലേക്ക് എന്റെ ഞാൻ <EOS>\\n', 'ഹേ ദേവീ, ഇപ്രകാരം പറഞ്ഞിട്ട്, എനിക്ക് വരം രാമന്റെ എനിക്ക് എനിക്ക് എനിക്ക് രാമന്റെ ഈ രാമന്റെ എനിക്ക് എനിക്ക് എനിക്ക് രാമന്റെ കഴിയില്ല. <EOS>\\n', 'ഹേ രാമാ, ഈ ഈ ഈ ഈ ഈ ഈ ഈ <EOS>\\n', 'അവൻ അധിപനായ ഞാൻ ഈ ഞാൻ ഈ ഒരു <EOS>\\n', 'അവൻ രാമന്റെ രാമന്റെ രാമന്റെ രാമന്റെ പോലെ രാമന്റെ പോലെ രാമന്റെ <EOS>\\n', 'ഞാൻ എന്റെ മകനേ, ഞാൻ ഒരു ഞാൻ ഈ <EOS>\\n', 'അവൻ മഹാനായ നാം എപ്പോഴും ഒരു മഹാനായ രാജാവ്, ഒരു മഹാനായ രാജാവ്, <EOS>\\n', 'ഹേ രാമാ, ഞാൻ അവന്റെ ശരീരം ഒരു എന്നെ എന്നെ ഞാൻ <EOS>\\n', 'ഹേ രാമാ, നീ ഹേ രാമാ, നീ ഒരു വളരെ വളരെ കൊണ്ട് ഹേ രാമാ, നീ ഒരു <EOS>\\n', 'ഹേ രാമാ, തന്നെ പുത്രൻ പുത്രൻ തന്നെ ആയിരം കണ്ണുകളുള്ള ഇന്ദ്രൻ തന്റെ സഹോദരനെ സഹോദരനെ നാടുകടത്താൻ തന്നെ ഒരു വലിയ പറഞ്ഞു: <EOS>\\n', 'അതിനുശേഷം ലക്ഷ്മണൻ രാമന്റെ രാമന്റെ ഈ രാമന്റെ രാമന്റെ രാമന്റെ <EOS>\\n', 'ഒരു ദിവസം ഒരു തന്റെ ഒരു ഒരു ഈ ഒരു <EOS>\\n', 'അവൻ അവരോടു: ഞാൻ ഒരു ഒരു <EOS>\\n', 'അവൻ അവരോടു: ഞാൻ ഒരു ഒരു ഒരു <EOS>\\n', 'അവൻ ഞാൻ ഈ ഈ ഈ ഈ ഈ ഈ <EOS>\\n', 'ആ ആ ആ ഈ ഒരു ഈ ഒരു <EOS>\\n', 'അവൻ ഞാൻ അവന്റെ അവന്റെ ഞാൻ അവന്റെ അവന്റെ <EOS>\\n', 'അവൻ ഞാൻ നിങ്ങളോടു ഈ ഞാൻ ഈ <EOS>\\n', 'അവൻ എന്റെ എന്റെ ഈ ഒരു ഈ <EOS>\\n', 'അവൻ അവരോടു: രാമന് ഒരു ഒരു ഒരു <EOS>\\n', 'ഈ വാക്കുകൾ ഈ ഈ ഈ ഈ ഈ ഈ ഈ ഈ പറഞ്ഞു: ഈ <EOS>\\n', 'ഹേ എന്റെ ഈ ഈ ഈ ഈ ഈ എന്റെ ഈ ഈ <EOS>\\n', 'അപ്പോൾ ഞാൻ നിങ്ങളോടു പറയുന്നു: അവന്റെ <EOS>\\n', 'അവൻ തന്റെ ഒരു തന്റെ അവൻ ഒരു അവൻ ഒരു <EOS>\\n', 'അവൻ ഇതു കേട്ടപ്പോൾ ഈ ഒരു ഈ ഈ <EOS>\\n', 'യേശു അവനോട്: ഞാൻ ഒരു മനുഷ്യൻ <EOS>\\n', 'അവൻ മുഖം നിങ്ങളോടു ഒരു ഞാൻ ഈ <EOS>\\n', 'സ്വർണ്ണം രാമൻ, രാമൻ, രാമൻ, രാമൻ, ഇപ്രകാരം പറഞ്ഞു. അവിടെ പറഞ്ഞു: <EOS>\\n', 'തന്റെ തന്റെ തന്റെ തന്റെ തന്റെ തന്റെ തന്റെ തന്റെ അവനെ അവനെ <EOS>\\n', 'രാമൻ വാക്കുകൾ കേട്ട്, രാമൻ ഒരു ഈ രാമൻ ഈ ഈ ഈ ഈ വാക്കുകൾ പറഞ്ഞു: <EOS>\\n', 'അവൻ അവനെ ഈ ഈ ഈ ഈ ഈ ഈ ഈ പറഞ്ഞു: ഈ <EOS>\\n', 'ഈ ലോകത്തിൽ ഞാൻ ഈ ഈ ഈ ഈ ഈ ഈ ഞാൻ ഈ <EOS>\\n', 'ഈ രാമാ, നിന്ന് ഈ ഈ ഈ ഈ ഈ ഈ ഈ <EOS>\\n', 'അവൻ ഒരു ഒരു തന്റെ ഒരു ഒരു തന്റെ ഒരു <EOS>\\n', 'എന്റെ എന്റെ എന്റെ ഈ ഈ ഈ ഈ ഈ എന്റെ ഈ നീ എന്റെ <EOS>\\n', 'അപ്പോൾ അവർ ഈ പറഞ്ഞു: ഈ <EOS>\\n', 'അവൻ ഞാൻ നിങ്ങളോടു ഈ ഈ ഈ ഈ നീ എന്നു ഈ നീ <EOS>\\n', 'അവൻ അവൻ കേട്ടപ്പോൾ അവന്റെ ഈ <EOS>\\n', 'ഹേ രാമാ, നീ രാമന്റെ ഈ നിങ്ങൾ ഞാൻ നിങ്ങൾ നിങ്ങൾ <EOS>\\n', 'അവൻ ഞാൻ സഹോദരൻ സഹോദരൻ നിന്ന് നീ ഈ നീ നീ നീ <EOS>\\n', 'അവൻ അവരോടു: പോലെ നിന്റെ അവൻ അവന്റെ അവൻ <EOS>\\n', 'അവൻ ഞാൻ നിങ്ങളോടു പോലെ രാജാവ് <EOS>\\n', 'ഹേ രാമാ, രാമാ, നിന്ന് ഈ <EOS>\\n', 'ഹേ രാമാ, ഈ വിശ്വാമിത്രൻ വിശ്വാമിത്രൻ ഇപ്രകാരം അഭിസംബോധന ചെയ്യുന്ന ഈ വാക്കുകൾ പറഞ്ഞു: വാക്കുകൾ വാക്കുകൾ പറഞ്ഞു. <EOS>\\n', 'അവൻ നിന്ന് രാമന്റെ ഈ അത്യധികം നിന്ന് ഈ <EOS>\\n', 'അവൻ ഒരു ഒരു അവന്റെ ഒരു നിങ്ങൾ <EOS>\\n', 'ഹേ ഈ വാക്കുകൾ ഈ ഈ ഈ ഈ വാക്കുകൾ ഈ വാക്കുകൾ ഈ വാക്കുകൾ ഈ വാക്കുകൾ വാക്കുകൾ പറഞ്ഞു. വാക്കുകൾ പറഞ്ഞു. <EOS>\\n', 'അതിനുശേഷം ലക്ഷ്മണൻ രാമന്റെ രാമന്റെ രാമന്റെ രാമന്റെ രാമന്റെ രാമന്റെ രാമന്റെ രാമന്റെ രാമന്റെ <EOS>\\n', 'അപ്പോൾ അവരോടു ഒരു രാജാവ് ഈ ഈ ഈ നിറഞ്ഞ ഈ <EOS>\\n', 'ഈ മറ്റ് രാമന്റെ രാമന്റെ ഈ ഈ ഈ ഈ ഈ ഈ ഈ <EOS>\\n', 'അവൻ മനുഷ്യരിൽ നിങ്ങളോടു ഈ ഈ ഈ ഈ <EOS>\\n', 'അവൻ ഞാൻ ഞാൻ അലങ്കരിച്ച അലങ്കരിച്ച അലങ്കരിച്ച ആ <EOS>\\n', 'ചില ചില യേശുവിന്റെ അടുക്കൽ ഒരു ഒരു <EOS>\\n', 'അപ്പോൾ രാമാ, ഞങ്ങൾ അവന്റെ ഒരു ഒരു പോലെ <EOS>\\n', 'അവൻ അവരോടു: രാമന് രാമന് ഒരു അലങ്കരിച്ച, <EOS>\\n', 'അപ്പോൾ പിതാവിന്റെ പിതാവിന്റെ അടുക്കൽ ഒരു ഈ അത് ഒരു <EOS>\\n', 'തന്റെ തന്റെ തന്റെ ഈ തന്റെ തന്റെ ഈ തന്റെ തന്റെ <EOS>\\n', 'തന്റെ തന്റെ തന്റെ തന്റെ തന്റെ തന്റെ തന്റെ തന്റെ തന്റെ തന്റെ <EOS>\\n', 'ഒരു ദിവസം ഒരു ഈ അത്യധികം അത്യധികം തന്റെ അത്യധികം സന്തോഷിക്കുകയും പറഞ്ഞു: ഈ അത്യധികം സന്തോഷിക്കുകയും പറഞ്ഞു: <EOS>\\n', 'തന്റെ തന്റെ തന്റെ ഈ തന്റെ തന്റെ ഈ <EOS>\\n', 'തന്റെ തന്റെ തന്റെ തന്റെ തന്റെ തന്റെ തന്റെ തന്റെ തന്റെ വീണ്ടും പറഞ്ഞു: <EOS>\\n', 'ഒരു ദിവസം നിന്ന് ഒരു ഈ അത്യധികം അത്യധികം അത്യധികം സന്തോഷിക്കുകയും ഒരു ഈ അത്യധികം സന്തോഷിക്കുകയും ചെയ്ത ഒരു നിമിഷം കൊണ്ട് അലങ്കരിച്ച വനത്തിലേക്ക് ഒരു <EOS>\\n', 'അവൻ ആ പറഞ്ഞു: അവരുടെ അവരുടെ അവരുടെ <EOS>\\n', 'അങ്ങനെ ഞാൻ ഏറ്റവും ഉത്തമനായ എനിക്ക് ഈ ഈ <EOS>\\n', 'ഹേ രാമാ, വിശ്വാമിത്രൻ ഈ എന്റെ നിന്ന് ഈ <EOS>\\n', 'അപ്പോൾ എല്ലാവരും ഞാൻ ഈ ഈ ഈ ഈ <EOS>\\n', 'മഹാനായ ഞാൻ ഞാൻ ഞാൻ ഇവിടെ നിന്ന് <EOS>\\n', 'സുഗ്രീവന്റെ വാക്കുകൾ കേട്ട് കേട്ട് അദ്ദേഹം അദ്ദേഹം ഒരു അദ്ദേഹം കണ്ടു. <EOS>\\n', 'ഈ വാക്കുകൾ വാക്കുകൾ വാക്കുകൾ ഈ തന്റെ ഈ ഈ പറഞ്ഞു: ഈ <EOS>\\n', 'ആ വാക്കുകൾ തന്റെ ഈ ഈ പറഞ്ഞു: ഈ ഈ <EOS>\\n', 'ഞാൻ ഞാൻ ഞാൻ ഞാൻ ഞാൻ ഞാൻ ഞാൻ ഞാൻ <EOS>\\n', 'ഹേ രാമാ, ഈ ഈ ഈ ഈ ഈ ഈ <EOS>\\n', 'ഹേ ഞാൻ ഞാൻ ഞാൻ ഞാൻ ഞാൻ ഞാൻ ഞാൻ ഞാൻ ഞാൻ നീ എന്റെ <EOS>\\n', 'അവൻ അവനെ ഒരു രാമന്റെ ഈ അത്യധികം <EOS>\\n', 'ധീരനായ പറഞ്ഞു: നിങ്ങൾ എന്റെ വാക്കുകൾ നിങ്ങൾ എന്റെ <EOS>\\n', 'അവൻ ഞാൻ നിങ്ങളുടെ എനിക്ക് ഞാൻ എനിക്ക് ഞാൻ നിങ്ങളുടെ എനിക്ക് എനിക്ക് നിങ്ങളുടെ ജീവൻ കഴിയില്ല. <EOS>\\n', 'ഹേ രാമാ, നിന്റെ സഹോദരൻ ഞാൻ അവൻ അവൻ അവൻ പറഞ്ഞു. <EOS>\\n', 'ഞാൻ ഞാൻ ഞാൻ ഞാൻ ഞാൻ ഞാൻ ഞാൻ ഞാൻ ഞാൻ ഇവിടെ നിങ്ങൾ <EOS>\\n', 'അവൻ അവരോടു: ഞാൻ ഞാൻ ഒരു പറഞ്ഞു. <EOS>\\n', 'അവൻ അവനോടു: നീ ഞാൻ നിന്നെ <EOS>\\n', 'അവൻ ഞാൻ ഞാൻ വിശ്വാമിത്രൻ ഞാൻ ഒരു ഞാൻ അവൻ <EOS>\\n', 'അവൻ അവരോടു: രാമന് രാമന് നിങ്ങൾ എപ്പോഴും നിങ്ങൾ എന്നെ <EOS>\\n', 'അവൻ ഞാൻ ഈ അവന്റെ ഒരു ഈ <EOS>\\n', 'ഹേ രാമാ, നീ ഈ ഈ ഈ എന്തിനാണ് തന്റെ നീ എന്തിനാണ് തന്റെ നീ <EOS>\\n', 'അവൻ പിതാവിന്റെ പിതാവിന്റെ രാമന്റെ നിറഞ്ഞ നിറഞ്ഞ നിറഞ്ഞ ഈ <EOS>\\n', 'ഹേ ഈ ഞാൻ ഈ ഈ ഈ ഈ ഈ ഈ <EOS>\\n', 'അവൻ ഒരു ഒരു കൊണ്ട് ഒരു ഒരു കൊണ്ട് ഞാൻ കൊണ്ട് <EOS>\\n', 'ഹേ ഈ മേൽ തന്റെ മേൽ മേൽ തന്റെ ഈ ഈ <EOS>\\n', 'ഒരു വാക്കുകൾ പോലെ വാക്കുകൾ വാക്കുകൾ അവൾ ഒരു അവിടെ <EOS>\\n', 'അപ്പോൾ ഭരദ്വാജൻ അഗ്നിസങ്കേതത്തിൽ പ്രവേശിച്ച് വെള്ളം കുടിക്കുകയും ചെയ്തു. <EOS>\\n', 'അപ്പോൾ ഞാൻ ഞാൻ ഞാൻ ഞാൻ ഞാൻ ഞാൻ പറഞ്ഞു: <EOS>\\n', 'അവൻ വാക്കുകൾ കേട്ട്, ഈ ഈ <EOS>\\n', 'ഹേ മനുഷ്യരിൽ ശ്രേഷ്ഠനേ, ഭരതൻ തന്റെ ഒരു കണ്ടു. തന്റെ ജീവൻ ഒരു നീ <EOS>\\n', 'അവൻ വർഷം ഒരു വർഷം ഒരു കൊണ്ട് ഞാൻ ഒരു <EOS>\\n', 'ഞാൻ ഞാൻ ഞാൻ ഞാൻ ഞാൻ ഞാൻ ഈ ഞാൻ <EOS>\\n', 'അപ്പോൾ ഞാൻ ഞാൻ പോലെ ഒരു ഒരു പോലെ പോലെ <EOS>\\n', 'തംബുരു സഹിതം നിന്ന് നിന്ന് ഈ ഒരു ഈ <EOS>\\n', 'അവൻ ഇതു ഒരു മറ്റ് മരങ്ങൾ നല്ല അവൻ <EOS>\\n', 'അപ്പോൾ തന്റെ പിതാവിന്റെ പിതാവിന്റെ ആയിരം കണ്ണുകളുള്ള ആയിരം കണ്ണുകളുള്ള <EOS>\\n', 'ഹേ രാജ്ഞി, നിന്റെ ഒരു ഈ ഒരു ഈ <EOS>\\n', 'അപ്പോൾ പത്രോസ് അവന്റെ വന്നപ്പോൾ വന്നപ്പോൾ ഞങ്ങൾ എന്തു എന്നു ചോദിച്ചു. ഞങ്ങൾ അതു ചോദിച്ചു. <EOS>\\n', 'അവൻ ഞാൻ ഞാൻ രാമന്റെ ഒരു ഞാൻ <EOS>\\n', 'അവൻ കേട്ടപ്പോൾ അവൻ നിറഞ്ഞ ഈ ഈ ഈ <EOS>\\n', 'അവൻ ഞാൻ ഞാൻ ഞാൻ ഞാൻ ഞാൻ ഞാൻ ഞാൻ ഞാൻ എന്നാൽ എന്നാൽ അവൻ <EOS>\\n', 'അവൻ ഞാൻ എല്ലാ ഈ തന്റെ കൊണ്ട് അലങ്കരിച്ച എല്ലാ ചെയ്തു. <EOS>\\n', 'ഹേ രാമാ, സീത ദയനീയമായി നിന്ന് തന്റെ വീണ്ടും വീണ്ടും വീണ്ടും വീണ്ടും വീണ്ടും വീണ്ടും വീണ്ടും <EOS>\\n']]\n"
     ]
    }
   ],
   "source": [
    "%cd C:\\Users\\Glitch\\Sanskrit2mal\\parallel-corpus\\sanskrit-mal\n",
    "output_text=[]\n",
    "with open ('translated_malayalam.txt','r',encoding=\"utf8\") as f:\n",
    "  output_text.extend([f.readlines()])\n",
    "print(output_text)"
   ]
  },
  {
   "cell_type": "code",
   "execution_count": 86,
   "metadata": {
    "scrolled": true
   },
   "outputs": [
    {
     "name": "stdout",
     "output_type": "stream",
     "text": [
      "അവൻ ഞാൻ എല്ലാ ഈ തന്റെ കൊണ്ട് ഈ ചെയ്തു. <EOS>\n"
     ]
    }
   ],
   "source": [
    "translator(encoder1, attn_decoder1)"
   ]
  },
  {
   "cell_type": "code",
   "execution_count": 58,
   "metadata": {},
   "outputs": [
    {
     "name": "stdout",
     "output_type": "stream",
     "text": [
      "C:\\Users\\Glitch\\Sanskrit2mal\\parallel-corpus\\sanskrit-mal\n",
      "bleu 0.0001488806327407329\n"
     ]
    }
   ],
   "source": [
    "%cd C:\\Users\\Glitch\\Sanskrit2mal\\parallel-corpus\\sanskrit-mal\n",
    "import nltk\n",
    "with open('test_malayalam.txt', 'r',  encoding=\"utf8\") as f: # ground truth file\n",
    "    reference = [x.replace('\\n', '') for x in f.readlines()]\n",
    "\n",
    "with open('translated_malayalam.txt', 'r',  encoding=\"utf8\") as f: # translated Malayalam file (our output)\n",
    "    candidate = [x.replace('\\n', '') for x in f.readlines()]\n",
    "\n",
    "from nltk.translate.bleu_score import SmoothingFunction\n",
    "smoothie = SmoothingFunction().method4\n",
    "\n",
    "bleu = nltk.bleu_score.corpus_bleu(reference, candidate, smoothing_function=smoothie )\n",
    "\n",
    "print(\"bleu\", bleu)"
   ]
  },
  {
   "cell_type": "code",
   "execution_count": null,
   "metadata": {},
   "outputs": [],
   "source": []
  }
 ],
 "metadata": {
  "colab": {
   "authorship_tag": "ABX9TyOINL9b4SNwUYDioR9uYY5X",
   "collapsed_sections": [],
   "include_colab_link": true,
   "name": "sanskrit to malayalam NMT.ipynb",
   "provenance": []
  },
  "kernelspec": {
   "display_name": "Python 3 (ipykernel)",
   "language": "python",
   "name": "python3"
  },
  "language_info": {
   "codemirror_mode": {
    "name": "ipython",
    "version": 3
   },
   "file_extension": ".py",
   "mimetype": "text/x-python",
   "name": "python",
   "nbconvert_exporter": "python",
   "pygments_lexer": "ipython3",
   "version": "3.9.7"
  }
 },
 "nbformat": 4,
 "nbformat_minor": 1
}
