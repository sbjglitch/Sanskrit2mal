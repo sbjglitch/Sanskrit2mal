{
 "cells": [
  {
   "cell_type": "markdown",
   "metadata": {
    "colab_type": "text",
    "id": "view-in-github"
   },
   "source": [
    "<a href=\"https://colab.research.google.com/github/sbjglitch/Sanskrit2mal/blob/main/sanskrit_to_malayalam_NMT.ipynb\" target=\"_parent\"><img src=\"https://colab.research.google.com/assets/colab-badge.svg\" alt=\"Open In Colab\"/></a>"
   ]
  },
  {
   "cell_type": "code",
   "execution_count": 1,
   "metadata": {
    "colab": {
     "base_uri": "https://localhost:8080/"
    },
    "id": "_eAtxfQkAocK",
    "outputId": "333f6165-5c8b-4a17-8893-54cad7b2256e"
   },
   "outputs": [
    {
     "name": "stdout",
     "output_type": "stream",
     "text": [
      "Requirement already satisfied: inltk in /home/glitch/anaconda3/lib/python3.9/site-packages (0.9)\n",
      "Requirement already satisfied: pyyaml in /home/glitch/anaconda3/lib/python3.9/site-packages (from inltk) (6.0)\n",
      "Requirement already satisfied: beautifulsoup4 in /home/glitch/anaconda3/lib/python3.9/site-packages (from inltk) (4.11.1)\n",
      "Requirement already satisfied: nvidia-ml-py3 in /home/glitch/anaconda3/lib/python3.9/site-packages (from inltk) (7.352.0)\n",
      "Requirement already satisfied: aiohttp>=3.5.4 in /home/glitch/anaconda3/lib/python3.9/site-packages (from inltk) (3.8.1)\n",
      "Requirement already satisfied: numexpr in /home/glitch/anaconda3/lib/python3.9/site-packages (from inltk) (2.8.1)\n",
      "Requirement already satisfied: fastai==1.0.57 in /home/glitch/anaconda3/lib/python3.9/site-packages (from inltk) (1.0.57)\n",
      "Requirement already satisfied: packaging in /home/glitch/anaconda3/lib/python3.9/site-packages (from inltk) (21.3)\n",
      "Requirement already satisfied: async-timeout>=3.0.1 in /home/glitch/anaconda3/lib/python3.9/site-packages (from inltk) (4.0.1)\n",
      "Requirement already satisfied: bottleneck in /home/glitch/anaconda3/lib/python3.9/site-packages (from inltk) (1.3.4)\n",
      "Requirement already satisfied: spacy>=2.0.18 in /home/glitch/anaconda3/lib/python3.9/site-packages (from inltk) (3.3.0)\n",
      "Requirement already satisfied: pandas in /home/glitch/anaconda3/lib/python3.9/site-packages (from inltk) (1.4.2)\n",
      "Requirement already satisfied: numpy>=1.15 in /home/glitch/anaconda3/lib/python3.9/site-packages (from inltk) (1.21.5)\n",
      "Requirement already satisfied: scipy in /home/glitch/anaconda3/lib/python3.9/site-packages (from inltk) (1.7.3)\n",
      "Requirement already satisfied: fastprogress>=0.1.19 in /home/glitch/anaconda3/lib/python3.9/site-packages (from inltk) (1.0.2)\n",
      "Requirement already satisfied: Pillow in /home/glitch/anaconda3/lib/python3.9/site-packages (from inltk) (9.0.1)\n",
      "Requirement already satisfied: matplotlib in /home/glitch/anaconda3/lib/python3.9/site-packages (from inltk) (3.5.1)\n",
      "Requirement already satisfied: typing in /home/glitch/anaconda3/lib/python3.9/site-packages (from inltk) (3.7.4.3)\n",
      "Requirement already satisfied: sentencepiece in /home/glitch/anaconda3/lib/python3.9/site-packages (from inltk) (0.1.96)\n",
      "Requirement already satisfied: requests in /home/glitch/anaconda3/lib/python3.9/site-packages (from inltk) (2.27.1)\n",
      "Requirement already satisfied: torchvision in /home/glitch/anaconda3/lib/python3.9/site-packages (from fastai==1.0.57->inltk) (0.12.0+cu113)\n",
      "Requirement already satisfied: torch>=1.0.0 in /home/glitch/anaconda3/lib/python3.9/site-packages (from fastai==1.0.57->inltk) (1.11.0+cu113)\n",
      "Requirement already satisfied: attrs>=17.3.0 in /home/glitch/anaconda3/lib/python3.9/site-packages (from aiohttp>=3.5.4->inltk) (21.4.0)\n",
      "Requirement already satisfied: aiosignal>=1.1.2 in /home/glitch/anaconda3/lib/python3.9/site-packages (from aiohttp>=3.5.4->inltk) (1.2.0)\n",
      "Requirement already satisfied: frozenlist>=1.1.1 in /home/glitch/anaconda3/lib/python3.9/site-packages (from aiohttp>=3.5.4->inltk) (1.2.0)\n",
      "Requirement already satisfied: charset-normalizer<3.0,>=2.0 in /home/glitch/anaconda3/lib/python3.9/site-packages (from aiohttp>=3.5.4->inltk) (2.0.12)\n",
      "Requirement already satisfied: multidict<7.0,>=4.5 in /home/glitch/anaconda3/lib/python3.9/site-packages (from aiohttp>=3.5.4->inltk) (5.2.0)\n",
      "Requirement already satisfied: yarl<2.0,>=1.0 in /home/glitch/anaconda3/lib/python3.9/site-packages (from aiohttp>=3.5.4->inltk) (1.6.3)\n",
      "Requirement already satisfied: typing-extensions>=3.6.5 in /home/glitch/anaconda3/lib/python3.9/site-packages (from async-timeout>=3.0.1->inltk) (4.1.1)\n",
      "Requirement already satisfied: tqdm<5.0.0,>=4.38.0 in /home/glitch/anaconda3/lib/python3.9/site-packages (from spacy>=2.0.18->inltk) (4.64.0)\n",
      "Requirement already satisfied: pydantic!=1.8,!=1.8.1,<1.9.0,>=1.7.4 in /home/glitch/anaconda3/lib/python3.9/site-packages (from spacy>=2.0.18->inltk) (1.8.2)\n",
      "Requirement already satisfied: wasabi<1.1.0,>=0.9.1 in /home/glitch/anaconda3/lib/python3.9/site-packages (from spacy>=2.0.18->inltk) (0.9.1)\n",
      "Requirement already satisfied: setuptools in /home/glitch/anaconda3/lib/python3.9/site-packages (from spacy>=2.0.18->inltk) (62.3.2)\n",
      "Requirement already satisfied: cymem<2.1.0,>=2.0.2 in /home/glitch/anaconda3/lib/python3.9/site-packages (from spacy>=2.0.18->inltk) (2.0.6)\n",
      "Requirement already satisfied: blis<0.8.0,>=0.4.0 in /home/glitch/anaconda3/lib/python3.9/site-packages (from spacy>=2.0.18->inltk) (0.7.7)\n",
      "Requirement already satisfied: pathy>=0.3.5 in /home/glitch/anaconda3/lib/python3.9/site-packages (from spacy>=2.0.18->inltk) (0.6.1)\n",
      "Requirement already satisfied: jinja2 in /home/glitch/anaconda3/lib/python3.9/site-packages (from spacy>=2.0.18->inltk) (3.1.2)\n",
      "Requirement already satisfied: preshed<3.1.0,>=3.0.2 in /home/glitch/anaconda3/lib/python3.9/site-packages (from spacy>=2.0.18->inltk) (3.0.6)\n",
      "Requirement already satisfied: thinc<8.1.0,>=8.0.14 in /home/glitch/anaconda3/lib/python3.9/site-packages (from spacy>=2.0.18->inltk) (8.0.16)\n",
      "Requirement already satisfied: murmurhash<1.1.0,>=0.28.0 in /home/glitch/anaconda3/lib/python3.9/site-packages (from spacy>=2.0.18->inltk) (1.0.7)\n",
      "Requirement already satisfied: langcodes<4.0.0,>=3.2.0 in /home/glitch/anaconda3/lib/python3.9/site-packages (from spacy>=2.0.18->inltk) (3.3.0)\n",
      "Requirement already satisfied: spacy-legacy<3.1.0,>=3.0.9 in /home/glitch/anaconda3/lib/python3.9/site-packages (from spacy>=2.0.18->inltk) (3.0.9)\n",
      "Requirement already satisfied: typer<0.5.0,>=0.3.0 in /home/glitch/anaconda3/lib/python3.9/site-packages (from spacy>=2.0.18->inltk) (0.4.1)\n",
      "Requirement already satisfied: spacy-loggers<2.0.0,>=1.0.0 in /home/glitch/anaconda3/lib/python3.9/site-packages (from spacy>=2.0.18->inltk) (1.0.2)\n",
      "Requirement already satisfied: srsly<3.0.0,>=2.4.3 in /home/glitch/anaconda3/lib/python3.9/site-packages (from spacy>=2.0.18->inltk) (2.4.3)\n",
      "Requirement already satisfied: catalogue<2.1.0,>=2.0.6 in /home/glitch/anaconda3/lib/python3.9/site-packages (from spacy>=2.0.18->inltk) (2.0.7)\n",
      "Requirement already satisfied: pyparsing!=3.0.5,>=2.0.2 in /home/glitch/anaconda3/lib/python3.9/site-packages (from packaging->inltk) (3.0.9)\n",
      "Requirement already satisfied: smart-open<6.0.0,>=5.0.0 in /home/glitch/anaconda3/lib/python3.9/site-packages (from pathy>=0.3.5->spacy>=2.0.18->inltk) (5.1.0)\n",
      "Requirement already satisfied: certifi>=2017.4.17 in /home/glitch/anaconda3/lib/python3.9/site-packages (from requests->inltk) (2022.5.18)\n",
      "Requirement already satisfied: idna<4,>=2.5 in /home/glitch/anaconda3/lib/python3.9/site-packages (from requests->inltk) (3.3)\n",
      "Requirement already satisfied: urllib3<1.27,>=1.21.1 in /home/glitch/anaconda3/lib/python3.9/site-packages (from requests->inltk) (1.26.9)\n",
      "Requirement already satisfied: click<9.0.0,>=7.1.1 in /home/glitch/anaconda3/lib/python3.9/site-packages (from typer<0.5.0,>=0.3.0->spacy>=2.0.18->inltk) (8.0.4)\n",
      "Requirement already satisfied: soupsieve>1.2 in /home/glitch/anaconda3/lib/python3.9/site-packages (from beautifulsoup4->inltk) (2.3.2.post1)\n",
      "Requirement already satisfied: MarkupSafe>=2.0 in /home/glitch/anaconda3/lib/python3.9/site-packages (from jinja2->spacy>=2.0.18->inltk) (2.1.1)\n",
      "Requirement already satisfied: kiwisolver>=1.0.1 in /home/glitch/anaconda3/lib/python3.9/site-packages (from matplotlib->inltk) (1.3.2)\n",
      "Requirement already satisfied: cycler>=0.10 in /home/glitch/anaconda3/lib/python3.9/site-packages (from matplotlib->inltk) (0.11.0)\n",
      "Requirement already satisfied: python-dateutil>=2.7 in /home/glitch/anaconda3/lib/python3.9/site-packages (from matplotlib->inltk) (2.8.2)\n",
      "Requirement already satisfied: fonttools>=4.22.0 in /home/glitch/anaconda3/lib/python3.9/site-packages (from matplotlib->inltk) (4.25.0)\n",
      "Requirement already satisfied: six>=1.5 in /home/glitch/anaconda3/lib/python3.9/site-packages (from python-dateutil>=2.7->matplotlib->inltk) (1.16.0)\n",
      "Requirement already satisfied: pytz>=2020.1 in /home/glitch/anaconda3/lib/python3.9/site-packages (from pandas->inltk) (2022.1)\n",
      "Note: you may need to restart the kernel to use updated packages.\n"
     ]
    }
   ],
   "source": [
    "from __future__ import unicode_literals, print_function, division\n",
    "from io import open\n",
    "import unicodedata\n",
    "import string\n",
    "import re\n",
    "import random\n",
    "\n",
    "import torch\n",
    "import torch.nn as nn\n",
    "from torch import optim\n",
    "import torch.nn.functional as F\n",
    "\n",
    "%pip install inltk\n",
    "import inltk \n",
    "from inltk.inltk import setup\n",
    "from inltk.inltk import tokenize\n",
    "device = torch.device(\"cuda\" if torch.cuda.is_available() else \"cpu\")\n"
   ]
  },
  {
   "cell_type": "code",
   "execution_count": 2,
   "metadata": {
    "colab": {
     "base_uri": "https://localhost:8080/"
    },
    "id": "I3u9wbhrAyYr",
    "outputId": "2ec06124-c20c-466c-d2bd-615d68e0f516"
   },
   "outputs": [
    {
     "name": "stdout",
     "output_type": "stream",
     "text": [
      "/home/glitch/project/Sanskrit2mal\n"
     ]
    }
   ],
   "source": [
    "%cd /home/glitch/project/Sanskrit2mal"
   ]
  },
  {
   "cell_type": "code",
   "execution_count": 3,
   "metadata": {
    "colab": {
     "base_uri": "https://localhost:8080/"
    },
    "id": "WyYESS_tCjRg",
    "outputId": "1c33b2b5-bcdc-418f-eb47-f3ac5c971b1d"
   },
   "outputs": [
    {
     "name": "stdout",
     "output_type": "stream",
     "text": [
      "/home/glitch/project/Sanskrit2mal/parallel-corpus\n",
      "701\n",
      "701\n"
     ]
    }
   ],
   "source": [
    "%cd /home/glitch/project/Sanskrit2mal/parallel-corpus\n",
    "\n",
    "mal_lines = []\n",
    "sanskrit_lines = []\n",
    "with open ('bhagavadgita_malayalam.txt','r', encoding=\"utf8\") as f:\n",
    "  mal_lines.extend([x.replace('\\n', '') for x in f.readlines()])\n",
    "\n",
    "with open ('bhagvadgita_sanskrit.txt','r',encoding=\"utf8\") as f:\n",
    "  sanskrit_lines.extend([x.replace('\\n', '') for x in f.readlines()])\n",
    "\n",
    "print(len(mal_lines))\n",
    "print(len(sanskrit_lines))"
   ]
  },
  {
   "cell_type": "code",
   "execution_count": 4,
   "metadata": {},
   "outputs": [
    {
     "ename": "RuntimeError",
     "evalue": "This event loop is already running",
     "output_type": "error",
     "traceback": [
      "\u001b[0;31m---------------------------------------------------------------------------\u001b[0m",
      "\u001b[0;31mRuntimeError\u001b[0m                              Traceback (most recent call last)",
      "Input \u001b[0;32mIn [4]\u001b[0m, in \u001b[0;36m<cell line: 1>\u001b[0;34m()\u001b[0m\n\u001b[0;32m----> 1\u001b[0m \u001b[43msetup\u001b[49m\u001b[43m(\u001b[49m\u001b[38;5;124;43m'\u001b[39;49m\u001b[38;5;124;43mml\u001b[39;49m\u001b[38;5;124;43m'\u001b[39;49m\u001b[43m)\u001b[49m\n\u001b[1;32m      2\u001b[0m setup(\u001b[38;5;124m'\u001b[39m\u001b[38;5;124msa\u001b[39m\u001b[38;5;124m'\u001b[39m)\n",
      "File \u001b[0;32m~/anaconda3/lib/python3.9/site-packages/inltk/inltk.py:33\u001b[0m, in \u001b[0;36msetup\u001b[0;34m(language_code)\u001b[0m\n\u001b[1;32m     31\u001b[0m loop \u001b[38;5;241m=\u001b[39m asyncio\u001b[38;5;241m.\u001b[39mget_event_loop()\n\u001b[1;32m     32\u001b[0m tasks \u001b[38;5;241m=\u001b[39m [asyncio\u001b[38;5;241m.\u001b[39mensure_future(download(language_code))]\n\u001b[0;32m---> 33\u001b[0m learn \u001b[38;5;241m=\u001b[39m \u001b[43mloop\u001b[49m\u001b[38;5;241;43m.\u001b[39;49m\u001b[43mrun_until_complete\u001b[49m\u001b[43m(\u001b[49m\u001b[43masyncio\u001b[49m\u001b[38;5;241;43m.\u001b[39;49m\u001b[43mgather\u001b[49m\u001b[43m(\u001b[49m\u001b[38;5;241;43m*\u001b[39;49m\u001b[43mtasks\u001b[49m\u001b[43m)\u001b[49m\u001b[43m)\u001b[49m[\u001b[38;5;241m0\u001b[39m]\n\u001b[1;32m     34\u001b[0m loop\u001b[38;5;241m.\u001b[39mclose()\n",
      "File \u001b[0;32m~/anaconda3/lib/python3.9/asyncio/base_events.py:623\u001b[0m, in \u001b[0;36mBaseEventLoop.run_until_complete\u001b[0;34m(self, future)\u001b[0m\n\u001b[1;32m    612\u001b[0m \u001b[38;5;124;03m\"\"\"Run until the Future is done.\u001b[39;00m\n\u001b[1;32m    613\u001b[0m \n\u001b[1;32m    614\u001b[0m \u001b[38;5;124;03mIf the argument is a coroutine, it is wrapped in a Task.\u001b[39;00m\n\u001b[0;32m   (...)\u001b[0m\n\u001b[1;32m    620\u001b[0m \u001b[38;5;124;03mReturn the Future's result, or raise its exception.\u001b[39;00m\n\u001b[1;32m    621\u001b[0m \u001b[38;5;124;03m\"\"\"\u001b[39;00m\n\u001b[1;32m    622\u001b[0m \u001b[38;5;28mself\u001b[39m\u001b[38;5;241m.\u001b[39m_check_closed()\n\u001b[0;32m--> 623\u001b[0m \u001b[38;5;28;43mself\u001b[39;49m\u001b[38;5;241;43m.\u001b[39;49m\u001b[43m_check_running\u001b[49m\u001b[43m(\u001b[49m\u001b[43m)\u001b[49m\n\u001b[1;32m    625\u001b[0m new_task \u001b[38;5;241m=\u001b[39m \u001b[38;5;129;01mnot\u001b[39;00m futures\u001b[38;5;241m.\u001b[39misfuture(future)\n\u001b[1;32m    626\u001b[0m future \u001b[38;5;241m=\u001b[39m tasks\u001b[38;5;241m.\u001b[39mensure_future(future, loop\u001b[38;5;241m=\u001b[39m\u001b[38;5;28mself\u001b[39m)\n",
      "File \u001b[0;32m~/anaconda3/lib/python3.9/asyncio/base_events.py:583\u001b[0m, in \u001b[0;36mBaseEventLoop._check_running\u001b[0;34m(self)\u001b[0m\n\u001b[1;32m    581\u001b[0m \u001b[38;5;28;01mdef\u001b[39;00m \u001b[38;5;21m_check_running\u001b[39m(\u001b[38;5;28mself\u001b[39m):\n\u001b[1;32m    582\u001b[0m     \u001b[38;5;28;01mif\u001b[39;00m \u001b[38;5;28mself\u001b[39m\u001b[38;5;241m.\u001b[39mis_running():\n\u001b[0;32m--> 583\u001b[0m         \u001b[38;5;28;01mraise\u001b[39;00m \u001b[38;5;167;01mRuntimeError\u001b[39;00m(\u001b[38;5;124m'\u001b[39m\u001b[38;5;124mThis event loop is already running\u001b[39m\u001b[38;5;124m'\u001b[39m)\n\u001b[1;32m    584\u001b[0m     \u001b[38;5;28;01mif\u001b[39;00m events\u001b[38;5;241m.\u001b[39m_get_running_loop() \u001b[38;5;129;01mis\u001b[39;00m \u001b[38;5;129;01mnot\u001b[39;00m \u001b[38;5;28;01mNone\u001b[39;00m:\n\u001b[1;32m    585\u001b[0m         \u001b[38;5;28;01mraise\u001b[39;00m \u001b[38;5;167;01mRuntimeError\u001b[39;00m(\n\u001b[1;32m    586\u001b[0m             \u001b[38;5;124m'\u001b[39m\u001b[38;5;124mCannot run the event loop while another loop is running\u001b[39m\u001b[38;5;124m'\u001b[39m)\n",
      "\u001b[0;31mRuntimeError\u001b[0m: This event loop is already running"
     ]
    },
    {
     "name": "stdout",
     "output_type": "stream",
     "text": [
      "Done!\n"
     ]
    }
   ],
   "source": [
    "setup('ml')\n",
    "setup('sa')"
   ]
  },
  {
   "cell_type": "code",
   "execution_count": 5,
   "metadata": {},
   "outputs": [],
   "source": [
    "def tokenizer_sa(sanskrit_lines):\n",
    "    return [tokenize(sanskrit_lines,'sa')]\n",
    "\n",
    "def tokenizer_ma(mal_lines):\n",
    "    return [tokenize(mal_lines,'ml')]"
   ]
  },
  {
   "cell_type": "code",
   "execution_count": 46,
   "metadata": {
    "id": "hnhN7RILA4Uv"
   },
   "outputs": [],
   "source": [
    "import random\n",
    "c = list(zip(sanskrit_lines, mal_lines))\n",
    "random.shuffle(c)\n",
    "\n",
    "sanskrit_lines, mal_lines = zip(*c)\n",
    "\n",
    "train_text_sa = sanskrit_lines[:351]\n",
    "train_text_mal = mal_lines[:351]\n",
    "\n",
    "dev_text_sa = sanskrit_lines[:350]\n",
    "dev_text_mal = mal_lines[:350]"
   ]
  },
  {
   "cell_type": "code",
   "execution_count": 47,
   "metadata": {
    "colab": {
     "base_uri": "https://localhost:8080/"
    },
    "id": "iiX6HHVFFgjx",
    "outputId": "8fc448ed-bf3b-4d6e-80e8-a11f4006c5fe"
   },
   "outputs": [
    {
     "name": "stdout",
     "output_type": "stream",
     "text": [
      "351\n",
      "350\n",
      "351\n",
      "350\n"
     ]
    }
   ],
   "source": [
    "print(len(train_text_mal))\n",
    "print(len(dev_text_mal))\n",
    "\n",
    "print(len(train_text_sa))\n",
    "print(len(dev_text_sa))"
   ]
  },
  {
   "cell_type": "code",
   "execution_count": 48,
   "metadata": {
    "id": "4cIEztNt2JkT"
   },
   "outputs": [],
   "source": [
    "# Start and End tokens\n",
    "SOS_token = 0\n",
    "EOS_token = 1\n",
    "\n",
    "\n",
    "class Lang:\n",
    "    def __init__(self, name):\n",
    "        self.name = name\n",
    "        self.word2index = {}\n",
    "        self.word2count = {}\n",
    "        self.index2word = {0: \"SOS\", 1: \"EOS\"}\n",
    "        self.n_words = 2  # Count SOS and EOS\n",
    "\n",
    "    def addSentence(self, sentence):\n",
    "        for word in sentence.split(' '):\n",
    "            self.addWord(word)\n",
    "\n",
    "    def addWord(self, word):\n",
    "        if word not in self.word2index:\n",
    "            self.word2index[word] = self.n_words\n",
    "            self.word2count[word] = 1\n",
    "            self.index2word[self.n_words] = word\n",
    "            self.n_words += 1\n",
    "        else:\n",
    "            self.word2count[word] += 1"
   ]
  },
  {
   "cell_type": "code",
   "execution_count": 49,
   "metadata": {
    "id": "aqXPhBxJECww"
   },
   "outputs": [],
   "source": [
    "# Reading the data and forming pairs\n",
    "def readLangs(lang1, lang2, reverse=False):\n",
    "    print(\"Reading lines...\")\n",
    "\n",
    "    # Forming pairs of sentences\n",
    "    pairs = [[train_text_sa[i], train_text_mal[i]] for i in range(len(train_text_sa))]\n",
    "\n",
    "    # Reverse pairs, make Lang instances\n",
    "    if reverse:\n",
    "        pairs = [list(reversed(p)) for p in pairs]\n",
    "        input_lang = Lang(lang2)\n",
    "        output_lang = Lang(lang1)\n",
    "    else:\n",
    "        input_lang = Lang(lang1)\n",
    "        output_lang = Lang(lang2)\n",
    "\n",
    "    return input_lang, output_lang, pairs"
   ]
  },
  {
   "cell_type": "code",
   "execution_count": 50,
   "metadata": {
    "id": "H7oqLozuEs9O"
   },
   "outputs": [],
   "source": [
    "MAX_LENGTH = 200\n",
    "\n",
    "def filterPair(p):\n",
    "    return len(p[0].split(' ')) < MAX_LENGTH and len(p[1].split(' ')) < MAX_LENGTH\n",
    "\n",
    "def filterPairs(pairs):\n",
    "    return [pair for pair in pairs if filterPair(pair)]"
   ]
  },
  {
   "cell_type": "code",
   "execution_count": 51,
   "metadata": {
    "colab": {
     "base_uri": "https://localhost:8080/"
    },
    "id": "mUFirlb3FCHg",
    "outputId": "a04b6032-15c9-46be-b4b8-16545beaf4f1"
   },
   "outputs": [
    {
     "name": "stdout",
     "output_type": "stream",
     "text": [
      "Reading lines...\n",
      "Read 351 sentence pairs\n",
      "Trimmed to 351 sentence pairs\n",
      "Counting words...\n",
      "Counted words:\n",
      "sanskrit 2378\n",
      "mal 3489\n",
      "['क्षिप्रं भवति धर्मात्मा शश्वच्छान्तिं निगच्छति। कौन्तेय प्रतिजानीहि न मे भक्तः प्रणश्यति।।', 'അവ\\u200dന്\\u200d വേഗത്തി\\u200dല്\\u200d ധര്\\u200dമ്മാത്മാവായിത്തീ\\u200dര്\\u200dന്ന് ശാശ്വതമായ ശാന്തിയെ പ്രാപിക്കുന്നു. ഹേ അ\\u200dര്\\u200dജ്ജുനാ! എന്റെ ഭക്ത\\u200dന്\\u200d നശിക്കുന്നില്ലെന്ന് അറിഞ്ഞാലും.']\n"
     ]
    }
   ],
   "source": [
    "def prepareData(lang1, lang2, reverse=False):\n",
    "    input_lang, output_lang, pairs = readLangs(lang1, lang2, reverse)\n",
    "    print(\"Read %s sentence pairs\" % len(pairs))\n",
    "    pairs = filterPairs(pairs)\n",
    "    print(\"Trimmed to %s sentence pairs\" % len(pairs))\n",
    "    print(\"Counting words...\")\n",
    "    for pair in pairs:\n",
    "        input_lang.addSentence(pair[0])\n",
    "        output_lang.addSentence(pair[1])\n",
    "    print(\"Counted words:\")\n",
    "    print(input_lang.name, input_lang.n_words)\n",
    "    print(output_lang.name, output_lang.n_words)\n",
    "    return input_lang, output_lang, pairs\n",
    "\n",
    "\n",
    "input_lang, output_lang, pairs = prepareData('sanskrit', 'mal', False)\n",
    "print(random.choice(pairs)) # a random pair of parallel sentences"
   ]
  },
  {
   "cell_type": "code",
   "execution_count": 52,
   "metadata": {
    "scrolled": false
   },
   "outputs": [
    {
     "name": "stdout",
     "output_type": "stream",
     "text": [
      "['तानि सर्वाणि संयम्य युक्त आसीत मत्परः। वशे हि यस्येन्द्रियाणि तस्य प्रज्ञा प्रतिष्ठिता।।', 'അവയെല്ല\\u200dാം സംയമനം ചെയ്തു യോഗയുക്തനായി എന്നില്\\u200d ഭക്തിയോടുകൂടി ഇരിക്കുക. ആര്\\u200dക്കു ഇന്ദ്രിയങ്ങള്\\u200d വശത്താണോ അവന്റെ പ്രജഞ പ്രതിഷ്ഠിതമാണ്.']\n"
     ]
    }
   ],
   "source": [
    "print(pairs[0])"
   ]
  },
  {
   "cell_type": "code",
   "execution_count": null,
   "metadata": {},
   "outputs": [],
   "source": []
  },
  {
   "cell_type": "markdown",
   "metadata": {
    "id": "W4D5yYuXGWqE"
   },
   "source": [
    "# **Seq2Seq Model**\n",
    "---\n",
    "A seq2seq network is a model consisting of two RNNs called the encoder and decoder. The encoder reads an input sequence and outputs a single vector, and the decoder reads that vector to produce an output sequence."
   ]
  },
  {
   "cell_type": "markdown",
   "metadata": {
    "id": "fl5SnehsGzIQ"
   },
   "source": [
    "# **Encoder**"
   ]
  },
  {
   "cell_type": "code",
   "execution_count": 53,
   "metadata": {
    "id": "mL-HNJmgGVOH"
   },
   "outputs": [],
   "source": [
    "class EncoderRNN(nn.Module):\n",
    "    def __init__(self, input_size, hidden_size):\n",
    "        super(EncoderRNN, self).__init__()\n",
    "        self.hidden_size = hidden_size\n",
    "\n",
    "        self.embedding = nn.Embedding(input_size, hidden_size)\n",
    "        self.gru = nn.GRU(hidden_size, hidden_size)\n",
    "\n",
    "    def forward(self, input, hidden):\n",
    "        embedded = self.embedding(input).view(1, 1, -1)\n",
    "        output = embedded\n",
    "        output, hidden = self.gru(output, hidden)\n",
    "        return output, hidden\n",
    "\n",
    "    def initHidden(self):\n",
    "        return torch.zeros(1, 1, self.hidden_size, device=device)"
   ]
  },
  {
   "cell_type": "markdown",
   "metadata": {
    "id": "2W40lx8BGv5G"
   },
   "source": [
    "# **Decoder**"
   ]
  },
  {
   "cell_type": "code",
   "execution_count": 54,
   "metadata": {
    "id": "MFVMbY8bGunJ"
   },
   "outputs": [],
   "source": [
    "class AttnDecoderRNN(nn.Module):\n",
    "    def __init__(self, hidden_size, output_size, dropout_p=0.1, max_length=MAX_LENGTH):\n",
    "        super(AttnDecoderRNN, self).__init__()\n",
    "        self.hidden_size = hidden_size\n",
    "        self.output_size = output_size\n",
    "        self.dropout_p = dropout_p\n",
    "        self.max_length = max_length\n",
    "\n",
    "        self.embedding = nn.Embedding(self.output_size, self.hidden_size)\n",
    "        self.attn = nn.Linear(self.hidden_size * 2, self.max_length)\n",
    "        self.attn_combine = nn.Linear(self.hidden_size * 2, self.hidden_size)\n",
    "        self.dropout = nn.Dropout(self.dropout_p)\n",
    "        self.gru = nn.GRU(self.hidden_size, self.hidden_size)\n",
    "        self.out = nn.Linear(self.hidden_size, self.output_size)\n",
    "\n",
    "    def forward(self, input, hidden, encoder_outputs):\n",
    "        embedded = self.embedding(input).view(1, 1, -1)\n",
    "        embedded = self.dropout(embedded)\n",
    "\n",
    "        attn_weights = F.softmax(\n",
    "            self.attn(torch.cat((embedded[0], hidden[0]), 1)), dim=1)\n",
    "        attn_applied = torch.bmm(attn_weights.unsqueeze(0),\n",
    "                                 encoder_outputs.unsqueeze(0))\n",
    "\n",
    "        output = torch.cat((embedded[0], attn_applied[0]), 1)\n",
    "        output = self.attn_combine(output).unsqueeze(0)\n",
    "\n",
    "        output = F.relu(output)\n",
    "        output, hidden = self.gru(output, hidden)\n",
    "\n",
    "        output = F.log_softmax(self.out(output[0]), dim=1)\n",
    "        return output, hidden, attn_weights\n",
    "\n",
    "    def initHidden(self):\n",
    "        return torch.zeros(1, 1, self.hidden_size, device=device)"
   ]
  },
  {
   "cell_type": "markdown",
   "metadata": {
    "id": "xFugQY8QFBfV"
   },
   "source": [
    "# **Training**\n"
   ]
  },
  {
   "cell_type": "code",
   "execution_count": 55,
   "metadata": {
    "id": "OyVuYKpbHV8c"
   },
   "outputs": [],
   "source": [
    "import random\n",
    "def indexesFromSentence(lang, sentence):\n",
    "    res = []\n",
    "    for word in sentence.split(' '):\n",
    "      if word not in lang.word2index.keys():\n",
    "        res.append(random.choice(list(lang.word2index.values())))    \n",
    "      else:\n",
    "        res.append(lang.word2index[word])\n",
    "    return res\n",
    "\n",
    "def tensorFromSentence(lang, sentence):\n",
    "    indexes = indexesFromSentence(lang, sentence)\n",
    "    indexes.append(EOS_token)\n",
    "    return torch.tensor(indexes, dtype=torch.long, device=device).view(-1, 1)\n",
    "\n",
    "\n",
    "def tensorsFromPair(pair):\n",
    "    input_tensor = tensorFromSentence(input_lang, pair[0])\n",
    "    target_tensor = tensorFromSentence(output_lang, pair[1])\n",
    "    return (input_tensor, target_tensor)"
   ]
  },
  {
   "cell_type": "markdown",
   "metadata": {
    "id": "zePmCpbCHioq"
   },
   "source": [
    "# **Training the model**"
   ]
  },
  {
   "cell_type": "code",
   "execution_count": 56,
   "metadata": {
    "id": "SNuZNaY_HenJ"
   },
   "outputs": [],
   "source": [
    "teacher_forcing_ratio = 0.5\n",
    "def train(input_tensor, target_tensor, encoder, decoder, encoder_optimizer, decoder_optimizer, criterion, max_length=MAX_LENGTH):\n",
    "    encoder_hidden = encoder.initHidden()\n",
    "\n",
    "    encoder_optimizer.zero_grad()\n",
    "    decoder_optimizer.zero_grad()\n",
    "\n",
    "    input_length = input_tensor.size(0)\n",
    "    target_length = target_tensor.size(0)\n",
    "\n",
    "    encoder_outputs = torch.zeros(max_length, encoder.hidden_size, device=device)\n",
    "\n",
    "    loss = 0\n",
    "\n",
    "    for ei in range(input_length):\n",
    "        encoder_output, encoder_hidden = encoder(\n",
    "            input_tensor[ei], encoder_hidden)\n",
    "        encoder_outputs[ei] = encoder_output[0, 0]\n",
    "\n",
    "    decoder_input = torch.tensor([[SOS_token]], device=device)\n",
    "\n",
    "    decoder_hidden = encoder_hidden\n",
    "\n",
    "    use_teacher_forcing = True if random.random() < teacher_forcing_ratio else False\n",
    "\n",
    "    if use_teacher_forcing:\n",
    "        for di in range(target_length):\n",
    "            decoder_output, decoder_hidden, decoder_attention = decoder(\n",
    "                decoder_input, decoder_hidden, encoder_outputs)\n",
    "            loss += criterion(decoder_output, target_tensor[di])\n",
    "            decoder_input = target_tensor[di]\n",
    "\n",
    "    else:\n",
    "        for di in range(target_length):\n",
    "            decoder_output, decoder_hidden, decoder_attention = decoder(\n",
    "                decoder_input, decoder_hidden, encoder_outputs)\n",
    "            topv, topi = decoder_output.topk(1)\n",
    "            decoder_input = topi.squeeze().detach()\n",
    "\n",
    "            loss += criterion(decoder_output, target_tensor[di])\n",
    "            if decoder_input.item() == EOS_token:\n",
    "                break\n",
    "\n",
    "    loss.backward()\n",
    "\n",
    "    encoder_optimizer.step()\n",
    "    decoder_optimizer.step()\n",
    "\n",
    "    return loss.item() / target_length"
   ]
  },
  {
   "cell_type": "code",
   "execution_count": 57,
   "metadata": {
    "id": "2g9zrFapHhyy"
   },
   "outputs": [],
   "source": [
    "# Print time elapsed and estimated time remaining given the current time and progress %.\n",
    "import time\n",
    "import math\n",
    "\n",
    "\n",
    "def asMinutes(s):\n",
    "    m = math.floor(s / 60)\n",
    "    s -= m * 60\n",
    "    return '%dm %ds' % (m, s)\n",
    "\n",
    "def timeSince(since, percent):\n",
    "    now = time.time()\n",
    "    s = now - since\n",
    "    es = s / (percent)\n",
    "    rs = es - s\n",
    "    return '%s (- %s)' % (asMinutes(s), asMinutes(rs))"
   ]
  },
  {
   "cell_type": "code",
   "execution_count": 58,
   "metadata": {
    "id": "rdtIHPiDHsAF"
   },
   "outputs": [],
   "source": [
    "# Each iteration of training\n",
    "def trainIters(encoder, decoder, n_iters, print_every=1000, plot_every=100, learning_rate=0.01):\n",
    "    start = time.time()\n",
    "    plot_losses = []\n",
    "    print_loss_total = 0  # Reset every print_every\n",
    "    plot_loss_total = 0  # Reset every plot_every\n",
    "\n",
    "    encoder_optimizer = optim.SGD(encoder.parameters(), lr=learning_rate)\n",
    "    decoder_optimizer = optim.SGD(decoder.parameters(), lr=learning_rate)\n",
    "    training_pairs = [tensorsFromPair(random.choice(pairs))\n",
    "                      for i in range(n_iters)]\n",
    "    #training_pairs = training_pairs1\n",
    "    criterion = nn.NLLLoss()\n",
    "\n",
    "    for iter in range(1, n_iters + 1):\n",
    "        training_pair = training_pairs[iter - 1]\n",
    "        input_tensor = training_pair[0]\n",
    "        target_tensor = training_pair[1]\n",
    "\n",
    "        loss = train(input_tensor, target_tensor, encoder,\n",
    "                     decoder, encoder_optimizer, decoder_optimizer, criterion)\n",
    "        print_loss_total += loss\n",
    "        plot_loss_total += loss\n",
    "\n",
    "        if iter % print_every == 0:\n",
    "            print_loss_avg = print_loss_total / print_every\n",
    "            print_loss_total = 0\n",
    "            print('%s (%d %d%%) %.4f' % (timeSince(start, iter / n_iters),\n",
    "                                         iter, iter / n_iters * 100, print_loss_avg))\n",
    "\n",
    "        if iter % plot_every == 0:\n",
    "            plot_loss_avg = plot_loss_total / plot_every\n",
    "            plot_losses.append(plot_loss_avg)\n",
    "            plot_loss_total = 0\n",
    "\n",
    "    #showPlot(plot_losses)"
   ]
  },
  {
   "cell_type": "markdown",
   "metadata": {
    "id": "zCYVcQ8DHuDX"
   },
   "source": [
    "# **Evaluation**"
   ]
  },
  {
   "cell_type": "code",
   "execution_count": 59,
   "metadata": {
    "id": "RSf-saDZHyaQ"
   },
   "outputs": [],
   "source": [
    "def evaluate(encoder, decoder, sentence, max_length=MAX_LENGTH):\n",
    "    with torch.no_grad():\n",
    "        input_tensor = tensorFromSentence(input_lang, sentence)\n",
    "        input_length = input_tensor.size()[0]\n",
    "        encoder_hidden = encoder.initHidden()\n",
    "\n",
    "        encoder_outputs = torch.zeros(max_length, encoder.hidden_size, device=device)\n",
    "\n",
    "        for ei in range(input_length):\n",
    "            encoder_output, encoder_hidden = encoder(input_tensor[ei],\n",
    "                                                     encoder_hidden)\n",
    "            encoder_outputs[ei] += encoder_output[0, 0]\n",
    "\n",
    "        decoder_input = torch.tensor([[SOS_token]], device=device)  # SOS\n",
    "\n",
    "        decoder_hidden = encoder_hidden\n",
    "\n",
    "        decoded_words = []\n",
    "        decoder_attentions = torch.zeros(max_length, max_length)\n",
    "\n",
    "        for di in range(max_length):\n",
    "            decoder_output, decoder_hidden, decoder_attention = decoder(\n",
    "                decoder_input, decoder_hidden, encoder_outputs)\n",
    "            decoder_attentions[di] = decoder_attention.data\n",
    "            topv, topi = decoder_output.data.topk(1)\n",
    "            if topi.item() == EOS_token:\n",
    "                decoded_words.append('<EOS>')\n",
    "                break\n",
    "            else:\n",
    "                decoded_words.append(output_lang.index2word[topi.item()])\n",
    "\n",
    "            decoder_input = topi.squeeze().detach()\n",
    "\n",
    "        return decoded_words, decoder_attentions[:di + 1]"
   ]
  },
  {
   "cell_type": "code",
   "execution_count": 60,
   "metadata": {
    "id": "4mQhM6JDH1Zf"
   },
   "outputs": [],
   "source": [
    "def evaluate_test(encoder, decoder):\n",
    "  test = []\n",
    "  %cd /home/glitch/project/Sanskrit2mal/parallel-corpus/sanskrit-mal\n",
    "  with open('test_sanskrit.sa', 'r', encoding=\"utf8\") as f:\n",
    "    test_text = [x.replace('\\n', '') for x in f.readlines()]\n",
    "  for sa_text in test_text:\n",
    "    # print('>', pair[0])\n",
    "    # print('=', pair[1])\n",
    "    output_words, attentions = evaluate(encoder, decoder, sa_text)\n",
    "    output_sentence = ' '.join(output_words)\n",
    "    # print('<', output_sentence)\n",
    "    # print('')\n",
    "    test.append(output_sentence)\n",
    "  with open('translated_malayalam.txt', 'w', encoding=\"utf8\") as f:\n",
    "    for line in test:\n",
    "        f.write(line + '\\n')"
   ]
  },
  {
   "cell_type": "code",
   "execution_count": 61,
   "metadata": {},
   "outputs": [],
   "source": [
    "def translator(encoder, decoder):\n",
    "    test_text = 'धृतराष्ट्र उवाच धर्मक्षेत्रे कुरुक्षेत्रे समवेता युयुत्सवः। मामकाः पाण्डवाश्चैव किमकुर्वत सञ्जय।।'\n",
    "\n",
    "    output_words, attentions = evaluate(encoder, decoder, test_text)\n",
    "    output_sentence = ' '.join(output_words)\n",
    "    print(output_sentence)"
   ]
  },
  {
   "cell_type": "code",
   "execution_count": 62,
   "metadata": {},
   "outputs": [
    {
     "name": "stdout",
     "output_type": "stream",
     "text": [
      "/home/glitch/project/Sanskrit2mal/parallel-corpus/sanskrit-mal\n"
     ]
    }
   ],
   "source": [
    " %cd /home/glitch/project/Sanskrit2mal/parallel-corpus/sanskrit-mal"
   ]
  },
  {
   "cell_type": "code",
   "execution_count": 71,
   "metadata": {
    "colab": {
     "base_uri": "https://localhost:8080/"
    },
    "id": "eSwIZgd1ICB6",
    "outputId": "611feb83-5766-4234-8a9f-d1b26cc4fde7"
   },
   "outputs": [
    {
     "name": "stdout",
     "output_type": "stream",
     "text": [
      "5m 37s (- 78m 38s) (5000 6%) 3.2363\n",
      "11m 31s (- 74m 54s) (10000 13%) 0.1733\n",
      "17m 27s (- 69m 50s) (15000 20%) 0.0177\n",
      "23m 22s (- 64m 16s) (20000 26%) 0.0049\n",
      "29m 17s (- 58m 35s) (25000 33%) 0.0035\n",
      "35m 13s (- 52m 49s) (30000 40%) 0.0028\n",
      "41m 6s (- 46m 59s) (35000 46%) 0.0023\n",
      "47m 0s (- 41m 8s) (40000 53%) 0.0019\n",
      "52m 54s (- 35m 16s) (45000 60%) 0.0017\n",
      "58m 48s (- 29m 24s) (50000 66%) 0.0015\n",
      "64m 42s (- 23m 31s) (55000 73%) 0.0013\n",
      "70m 35s (- 17m 38s) (60000 80%) 0.0012\n",
      "76m 29s (- 11m 46s) (65000 86%) 0.0011\n",
      "82m 24s (- 5m 53s) (70000 93%) 0.0010\n",
      "88m 21s (- 0m 0s) (75000 100%) 0.0010\n"
     ]
    }
   ],
   "source": [
    "# defining hidden layer size and the encoder and decoder networks\n",
    "hidden_size = 1024\n",
    "\n",
    "encoder1 = EncoderRNN(input_lang.n_words, hidden_size).to(device)\n",
    "attn_decoder1 = AttnDecoderRNN(hidden_size, output_lang.n_words, dropout_p=0.1).to(device)\n",
    "\n",
    "# train\n",
    "trainIters(encoder1, attn_decoder1, 75000, print_every=5000)"
   ]
  },
  {
   "cell_type": "code",
   "execution_count": 72,
   "metadata": {
    "id": "gru3S0bsIeff"
   },
   "outputs": [
    {
     "name": "stdout",
     "output_type": "stream",
     "text": [
      "/home/glitch/project/Sanskrit2mal\n"
     ]
    }
   ],
   "source": [
    "# saving the trained models\n",
    "%cd /home/glitch/project/Sanskrit2mal\n",
    "torch.save(encoder1.state_dict(), 'trained_encoder.pth')\n",
    "torch.save(attn_decoder1.state_dict(), 'trained_decoder.pth')"
   ]
  },
  {
   "cell_type": "code",
   "execution_count": 73,
   "metadata": {},
   "outputs": [
    {
     "name": "stdout",
     "output_type": "stream",
     "text": [
      "/home/glitch/project/Sanskrit2mal/parallel-corpus/sanskrit-mal\n"
     ]
    }
   ],
   "source": [
    "evaluate_test(encoder1, attn_decoder1)"
   ]
  },
  {
   "cell_type": "code",
   "execution_count": 74,
   "metadata": {},
   "outputs": [
    {
     "name": "stdout",
     "output_type": "stream",
     "text": [
      "/home/glitch/project/Sanskrit2mal/parallel-corpus/sanskrit-mal\n",
      "[['ധൃതരാഷ്ട്രര്\\u200d ചോദിച്ചു: സഞ്ജയ, ധ\\u200dര്\\u200dമ്മ ക്ഷേത്രമായ കുരുക്ഷേത്രത്തില്\\u200d ഒരുമിച്ചു ചേര്\\u200dന്നവരും യുദ്ധം ചെയ്യാന്\\u200d കൊതിക്കുന്നവരുമായ എന്റെ പുത്രന്\\u200dമാരും പാണ്ഡവന്\\u200dമാരും എന്ത് ചെയ്തു? <EOS>\\n', 'ഞാന്\\u200d സര്\\u200dവ്വരുടെയും ഹൃദയത്തില്\\u200d സന്നിഹിതനാണ്. ഓര്\\u200dമ്മ, അറിവ്, മറവി എന്നിവയുണ്ടാകുന്നതും എന്നില്\\u200d നിന്നാണ്. എല്ലാ വേദങ്ങളിലൂടെ അറിയപ്പെടേണ്ടവന്\\u200d ഞാനാണ്. വേദാന്തത്തിന്റെ കര്\\u200dത്താവും വേദജ്ഞനും ഞാന്\\u200d തന്നെയാണ്. <EOS>\\n', 'ഹേ കൗന്തേയ, രജസ്സിന്റെ സ്വഭാവം രാഗമാണെന്നറിയൂ. അത് തൃഷ്ണ (ആഗ്രഹം) യെയും സംഗത്തെയും ജനിപ്പിക്കുകയും കര്\\u200dമ്മത്തോടുള്ള സംഗത്താല്\\u200d ദേഹിയെ ബന്ധിക്കുകയും ചെയ്യുന്നു. <EOS>\\n', 'പാണ്ഡവ സൈന്യത്തില്\\u200d ഭീമാര്\\u200dജുനതുല്യരും ശൂരരും വലിയ വില്ലാളികളുമായ യുയുധാനനും വിരാടനും മഹാരഥനായ ദ്രുപദനും ദൃഷ്ടകേതുവും ചേകിതാനനും വീര്യവാനായ കാശിരാജാവും പുരുജിത്തും കുന്തിഭോജനും നരശ്രേഷ്ടനായ ശൈബ്യനും വിക്രമിയായ യുധാമന്യുവും വീര്യവാനായ ഉത്തമൌജസും സുഭദ്രാതനയനായ അഭിമന്യുവും ദ്രൌപദീപുത്രന്മാരും ഉണ്ട്. അവര്\\u200d എല്ലാവരും തന്നെ മഹാരഥന്മാരാണല്ലോ. <EOS>\\n', ' ഭൗതികമായുള്ള ബന്ധത്തിൽ നിന്നുളവാകുന്ന സർവ്വകേശങ്ങളിൽ നിന്നുമുള്ള യഥാർത്ഥ മോചനമാണിത് <EOS>\\n', 'കൂടാതെ പരാക്രമിയായ യുധാമന്യു, ബലവാനായ ഉത്തമൗജസ്സ്, സുഭദ്രാപൂതൻ, ദ്രൗപദിയുടെ മക്കൾ എന്നിവരും യുദ്ധത്തിനൊരുങ്ങി നിൽക്കുകയാണ്. ഇവരെല്ലാവരും മഹാരഥന്മാർ തന്നെ. <EOS>\\n', 'ദൃഢചിത്തന്മാരായി പ്രീതിപൂ\\u200dര്\\u200dവം എന്നെ ഭജിക്കുന്നവ\\u200dര്\\u200dക്ക് ഞാ\\u200dന്\\u200d ബുദ്ധിയോഗത്തെ നല്കുകയും അതിന്റെ ഫലമായി അവ\\u200dര്\\u200d എന്നെ പ്രാപിക്കുകയും ചെയ്യുന്നു. <EOS>\\n', 'എപ്പോള്\\u200d നിന്റെ ബുദ്ധി മോഹരൂപമായ വൈഷമ്യത്തെ കടക്കുമോ അപ്പോള്\\u200d കേള്\\u200dക്കേണ്ടതിനെയും കേട്ടതിനെയും കുറിച്ചു നീ ഉദാസീനനായിത്തീരും. <EOS>\\n', 'ഹേ അ\\u200dര്\\u200dജ്ജുനാ! എന്റെ മേ\\u200dല്\\u200dനോട്ടത്തി\\u200d\\u200dല്\\u200d പ്രകൃതി സ\\u200dര്\\u200dവചരാചരങ്ങളേയും ജനിപ്പിക്കുന്നു. എന്റെ ഈ രൂപത്തെ ഞാന്\\u200d കാണ്മാനാഗ്രഹിക്കുന്നു. അസംഖ്യം ബാഹുക്കളോടുകൂടിയ ഭഗവാനേ, ചതു\\u200dര്\\u200dഭുജത്തോടു കൂടിയ ആ പഴയ രൂപത്തെത്തന്നെ പ്രാപിച്ചാലും! <EOS>\\n', 'അര്\\u200dജുനന്\\u200d പറഞ്ഞു: പ്രഭോ, ഈ മൂന്നു ഗുണങ്ങളെ അതിവര്\\u200dത്തി ച്ചവന്റെ ലക്ഷണങ്ങളേതൊക്കെയാണ്? അവന്റെ സ്വഭാവമെന്താണ്? എങ്ങനെയാണ് ഈ മൂന്നു ഗുണങ്ങളെ അതിവര്\\u200dത്തിക്കുന്നത്? <EOS>\\n', 'ഹേ അ\\u200dര്\\u200dജ്ജുനാ! ഞാ\\u200d\\u200dന്\\u200dഎന്റെ യോഗശക്തിയാല്\\u200d നിനക്കു കാട്ടിത്തന്നതായ തേജോമയവും അനാദ്യന്തവുമായ ഈ വിശ്വരൂപം മറ്റാരും ഇതുവരെ കണ്ടിട്ടുള്ളതല്ല. <EOS>\\n', 'അപ്പോൾ പരാക്രമിയും കുരു പിതാമഹനുമായ ഭീഷ്മർ ദുര്യോ ധനന് ആഹ്ലാദം ജനിപ്പിക്കുമാറ് സിംഹഗർജനം പോലെയുള്ള ശബ്ദമു ണ്ടാക്കിക്കൊണ്ട് തന്റെ ശംഖമെടുത്ത് ഊതി. <EOS>\\n', 'അതിനെത്തുടർന്ന് ശംഖ്, ചെണ്ട, മദ്ദളം, കാഹളം എന്നിവയുടെ ശബ്ദം എമ്പാടുമുയർന്നു. യുദ്ധരംഗത്ത് കോലാഹലമായി. <EOS>\\n', 'മറുവശത്ത് കൃഷ്ണാർജുനന്മാർ വെള്ളക്കുതിരകളെ പൂട്ടിയ വൻതേരിൽ നിന്നുകൊണ്ട് തങ്ങളുടെ ദിവ്യശംഖങ്ങൾ മുഴക്കി. <EOS>\\n', 'സഞ്ജയന്\\u200d പറഞ്ഞു: ഇപ്രകാരം വാസുദേവനായ ശ്രീകൃഷ്ണന്റെയും മഹാനായ അര്\\u200dജുനന്മാരുടെ അത്ഭുതകരവും രോമാഞ്ചജനകവുമായ സംവാദം ഞാന്\\u200d കേട്ടു. <EOS>\\n', 'രാജാവും കുന്തീപുത്രനുമായ യുധിഷ്ഠിരന്\\u200d അനന്തവിജയവും നകുല\\u200dന്\\u200d സുഘോഷത്തേയും സഹദേവ\\u200dന്\\u200d മണിപുഷ്പകത്തേയും മുഴക്കി. <EOS>\\n', 'ഈശ്വരൻ ആരുടേയും പാപവും സുകൃതവും സ്വീകരിക്കുന്നില്ല. ജ്ഞാനം അജ്ഞാനത്താൽ മറയ്ക്കപ്പെട്ടിരിക്കുന്നതുകൊണ്ട് ജീവികൾ മോഹത്തിലാണ്ടുപോകുന്നു. <EOS>\\n', 'ശ്രീ ഭഗവാന്\\u200d പറഞ്ഞു: ഹേ പാര്\\u200dത്ഥ, അവനു ഈ ലോകത്തില്\\u200d വിനാശം ഇല്ല തന്നെ; പരലോകത്തുമില്ല. കുഞ്ഞേ, നല്ലത് ചെയ്യുന്ന ഒരുവന്\\u200d ഒരിക്കലും ദുര്\\u200dഗതി പ്രാപിക്കുന്നില്ല. <EOS>\\n', 'അ\\u200dര്\\u200dജ്ജുനാ! സൃഷ്ടിവ\\u200dര്\\u200dഗ്ഗങ്ങളില്\\u200d ഉല്പത്തിസ്ഥിതിലയങ്ങ\\u200dള്\\u200d ഞാനാണ്. വിദ്യകളില്\\u200d അദ്ധ്യാത്മവിദ്യയും പരസ്പര സംഭാഷണങ്ങളി\\u200d\\u200dല്\\u200d വാദവും ഞാ\\u200dന്\\u200d തന്നെ. <EOS>\\n', 'ഈ ക\\u200dര്\\u200dമ്മയോഗനിഷ്ഠയില്\\u200d തുടങ്ങി വെച്ച കര്\\u200dമ്മത്തിനൊന്നും നാശമില്ല. പാപം സംഭവിക്കുകയുമില്ല. ഈ ധ\\u200dര്\\u200dമ്മത്തിന്റെ അത്യല്\\u200dപ്പമായ (വളരെ ചെറിയ തോതിലുള്ള) ആചരണം പോലും വലിയ ഭയത്തില്\\u200d നിന്നും രക്ഷിക്കുന്നു. <EOS>\\n', 'ഹേ ഗോവിന്ദാ, രാജ്യംകൊണ്ടും ഭോഗങ്ങൾകൊണ്ടും ജീവിതം കൊണ്ടുതന്നെയും ഞങ്ങൾക്കെന്തു പ്രയോജനം? ആർക്കുവേണ്ടി ഞങ്ങൾ ഇതെല്ലാം ആഗ്രഹിക്കുന്നുവോ, അവരെല്ലാം സ്വത്തും പ്രാണൻകൂടിയും ഉപേക്ഷിക്കാൻ തയ്യാറായി ഇതാരണാങ്കണത്തിൽ നിൽക്കുന്നു. മധുസൂദനാ, ഗുരുജനങ്ങൾ, പിതൃപിതാമഹന്മാർ, മക്കൾ, അമ്മാവന്മാർ, ശ്വശുരന്മാർ, സ്യാലന്മാർ തുടങ്ങിയ ബന്ധുക്കളാണി ങ്ങനെ മുന്നിൽ നിൽക്കുന്നത്. ഞാനെന്തിന് അവരെ കൊല്ലണം? അവരെ വധിക്കുകിൽ, തൈലോക്യമാകെ നേടാമെന്നു വന്നാലും ഞാനവരോട് യുദ്ധം ചെയ്യാനില്ല. പിന്നെ എങ്ങനെയാണ് വെറും മണ്ണിനുവേണ്ടി അവരെ കൊല്ലാനാവുക? ജനാർദ്ദനാ! ധാർതരാഷ്ട്ര ന്മാരെ ഹിംസിച്ചിട്ട് ഞങ്ങൾക്കെന്തു സുഖം കിട്ടാനാണ്? <EOS>\\n', 'ഹേ അച്യുതാ, (ച്യുതി അഥവാ വീഴ്ച പറ്റാത്തവനേ) ഇരു സൈന്യങ്ങൾക്കും മദ്ധ്യത്തിലായി എന്റെ തേർ കൊണ്ടുനിർത്തുക. ആരൊക്കെയാണ് യുദ്ധകാംക്ഷികളായി ഇവിടെ വന്നിട്ടുള്ളതെന്നു ഞാനൊന്നു കാണട്ടെ. <EOS>\\n', 'ദുർബുദ്ധിയായ ധൃതരാഷ്ട്രപുത്രനെ സന്തോഷിപ്പിക്കുവാനായി യുദ്ധത്തിനൊരുങ്ങി വന്നവരെ ഞാൻ കാണട്ടെ. <EOS>\\n', 'ഹേ കൗന്തേയ, ദോഷമുള്ളതാണെങ്കിലും സ്വധര്\\u200dമ്മത്തെ ഉപേക്ഷിക്കരുത്. തീ പുക കൊണ്ടെന്ന പോലെ എല്ലാ കര്\\u200dമ്മങ്ങളും ദോഷങ്ങളാല്\\u200d ആവൃതമാണ്. <EOS>\\n', 'ഹേ പാര്\\u200dത്ഥ, ഈ ആത്മാവിനെ ദേഹത്തില്\\u200d ദേവന്മാരേയും എല്ലാതരത്തിലുമുള്ള ഭുതഗണങ്ങളേയും, അതുപോലെ, കമലാസനത്തി\\u200cല്\\u200dസ്ഥിതിചെയ്യുന്ന സൃഷ്ടിക\\u200cര്\\u200dത്താവായ ബ്രഹ്മാവിനേയും മഹ\\u200dര്\\u200dഷിമാരേയും സ\\u200dര്\\u200dവദിവ്യസ\\u200dര്\\u200dപ്പങ്ങളേയും ഇതാ കാണുന്നു. <EOS>\\n', 'അപ്രകാരമുള്ള ആ പുരാതനമായ യോഗം തന്നെയാണ് നീ എന്റെ ഭക്തനും, തോഴനുമായതു കൊണ്ട് നിനക്കു ഞാന്\\u200d ഇന്നു ഉപദേശിച്ചത്. ഈ യോഗം ഉത്തമമായ രഹസ്യമാണ്. <EOS>\\n', 'ആ കുന്തീപുത്രന്\\u200d ബന്ധുക്കളെ എല്ല\\u200dാം നന്നായി നോക്കിക്കണ്ട്\\u200c, അത്യന്തം കൃപയോടെ വിഷാദിച്ചുകൊണ്ട് ഇങ്ങനെ പറഞ്ഞു. <EOS>\\n', 'ഹേ പാര്\\u200dഥ, നീ ഏകാഗ്രചിത്തനായി ഇതെല്ല\\u200dാം കേട്ടുവോ? നിന്റെ അജ്ഞാനവും മോഹവും നഷ്ടമായോ? <EOS>\\n', 'എന്റെ അവയവങ്ങൾ തളരുന്നു, മുഖം വരളുന്നു. എന്റെ ശരീരം വിറയ്ക്കുകയും, രോമാഞ്ചമുണ്ടാവുകയും ചെയ്യുന്നു. <EOS>\\n', 'ഹേ കൗന്തേയ, ദോഷമുള്ളതാണെങ്കിലും സ്വധര്\\u200dമ്മത്തെ ഉപേക്ഷിക്കരുത്. തീ പുക കൊണ്ടെന്ന പോലെ എല്ലാ കര്\\u200dമ്മങ്ങളും ദോഷങ്ങളാല്\\u200d ആവൃതമാണ്. <EOS>\\n', 'ഹേ ജഗദ്\\u200cവ്യാപിയായ ദേവേശ, ഘോരമായ ദംഷ്ട്രകളുള്ളതും പ്രളയകാലത്തുണ്ടാക്കുന്ന അഗ്നിയെപ്പോലെ ജ്വലിക്കുന്നതുമായ അവിടുത്തെ മുഖങ്ങ\\u200dള്\\u200d കണ്ടമാത്രയില്\\u200d തന്നെ എനിക്ക് ദിക്കുക\\u200dള്\\u200d അറിയാതായിപ്പോകുന്നു. എനിക്കു മനസ്സമാധാനം തീരെ ഉണ്ടാകുന്നില്ല. ഭഗവാനേ! എന്നില്\\u200d പ്രസാദിച്ചാലും. <EOS>\\n', 'കൃഷ്ണാ, വിജയവും രാജ്യവും സുഖങ്ങളും ഞാന്\\u200d ആഗ്രഹിക്കുന്നില്ല. ഗോവിന്ദാ, നമുക്കു രാജ്യം കൊണ്ടു എന്തു കാര്യം? ഭോഗങ്ങളെ കൊണ്ടോ ജീവിതം കൊണ്ടു തന്നെയോ എന്തു ഫലം? <EOS>\\n', 'ഞാന്\\u200d അമൃതവും (അനശ്വരവും) അവ്യയവുമായ (മാറ്റമില്ലാത്തതുമായ) ബ്രഹ്മത്തിന്റെയും, ശാശ്വതമായ ധര്\\u200dമ്മ ത്തിന്റെയും, പരമമായ സുഖത്തിന്റെയും പ്രതിഷ്ഠയുമാകുന്നു (ആശ്രയവുമാകുന്നു). <EOS>\\n', 'ഹേ ഗോവിന്ദാ, രാജ്യംകൊണ്ടും ഭോഗങ്ങൾകൊണ്ടും ജീവിതം കൊണ്ടുതന്നെയും ഞങ്ങൾക്കെന്തു പ്രയോജനം? ആർക്കുവേണ്ടി ഞങ്ങൾ ഇതെല്ലാം ആഗ്രഹിക്കുന്നുവോ, അവരെല്ലാം സ്വത്തും പ്രാണൻകൂടിയും ഉപേക്ഷിക്കാൻ തയ്യാറായി ഇതാരണാങ്കണത്തിൽ നിൽക്കുന്നു. മധുസൂദനാ, ഗുരുജനങ്ങൾ, പിതൃപിതാമഹന്മാർ, മക്കൾ, അമ്മാവന്മാർ, ശ്വശുരന്മാർ, സ്യാലന്മാർ തുടങ്ങിയ ബന്ധുക്കളാണി ങ്ങനെ മുന്നിൽ നിൽക്കുന്നത്. ഞാനെന്തിന് അവരെ കൊല്ലണം? അവരെ വധിക്കുകിൽ, തൈലോക്യമാകെ നേടാമെന്നു വന്നാലും ഞാനവരോട് യുദ്ധം ചെയ്യാനില്ല. പിന്നെ എങ്ങനെയാണ് വെറും മണ്ണിനുവേണ്ടി അവരെ കൊല്ലാനാവുക? ജനാർദ്ദനാ! ധാർതരാഷ്ട്ര ന്മാരെ ഹിംസിച്ചിട്ട് ഞങ്ങൾക്കെന്തു സുഖം കിട്ടാനാണ്? <EOS>\\n', 'ഹേ കൗന്തേയ, ദോഷമുള്ളതാണെങ്കിലും സ്വധര്\\u200dമ്മത്തെ ഉപേക്ഷിക്കരുത്. തീ പുക കൊണ്ടെന്ന പോലെ എല്ലാ കര്\\u200dമ്മങ്ങളും ദോഷങ്ങളാല്\\u200d ആവൃതമാണ്. <EOS>\\n', 'ഹേ കൗന്തേയ, ആസുരയോനികളില്\\u200d ജനിക്കുന്ന ഈ മൂഢന്മാര്\\u200d ഓരോ ജന്മങ്ങളിലും എന്നെ പ്രാപിക്കാതെ അധമഗതിയെ പ്രാപിക്കുന്നു. <EOS>\\n', 'ഹേ മഹാബാഹോ, എല്ലാ കര്\\u200dമ്മങ്ങളുടെ സിദ്ധിയ്ക്കായി സ\\u200dാംഖ്യത്തില്\\u200d പറഞ്ഞിരിക്കുന്ന അഞ്ചു ഘടകങ്ങള്\\u200d കേട്ടാലും. <EOS>\\n', 'ഹേ ഭരതർഷഭാ, ബദ്ധനായ ജീവാത്മാവ് ആസ്വദിക്കുകയും ആ ആസ്വാദനത്തിലൂടെ ചിലപ്പോൾ സകല ക്ലേശങ്ങളിൽ നിന്നും മുക്തി നേടുകയും ചെയ്യുന്ന സുഖത്തെപ്പറ്റി ഇനി പറയാം. ഇത് മൂന്നു വിധ ത്തിലുണ്ട്. <EOS>\\n', 'കുലക്ഷയത്തിൽ നിന്നുണ്ടാകാവുന്ന ആപത്തുകളെക്കുറിച്ചറിവുള്ള നമ്മൾ ഈ പാപകർമ്മങ്ങളിൽ എന്തിന് വ്യാപൃതരാവണം?, ജനാർദ്ദനാ... <EOS>\\n', 'കുലം നശിക്കുമ്പോള്\\u200d സനാതനങ്ങളായ കുലധ\\u200dര്\\u200dമ്മങ്ങള്\\u200d നശിക്കുന്നു, ധ\\u200dര്\\u200dമ്മം നശിക്കുമ്പോള്\\u200d കുലത്തെ മുഴുവ\\u200dന്\\u200d അധര്\\u200dമ്മം ബാധിക്കുന്നു. <EOS>\\n', 'ശ്രീകൃഷ്ണ\\u200dന്\\u200dപറഞ്ഞു: അ\\u200dര്\\u200dജ്ജുനാ! സംപ്രീതനായ നിന്റെ ഹിതമാഗ്രഹിച്ചുകൊണ്ട് ഞാന്\\u200d വീണ്ടും പറയുന്ന ഉത്കൃഷ്ടമായ വാക്കുകളെ കേട്ടാലും. <EOS>\\n', ' ഭൗതികമായുള്ള ബന്ധത്തിൽ നിന്നുളവാകുന്ന സർവ്വകേശങ്ങളിൽ നിന്നുമുള്ള യഥാർത്ഥ മോചനമാണിത് <EOS>\\n', 'അര്\\u200dജുനന്\\u200d ചോദിച്ചു: സഞ്ജയ, ധ\\u200dര്\\u200dമ്മ ക്ഷേത്രമായ കുരുക്ഷേത്രത്തില്\\u200d ഒരുമിച്ചു ചേര്\\u200dന്നവരും യുദ്ധം ചെയ്യാന്\\u200d കൊതിക്കുന്നവരുമായ എന്റെ പുത്രന്\\u200dമാരും പാണ്ഡവന്\\u200dമാരും എന്ത് ചെയ്തു? <EOS>\\n', 'ഹേ കൗന്തേയ, ആസുരയോനികളില്\\u200d ജനിക്കുന്ന ഈ മൂഢന്മാര്\\u200d ഓരോ ജന്മങ്ങളിലും എന്നെ പ്രാപിക്കാതെ അധമഗതിയെ പ്രാപിക്കുന്നു. <EOS>\\n', 'ഹേ കൗന്തേയ, ദോഷമുള്ളതാണെങ്കിലും സ്വധര്\\u200dമ്മത്തെ ഉപേക്ഷിക്കരുത്. തീ പുക കൊണ്ടെന്ന പോലെ എല്ലാ കര്\\u200dമ്മങ്ങളും ദോഷങ്ങളാല്\\u200d ആവൃതമാണ്. <EOS>\\n', 'ഹേ കൗന്തേയ, ദോഷമുള്ളതാണെങ്കിലും സ്വധര്\\u200dമ്മത്തെ ഉപേക്ഷിക്കരുത്. തീ പുക കൊണ്ടെന്ന പോലെ എല്ലാ കര്\\u200dമ്മങ്ങളും ദോഷങ്ങളാല്\\u200d ആവൃതമാണ്. <EOS>\\n', ' ഭൗതികമായുള്ള ബന്ധത്തിൽ നിന്നുളവാകുന്ന സർവ്വകേശങ്ങളിൽ നിന്നുമുള്ള യഥാർത്ഥ മോചനമാണിത് <EOS>\\n', 'സഞ്ജയന്\\u200d പറഞ്ഞു: അങ്ങനെ മനസ്സലിഞ്ഞവനും, കണ്ണീര്\\u200d നിറഞ്ഞ കണ്ണുകളോടുകൂടിയവനും ദുഃഖിക്കുന്നവനുമായ അര്\\u200dജുനനോടു ശ്രീകൃഷ്ണന്\\u200d ഇപ്രകാരം പറഞ്ഞു. <EOS>\\n', 'ഈ തത്വത്തെ അറിയുന്നവരായ പൂര്\\u200dവ്വികരായ മുമുക്ഷുക്കള്\\u200dക്കൂടി, നിഷ്കാമ ബുദ്ധിയോടുകൂടി ക\\u200dര്\\u200dമ്മം അനുഷ്ഠിച്ചു. അതുകൊണ്ട് പൂര്\\u200dവ്വികന്മാര്\\u200d പണ്ടു ചെയ്തതുപോലെ നീയും ക\\u200dര്\\u200dമ്മം ചെയ്യുക തന്നെ വേണം. <EOS>\\n', 'പാര്\\u200dത്ഥാ, പൌരുഷമില്ലായ്മ നിനക്കു വന്നു കൂടാ. ഇതു നിനക്കു ചേരില്ല. ശത്രുനാശകാ, നികൃഷ്ടമായ ഹൃദയ ദൌര്\\u200dബല്യം കൈവിട്ടു നീ എഴുന്നേ\\u200dല്\\u200dക്കു. <EOS>\\n', 'അര്\\u200dജുനന്\\u200d ചോദിച്ചു: ഹേ ശത്രുഘാതകാ! മധുസൂധനാ, പൂജാര്\\u200dഹരായ ഭീഷ്മരേയും ദ്രോണരെയും മൂര്\\u200dച്ചയുള്ള അമ്പുകള്\\u200d കൊണ്ടു ഞാന്\\u200d യുദ്ധത്തില്\\u200d എങ്ങനെ എതിരിടും? <EOS>\\n', 'ഹേ ഭഗവ\\u200dന്\\u200d\\u200d! അങ്ങ് ചരാചരാത്മകമായ ഈ ജഗത്തിന്റെ പിതാവാകുന്നു. അങ്ങ് ഈ ജഗത്തിനു പുജ്യനും ശ്രേഷ്ഠനായ ഗുരുവുമാകുന്നു. മൂന്നു ലോകങ്ങളിലും അങ്ങയ്ക്കു തുല്യനായിട്ടൊരാളുമില്ല. അപ്പോള്\\u200d അതുലിതശക്തിയുള്ള അങ്ങയെ വെല്ലാന്\\u200d ആരാണുള്ളത്? <EOS>\\n', 'ഹേ ഭഗവ\\u200dന്\\u200d\\u200d! അങ്ങ് ചരാചരാത്മകമായ ഈ ജഗത്തിന്റെ പിതാവാകുന്നു. അങ്ങ് ഈ ജഗത്തിനു പുജ്യനും ശ്രേഷ്ഠനായ ഗുരുവുമാകുന്നു. മൂന്നു ലോകങ്ങളിലും അങ്ങയ്ക്കു തുല്യനായിട്ടൊരാളുമില്ല. അപ്പോള്\\u200d അതുലിതശക്തിയുള്ള അങ്ങയെ വെല്ലാന്\\u200d ആരാണുള്ളത്? <EOS>\\n', 'ഹേ കൗന്തേയ, ദോഷമുള്ളതാണെങ്കിലും സ്വധര്\\u200dമ്മത്തെ ഉപേക്ഷിക്കരുത്. തീ പുക കൊണ്ടെന്ന പോലെ എല്ലാ കര്\\u200dമ്മങ്ങളും ദോഷങ്ങളാല്\\u200d ആവൃതമാണ്. <EOS>\\n', 'ഭൂമിയില്\\u200d ശത്രുക്കളില്ലാത്തതും സമൃദ്ധിയുള്ളതുമായ രാജ്യവും ദേവന്മാരുടെ മേല്\\u200d പോലും ആധിപത്യവും ലഭിച്ചാലും ഇന്ദ്രിയങ്ങളെ ശോഷിപ്പിച്ചു കൊണ്ടിരിക്കുന്ന എന്റെ ദുഃഖത്തെ അകറ്റുന്ന യതൊന്നും ഞാന്\\u200d കാണുന്നില്ല. <EOS>\\n', 'സഞ്ജയന്\\u200d പറഞ്ഞു: ശത്രുനാശകനായ അര്\\u200dജുനന്\\u200d കൃഷ്ണനോട് ഞാന്\\u200d യുദ്ധം ചെയ്കയില്ല എന്ന് പറഞ്ഞു മൗനം അവലംബിച്ചു. <EOS>\\n', 'ആദിമദ്ധ്യാന്തരഹിതനും അളവറ്റ വീര്യത്തോടുകൂടിയവനും അനേകം കൈകളുള്ളവനും ജ്വലിക്കുന്ന അഗ്നിയെപ്പോലെ ജാജ്ജ്വല്യമാനമായ വക്ത്രത്തോടുകൂടിയവനും, സൂര്യചന്ദ്രന്മാരാകുന്ന കണ്ണുകളുള്ളവനും സ്വതേജസ്സിനാ\\u200dല്\\u200d ഈ ലോകം മുഴുവനും തപിപ്പിക്കുന്നവനുമായ അങ്ങയെയാണ് ഞാനെങ്ങും കാണുന്നത്. <EOS>\\n', 'ശ്രീ ഭഗവാന്\\u200d പറഞ്ഞു: ഹേ പാര്\\u200dത്ഥ, മനുഷ്യന്\\u200d എപ്പോള്\\u200d ആത്മാവിനാല്\\u200d ആത്മാവില്\\u200dത്തന്നെ സന്തുഷ്ടനായി മനസ്സിലുള്ള എല്ലാ ആഗ്രഹങ്ങളേയും (വാസനകളേയും) ഉപേക്ഷിക്കുന്നുവോ, അപ്പോള്\\u200d അവന്\\u200d സ്ഥിതപ്രജഞന്\\u200d എന്ന് പറയപ്പെടുന്നു. <EOS>\\n', 'ഹേ കൗന്തേയ, ദോഷമുള്ളതാണെങ്കിലും സ്വധര്\\u200dമ്മത്തെ ഉപേക്ഷിക്കരുത്. തീ പുക കൊണ്ടെന്ന പോലെ എല്ലാ കര്\\u200dമ്മങ്ങളും ദോഷങ്ങളാല്\\u200d ആവൃതമാണ്. <EOS>\\n', 'അറിയപ്പെടേണ്ടതേതോ അതു ഞാ\\u200dന്\\u200d\\u200dപറയ\\u200dാം. യാതൊന്നിനെ അറിഞ്ഞാലാണോ മരണമില്ലാത്ത നിലയെ പ്രാപിക്കുന്നത്, അതാണ് അനാദിയും അതിശ്രേഷ്ഠവുമായ ബ്രഹ്മം. അത് സത്ത് (ഉള്ളത്) എന്നോ അസത്ത് (ഇല്ലാത്തത്) എന്നോ പറയുവാ\\u200dന്\\u200d നിവൃത്തിയില്ല. <EOS>\\n', 'കുന്തീപുത്രാ, ഇന്ദ്രിയങ്ങളും വിഷയങ്ങളും തമ്മിലുള്ള സ്പര്\\u200dശങ്ങള്\\u200d ശീതോഷ്ണങ്ങളെയും സുഖദുഃഖങ്ങളെയും നല്\\u200dകുന്നവയും, വന്നും പോയും ഇരിക്കുന്നവയും അനിത്യങ്ങളുമാണ്. ഭരതവംശത്തില്\\u200d ജനിച്ചവനെ, അവ നിര്\\u200dവികാരനായി സഹിച്ചു കൊള്ളുക. <EOS>\\n', 'പുരുഷശ്രേഷ്ഠാ, സമദുഖസുഖനും ധീരനുമായ ഏതൊരു പുരുഷനെ ഇവ ദുഖിപ്പിക്കയില്ലയോ അവന്\\u200d അമൃതത്വത്തിനു അധികാരിയായിത്തീരുന്നു. <EOS>\\n', 'ഹേ പാര്\\u200dഥ, നീ ഏകാഗ്രചിത്തനായി ഇതെല്ല\\u200dാം കേട്ടുവോ? നിന്റെ അജ്ഞാനവും മോഹവും നഷ്ടമായോ? <EOS>\\n', 'ഹേ ശത്രുധ്വംസകനായ ഭരതവംശജാ, ഇച്ഛാ, ദ്വേഷം എന്നിവയില്\\u200dനിന്നുണ്ടാകുന്ന ദ്വന്ദ്വമോഹത്താല്\\u200d സര്\\u200dവഭൂതങ്ങളും സൃഷ്ടിഗതിയില്\\u200d മോഹം പ്രാപിക്കുന്നു. <EOS>\\n', 'നിത്യനും അവിനാശിയും, അവിജ്ഞേയനുമായ ആത്മാവിനുള്ള ഈ ദേഹങ്ങള്\\u200d നാശമുള്ളവയാണെന്നു പറയപ്പെടുന്നു. അതുകൊണ്ട് അര്\\u200dജുനാ, നീ യുദ്ധം ചെയ്യുക. <EOS>\\n', 'യാതൊരാള്\\u200d ഈ ആത്മാവിനെ കൊല്ലുന്ന\\u200cവ\\u200dനെന്ന് ധരിക്കുന്നുവോ യാതൊരാള്\\u200d ഇവനെ കൊല്ലപ്പെട്ടവനായി ഗണിക്കുന്നുവോ, ആ രണ്ടു പേരും വാസ്തവം അറിയുന്നില്ല. ആത്മാവു ആരെയും കൊല്ലുന്നില്ല. ആത്മാവിനെ ആരും കൊല്ലുന്നുമില്ല. <EOS>\\n', 'ഈ ആത്മാവ് ഒരിക്കലും ജനിക്കുന്നില്ല. മരിക്കുന്നുമില്ല. ജനിച്ചിട്ട്\\u200c വീണ്ടും ജനിക്കാതിരിക്കുന്നുമില്ല. ജന്മമില്ലാത്തവനും നിത്യനും സ്ഥിരനും പണ്ടേ ഉള്ളവനുമായ ഇവന്\\u200d ശരീരം ഹതമാകുമ്പോള്\\u200d ഹനിക്കപ്പെടുന്നുമില്ല. <EOS>\\n', 'പാര്\\u200dത്ഥ, ഈ ആത്മാവിനെ നാശരഹിതനും നിത്യനും ജനനരഹിതനും മാറ്റമില്ലാത്തവനുമായി അറിയുന്നുവോ അങ്ങിനെയുള്ള പുരുഷന്\\u200d ആരെയെങ്കിലും കൊല്ലിക്കുന്നതെങ്ങനെ? കൊല്ലുന്നതെങ്ങനെ? <EOS>\\n', 'മനുഷ്യന്\\u200d എങ്ങിനെ കീറിയ വസ്ത്രങ്ങള്\\u200d വെടിഞ്ഞു വേറെ പുതിയവ സ്വീകരിക്കുന്നുവോ, അതുപോലെ ആത്മാവ് ജീ\\u200dര്\\u200dണ്ണിച്ച ദേഹങ്ങള്\\u200d വെടിഞ്ഞു വേറെ ദേഹങ്ങള്\\u200d കൈകൊള്ളുന്നു <EOS>\\n', 'ഈ ആത്മാവിനെ ആയുധങ്ങള്\\u200d മുറിവ് ഏല്\\u200dപ്പിക്കുന്നില്ല. ഇവനെ തീ ദാഹിപ്പിക്കുന്നില്ല. ഇവനെ വെള്ളം നനയ്ക്കുന്നില്ല. കാറ്റ് ഉണക്കുന്നുമില്ല. <EOS>\\n', 'ഹേ അച്യുത, കളിക്കുമ്പോഴും, കിടക്കുമ്പോഴും, ഇരിക്കുമ്പോഴും, ഉണ്ണുമ്പോഴും, തനിച്ചിരിക്കുമ്പോഴും, പല\\u200dര്\\u200dകൂടി ചേ\\u200d\\u200d\\u200dര്\\u200dന്നിരിക്കുമ്പോഴും ഞാന്\\u200d ഏതെങ്കിലും വിധത്തി\\u200dല്\\u200d അങ്ങയെ അപമാനിച്ചിട്ടുണ്ടെങ്കി\\u200cല്\\u200d അതിനെ പൊറുക്കണമെന്നു ഞാന്\\u200d അമേയനായ അങ്ങയോടു പ്രാ\\u200dര്\\u200dത്ഥിക്കുന്നു. <EOS>\\n', 'ഇവന്\\u200d (ഈ ആത്മാവ്) ഇന്ദ്രിയങ്ങള്\\u200dക്കും മനസ്സിനും അഗോചരനും, മാറ്റമില്ലാതവനുമാണെന്നു പറയപ്പെടുന്നു. അതുകൊണ്ട് ഇങ്ങിനെയുള്ളവനായി ഇവനെ അറഞ്ഞിട്ടു നീ അനുശോചിക്കാതിരിക്കുക. <EOS>\\n', 'കൈയ്യൂക്കുള്ളവനെ, ഇനി ഇവനെ നിത്യം ജനിക്കുന്നവനും നിത്യം മരിക്കുന്നവനുമായി നീ വിചാരിക്കുന്നുവെങ്കി\\u200cല്\\u200d തന്നെയും നീ ഇവനെക്കുറിച്ച് ദുഖിക്കേണ്ടതില്ല. <EOS>\\n', 'കൈയ്യൂക്കുള്ളവനെ, ഇനി ഇവനെ നിത്യം ജനിക്കുന്നവനും നിത്യം മരിക്കുന്നവനുമായി നീ വിചാരിക്കുന്നുവെങ്കി\\u200cല്\\u200d തന്നെയും നീ ഇവനെക്കുറിച്ച് ദുഖിക്കേണ്ടതില്ല. <EOS>\\n', 'അബദ്ധധാരണകളോടുകൂടി ചെയ്യപ്പെടുന്നതും സ്വയം പീഡയനുഭവിച്ചോ, അന്യനെ നശിപ്പിക്കുവാനുദ്ദേശിച്ചോ ഉള്ള തപസ്സ് താമസികമെന്നു പറയപ്പെടുന്നു. <EOS>\\n', 'ഒരാള്\\u200d ഇവനെ (ആത്മാവിനെ) ഒരു അത്ഭുതവസ്തു പോലെ കാണുന്നു. മറ്റൊരാള്\\u200d അതുപോലെ അത്ഭുതവസ്തുപോലെ ഇവനെക്കുറിച്ച് പറയുന്നു. വേറൊരാള്\\u200d അത്ഭുതവസ്തു പോലെ ഇവനെക്കുറിച്ച് കേള്\\u200dക്കുകയും ചെയ്യുന്നു. ശ്രവിച്ചിട്ടും ഒരാളും വേണ്ടവണ്ണം ഇവനെ അറിയുന്നില്ല. <EOS>\\n', 'കൈയ്യൂക്കുള്ളവനെ, ഇനി ഇവനെ നിത്യം ജനിക്കുന്നവനും നിത്യം മരിക്കുന്നവനുമായി നീ വിചാരിക്കുന്നുവെങ്കി\\u200cല്\\u200d തന്നെയും നീ ഇവനെക്കുറിച്ച് ദുഖിക്കേണ്ടതില്ല. <EOS>\\n', 'സ്വധ\\u200dര്\\u200dമ്മത്തെക്കുറിച്ച് ആലോചിച്ചിട്ടും നീ കുലുങ്ങേണ്ടതില്ല. എന്തെന്നാല്\\u200d ക്ഷത്രിയന് ധ\\u200dര്\\u200dമ്മ സംഗതമായ യുദ്ധത്തേക്കാള്\\u200d ശ്രേയസ്കരമായി മറ്റൊന്നുമില്ല. <EOS>\\n', 'ഹേ പാര്\\u200dഥ, നീ ഏകാഗ്രചിത്തനായി ഇതെല്ല\\u200dാം കേട്ടുവോ? നിന്റെ അജ്ഞാനവും മോഹവും നഷ്ടമായോ? <EOS>\\n', 'ഇനി ഈ യുദ്ധം നീ ചെയ്യില്ലെങ്കില്\\u200d അത് കാരണം സ്വധ\\u200dര്\\u200dമ്മവും കീര്\\u200dത്തിയും കൈവിട്ടു നീ പാപം സമ്പാദിക്കേണ്ടിവരും. <EOS>\\n', 'മരണസമയത്ത് എന്നെ തന്നെ സ്മരിച്ചുകൊണ്ടു ശരീരം വിട്ടു പോകുന്നവന്\\u200d എന്നെ തന്നെ പ്രാപിക്കുമെന്നതില്\\u200d സംശയമില്ല. <EOS>\\n', 'അ\\u200dര്\\u200dജ്ജുനാ! നീ ഏതൊന്നു ചെയുന്നവോ, ഏതൊന്ന് ഭക്ഷിക്കുന്നുവോ, ഏതൊന്നു ഹോമിക്കുന്നുവോ, ഏതൊന്നു ന\\u200dല്\\u200dകുന്നുവോ, ഏതൊരു തപസ്സുചെയ്യുന്നുവോ അതൊക്കയും എന്നി\\u200dല്\\u200d സമ\\u200dര്\\u200dപ്പിച്ചാലും. <EOS>\\n', 'ഭഗവാന്\\u200d പറഞ്ഞു: ഫലമുദ്ദേശിച്ചുള്ള കര്\\u200dമ്മങ്ങളെ വെടിയലാണ് സന്യാസമെന്നു ജ്ഞാനികള്\\u200d പറഞ്ഞിരിക്കുന്നത്. സകലകര്\\u200dമ്മങ്ങളുടെ ഫലങ്ങളെ ത്യജിക്കുന്നതാണ് ത്യാഗം എന്നു പറയപ്പെടുന്നത്. <EOS>\\n', 'മരിച്ചാല്\\u200d സ്വര്\\u200dഗ്ഗം നേട\\u200dാം, ജയിച്ചാലോ ഭൂമിയെയും അനുഭവിക്ക\\u200dാം. അതുകൊണ്ട് അര്\\u200dജുനാ, യുദ്ധത്തിന് നിശ്ചയിച്ചു നീ എഴുന്നേല്\\u200dക്ക്. <EOS>\\n', 'ഇനി ഈ യുദ്ധം നീ ചെയ്യില്ലെങ്കില്\\u200d അത് കാരണം സ്വധ\\u200dര്\\u200dമ്മവും കീര്\\u200dത്തിയും കൈവിട്ടു നീ പാപം സമ്പാദിക്കേണ്ടിവരും. <EOS>\\n', 'നിനക്കു പറഞ്ഞുതന്നു കഴിഞ്ഞ ജ്ഞാനനിഷ്ഠ സ\\u200dാംഖ്യത്തി ലുള്ളതാണ്. ക\\u200dര്\\u200dമ്മയോഗത്തിനുള്ള ഈ ബുദ്ധിയെയും കേട്ടു കൊള്ളുക. പാര്\\u200dത്ഥ, ഈ ബുദ്ധി നേടിയാല്\\u200d ക\\u200dര്\\u200dമ്മബന്ധം ഒഴിച്ചുവയ്ക്കാന്\\u200d നിനക്കു സാധിക്കും. <EOS>\\n', 'ഈ ക\\u200dര്\\u200dമ്മയോഗനിഷ്ഠയില്\\u200d തുടങ്ങി വെച്ച കര്\\u200dമ്മത്തിനൊന്നും നാശമില്ല. പാപം സംഭവിക്കുകയുമില്ല. ഈ ധ\\u200dര്\\u200dമ്മത്തിന്റെ അത്യല്\\u200dപ്പമായ (വളരെ ചെറിയ തോതിലുള്ള) ആചരണം പോലും വലിയ ഭയത്തില്\\u200d നിന്നും രക്ഷിക്കുന്നു. <EOS>\\n', 'സമചിത്തനായ യോഗി തന്റെ ലക്ഷ്യത്തില്\\u200d എകാഗ്രമനസ്കനാണ്. സമചിത്തരല്ലാത്തവരുടെ ബുദ്ധി ഒന്നും നിശ്ചയിക്കാന്\\u200d കഴിയാതെ പല വിഷയങ്ങളില്\\u200d അനന്തമായി വ്യാപാരിക്കും. <EOS>\\n', 'ഹേ പാര്\\u200dഥ, നീ ഏകാഗ്രചിത്തനായി ഇതെല്ല\\u200dാം കേട്ടുവോ? നിന്റെ ബുദ്ധി ഒന്നും നിശ്ചയിക്കാന്\\u200d കഴിയാതെ പല വിഷയങ്ങളില്\\u200d അനന്തമായി വ്യാപാരിക്കും. <EOS>\\n', 'സ്വർഗ്ഗലോകപ്രാപ്തി, ധന്യമായ പുനർജന്മം, പ്രഭാവം എന്നിവ വേണ്ടി വിവിധ കർമ്മങ്ങൾ ഫലാപേക്ഷയോടെ ചെയ്യാൻ നിർദ്ദേ ശിക്കുന്ന വേദസൂക്തങ്ങളാൽ അല്പബുദ്ധികൾ അത്യന്തം ആസക്ത രാകുന്നു. ഇന്ദ്രിയസുഖപൂർത്തിയേയും ഐശ്വര്യജീവിതത്തേയും ആഗ്രഹിക്കുന്ന അവർ അവയേക്കാൾ ഉത്കൃഷ്ടമായി ഒന്നുമില്ലെന്ന് വാദിക്കുന്നു. <EOS>\\n', 'ഭൗതികൈശ്വര്യത്തിലും സുഖാനുഭവങ്ങളിലും അത്യാസക്തരായവർക്കും ഇവകളാൽ പരിഭ്രാന്തരായവർക്കും ഭക്തിപൂർവ്വം ഭഗവത് സേവനം നടത്താൻ വേണ്ടുന്ന നിശ്ചയദാർഢ്യം ഉണ്ടാവില്ല. <EOS>\\n', 'ധനഞ്ജയാ! യോഗനിഷ്ഠനായി, ആസക്തിവെടിഞ്ഞു ഫലം ലഭിക്കുന്നതിലും ലഭിക്കാതിരിക്കുന്നതിലും സമചിത്തത പാലിച്ച് ക\\u200dര്\\u200dമ്മങ്ങള്\\u200d അനുഷ്ഠിക്കുക. സമചിത്തതയാണ് യോഗമെന്ന് പറയപ്പെടുന്നത്\\u200c. <EOS>\\n', 'അ\\u200dര്\\u200dജ്ജുനാ! എന്റെ മേ\\u200dല്\\u200dനോട്ടത്തി\\u200d\\u200dല്\\u200d പ്രകൃതി സ\\u200dര്\\u200dവചരാചരങ്ങളേയും ജനിപ്പിക്കുന്നു. എന്റെ അദ്ധ്യക്ഷതയാല്\\u200d തന്നെ പ്രപഞ്ചം ഉത്ഭവിക്കുന്നു. <EOS>\\n', 'അ\\u200dര്\\u200dജ്ജുനാ! എന്റെ ഈ സംശയത്തെ നിഃശേഷം അങ്ങു തീര്\\u200dത്തുതരേണ്ടതാണ്. ഈ സംശയം പരിഹരിക്കാന്\\u200d അങ്ങല്ലാതെ മറ്റൊരാള്\\u200d യോഗ്യനായില്ല. <EOS>\\n', 'ധനഞ്ജയാ! യോഗനിഷ്ഠനായി, ആസക്തിവെടിഞ്ഞു ഫലം ലഭിക്കുന്നതിലും ലഭിക്കാതിരിക്കുന്നതിലും സമചിത്തത പാലിച്ച് ക\\u200dര്\\u200dമ്മങ്ങള്\\u200d അനുഷ്ഠിക്കുക. സമചിത്തതയാണ് യോഗമെന്ന് പറയപ്പെടുന്നത്\\u200c. <EOS>\\n', 'ധനഞജയാ, കര്\\u200dമയോഗത്തെക്കാള്\\u200d വളരെ നികൃഷ്ടമാണ് ഫലാപേക്ഷയോടുകൂടി ചെയ്യുന്ന ക\\u200dര്\\u200dമ്മം. ബുദ്ധിയോഗത്തില്\\u200d അതായത് സമചിത്തതയോട് കൂടിയ ക\\u200dര്\\u200dമ്മത്തില്\\u200d ശരണം തേടുക. ഫലത്തിനുവേണ്ടി ക\\u200dര്\\u200dമ്മം ചെയ്യുന്നവ\\u200dര്\\u200d ദീനന്മാരാണ്. <EOS>\\n', 'സമബുദ്ധിയുള്ളവന്\\u200d ഈ ലോകത്ത് വച്ചുതന്നെ പുണ്യ പാപങ്ങള്\\u200d രണ്ടും ത്യജിക്കുന്നു. അതുകൊണ്ട് കര്\\u200dമ്മയോഗത്തിനായി ഒരുങ്ങുക. യോഗം പ്രവൃത്തിയിലുള്ള സാമര്\\u200dത്ഥ്യം തന്നെയാകുന്നു. <EOS>\\n', 'സമബുദ്ധിയുള്ളവരായ വിവേകികള്\\u200d ക\\u200dര്\\u200dമ്മം കൊണ്ടുണ്ടാകുന്ന ഫലം ത്യജിച്ചിട്ടു ജന്മബന്ധത്തില്\\u200dനിന്നു മോചനം നേടി ദോഷലേശമില്ലാത്ത സ്ഥാനത്തെ പ്രാപിക്കുന്നു. <EOS>\\n', 'എപ്പോള്\\u200d നിന്റെ ബുദ്ധി മോഹരൂപമായ വൈഷമ്യത്തെ കടക്കുമോ അപ്പോള്\\u200d കേള്\\u200dക്കേണ്ടതിനെയും കേട്ടതിനെയും കുറിച്ചു നീ ഉദാസീനനായിത്തീരും. <EOS>\\n', 'പലതരം ഉപദേശങ്ങള്\\u200d കേട്ടതു മൂലം പതറിപ്പോയ നിന്റെ ബുദ്ധി എപ്പോള്\\u200d ഇളക്കമറ്റ് സമാധിയില്\\u200d സ്ഥിരമായി നില്\\u200dക്കുമോ അപ്പോള്\\u200d യോഗത്തെ നീ പ്രാപിക്കും. <EOS>\\n', 'ഹേ ഭഗവ\\u200dന്\\u200d! അങ്ങ് ആദിദേവനും പുരാണപുരുഷനും ആകുന്നു. അങ്ങ് ലോകത്തിന്റെ പരമമായ ആധാരമാകുന്നു. അറിയുന്നവനും, അറിയപ്പെടേണ്ടവനും പരമമായ ലക്ഷ്യവും അങ്ങു തന്നെ. അനന്തരൂപനായ അങ്ങയാല്\\u200d ഈ ലോകം വ്യാപ്തമായിരിക്കുന്നു. <EOS>\\n', 'ശ്രീ ഭഗവാന്\\u200d പറഞ്ഞു: ഹേ പാര്\\u200dത്ഥ, മനുഷ്യന്\\u200d എപ്പോള്\\u200d ആത്മാവിനാല്\\u200d ആത്മാവില്\\u200dത്തന്നെ സന്തുഷ്ടനായി മനസ്സിലുള്ള എല്ലാ ആഗ്രഹങ്ങളേയും (വാസനകളേയും) ഉപേക്ഷിക്കുന്നുവോ, അപ്പോള്\\u200d അവന്\\u200d സ്ഥിതപ്രജഞന്\\u200d എന്ന് പറയപ്പെടുന്നു. <EOS>\\n', 'മരണസമയത്ത് എന്നെ തന്നെ സ്മരിച്ചുകൊണ്ടു ശരീരം വിട്ടു പോകുന്നവന്\\u200d എന്നെ തന്നെ പ്രാപിക്കുമെന്നതില്\\u200d സംശയമില്ല. <EOS>\\n', 'ഏതൊരാള്\\u200d എല്ലാത്തിലും ആസക്തി വിട്ടവനായി അതാതു ശുഭാശുഭങ്ങള്\\u200d ലഭിച്ചു സന്തോഷിക്കുകയും ദ്വേഷിക്കുകയും ചെയ്യുന്നില്ലയോ അവന്റെ പ്രജഞ പ്രതിഷ്ഠിതമാണ്. <EOS>\\n', 'ആമ തന്റെ അവയവങ്ങളെ പ്രതികൂലസാഹചര്യങ്ങളി\\u200dല്\\u200d എങ്ങിനെ എല്ലാവിധത്തിലും ഉ\\u200dള്\\u200dവലിക്കുന്നവോ, അതുപോലെ എപ്പോഴാണോ ഒരാള്\\u200d തന്റെ ഇന്ദ്രിയങ്ങളെ ശബ്ദസ്പ\\u200dര്\\u200dശാദികളായ ഇന്ദ്രിയാ\\u200dര്\\u200dത്ഥങ്ങളി\\u200dല്\\u200dനിന്ന് എപ്പോള്\\u200d പിന്\\u200dവലിക്കുന്നത് അപ്പോള്\\u200d അവന്റെ പ്രജഞ പ്രതിഷ്ഠിതമായിത്തീരുന്നു. <EOS>\\n', 'ഇന്ദ്രിയങ്ങള്\\u200d കൊണ്ടു വിഷയങ്ങള്\\u200d അനുഭവിക്കാത്ത മനുഷ്യന് വിഷയങ്ങള്\\u200d അകന്നു പോകുന്നു. എന്നാല്\\u200d ആസക്തി അവശേഷിക്കുന്നു. പരമാത്മാവിനെ പ്രാപിക്കുമ്പോള്\\u200d അവന്റെ ആസക്തിയും വിട്ടുപോകുന്നു. <EOS>\\n', 'ബ്രഹ്മത്തിൽ മനസ്സുന്നിയവരും ബ്രഹ്മതാദാത്മ്യം ബ്രഹ്മനിഷ്ഠരും ബ്രഹ്മത്തെക്കുറിച്ചല്ലാതെ മറ്റൊരു ചിന്തയില്ലാത്തവരു മായവർ ജ്ഞാനത്താല് പാപമകന്നു മോക്ഷപദത്തെ പ്രാപിക്കുന്നു. <EOS>\\n', 'അവയെല്ല\\u200dാം സംയമനം ചെയ്തു യോഗയുക്തനായി എന്നില്\\u200d ഭക്തിയോടുകൂടി ഇരിക്കുക. ആര്\\u200dക്കു ഇന്ദ്രിയങ്ങള്\\u200d വശത്താണോ അവന്റെ പ്രജഞ പ്രതിഷ്ഠിതമാണ്. <EOS>\\n', 'വിഷയങ്ങളെ ധ്യാനിക്കുന്ന പുരുഷന്നു അവയില്\\u200d ആസക്തി ഉണ്ടാകുന്നു. ആസക്തിയില്\\u200dനിന്നും ആഗ്രഹം ഉണ്ടാകുന്നു. ആഗ്രഹത്തില്\\u200d നിന്നും കോപം ജനിക്കുന്നു.  <EOS>\\n', 'കോപത്തില്\\u200dനിന്നും അവിവേകം ഉടലെടുക്കുന്നു. അവിവേകത്തില്\\u200dനിന്നും ഓ\\u200dര്\\u200dമ്മക്കേടും ഓ\\u200dര്\\u200dമ്മക്കേടില്\\u200dനിന്നും ബുദ്ധിനാശവും ഉണ്ടാകുന്നു. ബുദ്ധിനാശം മൂലം മനുഷ്യന്\\u200d നശിക്കുകയും ചെയ്യുന്നു. <EOS>\\n', 'ഈ ലോകത്തില്\\u200d ജ്ഞാനം പോലെ പവിത്രമായി ഒന്നും തന്നെയില്ല തന്നെ. അവയെല്ല\\u200dാം എനിക്കറിയ\\u200dാം. നീ അറിയുന്നില്ല. <EOS>\\n', 'മനഃ പ്രസാദം ലഭിച്ചുകഴിയുമ്പോള്\\u200d അവനു എല്ലാ ദുഃഖങ്ങളുടെയും നാശം സംഭവിക്കുന്നു. പ്രസന്നചിത്തന്റെ ബുദ്ധി ഉടനെ സുപ്രതിഷ്ഠിതമായിത്തീരുകയും ചെയ്യുന്നു. <EOS>\\n', 'ഇന്ദ്രിയങ്ങളെ വശത്താക്കാത്തവന് സമബുദ്ധിയില്ല. ഏകാഗ്രതയുമില്ല. ഏകാഗ്രതയില്ലാത്തവന്നു ശാന്തിയില്ല. ശന്തിയില്ലാത്തവന്നു എവിടെയാണ് സുഖം? <EOS>\\n', 'ഭഗവാന്\\u200d പറഞ്ഞു: യാതൊന്നിനെ അറിഞ്ഞിട്ടാണോ മുനിമാര്\\u200d പരമസിദ്ധിയടയുന്നത് ജ്ഞാനങ്ങളില്\\u200d വെച്ച് ഏറ്റവും ഉത്തമവും പരമവുമായ ആ ജ്ഞാനത്തെ ഞാന്\\u200d വീണ്ടും പറയ\\u200dാം. <EOS>\\n', 'അതുകൊണ്ട് യാതൊരുവന്റെ ഇന്ദ്രിയങ്ങള്\\u200d എല്ലാ വിഷയങ്ങളില്\\u200d നിന്നും നിശ്ശേഷം പിന്\\u200dവലിക്കപ്പെട്ടിരിക്കുന്നുവോ അവന്റെ പ്രജഞ പ്രതിഷ്ഠിതമായിരിക്കുന്നു. <EOS>\\n', 'സത്കാരം, അന്തസ്സ്, ബഹുമതി എന്നിവയ്ക്കുവേണ്ടി ഡംഭോടുകൂടി ചെയ്യപ്പെടുന്നതും, ചഞ്ചലവും, അസ്ഥിരവുമായ തപസ്സ് രാജസികമെന്നു പറയപ്പെടുന്നു. <EOS>\\n', 'സദാ നിറഞ്ഞുകൊണ്ടിരുന്നാലും സമുദ്രം അക്ഷോഭ്യമായിരി ക്കുന്നുവോ അതുപോലെ കാമങ്ങള്\\u200d കടന്നുകൂടിമ്പോള്\\u200d യാതൊരുവന്\\u200d അക്ഷോഭ്യനായിരിക്കുന്നുവോ അവന്\\u200d ശാന്തിയെ പ്രാപിക്കും. വിഷയാഭിനിവേശം വിടാത്തവന്\\u200d ശാന്തി നേടുന്നില്ല. <EOS>\\n', 'ഹേ പാണ്ഡുപുത്ര! യാതൊരുത്ത\\u200dന്\\u200d എന്നെ ഉദ്ദേശിച്ചു ക\\u200dര്\\u200dമ്മം ചെയ്യുന്നവനും, എന്നെ പ്രാപ്യസ്ഥാനമായി വിചാരിക്കുന്നവനും, എന്നി\\u200d\\u200dല്\\u200d ഭക്തിയുള്ളവനും, സംഗം വിട്ടവനും, സ\\u200cര്\\u200dവജീവികളിലും വൈരമില്ലാത്തവനും ആയിരിക്കുന്നുവോ അവ\\u200dന്\\u200d എന്നെ പ്രാപിക്കുന്നു. <EOS>\\n', 'ഇപ്രകാരം എപ്പോഴും യോഗമഭ്യസിക്കുന്നവനും പാപമറ്റവനുമായ യോഗി നിഷ്പ്രയാസം ആത്യന്തികമായ ബ്രഹ്മാനന്ദം അനുഭവിക്കുന്നു. <EOS>\\n', 'അര്\\u200dജുനന്\\u200d പറഞ്ഞു: ഹേ ജനാ\\u200dര്\\u200dദ്ദനാ, ക\\u200d\\u200d\\u200dര്\\u200dമ്മത്തെ അപേക്ഷിച്ച് കര്\\u200dമ്മയോഗമാണ് ശ്രേഷ്ടമെന്നു അങ്ങേയ്ക്ക് അഭിപ്രായമുണ്ടെങ്കില്\\u200d പിന്നെ എന്തിനാണ് ഘോരമായ ഈ ക\\u200d\\u200d\\u200dര്\\u200dമ്മത്തില്\\u200d എന്നെ നിയോഗിക്കുന്നത്? <EOS>\\n', 'പരസ്പരവിരുദ്ധമെന്ന് തോന്നുന്ന വാക്കുകള്\\u200d കൊണ്ട് എന്റെ ബുദ്ധിയെ അങ്ങ് ഭ്രമിപ്പിക്കുന്നതുപൊലെ തോന്നുന്നു. അതുകൊണ്ട് ഏതൊന്നുക്കൊണ്ടു ഞാന്\\u200d ശ്രേയസ്സ് നേടുമോ അതുമാത്രം എനിക്ക് ഉപദേശിച്ചു തരിക. <EOS>\\n', 'ശ്രീ ഭഗവാന്\\u200d പറഞ്ഞു: ഹേ അനഘ (പാപങ്ങളില്ലാത്തവന്\\u200d), ഈ ലോകത്തില്\\u200d സംഖ്യന്മാര്\\u200dക്ക് വേണ്ടി ജഞാനയോഗം കൊണ്ടും യോഗികള്\\u200dക്കു വേണ്ടി ക\\u200d\\u200d\\u200dര്\\u200dമ്മയോഗം കൊണ്ടും രണ്ടുവിധം നിഷ്ഠകള്\\u200d മുമ്പ് ഞാന്\\u200d പറഞ്ഞു. <EOS>\\n', 'ഈ ആത്മാവിനെ ആയുധങ്ങള്\\u200d മുറിവ് ഏല്\\u200dപ്പിക്കുന്നില്ല. ഇവനെ തീ ദാഹിപ്പിക്കുന്നില്ല. ഇവനെ വെള്ളം നനയ്ക്കുന്നില്ല. കാറ്റ് ഉണക്കുന്നുമില്ല. <EOS>\\n', 'അ\\u200dര്\\u200dജ്ജുനാ! സൃഷ്ടിവ\\u200dര്\\u200dഗ്ഗങ്ങളില്\\u200d ഉല്പത്തിസ്ഥിതിലയങ്ങ\\u200dള്\\u200d ഞാനാണ്. വിദ്യകളില്\\u200d അദ്ധ്യാത്മവിദ്യയും പരസ്പര സംഭാഷണങ്ങളി\\u200d\\u200dല്\\u200d വാദവും ഞാ\\u200dന്\\u200d തന്നെ. <EOS>\\n', 'ക\\u200d\\u200d\\u200d\\u200dര്\\u200dമ്മേന്ദ്രിയങ്ങ\\u200dളെ അടക്കിനിര്\\u200dത്തി യാതൊരുവന്\\u200d വിഷയങ്ങളെ മനസ്സുകൊണ്ട് സദാ സ്മരിച്ചുകൊണ്ടിരിക്കുന്നുവോ മൂഡാത്മാവായ അവന്\\u200d മിഥ്യാചാരന്\\u200d എന്ന് പറയപ്പെടുന്നു <EOS>\\n', 'അര്\\u200dജുനാ, യാതൊരുവന്\\u200d ഇന്ദ്രിയങ്ങളെ മനസ്സുകൊണ്ട് അടക്കിനിര്\\u200dത്തിയിട്ടു ക\\u200d\\u200d\\u200d\\u200dര്\\u200dമ്മേന്ദ്രിയങ്ങളെക്കൊണ്ട് നിഷ്ക്കാമക\\u200d\\u200d\\u200dര്\\u200dമ്മ ആരംഭിക്കുന്നുവോ അവന്\\u200d ശ്രേഷ്ഠനാകുന്നു. <EOS>\\n', 'നീ മനസ്സിനാല്\\u200d നിയന്ത്രിതമായ ക\\u200d\\u200d\\u200dര്\\u200dമ്മം ചെയ്യുക. എന്തുകൊണ്ടെന്നാല്\\u200d ക\\u200d\\u200d\\u200dര്\\u200dമ്മമാണ് അകര്\\u200dമത്തെക്കാള്\\u200d ശ്രേഷ്ഠം. ക\\u200d\\u200d\\u200dര്\\u200dമ്മം ചെയ്യാത്ത പക്ഷം നിനക്കു ശരീരനിര്\\u200dവഹണം പോലും സാധ്യമാകയില്ല. <EOS>\\n', 'അ\\u200dര്\\u200dജ്ജുനാ! എന്റെ മേ\\u200dല്\\u200dനോട്ടത്തി\\u200d\\u200dല്\\u200d പ്രകൃതി സ\\u200dര്\\u200dവചരാചരങ്ങളേയും ജനിപ്പിക്കുന്നു. എന്റെ അദ്ധ്യക്ഷതയാല്\\u200d തന്നെ പ്രപഞ്ചം ഉത്ഭവിക്കുന്നു. <EOS>\\n', 'യജ്ഞത്തോടുകൂടി പ്രജകളെ സൃഷ്ടിച്ച് പണ്ട് പ്രജാപതി പറഞ്ഞു, ഇതുകൊണ്ടു നിങ്ങള്\\u200d വ\\u200dര്\\u200dദ്ധിക്കുവി\\u200dന്\\u200d\\u200d; ഇതു നിങ്ങള്\\u200dക്ക് ഇഷ്ടം തരുന്ന കാമധേനുവായിരിക്കട്ടെ. <EOS>\\n', 'ദേവന്മാരെ ഇതുകൊണ്ടു ആരാധിക്കുവി\\u200dന്\\u200d. ആ ദേവന്മാര്\\u200d നിങ്ങളെ വ\\u200dര്\\u200dദ്ധിപ്പിക്കട്ടെ. പരസ്പരം തൃപ്തിപ്പെടുത്തി കൊണ്ടു പരമമായ ശ്രേയസ്സിനെ പ്രാപിക്കുവി\\u200dന്\\u200d. <EOS>\\n', 'എന്തെന്നാല്\\u200d ഇഷ്ടപ്പെടുന്ന സുഖങ്ങള്\\u200d നിങ്ങള്\\u200dക്ക് യജ്ഞംകൊണ്ടു സന്തുഷ്ടരായ ദേവന്മാര്\\u200d തരും. അവര്\\u200d തന്ന വസ്തുക്കളെ അവ\\u200c\\u200dര്\\u200dക്കു കൊടുക്കാതെ ഭുജിക്കുന്നവനാരോ അവന്\\u200d കള്ളന്\\u200dതന്നെയാണ്. <EOS>\\n', 'യജ്ഞത്തില്\\u200d ശേഷിക്കുന്നത് മാത്രം യജ്ഞം ചെയ്തു ശേഷിച്ചതായ വസ്തുക്കളെ നുഭവിക്കുന്ന സജ്ജനങ്ങള്\\u200d എല്ലാ പാപങ്ങളില്\\u200d നിന്നും മുക്തി നേടുന്നു. എന്നാ\\u200cല്\\u200dതങ്ങള്\\u200dക്കുവേണ്ടിത്തന്നെ ഭോഗസഞ്ചയം ചെയ്യുന്നവ\\u200dര്\\u200d പാപത്തെത്തന്നെ ഭുജിക്കുകയാണ്. <EOS>\\n', 'അന്നത്തില്\\u200dനിന്നു ഭൂതങ്ങള്\\u200d ഉണ്ടാകുന്നു. മഴയില്\\u200dനിന്നു അന്നവും ഉദ്ഭവിക്കുന്നു. യജ്ഞത്തില്\\u200d നിന്നു മഴയുണ്ടാകുന്നു. യജ്ഞം ക\\u200d\\u200d\\u200dര്\\u200dമ്മത്തില്\\u200dനിന്നുണ്ടാകുന്നു. <EOS>\\n', 'ഹേ ഭാരത, ഇപ്രകാരം ഞാനുപദേശിച്ച തികച്ചും രഹസ്യമായ ഈ ശാസ്ത്രത്തെ അറിയുന്നവന്\\u200d ബുദ്ധിമാനായും കൃതകൃത്യനായും (ചെയ്യേണ്ടതെല്ല\\u200dാം ചെയ്തു തീര്\\u200dത്തവന്\\u200d) ഭവിക്കുന്നു. <EOS>\\n', 'ഹേ ഭാരത, എല്ലാവരുടെയും ശ്രദ്ധ അവരവരുടെ ശ്രദ്ധയെ ആശ്രയിച്ചിരിക്കുന്നു. ഈ മനുഷ്യന്\\u200d ശ്രദ്ധാമയനാണ്. ഒരുവന്റെ ശ്രദ്ധ ഏതാണോ അവന്\\u200d ആ തരത്തിലുള്ളവനായിരിക്കും. <EOS>\\n', 'സ്വധ\\u200dര്\\u200dമ്മത്തെക്കുറിച്ച് ആലോചിച്ചിട്ടും നീ കുലുങ്ങേണ്ടതില്ല. എന്തെന്നാല്\\u200d ക്ഷത്രിയന് ധ\\u200dര്\\u200dമ്മ സംഗതമായ യുദ്ധത്തേക്കാള്\\u200d ശ്രേയസ്കരമായി മറ്റൊന്നുമില്ല. <EOS>\\n', 'കര്\\u200dമ്മങ്ങളെയെല്ല\\u200dാം ദോഷമായികണ്ട് ത്യജിക്കണമെന്ന് ചില വിദ്വാന്മാര്\\u200d പറയുന്നു. യജ്ഞം, ദാനം, തപസ്സ് എന്നീ കര്\\u200dമ്മങ്ങളെ ത്യജിക്കരുതെന്ന് വേറെ ചിലര്\\u200d പറയുന്നു. <EOS>\\n', ' ഒരേവിധം കൈക്കൊണ്ട് അസത്സംഗത്തിൽ നിന്ന് എല്ലായ്പ്പോഴും മുക്തനും മൗനിയും ജ്ഞാനത്തിലുറച്ചവനും സദാ സംതൃപ്തനുമായി, ഗാർഹികബോധമുപേക്ഷിച്ച് ഭക്തിയുത സേവനത്തിലേർപ്പെട്ടിരിക്കുന്ന ഭക്തൻ എനിക്കെത്രയും പ്രിയപ്പെട്ടവനാണ്. <EOS>\\n', 'എന്തുകൊണ്ടെന്നാല്\\u200d ക\\u200d\\u200d\\u200dര്\\u200dമ്മം കൊണ്ടുതന്നെയാണ് ജനകാദികള്\\u200d സിദ്ധിയെ പ്രാപിച്ചത്. ലോകസംരക്ഷണത്തെ ഓര്\\u200dത്തിട്ടായാലും നീ പ്രവര്\\u200dത്തിക്കേണ്ടതാണ്. <EOS>\\n', 'ശ്രേഷ്ഠന്\\u200d എന്തെല്ല\\u200dാം ചെയ്യുന്നുവോ അതു തന്നെയാണ് മറ്റുള്ള ജനങ്ങളും ചെയ്യുന്നത്. അവന്\\u200d എന്തിനെ പ്രമാണമായി കരുതുന്നുവോ ലോകവും അതിനെതന്നെ അനുകരിക്കുന്നു. <EOS>\\n', 'ഹേ ഭരതർഷഭാ, ബദ്ധനായ ജീവാത്മാവ് ആസ്വദിക്കുകയും ആ ആസ്വാദനത്തിലൂടെ ചിലപ്പോൾ സകല ക്ലേശങ്ങളിൽ നിന്നും മുക്തി നേടുകയും ചെയ്യുന്ന സുഖത്തെപ്പറ്റി ഇനി പറയാം. ഇത് മൂന്നു വിധ ത്തിലുണ്ട്. <EOS>\\n', 'എവര്\\u200d എങ്ങിനെ എന്നെ ഭജിക്കുന്നുവോ അവരെ അതേവിധം തന്നെ ഞാന്\\u200d അനുഗ്രഹിക്കുന്നു. ഹേ പാര്\\u200dത്ഥ, എങ്ങും മനുഷ്യര്\\u200d എന്റെ മാര്\\u200dഗത്തെ പിന്തുടരുന്നു. <EOS>\\n', 'ഞാന്\\u200d കര്\\u200dമ്മം ചെയ്തില്ലെങ്കില്\\u200d ഈ ലോകം മുഴുവന്\\u200d നശിക്കും. ഞാന്\\u200d വര്\\u200dണസങ്കരത്തിന്റെയും കര്\\u200dത്താവാകും. പ്രജകള്\\u200d ദുഷിക്കുകയും ചെയ്യും. <EOS>\\n', 'ശ്രീ ഭഗവാന്\\u200d പറഞ്ഞു: ഹേ പാണ്ഡുപുത്രാ, പ്രകാശത്തി ന്റേയോ ആസക്തിയുടേയോ വ്യാമോഹത്തിന്റേയോ സാന്നിദ്ധ്യത്തിൽ ആർക്ക് വെറുപ്പ് ഉണ്ടാകുന്നില്ലയോ, <EOS>\\n', 'എവര്\\u200d എങ്ങിനെ എന്നെ ഭജിക്കുന്നുവോ അവരെ അതേവിധം തന്നെ ഞാന്\\u200d അനുഗ്രഹിക്കുന്നു. ഹേ പാര്\\u200dത്ഥ, എങ്ങും മനുഷ്യര്\\u200d എന്റെ മാര്\\u200dഗത്തെ പിന്തുടരുന്നു. <EOS>\\n', 'പ്രകൃതിജന്യമായ ഗുണങ്ങളാല്\\u200d ക\\u200dര്\\u200dമ്മങ്ങള്\\u200d എങ്ങും ചെയ്യപ്പെടുന്നു. അഹന്തയാല്\\u200d മോഹിതനായവാന്\\u200d താനാണ് കര്\\u200dത്താവെന്നു വിചാരിക്കുന്നു. <EOS>\\n', 'ഹേ അര്\\u200dജുനാ, കഴിഞ്ഞതും ഇപ്പോഴുള്ളതും ഇനിയുണ്ടാകുന്നതുമായ ജീലജാലങ്ങളെയും ഞാനറിയുന്നു. എന്നാല്\\u200d എന്നെയാകട്ടെ ഒരുത്തരും അറിയുന്നില്ല. <EOS>\\n', 'ഹേ കൗന്തേയ, ദോഷമുള്ളതാണെങ്കിലും സ്വധര്\\u200dമ്മത്തെ ഉപേക്ഷിക്കരുത്. തീ പുക കൊണ്ടെന്ന പോലെ എല്ലാ കര്\\u200dമ്മങ്ങളും ദോഷങ്ങളാല്\\u200d ആവൃതമാണ്. <EOS>\\n', 'സര്\\u200dവക\\u200dര്\\u200dമ്മങ്ങളും എന്നില്\\u200d സമര്\\u200dപ്പിച്ചു ആധ്യാത്മിക ബുദ്ധിയോടെ നിഷ്കാമനും നി\\u200dര്\\u200dമ്മമനുമായി ഭവിച്ചിട്ടു ദുഃഖം കളഞ്ഞു നീ യുദ്ധം ചെയ്യുക. <EOS>\\n', ' ദിവ്യങ്ങളായ പുഷ്പമാല്യങ്ങളും വസ്ത്രങ്ങളും അണിഞ്ഞിരുന്നു. ദിവ്യങ്ങളായ ഗന്ധദ്രവ്യങ്ങൾ ശരീരത്തിൽ പൂശി യിരുന്നു. അദ്ഭുതാവഹവും തേജോമയവും അമേയവും സർവ്വവ്യാ പവുമായിരുന്നു ആ രൂപം. <EOS>\\n', 'ഞാന്\\u200d ഭൂതങ്ങളിലെല്ല\\u200dാം സമഭാവത്തോടുകൂടിയാണ് വ\\u200dര്\\u200dത്തിക്കുന്നത്. എനിക്കു ശത്രുവില്ല. ഇഷ്ടനുമില്ല. എന്നാ\\u200dല്\\u200d ഭക്തിയോടുകൂടി ഭജിക്കുന്നവര്\\u200d എന്നിലും ഞാന്\\u200d അവരിലുമുണ്ട്. <EOS>\\n', 'ശ്രീ ഭഗവാന്\\u200d പറഞ്ഞു: ഹേ പാര്\\u200dത്ഥ, അവനു ഈ ലോകത്തില്\\u200d സംഖ്യന്മാര്\\u200dക്ക് വേണ്ടി ജഞാനയോഗം കൊണ്ടും യോഗികള്\\u200dക്കു വേണ്ടി ക\\u200d\\u200d\\u200dര്\\u200dമ്മയോഗം കൊണ്ടും രണ്ടുവിധം നിഷ്ഠകള്\\u200d മുമ്പ് ഞാന്\\u200d പറഞ്ഞു. <EOS>\\n', 'ഓരോ ഇന്ദ്രിയത്തിന്റെയും അതതിന്റെ വിഷയങ്ങളുടെ കാര്യത്തില്\\u200d രാഗദ്വേഷങ്ങള്\\u200d നിശ്ചിതങ്ങളാണ്. അവയ്ക്ക് വശപ്പെടരുത്. എന്തുകൊണ്ടെന്നാല്\\u200d അവ ഇവന്റെ ശത്രുക്കളാകുന്നു. <EOS>\\n', 'വിധിപ്രകാരം അനുഷ്ഠിച്ച പരധ\\u200dര്\\u200dമ്മത്തെക്കളും ഗുണഹീനമായ സ്വധ\\u200dര്\\u200dമ്മമാണ് ശ്രേയസ്ക്കരം. സ്വധ\\u200dര്\\u200dമ്മാനുഷ്ഠാനത്തില്\\u200d സംഭവിക്കുന്ന മരണവും ശ്രേയസ്ക്കരമാണ്. പരധ\\u200dര്\\u200dമ്മം ഭയാവഹമാകുന്നു. <EOS>\\n', 'ഈശ്വരൻ ആരുടേയും പാപവും സുകൃതവും സ്വീകരിക്കുന്നില്ല. ജ്ഞാനം അജ്ഞാനത്താൽ മറയ്ക്കപ്പെട്ടിരിക്കുന്നതുകൊണ്ട് ജീവികൾ മോഹത്തിലാണ്ടുപോകുന്നു. <EOS>\\n', ' അഹിംസ, സത്യം, ക്രോധമില്ലായ്മ, ത്യാഗം, ശാന്തി, പരദൂഷണത്തിൽ വെറുപ്പ്, സർവ്വജീവി കളോടും കാരുണ്യം, ലോഭമില്ലായ്മ, മൃദുല സ്വഭാവം, വിനയം, സ്ഥിര നിശ്ചയം, <EOS>\\n', 'പുകയാല്\\u200d അഗ്നിയും, മാലിന്യത്താല്\\u200d കണ്ണാടിയും, ഗര്\\u200dഭപാത്രത്താല്\\u200d ഗര്\\u200dഭവും എങ്ങിനെ ആവരണം ചെയ്യപ്പെട്ടിരിക്കുന്നുവോ അതുപോലെ ആ കാമത്താല്\\u200d ഈ ജ്ഞാനം ആവൃതമായിരിക്കുന്നു. <EOS>\\n', 'അ\\u200dര്\\u200dജ്ജുനാ! ഞാ\\u200dന്\\u200d സ\\u200dര്\\u200dവഭൂതങ്ങളുടേയും അന്തരംഗത്തി\\u200dല്\\u200d സ്ഥിതിചെയ്യുന്ന പരമാത്മാവാണ്. സ\\u200dര്\\u200dവചരാചരങ്ങളുടെയും ആദിയും മദ്ധ്യവും അന്തവും ഞാനാണ്. <EOS>\\n', 'ഹേ കൗന്തേയ, രജസ്സിന്റെ സ്വഭാവം രാഗമാണെന്നറിയൂ. അത് തൃഷ്ണ (ആഗ്രഹം) യെയും സംഗത്തെയും ജനിപ്പിക്കുകയും കര്\\u200dമ്മത്തോടുള്ള സംഗത്താല്\\u200d ദേഹിയെ ബന്ധിക്കുകയും ചെയ്യുന്നു. <EOS>\\n', 'ശ്രീ ഭഗവാന്\\u200d പറഞ്ഞു: ഹേ പാണ്ഡുപുത്രാ, പ്രകാശത്തി ന്റേയോ ആസക്തിയുടേയോ വ്യാമോഹത്തിന്റേയോ സാന്നിദ്ധ്യത്തിൽ ആർക്ക് വെറുപ്പ് ഉണ്ടാകുന്നില്ലയോ, <EOS>\\n', 'വിഷയങ്ങളെ അപേക്ഷിച്ച് ഇന്ദ്രിയങ്ങള്\\u200d സൂക്ഷ്മങ്ങളാണ് എന്ന് പറയപ്പെടുന്നു. ഇന്ദ്രിയങ്ങളെക്കാള്\\u200d സൂക്ഷ്മമാണ് മനസ്സ്. മനസ്സിനെക്കാളും സൂക്ഷ്മമാണ്\\u200c ബുദ്ധി. ബുദ്ധിയെക്കാളും സൂക്ഷ്മമായത് ആത്മാവാണ്. <EOS>\\n', 'ഹേ മഹാബാഹോ, എല്ലാ കര്\\u200dമ്മങ്ങളുടെ സിദ്ധിയ്ക്കായി സ\\u200dാംഖ്യത്തില്\\u200d പറഞ്ഞിരിക്കുന്ന അഞ്ചു ഘടകങ്ങള്\\u200d കേട്ടാലും. <EOS>\\n', 'ശ്രീ ഭഗവാന്\\u200d പറഞ്ഞു: അര്\\u200dജുനാ, എന്റെ വളരെയേറെ ജന്മങ്ങള്\\u200d കഴിഞ്ഞു പോയി. നിനക്കും അങ്ങനെ തന്നെ. അവയെല്ല\\u200dാം എനിക്കറിയ\\u200dാം. നീ അറിയുന്നില്ല. <EOS>\\n', 'ശത്രുനാശകാ, ഇപ്രകാരം പരമ്പാരാഗതമായ ഈ യോഗത്തെ രാജ\\u200dര്\\u200dഷികള്\\u200d അറിഞ്ഞിരുന്നു. ആ മഹത്തായ ശാസ്ത്രം വലുതായ കാലദൈര്\\u200dഘ്യത്തില്\\u200d നഷ്ടപ്പെട്ടുപോയി. <EOS>\\n', 'അപ്രകാരമുള്ള ആ പുരാതനമായ യോഗം തന്നെയാണ് നീ എന്റെ ഭക്തനും, തോഴനുമായതു കൊണ്ട് നിനക്കു ഞാന്\\u200d ഇന്നു ഉപദേശിച്ചത്. ഈ യോഗം ഉത്തമമായ രഹസ്യമാണ്. <EOS>\\n', 'സഞ്ജയന്\\u200d പറഞ്ഞു: അങ്ങനെ മനസ്സലിഞ്ഞവനും, കണ്ണീര്\\u200d നിറഞ്ഞ കണ്ണുകളോടുകൂടിയവനും ദുഃഖിക്കുന്നവനുമായ അര്\\u200dജുനനോടു ശ്രീകൃഷ്ണന്\\u200d ഇപ്രകാരം പറഞ്ഞു. <EOS>\\n', 'ശ്രീ ഭഗവാന്\\u200d പറഞ്ഞു: അര്\\u200dജുനാ, എന്റെ വളരെയേറെ ജന്മങ്ങള്\\u200d കഴിഞ്ഞു പോയി. നിനക്കും അങ്ങനെ തന്നെ. അവയെല്ല\\u200dാം എനിക്കറിയ\\u200dാം. നീ അറിയുന്നില്ല. <EOS>\\n', 'എന്തുകൊണ്ടെന്നാല്\\u200d ക\\u200d\\u200d\\u200dര്\\u200dമ്മം കൊണ്ടുതന്നെയാണ് ജനകാദികള്\\u200d സിദ്ധിയെ പ്രാപിച്ചത്. ലോകസംരക്ഷണത്തെ ഓര്\\u200dത്തിട്ടായാലും നീ പ്രവര്\\u200dത്തിക്കേണ്ടതാണ്. <EOS>\\n', 'ഹേ ഭാരതാ, എപ്പോഴെല്ല\\u200dാം ധ\\u200dര്\\u200dമ്മത്തിനു തളര്\\u200dച്ചയും അധ\\u200dര്\\u200dമ്മത്തിനു ഉയര്\\u200dച്ചയും സംഭവിക്കുന്നുവോ അപ്പോഴെല്ല\\u200dാം ഞാന്\\u200d സ്വയം അവതരിക്കുന്നു. <EOS>\\n', 'ഹേ മഹാബാഹോ, എല്ലാ കര്\\u200dമ്മങ്ങളുടെ സിദ്ധിയ്ക്കായി സ\\u200dാംഖ്യത്തില്\\u200d പറഞ്ഞിരിക്കുന്ന അഞ്ചു ഘടകങ്ങള്\\u200d കേട്ടാലും. <EOS>\\n', 'ഹേ മഹാബാഹോ, എല്ലാ കര്\\u200dമ്മങ്ങളുടെ സിദ്ധിയ്ക്കായി സ\\u200dാംഖ്യത്തില്\\u200d പറഞ്ഞിരിക്കുന്ന അഞ്ചു ഘടകങ്ങള്\\u200d കേട്ടാലും. <EOS>\\n', 'രാഗം, ഭയം, കോപം ഇവ കൈവിട്ടവരും എന്റെ ഭക്തന്മാരും എന്നെ ആശ്രയിച്ചവരുമായ വളരെപ്പേര്\\u200d ജ്ഞാനമാകുന്ന തപസുകൊണ്ടു പരിശുദ്ധരായിത്തീര്\\u200dന്നു എന്നെ പ്രാപിച്ചിട്ടുണ്ട്. <EOS>\\n', 'എവര്\\u200d എങ്ങിനെ എന്നെ ഭജിക്കുന്നുവോ അവരെ അതേവിധം തന്നെ ഞാന്\\u200d അനുഗ്രഹിക്കുന്നു. ഹേ പാര്\\u200dത്ഥ, എങ്ങും മനുഷ്യര്\\u200d എന്റെ മാര്\\u200dഗത്തെ പിന്തുടരുന്നു. <EOS>\\n', ' അഹിംസ, സത്യം, ക്രോധമില്ലായ്മ, ത്യാഗം, ശാന്തി, പരദൂഷണത്തിൽ വെറുപ്പ്, സർവ്വജീവി കളോടും കാരുണ്യം, ലോഭമില്ലായ്മ, മൃദുല സ്വഭാവം, വിനയം, സ്ഥിര നിശ്ചയം, <EOS>\\n', 'ഗുണങ്ങളുടെയും ക\\u200dര്\\u200dമ്മങ്ങളുടെയും വിഭാഗമനുസരിച്ചു ചാതുര്\\u200dവര്\\u200dണ്യം ഞാന്\\u200d സൃഷ്ടിച്ചിരിക്കുന്നു. നിഷ്ക്രിയനും അനശ്വരനുമായ എന്നെത്തന്നെ അതിന്റെയും ചാതുര്\\u200dവര്\\u200dണ്യത്തിന്റെയും സൃഷ്ടാവായി അറിയുക. <EOS>\\n', 'ഹേ പാര്\\u200dത്ഥ, അവനു ഈ ലോകത്തില്\\u200d വിനാശം ഇല്ല തന്നെ; പരലോകത്തുമില്ല. കുഞ്ഞേ, നല്ലത് ചെയ്യുന്ന ഒരുവന്\\u200d ഒരിക്കലും ദുര്\\u200dഗതി പ്രാപിക്കുന്നില്ല. <EOS>\\n', 'ഈ തത്വത്തെ അറിയുന്നവരായ പൂര്\\u200dവ്വികരായ മുമുക്ഷുക്കള്\\u200dക്കൂടി, നിഷ്കാമ ബുദ്ധിയോടുകൂടി ക\\u200dര്\\u200dമ്മം അനുഷ്ഠിച്ചു. അതുകൊണ്ട് പൂര്\\u200dവ്വികന്മാര്\\u200d പണ്ടു ചെയ്തതുപോലെ നീയും ക\\u200dര്\\u200dമ്മം ചെയ്യുക തന്നെ വേണം. <EOS>\\n', 'ഹേ ഭഗവ\\u200dന്\\u200d\\u200d! അങ്ങയുടെ സൗമ്യമായ മാനുഷരൂപംകണ്ട് ഞാനിപ്പോ\\u200dള്\\u200d മനസ്സമാധാനത്തെയും പു\\u200dര്\\u200dവപ്രകൃതിയെയും പ്രാപിച്ചവനായിത്തീ\\u200dര്\\u200dന്നിരിക്കുന്നു. <EOS>\\n', 'കൃഷ്ണാ! ഭൂതങ്ങളുടെ ഉത്ഭവനാശങ്ങളെപ്പറ്റിയും അങ്ങയുടെ അവ്യയമായ മാഹാത്മ്യത്തെപ്പറ്റിയും അങ്ങയി\\u200dല്\\u200dനിന്നു തന്നെ ഞാന്\\u200d കേട്ടു. <EOS>\\n', 'ഹേ അര്\\u200dജുനാ, കഴിഞ്ഞതും ഇപ്പോഴുള്ളതും ഇനിയുണ്ടാകുന്നതുമായ ജീലജാലങ്ങളെയും ഞാനറിയുന്നു. എന്നാല്\\u200d എന്നെയാകട്ടെ ഒരുത്തരും അറിയുന്നില്ല. <EOS>\\n', 'ശരീരം, മനസ്സ്, വാക്ക് എന്നിവയാല്\\u200d മനുഷ്യന്\\u200d ചെയ്യുന്ന ശരിയോ തെറ്റോ ആയ എല്ലാ കര്\\u200dമ്മങ്ങളുടെയും കാരണങ്ങള്\\u200d ഇവയഞ്ചുമാകുന്നു. <EOS>\\n', 'ക\\u200dര്\\u200dമ്മഫലത്തിലുള്ള ആസക്തിവെടിഞ്ഞ് നിത്യതൃപ്തനായി ഒന്നിനെയും ആശ്രയിക്കാതിരിക്കുന്നവന്\\u200d ക\\u200dര്\\u200dമ്മത്തില്\\u200d ഏ\\u200dര്\\u200dപ്പെട്ടിരുന്നാലും അവന്\\u200d ഒന്നും ചെയ്യുന്നില്ലതന്നെ. <EOS>\\n', 'അഭിലാഷങ്ങളില്ലാതെ മനോനിയന്ത്രണത്തോടെ എല്ലാ ബന്ധങ്ങളും നിശ്ശേഷം കൈവിട്ടു ശരീരം കൊണ്ടു മാത്രമുള്ള പ്രവൃത്തി ചെയ്യുന്നവനെ പാപം ബാധിക്കുന്നില്ല. <EOS>\\n', 'ഹേ കൃഷ്ണാ, എന്റെ ഈ സംശയത്തെ നിഃശേഷം അങ്ങു തീര്\\u200dത്തുതരേണ്ടതാണ്. ഈ സംശയം പരിഹരിക്കാന്\\u200d അങ്ങല്ലാതെ മറ്റൊരാള്\\u200d യോഗ്യനായില്ല. <EOS>\\n', 'സംഗരഹിതനും മുക്തനും ജ്ഞാനനിഷ്ടനും യജ്ഞത്തിനായി ക\\u200dര്\\u200dമ്മം അനുഷ്ഠിക്കുന്നവനുമായ അവന്റെ എല്ലാ ക\\u200dര്\\u200dമ്മവും നശിച്ചു പോകുന്നു. <EOS>\\n', 'ശ്രീ ഭഗവാൻ പറഞ്ഞു: ഹേ പാണ്ഡുപുത്രാ, പ്രകാശത്തി ന്റേയോ ആസക്തിയുടേയോ വ്യാമോഹത്തിന്റേയോ സാന്നിദ്ധ്യത്തിൽ ആർക്ക് വെറുപ്പ് ഉണ്ടാകുന്നില്ലയോ, <EOS>\\n', 'ഹേ കൗന്തേയ, രജസ്സിന്റെ സ്വഭാവം രാഗമാണെന്നറിയൂ. അത് തൃഷ്ണ (ആഗ്രഹം) യെയും സംഗത്തെയും ജനിപ്പിക്കുകയും കര്\\u200dമ്മത്തോടുള്ള സംഗത്താല്\\u200d ദേഹിയെ ബന്ധിക്കുകയും ചെയ്യുന്നു. <EOS>\\n', 'അ\\u200dര്\\u200dജ്ജുനാ! ഞാ\\u200d\\u200d\\u200dന്\\u200dചൂടുണ്ടാക്കുന്നു. ഞാന്\\u200d മഴ പെയ്യിക്കുയും, അതു തടുക്കയും ചെയ്യുന്നു. ജീവിതവും, മരണവും, സത്തും, അസത്തും ഞാ\\u200dന്\\u200dതന്നെ. <EOS>\\n', 'വേറെ ചിലര്\\u200d എല്ലാ ഇന്ദ്രിയകര്\\u200dമങ്ങളെയും പ്രാണക\\u200dര്\\u200dമ്മങ്ങളെയും ജ്ഞാനദീപിതമായ ആത്മസംയമയോഗാഗ്നിയില്\\u200d ഹോമിക്കുന്നു. <EOS>\\n', 'ദൃഢചിത്തന്മാരായി പ്രീതിപൂ\\u200dര്\\u200dവം എന്നെ ഭജിക്കുന്നവ\\u200dര്\\u200dക്ക് ഞാ\\u200dന്\\u200d ബുദ്ധിയോഗത്തെ നല്കുകയും അതിന്റെ ഫലമായി അവ\\u200dര്\\u200d എന്നെ പ്രാപിക്കുകയും ചെയ്യുന്നു. <EOS>\\n', 'അങ്ങിനെ മറ്റു ചിലര്\\u200d പ്രാണായാമ തല്\\u200dപരരായി ദേഹത്തിലുള്ള വായുവിന്റെ ഉര്\\u200dധ്വമുഖവും അധോമുഖവുമായ ചലനത്തെ തടഞ്ഞിട്ട് അപാനനില്\\u200d പ്രാണനെയും പ്രാണനില്\\u200d അപാനനെയും ഹോമിക്കുന്നു. <EOS>\\n', 'മറ്റു ചിലര്\\u200d ആഹാരത്തെ നിയന്ത്രിച്ചു പ്രാണങ്ങളെ പ്രാണങ്ങളില്\\u200d തന്നെ ഹോമിക്കുന്നു. ഇവരെല്ലാവരും യജ്ഞതത്വമറിഞ്ഞവരും യജ്ഞംകൊണ്ടു പാപമകന്നവരുമാകുന്നു. <EOS>\\n', 'യജ്ഞശിഷ്ടമായ അമൃതം ഭുജിക്കുന്നവര്\\u200d പരബ്രഹ്മത്തെ പ്രാപിക്കുന്നു. യജ്ഞം ചെയ്യാത്തവന്ന് ഈ ലോകം തന്നെയില്ല. ഹേ കുരുശ്രേഷ്ടാ, പിന്നെയാണോ പരലോകം? <EOS>\\n', 'ഇങ്ങിനെ പലതരം യജ്ഞങ്ങള്\\u200d ബ്രഹ്മാവിനാല്\\u200d വിവരിക്കപ്പെട്ടി ട്ടുണ്ട്. അവയെല്ല\\u200dാം ക\\u200dര്\\u200dമ്മത്തില്\\u200d നിന്നുഉളവാകുന്നവയാണ് എന്ന് അറയുക. അതെല്ല\\u200dാം ഇങ്ങിനെ മനസ്സിലാക്കുമ്പോള്\\u200d നീ മുക്തനായിത്തീരും. <EOS>\\n', 'ഹേ ശത്രുനാശകാ, ദ്രവ്യമയമായ യജ്ഞത്തെക്കാളും ജ്ഞാനയജ്ഞമാണ് ശ്രേഷ്ടം. ഹേ പാര്\\u200dത്ഥാ, എല്ലാ ക\\u200dര്\\u200dമ്മങ്ങളും പൂര്\\u200dണമായി ജ്ഞാനത്തില്\\u200d പര്യവസാനിക്കുന്നു. <EOS>\\n', 'സത്യം കണ്ടറിഞ്ഞ ജ്ഞാനികള്\\u200d നിനക്കു ജ്ഞാനം ഉപദേശിച്ചു തരും. അത് നീ നമസ്ക്കാരം കൊണ്ടും ചോദ്യം കൊണ്ടും സേവകൊണ്ടും ഗ്രഹിക്കുക. <EOS>\\n', 'ഹേ പാ\\u200dണ്ഡവാ, അതറിഞ്ഞാല്\\u200d പിന്നെയിങ്ങനെ ഭ്രമം നിനക്കുണ്ടാവില്ല. ഇതു മൂലം ഭൂതങ്ങളെയെല്ല\\u200dാം തന്നിലും പിന്നെ എന്നിലും നീ കാണും. <EOS>\\n', 'ഈ ശരീരത്തില്\\u200d വര്\\u200dത്തിക്കുന്ന പരമപുരുഷ\\u200dന്\\u200d സാക്ഷിയെന്നും, അനുവദിക്കുന്നവനെന്നും, ഭരിക്കുന്നവനെന്നും അനുഭവിക്കുന്ന വനെന്നും മഹേശ്വരനെന്നും പരമാത്മാവെന്നും വിളിക്കപ്പെടുന്നു. <EOS>\\n', 'സ\\u200dര്\\u200dവത്ര സഞ്ചരിക്കുന്നതും മഹത്തായുള്ളതുമായ വായു എങ്ങനെ എപ്പോഴും ആകാശത്തി\\u200d\\u200dല്\\u200dസ്ഥിതിചെയ്യുന്നുവോ അങ്ങിനെയാണ് സ\\u200dര്\\u200dവഭുതങ്ങളും എന്നി\\u200dല്\\u200d കുടികൊള്ളുന്നത്. <EOS>\\n', 'ഈ ലോകത്തില്\\u200d ജ്ഞാനം പോലെ പവിത്രമായി ഒന്നും തന്നെയില്ല തന്നെ. യോഗം കൊണ്ടു സിദ്ധനായവാന് ഈ ജ്ഞാനം കാലക്രമത്തില്\\u200d തനിയെ നേടുന്നു. <EOS>\\n', 'അ\\u200dര്\\u200dജ്ജുനാ! എന്റെ ദിവ്യങ്ങളായ ഐശ്വര്യങ്ങളി\\u200dല്\\u200d പ്രധാനമായിട്ടുള്ളവയെ നിന്നോടു പറയ\\u200dാം. അവ വിശദീകരിക്കുകയാണെങ്കില്\\u200d അതിന് ഒരന്തവുമുണ്ടാവില്ല. <EOS>\\n', 'ശ്രീ ഭഗവാന്\\u200d പറഞ്ഞു: ഹേ പാര്\\u200dത്ഥ, മനുഷ്യന്\\u200d എപ്പോള്\\u200d ആത്മാവിനാല്\\u200d ആത്മാവില്\\u200dത്തന്നെ സന്തുഷ്ടനായി മനസ്സിലുള്ള എല്ലാ ആഗ്രഹങ്ങളേയും (വാസനകളേയും) ഉപേക്ഷിക്കുന്നുവോ, അപ്പോള്\\u200d അവന്\\u200d സ്ഥിതപ്രജഞന്\\u200d എന്ന് പറയപ്പെടുന്നു. <EOS>\\n', 'ധനഞജയാ, യോഗത്താല്\\u200d കര്\\u200dമ്മങ്ങള്\\u200d ഉപേക്ഷിച്ചവനും ജ്ഞാനംകൊണ്ടു സംശയങ്ങള്\\u200d നിഃശേഷം തീര്\\u200dന്നവനും ആത്മനിഷ്ഠനുമായവനെ കര്\\u200dമ്മങ്ങള്\\u200d ഒരുവിധത്തിലും ബന്ധിക്കുന്നില്ല. <EOS>\\n', 'ഹേ ഭാരത, തമസ്സ് അജ്ഞാനത്തില്\\u200d നിന്നുണ്ടാകുന്നതും എല്ലാ ദേഹികളെയും (ജീവന്മാരെയും) മോഹിപ്പിക്കുന്നതുമാണെന്നറിയൂ. അത് അശ്രദ്ധ, ആലസ്യം, ഉറക്ക എന്നിവയാല്\\u200d ദേഹിയെ ബന്ധിക്കുന്നു. <EOS>\\n', 'അർജുനൻ പറഞ്ഞു: ഹേ കൃഷ്ണാ, സന്യാസവും പിന്നെ കർമ്മയോഗവും അങ്ങ് ഉപദേശിക്കുന്നു. ഈ രണ്ടിൽ ഏതാണ് ശ്രേയസ്കരം എന്നത് നിശ്ചിതമായി എനിക്ക് പറഞ്ഞു തരിക. <EOS>\\n', 'ശ്രീ ഭഗവാൻ പറഞ്ഞു: സന്യാസവും കർമയോഗവും രണ്ടും മുക്തിപ്രദമാണ്. എന്നാൽ ആ രണ്ടിൽ കർമ്മസന്യാസത്തെ അപേക്ഷിച്ച് കർമ്മ യോഗമാണ് ശ്രേഷ്ഠം. <EOS>\\n', 'ഹേ പാര്\\u200dഥ, നീ ഏകാഗ്രചിത്തനായി ഇതെല്ല\\u200dാം കേട്ടുവോ? നിന്റെ അജ്ഞാനവും മോഹവും നഷ്ടമായോ? <EOS>\\n', 'സാംഖ്യവും യോഗവും വെവ്വേറെയായി അജ്ഞന്മാർ പറയുന്നു. പണ്ഡിതൻമാര് അങ്ങനെ പറയുന്നില്ല. ഒന്നെങ്കിലും വേണ്ടവിധം അനുഷ്ഠിക്കുന്ന പക്ഷം രണ്ടിന്റെയും ഫലം ലഭിക്കും. <EOS>\\n', 'പ്രകൃതിയാണ് ക\\u200dര്\\u200dമ്മങ്ങളെല്ല\\u200dാം ചെയ്യുന്നത് എന്നും ആത്മാവ് ഒന്നും ചെയ്യാത്തവനാണെന്നും അറിയുന്നവന്\\u200d യഥാ\\u200dര്\\u200dത്ഥത്തില്\\u200d അറിവുള്ളവനാകുന്നു. <EOS>\\n', 'ഈശ്വരൻ ആരുടേയും പാപവും സുകൃതവും സ്വീകരിക്കുന്നില്ല. ജ്ഞാനം അജ്ഞാനത്താൽ മറയ്ക്കപ്പെട്ടിരിക്കുന്നതുകൊണ്ട് ജീവികൾ മോഹത്തിലാണ്ടുപോകുന്നു. <EOS>\\n', 'യോഗയുക്തനും പരിശുദ്ധാത്മാവും മനോജയം നേടിയവനും ജിതേന്ദ്രിയനും സർവഭൂതങ്ങളെയും ആത്മതുല്യനായി കാണുന്നവനും ആയവൻ കർമ്മം ചെയ്യുന്നെങ്കിലും ബദ്ധനായിത്തീരുന്നില്ല. <EOS>\\n', 'ഹേ കൗന്തേയ, ദോഷമുള്ളതാണെങ്കിലും സ്വധര്\\u200dമ്മത്തെ ഉപേക്ഷിക്കരുത്. തീ പുക കൊണ്ടെന്ന പോലെ എല്ലാ കര്\\u200dമ്മങ്ങളും ദോഷങ്ങളാല്\\u200d ആവൃതമാണ്. <EOS>\\n', 'ഹേ കൗന്തേയ, ദോഷമുള്ളതാണെങ്കിലും സ്വധര്\\u200dമ്മത്തെ ഉപേക്ഷിക്കരുത്. തീ പുക കൊണ്ടെന്ന പോലെ എല്ലാ കര്\\u200dമ്മങ്ങളും ദോഷങ്ങളാല്\\u200d ആവൃതമാണ്. <EOS>\\n', 'ഹേ പാര്\\u200dത്ഥ, യാതോരുവന്റെ ഉള്ളിലാണോ ഭൂതങ്ങ\\u200d\\u200dള്\\u200d സ്ഥിതിചെയ്യുന്നത്\\u200d, യാതോരുവനാല്\\u200d ഇതെല്ല\\u200dാം വ്യാപ്തമായിരി ക്കുന്നുവോ ആ പരമപുരുഷനെ ഏകാന്തഭക്തികൊണ്ട് പ്രാപിക്കാവുന്നതാണ്. <EOS>\\n', ' ഭൗതികമായുള്ള ബന്ധത്തിൽ നിന്നുളവാകുന്ന സർവ്വകേശങ്ങളിൽ നിന്നുമുള്ള യഥാർത്ഥ മോചനമാണിത് <EOS>\\n', 'അ\\u200dര്\\u200dജ്ജുനാ! മഹാത്മാക്കളാവട്ടെ ദിവ്യമായ സ്വഭാവത്തെ കൈക്കൊണ്ട്, ഏകാഗ്രചിത്തരായി ഭുതങ്ങ\\u200dള്\\u200dക്കെല്ല\\u200dാം ആദ്യനും അനശ്വരന്മായ എന്നെ അറിഞ്ഞു ഭജിക്കുന്നു. <EOS>\\n', 'ഹേ കൗന്തേയ, രജസ്സിന്റെ സ്വഭാവം രാഗമാണെന്നറിയൂ. അത് തൃഷ്ണ (ആഗ്രഹം) യെയും സംഗത്തെയും ജനിപ്പിക്കുകയും കര്\\u200dമ്മത്തോടുള്ള സംഗത്താല്\\u200d ദേഹിയെ ബന്ധിക്കുകയും ചെയ്യുന്നു. <EOS>\\n', 'ഈശ്വരൻ പ്രാണികൾക്ക് കർമ്മങ്ങളെയോ, അവയുടെ കർത്തൃത്വത്തെയോ സൃഷ്ടിക്കുന്നില്ല. അവരെ കർമ്മഫലത്തോടു സംയോജിപ്പിക്കുന്നുമില്ല. സ്വഭാവമാണ് പ്രവർത്തിക്കുന്നത്. <EOS>\\n', 'ഈശ്വരൻ ആരുടേയും പാപവും സുകൃതവും സ്വീകരിക്കുന്നില്ല. ജ്ഞാനം അജ്ഞാനത്താൽ മറയ്ക്കപ്പെട്ടിരിക്കുന്നതുകൊണ്ട് ജീവികൾ മോഹത്തിലാണ്ടുപോകുന്നു. <EOS>\\n', 'സൂ\\u200dര്യന്\\u200d തനിച്ച് എങ്ങനെ ഈ ലോകത്തെ മുഴുവ\\u200dന്\\u200d പ്രകാശിപ്പിക്കുന്നുവോ, അങ്ങനെ ദേഹത്തില്\\u200d വര്\\u200dത്തിക്കുന്ന പുരുഷ\\u200dന്\\u200d ദേഹത്തെ മുഴുവന്\\u200d പ്രകാശിപ്പിക്കുന്നു. <EOS>\\n', 'ബ്രഹ്മത്തിൽ മനസ്സുന്നിയവരും ബ്രഹ്മതാദാത്മ്യം ബ്രഹ്മനിഷ്ഠരും ബ്രഹ്മത്തെക്കുറിച്ചല്ലാതെ മറ്റൊരു ചിന്തയില്ലാത്തവരു മായവർ ജ്ഞാനത്താല് പാപമകന്നു മോക്ഷപദത്തെ പ്രാപിക്കുന്നു. <EOS>\\n', 'എന്നിൽ സ്ഥിരവും നിഷ്കളങ്കവുമായ ഭക്തി; ഏകാന്തമായ സ്ഥലത്തു ജീവിക്കാനുള്ള ആഗ്രഹം; ആൾക്കൂട്ടത്തിൽ നിന്നു വേറിട്ടുനിൽക്കൽ; <EOS>\\n', 'ആരുടെ മനസ്സാണോ സമഭാവനയിൽ പ്രതിഷ്ഠിതമായിരിക്കുന്നത് ഇവിടെ വച്ചു തന്നെ അവർ സംസാരത്ത ജയിച്ചിരിക്കുന്നു. എന്തുകൊണ്ടെന്നാൽ ബ്രഹ്മം നിർദ്ദോഷവും സമവുമാകുന്നു. അതുകൊണ്ടു അവർ ബ്രഹ്മത്തിൽ സ്ഥിതിചെയ്യുന്നവരത്രേ. <EOS>\\n', 'പ്രിയം നേടി സന്തോഷിക്കുകയും, അപ്രിയം വന്നുചേർന്നാൽ ദുഖിക്കുകയും ചെയ്യാത്തവനും, സ്ഥിരബുദ്ധിയും, മോഹമില്ലാത്തവനും ആയവൻ ബ്രഹ്മജ്ഞനും ബ്രഹ്മത്തിൽ തന്നെ വർത്തിക്കുന്നവനുമാണ്. <EOS>\\n', 'ഹേ ഭാരത, എല്ലാവരുടെയും ശ്രദ്ധ അവരവരുടെ ശ്രദ്ധയെ ആശ്രയിച്ചിരിക്കുന്നു. ഈ മനുഷ്യന്\\u200d ശ്രദ്ധാമയനാണ്. ഒരുവന്റെ ശ്രദ്ധ ഏതാണോ അവന്\\u200d ആ തരത്തിലുള്ളവനായിരിക്കും. <EOS>\\n', 'ഹേ കൗന്തേയ, ആസുരയോനികളില്\\u200d ജനിക്കുന്ന ഈ മൂഢന്മാര്\\u200d ഓരോ ജന്മങ്ങളിലും എന്നെ പ്രാപിക്കാതെ അധമഗതിയെ പ്രാപിക്കുന്നു. <EOS>\\n', ' ഒരേവിധം കൈക്കൊണ്ട് അസത്സംഗത്തിൽ നിന്ന് എല്ലായ്പ്പോഴും മുക്തനും മൗനിയും ജ്ഞാനത്തിലുറച്ചവനും സദാ സംതൃപ്തനുമായി, ഗാർഹികബോധമുപേക്ഷിച്ച് ഭക്തിയുത സേവനത്തിലേർപ്പെട്ടിരിക്കുന്ന ഭക്തൻ എനിക്കെത്രയും പ്രിയപ്പെട്ടവനാണ്. <EOS>\\n', 'പുരുഷശ്രേഷ്ഠാ, സമദുഖസുഖനും ധീരനുമായ ഏതൊരു പുരുഷനെ ഇവ ദുഖിപ്പിക്കയില്ലയോ അവന്\\u200d അമൃതത്വത്തിനു അധികാരിയായിത്തീരുന്നു. <EOS>\\n', 'കലുഷം ക്ഷയിച്ചവരും സംശയഹീനരും മനോജയം നേടിയവരും സർവഭൂതങ്ങളുടെയും ക്ഷേമത്തിൽ തൽപരരുമായ ഋഷിമാർ ബ്രഹ്മാനന്ദം നേടുന്നു. <EOS>\\n', 'ആത്മജ്ഞരും, കാമക്രോധങ്ങളില്ലാത്തവരും മനസിനെ നിയന്ത്രിച്ചവരും ആയ യോഗികൾക്ക് ഇഹത്തിലും പരത്തിലും ബ്രഹ്മനിർവ്വാണം പ്രാപ്തമാകുന്നു. <EOS>\\n', 'ബാഹ്യവിഷയങ്ങളെയെല്ലാം നിരോധിച്ചും പുരികങ്ങൾക്കിടയിൽ ദൃഷ്ടിയുറപ്പിച്ചും ശ്വാസോച്ഛ്വാസങ്ങളെ നാസാദ്വാരങ്ങളിൽ സമനിലയിൽ നിർത്തിയും  <EOS>\\n', 'ഇന്ദ്രിയങ്ങളേയും മനസ്സിനെയും ബുദ്ധിയേയും നിയന്ത്രിച്ച് മുക്തി ലക്ഷ്യമാക്കിയ യോഗി രാഗദ്വേഷങ്ങളിൽ നിന്നും ഭയത്തിൽ നിന്നും മോചനം നേടുന്നു. സദാ ഇതേ അവസ്ഥ യിൽ പുലരുന്ന അയാൾ മുക്തൻ തന്നെ <EOS>\\n', 'ദുഃഖകരമാണെന്നു കരുതി ശരീരക്ലേശത്തെ ഒഴിവാക്കാനായി ത്യജിക്കുകയാണെങ്കില്\\u200d അത് രാജസികത്യാഗമാണ്. അതിലൂടെ ശരിയായ ത്യാഗത്തിന്റെ ഫലം ലഭിക്കുകയില്ല. <EOS>\\n', 'ശ്രീ ഭഗവാന്\\u200d പറഞ്ഞു: ക\\u200dര്\\u200dമ്മഫലത്തെ ആശ്രയിക്കാതെ കര്\\u200dത്തവ്യമായ ക\\u200dര്\\u200dമ്മം ആരു ചെയ്യുന്നുവോ അവന്\\u200d സന്യാസിയും യോഗിയുമാണ്. അല്ലാതെ അഗ്നിഹോത്രാദികളെ ചെയ്യാത്തവനും, ക\\u200dര്\\u200dമ്മത്തെ ഉപേക്ഷിച്ചു സ്വസ്ഥനായിരിക്കുന്നവനുമല്ല. <EOS>\\n', 'ഹേ പാണ്ഡവാ, സന്യാസമെന്നു പറയുന്നത്\\u200c ഏതോ അതു തന്നെയാണ് യോഗമെന്നറിയുക. ഫലേച്ഛ വിടാതെ ഒരാളും യോഗിയായിത്തീരുന്നില്ല. <EOS>\\n', 'ഹേ കൗന്തേയ, ആസുരയോനികളില്\\u200d ജനിക്കുന്ന ഈ മൂഢന്മാര്\\u200d ഓരോ ജന്മങ്ങളിലും എന്നെ പ്രാപിക്കാതെ അധമഗതിയെ പ്രാപിക്കുന്നു. <EOS>\\n', 'ഹേ പാര്\\u200dഥ, നീ ഏകാഗ്രചിത്തനായി ഇതെല്ല\\u200dാം കേട്ടുവോ? നിന്റെ അജ്ഞാനവും മോഹവും നഷ്ടമായോ? <EOS>\\n', 'ഒരുവന്\\u200d തന്നെ സ്വയം ഉദ്ധരിക്കേണ്ടതാണ്, തന്നെ സ്വയം താഴ്ത്തരുത്, താന്\\u200d തന്നെയാണ് തന്റെ ബന്ധു. താന്\\u200d തന്നെയാണ് തന്റെ ശത്രുവും. <EOS>\\n', 'ഈ ആത്മാവിനെ ആയുധങ്ങള്\\u200d മുറിവ് ഏല്\\u200dപ്പിക്കുന്നില്ല. ഇവനെ തീ ദാഹിപ്പിക്കുന്നില്ല. ഇവനെ വെള്ളം നനയ്ക്കുന്നില്ല. കാറ്റ് ഉണക്കുന്നുമില്ല. <EOS>\\n', 'മനസ്സിനെ കീഴടക്കിയവൻ, ശാന്തി നേടുകയാൽ പരമാത്മാവിനെ പ്രാപിച്ചു കഴിഞ്ഞു. അങ്ങനെയുള്ള ആൾക്ക് തണുപ്പും ചൂടും സുഖ ദുഃഖവും മാനവും അപമാനവുമെല്ലാം ഒന്നുപോലെ തന്നെ. <EOS>\\n', 'ജ്ഞാനംകൊണ്ടും സാക്ഷാത്കാരം കൊണ്ടും തികച്ചും സാധ്യ സ്തനായ ഒരാളെ ആത്മസാക്ഷാത്കാരനിഷ്ഠനായ യോഗി എന്നു പറയാം. ആത്മസംയമിയായ അയാൾ അഭൗതികതയിൽ സ്ഥിതി യ്യുന്നു. അയാളുടെ ദൃഷ്ടിയിൽ കല്ലും, മണ്ണും, സ്വർണ്ണവും ഒന്നുപോലെ തന്നെ <EOS>\\n', 'സുഹൃത്തുക്കള്\\u200d\\u200d, മിത്രങ്ങള്\\u200d, ശത്രുക്കള്\\u200d, ഉദാസീനന്\\u200dമാ\\u200d\\u200dര്\\u200d, വെറുക്കപ്പെടേണ്ടവര്\\u200d, ബന്ധുക്കള്\\u200d ഇവരിലും നല്ലവരിലും പാപികളിലും സമബുദ്ധിയായിരിക്കുന്നവന്\\u200d വിശിഷ്ടനാകുന്നു. <EOS>\\n', 'ഹേ മഹാബാഹോ, ബ്രഹ്മമാ\\u200dര്\\u200dഗ്ഗത്തില്\\u200d നിന്ന്\\u200c തെറ്റി എങ്ങുമുറയ്ക്കാതെ ലൌകികമാര്\\u200dഗം, യോഗമാര്\\u200dഗം ഈ രണ്ടിലും സ്ഥാനമില്ലാതെ ഛിന്നഭിന്നമായ മേഘം പോലെ അവന്\\u200d നശിക്കുകയില്ലേ? <EOS>\\n', ' <EOS>\\n', 'ഹേ കൗന്തേയ, രജസ്സിന്റെ സ്വഭാവം രാഗമാണെന്നറിയൂ. അത് തൃഷ്ണ (ആഗ്രഹം) യെയും സംഗത്തെയും ജനിപ്പിക്കുകയും കര്\\u200dമ്മത്തോടുള്ള സംഗത്താല്\\u200d ദേഹിയെ ബന്ധിക്കുകയും ചെയ്യുന്നു. <EOS>\\n', 'തന്റെ ശരീരവും കഴുത്തും ഋജുരേഖയിൽ നിർത്തിക്കൊണ്ട്, യോഗി നാസാഗ്രത്തിൽ ദൃഷ്ടിയൂന്നണം. <EOS>\\n', 'സ്വസ്ഥവും നിയന്ത്രിതവുമാ യ മനസ്സോടെ നിർഭയനായി ബ്രഹ്മചര്യനിഷ്ഠനായി സ്വഹൃദയസ്ഥനായ എന്നെ ജീവിതത്തിന്റെ ആത്യന്തിക ലക്ഷ്യമെന്ന് ഗ്രഹിച്ച് ധ്യാനിക്കണം. <EOS>\\n', 'ഹേ കൗന്തേയ, രജസ്സിന്റെ സ്വഭാവം രാഗമാണെന്നറിയൂ. അത് തൃഷ്ണ (ആഗ്രഹം) യെയും സംഗത്തെയും ജനിപ്പിക്കുകയും കര്\\u200dമ്മത്തോടുള്ള സംഗത്താല്\\u200d ദേഹിയെ ബന്ധിക്കുകയും ചെയ്യുന്നു. <EOS>\\n', 'സഞ്ജയന്\\u200d പറഞ്ഞു: അങ്ങനെ മനസ്സലിഞ്ഞവനും, കണ്ണീര്\\u200d നിറഞ്ഞ കണ്ണുകളോടുകൂടിയവനും ദുഃഖിക്കുന്നവനുമായ അര്\\u200dജുനനോടു ശ്രീകൃഷ്ണന്\\u200d ഇപ്രകാരം പറഞ്ഞു. <EOS>\\n', 'വേണ്ടയളവില്\\u200d മിതമായി ആഹാരവും വിഹാരവും നിര്\\u200dവഹിക്കുന്നവനും പ്രവൃത്തികളില്\\u200d സമചിത്തതയോടെ വ്യാപരിക്കുന്നവനും ഉറക്കവും ഉണര്\\u200dന്നിരിക്കലും ഉചിതമായ അളവില്\\u200d നിര്\\u200dവഹിക്കുന്നവനുമായ യോഗിയ്ക്ക് യോഗം ദുഃഖനാശകമായിത്തീരുന്നു. <EOS>\\n', 'എപ്പോള്\\u200d സ്ഥിരമായിത്തീര്\\u200dന്ന ചിത്തം സര്\\u200dവകാമങ്ങളില്\\u200d നിന്നും അകന്ന് ആത്മാവില്\\u200d തന്നെ ഉറച്ചുനില്\\u200dക്കുന്നുവോ അപ്പോള്\\u200d അവന്\\u200d യുക്തനെന്നു പറയപ്പെടുന്നു. <EOS>\\n', 'കാറ്റില്ലാത്തിടത്ത് സ്ഥിതിചെയ്യുന്ന ദീപത്തിന്റെ നിശ്ചലാവസ്ഥയാണ് ആത്മയോഗം അഭ്യസിക്കുന്ന മനോനിയന്ത്രണമുള്ള യോഗിയുടെ ഉപമയായി സ്മരിക്കപ്പെടുന്നത്. <EOS>\\n', 'ഇപ്രകാരം എപ്പോഴും യോഗമഭ്യസിക്കുന്നവനും പാപമറ്റവനുമായ യോഗി നിഷ്പ്രയാസം ആത്യന്തികമായ ബ്രഹ്മാനന്ദം അനുഭവിക്കുന്നു. <EOS>\\n', ' ആനന്ദഭരിതമായ ആ നിലയിൽ അളവറ്റ അതീന്ദ്രിയസുഖമാണ് ദിവ്യേന്ദ്രിയങ്ങളിലൂടെ ഒരാൾക്കനുഭവപ്പെടുക. ഇതിലെ ത്തിയാൽപ്പിന്നെ ഒരിക്കലും സത്യത്തിൽ നിന്ന് ചലിക്കേണ്ടി വരില്ല,  <EOS>\\n', 'ശ്രീ ഭഗവാന്\\u200d പറഞ്ഞു: ഹേ പാര്\\u200dത്ഥ, മനുഷ്യന്\\u200d എപ്പോള്\\u200d ആത്മാവിനാല്\\u200d ആത്മാവില്\\u200dത്തന്നെ സന്തുഷ്ടനായി മനസ്സിലുള്ള എല്ലാ ആഗ്രഹങ്ങളേയും (വാസനകളേയും) ഉപേക്ഷിക്കുന്നുവോ, അപ്പോള്\\u200d അവന്\\u200d സ്ഥിതപ്രജഞന്\\u200d എന്ന് പറയപ്പെടുന്നു. <EOS>\\n', ' ഭൗതികമായുള്ള ബന്ധത്തിൽ നിന്നുളവാകുന്ന സർവ്വകേശങ്ങളിൽ നിന്നുമുള്ള യഥാർത്ഥ മോചനമാണിത് <EOS>\\n', 'ഹേ കൗന്തേയ, ദോഷമുള്ളതാണെങ്കിലും സ്വധര്\\u200dമ്മത്തെ ഉപേക്ഷിക്കരുത്. തീ പുക കൊണ്ടെന്ന പോലെ എല്ലാ കര്\\u200dമ്മങ്ങളും ദോഷങ്ങളാല്\\u200d ആവൃതമാണ്. <EOS>\\n', 'ക്രമേണ പടിപടിയായി, വിശ്വാസദാർഢ്യമാർന്ന ബുദ്ധിയുടെ സഹായത്താൽ സമാധിസ്ഥനാകണം, മനസ്സിനെ ആത്മാവിൽ ഉറപ്പി ക്കുക. (മറ്റൊന്നിനേയും കുറിച്ച് ചിന്തിക്കാതെ) <EOS>\\n', 'ചഞ്ചലവും അസ്ഥിരവുമായ മനസ്സ് എവിടെയൊക്കെ ചെല്ലുന്നുവോ അവിടെ നിന്നെല്ല\\u200dാം അതിനെ പിന്\\u200dവലിച്ച് ആത്മാവില്\\u200d തന്നെ ഉറപ്പിക്കണം. <EOS>\\n', 'ഇളക്കമറ്റ മനസ്സോടുകൂടിയവനും രജോഗുണമടങ്ങിയവനും നിഷ്പാപനും ബ്രഹ്മതാദാത്മ്യം പ്രാപിച്ചവനുമായ ഈ യോഗി ഉത്തമമായ സുഖത്തെ പ്രാപിക്കുന്നു. <EOS>\\n', 'ഇപ്രകാരം എപ്പോഴും യോഗമഭ്യസിക്കുന്നവനും പാപമറ്റവനുമായ യോഗി നിഷ്പ്രയാസം ആത്യന്തികമായ ബ്രഹ്മാനന്ദം അനുഭവിക്കുന്നു. <EOS>\\n', 'ഈ ആത്മാവിനെ ആയുധങ്ങള്\\u200d മുറിവ് ഏല്\\u200dപ്പിക്കുന്നില്ല. ഇവനെ തീ ദാഹിപ്പിക്കുന്നില്ല. ഇവനെ വെള്ളം നനയ്ക്കുന്നില്ല. കാറ്റ് ഉണക്കുന്നുമില്ല. <EOS>\\n', 'അവ\\u200dന്\\u200d വേഗത്തി\\u200dല്\\u200d ധര്\\u200dമ്മാത്മാവായിത്തീ\\u200dര്\\u200dന്ന് ശാശ്വതമായ ശാന്തിയെ പ്രാപിക്കുന്നു. ഹേ അ\\u200dര്\\u200dജ്ജുനാ! എന്റെ ഭക്ത\\u200dന്\\u200d നശിക്കുന്നില്ലെന്ന് അറിഞ്ഞാലും. <EOS>\\n', 'ഏതൊരുവന്\\u200d ഏകത്വബോധം നേടി എല്ലാ ജീവജാലങ്ങളിലും വ്യാപിച്ചിരിക്കുന്ന എന്നെ ഭജിക്കുന്നുവോ, ആ യോഗി എങ്ങിനെയെല്ല\\u200dാം ഇരുന്നാലും എന്നില്\\u200dതന്നെ വര്\\u200dത്തിക്കുന്നു. <EOS>\\n', 'ചെയ്യേണ്ടതാണെന്നുള്ള ബോദ്ധ്യത്തോടെ ശാസ്ത്രവിഹിതമായ കര്\\u200dമ്മം ആസക്തിയെയും ഫലത്തെയും ത്യജിച്ച് ചെയ്യുകയാ ണെങ്കില്\\u200d അതിനെ സാത്വികത്യാഗമെന്നു പറയുന്നു. <EOS>\\n', 'ഈ ലോകത്തെയാകമാനം പ്രകാശിപ്പിക്കുന്ന സൂര്യന്റെ തേജസ്സും, ചന്ദ്രനിലും അഗ്നിയിലുമുള്ള തേജസ്സും എന്റേതു തന്നെയെന്നറിയൂ. <EOS>\\n', 'എന്റെ ഈ ഘോരമായ രൂപംകണ്ടു നീ ഭയപ്പെടുകയും സംഭ്രമിക്കുകയും വേണ്ട. നീ ഭയം വെടിഞ്ഞ് പ്രീതചിത്തനായി എന്റെ ആ പൂ\\u200dര്\\u200dവരൂപത്തെ വീണ്ടും കാണുക. <EOS>\\n', 'ഹേ പാര്\\u200dഥ, നീ ഏകാഗ്രചിത്തനായി ഇതെല്ല\\u200dാം കേട്ടുവോ? നിന്റെ അജ്ഞാനവും മോഹവും നഷ്ടമായോ? <EOS>\\n', 'ഈ ആത്മാവിനെ ആയുധങ്ങള്\\u200d മുറിവ് ഏല്\\u200dപ്പിക്കുന്നില്ല. ഇവനെ തീ ദാഹിപ്പിക്കുന്നില്ല. ഇവനെ വെള്ളം നനയ്ക്കുന്നില്ല. കാറ്റ് ഉണക്കുന്നുമില്ല. <EOS>\\n', 'ശ്രീ ഭഗവാന്\\u200d പറഞ്ഞു: ഹേ പാര്\\u200dത്ഥ, അവനു ഈ ലോകത്തില്\\u200d വിനാശം ഇല്ല തന്നെ; പരലോകത്തുമില്ല. കുഞ്ഞേ, നല്ലത് ചെയ്യുന്ന ഒരുവന്\\u200d ഒരിക്കലും ദുര്\\u200dഗതി പ്രാപിക്കുന്നില്ല. <EOS>\\n', 'ഹേ മഹാബാഹോ, ബ്രഹ്മമാ\\u200dര്\\u200dഗ്ഗത്തില്\\u200d നിന്ന്\\u200c തെറ്റി എങ്ങുമുറയ്ക്കാതെ ലൌകികമാര്\\u200dഗം, യോഗമാര്\\u200dഗം ഈ രണ്ടിലും സ്ഥാനമില്ലാതെ ഛിന്നഭിന്നമായ മേഘം പോലെ അവന്\\u200d നശിക്കുകയില്ലേ? <EOS>\\n', 'ഹേ കൃഷ്ണാ, എന്റെ ഈ സംശയത്തെ നിഃശേഷം അങ്ങു തീര്\\u200dത്തുതരേണ്ടതാണ്. ഈ സംശയം പരിഹരിക്കാന്\\u200d അങ്ങല്ലാതെ മറ്റൊരാള്\\u200d യോഗ്യനായില്ല. <EOS>\\n', 'ശ്രീ ഭഗവാന്\\u200d പറഞ്ഞു: ഹേ പാര്\\u200dത്ഥ, അവനു ഈ ലോകത്തില്\\u200d വിനാശം ഇല്ല തന്നെ; പരലോകത്തുമില്ല. കുഞ്ഞേ, നല്ലത് ചെയ്യുന്ന ഒരുവന്\\u200d ഒരിക്കലും ദുര്\\u200dഗതി പ്രാപിക്കുന്നില്ല. <EOS>\\n', 'യോഗസിദ്ധി നേടാത്തവന്\\u200d പുണ്യവാന്\\u200dമാരുടെ ലോകത്തില്\\u200dച്ചെന്നു ദീര്\\u200dഘകാലം വാണിട്ടു ശുദ്ധമനസ്ക്കരും ഐശ്വര്യയുക്തരുമായവരുടെ കുടുംബത്തില്\\u200d ജനിക്കുന്നു. <EOS>\\n', 'കൈയ്യൂക്കുള്ളവനെ, ഇനി ഇവനെ നിത്യം ജനിക്കുന്നവനും നിത്യം മരിക്കുന്നവനുമായി നീ വിചാരിക്കുന്നുവെങ്കി\\u200cല്\\u200d തന്നെയും നീ ഇവനെക്കുറിച്ച് ദുഖിക്കേണ്ടതില്ല. <EOS>\\n', 'കുരുവംശജനായ അര്\\u200dജുനാ, ഈ ജന്മത്തില്\\u200d മുജ്ജന്മത്തിലെ സംസ്കാരം ലഭിക്കുന്നു. അതുകൊണ്ട് വീണ്ടും യോഗസിദ്ധിക്കായി യത്നിക്കുകയും ചെയ്യുന്നു. <EOS>\\n', 'മുജ്ജന്മത്തിലെ ആ അഭ്യാസം കൊണ്ടുമാത്രം താന്\\u200d അറിയാതെയാണെങ്കിലും അവന്\\u200d യോഗസാധനയിലേക്ക് നയിക്കപ്പെടുന്നു. യോഗരഹസ്യമറിയാന്\\u200d ആഗ്രഹിക്കുന്നവന്\\u200d പോലും ശബ്ദബ്രഹ്മത്തെ (വൈദികകര്\\u200dമ്മാനുഷ്ഠാനങ്ങളെ) അതിക്രമി ക്കുന്നുണ്ട്. <EOS>\\n', 'ഈശ്വര\\u200dന്\\u200d എല്ലായിടത്തും ഒരുപോലെ വ്യാപിച്ചിരിക്കുന്നതായി കാണുന്നവ\\u200dന്\\u200d തന്നെ സ്വയം നശിപ്പിക്കുന്നില്ല. അതിനാല്\\u200d അവ\\u200d\\u200dന്\\u200d മുക്തി അടയുകയും ചെയ്യുന്നു.\\u200d <EOS>\\n', 'ഹേ കൗന്തേയ, ദോഷമുള്ളതാണെങ്കിലും സ്വധര്\\u200dമ്മത്തെ ഉപേക്ഷിക്കരുത്. തീ പുക കൊണ്ടെന്ന പോലെ അവന്\\u200d നശിക്കുകയില്ലേ? <EOS>\\n', 'സകല യോഗികളിലും വച്ച് എന്നില്\\u200d ഉറച്ച മനസോടെ ശ്രദ്ധാപൂര്\\u200dണനായി ആരെന്നെ ഭജിക്കുന്നുവോ അവനാണ് എന്റെ അഭിപ്രായത്തില്\\u200d അത്യന്തം ശ്രേഷ്ഠ\\u200dന്\\u200d\\u200d! <EOS>\\n', 'ഹേ പാര്\\u200dഥ, നീ ഏകാഗ്രചിത്തനായി ഇതെല്ല\\u200dാം കേട്ടുവോ? നിന്റെ അജ്ഞാനവും മോഹവും നഷ്ടമായോ? <EOS>\\n', 'അ\\u200dര്\\u200dജ്ജുനാ! എന്റെ മേ\\u200dല്\\u200dനോട്ടത്തി\\u200d\\u200dല്\\u200d പ്രകൃതി സ\\u200dര്\\u200dവചരാചരങ്ങളേയും ജനിപ്പിക്കുന്നു. എന്റെ അദ്ധ്യക്ഷതയാല്\\u200d തന്നെ പ്രപഞ്ചം ഉത്ഭവിക്കുന്നു. <EOS>\\n', ' ആനന്ദഭരിതമായ ആ നിലയിൽ അളവറ്റ അതീന്ദ്രിയസുഖമാണ് ദിവ്യേന്ദ്രിയങ്ങളിലൂടെ ഒരാൾക്കനുഭവപ്പെടുക. ഇതിലെ ത്തിയാൽപ്പിന്നെ ഒരിക്കലും സത്യത്തിൽ നിന്ന് ചലിക്കേണ്ടി വരില്ല,  <EOS>\\n', ' ഒരേവിധം കൈക്കൊണ്ട് അസത്സംഗത്തിൽ നിന്ന് എല്ലായ്പ്പോഴും മുക്തനും മൗനിയും ജ്ഞാനത്തിലുറച്ചവനും സദാ സംതൃപ്തനുമായി, ഗാർഹികബോധമുപേക്ഷിച്ച് ഭക്തിയുത സേവനത്തിലേർപ്പെട്ടിരിക്കുന്ന ഭക്തൻ എനിക്കെത്രയും പ്രിയപ്പെട്ടവനാണ്. <EOS>\\n', 'അ\\u200dര്\\u200dജ്ജുനാ! അഥവാ വിസ്\\u200dതൃതമായി അറിഞ്ഞിട്ട് ഇതി\\u200d\\u200dല്\\u200dനിന്നു നിനക്കെന്തു കാര്യം? ഈ പ്രപഞ്ചത്തെ മുഴുവ\\u200dന്\\u200d എന്റെ ഒരംശം കൊ ണ്ട് ഞാനാണ് താങ്ങുന്നത്. ഓം തത്സദിതി ശ്രീമദ്ഭഗവദ്ഗീതാസൂപനിഷത്സു ബ്രഹ്മവിദ്യായ\\u200dാം യോഗശാസ്ത്രേ ശ്രീകൃഷ്ണാര്\\u200dജുനസംവാദേ വിഭൂതിയോഗോ നാമ ദശമോധ്യായഃ <EOS>\\n', 'എല്ലാ ഭൂതങ്ങളും ഇവയില്\\u200dനിന്നുണ്ടാകുന്നവയാണ് എന്ന് ധരിക്കുക. അങ്ങിനെ ഞാന്\\u200d ലോകത്തിന്റെ മുഴുവന്\\u200d ഉത്ഭവസ്ഥാനവും നാശകാരണവുമാണ്. <EOS>\\n', 'ഗുണങ്ങളുടെയും ക\\u200dര്\\u200dമ്മങ്ങളുടെയും വിഭാഗമനുസരിച്ചു ചാതുര്\\u200dവര്\\u200dണ്യം ഞാന്\\u200d സൃഷ്ടിച്ചിരിക്കുന്നു. നിഷ്ക്രിയനും അനശ്വരനുമായ എന്നെത്തന്നെ അതിന്റെയും ചാതുര്\\u200dവര്\\u200dണ്യത്തിന്റെയും സൃഷ്ടാവായി അറിയുക. <EOS>\\n', 'ലോകവ്യാപിയായ ദേവേശ! മുമ്പു കാണാത്തതു കണ്ടിട്ട് ഞാ\\u200d\\u200d\\u200dന്\\u200d സന്തോഷിക്കുന്നു; എങ്കിലും ഭയത്താല്\\u200d എന്റെ ഹൃദയം വിഹ്വലമായിത്തീരുന്നു. അങ്ങയുടെ ആ (ശ്രീകൃഷ്ണാകൃതിയിലുള്ള) രൂപം തന്നെ എനിക്കു കാണിച്ചു തരിക. ദേവ! പ്രസാദിക്കേണമേ! <EOS>\\n', 'ഹേ കൗന്തേയ, ദോഷമുള്ളതാണെങ്കിലും സ്വധര്\\u200dമ്മത്തെ ഉപേക്ഷിക്കരുത്. തീ പുക കൊണ്ടെന്ന പോലെ എല്ലാ കര്\\u200dമ്മങ്ങളും ദോഷങ്ങളാല്\\u200d ആവൃതമാണ്. <EOS>\\n', 'അ\\u200dര്\\u200dജ്ജുനാ! സൃഷ്ടിവ\\u200dര്\\u200dഗ്ഗങ്ങളില്\\u200d ഉല്പത്തിസ്ഥിതിലയങ്ങ\\u200dള്\\u200d ഞാനാണ്. വിദ്യകളില്\\u200d അദ്ധ്യാത്മവിദ്യയും പരസ്പര സംഭാഷണങ്ങളി\\u200d\\u200dല്\\u200d വാദവും ഞാ\\u200dന്\\u200d തന്നെ. <EOS>\\n', 'എപ്പോള്\\u200d നിന്റെ ബുദ്ധി മോഹരൂപമായ വൈഷമ്യത്തെ കടക്കുമോ അപ്പോള്\\u200d കേള്\\u200dക്കേണ്ടതിനെയും കേട്ടതിനെയും കുറിച്ചു നീ ഉദാസീനനായിത്തീരും. <EOS>\\n', 'ഏതൊക്കെയാണോ സാത്വികഭാവങ്ങള്\\u200d ഏതൊക്കെയാണോ രാജസങ്ങളും താമസങ്ങളുമായ ഭാവങ്ങള്\\u200d അവയെല്ല\\u200dാം എന്നില്\\u200dനിന്ന് ഉത്ഭവിച്ചവ തന്നെയെന്നറിയുക. ഞാന്\\u200d അവയിലല്ല എന്നാല്\\u200d അവ എന്നിലാണ്. <EOS>\\n', 'ഈ ലോകം മുഴുവന്\\u200d ഗുണമയങ്ങളായ ഈ മൂന്നു ഭാവങ്ങളാലും മോഹിതമായിത്തീരുന്നു. ഇവയ്ക്കപ്പുറത്തുള്ള നിത്യനായ എന്നെ ഈ ജഗത്ത് അറിയുന്നില്ല. <EOS>\\n', 'എന്തുകൊണ്ടെന്നാല്\\u200d അമാനുഷികവും, ത്രിഗുണങ്ങള്\\u200d ചേര്\\u200dന്നതും ആയ എന്റെ ഈ മായ തരണം ചെയ്യാന്\\u200d പ്രയാസമുള്ളതാണ്. ആരാണോ എന്നെ തന്നെ ശരണം പ്രാപിക്കുന്നത് അവര്\\u200d ഈ മായയെ തരണം ചെയ്യുന്നു. <EOS>\\n', 'ഈ ലോകത്തില്\\u200d പ്രാണിസൃഷ്ടി ദൈവം, ആസുരം എന്നീ രണ്ടു വിധത്തിലാണ്. ദൈവീസൃഷ്ടിയെക്കുറിച്ച് ആദ്യം വിശദമായി പറഞ്ഞുകഴിഞ്ഞു. ഇനി ആസുരിസൃഷ്ടിയെക്കുറിച്ച് കേട്ടാലും. <EOS>\\n', 'അര്\\u200dജുനന്\\u200d പറഞ്ഞു: ഹേ ഹൃഷികേശ! അങ്ങയുടെ സ്തുതിക്കുന്നതു കൊണ്ടു ഈ ലോകത്തിനു സന്തോഷവും ഭക്തിയും ഉണ്ടാകുന്നു എന്നുള്ളതു യുക്തം തന്നെ. ദുഷ്ടന്മാരായ അസുരരാക്ഷസന്മാര്\\u200d അവിടുത്തെ സ്തുതികള്\\u200d കേ\\u200dള്\\u200dക്കുന്ന മാത്രയി\\u200dല്\\u200d ഭീതരായി നാലുദിക്കുകളിലും ഓടുന്നു. ശിഷ്ടന്മാരായ ദേവന്മാരാവട്ടെ ഭക്തിപരശരായി അവിടുത്തെ നമസ്കരിക്കയും ചെയ്യുന്നു. <EOS>\\n', 'ആ നാലുതരം ഭക്തന്\\u200dമാരില്\\u200d എപ്പോഴും യോഗനിഷ്ടനും ഭക്തിക്കൊഴിച്ച് മറ്റൊന്നിനും മനസ്സില്\\u200d സ്ഥാനമില്ലാത്തവനുമായ ജ്ഞാനിയാണ്\\u200c വിശിഷ്ഠനായിരിക്കുന്നത്. എന്തുകൊണ്ടെന്നാല്\\u200d ജ്ഞാനികള്\\u200dക്കു ഞാന്\\u200d അത്യധികം പ്രിയനാണ്. അവന്\\u200d എനിക്കും പ്രിയനാണ്. <EOS>\\n', \"ഇങ്ങനെ യോഗസ്ഥനായി ഓം' എന്ന ഉത്തമമായ വിശുദ്ധാ ര സംയോഗമുച്ചരിച്ചുകൊണ്ടും പരമദിവ്യോത്തമപുരുഷനെ സ്മരി ച്ചുകൊണ്ടും ശരീരം ത്യജിക്കുന്നവൻ ആദ്ധ്യാത്മികലോകങളിലെത്തും, സംശയമില്ല. <EOS>\\n\", 'ഹേ ഭാരത, എല്ലാവരുടെയും ശ്രദ്ധ അവരവരുടെ ശ്രദ്ധയെ ആശ്രയിച്ചിരിക്കുന്നു. ഈ മനുഷ്യന്\\u200d ശ്രദ്ധാമയനാണ്. ഒരുവന്റെ ശ്രദ്ധ ഏതാണോ അവന്\\u200d ആ തരത്തിലുള്ളവനായിരിക്കും. <EOS>\\n', 'ഈശ്വരൻ ആരുടേയും പാപവും സുകൃതവും സ്വീകരിക്കുന്നില്ല. ജ്ഞാനം അജ്ഞാനത്താൽ മറയ്ക്കപ്പെട്ടിരിക്കുന്നതുകൊണ്ട് ജീവികൾ മോഹത്തിലാണ്ടുപോകുന്നു. <EOS>\\n', 'സഞ്ജയന്\\u200d പറഞ്ഞു: ഇപ്രകാരം വാസുദേവനായ ശ്രീകൃഷ്ണന്റെയും മഹാനായ അര്\\u200dജുനന്മാരുടെ അത്ഭുതകരവും രോമാഞ്ചജനകവുമായ സംവാദം ഞാന്\\u200d കേട്ടു. <EOS>\\n', 'അവന്\\u200d ആ ശ്രദ്ധയോടെ ആ ദേവന്റെ ആരാധന നടത്തുന്നു. അതില്\\u200dനിന്നു ഞാന്\\u200d തന്നെ നല്കുന്ന അതാതു കാമങ്ങള്\\u200d ആര്\\u200dജിക്കുകയും ചെയ്യുന്നു. <EOS>\\n', 'ഹേ അ\\u200dര്\\u200dജ്ജുനാ! ഞാ\\u200d\\u200dന്\\u200dഎന്റെ യോഗശക്തിയാല്\\u200d നിനക്കു കാട്ടിത്തന്നതായ തേജോമയവും അനാദ്യന്തവുമായ ഈ വിശ്വരൂപം മറ്റാരും ഇതുവരെ കണ്ടിട്ടുള്ളതല്ല. <EOS>\\n', 'ഹേ പാര്\\u200dഥ, നീ ഏകാഗ്രചിത്തനായി ഇതെല്ല\\u200dാം കേട്ടുവോ? നിന്റെ അജ്ഞാനവും മോഹവും നഷ്ടമായോ? <EOS>\\n', 'ഈ ലോകത്തില്\\u200d ജ്ഞാനം ഞാന്\\u200d എന്നെന്നും അശുഭങ്ങളായ ആസുരയോനികളില്\\u200d എറിയുന്നു (ജനിക്കുവാനിടയാക്കുന്നു). <EOS>\\n', 'ഹേ അര്\\u200dജുനാ, കഴിഞ്ഞതും ഇപ്പോഴുള്ളതും ഇനിയുണ്ടാകുന്നതുമായ ജീലജാലങ്ങളെയും ഞാനറിയുന്നു. എന്നാല്\\u200d എന്നെയാകട്ടെ ഒരുത്തരും അറിയുന്നില്ല. <EOS>\\n', 'ഹേ ശത്രുധ്വംസകനായ ഭരതവംശജാ, ഇച്ഛാ, ദ്വേഷം എന്നിവയില്\\u200dനിന്നുണ്ടാകുന്ന ദ്വന്ദ്വമോഹത്താല്\\u200d സര്\\u200dവഭൂതങ്ങളും സൃഷ്ടിഗതിയില്\\u200d മോഹം പ്രാപിക്കുന്നു. <EOS>\\n', 'അ\\u200dര്\\u200dജ്ജുനാ! മഹാത്മാക്കളാവട്ടെ ദിവ്യമായ സ്വഭാവത്തെ കൈക്കൊണ്ട്, ഏകാഗ്രചിത്തരായി ഭുതങ്ങ\\u200dള്\\u200dക്കെല്ല\\u200dാം ആദ്യനും അനശ്വരന്മായ എന്നെ അറിഞ്ഞു ഭജിക്കുന്നു. <EOS>\\n', 'ശ്രീ ഭഗവാന്\\u200d പറഞ്ഞു: ഹേ പാര്\\u200dത്ഥ, മനുഷ്യന്\\u200d എപ്പോള്\\u200d ആത്മാവിനാല്\\u200d ആത്മാവില്\\u200dത്തന്നെ സന്തുഷ്ടനായി മനസ്സിലുള്ള എല്ലാ ആഗ്രഹങ്ങളേയും (വാസനകളേയും) ഉപേക്ഷിക്കുന്നുവോ, അപ്പോള്\\u200d അവന്\\u200d സ്ഥിതപ്രജഞന്\\u200d എന്ന് പറയപ്പെടുന്നു. <EOS>\\n', 'അധിഭൂതത്തോടും അധിദൈവത്തോടും അധിയജ്ഞത്തോടും കൂടിയവനായി എന്നെ ആരറിയുന്നുവോ അവര്\\u200d മരണസമയത്തും യോഗയുക്തചിത്തരായി എന്നെ സാക്ഷാത്കരിക്കുന്നു. <EOS>\\n', 'അര്\\u200dജുനന്\\u200d ചോദിച്ചു: ഹേ പുരുഷോത്തമാ, ആ ബ്രഹ്മം എന്താണ്? അധ്യാത്മമെന്താണ്? കര്\\u200dമ്മമെന്താണ്? അധിഭൂതമെന്താണ്? അധിദൈവമെന്നു പറയപ്പെടുന്നതുമെന്താണ്? <EOS>\\n', 'അര്\\u200dജുനന്\\u200d പറഞ്ഞു: ഹേ അച്യുത, അവിടുത്തെ പ്രസാദം കൊണ്ട് എന്റെ മോഹം നഷ്ടമായി. എനിക്ക് ബോധമുണ്ടാകുകയും ചെയ്തു. ഞാന്\\u200d സംശയങ്ങളില്ലാത്തവനായി അവിടുത്തെ വാക്കു പാലിക്കുവാന്\\u200d തയ്യാറായി നില്ക്കുകയാണ്. <EOS>\\n', 'ഹേ പാര്\\u200dത്ഥ! ഈ സര്\\u200dവഭൂതങ്ങളും വീണ്ടും വീണ്ടും ഉണ്ടായി രാത്രിയുടെ ആരംഭത്തില്\\u200d പ്രകൃതിയില്\\u200d ലയിക്കയും പരാധീനരായി പ്രഭാതത്തില്\\u200d വീണ്ടും ഉത്ഭവിക്കയും ചെയ്യുന്നു. <EOS>\\n', 'ദേഹധാരികളില്\\u200dവച്ച് ശ്രേഷ്ഠനായ അര്\\u200dജുനാ! അധിഭൂതം നശ്വരമായ ഭാവമാണ്. അധിദൈവതം പുരുഷനാണ്. ഈ ദേഹത്തിലുള്ള ഞാന്\\u200d തന്നെയാണ് അധിയജഞ\\u200dന്\\u200d. <EOS>\\n', 'മരണസമയത്ത് എന്നെ തന്നെ സ്മരിച്ചുകൊണ്ടു ശരീരം വിട്ടു പോകുന്നവന്\\u200d എന്നെ തന്നെ പ്രാപിക്കുമെന്നതില്\\u200d സംശയമില്ല. <EOS>\\n', 'ഈ ലോകത്തെയാകമാനം പ്രകാശിപ്പിക്കുന്ന സൂര്യന്റെ തേജസ്സും, ചന്ദ്രനിലും അഗ്നിയിലുമുള്ള തേജസ്സും എന്റേതു തന്നെയെന്നറിയൂ. <EOS>\\n', 'അതുകൊണ്ടു ഏത് കാലത്തും എന്നെ സ്മരിക്കയും യുദ്ധം ചെയ്യുകയും ചെയ്യുക. എന്നില്\\u200d മനസ്സും ബുദ്ധിയും അര്\\u200dപ്പിച്ച നീ എന്നെ തന്നെ നിസ്സംശയമായും പ്രാപിക്കും. <EOS>\\n', 'ഹേ പാര്\\u200dത്ഥ! നിരന്തരമായ അഭ്യാസം കൊണ്ടു യോഗയുക്തവും മറ്റൊന്നിലേക്ക് പോവാത്തതുമായ മനസ്സോടുകൂടി ധ്യാനിക്കുന്നവന്\\u200d ആ ദിവ്യനായ പരമപുരുഷനെ പ്രാപിക്കുന്നു. <EOS>\\n', 'യജ്ഞത്തില്\\u200d ശേഷിക്കുന്നത് മാത്രം യജ്ഞം ചെയ്തു ശേഷിച്ചതായ വസ്തുക്കളെ നുഭവിക്കുന്ന സജ്ജനങ്ങള്\\u200d എല്ലാ പാപങ്ങളില്\\u200d നിന്നും മുക്തി നേടുന്നു. എന്നാ\\u200cല്\\u200dതങ്ങള്\\u200dക്കുവേണ്ടിത്തന്നെ ഭോഗസഞ്ചയം ചെയ്യുന്നവ\\u200dര്\\u200d പാപത്തെത്തന്നെ ഭുജിക്കുകയാണ്. <EOS>\\n', 'ഹേ വിഷ്ണോ, ആകാശം ചുടുന്നതും, നാനാവ\\u200dര്\\u200dണ്ണങ്ങ\\u200dള്\\u200d പൂണ്ട് സമുജ്ജ്വലിക്കുന്നതും, വായ്\\u200dപിള\\u200dര്\\u200dന്നതും, നീണ്ട നേത്രങ്ങളള്\\u200d മിന്നിത്തിളങ്ങുന്നതും ആയ അങ്ങയുടെ ഈ സ്വരൂപം കണ്ടിട്ട് എനിക്കു ധൈര്യവും സമാധാനവും നഷ്ടമാകുന്നു. <EOS>\\n', 'യാതൊന്നിനെ വേദജ്ഞര്\\u200d അക്ഷരം എന്ന് പറയുന്നുവോ, യാതൊന്നിനെ രാഗഹീനരായ യതികള്\\u200d പ്രാപിക്കുന്നുവോ, യാതൊന്നിനെ ആഗ്രഹിക്കുന്നവര്\\u200d ബ്രഹ്മചര്യമനുഷ്ടിക്കുന്നുവോ ആ പദത്തെ നിനക്കു സംക്ഷിപ്തമായി ഞാന്\\u200d പറഞ്ഞു തര\\u200dാം. <EOS>\\n', 'ഇവിടെ പറഞ്ഞ പ്രകാരം യോഗം പരിശീലിക്കണമെങ്കിൽ ആദ്യ മായി വേണ്ടത് ഇന്ദ്രിയങ്ങളുടെ കതകടയ്ക്കുകയാണ്. ഇപ്രകാരം ഇന്ദ്രി യങ്ങളെ സംയമിച്ച് മനസ്സിനെ ഹൃദയത്തിൽ ഏകാഗ്രമാക്കുകയും പ്രാ വായുവിനെ മൂർദ്ധാവിൽ സ്ഥിരീകരിക്കുകയും ചെയ്താൽ യോഗ സ്ഥനാകാം. <EOS>\\n', \"ഇങ്ങനെ യോഗസ്ഥനായി ഓം' എന്ന ഉത്തമമായ വിശുദ്ധാ ര സംയോഗമുച്ചരിച്ചുകൊണ്ടും പരമദിവ്യോത്തമപുരുഷനെ സ്മരി ച്ചുകൊണ്ടും ശരീരം ത്യജിക്കുന്നവൻ ആദ്ധ്യാത്മികലോകങളിലെത്തും, സംശയമില്ല. <EOS>\\n\", 'ഹേ കൗന്തേയ, ദോഷമുള്ളതാണെങ്കിലും സ്വധര്\\u200dമ്മത്തെ ഉപേക്ഷിക്കരുത്. തീ പുക കൊണ്ടെന്ന പോലെ എല്ലാ കര്\\u200dമ്മങ്ങളും ദോഷങ്ങളാല്\\u200d ആവൃതമാണ്. <EOS>\\n', 'ഭഗവാന്\\u200d പറഞ്ഞു: യാതൊന്നിനെ അറിഞ്ഞിട്ടാണോ മുനിമാര്\\u200d പരമസിദ്ധിയടയുന്നത് ജ്ഞാനങ്ങളില്\\u200d വെച്ച് ഏറ്റവും ഉത്തമവും പരമവുമായ ആ ജ്ഞാനത്തെ ഞാന്\\u200d വീണ്ടും പറയ\\u200dാം. <EOS>\\n', 'സ്വധ\\u200dര്\\u200dമ്മത്തെക്കുറിച്ച് ആലോചിച്ചിട്ടും നീ കുലുങ്ങേണ്ടതില്ല. എന്തെന്നാല്\\u200d ക്ഷത്രിയന് ധ\\u200dര്\\u200dമ്മ സംഗതമായ യുദ്ധത്തേക്കാള്\\u200d ശ്രേയസ്കരമായി മറ്റൊന്നുമില്ല. <EOS>\\n', 'അഗ്നി, ജ്യോതിസ്, വെളുത്ത പക്ഷം, ഉത്തരായണം ഇവയില്\\u200d ഇവയുടെ അധീശ്വരായ ദേവതകള്\\u200d വഴിയായി, ഗമിക്കുന്ന ബ്രഹ്മജ്ഞരായ ജനങ്ങള്\\u200d ബ്രഹ്മത്തെ പ്രാപിക്കുന്നു. <EOS>\\n', 'ബ്രഹ്മാവിന്റെ പകല്\\u200d തുടങ്ങുമ്പോള്\\u200d അവ്യക്തതയില്\\u200d നിന്നും എല്ലാ വസ്തുക്കളും ഉത്ഭവിക്കുന്നു. അവയെല്ല\\u200dാം ബ്രഹ്മാവിന്റെ രാത്രിയുടെ ആരംഭത്തില്\\u200d ആ മൂലപ്രകൃതിയില്\\u200d തന്നെ ലയിച്ചുചേരുകയും ചെയ്യുന്നു. <EOS>\\n', 'ഹേ പാര്\\u200dത്ഥ! ഈ സര്\\u200dവഭൂതങ്ങളും വീണ്ടും വീണ്ടും ഉണ്ടായി രാത്രിയുടെ ആരംഭത്തില്\\u200d പ്രകൃതിയില്\\u200d ലയിക്കയും പരാധീനരായി പ്രഭാതത്തില്\\u200d വീണ്ടും ഉത്ഭവിക്കയും ചെയ്യുന്നു. <EOS>\\n', 'എന്നാല്\\u200d ആ അവ്യക്തത്തിനുമപ്പുറത്ത് സനാതനമായ മറ്റൊരവ്യക്തഭാവമുണ്ട്. ഏതൊന്നാണോ എല്ലാ ഭൂതങ്ങളും നശിക്കുമ്പോഴും നശിക്കാതിരിക്കുന്നത് അത് ആ രണ്ടാമത് പറഞ്ഞ അവ്യക്തമാണ്. <EOS>\\n', 'ഈ ആത്മാവിനെ ആയുധങ്ങള്\\u200d മുറിവ് ഏല്\\u200dപ്പിക്കുന്നില്ല. ഇവനെ തീ ദാഹിപ്പിക്കുന്നില്ല. ഇവനെ വെള്ളം നനയ്ക്കുന്നില്ല. കാറ്റ് ഉണക്കുന്നുമില്ല. <EOS>\\n', 'ഹേ പാര്\\u200dത്ഥ, യാതോരുവന്റെ ഉള്ളിലാണോ ഭൂതങ്ങ\\u200d\\u200dള്\\u200d സ്ഥിതിചെയ്യുന്നത്\\u200d, യാതോരുവനാല്\\u200d ഇതെല്ല\\u200dാം വ്യാപ്തമായിരി ക്കുന്നുവോ ആ പരമപുരുഷനെ ഏകാന്തഭക്തികൊണ്ട് പ്രാപിക്കാവുന്നതാണ്. <EOS>\\n', 'ഞാന്\\u200d കര്\\u200dമ്മം ചെയ്തില്ലെങ്കില്\\u200d ഈ ലോകം മുഴുവന്\\u200d നശിക്കും. ഞാന്\\u200d വര്\\u200dണസങ്കരത്തിന്റെയും കര്\\u200dത്താവാകും. പ്രജകള്\\u200d ദുഷിക്കുകയും ചെയ്യും. <EOS>\\n', 'അഗ്നി, ജ്യോതിസ്, വെളുത്ത പക്ഷം, ഉത്തരായണം ഇവയില്\\u200d ഇവയുടെ അധീശ്വരായ ദേവതകള്\\u200d വഴിയായി, ഗമിക്കുന്ന ബ്രഹ്മജ്ഞരായ ജനങ്ങള്\\u200d ബ്രഹ്മത്തെ പ്രാപിക്കുന്നു. <EOS>\\n', 'ധൂമം, രാത്രി, അതുപോലെ കൃഷ്ണപക്ഷം, ദക്ഷിണായനം ഇവയില്\\u200d ഇവയുടെ ദേവതകള്\\u200d വഴി ഗമിക്കുന്ന യോഗി ചന്ദ്രനിലുള്ള ജ്യോതിസിനെ പ്രാപിച്ച് തിരിച്ച് ഭൂമിയില്\\u200d വരുന്നു. <EOS>\\n', 'ഹേ രാജന്\\u200d\\u200d, വിഷ്ണുവിന്റെ ആ അത്ഭുതകരമായ രൂപത്തെ (വിശ്വരൂപത്തെ) ഓര്\\u200dക്കുന്തോറും എനിക്ക് പിന്നെയും പിന്നെയും മഹത്തായ വിസ്മയവും ആനന്ദവുമുണ്ടാകുന്നു. <EOS>\\n', 'സഞ്ജയന്\\u200d പറഞ്ഞു: ശത്രുനാശകനായ അര്\\u200dജുനന്\\u200d കൃഷ്ണനോട് ഞാന്\\u200d യുദ്ധം ചെയ്കയില്ല എന്ന് പറഞ്ഞു മൗനം അവലംബിച്ചു. <EOS>\\n', 'അങ്ങിനെ മറ്റു ചിലര്\\u200d പ്രാണായാമ തല്\\u200dപരരായി ദേഹത്തിലുള്ള വായുവിന്റെ ഉര്\\u200dധ്വമുഖവും അധോമുഖവുമായ ചലനത്തെ തടഞ്ഞിട്ട് അപാനനില്\\u200d പ്രാണനെയും പ്രാണനില്\\u200d അപാനനെയും ഹോമിക്കുന്നു. <EOS>\\n', 'ഹേ കൗന്തേയ, ദോഷമുള്ളതാണെങ്കിലും സ്വധര്\\u200dമ്മത്തെ ഉപേക്ഷിക്കരുത്. തീ പുക കൊണ്ടെന്ന പോലെ എല്ലാ കര്\\u200dമ്മങ്ങളും ദോഷങ്ങളാല്\\u200d ആവൃതമാണ്. <EOS>\\n', 'ഹേ പാര്\\u200dത്ഥ! ഈ സര്\\u200dവഭൂതങ്ങളും വീണ്ടും ഉണ്ടായി രാത്രിയുടെ ആരംഭത്തില്\\u200d ആ രണ്ടിൽ കർമ്മസന്യാസത്തെ അപേക്ഷിച്ച് കർമ്മ യോഗമാണ് ശ്രേഷ്ഠം. <EOS>\\n', 'ഞാൻ വേഗത്തിൽ ജനനമരണങ്ങളുടെ ഈ സമുദ്രത്തിൽ നിന്ന് കരകയറ്റും. <EOS>\\n', 'ഹേ അര്\\u200dജുനാ, കഴിഞ്ഞതും ഇപ്പോഴുള്ളതും ഇനിയുണ്ടാകുന്നതുമായ ജീലജാലങ്ങളെയും ഞാനറിയുന്നു. എന്നാല്\\u200d എന്നെയാകട്ടെ ഒരുത്തരും അറിയുന്നില്ല. <EOS>\\n', 'ഭുതങ്ങ\\u200dള്\\u200d (യഥാര്\\u200dഥത്തില്\\u200d) എന്നില്\\u200d സ്ഥിതി ചെയ്യുന്നതുമില്ല. എന്റെ ദിവ്യമായ യോഗശക്തിയെ കണ്ടാലും. ഞാ\\u200dന്\\u200d സര്\\u200dവ്വ ഭൂതങ്ങളേയും ഉണ്ടാക്കുന്നവനും ധരിക്കുന്നവനുമാണെങ്കിലും ഞാ\\u200dന്\\u200d ഭൂതങ്ങളില്\\u200d സ്ഥിതി ചെയ്യുന്നില്ല. <EOS>\\n', 'സ\\u200dര്\\u200dവത്ര സഞ്ചരിക്കുന്നതും മഹത്തായുള്ളതുമായ വായു എങ്ങനെ എപ്പോഴും ആകാശത്തി\\u200d\\u200dല്\\u200dസ്ഥിതിചെയ്യുന്നുവോ അങ്ങിനെയാണ് സ\\u200dര്\\u200dവഭുതങ്ങളും എന്നി\\u200dല്\\u200d കുടികൊള്ളുന്നത്. <EOS>\\n', 'അര്\\u200dജുനന്\\u200d പറഞ്ഞു: ഹേ അച്യുത, അവിടുത്തെ പ്രസാദം കൊണ്ട് എന്റെ മോഹം നഷ്ടമായി. എനിക്ക് ബോധമുണ്ടാകുകയും ചെയ്തു. ഞാന്\\u200d സംശയങ്ങളില്ലാത്തവനായി അവിടുത്തെ വാക്കു പാലിക്കുവാന്\\u200d തയ്യാറായി നില്ക്കുകയാണ്. <EOS>\\n', 'ഹേ കൗന്തേയ, രജസ്സിന്റെ സ്വഭാവം രാഗമാണെന്നറിയൂ. അത് തൃഷ്ണ (ആഗ്രഹം) യെയും സംഗത്തെയും ജനിപ്പിക്കുകയും കര്\\u200dമ്മത്തോടുള്ള സംഗത്താല്\\u200d ദേഹിയെ ബന്ധിക്കുകയും ചെയ്യുന്നു. <EOS>\\n', ' അനേകായിരം ആഗ്രഹങ്ങളുടെ വലക്കെട്ടിലകപ്പെട്ട് കാമ കാധങ്ങൾ ക്കധീനരായി സുഖഭോഗങ്ങൾക്കായി അന്യായമായിട്ടെ ങ്കിലും അവർ ധനം സമ്പാദിക്കുന്നു. <EOS>\\n', 'അ\\u200dര്\\u200dജ്ജുനാ! എന്റെ മേ\\u200dല്\\u200dനോട്ടത്തി\\u200d\\u200dല്\\u200d പ്രകൃതി സ\\u200dര്\\u200dവചരാചരങ്ങളേയും ജനിപ്പിക്കുന്നു. എന്റെ അദ്ധ്യക്ഷതയാല്\\u200d തന്നെ പ്രപഞ്ചം ഉത്ഭവിക്കുന്നു. <EOS>\\n', 'ഹേ കൗന്തേയ, രജസ്സിന്റെ സ്വഭാവം രാഗമാണെന്നറിയൂ. അത് തൃഷ്ണ (ആഗ്രഹം) യെയും സംഗത്തെയും ജനിപ്പിക്കുകയും കര്\\u200dമ്മത്തോടുള്ള സംഗത്താല്\\u200d ദേഹിയെ ബന്ധിക്കുകയും ചെയ്യുന്നു. <EOS>\\n', 'ഹേ പാര്\\u200dഥ, നീ ഏകാഗ്രചിത്തനായി ഇതെല്ല\\u200dാം കേട്ടുവോ? നിന്റെ അജ്ഞാനവും മോഹവും നഷ്ടമായോ? <EOS>\\n', 'അ\\u200dര്\\u200dജ്ജുനാ! മഹാത്മാക്കളാവട്ടെ ദിവ്യമായ സ്വഭാവത്തെ കൈക്കൊണ്ട്, ഏകാഗ്രചിത്തരായി ഭുതങ്ങ\\u200dള്\\u200dക്കെല്ല\\u200dാം ആദ്യനും അനശ്വരന്മായ എന്നെ അറിഞ്ഞു ഭജിക്കുന്നു. <EOS>\\n', 'അവ\\u200dര്\\u200d എന്നെ എപ്പോഴും സ്തുതിക്കയും ദൃഢവ്രതരായി പ്രയത്നിച്ച് ഏകാഗ്രമനസ്സോടും ഭക്തിയോടും കൂടി എന്നെ നമസ്കരിക്കുകയും ചെയ്തു പൂജിക്കുന്നു. <EOS>\\n', 'വേറേ ചില\\u200dര്\\u200d സ\\u200dര്\\u200dവത്മാവായ എന്നെ ജ്ഞാനയജ്ഞത്താല്\\u200d ഏകഭാവത്തോടും ഭേദഭാവത്തോടും പല രീതിയി\\u200d\\u200d\\u200dല്\\u200d യജിച്ചു ഭജിക്കുന്നു. <EOS>\\n', 'യാഗം ഞാനാണ്; യജ്ഞം ഞാനാണ്; ശ്രാദ്ധവും ഞാനാണ്; ഞാനാണ് ഔഷധം; ഞാനാണ് ഹോമദ്രവ്യങ്ങ\\u200dള്\\u200d\\u200d; അഗ്നിയും ഞാ\\u200d\\u200d\\u200dന്\\u200dതന്നെ; ഹോമവും ഞാ\\u200dന്\\u200dതന്നെ. <EOS>\\n', 'അ\\u200dര്\\u200dജ്ജുനാ! ഞാ\\u200dന്\\u200d സ\\u200dര്\\u200dവഭൂതങ്ങളുടേയും അന്തരംഗത്തി\\u200dല്\\u200d സ്ഥിതിചെയ്യുന്ന പരമാത്മാവാണ്. സ\\u200dര്\\u200dവചരാചരങ്ങളുടെയും ആദിയും മദ്ധ്യവും അന്തവും ഞാനാണ്. <EOS>\\n', 'ആദിമദ്ധ്യാന്തരഹിതനും അളവറ്റ വീര്യത്തോടുകൂടിയവനും അനേകം കൈകളുള്ളവനും ജ്വലിക്കുന്ന അഗ്നിയെപ്പോലെ ജാജ്ജ്വല്യമാനമായ വക്ത്രത്തോടുകൂടിയവനും, സൂര്യചന്ദ്രന്മാരാകുന്ന കണ്ണുകളുള്ളവനും സ്വതേജസ്സിനാ\\u200dല്\\u200d ഈ ലോകം മുഴുവനും തപിപ്പിക്കുന്നവനുമായ അങ്ങയെയാണ് ഞാനെങ്ങും കാണുന്നത്. <EOS>\\n', 'അ\\u200dര്\\u200dജ്ജുനാ! ഞാ\\u200d\\u200d\\u200dന്\\u200dചൂടുണ്ടാക്കുന്നു. ഞാന്\\u200d മഴ പെയ്യിക്കുയും, അതു തടുക്കയും ചെയ്യുന്നു. ജീവിതവും, മരണവും, സത്തും, അസത്തും ഞാ\\u200dന്\\u200dതന്നെ. <EOS>\\n', 'മുന്നുവേദങ്ങളും അറിയുന്നവര്\\u200d യജ്ഞങ്ങളാല്\\u200d എന്നെ പുജിച്ച്, യജ്ഞാവശേഷത്തെ ആസ്വദിച്ച് പാപഹീനന്മാരായി സ്വര്\\u200dഗ്ഗലോകത്തെ പ്രാപിക്കാ\\u200d\\u200dന്\\u200d പ്രാ\\u200dര്\\u200dത്ഥിക്കുന്നു. അവ\\u200dര്\\u200d ശോഭനമായ സ്വര്\\u200dഗ്ഗത്തി\\u200dല്\\u200dചെന്ന് അവിടത്തെ ദിവ്യങ്ങളായ ദേവഭോഗങ്ങളെ അനുഭവിക്കുന്നു. <EOS>\\n', 'ശ്രീ ഭഗവാന്\\u200d പറഞ്ഞു: ക\\u200dര്\\u200dമ്മഫലത്തെ ആശ്രയിക്കാതെ കര്\\u200dത്തവ്യമായ ക\\u200dര്\\u200dമ്മം ആരു ചെയ്യുന്നുവോ അവന്\\u200d സന്യാസിയും യോഗിയുമാണ്. അല്ലാതെ അഗ്നിഹോത്രാദികളെ ചെയ്യാത്തവനും, ക\\u200dര്\\u200dമ്മത്തെ ഉപേക്ഷിച്ചു സ്വസ്ഥനായിരിക്കുന്നവനുമല്ല. <EOS>\\n', 'ഏകാഗ്രചിത്തത്തോടുകുടി എന്നെത്തന്നെ ചിന്തിച്ചുഭജിച്ച് നിരന്തരം ധ്യാനിച്ചുകൊണ്ടിരിക്കുന്ന ജനങ്ങളുടെ യോഗക്ഷേമത്തെ ഞാ\\u200d\\u200dന്\\u200dവഹിക്കുന്നു. <EOS>\\n', 'സഞ്ജയന്\\u200d പറഞ്ഞു: അങ്ങനെ മനസ്സലിഞ്ഞവനും, കണ്ണീര്\\u200d നിറഞ്ഞ കണ്ണുകളോടുകൂടിയവനും ദുഃഖിക്കുന്നവനുമായ അര്\\u200dജുനനോടു ശ്രീകൃഷ്ണന്\\u200d ഇപ്രകാരം പറഞ്ഞു. <EOS>\\n', 'ദൃഢചിത്തന്മാരായി പ്രീതിപൂ\\u200dര്\\u200dവം എന്നെ ഭജിക്കുന്നവ\\u200dര്\\u200dക്ക് ഞാ\\u200dന്\\u200d ബുദ്ധിയോഗത്തെ നല്കുകയും അതിന്റെ ഫലമായി അവ\\u200dര്\\u200d എന്നെ പ്രാപിക്കുകയും ചെയ്യുന്നു. <EOS>\\n', 'അങ്ങനെയിരിക്കെ പുണ്യവാന്മാരായ ബ്രഹ്മണന്മാരേയും ഭക്തന്മാരായ രാജ\\u200dര്\\u200dഷിമാരെയും കുറിച്ച് പറയേണ്ടതുണ്ടോ? അനിത്യവും സുഖഹീനവുമായ ഈ മനുഷ്യലോകത്തെ പ്രാപിച്ചിരിക്കുന്നതിനാ\\u200dല്\\u200d എന്നെ ഭജിച്ചാലും. <EOS>\\n', 'പത്രം, പുഷ്പം, ഫലം, ജലം എന്നിവ ഭക്തിയോടു കൂടി എനിക്കായി നിവേദിക്കുന്ന ഏകാഗ്രചിത്തന്റെ ആ ഭക്തി പൂര്\\u200dവകമായ വഴിപാടിനെ ഞാന്\\u200d കൈക്കൊള്ളുന്നു. <EOS>\\n', 'അ\\u200dര്\\u200dജ്ജുനാ! നീ ഏതൊന്നു ചെയുന്നവോ, ഏതൊന്ന് ഭക്ഷിക്കുന്നുവോ, ഏതൊന്നു ഹോമിക്കുന്നുവോ, ഏതൊന്നു ന\\u200dല്\\u200dകുന്നുവോ, ഏതൊരു തപസ്സുചെയ്യുന്നുവോ അതൊക്കയും എന്നി\\u200dല്\\u200d സമ\\u200dര്\\u200dപ്പിച്ചാലും. <EOS>\\n', 'കര്\\u200dമ്മങ്ങളെയെല്ല\\u200dാം ദോഷമായികണ്ട് ത്യജിക്കണമെന്ന് ചില വിദ്വാന്മാര്\\u200d പറയുന്നു. യജ്ഞം, ദാനം, തപസ്സ് എന്നീ കര്\\u200dമ്മങ്ങളെ ത്യജിക്കരുതെന്ന് വേറെ ചിലര്\\u200d പറയുന്നു. <EOS>\\n', 'ഞാന്\\u200d ഭൂതങ്ങളിലെല്ല\\u200dാം സമഭാവത്തോടുകൂടിയാണ് വ\\u200dര്\\u200dത്തിക്കുന്നത്. എനിക്കു ശത്രുവില്ല. ഇഷ്ടനുമില്ല. എന്നാ\\u200dല്\\u200d ഭക്തിയോടുകൂടി ഭജിക്കുന്നവര്\\u200d എന്നിലും ഞാന്\\u200d അവരിലുമുണ്ട്. <EOS>\\n', 'ഏറ്റവും ദുരാചാരനായവ\\u200dന്\\u200d തന്നെ എന്നെ ഏകാഗ്രചിത്തനായി ഭജിക്കുന്നുവെങ്കി\\u200dല്\\u200d അവനെ ശിഷ്ടനായി കരുത\\u200dാം. അവ\\u200dന്\\u200d ദൃഢവ്രതനാണ്. <EOS>\\n', 'അവ\\u200dന്\\u200d വേഗത്തി\\u200dല്\\u200d ധര്\\u200dമ്മാത്മാവായിത്തീ\\u200dര്\\u200dന്ന് ശാശ്വതമായ ശാന്തിയെ പ്രാപിക്കുന്നു. ഹേ അ\\u200dര്\\u200dജ്ജുനാ! എന്റെ ഭക്ത\\u200dന്\\u200d നശിക്കുന്നില്ലെന്ന് അറിഞ്ഞാലും. <EOS>\\n', 'അ\\u200dര്\\u200dജ്ജുനാ! സ്ത്രീകളോ, വൈശ്യന്മാരോ, ശുദ്രന്മാരോ, നീചകുലജാതന്മാരോ ആരായിരുന്നാലും എന്നെ ഭജിക്കുന്നവ\\u200dര്\\u200d പരമഗതിയെ പ്രാപിക്കുന്നു. <EOS>\\n', 'അങ്ങനെയിരിക്കെ പുണ്യവാന്മാരായ ബ്രഹ്മണന്മാരേയും ഭക്തന്മാരായ രാജ\\u200dര്\\u200dഷിമാരെയും കുറിച്ച് പറയേണ്ടതുണ്ടോ? അനിത്യവും സുഖഹീനവുമായ ഈ മനുഷ്യലോകത്തെ പ്രാപിച്ചിരിക്കുന്നതിനാ\\u200dല്\\u200d എന്നെ ഭജിച്ചാലും. <EOS>\\n', 'കുന്തീപുത്രാ, ഇന്ദ്രിയങ്ങളും വിഷയങ്ങളും തമ്മിലുള്ള സ്പര്\\u200dശങ്ങള്\\u200d ശീതോഷ്ണങ്ങളെയും സുഖദുഃഖങ്ങളെയും നല്\\u200dകുന്നവയും, വന്നും പോയും ഇരിക്കുന്നവയും അനിത്യങ്ങളുമാണ്. ഭരതവംശത്തില്\\u200d ജനിച്ചവനെ, അവ നിര്\\u200dവികാരനായി സഹിച്ചു കൊള്ളുക. <EOS>\\n', 'ശ്രീകൃഷ്ണ\\u200dന്\\u200dപറഞ്ഞു: അ\\u200dര്\\u200dജ്ജുനാ! സംപ്രീതനായ നിന്റെ ഹിതമാഗ്രഹിച്ചുകൊണ്ട് ഞാന്\\u200d വീണ്ടും പറയുന്ന ഉത്കൃഷ്ടമായ വാക്കുകളെ കേട്ടാലും. <EOS>\\n', 'എന്റെ ഉ\\u200dല്\\u200dപത്തിയെ ദേവന്മാരോ മഹ\\u200dര്\\u200dഷിമാരോ അറിയുന്നില്ല. മഹ\\u200dര്\\u200dഷിമാ\\u200dര്\\u200dക്കും, ദേവന്മാ\\u200dര്\\u200dക്കും, എല്ലാവിധത്തിലും ഞാ\\u200d\\u200dന്\\u200d ആദ്യനായുള്ളവനാണ്. <EOS>\\n', 'എന്നെ അനാദ്യനായും ജന്മഹീനനായും സ\\u200dര്\\u200dവേശ്വരനായും അറിയുന്നവ\\u200dന്\\u200d മനുഷ്യരി\\u200dല്\\u200dവച്ച് അജ്ഞാനരഹിതനായി എല്ലാ പാപങ്ങളി\\u200dല്\\u200dനിന്നും മുക്തനായിത്തീരുന്നു. <EOS>\\n', 'ബുദ്ധി, ജ്ഞാനം, സംശയമില്ലായ്മ, വ്യാമോഹമില്ലായ്മ, ക്ഷമ, സത്യം, ഇന്ദ്രിയസംയമനം, മനഃസംയമനം, സുഖദുഃഖങ്ങൾ, ജനനമര ണങ്ങൾ, ഭയം, ഭയരാഹിത്യം,  <EOS>\\n', 'അഹിംസ, സമതുലിതാവസ്ഥ, തൃപ്തി, തപസ്സ്, ദാനം, കീർത്തി, അപകീർത്തി എന്നിങ്ങനെ ജീവാത്മാക്കളുടെ വിവിധ ഗുണങ്ങളെല്ലാം ഞാൻ തന്നെയാണ് സൃഷ്ടിച്ചത്. <EOS>\\n', 'പൂ\\u200dര്\\u200dവന്മാരായ ഏഴു മഹ\\u200dര്\\u200dഷികളും അങ്ങനെതന്നെ നാലു മനുക്കളും എന്റെ ഭാവത്തോടുകുടി എന്റെ സങ്കല്പത്തി\\u200dല്\\u200dനിന്ന് ഉണ്ടായവരാണ്. അവരി\\u200dല്\\u200dനിന്നു ഈ പ്രജകളെല്ല\\u200dാം ലോകത്തി\\u200d\\u200dല്\\u200d ജനിച്ചു. <EOS>\\n', 'മരണസമയത്ത് എന്നെ തന്നെ സ്മരിച്ചുകൊണ്ടു ശരീരം വിട്ടു പോകുന്നവന്\\u200d എന്നെ തന്നെ പ്രാപിക്കുമെന്നതില്\\u200d സംശയമില്ല. <EOS>\\n', 'ഞാനാണ് എല്ലാത്തിന്റെയും ഉത്ഭവസ്ഥാനമെന്നും സ\\u200dര്\\u200dവവും എന്നില്\\u200d നിന്നാണ് പ്രവ\\u200dര്\\u200dത്തിക്കുന്നതെന്നും അറിഞ്ഞ് പണ്ഡിതന്മാ\\u200dര്\\u200d ഏകാഗ്രഭാവത്തോടുകൂടി എന്നെ ഭജിക്കുന്നു. <EOS>\\n', 'എന്നി\\u200d\\u200dല്\\u200d മനസ്സുവയ്ക്കുകയും, എല്ലാ ഇന്ദ്രിയങ്ങളും എന്നില്\\u200d ലയിക്കുകയും ചെയ്തവ\\u200dര്\\u200d നിരന്തരം എന്നെപ്പറ്റി പരസ്പരം ബോധിപ്പിക്കുകയും ആനന്ദിക്കുകയും ചെയ്യുന്നു. <EOS>\\n', 'ദൃഢചിത്തന്മാരായി പ്രീതിപൂ\\u200dര്\\u200dവം എന്നെ ഭജിക്കുന്നവ\\u200dര്\\u200dക്ക് ഞാ\\u200dന്\\u200d ബുദ്ധിയോഗത്തെ നല്കുകയും അതിന്റെ ഫലമായി അവ\\u200dര്\\u200d എന്നെ പ്രാപിക്കുകയും ചെയ്യുന്നു. <EOS>\\n', 'അവരി\\u200d\\u200dല്\\u200d അനുകമ്പയോടുകൂടി ഞാ\\u200cന്\\u200d അവരുടെ മനസ്സിരുന്നു കൊണ്ട്, അജ്ഞാനത്തി\\u200cല്\\u200dന നിന്നുണ്ടായ അന്ധകാരത്തെ ഉജ്ജ്വലമായ ജ്ഞാനദീപം കൊണ്ട് നശിപ്പിക്കുന്നു. <EOS>\\n', 'അർജുനൻ പറഞ്ഞു: അങ്ങ് പരമദിവ്യോത്തമപുരുഷനാണ്. പരമമായ ധാമവും പവിത്രമായതും നിരപേക്ഷതത്ത്വവും ഭവാൻ തന്നെ. സനാതനനും, അഭൗതികനും, ആദിപുരുഷനും അജനും, മഹാനുമാണ്  <EOS>\\n', 'അതെന്ന് ദേവർഷിയായ നാരദനും അസിതൻ, ദേവലൻ, വ്യാസൻ മുതലായ എല്ലാ ഋഷികളും ഊന്നിപ്പറയുന്നു. ഇപ്പോൾ അങ്ങ് സ്വയം എന്നോട് ഇത് വ്യക്തമായി പറയുകയും ചെയ്യുന്നു. <EOS>\\n', ' ഭൗതികമായുള്ള ബന്ധത്തിൽ നിന്നുളവാകുന്ന സർവ്വകേശങ്ങളിൽ നിന്നുമുള്ള യഥാർത്ഥ മോചനമാണിത് <EOS>\\n', 'ഇളക്കമറ്റ മനസ്സോടുകൂടിയവനും രജോഗുണമടങ്ങിയവനും നിഷ്പാപനും ബ്രഹ്മതാദാത്മ്യം പ്രാപിച്ചവനുമായ ഈ യോഗി ഉത്തമമായ സുഖത്തെ പ്രാപിക്കുന്നു. <EOS>\\n', 'അങ്ങയുടെ ദിവ്യങ്ങളായ ഐശ്വര്യങ്ങളേയും അങ്ങ ലോകങ്ങളില്\\u200d ഏതേതു ഐശ്വര്യങ്ങളാ\\u200cല്\\u200d വ്യാപിച്ചു നി\\u200dല്\\u200dക്കുന്നുവോ അവയേയും അങ്ങുതന്നെയാണ് പറയേണ്ടത്. <EOS>\\n', 'ഹേ കൗന്തേയ, ദോഷമുള്ളതാണെങ്കിലും സ്വധര്\\u200dമ്മത്തെ ഉപേക്ഷിക്കരുത്. തീ പുക കൊണ്ടെന്ന പോലെ എല്ലാ കര്\\u200dമ്മങ്ങളും ദോഷങ്ങളാല്\\u200d ആവൃതമാണ്. <EOS>\\n', 'ശ്രദ്ധയോടെയും, അസൂയയില്ലാതെയും യാതൊരുവനാണോ ഇതു കേള്\\u200dക്കുന്നത് അവന്\\u200d മുക്തനാകുകയും പുണ്യകര്\\u200dമ്മം ചെയ്തവര്\\u200d പ്രാപിക്കുന്ന ശുഭലോകങ്ങളെ പ്രാപിക്കുകയും ചെയ്യും. <EOS>\\n', 'കൃഷ്ണ\\u200dന്\\u200dപറഞ്ഞു: അ\\u200dര്\\u200dജ്ജുനാ! എന്റെ ദിവ്യങ്ങളായ ഐശ്വര്യങ്ങളി\\u200dല്\\u200d പ്രധാനമായിട്ടുള്ളവയെ നിന്നോടു പറയ\\u200dാം. അവ വിശദീകരിക്കുകയാണെങ്കില്\\u200d അതിന് ഒരന്തവുമുണ്ടാവില്ല. <EOS>\\n', 'അ\\u200dര്\\u200dജ്ജുനാ! ഞാ\\u200dന്\\u200d സ\\u200dര്\\u200dവഭൂതങ്ങളുടേയും അന്തരംഗത്തി\\u200dല്\\u200d സ്ഥിതിചെയ്യുന്ന പരമാത്മാവാണ്. സ\\u200dര്\\u200dവചരാചരങ്ങളുടെയും ആദിയും മദ്ധ്യവും അന്തവും ഞാനാണ്. <EOS>\\n', 'ആദിത്യന്മാരി\\u200d\\u200dല്\\u200d വിഷ്ണുവും, ജ്യോതിസ്സുകളി\\u200dല്\\u200d സഹസ്രകിരണനായ സൂര്യനും, വായുക്കളി\\u200c\\u200dല്\\u200d മരീചിയും, നക്ഷത്രങ്ങളില്\\u200d ചന്ദ്രനും ഞാനാണ്. <EOS>\\n', 'വേദങ്ങളി\\u200dല്\\u200d സാമവേദവും, ദേവന്മാരില്\\u200d ഇന്ദ്രനും, ഇന്ദ്രിയങ്ങളി\\u200d\\u200dല്\\u200d മനസ്സും, ഭൂതങ്ങളില്\\u200d പ്രാണനും ഞാനാണ്. <EOS>\\n', 'രുദ്രന്മാരി\\u200d\\u200dല്\\u200d ശങ്കരനും, യക്ഷന്മാരിലും രാക്ഷസന്മാരിലും കുബേരനും, വസുക്കളില്\\u200d അഗ്നിയും, പ\\u200dര്\\u200dവതങ്ങളി\\u200d\\u200dല്\\u200d മഹാമേരുവും ഞാനാണ്. <EOS>\\n', 'അ\\u200dര്\\u200dജ്ജുനാ! പുരോഹിതന്മാരില്\\u200d ബൃഹസ്പതിയാണ് ഞാന്\\u200d. സൈന്യാധിപന്മാരി\\u200dല്\\u200d ഞാന്\\u200d സുബ്രഹ്മണ്യനാണ്. സരസ്സുകളി\\u200d\\u200cല്\\u200d സമുദ്രവും ഞാനാണ്. <EOS>\\n', 'മറുവശത്ത് കൃഷ്ണാർജുനന്മാർ വെള്ളക്കുതിരകളെ പൂട്ടിയ വൻതേരിൽ നിന്നുകൊണ്ട് തങ്ങളുടെ ദിവ്യശംഖങ്ങൾ മുഴക്കി. <EOS>\\n', 'ഹേ കൗന്തേയ, രജസ്സിന്റെ സ്വഭാവം രാഗമാണെന്നറിയൂ. അത് തൃഷ്ണ (ആഗ്രഹം) യെയും സംഗത്തെയും ജനിപ്പിക്കുകയും കര്\\u200dമ്മത്തോടുള്ള സംഗത്താല്\\u200d ദേഹിയെ ബന്ധിക്കുകയും ചെയ്യുന്നു. <EOS>\\n', 'ഹേ ജനാ\\u200d\\u200dര്\\u200dദ്ദനാ! അങ്ങയുടെ സൗമ്യമായ മാനുഷരൂപംകണ്ട് ഞാനിപ്പോ\\u200dള്\\u200d മനസ്സമാധാനത്തെയും പു\\u200dര്\\u200dവപ്രകൃതിയെയും പ്രാപിച്ചവനായിത്തീ\\u200dര്\\u200dന്നിരിക്കുന്നു. <EOS>\\n', 'അ\\u200dര്\\u200dജ്ജുനാ! സൃഷ്ടിവ\\u200dര്\\u200dഗ്ഗങ്ങളില്\\u200d ഉല്പത്തിസ്ഥിതിലയങ്ങ\\u200dള്\\u200d ഞാനാണ്. വിദ്യകളില്\\u200d അദ്ധ്യാത്മവിദ്യയും പരസ്പര സംഭാഷണങ്ങളി\\u200d\\u200dല്\\u200d വാദവും ഞാ\\u200dന്\\u200d തന്നെ. <EOS>\\n', 'ശ്രീ ഭഗവാന്\\u200d പറഞ്ഞു: ഹേ പാര്\\u200dത്ഥ, മനുഷ്യന്\\u200d എപ്പോള്\\u200d ആത്മാവിനാല്\\u200d ആത്മാവില്\\u200dത്തന്നെ സന്തുഷ്ടനായി മനസ്സിലുള്ള എല്ലാ ആഗ്രഹങ്ങളേയും (വാസനകളേയും) ഉപേക്ഷിക്കുന്നുവോ, അപ്പോള്\\u200d അവന്\\u200d സ്ഥിതപ്രജഞന്\\u200d എന്ന് പറയപ്പെടുന്നു. <EOS>\\n', 'ഈ ജീവന്\\u200d ചെവി, കണ്ണ്, ത്വക്ക്, നാക്ക്, മൂക്ക് എന്നീ അഞ്ചിന്ദ്രിയങ്ങളെയും മനസ്സിനെയും ആശ്രയിച്ച് വിഷയങ്ങളെ അനുഭവിക്കുന്നു. <EOS>\\n', 'ശുദ്ധീകരണവസ്തുക്കളി\\u200d\\u200dല്\\u200d വായുവും, ആയുധധാരികളി\\u200dല്\\u200d രാമനും ഞാനാണ്. മത്സ്യങ്ങളി\\u200d\\u200dല്\\u200d മകരവും, നദികളില്\\u200d ഗംഗയും ഞാനാണ്. <EOS>\\n', 'അ\\u200dര്\\u200dജ്ജുനാ! സൃഷ്ടിവ\\u200dര്\\u200dഗ്ഗങ്ങളില്\\u200d ഉല്പത്തിസ്ഥിതിലയങ്ങ\\u200dള്\\u200d ഞാനാണ്. വിദ്യകളില്\\u200d അദ്ധ്യാത്മവിദ്യയും പരസ്പര സംഭാഷണങ്ങളി\\u200d\\u200dല്\\u200d വാദവും ഞാ\\u200dന്\\u200d തന്നെ. <EOS>\\n', 'ഹേ ജനാ\\u200d\\u200dര്\\u200dദ്ദനാ! അങ്ങയുടെ സൗമ്യമായ മാനുഷരൂപംകണ്ട് ഞാനിപ്പോ\\u200dള്\\u200d മനസ്സമാധാനത്തെയും പു\\u200dര്\\u200dവപ്രകൃതിയെയും പ്രാപിച്ചവനായിത്തീ\\u200dര്\\u200dന്നിരിക്കുന്നു. <EOS>\\n', 'സ\\u200dര്\\u200dവത്തേയും നശിപ്പിക്കുന്നവരില്\\u200d മൃത്യുവും, ഭാവിയുടെ ഉ\\u200dല്\\u200dപാദകനും, സ്ത്രികളി\\u200cല്\\u200d കീ\\u200dര്\\u200dത്തി, ശ്രീ, സരസ്വതി, സ്മൃതി, ബുദ്ധി, ധൈര്യം, ക്ഷമ എന്നിവയും ഞാനാണ്. <EOS>\\n', 'സാമവേദത്തി\\u200dല്\\u200d ബൃഹ\\u200dല്\\u200dസാമവും, ഛന്ദസ്സുകളില്\\u200d ഗായത്രിയും ഞാനാണ്. അങ്ങനെ മാസങ്ങളി\\u200d\\u200dല്\\u200d മാര്\\u200dഗ്ഗശീര്\\u200dഷവും ഋതുക്കളില്\\u200d വസന്തവും ഞാനാണ്. <EOS>\\n', 'ഈ തത്വത്തെ അറിയുന്നവരായ പൂര്\\u200dവ്വികരായ മുമുക്ഷുക്കള്\\u200dക്കൂടി, നിഷ്കാമ ബുദ്ധിയോടുകൂടി ക\\u200dര്\\u200dമ്മം അനുഷ്ഠിച്ചു. അതുകൊണ്ട് പൂര്\\u200dവ്വികന്മാര്\\u200d പണ്ടു ചെയ്തതുപോലെ നീയും ക\\u200dര്\\u200dമ്മം ചെയ്യുക തന്നെ വേണം. <EOS>\\n', 'വൃഷ്ണികളില്\\u200d കൃഷ്ണനും, പാണ്ഡവന്മാരില്\\u200d അര്\\u200dജുനനും, മുനികളില്\\u200d വ്യാസനും, കവികളി\\u200dല്\\u200d ശുക്രനും ഞാനാണ്. <EOS>\\n', 'ശിക്ഷകളില്\\u200d ദണ്ഡവും, ജയേച്ഛുക്കളില്\\u200d നീതിയും, രഹസ്യങ്ങളില്\\u200d മൗനവും, പാണ്ഡിത്യത്തി\\u200dല്\\u200d ജ്ഞാനവും ഞാനാണ്. <EOS>\\n', ' ഭൗതികമായുള്ള ബന്ധത്തിൽ നിന്നുളവാകുന്ന സർവ്വകേശങ്ങളിൽ നിന്നുമുള്ള യഥാർത്ഥ മോചനമാണിത് <EOS>\\n', 'ഹേ പാര്\\u200dത്ഥ! ഈ സര്\\u200dവഭൂതങ്ങളും വീണ്ടും വീണ്ടും ഉണ്ടായി രാത്രിയുടെ ആരംഭത്തില്\\u200d പ്രകൃതിയില്\\u200d ലയിക്കയും പരാധീനരായി പ്രഭാതത്തില്\\u200d വീണ്ടും ഉത്ഭവിക്കയും ചെയ്യുന്നു. <EOS>\\n', 'ആദിമദ്ധ്യാന്തരഹിതനും അളവറ്റ വീര്യത്തോടുകൂടിയവനും അനേകം കൈകളുള്ളവനും ജ്വലിക്കുന്ന അഗ്നിയെപ്പോലെ ജാജ്ജ്വല്യമാനമായ വക്ത്രത്തോടുകൂടിയവനും, സൂര്യചന്ദ്രന്മാരാകുന്ന കണ്ണുകളുള്ളവനും സ്വതേജസ്സിനാ\\u200dല്\\u200d ഈ ലോകം മുഴുവനും തപിപ്പിക്കുന്നവനുമായ അങ്ങയെയാണ് ഞാനെങ്ങും കാണുന്നത്. <EOS>\\n', 'അ\\u200dര്\\u200dജ്ജുനാ! അഥവാ വിസ്\\u200dതൃതമായി അറിഞ്ഞിട്ട് ഇതി\\u200d\\u200dല്\\u200dനിന്നു നിനക്കെന്തു കാര്യം? ഈ പ്രപഞ്ചത്തെ മുഴുവ\\u200dന്\\u200d എന്റെ ഒരംശം കൊ ണ്ട് ഞാനാണ് താങ്ങുന്നത്. ഓം തത്സദിതി ശ്രീമദ്ഭഗവദ്ഗീതാസൂപനിഷത്സു ബ്രഹ്മവിദ്യായ\\u200dാം യോഗശാസ്ത്രേ ശ്രീകൃഷ്ണാര്\\u200dജുനസംവാദേ വിഭൂതിയോഗോ നാമ ദശമോധ്യായഃ <EOS>\\n', 'അഹിംസ, സമതുലിതാവസ്ഥ, തൃപ്തി, തപസ്സ്, ദാനം, കീർത്തി, അപകീർത്തി എന്നിങ്ങനെ ജീവാത്മാക്കളുടെ വിവിധ ഗുണങ്ങളെല്ലാം ഞാൻ തന്നെയാണ് സൃഷ്ടിച്ചത്. <EOS>\\n', 'കൃഷ്ണാ! ഭൂതങ്ങളുടെ ഉത്ഭവനാശങ്ങളെപ്പറ്റിയും അങ്ങയുടെ അവ്യയമായ മാഹാത്മ്യത്തെപ്പറ്റിയും അങ്ങയി\\u200dല്\\u200dനിന്നു തന്നെ ഞാന്\\u200d കേട്ടു. <EOS>\\n', 'കൃഷ്ണാ! അങ്ങ് അങ്ങയെപ്പറ്റി പറഞ്ഞിട്ടുള്ളതൊക്കെയും അങ്ങനെതന്നെയുള്ളതാണ്. ഹേ പുരുഷോത്തമാ! എനിക്ക് അങ്ങയുടെ രൂപത്തെ കാണുവാന്\\u200d ആഗ്രഹമുണ്ട്. <EOS>\\n', 'കൃഷ്ണാ! എനിക്ക് ആ രൂപം കാണാവുന്നതാണെന്ന് അങ്ങ് വിചാരിക്കുന്നുവെങ്കി\\u200d\\u200dല്\\u200d അവ്യയനായ അങ്ങയെ എനിക്കു കാണിച്ചുതന്നാലും. <EOS>\\n', 'ഈ ജ്ഞാനത്തെ ആശ്രയിച്ച് എന്നെ പ്രാപിക്കുന്നവര്\\u200d സൃഷ്ടിയുടെ ആരംഭത്തില്\\u200d ജന്മമെടുക്കുന്നില്ല, പ്രളയസമയത്ത് വ്യസനിക്കു ന്നുമില്ല. <EOS>\\n', 'ഹേ ഭാരത, തമസ്സ് അജ്ഞാനത്തില്\\u200d നിന്നുണ്ടാകുന്നതും എല്ലാ ദേഹികളെയും (ജീവന്മാരെയും) മോഹിപ്പിക്കുന്നതുമാണെന്നറിയൂ. അത് അശ്രദ്ധ, ആലസ്യം, ഉറക്ക എന്നിവയാല്\\u200d ദേഹിയെ ബന്ധിക്കുന്നു. <EOS>\\n', 'ഹേ മഹാബാഹോ, പ്രകൃതിയില്\\u200d നിന്നുണ്ടാകുന്ന സത്വം, രജസ്സ്, തമസ്സ് എന്നീ ഗുണങ്ങള്\\u200d അവിനാശിയായ ആത്മാവിനെ ദേഹത്തില്\\u200d ബന്ധിക്കുന്നു. <EOS>\\n', 'എന്നാല്\\u200d നിനക്ക് സ്വന്തം കണ്ണുകൊണ്ട് എന്നെ കാണുന്നതി\\u200dന്ന് ശക്തിയില്ല. ദിവ്യചക്ഷുസ്സ് നിനക്കു ഞാ\\u200d\\u200dന്\\u200d തരുന്നു. എന്റെ മഹത്തായ ശക്തിയെ കാണുക. <EOS>\\n', 'സഞ്ജയന്\\u200d പറഞ്ഞു: ഹേ പാര്\\u200dത്ഥ, മനുഷ്യന്\\u200d എപ്പോള്\\u200d ആത്മാവിനാല്\\u200d ആത്മാവില്\\u200dത്തന്നെ സന്തുഷ്ടനായി മനസ്സിലുള്ള എല്ലാ ആഗ്രഹങ്ങളേയും (വാസനകളേയും) ഉപേക്ഷിക്കുന്നുവോ, അപ്പോള്\\u200d അവന്\\u200d സ്ഥിതപ്രജഞന്\\u200d എന്ന് പറയപ്പെടുന്നു. <EOS>\\n', ' ദിവ്യങ്ങളായ പുഷ്പമാല്യങ്ങളും വസ്ത്രങ്ങളും അണിഞ്ഞിരുന്നു. ദിവ്യങ്ങളായ ഗന്ധദ്രവ്യങ്ങൾ ശരീരത്തിൽ പൂശി യിരുന്നു. അദ്ഭുതാവഹവും തേജോമയവും അമേയവും സർവ്വവ്യാ പവുമായിരുന്നു ആ രൂപം. <EOS>\\n', ' ദിവ്യങ്ങളായ പുഷ്പമാല്യങ്ങളും വസ്ത്രങ്ങളും അണിഞ്ഞിരുന്നു. ദിവ്യങ്ങളായ ഗന്ധദ്രവ്യങ്ങൾ ശരീരത്തിൽ പൂശി യിരുന്നു. അദ്ഭുതാവഹവും തേജോമയവും അമേയവും സർവ്വവ്യാ പവുമായിരുന്നു ആ രൂപം. <EOS>\\n', 'ആ മാഹാത്മാവിന്റെ (വിശ്വരൂപത്തിന്റെ) ശോഭ അനേകായിരം സൂര്യന്മാര്\\u200d ആകാശത്തി\\u200cല്\\u200d ഒരുമിച്ചുദിച്ചാലുണ്ടാകുന്ന പ്രകാശത്തിനു തുല്യമായിരുന്നു. <EOS>\\n', 'അ\\u200dര്\\u200dജ്ജുനാ! സൃഷ്ടിവ\\u200dര്\\u200dഗ്ഗങ്ങളില്\\u200d ഉല്പത്തിസ്ഥിതിലയങ്ങ\\u200dള്\\u200d ഞാനാണ്. വിദ്യകളില്\\u200d അദ്ധ്യാത്മവിദ്യയും പരസ്പര സംഭാഷണങ്ങളി\\u200d\\u200dല്\\u200d വാദവും ഞാ\\u200dന്\\u200d തന്നെ. <EOS>\\n', 'ശ്രീ ഭഗവാന്\\u200d പറഞ്ഞു: ഹേ പാര്\\u200dത്ഥ, അവനു ഈ ലോകത്തില്\\u200d വിനാശം ഇല്ല തന്നെ; പരലോകത്തുമില്ല. കുഞ്ഞേ, നല്ലത് ചെയ്യുന്ന ഒരുവന്\\u200d ഒരിക്കലും ദുര്\\u200dഗതി പ്രാപിക്കുന്നില്ല. <EOS>\\n', 'അ\\u200dര്\\u200dജ്ജുന\\u200dന്\\u200dപറഞ്ഞു: ഹേ ദേവ! ഞാ\\u200d\\u200dന്\\u200dഅങ്ങയുടെ ഈ ദേഹത്തില്\\u200d ദേവന്മാരേയും എല്ലാതരത്തിലുമുള്ള ഭുതഗണങ്ങളേയും, അതുപോലെ, കമലാസനത്തി\\u200cല്\\u200dസ്ഥിതിചെയ്യുന്ന സൃഷ്ടിക\\u200cര്\\u200dത്താവായ ബ്രഹ്മാവിനേയും മഹ\\u200dര്\\u200dഷിമാരേയും സ\\u200dര്\\u200dവദിവ്യസ\\u200dര്\\u200dപ്പങ്ങളേയും ഇതാ കാണുന്നു. <EOS>\\n', 'അന്നത്തില്\\u200dനിന്നു ഭൂതങ്ങള്\\u200d ഉണ്ടാകുന്നു. മഴയില്\\u200dനിന്നു അന്നവും ഉദ്ഭവിക്കുന്നു. യജ്ഞത്തില്\\u200d നിന്നു മഴയുണ്ടാകുന്നു. യജ്ഞം ക\\u200d\\u200d\\u200dര്\\u200dമ്മത്തില്\\u200dനിന്നുണ്ടാകുന്നു. <EOS>\\n', 'കിരീടം, ഗദ, ചക്രം എന്നിവ ധരിച്ചവനും തേജോമയനും നോക്കിക്കാണുവാ\\u200cന്\\u200d വയ്യാത്തവിധത്തില്\\u200d കത്തിജ്വലിക്കുന്ന അഗ്നിസുര്യന്മാരുടെ ശോഭയോടുകൂടിയവനും ആയ അങ്ങയെ ഞാ\\u200cന്\\u200dഎല്ലായിടത്തും കാണുന്നു. <EOS>\\n', 'അങ്ങ് നാശമില്ലാത്തവനും, അറിയേണ്ടവനും, ഉ\\u200dല്\\u200dകൃഷ്ടനും, ഈ ലോകത്തിന്റെ പരമമായ ആശ്രയവുമാകുന്നു. അങ്ങ് നാശരഹിതനും സനാതനധര്\\u200dമ്മത്തിന്റെ സംരക്ഷകനും പുരാണപുരുഷനും ആണെന്നാണ് ഞാ\\u200d\\u200dന്\\u200d വിചാരിക്കുന്നത്. <EOS>\\n', 'ആദിമദ്ധ്യാന്തരഹിതനും അളവറ്റ വീര്യത്തോടുകൂടിയവനും അനേകം കൈകളുള്ളവനും ജ്വലിക്കുന്ന അഗ്നിയെപ്പോലെ ജാജ്ജ്വല്യമാനമായ വക്ത്രത്തോടുകൂടിയവനും, സൂര്യചന്ദ്രന്മാരാകുന്ന കണ്ണുകളുള്ളവനും സ്വതേജസ്സിനാ\\u200dല്\\u200d ഈ ലോകം മുഴുവനും തപിപ്പിക്കുന്നവനുമായ അങ്ങയെയാണ് ഞാനെങ്ങും കാണുന്നത്. <EOS>\\n', 'ഏതൊക്കെയാണോ സാത്വികഭാവങ്ങള്\\u200d ഏതൊക്കെയാണോ രാജസങ്ങളും താമസങ്ങളുമായ ഭാവങ്ങള്\\u200d അവയെല്ല\\u200dാം എന്നില്\\u200dനിന്ന് ഉത്ഭവിച്ചവ തന്നെയെന്നറിയുക. ഞാന്\\u200d അവയിലല്ല എന്നാല്\\u200d അവ എന്നിലാണ്. <EOS>\\n', 'ഹേ അച്യുത, കളിക്കുമ്പോഴും, കിടക്കുമ്പോഴും, ഇരിക്കുമ്പോഴും, ഉണ്ണുമ്പോഴും, തനിച്ചിരിക്കുമ്പോഴും, പല\\u200dര്\\u200dകൂടി ചേ\\u200d\\u200d\\u200dര്\\u200dന്നിരിക്കുമ്പോഴും ഞാന്\\u200d ഏതെങ്കിലും <EOS>\\n', 'ഹേ മഹാബാഹോ, പ്രകൃതിയില്\\u200d നിന്നുണ്ടാകുന്ന സത്വം, രജസ്സ്, തമസ്സ് എന്നീ ഗുണങ്ങള്\\u200d അവിനാശിയായ ആത്മാവിനെ ദേഹത്തില്\\u200d ബന്ധിക്കുന്നു. <EOS>\\n', 'ഹേ ജഗദ്\\u200cവ്യാപിയായ ദേവേശ, ഘോരമായ ദംഷ്ട്രകളുള്ളതും പ്രളയകാലത്തുണ്ടാക്കുന്ന അഗ്നിയെപ്പോലെ ജ്വലിക്കുന്നതുമായ അവിടുത്തെ മുഖങ്ങ\\u200dള്\\u200d കണ്ടമാത്രയില്\\u200d തന്നെ എനിക്ക് ദിക്കുക\\u200dള്\\u200d അറിയാതായിപ്പോകുന്നു. എനിക്കു മനസ്സമാധാനം തീരെ ഉണ്ടാകുന്നില്ല. ഭഗവാനേ! എന്നില്\\u200d പ്രസാദിച്ചാലും. <EOS>\\n', 'ഹേ വിഷ്ണോ, ആകാശം ചുടുന്നതും, നാനാവ\\u200dര്\\u200dണ്ണങ്ങ\\u200dള്\\u200d പൂണ്ട് സമുജ്ജ്വലിക്കുന്നതും, വായ്\\u200dപിള\\u200dര്\\u200dന്നതും, നീണ്ട നേത്രങ്ങളള്\\u200d മിന്നിത്തിളങ്ങുന്നതും ആയ അങ്ങയുടെ ഈ സ്വരൂപം കണ്ടിട്ട് എനിക്കു ധൈര്യവും സമാധാനവും നഷ്ടമാകുന്നു. <EOS>\\n', 'ഹേ ജഗദ്\\u200cവ്യാപിയായ ദേവേശ, ഘോരമായ ദംഷ്ട്രകളുള്ളതും പ്രളയകാലത്തുണ്ടാക്കുന്ന അഗ്നിയെപ്പോലെ ജ്വലിക്കുന്നതുമായ അവിടുത്തെ മുഖങ്ങ\\u200dള്\\u200d കണ്ടമാത്രയില്\\u200d തന്നെ എനിക്ക് ദിക്കുക\\u200dള്\\u200d അറിയാതായിപ്പോകുന്നു. എനിക്കു മനസ്സമാധാനം തീരെ ഉണ്ടാകുന്നില്ല. ഭഗവാനേ! എന്നില്\\u200d പ്രസാദിച്ചാലും. <EOS>\\n', 'ധൃതരാഷ്ട്ര പുത്രന്മാരെല്ലാവരും അവരെ സഹായിക്കുന്ന രാജാ ക്കന്മാരും ദീഷ്മർ, ദ്രോണർ, കർണ്ണൻ എന്നിവരും നമ്മുടെ യോദ്ധാ ക്കളിൽ പ്രമുഖന്മാരുമെല്ലാം <EOS>\\n', 'കര്\\u200dമ്മത്തിന്റെ ഫലം അനിഷ്ടം, ഇഷ്ടം, മിശ്രം എന്നിങ്ങനെ മൂന്നു വിധമാണ്. ത്യാഗികളല്ലാത്തവര്\\u200dക്കു മാത്രമേ ഈ ഫലങ്ങള്\\u200d അനുഭവപ്പെടുന്നുള്ളൂ. അല്ലാതെ സന്യാസികള്\\u200dക്ക് ഒരിക്കലുമില്ല. <EOS>\\n', 'എപ്രകാരം നദികളുടെ നാനാപ്രവാഹങ്ങള്\\u200d സമുദ്രത്തെ ലക്ഷ്യമാക്കി ഒഴുകിച്ചെല്ലുന്നുവോ അപ്രകാരം ഈ വീരന്മാര്\\u200d അങ്ങയുടെ ജ്വലിക്കുന്ന മുഖങ്ങളില്\\u200d പ്രവേശിക്കുന്നു. <EOS>\\n', 'ഹേ കൃഷ്ണാ, എന്റെ ഈ സംശയത്തെ നിഃശേഷം അങ്ങു തീര്\\u200dത്തുതരേണ്ടതാണ്. ഈ സംശയം പരിഹരിക്കാന്\\u200d അങ്ങല്ലാതെ മറ്റൊരാള്\\u200d യോഗ്യനായില്ല. <EOS>\\n', 'ഹേ വിഷ്ണോ, ആകാശം ചുടുന്നതും, നാനാവ\\u200dര്\\u200dണ്ണങ്ങ\\u200dള്\\u200d പൂണ്ട് സമുജ്ജ്വലിക്കുന്നതും, വായ്\\u200dപിള\\u200dര്\\u200dന്നതും, നീണ്ട നേത്രങ്ങളള്\\u200d മിന്നിത്തിളങ്ങുന്നതും ആയ അങ്ങയുടെ ഈ സ്വരൂപം കണ്ടിട്ട് എനിക്കു ധൈര്യവും സമാധാനവും നഷ്ടമാകുന്നു. <EOS>\\n', 'ഹേ മഹാനായ ദേവ! ഉഗ്രരൂപത്തോടുകൂടിയ ഭവാന്\\u200d ആരാണെന്നു പറഞ്ഞാലും. അങ്ങേയ്\\u200dക്കു നമസ്\\u200dകാരം! എന്നി\\u200dല്\\u200d പ്രസാദിക്കുമാറാകണേ! ആദിപുരുഷനായ ഭഗവാനെപ്പറ്റി വേണ്ടതി\\u200dന്\\u200dവണ്ണം മനസ്സിലാക്കണമെന്നു ഞാനാഗ്രഹിക്കുന്നു. അവിടുത്തെ പ്രവൃത്തിയെ (ഉദ്ദേശത്തെ)ക്കുറിച്ച് എനിക്കറിഞ്ഞുകൂടാ. <EOS>\\n', 'ഹേ പാര്\\u200dഥ, ഉള്ളത് എന്ന അര്\\u200dഥത്തിലും, നല്ലത് എന്ന അര്\\u200dഥത്തിലും സത് എന്ന പദം പ്രയോഗിക്കപ്പെടുന്നു. അതുപോലെ, ശ്രേഷ്ഠമായ കര്\\u200dമ്മത്തെ ഉദ്ദേശിച്ചും സത് എന്ന് ശബ്ദം ഉപയോഗിക്കപ്പെടുന്നു. <EOS>\\n', 'ഹേ അ\\u200dര്\\u200dജ്ജുനാ! എന്റെ മേ\\u200dല്\\u200dനോട്ടത്തി\\u200d\\u200dല്\\u200d പ്രകൃതി സ\\u200dര്\\u200dവചരാചരങ്ങളേയും ജനിപ്പിക്കുന്നു. എന്റെ ഈ രൂപത്തെ ഞാന്\\u200d കാണ്മാനാഗ്രഹിക്കുന്നു. അസംഖ്യം ബാഹുക്കളോടുകൂടിയ ഭഗവാനേ, ചതു\\u200dര്\\u200dഭുജത്തോടു കൂടിയ ആ പഴയ രൂപത്തെത്തന്നെ പ്രാപിച്ചാലും! <EOS>\\n', 'ഹേ അ\\u200dര്\\u200dജ്ജുനാ! ഞാ\\u200d\\u200dന്\\u200dഎന്റെ യോഗശക്തിയാല്\\u200d നിനക്കു കാട്ടിത്തന്നതായ തേജോമയവും അനാദ്യന്തവുമായ ഈ വിശ്വരൂപം മറ്റാരും ഇതുവരെ കണ്ടിട്ടുള്ളതല്ല. <EOS>\\n', 'സഞ്ജയ\\u200dന്\\u200dപറഞ്ഞു: ശ്രീകൃഷ്ണന്റെ ഈ വാക്കുകള്\\u200d കേട്ടിട്ട് അ\\u200dര്\\u200dജ്ജുന\\u200dന്\\u200d വിറച്ചുകൊണ്ട് ഭയത്തോടുകൂടി വീണ്ടും കൈകൂപ്പിത്തൊഴുതു പിന്നെയും പറഞ്ഞു: <EOS>\\n', 'അ\\u200dര്\\u200dജ്ജുന\\u200dന്\\u200d പറഞ്ഞു: ഹേ ഹൃഷികേശ! അങ്ങയുടെ സ്തുതിക്കുന്നതു കൊണ്ടു ഈ ലോകത്തിനു സന്തോഷവും ഭക്തിയും ഉണ്ടാകുന്നു എന്നുള്ളതു യുക്തം തന്നെ. ദുഷ്ടന്മാരായ അസുരരാക്ഷസന്മാര്\\u200d അവിടുത്തെ സ്തുതികള്\\u200d കേ\\u200dള്\\u200dക്കുന്ന മാത്രയി\\u200dല്\\u200d ഭീതരായി നാലുദിക്കുകളിലും ഓടുന്നു. ശിഷ്ടന്മാരായ ദേവന്മാരാവട്ടെ ഭക്തിപരശരായി അവിടുത്തെ നമസ്കരിക്കയും ചെയ്യുന്നു. <EOS>\\n', 'ഹേ പാര്\\u200dഥ, അശ്രദ്ധയോടെ ചെയ്യപ്പെടുന്ന യജ്ഞവും, ദാനവും, തപസ്സും അസത് എന്ന് പറയപ്പെടുന്നു. ഇതി കൂടാതെ അശ്രദ്ധയോടെ ചെയ്യപ്പെടുന്ന സകലകര്\\u200dമ്മങ്ങളും അസത് തന്നെയാണ്. അത് ഈ ലോകത്തിലോ പരലോകത്തിലോ പ്രയോജനപ്പെടുന്നില്ല. <EOS>\\n', 'ഹേ ഭഗവ\\u200dന്\\u200d! അങ്ങ് ആദിദേവനും പുരാണപുരുഷനും ആകുന്നു. അങ്ങ് ലോകത്തിന്റെ പരമമായ ആധാരമാകുന്നു. അറിയുന്നവനും, അറിയപ്പെടേണ്ടവനും പരമമായ ലക്ഷ്യവും അങ്ങു തന്നെ. അനന്തരൂപനായ അങ്ങയാല്\\u200d ഈ ലോകം വ്യാപ്തമായിരിക്കുന്നു. <EOS>\\n', 'എവിടെ യോഗേശ്വരനായ കൃഷ്ണനും വില്ലാളിയായ അര്\\u200dജുനനുമുണ്ടോ അവിടെ ഐശ്വര്യവും, വിജയവും, അഭിവൃദ്ധിയും, നീതിയും നിശ്ചയമായും ഉണ്ടായിരിക്കുമെന്നാണ് എന്റെ അഭിപ്രായം. <EOS>\\n', 'ഹേ സ\\u200dര്\\u200dവാത്മ\\u200dന്\\u200d, അങ്ങനെ മുന്നിലും പിന്നിലും നിന്ന് ഞാ\\u200cന്\\u200d നമസ്\\u200dകരിക്കുന്നു. എല്ലാഭാഗത്തും അങ്ങേയ്ക്കു നമസ്\\u200dകാരം. അളവറ്റ വീരവും അതിരറ്റ പരാക്രമവും ഉള്ളവനായ അങ്ങ് ലോകം മുഴുവ\\u200dന്\\u200d വ്യാപിച്ചവനായിരിക്കുന്നു. അതിനാല്\\u200d എല്ല\\u200dാം അങ്ങ് തന്നെയാകുന്നു. <EOS>\\n', 'ഹേ ഭഗവ\\u200dന്\\u200d\\u200d! അങ്ങയുടെ ഈ മഹിമാതിശയം മനസ്സിലാക്കാതെ ഞാ\\u200cന്\\u200d അബദ്ധത്താലോ സ്നേഹത്താലോ സ്നേഹിതനാണെന്നു കരുതി അങ്ങയെ ഞാന്\\u200d ഹേ കൃഷ്ണാ, ഹേ യാദവ, ഹേ സഖേ എന്നിപ്രകാരമൊക്കെ വിളിച്ചു പോയിട്ടുള്ളതിനെ അങ്ങു ക്ഷമിക്കണം. <EOS>\\n', 'ഹേ അച്യുത, കളിക്കുമ്പോഴും, കിടക്കുമ്പോഴും, ഇരിക്കുമ്പോഴും, ഉണ്ണുമ്പോഴും, തനിച്ചിരിക്കുമ്പോഴും, പല\\u200dര്\\u200dകൂടി ചേ\\u200d\\u200d\\u200dര്\\u200dന്നിരിക്കുമ്പോഴും ഞാന്\\u200d ഏതെങ്കിലും വിധത്തി\\u200dല്\\u200d അങ്ങയെ അപമാനിച്ചിട്ടുണ്ടെങ്കി\\u200cല്\\u200d അതിനെ പൊറുക്കണമെന്നു ഞാന്\\u200d അമേയനായ അങ്ങയോടു പ്രാ\\u200dര്\\u200dത്ഥിക്കുന്നു. <EOS>\\n', 'അതുല്യശക്തിയുള്ള ഹേ ഭഗവ\\u200dന്\\u200d\\u200d! അങ്ങ് ചരാചരാത്മകമായ ഈ ജഗത്തിന്റെ പിതാവാകുന്നു. അങ്ങ് ഈ ജഗത്തിനു പുജ്യനും ശ്രേഷ്ഠനായ ഗുരുവുമാകുന്നു. മൂന്നു ലോകങ്ങളിലും അങ്ങയ്ക്കു തുല്യനായിട്ടൊരാളുമില്ല. അപ്പോള്\\u200d അതുലിതശക്തിയുള്ള അങ്ങയെ വെല്ലാന്\\u200d ആരാണുള്ളത്? <EOS>\\n', 'അതുകൊണ്ടു ഏത് കാലത്തും എന്നെ സ്മരിക്കയും യുദ്ധം ചെയ്യുകയും ചെയ്യുക. എന്നില്\\u200d മനസ്സും ബുദ്ധിയും അര്\\u200dപ്പിച്ച നീ എന്നെ തന്നെ നിസ്സംശയമായും പ്രാപിക്കും. <EOS>\\n', 'ലോകവ്യാപിയായ ദേവേശ! മുമ്പു കാണാത്തതു കണ്ടിട്ട് ഞാ\\u200d\\u200d\\u200dന്\\u200d സന്തോഷിക്കുന്നു; എങ്കിലും ഭയത്താല്\\u200d എന്റെ ഹൃദയം വിഹ്വലമായിത്തീരുന്നു. അങ്ങയുടെ ആ (ശ്രീകൃഷ്ണാകൃതിയിലുള്ള) രൂപം തന്നെ എനിക്കു കാണിച്ചു തരിക. ദേവ! പ്രസാദിക്കേണമേ! <EOS>\\n', 'മുമ്പത്തെ മട്ടി\\u200d\\u200dല്\\u200dതലയില്\\u200d കിരീടവും, കൈകളില്\\u200d ഗദയും, ചക്രവും ധരിച്ചിട്ടുള്ള അവിടുത്തെ രൂപത്തെ ഞാന്\\u200d കാണ്മാനാഗ്രഹിക്കുന്നു. അസംഖ്യം ബാഹുക്കളോടുകൂടിയ ഭഗവാനേ, ചതു\\u200dര്\\u200dഭുജത്തോടു കൂടിയ ആ പഴയ രൂപത്തെത്തന്നെ പ്രാപിച്ചാലും! <EOS>\\n', 'ഹേ അ\\u200dര്\\u200dജ്ജുനാ! ഞാ\\u200d\\u200dന്\\u200dഎന്റെ യോഗശക്തിയാല്\\u200d നിനക്കു കാട്ടിത്തന്നതായ തേജോമയവും അനാദ്യന്തവുമായ ഈ വിശ്വരൂപം മറ്റാരും ഇതുവരെ കണ്ടിട്ടുള്ളതല്ല. <EOS>\\n', 'ഹേ ഭഗവ\\u200dന്\\u200d\\u200d! അങ്ങ് ചരാചരാത്മകമായ ഈ ജഗത്തിന്റെ പിതാവാകുന്നു. അങ്ങ് ഈ ജഗത്തിനു പുജ്യനും ശ്രേഷ്ഠനായ ഗുരുവുമാകുന്നു. മൂന്നു ലോകങ്ങളിലും അങ്ങയ്ക്കു തുല്യനായിട്ടൊരാളുമില്ല. അപ്പോള്\\u200d അതുലിതശക്തിയുള്ള അങ്ങയെ വെല്ലാന്\\u200d ആരാണുള്ളത്? <EOS>\\n', 'എന്റെ ഈ ഘോരമായ രൂപംകണ്ടു നീ ഭയപ്പെടുകയും സംഭ്രമിക്കുകയും വേണ്ട. നീ ഭയം വെടിഞ്ഞ് പ്രീതചിത്തനായി എന്റെ ആ പൂ\\u200dര്\\u200dവരൂപത്തെ വീണ്ടും കാണുക. <EOS>\\n', 'സഞ്ജയ\\u200dന്\\u200dപറഞ്ഞു: ശ്രീകൃഷ്ണ\\u200dന്\\u200dഇങ്ങനെ അ\\u200dര്\\u200dജ്ജുനോടു പറഞ്ഞിട്ട് തന്റെ പൂ\\u200dര്\\u200dവരുപം തന്നെ കാണിച്ചുകൊടുത്തു. സൗമ്യരുപനായി ത്തീ\\u200dര്\\u200dന്ന ഭഗവാ\\u200d\\u200dന്\\u200dഭീതനായ പാ\\u200dര്\\u200dത്ഥനെ ആശ്വസിപ്പിക്കുകയും ചെയ്തു. <EOS>\\n', 'ഹേ ജനാ\\u200d\\u200dര്\\u200dദ്ദനാ! അങ്ങയുടെ സൗമ്യമായ മാനുഷരൂപംകണ്ട് ഞാനിപ്പോ\\u200dള്\\u200d മനസ്സമാധാനത്തെയും പു\\u200dര്\\u200dവപ്രകൃതിയെയും പ്രാപിച്ചവനായിത്തീ\\u200dര്\\u200dന്നിരിക്കുന്നു. <EOS>\\n', 'ശ്രീകൃഷ്ണ\\u200dന്\\u200d പറഞ്ഞു: ദേവന്മാ\\u200dര്\\u200dപോലും എന്നും ദ\\u200dര്\\u200dശിക്കുവാ\\u200d\\u200dന്\\u200d അതിയായി ആഗ്രഹിച്ചു കൊണ്ടിരിക്കുന്നതും, ദ\\u200dര്\\u200dശിപ്പാ\\u200cന്\\u200d പ്രയാസമായിട്ടുള്ളതും ആയ എന്റെ ഈ രൂപത്തെ നീ കണ്ടുവല്ലോ. <EOS>\\n', 'ഏതാദൃശനായ എന്നെ നീ കണ്ടവിധത്തി\\u200dല്\\u200d കാണുന്നതിനു വേദങ്ങളാലോ തപസ്സിനാലോ ദാനത്തിനാലോ യോഗത്തിനാലോ ഒന്നും സാധിക്കുന്നതല്ല. <EOS>\\n', 'ഹേ വിഷ്ണോ, ആകാശം ചുടുന്നതും, നാനാവ\\u200dര്\\u200dണ്ണങ്ങ\\u200dള്\\u200d പൂണ്ട് സമുജ്ജ്വലിക്കുന്നതും, വായ്\\u200dപിള\\u200dര്\\u200dന്നതും, നീണ്ട നേത്രങ്ങളള്\\u200d മിന്നിത്തിളങ്ങുന്നതും ആയ അങ്ങയുടെ ഈ സ്വരൂപം കണ്ടിട്ട് എനിക്കു ധൈര്യവും സമാധാനവും നഷ്ടമാകുന്നു. <EOS>\\n', 'ഹേ പാണ്ഡുപുത്ര! യാതൊരുത്ത\\u200dന്\\u200d എന്നെ ഉദ്ദേശിച്ചു ക\\u200dര്\\u200dമ്മം ചെയ്യുന്നവനും, എന്നെ പ്രാപ്യസ്ഥാനമായി വിചാരിക്കുന്നവനും, എന്നി\\u200d\\u200dല്\\u200d ഭക്തിയുള്ളവനും, സംഗം വിട്ടവനും, സ\\u200cര്\\u200dവജീവികളിലും വൈരമില്ലാത്തവനും ആയിരിക്കുന്നുവോ അവ\\u200dന്\\u200d എന്നെ പ്രാപിക്കുന്നു. ഓം തത്സദിതി ശ്രീമദ്ഭഗവദ്ഗീതാസൂപനിഷത്സു ബ്രഹ്മവിദ്യായ\\u200dാം യോഗശാസ്ത്രേ ശ്രീകൃഷ്ണാര്\\u200dജുനസംവാദേ വിശ്വരൂപദര്\\u200dശനയോഗോ നാമൈകാദശോധ്യായഃ <EOS>\\n', 'അര്\\u200dജുന\\u200dന്\\u200dപറഞ്ഞുഃ ഇപ്രകാരം എപ്പോഴും അങ്ങയി\\u200dല്\\u200d ഉറപ്പിച്ച മനസ്സോടുകൂടി അങ്ങയെ ഉപാസിക്കുന്നവരോ, അവ്യക്തമായ അക്ഷരബ്രഹ്മത്തെ ഉപാസി ക്കുന്നവരോ, ആരാണ് അധികം യോഗജ്ഞാനമുള്ളവ\\u200dര്\\u200d? <EOS>\\n', 'ശ്രീകൃഷ്ണ\\u200dന്\\u200dപറഞ്ഞു: ആര് എന്നി\\u200d\\u200dല്\\u200dമനസ്സുറപ്പിച്ചു സ്ഥിരമായ നിഷ്ഠയോടും ശ്രേഷ്ഠമായ ശ്രദ്ധയോടും കുടി എന്നെ ആരാധിക്കുന്നുവോ അവരാണ് യോഗത്തില്\\u200d ശ്രേഷ്ഠന്മാരെന്നാണ് എന്റെ അഭിപ്രായം. <EOS>\\n', 'ഹേ കൗന്തേയ, രജസ്സിന്റെ സ്വഭാവം രാഗമാണെന്നറിയൂ. അത് തൃഷ്ണ (ആഗ്രഹം) യെയും സംഗത്തെയും ജനിപ്പിക്കുകയും കര്\\u200dമ്മത്തോടുള്ള സംഗത്താല്\\u200d ദേഹിയെ ബന്ധിക്കുകയും ചെയ്യുന്നു. <EOS>\\n', 'ഇന്ദ്രിയങ്ങൾക്ക് ഗോചരമല്ലാത്തതും, അവ്യക്തവും, സർവ്വവ്യാപവും, അചിന്ത്യവും, സ്ഥിരവും, മാറ്റമില്ലാത്തതും, ഉറച്ചതും ആയതിനെ നിരപേക്ഷതത്ത്വത്തിന്റെ വ്യക്തിശൂന്യസങ്കല്പത്തെ പൂർണ്ണ മായും ഉപാസിക്കുന്നവരും ഒടുവിൽ എന്നെത്തന്നെ പ്രാപിക്കുന്നു. <EOS>\\n', 'ഹേ കൗന്തേയ, ദോഷമുള്ളതാണെങ്കിലും സ്വധര്\\u200dമ്മത്തെ ഉപേക്ഷിക്കരുത്. തീ പുക കൊണ്ടെന്ന പോലെ എല്ലാ കര്\\u200dമ്മങ്ങളും ദോഷങ്ങളാല്\\u200d ആവൃതമാണ്. <EOS>\\n', 'സഹേ പാർത്ഥാ, എന്നാൽ എന്നെ എല്ലായ്പ്പോഴും ധ്യാനിച്ചു കൊണ്ട് സർവകർമ്മങ്ങളേയും എനിക്കായർപ്പിച്ച്, എന്നിൽ മനസ്സ് അച ഞ്ചലമായുന്നിക്കൊണ്ട് ഭക്തിയുതസേവനത്തിൽ ഏർപ്പെട്ടുപോരുന്നവരെ  <EOS>\\n', 'ഞാൻ വേഗത്തിൽ ജനനമരണങ്ങളുടെ ഈ സമുദ്രത്തിൽ നിന്ന് കരകയറ്റും. <EOS>\\n', 'മരണസമയത്ത് എന്നെ തന്നെ സ്മരിച്ചുകൊണ്ടു ശരീരം വിട്ടു പോകുന്നവന്\\u200d എന്നെ തന്നെ പ്രാപിക്കുമെന്നതില്\\u200d സംശയമില്ല. <EOS>\\n', 'ഇനി എന്നില്\\u200d സ്ഥിരമായി ചിത്തം നി\\u200dര്\\u200dത്തുവാ\\u200cന്\\u200d ശക്തിയില്ലാത്ത പക്ഷം പിന്നെ അഭ്യാസയോഗത്താ\\u200c\\u200dല്\\u200d എന്നെ പ്രാപിക്കുവാ\\u200d\\u200dന്\\u200d നോക്കണം. <EOS>\\n', 'എവര്\\u200d എങ്ങിനെ എന്നെ ഭജിക്കുന്നുവോ അവരെ അതേവിധം തന്നെ ഞാന്\\u200d അനുഗ്രഹിക്കുന്നു. ഹേ പാര്\\u200dത്ഥ, എങ്ങും മനുഷ്യര്\\u200d എന്റെ മാര്\\u200dഗത്തെ പിന്തുടരുന്നു. <EOS>\\n', ' അഹിംസ, സത്യം, ക്രോധമില്ലായ്മ, ത്യാഗം, ശാന്തി, പരദൂഷണത്തിൽ വെറുപ്പ്, സർവ്വജീവി കളോടും കാരുണ്യം, ലോഭമില്ലായ്മ, മൃദുല സ്വഭാവം, വിനയം, സ്ഥിര നിശ്ചയം, <EOS>\\n', ' <EOS>\\n', ' ഒരേവിധം കൈക്കൊണ്ട് അസത്സംഗത്തിൽ നിന്ന് എല്ലായ്പ്പോഴും മുക്തനും മൗനിയും ജ്ഞാനത്തിലുറച്ചവനും സദാ സംതൃപ്തനുമായി, ഗാർഹികബോധമുപേക്ഷിച്ച് ഭക്തിയുത സേവനത്തിലേർപ്പെട്ടിരിക്കുന്ന ഭക്തൻ എനിക്കെത്രയും പ്രിയപ്പെട്ടവനാണ്. <EOS>\\n', 'ആ നാലുതരം ഭക്തന്\\u200dമാരില്\\u200d എപ്പോഴും യോഗനിഷ്ടനും ഭക്തിക്കൊഴിച്ച് മറ്റൊന്നിനും മനസ്സില്\\u200d സ്ഥാനമില്ലാത്തവനുമായ ജ്ഞാനിയാണ്\\u200c വിശിഷ്ഠനായിരിക്കുന്നത്. എന്തുകൊണ്ടെന്നാല്\\u200d ജ്ഞാനികള്\\u200dക്കു ഞാന്\\u200d അത്യധികം പ്രിയനാണ്. അവന്\\u200d എനിക്കും പ്രിയനാണ്. <EOS>\\n', 'ആ നാലുതരം ഭക്തന്\\u200dമാരില്\\u200d എപ്പോഴും യോഗനിഷ്ടനും ഭക്തിക്കൊഴിച്ച് മറ്റൊന്നിനും മനസ്സില്\\u200d സ്ഥാനമില്ലാത്തവനുമായ ജ്ഞാനിയാണ്\\u200c വിശിഷ്ഠനായിരിക്കുന്നത്. എന്തുകൊണ്ടെന്നാല്\\u200d ജ്ഞാനികള്\\u200dക്കു ഞാന്\\u200d അത്യധികം പ്രിയനാണ്. അവന്\\u200d എനിക്കും പ്രിയനാണ്. <EOS>\\n', 'ആ നാലുതരം ഭക്തന്\\u200dമാരില്\\u200d എപ്പോഴും യോഗനിഷ്ടനും ഭക്തിക്കൊഴിച്ച് മറ്റൊന്നിനും മനസ്സില്\\u200d സ്ഥാനമില്ലാത്തവനുമായ ജ്ഞാനിയാണ്\\u200c വിശിഷ്ഠനായിരിക്കുന്നത്. എന്തുകൊണ്ടെന്നാല്\\u200d ജ്ഞാനികള്\\u200dക്കു ഞാന്\\u200d അത്യധികം പ്രിയനാണ്. അവന്\\u200d എനിക്കും പ്രിയനാണ്. <EOS>\\n', 'ആ നാലുതരം ഭക്തന്\\u200dമാരില്\\u200d എപ്പോഴും യോഗനിഷ്ടനും ഭക്തിക്കൊഴിച്ച് മറ്റൊന്നിനും മനസ്സില്\\u200d സ്ഥാനമില്ലാത്തവനുമായ ജ്ഞാനിയാണ്\\u200c വിശിഷ്ഠനായിരിക്കുന്നത്. എന്തുകൊണ്ടെന്നാല്\\u200d ജ്ഞാനികള്\\u200dക്കു ഞാന്\\u200d അത്യധികം പ്രിയനാണ്. അവന്\\u200d എനിക്കും പ്രിയനാണ്. <EOS>\\n', 'ഏറ്റവും ദുരാചാരനായവ\\u200dന്\\u200d തന്നെ എന്നെ ഏകാഗ്രചിത്തനായി ഭജിക്കുന്നുവെങ്കി\\u200dല്\\u200d അവനെ ശിഷ്ടനായി കരുത\\u200dാം. അവ\\u200dന്\\u200d ദൃഢവ്രതനാണ്. <EOS>\\n', ' ഒരേവിധം കൈക്കൊണ്ട് അസത്സംഗത്തിൽ നിന്ന് എല്ലായ്പ്പോഴും മുക്തനും മൗനിയും ജ്ഞാനത്തിലുറച്ചവനും സദാ സംതൃപ്തനുമായി, ഗാർഹികബോധമുപേക്ഷിച്ച് ഭക്തിയുത സേവനത്തിലേർപ്പെട്ടിരിക്കുന്ന ഭക്തൻ എനിക്കെത്രയും പ്രിയപ്പെട്ടവനാണ്. <EOS>\\n', 'ഇപ്പറഞ്ഞ ഈ ധ\\u200dര്\\u200dമ്മമാ\\u200dര്\\u200dഗ്ഗത്തെ പറഞ്ഞതി\\u200dന്\\u200d വണ്ണം ശ്രദ്ധയോടും എന്നില്\\u200d ശരണബുദ്ധിയോടും കൂടി അനുഷ്ഠിക്കുന്ന ഭക്തന്മാര്\\u200d എനിക്ക് ഏറ്റവും പ്രിയപ്പെട്ടവരത്രേ. <EOS>\\n', 'അര്\\u200dജുനന്\\u200d പറഞ്ഞു: ഹേ ജനാ\\u200dര്\\u200dദ്ദനാ, ക\\u200d\\u200d\\u200dര്\\u200dമ്മത്തെ അപേക്ഷിച്ച് കര്\\u200dമ്മയോഗമാണ് ശ്രേഷ്ടമെന്നു അങ്ങേയ്ക്ക് അഭിപ്രായമുണ്ടെങ്കില്\\u200d പിന്നെ എന്തിനാണ് ഘോരമായ ഈ ക\\u200d\\u200d\\u200dര്\\u200dമ്മത്തില്\\u200d എന്നെ നിയോഗിക്കുന്നത്? <EOS>\\n', 'ശ്രീ ഭഗവാന്\\u200d പറഞ്ഞു: ഹേ പാര്\\u200dത്ഥ, മനുഷ്യന്\\u200d എപ്പോള്\\u200d ആത്മാവിനാല്\\u200d ആത്മാവില്\\u200dത്തന്നെ സന്തുഷ്ടനായി മനസ്സിലുള്ള എല്ലാ ആഗ്രഹങ്ങളേയും (വാസനകളേയും) ഉപേക്ഷിക്കുന്നുവോ, അപ്പോള്\\u200d അവന്\\u200d സ്ഥിതപ്രജഞന്\\u200d എന്ന് പറയപ്പെടുന്നു. <EOS>\\n', 'സ\\u200dര്\\u200dവത്ര സഞ്ചരിക്കുന്നതും മഹത്തായുള്ളതുമായ വായു എങ്ങനെ എപ്പോഴും ആകാശത്തി\\u200d\\u200dല്\\u200dസ്ഥിതിചെയ്യുന്നുവോ അങ്ങിനെയാണ് സ\\u200dര്\\u200dവഭുതങ്ങളും എന്നി\\u200dല്\\u200d കുടികൊള്ളുന്നത്. <EOS>\\n', 'ഈ ലോകത്തില്\\u200d പ്രാണിസൃഷ്ടി ദൈവം, ആസുരം എന്നീ രണ്ടു വിധത്തിലാണ്. ദൈവീസൃഷ്ടിയെക്കുറിച്ച് ആദ്യം വിശദമായി പറഞ്ഞുകഴിഞ്ഞു. ഇനി ആസുരിസൃഷ്ടിയെക്കുറിച്ച് കേട്ടാലും. <EOS>\\n', 'ബ്രഹ്മഭാവത്തെ പ്രാപിച്ചവന്\\u200d പ്രസന്നമായ മനസ്സോടെ, ഒന്നും ആഗ്രഹിക്കുകയോ ഒന്നിലും ദുഃഖിക്കുകയോ ചെയ്യാതെ, സര്\\u200dവ്വഭൂതങ്ങളിലും സമനായി എന്നില്\\u200d പരമമായ ഭക്തിയെ നേടുന്നു. <EOS>\\n', 'അഞ്ച് മഹാഭൂതങ്ങൾ, മിഥ്യാഹങ്കാരം, ബുദ്ധി, അവ്യക്തത, പത്ത് ഇന്ദ്രിയങ്ങൾ, മനസ്സ്, അഞ്ച് ഇന്ദ്രിയവിഷയങ്ങൾ, <EOS>\\n', ' രാഗദ്വേഷങ്ങൾ, സുഖദുഃഖങ്ങൾ, സമദൃഷ്ടി, ജീവലക്ഷണങ്ങൾ, ദൃഢവിശ്വാസം എന്നിവയും ചുരുക്കത്തിൽ ക്ഷേത്രമായും, അതിന്റെ പ്രതിപ്രവർത്തന ങ്ങളായും വിവരിക്കപ്പെട്ടിട്ടുണ്ട്. <EOS>\\n', 'വിനയം, ഗർവ്വില്ലായ്മ, അഹിംസ, ക്ഷമ, ലാളിത്യം, ഒരു യഥാർത്ഥ ആത്മീയഗുരുവിനെ സമീപിക്കൽ, ശുചിത്വം, ര്യം, ആത്മസംയമം,   <EOS>\\n', 'ഇന്ദ്രിയവിഷയങ്ങളിൽ അനാസക്തി, മിഥ്യാഹങ്കാര മില്ലായ്മ, ജനനമരണങ്ങൾ, വാർദ്ധക്യം, രോഗം എന്നീ പരിണാമങ്ങ ളുടെ ദുഃഖാത്മകതയെക്കുറിച്ചുള്ള ബോധം,  <EOS>\\n', 'ഹേ ഭരതർഷഭാ, ബദ്ധനായ ജീവാത്മാവ് ആസ്വദിക്കുകയും ആ ആസ്വാദനത്തിലൂടെ ചിലപ്പോൾ സകല ക്ലേശങ്ങളിൽ നിന്നും മുക്തി നേടുകയും ചെയ്യുന്ന സുഖത്തെപ്പറ്റി ഇനി പറയാം. ഇത് മൂന്നു വിധ ത്തിലുണ്ട്. <EOS>\\n', 'എന്നിൽ സ്ഥിരവും നിഷ്കളങ്കവുമായ ഭക്തി; ഏകാന്തമായ സ്ഥലത്തു ജീവിക്കാനുള്ള ആഗ്രഹം; ആൾക്കൂട്ടത്തിൽ നിന്നു വേറിട്ടുനിൽക്കൽ; <EOS>\\n', 'ഭൂമിയില്\\u200d ശത്രുക്കളില്ലാത്തതും സമൃദ്ധിയുള്ളതുമായ രാജ്യവും ദേവന്മാരുടെ മേല്\\u200d പോലും ആധിപത്യവും ലഭിച്ചാലും ഇന്ദ്രിയങ്ങളെ ശോഷിപ്പിച്ചു കൊണ്ടിരിക്കുന്ന എന്റെ ദുഃഖത്തെ അകറ്റുന്ന യതൊന്നും ഞാന്\\u200d കാണുന്നില്ല. <EOS>\\n', 'അറിയപ്പെടേണ്ടതേതോ അതു ഞാ\\u200dന്\\u200d\\u200dപറയ\\u200dാം. യാതൊന്നിനെ അറിഞ്ഞാലാണോ മരണമില്ലാത്ത നിലയെ പ്രാപിക്കുന്നത്, അതാണ് അനാദിയും അതിശ്രേഷ്ഠവുമായ ബ്രഹ്മം. അത് സത്ത് (ഉള്ളത്) എന്നോ അസത്ത് (ഇല്ലാത്തത്) എന്നോ പറയുവാ\\u200dന്\\u200d നിവൃത്തിയില്ല. <EOS>\\n', 'ഹേ കൗന്തേയ, രജസ്സിന്റെ സ്വഭാവം രാഗമാണെന്നറിയൂ. അത് തൃഷ്ണ (ആഗ്രഹം) യെയും സംഗത്തെയും ജനിപ്പിക്കുകയും കര്\\u200dമ്മത്തോടുള്ള സംഗത്താല്\\u200d ദേഹിയെ ബന്ധിക്കുകയും ചെയ്യുന്നു. <EOS>\\n', 'സർവ്വേന്ദ്രിയങ്ങളുടേയും ഉത്പത്തിസ്ഥാനമാണ് പരമാത്മാവ്, എന്നിരുന്നാലും അവിടുത്തേയ്ക്ക് ഇന്ദ്രിയങ്ങളില്ല. സകല ജീവജാല ങ്ങളേയും നിലനിർത്തിപ്പോരുന്നെങ്കിലും അനാസക്തനാണ്. ത്രിഗുണാ തീതനും, അതേസമയം തന്നെ ഭൗതികപ്രകൃതിയുടെ ത്രിഗുണങ്ങളുടെ യജമാനനുമാണ് അദ്ദേഹം. <EOS>\\n', 'ഈ ശരീരത്തില്\\u200d വര്\\u200dത്തിക്കുന്ന പരമപുരുഷ\\u200dന്\\u200d സാക്ഷിയെന്നും, അനുവദിക്കുന്നവനെന്നും, ഭരിക്കുന്നവനെന്നും അനുഭവിക്കുന്ന വനെന്നും മഹേശ്വരനെന്നും പരമാത്മാവെന്നും വിളിക്കപ്പെടുന്നു. <EOS>\\n', 'ഈ ജ്ഞാനത്തെ ആശ്രയിച്ച് എന്നെ പ്രാപിക്കുന്നവര്\\u200d സൃഷ്ടിയുടെ ആരംഭത്തില്\\u200d ജന്മമെടുക്കുന്നില്ല, പ്രളയസമയത്ത് വ്യസനിക്കു ന്നുമില്ല. <EOS>\\n', ' അഹിംസ, സത്യം, ക്രോധമില്ലായ്മ, ത്യാഗം, ശാന്തി, പരദൂഷണത്തിൽ വെറുപ്പ്, സർവ്വജീവി കളോടും കാരുണ്യം, ലോഭമില്ലായ്മ, മൃദുല സ്വഭാവം, വിനയം, സ്ഥിര നിശ്ചയം, <EOS>\\n', 'ശ്രീ ഭഗവാന്\\u200d പറഞ്ഞു: ഹേ പാര്\\u200dത്ഥ, മനുഷ്യന്\\u200d എപ്പോള്\\u200d ആത്മാവിനാല്\\u200d ആത്മാവില്\\u200dത്തന്നെ സന്തുഷ്ടനായി മനസ്സിലുള്ള എല്ലാ ആഗ്രഹങ്ങളേയും (വാസനകളേയും) ഉപേക്ഷിക്കുന്നുവോ, അപ്പോള്\\u200d അവന്\\u200d സ്ഥിതപ്രജഞന്\\u200d എന്ന് പറയപ്പെടുന്നു. <EOS>\\n', 'പ്രകൃതിയും പുരുഷനും അനാദികളാണെന്നറിയണം. വികാരങ്ങളും ഗുണങ്ങളും പ്രകൃതിയി\\u200dല്\\u200d നിന്നുത്ഭവിക്കുന്നവയാണെന്നും അറിയുക. <EOS>\\n', 'ഹേ ജഗദ്\\u200cവ്യാപിയായ ദേവേശ, ഘോരമായ ദംഷ്ട്രകളുള്ളതും പ്രളയകാലത്തുണ്ടാക്കുന്ന അഗ്നിയെപ്പോലെ ജ്വലിക്കുന്നതുമായ അവിടുത്തെ മുഖങ്ങ\\u200dള്\\u200d കണ്ടമാത്രയില്\\u200d തന്നെ എനിക്ക് ദിക്കുക\\u200dള്\\u200d അറിയാതായിപ്പോകുന്നു. എനിക്കു മനസ്സമാധാനം തീരെ ഉണ്ടാകുന്നില്ല. ഭഗവാനേ! എന്നില്\\u200d പ്രസാദിച്ചാലും. <EOS>\\n', ' അഹിംസ, സത്യം, ക്രോധമില്ലായ്മ, ത്യാഗം, ശാന്തി, പരദൂഷണത്തിൽ വെറുപ്പ്, സർവ്വജീവി കളോടും കാരുണ്യം, ലോഭമില്ലായ്മ, മൃദുല സ്വഭാവം, വിനയം, സ്ഥിര നിശ്ചയം, <EOS>\\n', 'ഈ ശരീരത്തില്\\u200d വര്\\u200dത്തിക്കുന്ന പരമപുരുഷ\\u200dന്\\u200d സാക്ഷിയെന്നും, അനുവദിക്കുന്നവനെന്നും, ഭരിക്കുന്നവനെന്നും അനുഭവിക്കുന്ന വനെന്നും മഹേശ്വരനെന്നും പരമാത്മാവെന്നും വിളിക്കപ്പെടുന്നു. <EOS>\\n', 'ഈ ലോകത്തെയാകമാനം പ്രകാശിപ്പിക്കുന്ന സൂര്യന്റെ തേജസ്സും, ചന്ദ്രനിലും അഗ്നിയിലുമുള്ള തേജസ്സും എന്റേതു തന്നെയെന്നറിയൂ. <EOS>\\n', 'കര്\\u200dമ്മങ്ങളെയെല്ല\\u200dാം ദോഷമായികണ്ട് ത്യജിക്കണമെന്ന് ചില വിദ്വാന്മാര്\\u200d പറയുന്നു. യജ്ഞം, ദാനം, തപസ്സ് എന്നീ കര്\\u200dമ്മങ്ങളെ ത്യജിക്കരുതെന്ന് വേറെ ചിലര്\\u200d പറയുന്നു. <EOS>\\n', 'ഇതറിയാത്തവരായരാവട്ടെ അന്യന്മാ\\u200cര്\\u200d പറഞ്ഞുകേട്ടതനുസരിച്ച് ഉപാസിക്കുന്നു. ശ്രദ്ധിച്ചു കേട്ടു കാര്യം മനസ്സിലാക്കുവാ\\u200dന്\\u200d താല്പര്യമുള്ളവരായ അവരും മരണത്തെ തരണം ചെയ്യുന്നതാണ്. <EOS>\\n', 'പ്രകൃതിയാണ് ക\\u200dര്\\u200dമ്മങ്ങളെല്ല\\u200dാം ചെയ്യുന്നത് എന്നും ആത്മാവ് ഒന്നും ചെയ്യാത്തവനാണെന്നും അറിയുന്നവന്\\u200d യഥാ\\u200dര്\\u200dത്ഥത്തില്\\u200d അറിവുള്ളവനാകുന്നു. <EOS>\\n', 'പ്രകൃതിയാണ് ക\\u200dര്\\u200dമ്മങ്ങളെല്ല\\u200dാം ചെയ്യുന്നത് എന്നും ആത്മാവ് ഒന്നും ചെയ്യാത്തവനാണെന്നും അറിയുന്നവന്\\u200d യഥാ\\u200dര്\\u200dത്ഥത്തില്\\u200d അറിവുള്ളവനാകുന്നു. <EOS>\\n', 'ഈശ്വര\\u200dന്\\u200d എല്ലായിടത്തും ഒരുപോലെ വ്യാപിച്ചിരിക്കുന്നതായി കാണുന്നവ\\u200dന്\\u200d തന്നെ സ്വയം നശിപ്പിക്കുന്നില്ല. അതിനാല്\\u200d അവ\\u200d\\u200dന്\\u200d മുക്തി അടയുകയും ചെയ്യുന്നു.\\u200d <EOS>\\n', 'പ്രകൃതിയാണ് ക\\u200dര്\\u200dമ്മങ്ങളെല്ല\\u200dാം ചെയ്യുന്നത് എന്നും ആത്മാവ് ഒന്നും ചെയ്യാത്തവനാണെന്നും അറിയുന്നവന്\\u200d യഥാ\\u200dര്\\u200dത്ഥത്തില്\\u200d അറിവുള്ളവനാകുന്നു. <EOS>\\n', 'എപ്പോ\\u200dഴാണോ ഓരോരോ ജീവിയുടെയും സത്ത ഏകവസ്തുവി\\u200cല്\\u200d തന്നെ സ്ഥിതിചെയ്യുന്നതായും അതി\\u200d\\u200dല്\\u200dനിന്നാണ് അവയെല്ല\\u200dാം വ\\u200dര്\\u200dദ്ധിക്കുന്നതെന്നും ഒരുവന്\\u200d അറിയുന്നത്, അപ്പോ\\u200dള്\\u200d അവന്\\u200d ബ്രഹ്മത്തെ പ്രാപിക്കുന്നു. <EOS>\\n', 'യോഗയുക്തനും പരിശുദ്ധാത്മാവും മനോജയം നേടിയവനും ജിതേന്ദ്രിയനും സർവഭൂതങ്ങളെയും ആത്മതുല്യനായി കാണുന്നവനും ആയവൻ കർമ്മം ചെയ്യുന്നെങ്കിലും ബദ്ധനായിത്തീരുന്നില്ല. <EOS>\\n', 'ഹേ കൗന്തേയ, രജസ്സിന്റെ സ്വഭാവം രാഗമാണെന്നറിയൂ. അത് തൃഷ്ണ (ആഗ്രഹം) യെയും സംഗത്തെയും ജനിപ്പിക്കുകയും കര്\\u200dമ്മത്തോടുള്ള സംഗത്താല്\\u200d ദേഹിയെ ബന്ധിക്കുകയും ചെയ്യുന്നു. <EOS>\\n', 'സൂ\\u200dര്യന്\\u200d തനിച്ച് എങ്ങനെ ഈ ലോകത്തെ മുഴുവ\\u200dന്\\u200d പ്രകാശിപ്പിക്കുന്നുവോ, അങ്ങനെ ദേഹത്തില്\\u200d വര്\\u200dത്തിക്കുന്ന പുരുഷ\\u200dന്\\u200d ദേഹത്തെ മുഴുവന്\\u200d പ്രകാശിപ്പിക്കുന്നു. <EOS>\\n', 'നല്കേണ്ടതാണെന്നുള്ള ബോദ്ധ്യത്തോടെ പ്രത്യുപകാരം ചെയ്യാന്\\u200d ശക്തിയില്ലാത്തവന് യോഗ്യതയും ഉചിതമായ സ്ഥലവും സമയവും നോക്കി ചെയ്യപ്പെടുന്ന ദാനം സാത്വികമെന്നു പറയപ്പെടുന്നു. <EOS>\\n', 'ഭഗവാന്\\u200d പറഞ്ഞു: യാതൊന്നിനെ അറിഞ്ഞിട്ടാണോ മുനിമാര്\\u200d പരമസിദ്ധിയടയുന്നത് ജ്ഞാനങ്ങളില്\\u200d വെച്ച് ഏറ്റവും ഉത്തമവും പരമവുമായ ആ ജ്ഞാനത്തെ ഞാന്\\u200d വീണ്ടും പറയ\\u200dാം. <EOS>\\n', 'ഈ ജ്ഞാനത്തെ ആശ്രയിച്ച് എന്നെ പ്രാപിക്കുന്നവര്\\u200d സൃഷ്ടിയുടെ ആരംഭത്തില്\\u200d ജന്മമെടുക്കുന്നില്ല, പ്രളയസമയത്ത് വ്യസനിക്കു ന്നുമില്ല. <EOS>\\n', 'ഹേ ഭാരത, തമസ്സ് അജ്ഞാനത്തില്\\u200d നിന്നുണ്ടാകുന്നതും എല്ലാ ദേഹികളെയും (ജീവന്മാരെയും) മോഹിപ്പിക്കുന്നതുമാണെന്നറിയൂ. അത് അശ്രദ്ധ, ആലസ്യം, ഉറക്ക എന്നിവയാല്\\u200d ദേഹിയെ ബന്ധിക്കുന്നു. <EOS>\\n', ' ദിവ്യങ്ങളായ പുഷ്പമാല്യങ്ങളും വസ്ത്രങ്ങളും അണിഞ്ഞിരുന്നു. ദിവ്യങ്ങളായ ഗന്ധദ്രവ്യങ്ങൾ ശരീരത്തിൽ പൂശി യിരുന്നു. അദ്ഭുതാവഹവും തേജോമയവും അമേയവും സർവ്വവ്യാ പവുമായിരുന്നു ആ രൂപം. <EOS>\\n', 'ഹേ മഹാബാഹോ, പ്രകൃതിയില്\\u200d നിന്നുണ്ടാകുന്ന സത്വം, രജസ്സ്, തമസ്സ് എന്നീ ഗുണങ്ങള്\\u200d അവിനാശിയായ ആത്മാവിനെ ദേഹത്തില്\\u200d ബന്ധിക്കുന്നു. <EOS>\\n', 'ശ്രദ്ധയോടെയും, അസൂയയില്ലാതെയും യാതൊരുവനാണോ ഇതു കേള്\\u200dക്കുന്നത് അവന്\\u200d മുക്തനാകുകയും പുണ്യകര്\\u200dമ്മം ചെയ്തവര്\\u200d പ്രാപിക്കുന്ന ശുഭലോകങ്ങളെ പ്രാപിക്കുകയും ചെയ്യും. <EOS>\\n', 'ഹേ കൗന്തേയ, രജസ്സിന്റെ സ്വഭാവം രാഗമാണെന്നറിയൂ. അത് തൃഷ്ണ (ആഗ്രഹം) യെയും സംഗത്തെയും ജനിപ്പിക്കുകയും കര്\\u200dമ്മത്തോടുള്ള സംഗത്താല്\\u200d ദേഹിയെ ബന്ധിക്കുകയും ചെയ്യുന്നു. <EOS>\\n', 'ഹേ ഭാരത, തമസ്സ് അജ്ഞാനത്തില്\\u200d നിന്നുണ്ടാകുന്നതും എല്ലാ ദേഹികളെയും (ജീവന്മാരെയും) മോഹിപ്പിക്കുന്നതുമാണെന്നറിയൂ. അത് അശ്രദ്ധ, ആലസ്യം, ഉറക്ക എന്നിവയാല്\\u200d ദേഹിയെ ബന്ധിക്കുന്നു. <EOS>\\n', 'സാംഖ്യവും യോഗവും വെവ്വേറെയായി അജ്ഞന്മാർ പറയുന്നു. പണ്ഡിതൻമാര് അങ്ങനെ പറയുന്നില്ല. ഒന്നെങ്കിലും വേണ്ടവിധം അനുഷ്ഠിക്കുന്ന പക്ഷം രണ്ടിന്റെയും ഫലം ലഭിക്കും. <EOS>\\n', 'സത്വഗുണം (അധികരിച്ചിരിക്കുമ്പോള്\\u200d) രജസ്സിനെയും തമസ്സിനെയും കീഴ്\\u200cപെടുത്തുന്നു. അതുപോലെ, രജസ്സ് (അധികരിച്ചിരിക്കുമ്പോള്\\u200d\\u200d) സത്വത്തിനെയും തമസ്സിനെയും, തമസ്സ് (അധികരിച്ചിരിക്കുമ്പോള്\\u200d) സത്വത്തിനെയും രജസ്സിനെയും കീഴ്\\u200cപെടുത്തുന്നു. <EOS>\\n', 'ഈ ലോകത്തില്\\u200d പ്രാണിസൃഷ്ടി ദൈവം, ആസുരം എന്നീ രണ്ടു വിധത്തിലാണ്. ദൈവീസൃഷ്ടിയെക്കുറിച്ച് ആദ്യം വിശദമായി പറഞ്ഞുകഴിഞ്ഞു. ഇനി ആസുരിസൃഷ്ടിയെക്കുറിച്ച് കേട്ടാലും. <EOS>\\n', 'മനസ്സിനെ കീഴടക്കിയവൻ, ശാന്തി നേടുകയാൽ പരമാത്മാവിനെ പ്രാപിച്ചു കഴിഞ്ഞു. അങ്ങനെയുള്ള ആൾക്ക് തണുപ്പും ചൂടും സുഖ ദുഃഖവും മാനവും അപമാനവുമെല്ലാം ഒന്നുപോലെ തന്നെ. <EOS>\\n', 'കുരുനന്ദന (കുരുവംശത്തില്\\u200d ജനിച്ചവനേ), തമോഗുണം വര്\\u200dദ്ധിക്കുമ്പോള്\\u200d അവിവേകം, ആലസ്യം, പ്രമാദം (അശ്രദ്ധ), മോഹം എന്നിവ ഉണ്ടാകുന്നു. <EOS>\\n', 'സത്വഗുണം വര്\\u200dദ്ധിച്ചിരിക്കുമ്പോള്\\u200d മരിക്കുന്നയാള്\\u200d ഉത്തമ ജ്ഞാനികള്\\u200d വസിക്കുന്ന വിശുദ്ധങ്ങളായ ലോകങ്ങളെ പ്രാപിക്കുന്നു. <EOS>\\n', 'എന്റെ അവയവങ്ങൾ തളരുന്നു, മുഖം വരളുന്നു. എന്റെ ശരീരം വിറയ്ക്കുകയും, രോമാഞ്ചമുണ്ടാവുകയും ചെയ്യുന്നു. <EOS>\\n', 'സാംഖ്യവും യോഗവും വെവ്വേറെയായി അജ്ഞന്മാർ പറയുന്നു. പണ്ഡിതൻമാര് അങ്ങനെ പറയുന്നില്ല. ഒന്നെങ്കിലും വേണ്ടവിധം അനുഷ്ഠിക്കുന്ന പക്ഷം രണ്ടിന്റെയും ഫലം ലഭിക്കും. <EOS>\\n', 'ഞാന്\\u200d അമൃതവും (അനശ്വരവും) അവ്യയവുമായ (മാറ്റമില്ലാത്തതുമായ) ബ്രഹ്മത്തിന്റെയും, ശാശ്വതമായ ധര്\\u200dമ്മ ത്തിന്റെയും, പരമമായ സുഖത്തിന്റെയും പ്രതിഷ്ഠയുമാകുന്നു (ആശ്രയവുമാകുന്നു). <EOS>\\n', 'ഈശ്വരൻ ആരുടേയും പാപവും സുകൃതവും സ്വീകരിക്കുന്നില്ല. ജ്ഞാനം അജ്ഞാനത്താൽ മറയ്ക്കപ്പെട്ടിരിക്കുന്നതുകൊണ്ട് ജീവികൾ മോഹത്തിലാണ്ടുപോകുന്നു. <EOS>\\n', 'ഞാന്\\u200d സര്\\u200dവ്വരുടെയും ഹൃദയത്തില്\\u200d സന്നിഹിതനാണ്. ഓര്\\u200dമ്മ, അറിവ്, മറവി എന്നിവയുണ്ടാകുന്നതും എന്നില്\\u200d നിന്നാണ്. എല്ലാ വേദങ്ങളിലൂടെ അറിയപ്പെടേണ്ടവന്\\u200d ഞാനാണ്. <EOS>\\n', ' ഒരേവിധം കൈക്കൊണ്ട് അസത്സംഗത്തിൽ നിന്ന് എല്ലായ്പ്പോഴും മുക്തനും മൗനിയും ജ്ഞാനത്തിലുറച്ചവനും സദാ സംതൃപ്തനുമായി, ഗാർഹികബോധമുപേക്ഷിച്ച് ഭക്തിയുത സേവനത്തിലേർപ്പെട്ടിരിക്കുന്ന ഭക്തൻ എനിക്കെത്രയും പ്രിയപ്പെട്ടവനാണ്. <EOS>\\n', 'അര്\\u200dജുനന്\\u200d പറഞ്ഞു: പ്രഭോ, ഈ മൂന്നു ഗുണങ്ങളെ അതിവര്\\u200dത്തി ച്ചവന്റെ ലക്ഷണങ്ങളേതൊക്കെയാണ്? അവന്റെ സ്വഭാവമെന്താണ്? എങ്ങനെയാണ് ഈ മൂന്നു ഗുണങ്ങളെ അതിവര്\\u200dത്തിക്കുന്നത്? <EOS>\\n', 'ശ്രീ ഭഗവാൻ പറഞ്ഞു: ഹേ പാണ്ഡുപുത്രാ, പ്രകാശത്തി ന്റേയോ ആസക്തിയുടേയോ വ്യാമോഹത്തിന്റേയോ സാന്നിദ്ധ്യത്തിൽ ആർക്ക് വെറുപ്പ് ഉണ്ടാകുന്നില്ലയോ, <EOS>\\n', 'കൃഷ്ണാ! എനിക്ക് ആ രൂപം കാണാവുന്നതാണെന്ന് അങ്ങ് വിചാരിക്കുന്നുവെങ്കി\\u200d\\u200dല്\\u200d അവ്യയനായ അങ്ങയെ എനിക്കു കാണിച്ചുതന്നാലും. <EOS>\\n', ' ആത്മനിഷ്ഠനായി സുഖദുഃഖങ്ങളെ തുല്യനിലയിൽ കാണുന്നുവോ, ആരുടെ ദൃഷ്ടിയിൽ മൺകട്ടയും കല്ലും പൊന്നും വ്യത്യസ്തമല്ലയോ, ആർക്ക് പ്രിയമായോ അപ്രിയമായോ യാതൊന്നു മില്ലയോ, ധീരനും, നിന്ദകളിലും സ്തുതികളിലും. <EOS>\\n', ' മാനത്തിലും അപമാനത്തിലും സമചിത്തനും, ശത്രുമിത്രഭേദമില്ലാത്തവനും, നിരുദ്യമനുമായ ആ വ്യക്തിയെ ഗുണാതീതനെന്ന് പറയാം <EOS>\\n', 'പുരുഷശ്രേഷ്ഠാ, സമദുഖസുഖനും ധീരനുമായ ഏതൊരു പുരുഷനെ ഇവ ദുഖിപ്പിക്കയില്ലയോ അവന്\\u200d അമൃതത്വത്തിനു അധികാരിയായിത്തീരുന്നു. <EOS>\\n', 'ഞാന്\\u200d അമൃതവും (അനശ്വരവും) അവ്യയവുമായ (മാറ്റമില്ലാത്തതുമായ) ബ്രഹ്മത്തിന്റെയും, ശാശ്വതമായ ധര്\\u200dമ്മ ത്തിന്റെയും, പരമമായ സുഖത്തിന്റെയും പ്രതിഷ്ഠയുമാകുന്നു (ആശ്രയവുമാകുന്നു). <EOS>\\n', 'ഹേ അര്\\u200dജുനാ, കഴിഞ്ഞതും ഇപ്പോഴുള്ളതും ഇനിയുണ്ടാകുന്നതുമായ ജീലജാലങ്ങളെയും ഞാനറിയുന്നു. എന്നാല്\\u200d എന്നെയാകട്ടെ ഒരുത്തരും അറിയുന്നില്ല. <EOS>\\n', 'തിഗുണങ്ങളാല്\\u200d പോഷിപ്പിക്കപ്പെടുന്ന അതിന്റെ ശാഖകള്\\u200d മുകളിലും താഴെയുമായി പരന്നുകിടക്കുന്നു. വിഷയങ്ങളാണ് അതിന്റെ തളിരുകള്\\u200d. കര്\\u200dമ്മത്തോടു ബന്ധപ്പെട്ടവയായ അതിന്റെ വേരുകള്\\u200d മനുഷ്യലോകത്തില്\\u200d വ്യാപിച്ചുകിടക്കുന്നു. <EOS>\\n', 'ഈ വൃക്ഷത്തിന്റെ യഥാർത്ഥ രൂപം ഈ ലോകത്തിൽ കാണു കയില്ല. അതിന്റെ ആരംഭമോ അവസാനമോ അടിസ്ഥാനമോ കണ്ട ത്താനാവില്ല. വേരുറച്ചുയർന്ന ഈ വൃക്ഷത്തെ ദൃഢനിശ്ചയത്തോടെ വിരക്തിയാകുന്ന ആയുധത്താൽ ഛേദിച്ചുകളയണം. <EOS>\\n', ' എന്നിട്ട് എവി ടെച്ചെന്നാൽ തിരിച്ചുവരവില്ലയോ, ആ ദിവ്യപദം പൂകി സ്മരണാതീത കാലം മുതൽക്കേയുള്ള എല്ലാറ്റിന്റെയും ഉറവിടമായ പരമപുരുഷന് സ്വയം സമർപ്പിക്കണം. <EOS>\\n', 'അർജുനൻ പറഞ്ഞു: ഹേ കൃഷ്ണാ, സന്യാസവും പിന്നെ കർമ്മയോഗവും അങ്ങ് ഉപദേശിക്കുന്നു. ഈ രണ്ടിൽ ഏതാണ് ശ്രേയസ്കരം എന്നത് നിശ്ചിതമായി എനിക്ക് പറഞ്ഞു തരിക. <EOS>\\n', 'ഹേ കൗന്തേയ, ദോഷമുള്ളതാണെങ്കിലും സ്വധര്\\u200dമ്മത്തെ ഉപേക്ഷിക്കരുത്. തീ പുക കൊണ്ടെന്ന പോലെ എല്ലാ കര്\\u200dമ്മങ്ങളും ദോഷങ്ങളാല്\\u200d ആവൃതമാണ്. <EOS>\\n', 'ഹേ മഹാബാഹോ, എല്ലാ കര്\\u200dമ്മങ്ങളുടെ സിദ്ധിയ്ക്കായി സ\\u200dാംഖ്യത്തില്\\u200d പറഞ്ഞിരിക്കുന്ന അഞ്ചു ഘടകങ്ങള്\\u200d കേട്ടാലും. <EOS>\\n', 'ഗുണങ്ങളുടെയും ക\\u200dര്\\u200dമ്മങ്ങളുടെയും വിഭാഗമനുസരിച്ചു ചാതുര്\\u200dവര്\\u200dണ്യം ഞാന്\\u200d സൃഷ്ടിച്ചിരിക്കുന്നു. നിഷ്ക്രിയനും അനശ്വരനുമായ എന്നെത്തന്നെ അതിന്റെയും ചാതുര്\\u200dവര്\\u200dണ്യത്തിന്റെയും സൃഷ്ടാവായി അറിയുക. <EOS>\\n', 'ഈ ജീവന്\\u200d ചെവി, കണ്ണ്, ത്വക്ക്, നാക്ക്, മൂക്ക് എന്നീ അഞ്ചിന്ദ്രിയങ്ങളെയും മനസ്സിനെയും ആശ്രയിച്ച് വിഷയങ്ങളെ അനുഭവിക്കുന്നു. <EOS>\\n', 'ഏതൊരുവന്\\u200d ഏകത്വബോധം നേടി എല്ലാ ജീവജാലങ്ങളിലും വ്യാപിച്ചിരിക്കുന്ന എന്നെ ഭജിക്കുന്നുവോ, ആ യോഗി എങ്ങിനെയെല്ല\\u200dാം ഇരുന്നാലും എന്നില്\\u200dതന്നെ വര്\\u200dത്തിക്കുന്നു. <EOS>\\n', 'ഓരോ ഇന്ദ്രിയത്തിന്റെയും അതതിന്റെ വിഷയങ്ങളുടെ കാര്യത്തില്\\u200d രാഗദ്വേഷങ്ങള്\\u200d നിശ്ചിതങ്ങളാണ്. അവയ്ക്ക് വശപ്പെടരുത്. എന്തുകൊണ്ടെന്നാല്\\u200d അവ ഇവന്റെ ശത്രുക്കളാകുന്നു. <EOS>\\n', 'ഈ ലോകത്തെയാകമാനം പ്രകാശിപ്പിക്കുന്ന സൂര്യന്റെ തേജസ്സും, ചന്ദ്രനിലും അഗ്നിയിലുമുള്ള തേജസ്സും എന്റേതു തന്നെയെന്നറിയൂ. <EOS>\\n', 'ഡംഭ്, അഹങ്കാരം, അഭിമാനം, ക്രോധം, പാരുഷ്യം, അജ്ഞാനം എന്നിവ ആസുരീസമ്പത്തോടെ ജനിച്ചവനുണ്ടാകുന്ന ഗുണങ്ങളാണ്. <EOS>\\n', 'ഞാന്\\u200d പ്രാണികളുടെ ശരീരങ്ങളില്\\u200d അഗ്നിയുടെ രൂപത്തിലിരുന്ന് പ്രാണന്\\u200d, അപാനന്\\u200d എന്നിവയോടു ചേര്\\u200dന്ന് നാലുതരത്തിലുള്ള ഭക്ഷണത്തെയും ദഹിപ്പിക്കുന്നു. <EOS>\\n', 'ഞാന്\\u200d സര്\\u200dവ്വരുടെയും ഹൃദയത്തില്\\u200d സന്നിഹിതനാണ്. ഓര്\\u200dമ്മ, അറിവ്, മറവി എന്നിവയുണ്ടാകുന്നതും എന്നില്\\u200d നിന്നാണ്. എല്ലാ വേദങ്ങളിലൂടെ അറിയപ്പെടേണ്ടവന്\\u200d ഞാനാണ്. വേദാന്തത്തിന്റെ കര്\\u200dത്താവും വേദജ്ഞനും ഞാന്\\u200d തന്നെയാണ്. <EOS>\\n', 'സ്ഥിരതയില്ലാത്തവനും, പ്രാകൃതനും, അഹങ്കാരവും ദര്\\u200dപ്പവുമുള്ളവനും, നീചനും അലസനും, ദുഃഖിതനും, ദീര്\\u200dഘസൂത്രിയുമായ (ചെയ്യാനുള്ള കാര്യങ്ങള്\\u200d നീട്ടിവെയ്ക്കുന്ന സ്വഭാവമുള്ളയാള്\\u200d) കര്\\u200dത്താവ് താമസികനാണ് എന്നു പറയപ്പെടുന്നു. <EOS>\\n', 'യജ്ഞത്തില്\\u200d ശേഷിക്കുന്നത് മാത്രം യജ്ഞം ചെയ്തു ശേഷിച്ചതായ വസ്തുക്കളെ നുഭവിക്കുന്ന സജ്ജനങ്ങള്\\u200d എല്ലാ പാപങ്ങളില്\\u200d നിന്നും മുക്തി നേടുന്നു. എന്നാ\\u200cല്\\u200dതങ്ങള്\\u200dക്കുവേണ്ടിത്തന്നെ ഭോഗസഞ്ചയം ചെയ്യുന്നവ\\u200dര്\\u200d പാപത്തെത്തന്നെ ഭുജിക്കുകയാണ്. <EOS>\\n', 'അർജുനൻ പറഞ്ഞു: ഹേ പാര്\\u200dത്ഥ, അവനു ഈ ലോകത്തില്\\u200d സംഖ്യന്മാര്\\u200dക്ക് വേണ്ടി ജഞാനയോഗം കൊണ്ടും യോഗികള്\\u200dക്കു വേണ്ടി ക\\u200d\\u200d\\u200dര്\\u200dമ്മയോഗം കൊണ്ടും രണ്ടുവിധം നിഷ്ഠകള്\\u200d മുമ്പ് ഞാന്\\u200d പറഞ്ഞു. <EOS>\\n', 'ഹേ ഭാരത, പുരുഷോത്തമനായ എന്നെ ഇപ്രകാരം മോഹരഹിതനായ യാതൊരുവനാണോ അറിയുന്നത്, എല്ല\\u200dാം അറിഞ്ഞവനായ അവന്\\u200d എല്ലാ ഭാവത്തിലും എന്നെ ഭജിക്കുന്നു. <EOS>\\n', 'ഹേ ഭാരത, ഇപ്രകാരം ഞാനുപദേശിച്ച തികച്ചും രഹസ്യമായ ഈ ശാസ്ത്രത്തെ അറിയുന്നവന്\\u200d ബുദ്ധിമാനായും കൃതകൃത്യനായും (ചെയ്യേണ്ടതെല്ല\\u200dാം ചെയ്തു തീര്\\u200dത്തവന്\\u200d) ഭവിക്കുന്നു. <EOS>\\n', 'പരമദിവ്യോത്തമപുരുഷൻ പറഞ്ഞു : ഹേ ഭാരതാ, നിർഭയത അസ്ഥിത്വത്തിന്റെ ശുദ്ധി, ആദ്ധ്യാത്മികജ്ഞാനനിഷ്ഠ, ദാനം, ആത്മനി യന്ത്രണം, യജ്ഞം, വേദപഠനം, തപസ്സ്, ലാളിത്യം, <EOS>\\n', ' അഹിംസ, സത്യം, ക്രോധമില്ലായ്മ, ത്യാഗം, ശാന്തി, പരദൂഷണത്തിൽ വെറുപ്പ്, സർവ്വജീവി കളോടും കാരുണ്യം, ലോഭമില്ലായ്മ, മൃദുല സ്വഭാവം, വിനയം, സ്ഥിര നിശ്ചയം, <EOS>\\n', 'ഹേ ഭാരത, പുരുഷോത്തമനായ എന്നെ ഇപ്രകാരം മോഹരഹിതനായ യാതൊരുവനാണോ അറിയുന്നത്, എല്ല\\u200dാം അറിഞ്ഞവനായ അവന്\\u200d എല്ലാ ഭാവത്തിലും എന്നെ ഭജിക്കുന്നു. <EOS>\\n', 'ഡംഭ്, അഹങ്കാരം, അഭിമാനം, ക്രോധം, പാരുഷ്യം, അജ്ഞാനം എന്നിവ ആസുരീസമ്പത്തോടെ ജനിച്ചവനുണ്ടാകുന്ന ഗുണങ്ങളാണ്. <EOS>\\n', 'ഹേ പാണ്ഡുപുത്ര! യാതൊരുത്ത\\u200dന്\\u200d എന്നെ ഉദ്ദേശിച്ചു ക\\u200dര്\\u200dമ്മം ചെയ്യുന്നവനും, എന്നെ പ്രാപ്യസ്ഥാനമായി വിചാരിക്കുന്നവനും, എന്നി\\u200d\\u200dല്\\u200d ഭക്തിയുള്ളവനും, സംഗം വിട്ടവനും, സ\\u200cര്\\u200dവജീവികളിലും വൈരമില്ലാത്തവനും ആയിരിക്കുന്നുവോ അവ\\u200dന്\\u200d എന്നെ പ്രാപിക്കുന്നു. ഓം തത്സദിതി ശ്രീമദ്ഭഗവദ്ഗീതാസൂപനിഷത്സു ബ്രഹ്മവിദ്യായ\\u200dാം യോഗശാസ്ത്രേ ശ്രീകൃഷ്ണാര്\\u200dജുനസംവാദേ വിശ്വരൂപദര്\\u200dശനയോഗോ നാമൈകാദശോധ്യായഃ <EOS>\\n', 'ഈ ലോകത്തില്\\u200d പ്രാണിസൃഷ്ടി ദൈവം, ആസുരം എന്നീ രണ്ടു വിധത്തിലാണ്. ദൈവീസൃഷ്ടിയെക്കുറിച്ച് ആദ്യം വിശദമായി പറഞ്ഞുകഴിഞ്ഞു. ഇനി ആസുരിസൃഷ്ടിയെക്കുറിച്ച് കേട്ടാലും. <EOS>\\n', 'സ്വധ\\u200dര്\\u200dമ്മത്തെക്കുറിച്ച് ആലോചിച്ചിട്ടും നീ കുലുങ്ങേണ്ടതില്ല. എന്തെന്നാല്\\u200d ക്ഷത്രിയന് ധ\\u200dര്\\u200dമ്മ സംഗതമായ യുദ്ധത്തേക്കാള്\\u200d ശ്രേയസ്കരമായി മറ്റൊന്നുമില്ല. <EOS>\\n', 'അവര്\\u200d ഈ ജഗത്തിനെ ഈശ്വരനില്ലാത്തതും, മിഥ്യയായതും, അടിസ്ഥാനമില്ലാത്തതുമാണെന്നു പറയുന്നു. ഈ ലോകം ഭൂതങ്ങളുടെ പരസ്പരസംയോഗത്താലുണ്ടായതാണെന്നും കാമത്തില്\\u200d നിന്നും ഉദ്ഭവിച്ചതല്ലാതെ മറ്റൊരു കാരണവുമതിനില്ലെന്നും അവര്\\u200d പറയുന്നു. <EOS>\\n', 'അല്പബുദ്ധികളായ അവര്\\u200d ഈ ചിന്താഗതിയെ സ്വീകരിച്ചുകൊണ്ട് സ്വയം നശിക്കുകയും, ക്രൂരകര്\\u200dമ്മങ്ങളെചെയ്ത് ലോകത്തിന് നാശം വരുത്തിവെയ്ക്കുന്നു. <EOS>\\n', 'ഡംഭവും മാനവുമുള്ള ഇവര്\\u200d തൃപ്തിപ്പെടുത്തുവാന്\\u200d വിഷമമായ കാമത്തിന് അധീനരായി മോഹവശാല്\\u200d ദുരാഗ്രഹങ്ങളെ നിറവേറ്റുവാന്\\u200d അശുദ്ധവ്രതരായി പ്രവര്ത്തിക്കുന്നു. <EOS>\\n', 'ഇന്ദ്രിയസന്തർപ്പണമാണ് മാനുഷികസംസ്കാരത്തിന്റെ പ്രധാനാ വശ്യമെന്നവർ കരുതുന്നു. അക്കാരണത്താൽ ജീവിതാവസാനം വരെയും അളവറ്റ വ്യാകുലതയോടെ കഴിഞ്ഞുകൂടേണ്ടതായും വരുന്നു. <EOS>\\n', ' അനേകായിരം ആഗ്രഹങ്ങളുടെ വലക്കെട്ടിലകപ്പെട്ട് കാമ കാധങ്ങൾ ക്കധീനരായി സുഖഭോഗങ്ങൾക്കായി അന്യായമായിട്ടെ ങ്കിലും അവർ ധനം സമ്പാദിക്കുന്നു. <EOS>\\n', 'അസുരസ്വഭാവി ഇങ്ങനെ വിചാരിക്കും . ഇന്നെനിക്ക് ഇത്രയേറെ ധനം ഉണ്ട്. എന്റെ പദ്ധതികൾ അനുസരിച്ച് ഞാൻ ഇനിയും ധനമാർജ്ജി ക്കും. ഇത്രയേറെ ധനം എനിക്കിപ്പോഴുണ്ട്; അത് ഭാവിയിൽ കൂടി കൂടി വരികയും ചെയ്യും. <EOS>\\n', ' അയാൾ എന്റെ ശത്രുവാണ്; ഞാൻ അയാളെ കൊന്നു. ഇനിയുള്ള ശത്രുക്കളേയും ഞാൻ കൊല്ലും. ഞാൻ എല്ലാറ്റിനും ഉടമയാണ്. ഞാൻ സുഖിയാണ്. എല്ലാം തികഞ്ഞവനും, ബലവാനും, സന്തുഷ്ടനും സമ്പന്നനുമാണ്. <EOS>\\n', 'ശ്രീ ഭഗവാന്\\u200d പറഞ്ഞു: ക\\u200dര്\\u200dമ്മഫലത്തെ ആശ്രയിക്കാതെ കര്\\u200dത്തവ്യമായ ക\\u200dര്\\u200dമ്മം ആരു ചെയ്യുന്നുവോ അവന്\\u200d സന്യാസിയും യോഗിയുമാണ്. അല്ലാതെ അഗ്നിഹോത്രാദികളെ ചെയ്യാത്തവനും, ക\\u200dര്\\u200dമ്മത്തെ ഉപേക്ഷിച്ചു സ്വസ്ഥനായിരിക്കുന്നവനുമല്ല. <EOS>\\n', 'ഇങ്ങനെ പലവിധം ആകാംക്ഷകളിൽപ്പെട്ട് വലഞ്ഞും വ്യാമോ ഹത്തിന്റെ വലയിൽ കുടുങ്ങിയും ഇന്ദ്രിയസുഖങ്ങളിൽ അത്യാസക്ത രായി. അവർ നരകത്തിൽ വീഴുന്നു. <EOS>\\n', 'സ്വയം പുകഴ്ത്തുന്നവരും, പിടിവാശിക്കാരും, ധനം, മാനം എന്നിവയില്\\u200d അഹങ്കരിക്കുന്നവരുമായ അവര്\\u200d നാമമാത്രമായി ഡംഭോടെ വിധികളെ പാലിക്കാതെ യജ്ഞങ്ങളിലൂടെ എന്നെ യജിക്കുന്നു. <EOS>\\n', 'അഹങ്കാരം, ബലം, അഭിമാനം, കാമം, ക്രോധം എന്നിവയ്ക്കു വശപ്പെട്ട ഈ അസൂയാലുക്കള്\\u200d അവരുടെയും അന്യരുടെയും ശരീരങ്ങളിലും കുടികൊള്ളുന്ന എന്നെ വെറുക്കുന്നു. <EOS>\\n', 'ദ്വേഷിക്കുന്നവരും ക്രൂരന്മാരുമായ ഈ നരാധമന്മാരെ ഞാന്\\u200d എന്നെന്നും അശുഭങ്ങളായ ആസുരയോനികളില്\\u200d എറിയുന്നു (ജനിക്കുവാനിടയാക്കുന്നു). <EOS>\\n', 'ഹേ കൗന്തേയ, ആസുരയോനികളില്\\u200d ജനിക്കുന്ന ഈ മൂഢന്മാര്\\u200d ഓരോ ജന്മങ്ങളിലും എന്നെ പ്രാപിക്കാതെ അധമഗതിയെ പ്രാപിക്കുന്നു. <EOS>\\n', 'അന്നത്തില്\\u200dനിന്നു ഭൂതങ്ങള്\\u200d ഉണ്ടാകുന്നു. മഴയില്\\u200dനിന്നു അന്നവും ഉദ്ഭവിക്കുന്നു. യജ്ഞത്തില്\\u200d നിന്നു മഴയുണ്ടാകുന്നു. യജ്ഞം ക\\u200d\\u200d\\u200dര്\\u200dമ്മത്തില്\\u200dനിന്നുണ്ടാകുന്നു. <EOS>\\n', 'തമോദ്വാരങ്ങളായ ഈ മൂന്നില്\\u200d നിന്നും മുക്തരായ മനുഷ്യര്\\u200d ആത്മശ്രേയസ്സിനാവശ്യമായ കാര്യങ്ങളനുഷ്ഠിച്ച് പരമമായ ഗതിയെ (മോക്ഷത്തെ) പ്രാപിക്കുന്നു. <EOS>\\n', 'യാതൊരുവന്\\u200d ശാസ്ത്രവിധിയെ ലംഘിച്ച് ആഗ്രഹങ്ങള്\\u200dക്കു വശംവദനായി വര്ത്തിക്കുന്നുവോ, അവന്\\u200d സിദ്ധിയോ സുഖമോ, പരമമായ ഗതിയോ പ്രാപിക്കുന്നില്ല. <EOS>\\n', 'അതികൊണ്ട്, എന്തു ചെയ്യണം എന്തു ചെയ്യരുത് എന്നറിയുന്നതിന് നിനക്ക് ശാസ്ത്രം പ്രമാണമായിരിക്കട്ടെ. നീ ശാസ്ത്രവിധികളെ അറിഞ്ഞ് അതനുസരിച്ച് കര്\\u200dമ്മം ചെയ്യേണ്ടതാണ്. <EOS>\\n', 'ഹേ അ\\u200dര്\\u200dജ്ജുനാ! ഞാ\\u200d\\u200dന്\\u200dഎന്റെ യോഗശക്തിയാല്\\u200d നിനക്കു കാട്ടിത്തന്നതായ തേജോമയവും അനാദ്യന്തവുമായ ഈ വിശ്വരൂപം മറ്റാരും ഇതുവരെ കണ്ടിട്ടുള്ളതല്ല. <EOS>\\n', 'ഭഗവാന്\\u200d പറഞ്ഞു: മനുഷ്യരുടെ സ്വഭാവത്തില്\\u200d നിന്നുദ്ഭവിക്കുന്ന ശ്രദ്ധ സാത്വികം, രാജസികം, താകസികം എന്നിങ്ങനെ മൂന്നു വിധത്തിലാണ്. <EOS>\\n', 'ഹേ ഭാരത, എല്ലാവരുടെയും ശ്രദ്ധ അവരവരുടെ ശ്രദ്ധയെ ആശ്രയിച്ചിരിക്കുന്നു. ഈ മനുഷ്യന്\\u200d ശ്രദ്ധാമയനാണ്. ഒരുവന്റെ ശ്രദ്ധ ഏതാണോ അവന്\\u200d ആ തരത്തിലുള്ളവനായിരിക്കും. <EOS>\\n', 'അഗ്നി, ജ്യോതിസ്, വെളുത്ത പക്ഷം, ഉത്തരായണം ഇവയില്\\u200d ഇവയുടെ അധീശ്വരായ ദേവതകള്\\u200d വഴിയായി, ഗമിക്കുന്ന ബ്രഹ്മജ്ഞരായ ജനങ്ങള്\\u200d ബ്രഹ്മത്തെ പ്രാപിക്കുന്നു. <EOS>\\n', 'കാമം, ആസക്തി എന്നിവയാൽ പ്രേരിതരായി അഹംഭാവത്തോ ടുകൂടി  <EOS>\\n', 'അ\\u200dര്\\u200dജ്ജുനാ! എന്റെ മേ\\u200dല്\\u200dനോട്ടത്തി\\u200d\\u200dല്\\u200d പ്രകൃതി സ\\u200dര്\\u200dവചരാചരങ്ങളേയും ജനിപ്പിക്കുന്നു. എന്റെ അദ്ധ്യക്ഷതയാല്\\u200d തന്നെ പ്രപഞ്ചം ഉത്ഭവിക്കുന്നു. <EOS>\\n', 'ഭഗവാന്\\u200d പറഞ്ഞു: മനുഷ്യരുടെ സ്വഭാവത്തില്\\u200d നിന്നുദ്ഭവിക്കുന്ന ശ്രദ്ധ സാത്വികം, രാജസികം, താകസികം എന്നിങ്ങനെ മൂന്നു വിധത്തിലാണ്. <EOS>\\n', 'ശ്രീ ഭഗവാന്\\u200d പറഞ്ഞു: ഹേ പാര്\\u200dത്ഥ, മനുഷ്യന്\\u200d എപ്പോള്\\u200d ആത്മാവിനാല്\\u200d ആത്മാവില്\\u200dത്തന്നെ സന്തുഷ്ടനായി മനസ്സിലുള്ള എല്ലാ ആഗ്രഹങ്ങളേയും (വാസനകളേയും) ഉപേക്ഷിക്കുന്നുവോ, അപ്പോള്\\u200d അവന്\\u200d സ്ഥിതപ്രജഞന്\\u200d എന്ന് പറയപ്പെടുന്നു. <EOS>\\n', 'അന്നത്തില്\\u200dനിന്നു ഭൂതങ്ങള്\\u200d ഉണ്ടാകുന്നു. മഴയില്\\u200dനിന്നു അന്നവും ഉദ്ഭവിക്കുന്നു. യജ്ഞത്തില്\\u200d നിന്നു മഴയുണ്ടാകുന്നു. യജ്ഞം ക\\u200d\\u200d\\u200dര്\\u200dമ്മത്തില്\\u200dനിന്നുണ്ടാകുന്നു. <EOS>\\n', 'ഉണ്ടാക്കിയിട്ട് ഒരു യാമം (മൂന്നു മണിക്കൂര്\\u200d) കഴിഞ്ഞതും, സ്വാദു പോയതും, ദുര്\\u200dഗന്ധമുള്ളതും, ഒരു രാത്രി കഴിഞ്ഞതും, ഉച്ഛിഷ്ടവും, അശുദ്ധവുമായ ആഹാരമാണ് അതാമസികന്മാര്\\u200dക്ക് പ്രിയമായിട്ടുള്ളത്. <EOS>\\n', 'ഫലാക\\u200dാംക്ഷയില്ലാതെ, ശാസ്ത്രവിധിപ്രകാരം യജ്ഞം ചെയ്യപ്പെടേണ്ട താണ് എന്ന ഭാവത്തോടെ മനസ്സിനെ യജ്ഞത്തില്\\u200d സമാഹിതമാക്കി യജിക്കപ്പെടുന്ന ആ യജ്ഞം സാത്വികമാണ്. <EOS>\\n', 'യാതൊരു ജ്ഞനമാണോ സര്\\u200dവ്വജീവജാലങ്ങളിലും നാനാതരത്തിലുള്ള ഭാവങ്ങളെ ദര്\\u200dശിക്കുന്നത് അത് രാജസമാണ്. <EOS>\\n', 'പരമമായ ശ്രദ്ധയോടെയും ഫലക\\u200dാംക്ഷയില്ലാതെയും നിഷ്ഠയോടെയും ചെയ്യപ്പെടുന്ന മൂന്നു വിധത്തിലുമുള്ള തപസ്സ് സാത്വികമെന്നു പറയപ്പെടുന്നു. <EOS>\\n', 'ക്ലേശം ജനിപ്പിക്കാത്തതും എന്നാല്\\u200d സത്യവും, പ്രിയവും, ഹിതവുമായ വാക്കും, ശാസ്ത്രപാരായണവുമാണ് വാചികമായ തപസ്സെന്നു പറയപ്പെടുന്നു. <EOS>\\n', 'ക്ലേശം ജനിപ്പിക്കാത്തതും എന്നാല്\\u200d സത്യവും, പ്രിയവും, ഹിതവുമായ വാക്കും, ശാസ്ത്രപാരായണവുമാണ് വാചികമായ തപസ്സെന്നു പറയപ്പെടുന്നു. <EOS>\\n', 'മനസ്സിന്റെ പ്രസന്നത, സൗമ്യത, മൗനം, ആത്മസംയമനം, സ്വഭാവശുദ്ധി എന്നിവയാണ് മാനസികമായ തപസ്സെന്ന് പറയപ്പെടുന്നത്. <EOS>\\n', 'പരമമായ ശ്രദ്ധയോടെയും ഫലക\\u200dാംക്ഷയില്ലാതെയും നിഷ്ഠയോടെയും ചെയ്യപ്പെടുന്ന മൂന്നു വിധത്തിലുമുള്ള തപസ്സ് സാത്വികമെന്നു പറയപ്പെടുന്നു. <EOS>\\n', 'സത്കാരം, അന്തസ്സ്, ബഹുമതി എന്നിവയ്ക്കുവേണ്ടി ഡംഭോടുകൂടി ചെയ്യപ്പെടുന്നതും, ചഞ്ചലവും, അസ്ഥിരവുമായ തപസ്സ് രാജസികമെന്നു പറയപ്പെടുന്നു. <EOS>\\n', 'അബദ്ധധാരണകളോടുകൂടി ചെയ്യപ്പെടുന്നതും സ്വയം പീഡയനുഭവിച്ചോ, അന്യനെ നശിപ്പിക്കുവാനുദ്ദേശിച്ചോ ഉള്ള തപസ്സ് താമസികമെന്നു പറയപ്പെടുന്നു. <EOS>\\n', 'നല്കേണ്ടതാണെന്നുള്ള ബോദ്ധ്യത്തോടെ പ്രത്യുപകാരം ചെയ്യാന്\\u200d ശക്തിയില്ലാത്തവന് യോഗ്യതയും ഉചിതമായ സ്ഥലവും സമയവും നോക്കി ചെയ്യപ്പെടുന്ന ദാനം സാത്വികമെന്നു പറയപ്പെടുന്നു. <EOS>\\n', 'പ്രത്യുപകാരം പ്രതീക്ഷിച്ചുകൊണ്ടോ ഫലമുദ്ദേശിച്ചോ വൈമനസ്യത്തോടെ ചെയ്യപ്പെടുന്ന ദാനം രാജസികമെന്നു പറയപ്പെടുന്നു. <EOS>\\n', 'യോഗ്യതയില്ലാത്തവന് അനുചിതമായ ദേശകാലങ്ങളില്\\u200d ബഹുമാനം കൂടാതെ അവജ്ഞയോടെ ചെയ്യപ്പെടുന്ന ദാനം താമസികമെന്നു പറയപ്പെടുന്നു. <EOS>\\n', ' അയാൾ എന്റെ ശത്രുവാണ്; ഞാൻ അയാളെ കൊന്നു. ഇനിയുള്ള ശത്രുക്കളേയും ഞാൻ കൊല്ലും. ഞാൻ എല്ലാറ്റിനും ഉടമയാണ്. ഞാൻ സുഖിയാണ്. എല്ലാം തികഞ്ഞവനും, ബലവാനും, സന്തുഷ്ടനും സമ്പന്നനുമാണ്. <EOS>\\n', 'അതിനാല്\\u200d ബ്രഹ്മവാദികള്\\u200d (വേദജ്ഞന്മാര്\\u200d) ഓം (ബ്രഹ്മത്തിന്റെ മുഖ്യനാമം) എന്നുച്ചരിച്ച് ശാസ്ത്രവിധിപ്രകാരം യജ്ഞം, ദാനം, തപസ്സ് എന്നീ ക്രിയകള്\\u200d നടത്തുന്നു. <EOS>\\n', 'മോക്ഷാര്\\u200dഥികള്\\u200d തത് (അത്) എന്നുച്ചരിച്ച് ഫലാക\\u200dാംക്ഷയില്ലാതെ യജ്ഞം, ദാനം, തപസ്സ് എന്നീ ക്രിയകള്\\u200d നടത്തുന്നു. <EOS>\\n', 'ഹേ പാര്\\u200dഥ, ഉള്ളത് എന്ന അര്\\u200dഥത്തിലും, നല്ലത് എന്ന അര്\\u200dഥത്തിലും സത് എന്ന പദം പ്രയോഗിക്കപ്പെടുന്നു. അതുപോലെ, ശ്രേഷ്ഠമായ കര്\\u200dമ്മത്തെ ഉദ്ദേശിച്ചും സത് എന്ന് ശബ്ദം ഉപയോഗിക്കപ്പെടുന്നു. <EOS>\\n', 'ശ്രീകൃഷ്ണ\\u200dന്\\u200dപറഞ്ഞു: ആര് എന്നി\\u200d\\u200dല്\\u200dമനസ്സുറപ്പിച്ചു സ്ഥിരമായ നിഷ്ഠയോടും ശ്രേഷ്ഠമായ ശ്രദ്ധയോടും കുടി എന്നെ ആരാധിക്കുന്നുവോ അവരാണ് യോഗത്തില്\\u200d ശ്രേഷ്ഠന്മാരെന്നാണ് എന്റെ അഭിപ്രായം. <EOS>\\n', 'ഹേ പാര്\\u200dഥ, അശ്രദ്ധയോടെ ചെയ്യപ്പെടുന്ന യജ്ഞവും, ദാനവും, തപസ്സും അസത് എന്ന് പറയപ്പെടുന്നു. ഇതി കൂടാതെ അശ്രദ്ധയോടെ ചെയ്യപ്പെടുന്ന സകലകര്\\u200dമ്മങ്ങളും അസത് തന്നെയാണ്. അത് ഈ ലോകത്തിലോ പരലോകത്തിലോ പ്രയോജനപ്പെടുന്നില്ല. <EOS>\\n', 'അ\\u200dര്\\u200dജ്ജുനാ! എന്റെ ദിവ്യമായ സ്വഭാവത്തെ കൈക്കൊണ്ട്, ഏകാഗ്രചിത്തരായി ഭുതങ്ങ\\u200dള്\\u200dക്കെല്ല\\u200dാം ആദ്യനും അനശ്വരന്മായ എന്നെ അറിഞ്ഞു ഭജിക്കുന്നു. <EOS>\\n', 'ഭഗവാന്\\u200d പറഞ്ഞു: ഫലമുദ്ദേശിച്ചുള്ള കര്\\u200dമ്മങ്ങളെ വെടിയലാണ് സന്യാസമെന്നു ജ്ഞാനികള്\\u200d പറഞ്ഞിരിക്കുന്നത്. സകലകര്\\u200dമ്മങ്ങളുടെ ഫലങ്ങളെ ത്യജിക്കുന്നതാണ് ത്യാഗം എന്നു പറയപ്പെടുന്നത്. <EOS>\\n', 'കര്\\u200dമ്മങ്ങളെയെല്ല\\u200dാം ദോഷമായികണ്ട് ത്യജിക്കണമെന്ന് ചില വിദ്വാന്മാര്\\u200d പറയുന്നു. യജ്ഞം, ദാനം, തപസ്സ് എന്നീ കര്\\u200dമ്മങ്ങളെ ത്യജിക്കരുതെന്ന് വേറെ ചിലര്\\u200d പറയുന്നു. <EOS>\\n', 'ഹേ കൗന്തേയ, ദോഷമുള്ളതാണെങ്കിലും സ്വധര്\\u200dമ്മത്തെ ഉപേക്ഷിക്കരുത്. തീ പുക കൊണ്ടെന്ന പോലെ എല്ലാ കര്\\u200dമ്മങ്ങളും ദോഷങ്ങളാല്\\u200d ആവൃതമാണ്. <EOS>\\n', 'യോഗ്യതയില്ലാത്തവന് അനുചിതമായ ദേശകാലങ്ങളില്\\u200d ബഹുമാനം കൂടാതെ അവജ്ഞയോടെ ചെയ്യപ്പെടുന്ന ദാനം താമസികമെന്നു പറയപ്പെടുന്നു. <EOS>\\n', 'ഈ കര്\\u200dമ്മങ്ങളെ (യജ്ഞം, ദാനം, തപസ്സ്) ആസക്തിയും ഫലവുമുപേക്ഷിച്ച് ചെയ്യേണ്ടതാണ് എന്നാണ് എന്റെ നിശ്ചിതമായ അഭിപ്രായം. <EOS>\\n', 'ആസക്തിയുള്ളവനും, കര്\\u200dമ്മഫലത്തെ ആഗ്രഹിക്കുന്നവനും, പിശുക്കനും, അശുചിയും, ഹിംസാത്മകനും, (ജയപരാജയങ്ങളില്\\u200d) സന്തോഷിക്കുകയും ദുഃഖിക്കുകയും ചെയ്യുന്നവനുമായ കര്\\u200dത്താവ് രാജസികനെന്നു പറയപ്പെടുന്നു. <EOS>\\n', 'ദുഃഖകരമാണെന്നു കരുതി ശരീരക്ലേശത്തെ ഒഴിവാക്കാനായി ത്യജിക്കുകയാണെങ്കില്\\u200d അത് രാജസികത്യാഗമാണ്. അതിലൂടെ ശരിയായ ത്യാഗത്തിന്റെ ഫലം ലഭിക്കുകയില്ല. <EOS>\\n', 'ചെയ്യേണ്ടതാണെന്നുള്ള ബോദ്ധ്യത്തോടെ ശാസ്ത്രവിഹിതമായ കര്\\u200dമ്മം ആസക്തിയെയും ഫലത്തെയും ത്യജിച്ച് ചെയ്യുകയാ ണെങ്കില്\\u200d അതിനെ സാത്വികത്യാഗമെന്നു പറയുന്നു. <EOS>\\n', 'സാംഖ്യവും യോഗവും വെവ്വേറെയായി അജ്ഞന്മാർ പറയുന്നു. പണ്ഡിതൻമാര് അങ്ങനെ പറയുന്നില്ല. ഒന്നെങ്കിലും വേണ്ടവിധം അനുഷ്ഠിക്കുന്ന പക്ഷം രണ്ടിന്റെയും ഫലം ലഭിക്കും. <EOS>\\n', 'ഉണ്ടാക്കിയിട്ട് ഒരു യാമം (മൂന്നു മണിക്കൂര്\\u200d) കഴിഞ്ഞതും, സ്വാദു പോയതും, ദുര്\\u200dഗന്ധമുള്ളതും, ഒരു രാത്രി കഴിഞ്ഞതും, ഉച്ഛിഷ്ടവും, അശുദ്ധവുമായ ആഹാരമാണ് അതാമസികന്മാര്\\u200dക്ക് പ്രിയമായിട്ടുള്ളത്. <EOS>\\n', 'കര്\\u200dമ്മത്തിന്റെ ഫലം അനിഷ്ടം, ഇഷ്ടം, മിശ്രം എന്നിങ്ങനെ മൂന്നു വിധമാണ്. ത്യാഗികളല്ലാത്തവര്\\u200dക്കു മാത്രമേ ഈ ഫലങ്ങള്\\u200d അനുഭവപ്പെടുന്നുള്ളൂ. അല്ലാതെ സന്യാസികള്\\u200dക്ക് ഒരിക്കലുമില്ല. <EOS>\\n', 'ഹേ മഹാബാഹോ, എല്ലാ കര്\\u200dമ്മങ്ങളുടെ സിദ്ധിയ്ക്കായി സ\\u200dാംഖ്യത്തില്\\u200d പറഞ്ഞിരിക്കുന്ന അഞ്ചു ഘടകങ്ങള്\\u200d കേട്ടാലും. <EOS>\\n', 'എന്നാല്\\u200d നിനക്ക് സ്വന്തം കണ്ണുകൊണ്ട് എന്നെ കാണുന്നതി\\u200dന്ന് ശക്തിയില്ല. ദിവ്യചക്ഷുസ്സ് നിനക്കു ഞാ\\u200d\\u200dന്\\u200d തരുന്നു. എന്റെ മഹത്തായ ശക്തിയെ കാണുക. <EOS>\\n', 'ശരീരം, മനസ്സ്, വാക്ക് എന്നിവയാല്\\u200d മനുഷ്യന്\\u200d ചെയ്യുന്ന ശരിയോ തെറ്റോ ആയ എല്ലാ കര്\\u200dമ്മങ്ങളുടെയും കാരണങ്ങള്\\u200d ഇവയഞ്ചുമാകുന്നു. <EOS>\\n', 'അങ്ങനെയിരിക്കെ, കേവലനായ ആത്മാവിനെ കര്\\u200dത്താവായി കാണുന്ന അവിവേകിയായ ദുര്\\u200dമതി യാഥാര്\\u200dഥ്യം അറിയുന്നില്ല. <EOS>\\n', 'ഈ ആത്മാവിനെ ആയുധങ്ങള്\\u200d മുറിവ് ഏല്\\u200dപ്പിക്കുന്നില്ല. ഇവനെ തീ ദാഹിപ്പിക്കുന്നില്ല. ഇവനെ വെള്ളം നനയ്ക്കുന്നില്ല. കാറ്റ് ഉണക്കുന്നുമില്ല. <EOS>\\n', 'അന്നത്തില്\\u200dനിന്നു ഭൂതങ്ങള്\\u200d ഉണ്ടാകുന്നു. മഴയില്\\u200dനിന്നു അന്നവും ഉദ്ഭവിക്കുന്നു. യജ്ഞത്തില്\\u200d നിന്നു മഴയുണ്ടാകുന്നു. യജ്ഞം ക\\u200d\\u200d\\u200dര്\\u200dമ്മത്തില്\\u200dനിന്നുണ്ടാകുന്നു. <EOS>\\n', 'ഹേ പാര്\\u200dഥ, നീ ഏകാഗ്രചിത്തനായി ഇതെല്ല\\u200dാം കേട്ടുവോ? നിന്റെ അജ്ഞാനവും മോഹവും നഷ്ടമായോ? <EOS>\\n', 'വിഭക്തങ്ങളായ സകലഭൂതങ്ങളിലും അവിഭക്തമായി വര്\\u200dത്തിക്കുന്ന അവിനാശിയായ ബ്രഹ്മത്തെ കാണുന്നത് എന്തുകൊണ്ടോ, അതാണ് സാത്വികമായ ജ്ഞാനം. <EOS>\\n', 'യാതൊരു ജ്ഞനമാണോ സര്\\u200dവ്വജീവജാലങ്ങളിലും നാനാതരത്തിലുള്ള ഭാവങ്ങളെ ദര്\\u200dശിക്കുന്നത് അത് രാജസമാണ്. <EOS>\\n', 'യോഗ്യതയില്ലാത്തവന് അനുചിതമായ ദേശകാലങ്ങളില്\\u200d ബഹുമാനം കൂടാതെ അവജ്ഞയോടെ ചെയ്യപ്പെടുന്ന ദാനം താമസികമെന്നു പറയപ്പെടുന്നു. <EOS>\\n', 'അതികൊണ്ട്, എന്തു ചെയ്യണം എന്തു ചെയ്യരുത് എന്നറിയുന്നതിന് നിനക്ക് ശാസ്ത്രം പ്രമാണമായിരിക്കട്ടെ. നീ ശാസ്ത്രവിധികളെ അറിഞ്ഞ് അതനുസരിച്ച് കര്\\u200dമ്മം ചെയ്യേണ്ടതാണ്. <EOS>\\n', 'ഫലാക\\u200dാംക്ഷയോടെയും അഹങ്കാരത്തോടെയും വളരെ കഷ്ടപ്പെട്ടു ചെയ്യുന്ന കര്\\u200dമ്മം രാജസമാണ്. <EOS>\\n', 'ധനഞജയാ, കര്\\u200dമയോഗത്തെക്കാള്\\u200d വളരെ നികൃഷ്ടമാണ് ഫലാപേക്ഷയോടുകൂടി ചെയ്യുന്ന ക\\u200dര്\\u200dമ്മം. ബുദ്ധിയോഗത്തില്\\u200d അതായത് സമചിത്തതയോട് കൂടിയ ക\\u200dര്\\u200dമ്മത്തില്\\u200d ശരണം തേടുക. ഫലത്തിനുവേണ്ടി ക\\u200dര്\\u200dമ്മം ചെയ്യുന്നവ\\u200dര്\\u200d ദീനന്മാരാണ്. <EOS>\\n', 'സ്ഥിരതയില്ലാത്തവനും, പ്രാകൃതനും, അഹങ്കാരവും ദര്\\u200dപ്പവുമുള്ളവനും, നീചനും അലസനും, ദുഃഖിതനും, ദീര്\\u200dഘസൂത്രിയുമായ (ചെയ്യാനുള്ള കാര്യങ്ങള്\\u200d നീട്ടിവെയ്ക്കുന്ന സ്വഭാവമുള്ളയാള്\\u200d) കര്\\u200dത്താവ് താമസികനാണ് എന്നു പറയപ്പെടുന്നു. <EOS>\\n', 'ആസക്തിയുള്ളവനും, കര്\\u200dമ്മഫലത്തെ ആഗ്രഹിക്കുന്നവനും, പിശുക്കനും, അശുചിയും, ഹിംസാത്മകനും, (ജയപരാജയങ്ങളില്\\u200d) സന്തോഷിക്കുകയും ദുഃഖിക്കുകയും ചെയ്യുന്നവനുമായ കര്\\u200dത്താവ് രാജസികനെന്നു പറയപ്പെടുന്നു. <EOS>\\n', 'സ്ഥിരതയില്ലാത്തവനും, പ്രാകൃതനും, അഹങ്കാരവും ദര്\\u200dപ്പവുമുള്ളവനും, നീചനും അലസനും, ദുഃഖിതനും, ദീര്\\u200dഘസൂത്രിയുമായ (ചെയ്യാനുള്ള കാര്യങ്ങള്\\u200d നീട്ടിവെയ്ക്കുന്ന സ്വഭാവമുള്ളയാള്\\u200d) കര്\\u200dത്താവ് താമസികനാണ് എന്നു പറയപ്പെടുന്നു. <EOS>\\n', 'ധനഞജയാ, യോഗത്താല്\\u200d കര്\\u200dമ്മങ്ങള്\\u200d ഉപേക്ഷിച്ചവനും ജ്ഞാനംകൊണ്ടു സംശയങ്ങള്\\u200d നിഃശേഷം തീര്\\u200dന്നവനും ആത്മനിഷ്ഠനുമായവനെ കര്\\u200dമ്മങ്ങള്\\u200d ഒരുവിധത്തിലും ബന്ധിക്കുന്നില്ല. <EOS>\\n', 'മനസ്സിന്റെയും, പ്രാണന്റെയും, ഇന്ദ്രിയങ്ങളുടെയും വ്യാപാരങ്ങളെ ഒട്ടും വ്യതിചലിക്കാത്ത യോഗത്താല്\\u200d അടക്കിനിര്\\u200dത്തുന്ന ധൈര്യം (ധൃതി) സാത്വികമാണ്. <EOS>\\n', 'ധര്\\u200dമ്മം, അര്\\u200dഥം, കാമം എന്നിവയെ ആസക്തിയോടെയും ഫലാക\\u200dാംക്ഷയോടെയും അടക്കിനിര്\\u200dത്തുന്ന ധൈര്യം രാജസികമാണ്. <EOS>\\n', 'അജ്ഞാനത്താല്\\u200d ആവരണം ചെയ്യപ്പെട്ടതുകൊണ്ട് അധര്\\u200dമ്മത്തെ ധര്\\u200dമ്മമായി തെറ്റിദ്ധരിക്കുകയും, സകലതിനെയും നേരെ വിപരീതമായ വിധത്തില്\\u200d അറിയുകയും ചെയ്യുന്ന ബുദ്ധി താമസികബുദ്ധിയാകുന്നു. <EOS>\\n', 'മനസ്സിന്റെയും, പ്രാണന്റെയും, ഇന്ദ്രിയങ്ങളുടെയും വ്യാപാരങ്ങളെ ഒട്ടും വ്യതിചലിക്കാത്ത യോഗത്താല്\\u200d അടക്കിനിര്\\u200dത്തുന്ന ധൈര്യം (ധൃതി) സാത്വികമാണ്. <EOS>\\n', 'ധര്\\u200dമ്മം, അര്\\u200dഥം, കാമം എന്നിവയെ ആസക്തിയോടെയും ഫലാക\\u200dാംക്ഷയോടെയും അടക്കിനിര്\\u200dത്തുന്ന ധൈര്യം രാജസികമാണ്. <EOS>\\n', 'അജ്ഞാനത്താല്\\u200d ആവരണം ചെയ്യപ്പെട്ടതുകൊണ്ട് അധര്\\u200dമ്മത്തെ ധര്\\u200dമ്മമായി തെറ്റിദ്ധരിക്കുകയും, സകലതിനെയും നേരെ വിപരീതമായ വിധത്തില്\\u200d അറിയുകയും ചെയ്യുന്ന ബുദ്ധി താമസികബുദ്ധിയാകുന്നു. <EOS>\\n', 'ഹേ ഭരതർഷഭാ, ബദ്ധനായ ജീവാത്മാവ് ആസ്വദിക്കുകയും ആ ആസ്വാദനത്തിലൂടെ ചിലപ്പോൾ സകല ക്ലേശങ്ങളിൽ നിന്നും മുക്തി നേടുകയും ചെയ്യുന്ന സുഖത്തെപ്പറ്റി ഇനി പറയാം. ഇത് മൂന്നു വിധ ത്തിലുണ്ട്. <EOS>\\n', 'ആദ്യത്തിൽ വിഷം പോലെ തോന്നിക്കുന്നതും അന്ത്യത്തിൽ അമൃതതുല്യവും ആത്മസാക്ഷാത്കാരമുണർത്തുന്നതുമായ സുഖത്തെ സാത്ത്വികസുഖമെന്ന് പറയുന്നു. <EOS>\\n', 'വിഷയങ്ങളുടെയും ഇന്ദ്രിയങ്ങളുടെയും സമ്പര്\\u200dക്കം കൊണ്ടുണ്ടാകുന്നതും ആദ്യം അമൃതു പോലെയും ഒടുവില്\\u200d വിഷസമാനമായുമിരിക്കുന്നുവോ ആ സുഖം രാജസികമാണ്. <EOS>\\n', 'യോഗ്യതയില്ലാത്തവന് അനുചിതമായ ദേശകാലങ്ങളില്\\u200d ബഹുമാനം കൂടാതെ അവജ്ഞയോടെ ചെയ്യപ്പെടുന്ന ദാനം താമസികമെന്നു പറയപ്പെടുന്നു. <EOS>\\n', 'സത്വഗുണം വര്\\u200dദ്ധിച്ചിരിക്കുമ്പോള്\\u200d മരിക്കുന്നയാള്\\u200d ഉത്തമ ജ്ഞാനികള്\\u200d വസിക്കുന്ന വിശുദ്ധങ്ങളായ ലോകങ്ങളെ പ്രാപിക്കുന്നു. <EOS>\\n', ' അഹിംസ, സത്യം, ക്രോധമില്ലായ്മ, ത്യാഗം, ശാന്തി, പരദൂഷണത്തിൽ വെറുപ്പ്, സർവ്വജീവി കളോടും കാരുണ്യം, ലോഭമില്ലായ്മ, മൃദുല സ്വഭാവം, വിനയം, സ്ഥിര നിശ്ചയം, <EOS>\\n', 'ശമം (മനഃസംയമനം), ദമം (ഇന്ദ്രിയസംയമനം), തപസ്സ്, ശൗചം, ക്ഷമ, കാപട്യമില്ലായ്മ, ലൗകികവും ആധ്യാത്മികവുമായ അറിവ്, ഈശ്വരവിശ്വാസം എന്നിവയാണ് ബ്രാഹ്മണന് സ്വാഭാവികമായുള്ള കര്\\u200dമ്മങ്ങള്\\u200d. <EOS>\\n', 'ശൂരത്വം, തേജസ്സ്, ധൈര്യം, സാമര്\\u200dഥ്യം, യുദ്ധത്തില്\\u200d നിന്ന് പിന്തിരിയാതിരിക്കല്\\u200d, ദാനം, പ്രഭുത്വം എന്നിവയാണ് ക്ഷത്രിയന് സ്വാഭാവികമായുള്ള കര്\\u200dമ്മങ്ങള്\\u200d. <EOS>\\n', 'ശൂരത്വം, തേജസ്സ്, ധൈര്യം, സാമര്\\u200dഥ്യം, യുദ്ധത്തില്\\u200d നിന്ന് പിന്തിരിയാതിരിക്കല്\\u200d, ദാനം, പ്രഭുത്വം എന്നിവയാണ് ക്ഷത്രിയന് സ്വാഭാവികമായുള്ള കര്\\u200dമ്മങ്ങള്\\u200d. <EOS>\\n', 'ഹേ പാര്\\u200dഥ, നീ ഏകാഗ്രചിത്തനായി ഇതെല്ല\\u200dാം കേട്ടുവോ? നിന്റെ അജ്ഞാനവും മോഹവും നഷ്ടമായോ? <EOS>\\n', 'ഹേ കൗന്തേയ, ദോഷമുള്ളതാണെങ്കിലും സ്വധര്\\u200dമ്മത്തെ ഉപേക്ഷിക്കരുത്. തീ പുക കൊണ്ടെന്ന പോലെ എല്ലാ കര്\\u200dമ്മങ്ങളും ദോഷങ്ങളാല്\\u200d ആവൃതമാണ്. <EOS>\\n', 'അന്യരുടെ ധര്\\u200dമ്മം നല്ല പോലെ അനുഷ്ഠിക്കുന്നതിലും ശ്രേഷ്ഠം ഗുണങ്ങളില്ലാതെയാണെങ്കിലും ചെയ്യപ്പെടുന്ന സ്വധര്\\u200dമ്മമാകുന്നു. സ്വഭാവാനുസൃതമായ കര്\\u200dമ്മം ചെയ്യുന്നവന്\\u200d പാപം അടയുന്നില്ല. <EOS>\\n', 'ഹേ കൗന്തേയ, ദോഷമുള്ളതാണെങ്കിലും സ്വധര്\\u200dമ്മത്തെ ഉപേക്ഷിക്കരുത്. തീ പുക കൊണ്ടെന്ന പോലെ എല്ലാ കര്\\u200dമ്മങ്ങളും ദോഷങ്ങളാല്\\u200d ആവൃതമാണ്. <EOS>\\n', 'എല്ലാ വിഷയങ്ങളിലും അനാസക്തനും, മനസ്സിനെ ജയിച്ചവനും, ആഗ്രഹങ്ങളില്ലാത്തവനുമായ മനുഷ്യന്\\u200d ത്യാഗത്തിന്റെ ഫലമായി നൈഷ്കര്\\u200dമ്യത്തെ (താന്\\u200d കര്\\u200dമ്മം ചെയ്യുന്നു എന്ന ഭാവമില്ലായ്മ) പ്രാപിക്കുന്നു. <EOS>\\n', 'ശ്രീകൃഷ്ണ\\u200dന്\\u200d പറഞ്ഞു: ദേവന്മാ\\u200dര്\\u200dപോലും എന്നും ദ\\u200dര്\\u200dശിക്കുവാ\\u200d\\u200dന്\\u200d അതിയായി ആഗ്രഹിച്ചു കൊണ്ടിരിക്കുന്നതും, ദ\\u200dര്\\u200dശിപ്പാ\\u200cന്\\u200d പ്രയാസമായിട്ടുള്ളതും ആയ എന്റെ ഈ രൂപത്തെ നീ കണ്ടുവല്ലോ. <EOS>\\n', 'തന്റെ ബുദ്ധിയാൽ ശുദ്ധീകരിക്കപ്പെട്ട് സ്ഥിരനിശ്ചയനായി മന സ്സിനെ നിയന്ത്രിച്ചും ഭോഗവിഷയങ്ങളെ ത്യജിച്ചും രാഗദ്വേഷങ്ങൾ തീണ്ടാതെയും <EOS>\\n', 'ഈ ലോകത്തെയാകമാനം പ്രകാശിപ്പിക്കുന്ന സൂര്യന്റെ തേജസ്സും, ചന്ദ്രനിലും അഗ്നിയിലുമുള്ള തേജസ്സും എന്റേതു തന്നെയെന്നറിയൂ. <EOS>\\n', 'പുരുഷശ്രേഷ്ഠാ, സമദുഖസുഖനും ധീരനുമായ ഏതൊരു പുരുഷനെ ഇവ ദുഖിപ്പിക്കയില്ലയോ അവന്\\u200d അമൃതത്വത്തിനു അധികാരിയായിത്തീരുന്നു. <EOS>\\n', 'ബ്രഹ്മഭാവത്തെ പ്രാപിച്ചവന്\\u200d പ്രസന്നമായ മനസ്സോടെ, ഒന്നും ആഗ്രഹിക്കുകയോ ഒന്നിലും ദുഃഖിക്കുകയോ ചെയ്യാതെ, സര്\\u200dവ്വഭൂതങ്ങളിലും സമനായി എന്നില്\\u200d പരമമായ ഭക്തിയെ നേടുന്നു. <EOS>\\n', 'ഭക്തികൊണ്ട് ഞാന്\\u200d തത്വത്തില്\\u200d എങ്ങനെയുള്ളവനാണ് എന്നറിയുന്നവന്\\u200d അതിന്റെ ഫലമായി എന്നെ പ്രാപിക്കുന്നു. <EOS>\\n', 'എല്ലായ്പോഴും എന്നെ ശരണം പ്രാപിച്ചുകൊണ്ട് എല്ലാ കര്\\u200dമ്മങ്ങളും ചെയ്യുന്നവന്\\u200d എന്റെ പ്രസാദത്താല്\\u200d ശാശ്വതമായ സ്ഥിതിയെ പ്രാപിക്കുന്നു. <EOS>\\n', 'അതിനാല്\\u200d ബ്രഹ്മവാദികള്\\u200d (വേദജ്ഞന്മാര്\\u200d) ഓം (ബ്രഹ്മത്തിന്റെ മുഖ്യനാമം) എന്നുച്ചരിച്ച് ശാസ്ത്രവിധിപ്രകാരം യജ്ഞം, ദാനം, തപസ്സ് എന്നീ ക്രിയകള്\\u200d നടത്തുന്നു. <EOS>\\n', 'എന്നില്\\u200d മനസ്സുറപ്പിച്ചു നിര്\\u200dത്തിയാല്\\u200d എന്റെ പ്രസാദത്താല്\\u200d നീ എല്ലാ തടസ്സങ്ങളെയും മറികടക്കും. അഥവാ, അഹങ്കാരത്താല്\\u200d എന്റെ ഉപദേശത്തെ തിരസ്കരിച്ചാല്\\u200d നീ നശിക്കുന്നതാണ്. <EOS>\\n', 'അഹങ്കാരം, ബലം, അഭിമാനം, കാമം, ക്രോധം എന്നിവയ്ക്കു വശപ്പെട്ട ഈ അസൂയാലുക്കള്\\u200d അവരുടെയും അന്യരുടെയും ശരീരങ്ങളിലും കുടികൊള്ളുന്ന എന്നെ വെറുക്കുന്നു. <EOS>\\n', 'അര്\\u200dജുനന്\\u200d പറഞ്ഞു: ഹേ അച്യുത, അവിടുത്തെ പ്രസാദം കൊണ്ട് എന്റെ മോഹം നഷ്ടമായി. എനിക്ക് ബോധമുണ്ടാകുകയും ചെയ്തു. ഞാന്\\u200d സംശയങ്ങളില്ലാത്തവനായി അവിടുത്തെ വാക്കു പാലിക്കുവാന്\\u200d തയ്യാറായി നില്ക്കുകയാണ്. <EOS>\\n', 'എന്തുകൊണ്ടെന്നാല്\\u200d ക\\u200d\\u200d\\u200dര്\\u200dമ്മം കൊണ്ടുതന്നെയാണ് ജനകാദികള്\\u200d സിദ്ധിയെ പ്രാപിച്ചത്. ലോകസംരക്ഷണത്തെ ഓര്\\u200dത്തിട്ടായാലും നീ പ്രവര്\\u200dത്തിക്കേണ്ടതാണ്. <EOS>\\n', 'കൃഷ്ണാ! ഭൂതങ്ങളുടെ ഉത്ഭവനാശങ്ങളെപ്പറ്റിയും അങ്ങയുടെ അവ്യയമായ മാഹാത്മ്യത്തെപ്പറ്റിയും അങ്ങയി\\u200dല്\\u200dനിന്നു തന്നെ ഞാന്\\u200d കേട്ടു. <EOS>\\n', 'ഇപ്രകാരം രഹസ്യങ്ങളില്\\u200dവെച്ച് ഏറ്റവും രഹസ്യമായ ജ്ഞാനം ഞാന്\\u200d നിനക്കുപദേശിച്ചു കഴിഞ്ഞു. അതിനെക്കുറിച്ച് പൂര്\\u200dണ്ണമായി വിചിന്തനം ചെയ്ത് നീ ഇച്ഛിക്കുന്നതുപോലെ ചെയ്യൂ. <EOS>\\n', 'ഹേ കൗന്തേയ, ദോഷമുള്ളതാണെങ്കിലും സ്വധര്\\u200dമ്മത്തെ ഉപേക്ഷിക്കരുത്. തീ പുക കൊണ്ടെന്ന പോലെ എല്ലാ കര്\\u200dമ്മങ്ങളും ദോഷങ്ങളാല്\\u200d ആവൃതമാണ്. <EOS>\\n', 'അതെന്ന് ദേവർഷിയായ നാരദനും അസിതൻ, ദേവലൻ, വ്യാസൻ മുതലായ എല്ലാ ഋഷികളും ഊന്നിപ്പറയുന്നു. ഇപ്പോൾ അങ്ങ് സ്വയം എന്നോട് ഇത് വ്യക്തമായി പറയുകയും ചെയ്യുന്നു. <EOS>\\n', 'അ\\u200dര്\\u200dജ്ജുനാ! സൃഷ്ടിവ\\u200dര്\\u200dഗ്ഗങ്ങളില്\\u200d ഉല്പത്തിസ്ഥിതിലയങ്ങ\\u200dള്\\u200d ഞാനാണ്. വിദ്യകളില്\\u200d അദ്ധ്യാത്മവിദ്യയും പരസ്പര സംഭാഷണങ്ങളി\\u200d\\u200dല്\\u200d വാദവും ഞാ\\u200dന്\\u200d തന്നെ. <EOS>\\n', 'ഹേ കൗന്തേയ, ദോഷമുള്ളതാണെങ്കിലും സ്വധര്\\u200dമ്മത്തെ ഉപേക്ഷിക്കരുത്. തീ പുക കൊണ്ടെന്ന പോലെ എല്ലാ കര്\\u200dമ്മങ്ങളും ദോഷങ്ങളാല്\\u200d ആവൃതമാണ്. <EOS>\\n', 'എന്നില്\\u200d പരമമായ ഭക്തിയോടെ എന്റെ ഭക്തന്മാര്\\u200dക്ക് ഇത് യാതൊരുവന്\\u200d പറഞ്ഞുകൊടുക്കുന്നുവോ, അവന്\\u200d എന്നെ പ്രാപിക്കുമെന്നതിനു സംശയമില്ല. <EOS>\\n', 'മനുഷ്യരില്\\u200d അവനേക്കാള്\\u200d എനിക്കു പ്രിയം ചെയ്തവനായി ആരുമില്ല. ഈ ഭൂമിയില്\\u200d അവനെക്കാള്\\u200d പ്രിയതരനായി വേറെയാരും ഉണ്ടായിരിക്കുകയില്ല. <EOS>\\n', 'എന്റെ ഈ ലോകത്തില്\\u200d ജ്ഞാനം ഞാന്\\u200d വീണ്ടും പറയുന്ന ഉത്കൃഷ്ടമായ വാക്കുകളെ കേട്ടാലും. <EOS>\\n', 'ശ്രദ്ധയോടെയും, അസൂയയില്ലാതെയും യാതൊരുവനാണോ ഇതു കേള്\\u200dക്കുന്നത് അവന്\\u200d മുക്തനാകുകയും പുണ്യകര്\\u200dമ്മം ചെയ്തവര്\\u200d പ്രാപിക്കുന്ന ശുഭലോകങ്ങളെ പ്രാപിക്കുകയും ചെയ്യും. <EOS>\\n', 'ഹേ പാര്\\u200dഥ, നീ ഏകാഗ്രചിത്തനായി ഇതെല്ല\\u200dാം കേട്ടുവോ? നിന്റെ അജ്ഞാനവും മോഹവും നഷ്ടമായോ? <EOS>\\n', 'അര്\\u200dജുനന്\\u200d പറഞ്ഞു: ഹേ അച്യുത, അവിടുത്തെ പ്രസാദം കൊണ്ട് എന്റെ മോഹം നഷ്ടമായി. എനിക്ക് ബോധമുണ്ടാകുകയും ചെയ്തു. ഞാന്\\u200d സംശയങ്ങളില്ലാത്തവനായി അവിടുത്തെ വാക്കു പാലിക്കുവാന്\\u200d തയ്യാറായി നില്ക്കുകയാണ്. <EOS>\\n', 'സഞ്ജയന്\\u200d പറഞ്ഞു: ഇപ്രകാരം വാസുദേവനായ ശ്രീകൃഷ്ണന്റെയും മഹാനായ അര്\\u200dജുനന്മാരുടെ അത്ഭുതകരവും രോമാഞ്ചജനകവുമായ സംവാദം ഞാന്\\u200d കേട്ടു. <EOS>\\n', ' ഭൗതികമായുള്ള ബന്ധത്തിൽ നിന്നുളവാകുന്ന സർവ്വകേശങ്ങളിൽ നിന്നുമുള്ള യഥാർത്ഥ മോചനമാണിത് <EOS>\\n', 'അര്\\u200dജുനന്\\u200d പറഞ്ഞു: ഹേ ജനാ\\u200dര്\\u200dദ്ദനാ, ക\\u200d\\u200d\\u200dര്\\u200dമ്മത്തെ അപേക്ഷിച്ച് കര്\\u200dമ്മയോഗമാണ് ശ്രേഷ്ടമെന്നു അങ്ങേയ്ക്ക് അഭിപ്രായമുണ്ടെങ്കില്\\u200d പിന്നെ എന്തിനാണ് ഘോരമായ ഈ ക\\u200d\\u200d\\u200dര്\\u200dമ്മത്തില്\\u200d എന്നെ നിയോഗിക്കുന്നത്? <EOS>\\n', 'ഹേ രാജന്\\u200d\\u200d, വിഷ്ണുവിന്റെ ആ അത്ഭുതകരമായ രൂപത്തെ (വിശ്വരൂപത്തെ) ഓര്\\u200dക്കുന്തോറും എനിക്ക് പിന്നെയും പിന്നെയും മഹത്തായ വിസ്മയവും ആനന്ദവുമുണ്ടാകുന്നു. <EOS>\\n', 'എവിടെ യോഗേശ്വരനായ കൃഷ്ണനും വില്ലാളിയായ അര്\\u200dജുനനുമുണ്ടോ അവിടെ ഐശ്വര്യവും, വിജയവും, അഭിവൃദ്ധിയും, നീതിയും നിശ്ചയമായും ഉണ്ടായിരിക്കുമെന്നാണ് എന്റെ അഭിപ്രായം. <EOS>\\n', 'കിരീടം, ഗദ, ചക്രം എന്നിവ ധരിച്ചവനും തേജോമയനും നോക്കിക്കാണുവാ\\u200cന്\\u200d വയ്യാത്തവിധത്തില്\\u200d കത്തിജ്വലിക്കുന്ന അഗ്നിസുര്യന്മാരുടെ ശോഭയോടുകൂടിയവനും ആയ അങ്ങയെ ഞാ\\u200cന്\\u200dഎല്ലായിടത്തും കാണുന്നു. <EOS>\\n']]\n"
     ]
    }
   ],
   "source": [
    "%cd /home/glitch/project/Sanskrit2mal/parallel-corpus/sanskrit-mal\n",
    "output_text=[]\n",
    "with open ('translated_malayalam.txt','r',encoding=\"utf8\") as f:\n",
    "  output_text.extend([f.readlines()])\n",
    "print(output_text)"
   ]
  },
  {
   "cell_type": "code",
   "execution_count": 75,
   "metadata": {
    "scrolled": true
   },
   "outputs": [
    {
     "name": "stdout",
     "output_type": "stream",
     "text": [
      "ധൃതരാഷ്ട്രര്‍ ചോദിച്ചു: സഞ്ജയ, ധ‍ര്‍മ്മ ക്ഷേത്രമായ കുരുക്ഷേത്രത്തില്‍ ഒരുമിച്ചു ചേര്‍ന്നവരും യുദ്ധം ചെയ്യാന്‍ കൊതിക്കുന്നവരുമായ എന്റെ പുത്രന്‍മാരും പാണ്ഡവന്‍മാരും എന്ത് ചെയ്തു? <EOS>\n"
     ]
    }
   ],
   "source": [
    "translator(encoder1, attn_decoder1)"
   ]
  },
  {
   "cell_type": "code",
   "execution_count": 76,
   "metadata": {},
   "outputs": [
    {
     "name": "stdout",
     "output_type": "stream",
     "text": [
      "/home/glitch/project/Sanskrit2mal/parallel-corpus/sanskrit-mal\n",
      "bleu 7.298051926314169e-05\n"
     ]
    }
   ],
   "source": [
    "%cd /home/glitch/project/Sanskrit2mal/parallel-corpus/sanskrit-mal\n",
    "import nltk\n",
    "with open('test_malayalam.txt', 'r') as f: # ground truth file\n",
    "    reference = [x.replace('\\n', '') for x in f.readlines()]\n",
    "\n",
    "with open('translated_malayalam.txt', 'r') as f: # translated hindi file (our output)\n",
    "    candidate = [x.replace('\\n', '') for x in f.readlines()]\n",
    "\n",
    "from nltk.translate.bleu_score import SmoothingFunction\n",
    "smoothie = SmoothingFunction().method4\n",
    "\n",
    "print(\"bleu\", nltk.translate.bleu_score.corpus_bleu(reference, candidate, smoothing_function=smoothie))"
   ]
  },
  {
   "cell_type": "code",
   "execution_count": null,
   "metadata": {},
   "outputs": [],
   "source": []
  }
 ],
 "metadata": {
  "colab": {
   "authorship_tag": "ABX9TyOINL9b4SNwUYDioR9uYY5X",
   "collapsed_sections": [],
   "include_colab_link": true,
   "name": "sanskrit to malayalam NMT.ipynb",
   "provenance": []
  },
  "kernelspec": {
   "display_name": "Python 3 (ipykernel)",
   "language": "python",
   "name": "python3"
  },
  "language_info": {
   "codemirror_mode": {
    "name": "ipython",
    "version": 3
   },
   "file_extension": ".py",
   "mimetype": "text/x-python",
   "name": "python",
   "nbconvert_exporter": "python",
   "pygments_lexer": "ipython3",
   "version": "3.9.12"
  }
 },
 "nbformat": 4,
 "nbformat_minor": 1
}
