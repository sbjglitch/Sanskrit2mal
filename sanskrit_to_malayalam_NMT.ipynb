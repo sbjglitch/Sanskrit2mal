{
 "cells": [
  {
   "cell_type": "markdown",
   "metadata": {
    "colab_type": "text",
    "id": "view-in-github"
   },
   "source": [
    "<a href=\"https://colab.research.google.com/github/sbjglitch/Sanskrit2mal/blob/main/sanskrit_to_malayalam_NMT.ipynb\" target=\"_parent\"><img src=\"https://colab.research.google.com/assets/colab-badge.svg\" alt=\"Open In Colab\"/></a>"
   ]
  },
  {
   "cell_type": "code",
   "execution_count": 117,
   "metadata": {
    "colab": {
     "base_uri": "https://localhost:8080/"
    },
    "id": "_eAtxfQkAocK",
    "outputId": "333f6165-5c8b-4a17-8893-54cad7b2256e"
   },
   "outputs": [
    {
     "name": "stdout",
     "output_type": "stream",
     "text": [
      "Requirement already satisfied: utils in c:\\users\\glitch\\anaconda3\\lib\\site-packages (1.0.1)\n",
      "Note: you may need to restart the kernel to use updated packages.\n"
     ]
    }
   ],
   "source": [
    "from __future__ import unicode_literals, print_function, division\n",
    "from io import open\n",
    "import unicodedata\n",
    "import string\n",
    "import re\n",
    "import random\n",
    "\n",
    "import torch\n",
    "import torch.nn as nn\n",
    "from torch import optim\n",
    "import torch.nn.functional as F\n",
    "\n",
    "#%pip install inltk\n",
    "#%pip install python-utils\n",
    "%pip install utils\n",
    "import inltk \n",
    "from inltk.inltk import setup\n",
    "from inltk.inltk import tokenize\n",
    "\n",
    "import nltk\n",
    "import nltk.translate.bleu_score as bleu\n",
    "\n",
    "import math\n",
    "import numpy\n",
    "import os\n",
    "\n",
    "try:\n",
    "  nltk.data.find('tokenizers/punkt')\n",
    "except LookupError:\n",
    "  nltk.download('punkt')\n",
    "#from utils import bleu\n",
    "device = torch.device(\"cuda\" if torch.cuda.is_available() else \"cpu\")\n"
   ]
  },
  {
   "cell_type": "code",
   "execution_count": 118,
   "metadata": {
    "colab": {
     "base_uri": "https://localhost:8080/"
    },
    "id": "I3u9wbhrAyYr",
    "outputId": "2ec06124-c20c-466c-d2bd-615d68e0f516"
   },
   "outputs": [
    {
     "name": "stdout",
     "output_type": "stream",
     "text": [
      "C:\\Users\\Glitch\\Sanskrit2mal\n"
     ]
    }
   ],
   "source": [
    "%cd C:\\Users\\Glitch\\Sanskrit2mal"
   ]
  },
  {
   "cell_type": "code",
   "execution_count": 119,
   "metadata": {
    "colab": {
     "base_uri": "https://localhost:8080/"
    },
    "id": "WyYESS_tCjRg",
    "outputId": "1c33b2b5-bcdc-418f-eb47-f3ac5c971b1d"
   },
   "outputs": [
    {
     "name": "stdout",
     "output_type": "stream",
     "text": [
      "C:\\Users\\Glitch\\Sanskrit2mal\\parallel-corpus\n",
      "701\n",
      "701\n"
     ]
    }
   ],
   "source": [
    "%cd C:\\Users\\Glitch\\Sanskrit2mal\\parallel-corpus\n",
    "\n",
    "mal_lines = []\n",
    "sanskrit_lines = []\n",
    "with open ('bhagavadgita_malayalam.txt','r', encoding=\"utf8\") as f:\n",
    "  mal_lines.extend([x.replace('\\n', '') for x in f.readlines()])\n",
    "\n",
    "with open ('bhagvadgita_sanskrit.txt','r',encoding=\"utf8\") as f:\n",
    "  sanskrit_lines.extend([x.replace('\\n', '') for x in f.readlines()])\n",
    "\n",
    "print(len(mal_lines))\n",
    "print(len(sanskrit_lines))"
   ]
  },
  {
   "cell_type": "code",
   "execution_count": 120,
   "metadata": {
    "id": "hnhN7RILA4Uv"
   },
   "outputs": [],
   "source": [
    "import random\n",
    "c = list(zip(sanskrit_lines, mal_lines))\n",
    "random.shuffle(c)\n",
    "\n",
    "sanskrit_lines, mal_lines = zip(*c)\n",
    "\n",
    "train_text_sa = sanskrit_lines[:631]\n",
    "train_text_mal = mal_lines[:631]\n",
    "\n",
    "dev_text_sa = sanskrit_lines[:70]\n",
    "dev_text_mal = mal_lines[:70]"
   ]
  },
  {
   "cell_type": "code",
   "execution_count": 121,
   "metadata": {
    "colab": {
     "base_uri": "https://localhost:8080/"
    },
    "id": "iiX6HHVFFgjx",
    "outputId": "8fc448ed-bf3b-4d6e-80e8-a11f4006c5fe"
   },
   "outputs": [
    {
     "name": "stdout",
     "output_type": "stream",
     "text": [
      "631\n",
      "70\n",
      "631\n",
      "70\n"
     ]
    }
   ],
   "source": [
    "print(len(train_text_mal))\n",
    "print(len(dev_text_mal))\n",
    "\n",
    "print(len(train_text_sa))\n",
    "print(len(dev_text_sa))"
   ]
  },
  {
   "cell_type": "code",
   "execution_count": 92,
   "metadata": {
    "id": "4cIEztNt2JkT"
   },
   "outputs": [],
   "source": [
    "# Start and End tokens\n",
    "SOS_token = 0\n",
    "EOS_token = 1\n",
    "\n",
    "\n",
    "class Lang:\n",
    "    def __init__(self, name):\n",
    "        self.name = name\n",
    "        self.word2index = {}\n",
    "        self.word2count = {}\n",
    "        self.index2word = {0: \"SOS\", 1: \"EOS\"}\n",
    "        self.n_words = 2  # Count SOS and EOS\n",
    "\n",
    "    def addSentence(self, sentence):\n",
    "        for word in sentence.split(' '):\n",
    "            self.addWord(word)\n",
    "\n",
    "    def addWord(self, word):\n",
    "        if word not in self.word2index:\n",
    "            self.word2index[word] = self.n_words\n",
    "            self.word2count[word] = 1\n",
    "            self.index2word[self.n_words] = word\n",
    "            self.n_words += 1\n",
    "        else:\n",
    "            self.word2count[word] += 1"
   ]
  },
  {
   "cell_type": "code",
   "execution_count": 93,
   "metadata": {
    "id": "aqXPhBxJECww"
   },
   "outputs": [],
   "source": [
    "# Reading the data and forming pairs\n",
    "def readLangs(lang1, lang2, reverse=False):\n",
    "    print(\"Reading lines...\")\n",
    "\n",
    "    # Forming pairs of sentences\n",
    "    pairs = [[train_text_sa[i], train_text_mal[i]] for i in range(len(train_text_sa))]\n",
    "\n",
    "    # Reverse pairs, make Lang instances\n",
    "    if reverse:\n",
    "        pairs = [list(reversed(p)) for p in pairs]\n",
    "        input_lang = Lang(lang2)\n",
    "        output_lang = Lang(lang1)\n",
    "    else:\n",
    "        input_lang = Lang(lang1)\n",
    "        output_lang = Lang(lang2)\n",
    "\n",
    "    return input_lang, output_lang, pairs"
   ]
  },
  {
   "cell_type": "code",
   "execution_count": 94,
   "metadata": {
    "id": "H7oqLozuEs9O"
   },
   "outputs": [],
   "source": [
    "MAX_LENGTH = 200\n",
    "\n",
    "def filterPair(p):\n",
    "    return len(p[0].split(' ')) < MAX_LENGTH and len(p[1].split(' ')) < MAX_LENGTH\n",
    "\n",
    "def filterPairs(pairs):\n",
    "    return [pair for pair in pairs if filterPair(pair)]"
   ]
  },
  {
   "cell_type": "code",
   "execution_count": 95,
   "metadata": {
    "colab": {
     "base_uri": "https://localhost:8080/"
    },
    "id": "mUFirlb3FCHg",
    "outputId": "a04b6032-15c9-46be-b4b8-16545beaf4f1"
   },
   "outputs": [
    {
     "name": "stdout",
     "output_type": "stream",
     "text": [
      "Reading lines...\n",
      "Read 701 sentence pairs\n",
      "Trimmed to 701 sentence pairs\n",
      "Counting words...\n",
      "Counted words:\n",
      "sanskrit 4342\n",
      "mal 6297\n",
      "['यो यो यां यां तनुं भक्तः श्रद्धयार्चितुमिच्छति। तस्य तस्याचलां श्रद्धां तामेव विदधाम्यहम्।।', 'ഏതേതു ഭക്തന്\\u200d ഏതേതു ദേവതാ സ്വരൂപത്തെ ശ്രദ്ധയോടെ അര്\\u200dച്ചിക്കാനാഗ്രഹിക്കുന്നുവോ അവരുടെയെല്ല\\u200dാം ആ ശ്രദ്ധയെ തന്നെ ഞാന്\\u200d ഇളക്കമറ്റതാക്കുന്നു.']\n"
     ]
    }
   ],
   "source": [
    "def prepareData(lang1, lang2, reverse=False):\n",
    "    input_lang, output_lang, pairs = readLangs(lang1, lang2, reverse)\n",
    "    print(\"Read %s sentence pairs\" % len(pairs))\n",
    "    pairs = filterPairs(pairs)\n",
    "    print(\"Trimmed to %s sentence pairs\" % len(pairs))\n",
    "    print(\"Counting words...\")\n",
    "    for pair in pairs:\n",
    "        input_lang.addSentence(pair[0])\n",
    "        output_lang.addSentence(pair[1])\n",
    "    print(\"Counted words:\")\n",
    "    print(input_lang.name, input_lang.n_words)\n",
    "    print(output_lang.name, output_lang.n_words)\n",
    "    return input_lang, output_lang, pairs\n",
    "\n",
    "\n",
    "input_lang, output_lang, pairs = prepareData('sanskrit', 'mal', False)\n",
    "print(random.choice(pairs)) # a random pair of parallel sentences"
   ]
  },
  {
   "cell_type": "code",
   "execution_count": 96,
   "metadata": {},
   "outputs": [
    {
     "name": "stdout",
     "output_type": "stream",
     "text": [
      "<__main__.Lang object at 0x00000212B5C4B610>\n"
     ]
    }
   ],
   "source": [
    "print(input_lang)"
   ]
  },
  {
   "cell_type": "markdown",
   "metadata": {
    "id": "W4D5yYuXGWqE"
   },
   "source": [
    "# **Seq2Seq Model**\n",
    "---\n",
    "A seq2seq network is a model consisting of two RNNs called the encoder and decoder. The encoder reads an input sequence and outputs a single vector, and the decoder reads that vector to produce an output sequence."
   ]
  },
  {
   "cell_type": "markdown",
   "metadata": {
    "id": "fl5SnehsGzIQ"
   },
   "source": [
    "# **Encoder**"
   ]
  },
  {
   "cell_type": "code",
   "execution_count": 97,
   "metadata": {
    "id": "mL-HNJmgGVOH"
   },
   "outputs": [],
   "source": [
    "class EncoderRNN(nn.Module):\n",
    "    def __init__(self, input_size, hidden_size):\n",
    "        super(EncoderRNN, self).__init__()\n",
    "        self.hidden_size = hidden_size\n",
    "\n",
    "        self.embedding = nn.Embedding(input_size, hidden_size)\n",
    "        self.gru = nn.GRU(hidden_size, hidden_size)\n",
    "\n",
    "    def forward(self, input, hidden):\n",
    "        embedded = self.embedding(input).view(1, 1, -1)\n",
    "        output = embedded\n",
    "        output, hidden = self.gru(output, hidden)\n",
    "        return output, hidden\n",
    "\n",
    "    def initHidden(self):\n",
    "        return torch.zeros(1, 1, self.hidden_size, device=device)"
   ]
  },
  {
   "cell_type": "markdown",
   "metadata": {
    "id": "2W40lx8BGv5G"
   },
   "source": [
    "# **Decoder**"
   ]
  },
  {
   "cell_type": "code",
   "execution_count": 98,
   "metadata": {
    "id": "MFVMbY8bGunJ"
   },
   "outputs": [],
   "source": [
    "class AttnDecoderRNN(nn.Module):\n",
    "    def __init__(self, hidden_size, output_size, dropout_p=0.1, max_length=MAX_LENGTH):\n",
    "        super(AttnDecoderRNN, self).__init__()\n",
    "        self.hidden_size = hidden_size\n",
    "        self.output_size = output_size\n",
    "        self.dropout_p = dropout_p\n",
    "        self.max_length = max_length\n",
    "\n",
    "        self.embedding = nn.Embedding(self.output_size, self.hidden_size)\n",
    "        self.attn = nn.Linear(self.hidden_size * 2, self.max_length)\n",
    "        self.attn_combine = nn.Linear(self.hidden_size * 2, self.hidden_size)\n",
    "        self.dropout = nn.Dropout(self.dropout_p)\n",
    "        self.gru = nn.GRU(self.hidden_size, self.hidden_size)\n",
    "        self.out = nn.Linear(self.hidden_size, self.output_size)\n",
    "\n",
    "    def forward(self, input, hidden, encoder_outputs):\n",
    "        embedded = self.embedding(input).view(1, 1, -1)\n",
    "        embedded = self.dropout(embedded)\n",
    "\n",
    "        attn_weights = F.softmax(\n",
    "            self.attn(torch.cat((embedded[0], hidden[0]), 1)), dim=1)\n",
    "        attn_applied = torch.bmm(attn_weights.unsqueeze(0),\n",
    "                                 encoder_outputs.unsqueeze(0))\n",
    "\n",
    "        output = torch.cat((embedded[0], attn_applied[0]), 1)\n",
    "        output = self.attn_combine(output).unsqueeze(0)\n",
    "\n",
    "        output = F.relu(output)\n",
    "        output, hidden = self.gru(output, hidden)\n",
    "\n",
    "        output = F.log_softmax(self.out(output[0]), dim=1)\n",
    "        return output, hidden, attn_weights\n",
    "\n",
    "    def initHidden(self):\n",
    "        return torch.zeros(1, 1, self.hidden_size, device=device)"
   ]
  },
  {
   "cell_type": "markdown",
   "metadata": {
    "id": "xFugQY8QFBfV"
   },
   "source": [
    "# **Training**\n"
   ]
  },
  {
   "cell_type": "code",
   "execution_count": 99,
   "metadata": {
    "id": "OyVuYKpbHV8c"
   },
   "outputs": [],
   "source": [
    "import random\n",
    "def indexesFromSentence(lang, sentence):\n",
    "    res = []\n",
    "    for word in sentence.split(' '):\n",
    "      if word not in lang.word2index.keys():\n",
    "        res.append(list(lang.word2index.values()))    \n",
    "      else:\n",
    "        res.append(lang.word2index[word])\n",
    "    return res\n",
    "\n",
    "def tensorFromSentence(lang, sentence):\n",
    "    indexes = indexesFromSentence(lang, sentence)\n",
    "    indexes.append(EOS_token)\n",
    "    return torch.tensor(indexes, dtype=torch.long, device=device).view(-1, 1)\n",
    "\n",
    "\n",
    "def tensorsFromPair(pair):\n",
    "    input_tensor = tensorFromSentence(input_lang, pair[0])\n",
    "    target_tensor = tensorFromSentence(output_lang, pair[1])\n",
    "    return (input_tensor, target_tensor)"
   ]
  },
  {
   "cell_type": "markdown",
   "metadata": {
    "id": "zePmCpbCHioq"
   },
   "source": [
    "# **Training the model**"
   ]
  },
  {
   "cell_type": "code",
   "execution_count": 100,
   "metadata": {
    "id": "SNuZNaY_HenJ"
   },
   "outputs": [],
   "source": [
    "teacher_forcing_ratio = 0.5\n",
    "def train(input_tensor, target_tensor, encoder, decoder, encoder_optimizer, decoder_optimizer, criterion, max_length=MAX_LENGTH):\n",
    "    encoder_hidden = encoder.initHidden()\n",
    "\n",
    "    encoder_optimizer.zero_grad()\n",
    "    decoder_optimizer.zero_grad()\n",
    "\n",
    "    input_length = input_tensor.size(0)\n",
    "    target_length = target_tensor.size(0)\n",
    "\n",
    "    encoder_outputs = torch.zeros(max_length, encoder.hidden_size, device=device)\n",
    "\n",
    "    loss = 0\n",
    "\n",
    "    for ei in range(input_length):\n",
    "        encoder_output, encoder_hidden = encoder(\n",
    "            input_tensor[ei], encoder_hidden)\n",
    "        encoder_outputs[ei] = encoder_output[0, 0]\n",
    "\n",
    "    decoder_input = torch.tensor([[SOS_token]], device=device)\n",
    "\n",
    "    decoder_hidden = encoder_hidden\n",
    "\n",
    "    use_teacher_forcing = True if random.random() < teacher_forcing_ratio else False\n",
    "\n",
    "    if use_teacher_forcing:\n",
    "        for di in range(target_length):\n",
    "            decoder_output, decoder_hidden, decoder_attention = decoder(\n",
    "                decoder_input, decoder_hidden, encoder_outputs)\n",
    "            loss += criterion(decoder_output, target_tensor[di])\n",
    "            decoder_input = target_tensor[di]\n",
    "\n",
    "    else:\n",
    "        for di in range(target_length):\n",
    "            decoder_output, decoder_hidden, decoder_attention = decoder(\n",
    "                decoder_input, decoder_hidden, encoder_outputs)\n",
    "            topv, topi = decoder_output.topk(1)\n",
    "            decoder_input = topi.squeeze().detach()\n",
    "\n",
    "            loss += criterion(decoder_output, target_tensor[di])\n",
    "            if decoder_input.item() == EOS_token:\n",
    "                break\n",
    "\n",
    "    loss.backward()\n",
    "\n",
    "    encoder_optimizer.step()\n",
    "    decoder_optimizer.step()\n",
    "\n",
    "    return loss.item() / target_length"
   ]
  },
  {
   "cell_type": "code",
   "execution_count": 101,
   "metadata": {
    "id": "2g9zrFapHhyy"
   },
   "outputs": [],
   "source": [
    "# Print time elapsed and estimated time remaining given the current time and progress %.\n",
    "import time\n",
    "import math\n",
    "\n",
    "\n",
    "def asMinutes(s):\n",
    "    m = math.floor(s / 60)\n",
    "    s -= m * 60\n",
    "    return '%dm %ds' % (m, s)\n",
    "\n",
    "def timeSince(since, percent):\n",
    "    now = time.time()\n",
    "    s = now - since\n",
    "    es = s / (percent)\n",
    "    rs = es - s\n",
    "    return '%s (- %s)' % (asMinutes(s), asMinutes(rs))"
   ]
  },
  {
   "cell_type": "code",
   "execution_count": 102,
   "metadata": {
    "id": "rdtIHPiDHsAF"
   },
   "outputs": [],
   "source": [
    "# Each iteration of training\n",
    "def trainIters(encoder, decoder, n_iters, print_every=1000, plot_every=100, learning_rate=0.01):\n",
    "    start = time.time()\n",
    "    plot_losses = []\n",
    "    print_loss_total = 0  # Reset every print_every\n",
    "    plot_loss_total = 0  # Reset every plot_every\n",
    "\n",
    "    encoder_optimizer = optim.SGD(encoder.parameters(), lr=learning_rate)\n",
    "    decoder_optimizer = optim.SGD(decoder.parameters(), lr=learning_rate)\n",
    "    training_pairs = [tensorsFromPair(random.choice(pairs))\n",
    "                      for i in range(n_iters)]\n",
    "    #training_pairs = training_pairs1\n",
    "    criterion = nn.NLLLoss()\n",
    "\n",
    "    for iter in range(1, n_iters + 1):\n",
    "        training_pair = training_pairs[iter - 1]\n",
    "        input_tensor = training_pair[0]\n",
    "        target_tensor = training_pair[1]\n",
    "\n",
    "        loss = train(input_tensor, target_tensor, encoder,\n",
    "                     decoder, encoder_optimizer, decoder_optimizer, criterion)\n",
    "        print_loss_total += loss\n",
    "        plot_loss_total += loss\n",
    "\n",
    "        if iter % print_every == 0:\n",
    "            print_loss_avg = print_loss_total / print_every\n",
    "            print_loss_total = 0\n",
    "            print('%s (%d %d%%) %.4f' % (timeSince(start, iter / n_iters),\n",
    "                                         iter, iter / n_iters * 100, print_loss_avg))\n",
    "\n",
    "        if iter % plot_every == 0:\n",
    "            plot_loss_avg = plot_loss_total / plot_every\n",
    "            plot_losses.append(plot_loss_avg)\n",
    "            plot_loss_total = 0\n",
    "\n",
    "    #showPlot(plot_losses)"
   ]
  },
  {
   "cell_type": "markdown",
   "metadata": {
    "id": "zCYVcQ8DHuDX"
   },
   "source": [
    "# **Evaluation**"
   ]
  },
  {
   "cell_type": "code",
   "execution_count": 103,
   "metadata": {
    "id": "RSf-saDZHyaQ"
   },
   "outputs": [],
   "source": [
    "def evaluate(encoder, decoder, sentence, max_length=MAX_LENGTH):\n",
    "    with torch.no_grad():\n",
    "        input_tensor = tensorFromSentence(input_lang, sentence)\n",
    "        input_length = input_tensor.size()[0]\n",
    "        encoder_hidden = encoder.initHidden()\n",
    "\n",
    "        encoder_outputs = torch.zeros(max_length, encoder.hidden_size, device=device)\n",
    "\n",
    "        for ei in range(input_length):\n",
    "            encoder_output, encoder_hidden = encoder(input_tensor[ei],\n",
    "                                                     encoder_hidden)\n",
    "            encoder_outputs[ei] += encoder_output[0, 0]\n",
    "\n",
    "        decoder_input = torch.tensor([[SOS_token]], device=device)  # SOS\n",
    "\n",
    "        decoder_hidden = encoder_hidden\n",
    "\n",
    "        decoded_words = []\n",
    "        decoder_attentions = torch.zeros(max_length, max_length)\n",
    "\n",
    "        for di in range(max_length):\n",
    "            decoder_output, decoder_hidden, decoder_attention = decoder(\n",
    "                decoder_input, decoder_hidden, encoder_outputs)\n",
    "            decoder_attentions[di] = decoder_attention.data\n",
    "            topv, topi = decoder_output.data.topk(1)\n",
    "            if topi.item() == EOS_token:\n",
    "                decoded_words.append('<EOS>')\n",
    "                break\n",
    "            else:\n",
    "                decoded_words.append(output_lang.index2word[topi.item()])\n",
    "\n",
    "            decoder_input = topi.squeeze().detach()\n",
    "\n",
    "        return decoded_words, decoder_attentions[:di + 1]"
   ]
  },
  {
   "cell_type": "code",
   "execution_count": 104,
   "metadata": {
    "id": "4mQhM6JDH1Zf"
   },
   "outputs": [],
   "source": [
    "def evaluate_test(encoder, decoder):\n",
    "  test = []\n",
    "  %cd C:\\Users\\Glitch\\Sanskrit2mal\\parallel-corpus\\sanskrit-mal\n",
    "  with open('test_sanskrit.sa', 'r', encoding=\"utf8\") as f:\n",
    "    test_text = [x.replace('\\n', '') for x in f.readlines()]\n",
    "  for sa_text in test_text:\n",
    "    # print('>', pair[0])\n",
    "    # print('=', pair[1])\n",
    "    output_words, attentions = evaluate(encoder, decoder, sa_text)\n",
    "    output_sentence = ' '.join(output_words)\n",
    "    # print('<', output_sentence)\n",
    "    # print('')\n",
    "    test.append(output_sentence)\n",
    "  with open('translated_malayalam.txt', 'w', encoding=\"utf8\") as f:\n",
    "    for line in test:\n",
    "        f.write(line + '\\n')"
   ]
  },
  {
   "cell_type": "code",
   "execution_count": 105,
   "metadata": {},
   "outputs": [],
   "source": [
    "def translator(encoder, decoder):\n",
    "    test_text = 'धृतराष्ट्र उवाच धर्मक्षेत्रे कुरुक्षेत्रे समवेता युयुत्सवः। मामकाः पाण्डवाश्चैव किमकुर्वत सञ्जय।।'\n",
    "\n",
    "    output_words, attentions = evaluate(encoder, decoder, test_text)\n",
    "    output_sentence = ' '.join(output_words)\n",
    "    print(output_sentence)"
   ]
  },
  {
   "cell_type": "code",
   "execution_count": 106,
   "metadata": {},
   "outputs": [
    {
     "name": "stdout",
     "output_type": "stream",
     "text": [
      "C:\\Users\\Glitch\\Sanskrit2mal\\parallel-corpus\\sanskrit-mal\n"
     ]
    }
   ],
   "source": [
    " %cd C:\\Users\\Glitch\\Sanskrit2mal\\parallel-corpus\\sanskrit-mal"
   ]
  },
  {
   "cell_type": "code",
   "execution_count": 112,
   "metadata": {
    "colab": {
     "base_uri": "https://localhost:8080/"
    },
    "id": "eSwIZgd1ICB6",
    "outputId": "611feb83-5766-4234-8a9f-d1b26cc4fde7"
   },
   "outputs": [
    {
     "name": "stdout",
     "output_type": "stream",
     "text": [
      "0m 17s (- 44m 20s) (500 0%) 5.6057\n",
      "0m 31s (- 38m 15s) (1000 1%) 6.3284\n",
      "0m 44s (- 36m 28s) (1500 2%) 6.2658\n",
      "0m 58s (- 35m 34s) (2000 2%) 6.4010\n",
      "1m 12s (- 34m 55s) (2500 3%) 6.2947\n",
      "1m 26s (- 34m 24s) (3000 4%) 6.3178\n",
      "1m 39s (- 34m 2s) (3500 4%) 6.1887\n",
      "1m 53s (- 33m 42s) (4000 5%) 5.9878\n",
      "2m 8s (- 33m 29s) (4500 6%) 5.9296\n",
      "2m 22s (- 33m 16s) (5000 6%) 5.6801\n",
      "2m 36s (- 33m 3s) (5500 7%) 5.6055\n",
      "2m 51s (- 32m 51s) (6000 8%) 5.1771\n",
      "3m 6s (- 32m 43s) (6500 8%) 4.8597\n",
      "3m 20s (- 32m 28s) (7000 9%) 4.5984\n",
      "3m 35s (- 32m 19s) (7500 10%) 4.3647\n",
      "3m 50s (- 32m 6s) (8000 10%) 3.8246\n",
      "4m 5s (- 31m 57s) (8500 11%) 3.3958\n",
      "4m 20s (- 31m 48s) (9000 12%) 3.2928\n",
      "4m 35s (- 31m 41s) (9500 12%) 2.8090\n",
      "4m 51s (- 31m 31s) (10000 13%) 2.6398\n",
      "5m 6s (- 31m 21s) (10500 14%) 2.2508\n",
      "5m 22s (- 31m 15s) (11000 14%) 2.0546\n",
      "5m 38s (- 31m 7s) (11500 15%) 1.7268\n",
      "5m 53s (- 30m 56s) (12000 16%) 1.5477\n",
      "6m 9s (- 30m 45s) (12500 16%) 1.3701\n",
      "6m 24s (- 30m 34s) (13000 17%) 1.0805\n",
      "6m 40s (- 30m 25s) (13500 18%) 0.8965\n",
      "6m 57s (- 30m 17s) (14000 18%) 0.8831\n",
      "7m 12s (- 30m 6s) (14500 19%) 0.7185\n",
      "7m 28s (- 29m 55s) (15000 20%) 0.5773\n",
      "7m 44s (- 29m 44s) (15500 20%) 0.4813\n",
      "8m 0s (- 29m 31s) (16000 21%) 0.4106\n",
      "8m 16s (- 29m 18s) (16500 22%) 0.3543\n",
      "8m 31s (- 29m 6s) (17000 22%) 0.2643\n",
      "8m 48s (- 28m 55s) (17500 23%) 0.2793\n",
      "9m 4s (- 28m 43s) (18000 24%) 0.2803\n",
      "9m 19s (- 28m 29s) (18500 24%) 0.2179\n",
      "9m 35s (- 28m 17s) (19000 25%) 0.1783\n",
      "9m 52s (- 28m 5s) (19500 26%) 0.1500\n",
      "10m 7s (- 27m 51s) (20000 26%) 0.1694\n",
      "10m 23s (- 27m 38s) (20500 27%) 0.1441\n",
      "10m 39s (- 27m 25s) (21000 28%) 0.1387\n",
      "10m 55s (- 27m 11s) (21500 28%) 0.1237\n",
      "11m 11s (- 26m 58s) (22000 29%) 0.1290\n",
      "11m 27s (- 26m 45s) (22500 30%) 0.1151\n",
      "11m 43s (- 26m 30s) (23000 30%) 0.0900\n",
      "11m 59s (- 26m 17s) (23500 31%) 0.0877\n",
      "12m 15s (- 26m 3s) (24000 32%) 0.0682\n",
      "12m 31s (- 25m 49s) (24500 32%) 0.1037\n",
      "12m 48s (- 25m 36s) (25000 33%) 0.0865\n",
      "13m 4s (- 25m 22s) (25500 34%) 0.0574\n",
      "13m 20s (- 25m 8s) (26000 34%) 0.0517\n",
      "13m 36s (- 24m 55s) (26500 35%) 0.0544\n",
      "13m 53s (- 24m 41s) (27000 36%) 0.0804\n",
      "14m 8s (- 24m 26s) (27500 36%) 0.0557\n",
      "14m 25s (- 24m 12s) (28000 37%) 0.0689\n",
      "14m 40s (- 23m 57s) (28500 38%) 0.0678\n",
      "14m 56s (- 23m 42s) (29000 38%) 0.0634\n",
      "15m 12s (- 23m 28s) (29500 39%) 0.0560\n",
      "15m 28s (- 23m 13s) (30000 40%) 0.0730\n",
      "15m 44s (- 22m 58s) (30500 40%) 0.0394\n",
      "16m 1s (- 22m 44s) (31000 41%) 0.0498\n",
      "16m 16s (- 22m 28s) (31500 42%) 0.0458\n",
      "16m 32s (- 22m 14s) (32000 42%) 0.0500\n",
      "16m 49s (- 21m 59s) (32500 43%) 0.0449\n",
      "17m 5s (- 21m 45s) (33000 44%) 0.0367\n",
      "17m 21s (- 21m 30s) (33500 44%) 0.0431\n",
      "17m 37s (- 21m 15s) (34000 45%) 0.0322\n",
      "17m 54s (- 21m 1s) (34500 46%) 0.0539\n",
      "18m 11s (- 20m 46s) (35000 46%) 0.0361\n",
      "18m 26s (- 20m 31s) (35500 47%) 0.0385\n",
      "18m 43s (- 20m 17s) (36000 48%) 0.0370\n",
      "18m 59s (- 20m 2s) (36500 48%) 0.0287\n",
      "19m 16s (- 19m 47s) (37000 49%) 0.0245\n",
      "19m 32s (- 19m 32s) (37500 50%) 0.0273\n",
      "19m 48s (- 19m 17s) (38000 50%) 0.0394\n",
      "20m 5s (- 19m 2s) (38500 51%) 0.0251\n",
      "20m 22s (- 18m 48s) (39000 52%) 0.0240\n",
      "20m 37s (- 18m 32s) (39500 52%) 0.0258\n",
      "20m 53s (- 18m 16s) (40000 53%) 0.0257\n",
      "21m 9s (- 18m 1s) (40500 54%) 0.0199\n",
      "21m 26s (- 17m 46s) (41000 54%) 0.0349\n",
      "21m 42s (- 17m 31s) (41500 55%) 0.0361\n",
      "21m 59s (- 17m 16s) (42000 56%) 0.0225\n",
      "22m 15s (- 17m 1s) (42500 56%) 0.0206\n",
      "22m 32s (- 16m 46s) (43000 57%) 0.0186\n",
      "22m 48s (- 16m 30s) (43500 57%) 0.0186\n",
      "23m 4s (- 16m 15s) (44000 58%) 0.0180\n",
      "23m 20s (- 16m 0s) (44500 59%) 0.0180\n",
      "23m 36s (- 15m 44s) (45000 60%) 0.0170\n",
      "23m 53s (- 15m 29s) (45500 60%) 0.0175\n",
      "24m 9s (- 15m 13s) (46000 61%) 0.0174\n",
      "24m 24s (- 14m 57s) (46500 62%) 0.0224\n",
      "24m 40s (- 14m 42s) (47000 62%) 0.0163\n",
      "24m 56s (- 14m 26s) (47500 63%) 0.0160\n",
      "25m 12s (- 14m 10s) (48000 64%) 0.0153\n",
      "25m 28s (- 13m 55s) (48500 64%) 0.0198\n",
      "25m 44s (- 13m 39s) (49000 65%) 0.0161\n",
      "26m 0s (- 13m 23s) (49500 66%) 0.0204\n",
      "26m 16s (- 13m 8s) (50000 66%) 0.0238\n",
      "26m 31s (- 12m 52s) (50500 67%) 0.0163\n",
      "26m 47s (- 12m 36s) (51000 68%) 0.0199\n",
      "27m 3s (- 12m 20s) (51500 68%) 0.0200\n",
      "27m 19s (- 12m 5s) (52000 69%) 0.0270\n",
      "27m 36s (- 11m 49s) (52500 70%) 0.0184\n",
      "27m 52s (- 11m 34s) (53000 70%) 0.0143\n",
      "28m 8s (- 11m 18s) (53500 71%) 0.0145\n",
      "28m 25s (- 11m 3s) (54000 72%) 0.0163\n",
      "28m 41s (- 10m 47s) (54500 72%) 0.0133\n",
      "28m 57s (- 10m 31s) (55000 73%) 0.0137\n",
      "29m 13s (- 10m 16s) (55500 74%) 0.0128\n",
      "29m 29s (- 10m 0s) (56000 74%) 0.0132\n",
      "29m 45s (- 9m 44s) (56500 75%) 0.0128\n",
      "30m 1s (- 9m 28s) (57000 76%) 0.0125\n",
      "30m 17s (- 9m 13s) (57500 76%) 0.0123\n",
      "30m 34s (- 8m 57s) (58000 77%) 0.0128\n",
      "30m 50s (- 8m 41s) (58500 78%) 0.0118\n",
      "31m 6s (- 8m 26s) (59000 78%) 0.0120\n",
      "31m 22s (- 8m 10s) (59500 79%) 0.0119\n",
      "31m 38s (- 7m 54s) (60000 80%) 0.0117\n",
      "31m 54s (- 7m 38s) (60500 80%) 0.0116\n",
      "32m 11s (- 7m 23s) (61000 81%) 0.0112\n",
      "32m 26s (- 7m 7s) (61500 82%) 0.0110\n",
      "32m 42s (- 6m 51s) (62000 82%) 0.0112\n",
      "32m 59s (- 6m 35s) (62500 83%) 0.0110\n",
      "33m 15s (- 6m 20s) (63000 84%) 0.0109\n",
      "33m 32s (- 6m 4s) (63500 84%) 0.0108\n",
      "33m 48s (- 5m 48s) (64000 85%) 0.0109\n",
      "34m 3s (- 5m 32s) (64500 86%) 0.0105\n",
      "34m 20s (- 5m 16s) (65000 86%) 0.0106\n",
      "34m 36s (- 5m 1s) (65500 87%) 0.0104\n",
      "34m 52s (- 4m 45s) (66000 88%) 0.0100\n",
      "35m 8s (- 4m 29s) (66500 88%) 0.0101\n",
      "35m 24s (- 4m 13s) (67000 89%) 0.0101\n",
      "35m 40s (- 3m 57s) (67500 90%) 0.0099\n",
      "35m 57s (- 3m 42s) (68000 90%) 0.0098\n",
      "36m 13s (- 3m 26s) (68500 91%) 0.0099\n",
      "36m 29s (- 3m 10s) (69000 92%) 0.0098\n",
      "36m 45s (- 2m 54s) (69500 92%) 0.0095\n",
      "37m 0s (- 2m 38s) (70000 93%) 0.0096\n",
      "37m 16s (- 2m 22s) (70500 94%) 0.0097\n",
      "37m 32s (- 2m 6s) (71000 94%) 0.0095\n",
      "37m 48s (- 1m 51s) (71500 95%) 0.0092\n",
      "38m 4s (- 1m 35s) (72000 96%) 0.0091\n",
      "38m 19s (- 1m 19s) (72500 96%) 0.0092\n",
      "38m 35s (- 1m 3s) (73000 97%) 0.0090\n",
      "38m 51s (- 0m 47s) (73500 98%) 0.0090\n",
      "39m 7s (- 0m 31s) (74000 98%) 0.0088\n",
      "39m 23s (- 0m 15s) (74500 99%) 0.0087\n",
      "39m 39s (- 0m 0s) (75000 100%) 0.0086\n"
     ]
    }
   ],
   "source": [
    "# defining hidden layer size and the encoder and decoder networks\n",
    "hidden_size = 256\n",
    "\n",
    "encoder1 = EncoderRNN(input_lang.n_words, hidden_size).to(device)\n",
    "attn_decoder1 = AttnDecoderRNN(hidden_size, output_lang.n_words, dropout_p=0.1).to(device)\n",
    "\n",
    "# train\n",
    "trainIters(encoder1, attn_decoder1, 75000, print_every=500)"
   ]
  },
  {
   "cell_type": "code",
   "execution_count": 113,
   "metadata": {
    "id": "gru3S0bsIeff"
   },
   "outputs": [
    {
     "name": "stdout",
     "output_type": "stream",
     "text": [
      "C:\\Users\\Glitch\\Sanskrit2mal\n"
     ]
    }
   ],
   "source": [
    "# saving the trained models\n",
    "%cd C:\\Users\\Glitch\\Sanskrit2mal\n",
    "torch.save(encoder1.state_dict(), 'trained_encoder.pth')\n",
    "torch.save(attn_decoder1.state_dict(), 'trained_decoder.pth')"
   ]
  },
  {
   "cell_type": "code",
   "execution_count": 114,
   "metadata": {
    "scrolled": true
   },
   "outputs": [
    {
     "name": "stdout",
     "output_type": "stream",
     "text": [
      "C:\\Users\\Glitch\\Sanskrit2mal\\parallel-corpus\\sanskrit-mal\n"
     ]
    }
   ],
   "source": [
    "evaluate_test(encoder1, attn_decoder1)"
   ]
  },
  {
   "cell_type": "code",
   "execution_count": 115,
   "metadata": {},
   "outputs": [
    {
     "name": "stdout",
     "output_type": "stream",
     "text": [
      "C:\\Users\\Glitch\\Sanskrit2mal\\parallel-corpus\\sanskrit-mal\n",
      "[['ധൃതരാഷ്ട്രര്\\u200d ചോദിച്ചു: സഞ്ജയ, ധ\\u200dര്\\u200dമ്മ ക്ഷേത്രമായ കുരുക്ഷേത്രത്തില്\\u200d ഒരുമിച്ചു ചേര്\\u200dന്നവരും യുദ്ധം ചെയ്യാന്\\u200d കൊതിക്കുന്നവരുമായ എന്റെ പുത്രന്\\u200dമാരും പാണ്ഡവന്\\u200dമാരും എന്ത് ചെയ്തു? <EOS>\\n', 'സഞ്ജയന്\\u200d പറഞ്ഞു: അണിനിരന്ന പാണ്ഡവ സൈന്യത്തെ കണ്ടിട്ട് രാജാവായ ദുര്യോധനന്\\u200d ദ്രോണാചാര്യരെ സമീപിച്ചു പറഞ്ഞു. <EOS>\\n', 'ഹേ ആചാര്യാ, അങ്ങയുടെ ശിഷ്യനും ബുദ്ധിമാനുമായ ദ്രു\\u200cപദപുത്രനാല്\\u200d അണിനിരത്തപ്പെട്ട പാണ്ഡവന്\\u200dമാരുടെ ഈ വലിയ സൈന്യത്തെ ദ\\u200dര്\\u200dശിച്ചാലും. <EOS>\\n', 'പാണ്ഡവ സൈന്യത്തില്\\u200d ഭീമാര്\\u200dജുനതുല്യരും ശൂരരും വലിയ വില്ലാളികളുമായ യുയുധാനനും വിരാടനും മഹാരഥനായ ദ്രുപദനും ദൃഷ്ടകേതുവും ചേകിതാനനും വീര്യവാനായ കാശിരാജാവും പുരുജിത്തും കുന്തിഭോജനും നരശ്രേഷ്ടനായ ശൈബ്യനും വിക്രമിയായ യുധാമന്യുവും വീര്യവാനായ ഉത്തമൌജസും സുഭദ്രാതനയനായ അഭിമന്യുവും ദ്രൌപദീപുത്രന്മാരും ഉണ്ട്. അവര്\\u200d എല്ലാവരും തന്നെ മഹാരഥന്മാരാണല്ലോ. <EOS>\\n', 'ധൃഷ്ടകേതു, ചേകിതാനൻ, കാശിരാജാവ്, പുരുജിത്, കുന്തി ഭോജൻ, ശൈബ്യൻ എന്നീ വീരന്മാരായ യോദ്ധാക്കളും അവിടെ സന്നിഹിതരായിട്ടുണ്ട്.  <EOS>\\n', 'കൂടാതെ പരാക്രമിയായ യുധാമന്യു, ബലവാനായ ഉത്തമൗജസ്സ്, സുഭദ്രാപൂതൻ, ദ്രൗപദിയുടെ മക്കൾ എന്നിവരും യുദ്ധത്തിനൊരുങ്ങി നിൽക്കുകയാണ്. ഇവരെല്ലാവരും മഹാരഥന്മാർ തന്നെ. <EOS>\\n', 'ബ്രാഹ്മണോത്തമാ, എന്റെ സൈന്യത്തെ നയിക്കുന്നതിന് യോഗ്യതയുള്ള പടനായകന്മാരെപ്പറ്റി ഞാൻ പറഞ്ഞു തരാം. <EOS>\\n', 'യുദ്ധത്തിൽ സദാ വിജയിക്കുന്നവരായ താങ്കൾ, ഭീഷ്മർ, കർണൻ, കൃപൻ, അശ്വത്ഥാമാവ്, വികർണൻ, സോമദത്തന്റെ പുത്രനായ ഭൂരിശ്രവസ്സ് എന്നിവരും ഉണ്ട്. <EOS>\\n', 'എനിക്കുവേണ്ടി സ്വജീവിതമർപ്പിക്കുവാനൊരുങ്ങി വന്നവരായിട്ട്  ഇനിയുമുണ്ട് പല വീരയോദ്ധാക്കളും. നാനാവിധത്തിലുള്ള ആയുധ ങ്ങൾ കൈവശമുള്ളവരും സമരമുറകളിൽ സുപരിചിതരുമാണവർ. <EOS>\\n', 'അളവറ്റതാണ് നമ്മുടെ സൈന്യബലം; പിതാമഹനായ ഭീഷ്മ രാൽ സുരക്ഷിതവുമാണത്. എന്നാൽ ഭീമൻ രക്ഷിച്ചു പോരുന്ന പാണ്ഡവ സൈന്യമാകട്ടെ, വളരെ പരിമിതവും <EOS>\\n', 'സൈന്യവ്യൂഹത്തിൽ മർമ്മസ്ഥാനങ്ങളിൽ ഉറച്ചുനിന്നുകൊണ്ട് നിങ്ങളോരോരുത്തരും ഭീഷ്മപിതാമഹന് പരിപൂർണ്ണ പിന്തുണ നൽകണം. <EOS>\\n', 'അപ്പോൾ പരാക്രമിയും കുരു പിതാമഹനുമായ ഭീഷ്മർ ദുര്യോ ധനന് ആഹ്ലാദം ജനിപ്പിക്കുമാറ് സിംഹഗർജനം പോലെയുള്ള ശബ്ദമു ണ്ടാക്കിക്കൊണ്ട് തന്റെ ശംഖമെടുത്ത് ഊതി. <EOS>\\n', 'അതിനെത്തുടർന്ന് ശംഖ്, ചെണ്ട, മദ്ദളം, കാഹളം എന്നിവയുടെ ശബ്ദം എമ്പാടുമുയർന്നു. യുദ്ധരംഗത്ത് കോലാഹലമായി. <EOS>\\n', 'മറുവശത്ത് കൃഷ്ണാർജുനന്മാർ വെള്ളക്കുതിരകളെ പൂട്ടിയ വൻതേരിൽ നിന്നുകൊണ്ട് തങ്ങളുടെ ദിവ്യശംഖങ്ങൾ മുഴക്കി. <EOS>\\n', 'കൃഷ്ണന്\\u200d പാഞ്ചജന്യവും അര്\\u200dജുനന്\\u200d ദേവദത്തമെന്ന ശംഖും മുഴക്കി. ഉഗ്രക\\u200dര്\\u200dമ്മങ്ങള്\\u200d ചെയ്യുന്നവനായ ഭീമസേനന്\\u200d പൌണ്ഡ്രമെന്ന മഹാ ശംഖും മുഴക്കി. <EOS>\\n', 'രാജാവും കുന്തീപുത്രനുമായ യുധിഷ്ഠിരന്\\u200d അനന്തവിജയവും നകുല\\u200dന്\\u200d സുഘോഷത്തേയും സഹദേവ\\u200dന്\\u200d മണിപുഷ്പകത്തേയും മുഴക്കി. <EOS>\\n', 'വില്ലാളി വീരനായ കാശി രാജാവും, മഹാരഥനായ ശിഖണ്ഡിയും, ധൃഷ്ടദ്യുമ്നനും, വിരാടനും, തോല്\\u200dക്കാത്ത സാത്യകിയും,  <EOS>\\n', 'ദ്രുപദൻ, ദ്രൗപദീപുത്രന്മാർ, മഹാബാഹുവായ സുഭദ്രാപുത്രൻ എന്നിവരും ശംഖനാദം മുഴക്കി <EOS>\\n', 'ആ ശബ്ദകോലാഹലം ആകാശത്തെയും ഭൂമിയെയും പ്രതിധ്വനിപ്പിച്ചു കൊണ്ടു ധൃതരാഷ്ട്ര പുത്രന്മാരുടെ ഹൃദയം പിളര്\\u200dന്നു. <EOS>\\n', 'ഹേ മഹാരാജാവേ, പിന്നീട് ആയുധപ്രയോഗം തുടങ്ങിയപ്പോള്\\u200d ശരിയ്ക്കുറച്ചു നില്ക്കുന്ന ധൃതരാഷ്ട്രപുത്രന്മാരെ കണ്ട് വില്ലുയര്\\u200dത്തിപ്പിടിച്ച് അര്\\u200dജുനന്\\u200d കൃഷ്ണനോട് ഇങ്ങനെ പറഞ്ഞു. <EOS>\\n', 'അര്\\u200dജുനന്\\u200d പറഞ്ഞു: അച്യുതാ, രണ്ടു സേനക്കും നടുവില്\\u200d എന്റെ തേര്\\u200d നിര്\\u200dത്തുക. പോരാടാന്\\u200d കൊതിച്ചു നില്ക്കുന്ന ഇവരെ ഞാന്\\u200d ഒന്നു കണ്ടുകൊള്ളട്ടെ. എനിക്ക് ആരോടാണോ ഈ യുദ്ധത്തില്\\u200d പോരാടേണ്ടത്, ദു\\u200dര്\\u200dബുദ്ധിയായ ദു\\u200dര്\\u200dയോധനനു പോരില്\\u200d പ്രിയം ചെയ്യാന്\\u200d ആഗ്രഹിക്കുന്നവരായി ആരൊക്കെയാണോ ഇവിടെ വന്നിരിക്കുന്നവര്\\u200d യുദ്ധാഭിലാഷികളായ അവരെ ഞാന്\\u200d കാണട്ടെ. <EOS>\\n', 'ഹേ അച്യുതാ, (ച്യുതി അഥവാ വീഴ്ച പറ്റാത്തവനേ) ഇരു സൈന്യങ്ങൾക്കും മദ്ധ്യത്തിലായി എന്റെ തേർ കൊണ്ടുനിർത്തുക. ആരൊക്കെയാണ് യുദ്ധകാംക്ഷികളായി ഇവിടെ വന്നിട്ടുള്ളതെന്നു ഞാനൊന്നു കാണട്ടെ. <EOS>\\n', 'ദുർബുദ്ധിയായ ധൃതരാഷ്ട്രപുത്രനെ സന്തോഷിപ്പിക്കുവാനായി യുദ്ധത്തിനൊരുങ്ങി വന്നവരെ ഞാൻ കാണട്ടെ. <EOS>\\n', 'സഞ്ജയൻ പറഞ്ഞു: ഹേ ഭാരതപുത്രാ, അർജുനന്റെ വാക്കു കേട്ടിട്ട് കൃഷ്ണ ഭഗവാൻ ശ്രേഷ്ഠമായ ആ രഥത്തെ ഇരുസൈന്യങ്ങ ൾക്കും നടുവിൽ കൊണ്ടുനിർത്തി. <EOS>\\n', 'ഭീഷ്മദ്രോണാദികളുടേയും മറ്റു രാജാക്കന്മാരുടേയും മുന്നിൽ വെച്ച് ഭഗവാൻ ഇങ്ങനെ പറഞ്ഞു :- പാർത്ഥാ, ഇവിടെ ഒത്തു കൂടിയ കുരുവംശജരെ നോക്കൂ <EOS>\\n', 'അവിടെ രണ്ടു സൈന്യങ്ങളിലായി നില്ക്കുന്ന പിതാക്കന്മാരെയും പിന്നെ പിതാമഹന്മാരെയും ഗുരുക്കാന്മാരെയും അമ്മാവന്മാരേയും സഹോദരന്മാരെയും പുത്രന്മാരെയും അതുപോലെ കൂട്ടുകാരെയും ശ്വശുരന്മാരെയും സുഹൃത്തുക്കളെയും അര്\\u200dജുനന്\\u200d കണ്ടു. <EOS>\\n', 'ആ കുന്തീപുത്രന്\\u200d ബന്ധുക്കളെ എല്ല\\u200dാം നന്നായി നോക്കിക്കണ്ട്\\u200c, അത്യന്തം കൃപയോടെ വിഷാദിച്ചുകൊണ്ട് ഇങ്ങനെ പറഞ്ഞു. <EOS>\\n', 'അർജുനൻ പറഞ്ഞു : യുദ്ധത്തിനൊരുങ്ങി വന്നിട്ടുള്ള ഈ ബന്ധുമിത്രാദികളെ കണ്ടിട്ട്  <EOS>\\n', 'എന്റെ അവയവങ്ങൾ തളരുന്നു, മുഖം വരളുന്നു. എന്റെ ശരീരം വിറയ്ക്കുകയും, രോമാഞ്ചമുണ്ടാവുകയും ചെയ്യുന്നു. <EOS>\\n', 'എന്റെ വില്ല്, ഗാണ്ഡീവം കയ്യിൽ നിന്ന് വഴുതുന്നു. തൊലി ചുട്ടു നീറുന്നു. എനിക്ക് ഇപ്പോൾ ഉറച്ചു നിൽക്കാൻകൂടി സാധിക്കുന്നില്ല. ഞാൻ എന്നെത്തന്നെ മറന്നുപോകുന്നു. മനസ്സ് ചുറ്റിക്കറങ്ങുന്നു. <EOS>\\n', ' അല്ലയോ കൃഷ്ണാ, കേശവാ, (കേശി എന്ന അസുരനെ വധിച്ചവൻ) ദൗർഭാഗ്യ ലക്ഷണങ്ങളാണ് ഞാൻ എമ്പാടും കാണുന്നത്. ബന്ധുക്കളെ യുദ്ധത്തിൽ കൊല്ലുന്നതുകൊണ്ട് എങ്ങനെ എന്ത് ഗുണമുണ്ടാവുമെന്ന് എനിക്ക് മനസ്സിലാവുന്നില്ല. <EOS>\\n', 'കൃഷ്ണാ, വിജയവും രാജ്യവും സുഖങ്ങളും ഞാന്\\u200d ആഗ്രഹിക്കുന്നില്ല. ഗോവിന്ദാ, നമുക്കു രാജ്യം കൊണ്ടു എന്തു കാര്യം? ഭോഗങ്ങളെ കൊണ്ടോ ജീവിതം കൊണ്ടു തന്നെയോ എന്തു ഫലം? <EOS>\\n', 'ആര്\\u200dക്കുവേണ്ടിയാണോ രാജ്യവും ഭോഗങ്ങളും സുഖങ്ങളും ന\\u200dാം ആഗ്രഹിച്ചത്, ആ ആചാര്യന്മാരും, പിതാക്കളും, പുത്രന്മാരും, അതുപോലെ മുത്തച്ഛന്\\u200dമാരും, അമ്മാവന്മാരും, ശ്വശുരന്മാരും, പൌത്രന്\\u200dമാരും, അളിയന്മാരും, അതുപോലെ ബന്ധുക്കളും പ്രാണനും, ധനവും ഉപേക്ഷിച്ചു യുദ്ധക്കളത്തില്\\u200d യുദ്ധസന്നദ്ധരായി നില്ക്കുന്നു. <EOS>\\n', 'ഹേ ഗോവിന്ദാ, രാജ്യംകൊണ്ടും ഭോഗങ്ങൾകൊണ്ടും ജീവിതം കൊണ്ടുതന്നെയും ഞങ്ങൾക്കെന്തു പ്രയോജനം? ആർക്കുവേണ്ടി ഞങ്ങൾ ഇതെല്ലാം ആഗ്രഹിക്കുന്നുവോ, അവരെല്ലാം സ്വത്തും പ്രാണൻകൂടിയും ഉപേക്ഷിക്കാൻ തയ്യാറായി ഇതാരണാങ്കണത്തിൽ നിൽക്കുന്നു. മധുസൂദനാ, ഗുരുജനങ്ങൾ, പിതൃപിതാമഹന്മാർ, മക്കൾ, അമ്മാവന്മാർ, ശ്വശുരന്മാർ, സ്യാലന്മാർ തുടങ്ങിയ ബന്ധുക്കളാണി ങ്ങനെ മുന്നിൽ നിൽക്കുന്നത്. ഞാനെന്തിന് അവരെ കൊല്ലണം? അവരെ വധിക്കുകിൽ, തൈലോക്യമാകെ നേടാമെന്നു വന്നാലും ഞാനവരോട് യുദ്ധം ചെയ്യാനില്ല. പിന്നെ എങ്ങനെയാണ് വെറും മണ്ണിനുവേണ്ടി അവരെ കൊല്ലാനാവുക? ജനാർദ്ദനാ! ധാർതരാഷ്ട്ര ന്മാരെ ഹിംസിച്ചിട്ട് ഞങ്ങൾക്കെന്തു സുഖം കിട്ടാനാണ്? <EOS>\\n', 'മധുസൂദനാ, എന്നെ കൊന്നാല്\\u200d പോലും മൂന്നു ലോകത്തിന്റെയും ആധിപത്യത്തിനു വേണ്ടിപ്പോലും ഇവരെ കൊല്ലാന്\\u200d ഞാന്\\u200d ആഗ്രഹിക്കുന്നില്ല. പിന്നെയാണോ ഈ ഭൂമിക്കു വേണ്ടി? <EOS>\\n', 'ഹേ ജനാ\\u200dര്\\u200dദ്ദനാ!, ധൃതരാഷ്ട്രപുത്രന്\\u200dമാരെ കൊന്നിട്ട് നമുക്കു എന്തു സന്തോഷമുണ്ടാകാനാണ്? ആതതായികളായ ഇവരെ കൊന്നാ ല്\\u200d പാപം മാത്രമാണ് നമുക്കു ഫലം. <EOS>\\n', 'അതുകൊണ്ട് നമ്മള്\\u200d സ്വന്തം ബന്ധുക്കളായ ധൃതരാഷ്ട്രപുത്രന്മാരെ കൊല്ലാന്\\u200d പാടില്ലാത്തതാണ്. മാധവാ! സ്വജനങ്ങളെ കൊന്നിട്ട് ന\\u200dാം എങ്ങന സുഖികളായിതീരും? <EOS>\\n', 'ലോഭാവേശം കൊണ്ട് ഇവർ ബന്ധുഹിംസയിലും സുഹൃത്തുക്കളോട് പൊരുതുന്നതിലും ദോഷം കാണുന്നില്ലെങ്കിലും  <EOS>\\n', 'കുലക്ഷയത്തിൽ നിന്നുണ്ടാകാവുന്ന ആപത്തുകളെക്കുറിച്ചറിവുള്ള നമ്മൾ ഈ പാപകർമ്മങ്ങളിൽ എന്തിന് വ്യാപൃതരാവണം?, ജനാർദ്ദനാ... <EOS>\\n', 'കുലം നശിക്കുമ്പോള്\\u200d സനാതനങ്ങളായ കുലധ\\u200dര്\\u200dമ്മങ്ങള്\\u200d നശിക്കുന്നു, ധ\\u200dര്\\u200dമ്മം നശിക്കുമ്പോള്\\u200d കുലത്തെ മുഴുവ\\u200dന്\\u200d അധര്\\u200dമ്മം ബാധിക്കുന്നു. <EOS>\\n', 'വൃഷ്ണിവംശജനായ കൃഷ്ണാ, അധ\\u200dര്\\u200dമ്മം ബാധിക്കുമ്പോള്\\u200d കുല സ്തീകള്\\u200d ദുഷിക്കുന്നു. സ്ത്രീകള്\\u200d ദുഷിക്കുമ്പോള്\\u200d വ\\u200dര്\\u200dണ്ണസങ്കരം സംഭവിക്കുന്നു. <EOS>\\n', 'വ\\u200dര്\\u200dണ്ണസങ്കരം കുലനാശകന്മാര്\\u200dക്കും കുലത്തിനും നരകത്തിനായിത്തന്നെ തീരുന്നു. ഇവരുടെ പിതൃക്കള്\\u200d പിണ്ഡദാനവും ഉദകക്രിയയും ലഭിക്കാതെ നിലംപതിച്ചു പോകുന്നു. <EOS>\\n', 'കുലഘാതകന്മാരുടെ വ\\u200dര്\\u200dണ്ണസങ്കരം ഉളവാക്കുന്ന ഈ ദോഷങ്ങളാല്\\u200d ശാശ്വതങ്ങളായ ജാതിധ\\u200dര്\\u200dമ്മങ്ങളും കുലധ\\u200dര്\\u200dമ്മങ്ങളും നശിച്ചു പോകുന്നു <EOS>\\n', 'ജനാ\\u200cര്\\u200dദ്ദനാ!, കുലധ\\u200dര്\\u200dമ്മം ക്ഷയിച്ചുപോയ മനുഷ്യരുടെ വാസം എന്നെന്നും നരകത്തിലാണ് എന്നു ന\\u200dാം കേട്ടിട്ടുണ്ടല്ലോ. <EOS>\\n', 'അഹോ കഷ്ട്ടം! വലിയ പാപം ചെയ്യാന്\\u200d നാം ഒരുങ്ങിയിരിക്കുന്നു. രാജ്യലാഭത്തിലും സുഖത്തിലുമുള്ള അത്യാഗ്രഹം കൊണ്ടു സ്വജനങ്ങളെ കൊല്ലാന്\\u200d ന\\u200dാം ഒരുങ്ങിയല്ലോ. <EOS>\\n', 'എതിര്\\u200dക്കാതെയും ആയുധമെടുക്കാതെയും ഇരിക്കുന്ന എന്നെ, ആയുധമേന്തിയ ധൃതരാഷ്ട്രപുത്രന്മാര്\\u200d പോരില്\\u200d കൊല്ലുമെങ്കില്\\u200d അതെനിക്ക് കൂടുതല്\\u200d ക്ഷേമകരമായിരിക്കും. <EOS>\\n', 'സഞ്ജയന്\\u200d പറഞ്ഞു: ഇപ്രകാരം പറഞ്ഞിട്ട് അര്\\u200dജുനന്\\u200d യുദ്ധക്കള ത്തില്\\u200d അമ്പും വില്ലും ഉപേക്ഷിച്ച് തേര്\\u200dത്തട്ടില്\\u200d ശോകാകുല ചിത്തനായി ഇരുന്നു. <EOS>\\n', 'സഞ്ജയന്\\u200d പറഞ്ഞു: അങ്ങനെ മനസ്സലിഞ്ഞവനും, കണ്ണീര്\\u200d നിറഞ്ഞ കണ്ണുകളോടുകൂടിയവനും ദുഃഖിക്കുന്നവനുമായ അര്\\u200dജുനനോടു ശ്രീകൃഷ്ണന്\\u200d ഇപ്രകാരം പറഞ്ഞു. <EOS>\\n', 'ശ്രീ ഭഗവാന്\\u200d പറഞ്ഞു: അര്\\u200dജുനാ, വിഷമഘട്ടത്തില്\\u200d ആര്യന്മാര്\\u200dക്ക് ചേരാത്തതും സ്വര്\\u200dഗ്ഗം നല്\\u200dകാത്തതും അകീര്\\u200dത്തി ഉളവാക്കുന്നതുമായ ഈ ബുദ്ധിഭ്രമം നിനക്കു എവിടെ നിന്നുണ്ടായി? <EOS>\\n', 'പാര്\\u200dത്ഥാ, പൌരുഷമില്ലായ്മ നിനക്കു വന്നു കൂടാ. ഇതു നിനക്കു ചേരില്ല. ശത്രുനാശകാ, നികൃഷ്ടമായ ഹൃദയ ദൌര്\\u200dബല്യം കൈവിട്ടു നീ എഴുന്നേ\\u200dല്\\u200dക്കു. <EOS>\\n', 'അര്\\u200dജുനന്\\u200d ചോദിച്ചു: ഹേ ശത്രുഘാതകാ! മധുസൂധനാ, പൂജാര്\\u200dഹരായ ഭീഷ്മരേയും ദ്രോണരെയും മൂര്\\u200dച്ചയുള്ള അമ്പുകള്\\u200d കൊണ്ടു ഞാന്\\u200d യുദ്ധത്തില്\\u200d എങ്ങനെ എതിരിടും? <EOS>\\n', 'മഹാത്മാക്കളായ ഗുരുക്കന്മാരെ ഹനിക്കുന്നതിനേക്കാള്\\u200d ഈ ലോകത്തില്\\u200d ഭിക്ഷയെടുക്കുന്നത് പോലും ശ്രേയസ്കരമാണ്. ഗുരുക്കന്മാരെ ഹനിച്ചിട്ട്\\u200c അ\\u200dര്\\u200dത്ഥകാമസ്വരൂപങ്ങളും രക്തം പുരണ്ടതുമായ ഭോഗങ്ങളെ ഈ ലോകത്തില്\\u200dവെച്ചുതന്നെ ഭുജിക്കണോ? <EOS>\\n', 'രണ്ടിലേതാണ് നമുക്കു കൂടുതല്\\u200d ശ്രേയസ്കരം എന്ന് അറിഞ്ഞുകൂടാ. ഒന്നുകില്\\u200d ന\\u200dാം ജയിക്കും. അല്ലെങ്കില്\\u200d ജയിക്കാതിരിക്കും. ആരെ കൊന്നിട്ട് ന\\u200dാം ജീവിക്കാന്\\u200d ആഗ്രഹിക്കുന്നില്ലയോ ആ ധൃതരാഷ്ട്രപുത്രന്മാരാണ് മുമ്പില്\\u200d വന്നു നില്ക്കുന്നത്. <EOS>\\n', 'ദൈന്യത കൊണ്ടു ബുദ്ധികെട്ടവനും ധ\\u200dര്\\u200dമ്മ വിഷയത്തില്\\u200d വിവേകം നശിച്ചവനുമായി അങ്ങയോടു ഞാന്\\u200d ചോദിക്കുന്നു. യാതൊന്നു തീ\\u200dര്\\u200dച്ചയായും ശ്രേയസ്കരമാകുമോ അതെനിക്ക് പറഞ്ഞു തരിക. ഞാന്\\u200d അങ്ങയുടെ ശിഷ്യനാണ്. അങ്ങയെ ശരണം പ്രാപിച്ച എന്നെ വേണ്ടവണ്ണം ഉപദേശിച്ചാലും. <EOS>\\n', 'ഭൂമിയില്\\u200d ശത്രുക്കളില്ലാത്തതും സമൃദ്ധിയുള്ളതുമായ രാജ്യവും ദേവന്മാരുടെ മേല്\\u200d പോലും ആധിപത്യവും ലഭിച്ചാലും ഇന്ദ്രിയങ്ങളെ ശോഷിപ്പിച്ചു കൊണ്ടിരിക്കുന്ന എന്റെ ദുഃഖത്തെ അകറ്റുന്ന യതൊന്നും ഞാന്\\u200d കാണുന്നില്ല. <EOS>\\n', 'സഞ്ജയന്\\u200d പറഞ്ഞു: ശത്രുനാശകനായ അര്\\u200dജുനന്\\u200d കൃഷ്ണനോട് ഞാന്\\u200d യുദ്ധം ചെയ്കയില്ല എന്ന് പറഞ്ഞു മൗനം അവലംബിച്ചു. <EOS>\\n', 'ഹേ ഭരതവംശജാ, രണ്ട് സേനയ്ക്കിടയിലും വിഷണ്ണനായി നില്ക്കുന്ന അവനോടു മന്ദഹസിച്ചുകൊണ്ടെന്നവണ്ണം ഹൃഷികേശനായ ഭഗവാന്\\u200d ഇങ്ങനെ അരുളിച്ചെയ്തു. <EOS>\\n', 'ശ്രീ ഭഗവാന്\\u200d പറഞ്ഞു: ദുഖിക്കേണ്ടാത്തവരെക്കുറിച്ച് നീ ദുഖിച്ചു പണ്ഡിതന്റെ മട്ടിലുള്ള വാക്കുകള്\\u200d പറയുകയും ചെയ്യുന്നു. പണ്ഡിതന്മാര്\\u200d മരിച്ചവരെ കുറിച്ചും മരിക്കാത്തവരെക്കുറിച്ചും അനുശോചിക്കുന്നില്ല. <EOS>\\n', 'ഞാന്\\u200d ഒരിക്കലും ഇല്ലാതിരുന്നിട്ടില്ല. നീയും ഇല്ലാതിരുന്നിട്ടില്ല. ഈ രാജാക്കന്മാരും ഇല്ല. ഇനി മേല്\\u200d നമ്മളെല്ലാവരും ഉണ്ടാകാതിരിക്കുകയുമില്ല. <EOS>\\n', 'മനുഷ്യന് ഈ ദേഹത്തില്\\u200d എങ്ങനെയാണോ കൌമാരവും യൌവ്വനവും ജരയും, അങ്ങനെതന്നെയാണ് ദേഹാന്തര പ്രാപ്തിയും ഉണ്ടാകുന്നത്. ധീരന്\\u200d അതില്\\u200d മോഹിക്കുന്നില്ല. <EOS>\\n', 'കുന്തീപുത്രാ, ഇന്ദ്രിയങ്ങളും വിഷയങ്ങളും തമ്മിലുള്ള സ്പര്\\u200dശങ്ങള്\\u200d ശീതോഷ്ണങ്ങളെയും സുഖദുഃഖങ്ങളെയും നല്\\u200dകുന്നവയും, വന്നും പോയും ഇരിക്കുന്നവയും അനിത്യങ്ങളുമാണ്. ഭരതവംശത്തില്\\u200d ജനിച്ചവനെ, അവ നിര്\\u200dവികാരനായി സഹിച്ചു കൊള്ളുക. <EOS>\\n', 'പുരുഷശ്രേഷ്ഠാ, സമദുഖസുഖനും ധീരനുമായ ഏതൊരു പുരുഷനെ ഇവ ദുഖിപ്പിക്കയില്ലയോ അവന്\\u200d അമൃതത്വത്തിനു അധികാരിയായിത്തീരുന്നു. <EOS>\\n', 'ഇല്ലാത്തതിന് (അസത്തിന്) ഉണ്മയില്ല. ഉള്ളതിന് (സത്തിന്) അഭാവവും അറിയപ്പെടുന്നില്ല. ഈ രണ്ടിന്റെയും (സത്തിന്റെയും അസത്തിന്റെയും) യാഥാര്\\u200dത്ഥ്യം തത്വദര്\\u200dശികള്\\u200d കണ്ടറിഞ്ഞിട്ടുണ്ട്. <EOS>\\n', 'ഏതൊന്നിനാല്\\u200d ഇതെല്ലാം വ്യാപ്തമായിരിക്കുന്നുവോ, അത് നാശരഹിതമാണെന്നറിയുക. അനശ്വരമായ അതിനെ നശിപ്പിക്കുവാന്\\u200d ആ\\u200dര്\\u200dക്കും കഴിയുകയില്ല. <EOS>\\n', 'നിത്യനും അവിനാശിയും, അവിജ്ഞേയനുമായ ആത്മാവിനുള്ള ഈ ദേഹങ്ങള്\\u200d നാശമുള്ളവയാണെന്നു പറയപ്പെടുന്നു. അതുകൊണ്ട് അര്\\u200dജുനാ, നീ യുദ്ധം ചെയ്യുക. <EOS>\\n', 'യാതൊരാള്\\u200d ഈ ആത്മാവിനെ കൊല്ലുന്ന\\u200cവ\\u200dനെന്ന് ധരിക്കുന്നുവോ യാതൊരാള്\\u200d ഇവനെ കൊല്ലപ്പെട്ടവനായി ഗണിക്കുന്നുവോ, ആ രണ്ടു പേരും വാസ്തവം അറിയുന്നില്ല. ആത്മാവു ആരെയും കൊല്ലുന്നില്ല. ആത്മാവിനെ ആരും കൊല്ലുന്നുമില്ല. <EOS>\\n', 'ഈ ആത്മാവ് ഒരിക്കലും ജനിക്കുന്നില്ല. മരിക്കുന്നുമില്ല. ജനിച്ചിട്ട്\\u200c വീണ്ടും ജനിക്കാതിരിക്കുന്നുമില്ല. ജന്മമില്ലാത്തവനും നിത്യനും സ്ഥിരനും പണ്ടേ ഉള്ളവനുമായ ഇവന്\\u200d ശരീരം ഹതമാകുമ്പോള്\\u200d ഹനിക്കപ്പെടുന്നുമില്ല. <EOS>\\n', 'പാര്\\u200dത്ഥ, ഈ ആത്മാവിനെ നാശരഹിതനും നിത്യനും ജനനരഹിതനും മാറ്റമില്ലാത്തവനുമായി അറിയുന്നുവോ അങ്ങിനെയുള്ള പുരുഷന്\\u200d ആരെയെങ്കിലും കൊല്ലിക്കുന്നതെങ്ങനെ? കൊല്ലുന്നതെങ്ങനെ? <EOS>\\n', 'മനുഷ്യന്\\u200d എങ്ങിനെ കീറിയ വസ്ത്രങ്ങള്\\u200d വെടിഞ്ഞു വേറെ പുതിയവ സ്വീകരിക്കുന്നുവോ, അതുപോലെ ആത്മാവ് ജീ\\u200dര്\\u200dണ്ണിച്ച ദേഹങ്ങള്\\u200d വെടിഞ്ഞു വേറെ ദേഹങ്ങള്\\u200d കൈകൊള്ളുന്നു <EOS>\\n', 'ഈ ആത്മാവിനെ ആയുധങ്ങള്\\u200d മുറിവ് ഏല്\\u200dപ്പിക്കുന്നില്ല. ഇവനെ തീ ദാഹിപ്പിക്കുന്നില്ല. ഇവനെ വെള്ളം നനയ്ക്കുന്നില്ല. കാറ്റ് ഉണക്കുന്നുമില്ല. <EOS>\\n', 'ഇവന്\\u200d ഛേദിക്കപ്പെടാത്തവനാണ്. ഇവന്\\u200d ദഹിപ്പിക്കപ്പെടാന്\\u200d കഴിയാത്തവനാണ്. നനയാത്തവനാണ്. ഉണങ്ങാത്തവനുമാണ്. ഇവന്\\u200d നിത്യനും സര്\\u200dവവ്യാപിയും സ്ഥിരസ്വഭാവനും ശാശ്വതനുമാണ്. <EOS>\\n', 'ഇവന്\\u200d (ഈ ആത്മാവ്) ഇന്ദ്രിയങ്ങള്\\u200dക്കും മനസ്സിനും അഗോചരനും, മാറ്റമില്ലാതവനുമാണെന്നു പറയപ്പെടുന്നു. അതുകൊണ്ട് ഇങ്ങിനെയുള്ളവനായി ഇവനെ അറഞ്ഞിട്ടു നീ അനുശോചിക്കാതിരിക്കുക. <EOS>\\n', 'കൈയ്യൂക്കുള്ളവനെ, ഇനി ഇവനെ നിത്യം ജനിക്കുന്നവനും നിത്യം മരിക്കുന്നവനുമായി നീ വിചാരിക്കുന്നുവെങ്കി\\u200cല്\\u200d തന്നെയും നീ ഇവനെക്കുറിച്ച് ദുഖിക്കേണ്ടതില്ല. <EOS>\\n', 'ജനിച്ചവന് മരണം നിശ്ചിതമാണ്. മരിച്ചവന് ജനനവും നിശ്ചിതമാണ്. അതുകൊണ്ട് പരിഹാരമില്ലാത്ത കാര്യത്തില്\\u200d ദുഃഖിക്കുന്നത് നിനക്ക് ഉചിതമല്ല. <EOS>\\n', 'ജീവികള്\\u200d ജനനത്തിനു മുന്\\u200dപ് അവ്യക്തമായ അവസ്ഥയോട്\\u200cകൂടിയവയാണ്. മദ്ധ്യേയുള്ള ജീവിതകാലം മാത്രം വ്യക്തവും, മരണാനന്തരമുള്ള സ്ഥിതി അവ്യക്തവുമാണ്. ഹേ ഭാരതാ, അതില്\\u200d എന്തിന് വിലപിക്കണം? <EOS>\\n', 'ഒരാള്\\u200d ഇവനെ (ആത്മാവിനെ) ഒരു അത്ഭുതവസ്തു പോലെ കാണുന്നു. മറ്റൊരാള്\\u200d അതുപോലെ അത്ഭുതവസ്തുപോലെ ഇവനെക്കുറിച്ച് പറയുന്നു. വേറൊരാള്\\u200d അത്ഭുതവസ്തു പോലെ ഇവനെക്കുറിച്ച് കേള്\\u200dക്കുകയും ചെയ്യുന്നു. ശ്രവിച്ചിട്ടും ഒരാളും വേണ്ടവണ്ണം ഇവനെ അറിയുന്നില്ല. <EOS>\\n', 'അര്\\u200dജുനാ, എല്ലാവരുടെയും ദേഹത്തിലുള്ള ഈ ദേഹി ഒരിക്കലും വധിക്കപ്പെടാവുന്നവനല്ല. അതിനാല്\\u200d യാതൊരു ജീവിയെക്കുറിച്ചും നീ ദുഖിക്കേണ്ടതില്ല. <EOS>\\n', 'സ്വധ\\u200dര്\\u200dമ്മത്തെക്കുറിച്ച് ആലോചിച്ചിട്ടും നീ കുലുങ്ങേണ്ടതില്ല. എന്തെന്നാല്\\u200d ക്ഷത്രിയന് ധ\\u200dര്\\u200dമ്മ സംഗതമായ യുദ്ധത്തേക്കാള്\\u200d ശ്രേയസ്കരമായി മറ്റൊന്നുമില്ല. <EOS>\\n', 'ഈ യുദ്ധം അപ്രതീക്ഷിതമായി തുറന്നുകിട്ടിയ സ്വര്\\u200dഗ്ഗവാതില്\\u200d പോലെയാണ്. ഹേ പാര്\\u200dത്ഥ, ഭാഗ്യവാന്മാരായ ക്ഷത്രിയര്\\u200dക്ക് മാത്രമാണ് ഈ വിധമുള്ള യുദ്ധം ലഭിക്കുന്നത്\\u200c. <EOS>\\n', 'ഇനി ഈ യുദ്ധം നീ ചെയ്യില്ലെങ്കില്\\u200d അത് കാരണം സ്വധ\\u200dര്\\u200dമ്മവും കീര്\\u200dത്തിയും കൈവിട്ടു നീ പാപം സമ്പാദിക്കേണ്ടിവരും. <EOS>\\n', 'തന്നെയുമല്ല, നിനക്കു ഒടുങ്ങാത്ത ദുഷ്കീര്\\u200dത്തി പറഞ്ഞു പരത്തുകയും ചെയ്യും. ബഹുമാനം നേടിയവന് ദുഷ്കീര്\\u200dത്തി മരണത്തെക്കാള്\\u200d അത്യധികം കഷ്ടമാണ്. <EOS>\\n', 'ഭയംകൊണ്ടു യുദ്ധത്തില്\\u200dനിന്നും പിന്തിരിഞ്ഞവനായി മഹാരഥന്മാര്\\u200d നിന്നെ കണക്കാക്കും. അവര്\\u200dക്കെല്ല\\u200dാം ബഹുമാന്യനായി ഇരിക്കുന്ന നീ അങ്ങിനെ നിസ്സാരനായി തീരും. <EOS>\\n', 'നിന്റെ ശത്രുക്കള്\\u200d നിന്റെ സാമര്\\u200dഥ്യത്തെ നിന്ദിച്ചുകൊണ്ടു വളരെ ദൂഷണം പറയുകയും ചെയ്യും. അതിനേക്കാള്\\u200d കൂടുതല്\\u200d ദുഃഖകരമായി എന്തുണ്ട്. <EOS>\\n', 'മരിച്ചാല്\\u200d സ്വര്\\u200dഗ്ഗം നേട\\u200dാം, ജയിച്ചാലോ ഭൂമിയെയും അനുഭവിക്ക\\u200dാം. അതുകൊണ്ട് അര്\\u200dജുനാ, യുദ്ധത്തിന് നിശ്ചയിച്ചു നീ എഴുന്നേല്\\u200dക്ക്. <EOS>\\n', 'സുഖദുഃഖങ്ങളും ലാഭനഷ്ടങ്ങളും ജയപരാജയങ്ങളും തുല്യമായികരുതി യുദ്ധത്തിന് നീ ഒരുങ്ങുക. ഇങ്ങിനെയായാല്\\u200d പാപം നിന്നെ ബാധിക്കുകയില്ല. <EOS>\\n', 'നിനക്കു പറഞ്ഞുതന്നു കഴിഞ്ഞ ജ്ഞാനനിഷ്ഠ സ\\u200dാംഖ്യത്തി ലുള്ളതാണ്. ക\\u200dര്\\u200dമ്മയോഗത്തിനുള്ള ഈ ബുദ്ധിയെയും കേട്ടു കൊള്ളുക. പാര്\\u200dത്ഥ, ഈ ബുദ്ധി നേടിയാല്\\u200d ക\\u200dര്\\u200dമ്മബന്ധം ഒഴിച്ചുവയ്ക്കാന്\\u200d നിനക്കു സാധിക്കും. <EOS>\\n', 'ഈ ക\\u200dര്\\u200dമ്മയോഗനിഷ്ഠയില്\\u200d തുടങ്ങി വെച്ച കര്\\u200dമ്മത്തിനൊന്നും നാശമില്ല. പാപം സംഭവിക്കുകയുമില്ല. ഈ ധ\\u200dര്\\u200dമ്മത്തിന്റെ അത്യല്\\u200dപ്പമായ (വളരെ ചെറിയ തോതിലുള്ള) ആചരണം പോലും വലിയ ഭയത്തില്\\u200d നിന്നും രക്ഷിക്കുന്നു. <EOS>\\n', 'സമചിത്തനായ യോഗി തന്റെ ലക്ഷ്യത്തില്\\u200d എകാഗ്രമനസ്കനാണ്. സമചിത്തരല്ലാത്തവരുടെ ബുദ്ധി ഒന്നും നിശ്ചയിക്കാന്\\u200d കഴിയാതെ പല വിഷയങ്ങളില്\\u200d അനന്തമായി വ്യാപാരിക്കും. <EOS>\\n', 'പാര്\\u200dത്ഥ, വേദത്തില്\\u200d പറയുന്ന കാര്യത്തില്\\u200d തല്പരന്മാരും അതില്\\u200dകവിഞ്ഞു മറ്റൊന്നുമില്ല എന്ന് പറയുന്നവരും,  <EOS>\\n', 'സ്വർഗ്ഗലോകപ്രാപ്തി, ധന്യമായ പുനർജന്മം, പ്രഭാവം എന്നിവ വേണ്ടി വിവിധ കർമ്മങ്ങൾ ഫലാപേക്ഷയോടെ ചെയ്യാൻ നിർദ്ദേ ശിക്കുന്ന വേദസൂക്തങ്ങളാൽ അല്പബുദ്ധികൾ അത്യന്തം ആസക്ത രാകുന്നു. ഇന്ദ്രിയസുഖപൂർത്തിയേയും ഐശ്വര്യജീവിതത്തേയും ആഗ്രഹിക്കുന്ന അവർ അവയേക്കാൾ ഉത്കൃഷ്ടമായി ഒന്നുമില്ലെന്ന് വാദിക്കുന്നു. <EOS>\\n', 'ഭൗതികൈശ്വര്യത്തിലും സുഖാനുഭവങ്ങളിലും അത്യാസക്തരായവർക്കും ഇവകളാൽ പരിഭ്രാന്തരായവർക്കും ഭക്തിപൂർവ്വം ഭഗവത് സേവനം നടത്താൻ വേണ്ടുന്ന നിശ്ചയദാർഢ്യം ഉണ്ടാവില്ല. <EOS>\\n', 'അര്\\u200dജുനാ, വേദങ്ങള്\\u200d ത്രിഗുണാത്മകങ്ങളാണ്. നീ ത്രിഗുണാതീതനും ദ്വന്ദരഹിതനും സത്യനിഷ്ഠനും യോഗക്ഷേമങ്ങള്\\u200d ഗണിക്കാത്തവനും ആത്മനിഷ്ഠനും ആയിത്തീരുക. <EOS>\\n', 'എല്ലായിടത്തും വെള്ളം കൊണ്ടു നിറഞ്ഞിരിക്കുമ്പോള്\\u200d കിണറു കൊണ്ട് എത്ര പ്രയോജനം ഉണ്ടോ അത്രയ്ക്കു പ്രയോജനം മാത്രമേ ജ്ഞാനിയായ ബ്രാഹ്മണന് വേദങ്ങളാസകലം കൊണ്ടുണ്ടാകൂ. <EOS>\\n', 'പ്രവൃത്തിയില്\\u200dമാത്രമേ നിനക്കു അധികാരമുള്ളു. ഒരിക്കലും ഫലങ്ങളി\\u200dല്\\u200d (അതു ലഭിച്ചാലും ലഭിച്ചില്ലെങ്കിലും) ഇല്ല. (അതായതു ഫലം നിന്റെ സ്വാതന്ത്ര്യത്തിലുള്ളതല്ല). നീ ഫലമുദ്ദേശിചു പ്രവര്\\u200dത്തിക്കുന്നവനാകരുത്. അക\\u200dര്\\u200dമ്മത്തില്\\u200d നിനക്കു ആസക്തിയു മരുത്. <EOS>\\n', 'ധനഞ്ജയാ! യോഗനിഷ്ഠനായി, ആസക്തിവെടിഞ്ഞു ഫലം ലഭിക്കുന്നതിലും ലഭിക്കാതിരിക്കുന്നതിലും സമചിത്തത പാലിച്ച് ക\\u200dര്\\u200dമ്മങ്ങള്\\u200d അനുഷ്ഠിക്കുക. സമചിത്തതയാണ് യോഗമെന്ന് പറയപ്പെടുന്നത്\\u200c. <EOS>\\n', 'ധനഞജയാ, കര്\\u200dമയോഗത്തെക്കാള്\\u200d വളരെ നികൃഷ്ടമാണ് ഫലാപേക്ഷയോടുകൂടി ചെയ്യുന്ന ക\\u200dര്\\u200dമ്മം. ബുദ്ധിയോഗത്തില്\\u200d അതായത് സമചിത്തതയോട് കൂടിയ ക\\u200dര്\\u200dമ്മത്തില്\\u200d ശരണം തേടുക. ഫലത്തിനുവേണ്ടി ക\\u200dര്\\u200dമ്മം ചെയ്യുന്നവ\\u200dര്\\u200d ദീനന്മാരാണ്. <EOS>\\n', 'സമബുദ്ധിയുള്ളവന്\\u200d ഈ ലോകത്ത് വച്ചുതന്നെ പുണ്യ പാപങ്ങള്\\u200d രണ്ടും ത്യജിക്കുന്നു. അതുകൊണ്ട് കര്\\u200dമ്മയോഗത്തിനായി ഒരുങ്ങുക. യോഗം പ്രവൃത്തിയിലുള്ള സാമര്\\u200dത്ഥ്യം തന്നെയാകുന്നു. <EOS>\\n', 'സമബുദ്ധിയുള്ളവരായ വിവേകികള്\\u200d ക\\u200dര്\\u200dമ്മം കൊണ്ടുണ്ടാകുന്ന ഫലം ത്യജിച്ചിട്ടു ജന്മബന്ധത്തില്\\u200dനിന്നു മോചനം നേടി ദോഷലേശമില്ലാത്ത സ്ഥാനത്തെ പ്രാപിക്കുന്നു. <EOS>\\n', 'എപ്പോള്\\u200d നിന്റെ ബുദ്ധി മോഹരൂപമായ വൈഷമ്യത്തെ കടക്കുമോ അപ്പോള്\\u200d കേള്\\u200dക്കേണ്ടതിനെയും കേട്ടതിനെയും കുറിച്ചു നീ ഉദാസീനനായിത്തീരും. <EOS>\\n', 'പലതരം ഉപദേശങ്ങള്\\u200d കേട്ടതു മൂലം പതറിപ്പോയ നിന്റെ ബുദ്ധി എപ്പോള്\\u200d ഇളക്കമറ്റ് സമാധിയില്\\u200d സ്ഥിരമായി നില്\\u200dക്കുമോ അപ്പോള്\\u200d യോഗത്തെ നീ പ്രാപിക്കും. <EOS>\\n', 'അര്\\u200dജുനന്\\u200d ചോദിച്ചു: ഹേ കേശവാ, സമാധിസ്ഥനായ സ്ഥിതപ്രജഞന്റെ ലക്ഷണമെന്താണ്? സ്ഥിതപ്രജ്ഞന്\\u200d എന്ത് സംസാരിക്കും? എങ്ങിനെ സ്ഥിതിചെയ്യും? എങ്ങിനെ സഞ്ചരിക്കും? <EOS>\\n', 'ശ്രീ ഭഗവാന്\\u200d പറഞ്ഞു: ഹേ പാര്\\u200dത്ഥ, മനുഷ്യന്\\u200d എപ്പോള്\\u200d ആത്മാവിനാല്\\u200d ആത്മാവില്\\u200dത്തന്നെ സന്തുഷ്ടനായി മനസ്സിലുള്ള എല്ലാ ആഗ്രഹങ്ങളേയും (വാസനകളേയും) ഉപേക്ഷിക്കുന്നുവോ, അപ്പോള്\\u200d അവന്\\u200d സ്ഥിതപ്രജഞന്\\u200d എന്ന് പറയപ്പെടുന്നു. <EOS>\\n', 'ദുഃഖങ്ങളില്\\u200d കുലുങ്ങാത്തവനും സുഖങ്ങളില്\\u200d താല്പര്യമില്ലാത്തവനും രാഗം, ഭയം, കോപം, ഇവയില്ലാത്തവനുമായ പുരുഷന്\\u200d സ്ഥിതപ്രജ്ഞനായ മുനി എന്നറിയപ്പെടുന്നു. <EOS>\\n', 'ഏതൊരാള്\\u200d എല്ലാത്തിലും ആസക്തി വിട്ടവനായി അതാതു ശുഭാശുഭങ്ങള്\\u200d ലഭിച്ചു സന്തോഷിക്കുകയും ദ്വേഷിക്കുകയും ചെയ്യുന്നില്ലയോ അവന്റെ പ്രജഞ പ്രതിഷ്ഠിതമാണ്. <EOS>\\n', 'ആമ തന്റെ അവയവങ്ങളെ പ്രതികൂലസാഹചര്യങ്ങളി\\u200dല്\\u200d എങ്ങിനെ എല്ലാവിധത്തിലും ഉ\\u200dള്\\u200dവലിക്കുന്നവോ, അതുപോലെ എപ്പോഴാണോ ഒരാള്\\u200d തന്റെ ഇന്ദ്രിയങ്ങളെ ശബ്ദസ്പ\\u200dര്\\u200dശാദികളായ ഇന്ദ്രിയാ\\u200dര്\\u200dത്ഥങ്ങളി\\u200dല്\\u200dനിന്ന് എപ്പോള്\\u200d പിന്\\u200dവലിക്കുന്നത് അപ്പോള്\\u200d അവന്റെ പ്രജഞ പ്രതിഷ്ഠിതമായിത്തീരുന്നു. <EOS>\\n', 'ഇന്ദ്രിയങ്ങള്\\u200d കൊണ്ടു വിഷയങ്ങള്\\u200d അനുഭവിക്കാത്ത മനുഷ്യന് വിഷയങ്ങള്\\u200d അകന്നു പോകുന്നു. എന്നാല്\\u200d ആസക്തി അവശേഷിക്കുന്നു. പരമാത്മാവിനെ പ്രാപിക്കുമ്പോള്\\u200d അവന്റെ ആസക്തിയും വിട്ടുപോകുന്നു. <EOS>\\n', 'ഹേ കുന്തീപുത്രാ, ഇന്ദ്രിയനിഗ്രഹത്തിനായി പ്രയത്നിക്കുന്ന വിദ്വാനായ പുരുഷന്റെ മനസ്സിനെപ്പോലും ക്ഷോഭിച്ചിരിക്കുന്ന ഇന്ദ്രിയങ്ങ\\u200c\\u200dള്\\u200d ബലാല്\\u200dക്കാരമായി വശത്താക്കുന്നു. <EOS>\\n', 'അവയെല്ല\\u200dാം സംയമനം ചെയ്തു യോഗയുക്തനായി എന്നില്\\u200d ഭക്തിയോടുകൂടി ഇരിക്കുക. ആര്\\u200dക്കു ഇന്ദ്രിയങ്ങള്\\u200d വശത്താണോ അവന്റെ പ്രജഞ പ്രതിഷ്ഠിതമാണ്. <EOS>\\n', 'വിഷയങ്ങളെ ധ്യാനിക്കുന്ന പുരുഷന്നു അവയില്\\u200d ആസക്തി ഉണ്ടാകുന്നു. ആസക്തിയില്\\u200dനിന്നും ആഗ്രഹം ഉണ്ടാകുന്നു. ആഗ്രഹത്തില്\\u200d നിന്നും കോപം ജനിക്കുന്നു.  <EOS>\\n', 'കോപത്തില്\\u200dനിന്നും അവിവേകം ഉടലെടുക്കുന്നു. അവിവേകത്തില്\\u200dനിന്നും ഓ\\u200dര്\\u200dമ്മക്കേടും ഓ\\u200dര്\\u200dമ്മക്കേടില്\\u200dനിന്നും ബുദ്ധിനാശവും ഉണ്ടാകുന്നു. ബുദ്ധിനാശം മൂലം മനുഷ്യന്\\u200d നശിക്കുകയും ചെയ്യുന്നു. <EOS>\\n', 'എന്നാല്\\u200d യാതൊരുവന്\\u200d രാഗദ്വേഷമില്ലാത്ത, ആത്മവശ്യങ്ങളായ ഇന്ദ്രിയങ്ങള്\\u200d കൊണ്ടു വിഷയങ്ങളെ അനുഭവിക്കുന്നുവോ ആത്മവിജയിയായ ആ പുരുഷന്\\u200d മനഃപ്രസാദത്തെ പ്രാപിക്കുന്നു. <EOS>\\n', 'മനഃ പ്രസാദം ലഭിച്ചുകഴിയുമ്പോള്\\u200d അവനു എല്ലാ ദുഃഖങ്ങളുടെയും നാശം സംഭവിക്കുന്നു. പ്രസന്നചിത്തന്റെ ബുദ്ധി ഉടനെ സുപ്രതിഷ്ഠിതമായിത്തീരുകയും ചെയ്യുന്നു. <EOS>\\n', 'ഇന്ദ്രിയങ്ങളെ വശത്താക്കാത്തവന് സമബുദ്ധിയില്ല. ഏകാഗ്രതയുമില്ല. ഏകാഗ്രതയില്ലാത്തവന്നു ശാന്തിയില്ല. ശന്തിയില്ലാത്തവന്നു എവിടെയാണ് സുഖം? <EOS>\\n', 'വിഷയങ്ങളില്\\u200d ചരിക്കുന്ന ഇന്ദ്രിയങ്ങള്\\u200dക്കു ഏതൊരാളുടെ മനസ്സു കീഴ്പ്പെടുന്നുവോ ആ മനസ്സു അവന്റെ ബുദ്ധിയെ കാറ്റ് വെള്ളത്തിലിറക്കിയ തോണിയെ എന്നപോലെ വലിച്ചുകൊണ്ടുപോകുന്നു. <EOS>\\n', 'അതുകൊണ്ട് യാതൊരുവന്റെ ഇന്ദ്രിയങ്ങള്\\u200d എല്ലാ വിഷയങ്ങളില്\\u200d നിന്നും നിശ്ശേഷം പിന്\\u200dവലിക്കപ്പെട്ടിരിക്കുന്നുവോ അവന്റെ പ്രജഞ പ്രതിഷ്ഠിതമായിരിക്കുന്നു. <EOS>\\n', 'യാതൊന്ന് സര്\\u200dവ്വപ്രാണികള്\\u200dക്കും രാത്രിയായിരിക്കുന്നുവോ, അവിടെ (ആ ബ്രഹ്മത്തില്\\u200d) ജിതേന്ദ്രിയന്\\u200d ഉണര്\\u200dന്നിരിക്കുന്നു. ഏതൊരു വിഷയാനുഭവത്തില്\\u200d സര്\\u200dവ്വപ്രാണികളും ഉണര്\\u200dന്നിരി ക്കുന്നുവോ അത് സത്യദ\\u200dര്\\u200dശിയായ മുനിക്ക്\\u200c രാത്രിയാകുന്നു. <EOS>\\n', 'സദാ നിറഞ്ഞുകൊണ്ടിരുന്നാലും സമുദ്രം അക്ഷോഭ്യമായിരി ക്കുന്നുവോ അതുപോലെ കാമങ്ങള്\\u200d കടന്നുകൂടിമ്പോള്\\u200d യാതൊരുവന്\\u200d അക്ഷോഭ്യനായിരിക്കുന്നുവോ അവന്\\u200d ശാന്തിയെ പ്രാപിക്കും. വിഷയാഭിനിവേശം വിടാത്തവന്\\u200d ശാന്തി നേടുന്നില്ല. <EOS>\\n', 'യാതൊരു പുരുഷന്\\u200d എല്ലാ കാമങ്ങളും വെടിഞ്ഞു ഒന്നിലും ആഗ്രഹമില്ലാത്തവനും മമതാബുദ്ധിയും അഹന്തയും ഇല്ലാത്തവനുമായി ലോകത്തില്\\u200d വര്\\u200dത്തിക്കുന്നുവോ അവന്\\u200d ശാന്തി പ്രാപിക്കുന്നു. <EOS>\\n', 'പാര്\\u200dത്ഥാ, ഇതാണ് ബ്രഹ്മനിഷ്ഠ, ഇതു കൈവരിച്ചാല്\\u200d സംസാരാസക്തി ഉണ്ടാവുന്നില്ല. അന്ത്യകാലത്തെങ്കിലും ഈ അവസ്ഥയില്\\u200d എത്തിയാല്\\u200d ബ്രഹ്മനിര്\\u200dവാണം സിദ്ധിക്കുകയും ചെയ്യും. <EOS>\\n', 'അര്\\u200dജുനന്\\u200d പറഞ്ഞു: ഹേ ജനാ\\u200dര്\\u200dദ്ദനാ, ക\\u200d\\u200d\\u200dര്\\u200dമ്മത്തെ അപേക്ഷിച്ച് കര്\\u200dമ്മയോഗമാണ് ശ്രേഷ്ടമെന്നു അങ്ങേയ്ക്ക് അഭിപ്രായമുണ്ടെങ്കില്\\u200d പിന്നെ എന്തിനാണ് ഘോരമായ ഈ ക\\u200d\\u200d\\u200dര്\\u200dമ്മത്തില്\\u200d എന്നെ നിയോഗിക്കുന്നത്? <EOS>\\n', 'പരസ്പരവിരുദ്ധമെന്ന് തോന്നുന്ന വാക്കുകള്\\u200d കൊണ്ട് എന്റെ ബുദ്ധിയെ അങ്ങ് ഭ്രമിപ്പിക്കുന്നതുപൊലെ തോന്നുന്നു. അതുകൊണ്ട് ഏതൊന്നുക്കൊണ്ടു ഞാന്\\u200d ശ്രേയസ്സ് നേടുമോ അതുമാത്രം എനിക്ക് ഉപദേശിച്ചു തരിക. <EOS>\\n', 'ശ്രീ ഭഗവാന്\\u200d പറഞ്ഞു: ഹേ അനഘ (പാപങ്ങളില്ലാത്തവന്\\u200d), ഈ ലോകത്തില്\\u200d സംഖ്യന്മാര്\\u200dക്ക് വേണ്ടി ജഞാനയോഗം കൊണ്ടും യോഗികള്\\u200dക്കു വേണ്ടി ക\\u200d\\u200d\\u200dര്\\u200dമ്മയോഗം കൊണ്ടും രണ്ടുവിധം നിഷ്ഠകള്\\u200d മുമ്പ് ഞാന്\\u200d പറഞ്ഞു. <EOS>\\n', 'ക\\u200d\\u200d\\u200dര്\\u200dമ്മങ്ങള്\\u200d ചെയ്യാതിരിക്കുന്നതുകൊണ്ടു മനുഷ്യന്\\u200d ഒരിക്കലും നൈഷ്കര്\\u200dമ്യത്തെ പ്രാപിക്കുന്നില്ല. കര്\\u200dമ്മസന്യാസം കൊണ്ടു മാത്രം സിദ്ധി ലഭിക്കുന്നുമില്ല. <EOS>\\n', 'ഒരാളും ഒരിക്കലും അല്പനേരത്തേക്കുപോലും പ്രവര്\\u200dത്തിക്കാതെ ഇരിക്കുന്നില്ല. എല്ലാവരും പ്രകൃതി ഗുണങ്ങളാല്\\u200d നിര്\\u200dബന്ധിതരായി ക\\u200d\\u200d\\u200dര്\\u200dമ്മം ചെയ്തുപോകുന്നു. <EOS>\\n', 'ക\\u200d\\u200d\\u200d\\u200dര്\\u200dമ്മേന്ദ്രിയങ്ങ\\u200dളെ അടക്കിനിര്\\u200dത്തി യാതൊരുവന്\\u200d വിഷയങ്ങളെ മനസ്സുകൊണ്ട് സദാ സ്മരിച്ചുകൊണ്ടിരിക്കുന്നുവോ മൂഡാത്മാവായ അവന്\\u200d മിഥ്യാചാരന്\\u200d എന്ന് പറയപ്പെടുന്നു <EOS>\\n', 'അര്\\u200dജുനാ, യാതൊരുവന്\\u200d ഇന്ദ്രിയങ്ങളെ മനസ്സുകൊണ്ട് അടക്കിനിര്\\u200dത്തിയിട്ടു ക\\u200d\\u200d\\u200d\\u200dര്\\u200dമ്മേന്ദ്രിയങ്ങളെക്കൊണ്ട് നിഷ്ക്കാമക\\u200d\\u200d\\u200dര്\\u200dമ്മ ആരംഭിക്കുന്നുവോ അവന്\\u200d ശ്രേഷ്ഠനാകുന്നു. <EOS>\\n', 'നീ മനസ്സിനാല്\\u200d നിയന്ത്രിതമായ ക\\u200d\\u200d\\u200dര്\\u200dമ്മം ചെയ്യുക. എന്തുകൊണ്ടെന്നാല്\\u200d ക\\u200d\\u200d\\u200dര്\\u200dമ്മമാണ് അകര്\\u200dമത്തെക്കാള്\\u200d ശ്രേഷ്ഠം. ക\\u200d\\u200d\\u200dര്\\u200dമ്മം ചെയ്യാത്ത പക്ഷം നിനക്കു ശരീരനിര്\\u200dവഹണം പോലും സാധ്യമാകയില്ല. <EOS>\\n', 'അര്\\u200dജുനാ, യജ്ഞത്തിനുള്ള ക\\u200d\\u200d\\u200dര്\\u200dമ്മം ഒഴിച്ച് മറ്റു ക\\u200d\\u200d\\u200dര്\\u200dമ്മങ്ങളാല്\\u200d ബന്ധിക്കപ്പെട്ടതാണ് ഈ ലോകം. സംഗരഹിതനായി നീ ക\\u200d\\u200d\\u200dര്\\u200dമ്മം ആചരിക്കുക. <EOS>\\n', 'യജ്ഞത്തോടുകൂടി പ്രജകളെ സൃഷ്ടിച്ച് പണ്ട് പ്രജാപതി പറഞ്ഞു, ഇതുകൊണ്ടു നിങ്ങള്\\u200d വ\\u200dര്\\u200dദ്ധിക്കുവി\\u200dന്\\u200d\\u200d; ഇതു നിങ്ങള്\\u200dക്ക് ഇഷ്ടം തരുന്ന കാമധേനുവായിരിക്കട്ടെ. <EOS>\\n', 'ദേവന്മാരെ ഇതുകൊണ്ടു ആരാധിക്കുവി\\u200dന്\\u200d. ആ ദേവന്മാര്\\u200d നിങ്ങളെ വ\\u200dര്\\u200dദ്ധിപ്പിക്കട്ടെ. പരസ്പരം തൃപ്തിപ്പെടുത്തി കൊണ്ടു പരമമായ ശ്രേയസ്സിനെ പ്രാപിക്കുവി\\u200dന്\\u200d. <EOS>\\n', 'എന്തെന്നാല്\\u200d ഇഷ്ടപ്പെടുന്ന സുഖങ്ങള്\\u200d നിങ്ങള്\\u200dക്ക് യജ്ഞംകൊണ്ടു സന്തുഷ്ടരായ ദേവന്മാര്\\u200d തരും. അവര്\\u200d തന്ന വസ്തുക്കളെ അവ\\u200c\\u200dര്\\u200dക്കു കൊടുക്കാതെ ഭുജിക്കുന്നവനാരോ അവന്\\u200d കള്ളന്\\u200dതന്നെയാണ്. <EOS>\\n', 'യജ്ഞത്തില്\\u200d ശേഷിക്കുന്നത് മാത്രം യജ്ഞം ചെയ്തു ശേഷിച്ചതായ വസ്തുക്കളെ നുഭവിക്കുന്ന സജ്ജനങ്ങള്\\u200d എല്ലാ പാപങ്ങളില്\\u200d നിന്നും മുക്തി നേടുന്നു. എന്നാ\\u200cല്\\u200dതങ്ങള്\\u200dക്കുവേണ്ടിത്തന്നെ ഭോഗസഞ്ചയം ചെയ്യുന്നവ\\u200dര്\\u200d പാപത്തെത്തന്നെ ഭുജിക്കുകയാണ്. <EOS>\\n', 'അന്നത്തില്\\u200dനിന്നു ഭൂതങ്ങള്\\u200d ഉണ്ടാകുന്നു. മഴയില്\\u200dനിന്നു അന്നവും ഉദ്ഭവിക്കുന്നു. യജ്ഞത്തില്\\u200d നിന്നു മഴയുണ്ടാകുന്നു. യജ്ഞം ക\\u200d\\u200d\\u200dര്\\u200dമ്മത്തില്\\u200dനിന്നുണ്ടാകുന്നു. <EOS>\\n', 'ക\\u200d\\u200d\\u200dര്\\u200dമ്മം ബ്രഹ്മ (വേദം) ത്തില്\\u200d നിന്നും ഉണ്ടാകുന്നു എന്നറിയുക. ബ്രഹ്മം (വേദം) അക്ഷരത്തില്\\u200d നിന്നുണ്ടാകുന്നു. അതുകൊണ്ടു സര്\\u200dവ്വപ്രകാശമായ വേദം എപ്പോഴും യജ്ഞത്താല്\\u200d പ്രതിഷ്ഠിതമായിരിക്കുന്നു. <EOS>\\n', 'ഹേ പാര്\\u200dത്ഥാ, ഇപ്രകാരം പ്രവത്തിക്കുന്ന ക\\u200d\\u200d\\u200dര്\\u200dമ്മചക്രത്തെ ഈ ലോകത്തില്\\u200d എവനൊരുവന്\\u200d അനുവര്\\u200dത്തിക്കുന്നില്ലയോ പാപിയും വിഷയഭ്രാന്തനുമായ അവന്റെ ജീവിതം നിഷ്ഫലമത്രേ <EOS>\\n', 'എന്നാല്\\u200d ഏതൊരു മനുഷ്യന്\\u200d തന്നില്\\u200d തന്നെ രമിക്കുന്നവനും തന്നില്\\u200d സംതൃപ്തനും സന്തുഷ്ടനുമായിരിക്കുന്നുവോ അവനു കരണീയമായി ഒന്നുമില്ല. <EOS>\\n', 'അവനു ഈ ലോകത്തില്\\u200d ക\\u200dര്\\u200dമ്മം ചെയ്തതു കൊണ്ടു കാര്യമില്ല തന്നെ. ചെയ്യാത്തതുകൊണ്ടും ഒന്നുമില്ല. ജീവികളില്\\u200d ഒന്നിനോടും അവന് സ്വപ്രയോജനകരമായ ബന്ധം ഒന്നും തന്നെയില്ല. <EOS>\\n', 'അതുകൊണ്ട് നിസ്സംഗനായി എപ്പോഴും കര്\\u200dത്തവ്യമായ ക\\u200d\\u200d\\u200dര്\\u200dമ്മം ചെയ്യുക. എന്തുകൊണ്ടെന്നാല്\\u200d നിസ്സംഗനായി ക\\u200d\\u200d\\u200dര്\\u200dമ്മംചെയ്യുന്നയാള്\\u200d പരമപദം പ്രാപിക്കുന്നു. <EOS>\\n', 'എന്തുകൊണ്ടെന്നാല്\\u200d ക\\u200d\\u200d\\u200dര്\\u200dമ്മം കൊണ്ടുതന്നെയാണ് ജനകാദികള്\\u200d സിദ്ധിയെ പ്രാപിച്ചത്. ലോകസംരക്ഷണത്തെ ഓര്\\u200dത്തിട്ടായാലും നീ പ്രവര്\\u200dത്തിക്കേണ്ടതാണ്. <EOS>\\n', 'ശ്രേഷ്ഠന്\\u200d എന്തെല്ല\\u200dാം ചെയ്യുന്നുവോ അതു തന്നെയാണ് മറ്റുള്ള ജനങ്ങളും ചെയ്യുന്നത്. അവന്\\u200d എന്തിനെ പ്രമാണമായി കരുതുന്നുവോ ലോകവും അതിനെതന്നെ അനുകരിക്കുന്നു. <EOS>\\n', 'ഹേ പാര്\\u200dത്ഥാ എനിക്ക് മൂന്നു ലോകത്തിലും കര്\\u200dത്തവ്യമായി ഒന്നുമില്ല. എനിക്കു പ്രാപിക്കേണ്ടതായി ഒന്നും തന്നെയില്ല. എന്നിട്ടും ഞാന്\\u200d ക\\u200dര്\\u200dമ്മം ചെയ്തുകൊണ്ടു തന്നെയാണിരിക്കുന്നത്. <EOS>\\n', 'പാര്\\u200dത്ഥാ, ഞാന്\\u200d ഒരിക്കലെങ്കിലും മടിവിട്ടു പ്രവൃത്തിയില്\\u200d ഏര്\\u200dപ്പെടാതിരുന്നാല്\\u200d എല്ലാ മനുഷ്യരും എന്റെ മാര്\\u200dഗം അവലംബിക്കും. <EOS>\\n', 'ഞാന്\\u200d കര്\\u200dമ്മം ചെയ്തില്ലെങ്കില്\\u200d ഈ ലോകം മുഴുവന്\\u200d നശിക്കും. ഞാന്\\u200d വര്\\u200dണസങ്കരത്തിന്റെയും കര്\\u200dത്താവാകും. പ്രജകള്\\u200d ദുഷിക്കുകയും ചെയ്യും. <EOS>\\n', 'ഹേ ഭാരതാ, അപണ്ഡിതന്മാര്\\u200d ക\\u200dര്\\u200dമ്മത്തില്\\u200d ആസക്തരായി എങ്ങിനെയെല്ല\\u200dാം പ്രവര്\\u200dത്തിക്കുന്നുവോ പണ്ഡിതന്\\u200d ലോകത്തിന്റെ നിലനില്\\u200dപ്പ്\\u200c ക\\u200dാംക്ഷിച്ചുകൊണ്ടു നിസ്സംഗനായി അതേവിധം പ്രവ\\u200dര്\\u200dത്തിക്കണം. <EOS>\\n', 'സകാമക\\u200dര്\\u200dമ്മത്തി\\u200cല്\\u200d ആസക്തരായ മൂഢജനങ്ങളുടെ ബുദ്ധിയെ വിദ്വാ\\u200dന്\\u200d ഒരിക്കലും ഇളക്കരുത്. വിദ്വാന്\\u200d എല്ലാ കര്\\u200dമങ്ങളും യോഗയുക്തനായി വഴിപോലെ ആചരിച്ച് മറ്റുള്ളവരെക്കൊണ്ടും ആചരിപ്പിക്കണം. <EOS>\\n', 'പ്രകൃതിജന്യമായ ഗുണങ്ങളാല്\\u200d ക\\u200dര്\\u200dമ്മങ്ങള്\\u200d എങ്ങും ചെയ്യപ്പെടുന്നു. അഹന്തയാല്\\u200d മോഹിതനായവാന്\\u200d താനാണ് കര്\\u200dത്താവെന്നു വിചാരിക്കുന്നു. <EOS>\\n', 'ഹേ മഹാബാഹോ, ഗുണകര്\\u200dമ്മവിഭാഗങ്ങളുടെ തത്വമറിയുന്ന വനാകട്ടെ ഗുണപരിണാമങ്ങളായ ഇന്ദ്രിയങ്ങള്\\u200d ഗുണപരിണാമങ്ങ ളായ വിഷയങ്ങളില്\\u200d പ്രവര്\\u200dത്തിക്കുന്നുവെന്ന് ധരിച്ചിട്ട് അവയില്\\u200d ആസക്തനാകുന്നില്ല. <EOS>\\n', 'പ്രകൃതിയുടെ ഗുണങ്ങളാല്\\u200d മൂഡചിത്തരായിത്തീരുന്നവര്\\u200d ഗുണക\\u200dര്\\u200dമ്മങ്ങളില്\\u200d സക്തരാകുന്നു. സര്\\u200dവജ്ഞരല്ലാത്ത ആ മന്ദബുദ്ധികളെ സര്\\u200dവജ്ഞന്\\u200d വഴി തെറ്റിക്കരുത്. <EOS>\\n', 'സര്\\u200dവക\\u200dര്\\u200dമ്മങ്ങളും എന്നില്\\u200d സമര്\\u200dപ്പിച്ചു ആധ്യാത്മിക ബുദ്ധിയോടെ നിഷ്കാമനും നി\\u200dര്\\u200dമ്മമനുമായി ഭവിച്ചിട്ടു ദുഃഖം കളഞ്ഞു നീ യുദ്ധം ചെയ്യുക. <EOS>\\n', 'എന്റെ ഈ അഭിപ്രായം നിത്യവും ശ്രദ്ധയോടും അസൂയ കൂടാതെയും യാതൊരു മനുഷ്യര്\\u200d അനുഷ്ഠിക്കുന്നുവോ അവരും ക\\u200dര്\\u200dമ്മബന്ധത്തില്\\u200dനിന്നും വിമുക്തരായിത്തീരുന്നു. <EOS>\\n', 'എന്നാല്\\u200d എന്റെ ഈ അഭിപ്രായത്തെ അസൂയാലുക്കളായി ഏവരാണോ അനുഷ്ഠിക്കാതിരിക്കുന്നത്, കേവലം അജ്ഞരായ അവര്\\u200d നശിച്ചവരും ബുദ്ധിഹീനരുമെന്നു മനസ്സിലാക്കുക. <EOS>\\n', 'അറിവുള്ളവന്\\u200d പോലും തന്റെ സ്വഭാവത്തിന്നു ചേര്\\u200dന്ന വിധത്തില്\\u200d പ്രവര്\\u200dത്തിക്കുന്നു. ജീവികള്\\u200d സ്വപ്രകൃതിയെ പിന്തുടരുന്നു. അതിനെ അടക്കി വെയ്ക്കുന്നതുകൊണ്ടു പ്രയോജനമൊന്നും ഉണ്ടാവില്ല. <EOS>\\n', 'ഓരോ ഇന്ദ്രിയത്തിന്റെയും അതതിന്റെ വിഷയങ്ങളുടെ കാര്യത്തില്\\u200d രാഗദ്വേഷങ്ങള്\\u200d നിശ്ചിതങ്ങളാണ്. അവയ്ക്ക് വശപ്പെടരുത്. എന്തുകൊണ്ടെന്നാല്\\u200d അവ ഇവന്റെ ശത്രുക്കളാകുന്നു. <EOS>\\n', 'വിധിപ്രകാരം അനുഷ്ഠിച്ച പരധ\\u200dര്\\u200dമ്മത്തെക്കളും ഗുണഹീനമായ സ്വധ\\u200dര്\\u200dമ്മമാണ് ശ്രേയസ്ക്കരം. സ്വധ\\u200dര്\\u200dമ്മാനുഷ്ഠാനത്തില്\\u200d സംഭവിക്കുന്ന മരണവും ശ്രേയസ്ക്കരമാണ്. പരധ\\u200dര്\\u200dമ്മം ഭയാവഹമാകുന്നു. <EOS>\\n', 'അര്\\u200dജുനന്\\u200d ചോദിച്ചു: ഹേ കൃഷ്ണാ, പിന്നെ ആര്\\u200d പ്രേരിപ്പിചിട്ടാണ് ഈ പുരുഷന്\\u200d താ\\u200dന്\\u200d ഇച്ഛിക്കാതെയിരുന്നിട്ടും ബലമായ ഏതോ ശക്തിയാല്\\u200d നിയുക്തനെന്നപോലെ പാപകര്\\u200dമ്മങ്ങ\\u200dള്\\u200d അനുഷ്ഠിക്കുന്നത്. <EOS>\\n', 'ശ്രീ ഭഗവാന്\\u200d പാഞ്ഞു: രജോഗുണത്തില്\\u200d നിന്നു ജനിച്ച ഈ കാമം, ഈ ക്രോധം തൃപ്തിപ്പെടുത്താന്\\u200d കഴിയാത്തതും മഹാപാപകാരണ വുമാണ് ഇക്കാര്യത്തില്\\u200d ഇതിനെ ശത്രുവായി അറിയുക. <EOS>\\n', 'പുകയാല്\\u200d അഗ്നിയും, മാലിന്യത്താല്\\u200d കണ്ണാടിയും, ഗര്\\u200dഭപാത്രത്താല്\\u200d ഗര്\\u200dഭവും എങ്ങിനെ ആവരണം ചെയ്യപ്പെട്ടിരിക്കുന്നുവോ അതുപോലെ ആ കാമത്താല്\\u200d ഈ ജ്ഞാനം ആവൃതമായിരിക്കുന്നു. <EOS>\\n', 'ഹേ കൌന്തേയ, ജ്ഞാനിയുടെ നിത്യവൈരിയും കാമരൂപവും അതൃപ്തവും ഒരിക്കലും തൃപ്തിപ്പെടാത്ത അഗ്നിക്ക് തുല്യവും ആയ ഈ കാമത്താല്\\u200d ജ്ഞാനം ആവൃതമാകുന്നു. <EOS>\\n', 'ഇന്ദ്രിയങ്ങളും മനസും ബുദ്ധിയും ഈ കാമത്തിന്റെ ഇരിപ്പിടമായി പറയപ്പെടുന്നു. കാമം ജ്ഞാനത്തെ മറച്ചിട്ടു ഇവയെക്കൊണ്ടു ദേഹിയെ വ്യാമോഹിപ്പിക്കുന്നു. <EOS>\\n', 'ഹേ ഭാരതശ്രെഷ്ടാ, അതുകൊണ്ട് നീ ആദ്യം ഇന്ദ്രിയങ്ങളെ നിയന്ത്രിച്ചിട്ട് ജ്ഞാനത്തെയും വിജ്ഞാനത്തെയും നശിപ്പിക്കുന്ന ഈ പാപരൂപമായ കാമത്തെ നിഃശേഷം നശിപ്പിക്കുക. <EOS>\\n', 'വിഷയങ്ങളെ അപേക്ഷിച്ച് ഇന്ദ്രിയങ്ങള്\\u200d സൂക്ഷ്മങ്ങളാണ് എന്ന് പറയപ്പെടുന്നു. ഇന്ദ്രിയങ്ങളെക്കാള്\\u200d സൂക്ഷ്മമാണ് മനസ്സ്. മനസ്സിനെക്കാളും സൂക്ഷ്മമാണ്\\u200c ബുദ്ധി. ബുദ്ധിയെക്കാളും സൂക്ഷ്മമായത് ആത്മാവാണ്. <EOS>\\n', 'മഹാബാഹോ, ഇപ്രകാരം ബുദ്ധിയേക്കാള്\\u200d സൂക്ഷ്മമായ ആത്മാവിനെ അറിഞ്ഞിട്ട് ബുദ്ധികൊണ്ട് മനസ്സിനെ അടക്കിയിട്ട് കീഴടക്കാന്\\u200d എളുപ്പമല്ലാത്ത കാമരൂപനും ദുര്\\u200dജയനുമായ ഈ ശത്രുവിനെ നശിപ്പിക്കുക. <EOS>\\n', 'ശ്രീ ഭഗവാന്\\u200d പറഞ്ഞു: അവ്യയമായ ഈ യോഗത്തെ ഞാന്\\u200d ആദിത്യന് ഉപദേശിച്ചു. ആദിത്യന്\\u200d മനുവിനും ഉപദേശിച്ചുകൊടുത്തു. മനു ഇക്ഷ്വാകുവിനും ഉപദേശിച്ചു. <EOS>\\n', 'ശത്രുനാശകാ, ഇപ്രകാരം പരമ്പാരാഗതമായ ഈ യോഗത്തെ രാജ\\u200dര്\\u200dഷികള്\\u200d അറിഞ്ഞിരുന്നു. ആ മഹത്തായ ശാസ്ത്രം വലുതായ കാലദൈര്\\u200dഘ്യത്തില്\\u200d നഷ്ടപ്പെട്ടുപോയി. <EOS>\\n', 'അപ്രകാരമുള്ള ആ പുരാതനമായ യോഗം തന്നെയാണ് നീ എന്റെ ഭക്തനും, തോഴനുമായതു കൊണ്ട് നിനക്കു ഞാന്\\u200d ഇന്നു ഉപദേശിച്ചത്. ഈ യോഗം ഉത്തമമായ രഹസ്യമാണ്. <EOS>\\n', 'അര്\\u200dജുനന്\\u200d ചോദിച്ചു: ആദിത്യന്റെ ജന്മം മുന്\\u200dപും അങ്ങയുടെ ജന്മം പിന്\\u200dപുമാണല്ലോ. അങ്ങിനെയിരിക്കെ, ആദ്യം അങ്ങാണ് ഇതു പറഞ്ഞതെന്ന് എങ്ങിനെ ഞാന്\\u200d മനസ്സിലാക്കും? <EOS>\\n', 'ശ്രീ ഭഗവാന്\\u200d പറഞ്ഞു: അര്\\u200dജുനാ, എന്റെ വളരെയേറെ ജന്മങ്ങള്\\u200d കഴിഞ്ഞു പോയി. നിനക്കും അങ്ങനെ തന്നെ. അവയെല്ല\\u200dാം എനിക്കറിയ\\u200dാം. നീ അറിയുന്നില്ല. <EOS>\\n', 'ഞാന്\\u200d ജനനമില്ലാത്തവനും നാശമില്ലാത്തവനും സര്\\u200dവ്വഭൂതങ്ങളുടെ ഈശ്വരനുമാണ് എങ്കിലും സ്വന്തം പ്രകൃതിയെ അധിഷ്ടാനമാക്കി സ്വന്തം മായയാല്\\u200d ഞാന്\\u200d സൃഷ്ടിച്ചുകൊണ്ടിരിക്കുന്നു. <EOS>\\n', 'ഹേ ഭാരതാ, എപ്പോഴെല്ല\\u200dാം ധ\\u200dര്\\u200dമ്മത്തിനു തളര്\\u200dച്ചയും അധ\\u200dര്\\u200dമ്മത്തിനു ഉയര്\\u200dച്ചയും സംഭവിക്കുന്നുവോ അപ്പോഴെല്ല\\u200dാം ഞാന്\\u200d സ്വയം അവതരിക്കുന്നു. <EOS>\\n', 'സജ്ജനങ്ങളുടെ സംരക്ഷണത്തിനും ദുഷ്ടന്മാരുടെ സംഹാരത്തിനും ധ\\u200dര്\\u200dമ്മം നിലനിര്\\u200dത്തുന്നതിനും വേണ്ടി യുഗം തോറും ഞാന്\\u200d അവതരിക്കുന്നു. <EOS>\\n', 'ഇങ്ങിനെയുള്ള എന്റെ ദിവ്യമായ ജന്മവും ക\\u200dര്\\u200dമ്മവും യാതൊരുവന്\\u200d അറിയുന്നുവോ അവന്\\u200d ശരീരം വിട്ടാല്\\u200d പുനര്\\u200dജന്മം പ്രാപിക്കുന്നില്ല. ഹേ അര്\\u200dജുനാ, അവന്\\u200d എന്നെത്തന്നെ പ്രാപിക്കുന്നു. <EOS>\\n', 'രാഗം, ഭയം, കോപം ഇവ കൈവിട്ടവരും എന്റെ ഭക്തന്മാരും എന്നെ ആശ്രയിച്ചവരുമായ വളരെപ്പേര്\\u200d ജ്ഞാനമാകുന്ന തപസുകൊണ്ടു പരിശുദ്ധരായിത്തീര്\\u200dന്നു എന്നെ പ്രാപിച്ചിട്ടുണ്ട്. <EOS>\\n', 'എവര്\\u200d എങ്ങിനെ എന്നെ ഭജിക്കുന്നുവോ അവരെ അതേവിധം തന്നെ ഞാന്\\u200d അനുഗ്രഹിക്കുന്നു. ഹേ പാര്\\u200dത്ഥ, എങ്ങും മനുഷ്യര്\\u200d എന്റെ മാര്\\u200dഗത്തെ പിന്തുടരുന്നു. <EOS>\\n', 'ക\\u200dര്\\u200dമ്മങ്ങളുടെ സിദ്ധി ക\\u200dാംക്ഷിക്കുന്നവര്\\u200d ഇവിടെ ദേവന്മാരെ പൂജിക്കുന്നു. എന്തുകൊണ്ടെന്നാല്\\u200d മനുഷ്യലോകത്തില്\\u200d ക\\u200dര്\\u200dമ്മഫലം വേഗത്തില്\\u200d സിദ്ധിക്കുന്നു. <EOS>\\n', 'ഗുണങ്ങളുടെയും ക\\u200dര്\\u200dമ്മങ്ങളുടെയും വിഭാഗമനുസരിച്ചു ചാതുര്\\u200dവര്\\u200dണ്യം ഞാന്\\u200d സൃഷ്ടിച്ചിരിക്കുന്നു. നിഷ്ക്രിയനും അനശ്വരനുമായ എന്നെത്തന്നെ അതിന്റെയും ചാതുര്\\u200dവര്\\u200dണ്യത്തിന്റെയും സൃഷ്ടാവായി അറിയുക. <EOS>\\n', 'എന്നെ ക\\u200dര്\\u200dമ്മം ബാധിക്കുന്നില്ല. എനിക്ക് ക\\u200dര്\\u200dമ്മഫലത്തില്\\u200d ആഗ്രഹമില്ല. ഈ വിധം എന്നെ എവ\\u200dന്\\u200d അറിയുന്നുവോ അവന്\\u200d ക\\u200dര്\\u200dമ്മങ്ങളാല്\\u200d ബന്ധനാകുന്നില്ല. <EOS>\\n', 'ഈ തത്വത്തെ അറിയുന്നവരായ പൂര്\\u200dവ്വികരായ മുമുക്ഷുക്കള്\\u200dക്കൂടി, നിഷ്കാമ ബുദ്ധിയോടുകൂടി ക\\u200dര്\\u200dമ്മം അനുഷ്ഠിച്ചു. അതുകൊണ്ട് പൂര്\\u200dവ്വികന്മാര്\\u200d പണ്ടു ചെയ്തതുപോലെ നീയും ക\\u200dര്\\u200dമ്മം ചെയ്യുക തന്നെ വേണം. <EOS>\\n', 'ക\\u200cര്\\u200dമ്മമെന്ത് അക\\u200dര്\\u200dമ്മമെന്ത് എന്ന കാര്യത്തില്\\u200d ക്രാന്തദര്\\u200dശികള്\\u200d പോലും ഭ്രമമുള്ളവരാണ്. യാതോന്നറിഞ്ഞാല്\\u200d നീ പാപത്തില്\\u200d നിന്നു മുക്തനാകുമോ ആ ക\\u200dര്\\u200dമ്മത്തെ നിനക്കു ഞാന്\\u200d പറഞ്ഞു തര\\u200dാം. <EOS>\\n', 'ക\\u200dര്\\u200dമ്മത്തിന്റെ സ്വരൂപം അറിയേണ്ടതുണ്ട്. വിക\\u200dര്\\u200dമ്മത്തിന്റെ സ്വരൂപവും അകര്\\u200dമത്തിന്റെ സ്വരൂപവും അറിയെണ്ടതുണ്ട്. എന്ത് കൊണ്ടെന്നാല്\\u200d ക\\u200dര്\\u200dമ്മത്തിന്റെ ഗതി (പോക്ക്) അറിയാന്\\u200d വളരെ വിഷമമുള്ളതാണ്. <EOS>\\n', 'ക\\u200dര്\\u200dമ്മത്തില്\\u200d അക\\u200dര്\\u200dമ്മവും അക\\u200dര്\\u200dമ്മത്തില്\\u200d ക\\u200dര്\\u200dമ്മവും യാതൊരുവ\\u200dന്\\u200d കാണുന്നുവോ അവനാണ് മനുഷ്യരില്\\u200d വച്ചു ബുദ്ധിമാ\\u200dന്\\u200d. അവനാണ് യോഗിയും എല്ലാ ക\\u200cര്\\u200dമ്മങ്ങളും അനുഷ്ഠിക്കുന്നവനും. <EOS>\\n', 'ഏതൊരുവന്റെ സര്\\u200dവകര്\\u200dമ്മങ്ങളും ഫലേച്ഛ വിട്ടതാണോ, ജ്ഞാനാഗ്നിയില്\\u200d ക\\u200dര്\\u200dമ്മം ദഹിച്ചുപോയ അവനെ വിദ്വാന്\\u200dമാര്\\u200d പാണ്ഡിതനെന്ന് വിളിക്കുന്നു. <EOS>\\n', 'ക\\u200dര്\\u200dമ്മഫലത്തിലുള്ള ആസക്തിവെടിഞ്ഞ് നിത്യതൃപ്തനായി ഒന്നിനെയും ആശ്രയിക്കാതിരിക്കുന്നവന്\\u200d ക\\u200dര്\\u200dമ്മത്തില്\\u200d ഏ\\u200dര്\\u200dപ്പെട്ടിരുന്നാലും അവന്\\u200d ഒന്നും ചെയ്യുന്നില്ലതന്നെ. <EOS>\\n', 'അഭിലാഷങ്ങളില്ലാതെ മനോനിയന്ത്രണത്തോടെ എല്ലാ ബന്ധങ്ങളും നിശ്ശേഷം കൈവിട്ടു ശരീരം കൊണ്ടു മാത്രമുള്ള പ്രവൃത്തി ചെയ്യുന്നവനെ പാപം ബാധിക്കുന്നില്ല. <EOS>\\n', 'യാദൃച്ഛയാ ലഭിക്കുന്നതുകൊണ്ട് സന്തുഷ്ടനും സുഖദുഃഖാദി ദ്വന്ദ്വങ്ങളെ അതിജീവിച്ചവനും നി\\u200d\\u200d\\u200d\\u200dര്\\u200dമ്മത്സരനും ജയപരാജയങ്ങളില്\\u200d സമചിത്തനും ആയവന്\\u200d കര്\\u200dമ്മം ചെയ്താലും ബദ്ധനാകുന്നില്ല. <EOS>\\n', 'സംഗരഹിതനും മുക്തനും ജ്ഞാനനിഷ്ടനും യജ്ഞത്തിനായി ക\\u200dര്\\u200dമ്മം അനുഷ്ഠിക്കുന്നവനുമായ അവന്റെ എല്ലാ ക\\u200dര്\\u200dമ്മവും നശിച്ചു പോകുന്നു. <EOS>\\n', 'അര്\\u200dപ്പണം ബ്രഹ്മം, ഹവിസ്സ് (ഹവനദ്രവ്യങ്ങ\\u200dള്\\u200d) ബ്രഹ്മം, ബ്രഹ്മമാകുന്ന അഗ്നിയില്\\u200d ബ്രഹ്മത്താല്\\u200d ഹോമിക്കപ്പെടുന്നു. ഇങ്ങിനെ സകല ക\\u200dര്\\u200dമ്മങ്ങളിലും ബ്രഹ്മബുദ്ധിയുളവായവനു ബ്രഹ്മം തന്നെ പ്രാപ്യമായിത്തീരുന്നു. <EOS>\\n', 'വേറെചില യോഗികള്\\u200d ദേവന്മാരെയുദ്ദേശിച്ചുള്ള യജ്ഞമനുഷ്ടിക്കുന്നു. മറ്റുചിലര്\\u200d ബ്രഹ്മാഗ്നിയില്\\u200d ആത്മാവുകൊണ്ടു ആത്മാവിനെ സമര്\\u200dപ്പിക്കുന്നു. <EOS>\\n', 'വേറെ ചിലര്\\u200d ശ്രോത്രാദികളായ ഇന്ദ്രിയങ്ങളെ സംയമരൂപമായ അഗ്നിയില്\\u200d ഹോമിക്കുന്നു. മറ്റു ചിലര്\\u200d ശബ്ദാദി വിഷയങ്ങളെ ഇന്ദ്രിയരൂപമായ അഗ്നിയില്\\u200d ഹോമിക്കുന്നു. <EOS>\\n', 'വേറെ ചിലര്\\u200d എല്ലാ ഇന്ദ്രിയകര്\\u200dമങ്ങളെയും പ്രാണക\\u200dര്\\u200dമ്മങ്ങളെയും ജ്ഞാനദീപിതമായ ആത്മസംയമയോഗാഗ്നിയില്\\u200d ഹോമിക്കുന്നു. <EOS>\\n', 'അപ്രകാരം ദ്രവ്യംകൊണ്ടു യജ്ഞം ചെയ്യുന്നവരും തപസ്സിനെ യജ്ഞമായി കരുതുന്നവരും യോഗത്തെ യജ്ഞമാക്കിയവരും വേദാധ്യായനത്തെയും ജ്ഞാനാര്\\u200dജ്ജനത്തെയും യജ്ഞമായി അനുഷ്ഠിക്കുന്നവരുമായ ദൃഢവൃതരായ മറ്റു യതികളുമുണ്ട്. <EOS>\\n', 'അങ്ങിനെ മറ്റു ചിലര്\\u200d പ്രാണായാമ തല്\\u200dപരരായി ദേഹത്തിലുള്ള വായുവിന്റെ ഉര്\\u200dധ്വമുഖവും അധോമുഖവുമായ ചലനത്തെ തടഞ്ഞിട്ട് അപാനനില്\\u200d പ്രാണനെയും പ്രാണനില്\\u200d അപാനനെയും ഹോമിക്കുന്നു. <EOS>\\n', 'മറ്റു ചിലര്\\u200d ആഹാരത്തെ നിയന്ത്രിച്ചു പ്രാണങ്ങളെ പ്രാണങ്ങളില്\\u200d തന്നെ ഹോമിക്കുന്നു. ഇവരെല്ലാവരും യജ്ഞതത്വമറിഞ്ഞവരും യജ്ഞംകൊണ്ടു പാപമകന്നവരുമാകുന്നു. <EOS>\\n', 'യജ്ഞശിഷ്ടമായ അമൃതം ഭുജിക്കുന്നവര്\\u200d പരബ്രഹ്മത്തെ പ്രാപിക്കുന്നു. യജ്ഞം ചെയ്യാത്തവന്ന് ഈ ലോകം തന്നെയില്ല. ഹേ കുരുശ്രേഷ്ടാ, പിന്നെയാണോ പരലോകം? <EOS>\\n', 'ഇങ്ങിനെ പലതരം യജ്ഞങ്ങള്\\u200d ബ്രഹ്മാവിനാല്\\u200d വിവരിക്കപ്പെട്ടി ട്ടുണ്ട്. അവയെല്ല\\u200dാം ക\\u200dര്\\u200dമ്മത്തില്\\u200d നിന്നുഉളവാകുന്നവയാണ് എന്ന് അറയുക. അതെല്ല\\u200dാം ഇങ്ങിനെ മനസ്സിലാക്കുമ്പോള്\\u200d നീ മുക്തനായിത്തീരും. <EOS>\\n', 'ഹേ ശത്രുനാശകാ, ദ്രവ്യമയമായ യജ്ഞത്തെക്കാളും ജ്ഞാനയജ്ഞമാണ് ശ്രേഷ്ടം. ഹേ പാര്\\u200dത്ഥാ, എല്ലാ ക\\u200dര്\\u200dമ്മങ്ങളും പൂര്\\u200dണമായി ജ്ഞാനത്തില്\\u200d പര്യവസാനിക്കുന്നു. <EOS>\\n', 'സത്യം കണ്ടറിഞ്ഞ ജ്ഞാനികള്\\u200d നിനക്കു ജ്ഞാനം ഉപദേശിച്ചു തരും. അത് നീ നമസ്ക്കാരം കൊണ്ടും ചോദ്യം കൊണ്ടും സേവകൊണ്ടും ഗ്രഹിക്കുക. <EOS>\\n', 'ഹേ പാ\\u200dണ്ഡവാ, അതറിഞ്ഞാല്\\u200d പിന്നെയിങ്ങനെ ഭ്രമം നിനക്കുണ്ടാവില്ല. ഇതു മൂലം ഭൂതങ്ങളെയെല്ല\\u200dാം തന്നിലും പിന്നെ എന്നിലും നീ കാണും. <EOS>\\n', 'നീ എല്ലാ പാപികളിലും വെച്ച് ഏറ്റവും വലിയ മഹാപാപിയാണെങ്കില്\\u200dപ്പോലും ജ്ഞാനമാകുന്ന തോണികൊണ്ടു എല്ലാ പാപസമുദ്രങ്ങളെയും നീ കടക്കുക തന്നെ ചെയ്യും. <EOS>\\n', 'അര്\\u200dജുനാ, കത്തിയെരിയുന്ന അഗ്നി എങ്ങിനെയാണോ എല്ലാ വിറകിനെയും ഭസ്മമാക്കുന്നത് അതുപോലെ ജ്ഞാനാഗ്നി എല്ലാ ക\\u200dര്\\u200dമ്മങ്ങളെയും നശിപ്പിക്കും. <EOS>\\n', 'ഈ ലോകത്തില്\\u200d ജ്ഞാനം പോലെ പവിത്രമായി ഒന്നും തന്നെയില്ല തന്നെ. യോഗം കൊണ്ടു സിദ്ധനായവാന് ഈ ജ്ഞാനം കാലക്രമത്തില്\\u200d തനിയെ നേടുന്നു. <EOS>\\n', 'ജ്ഞാനത്തില്\\u200d തന്നെ മനസ്സൂന്നിയവനും ജിതേന്ദ്രിയനും ശ്രദ്ധയുള്ളവനുമായ ആള്\\u200d ജ്ഞാനം നേടുന്നു. ജ്ഞാനം നേടിയാല്\\u200d പരമമായ ശാന്തിയെ ഉടന്\\u200d പ്രാപിക്കുന്നു. <EOS>\\n', 'ആജ്ഞനും ശ്രദ്ധയില്ലാത്തവനും സംശയം തീരാത്തവനും നശിക്കുന്നു. സംശയിക്കുന്നവന് ഈ ലോകവും, പരലോകവും സുഖവും ഇല്ല. <EOS>\\n', 'ധനഞജയാ, യോഗത്താല്\\u200d കര്\\u200dമ്മങ്ങള്\\u200d ഉപേക്ഷിച്ചവനും ജ്ഞാനംകൊണ്ടു സംശയങ്ങള്\\u200d നിഃശേഷം തീര്\\u200dന്നവനും ആത്മനിഷ്ഠനുമായവനെ കര്\\u200dമ്മങ്ങള്\\u200d ഒരുവിധത്തിലും ബന്ധിക്കുന്നില്ല. <EOS>\\n', 'ഹേ ഭാരതാ, അതുകൊണ്ട് അജ്ഞാനം കൊണ്ടു ഉണ്ടായതും മനസിലുള്ളതുമായ നിന്റെ ഈ സംശയത്തെ ജ്ഞാനമാകുന്ന വാളുകൊണ്ടു ഛേദിച്ചിട്ടു യോഗത്തെ അനുഷ്ഠിക്കുക, ഏഴുന്നേല്\\u200dക്കുക. <EOS>\\n', 'അർജുനൻ പറഞ്ഞു: ഹേ കൃഷ്ണാ, സന്യാസവും പിന്നെ കർമ്മയോഗവും അങ്ങ് ഉപദേശിക്കുന്നു. ഈ രണ്ടിൽ ഏതാണ് ശ്രേയസ്കരം എന്നത് നിശ്ചിതമായി എനിക്ക് പറഞ്ഞു തരിക. <EOS>\\n', 'ശ്രീ ഭഗവാൻ പറഞ്ഞു: സന്യാസവും കർമയോഗവും രണ്ടും മുക്തിപ്രദമാണ്. എന്നാൽ ആ രണ്ടിൽ കർമ്മസന്യാസത്തെ അപേക്ഷിച്ച് കർമ്മ യോഗമാണ് ശ്രേഷ്ഠം. <EOS>\\n', 'മഹാബാഹോ ഏതൊരുവൻ േദഷിക്കുകയും കാംക്ഷിക്കുകയും ചെയ്യുന്നില്ലയോ അവൻ നിത്യസന്യാസി എന്നറിയുക. എന്തുകൊണ്ടെന്നാല് ദ്വന്ദ്വാതീതൻ ബന്ധത്തിൽ നിന്ന് നിഷ്പ്രയാസം മുക്തനാകുന്നു. <EOS>\\n', 'സാംഖ്യവും യോഗവും വെവ്വേറെയായി അജ്ഞന്മാർ പറയുന്നു. പണ്ഡിതൻമാര് അങ്ങനെ പറയുന്നില്ല. ഒന്നെങ്കിലും വേണ്ടവിധം അനുഷ്ഠിക്കുന്ന പക്ഷം രണ്ടിന്റെയും ഫലം ലഭിക്കും. <EOS>\\n', 'ഏത് സ്ഥാനം സാംഖ്യന്മാർ നേടുമോ അത് യോഗികളും നേടും. സാംഖ്യവും യോഗവും ഒന്നുതന്നെയെന്ന് കാണുന്നവനത്രെ സത്യത്തെ കാണുന്നവൻ ! <EOS>\\n', 'ഹേ മഹാബാഹോ: എന്നാൽ സന്യാസം യോഗം കൂടാതെ പ്രാപിക്കാൻ പ്രയാസമാണ്. യോഗനിഷ്ഠനായ മുനി വേഗത്തിൽ ബ്രഹ്മത്തെ പ്രാപിക്കുന്നു. <EOS>\\n', 'യോഗയുക്തനും പരിശുദ്ധാത്മാവും മനോജയം നേടിയവനും ജിതേന്ദ്രിയനും സർവഭൂതങ്ങളെയും ആത്മതുല്യനായി കാണുന്നവനും ആയവൻ കർമ്മം ചെയ്യുന്നെങ്കിലും ബദ്ധനായിത്തീരുന്നില്ല. <EOS>\\n', 'ദിവ്യാവബോധമുള്ള വ്യക്തി ദർശനം, ശ്രവണം, സ്പർശനം, ഘ്രാണം, അശനം, ഗമനം, നിദ്ര, ശ്വാസോച്ഛ്വാസം തുടങ്ങി എന്തുതന്നെ ചെയ്യുമ്പോഴും വാസ്തവത്തിൽ ഒന്നും ചെയ്യുന്നില്ലെന്ന് അയാൾക്ക് അറിയാം.  <EOS>\\n', 'കാരണം, സംസാരിക്കുമ്പോഴും വിസർജ്ജിക്കുമ്പോഴും സ്വീകരിക്കുമ്പോഴും കണ്ണ് തുറക്കുമ്പോഴും അടയ്ക്കുമ്പോഴും എല്ലാം ഭൗതികമായ ഇന്ദ്രിയങ്ങൾ അവയുടെ വിഷയങ്ങളിൽ വ്യാപരിക്കുക യാണ് ചെയ്യുന്നതെന്നും അയാൾ അവയിൽ നിന്നെല്ലാം വ്യത്യസ്തനാ ണെന്നും സ്വയം മനസ്സിലാക്കുന്നു. <EOS>\\n', 'യാതൊരുവൻ ആസക്തി കൈവിട്ടു ബ്രഹ്മത്തിൽ സമർപ്പിച്ച് കർമ്മം അനുഷ്ഠിക്കുന്നുവോ അവൻ വെള്ളത്താൽ നനക്കാൻ പറ്റാത്ത താമരയിലയെ പോലെ പാപത്താല് മലിനമാക്കപ്പെടുന്നില്ല. <EOS>\\n', 'ശരീരംകൊണ്ടും മനസ്സുകൊണ്ടും ബുദ്ധികൊണ്ടും ഇന്ദ്രിയങ്ങൾ മാത്രം കൊണ്ടും ആത്മാശുദ്ധിക്ക് വേണ്ടി യോഗികൾ നിസ്സംഗരായി കർമ്മങ്ങള് അനുഷ്ഠിക്കുന്നു. <EOS>\\n', 'യോഗയുക്തൻ കർമ്മഫലം ഉപേക്ഷിച്ചു ദൃഡപ്രതിഷ്ഠമായ ശാന്തി കൈവരിക്കുന്നു. യുക്തനല്ലാത്തവൻ കാമം മൂലം ഫലത്തിൽ ആസക്തനായി ബദ്ധനായിത്തീരുന്നു. <EOS>\\n', 'സർവ കർമ്മങ്ങളും മനസ്സ് കൊണ്ടു ഉപേക്ഷിച്ച് ഇന്ദ്രിയ മനോജയം നേടിയ ദേ ഹധാരിയായ ജീവാത്മാവ് പ്രവർത്തിക്കാതെയും പ്രവർത്തിപ്പിക്കാതെയും ഒൻപതു വാതിലുള്ള പുരത്തില് (ശരീരത്തിൽ) സുഖമായി വസിക്കുന്നു. <EOS>\\n', 'ഈശ്വരൻ പ്രാണികൾക്ക് കർമ്മങ്ങളെയോ, അവയുടെ കർത്തൃത്വത്തെയോ സൃഷ്ടിക്കുന്നില്ല. അവരെ കർമ്മഫലത്തോടു സംയോജിപ്പിക്കുന്നുമില്ല. സ്വഭാവമാണ് പ്രവർത്തിക്കുന്നത്. <EOS>\\n', 'ഈശ്വരൻ ആരുടേയും പാപവും സുകൃതവും സ്വീകരിക്കുന്നില്ല. ജ്ഞാനം അജ്ഞാനത്താൽ മറയ്ക്കപ്പെട്ടിരിക്കുന്നതുകൊണ്ട് ജീവികൾ മോഹത്തിലാണ്ടുപോകുന്നു. <EOS>\\n', 'എന്നാൽ ആരുടെ ഈ അജ്ഞാനം ആത്മജ്ഞാനത്താൽ നശിപ്പിക്കപ്പെട്ടിരിക്കുന്നുവോ അവർക്ക് ആദിത്യൻ വസ്തുക്കളെയെന്ന പോലെ ജ്ഞാനം പരമമായ ബ്രഹ്മത്തെ പ്രകാശിപ്പിക്കുന്നു. <EOS>\\n', 'ബ്രഹ്മത്തിൽ മനസ്സുന്നിയവരും ബ്രഹ്മതാദാത്മ്യം ബ്രഹ്മനിഷ്ഠരും ബ്രഹ്മത്തെക്കുറിച്ചല്ലാതെ മറ്റൊരു ചിന്തയില്ലാത്തവരു മായവർ ജ്ഞാനത്താല് പാപമകന്നു മോക്ഷപദത്തെ പ്രാപിക്കുന്നു. <EOS>\\n', 'വിദ്യാഭ്യാസവും വിനയവുമുള്ള ബ്രാഹ്മണനിലും, പശുവിലും, ആനയിലും, നായയിലും, ചണ്ഡാളനിലും ബ്രഹ്മജ്ഞാനികൾ സമദൃഷ്ടികളാകുന്നു. <EOS>\\n', 'ആരുടെ മനസ്സാണോ സമഭാവനയിൽ പ്രതിഷ്ഠിതമായിരിക്കുന്നത് ഇവിടെ വച്ചു തന്നെ അവർ സംസാരത്ത ജയിച്ചിരിക്കുന്നു. എന്തുകൊണ്ടെന്നാൽ ബ്രഹ്മം നിർദ്ദോഷവും സമവുമാകുന്നു. അതുകൊണ്ടു അവർ ബ്രഹ്മത്തിൽ സ്ഥിതിചെയ്യുന്നവരത്രേ. <EOS>\\n', 'പ്രിയം നേടി സന്തോഷിക്കുകയും, അപ്രിയം വന്നുചേർന്നാൽ ദുഖിക്കുകയും ചെയ്യാത്തവനും, സ്ഥിരബുദ്ധിയും, മോഹമില്ലാത്തവനും ആയവൻ ബ്രഹ്മജ്ഞനും ബ്രഹ്മത്തിൽ തന്നെ വർത്തിക്കുന്നവനുമാണ്. <EOS>\\n', 'ബാഹ്യവിഷയങ്ങളിൽ അനാസക്തനായവന് ആത്മാവിൽ ഏതു സുഖം അനുഭവിക്കുന്നുവോ അത് ബ്രഹ്മത്തിൽ യോഗയുക്താത്മാവായിട്ടുള്ളവൻ എന്നും അനുഭവിക്കുന്നു. <EOS>\\n', 'ഹേ കൌന്തേയാ, ഏതു വിഷയസുഖങ്ങളാണോ ഇന്ദ്രിയങ്ങളുടെ വിഷയസമ്പർക്കം കൊണ്ടു ഉണ്ടാകുന്നത് അത് ദുഃഖപ്രദം തന്നെ. അവ ആദിയും അന്തവും ഉള്ളവയുമാണ്. വിദ്വാൻ അവയിൽ രമിക്കുന്നില്ല. <EOS>\\n', 'ആരാണോ ഇവിടെ വച തന്നെ ശരീര നാശത്തിനു മുമ്പ് കാമക്രോധങ്ങൾ ഉളവാക്കുന്ന ക്ഷോഭത്തെ നിയന്ത്രിക്കാൻ ശക്തനാകുന്നത് അവൻ യോഗയുക്തനും സുഖമനുഭവിക്കുന്നവനുമാകുന്നു. <EOS>\\n', 'യാതൊരുവൻ ഉള്ളിൽ സുഖംകണ്ടെത്തുകയും, ഉള്ളിൽ തന്നെ രമിക്കയും, അതുപോലെ ഉള്ളിൽ തന്നെ ജ്ഞാനം കണ്ടെത്തുകയും ചെയ്യുന്നുവോ, ആ യോഗി ബ്രഹ്മമായി തീർന്ന് ബ്രഹ്മനിർവാണം പ്രാപിക്കുന്നു. <EOS>\\n', 'കലുഷം ക്ഷയിച്ചവരും സംശയഹീനരും മനോജയം നേടിയവരും സർവഭൂതങ്ങളുടെയും ക്ഷേമത്തിൽ തൽപരരുമായ ഋഷിമാർ ബ്രഹ്മാനന്ദം നേടുന്നു. <EOS>\\n', 'ആത്മജ്ഞരും, കാമക്രോധങ്ങളില്ലാത്തവരും മനസിനെ നിയന്ത്രിച്ചവരും ആയ യോഗികൾക്ക് ഇഹത്തിലും പരത്തിലും ബ്രഹ്മനിർവ്വാണം പ്രാപ്തമാകുന്നു. <EOS>\\n', 'ബാഹ്യവിഷയങ്ങളെയെല്ലാം നിരോധിച്ചും പുരികങ്ങൾക്കിടയിൽ ദൃഷ്ടിയുറപ്പിച്ചും ശ്വാസോച്ഛ്വാസങ്ങളെ നാസാദ്വാരങ്ങളിൽ സമനിലയിൽ നിർത്തിയും  <EOS>\\n', 'ഇന്ദ്രിയങ്ങളേയും മനസ്സിനെയും ബുദ്ധിയേയും നിയന്ത്രിച്ച് മുക്തി ലക്ഷ്യമാക്കിയ യോഗി രാഗദ്വേഷങ്ങളിൽ നിന്നും ഭയത്തിൽ നിന്നും മോചനം നേടുന്നു. സദാ ഇതേ അവസ്ഥ യിൽ പുലരുന്ന അയാൾ മുക്തൻ തന്നെ <EOS>\\n', 'യജ്ഞത്തിന്റെയും തപസ്സിന്റെയും ഭോക്താവും ലോകങ്ങളുടെയെല്ലാം നാഥനും എല്ലാ ജീവികളുടെയും സുഹൃത്തുമായി എന്നെ അറിയുന്നവൻ ശാന്തിയെ പ്രാപിക്കുന്നു. <EOS>\\n', 'ശ്രീ ഭഗവാന്\\u200d പറഞ്ഞു: ക\\u200dര്\\u200dമ്മഫലത്തെ ആശ്രയിക്കാതെ കര്\\u200dത്തവ്യമായ ക\\u200dര്\\u200dമ്മം ആരു ചെയ്യുന്നുവോ അവന്\\u200d സന്യാസിയും യോഗിയുമാണ്. അല്ലാതെ അഗ്നിഹോത്രാദികളെ ചെയ്യാത്തവനും, ക\\u200dര്\\u200dമ്മത്തെ ഉപേക്ഷിച്ചു സ്വസ്ഥനായിരിക്കുന്നവനുമല്ല. <EOS>\\n', 'ഹേ പാണ്ഡവാ, സന്യാസമെന്നു പറയുന്നത്\\u200c ഏതോ അതു തന്നെയാണ് യോഗമെന്നറിയുക. ഫലേച്ഛ വിടാതെ ഒരാളും യോഗിയായിത്തീരുന്നില്ല. <EOS>\\n', 'ക\\u200dര്\\u200dമ്മയോഗത്തെ പ്രാപിക്കുവാനിച്ഛിക്കുന്ന മുനിക്ക് ക\\u200dര്\\u200dമ്മം മാ\\u200dര്\\u200dഗ്ഗമെന്നു പറയപ്പെടുന്നു. പിന്നീട് യോഗസിദ്ധി നേടിക്കഴിഞ്ഞ അവന് ശമം കാരണമെന്നും പറയപ്പെടുന്നു. <EOS>\\n', 'വിഷയങ്ങളിലും ക\\u200dര്\\u200dമ്മങ്ങളിലും ആസക്തിയില്ലാതെ എല്ലാ മനോവ്യാപാരവും ത്യജിച്ചവനെ യോഗാരൂഢന്\\u200d (യോഗത്തെ പ്രാപിച്ചവന്\\u200d) എന്നു വിളിക്കുന്നു. <EOS>\\n', 'ഒരുവന്\\u200d തന്നെ സ്വയം ഉദ്ധരിക്കേണ്ടതാണ്, തന്നെ സ്വയം താഴ്ത്തരുത്, താന്\\u200d തന്നെയാണ് തന്റെ ബന്ധു. താന്\\u200d തന്നെയാണ് തന്റെ ശത്രുവും. <EOS>\\n', 'യാതൊരുവന്\\u200d സ്വയം തന്നെ ജയിച്ചിരിക്കുന്നുവോ അവന് താന്\\u200d തന്നെ തന്റെ ബന്ധുവാണ്. തന്റെ മേല്\\u200d നിയന്ത്രണമില്ലാത്തവനു താന്\\u200d തന്നെ ശത്രുവിനെപ്പോലെ ശത്രുത്വത്തില്\\u200d വര്\\u200dത്തിക്കുന്നു. <EOS>\\n', 'മനസ്സിനെ കീഴടക്കിയവൻ, ശാന്തി നേടുകയാൽ പരമാത്മാവിനെ പ്രാപിച്ചു കഴിഞ്ഞു. അങ്ങനെയുള്ള ആൾക്ക് തണുപ്പും ചൂടും സുഖ ദുഃഖവും മാനവും അപമാനവുമെല്ലാം ഒന്നുപോലെ തന്നെ. <EOS>\\n', 'ജ്ഞാനംകൊണ്ടും സാക്ഷാത്കാരം കൊണ്ടും തികച്ചും സാധ്യ സ്തനായ ഒരാളെ ആത്മസാക്ഷാത്കാരനിഷ്ഠനായ യോഗി എന്നു പറയാം. ആത്മസംയമിയായ അയാൾ അഭൗതികതയിൽ സ്ഥിതി യ്യുന്നു. അയാളുടെ ദൃഷ്ടിയിൽ കല്ലും, മണ്ണും, സ്വർണ്ണവും ഒന്നുപോലെ തന്നെ <EOS>\\n', 'സുഹൃത്തുക്കള്\\u200d\\u200d, മിത്രങ്ങള്\\u200d, ശത്രുക്കള്\\u200d, ഉദാസീനന്\\u200dമാ\\u200d\\u200dര്\\u200d, വെറുക്കപ്പെടേണ്ടവര്\\u200d, ബന്ധുക്കള്\\u200d ഇവരിലും നല്ലവരിലും പാപികളിലും സമബുദ്ധിയായിരിക്കുന്നവന്\\u200d വിശിഷ്ടനാകുന്നു. <EOS>\\n', 'യോഗി വിജനതയില്\\u200d സ്ഥിതിചെയ്ത് ഏകാകിയും ഇന്ദ്രിയമനസുകളെ നിയന്ത്രിച്ച്\\u200c നിഷ്കാമനും ആരില്\\u200dനിന്നും ഒന്നും സ്വീകരിക്കാത്തവനുമായി സര്\\u200dവദാ ആത്മാവിനെ യോജിപ്പിക്കണം. <EOS>\\n', 'ശുചിത്വമുള്ളിടത്ത് അധികം ഉയര്\\u200dച്ചയോ അധികം താഴ്ച്ചയോ ഇല്ലാത്തതും ദര്\\u200dഭപ്പുല്ല്, കൃഷ്ണമൃഗത്തിന്റെ തോല്\\u200d ഇവ മേല്\\u200dക്കുമേല്\\u200d വിരിച്ചതുമായ തന്റെ ഇരിപ്പിടം സ്ഥിരമാക്കി അതിലിരുന്ന് മനസ്സ് എകാഗ്രമാക്കി മനസ്സിന്റെയും ഇന്ദ്രിയങ്ങളുടെയും വ്യാപാരങ്ങളെ നിരോധിച്ച് ആത്മശുദ്ധിക്കുവേണ്ടി യോഗം അഭ്യസിക്കണം. <EOS>\\n', 'യോഗ പരിശീലനത്തിന് ഉദ്ദേശിക്കുന്നവർ ഒരു വിജനസ്ഥലത്ത് പോയി നിലത്ത് കുശപ്പുല്ല് വിരിച്ച് അതിനു മീതെ മാൻതോലും വസ്ത്ര വും വിരിക്കണം. ഇരിപ്പിടം അത്യുന്നതമോ ഏറെ താഴ്ന്നതോ ആവ രുത്. പരിസരം വിശുദ്ധമായിരിക്കണം; യോഗി ഈ ആസനത്തിൽ ഉ ച്ചിരുന്ന് മനസ്സിനേയും ഇന്ദ്രിയങ്ങളേയും നിയന്ത്രിച്ച് ഏകാഗ്രചിത്ത നായി ആത്മശുദ്ധീകരണത്തിനുവേണ്ടി യോഗമനുഷ്ഠിക്കണം. <EOS>\\n', 'തന്റെ ശരീരവും കഴുത്തും ഋജുരേഖയിൽ നിർത്തിക്കൊണ്ട്, യോഗി നാസാഗ്രത്തിൽ ദൃഷ്ടിയൂന്നണം. <EOS>\\n', 'സ്വസ്ഥവും നിയന്ത്രിതവുമാ യ മനസ്സോടെ നിർഭയനായി ബ്രഹ്മചര്യനിഷ്ഠനായി സ്വഹൃദയസ്ഥനായ എന്നെ ജീവിതത്തിന്റെ ആത്യന്തിക ലക്ഷ്യമെന്ന് ഗ്രഹിച്ച് ധ്യാനിക്കണം. <EOS>\\n', 'ഇപ്രകാരം യോഗി സര്\\u200dവദാ മനോനിയന്ത്രണത്തോടെ തന്നെ യുക്തനാക്കിയിട്ട് അതായത് ഈശ്വരനില്\\u200d താദാത്മ്യഭാവന ചെയ്ത് എന്നില്\\u200d പ്രതിഷ്ഠിതവും പരമനിര്\\u200dവാണ രൂപവുമായ ശാന്തി പ്രാപിക്കുന്നു. <EOS>\\n', 'ഹേ അര്\\u200dജുനാ, അധികം ആഹാരം കഴിക്കുന്നവനും, ഒട്ടും ആഹാരം കഴിക്കാത്തവനും യോഗമില്ല. അധികം ഉറങ്ങുന്നവനും എപ്പോഴും ഉണര്\\u200dന്നിരിക്കുന്നവനും യോഗം സംഭവിക്കുകയില്ല. <EOS>\\n', 'വേണ്ടയളവില്\\u200d മിതമായി ആഹാരവും വിഹാരവും നിര്\\u200dവഹിക്കുന്നവനും പ്രവൃത്തികളില്\\u200d സമചിത്തതയോടെ വ്യാപരിക്കുന്നവനും ഉറക്കവും ഉണര്\\u200dന്നിരിക്കലും ഉചിതമായ അളവില്\\u200d നിര്\\u200dവഹിക്കുന്നവനുമായ യോഗിയ്ക്ക് യോഗം ദുഃഖനാശകമായിത്തീരുന്നു. <EOS>\\n', 'എപ്പോള്\\u200d സ്ഥിരമായിത്തീര്\\u200dന്ന ചിത്തം സര്\\u200dവകാമങ്ങളില്\\u200d നിന്നും അകന്ന് ആത്മാവില്\\u200d തന്നെ ഉറച്ചുനില്\\u200dക്കുന്നുവോ അപ്പോള്\\u200d അവന്\\u200d യുക്തനെന്നു പറയപ്പെടുന്നു. <EOS>\\n', 'കാറ്റില്ലാത്തിടത്ത് സ്ഥിതിചെയ്യുന്ന ദീപത്തിന്റെ നിശ്ചലാവസ്ഥയാണ് ആത്മയോഗം അഭ്യസിക്കുന്ന മനോനിയന്ത്രണമുള്ള യോഗിയുടെ ഉപമയായി സ്മരിക്കപ്പെടുന്നത്. <EOS>\\n', 'സമാധിയെന്ന പരിപൂർണ്ണാവസ്ഥയിൽ മനസ്സ്, യോഗാനുഷ്ഠാനംമൂലം ഭൗതികങ്ങളായ മനോവൃത്തികളിൽ നിന്നും തികച്ചും പിന്മാ റിയിരിക്കും. നിർമ്മലമായ മനസ്സുകൊണ്ട് സ്വാത്മാവിനെ സാക്ഷാത്ക രിച്ച് ആത്മാവിൽ ആനന്ദംകൊള്ളാനുള്ള കഴിവ് ഈ പൂർണ്ണാവസ്ഥയിൽ സ്വാഭാവികമാണ്. <EOS>\\n', ' ആനന്ദഭരിതമായ ആ നിലയിൽ അളവറ്റ അതീന്ദ്രിയസുഖമാണ് ദിവ്യേന്ദ്രിയങ്ങളിലൂടെ ഒരാൾക്കനുഭവപ്പെടുക. ഇതിലെ ത്തിയാൽപ്പിന്നെ ഒരിക്കലും സത്യത്തിൽ നിന്ന് ചലിക്കേണ്ടി വരില്ല,  <EOS>\\n', 'ഇതിലും വലിയ ഒരു നേട്ടമില്ലെന്ന് ബോധ്യപ്പെടുകയും ചെയ്യുന്നു. മാത്രമല്ല. ഏതൊരാപത്ഘട്ടത്തിലും ഒരാൾ ക്ഷുബ്ധനാവുകയില്ല. <EOS>\\n', ' ഭൗതികമായുള്ള ബന്ധത്തിൽ നിന്നുളവാകുന്ന സർവ്വകേശങ്ങളിൽ നിന്നുമുള്ള യഥാർത്ഥ മോചനമാണിത് <EOS>\\n', 'സൈ്ഥര്യത്തോടും വിശ്വാസത്തോടും കൂടി വേണം യോഗപരി ശീലനത്തിലേർപ്പെടുവാൻ, വഴിമാറുകയുമരുത്. മനസ്സിൽ തോന്നിയ ഭൗതികങ്ങളായ എല്ലാ ആഗ്രഹങ്ങളും ഒന്നൊഴിയാതെ ഉപേക്ഷിക്കു കയും മനസ്സുകൊണ്ട് ഇന്ദ്രിയങ്ങളെയെല്ലാം നിയന്ത്രിക്കുകയും വേണം. <EOS>\\n', 'ക്രമേണ പടിപടിയായി, വിശ്വാസദാർഢ്യമാർന്ന ബുദ്ധിയുടെ സഹായത്താൽ സമാധിസ്ഥനാകണം, മനസ്സിനെ ആത്മാവിൽ ഉറപ്പി ക്കുക. (മറ്റൊന്നിനേയും കുറിച്ച് ചിന്തിക്കാതെ) <EOS>\\n', 'ചഞ്ചലവും അസ്ഥിരവുമായ മനസ്സ് എവിടെയൊക്കെ ചെല്ലുന്നുവോ അവിടെ നിന്നെല്ല\\u200dാം അതിനെ പിന്\\u200dവലിച്ച് ആത്മാവില്\\u200d തന്നെ ഉറപ്പിക്കണം. <EOS>\\n', 'ഇളക്കമറ്റ മനസ്സോടുകൂടിയവനും രജോഗുണമടങ്ങിയവനും നിഷ്പാപനും ബ്രഹ്മതാദാത്മ്യം പ്രാപിച്ചവനുമായ ഈ യോഗി ഉത്തമമായ സുഖത്തെ പ്രാപിക്കുന്നു. <EOS>\\n', 'ഇപ്രകാരം എപ്പോഴും യോഗമഭ്യസിക്കുന്നവനും പാപമറ്റവനുമായ യോഗി നിഷ്പ്രയാസം ആത്യന്തികമായ ബ്രഹ്മാനന്ദം അനുഭവിക്കുന്നു. <EOS>\\n', 'യോഗത്തില്\\u200d ഉറച്ച മനസോടുകൂടിയവനും എല്ലായിടത്തും സമദൃഷ്ടിയുള്ളവനുമായ യോഗി തന്നെ എല്ലാ പ്രാണികളിലും, എല്ലാ പ്രാണികളെയും തന്നില്\\u200d തന്നെയും ദര്\\u200dശിക്കുന്നു. <EOS>\\n', 'യാതോരുത്തന്\\u200d എന്നെ എല്ലായിടത്തും കാണുകയും എല്ലാത്തിനെയും എന്നിലും കാണുകയും ചെയ്യുന്നുവോ അവന്\\u200d അന്നില്\\u200d നിന്നും, ഞാന്\\u200d അവനില്\\u200d നിന്നും ഒരിക്കലും പിരിയുന്നില്ല. <EOS>\\n', 'ഏതൊരുവന്\\u200d ഏകത്വബോധം നേടി എല്ലാ ജീവജാലങ്ങളിലും വ്യാപിച്ചിരിക്കുന്ന എന്നെ ഭജിക്കുന്നുവോ, ആ യോഗി എങ്ങിനെയെല്ല\\u200dാം ഇരുന്നാലും എന്നില്\\u200dതന്നെ വര്\\u200dത്തിക്കുന്നു. <EOS>\\n', 'ഹേ അര്\\u200dജുനാ, എല്ലാവരിലുമുള്ള സുഖമായാലും ദുഖമായാലും തന്റെതിനോപ്പമായി കാണുന്ന യോഗി ഏറ്റവും ശ്രേഷ്ഠനാണെ ന്നതാണ് എന്റെ അഭിപ്രായം. <EOS>\\n', 'അര്\\u200dജുനന്\\u200d പറഞ്ഞു: ഹേ മധുസൂദനാ, സമചിത്തതാ ലക്ഷണമായി ഏതൊരു യോഗമാണോ അങ്ങ് പറഞ്ഞത്, എന്റെ മനസിന്റെ ചാഞ്ചല്യം നിമിത്തം അതിനു സുസ്ഥിരമായ നിലനില്\\u200dപ്പ്\\u200c ഞാന്\\u200d കാണുന്നില്ല. <EOS>\\n', 'എന്തെന്നാല്\\u200d ഹേ കൃഷ്ണാ, മനസ്സ് ചഞ്ചലവും ക്ഷുബ്ധവും നിയന്ത്രണ ത്തിനു വഴങ്ങാത്തതും അയവില്ലാത്തതുമാണ്. അതിന്റെ നിയന്ത്രണം വായുവിന്റെതെന്നപോലെ ദുഷ്ക്കരമായി ഞാന്\\u200d കരുതുന്നു. <EOS>\\n', 'ശ്രീ ഭഗവാന്\\u200d പറഞ്ഞു: ഹേ മഹാബാഹോ, നിസംശയമായും മനസ്സ് നിയന്ത്രിക്കാന്\\u200d വിഷമമുള്ളതും ചഞ്ചലവുമാണ്. എന്നാല്\\u200d കുന്തീപുത്രാ, അഭ്യാസം കൊണ്ടും, വൈരാഗ്യം കൊണ്ടും അത് നിയന്ത്രണവിധേയമാക്കപ്പെടുന്നു. <EOS>\\n', 'വൈരാഗ്യം കൊണ്ടു മനസ്സിനെ നിയന്ത്രിക്കാനാവാത്തവനു യോഗസിദ്ധി ലഭിക്കാന്\\u200d വിഷമമാണ് എന്നാണു എന്റെ അഭിപ്രായം. എന്നാല്\\u200d നിയന്ത്രിതചിത്തനു ശരിയായ ഉപായമനുസരിച്ച് യത്നിച്ചാല്\\u200d യോഗപ്രാപ്തി സാധ്യവുമാണ്\\u200c. <EOS>\\n', 'അര്\\u200dജുനന്\\u200d ചോദിച്ചു: കൃഷ്ണാ, ശ്രദ്ധയോടെ ശ്രമിച്ചിട്ടും യോഗ പരിശീലനത്തില്\\u200d മനസ്സുറക്കാതെ യോഗിയായി കഴിഞ്ഞിട്ടില്ലാ ത്തവന്\\u200d യോഗലക്ഷ്യം നേടാതെ ഏത് ഗതിയെ പ്രാപിക്കും. <EOS>\\n', 'ഹേ മഹാബാഹോ, ബ്രഹ്മമാ\\u200dര്\\u200dഗ്ഗത്തില്\\u200d നിന്ന്\\u200c തെറ്റി എങ്ങുമുറയ്ക്കാതെ ലൌകികമാര്\\u200dഗം, യോഗമാര്\\u200dഗം ഈ രണ്ടിലും സ്ഥാനമില്ലാതെ ഛിന്നഭിന്നമായ മേഘം പോലെ അവന്\\u200d നശിക്കുകയില്ലേ? <EOS>\\n', 'ഹേ കൃഷ്ണാ, എന്റെ ഈ സംശയത്തെ നിഃശേഷം അങ്ങു തീര്\\u200dത്തുതരേണ്ടതാണ്. ഈ സംശയം പരിഹരിക്കാന്\\u200d അങ്ങല്ലാതെ മറ്റൊരാള്\\u200d യോഗ്യനായില്ല. <EOS>\\n', 'ശ്രീ ഭഗവാന്\\u200d പറഞ്ഞു: ഹേ പാര്\\u200dത്ഥ, അവനു ഈ ലോകത്തില്\\u200d വിനാശം ഇല്ല തന്നെ; പരലോകത്തുമില്ല. കുഞ്ഞേ, നല്ലത് ചെയ്യുന്ന ഒരുവന്\\u200d ഒരിക്കലും ദുര്\\u200dഗതി പ്രാപിക്കുന്നില്ല. <EOS>\\n', 'യോഗസിദ്ധി നേടാത്തവന്\\u200d പുണ്യവാന്\\u200dമാരുടെ ലോകത്തില്\\u200dച്ചെന്നു ദീര്\\u200dഘകാലം വാണിട്ടു ശുദ്ധമനസ്ക്കരും ഐശ്വര്യയുക്തരുമായവരുടെ കുടുംബത്തില്\\u200d ജനിക്കുന്നു. <EOS>\\n', 'അല്ലെങ്കില്\\u200d ബുദ്ധിമാന്മാരായ യോഗികളുടെ കുലത്തില്\\u200d തന്നെ ജനിക്കുന്നു. ലോകത്തില്\\u200d ഇങ്ങിനെയുള്ള ജന്മം ലഭിക്കാന്\\u200d അത്യന്തം പ്രയാസമാണ്. <EOS>\\n', 'കുരുവംശജനായ അര്\\u200dജുനാ, ഈ ജന്മത്തില്\\u200d മുജ്ജന്മത്തിലെ സംസ്കാരം ലഭിക്കുന്നു. അതുകൊണ്ട് വീണ്ടും യോഗസിദ്ധിക്കായി യത്നിക്കുകയും ചെയ്യുന്നു. <EOS>\\n', 'മുജ്ജന്മത്തിലെ ആ അഭ്യാസം കൊണ്ടുമാത്രം താന്\\u200d അറിയാതെയാണെങ്കിലും അവന്\\u200d യോഗസാധനയിലേക്ക് നയിക്കപ്പെടുന്നു. യോഗരഹസ്യമറിയാന്\\u200d ആഗ്രഹിക്കുന്നവന്\\u200d പോലും ശബ്ദബ്രഹ്മത്തെ (വൈദികകര്\\u200dമ്മാനുഷ്ഠാനങ്ങളെ) അതിക്രമി ക്കുന്നുണ്ട്. <EOS>\\n', 'തീവ്രമായി പരിശ്രമിക്കുന്ന യോഗിയാകട്ടെ പാപം നീങ്ങി അതിനുശേഷം അനേകജന്മങ്ങള്\\u200d കൊണ്ടു സിദ്ധനായി പിന്നീട് പരമമായ ഗതിയെ പ്രാപിക്കുന്നു. <EOS>\\n', 'ക\\u200dര്\\u200dമ്മയോഗി തപസ്വികളെക്കാള്\\u200d ശ്രേഷ്ഠനാണ്. അയാള്\\u200d ജ്ഞാനികളേക്കാളും ശ്രേഷ്ഠനാണെന്നാണ് എന്റെ പക്ഷം. യോഗി കാമ്യക\\u200dര്\\u200dമ്മങ്ങള്\\u200d അനുഷ്ഠിക്കുന്നവരേക്കാളും ശ്രേഷ്ഠനാണ്. അതുകൊണ്ട് അര്\\u200dജുനാ, നീ യോഗിയായിത്തീരുക. <EOS>\\n', 'സകല യോഗികളിലും വച്ച് എന്നില്\\u200d ഉറച്ച മനസോടെ ശ്രദ്ധാപൂര്\\u200dണനായി ആരെന്നെ ഭജിക്കുന്നുവോ അവനാണ് എന്റെ അഭിപ്രായത്തില്\\u200d അത്യന്തം ശ്രേഷ്ഠ\\u200dന്\\u200d\\u200d! <EOS>\\n', 'ശ്രീ ഭഗവാന്\\u200d പറഞ്ഞു: ഹേ പാര്\\u200dത്ഥ, എന്നില്\\u200d ആസക്തചിത്തനായി എന്നെ ആശ്രയിച്ച് യോഗം അഭ്യസിച്ച് എങ്ങിനെ എന്നെ നിസ്സംശയമായും പൂര്\\u200dണമായും നീ അറിയുമോ ആ വിധം കേട്ടുകൊള്ളുക. <EOS>\\n', 'യാതോന്നറിഞ്ഞാല്\\u200d പിന്നെ അറിയേണ്ടതായി മറ്റൊന്നും ഈ ലോകത്തില്\\u200d അവശേഷിക്കയില്ലയോ ആ ജ്ഞാനം വിജ്ഞാനത്തോടുകൂടി ഞാന്\\u200d പൂര്\\u200dണമായി നിനക്കിതാ ഉപദേശിക്കാന്\\u200d പോകുന്നു. <EOS>\\n', 'അനേകായിരം മനുഷ്യരില്\\u200d ഒരാള്\\u200d മാത്രമേ ജ്ഞാനസിദ്ധിക്കായി യത്നിക്കുന്നുള്ളൂ. യത്നിക്കുന്നവരില്\\u200dത്തന്നെ ആരെങ്കിലും ഒരാള്\\u200d മാത്രമേ എന്നെ ഉള്ളവണ്ണം അറിയുന്നുള്ളൂ. <EOS>\\n', 'ഭൂമി, ജലം, അഗ്നി, വായു, ആകാശം, മനസ്സ്, ബുദ്ധി, അഹങ്കാരം എന്നിങ്ങനെ എന്റെ പ്രകൃതി എട്ടായി വേര്\\u200dതിരിഞ്ഞിരിക്കുന്നു. <EOS>\\n', 'മഹാബാഹോ, ഇപ്പറഞ്ഞത്\\u200c അപരാപ്രകൃതിയാണ്. എന്നാല്\\u200d ഇതില്\\u200dനിന്നു ഭിന്നവും ഈ ജഗത്തിനെ ധരിക്കുന്നതും ജീവസ്വരൂപവുമായ എന്റെ പരാപ്രകൃതിയെയും നീ അറിയുക. <EOS>\\n', 'എല്ലാ ഭൂതങ്ങളും ഇവയില്\\u200dനിന്നുണ്ടാകുന്നവയാണ് എന്ന് ധരിക്കുക. അങ്ങിനെ ഞാന്\\u200d ലോകത്തിന്റെ മുഴുവന്\\u200d ഉത്ഭവസ്ഥാനവും നാശകാരണവുമാണ്. <EOS>\\n', 'ഹേ ധനഞ്ജയാ, എന്നില്\\u200d നിന്ന് അന്യമായി ഒന്നും ഇല്ല. ഇതെല്ല\\u200dാം ചരടില്\\u200d രത്നങ്ങളെന്നപോലെ എന്നില്\\u200d കോര്\\u200dക്കപ്പെട്ടിരിക്കുന്നു. <EOS>\\n', 'ഹേ കൌന്തേയ, ഞാന്\\u200d ജലത്തിലെ രസമാകുന്നു. ചന്ദ്രസൂര്യന്\\u200dമാരിലെ ശോഭയാകുന്നു. വേദമന്ത്രങ്ങളില്\\u200d പ്രണവമാകുന്നു. ആകാശത്തിലെ ശബ്ദമാകുന്നു. മനുഷ്യരിലെ പൗരുഷവുമാകുന്നു. <EOS>\\n', 'ഭൂമിയിലെ പുണ്യമായ ഗന്ധവും അഗ്നിയിലെ തേജസും ഞാനാണ്. എല്ലാ ജീവികളിലെയും ജീവശക്തിയും തപസ്വികളിലെ തപസ്സും ഞാന്\\u200d തന്നെ ആകുന്നു. <EOS>\\n', 'ഹേ പാര്\\u200dത്ഥ, എല്ലാ ഭൂതങ്ങളുടെയും ശാശ്വതമായ ബീജമായി എന്നെ അറിയുക. ബുദ്ധിമാന്\\u200dമാരുടെ ബുദ്ധി ഞാനാണ്. തേജസ്വികളുടെ തേജസ്സും ഞാനാകുന്നു. <EOS>\\n', 'ഹേ ഭാരതശ്രേഷ്ഠ, ബലവാന്\\u200dമാരുടെ കാമരാഗരഹിതമായ ബലം ഞാനാണ്. ഭൂതങ്ങളില്\\u200d ധ\\u200dര്\\u200dമ്മവിരുദ്ധമല്ലാത്ത കാമവും ഞാന്\\u200d തന്നെ. <EOS>\\n', 'ഏതൊക്കെയാണോ സാത്വികഭാവങ്ങള്\\u200d ഏതൊക്കെയാണോ രാജസങ്ങളും താമസങ്ങളുമായ ഭാവങ്ങള്\\u200d അവയെല്ല\\u200dാം എന്നില്\\u200dനിന്ന് ഉത്ഭവിച്ചവ തന്നെയെന്നറിയുക. ഞാന്\\u200d അവയിലല്ല എന്നാല്\\u200d അവ എന്നിലാണ്. <EOS>\\n', 'ഈ ലോകം മുഴുവന്\\u200d ഗുണമയങ്ങളായ ഈ മൂന്നു ഭാവങ്ങളാലും മോഹിതമായിത്തീരുന്നു. ഇവയ്ക്കപ്പുറത്തുള്ള നിത്യനായ എന്നെ ഈ ജഗത്ത് അറിയുന്നില്ല. <EOS>\\n', 'എന്തുകൊണ്ടെന്നാല്\\u200d അമാനുഷികവും, ത്രിഗുണങ്ങള്\\u200d ചേര്\\u200dന്നതും ആയ എന്റെ ഈ മായ തരണം ചെയ്യാന്\\u200d പ്രയാസമുള്ളതാണ്. ആരാണോ എന്നെ തന്നെ ശരണം പ്രാപിക്കുന്നത് അവര്\\u200d ഈ മായയെ തരണം ചെയ്യുന്നു. <EOS>\\n', 'പാപികളും മൂഡന്\\u200dമാരുമായ മനുഷ്യാധമന്\\u200dമാര്\\u200d മായയാല്\\u200d ജ്ഞാനം നശിച്ചവരും ആസുരഭാവം പൂണ്ടവരുമാകയാല്\\u200d എന്നെ ഭജിക്കുന്നില്ല. <EOS>\\n', 'ഹേ ഭരതശ്രേഷ്ഠനായ അര്\\u200dജുനാ, നാലു തരക്കാരായ പുണ്യവാന്മാര്\\u200d എന്നെ ഭജിക്കുന്നു. ആര്\\u200dത്തനും, ജിജ്ഞാസുവും (ജ്ഞാനമാഗ്രഹി ക്കുന്നവനും), അര്\\u200dഥാര്\\u200dഥിയും (കാര്യലാഭം ആഗ്രഹിക്കുന്നവനും), ജ്ഞാനിയും. <EOS>\\n', 'ആ നാലുതരം ഭക്തന്\\u200dമാരില്\\u200d എപ്പോഴും യോഗനിഷ്ടനും ഭക്തിക്കൊഴിച്ച് മറ്റൊന്നിനും മനസ്സില്\\u200d സ്ഥാനമില്ലാത്തവനുമായ ജ്ഞാനിയാണ്\\u200c വിശിഷ്ഠനായിരിക്കുന്നത്. എന്തുകൊണ്ടെന്നാല്\\u200d ജ്ഞാനികള്\\u200dക്കു ഞാന്\\u200d അത്യധികം പ്രിയനാണ്. അവന്\\u200d എനിക്കും പ്രിയനാണ്. <EOS>\\n', 'അവരെല്ലാവരും ഉദാരന്\\u200dമാര്\\u200d തന്നെയാണ്. എന്നാല്\\u200d ജ്ഞാനി ആത്മസ്വരൂപന്\\u200d തന്നെ എന്നാണു എന്റെ അഭിപ്രായം. അവന്\\u200d എന്നില്\\u200d തന്നെ ഏകാഗ്രചിത്തനായി എന്നെത്തന്നെ പരമലക്ഷ്യമായി കരുതി ആശ്രയിച്ചിരിക്കുന്നു. <EOS>\\n', 'വളരെ ജന്മം കഴിഞ്ഞ് ജ്ഞാനി എന്നെ പ്രാപിക്കുന്നു. എല്ല\\u200dാം വാസുദേവന്\\u200d തന്നെ എന്നുറച്ച ആ മഹാത്മാവ് അത്യന്തം ദുര്\\u200dല്ലഭനാണ്. <EOS>\\n', 'തങ്ങളുടെ സ്വഭാവത്താല്\\u200d സ്വയം നിയന്ത്രിതരായി അതാതു ആഗ്രഹങ്ങള്\\u200dക്കധീനമായ ബുദ്ധിയോടു കൂടിയവര്\\u200d അന്യദേവതകളെ അതാതു നിയമങ്ങള്\\u200d അനുഷ്ഠിച്ചു ഭജിക്കുന്നു. <EOS>\\n', 'ഏതേതു ഭക്തന്\\u200d ഏതേതു ദേവതാ സ്വരൂപത്തെ ശ്രദ്ധയോടെ അര്\\u200dച്ചിക്കാനാഗ്രഹിക്കുന്നുവോ അവരുടെയെല്ല\\u200dാം ആ ശ്രദ്ധയെ തന്നെ ഞാന്\\u200d ഇളക്കമറ്റതാക്കുന്നു. <EOS>\\n', 'അവന്\\u200d ആ ശ്രദ്ധയോടെ ആ ദേവന്റെ ആരാധന നടത്തുന്നു. അതില്\\u200dനിന്നു ഞാന്\\u200d തന്നെ നല്കുന്ന അതാതു കാമങ്ങള്\\u200d ആര്\\u200dജിക്കുകയും ചെയ്യുന്നു. <EOS>\\n', 'എന്നാല്\\u200d അല്പബുദ്ധികളായ അവര്\\u200dക്കു സിദ്ധിക്കുന്ന ആ ഫലം നശിച്ചുപോകുന്നതാണ്. ദേവാരാധകര്\\u200d ദേവന്\\u200dമാരെ പ്രാപിക്കുന്നു. എന്റെ ഭക്തന്\\u200dമാര്\\u200d എന്നെയും പ്രാപിക്കുന്നു. <EOS>\\n', 'എന്റെ അവ്യയവും അനുത്തമവും തമോഗുണസ്പര്\\u200dശമില്ലാത്തതുമായ സര്\\u200dവാതീതഭാവത്തെ അറിയാതെ അവ്യക്തനായ എന്നെ വ്യക്തിത്വം പ്രാപിച്ചവനെന്നു ബുദ്ധിഹീനര്\\u200d വിചാരിക്കുന്നു. <EOS>\\n', 'യോഗമായയാല്\\u200d സമാവൃതനായ ഞാന്\\u200d എല്ലാവര്\\u200dക്കും പ്രത്യക്ഷനല്ല. ഈ മൂഢമായ ലോകം എന്നെ ജന്മരഹിതനും നാശമറ്റവനുമായി അറിയുന്നില്ല. <EOS>\\n', 'ഹേ അര്\\u200dജുനാ, കഴിഞ്ഞതും ഇപ്പോഴുള്ളതും ഇനിയുണ്ടാകുന്നതുമായ ജീലജാലങ്ങളെയും ഞാനറിയുന്നു. എന്നാല്\\u200d എന്നെയാകട്ടെ ഒരുത്തരും അറിയുന്നില്ല. <EOS>\\n', 'ഹേ ശത്രുധ്വംസകനായ ഭരതവംശജാ, ഇച്ഛാ, ദ്വേഷം എന്നിവയില്\\u200dനിന്നുണ്ടാകുന്ന ദ്വന്ദ്വമോഹത്താല്\\u200d സര്\\u200dവഭൂതങ്ങളും സൃഷ്ടിഗതിയില്\\u200d മോഹം പ്രാപിക്കുന്നു. <EOS>\\n', 'എന്നാല്\\u200d പുണ്യചരിതന്മാരും പാപം നിശ്ശേഷം നശിച്ചിട്ടുള്ളവരുമായ ജനങ്ങള്\\u200d ദ്വന്ദ്വമോഹമകന്നു ദൃഡവൃതരായി എന്നെ ഭജിക്കുന്നു. <EOS>\\n', 'യാതൊരുത്തന്\\u200d ജരാമരണങ്ങളില്\\u200dനിന്നും മുക്തി നേടാന്\\u200d എന്നെ ആശ്രയിച്ച് പ്രയത്നിക്കുന്നുവോ അവര്\\u200d ആ ബ്രഹ്മത്തെയും സമ്പൂര്\\u200dണമായ അദ്ധ്യാത്മവിദ്യയേയും അഖിലക\\u200dര്\\u200dമ്മത്തെയും അറിയുന്നു. <EOS>\\n', 'അധിഭൂതത്തോടും അധിദൈവത്തോടും അധിയജ്ഞത്തോടും കൂടിയവനായി എന്നെ ആരറിയുന്നുവോ അവര്\\u200d മരണസമയത്തും യോഗയുക്തചിത്തരായി എന്നെ സാക്ഷാത്കരിക്കുന്നു. <EOS>\\n', 'അര്\\u200dജുനന്\\u200d ചോദിച്ചു: ഹേ പുരുഷോത്തമാ, ആ ബ്രഹ്മം എന്താണ്? അധ്യാത്മമെന്താണ്? കര്\\u200dമ്മമെന്താണ്? അധിഭൂതമെന്താണ്? അധിദൈവമെന്നു പറയപ്പെടുന്നതുമെന്താണ്? <EOS>\\n', 'ഹേ മധുസൂദനാ, അധിയജ്ഞന്\\u200d ആര്? എങ്ങിനെയിരിക്കുന്നു? ഇവിടെ ഈ ദേഹത്തിലുണ്ടോ? മരണകാലത്ത് നിയന്ത്രിതചിത്ത ന്മാരാല്\\u200d എങ്ങിനെയാണ് അങ്ങ് അറിയപ്പെടുന്നത്? <EOS>\\n', 'ശ്രീ ഭഗവാന്\\u200d പറഞ്ഞു: ബ്രഹ്മം സ\\u200dവ്വോത്കൃഷ്ടവും അക്ഷരവും (അനശ്വരവും) ആകുന്നു. അധ്യാത്മം സ്വഭാവമാണെന്ന് പറയപ്പെടുന്നു. സകലജീവജാലങ്ങളും ഉദ്ഭവത്തിന് കാരണമായ വിശിഷ്ടമായ സൃഷ്ടിവ്യാപാരമാണ് ക\\u200dര്\\u200dമ്മമെന്നറിയപ്പെടുന്നത്. <EOS>\\n', 'ദേഹധാരികളില്\\u200dവച്ച് ശ്രേഷ്ഠനായ അര്\\u200dജുനാ! അധിഭൂതം നശ്വരമായ ഭാവമാണ്. അധിദൈവതം പുരുഷനാണ്. ഈ ദേഹത്തിലുള്ള ഞാന്\\u200d തന്നെയാണ് അധിയജഞ\\u200dന്\\u200d. <EOS>\\n', 'മരണസമയത്ത് എന്നെ തന്നെ സ്മരിച്ചുകൊണ്ടു ശരീരം വിട്ടു പോകുന്നവന്\\u200d എന്നെ തന്നെ പ്രാപിക്കുമെന്നതില്\\u200d സംശയമില്ല. <EOS>\\n', 'ഹേ കുന്തി പുത്രാ, ഏതേതു ഭാവം സ്മരിച്ചുകൊണ്ടു ഒടുവില്\\u200d ശരീരം വിടുന്നുവോ എപ്പോഴും തന്\\u200dമയഭാവമാര്\\u200dന്നു അതാതുഭാവത്തെത്തന്നെ പ്രാപിക്കുന്നു. <EOS>\\n', 'അതുകൊണ്ടു ഏത് കാലത്തും എന്നെ സ്മരിക്കയും യുദ്ധം ചെയ്യുകയും ചെയ്യുക. എന്നില്\\u200d മനസ്സും ബുദ്ധിയും അര്\\u200dപ്പിച്ച നീ എന്നെ തന്നെ നിസ്സംശയമായും പ്രാപിക്കും. <EOS>\\n', 'ഹേ പാര്\\u200dത്ഥ! നിരന്തരമായ അഭ്യാസം കൊണ്ടു യോഗയുക്തവും മറ്റൊന്നിലേക്ക് പോവാത്തതുമായ മനസ്സോടുകൂടി ധ്യാനിക്കുന്നവന്\\u200d ആ ദിവ്യനായ പരമപുരുഷനെ പ്രാപിക്കുന്നു. <EOS>\\n', 'സർവ്വജ്ഞനും ആദിപുരുഷനും സർവ്വനിയന്താവും അണുവി നേക്കാൾ ചെറുതും സകലതിന്റേയും പരിപാലകനും ഭൗതികാനുമാ നങ്ങൾക്ക് അതീതനും അചിന്ത്യരൂപനും ഭൗതികപ്രകൃതിക്കതീതനും ആദിത്യതേജസ്വിയുമായ വ്യക്തി എന്ന നിലയിലാണ് ഭഗവാനെ ധ്യാനി ക്കേണ്ടത്. ദിവ്യനും ഭൗതികപ്രകൃതിക്ക് അതീതനുമാണ് അവിടുന്ന്. <EOS>\\n', 'മരണസമയത്ത് യോഗനിഷ്ഠപൂണ്ട് സ്ഥിരമനസ്കനായി പരിപൂർണ്ണ ഭക്തിയോടെ ഭൂമദ്ധ്യത്തിൽ പ്രാണവായുവിനെ ഉറപ്പിച്ചുകൊണ്ട് ഭഗവത് സ്മരണചെയ്യുന്നവൻ തീർച്ചയായും പരമപുരുഷനെ പ്രാപിക്കും. <EOS>\\n', 'യാതൊന്നിനെ വേദജ്ഞര്\\u200d അക്ഷരം എന്ന് പറയുന്നുവോ, യാതൊന്നിനെ രാഗഹീനരായ യതികള്\\u200d പ്രാപിക്കുന്നുവോ, യാതൊന്നിനെ ആഗ്രഹിക്കുന്നവര്\\u200d ബ്രഹ്മചര്യമനുഷ്ടിക്കുന്നുവോ ആ പദത്തെ നിനക്കു സംക്ഷിപ്തമായി ഞാന്\\u200d പറഞ്ഞു തര\\u200dാം. <EOS>\\n', 'ഇവിടെ പറഞ്ഞ പ്രകാരം യോഗം പരിശീലിക്കണമെങ്കിൽ ആദ്യ മായി വേണ്ടത് ഇന്ദ്രിയങ്ങളുടെ കതകടയ്ക്കുകയാണ്. ഇപ്രകാരം ഇന്ദ്രി യങ്ങളെ സംയമിച്ച് മനസ്സിനെ ഹൃദയത്തിൽ ഏകാഗ്രമാക്കുകയും പ്രാ വായുവിനെ മൂർദ്ധാവിൽ സ്ഥിരീകരിക്കുകയും ചെയ്താൽ യോഗ സ്ഥനാകാം. <EOS>\\n', \"ഇങ്ങനെ യോഗസ്ഥനായി ഓം' എന്ന ഉത്തമമായ വിശുദ്ധാ ര സംയോഗമുച്ചരിച്ചുകൊണ്ടും പരമദിവ്യോത്തമപുരുഷനെ സ്മരി ച്ചുകൊണ്ടും ശരീരം ത്യജിക്കുന്നവൻ ആദ്ധ്യാത്മികലോകങളിലെത്തും, സംശയമില്ല. <EOS>\\n\", 'ഹേ പാര്\\u200dത്ഥ, എന്നില്\\u200d തന്നെ മനസ്സു ഉറപ്പിച്ച് മറ്റൊന്നുമോര്\\u200dക്കാതെ എപ്പോഴും യാതൊരുവന്\\u200d എന്നെ സ്മരിക്കുന്നുവോ നിത്യമുക്തനായ ആ യോഗിക്ക് ഞാന്\\u200d സുലഭനാണ്. <EOS>\\n', 'എന്നെ പ്രാപിച്ച് പരമമായ സിദ്ധി ലഭിക്കുന്ന മഹാത്മാക്കള്\\u200d ദുഃഖത്തിനിരിപ്പിടവും അനിത്യവുമായ ജന്മത്തെ പിന്നെ പ്രാപിക്കുന്നില്ല. <EOS>\\n', 'ഹേ അര്\\u200dജുനാ, ബ്രഹ്മലോകം വരെയുള്ള ലോകങ്ങള്\\u200d വീണ്ടും ജനിക്കാനിടനല്\\u200dകുന്നവയാണ്. കുന്തീപുത്രാ, എന്നെ പ്രാപിച്ചുകഴിഞ്ഞാല്\\u200d പുനര്\\u200dജന്\\u200dമം സംഭവിക്കുകയില്ല. <EOS>\\n', 'ബ്രഹ്മാവിന്റെ പകല്\\u200d ആയിരം യുഗത്തോളമുള്ളതാണെന്നും രാത്രി ആയിരം യുഗം കൊണ്ടവസാനിക്കുന്നതാനെന്നും അറിയുന്നവര്\\u200d അഹോരാത്രങ്ങളെക്കുറിച്ച് അറിയുന്നവരാണ്. <EOS>\\n', 'ബ്രഹ്മാവിന്റെ പകല്\\u200d തുടങ്ങുമ്പോള്\\u200d അവ്യക്തതയില്\\u200d നിന്നും എല്ലാ വസ്തുക്കളും ഉത്ഭവിക്കുന്നു. അവയെല്ല\\u200dാം ബ്രഹ്മാവിന്റെ രാത്രിയുടെ ആരംഭത്തില്\\u200d ആ മൂലപ്രകൃതിയില്\\u200d തന്നെ ലയിച്ചുചേരുകയും ചെയ്യുന്നു. <EOS>\\n', 'ഹേ പാര്\\u200dത്ഥ! ഈ സര്\\u200dവഭൂതങ്ങളും വീണ്ടും വീണ്ടും ഉണ്ടായി രാത്രിയുടെ ആരംഭത്തില്\\u200d പ്രകൃതിയില്\\u200d ലയിക്കയും പരാധീനരായി പ്രഭാതത്തില്\\u200d വീണ്ടും ഉത്ഭവിക്കയും ചെയ്യുന്നു. <EOS>\\n', 'എന്നാല്\\u200d ആ അവ്യക്തത്തിനുമപ്പുറത്ത് സനാതനമായ മറ്റൊരവ്യക്തഭാവമുണ്ട്. ഏതൊന്നാണോ എല്ലാ ഭൂതങ്ങളും നശിക്കുമ്പോഴും നശിക്കാതിരിക്കുന്നത് അത് ആ രണ്ടാമത് പറഞ്ഞ അവ്യക്തമാണ്. <EOS>\\n', 'ആ അവ്യക്തം അക്ഷരമെന്നു പറയപ്പെടുന്നു. അതിനെ പരമമായ ഗതി (ലക്ഷ്യം) എന്ന് പറയുന്നു. ഏതിനെ പ്രാപിച്ചാല്\\u200d തിരിച്ചു വരുന്നില്ലയോ അതാണ് എന്റെ പരമമായ സ്ഥാനം. <EOS>\\n', 'ഹേ പാര്\\u200dത്ഥ, യാതോരുവന്റെ ഉള്ളിലാണോ ഭൂതങ്ങ\\u200d\\u200dള്\\u200d സ്ഥിതിചെയ്യുന്നത്\\u200d, യാതോരുവനാല്\\u200d ഇതെല്ല\\u200dാം വ്യാപ്തമായിരി ക്കുന്നുവോ ആ പരമപുരുഷനെ ഏകാന്തഭക്തികൊണ്ട് പ്രാപിക്കാവുന്നതാണ്. <EOS>\\n', 'ഭരതശ്രേഷ്ഠ, യോഗികള്\\u200d ഏത് കാലത്തു പുനര്\\u200dജന്മവും ഏത് കാലത്ത് പുനര്\\u200dജന്മമില്ലായ്കയും മരിച്ചിട്ട് പ്രാപിക്കുമോ ആ കാലത്തെക്കുറിച്ച് ഞാന്\\u200d പറഞ്ഞുതര\\u200dാം. <EOS>\\n', 'അഗ്നി, ജ്യോതിസ്, വെളുത്ത പക്ഷം, ഉത്തരായണം ഇവയില്\\u200d ഇവയുടെ അധീശ്വരായ ദേവതകള്\\u200d വഴിയായി, ഗമിക്കുന്ന ബ്രഹ്മജ്ഞരായ ജനങ്ങള്\\u200d ബ്രഹ്മത്തെ പ്രാപിക്കുന്നു. <EOS>\\n', 'ധൂമം, രാത്രി, അതുപോലെ കൃഷ്ണപക്ഷം, ദക്ഷിണായനം ഇവയില്\\u200d ഇവയുടെ ദേവതകള്\\u200d വഴി ഗമിക്കുന്ന യോഗി ചന്ദ്രനിലുള്ള ജ്യോതിസിനെ പ്രാപിച്ച് തിരിച്ച് ഭൂമിയില്\\u200d വരുന്നു. <EOS>\\n', 'ജഗത്തില്\\u200d ഈ അഗ്നിധൂമമാര്\\u200dഗങ്ങള്\\u200d നിത്യങ്ങളായി കരുതപ്പെടുന്നു. അവയിലൊരു ഗതിയിലൂടെ പുനര്\\u200dജന്മമില്ലായ്മയെ പ്രാപിക്കുന്നു. മറ്റേത്തില്\\u200dകൂടി വീണ്ടും തിരിച്ചുവരുന്നു. <EOS>\\n', 'ഹേ അ\\u200cര്\\u200dജ്ജുനാ! ഈ രണ്ടു മാര്\\u200dഗ്ഗങ്ങളെ യഥാ\\u200d\\u200dര്\\u200dത്ഥമായറിയുന്ന യാതൊരു ക\\u200dര്\\u200dമ്മയോഗിയും മോഹത്തെ പ്രാപിക്കുന്നില്ല.. അതുകൊണ്ടു ഹേ അ\\u200cര്\\u200dജ്ജുനാ, സമല കാലങ്ങളിലും ക\\u200dര്\\u200dമ്മയോഗയുക്തനയി ഭവിക്കുക. <EOS>\\n', 'മേല്\\u200d വിവരിച്ചതായ ഈ തത്വത്തെ മുഴുവനും മനസ്സിലാക്കിയാല്\\u200d ക\\u200dര്\\u200dമ്മയോഗി, വേദത്തിലും യജ്ഞത്തിലും തപസ്സിലും ദാനത്തിലും പറയപ്പെട്ടതായ പുണ്യങ്ങളെയെല്ല\\u200dാം അതിക്രമിച്ച് പുരാതനവും ശ്രേഷ്ഠവുമായ പദത്തെ പ്രാപിക്കുന്നു. <EOS>\\n', 'എതൊന്ന് അറിഞ്ഞാ\\u200dല്\\u200d\\u200dപാപത്തി\\u200dല്\\u200dനിന്ന് മുക്തനാകുമോ, ഏറ്റവും ഗുഢവും ശാസ്ത്രീയവുമായിട്ടുള്ള ആ ജ്ഞാനത്തെ അസൂയാരഹിതനായ നിന്നോട് ഉപദേശിക്ക\\u200dാം. <EOS>\\n', 'ഈ ജ്ഞാനം വിദ്യകളില്\\u200dവച്ചു വിശിഷ്ടവും രഹസ്യങ്ങളില്\\u200dവച്ച് ശ്രേഷ്ഠവും ഉത്തമവും പ്രത്യക്ഷമായറിയാവുന്നതും ധര്\\u200dമ്മത്തിനൊത്തതും എളുപ്പത്തില്\\u200d ആചരിക്കാവുന്നതും അവ്യയവുമാണ്. <EOS>\\n', 'അ\\u200dര്\\u200dജ്ജുനാ, ഈ ധര്\\u200dമ്മത്തെ വിശ്വസിക്കാത്ത പുരുഷന്മാര്\\u200d എന്നെ പ്രാപിക്കുവാന്\\u200dകഴിയാതെ മൃത്യുപൂ\\u200dര്\\u200dവ്വമായ സംസാരമാര്\\u200dഗ്ഗത്തിലേക്ക് തിരിച്ചു വരുന്നു. <EOS>\\n', 'അവ്യക്തസ്വരൂപനായ എന്നാല്\\u200d ഈ പ്രപഞ്ചം മുഴുവനും വ്യാപിക്കപ്പെട്ടിരിക്കുന്നു. \\u200cസ\\u200dര്\\u200dവചരാചരങ്ങളും എന്നി\\u200dല്\\u200d സ്ഥിതിചെയ്യുന്നു. ഞാ\\u200dന്\\u200d അവയില്\\u200d കുടികൊള്ളുന്നില്ല. <EOS>\\n', 'ഭുതങ്ങ\\u200dള്\\u200d (യഥാര്\\u200dഥത്തില്\\u200d) എന്നില്\\u200d സ്ഥിതി ചെയ്യുന്നതുമില്ല. എന്റെ ദിവ്യമായ യോഗശക്തിയെ കണ്ടാലും. ഞാ\\u200dന്\\u200d സര്\\u200dവ്വ ഭൂതങ്ങളേയും ഉണ്ടാക്കുന്നവനും ധരിക്കുന്നവനുമാണെങ്കിലും ഞാ\\u200dന്\\u200d ഭൂതങ്ങളില്\\u200d സ്ഥിതി ചെയ്യുന്നില്ല. <EOS>\\n', 'സ\\u200dര്\\u200dവത്ര സഞ്ചരിക്കുന്നതും മഹത്തായുള്ളതുമായ വായു എങ്ങനെ എപ്പോഴും ആകാശത്തി\\u200d\\u200dല്\\u200dസ്ഥിതിചെയ്യുന്നുവോ അങ്ങിനെയാണ് സ\\u200dര്\\u200dവഭുതങ്ങളും എന്നി\\u200dല്\\u200d കുടികൊള്ളുന്നത്. <EOS>\\n', 'അ\\u200dര്\\u200dജ്ജുനാ! പ്രളയകാലത്തില്\\u200d സര്\\u200dവ്വഭൂതങ്ങളും എന്റെ പ്രകൃതിയിലേയ്ക്കു ചെല്ലുന്നു. സൃഷ്ടികാലത്തില്\\u200d അവയെല്ല\\u200dാം ഞാന്\\u200d വീണ്ടും സൃഷ്ടിക്കുന്നു. <EOS>\\n', 'പ്രപഞ്ചപ്രവർത്തനം എന്റെ അധീനതയിലാണ്. എന്റെ ഇച്ഛയ്ക്കനുസരിച്ച് അത് വീണ്ടും വീണ്ടും ആവിർഭവിക്കുകയും ഒടുവിൽ തിരോഭവിക്കുകയും ചെയ്യുന്നു. <EOS>\\n', 'ധനഞ്ജയാ, ഈ കർമ്മങ്ങൾക്കൊന്നും തന്നെ എന്നെ ബന്ധി ക്കുവാൻ കഴിയില്ല. ഒരു ഭൗതികപ്രവർത്തനങ്ങളോടും ബന്ധപ്പെടാതെ ഉദാസീനനെപ്പോലെ സ്ഥിതി ചെയ്യുകയാണ് ഞാൻ. <EOS>\\n', 'അ\\u200dര്\\u200dജ്ജുനാ! എന്റെ മേ\\u200dല്\\u200dനോട്ടത്തി\\u200d\\u200dല്\\u200d പ്രകൃതി സ\\u200dര്\\u200dവചരാചരങ്ങളേയും ജനിപ്പിക്കുന്നു. എന്റെ അദ്ധ്യക്ഷതയാല്\\u200d തന്നെ പ്രപഞ്ചം ഉത്ഭവിക്കുന്നു. <EOS>\\n', 'എന്റെ പരമസ്വരൂപത്തെ അറിയാത്ത മൂഢന്മാ\\u200d\\u200d\\u200dര്\\u200d സര്\\u200dവ്വചരാചരങ്ങളുടെയും മഹേശ്വരനായ എന്നെ മനുഷ്യശരീരത്തെ അവലംബിച്ചവനെന്നു തെറ്റിദ്ധിരിക്കുന്നു. <EOS>\\n', 'വ്യര്\\u200dഥമായ ആശയോടും, വ്യര്\\u200dഥമായ ക\\u200dര്\\u200dമ്മത്തോടും, വ്യര്\\u200dഥമായ ജ്ഞാനത്തോടുംകൂടി മുഢന്മാ\\u200dര്\\u200d മോഹജനകവും രാക്ഷസവും ആസുരവുമായ സ്വഭാവത്തെ തന്നെ ആശ്രയിച്ചവരാണ്. <EOS>\\n', 'അ\\u200dര്\\u200dജ്ജുനാ! മഹാത്മാക്കളാവട്ടെ ദിവ്യമായ സ്വഭാവത്തെ കൈക്കൊണ്ട്, ഏകാഗ്രചിത്തരായി ഭുതങ്ങ\\u200dള്\\u200dക്കെല്ല\\u200dാം ആദ്യനും അനശ്വരന്മായ എന്നെ അറിഞ്ഞു ഭജിക്കുന്നു. <EOS>\\n', 'അവ\\u200dര്\\u200d എന്നെ എപ്പോഴും സ്തുതിക്കയും ദൃഢവ്രതരായി പ്രയത്നിച്ച് ഏകാഗ്രമനസ്സോടും ഭക്തിയോടും കൂടി എന്നെ നമസ്കരിക്കുകയും ചെയ്തു പൂജിക്കുന്നു. <EOS>\\n', 'വേറേ ചില\\u200dര്\\u200d സ\\u200dര്\\u200dവത്മാവായ എന്നെ ജ്ഞാനയജ്ഞത്താല്\\u200d ഏകഭാവത്തോടും ഭേദഭാവത്തോടും പല രീതിയി\\u200d\\u200d\\u200dല്\\u200d യജിച്ചു ഭജിക്കുന്നു. <EOS>\\n', 'യാഗം ഞാനാണ്; യജ്ഞം ഞാനാണ്; ശ്രാദ്ധവും ഞാനാണ്; ഞാനാണ് ഔഷധം; ഞാനാണ് ഹോമദ്രവ്യങ്ങ\\u200dള്\\u200d\\u200d; അഗ്നിയും ഞാ\\u200d\\u200d\\u200dന്\\u200dതന്നെ; ഹോമവും ഞാ\\u200dന്\\u200dതന്നെ. <EOS>\\n', 'ഈ പ്രപഞ്ചത്തിന്റെ പിതാവും, മാതാവും, പിതാമഹനും, രക്ഷകനും ഞാന്\\u200d തന്നെ. അറിയപ്പെടേണ്ടതും പരിശുദ്ധവുമായ ഓങ്കാരവും, ഋഗ്വേദം, സാമവേദം, യജു\\u200dര്\\u200dവേദം എന്നിവയും ഞാ\\u200d\\u200dന്\\u200dതന്നെ. <EOS>\\n', 'ഗതിയും, ഭരണക\\u200dര്\\u200dത്താവും, സ്വാമിയും, സാക്ഷിയും, നിവാസസ്ഥാനവും, ശരണ്യനും, സുഹൃത്തും, സൃഷ്ടിക\\u200dര്\\u200dത്താവും, സംഹാരക\\u200dര്\\u200dത്താവും, ആധാരവും, നിക്ഷേപവും, അവ്യയമായ ഉ\\u200cല്\\u200dപത്തികാരണവും ഞാ\\u200dന്\\u200dതന്നെ. <EOS>\\n', 'അ\\u200dര്\\u200dജ്ജുനാ! ഞാ\\u200d\\u200d\\u200dന്\\u200dചൂടുണ്ടാക്കുന്നു. ഞാന്\\u200d മഴ പെയ്യിക്കുയും, അതു തടുക്കയും ചെയ്യുന്നു. ജീവിതവും, മരണവും, സത്തും, അസത്തും ഞാ\\u200dന്\\u200dതന്നെ. <EOS>\\n', 'മുന്നുവേദങ്ങളും അറിയുന്നവര്\\u200d യജ്ഞങ്ങളാല്\\u200d എന്നെ പുജിച്ച്, യജ്ഞാവശേഷത്തെ ആസ്വദിച്ച് പാപഹീനന്മാരായി സ്വര്\\u200dഗ്ഗലോകത്തെ പ്രാപിക്കാ\\u200d\\u200dന്\\u200d പ്രാ\\u200dര്\\u200dത്ഥിക്കുന്നു. അവ\\u200dര്\\u200d ശോഭനമായ സ്വര്\\u200dഗ്ഗത്തി\\u200dല്\\u200dചെന്ന് അവിടത്തെ ദിവ്യങ്ങളായ ദേവഭോഗങ്ങളെ അനുഭവിക്കുന്നു. <EOS>\\n', 'അവര്\\u200d വിശാലമായ സ്വര്\\u200dഗ്ഗലോകത്തില്\\u200d നിവസിച്ച് സുഖിച്ച്, പുണ്യം നശിക്കുമ്പോള്\\u200d മനുഷ്യലോകത്തിലേക്കു തന്നെ വരുന്നു. ഇങ്ങനെ വേദോക്തധ\\u200dര്\\u200dമ്മത്തെ ആശ്രയിച്ച്, സുഖഭോഗങ്ങളെ ആഗ്രഹിക്കുന്നവര്\\u200d ജനിക്കയും മരിക്കയും ചെയ്തുകൊണ്ടിരിക്കുന്നു. <EOS>\\n', 'ഏകാഗ്രചിത്തത്തോടുകുടി എന്നെത്തന്നെ ചിന്തിച്ചുഭജിച്ച് നിരന്തരം ധ്യാനിച്ചുകൊണ്ടിരിക്കുന്ന ജനങ്ങളുടെ യോഗക്ഷേമത്തെ ഞാ\\u200d\\u200dന്\\u200dവഹിക്കുന്നു. <EOS>\\n', 'അ\\u200dര്\\u200dജ്ജുനാ! അന്യദേവതകളെ ശ്രദ്ധയോടുകൂടി പൂജിക്കുന്ന ഭക്തന്മാ\\u200dര്\\u200d വിധിപൂ\\u200dര്\\u200dവമല്ലെങ്കിലും എന്നെത്തന്നെയാണ് പൂജിക്കുന്നത്. <EOS>\\n', 'സ\\u200dര്\\u200dവ്വയജ്ഞങ്ങളേയും അനുഭവിക്കുന്നതും അവയ്ക്ക് ഫലം നല്കുന്നതും ഞാനാണ്. എന്നെ ശരിയായി അവ\\u200dര്\\u200d അറിയുന്നില്ല. അതുകൊണ്ട് ജനനമരണത്തെ ആവ\\u200dര്\\u200dത്തിക്കുന്നു. <EOS>\\n', 'ദേവാരധകന്മാ\\u200dര്\\u200d ദേവന്മാരെ പ്രാപിക്കുന്നു. പിതൃക്കളെ പൂജിക്കുന്നവര്\\u200d പിതൃക്കളെ പ്രാപിക്കുന്നു. ഭൂതങ്ങളെ ആരാധിക്കുന്നവ\\u200dര്\\u200d ഭൂതങ്ങളെ പ്രാപിക്കുന്നു. എന്നെത്തന്നെ ഭജിക്കുന്നവര്\\u200d എന്നെയും പ്രാപിക്കുന്നു. <EOS>\\n', 'പത്രം, പുഷ്പം, ഫലം, ജലം എന്നിവ ഭക്തിയോടു കൂടി എനിക്കായി നിവേദിക്കുന്ന ഏകാഗ്രചിത്തന്റെ ആ ഭക്തി പൂര്\\u200dവകമായ വഴിപാടിനെ ഞാന്\\u200d കൈക്കൊള്ളുന്നു. <EOS>\\n', 'അ\\u200dര്\\u200dജ്ജുനാ! നീ ഏതൊന്നു ചെയുന്നവോ, ഏതൊന്ന് ഭക്ഷിക്കുന്നുവോ, ഏതൊന്നു ഹോമിക്കുന്നുവോ, ഏതൊന്നു ന\\u200dല്\\u200dകുന്നുവോ, ഏതൊരു തപസ്സുചെയ്യുന്നുവോ അതൊക്കയും എന്നി\\u200dല്\\u200d സമ\\u200dര്\\u200dപ്പിച്ചാലും. <EOS>\\n', 'ഇപ്രകാരം ചെയ്താല്\\u200d പുണ്യപാപങ്ങളെ നല്കുന്ന ക\\u200dര്\\u200dമ്മബന്ധങ്ങളി\\u200dല്\\u200d നിന്ന് നീ മുക്തനാകുകയും സന്ന്യാസയുക്തനും മുക്ത\\u200dനുമായി എന്നെ പ്രാപിക്കുകയും ചെയ്യും. <EOS>\\n', 'ഞാന്\\u200d ഭൂതങ്ങളിലെല്ല\\u200dാം സമഭാവത്തോടുകൂടിയാണ് വ\\u200dര്\\u200dത്തിക്കുന്നത്. എനിക്കു ശത്രുവില്ല. ഇഷ്ടനുമില്ല. എന്നാ\\u200dല്\\u200d ഭക്തിയോടുകൂടി ഭജിക്കുന്നവര്\\u200d എന്നിലും ഞാന്\\u200d അവരിലുമുണ്ട്. <EOS>\\n', 'ഏറ്റവും ദുരാചാരനായവ\\u200dന്\\u200d തന്നെ എന്നെ ഏകാഗ്രചിത്തനായി ഭജിക്കുന്നുവെങ്കി\\u200dല്\\u200d അവനെ ശിഷ്ടനായി കരുത\\u200dാം. അവ\\u200dന്\\u200d ദൃഢവ്രതനാണ്. <EOS>\\n', 'അവ\\u200dന്\\u200d വേഗത്തി\\u200dല്\\u200d ധര്\\u200dമ്മാത്മാവായിത്തീ\\u200dര്\\u200dന്ന് ശാശ്വതമായ ശാന്തിയെ പ്രാപിക്കുന്നു. ഹേ അ\\u200dര്\\u200dജ്ജുനാ! എന്റെ ഭക്ത\\u200dന്\\u200d നശിക്കുന്നില്ലെന്ന് അറിഞ്ഞാലും. <EOS>\\n', 'അ\\u200dര്\\u200dജ്ജുനാ! സ്ത്രീകളോ, വൈശ്യന്മാരോ, ശുദ്രന്മാരോ, നീചകുലജാതന്മാരോ ആരായിരുന്നാലും എന്നെ ഭജിക്കുന്നവ\\u200dര്\\u200d പരമഗതിയെ പ്രാപിക്കുന്നു. <EOS>\\n', 'അങ്ങനെയിരിക്കെ പുണ്യവാന്മാരായ ബ്രഹ്മണന്മാരേയും ഭക്തന്മാരായ രാജ\\u200dര്\\u200dഷിമാരെയും കുറിച്ച് പറയേണ്ടതുണ്ടോ? അനിത്യവും സുഖഹീനവുമായ ഈ മനുഷ്യലോകത്തെ പ്രാപിച്ചിരിക്കുന്നതിനാ\\u200dല്\\u200d എന്നെ ഭജിച്ചാലും. <EOS>\\n', 'എന്നി\\u200dല്\\u200d മനസ്സു വെച്ച്, എന്നി\\u200dല്\\u200d ഭക്തിയോടുകൂടി എന്നെ പൂജിക്കുകയും എന്നെ നമസ്കരിക്കുകയും ചെയ്യുക. ഇങ്ങനെ എന്നെത്തന്നെ വിചാരിചുകൊണ്ട് മനസ്സ് എന്നി\\u200dലുറപ്പിക്കുന്നവന്\\u200d എന്നെത്തന്നെ പ്രാപിക്കും. ഓം തത്സദിതി ശ്രീമദ്ഭഗവദ്ഗീതാസൂപനിഷത്സു ബ്രഹ്മവിദ്യായ\\u200dാം യോഗശാസ്ത്രേ ശ്രീകൃഷ്ണാര്\\u200dജുനസംവാദേ രാജവിദ്യാരാജഗുഹ്യയോഗോ നാമ നവമോധ്യായഃ <EOS>\\n', 'ശ്രീകൃഷ്ണ\\u200dന്\\u200dപറഞ്ഞു: അ\\u200dര്\\u200dജ്ജുനാ! സംപ്രീതനായ നിന്റെ ഹിതമാഗ്രഹിച്ചുകൊണ്ട് ഞാന്\\u200d വീണ്ടും പറയുന്ന ഉത്കൃഷ്ടമായ വാക്കുകളെ കേട്ടാലും. <EOS>\\n', 'എന്റെ ഉ\\u200dല്\\u200dപത്തിയെ ദേവന്മാരോ മഹ\\u200dര്\\u200dഷിമാരോ അറിയുന്നില്ല. മഹ\\u200dര്\\u200dഷിമാ\\u200dര്\\u200dക്കും, ദേവന്മാ\\u200dര്\\u200dക്കും, എല്ലാവിധത്തിലും ഞാ\\u200d\\u200dന്\\u200d ആദ്യനായുള്ളവനാണ്. <EOS>\\n', 'എന്നെ അനാദ്യനായും ജന്മഹീനനായും സ\\u200dര്\\u200dവേശ്വരനായും അറിയുന്നവ\\u200dന്\\u200d മനുഷ്യരി\\u200dല്\\u200dവച്ച് അജ്ഞാനരഹിതനായി എല്ലാ പാപങ്ങളി\\u200dല്\\u200dനിന്നും മുക്തനായിത്തീരുന്നു. <EOS>\\n', 'ബുദ്ധി, ജ്ഞാനം, സംശയമില്ലായ്മ, വ്യാമോഹമില്ലായ്മ, ക്ഷമ, സത്യം, ഇന്ദ്രിയസംയമനം, മനഃസംയമനം, സുഖദുഃഖങ്ങൾ, ജനനമര ണങ്ങൾ, ഭയം, ഭയരാഹിത്യം,  <EOS>\\n', 'അഹിംസ, സമതുലിതാവസ്ഥ, തൃപ്തി, തപസ്സ്, ദാനം, കീർത്തി, അപകീർത്തി എന്നിങ്ങനെ ജീവാത്മാക്കളുടെ വിവിധ ഗുണങ്ങളെല്ലാം ഞാൻ തന്നെയാണ് സൃഷ്ടിച്ചത്. <EOS>\\n', 'പൂ\\u200dര്\\u200dവന്മാരായ ഏഴു മഹ\\u200dര്\\u200dഷികളും അങ്ങനെതന്നെ നാലു മനുക്കളും എന്റെ ഭാവത്തോടുകുടി എന്റെ സങ്കല്പത്തി\\u200dല്\\u200dനിന്ന് ഉണ്ടായവരാണ്. അവരി\\u200dല്\\u200dനിന്നു ഈ പ്രജകളെല്ല\\u200dാം ലോകത്തി\\u200d\\u200dല്\\u200d ജനിച്ചു. <EOS>\\n', 'എന്റെ ഈ ഐശ്വര്യത്തേയും യോഗത്തേയും ശരിയായി അറിയുന്നവ\\u200dന്\\u200d നിശ്ചലമായ ഏകാഗ്രനിഷ്ഠയോടുകൂടിയവനാണ്; അതി\\u200cല്\\u200d\\u200d സംശയമില്ല. <EOS>\\n', 'ഞാനാണ് എല്ലാത്തിന്റെയും ഉത്ഭവസ്ഥാനമെന്നും സ\\u200dര്\\u200dവവും എന്നില്\\u200d നിന്നാണ് പ്രവ\\u200dര്\\u200dത്തിക്കുന്നതെന്നും അറിഞ്ഞ് പണ്ഡിതന്മാ\\u200dര്\\u200d ഏകാഗ്രഭാവത്തോടുകൂടി എന്നെ ഭജിക്കുന്നു. <EOS>\\n', 'എന്നി\\u200d\\u200dല്\\u200d മനസ്സുവയ്ക്കുകയും, എല്ലാ ഇന്ദ്രിയങ്ങളും എന്നില്\\u200d ലയിക്കുകയും ചെയ്തവ\\u200dര്\\u200d നിരന്തരം എന്നെപ്പറ്റി പരസ്പരം ബോധിപ്പിക്കുകയും ആനന്ദിക്കുകയും ചെയ്യുന്നു. <EOS>\\n', 'ദൃഢചിത്തന്മാരായി പ്രീതിപൂ\\u200dര്\\u200dവം എന്നെ ഭജിക്കുന്നവ\\u200dര്\\u200dക്ക് ഞാ\\u200dന്\\u200d ബുദ്ധിയോഗത്തെ നല്കുകയും അതിന്റെ ഫലമായി അവ\\u200dര്\\u200d എന്നെ പ്രാപിക്കുകയും ചെയ്യുന്നു. <EOS>\\n', 'അവരി\\u200d\\u200dല്\\u200d അനുകമ്പയോടുകൂടി ഞാ\\u200cന്\\u200d അവരുടെ മനസ്സിരുന്നു കൊണ്ട്, അജ്ഞാനത്തി\\u200cല്\\u200dന നിന്നുണ്ടായ അന്ധകാരത്തെ ഉജ്ജ്വലമായ ജ്ഞാനദീപം കൊണ്ട് നശിപ്പിക്കുന്നു. <EOS>\\n', 'അർജുനൻ പറഞ്ഞു: അങ്ങ് പരമദിവ്യോത്തമപുരുഷനാണ്. പരമമായ ധാമവും പവിത്രമായതും നിരപേക്ഷതത്ത്വവും ഭവാൻ തന്നെ. സനാതനനും, അഭൗതികനും, ആദിപുരുഷനും അജനും, മഹാനുമാണ്  <EOS>\\n', 'അതെന്ന് ദേവർഷിയായ നാരദനും അസിതൻ, ദേവലൻ, വ്യാസൻ മുതലായ എല്ലാ ഋഷികളും ഊന്നിപ്പറയുന്നു. ഇപ്പോൾ അങ്ങ് സ്വയം എന്നോട് ഇത് വ്യക്തമായി പറയുകയും ചെയ്യുന്നു. <EOS>\\n', 'കൃഷ്ണാ! അങ്ങ് പറയുന്നതെല്ല\\u200dാം സത്യം തന്നെയെന്ന് ഞാ\\u200d\\u200dന്\\u200d വിചാരിക്കുന്നു. അങ്ങയുടെ ഭാവത്തെ ദേവന്മാ\\u200d\\u200cരും ദാനവന്മാരും അറിയുന്നില്ല. <EOS>\\n', 'പുരുഷോത്തമനും സര്\\u200dവഭുതോ\\u200dല്പാദകനും ഭുതേശനും ദേവദേവനും ജഗ\\u200dല്\\u200dപതിയുമായ കൃഷ്ണാ! അങ്ങ് അങ്ങയെ അങ്ങയാ\\u200c\\u200dല്\\u200dതന്നെ തന്നെത്താ\\u200cന്\\u200dഅറിയുന്നു. <EOS>\\n', 'അങ്ങയുടെ ദിവ്യങ്ങളായ ഐശ്വര്യങ്ങളേയും അങ്ങ ലോകങ്ങളില്\\u200d ഏതേതു ഐശ്വര്യങ്ങളാ\\u200cല്\\u200d വ്യാപിച്ചു നി\\u200dല്\\u200dക്കുന്നുവോ അവയേയും അങ്ങുതന്നെയാണ് പറയേണ്ടത്. <EOS>\\n', 'കൃഷ്ണാ! ഞാന്\\u200d നിരന്തരം ധ്യാനിച്ചുകൊണ്ട് അങ്ങയെ എങ്ങനെയാണ് അറിയുക? ഏതേതുഭാവത്തിലാണ് അങ്ങയെ ഞാ\\u200cന്\\u200d ധ്യാനിക്കേണ്ടത്? <EOS>\\n', 'കൃഷ്ണാ! അങ്ങയുടെ യോഗത്തേയും ഐശ്വര്യത്തേയും വീണ്ടും സവിസ്തരം പറഞ്ഞാലും. അങ്ങയുടെ അമൃതസമമായ വാക്കുക\\u200dള്\\u200d എത്ര കേട്ടിട്ടും എനിക്കു തൃപ്തിയാകുന്നില്ല. <EOS>\\n', 'കൃഷ്ണ\\u200dന്\\u200dപറഞ്ഞു: അ\\u200dര്\\u200dജ്ജുനാ! എന്റെ ദിവ്യങ്ങളായ ഐശ്വര്യങ്ങളി\\u200dല്\\u200d പ്രധാനമായിട്ടുള്ളവയെ നിന്നോടു പറയ\\u200dാം. അവ വിശദീകരിക്കുകയാണെങ്കില്\\u200d അതിന് ഒരന്തവുമുണ്ടാവില്ല. <EOS>\\n', 'അ\\u200dര്\\u200dജ്ജുനാ! ഞാ\\u200dന്\\u200d സ\\u200dര്\\u200dവഭൂതങ്ങളുടേയും അന്തരംഗത്തി\\u200dല്\\u200d സ്ഥിതിചെയ്യുന്ന പരമാത്മാവാണ്. സ\\u200dര്\\u200dവചരാചരങ്ങളുടെയും ആദിയും മദ്ധ്യവും അന്തവും ഞാനാണ്. <EOS>\\n', 'ആദിത്യന്മാരി\\u200d\\u200dല്\\u200d വിഷ്ണുവും, ജ്യോതിസ്സുകളി\\u200dല്\\u200d സഹസ്രകിരണനായ സൂര്യനും, വായുക്കളി\\u200c\\u200dല്\\u200d മരീചിയും, നക്ഷത്രങ്ങളില്\\u200d ചന്ദ്രനും ഞാനാണ്. <EOS>\\n', 'വേദങ്ങളി\\u200dല്\\u200d സാമവേദവും, ദേവന്മാരില്\\u200d ഇന്ദ്രനും, ഇന്ദ്രിയങ്ങളി\\u200d\\u200dല്\\u200d മനസ്സും, ഭൂതങ്ങളില്\\u200d പ്രാണനും ഞാനാണ്. <EOS>\\n', 'രുദ്രന്മാരി\\u200d\\u200dല്\\u200d ശങ്കരനും, യക്ഷന്മാരിലും രാക്ഷസന്മാരിലും കുബേരനും, വസുക്കളില്\\u200d അഗ്നിയും, പ\\u200dര്\\u200dവതങ്ങളി\\u200d\\u200dല്\\u200d മഹാമേരുവും ഞാനാണ്. <EOS>\\n', 'അ\\u200dര്\\u200dജ്ജുനാ! പുരോഹിതന്മാരില്\\u200d ബൃഹസ്പതിയാണ് ഞാന്\\u200d. സൈന്യാധിപന്മാരി\\u200dല്\\u200d ഞാന്\\u200d സുബ്രഹ്മണ്യനാണ്. സരസ്സുകളി\\u200d\\u200cല്\\u200d സമുദ്രവും ഞാനാണ്. <EOS>\\n', 'മഹ\\u200dര്\\u200dഷിമാരി\\u200dല്\\u200d ഭൃഗുവും, വാക്കുകളില്\\u200d ഏകാക്ഷരമായ ഓങ്കാരവും, യജ്ഞങ്ങളി\\u200d\\u200dല്\\u200d ജപയജ്ഞവും സ്ഥാവരങ്ങളില്\\u200d ഹിമാലയവും ഞാനാണ്. <EOS>\\n', 'വൃക്ഷങ്ങളിൽ അശ്വത്ഥവും ദേവർഷിമാരിൽ നാരദനും ഗന്ധർവ്വ ന്മാരിൽ ചിത്രരഥനും യോഗസിദ്ധി നേടിയവരിൽ കപില മുനിയും ഞാനാണ്. <EOS>\\n', 'അശ്വങ്ങളിൽ ഞാൻ ഉച്ചശ്രവസ്സ് (അമൃതം നേടാനായി കല ക്കപ്പെട്ട സമുദ്രത്തിൽ പിറന്ന കുതിര) ആണ്. ആനകളിൽ ഇന്ദ്രവാഹനമായ ഐരാവതവും മനുഷ്യരിൽ രാജാവുമാണ്, ഞാൻ <EOS>\\n', 'ആയുധങ്ങളിൽ വെച്ച് വജവും (ഇടിമിന്നലും) പശുക്കളിൽ സുര ഭിയും, ജനനഹേതുക്കളിൽ കാമദേവനും, സർപ്പങ്ങളിൽ വാസുകിയും ഞാൻ തന്നെ.. <EOS>\\n', 'അനേക ഫണങ്ങളോടുകൂടിയ നാഗങ്ങളിൽ അനന്തനാണ് ഞാൻ ജലജീവികളിൽ വരുണൻ; പിതൃക്കളിൽ അര്യമാവ്; ശിക്ഷകരിൽ മൃത്യുദേവതയായ യമനും. <EOS>\\n', 'ദൈത്യന്മാരി\\u200d\\u200dല്\\u200d പ്രഹ്ലാദനും, കണക്കെടുക്കന്നവരില്\\u200d കാലനും ഞാനാണ്. മൃഗങ്ങളില്\\u200d സിംഹവും പക്ഷികളി\\u200d\\u200dല്\\u200d ഗരുഡനും ഞാ\\u200dന്\\u200d തന്നെ. <EOS>\\n', 'ശുദ്ധീകരണവസ്തുക്കളി\\u200d\\u200dല്\\u200d വായുവും, ആയുധധാരികളി\\u200dല്\\u200d രാമനും ഞാനാണ്. മത്സ്യങ്ങളി\\u200d\\u200dല്\\u200d മകരവും, നദികളില്\\u200d ഗംഗയും ഞാനാണ്. <EOS>\\n', 'അ\\u200dര്\\u200dജ്ജുനാ! സൃഷ്ടിവ\\u200dര്\\u200dഗ്ഗങ്ങളില്\\u200d ഉല്പത്തിസ്ഥിതിലയങ്ങ\\u200dള്\\u200d ഞാനാണ്. വിദ്യകളില്\\u200d അദ്ധ്യാത്മവിദ്യയും പരസ്പര സംഭാഷണങ്ങളി\\u200d\\u200dല്\\u200d വാദവും ഞാ\\u200dന്\\u200d തന്നെ. <EOS>\\n', 'അക്ഷരങ്ങളി\\u200cല്\\u200d അകാരവും, സമാസങ്ങളി\\u200d\\u200dല്\\u200dവച്ചു ദ്വന്ദ്വവും, ക്ഷയമില്ലാത്ത കാലവും, ക\\u200dര്\\u200dമ്മഫലം വിധിക്കുന്നവരി\\u200cല്\\u200d ബ്രഹ്മാവും ഞാനാണ്. <EOS>\\n', 'സ\\u200dര്\\u200dവത്തേയും നശിപ്പിക്കുന്നവരില്\\u200d മൃത്യുവും, ഭാവിയുടെ ഉ\\u200dല്\\u200dപാദകനും, സ്ത്രികളി\\u200cല്\\u200d കീ\\u200dര്\\u200dത്തി, ശ്രീ, സരസ്വതി, സ്മൃതി, ബുദ്ധി, ധൈര്യം, ക്ഷമ എന്നിവയും ഞാനാണ്. <EOS>\\n', 'സാമവേദത്തി\\u200dല്\\u200d ബൃഹ\\u200dല്\\u200dസാമവും, ഛന്ദസ്സുകളില്\\u200d ഗായത്രിയും ഞാനാണ്. അങ്ങനെ മാസങ്ങളി\\u200d\\u200dല്\\u200d മാര്\\u200dഗ്ഗശീര്\\u200dഷവും ഋതുക്കളില്\\u200d വസന്തവും ഞാനാണ്. <EOS>\\n', 'വഞ്ചനയി\\u200c\\u200dല്\\u200d ചൂതുകളിയും, തേജസ്വികളുടെ തേജസ്സും, ജയിക്കുന്ന വരില്\\u200d ജയവും, ഉദ്യമികളി\\u200d\\u200dല്\\u200d ഉദ്യമവും, സാത്വികന്മാരുടെ സത്വഗുണവും ഞാനാണ്. <EOS>\\n', 'വൃഷ്ണികളില്\\u200d കൃഷ്ണനും, പാണ്ഡവന്മാരില്\\u200d അര്\\u200dജുനനും, മുനികളില്\\u200d വ്യാസനും, കവികളി\\u200dല്\\u200d ശുക്രനും ഞാനാണ്. <EOS>\\n', 'ശിക്ഷകളില്\\u200d ദണ്ഡവും, ജയേച്ഛുക്കളില്\\u200d നീതിയും, രഹസ്യങ്ങളില്\\u200d മൗനവും, പാണ്ഡിത്യത്തി\\u200dല്\\u200d ജ്ഞാനവും ഞാനാണ്. <EOS>\\n', 'ശിക്ഷകളില്\\u200d ദണ്ഡവും, ജയേച്ഛുക്കളില്\\u200d നീതിയും, രഹസ്യങ്ങളില്\\u200d മൗനവും, പാണ്ഡിത്യത്തി\\u200dല്\\u200d ജ്ഞാനവും ഞാനാണ്. <EOS>\\n', 'അ\\u200dര്\\u200dജ്ജുനാ! എന്റെ ദിവ്യങ്ങളായ ഐശ്വര്യങ്ങ\\u200dള്\\u200dക്ക് അവസാനമില്ല. എന്റെ വിഭൂതികളെക്കുറിച്ചുള്ള ഈ വിവരണം ഞാ\\u200d\\u200dന്\\u200d ചുരുക്കിപ്പറഞ്ഞിട്ടുള്ളതാണ്. <EOS>\\n', 'ഐശ്വര്യത്തോടുകൂടിയോ, ശ്രീയോടുകൂടിയോ കരുത്തോടുകൂടിയോ ഉള്ള ഏതു വസ്തുവും എന്റെ തേജസ്സിന്റെ അംശത്തി\\u200d\\u200dല്\\u200d നിന്നുണ്ടായതുതന്നെയെന്ന് നീ അറിഞ്ഞാലും. <EOS>\\n', 'അ\\u200dര്\\u200dജ്ജുനാ! അഥവാ വിസ്\\u200dതൃതമായി അറിഞ്ഞിട്ട് ഇതി\\u200d\\u200dല്\\u200dനിന്നു നിനക്കെന്തു കാര്യം? ഈ പ്രപഞ്ചത്തെ മുഴുവ\\u200dന്\\u200d എന്റെ ഒരംശം കൊ ണ്ട് ഞാനാണ് താങ്ങുന്നത്. ഓം തത്സദിതി ശ്രീമദ്ഭഗവദ്ഗീതാസൂപനിഷത്സു ബ്രഹ്മവിദ്യായ\\u200dാം യോഗശാസ്ത്രേ ശ്രീകൃഷ്ണാര്\\u200dജുനസംവാദേ വിഭൂതിയോഗോ നാമ ദശമോധ്യായഃ <EOS>\\n', 'അ\\u200dര്\\u200dജ്ജുന\\u200dന്\\u200dപറഞ്ഞു: പരമവും ഗൂഢവും ആദ്ധ്യാത്മികവുമായ അങ്ങയുടെ വാക്കുകളാ\\u200d\\u200dല്\\u200d എന്നെ അനുഗ്രഹിക്കയാല്\\u200d എന്റെ മോഹം നശിച്ചുപോയി. <EOS>\\n', 'കൃഷ്ണാ! ഭൂതങ്ങളുടെ ഉത്ഭവനാശങ്ങളെപ്പറ്റിയും അങ്ങയുടെ അവ്യയമായ മാഹാത്മ്യത്തെപ്പറ്റിയും അങ്ങയി\\u200dല്\\u200dനിന്നു തന്നെ ഞാന്\\u200d കേട്ടു. <EOS>\\n', 'കൃഷ്ണാ! അങ്ങ് അങ്ങയെപ്പറ്റി പറഞ്ഞിട്ടുള്ളതൊക്കെയും അങ്ങനെതന്നെയുള്ളതാണ്. ഹേ പുരുഷോത്തമാ! എനിക്ക് അങ്ങയുടെ രൂപത്തെ കാണുവാന്\\u200d ആഗ്രഹമുണ്ട്. <EOS>\\n', 'കൃഷ്ണാ! എനിക്ക് ആ രൂപം കാണാവുന്നതാണെന്ന് അങ്ങ് വിചാരിക്കുന്നുവെങ്കി\\u200d\\u200dല്\\u200d അവ്യയനായ അങ്ങയെ എനിക്കു കാണിച്ചുതന്നാലും. <EOS>\\n', 'ശ്രീകൃഷ്ണ\\u200dന്\\u200dപറഞ്ഞുഃ അ\\u200dര്\\u200dജ്ജുനാ! നാനാപ്രാകാരത്തി\\u200cല്\\u200d ദിവ്യങ്ങളായി നാനാവ\\u200dര്\\u200dണ്ണങ്ങളോടും ആകൃതികളോടുംകൂടി അനേകശതങ്ങളായും അനേകായിരങ്ങളായുമുള്ള എന്റെ രൂപങ്ങളെ നീ കാണുക. <EOS>\\n', 'ആദിത്യന്മാരെയും വസുക്കളെയും, രുദ്രന്മാരെയും, അശ്വിനികളെയും, മരുത്തുകളെയും നീ കാണുക. മുമ്പു കണ്ടിട്ടില്ലാത്ത ബഹുപ്രകാരത്തി ലുള്ള ആശ്ചര്യങ്ങളെയും കാണുക. <EOS>\\n', 'ചരാചരങ്ങളോടുകൂടിയ മഹാപ്രപഞ്ചത്തേയും നീ കാണുവാ\\u200c\\u200dന്\\u200d ആഗ്രഹിക്കുന്ന മറ്റുള്ളവയേയും എന്റെ ദേഹത്തി\\u200d\\u200dല്\\u200dഒന്നിച്ചു നി\\u200dല്\\u200dക്കുന്നത് ഇതാ നീ കാണുക. <EOS>\\n', 'എന്നാല്\\u200d നിനക്ക് സ്വന്തം കണ്ണുകൊണ്ട് എന്നെ കാണുന്നതി\\u200dന്ന് ശക്തിയില്ല. ദിവ്യചക്ഷുസ്സ് നിനക്കു ഞാ\\u200d\\u200dന്\\u200d തരുന്നു. എന്റെ മഹത്തായ ശക്തിയെ കാണുക. <EOS>\\n', 'സഞ്ജയ\\u200dന്\\u200dപറഞ്ഞുഃ ഹേ രാജാവേ! ഇത്രയും പറഞ്ഞതി\\u200dനുശേഷം യോഗയോഗേശ്വരനായ കൃഷ്ണ\\u200dന്\\u200d തന്റെ ഐശ്വര്യപൂര്\\u200dണ്ണമായ രൂപത്തെ അ\\u200dര്\\u200dജ്ജുന\\u200d\\u200dന് കാണിച്ചു. <EOS>\\n', 'ആ വിശ്വവ്യാപ്തമായ രൂപത്തിൽ എണ്ണമറ്റ് മുഖങ്ങളും കണ്ണു കളും എണ്ണമറ്റ അദ്ഭുതദൃശ്യങ്ങളും അർജുനൻ കണ്ടു. അനേകം ദിവ്യാ ഭരണങ്ങളാൽ അലംകൃതമായ ആ രൂപം അനേകം ദിവ്യായുധങ്ങൾ ഉയർത്തിപ്പിടിച്ചിരുന്നു. <EOS>\\n', ' ദിവ്യങ്ങളായ പുഷ്പമാല്യങ്ങളും വസ്ത്രങ്ങളും അണിഞ്ഞിരുന്നു. ദിവ്യങ്ങളായ ഗന്ധദ്രവ്യങ്ങൾ ശരീരത്തിൽ പൂശി യിരുന്നു. അദ്ഭുതാവഹവും തേജോമയവും അമേയവും സർവ്വവ്യാ പവുമായിരുന്നു ആ രൂപം. <EOS>\\n', 'ആ മാഹാത്മാവിന്റെ (വിശ്വരൂപത്തിന്റെ) ശോഭ അനേകായിരം സൂര്യന്മാര്\\u200d ആകാശത്തി\\u200cല്\\u200d ഒരുമിച്ചുദിച്ചാലുണ്ടാകുന്ന പ്രകാശത്തിനു തുല്യമായിരുന്നു. <EOS>\\n', 'അപ്പോ\\u200dള്\\u200d അര്\\u200dജുന\\u200dന്\\u200d ഭഗവാന്\\u200d ശ്രീകൃഷ്ണന്റെ ആ ദേഹത്തി\\u200dല്\\u200d അനേകവിധത്തില്\\u200d വേര്\\u200dതിരിക്കപ്പെട്ടിട്ടുള്ള ലോകം മുഴുവ\\u200dന്\\u200d ഒന്നിച്ചുകണ്ടു. <EOS>\\n', 'അതുകണ്ട് അത്ഭുതപരതന്ത്രനും, രോമാഞ്ചകഞ്ചുകിതനും ആയിത്തീ\\u200dര്\\u200dന്ന ആ അ\\u200dര്\\u200dജ്ജുന\\u200dന്\\u200d ഭഗവാനെ കൈകൂപ്പി വണങ്ങിക്കൊണ്ട് ഇപ്രകാരം പറഞ്ഞു: <EOS>\\n', 'അ\\u200dര്\\u200dജ്ജുന\\u200dന്\\u200dപറഞ്ഞു: ഹേ ദേവ! ഞാ\\u200d\\u200dന്\\u200dഅങ്ങയുടെ ഈ ദേഹത്തില്\\u200d ദേവന്മാരേയും എല്ലാതരത്തിലുമുള്ള ഭുതഗണങ്ങളേയും, അതുപോലെ, കമലാസനത്തി\\u200cല്\\u200dസ്ഥിതിചെയ്യുന്ന സൃഷ്ടിക\\u200cര്\\u200dത്താവായ ബ്രഹ്മാവിനേയും മഹ\\u200dര്\\u200dഷിമാരേയും സ\\u200dര്\\u200dവദിവ്യസ\\u200dര്\\u200dപ്പങ്ങളേയും ഇതാ കാണുന്നു. <EOS>\\n', 'വിശ്വരൂപനും വിശ്വേശ്വരനുമായ ഹേ ഭഗവ\\u200dന്\\u200d! ഞാ\\u200dന്\\u200d\\u200d നോക്കുന്നിടത്തൊക്കെയും അനേകം കൈകളും അനേകം ഉദരങ്ങളും അനേകം മുഖങ്ങളും അനേകം നേത്രങ്ങളുമുള്ളവനും അനന്തരൂപങ്ങളോടുകൂടിയവനുമായ അങ്ങയെ ഒരാളെ മാത്രമേ കാണുന്നുള്ളു. എന്നാ\\u200d\\u200dല്\\u200dഅവിടത്തെ അന്തമോ മദ്ധ്യമോ ആദിയോ ഞാനൊട്ടു കാണുന്നുമില്ല. <EOS>\\n', 'കിരീടം, ഗദ, ചക്രം എന്നിവ ധരിച്ചവനും തേജോമയനും നോക്കിക്കാണുവാ\\u200cന്\\u200d വയ്യാത്തവിധത്തില്\\u200d കത്തിജ്വലിക്കുന്ന അഗ്നിസുര്യന്മാരുടെ ശോഭയോടുകൂടിയവനും ആയ അങ്ങയെ ഞാ\\u200cന്\\u200dഎല്ലായിടത്തും കാണുന്നു. <EOS>\\n', 'അങ്ങ് നാശമില്ലാത്തവനും, അറിയേണ്ടവനും, ഉ\\u200dല്\\u200dകൃഷ്ടനും, ഈ ലോകത്തിന്റെ പരമമായ ആശ്രയവുമാകുന്നു. അങ്ങ് നാശരഹിതനും സനാതനധര്\\u200dമ്മത്തിന്റെ സംരക്ഷകനും പുരാണപുരുഷനും ആണെന്നാണ് ഞാ\\u200d\\u200dന്\\u200d വിചാരിക്കുന്നത്. <EOS>\\n', 'ആദിമദ്ധ്യാന്തരഹിതനും അളവറ്റ വീര്യത്തോടുകൂടിയവനും അനേകം കൈകളുള്ളവനും ജ്വലിക്കുന്ന അഗ്നിയെപ്പോലെ ജാജ്ജ്വല്യമാനമായ വക്ത്രത്തോടുകൂടിയവനും, സൂര്യചന്ദ്രന്മാരാകുന്ന കണ്ണുകളുള്ളവനും സ്വതേജസ്സിനാ\\u200dല്\\u200d ഈ ലോകം മുഴുവനും തപിപ്പിക്കുന്നവനുമായ അങ്ങയെയാണ് ഞാനെങ്ങും കാണുന്നത്. <EOS>\\n', 'ഹേ മഹാത്മാവേ! ഭുമിയ്ക്കും ധ്യുലോകത്തിനുമിടയിലുള്ള ഈ ആകാശവും, എല്ലാ ദിക്കുകളും വ്യാപിച്ച് വിളങ്ങുന്ന അവിടുത്തെ അത്യുഗ്രമായ ഈ രൂപം കണ്ട് മൂന്നുലോകവും നടുങ്ങിപ്പോകുന്നു. <EOS>\\n', 'ഈ ദേവഗണങ്ങള്\\u200d അങ്ങയില്\\u200d പ്രവേശിക്കുന്നു. ചില\\u200dര്\\u200d ഭീതരായി കൈകൂപ്പി വാഴ്ത്തുന്നു. മഹ\\u200dര്\\u200dഷിമാരും സിദ്ധന്മാരും സ്വസ്\\u200dതി എന്നു പറഞ്ഞ് അ\\u200dര്\\u200dത്ഥപുഷ്ടിയുള്ള സ്ത്രോത്രങ്ങളാ\\u200c\\u200dല്\\u200d അങ്ങയെ സ്തുതിക്കയും ചെയ്യുന്നു. <EOS>\\n', 'രുദ്രന്മാ\\u200dരും ആദിത്യന്മാരും സാധ്യന്മാരും വിശ്വദേവന്മാരും അശ്വനീദേവന്മാരും മരുത്തുക\\u200dളും പിതൃദേവന്മാരും ഗന്ധ\\u200dര്\\u200dവന്മാ\\u200dരും യക്ഷന്മാ\\u200dരും അസുരന്മാ\\u200dരും സിദ്ധദേവന്മാരുമെല്ല\\u200dാം അങ്ങയെ അത്ഭുതപരതന്ത്രരായി നോക്കി നി\\u200dല്\\u200dക്കുന്നു. <EOS>\\n', 'ഹേ മഹാബാഹോ, അനേകം മുഖങ്ങളും, നേത്രങ്ങളും, കൈകളും, തുടകളും, കാലുകളും, ഉദരങ്ങളും, ദംഷ്ട്രങ്ങളും ഉള്ള ഭവാന്റെ മഹത്തായ ഈ രൂപത്തെക്കണ്ട് സകലലോകരും ഭീതരായിരിക്കുന്നു. ഞാനും അങ്ങനെതന്നെ ഭയാകുലനായിത്തീ\\u200dര്\\u200dന്നിരിക്കുന്നു. <EOS>\\n', 'ഹേ വിഷ്ണോ, ആകാശം ചുടുന്നതും, നാനാവ\\u200dര്\\u200dണ്ണങ്ങ\\u200dള്\\u200d പൂണ്ട് സമുജ്ജ്വലിക്കുന്നതും, വായ്\\u200dപിള\\u200dര്\\u200dന്നതും, നീണ്ട നേത്രങ്ങളള്\\u200d മിന്നിത്തിളങ്ങുന്നതും ആയ അങ്ങയുടെ ഈ സ്വരൂപം കണ്ടിട്ട് എനിക്കു ധൈര്യവും സമാധാനവും നഷ്ടമാകുന്നു. <EOS>\\n', 'ഹേ ജഗദ്\\u200cവ്യാപിയായ ദേവേശ, ഘോരമായ ദംഷ്ട്രകളുള്ളതും പ്രളയകാലത്തുണ്ടാക്കുന്ന അഗ്നിയെപ്പോലെ ജ്വലിക്കുന്നതുമായ അവിടുത്തെ മുഖങ്ങ\\u200dള്\\u200d കണ്ടമാത്രയില്\\u200d തന്നെ എനിക്ക് ദിക്കുക\\u200dള്\\u200d അറിയാതായിപ്പോകുന്നു. എനിക്കു മനസ്സമാധാനം തീരെ ഉണ്ടാകുന്നില്ല. ഭഗവാനേ! എന്നില്\\u200d പ്രസാദിച്ചാലും. <EOS>\\n', 'ധൃതരാഷ്ട്ര പുത്രന്മാരെല്ലാവരും അവരെ സഹായിക്കുന്ന രാജാ ക്കന്മാരും ദീഷ്മർ, ദ്രോണർ, കർണ്ണൻ എന്നിവരും നമ്മുടെ യോദ്ധാ ക്കളിൽ പ്രമുഖന്മാരുമെല്ലാം <EOS>\\n', ' അങ്ങയുടെ ഭീകരങ്ങളായ വായ്കളിലേയ്ക് അതിവേഗത്തിൽ കടന്നുപോവുകയാണ്. ആ ദംഷ്ട്രങ്ങൾക്കിട യിൽപ്പെട്ട് ചിലരുടെ ശിരസ്സുകൾ ചതഞ്ഞരയുന്നു. <EOS>\\n', 'എപ്രകാരം നദികളുടെ നാനാപ്രവാഹങ്ങള്\\u200d സമുദ്രത്തെ ലക്ഷ്യമാക്കി ഒഴുകിച്ചെല്ലുന്നുവോ അപ്രകാരം ഈ വീരന്മാര്\\u200d അങ്ങയുടെ ജ്വലിക്കുന്ന മുഖങ്ങളില്\\u200d പ്രവേശിക്കുന്നു. <EOS>\\n', 'പാറ്റക\\u200dള്\\u200d എങ്ങനെ നശിക്കാനായിട്ടുതന്നെ കത്തിക്കാളുന്ന തീയി\\u200dല്\\u200dച്ചെന്നു വേഗത്തില്\\u200d വീഴുന്നുവോ, അതുപോലെ തന്നെ ഈ ജനങ്ങളും നാശത്തിനായി അതിവേഗത്തോടെ അവിടുത്തെ വക്\\u200cത്രങ്ങളി\\u200d\\u200dല്\\u200d പ്രവേശിക്കുന്നു. <EOS>\\n', 'ജ്വലിക്കുന്ന മുഖങ്ങളാല്\\u200d എല്ലാ ലോകങ്ങളെയും വിഴുങ്ങിക്കൊണ്ട് അങ്ങ് ചുണ്ടുകള്\\u200d തുടയ്ക്കുന്നു.അവിടുത്തെ ഉഗ്രകിരണങ്ങ\\u200dള്\\u200d ലോകത്തെ മുഴുവന്\\u200d തേജോപൂരമാക്കിക്കൊണ്ട് അതിനെ തപിപ്പിക്കുന്നു. <EOS>\\n', 'ഹേ മഹാനായ ദേവ! ഉഗ്രരൂപത്തോടുകൂടിയ ഭവാന്\\u200d ആരാണെന്നു പറഞ്ഞാലും. അങ്ങേയ്\\u200dക്കു നമസ്\\u200dകാരം! എന്നി\\u200dല്\\u200d പ്രസാദിക്കുമാറാകണേ! ആദിപുരുഷനായ ഭഗവാനെപ്പറ്റി വേണ്ടതി\\u200dന്\\u200dവണ്ണം മനസ്സിലാക്കണമെന്നു ഞാനാഗ്രഹിക്കുന്നു. അവിടുത്തെ പ്രവൃത്തിയെ (ഉദ്ദേശത്തെ)ക്കുറിച്ച് എനിക്കറിഞ്ഞുകൂടാ. <EOS>\\n', 'ശ്രീകൃഷ്ണ\\u200dന്\\u200d പറഞ്ഞു: ഞാന്\\u200d ലോകത്തെ നശിപ്പിക്കുന്ന കാലം (കാല\\u200dന്\\u200d) ആകുന്നു. ഞാന്\\u200d ലോകസംഹാരകൃത്യത്തി\\u200dല്\\u200d ഏര്\\u200dപ്പെട്ടിരിക്കയാണ്. നീയില്ലെങ്കിലും (നീ യുദ്ധം ചെയ്തില്ലെങ്കിലും) ഇവിടെക്കൂടിയിരിക്കുന്ന ശത്രുപക്ഷത്തിലെ യോദ്ധാക്ക\\u200dളാരും ജീവിച്ചിരിക്കുകയില്ല. <EOS>\\n', 'ഹേ! അ\\u200dര്\\u200dജ്ജുനാ! നീ എഴുന്നേല്\\u200dക്കുക, യുദ്ധം ചെയ്തു ജയവും യശസ്സും നേടുക. ശത്രുക്കളെ ജയിച്ച് ഐശ്വര്യസമൃദ്ധമായ രാജ്യം ഭരിച്ചുവാഴുക. പരമാ\\u200dര്\\u200dത്ഥത്തില്\\u200d ഞാന്\\u200d ഇവരെ മുമ്പു തന്നെ വധിച്ചുകഴിഞ്ഞിരിക്കുന്നു. നീ അതിനു നിമിത്തകാരണം മാത്രമായിത്തീ\\u200dര്\\u200dന്നാ\\u200cല്\\u200dമതി. <EOS>\\n', 'എന്നാ\\u200dല്\\u200dവധിക്കപ്പെട്ടവരായ ദ്രോണ\\u200dരെയും ഭീഷ്മ\\u200dരെയും ജയദ്രഥനെയും മറ്റു ശത്രുസൈനികവീരന്മാരെയെല്ല\\u200dാം നീ വധിച്ചു കൊണ്ടാലും. നീ വ്യസനിക്കരുത്. യുദ്ധം ചെയ്യൂ, നീ ശത്രുക്കളെ കീഴടക്കുകതന്നെ ചെയ്യും. <EOS>\\n', 'സഞ്ജയ\\u200dന്\\u200dപറഞ്ഞു: ശ്രീകൃഷ്ണന്റെ ഈ വാക്കുകള്\\u200d കേട്ടിട്ട് അ\\u200dര്\\u200dജ്ജുന\\u200dന്\\u200d വിറച്ചുകൊണ്ട് ഭയത്തോടുകൂടി വീണ്ടും കൈകൂപ്പിത്തൊഴുതു പിന്നെയും പറഞ്ഞു: <EOS>\\n', 'അ\\u200dര്\\u200dജ്ജുന\\u200dന്\\u200d പറഞ്ഞു: ഹേ ഹൃഷികേശ! അങ്ങയുടെ സ്തുതിക്കുന്നതു കൊണ്ടു ഈ ലോകത്തിനു സന്തോഷവും ഭക്തിയും ഉണ്ടാകുന്നു എന്നുള്ളതു യുക്തം തന്നെ. ദുഷ്ടന്മാരായ അസുരരാക്ഷസന്മാര്\\u200d അവിടുത്തെ സ്തുതികള്\\u200d കേ\\u200dള്\\u200dക്കുന്ന മാത്രയി\\u200dല്\\u200d ഭീതരായി നാലുദിക്കുകളിലും ഓടുന്നു. ശിഷ്ടന്മാരായ ദേവന്മാരാവട്ടെ ഭക്തിപരശരായി അവിടുത്തെ നമസ്കരിക്കയും ചെയ്യുന്നു. <EOS>\\n', 'സൃഷ്ടിക\\u200dര്\\u200dത്താവായ ബ്രഹ്മവിന്റെയും ആദിക\\u200dര്\\u200dത്താവായ അങ്ങയെ, എങ്ങനെയാണ് നമസ്കരിക്കാതെയിരിക്കുന്നത്? സ\\u200dര്\\u200dവാന്തര്യാമിയായ ഹേ വിശ്വേശ്വരാ! സത്തും അസത്തും അവയ്ക്കപ്പുറമുള്ളതും നാശമില്ലാത്തതുമായ തത്ത്വവും അങ്ങു തന്നെയാകുന്നു. <EOS>\\n', 'ഹേ ഭഗവ\\u200dന്\\u200d! അങ്ങ് ആദിദേവനും പുരാണപുരുഷനും ആകുന്നു. അങ്ങ് ലോകത്തിന്റെ പരമമായ ആധാരമാകുന്നു. അറിയുന്നവനും, അറിയപ്പെടേണ്ടവനും പരമമായ ലക്ഷ്യവും അങ്ങു തന്നെ. അനന്തരൂപനായ അങ്ങയാല്\\u200d ഈ ലോകം വ്യാപ്തമായിരിക്കുന്നു. <EOS>\\n', 'അങ്ങ് വായുവും, യമനും, അഗ്നിയും, വരുണനും, ചന്ദ്രനും, ബ്രഹ്മാവും, ബ്രഹ്മാവിന്റെ ബ്രഹ്മാവും ആകുന്നു. അങ്ങയ്\\u200dക്ക് നമസ്\\u200dകാരം ഭവിക്കട്ടെ. വീണ്ടും വീണ്ടും അങ്ങേയ്\\u200dക്കു നമസ്\\u200dകാരം. <EOS>\\n', 'ഹേ സ\\u200dര്\\u200dവാത്മ\\u200dന്\\u200d, അങ്ങനെ മുന്നിലും പിന്നിലും നിന്ന് ഞാ\\u200cന്\\u200d നമസ്\\u200dകരിക്കുന്നു. എല്ലാഭാഗത്തും അങ്ങേയ്ക്കു നമസ്\\u200dകാരം. അളവറ്റ വീരവും അതിരറ്റ പരാക്രമവും ഉള്ളവനായ അങ്ങ് ലോകം മുഴുവ\\u200dന്\\u200d വ്യാപിച്ചവനായിരിക്കുന്നു. അതിനാല്\\u200d എല്ല\\u200dാം അങ്ങ് തന്നെയാകുന്നു. <EOS>\\n', 'ഹേ ഭഗവ\\u200dന്\\u200d\\u200d! അങ്ങയുടെ ഈ മഹിമാതിശയം മനസ്സിലാക്കാതെ ഞാ\\u200cന്\\u200d അബദ്ധത്താലോ സ്നേഹത്താലോ സ്നേഹിതനാണെന്നു കരുതി അങ്ങയെ ഞാന്\\u200d ഹേ കൃഷ്ണാ, ഹേ യാദവ, ഹേ സഖേ എന്നിപ്രകാരമൊക്കെ വിളിച്ചു പോയിട്ടുള്ളതിനെ അങ്ങു ക്ഷമിക്കണം. <EOS>\\n', 'ഹേ അച്യുത, കളിക്കുമ്പോഴും, കിടക്കുമ്പോഴും, ഇരിക്കുമ്പോഴും, ഉണ്ണുമ്പോഴും, തനിച്ചിരിക്കുമ്പോഴും, പല\\u200dര്\\u200dകൂടി ചേ\\u200d\\u200d\\u200dര്\\u200dന്നിരിക്കുമ്പോഴും ഞാന്\\u200d ഏതെങ്കിലും വിധത്തി\\u200dല്\\u200d അങ്ങയെ അപമാനിച്ചിട്ടുണ്ടെങ്കി\\u200cല്\\u200d അതിനെ പൊറുക്കണമെന്നു ഞാന്\\u200d അമേയനായ അങ്ങയോടു പ്രാ\\u200dര്\\u200dത്ഥിക്കുന്നു. <EOS>\\n', 'അതുല്യശക്തിയുള്ള ഹേ ഭഗവ\\u200dന്\\u200d\\u200d! അങ്ങ് ചരാചരാത്മകമായ ഈ ജഗത്തിന്റെ പിതാവാകുന്നു. അങ്ങ് ഈ ജഗത്തിനു പുജ്യനും ശ്രേഷ്ഠനായ ഗുരുവുമാകുന്നു. മൂന്നു ലോകങ്ങളിലും അങ്ങയ്ക്കു തുല്യനായിട്ടൊരാളുമില്ല. അപ്പോള്\\u200d അതുലിതശക്തിയുള്ള അങ്ങയെ വെല്ലാന്\\u200d ആരാണുള്ളത്? <EOS>\\n', 'ഹേ ദേവ! അതിനാ\\u200dല്\\u200d ഞാന്\\u200d നിന്തിരുവടിയെ വണങ്ങി സ്തുത്യനും ലോകനാഥനും ആയ അങ്ങയോട് എന്നില്\\u200d പ്രസാദിക്കണേ എന്ന് അപേക്ഷിക്കുന്നു. പിതാവ് പുത്രന്റെയും, സ്നേഹിത\\u200dന്\\u200d സുഹൃത്തിന്റെയും, ഭ\\u200dര്\\u200dത്താവ് ഭാര്യയുടെയും അപരാധങ്ങളും ക്ഷമിക്കുമ്പോലെ അങ്ങ് എന്റെ അപരാധത്തെയും ക്ഷമിക്കണം. <EOS>\\n', 'ലോകവ്യാപിയായ ദേവേശ! മുമ്പു കാണാത്തതു കണ്ടിട്ട് ഞാ\\u200d\\u200d\\u200dന്\\u200d സന്തോഷിക്കുന്നു; എങ്കിലും ഭയത്താല്\\u200d എന്റെ ഹൃദയം വിഹ്വലമായിത്തീരുന്നു. അങ്ങയുടെ ആ (ശ്രീകൃഷ്ണാകൃതിയിലുള്ള) രൂപം തന്നെ എനിക്കു കാണിച്ചു തരിക. ദേവ! പ്രസാദിക്കേണമേ! <EOS>\\n', 'മുമ്പത്തെ മട്ടി\\u200d\\u200dല്\\u200dതലയില്\\u200d കിരീടവും, കൈകളില്\\u200d ഗദയും, ചക്രവും ധരിച്ചിട്ടുള്ള അവിടുത്തെ രൂപത്തെ ഞാന്\\u200d കാണ്മാനാഗ്രഹിക്കുന്നു. അസംഖ്യം ബാഹുക്കളോടുകൂടിയ ഭഗവാനേ, ചതു\\u200dര്\\u200dഭുജത്തോടു കൂടിയ ആ പഴയ രൂപത്തെത്തന്നെ പ്രാപിച്ചാലും! <EOS>\\n', 'ഹേ അ\\u200dര്\\u200dജ്ജുനാ! ഞാ\\u200d\\u200dന്\\u200dഎന്റെ യോഗശക്തിയാല്\\u200d നിനക്കു കാട്ടിത്തന്നതായ തേജോമയവും അനാദ്യന്തവുമായ ഈ വിശ്വരൂപം മറ്റാരും ഇതുവരെ കണ്ടിട്ടുള്ളതല്ല. <EOS>\\n', 'ഹേ കൗരവശ്രേഷ്ഠ! ഈ മനുഷ്യലോകത്തി\\u200dല്\\u200dനീയൊഴിച്ചു മറ്റൊരു ത്തനും എന്റെ ഈ രുപം വേദാധ്യയനത്താലോ യോഗാനുഷ്ഠാനം കൊണ്ടോ ദാനങ്ങ\\u200dള്\\u200d, ഉഗ്രതപസ്സുക\\u200dള്\\u200d, സ\\u200dല്\\u200dക്രിയക\\u200dള്\\u200d മുതലായവ കൊണ്ടോ കാണപ്പെടുവാ\\u200cന്\\u200dകഴിയുന്നതല്ല. <EOS>\\n', 'എന്റെ ഈ ഘോരമായ രൂപംകണ്ടു നീ ഭയപ്പെടുകയും സംഭ്രമിക്കുകയും വേണ്ട. നീ ഭയം വെടിഞ്ഞ് പ്രീതചിത്തനായി എന്റെ ആ പൂ\\u200dര്\\u200dവരൂപത്തെ വീണ്ടും കാണുക. <EOS>\\n', 'സഞ്ജയ\\u200dന്\\u200dപറഞ്ഞു: ശ്രീകൃഷ്ണ\\u200dന്\\u200dഇങ്ങനെ അ\\u200dര്\\u200dജ്ജുനോടു പറഞ്ഞിട്ട് തന്റെ പൂ\\u200dര്\\u200dവരുപം തന്നെ കാണിച്ചുകൊടുത്തു. സൗമ്യരുപനായി ത്തീ\\u200dര്\\u200dന്ന ഭഗവാ\\u200d\\u200dന്\\u200dഭീതനായ പാ\\u200dര്\\u200dത്ഥനെ ആശ്വസിപ്പിക്കുകയും ചെയ്തു. <EOS>\\n', 'ഹേ ജനാ\\u200d\\u200dര്\\u200dദ്ദനാ! അങ്ങയുടെ സൗമ്യമായ മാനുഷരൂപംകണ്ട് ഞാനിപ്പോ\\u200dള്\\u200d മനസ്സമാധാനത്തെയും പു\\u200dര്\\u200dവപ്രകൃതിയെയും പ്രാപിച്ചവനായിത്തീ\\u200dര്\\u200dന്നിരിക്കുന്നു. <EOS>\\n', 'ശ്രീകൃഷ്ണ\\u200dന്\\u200d പറഞ്ഞു: ദേവന്മാ\\u200dര്\\u200dപോലും എന്നും ദ\\u200dര്\\u200dശിക്കുവാ\\u200d\\u200dന്\\u200d അതിയായി ആഗ്രഹിച്ചു കൊണ്ടിരിക്കുന്നതും, ദ\\u200dര്\\u200dശിപ്പാ\\u200cന്\\u200d പ്രയാസമായിട്ടുള്ളതും ആയ എന്റെ ഈ രൂപത്തെ നീ കണ്ടുവല്ലോ. <EOS>\\n', 'ഏതാദൃശനായ എന്നെ നീ കണ്ടവിധത്തി\\u200dല്\\u200d കാണുന്നതിനു വേദങ്ങളാലോ തപസ്സിനാലോ ദാനത്തിനാലോ യോഗത്തിനാലോ ഒന്നും സാധിക്കുന്നതല്ല. <EOS>\\n', 'ഹേ ശത്രുനാശകനായ അ\\u200dര്\\u200dജ്ജുനാ, അനന്യവിഷയകമായ ഭക്തിയൊന്നിനാ\\u200dല്\\u200d മാത്രമേ ഇങ്ങനേയുള്ളവനായ എന്നെ യഥാ\\u200cര്\\u200dത്ഥമായി അറിയാനും കാണ്മാനും പ്രാപിക്കുവാനും കഴിയുകയുള്ളു. <EOS>\\n', 'ഹേ പാണ്ഡുപുത്ര! യാതൊരുത്ത\\u200dന്\\u200d എന്നെ ഉദ്ദേശിച്ചു ക\\u200dര്\\u200dമ്മം ചെയ്യുന്നവനും, എന്നെ പ്രാപ്യസ്ഥാനമായി വിചാരിക്കുന്നവനും, എന്നി\\u200d\\u200dല്\\u200d ഭക്തിയുള്ളവനും, സംഗം വിട്ടവനും, സ\\u200cര്\\u200dവജീവികളിലും വൈരമില്ലാത്തവനും ആയിരിക്കുന്നുവോ അവ\\u200dന്\\u200d എന്നെ പ്രാപിക്കുന്നു. ഓം തത്സദിതി ശ്രീമദ്ഭഗവദ്ഗീതാസൂപനിഷത്സു ബ്രഹ്മവിദ്യായ\\u200dാം യോഗശാസ്ത്രേ ശ്രീകൃഷ്ണാര്\\u200dജുനസംവാദേ വിശ്വരൂപദര്\\u200dശനയോഗോ നാമൈകാദശോധ്യായഃ <EOS>\\n', 'അര്\\u200dജുന\\u200dന്\\u200dപറഞ്ഞുഃ ഇപ്രകാരം എപ്പോഴും അങ്ങയി\\u200dല്\\u200d ഉറപ്പിച്ച മനസ്സോടുകൂടി അങ്ങയെ ഉപാസിക്കുന്നവരോ, അവ്യക്തമായ അക്ഷരബ്രഹ്മത്തെ ഉപാസി ക്കുന്നവരോ, ആരാണ് അധികം യോഗജ്ഞാനമുള്ളവ\\u200dര്\\u200d? <EOS>\\n', 'ശ്രീകൃഷ്ണ\\u200dന്\\u200dപറഞ്ഞു: ആര് എന്നി\\u200d\\u200dല്\\u200dമനസ്സുറപ്പിച്ചു സ്ഥിരമായ നിഷ്ഠയോടും ശ്രേഷ്ഠമായ ശ്രദ്ധയോടും കുടി എന്നെ ആരാധിക്കുന്നുവോ അവരാണ് യോഗത്തില്\\u200d ശ്രേഷ്ഠന്മാരെന്നാണ് എന്റെ അഭിപ്രായം. <EOS>\\n', 'എന്നാൽ ഇന്ദ്രിയങ്ങളെയെല്ലാം നിയന്ത്രിച്ച് എല്ലാവരിലും സമ ഭാവനയോടെ, സർവ്വജീവികളുടേയും നന്മയിൽ തത്പരരായിക്കൊണ്ട്,  <EOS>\\n', 'ഇന്ദ്രിയങ്ങൾക്ക് ഗോചരമല്ലാത്തതും, അവ്യക്തവും, സർവ്വവ്യാപവും, അചിന്ത്യവും, സ്ഥിരവും, മാറ്റമില്ലാത്തതും, ഉറച്ചതും ആയതിനെ നിരപേക്ഷതത്ത്വത്തിന്റെ വ്യക്തിശൂന്യസങ്കല്പത്തെ പൂർണ്ണ മായും ഉപാസിക്കുന്നവരും ഒടുവിൽ എന്നെത്തന്നെ പ്രാപിക്കുന്നു. <EOS>\\n', 'അവ്യക്തബ്രഹ്മത്തി\\u200cല്\\u200d മനസ്സുറപ്പിച്ചു നി\\u200dര്\\u200dഗുണോപാസന ചെയ്യുന്നവ\\u200dര്\\u200dക്ക് വളരെയധികം ക്ലേശം ഉണ്ടാകുന്നതാണ്. എന്തുകൊണ്ടെന്നാ\\u200d\\u200dല്\\u200d ദേഹിക\\u200dള്\\u200dക്ക് അവ്യക്തബ്രഹ്മത്തെ ഉപാസിക്കുന്നത് തുലോം ദുഷ്കരമായിട്ടുള്ളതാകുന്നു. <EOS>\\n', 'സഹേ പാർത്ഥാ, എന്നാൽ എന്നെ എല്ലായ്പ്പോഴും ധ്യാനിച്ചു കൊണ്ട് സർവകർമ്മങ്ങളേയും എനിക്കായർപ്പിച്ച്, എന്നിൽ മനസ്സ് അച ഞ്ചലമായുന്നിക്കൊണ്ട് ഭക്തിയുതസേവനത്തിൽ ഏർപ്പെട്ടുപോരുന്നവരെ  <EOS>\\n', 'ഞാൻ വേഗത്തിൽ ജനനമരണങ്ങളുടെ ഈ സമുദ്രത്തിൽ നിന്ന് കരകയറ്റും. <EOS>\\n', 'മനസ്സിനെ എന്നി\\u200dല്\\u200dതന്നെ നിലനി\\u200dര്\\u200dത്തുക; സ്ഥിരമായി എന്നി\\u200cല്\\u200dതന്നെ ബുദ്ധിയെ ചെലുത്തുക; അങ്ങനെ ചെയ്താല്\\u200d നീ എന്നില്\\u200d തന്നെ നിവസിക്കും, സംശയമില്ല. <EOS>\\n', 'ഇനി എന്നില്\\u200d സ്ഥിരമായി ചിത്തം നി\\u200dര്\\u200dത്തുവാ\\u200cന്\\u200d ശക്തിയില്ലാത്ത പക്ഷം പിന്നെ അഭ്യാസയോഗത്താ\\u200c\\u200dല്\\u200d എന്നെ പ്രാപിക്കുവാ\\u200d\\u200dന്\\u200d നോക്കണം. <EOS>\\n', 'അഭ്യാസത്തിലും നീ അശക്തനാണെങ്കി\\u200dല്\\u200d എന്നെ ഉദ്ദേശിച്ചു ക\\u200dര്\\u200dമ്മം ചെയ്യുക. എന്നെയുദ്ദേശിച്ചു ക\\u200dര്\\u200dമ്മം ചെയ്\\u200dതാലും നിനക്കു സിദ്ധിയെ പ്രാപിക്കാവുന്നതാണ്. <EOS>\\n', 'ഇതിനും നിനക്കു ശക്തിയില്ലെങ്കി\\u200d\\u200dല്\\u200d എന്നെ ശരണം പ്രാപിച്ച് ആത്മസംയമനം ചെയ്ത് സകല ക\\u200dര്\\u200dമ്മങ്ങളും ഫലേച്ഛ കൂടാതെ ചെയ്യുക. <EOS>\\n', 'അഭ്യസത്തെക്കാ\\u200d\\u200dള്\\u200d ജ്ഞാനം ശ്രേഷ്ഠമാകുന്നു. ജ്ഞാനത്തെക്കാ\\u200cള്\\u200d ശ്രേഷ്ഠമായിട്ടുള്ളതു ധ്യാനമാണ്. ധ്യാനത്തെക്കാളും വിശിഷ്ടമായി രിക്കുന്നതാണ് ത്യാഗം (ക\\u200dര്\\u200dമ്മഫലത്യാഗം) ത്യാഗത്തി\\u200dല്\\u200d നിന്നുടനെ ശാന്തി ഉണ്ടാകുന്നു. <EOS>\\n', 'മാത്സര്യം കൂടാതെ, സർവ്വജീവസത്തകൾക്കും സുഹൃത്തായി, ഒന്നിലും അവകാശബോധവും മിഥ്യാഹങ്കാരവുമില്ലാതെ, സുഖദുഃഖ ങ്ങളിൽ സമനില കൈക്കൊണ്ട് ക്ഷമാശാലിയായും <EOS>\\n', ' സദാ സംതൃപനായും നിയന്ത്രിതാത്മാവായും മനസ്സും ബുദ്ധിയും എന്നിലുറപ്പിച്ച് ദൃഢനിശ്ചയത്തോടെ ഭക്തിയുതസേവനമനുഷ്ഠിക്കുന്ന എന്റെ ഭക്തൻ എനിക്കേറ്റവും പ്രിയങ്കരനാണ്. <EOS>\\n', 'ആരെ ലോകം ഭയപ്പെടുന്നില്ലയോ, ആ\\u200d\\u200cര് ലോകത്തെയും ഭയപ്പെടുന്നില്ലയോ, ആര് സന്തോഷം, ദ്വേഷം, ഭയം, ക്ഷോഭം മുതലായവയാല്\\u200d വേ\\u200dര്\\u200dപെട്ടിരിക്കുന്നുവോ, അവനും എനിക്ക് പ്രിയപ്പെട്ടവനാകുന്നു. <EOS>\\n', 'അപേക്ഷയില്ലാത്തവനും ശുദ്ധിയുള്ളവനും സമ\\u200dര്\\u200dത്ഥനും ആസക്തി യില്ലാത്തവനും ദുഃഖമില്ലാത്തവനും സ്വാ\\u200dര്\\u200dത്ഥപ്രവൃത്തികളെ പരിത്യജിച്ചവനുമായ ഭക്ത\\u200dന്\\u200d എനിക്കു പ്രിയ\\u200dന്\\u200d തന്നെ. <EOS>\\n', 'സന്തോഷിക്കുകയോ ദ്വേഷിക്കുകയോ ദുഃഖിക്കുകയോ ആഗ്രഹിക്കു കയോ ചെയ്യാത്തവനും സുകൃതദുഷ്\\u200dകൃതങ്ങളെ കൈവിട്ടവനും നിറഞ്ഞ ഭക്തിയുള്ളവനുമായവന്\\u200d എനിക്ക് പ്രിയപ്പെട്ടവനത്രേ. <EOS>\\n', 'ശത്രുക്കളിലും മിത്രങ്ങളിലും സമഭാവനയോടെ, മാനാപമാനങ്ങൾ, ശീതോഷ്ണങ്ങൾ, സുഖദുഃഖങ്ങൾ, ആദരവും അനാദരവും, യശസ്സ്, ദുഷ്കീർത്തി എന്നീ ദ്വന്ദ്വങ്ങളെ <EOS>\\n', ' ഒരേവിധം കൈക്കൊണ്ട് അസത്സംഗത്തിൽ നിന്ന് എല്ലായ്പ്പോഴും മുക്തനും മൗനിയും ജ്ഞാനത്തിലുറച്ചവനും സദാ സംതൃപ്തനുമായി, ഗാർഹികബോധമുപേക്ഷിച്ച് ഭക്തിയുത സേവനത്തിലേർപ്പെട്ടിരിക്കുന്ന ഭക്തൻ എനിക്കെത്രയും പ്രിയപ്പെട്ടവനാണ്. <EOS>\\n', 'ഇപ്പറഞ്ഞ ഈ ധ\\u200dര്\\u200dമ്മമാ\\u200dര്\\u200dഗ്ഗത്തെ പറഞ്ഞതി\\u200dന്\\u200d വണ്ണം ശ്രദ്ധയോടും എന്നില്\\u200d ശരണബുദ്ധിയോടും കൂടി അനുഷ്ഠിക്കുന്ന ഭക്തന്മാര്\\u200d എനിക്ക് ഏറ്റവും പ്രിയപ്പെട്ടവരത്രേ. <EOS>\\n', 'അര്\\u200dജുന\\u200dന്\\u200d പറഞ്ഞു: ഹേ കൃഷ്ണാ, പ്രകൃതി, പുരുഷ\\u200dന്\\u200d, ക്ഷേത്രം, ക്ഷേത്രജ്ഞ\\u200dന്\\u200d, ജ്ഞാനം (അറിവ്), ജ്ഞേയം (അറിയപ്പെടേണ്ടത്) എന്നിവയെപ്പറ്റി ഞാന്\\u200d അറിയാന്\\u200d ആഗ്രഹിക്കുന്നു. <EOS>\\n', 'ശ്രീകൃഷ്ണ\\u200dന്\\u200d പറഞ്ഞു: ഹേ അ\\u200dര്\\u200dജ്ജുനാ, ഈ ശരീരത്തെ ക്ഷേത്രം എന്നു പറയുന്നു. ഈ ക്ഷേത്രത്തെ അറിയുന്നവനെ ക്ഷേത്രജ്ഞ\\u200dന്\\u200d എന്നും ഇതിനെ അറിയുന്നവ\\u200dര്\\u200d പറയുന്നു. <EOS>\\n', 'ഹേ പാ\\u200dര്\\u200dത്ഥാ, എല്ലാ ക്ഷേത്ര (ശരീര) ങ്ങളിലും ഞാനാണ് ക്ഷേത്രജ്ഞനെന്നു നീ അറിയുക. ക്ഷേത്രക്ഷേത്രജ്ഞന്മാരെ (ദേഹത്മാക്ക\\u200dളെ) ക്കുറിച്ചുള്ള അറിവത്രേ ജ്ഞാനമാകുന്നത്. <EOS>\\n', 'ആ ക്ഷേത്രം എന്നാ\\u200dല്\\u200dഎന്ത്? ഏത്? എങ്ങനെയുള്ളത്? എന്തു വികാരങ്ങളുള്ളത്? ഏതില്\\u200d നിന്നുണ്ടായത്? ആ ക്ഷേത്രജ്ഞ\\u200dന്\\u200d ആര്? അദ്ദേഹത്തിന്റെ പ്രഭാവമെന്ത്? ഇവയെല്ല\\u200dാം ഞാന്\\u200d ചുരുക്കിപ്പറയുന്നത് നീ കേട്ടാലും. <EOS>\\n', 'ഋഷീശ്വരന്മാരാ\\u200d\\u200dല്\\u200d പല ഛന്ദസ്സുക\\u200cള്\\u200dകൊണ്ടും ബ്രഹ്മസൂത്രപദങ്ങ\\u200dള്\\u200d കൊണ്ടും യുക്തിയുക്തമായും സുനിശ്ചിതമായും ഇതു പല വിധത്തിലും വ\\u200dര്\\u200dണ്ണിക്കപ്പെട്ടിരിക്കുന്നു. <EOS>\\n', 'അഞ്ച് മഹാഭൂതങ്ങൾ, മിഥ്യാഹങ്കാരം, ബുദ്ധി, അവ്യക്തത, പത്ത് ഇന്ദ്രിയങ്ങൾ, മനസ്സ്, അഞ്ച് ഇന്ദ്രിയവിഷയങ്ങൾ, <EOS>\\n', ' രാഗദ്വേഷങ്ങൾ, സുഖദുഃഖങ്ങൾ, സമദൃഷ്ടി, ജീവലക്ഷണങ്ങൾ, ദൃഢവിശ്വാസം എന്നിവയും ചുരുക്കത്തിൽ ക്ഷേത്രമായും, അതിന്റെ പ്രതിപ്രവർത്തന ങ്ങളായും വിവരിക്കപ്പെട്ടിട്ടുണ്ട്. <EOS>\\n', 'വിനയം, ഗർവ്വില്ലായ്മ, അഹിംസ, ക്ഷമ, ലാളിത്യം, ഒരു യഥാർത്ഥ ആത്മീയഗുരുവിനെ സമീപിക്കൽ, ശുചിത്വം, ര്യം, ആത്മസംയമം,   <EOS>\\n', 'ഇന്ദ്രിയവിഷയങ്ങളിൽ അനാസക്തി, മിഥ്യാഹങ്കാര മില്ലായ്മ, ജനനമരണങ്ങൾ, വാർദ്ധക്യം, രോഗം എന്നീ പരിണാമങ്ങ ളുടെ ദുഃഖാത്മകതയെക്കുറിച്ചുള്ള ബോധം,  <EOS>\\n', 'വൈരാഗ്യം, മക്കൾ, ഭാര്യ, ഗൃഹം മുതലായവയിൽ നിന്നുള്ള മുക്തി; സുഖദുഃഖങ്ങളിൽ അക്ഷോ ഭ്യത  <EOS>\\n', 'എന്നിൽ സ്ഥിരവും നിഷ്കളങ്കവുമായ ഭക്തി; ഏകാന്തമായ സ്ഥലത്തു ജീവിക്കാനുള്ള ആഗ്രഹം; ആൾക്കൂട്ടത്തിൽ നിന്നു വേറിട്ടുനിൽക്കൽ; <EOS>\\n', 'ആത്മസാക്ഷാത്കാരത്തിന്റെ പ്രാധാന്യമറിയൽ തത്ത്വചിന്തയിലൂടെ നിരപേക്ഷതത്ത്വത്തെക്കുറിച്ചന്വേഷിക്കൽ എന്നിവ എല്ലാം ജ്ഞാനമാണെന്നും ഇവയല്ലാതെ ഉള്ളവ എല്ലാം അജ്ഞാനമാ ണെന്നും ഞാൻ പ്രഖ്യാപിക്കുന്നു. <EOS>\\n', 'അറിയപ്പെടേണ്ടതേതോ അതു ഞാ\\u200dന്\\u200d\\u200dപറയ\\u200dാം. യാതൊന്നിനെ അറിഞ്ഞാലാണോ മരണമില്ലാത്ത നിലയെ പ്രാപിക്കുന്നത്, അതാണ് അനാദിയും അതിശ്രേഷ്ഠവുമായ ബ്രഹ്മം. അത് സത്ത് (ഉള്ളത്) എന്നോ അസത്ത് (ഇല്ലാത്തത്) എന്നോ പറയുവാ\\u200dന്\\u200d നിവൃത്തിയില്ല. <EOS>\\n', 'എല്ലാഭാഗത്തും കൈകാലുകളോടും, എല്ലായിടത്തും നേത്രശിരോമുഖങ്ങളോടും, സ\\u200dര്\\u200dവത്ര ക\\u200dര്\\u200dണ്ണങ്ങളോടും കൂടിയ അത് സ\\u200dര്\\u200dവത്ര വ്യാപിച്ചു സ്ഥിതി ചെയ്യുന്നു. <EOS>\\n', 'സർവ്വേന്ദ്രിയങ്ങളുടേയും ഉത്പത്തിസ്ഥാനമാണ് പരമാത്മാവ്, എന്നിരുന്നാലും അവിടുത്തേയ്ക്ക് ഇന്ദ്രിയങ്ങളില്ല. സകല ജീവജാല ങ്ങളേയും നിലനിർത്തിപ്പോരുന്നെങ്കിലും അനാസക്തനാണ്. ത്രിഗുണാ തീതനും, അതേസമയം തന്നെ ഭൗതികപ്രകൃതിയുടെ ത്രിഗുണങ്ങളുടെ യജമാനനുമാണ് അദ്ദേഹം. <EOS>\\n', 'പരമതത്ത്വം ചരങ്ങളും അചരങ്ങളുമായ എല്ലാ ജീവികളുടെ ഉള്ളിലും പുറത്തും കുടികൊള്ളുന്നു. അതിസൂക്ഷ്മഭാവംമൂലം ഭൗതിക കേന്ദ്രിയങ്ങൾക്ക് അദ്ദേഹത്തെ കാണാനോ അറിയാനോ കഴിയില്ല. അതിദൂരസ്ഥനെങ്കിലും ഏവർക്കും സമീപസ്ഥനുമാണദ്ദേഹം. <EOS>\\n', 'ഓരോ ജീവിയിലും വെവ്വേറെ കാണപ്പെടുന്നുവെങ്കിലും പര മാത്മാവ് അവിഭാജ്യനാണ്. ഏകനായി സ്ഥിതി ചെയ്യുന്നു. ഭൂതജാലത്തെ നിലനിർത്തുന്നതോടൊപ്പം സംഹരിക്കുകയും സൃഷ്ടിക്കുകയും ചെയ്യുന്നത് അദ്ദേഹമാണ് എന്നു മനസ്സിലാക്കണം. <EOS>\\n', 'പ്രകാശങ്ങ\\u200cള്\\u200dക്കെല്ല\\u200dാം പ്രകാശമായിട്ടുള്ള ആ ബ്രഹ്മം അന്ധകാരത്തിന്നപ്പുറമായിട്ടുള്ളതാണെന്നു പറയുന്നു. അറിവും (ജ്ഞാനം) അറിയപ്പെടേണ്ടതും (ജ്ഞേയം) അറിവിനാ\\u200d\\u200dല്\\u200d എത്തിച്ചേരേണ്ടതും (ജ്ഞാനഗമ്യം) എല്ലവരുടെയും ഹൃദയത്തെ അധിവസിക്കുന്നതും അതു (ബ്രഹ്മം) തന്നെ. <EOS>\\n', 'ഇപ്രകാരം ക്ഷേത്രം, ജ്ഞാനം, ജ്ഞേയം എന്നിവയെപ്പറ്റി ഞാ\\u200d\\u200dന്\\u200d ചുരുക്കത്തില്\\u200d പറഞ്ഞു കഴിഞ്ഞു. എന്റെ ഭക്ത\\u200dന്\\u200d ഇതറിഞ്ഞിട്ട് എന്റെ ഭാവത്തിന് അ\\u200dര്\\u200dഹനായിത്തീരുന്നു. <EOS>\\n', 'പ്രകൃതിയും പുരുഷനും അനാദികളാണെന്നറിയണം. വികാരങ്ങളും ഗുണങ്ങളും പ്രകൃതിയി\\u200dല്\\u200d നിന്നുത്ഭവിക്കുന്നവയാണെന്നും അറിയുക. <EOS>\\n', 'ദേഹേന്ദ്രിയങ്ങളുടെ \\u200dഉ\\u200dല്\\u200dപത്തിക്ക് ഹേതു പ്രകൃതിയാകുന്നു. പുരുഷ\\u200dന്\\u200d (ജീവ\\u200dന്\\u200d) ആണ് സുഖദുഃഖങ്ങളുടെ അനുഭുതിക്കുകാരണമായി ത്തീരുന്നത്. <EOS>\\n', 'പുരുഷ\\u200dന്\\u200d പ്രകൃതിയില്\\u200d ഇരുന്ന്, പ്രകൃതിയി\\u200cല്\\u200dനിന്നുണ്ടാകുന്ന സുഖദുഃഖാദി ഗുണങ്ങളെ അനുഭവിക്കുന്നു. ഈ പ്രകൃതിഗുണങ്ങളോടുള്ള സംഗം കൊണ്ടാണ് ഈ പുരുഷനു ഉത്തമവും നീചവുമായ യോനികളില്\\u200d ജനിക്കുവാ\\u200d\\u200dന്\\u200d ഇടയാകുന്നത്. <EOS>\\n', 'ഈ ശരീരത്തില്\\u200d വര്\\u200dത്തിക്കുന്ന പരമപുരുഷ\\u200dന്\\u200d സാക്ഷിയെന്നും, അനുവദിക്കുന്നവനെന്നും, ഭരിക്കുന്നവനെന്നും അനുഭവിക്കുന്ന വനെന്നും മഹേശ്വരനെന്നും പരമാത്മാവെന്നും വിളിക്കപ്പെടുന്നു. <EOS>\\n', 'ഈ വിധത്തി\\u200cല്\\u200d പുരുഷനെയും ഗുണങ്ങളോടുകുടിയ പ്രകൃതിയേയും ശരിക്കു അറിയുന്നവ\\u200dന്\\u200d എങ്ങനെ ജീവിച്ചാലും വീണ്ടും ജനിക്കുന്നതല്ല. <EOS>\\n', 'ചില\\u200dര്\\u200d ധ്യാനംകൊണ്ട് ശുദ്ധമായ ഹൃദയത്താല്\\u200d ആത്മാവിനെ ബുദ്ധിയിലറിയുന്നു; മറ്റു ചില\\u200dര്\\u200d സ\\u200dാംഖ്യയോഗം കൊണ്ടും വേറെ ചിലര്\\u200d കര്\\u200dമ്മയോഗം കൊണ്ടും ആത്മാവിനെ ദ\\u200dര്\\u200dശിക്കുന്നു. <EOS>\\n', 'ഇതറിയാത്തവരായരാവട്ടെ അന്യന്മാ\\u200cര്\\u200d പറഞ്ഞുകേട്ടതനുസരിച്ച് ഉപാസിക്കുന്നു. ശ്രദ്ധിച്ചു കേട്ടു കാര്യം മനസ്സിലാക്കുവാ\\u200dന്\\u200d താല്പര്യമുള്ളവരായ അവരും മരണത്തെ തരണം ചെയ്യുന്നതാണ്. <EOS>\\n', 'ഹേ ഭരതവംശശ്രേഷ്ഠാ, ക്ഷേത്രജ്ഞന്മാരുടെ സംയോഗത്തി\\u200dല്\\u200d നിന്നാണ് സ്ഥാവരജംഗമമായുമുള്ള സമസ്തവസ്തുക്കളും ഉണ്ടാകുന്നത്. <EOS>\\n', 'സ\\u200dര്\\u200dവ്വപ്രാണിസഞ്ചയത്തിലും സമനിലയി\\u200dല്\\u200d സ്ഥിതിചെയ്യുന്നവനും നശിക്കുന്നവയായ സ്ഥാവരജംഗമങ്ങളില്\\u200d അവിനാശിയായി വര്\\u200dത്തിക്കുന്നവനുമായ പരമേശ്വര\\u200dനെ അറിയുന്നവനാണ് യഥാ\\u200dര്\\u200dത്ഥ ജ്ഞാനമുള്ളവന്\\u200d. <EOS>\\n', 'ഈശ്വര\\u200dന്\\u200d എല്ലായിടത്തും ഒരുപോലെ വ്യാപിച്ചിരിക്കുന്നതായി കാണുന്നവ\\u200dന്\\u200d തന്നെ സ്വയം നശിപ്പിക്കുന്നില്ല. അതിനാല്\\u200d അവ\\u200d\\u200dന്\\u200d മുക്തി അടയുകയും ചെയ്യുന്നു.\\u200d <EOS>\\n', 'പ്രകൃതിയാണ് ക\\u200dര്\\u200dമ്മങ്ങളെല്ല\\u200dാം ചെയ്യുന്നത് എന്നും ആത്മാവ് ഒന്നും ചെയ്യാത്തവനാണെന്നും അറിയുന്നവന്\\u200d യഥാ\\u200dര്\\u200dത്ഥത്തില്\\u200d അറിവുള്ളവനാകുന്നു. <EOS>\\n', 'എപ്പോ\\u200dഴാണോ ഓരോരോ ജീവിയുടെയും സത്ത ഏകവസ്തുവി\\u200cല്\\u200d തന്നെ സ്ഥിതിചെയ്യുന്നതായും അതി\\u200d\\u200dല്\\u200dനിന്നാണ് അവയെല്ല\\u200dാം വ\\u200dര്\\u200dദ്ധിക്കുന്നതെന്നും ഒരുവന്\\u200d അറിയുന്നത്, അപ്പോ\\u200dള്\\u200d അവന്\\u200d ബ്രഹ്മത്തെ പ്രാപിക്കുന്നു. <EOS>\\n', 'ഹേ കുന്തിസുതാ! ആദിയും നാശവും ഇല്ലാത്തതിനാല്\\u200d ഈ പരമാത്മാവ് ശരീരത്തി\\u200dല്\\u200d സ്ഥിതിചെയ്യുന്നുവെങ്കിലും യാതൊന്നും ചെയ്യുകയൊ ഒന്നിനോടും സക്തനാകുകയോ ചെയ്യുന്നില്ല. <EOS>\\n', 'സുക്ഷ്മത്വം നിമിത്തം എപ്രകാരം സ\\u200dര്\\u200dവവ്യാപിയായ ആകാശം മലിനപ്പെടുന്നില്ലയോ അപ്രകാരം തന്നെ ദേഹത്തില്\\u200d സര്\\u200dവ്വത്ര വ്യാപ്തനായിരിക്കുന്ന ആത്മാവും മലിനപ്പെടുന്നില്ല. <EOS>\\n', 'സൂ\\u200dര്യന്\\u200d തനിച്ച് എങ്ങനെ ഈ ലോകത്തെ മുഴുവ\\u200dന്\\u200d പ്രകാശിപ്പിക്കുന്നുവോ, അങ്ങനെ ദേഹത്തില്\\u200d വര്\\u200dത്തിക്കുന്ന പുരുഷ\\u200dന്\\u200d ദേഹത്തെ മുഴുവന്\\u200d പ്രകാശിപ്പിക്കുന്നു. <EOS>\\n', 'ക്ഷേത്രവും ക്ഷേത്രജ്ഞനും തമ്മിലുള്ള വ്യത്യാസത്തേയും ഭുതപ്രകൃതികളുടെ മോക്ഷത്തേയും ഇങ്ങനെ ജ്ഞാനദൃഷ്ടികൊണ്ടു കണ്ടറിയുന്നതാരോ, അവ\\u200dര്\\u200d പരഗതിയെ പ്രാപിക്കുന്നു. (ഭൂതപ്രകൃതിമോക്ഷം എന്നുവച്ചാ\\u200cല്\\u200d ഭൂതങ്ങ\\u200cള്\\u200dക്കു അവിദ്യയിലും ദേഹാദിമാനത്തിലും പ്രകൃതി ബന്ധത്തിലൂം നിന്നുണ്ടാകുന്ന വിമോചനം എന്ന\\u200dര്\\u200dത്ഥമാകുന്നു). <EOS>\\n', 'ഭഗവാന്\\u200d പറഞ്ഞു: യാതൊന്നിനെ അറിഞ്ഞിട്ടാണോ മുനിമാര്\\u200d പരമസിദ്ധിയടയുന്നത് ജ്ഞാനങ്ങളില്\\u200d വെച്ച് ഏറ്റവും ഉത്തമവും പരമവുമായ ആ ജ്ഞാനത്തെ ഞാന്\\u200d വീണ്ടും പറയ\\u200dാം. <EOS>\\n', 'ഈ ജ്ഞാനത്തെ ആശ്രയിച്ച് എന്നെ പ്രാപിക്കുന്നവര്\\u200d സൃഷ്ടിയുടെ ആരംഭത്തില്\\u200d ജന്മമെടുക്കുന്നില്ല, പ്രളയസമയത്ത് വ്യസനിക്കു ന്നുമില്ല. <EOS>\\n', 'ഹേ അര്\\u200dജുനാ, എന്റെ യോനിയാകുന്ന മഹാപ്രകൃതിയില്\\u200d ഞാന്\\u200d ബീജത്തെ നിക്ഷേപിക്കുന്നു. സര്\\u200dവ്വ ജീവരാശികളുടെയും ജന്മം അതില്\\u200dനിന്നാണ്. <EOS>\\n', 'ഹേ കൗന്തേയ, സര്\\u200dവ്വയോനികളിലുമുണ്ടാകുന്ന ശരീരങ്ങളുടെയെല്ല\\u200dാം യോനി മഹാപ്രകൃതിയും, ബീജം പ്രദാനം ചെയ്യുന്ന പിതാവ് ഞാനുമാകുന്നു. <EOS>\\n', 'ഹേ മഹാബാഹോ, പ്രകൃതിയില്\\u200d നിന്നുണ്ടാകുന്ന സത്വം, രജസ്സ്, തമസ്സ് എന്നീ ഗുണങ്ങള്\\u200d അവിനാശിയായ ആത്മാവിനെ ദേഹത്തില്\\u200d ബന്ധിക്കുന്നു. <EOS>\\n', 'ഹേ അനഘ (പാപരഹിത), ഇവയില്\\u200d നിര്\\u200dമ്മലത്വത്താല്\\u200d പ്രകാശമാനവും, ദോഷരഹിതവുമായ സത്വഗുണം സുഖത്തോടും ജ്ഞാനത്തോടുമുള്ള സംഗത്താല്\\u200d ബന്ധിക്കുന്നു. <EOS>\\n', 'ഹേ കൗന്തേയ, രജസ്സിന്റെ സ്വഭാവം രാഗമാണെന്നറിയൂ. അത് തൃഷ്ണ (ആഗ്രഹം) യെയും സംഗത്തെയും ജനിപ്പിക്കുകയും കര്\\u200dമ്മത്തോടുള്ള സംഗത്താല്\\u200d ദേഹിയെ ബന്ധിക്കുകയും ചെയ്യുന്നു. <EOS>\\n', 'ഹേ ഭാരത, തമസ്സ് അജ്ഞാനത്തില്\\u200d നിന്നുണ്ടാകുന്നതും എല്ലാ ദേഹികളെയും (ജീവന്മാരെയും) മോഹിപ്പിക്കുന്നതുമാണെന്നറിയൂ. അത് അശ്രദ്ധ, ആലസ്യം, ഉറക്ക എന്നിവയാല്\\u200d ദേഹിയെ ബന്ധിക്കുന്നു. <EOS>\\n', 'ഹേ ഭാരത, സത്വം സുഖത്തോടും, രജസ്സ് കര്\\u200dമ്മത്തോടും സംഗം ജനിപ്പിക്കുന്നു, എന്നാല്\\u200d തമസ്സ് ജ്ഞാനത്തെ മറച്ച് അശ്രദ്ധയോടും സംഗം ജനിപ്പിക്കുന്നു. <EOS>\\n', 'സത്വഗുണം (അധികരിച്ചിരിക്കുമ്പോള്\\u200d) രജസ്സിനെയും തമസ്സിനെയും കീഴ്\\u200cപെടുത്തുന്നു. അതുപോലെ, രജസ്സ് (അധികരിച്ചിരിക്കുമ്പോള്\\u200d\\u200d) സത്വത്തിനെയും തമസ്സിനെയും, തമസ്സ് (അധികരിച്ചിരിക്കുമ്പോള്\\u200d) സത്വത്തിനെയും രജസ്സിനെയും കീഴ്\\u200cപെടുത്തുന്നു. <EOS>\\n', 'ശരീരത്തിലെ എല്ലാ ഇന്ദ്രിയങ്ങളിലൂടെയും ജ്ഞാനം പ്രകാശിക്കു മ്പോള്\\u200d സത്വഗുണം വര്\\u200dദ്ധിച്ചിരിക്കുന്നു എന്ന് അറിയണം. <EOS>\\n', 'രജോഗുണം വര്\\u200dദ്ധിക്കുമ്പോള്\\u200d ലോഭം, പ്രവൃത്തി, അതിന്റെ ആരംഭം, അശാന്തി, ആഗ്രഹം എന്നിവ ഉദ്ഭവിക്കുന്നു. <EOS>\\n', 'കുരുനന്ദന (കുരുവംശത്തില്\\u200d ജനിച്ചവനേ), തമോഗുണം വര്\\u200dദ്ധിക്കുമ്പോള്\\u200d അവിവേകം, ആലസ്യം, പ്രമാദം (അശ്രദ്ധ), മോഹം എന്നിവ ഉണ്ടാകുന്നു. <EOS>\\n', 'സത്വഗുണം വര്\\u200dദ്ധിച്ചിരിക്കുമ്പോള്\\u200d മരിക്കുന്നയാള്\\u200d ഉത്തമ ജ്ഞാനികള്\\u200d വസിക്കുന്ന വിശുദ്ധങ്ങളായ ലോകങ്ങളെ പ്രാപിക്കുന്നു. <EOS>\\n', 'രജോഗുണം വര്\\u200dദ്ധിച്ചിരിക്കുമ്പോള്\\u200d മരിക്കുന്നയാള്\\u200d കര്\\u200dമ്മത്തോട് ബന്ധമുള്ള ആളുകള്\\u200d വസിക്കുന്ന ലോകങ്ങളെ പ്രാപിക്കുകയും തമോഗുണം വര്\\u200dദ്ധിച്ചിരിക്കുമ്പോള്\\u200d മരിക്കുന്നയാള്\\u200d മൂഢയോനികളെ പ്രാപിക്കുകയും <EOS>\\n', 'നല്ല കര്\\u200dമ്മത്തിന്റെ ഫലം സാത്വികവും നിര്\\u200dമ്മലവും, രജസ്സിന്റെ ഫലം ദുഃഖവും, തമസ്സിന്റെ ഫലം അജ്ഞാനവുമാകുന്നു. <EOS>\\n', 'സാത്വഗുണത്തില്\\u200d നിന്നു ജ്ഞാനവും, രജോഗുണത്തില്\\u200d നിന്നു ലോഭവും, തമോഗുണത്തില്\\u200dനിന്നു പ്രമാദം (അശ്രദ്ധ), മോഹം, അജ്ഞാനം എന്നിവയുമുണ്ടാകുന്നു. <EOS>\\n', 'സത്വഗുണമുള്ളവര്\\u200d ഊര്\\u200dദ്ധ്വലോകങ്ങളെ പ്രാപിക്കുന്നു. രജോഗുണമുള്ളവര്\\u200d മദ്ധത്തില്\\u200d നില്ക്കുന്നു. അധമഗുണമുള്ള താമസികര്\\u200d അധോലോകങ്ങളെയും പ്രാപിക്കുന്നു <EOS>\\n', 'ഗുണങ്ങളില്\\u200d നിന്നു ഭിന്നനായ ഒരു കര്\\u200dത്താവിനെ കാണാതിരിക്കുകയും ഗുണങ്ങള്\\u200dക്കതീതനായ ആത്മാവിനെ അറിയുകയും ചെയ്യുന്ന ദ്രഷ്ടാവ് എന്റെ ഭാവത്തെ (ബ്രഹ്മത്തെ) പ്രാപിക്കുന്നു. <EOS>\\n', 'ശരീരോത്പത്തിയ്ക്കു കാരണമായ ഈ മൂന്നു ഗുണങ്ങളെയും അതിവര്\\u200dത്തിക്കുന്ന ദേഹി ജന്മം, മൃത്യു, ജരാ, ദുഃഖം എന്നിവയില്\\u200d നിന്നു മുക്തനായി അമൃതത്വത്തെ പ്രാപിക്കുന്നു. <EOS>\\n', 'അര്\\u200dജുനന്\\u200d പറഞ്ഞു: പ്രഭോ, ഈ മൂന്നു ഗുണങ്ങളെ അതിവര്\\u200dത്തി ച്ചവന്റെ ലക്ഷണങ്ങളേതൊക്കെയാണ്? അവന്റെ സ്വഭാവമെന്താണ്? എങ്ങനെയാണ് ഈ മൂന്നു ഗുണങ്ങളെ അതിവര്\\u200dത്തിക്കുന്നത്? <EOS>\\n', 'ശ്രീ ഭഗവാൻ പറഞ്ഞു: ഹേ പാണ്ഡുപുത്രാ, പ്രകാശത്തി ന്റേയോ ആസക്തിയുടേയോ വ്യാമോഹത്തിന്റേയോ സാന്നിദ്ധ്യത്തിൽ ആർക്ക് വെറുപ്പ് ഉണ്ടാകുന്നില്ലയോ, <EOS>\\n', ' അവയുടെ അസാന്നിദ്ധ്യത്തിൽ അതു വേണമെന്ന ആഗ്രഹം ഉണ്ടാകുന്നില്ലയോ, പ്രകൃതിഗുണങ്ങ മുളവാക്കുന്ന പ്രതികരണങ്ങളിൽ ആര് പ്രക്ഷുബ്ധനാകാതെയിരിക്കു ന്നുവോ, പ്രകൃതിഗുണങ്ങളാണു പ്രവർത്തനനിരതങ്ങളായിരിക്കുന്ന തെന്നു മനസ്സിലാക്കി ഉദാസീനനും അവയ്ക്കതീതനും ആയിരിക്കു ന്നുവോ, <EOS>\\n', ' ആത്മനിഷ്ഠനായി സുഖദുഃഖങ്ങളെ തുല്യനിലയിൽ കാണുന്നുവോ, ആരുടെ ദൃഷ്ടിയിൽ മൺകട്ടയും കല്ലും പൊന്നും വ്യത്യസ്തമല്ലയോ, ആർക്ക് പ്രിയമായോ അപ്രിയമായോ യാതൊന്നു മില്ലയോ, ധീരനും, നിന്ദകളിലും സ്തുതികളിലും. <EOS>\\n', ' മാനത്തിലും അപമാനത്തിലും സമചിത്തനും, ശത്രുമിത്രഭേദമില്ലാത്തവനും, നിരുദ്യമനുമായ ആ വ്യക്തിയെ ഗുണാതീതനെന്ന് പറയാം <EOS>\\n', 'അചഞ്ചലമായ ഭക്തിയോടെ എന്നെ ഭജിക്കുന്നവന്\\u200d ത്രിഗുണങ്ങളെ മറികടന്ന് ബ്രഹ്മഭാവത്തെ പ്രാപിക്കുവാന്\\u200d യോഗ്യനാകുന്നു. <EOS>\\n', 'ഞാന്\\u200d അമൃതവും (അനശ്വരവും) അവ്യയവുമായ (മാറ്റമില്ലാത്തതുമായ) ബ്രഹ്മത്തിന്റെയും, ശാശ്വതമായ ധര്\\u200dമ്മ ത്തിന്റെയും, പരമമായ സുഖത്തിന്റെയും പ്രതിഷ്ഠയുമാകുന്നു (ആശ്രയവുമാകുന്നു). <EOS>\\n', 'ഭഗവാന്\\u200d പറഞ്ഞു: ഈ സംസാരത്തെ ശാഖകള്\\u200d താഴെയും വേരുകള്\\u200d മുകളിലുമായുള്ള നാശമില്ലാത്ത ഒരു അശ്വത്ഥ (അരയാല്\\u200d) വൃക്ഷമായും, വേദങ്ങളെ അതിന്റെ ഇലകളായും (പൂര്\\u200dവ്വികന്മാര്\\u200d) പറയുന്നു. ഈ വൃക്ഷത്തെ അറിയുന്നവന്\\u200d വേദങ്ങളെ അറിയുന്നവനാണ്. <EOS>\\n', 'തിഗുണങ്ങളാല്\\u200d പോഷിപ്പിക്കപ്പെടുന്ന അതിന്റെ ശാഖകള്\\u200d മുകളിലും താഴെയുമായി പരന്നുകിടക്കുന്നു. വിഷയങ്ങളാണ് അതിന്റെ തളിരുകള്\\u200d. കര്\\u200dമ്മത്തോടു ബന്ധപ്പെട്ടവയായ അതിന്റെ വേരുകള്\\u200d മനുഷ്യലോകത്തില്\\u200d വ്യാപിച്ചുകിടക്കുന്നു. <EOS>\\n', 'ഈ വൃക്ഷത്തിന്റെ യഥാർത്ഥ രൂപം ഈ ലോകത്തിൽ കാണു കയില്ല. അതിന്റെ ആരംഭമോ അവസാനമോ അടിസ്ഥാനമോ കണ്ട ത്താനാവില്ല. വേരുറച്ചുയർന്ന ഈ വൃക്ഷത്തെ ദൃഢനിശ്ചയത്തോടെ വിരക്തിയാകുന്ന ആയുധത്താൽ ഛേദിച്ചുകളയണം. <EOS>\\n', ' എന്നിട്ട് എവി ടെച്ചെന്നാൽ തിരിച്ചുവരവില്ലയോ, ആ ദിവ്യപദം പൂകി സ്മരണാതീത കാലം മുതൽക്കേയുള്ള എല്ലാറ്റിന്റെയും ഉറവിടമായ പരമപുരുഷന് സ്വയം സമർപ്പിക്കണം. <EOS>\\n', 'അഭിമാനം, മോഹം എന്നിവയില്\\u200d നിന്ന് മുക്തരും, സംഗമാകുന്ന ദോഷത്തെ ജയിച്ചവരും, സദാ ആത്മനിഷ്ഠരും, കാമമില്ലാത്തവരും, സുഖദുഃഖാദി ദ്വന്ദ്വങ്ങളില്\\u200d നിന്ന് മുക്തരും വ്യാമോഹ മില്ലാത്തവരുമായ മഹാന്മാര്\\u200d ആ പരമപദത്തെ പ്രാപിക്കുന്നു. <EOS>\\n', 'യാതൊന്നിനെ സൂര്യചന്ദ്രന്മാരോ അഗ്നിയോ പ്രകാശി പ്പിക്കുന്നില്ലയോ, യാതൊന്നിനെ പ്രാപിച്ചാല്\\u200d തിരിച്ചുവരവില്ലയോ അതാണ് എന്റെ പരമമായ പദം (സ്ഥാനം). <EOS>\\n', 'എന്റെ തന്നെ സനാതനമായ അംശമായ ജീവലോകത്തില്\\u200d ജീവനായിട്ട് അഞ്ചിന്ദ്രിയങ്ങളെയും മനസ്സിനെയും തന്നിലേയ്ക്കാ കര്\\u200dഷിക്കുന്നു. <EOS>\\n', 'ഈശ്വരന്\\u200d (ഇന്ദ്രിയങ്ങളുടെയും മനസ്സിന്റെയും അധീശനായ ജീവന്\\u200d) ശരീരത്തെ പ്രാപിക്കുമ്പോഴും വിട്ടുപോകുമ്പോഴും, പുഷ്പത്തില്\\u200d നിന്ന് വായു ഗന്ധത്തെയെന്ന പോലെ ഇവയെയെല്ല\\u200dാം കൊണ്ടുപോകുന്നു. <EOS>\\n', 'ഈ ജീവന്\\u200d ചെവി, കണ്ണ്, ത്വക്ക്, നാക്ക്, മൂക്ക് എന്നീ അഞ്ചിന്ദ്രിയങ്ങളെയും മനസ്സിനെയും ആശ്രയിച്ച് വിഷയങ്ങളെ അനുഭവിക്കുന്നു. <EOS>\\n', 'ശരീരം വിട്ടുപോകുന്നതോ, ശരീരത്തിലിരിക്കുന്നതോ, വിഷയങ്ങ ളനുഭവിക്കുന്നതോ ഗുണങ്ങളോടുകൂടിയിരിക്കുന്നതോ ആയ ഈ ജീവനെ അജ്ഞാനികള്\\u200d അറിയുന്നില്ല. ജ്ഞാനദൃഷ്ടിയുള്ളവര്\\u200d മാത്രം ഇതിനെ കാണുന്നു. <EOS>\\n', 'സിദ്ധിയ്ക്കായി പ്രയത്നിക്കുന്ന യോഗികള്\\u200d തങ്ങളുടെയുള്ളില്\\u200d സ്ഥിതിചെയ്യുന്ന ഈ ജീവനെ കാണുന്നു. എന്നാല്\\u200d അനധികാരികളായ മൂഢന്മാര്\\u200d പ്രയത്നിച്ചാലും ഈ ജീവനെ കാണുന്നില്ല. <EOS>\\n', 'ഈ ലോകത്തെയാകമാനം പ്രകാശിപ്പിക്കുന്ന സൂര്യന്റെ തേജസ്സും, ചന്ദ്രനിലും അഗ്നിയിലുമുള്ള തേജസ്സും എന്റേതു തന്നെയെന്നറിയൂ. <EOS>\\n', 'ഞാന്\\u200d ഓജസ്സായി ഭൂമിയില്\\u200d പ്രവേശിച്ച് ജീവജാലങ്ങളെ നിലനിര്\\u200dത്തുകയും, രസാത്മകനായ ചന്ദ്രനായി എല്ലാവിധ സസ്യങ്ങളെയും പോഷിപ്പിക്കുകയും ചെയ്യുന്നു. <EOS>\\n', 'ഞാന്\\u200d പ്രാണികളുടെ ശരീരങ്ങളില്\\u200d അഗ്നിയുടെ രൂപത്തിലിരുന്ന് പ്രാണന്\\u200d, അപാനന്\\u200d എന്നിവയോടു ചേര്\\u200dന്ന് നാലുതരത്തിലുള്ള ഭക്ഷണത്തെയും ദഹിപ്പിക്കുന്നു. <EOS>\\n', 'ഞാന്\\u200d സര്\\u200dവ്വരുടെയും ഹൃദയത്തില്\\u200d സന്നിഹിതനാണ്. ഓര്\\u200dമ്മ, അറിവ്, മറവി എന്നിവയുണ്ടാകുന്നതും എന്നില്\\u200d നിന്നാണ്. എല്ലാ വേദങ്ങളിലൂടെ അറിയപ്പെടേണ്ടവന്\\u200d ഞാനാണ്. വേദാന്തത്തിന്റെ കര്\\u200dത്താവും വേദജ്ഞനും ഞാന്\\u200d തന്നെയാണ്. <EOS>\\n', 'ക്ഷരന്\\u200d (നാശമുള്ളവന്\\u200d), അക്ഷരന്\\u200d (നശിക്കാത്തവന്\\u200d) എന്നീ രണ്ടു പുരുഷന്മാരാണ് ഈ ലോകത്തിലുള്ളത്. എല്ലാ ജീവജാലങ്ങളും ക്ഷരപുരുഷനാണ്. നാശരഹിതനും കൂടസ്ഥനുമായ ആത്മാവാണ് അക്ഷരപുരുഷന്\\u200d. <EOS>\\n', 'മൂന്നു ലോകങ്ങളെയും വ്യാപിച്ച് അവയെ ഭരിക്കുന്ന നാശരഹിതനും പരമാത്മാവെന്നു വിളിക്കപ്പെടുന്നവനുമായ ഈശ്വരന്\\u200d മേല്പറഞ്ഞ രണ്ടു പുരുഷന്മാരില്\\u200d നിന്നും ഭിന്നനായ ഉത്തമപുരുഷന്\\u200d. <EOS>\\n', 'ക്ഷരത്തിനതീതനും, അക്ഷരത്തിനേക്കാള്\\u200d ഉത്തമനുമായതിനാല്\\u200d ഞാന്\\u200d ഈ ലോകത്തിലും വേദത്തിലും പുരുഷോത്തമ നെന്നറിയപ്പെടുന്നു. <EOS>\\n', 'ഹേ ഭാരത, പുരുഷോത്തമനായ എന്നെ ഇപ്രകാരം മോഹരഹിതനായ യാതൊരുവനാണോ അറിയുന്നത്, എല്ല\\u200dാം അറിഞ്ഞവനായ അവന്\\u200d എല്ലാ ഭാവത്തിലും എന്നെ ഭജിക്കുന്നു. <EOS>\\n', 'ഹേ ഭാരത, ഇപ്രകാരം ഞാനുപദേശിച്ച തികച്ചും രഹസ്യമായ ഈ ശാസ്ത്രത്തെ അറിയുന്നവന്\\u200d ബുദ്ധിമാനായും കൃതകൃത്യനായും (ചെയ്യേണ്ടതെല്ല\\u200dാം ചെയ്തു തീര്\\u200dത്തവന്\\u200d) ഭവിക്കുന്നു. <EOS>\\n', 'പരമദിവ്യോത്തമപുരുഷൻ പറഞ്ഞു : ഹേ ഭാരതാ, നിർഭയത അസ്ഥിത്വത്തിന്റെ ശുദ്ധി, ആദ്ധ്യാത്മികജ്ഞാനനിഷ്ഠ, ദാനം, ആത്മനി യന്ത്രണം, യജ്ഞം, വേദപഠനം, തപസ്സ്, ലാളിത്യം, <EOS>\\n', ' അഹിംസ, സത്യം, ക്രോധമില്ലായ്മ, ത്യാഗം, ശാന്തി, പരദൂഷണത്തിൽ വെറുപ്പ്, സർവ്വജീവി കളോടും കാരുണ്യം, ലോഭമില്ലായ്മ, മൃദുല സ്വഭാവം, വിനയം, സ്ഥിര നിശ്ചയം, <EOS>\\n', ' തേജസ്സ്, ക്ഷമ, ധൈര്യം, ശൗചം, അസൂയാരാഹിത്യം, ബഹു മതിക്കുള്ള വാഞ്ഛയില്ലായ്മ, ഇതെല്ലാം ദിവ്യപ്രകൃതിയാൽ അനുഗ ഹീതരായ ദൈവികതയുള്ളവർക്കുള്ള ഗുണങ്ങളാണ്. <EOS>\\n', 'ഡംഭ്, അഹങ്കാരം, അഭിമാനം, ക്രോധം, പാരുഷ്യം, അജ്ഞാനം എന്നിവ ആസുരീസമ്പത്തോടെ ജനിച്ചവനുണ്ടാകുന്ന ഗുണങ്ങളാണ്. <EOS>\\n', 'ദൈവീസമ്പത്ത് മോക്ഷത്തിലേയ്ക്കും, ആസുരീസമ്പത്ത് ബന്ധനത്തിലേയ്ക്കും നയിക്കുന്നു. നീ ദൈവീ സമ്പത്തോടെ ജനിച്ചവനാണ്. അതുകൊണ്ട് ദുഃഖിക്കേണ്ട. <EOS>\\n', 'ഈ ലോകത്തില്\\u200d പ്രാണിസൃഷ്ടി ദൈവം, ആസുരം എന്നീ രണ്ടു വിധത്തിലാണ്. ദൈവീസൃഷ്ടിയെക്കുറിച്ച് ആദ്യം വിശദമായി പറഞ്ഞുകഴിഞ്ഞു. ഇനി ആസുരിസൃഷ്ടിയെക്കുറിച്ച് കേട്ടാലും. <EOS>\\n', 'ആസുരരായ ജനങ്ങള്\\u200dക്ക് എന്തു പ്രവര്\\u200dത്തിക്കണം ഏതില്\\u200d നിന്ന് നിവര്\\u200dത്തിക്കണം എന്നറിയില്ല. അവരില്\\u200d ശൗചമോ, ആചാരമോ, സത്യമോ കാണപ്പെടുന്നില്ല. <EOS>\\n', 'അവര്\\u200d ഈ ജഗത്തിനെ ഈശ്വരനില്ലാത്തതും, മിഥ്യയായതും, അടിസ്ഥാനമില്ലാത്തതുമാണെന്നു പറയുന്നു. ഈ ലോകം ഭൂതങ്ങളുടെ പരസ്പരസംയോഗത്താലുണ്ടായതാണെന്നും കാമത്തില്\\u200d നിന്നും ഉദ്ഭവിച്ചതല്ലാതെ മറ്റൊരു കാരണവുമതിനില്ലെന്നും അവര്\\u200d പറയുന്നു. <EOS>\\n', 'അല്പബുദ്ധികളായ അവര്\\u200d ഈ ചിന്താഗതിയെ സ്വീകരിച്ചുകൊണ്ട് സ്വയം നശിക്കുകയും, ക്രൂരകര്\\u200dമ്മങ്ങളെചെയ്ത് ലോകത്തിന് നാശം വരുത്തിവെയ്ക്കുന്നു. <EOS>\\n', 'ഡംഭവും മാനവുമുള്ള ഇവര്\\u200d തൃപ്തിപ്പെടുത്തുവാന്\\u200d വിഷമമായ കാമത്തിന് അധീനരായി മോഹവശാല്\\u200d ദുരാഗ്രഹങ്ങളെ നിറവേറ്റുവാന്\\u200d അശുദ്ധവ്രതരായി പ്രവര്ത്തിക്കുന്നു. <EOS>\\n', 'ഇന്ദ്രിയസന്തർപ്പണമാണ് മാനുഷികസംസ്കാരത്തിന്റെ പ്രധാനാ വശ്യമെന്നവർ കരുതുന്നു. അക്കാരണത്താൽ ജീവിതാവസാനം വരെയും അളവറ്റ വ്യാകുലതയോടെ കഴിഞ്ഞുകൂടേണ്ടതായും വരുന്നു. <EOS>\\n', ' അനേകായിരം ആഗ്രഹങ്ങളുടെ വലക്കെട്ടിലകപ്പെട്ട് കാമ കാധങ്ങൾ ക്കധീനരായി സുഖഭോഗങ്ങൾക്കായി അന്യായമായിട്ടെ ങ്കിലും അവർ ധനം സമ്പാദിക്കുന്നു. <EOS>\\n', 'അസുരസ്വഭാവി ഇങ്ങനെ വിചാരിക്കും . ഇന്നെനിക്ക് ഇത്രയേറെ ധനം ഉണ്ട്. എന്റെ പദ്ധതികൾ അനുസരിച്ച് ഞാൻ ഇനിയും ധനമാർജ്ജി ക്കും. ഇത്രയേറെ ധനം എനിക്കിപ്പോഴുണ്ട്; അത് ഭാവിയിൽ കൂടി കൂടി വരികയും ചെയ്യും. <EOS>\\n', ' അയാൾ എന്റെ ശത്രുവാണ്; ഞാൻ അയാളെ കൊന്നു. ഇനിയുള്ള ശത്രുക്കളേയും ഞാൻ കൊല്ലും. ഞാൻ എല്ലാറ്റിനും ഉടമയാണ്. ഞാൻ സുഖിയാണ്. എല്ലാം തികഞ്ഞവനും, ബലവാനും, സന്തുഷ്ടനും സമ്പന്നനുമാണ്. <EOS>\\n', ' കുലീനരായ ബന്ധുക്കൾ ഉണ്ടെനിക്ക്. എന്നോളം ശക്തിമാനും സന്തോഷവാനുമായി ആരുണ്ട്? ഞാൻ യാഗങ്ങൾ അനുഷ്ഠിക്കും, ദാനം ചെയ്യും. സന്തോഷിക്കും; എന്നെല്ലാമോർത്ത് അവർ അജ്ഞാനത്താൽ മോഹിതരാവുന്നു. <EOS>\\n', 'ഇങ്ങനെ പലവിധം ആകാംക്ഷകളിൽപ്പെട്ട് വലഞ്ഞും വ്യാമോ ഹത്തിന്റെ വലയിൽ കുടുങ്ങിയും ഇന്ദ്രിയസുഖങ്ങളിൽ അത്യാസക്ത രായി. അവർ നരകത്തിൽ വീഴുന്നു. <EOS>\\n', 'സ്വയം പുകഴ്ത്തുന്നവരും, പിടിവാശിക്കാരും, ധനം, മാനം എന്നിവയില്\\u200d അഹങ്കരിക്കുന്നവരുമായ അവര്\\u200d നാമമാത്രമായി ഡംഭോടെ വിധികളെ പാലിക്കാതെ യജ്ഞങ്ങളിലൂടെ എന്നെ യജിക്കുന്നു. <EOS>\\n', 'അഹങ്കാരം, ബലം, അഭിമാനം, കാമം, ക്രോധം എന്നിവയ്ക്കു വശപ്പെട്ട ഈ അസൂയാലുക്കള്\\u200d അവരുടെയും അന്യരുടെയും ശരീരങ്ങളിലും കുടികൊള്ളുന്ന എന്നെ വെറുക്കുന്നു. <EOS>\\n', 'ദ്വേഷിക്കുന്നവരും ക്രൂരന്മാരുമായ ഈ നരാധമന്മാരെ ഞാന്\\u200d എന്നെന്നും അശുഭങ്ങളായ ആസുരയോനികളില്\\u200d എറിയുന്നു (ജനിക്കുവാനിടയാക്കുന്നു). <EOS>\\n', 'ഹേ കൗന്തേയ, ആസുരയോനികളില്\\u200d ജനിക്കുന്ന ഈ മൂഢന്മാര്\\u200d ഓരോ ജന്മങ്ങളിലും എന്നെ പ്രാപിക്കാതെ അധമഗതിയെ പ്രാപിക്കുന്നു. <EOS>\\n', 'കാമം, ക്രോധം, ലോഭം എന്നിവ നരകത്തിലേയ്ക്കുള്ള മൂന്നു കവാടങ്ങളാണ്. ഇവ ആത്മനാശത്തിന് കാരണവുമാണ്. അതിനാല്\\u200d ഇവയെ മൂന്നിനെയും ത്യജിക്കേണ്ടതാണ്. <EOS>\\n', 'തമോദ്വാരങ്ങളായ ഈ മൂന്നില്\\u200d നിന്നും മുക്തരായ മനുഷ്യര്\\u200d ആത്മശ്രേയസ്സിനാവശ്യമായ കാര്യങ്ങളനുഷ്ഠിച്ച് പരമമായ ഗതിയെ (മോക്ഷത്തെ) പ്രാപിക്കുന്നു. <EOS>\\n', 'യാതൊരുവന്\\u200d ശാസ്ത്രവിധിയെ ലംഘിച്ച് ആഗ്രഹങ്ങള്\\u200dക്കു വശംവദനായി വര്ത്തിക്കുന്നുവോ, അവന്\\u200d സിദ്ധിയോ സുഖമോ, പരമമായ ഗതിയോ പ്രാപിക്കുന്നില്ല. <EOS>\\n', 'അതികൊണ്ട്, എന്തു ചെയ്യണം എന്തു ചെയ്യരുത് എന്നറിയുന്നതിന് നിനക്ക് ശാസ്ത്രം പ്രമാണമായിരിക്കട്ടെ. നീ ശാസ്ത്രവിധികളെ അറിഞ്ഞ് അതനുസരിച്ച് കര്\\u200dമ്മം ചെയ്യേണ്ടതാണ്. <EOS>\\n', 'അര്\\u200dജുനന്\\u200d പറഞ്ഞു: ഹേ കൃഷ്ണ, ശാസ്ത്രവിധി പാലിക്കാതെയാ ണെങ്കിലും ശ്രദ്ധയോടെ യജിക്കുന്നവരുടെ സ്ഥിതിയെന്താകും? അതു സാത്വികമോ, രാജസികമോ താമസികമോ ഏതാണ്? <EOS>\\n', 'ഭഗവാന്\\u200d പറഞ്ഞു: മനുഷ്യരുടെ സ്വഭാവത്തില്\\u200d നിന്നുദ്ഭവിക്കുന്ന ശ്രദ്ധ സാത്വികം, രാജസികം, താകസികം എന്നിങ്ങനെ മൂന്നു വിധത്തിലാണ്. <EOS>\\n', 'ഹേ ഭാരത, എല്ലാവരുടെയും ശ്രദ്ധ അവരവരുടെ ശ്രദ്ധയെ ആശ്രയിച്ചിരിക്കുന്നു. ഈ മനുഷ്യന്\\u200d ശ്രദ്ധാമയനാണ്. ഒരുവന്റെ ശ്രദ്ധ ഏതാണോ അവന്\\u200d ആ തരത്തിലുള്ളവനായിരിക്കും. <EOS>\\n', 'സാത്വികന്മാര്\\u200d ദേവന്മാരെയും, രാജസന്മാര്\\u200d യക്ഷരാക്ഷസന്മാരെയും, മറ്റുള്ള താമസികരായ മനുഷ്യര്\\u200d പ്രേതങ്ങളെയും, ഭൂതഗണങ്ങളെയും യജിക്കുന്നു. <EOS>\\n', 'കാമം, ആസക്തി എന്നിവയാൽ പ്രേരിതരായി അഹംഭാവത്തോ ടുകൂടി  <EOS>\\n', 'സ്വശരീരത്തിലെ ഭൗതിക മൂലകങ്ങളേയും ശരീരത്തിൽ കുടി കൊള്ളുന്ന പരമാത്മാവിനെത്തന്നെയും ദ്രോഹിച്ചുകൊണ്ട് ശാസ്ത്ര നിർദ്ദിഷ്ടമല്ലാത്ത കഠിനതപസ്സനുഷ്ഠിക്കുന്ന വിഡ്ഢികൾ അസുരന്മാ രാണ്. <EOS>\\n', 'എല്ലാവര്\\u200dക്കും പ്രിയപ്പെട്ട ആഹാരവും മൂന്നു വിധത്തിലുണ്ട്. യജ്ഞം, തപസ്സ്, ദാനം എന്നിവയുടെയും ഭേദം നീ കേട്ടാലും. <EOS>\\n', 'ആയുസ്സ്, മനഃശക്തി, ബലം, ആരോഗ്യം, സുഖം, പ്രീതി എന്നിവ വര്\\u200dദ്ധിപ്പിക്കുന്ന രുചികരമായ, എണ്ണമയമുള്ള, പോഷകവും ഇഷ്ടപ്പെടുന്നതുമായ ആഹാരങ്ങളാണ് സാത്വികന്മാര്\\u200dക്ക് പ്രിയമായിട്ടുള്ളത്. <EOS>\\n', 'എരിവും, പുളിയും, ഉപ്പും, അതിയായ ചൂടും, വരള്\\u200dച്ചയും, ദാഹവുള്ള ആഹാരങ്ങളാണ് രാജസികന്മാര്\\u200dക്ക് പ്രിയമായിട്ടുള്ളത്. ഇവ ദുഃഖം, ശോകം, രോഗം എന്നിവയെ ഉണ്ടാക്കുന്നു. <EOS>\\n', 'ഉണ്ടാക്കിയിട്ട് ഒരു യാമം (മൂന്നു മണിക്കൂര്\\u200d) കഴിഞ്ഞതും, സ്വാദു പോയതും, ദുര്\\u200dഗന്ധമുള്ളതും, ഒരു രാത്രി കഴിഞ്ഞതും, ഉച്ഛിഷ്ടവും, അശുദ്ധവുമായ ആഹാരമാണ് അതാമസികന്മാര്\\u200dക്ക് പ്രിയമായിട്ടുള്ളത്. <EOS>\\n', 'ഫലാക\\u200dാംക്ഷയില്ലാതെ, ശാസ്ത്രവിധിപ്രകാരം യജ്ഞം ചെയ്യപ്പെടേണ്ട താണ് എന്ന ഭാവത്തോടെ മനസ്സിനെ യജ്ഞത്തില്\\u200d സമാഹിതമാക്കി യജിക്കപ്പെടുന്ന ആ യജ്ഞം സാത്വികമാണ്. <EOS>\\n', 'ഹേ ഭരതശ്രേഷ്ഠ, ഫലാക\\u200dാംക്ഷയോടെ ഡംഭോടെ യജിക്കപ്പെടുന്ന യജ്ഞം രാജസമാണ്. <EOS>\\n', 'ശാസ്ത്രവിധിയനുസരിക്കാതെയും, അന്നവും ദക്ഷിണയും കൊടുക്കാതെയും, മന്ത്രഹീനവും, ശ്രദ്ധയില്ലാതെയും ചെയ്യുന്ന യജ്ഞം താമസികമാണ്. <EOS>\\n', 'ദേവന്മാര്\\u200d, ബ്രാഹ്മണന്മാര്\\u200d, ഗുരുക്കന്മാര്\\u200d, ജ്ഞാനികള്\\u200d എന്നിവരെ പൂജിക്കുക, ശുചിത്വം, ആര്\\u200dജ്ജവം, ബ്രഹ്മചര്യം, അഹിംസാ എന്നിവയാണ് ശാരീരികമായ തപസ്സ് എന്ന് പറയപ്പെടുന്നത്. <EOS>\\n', 'ക്ലേശം ജനിപ്പിക്കാത്തതും എന്നാല്\\u200d സത്യവും, പ്രിയവും, ഹിതവുമായ വാക്കും, ശാസ്ത്രപാരായണവുമാണ് വാചികമായ തപസ്സെന്നു പറയപ്പെടുന്നു. <EOS>\\n', 'മനസ്സിന്റെ പ്രസന്നത, സൗമ്യത, മൗനം, ആത്മസംയമനം, സ്വഭാവശുദ്ധി എന്നിവയാണ് മാനസികമായ തപസ്സെന്ന് പറയപ്പെടുന്നത്. <EOS>\\n', 'പരമമായ ശ്രദ്ധയോടെയും ഫലക\\u200dാംക്ഷയില്ലാതെയും നിഷ്ഠയോടെയും ചെയ്യപ്പെടുന്ന മൂന്നു വിധത്തിലുമുള്ള തപസ്സ് സാത്വികമെന്നു പറയപ്പെടുന്നു. <EOS>\\n', 'സത്കാരം, അന്തസ്സ്, ബഹുമതി എന്നിവയ്ക്കുവേണ്ടി ഡംഭോടുകൂടി ചെയ്യപ്പെടുന്നതും, ചഞ്ചലവും, അസ്ഥിരവുമായ തപസ്സ് രാജസികമെന്നു പറയപ്പെടുന്നു. <EOS>\\n', 'അബദ്ധധാരണകളോടുകൂടി ചെയ്യപ്പെടുന്നതും സ്വയം പീഡയനുഭവിച്ചോ, അന്യനെ നശിപ്പിക്കുവാനുദ്ദേശിച്ചോ ഉള്ള തപസ്സ് താമസികമെന്നു പറയപ്പെടുന്നു. <EOS>\\n', 'നല്കേണ്ടതാണെന്നുള്ള ബോദ്ധ്യത്തോടെ പ്രത്യുപകാരം ചെയ്യാന്\\u200d ശക്തിയില്ലാത്തവന് യോഗ്യതയും ഉചിതമായ സ്ഥലവും സമയവും നോക്കി ചെയ്യപ്പെടുന്ന ദാനം സാത്വികമെന്നു പറയപ്പെടുന്നു. <EOS>\\n', 'പ്രത്യുപകാരം പ്രതീക്ഷിച്ചുകൊണ്ടോ ഫലമുദ്ദേശിച്ചോ വൈമനസ്യത്തോടെ ചെയ്യപ്പെടുന്ന ദാനം രാജസികമെന്നു പറയപ്പെടുന്നു. <EOS>\\n', 'യോഗ്യതയില്ലാത്തവന് അനുചിതമായ ദേശകാലങ്ങളില്\\u200d ബഹുമാനം കൂടാതെ അവജ്ഞയോടെ ചെയ്യപ്പെടുന്ന ദാനം താമസികമെന്നു പറയപ്പെടുന്നു. <EOS>\\n', 'ഓം, തത്, സത് എന്നിങ്ങനെയുള്ള ബ്രഹ്മത്തിന്റെ മൂന്നു വിധത്തിലുള്ള നിര്\\u200dദ്ദേശങ്ങളാല്\\u200d ബ്രാഹ്മണരും, വേദവും, യജ്ഞങ്ങളും ആദിയില്\\u200d കല്പിക്കപ്പെട്ടു. <EOS>\\n', 'അതിനാല്\\u200d ബ്രഹ്മവാദികള്\\u200d (വേദജ്ഞന്മാര്\\u200d) ഓം (ബ്രഹ്മത്തിന്റെ മുഖ്യനാമം) എന്നുച്ചരിച്ച് ശാസ്ത്രവിധിപ്രകാരം യജ്ഞം, ദാനം, തപസ്സ് എന്നീ ക്രിയകള്\\u200d നടത്തുന്നു. <EOS>\\n', 'മോക്ഷാര്\\u200dഥികള്\\u200d തത് (അത്) എന്നുച്ചരിച്ച് ഫലാക\\u200dാംക്ഷയില്ലാതെ യജ്ഞം, ദാനം, തപസ്സ് എന്നീ ക്രിയകള്\\u200d നടത്തുന്നു. <EOS>\\n', 'ഹേ പാര്\\u200dഥ, ഉള്ളത് എന്ന അര്\\u200dഥത്തിലും, നല്ലത് എന്ന അര്\\u200dഥത്തിലും സത് എന്ന പദം പ്രയോഗിക്കപ്പെടുന്നു. അതുപോലെ, ശ്രേഷ്ഠമായ കര്\\u200dമ്മത്തെ ഉദ്ദേശിച്ചും സത് എന്ന് ശബ്ദം ഉപയോഗിക്കപ്പെടുന്നു. <EOS>\\n', 'യജ്ഞം, ദാനം, തപസ്സ് എന്നിവയിലുള്ള നിഷ്ഠയും സത് എന്ന് അറിയപ്പെടുന്നു. ബ്രഹ്മത്തെ ഉദ്ദേശിച്ചുള്ള കര്\\u200dമ്മവും സത് എന്ന് പറയപ്പെടുന്നു. <EOS>\\n', 'ഹേ പാര്\\u200dഥ, അശ്രദ്ധയോടെ ചെയ്യപ്പെടുന്ന യജ്ഞവും, ദാനവും, തപസ്സും അസത് എന്ന് പറയപ്പെടുന്നു. ഇതി കൂടാതെ അശ്രദ്ധയോടെ ചെയ്യപ്പെടുന്ന സകലകര്\\u200dമ്മങ്ങളും അസത് തന്നെയാണ്. അത് ഈ ലോകത്തിലോ പരലോകത്തിലോ പ്രയോജനപ്പെടുന്നില്ല. <EOS>\\n', 'അര്\\u200dജുനന്\\u200d ചോദിച്ചു: ഹേ ഹൃഷീകേശ, ഞാന്\\u200d സന്യാസത്തിന്റെയും ത്യാഗത്തിന്റെയും തത്വം പ്രത്യേകമായി അറിയാനാഗ്രഹിക്കുന്നു. <EOS>\\n', 'ഭഗവാന്\\u200d പറഞ്ഞു: ഫലമുദ്ദേശിച്ചുള്ള കര്\\u200dമ്മങ്ങളെ വെടിയലാണ് സന്യാസമെന്നു ജ്ഞാനികള്\\u200d പറഞ്ഞിരിക്കുന്നത്. സകലകര്\\u200dമ്മങ്ങളുടെ ഫലങ്ങളെ ത്യജിക്കുന്നതാണ് ത്യാഗം എന്നു പറയപ്പെടുന്നത്. <EOS>\\n', 'കര്\\u200dമ്മങ്ങളെയെല്ല\\u200dാം ദോഷമായികണ്ട് ത്യജിക്കണമെന്ന് ചില വിദ്വാന്മാര്\\u200d പറയുന്നു. യജ്ഞം, ദാനം, തപസ്സ് എന്നീ കര്\\u200dമ്മങ്ങളെ ത്യജിക്കരുതെന്ന് വേറെ ചിലര്\\u200d പറയുന്നു. <EOS>\\n', 'ഹേ അര്\\u200dജുന, ത്യാഗത്തെക്കുറിച്ചുള്ള എന്റെ അഭിപ്രായം കേള്\\u200dക്കൂ. ത്യാഗം മൂന്നു വിധത്തിലുള്ളതാണെന്ന് പറയപ്പെടുന്നു. <EOS>\\n', 'യജ്ഞം, ദാനം, തപസ്സ് എന്നീ കര്\\u200dമ്മങ്ങളെ ത്യജിക്കരുത്. അവ നിശ്ചയമായും ചെയ്യപ്പെടേണ്ടതാണ്. യജ്ഞം, ദാനം, തപസ്സ് എന്നിവ ബുദ്ധിമാന്മാര്\\u200dക്ക് മനഃശുദ്ധിയുണ്ടാക്കുന്നവയാണ്. <EOS>\\n', 'ഈ കര്\\u200dമ്മങ്ങളെ (യജ്ഞം, ദാനം, തപസ്സ്) ആസക്തിയും ഫലവുമുപേക്ഷിച്ച് ചെയ്യേണ്ടതാണ് എന്നാണ് എന്റെ നിശ്ചിതമായ അഭിപ്രായം. <EOS>\\n', 'നിയതകര്\\u200dമ്മങ്ങളെ (ശാസ്ത്രവിഹിതമായ കര്\\u200dമ്മങ്ങളെ) ത്യജിക്കുവാന്\\u200d പാടുള്ളതല്ല. മോഹത്താല്\\u200d അവയെ ത്യജിക്കുന്നത് താമസികമായ ത്യാഗമാണെന്ന് പറയപ്പെടുന്നു. <EOS>\\n', 'ദുഃഖകരമാണെന്നു കരുതി ശരീരക്ലേശത്തെ ഒഴിവാക്കാനായി ത്യജിക്കുകയാണെങ്കില്\\u200d അത് രാജസികത്യാഗമാണ്. അതിലൂടെ ശരിയായ ത്യാഗത്തിന്റെ ഫലം ലഭിക്കുകയില്ല. <EOS>\\n', 'ചെയ്യേണ്ടതാണെന്നുള്ള ബോദ്ധ്യത്തോടെ ശാസ്ത്രവിഹിതമായ കര്\\u200dമ്മം ആസക്തിയെയും ഫലത്തെയും ത്യജിച്ച് ചെയ്യുകയാ ണെങ്കില്\\u200d അതിനെ സാത്വികത്യാഗമെന്നു പറയുന്നു. <EOS>\\n', 'സത്വഗുണത്തെ പ്രാപിച്ചവനും, ബുദ്ധിമാനും, സംശയമില്ലാത്ത വനുമായ ത്യാഗി അസുഖകരമായ കര്\\u200dമ്മത്തെ വെറുക്കുകയോ സുഖകരമായ കര്\\u200dമ്മത്തോട് ആസക്തി കാണിക്കുകയോ ചെയ്യുന്നില്ല. <EOS>\\n', 'ദേഹിയ്ക്ക് കര്\\u200dമ്മങ്ങളെ തികച്ചും പരിത്യജിക്കുവാന്\\u200d സാദ്ധ്യമല്ല. കര്\\u200dമ്മഫലത്തെ ത്യജിക്കുന്നവന്\\u200d തന്നെയാണ് ശരിയായ ത്യാഗി എന്നു പറയപ്പെടുന്നു. <EOS>\\n', 'കര്\\u200dമ്മത്തിന്റെ ഫലം അനിഷ്ടം, ഇഷ്ടം, മിശ്രം എന്നിങ്ങനെ മൂന്നു വിധമാണ്. ത്യാഗികളല്ലാത്തവര്\\u200dക്കു മാത്രമേ ഈ ഫലങ്ങള്\\u200d അനുഭവപ്പെടുന്നുള്ളൂ. അല്ലാതെ സന്യാസികള്\\u200dക്ക് ഒരിക്കലുമില്ല. <EOS>\\n', 'ഹേ മഹാബാഹോ, എല്ലാ കര്\\u200dമ്മങ്ങളുടെ സിദ്ധിയ്ക്കായി സ\\u200dാംഖ്യത്തില്\\u200d പറഞ്ഞിരിക്കുന്ന അഞ്ചു ഘടകങ്ങള്\\u200d കേട്ടാലും. <EOS>\\n', 'അധിഷ്ഠാനമായ ശരീരം, കര്\\u200dത്താവ്, വിവിധ കരണങ്ങള്\\u200d (ഇന്ദ്രിയങ്ങള്\\u200d), വിവിധ ചേഷ്ടകള്\\u200d, ദൈവം (വിധി അഥവാ പ്രാരബ്ധകര്\\u200dമ്മം) എന്നിവയാണ് ഈ അഞ്ചു ഘടകങ്ങള്\\u200d. <EOS>\\n', 'ശരീരം, മനസ്സ്, വാക്ക് എന്നിവയാല്\\u200d മനുഷ്യന്\\u200d ചെയ്യുന്ന ശരിയോ തെറ്റോ ആയ എല്ലാ കര്\\u200dമ്മങ്ങളുടെയും കാരണങ്ങള്\\u200d ഇവയഞ്ചുമാകുന്നു. <EOS>\\n', 'അങ്ങനെയിരിക്കെ, കേവലനായ ആത്മാവിനെ കര്\\u200dത്താവായി കാണുന്ന അവിവേകിയായ ദുര്\\u200dമതി യാഥാര്\\u200dഥ്യം അറിയുന്നില്ല. <EOS>\\n', 'കര്\\u200dതൃത്വഭാവമില്ലാത്തവനും, ശുഭാശുഭങ്ങളായ യാതൊന്നിലും ആസക്തമല്ലാത്ത ബുദ്ധിയുള്ളവനുമായ ഒരുവന്\\u200d (യുദ്ധം ചെയ്യാനായി വന്നു ചേര്\\u200dന്ന) ഈ ജനങ്ങളെയെല്ല\\u200dാം കൊന്നാലും കൊല്ലുന്നില്ല. അവനെ ആ കര്\\u200dമ്മം ബന്ധിക്കുന്നുമില്ല. <EOS>\\n', 'അറിവ്, അറിയപ്പെടുന്നത്, അറിയുന്നവന്\\u200d എന്നിങ്ങനെ കര്\\u200dമ്മത്തെ പ്രേരിപ്പിക്കുന്ന മൂന്നു ഘടകങ്ങള്\\u200d ഉണ്ട്. കര്\\u200dമ്മത്തിന് കര്\\u200dത്താവ്, കര്\\u200dമ്മം, കരണം (ഇന്ദ്രിയങ്ങള്\\u200d) എന്നീ മൂന്നു ഘടകങ്ങള്\\u200d ഉണ്ട്. <EOS>\\n', 'ജ്ഞാനവും, കര്\\u200dമ്മവും, കര്\\u200dത്താവും ഗുണഭേദമനുസരിച്ച് സ\\u200dാംഖ്യത്തില്\\u200d മൂന്നു തരത്തിലാണെന്നു പറയപ്പെടുന്നു. അവയെ കേട്ടാലും. <EOS>\\n', 'വിഭക്തങ്ങളായ സകലഭൂതങ്ങളിലും അവിഭക്തമായി വര്\\u200dത്തിക്കുന്ന അവിനാശിയായ ബ്രഹ്മത്തെ കാണുന്നത് എന്തുകൊണ്ടോ, അതാണ് സാത്വികമായ ജ്ഞാനം. <EOS>\\n', 'യാതൊരു ജ്ഞനമാണോ സര്\\u200dവ്വജീവജാലങ്ങളിലും നാനാതരത്തിലുള്ള ഭാവങ്ങളെ ദര്\\u200dശിക്കുന്നത് അത് രാജസമാണ്. <EOS>\\n', 'യാതൊരു ജ്ഞാനം ഒരു കാര്യത്തില്\\u200d (ശരീരത്തില്\\u200d) തന്നെ പൂര്\\u200dണ്ണമാണെന്നുള്ള ധാരണയില്\\u200d ആസക്തിയോടെയും, കാരണ മില്ലാതെയും, സത്യത്തെ അറിയാതെയും, അല്പമായുമിരിക്കുന്നുവോ അത് താമസികജ്ഞാനമാണ്. <EOS>\\n', 'ശാസ്ത്രവിഹിതവും, ആസക്തിയില്ലാത്തതും, രാഗദ്വേഷരഹിതവും ഫലാക\\u200dാംക്ഷയില്ലാത്ത ഒരു വ്യക്തിയാല്\\u200d ചെയ്യപ്പെട്ടതുമായ കര്\\u200dമ്മം സാത്വികമാണ്. <EOS>\\n', 'ഫലാക\\u200dാംക്ഷയോടെയും അഹങ്കാരത്തോടെയും വളരെ കഷ്ടപ്പെട്ടു ചെയ്യുന്ന കര്\\u200dമ്മം രാജസമാണ്. <EOS>\\n', 'മോഹത്തോടെ ആരംഭിക്കപ്പെട്ടതും, കര്\\u200dമ്മത്തിന്റെ ഫലമോ, അതുകൊണ്ടുള്ള നഷ്ടമോ, അപകടമോ, സ്വന്തം കഴിവോ കണക്കിലെടുക്കാതെ ചെയ്യപ്പെടുന്നതുമായ കര്\\u200dമ്മം താമസികമാണ്. <EOS>\\n', 'ആസക്തിയും അഹന്തയും ഇല്ലാത്തവനും, ധൈര്യം, ഉത്സാഹം എന്നിവയുള്ളവനും, ജയപരാജയങ്ങളില്\\u200d ഇളകാത്തവനുമായ കര്\\u200dത്താവ് സാത്വികനാണെന്നു പറയപ്പെടുന്നു. <EOS>\\n', 'ആസക്തിയുള്ളവനും, കര്\\u200dമ്മഫലത്തെ ആഗ്രഹിക്കുന്നവനും, പിശുക്കനും, അശുചിയും, ഹിംസാത്മകനും, (ജയപരാജയങ്ങളില്\\u200d) സന്തോഷിക്കുകയും ദുഃഖിക്കുകയും ചെയ്യുന്നവനുമായ കര്\\u200dത്താവ് രാജസികനെന്നു പറയപ്പെടുന്നു. <EOS>\\n', 'സ്ഥിരതയില്ലാത്തവനും, പ്രാകൃതനും, അഹങ്കാരവും ദര്\\u200dപ്പവുമുള്ളവനും, നീചനും അലസനും, ദുഃഖിതനും, ദീര്\\u200dഘസൂത്രിയുമായ (ചെയ്യാനുള്ള കാര്യങ്ങള്\\u200d നീട്ടിവെയ്ക്കുന്ന സ്വഭാവമുള്ളയാള്\\u200d) കര്\\u200dത്താവ് താമസികനാണ് എന്നു പറയപ്പെടുന്നു. <EOS>\\n', 'ഗുണങ്ങളുടെ അടിസ്ഥാനത്തില്\\u200d മൂന്നു വിധത്തിലുള്ള ബുദ്ധിയെയും, ധൈര്യത്തെയും കുറിച്ച് ഞാന്\\u200d ഓരോന്നായി വിശദീകരിക്കുന്നതു കേട്ടാലും. <EOS>\\n', 'പ്രവൃത്തിമാര്\\u200dഗ്ഗവും, നിവൃത്തിമാര്\\u200dഗ്ഗവും, ചെയ്യേണ്ടതും, ചെയ്യേണ്ടാത്തതും, ഭയവും, അഭയവും, ബന്ധവും, മോക്ഷവും അറിയുന്ന ബുദ്ധി സാത്വികബുദ്ധിയാകുന്നു. <EOS>\\n', 'ധര്\\u200dമ്മം, അധര്\\u200dമ്മം, ചെയ്യേണ്ടത്, ചെയ്യേണ്ടാത്തത് എന്നിവയെ തെറ്റായി അറിയുന്ന ബുദ്ധി രാജസികബുദ്ധിയാകുന്നു. <EOS>\\n', 'അജ്ഞാനത്താല്\\u200d ആവരണം ചെയ്യപ്പെട്ടതുകൊണ്ട് അധര്\\u200dമ്മത്തെ ധര്\\u200dമ്മമായി തെറ്റിദ്ധരിക്കുകയും, സകലതിനെയും നേരെ വിപരീതമായ വിധത്തില്\\u200d അറിയുകയും ചെയ്യുന്ന ബുദ്ധി താമസികബുദ്ധിയാകുന്നു. <EOS>\\n', 'മനസ്സിന്റെയും, പ്രാണന്റെയും, ഇന്ദ്രിയങ്ങളുടെയും വ്യാപാരങ്ങളെ ഒട്ടും വ്യതിചലിക്കാത്ത യോഗത്താല്\\u200d അടക്കിനിര്\\u200dത്തുന്ന ധൈര്യം (ധൃതി) സാത്വികമാണ്. <EOS>\\n', 'ധര്\\u200dമ്മം, അര്\\u200dഥം, കാമം എന്നിവയെ ആസക്തിയോടെയും ഫലാക\\u200dാംക്ഷയോടെയും അടക്കിനിര്\\u200dത്തുന്ന ധൈര്യം രാജസികമാണ്. <EOS>\\n', 'ദുര്\\u200dബുദ്ധിയായ ഒരുവന്\\u200d യാതൊരു ധൈര്യത്താല്\\u200d സ്വപ്നം, ഭയം, ദുഃഖം, വ്യസനം, അഹങ്കാരം എന്നിവയെ പരിത്യജിക്കാ തിരിക്കുന്നുവോ അത് താമസികമാണ്. <EOS>\\n', 'ഹേ ഭരതർഷഭാ, ബദ്ധനായ ജീവാത്മാവ് ആസ്വദിക്കുകയും ആ ആസ്വാദനത്തിലൂടെ ചിലപ്പോൾ സകല ക്ലേശങ്ങളിൽ നിന്നും മുക്തി നേടുകയും ചെയ്യുന്ന സുഖത്തെപ്പറ്റി ഇനി പറയാം. ഇത് മൂന്നു വിധ ത്തിലുണ്ട്. <EOS>\\n', 'ആദ്യത്തിൽ വിഷം പോലെ തോന്നിക്കുന്നതും അന്ത്യത്തിൽ അമൃതതുല്യവും ആത്മസാക്ഷാത്കാരമുണർത്തുന്നതുമായ സുഖത്തെ സാത്ത്വികസുഖമെന്ന് പറയുന്നു. <EOS>\\n', 'വിഷയങ്ങളുടെയും ഇന്ദ്രിയങ്ങളുടെയും സമ്പര്\\u200dക്കം കൊണ്ടുണ്ടാകുന്നതും ആദ്യം അമൃതു പോലെയും ഒടുവില്\\u200d വിഷസമാനമായുമിരിക്കുന്നുവോ ആ സുഖം രാജസികമാണ്. <EOS>\\n', 'ഉറക്കം, ആലസ്യം, അശ്രദ്ധ എന്നിവയില്\\u200d നിന്നുണ്ടാകുന്നതും തുടക്കത്തിലും ഒടുവിലും ഒരുവനെ മോഹിപ്പിക്കുകയും ചെയ്യുന്ന സുഖം താമസികമാണ്. <EOS>\\n', 'പ്രകൃതിജന്യങ്ങളായ ഈ ഗുണങ്ങളില്ലാത്ത യാതൊരു വസ്തുവോ, വ്യക്തിയോ തന്നെ ഈ ഭൂമിയിലോ, ആകാശത്തിലോ, ദേവന്മാരുടെയിടയിലോ ഇല്ല. <EOS>\\n', 'ബ്രാഹ്മണന്\\u200d, ക്ഷത്രിയന്\\u200d, വൈശ്യന്\\u200d, ശൂദ്രന്\\u200d എന്നിവരുടെ കര്\\u200dമ്മങ്ങള്\\u200d സ്വഭാവജന്യമായ ഈ ഗുണങ്ങളുടെ അടിസ്ഥാനത്തില്\\u200d വിഭജിക്കപ്പെട്ടിരിക്കുന്നു. <EOS>\\n', 'ശമം (മനഃസംയമനം), ദമം (ഇന്ദ്രിയസംയമനം), തപസ്സ്, ശൗചം, ക്ഷമ, കാപട്യമില്ലായ്മ, ലൗകികവും ആധ്യാത്മികവുമായ അറിവ്, ഈശ്വരവിശ്വാസം എന്നിവയാണ് ബ്രാഹ്മണന് സ്വാഭാവികമായുള്ള കര്\\u200dമ്മങ്ങള്\\u200d. <EOS>\\n', 'ശൂരത്വം, തേജസ്സ്, ധൈര്യം, സാമര്\\u200dഥ്യം, യുദ്ധത്തില്\\u200d നിന്ന് പിന്തിരിയാതിരിക്കല്\\u200d, ദാനം, പ്രഭുത്വം എന്നിവയാണ് ക്ഷത്രിയന് സ്വാഭാവികമായുള്ള കര്\\u200dമ്മങ്ങള്\\u200d. <EOS>\\n', 'കൃഷി, പശുവിനെ വളര്\\u200dത്തല്\\u200d, കച്ചവടം എന്നിവ വൈശ്യന്റെ സ്വാഭാവികകര്\\u200dമ്മങ്ങളും, പരിചാരകവൃത്തി ശൂദ്രന്റെ സ്വാഭാവികകര്\\u200dമ്മങ്ങളുമാകുന്നു. <EOS>\\n', 'അവനവന്റെ കര്\\u200dമ്മത്തില്\\u200d നിഷ്ഠയുള്ള മനുഷ്യന്\\u200d സിദ്ധിയെ പ്രാപിക്കുന്നു. സ്വകര്\\u200dമ്മത്തില്\\u200d നിരതനായവന്\\u200d സിദ്ധിയെ പ്രാപിക്കുന്നതെങ്ങനെയെന്നു കേട്ടാലും. <EOS>\\n', 'യാതൊന്നില്\\u200dനിന്ന് സകലപ്രാണികളുടെയും പ്രവൃത്തിയുണ്ടാ കുന്നുവോ, യാതൊന്നിനാല്\\u200d ഈ വിശ്വമഖിലം വ്യാപ്തമായിരിക്കുന്നുവോ, ആ ഈശ്വരനെ അവനവന്റെ കര്\\u200dമ്മം കൊണ്ട് ആരാധിച്ച് മനുഷ്യന്\\u200d സിദ്ധിയെ പ്രാപിക്കുന്നു. <EOS>\\n', 'അന്യരുടെ ധര്\\u200dമ്മം നല്ല പോലെ അനുഷ്ഠിക്കുന്നതിലും ശ്രേഷ്ഠം ഗുണങ്ങളില്ലാതെയാണെങ്കിലും ചെയ്യപ്പെടുന്ന സ്വധര്\\u200dമ്മമാകുന്നു. സ്വഭാവാനുസൃതമായ കര്\\u200dമ്മം ചെയ്യുന്നവന്\\u200d പാപം അടയുന്നില്ല. <EOS>\\n', 'ഹേ കൗന്തേയ, ദോഷമുള്ളതാണെങ്കിലും സ്വധര്\\u200dമ്മത്തെ ഉപേക്ഷിക്കരുത്. തീ പുക കൊണ്ടെന്ന പോലെ എല്ലാ കര്\\u200dമ്മങ്ങളും ദോഷങ്ങളാല്\\u200d ആവൃതമാണ്. <EOS>\\n', 'എല്ലാ വിഷയങ്ങളിലും അനാസക്തനും, മനസ്സിനെ ജയിച്ചവനും, ആഗ്രഹങ്ങളില്ലാത്തവനുമായ മനുഷ്യന്\\u200d ത്യാഗത്തിന്റെ ഫലമായി നൈഷ്കര്\\u200dമ്യത്തെ (താന്\\u200d കര്\\u200dമ്മം ചെയ്യുന്നു എന്ന ഭാവമില്ലായ്മ) പ്രാപിക്കുന്നു. <EOS>\\n', 'ഈ നൈഷ്കര്\\u200dമ്യത്തെ പ്രാപിച്ചവന്\\u200d ജ്ഞാനത്തിന്റെ പരമാവസ്ഥയായ ബ്രഹ്മത്തെ പ്രാപിക്കുന്നതെങ്ങനെയെന്നു സംക്ഷിപ്തമായി കേട്ടാലും. <EOS>\\n', 'തന്റെ ബുദ്ധിയാൽ ശുദ്ധീകരിക്കപ്പെട്ട് സ്ഥിരനിശ്ചയനായി മന സ്സിനെ നിയന്ത്രിച്ചും ഭോഗവിഷയങ്ങളെ ത്യജിച്ചും രാഗദ്വേഷങ്ങൾ തീണ്ടാതെയും <EOS>\\n', ' വിജനസ്ഥലത്ത് താമസിച്ച് ഭക്ഷണം നന്നച്ചുരുക്കി ശരീരം, മനസ്സ്, വാക്ക് ഇവയെ കീഴടക്കി ധ്യാനയോഗമനുഷ്ഠിക്കുന്ന യാൾ, വിരക്തനായും,  <EOS>\\n', 'മിഥ്യാഹങ്കാരം, ബലത്തെക്കുറിച്ചുള്ള മദം, മിഥ്യാ ഭിമാനം, കാമം, ക്രോധം, ഭൗതികദ്രവ്യങ്ങളിലാഗ്രഹം എന്നീ ദോഷ ങ്ങളൊഴിഞ്ഞും തെറ്റായ അധീശത്വബോധമില്ലാതെയും ശാന്തനായി ത്തീർന്നിട്ട് നിശ്ചയമായും ആത്മസാക്ഷാത്കാരം നേടിയെടുക്കുന്നു. <EOS>\\n', 'ബ്രഹ്മഭാവത്തെ പ്രാപിച്ചവന്\\u200d പ്രസന്നമായ മനസ്സോടെ, ഒന്നും ആഗ്രഹിക്കുകയോ ഒന്നിലും ദുഃഖിക്കുകയോ ചെയ്യാതെ, സര്\\u200dവ്വഭൂതങ്ങളിലും സമനായി എന്നില്\\u200d പരമമായ ഭക്തിയെ നേടുന്നു. <EOS>\\n', 'ഭക്തികൊണ്ട് ഞാന്\\u200d തത്വത്തില്\\u200d എങ്ങനെയുള്ളവനാണ് എന്നറിയുന്നവന്\\u200d അതിന്റെ ഫലമായി എന്നെ പ്രാപിക്കുന്നു. <EOS>\\n', 'എല്ലായ്പോഴും എന്നെ ശരണം പ്രാപിച്ചുകൊണ്ട് എല്ലാ കര്\\u200dമ്മങ്ങളും ചെയ്യുന്നവന്\\u200d എന്റെ പ്രസാദത്താല്\\u200d ശാശ്വതമായ സ്ഥിതിയെ പ്രാപിക്കുന്നു. <EOS>\\n', 'എല്ലാ കര്\\u200dമ്മങ്ങളും മനസാ എന്നില്\\u200d സമര്\\u200dപ്പിച്ച്, ബുദ്ധിയോഗത്തെ ആശ്രയിച്ച്, മനസ്സിനെ സദാ എന്നില്\\u200d തന്നെ ഉറപ്പിക്കുക. <EOS>\\n', 'എന്നില്\\u200d മനസ്സുറപ്പിച്ചു നിര്\\u200dത്തിയാല്\\u200d എന്റെ പ്രസാദത്താല്\\u200d നീ എല്ലാ തടസ്സങ്ങളെയും മറികടക്കും. അഥവാ, അഹങ്കാരത്താല്\\u200d എന്റെ ഉപദേശത്തെ തിരസ്കരിച്ചാല്\\u200d നീ നശിക്കുന്നതാണ്. <EOS>\\n', 'അഹങ്കാരം കാരണം നീ “ഞാന്\\u200d യുദ്ധം ചെയ്യുകയില്ല” എന്നു കരുതുകയാണെങ്കില്\\u200d നിന്റെ ആ നിശ്ചയം വെറുതെയാണ്. പ്രകൃതി (നിന്റെ സ്വഭാവം) നിന്നെക്കൊണ്ട് യുദ്ധം ചെയ്യിപ്പിക്കും. <EOS>\\n', 'ഹേ കൗന്തേയ, നിന്റെ സ്വഭാവജന്യമായ കര്\\u200dമ്മത്താല്\\u200d ബദ്ധനായ നീ യുദ്ധം ചെയ്യാന്\\u200d ഇഷ്ടപ്പെടുന്നില്ലെങ്കിലും നിനക്ക് ആ കര്\\u200dമ്മം നിസ്സഹായനായി ചെയ്യേണ്ടതായി വരും. <EOS>\\n', 'ഹേ അര്\\u200dജുന, ഈശ്വരന്\\u200d മായയാല്\\u200d യന്ത്രത്തില്\\u200d വെച്ചിരിക്കുന്ന വസ്തുക്കളെയെന്ന പോലെ സര്\\u200dവ്വജീവികളെയും പ്രവര്\\u200dത്തിപ്പിച്ചു കൊണ്ട് അവരുടെയെല്ല\\u200dാം ഹൃദയത്തില്\\u200d വസിക്കുന്നു. <EOS>\\n', 'ഹേ ഭാരത, നീ ഈശ്വരനെത്തന്നെ സര്\\u200dവ്വഭാവത്തിലും ശരണമടഞ്ഞാലും. ഈശ്വരന്റെ പ്രസാദത്താല്\\u200d നീ പരമമായ ശാന്തിയെയും ശാശ്വതമായ പദത്തെയും പ്രാപിക്കും. <EOS>\\n', 'ഇപ്രകാരം രഹസ്യങ്ങളില്\\u200dവെച്ച് ഏറ്റവും രഹസ്യമായ ജ്ഞാനം ഞാന്\\u200d നിനക്കുപദേശിച്ചു കഴിഞ്ഞു. അതിനെക്കുറിച്ച് പൂര്\\u200dണ്ണമായി വിചിന്തനം ചെയ്ത് നീ ഇച്ഛിക്കുന്നതുപോലെ ചെയ്യൂ. <EOS>\\n', 'എല്ലാറ്റിലും രഹസ്യവും ശ്രേഷ്ഠവുമായ വാക്കുകള്\\u200d വീണ്ടും കേള്\\u200dക്കൂ. നി എനിക്കു പ്രിയപ്പെട്ടവനാകയാല്\\u200d നിനക്കു ഹിതമായതു ഞാന്\\u200d പറയ\\u200dാം. <EOS>\\n', 'എന്നില്\\u200d മനസ്സുറപ്പിച്ച് എന്നെ ഭജിക്കൂ. എന്നെ ഉദ്ദേശിച്ച് യാഗം ചെയ്യുകയും, നമസ്കരിക്കുകയും ചെയ്യൂ. നീ എന്നെ പ്രാപിക്കുമെന്നു ഞാന്\\u200d സത്യമായി പ്രതിജ്ഞ ചെയ്യുന്നു. നീ എനിയ്ക്ക് പ്രിയനാണ്. <EOS>\\n', 'സര്\\u200dവ്വധര്\\u200dമ്മങ്ങളെയും പരിത്യജിച്ച് എന്നെമാത്രം ശരണം പ്രാപിച്ചാലും. ഞാന്\\u200d നിന്നെ സകലപാപങ്ങളില്\\u200d നിന്നും മോചിപ്പിക്ക\\u200dാം. നീ ദുഃഖിക്കരുത്. <EOS>\\n', 'ഈ ജ്ഞാനം തപസ്സില്ലാത്തവനും, ഭക്തനല്ലാത്തവനും നീ ഒരിക്കലും ഉപദേശിക്കരുത്. കേള്\\u200dക്കുവാനിച്ഛയില്ലാത്തവനും, എന്നെ നിന്ദിക്കുന്നവനും ഇത് പറഞ്ഞികൊടുക്കരുത്. <EOS>\\n', 'എന്നില്\\u200d പരമമായ ഭക്തിയോടെ എന്റെ ഭക്തന്മാര്\\u200dക്ക് ഇത് യാതൊരുവന്\\u200d പറഞ്ഞുകൊടുക്കുന്നുവോ, അവന്\\u200d എന്നെ പ്രാപിക്കുമെന്നതിനു സംശയമില്ല. <EOS>\\n', 'മനുഷ്യരില്\\u200d അവനേക്കാള്\\u200d എനിക്കു പ്രിയം ചെയ്തവനായി ആരുമില്ല. ഈ ഭൂമിയില്\\u200d അവനെക്കാള്\\u200d പ്രിയതരനായി വേറെയാരും ഉണ്ടായിരിക്കുകയില്ല. <EOS>\\n', 'നമ്മുടെ ധര്\\u200dമ്മമൃതമായ ഈ സംവാദത്തെ പഠിക്കുന്നവനാല്\\u200d ജ്ഞാനയജ്ഞത്താല്\\u200d ഞാന്\\u200d യജിക്കപ്പെടുന്നു എന്നാണ് എന്റെ അഭിപ്രായം. <EOS>\\n', 'ശ്രദ്ധയോടെയും, അസൂയയില്ലാതെയും യാതൊരുവനാണോ ഇതു കേള്\\u200dക്കുന്നത് അവന്\\u200d മുക്തനാകുകയും പുണ്യകര്\\u200dമ്മം ചെയ്തവര്\\u200d പ്രാപിക്കുന്ന ശുഭലോകങ്ങളെ പ്രാപിക്കുകയും ചെയ്യും. <EOS>\\n', 'ഹേ പാര്\\u200dഥ, നീ ഏകാഗ്രചിത്തനായി ഇതെല്ല\\u200dാം കേട്ടുവോ? നിന്റെ അജ്ഞാനവും മോഹവും നഷ്ടമായോ? <EOS>\\n', 'അര്\\u200dജുനന്\\u200d പറഞ്ഞു: ഹേ അച്യുത, അവിടുത്തെ പ്രസാദം കൊണ്ട് എന്റെ മോഹം നഷ്ടമായി. എനിക്ക് ബോധമുണ്ടാകുകയും ചെയ്തു. ഞാന്\\u200d സംശയങ്ങളില്ലാത്തവനായി അവിടുത്തെ വാക്കു പാലിക്കുവാന്\\u200d തയ്യാറായി നില്ക്കുകയാണ്. <EOS>\\n', 'സഞ്ജയന്\\u200d പറഞ്ഞു: ഇപ്രകാരം വാസുദേവനായ ശ്രീകൃഷ്ണന്റെയും മഹാനായ അര്\\u200dജുനന്മാരുടെ അത്ഭുതകരവും രോമാഞ്ചജനകവുമായ സംവാദം ഞാന്\\u200d കേട്ടു. <EOS>\\n', 'വ്യാസമഹര്\\u200dഷിയുടെ പ്രസാദത്താല്\\u200d അതീവരഹസ്യവും ഉത്കൃഷ്ടവുമായ ഈ യോഗം, ഭഗവാന്\\u200d ശ്രീകൃഷ്ണന്\\u200d തന്നെ പറയുന്നത് കേള്\\u200dക്കുവാന്\\u200d എനിക്കു സാധിച്ചു. <EOS>\\n', 'ഹേ രാജന്\\u200d, അത്ഭുതകരമായ ആ സംവാദം ഓര്\\u200dക്കുന്തോറും ഞാന്\\u200d വീണ്ടും വീണ്ടും സന്തോഷിക്കുന്നു. <EOS>\\n', 'ഹേ രാജന്\\u200d\\u200d, വിഷ്ണുവിന്റെ ആ അത്ഭുതകരമായ രൂപത്തെ (വിശ്വരൂപത്തെ) ഓര്\\u200dക്കുന്തോറും എനിക്ക് പിന്നെയും പിന്നെയും മഹത്തായ വിസ്മയവും ആനന്ദവുമുണ്ടാകുന്നു. <EOS>\\n', 'എവിടെ യോഗേശ്വരനായ കൃഷ്ണനും വില്ലാളിയായ അര്\\u200dജുനനുമുണ്ടോ അവിടെ ഐശ്വര്യവും, വിജയവും, അഭിവൃദ്ധിയും, നീതിയും നിശ്ചയമായും ഉണ്ടായിരിക്കുമെന്നാണ് എന്റെ അഭിപ്രായം. <EOS>\\n', 'കിരീടം, ഗദ, ചക്രം എന്നിവ ധരിച്ചവനും തേജോമയനും നോക്കിക്കാണുവാ\\u200cന്\\u200d വയ്യാത്തവിധത്തില്\\u200d കത്തിജ്വലിക്കുന്ന അഗ്നിസുര്യന്മാരുടെ ശോഭയോടുകൂടിയവനും ആയ അങ്ങയെ ഞാ\\u200cന്\\u200dഎല്ലായിടത്തും കാണുന്നു. <EOS>\\n']]\n"
     ]
    }
   ],
   "source": [
    "%cd C:\\Users\\Glitch\\Sanskrit2mal\\parallel-corpus\\sanskrit-mal\n",
    "output_text=[]\n",
    "with open ('translated_malayalam.txt','r',encoding=\"utf8\") as f:\n",
    "  output_text.extend([f.readlines()])\n",
    "print(output_text)"
   ]
  },
  {
   "cell_type": "code",
   "execution_count": 116,
   "metadata": {
    "scrolled": true
   },
   "outputs": [
    {
     "name": "stdout",
     "output_type": "stream",
     "text": [
      "ധൃതരാഷ്ട്രര്‍ ചോദിച്ചു: സഞ്ജയ, ധ‍ര്‍മ്മ ക്ഷേത്രമായ കുരുക്ഷേത്രത്തില്‍ ഒരുമിച്ചു ചേര്‍ന്നവരും യുദ്ധം ചെയ്യാന്‍ കൊതിക്കുന്നവരുമായ എന്റെ പുത്രന്‍മാരും പാണ്ഡവന്‍മാരും എന്ത് ചെയ്തു? <EOS>\n"
     ]
    }
   ],
   "source": [
    "translator(encoder1, attn_decoder1)"
   ]
  },
  {
   "cell_type": "code",
   "execution_count": 40,
   "metadata": {},
   "outputs": [
    {
     "name": "stdout",
     "output_type": "stream",
     "text": [
      "C:\\Users\\Glitch\\Sanskrit2mal\\parallel-corpus\\sanskrit-mal\n",
      "bleu 1.2478435706819264e-231\n"
     ]
    }
   ],
   "source": [
    "%cd C:\\Users\\Glitch\\Sanskrit2mal\\parallel-corpus\\sanskrit-mal\n",
    "import nltk\n",
    "with open('test_malayalam.txt', 'r',  encoding=\"utf8\") as f: # ground truth file\n",
    "    reference = [x.replace('\\n', '') for x in f.readlines()]\n",
    "\n",
    "with open('translated_malayalam.txt', 'r',  encoding=\"utf8\") as f: # translated Malayalam file (our output)\n",
    "    candidate = [x.replace('\\n', '') for x in f.readlines()]\n",
    "\n",
    "from nltk.translate.bleu_score import SmoothingFunction\n",
    "smoothie = SmoothingFunction().method4\n",
    "\n",
    "bleu = nltk.bleu_score.corpus_bleu(reference, candidate )\n",
    "\n",
    "print(\"bleu\", bleu)"
   ]
  },
  {
   "cell_type": "code",
   "execution_count": 4,
   "metadata": {},
   "outputs": [
    {
     "ename": "AttributeError",
     "evalue": "'float' object has no attribute 'corpus_bleu'",
     "output_type": "error",
     "traceback": [
      "\u001b[1;31m---------------------------------------------------------------------------\u001b[0m",
      "\u001b[1;31mAttributeError\u001b[0m                            Traceback (most recent call last)",
      "\u001b[1;32m~\\AppData\\Local\\Temp/ipykernel_2068/1275248310.py\u001b[0m in \u001b[0;36m<module>\u001b[1;34m\u001b[0m\n\u001b[1;32m----> 1\u001b[1;33m \u001b[0mscore_ref_a\u001b[0m \u001b[1;33m=\u001b[0m \u001b[0mbleu\u001b[0m\u001b[1;33m.\u001b[0m\u001b[0mcorpus_bleu\u001b[0m\u001b[1;33m(\u001b[0m\u001b[1;33m[\u001b[0m\u001b[1;33m[\u001b[0m\u001b[0mreference\u001b[0m\u001b[1;33m]\u001b[0m\u001b[1;33m]\u001b[0m\u001b[1;33m,\u001b[0m \u001b[1;33m[\u001b[0m\u001b[0mcandidate\u001b[0m\u001b[1;33m]\u001b[0m\u001b[1;33m)\u001b[0m\u001b[1;33m\u001b[0m\u001b[1;33m\u001b[0m\u001b[0m\n\u001b[0m\u001b[0;32m      2\u001b[0m \u001b[0mprint\u001b[0m\u001b[1;33m(\u001b[0m\u001b[1;34m\"1 document with 1 reference sentence: {}\"\u001b[0m\u001b[1;33m.\u001b[0m\u001b[0mformat\u001b[0m\u001b[1;33m(\u001b[0m\u001b[0mscore_ref_a\u001b[0m\u001b[1;33m)\u001b[0m\u001b[1;33m)\u001b[0m\u001b[1;33m\u001b[0m\u001b[1;33m\u001b[0m\u001b[0m\n",
      "\u001b[1;31mAttributeError\u001b[0m: 'float' object has no attribute 'corpus_bleu'"
     ]
    }
   ],
   "source": [
    "score_ref_a = bleu.corpus_bleu([reference], [candidate])\n",
    "print(\"1 document with 1 reference sentence: {}\".format(score_ref_a))"
   ]
  },
  {
   "cell_type": "code",
   "execution_count": 41,
   "metadata": {},
   "outputs": [
    {
     "ename": "SyntaxError",
     "evalue": "unexpected EOF while parsing (Temp/ipykernel_29456/1160273461.py, line 8)",
     "output_type": "error",
     "traceback": [
      "\u001b[1;36m  File \u001b[1;32m\"C:\\Users\\Glitch\\AppData\\Local\\Temp/ipykernel_29456/1160273461.py\"\u001b[1;36m, line \u001b[1;32m8\u001b[0m\n\u001b[1;33m    print('BLEU score -> {}'(sentence_bleu(reference, candidate ))\u001b[0m\n\u001b[1;37m                                                                  ^\u001b[0m\n\u001b[1;31mSyntaxError\u001b[0m\u001b[1;31m:\u001b[0m unexpected EOF while parsing\n"
     ]
    }
   ],
   "source": [
    "from nltk.translate.bleu_score import sentence_bleu\n",
    "with open('test_malayalam.txt', 'r',  encoding=\"utf8\") as f: # ground truth file\n",
    "    reference = [x.replace('\\n', '') for x in f.readlines()]\n",
    "\n",
    "with open('translated_malayalam.txt', 'r',  encoding=\"utf8\") as f: # translated Malayalam file (our output)\n",
    "    candidate = [x.replace('\\n', '') for x in f.readlines()]\n",
    "    \n",
    "print('BLEU score -> {}'sentence_bleu(reference, candidate ))"
   ]
  },
  {
   "cell_type": "code",
   "execution_count": null,
   "metadata": {},
   "outputs": [],
   "source": []
  }
 ],
 "metadata": {
  "colab": {
   "authorship_tag": "ABX9TyOINL9b4SNwUYDioR9uYY5X",
   "collapsed_sections": [],
   "include_colab_link": true,
   "name": "sanskrit to malayalam NMT.ipynb",
   "provenance": []
  },
  "kernelspec": {
   "display_name": "Python 3 (ipykernel)",
   "language": "python",
   "name": "python3"
  },
  "language_info": {
   "codemirror_mode": {
    "name": "ipython",
    "version": 3
   },
   "file_extension": ".py",
   "mimetype": "text/x-python",
   "name": "python",
   "nbconvert_exporter": "python",
   "pygments_lexer": "ipython3",
   "version": "3.9.7"
  }
 },
 "nbformat": 4,
 "nbformat_minor": 1
}
